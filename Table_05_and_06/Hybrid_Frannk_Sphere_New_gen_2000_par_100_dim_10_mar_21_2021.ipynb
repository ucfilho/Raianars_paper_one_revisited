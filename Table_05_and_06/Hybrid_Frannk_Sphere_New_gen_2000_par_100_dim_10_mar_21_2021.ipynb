{
  "nbformat": 4,
  "nbformat_minor": 0,
  "metadata": {
    "colab": {
      "name": "Hybrid_Frannk_Sphere_New_gen_2000_par_100_dim_10_mar_21_2021.ipynb",
      "provenance": [],
      "collapsed_sections": [],
      "include_colab_link": true
    },
    "kernelspec": {
      "display_name": "Python 3",
      "name": "python3"
    },
    "language_info": {
      "codemirror_mode": {
        "name": "ipython",
        "version": 3
      },
      "file_extension": ".py",
      "mimetype": "text/x-python",
      "name": "python",
      "nbconvert_exporter": "python",
      "pygments_lexer": "ipython3",
      "version": "3.7.3"
    }
  },
  "cells": [
    {
      "cell_type": "markdown",
      "metadata": {
        "id": "view-in-github",
        "colab_type": "text"
      },
      "source": [
        "<a href=\"https://colab.research.google.com/github/ucfilho/Raianars_paper_one_revisited/blob/main/Table_05_and_06/Hybrid_Frannk_Sphere_New_gen_2000_par_100_dim_10_mar_21_2021.ipynb\" target=\"_parent\"><img src=\"https://colab.research.google.com/assets/colab-badge.svg\" alt=\"Open In Colab\"/></a>"
      ]
    },
    {
      "cell_type": "code",
      "metadata": {
        "colab": {
          "base_uri": "https://localhost:8080/"
        },
        "id": "c59cDVKoxDLX",
        "outputId": "30f4e70f-6714-45da-a7f8-24c83878768f"
      },
      "source": [
        "############################### Importar códigos\n",
        "!git clone https://github.com/ucfilho/optim_raianars_Insight/ #clonar do Github\n",
        "%cd optim_raianars_Insight\n",
        "import de_soma_Insight\n",
        "import de_bounds_matriz\n",
        "import Go2Ann"
      ],
      "execution_count": 1,
      "outputs": [
        {
          "output_type": "stream",
          "text": [
            "Cloning into 'optim_raianars_Insight'...\n",
            "remote: Enumerating objects: 9, done.\u001b[K\n",
            "remote: Counting objects: 100% (9/9), done.\u001b[K\n",
            "remote: Compressing objects: 100% (9/9), done.\u001b[K\n",
            "remote: Total 323 (delta 3), reused 0 (delta 0), pack-reused 314\u001b[K\n",
            "Receiving objects: 100% (323/323), 312.84 KiB | 8.02 MiB/s, done.\n",
            "Resolving deltas: 100% (184/184), done.\n",
            "/content/optim_raianars_Insight\n"
          ],
          "name": "stdout"
        }
      ]
    },
    {
      "cell_type": "code",
      "metadata": {
        "id": "88sLduNFwZ9Y"
      },
      "source": [
        "# PSO 2016 \n",
        "#  Gen =1000,1500, 2000\n",
        "#  Npar= 20, 40, 80\n",
        "#  dim = 10,20,30\n",
        "# Dynamic parameter adaptation in particle swarm optimization\n",
        "#  using interval type-2 fuzzy logic -Soft Comput (2016) 20:1057–1070"
      ],
      "execution_count": 2,
      "outputs": []
    },
    {
      "cell_type": "code",
      "metadata": {
        "colab": {
          "base_uri": "https://localhost:8080/"
        },
        "id": "Va-6Xios8RjU",
        "outputId": "690207c1-48e6-4a48-96dd-ce7387c390a3"
      },
      "source": [
        "!git clone https://github.com/ucfilho/Raianars_paper_One #clonar do Github\n",
        "%cd Raianars_paper_One"
      ],
      "execution_count": 3,
      "outputs": [
        {
          "output_type": "stream",
          "text": [
            "Cloning into 'Raianars_paper_One'...\n",
            "remote: Enumerating objects: 119, done.\u001b[K\n",
            "remote: Counting objects: 100% (119/119), done.\u001b[K\n",
            "remote: Compressing objects: 100% (119/119), done.\u001b[K\n",
            "remote: Total 248 (delta 64), reused 0 (delta 0), pack-reused 129\u001b[K\n",
            "Receiving objects: 100% (248/248), 654.97 KiB | 5.20 MiB/s, done.\n",
            "Resolving deltas: 100% (136/136), done.\n",
            "/content/optim_raianars_Insight/Raianars_paper_One\n"
          ],
          "name": "stdout"
        }
      ]
    },
    {
      "cell_type": "code",
      "metadata": {
        "id": "_E15mKFURR6O"
      },
      "source": [
        "#import Go2Ann\n",
        "#import de_soma_Insight\n",
        "#import de_bounds_matriz\n",
        "#import Function\n",
        "#import Go2MinMax\n",
        "from AvaliaX import AvaliaX\n",
        "#from Function import FUN\n",
        "#from Function import Function.FUN\n",
        "#from Function import Function.Fun\n",
        "#from Function import Function\n",
        "from GeraIndices import GeraIndices\n",
        "import numpy as np\n",
        "import time\n",
        "import matplotlib.pyplot as plt\n",
        "from random import randint\n",
        "from scipy import optimize\n",
        "import pandas as pd\n",
        "from sklearn.metrics import confusion_matrix\n",
        "\n",
        "############################### DADOS DE ENTRADA \n",
        "RUNS=30 #NÚMERO DE RODADAS\n",
        "Fc=0.1 # fator de correcao parametros da ANN\n",
        "its=1 #10 # quantas vezes vai usar o NPAR antes de alterar de novo\n",
        "ITE=2000 #10 # PONTOS quantas vezes vai alteral NPAR \n",
        "NPAR=100\n",
        "mut=0.5\n",
        "crossp=0.5\n",
        "Fi=mut;CRi=crossp;# para impressão\n",
        "fator = 2.0/3.0; \n",
        "\n"
      ],
      "execution_count": 4,
      "outputs": []
    },
    {
      "cell_type": "code",
      "metadata": {
        "colab": {
          "base_uri": "https://localhost:8080/"
        },
        "id": "ik3ZjkUKycUK",
        "outputId": "cbf11b85-6514-4048-ccd4-16984d1df7b0"
      },
      "source": [
        "############################### Importar códigos\n",
        "!git clone https://github.com/ucfilho/optim_raianars_Insight/ #clonar do Github\n",
        "%cd optim_raianars_Insight\n",
        "import de_soma_Insight\n",
        "import de_bounds_matriz"
      ],
      "execution_count": 5,
      "outputs": [
        {
          "output_type": "stream",
          "text": [
            "Cloning into 'optim_raianars_Insight'...\n",
            "remote: Enumerating objects: 9, done.\u001b[K\n",
            "remote: Counting objects:  11% (1/9)\u001b[K\rremote: Counting objects:  22% (2/9)\u001b[K\rremote: Counting objects:  33% (3/9)\u001b[K\rremote: Counting objects:  44% (4/9)\u001b[K\rremote: Counting objects:  55% (5/9)\u001b[K\rremote: Counting objects:  66% (6/9)\u001b[K\rremote: Counting objects:  77% (7/9)\u001b[K\rremote: Counting objects:  88% (8/9)\u001b[K\rremote: Counting objects: 100% (9/9)\u001b[K\rremote: Counting objects: 100% (9/9), done.\u001b[K\n",
            "remote: Compressing objects:  11% (1/9)\u001b[K\rremote: Compressing objects:  22% (2/9)\u001b[K\rremote: Compressing objects:  33% (3/9)\u001b[K\rremote: Compressing objects:  44% (4/9)\u001b[K\rremote: Compressing objects:  55% (5/9)\u001b[K\rremote: Compressing objects:  66% (6/9)\u001b[K\rremote: Compressing objects:  77% (7/9)\u001b[K\rremote: Compressing objects:  88% (8/9)\u001b[K\rremote: Compressing objects: 100% (9/9)\u001b[K\rremote: Compressing objects: 100% (9/9), done.\u001b[K\n",
            "Receiving objects:   0% (1/323)   \rReceiving objects:   1% (4/323)   \rReceiving objects:   2% (7/323)   \rReceiving objects:   3% (10/323)   \rReceiving objects:   4% (13/323)   \rReceiving objects:   5% (17/323)   \rReceiving objects:   6% (20/323)   \rReceiving objects:   7% (23/323)   \rReceiving objects:   8% (26/323)   \rReceiving objects:   9% (30/323)   \rReceiving objects:  10% (33/323)   \rReceiving objects:  11% (36/323)   \rReceiving objects:  12% (39/323)   \rReceiving objects:  13% (42/323)   \rReceiving objects:  14% (46/323)   \rReceiving objects:  15% (49/323)   \rReceiving objects:  16% (52/323)   \rReceiving objects:  17% (55/323)   \rReceiving objects:  18% (59/323)   \rReceiving objects:  19% (62/323)   \rReceiving objects:  20% (65/323)   \rReceiving objects:  21% (68/323)   \rReceiving objects:  22% (72/323)   \rReceiving objects:  23% (75/323)   \rReceiving objects:  24% (78/323)   \rReceiving objects:  25% (81/323)   \rReceiving objects:  26% (84/323)   \rReceiving objects:  27% (88/323)   \rReceiving objects:  28% (91/323)   \rReceiving objects:  29% (94/323)   \rReceiving objects:  30% (97/323)   \rReceiving objects:  31% (101/323)   \rReceiving objects:  32% (104/323)   \rReceiving objects:  33% (107/323)   \rReceiving objects:  34% (110/323)   \rReceiving objects:  35% (114/323)   \rReceiving objects:  36% (117/323)   \rReceiving objects:  37% (120/323)   \rReceiving objects:  38% (123/323)   \rReceiving objects:  39% (126/323)   \rReceiving objects:  40% (130/323)   \rReceiving objects:  41% (133/323)   \rReceiving objects:  42% (136/323)   \rReceiving objects:  43% (139/323)   \rReceiving objects:  44% (143/323)   \rReceiving objects:  45% (146/323)   \rReceiving objects:  46% (149/323)   \rReceiving objects:  47% (152/323)   \rReceiving objects:  48% (156/323)   \rReceiving objects:  49% (159/323)   \rReceiving objects:  50% (162/323)   \rReceiving objects:  51% (165/323)   \rReceiving objects:  52% (168/323)   \rReceiving objects:  53% (172/323)   \rReceiving objects:  54% (175/323)   \rReceiving objects:  55% (178/323)   \rReceiving objects:  56% (181/323)   \rReceiving objects:  57% (185/323)   \rReceiving objects:  58% (188/323)   \rReceiving objects:  59% (191/323)   \rReceiving objects:  60% (194/323)   \rReceiving objects:  61% (198/323)   \rReceiving objects:  62% (201/323)   \rReceiving objects:  63% (204/323)   \rReceiving objects:  64% (207/323)   \rReceiving objects:  65% (210/323)   \rReceiving objects:  66% (214/323)   \rReceiving objects:  67% (217/323)   \rReceiving objects:  68% (220/323)   \rReceiving objects:  69% (223/323)   \rReceiving objects:  70% (227/323)   \rReceiving objects:  71% (230/323)   \rReceiving objects:  72% (233/323)   \rReceiving objects:  73% (236/323)   \rremote: Total 323 (delta 3), reused 0 (delta 0), pack-reused 314\u001b[K\n",
            "Receiving objects:  74% (240/323)   \rReceiving objects:  75% (243/323)   \rReceiving objects:  76% (246/323)   \rReceiving objects:  77% (249/323)   \rReceiving objects:  78% (252/323)   \rReceiving objects:  79% (256/323)   \rReceiving objects:  80% (259/323)   \rReceiving objects:  81% (262/323)   \rReceiving objects:  82% (265/323)   \rReceiving objects:  83% (269/323)   \rReceiving objects:  84% (272/323)   \rReceiving objects:  85% (275/323)   \rReceiving objects:  86% (278/323)   \rReceiving objects:  87% (282/323)   \rReceiving objects:  88% (285/323)   \rReceiving objects:  89% (288/323)   \rReceiving objects:  90% (291/323)   \rReceiving objects:  91% (294/323)   \rReceiving objects:  92% (298/323)   \rReceiving objects:  93% (301/323)   \rReceiving objects:  94% (304/323)   \rReceiving objects:  95% (307/323)   \rReceiving objects:  96% (311/323)   \rReceiving objects:  97% (314/323)   \rReceiving objects:  98% (317/323)   \rReceiving objects:  99% (320/323)   \rReceiving objects: 100% (323/323)   \rReceiving objects: 100% (323/323), 312.84 KiB | 6.66 MiB/s, done.\n",
            "Resolving deltas:   0% (0/184)   \rResolving deltas:   7% (14/184)   \rResolving deltas:  32% (60/184)   \rResolving deltas:  60% (112/184)   \rResolving deltas:  66% (123/184)   \rResolving deltas:  69% (127/184)   \rResolving deltas:  75% (138/184)   \rResolving deltas:  89% (165/184)   \rResolving deltas:  94% (173/184)   \rResolving deltas:  95% (175/184)   \rResolving deltas:  97% (180/184)   \rResolving deltas:  98% (182/184)   \rResolving deltas:  99% (183/184)   \rResolving deltas: 100% (184/184)   \rResolving deltas: 100% (184/184), done.\n",
            "/content/optim_raianars_Insight/Raianars_paper_One/optim_raianars_Insight\n"
          ],
          "name": "stdout"
        }
      ]
    },
    {
      "cell_type": "code",
      "metadata": {
        "colab": {
          "base_uri": "https://localhost:8080/"
        },
        "id": "lJogRB30yepw",
        "outputId": "2866894a-944c-4319-93e1-625b2fc31360"
      },
      "source": [
        "#!git clone https://github.com/ucfilho/Raianars_paper_one_revisited/AddFunctions \n",
        "!git clone https://github.com/ucfilho/Raianars_Routines #clonar do Github\n",
        "%cd Raianars_Routines"
      ],
      "execution_count": 6,
      "outputs": [
        {
          "output_type": "stream",
          "text": [
            "Cloning into 'Raianars_Routines'...\n",
            "remote: Enumerating objects: 36, done.\u001b[K\n",
            "remote: Counting objects: 100% (36/36), done.\u001b[K\n",
            "remote: Compressing objects: 100% (34/34), done.\u001b[K\n",
            "remote: Total 36 (delta 10), reused 0 (delta 0), pack-reused 0\u001b[K\n",
            "Unpacking objects: 100% (36/36), done.\n",
            "/content/optim_raianars_Insight/Raianars_paper_One/optim_raianars_Insight/Raianars_Routines\n"
          ],
          "name": "stdout"
        }
      ]
    },
    {
      "cell_type": "code",
      "metadata": {
        "id": "P8LIRCsdywOX"
      },
      "source": [
        "############################### Função\n",
        "import FunctionsNew\n",
        "#'''  \n",
        "############################### Função\n",
        "dim=10 # \n",
        "fchoice='Sphere'\n",
        "Fun=FunctionsNew.Sphere\n",
        "MAX=np.repeat(5.12,dim)\n",
        "MIN=np.repeat(-5.12,dim)\n",
        " #fx=\n",
        "#'''\n",
        "#####################################\n",
        "PAR=len(MAX) #NUM DE PARAMETROS A SER OTIMIZADOS\n",
        "\n",
        "bounds=[]\n",
        "for k in range(len(MAX)):\n",
        "  bounds.append((MIN[k],MAX[k]))"
      ],
      "execution_count": 7,
      "outputs": []
    },
    {
      "cell_type": "code",
      "metadata": {
        "colab": {
          "base_uri": "https://localhost:8080/"
        },
        "id": "QfCTvdZm5Luv",
        "outputId": "d589a0b9-7036-49ec-91e1-32ebcb1b540c"
      },
      "source": [
        "!ls"
      ],
      "execution_count": 8,
      "outputs": [
        {
          "output_type": "stream",
          "text": [
            "FunctionsNew.py  __pycache__  README.md\n"
          ],
          "name": "stdout"
        }
      ]
    },
    {
      "cell_type": "code",
      "metadata": {
        "colab": {
          "base_uri": "https://localhost:8080/"
        },
        "id": "qTINtQ1cosZK",
        "outputId": "4056892b-06ee-447f-db9d-1a3a3067d669"
      },
      "source": [
        "!git clone https://github.com/ucfilho/ANN_read_matrix #clonar do Github\n",
        "%cd ANN_read_matrix"
      ],
      "execution_count": 9,
      "outputs": [
        {
          "output_type": "stream",
          "text": [
            "Cloning into 'ANN_read_matrix'...\n",
            "remote: Enumerating objects: 20, done.\u001b[K\n",
            "remote: Counting objects: 100% (20/20), done.\u001b[K\n",
            "remote: Compressing objects: 100% (18/18), done.\u001b[K\n",
            "remote: Total 20 (delta 5), reused 0 (delta 0), pack-reused 0\u001b[K\n",
            "Unpacking objects: 100% (20/20), done.\n",
            "/content/optim_raianars_Insight/Raianars_paper_One/optim_raianars_Insight/Raianars_Routines/ANN_read_matrix\n"
          ],
          "name": "stdout"
        }
      ]
    },
    {
      "cell_type": "code",
      "metadata": {
        "id": "QiQLYOoNoyCw"
      },
      "source": [
        "ANN_F=pd.read_csv('ANN_INSIGHT_Valor_F.csv')"
      ],
      "execution_count": 10,
      "outputs": []
    },
    {
      "cell_type": "code",
      "metadata": {
        "id": "uHtW2amaDzFv"
      },
      "source": [
        "ANN_CR=pd.read_csv('ANN_INSIGHT_CR.csv')"
      ],
      "execution_count": 11,
      "outputs": []
    },
    {
      "cell_type": "code",
      "metadata": {
        "id": "EH6h_vke2yu1"
      },
      "source": [
        "syn0_F,syn1_F,X_max_F,X_min_F=Go2Ann.GetMatriz(ANN_F)"
      ],
      "execution_count": 12,
      "outputs": []
    },
    {
      "cell_type": "code",
      "metadata": {
        "id": "WW_3ZWJXD60i"
      },
      "source": [
        "syn0_CR,syn1_CR,X_max_CR,X_min_CR=Go2Ann.GetMatriz(ANN_CR)"
      ],
      "execution_count": 13,
      "outputs": []
    },
    {
      "cell_type": "code",
      "metadata": {
        "id": "b4gwBvVTyaXh"
      },
      "source": [
        "ANN_CR=pd.read_csv('ANN_INSIGHT_CR.csv')"
      ],
      "execution_count": 14,
      "outputs": []
    },
    {
      "cell_type": "code",
      "metadata": {
        "id": "6jL8MxpHvk-Y"
      },
      "source": [
        "fields = ['DI RELATIVO','FRAC Its','Fo','CRo']"
      ],
      "execution_count": 15,
      "outputs": []
    },
    {
      "cell_type": "code",
      "metadata": {
        "colab": {
          "base_uri": "https://localhost:8080/"
        },
        "id": "Mb3LmbSmj9v7",
        "outputId": "c1b8036f-6aa2-4dfd-f67c-0e21f2c82e65"
      },
      "source": [
        "##################################### \n",
        "\n",
        "TOTAL=10*dim*its*ITE\n",
        "TOTAL=int(TOTAL/2)   # CONFERIR SE ESTE EH O MELHOR LUGAR\n",
        "\n",
        "dimensions=len(MAX)\n",
        "start_time = time.time() #INICIALIZA CONTAGEM DO TEMPO\n",
        "\n",
        "\n",
        "PAR=dim\n",
        "fobj=Fun\n",
        "\n",
        "MAX_P=np.zeros(ITE) # ATENCAO para variar F e Cr MAX_P passa a ser 3 vezes maior\n",
        "MIN_P=np.zeros(ITE) # ATENCAO para variar F e Cr MIN_P passa a ser 3 vezes maior\n",
        "\n",
        "for i in range(dim):\n",
        "  MAX_P[i]=MAX[i] \n",
        "  MIN_P[i]=MIN[i]\n",
        "\n",
        "rodadas=1\n",
        "NPAR1=int(fator*NPAR);print('Npar1=',NPAR1);print('frac=',fator)\n",
        "NPAR2=NPAR-NPAR1;print('Npar2=',NPAR2);print('Npar=',NPAR)\n",
        "\n",
        "cols=dim\n",
        "\n",
        "X1=np.zeros((NPAR1,cols)) # X1 is Frannk population\n",
        "for i in range(NPAR1):\n",
        "  for j in range(cols):\n",
        "    r=np.random.random()\n",
        "    X1[i,j]=r*(MAX[j]-MIN[j])+MIN[j]\n",
        "    \n",
        "X2=np.zeros((NPAR2,cols)) # X2 is population DE (default DE)\n",
        "for i in range(NPAR2):\n",
        "  for j in range(cols):\n",
        "    r=np.random.random()\n",
        "    X2[i,j]=r*(MAX[j]-MIN[j])+MIN[j]\n",
        " ############################################################\n",
        "  #bounds=[(5*dim, 15*dim)] * PONTOS # ITE\n",
        "  #bounds=[(3*dim, 12*dim)] * PONTOS # ITE\n",
        "  #bounds=[(4*dim, 16*dim)] * PONTOS\n",
        "  \n",
        "  # nao pode ser assim pq o bounds vale p o DE nao dos parametros\n",
        "  #p=int(TOTAL/its/ITE) \n",
        "  #bounds=[(p, p)] * PONTOS\n"
      ],
      "execution_count": 16,
      "outputs": [
        {
          "output_type": "stream",
          "text": [
            "Npar1= 66\n",
            "frac= 0.6666666666666666\n",
            "Npar2= 34\n",
            "Npar= 100\n"
          ],
          "name": "stdout"
        }
      ]
    },
    {
      "cell_type": "code",
      "metadata": {
        "id": "rnX8ttNopd1G",
        "colab": {
          "base_uri": "https://localhost:8080/"
        },
        "outputId": "5effe745-d795-4fa4-fbd3-c49b424f1dd9"
      },
      "source": [
        "\n",
        "start_time = time.time()\n",
        "BEST_AGENTS=[]\n",
        "MAT_stat=[]\n",
        "for iii in range(RUNS):\n",
        "    MAT=[] \n",
        "    mut=Fi\n",
        "    crossp=CRi\n",
        "    SOMA=0\n",
        "    pop = np.random.rand(NPAR, dim)\n",
        "    diff=np.zeros(PAR)\n",
        "    X1=np.zeros((NPAR1,cols)) # X1 is Frannk population\n",
        "    for i in range(NPAR1):\n",
        "      for j in range(cols):\n",
        "        r=np.random.random()\n",
        "        X1[i,j]=r*(MAX[j]-MIN[j])+MIN[j]\n",
        "        \n",
        "    X2=np.zeros((NPAR2,cols)) # X2 is population DE (default DE)\n",
        "    for i in range(NPAR2):\n",
        "      for j in range(cols):\n",
        "        r=np.random.random()\n",
        "        X2[i,j]=r*(MAX[j]-MIN[j])+MIN[j]\n",
        "    \n",
        "    DIo=1e99\n",
        "  \n",
        "    CRo=crossp;Fo=mut;\n",
        "    Fitness = np.asarray([Fun(ind) for ind in X1])\n",
        "    XY,BEST_XY,BESTo,FOBESTo=AvaliaX(X1,Fitness)\n",
        "    nrow,ncol=X1.shape\n",
        "\n",
        "    QUANT=17;MAT_INDo=np.zeros((1,QUANT)); # quantos indices esta fazendo\n",
        "    MAT_INDo[0,5]=nrow  # VALOR NP\n",
        "    MAT_INDo[0,6]=Fo    # VALOR Fo   \n",
        "    MAT_INDo[0,7]=CRo   # VALOR CRo\n",
        "  \n",
        "    MAT_INDo=GeraIndices(X1,BESTo,FOBESTo,DIo,MAT_INDo,SOMA,TOTAL,syn0_F,\n",
        "                        syn1_F,X_max_F,X_min_F,syn0_CR,syn1_CR,X_max_CR,\n",
        "                        X_min_CR,Fc,fields,Fun)\n",
        "  \n",
        "    DIo=np.copy(MAT_INDo[0,0])\n",
        "    MAT_INDo[0,15]=Fo    # VALOR Fo   \n",
        "    MAT_INDo[0,16]=CRo   # VALOR CRo\n",
        "    #ind_crossp=ITE-1\n",
        "    \n",
        "\n",
        "    \n",
        "    for k in range(ITE):\n",
        "\n",
        "      X2,BEST2,FOBEST,XY,BEST_XY=de_bounds_matriz.de(bounds, mut, crossp,NPAR2, its,fobj,X2)\n",
        "      \n",
        "      \n",
        "      X1,BEST1,FOBEST,XY,BEST_XY,SOMA= de_soma_Insight.de(MAX,MIN, mut, crossp,NPAR1,its,Fun,X1,SOMA,TOTAL)\n",
        "\n",
        "      MAT_IND=GeraIndices(X1,BESTo,FOBESTo,DIo,MAT_INDo,SOMA,TOTAL,syn0_F,\n",
        "                          syn1_F,X_max_F,X_min_F,syn0_CR,syn1_CR,X_max_CR,\n",
        "                          X_min_CR,Fc,fields,Fun)\n",
        "    \n",
        "      BESTo=np.copy(BEST1);FOBESTo=np.copy(FOBEST);\n",
        "      MAT.append(MAT_IND.ravel())\n",
        "    \n",
        "      MAT_INDo[0,6]=MAT_IND[0,15]   # VALOR Fo   \n",
        "      MAT_INDo[0,7]=MAT_IND[0,16]   # VALOR CRo\n",
        "      mut=MAT_IND[0,15]\n",
        "      crossp=MAT_IND[0,16]\n",
        "      X1[0,:] = BEST2;\n",
        "      X1[NPAR1-1,:] = BEST1;\n",
        "      X2[0,:] = BEST1;\n",
        "      X2[NPAR2-1,:] = BEST2;\n",
        "    print('k=',iii,'time=',(time.time()-start_time)/60)  \n",
        "    BEST_AGENTS.append(BEST_XY)\n",
        "    MAT_stat.append(MAT)\n",
        "    #print(\"GlobalParam e Solucao:\", BEST,\"Funcao=\",FOBEST)\n",
        "    \n",
        "############################## Cálculo dos Parâmetros de Avaliação   \n",
        "TIME = (time.time() - start_time)/RUNS\n",
        "BEST_AGENTS=np.array(BEST_AGENTS)\n",
        "BEST_AGENTS_ST= BEST_AGENTS[BEST_AGENTS[:,-1].argsort()]\n",
        "BEST=BEST_AGENTS_ST[0]\n",
        "WORSE=BEST_AGENTS_ST[-1]\n",
        "MEAN=np.mean(BEST_AGENTS,axis=0)\n",
        "MAXFO=BEST_AGENTS[:,-1].max()\n",
        "MINFO=BEST_AGENTS[:,-1].min()\n",
        "STD=BEST_AGENTS[:,-1].std()"
      ],
      "execution_count": 17,
      "outputs": [
        {
          "output_type": "stream",
          "text": [
            "k= 0 time= 0.7555497129758199\n",
            "k= 1 time= 1.5028488318125406\n",
            "k= 2 time= 2.248339283466339\n",
            "k= 3 time= 2.9905665159225463\n",
            "k= 4 time= 3.7345557530721027\n",
            "k= 5 time= 4.477409104506175\n",
            "k= 6 time= 5.214510345458985\n",
            "k= 7 time= 5.9558689514795935\n",
            "k= 8 time= 6.697618766625722\n",
            "k= 9 time= 7.4628111561139425\n",
            "k= 10 time= 8.198795835177103\n",
            "k= 11 time= 8.93835445245107\n",
            "k= 12 time= 9.696422636508942\n",
            "k= 13 time= 10.454771673679351\n",
            "k= 14 time= 11.196551005045572\n",
            "k= 15 time= 11.948567136128743\n",
            "k= 16 time= 12.69923899968465\n",
            "k= 17 time= 13.441357656319935\n",
            "k= 18 time= 14.184517268339793\n",
            "k= 19 time= 14.925049197673797\n",
            "k= 20 time= 15.679101967811585\n",
            "k= 21 time= 16.427735511461893\n",
            "k= 22 time= 17.171252326170602\n",
            "k= 23 time= 17.908283265431724\n",
            "k= 24 time= 18.646333169937133\n",
            "k= 25 time= 19.389692775408427\n",
            "k= 26 time= 20.1435062845548\n",
            "k= 27 time= 20.894348001480104\n",
            "k= 28 time= 21.647585872809092\n",
            "k= 29 time= 22.399043734868368\n"
          ],
          "name": "stdout"
        }
      ]
    },
    {
      "cell_type": "code",
      "metadata": {
        "id": "hPpkYEjBtKLU",
        "colab": {
          "base_uri": "https://localhost:8080/"
        },
        "outputId": "63bf763b-82eb-40ee-d5dc-820039ae6251"
      },
      "source": [
        "X1.shape"
      ],
      "execution_count": 18,
      "outputs": [
        {
          "output_type": "execute_result",
          "data": {
            "text/plain": [
              "(66, 10)"
            ]
          },
          "metadata": {
            "tags": []
          },
          "execution_count": 18
        }
      ]
    },
    {
      "cell_type": "code",
      "metadata": {
        "id": "TLEE0UrZSvJF",
        "colab": {
          "base_uri": "https://localhost:8080/"
        },
        "outputId": "b85cd8c1-d56f-477a-cb99-5facf1e937bb"
      },
      "source": [
        "#len(X2[1,:])\n",
        "print(cols)"
      ],
      "execution_count": 19,
      "outputs": [
        {
          "output_type": "stream",
          "text": [
            "10\n"
          ],
          "name": "stdout"
        }
      ]
    },
    {
      "cell_type": "code",
      "metadata": {
        "id": "k3p9TGsx1OCu"
      },
      "source": [
        "NOMES=['DIVERSIDADE (DI)',  'DI RELATIVO','FRAC Its',\n",
        "           'VELOC FOBJ','VELOC X','NP','Fo','CRo','fmin','fmax',\n",
        "           'AD_fmin','AD_fmax','DELTA FOBJ','DELTA VX','r_fitness',\n",
        "           'F','CR']\n",
        "# BEST_INDEX= BEST_AGENTS[BEST_AGENTS[:,-1].argmin()]  \n",
        "BEST_INDEX = np.argmin(BEST_AGENTS[:,-1])\n",
        "df=pd.DataFrame(MAT_stat[BEST_INDEX], columns=NOMES)\n",
        "\n"
      ],
      "execution_count": 20,
      "outputs": []
    },
    {
      "cell_type": "code",
      "metadata": {
        "id": "jIHiKR_t1xxs",
        "colab": {
          "base_uri": "https://localhost:8080/"
        },
        "outputId": "0dbcc863-27b3-407c-9149-2e821f950310"
      },
      "source": [
        "pd.set_option('display.max_columns', 30)  \n",
        "print(df)"
      ],
      "execution_count": 21,
      "outputs": [
        {
          "output_type": "stream",
          "text": [
            "      DIVERSIDADE (DI)   DI RELATIVO  FRAC Its  VELOC FOBJ  VELOC X    NP  \\\n",
            "0         8.910841e+00  9.594629e-01   0.00066         0.0      0.0  66.0   \n",
            "1         8.333368e+00  8.972842e-01   0.00132         0.0      0.0  66.0   \n",
            "2         8.006884e+00  8.621305e-01   0.00198         0.0      0.0  66.0   \n",
            "3         7.797054e+00  8.395373e-01   0.00264         2.0      2.0  66.0   \n",
            "4         7.467204e+00  8.040211e-01   0.00330         0.0      0.0  66.0   \n",
            "...                ...           ...       ...         ...      ...   ...   \n",
            "1995      3.380986e-40  3.640431e-41   1.00001         0.0      0.0  66.0   \n",
            "1996      3.380986e-40  3.640431e-41   1.00001         1.0      1.0  66.0   \n",
            "1997      3.380986e-40  3.640431e-41   1.00001         2.0      1.0  66.0   \n",
            "1998      3.380986e-40  3.640431e-41   1.00001         0.0      0.0  66.0   \n",
            "1999      3.380986e-40  3.640431e-41   1.00001         1.0      1.0  66.0   \n",
            "\n",
            "            Fo       CRo           fmin          fmax  AD_fmin  AD_fmax  \\\n",
            "0     0.500000  0.500000   1.753775e+01  1.319028e+02      1.0      1.0   \n",
            "1     0.260134  0.340090   1.753775e+01  1.217202e+02      1.0      1.0   \n",
            "2     0.435195  0.238371   1.753775e+01  1.120311e+02      1.0      1.0   \n",
            "3     0.247598  0.169868   5.989965e+00  1.120311e+02      1.0      1.0   \n",
            "4     0.403498  0.241174   5.989965e+00  1.094884e+02      1.0      1.0   \n",
            "...        ...       ...            ...           ...      ...      ...   \n",
            "1995  0.336337  0.139216  4.449014e-132  8.659637e-79      1.0      1.0   \n",
            "1996  0.336337  0.139216  3.618412e-132  8.659637e-79      1.0      1.0   \n",
            "1997  0.336337  0.139216  1.694130e-132  8.659637e-79      1.0      1.0   \n",
            "1998  0.336337  0.139216  1.694130e-132  8.659637e-79      1.0      1.0   \n",
            "1999  0.336337  0.139216  1.580804e-132  8.659637e-79      1.0      1.0   \n",
            "\n",
            "      DELTA FOBJ  DELTA VX  r_fitness         F        CR  \n",
            "0            0.0       0.0   0.867040  0.260134  0.340090  \n",
            "1            0.0       0.0   0.855918  0.435195  0.238371  \n",
            "2            0.0       0.0   0.843456  0.247598  0.169868  \n",
            "3            0.0       0.0   0.946533  0.403498  0.241174  \n",
            "4            0.0       0.0   0.945291  0.646814  0.176538  \n",
            "...          ...       ...        ...       ...       ...  \n",
            "1995         0.0       0.0   1.000000  0.336337  0.139216  \n",
            "1996         0.0       0.0   1.000000  0.336337  0.139216  \n",
            "1997         0.0       0.0   1.000000  0.336337  0.139216  \n",
            "1998         0.0       0.0   1.000000  0.336337  0.139216  \n",
            "1999         0.0       0.0   1.000000  0.336337  0.139216  \n",
            "\n",
            "[2000 rows x 17 columns]\n"
          ],
          "name": "stdout"
        }
      ]
    },
    {
      "cell_type": "code",
      "metadata": {
        "id": "bx0ywpMtAAjw",
        "colab": {
          "base_uri": "https://localhost:8080/",
          "height": 299
        },
        "outputId": "24b562ec-dc5e-4034-fa89-a2e29abee305"
      },
      "source": [
        "plt.plot(df['FRAC Its'],df['CR'])\n",
        "plt.xlabel('Iteração/Total')\n",
        "plt.ylabel('CR')"
      ],
      "execution_count": 22,
      "outputs": [
        {
          "output_type": "execute_result",
          "data": {
            "text/plain": [
              "Text(0, 0.5, 'CR')"
            ]
          },
          "metadata": {
            "tags": []
          },
          "execution_count": 22
        },
        {
          "output_type": "display_data",
          "data": {
            "image/png": "[encoded data removed]",
            "text/plain": [
              "<Figure size 432x288 with 1 Axes>"
            ]
          },
          "metadata": {
            "tags": [],
            "needs_background": "light"
          }
        }
      ]
    },
    {
      "cell_type": "code",
      "metadata": {
        "id": "BvPFvbDvteDC",
        "colab": {
          "base_uri": "https://localhost:8080/",
          "height": 295
        },
        "outputId": "7f8e8497-7aba-475e-b0e8-7c243ca70b24"
      },
      "source": [
        "\n",
        "fig, ax = plt.subplots()\n",
        "ax.plot(df['FRAC Its'],df['F'],label='F')\n",
        "ax.set_xlabel('Iteração/Total')\n",
        "ax.set_ylabel('Parâmetros')\n",
        "ax.plot(df['FRAC Its'],df['CR'],'-r', label='CR')\n",
        "nome=Fun.__name__+'  M=Diversidade'+ '  D='+str(dim)\n",
        "ax.set_title(nome)\n",
        "leg = ax.legend()\n"
      ],
      "execution_count": 23,
      "outputs": [
        {
          "output_type": "display_data",
          "data": {
            "image/png": "[encoded data removed]",
            "text/plain": [
              "<Figure size 432x288 with 1 Axes>"
            ]
          },
          "metadata": {
            "tags": [],
            "needs_background": "light"
          }
        }
      ]
    },
    {
      "cell_type": "code",
      "metadata": {
        "id": "htooaGpDia_0",
        "colab": {
          "base_uri": "https://localhost:8080/",
          "height": 313
        },
        "outputId": "c4fb0345-52b9-420c-8839-c05c24744470"
      },
      "source": [
        "f, axarr = plt.subplots(2, sharex=True)\n",
        "axarr[0].plot(df['FRAC Its'],df['F'])\n",
        "axarr[0].set_ylabel('F')\n",
        "axarr[1].plot(df['FRAC Its'],df['CR'])\n",
        "axarr[1].set_ylabel('CR')\n",
        "axarr[1].set_xlabel('Iteração/Total')\n",
        "nome=Fun.__name__+'_Diversidade_'+ 'D='+str(dim)\n",
        "axarr[0].set_title(nome)\n"
      ],
      "execution_count": 24,
      "outputs": [
        {
          "output_type": "execute_result",
          "data": {
            "text/plain": [
              "Text(0.5, 1.0, 'Sphere_Diversidade_D=10')"
            ]
          },
          "metadata": {
            "tags": []
          },
          "execution_count": 24
        },
        {
          "output_type": "display_data",
          "data": {
            "image/png": "[encoded data removed]",
            "text/plain": [
              "<Figure size 432x288 with 2 Axes>"
            ]
          },
          "metadata": {
            "tags": [],
            "needs_background": "light"
          }
        }
      ]
    },
    {
      "cell_type": "code",
      "metadata": {
        "id": "lNSN5X-wskcx",
        "colab": {
          "base_uri": "https://localhost:8080/"
        },
        "outputId": "8f54fa64-57b0-4b4d-f2a0-a2d9845494a8"
      },
      "source": [
        "nome='_ANN_Div3x4_Fo-'+str(Fi)+'_CRo-'+str(CRi)+'_D-'+str(dim)+'_Interv-'+str(ITE)\n",
        "print('DE_POP_VAR_F_CR','TOTAL=',TOTAL,'Iterações=',ITE*its,'Dim=', PAR,\"Min/Max=\",MIN[0],\"/\",MAX[0],'_',Fun.__name__)\n",
        "print(nome, '\\n')\n",
        "#print('BEST: ',BEST)\n",
        "#print('MÉDIA: ',MEAN)\n",
        "print('MÉDIA: ',MEAN[-1])\n",
        "print('MIN __:',MINFO)\n",
        "print('MAX__: ',MAXFO)\n",
        "print('STD __:',STD)\n",
        "print(\"Tempo Médio= %.3f segundos ---\" % (TIME))\n",
        "print(RUNS,'Rodadas') \n",
        "print()\n",
        "print('BEST: ',BEST)\n",
        "# print('melhor=',BEST_AGENTS[BEST_INDEX])"
      ],
      "execution_count": 25,
      "outputs": [
        {
          "output_type": "stream",
          "text": [
            "DE_POP_VAR_F_CR TOTAL= 100000 Iterações= 2000 Dim= 10 Min/Max= -5.12 / 5.12 _ Sphere\n",
            "_ANN_Div3x4_Fo-0.5_CRo-0.5_D-10_Interv-2000 \n",
            "\n",
            "MÉDIA:  6.775895967379799e-82\n",
            "MIN __: 1.5808039426400575e-132\n",
            "MAX__:  1.0233530726844024e-80\n",
            "STD __: 2.5324888091957204e-81\n",
            "Tempo Médio= 44.798 segundos ---\n",
            "30 Rodadas\n",
            "\n",
            "BEST:  [-1.61983797e-067 -2.25164763e-067 -1.37041886e-067  8.35197260e-068\n",
            "  2.97281437e-067  2.41528004e-068  8.36725704e-067 -6.23203165e-067\n",
            " -7.10206461e-068 -5.43704301e-067  1.58080394e-132]\n"
          ],
          "name": "stdout"
        }
      ]
    }
  ]
}
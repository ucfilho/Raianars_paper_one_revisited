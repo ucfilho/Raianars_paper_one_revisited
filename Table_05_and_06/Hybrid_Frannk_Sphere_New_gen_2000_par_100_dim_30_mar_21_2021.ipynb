{
  "nbformat": 4,
  "nbformat_minor": 0,
  "metadata": {
    "colab": {
      "name": "Hybrid_Frannk_Sphere_New_gen_2000_par_100_dim_30_mar_21_2021.ipynb",
      "provenance": [],
      "collapsed_sections": [],
      "include_colab_link": true
    },
    "kernelspec": {
      "display_name": "Python 3",
      "name": "python3"
    },
    "language_info": {
      "codemirror_mode": {
        "name": "ipython",
        "version": 3
      },
      "file_extension": ".py",
      "mimetype": "text/x-python",
      "name": "python",
      "nbconvert_exporter": "python",
      "pygments_lexer": "ipython3",
      "version": "3.7.3"
    }
  },
  "cells": [
    {
      "cell_type": "markdown",
      "metadata": {
        "id": "view-in-github",
        "colab_type": "text"
      },
      "source": [
        "<a href=\"https://colab.research.google.com/github/ucfilho/Raianars_paper_one_revisited/blob/main/Table_05_and_06/Hybrid_Frannk_Sphere_New_gen_2000_par_100_dim_30_mar_21_2021.ipynb\" target=\"_parent\"><img src=\"https://colab.research.google.com/assets/colab-badge.svg\" alt=\"Open In Colab\"/></a>"
      ]
    },
    {
      "cell_type": "code",
      "metadata": {
        "colab": {
          "base_uri": "https://localhost:8080/"
        },
        "id": "c59cDVKoxDLX",
        "outputId": "179c55a6-f309-470f-b292-93692350fd40"
      },
      "source": [
        "############################### Importar códigos\n",
        "!git clone https://github.com/ucfilho/optim_raianars_Insight/ #clonar do Github\n",
        "%cd optim_raianars_Insight\n",
        "import de_soma_Insight\n",
        "import de_bounds_matriz\n",
        "import Go2Ann"
      ],
      "execution_count": 1,
      "outputs": [
        {
          "output_type": "stream",
          "text": [
            "Cloning into 'optim_raianars_Insight'...\n",
            "remote: Enumerating objects: 9, done.\u001b[K\n",
            "remote: Counting objects: 100% (9/9), done.\u001b[K\n",
            "remote: Compressing objects: 100% (9/9), done.\u001b[K\n",
            "remote: Total 323 (delta 3), reused 0 (delta 0), pack-reused 314\u001b[K\n",
            "Receiving objects: 100% (323/323), 312.84 KiB | 1.67 MiB/s, done.\n",
            "Resolving deltas: 100% (184/184), done.\n",
            "/content/optim_raianars_Insight\n"
          ],
          "name": "stdout"
        }
      ]
    },
    {
      "cell_type": "code",
      "metadata": {
        "id": "88sLduNFwZ9Y"
      },
      "source": [
        "# PSO 2016 \n",
        "#  Gen =1000,1500, 2000\n",
        "#  Npar= 20, 40, 80\n",
        "#  dim = 10,20,30\n",
        "# Dynamic parameter adaptation in particle swarm optimization\n",
        "#  using interval type-2 fuzzy logic -Soft Comput (2016) 20:1057–1070"
      ],
      "execution_count": 2,
      "outputs": []
    },
    {
      "cell_type": "code",
      "metadata": {
        "colab": {
          "base_uri": "https://localhost:8080/"
        },
        "id": "Va-6Xios8RjU",
        "outputId": "20e1db71-7594-4cab-d971-d26e6d6756ae"
      },
      "source": [
        "!git clone https://github.com/ucfilho/Raianars_paper_One #clonar do Github\n",
        "%cd Raianars_paper_One"
      ],
      "execution_count": 3,
      "outputs": [
        {
          "output_type": "stream",
          "text": [
            "Cloning into 'Raianars_paper_One'...\n",
            "remote: Enumerating objects: 119, done.\u001b[K\n",
            "remote: Counting objects: 100% (119/119), done.\u001b[K\n",
            "remote: Compressing objects: 100% (119/119), done.\u001b[K\n",
            "remote: Total 248 (delta 64), reused 0 (delta 0), pack-reused 129\u001b[K\n",
            "Receiving objects: 100% (248/248), 654.97 KiB | 2.57 MiB/s, done.\n",
            "Resolving deltas: 100% (136/136), done.\n",
            "/content/optim_raianars_Insight/Raianars_paper_One\n"
          ],
          "name": "stdout"
        }
      ]
    },
    {
      "cell_type": "code",
      "metadata": {
        "id": "_E15mKFURR6O"
      },
      "source": [
        "#import Go2Ann\n",
        "#import de_soma_Insight\n",
        "#import de_bounds_matriz\n",
        "#import Function\n",
        "#import Go2MinMax\n",
        "from AvaliaX import AvaliaX\n",
        "#from Function import FUN\n",
        "#from Function import Function.FUN\n",
        "#from Function import Function.Fun\n",
        "#from Function import Function\n",
        "from GeraIndices import GeraIndices\n",
        "import numpy as np\n",
        "import time\n",
        "import matplotlib.pyplot as plt\n",
        "from random import randint\n",
        "from scipy import optimize\n",
        "import pandas as pd\n",
        "from sklearn.metrics import confusion_matrix\n",
        "\n",
        "############################### DADOS DE ENTRADA \n",
        "RUNS=30 #NÚMERO DE RODADAS\n",
        "Fc=0.1 # fator de correcao parametros da ANN\n",
        "its=1 #10 # quantas vezes vai usar o NPAR antes de alterar de novo\n",
        "ITE=2000 #10 # PONTOS quantas vezes vai alteral NPAR \n",
        "NPAR=100\n",
        "mut=0.5\n",
        "crossp=0.5\n",
        "Fi=mut;CRi=crossp;# para impressão\n",
        "fator = 2.0/3.0; \n",
        "\n"
      ],
      "execution_count": 4,
      "outputs": []
    },
    {
      "cell_type": "code",
      "metadata": {
        "colab": {
          "base_uri": "https://localhost:8080/"
        },
        "id": "ik3ZjkUKycUK",
        "outputId": "64c1a8c2-15be-4a00-8b59-d5c0c6d5459e"
      },
      "source": [
        "############################### Importar códigos\n",
        "!git clone https://github.com/ucfilho/optim_raianars_Insight/ #clonar do Github\n",
        "%cd optim_raianars_Insight\n",
        "import de_soma_Insight\n",
        "import de_bounds_matriz"
      ],
      "execution_count": 5,
      "outputs": [
        {
          "output_type": "stream",
          "text": [
            "Cloning into 'optim_raianars_Insight'...\n",
            "remote: Enumerating objects: 9, done.\u001b[K\n",
            "remote: Counting objects: 100% (9/9), done.\u001b[K\n",
            "remote: Compressing objects: 100% (9/9), done.\u001b[K\n",
            "remote: Total 323 (delta 3), reused 0 (delta 0), pack-reused 314\u001b[K\n",
            "Receiving objects: 100% (323/323), 312.84 KiB | 1.01 MiB/s, done.\n",
            "Resolving deltas: 100% (184/184), done.\n",
            "/content/optim_raianars_Insight/Raianars_paper_One/optim_raianars_Insight\n"
          ],
          "name": "stdout"
        }
      ]
    },
    {
      "cell_type": "code",
      "metadata": {
        "colab": {
          "base_uri": "https://localhost:8080/"
        },
        "id": "lJogRB30yepw",
        "outputId": "bf0a7587-498c-4ee9-cacb-b2fb0af14637"
      },
      "source": [
        "#!git clone https://github.com/ucfilho/Raianars_paper_one_revisited/AddFunctions \n",
        "!git clone https://github.com/ucfilho/Raianars_Routines #clonar do Github\n",
        "%cd Raianars_Routines"
      ],
      "execution_count": 6,
      "outputs": [
        {
          "output_type": "stream",
          "text": [
            "Cloning into 'Raianars_Routines'...\n",
            "remote: Enumerating objects: 36, done.\u001b[K\n",
            "remote: Counting objects: 100% (36/36), done.\u001b[K\n",
            "remote: Compressing objects: 100% (34/34), done.\u001b[K\n",
            "remote: Total 36 (delta 10), reused 0 (delta 0), pack-reused 0\u001b[K\n",
            "Unpacking objects: 100% (36/36), done.\n",
            "/content/optim_raianars_Insight/Raianars_paper_One/optim_raianars_Insight/Raianars_Routines\n"
          ],
          "name": "stdout"
        }
      ]
    },
    {
      "cell_type": "code",
      "metadata": {
        "id": "P8LIRCsdywOX"
      },
      "source": [
        "############################### Função\n",
        "import FunctionsNew\n",
        "#'''  \n",
        "############################### Função\n",
        "dim=30 # \n",
        "fchoice='Sphere'\n",
        "Fun=FunctionsNew.Sphere\n",
        "MAX=np.repeat(5.12,dim)\n",
        "MIN=np.repeat(-5.12,dim)\n",
        " #fx=\n",
        "#'''\n",
        "#####################################\n",
        "PAR=len(MAX) #NUM DE PARAMETROS A SER OTIMIZADOS\n",
        "\n",
        "bounds=[]\n",
        "for k in range(len(MAX)):\n",
        "  bounds.append((MIN[k],MAX[k]))"
      ],
      "execution_count": 7,
      "outputs": []
    },
    {
      "cell_type": "code",
      "metadata": {
        "colab": {
          "base_uri": "https://localhost:8080/"
        },
        "id": "QfCTvdZm5Luv",
        "outputId": "7acf450e-a704-42ba-82b4-801eae1ad07f"
      },
      "source": [
        "!ls"
      ],
      "execution_count": 8,
      "outputs": [
        {
          "output_type": "stream",
          "text": [
            "FunctionsNew.py  __pycache__  README.md\n"
          ],
          "name": "stdout"
        }
      ]
    },
    {
      "cell_type": "code",
      "metadata": {
        "colab": {
          "base_uri": "https://localhost:8080/"
        },
        "id": "qTINtQ1cosZK",
        "outputId": "2c5055f8-1777-463f-c54d-80c210f68c63"
      },
      "source": [
        "!git clone https://github.com/ucfilho/ANN_read_matrix #clonar do Github\n",
        "%cd ANN_read_matrix"
      ],
      "execution_count": 9,
      "outputs": [
        {
          "output_type": "stream",
          "text": [
            "Cloning into 'ANN_read_matrix'...\n",
            "remote: Enumerating objects: 20, done.\u001b[K\n",
            "remote: Counting objects: 100% (20/20), done.\u001b[K\n",
            "remote: Compressing objects: 100% (18/18), done.\u001b[K\n",
            "remote: Total 20 (delta 5), reused 0 (delta 0), pack-reused 0\u001b[K\n",
            "Unpacking objects: 100% (20/20), done.\n",
            "/content/optim_raianars_Insight/Raianars_paper_One/optim_raianars_Insight/Raianars_Routines/ANN_read_matrix\n"
          ],
          "name": "stdout"
        }
      ]
    },
    {
      "cell_type": "code",
      "metadata": {
        "id": "QiQLYOoNoyCw"
      },
      "source": [
        "ANN_F=pd.read_csv('ANN_INSIGHT_Valor_F.csv')"
      ],
      "execution_count": 10,
      "outputs": []
    },
    {
      "cell_type": "code",
      "metadata": {
        "id": "uHtW2amaDzFv"
      },
      "source": [
        "ANN_CR=pd.read_csv('ANN_INSIGHT_CR.csv')"
      ],
      "execution_count": 11,
      "outputs": []
    },
    {
      "cell_type": "code",
      "metadata": {
        "id": "EH6h_vke2yu1"
      },
      "source": [
        "syn0_F,syn1_F,X_max_F,X_min_F=Go2Ann.GetMatriz(ANN_F)"
      ],
      "execution_count": 12,
      "outputs": []
    },
    {
      "cell_type": "code",
      "metadata": {
        "id": "WW_3ZWJXD60i"
      },
      "source": [
        "syn0_CR,syn1_CR,X_max_CR,X_min_CR=Go2Ann.GetMatriz(ANN_CR)"
      ],
      "execution_count": 13,
      "outputs": []
    },
    {
      "cell_type": "code",
      "metadata": {
        "id": "b4gwBvVTyaXh"
      },
      "source": [
        "ANN_CR=pd.read_csv('ANN_INSIGHT_CR.csv')"
      ],
      "execution_count": 14,
      "outputs": []
    },
    {
      "cell_type": "code",
      "metadata": {
        "id": "6jL8MxpHvk-Y"
      },
      "source": [
        "fields = ['DI RELATIVO','FRAC Its','Fo','CRo']"
      ],
      "execution_count": 15,
      "outputs": []
    },
    {
      "cell_type": "code",
      "metadata": {
        "colab": {
          "base_uri": "https://localhost:8080/"
        },
        "id": "Mb3LmbSmj9v7",
        "outputId": "8d780c3e-e5eb-4fe3-9d83-c363352b2ecd"
      },
      "source": [
        "##################################### \n",
        "\n",
        "TOTAL=10*dim*its*ITE\n",
        "TOTAL=int(TOTAL/2)   # CONFERIR SE ESTE EH O MELHOR LUGAR\n",
        "\n",
        "dimensions=len(MAX)\n",
        "start_time = time.time() #INICIALIZA CONTAGEM DO TEMPO\n",
        "\n",
        "\n",
        "PAR=dim\n",
        "fobj=Fun\n",
        "\n",
        "MAX_P=np.zeros(ITE) # ATENCAO para variar F e Cr MAX_P passa a ser 3 vezes maior\n",
        "MIN_P=np.zeros(ITE) # ATENCAO para variar F e Cr MIN_P passa a ser 3 vezes maior\n",
        "\n",
        "for i in range(dim):\n",
        "  MAX_P[i]=MAX[i] \n",
        "  MIN_P[i]=MIN[i]\n",
        "\n",
        "rodadas=1\n",
        "NPAR1=int(fator*NPAR);print('Npar1=',NPAR1);print('frac=',fator)\n",
        "NPAR2=NPAR-NPAR1;print('Npar2=',NPAR2);print('Npar=',NPAR)\n",
        "\n",
        "cols=dim\n",
        "\n",
        "X1=np.zeros((NPAR1,cols)) # X1 is Frannk population\n",
        "for i in range(NPAR1):\n",
        "  for j in range(cols):\n",
        "    r=np.random.random()\n",
        "    X1[i,j]=r*(MAX[j]-MIN[j])+MIN[j]\n",
        "    \n",
        "X2=np.zeros((NPAR2,cols)) # X2 is population DE (default DE)\n",
        "for i in range(NPAR2):\n",
        "  for j in range(cols):\n",
        "    r=np.random.random()\n",
        "    X2[i,j]=r*(MAX[j]-MIN[j])+MIN[j]\n",
        " ############################################################\n",
        "  #bounds=[(5*dim, 15*dim)] * PONTOS # ITE\n",
        "  #bounds=[(3*dim, 12*dim)] * PONTOS # ITE\n",
        "  #bounds=[(4*dim, 16*dim)] * PONTOS\n",
        "  \n",
        "  # nao pode ser assim pq o bounds vale p o DE nao dos parametros\n",
        "  #p=int(TOTAL/its/ITE) \n",
        "  #bounds=[(p, p)] * PONTOS\n"
      ],
      "execution_count": 16,
      "outputs": [
        {
          "output_type": "stream",
          "text": [
            "Npar1= 66\n",
            "frac= 0.6666666666666666\n",
            "Npar2= 34\n",
            "Npar= 100\n"
          ],
          "name": "stdout"
        }
      ]
    },
    {
      "cell_type": "code",
      "metadata": {
        "colab": {
          "base_uri": "https://localhost:8080/"
        },
        "id": "rnX8ttNopd1G",
        "outputId": "1d28493a-9282-437a-dd6d-00552ace9aef"
      },
      "source": [
        "\n",
        "start_time = time.time()\n",
        "BEST_AGENTS=[]\n",
        "MAT_stat=[]\n",
        "for iii in range(RUNS):\n",
        "    MAT=[] \n",
        "    mut=Fi\n",
        "    crossp=CRi\n",
        "    SOMA=0\n",
        "    pop = np.random.rand(NPAR, dim)\n",
        "    diff=np.zeros(PAR)\n",
        "    X1=np.zeros((NPAR1,cols)) # X1 is Frannk population\n",
        "    for i in range(NPAR1):\n",
        "      for j in range(cols):\n",
        "        r=np.random.random()\n",
        "        X1[i,j]=r*(MAX[j]-MIN[j])+MIN[j]\n",
        "        \n",
        "    X2=np.zeros((NPAR2,cols)) # X2 is population DE (default DE)\n",
        "    for i in range(NPAR2):\n",
        "      for j in range(cols):\n",
        "        r=np.random.random()\n",
        "        X2[i,j]=r*(MAX[j]-MIN[j])+MIN[j]\n",
        "    \n",
        "    DIo=1e99\n",
        "  \n",
        "    CRo=crossp;Fo=mut;\n",
        "    Fitness = np.asarray([Fun(ind) for ind in X1])\n",
        "    XY,BEST_XY,BESTo,FOBESTo=AvaliaX(X1,Fitness)\n",
        "    nrow,ncol=X1.shape\n",
        "\n",
        "    QUANT=17;MAT_INDo=np.zeros((1,QUANT)); # quantos indices esta fazendo\n",
        "    MAT_INDo[0,5]=nrow  # VALOR NP\n",
        "    MAT_INDo[0,6]=Fo    # VALOR Fo   \n",
        "    MAT_INDo[0,7]=CRo   # VALOR CRo\n",
        "  \n",
        "    MAT_INDo=GeraIndices(X1,BESTo,FOBESTo,DIo,MAT_INDo,SOMA,TOTAL,syn0_F,\n",
        "                        syn1_F,X_max_F,X_min_F,syn0_CR,syn1_CR,X_max_CR,\n",
        "                        X_min_CR,Fc,fields,Fun)\n",
        "  \n",
        "    DIo=np.copy(MAT_INDo[0,0])\n",
        "    MAT_INDo[0,15]=Fo    # VALOR Fo   \n",
        "    MAT_INDo[0,16]=CRo   # VALOR CRo\n",
        "    #ind_crossp=ITE-1\n",
        "    \n",
        "\n",
        "    \n",
        "    for k in range(ITE):\n",
        "\n",
        "      X2,BEST2,FOBEST,XY,BEST_XY=de_bounds_matriz.de(bounds, mut, crossp,NPAR2, its,fobj,X2)\n",
        "      \n",
        "      \n",
        "      X1,BEST1,FOBEST,XY,BEST_XY,SOMA= de_soma_Insight.de(MAX,MIN, mut, crossp,NPAR1,its,Fun,X1,SOMA,TOTAL)\n",
        "\n",
        "      MAT_IND=GeraIndices(X1,BESTo,FOBESTo,DIo,MAT_INDo,SOMA,TOTAL,syn0_F,\n",
        "                          syn1_F,X_max_F,X_min_F,syn0_CR,syn1_CR,X_max_CR,\n",
        "                          X_min_CR,Fc,fields,Fun)\n",
        "    \n",
        "      BESTo=np.copy(BEST1);FOBESTo=np.copy(FOBEST);\n",
        "      MAT.append(MAT_IND.ravel())\n",
        "    \n",
        "      MAT_INDo[0,6]=MAT_IND[0,15]   # VALOR Fo   \n",
        "      MAT_INDo[0,7]=MAT_IND[0,16]   # VALOR CRo\n",
        "      mut=MAT_IND[0,15]\n",
        "      crossp=MAT_IND[0,16]\n",
        "      X1[0,:] = BEST2;\n",
        "      X1[NPAR1-1,:] = BEST1;\n",
        "      X2[0,:] = BEST1;\n",
        "      X2[NPAR2-1,:] = BEST2;\n",
        "    print('k=',iii,'time=',(time.time()-start_time)/60)  \n",
        "    BEST_AGENTS.append(BEST_XY)\n",
        "    MAT_stat.append(MAT)\n",
        "    #print(\"GlobalParam e Solucao:\", BEST,\"Funcao=\",FOBEST)\n",
        "    \n",
        "############################## Cálculo dos Parâmetros de Avaliação   \n",
        "TIME = (time.time() - start_time)/RUNS\n",
        "BEST_AGENTS=np.array(BEST_AGENTS)\n",
        "BEST_AGENTS_ST= BEST_AGENTS[BEST_AGENTS[:,-1].argsort()]\n",
        "BEST=BEST_AGENTS_ST[0]\n",
        "WORSE=BEST_AGENTS_ST[-1]\n",
        "MEAN=np.mean(BEST_AGENTS,axis=0)\n",
        "MAXFO=BEST_AGENTS[:,-1].max()\n",
        "MINFO=BEST_AGENTS[:,-1].min()\n",
        "STD=BEST_AGENTS[:,-1].std()"
      ],
      "execution_count": 17,
      "outputs": [
        {
          "output_type": "stream",
          "text": [
            "k= 0 time= 1.6313522855440776\n",
            "k= 1 time= 3.253807421525319\n",
            "k= 2 time= 4.880205702781677\n",
            "k= 3 time= 6.5125396847724915\n",
            "k= 4 time= 8.134615894158681\n",
            "k= 5 time= 9.758670024077098\n",
            "k= 6 time= 11.378880695501964\n",
            "k= 7 time= 13.003799120585123\n",
            "k= 8 time= 14.633371369043987\n",
            "k= 9 time= 16.272157287597658\n",
            "k= 10 time= 17.901418650150298\n",
            "k= 11 time= 19.524297932783764\n",
            "k= 12 time= 21.150378739833833\n",
            "k= 13 time= 22.793188122908273\n",
            "k= 14 time= 24.45186109940211\n",
            "k= 15 time= 26.072045413653054\n",
            "k= 16 time= 27.692559667428334\n",
            "k= 17 time= 29.30731905698776\n",
            "k= 18 time= 30.91655771334966\n",
            "k= 19 time= 32.52977633873622\n",
            "k= 20 time= 34.1474963704745\n",
            "k= 21 time= 35.76847230195999\n",
            "k= 22 time= 37.40141908327738\n",
            "k= 23 time= 39.04933591286341\n",
            "k= 24 time= 40.689028000831605\n",
            "k= 25 time= 42.30440615018209\n",
            "k= 26 time= 43.9528990983963\n",
            "k= 27 time= 45.607570974032086\n",
            "k= 28 time= 47.233839333057404\n",
            "k= 29 time= 48.857371679941814\n"
          ],
          "name": "stdout"
        }
      ]
    },
    {
      "cell_type": "code",
      "metadata": {
        "colab": {
          "base_uri": "https://localhost:8080/"
        },
        "id": "hPpkYEjBtKLU",
        "outputId": "343cf756-c025-48e2-917f-c0602129183b"
      },
      "source": [
        "X1.shape"
      ],
      "execution_count": 18,
      "outputs": [
        {
          "output_type": "execute_result",
          "data": {
            "text/plain": [
              "(66, 30)"
            ]
          },
          "metadata": {
            "tags": []
          },
          "execution_count": 18
        }
      ]
    },
    {
      "cell_type": "code",
      "metadata": {
        "colab": {
          "base_uri": "https://localhost:8080/"
        },
        "id": "TLEE0UrZSvJF",
        "outputId": "fe148552-16bf-4ec3-93d7-539b21214de8"
      },
      "source": [
        "#len(X2[1,:])\n",
        "print(cols)"
      ],
      "execution_count": 19,
      "outputs": [
        {
          "output_type": "stream",
          "text": [
            "30\n"
          ],
          "name": "stdout"
        }
      ]
    },
    {
      "cell_type": "code",
      "metadata": {
        "id": "k3p9TGsx1OCu"
      },
      "source": [
        "NOMES=['DIVERSIDADE (DI)',  'DI RELATIVO','FRAC Its',\n",
        "           'VELOC FOBJ','VELOC X','NP','Fo','CRo','fmin','fmax',\n",
        "           'AD_fmin','AD_fmax','DELTA FOBJ','DELTA VX','r_fitness',\n",
        "           'F','CR']\n",
        "# BEST_INDEX= BEST_AGENTS[BEST_AGENTS[:,-1].argmin()]  \n",
        "BEST_INDEX = np.argmin(BEST_AGENTS[:,-1])\n",
        "df=pd.DataFrame(MAT_stat[BEST_INDEX], columns=NOMES)\n",
        "\n"
      ],
      "execution_count": 20,
      "outputs": []
    },
    {
      "cell_type": "code",
      "metadata": {
        "colab": {
          "base_uri": "https://localhost:8080/"
        },
        "id": "jIHiKR_t1xxs",
        "outputId": "ab4ee23e-e0b3-4459-9597-5a2ccea57547"
      },
      "source": [
        "pd.set_option('display.max_columns', 30)  \n",
        "print(df)"
      ],
      "execution_count": 21,
      "outputs": [
        {
          "output_type": "stream",
          "text": [
            "      DIVERSIDADE (DI)   DI RELATIVO  FRAC Its  VELOC FOBJ  VELOC X    NP  \\\n",
            "0         1.570343e+01  9.857116e-01   0.00022         0.0      0.0  66.0   \n",
            "1         1.511633e+01  9.488589e-01   0.00044         1.0      2.0  66.0   \n",
            "2         1.478136e+01  9.278333e-01   0.00066         0.0      0.0  66.0   \n",
            "3         1.456002e+01  9.139392e-01   0.00088         1.0      2.0  66.0   \n",
            "4         1.415275e+01  8.883750e-01   0.00110         1.0      2.0  66.0   \n",
            "...                ...           ...       ...         ...      ...   ...   \n",
            "1995      1.562722e-21  9.809283e-23   0.43912         1.0      1.0  66.0   \n",
            "1996      1.529071e-21  9.598050e-23   0.43934         1.0      1.0  66.0   \n",
            "1997      1.479496e-21  9.286867e-23   0.43956         1.0      1.0  66.0   \n",
            "1998      1.439348e-21  9.034857e-23   0.43978         0.0      0.0  66.0   \n",
            "1999      1.424110e-21  8.939206e-23   0.44000         0.0      0.0  66.0   \n",
            "\n",
            "            Fo       CRo          fmin          fmax  AD_fmin  AD_fmax  \\\n",
            "0     0.500000  0.500000  1.676390e+02  3.902991e+02      1.0      1.0   \n",
            "1     0.253572  0.335715  1.449417e+02  3.316648e+02      1.0      1.0   \n",
            "2     0.434025  0.229533  1.449417e+02  3.316648e+02      1.0      1.0   \n",
            "3     0.232674  0.158543  1.320627e+02  3.316648e+02      1.0      1.0   \n",
            "4     0.392161  0.230993  9.075599e+01  2.749918e+02      1.0      1.0   \n",
            "...        ...       ...           ...           ...      ...      ...   \n",
            "1995  0.336337  0.139216  6.482655e-44  5.706527e-42      1.0      1.0   \n",
            "1996  0.336337  0.139216  6.432925e-44  5.234521e-42      1.0      1.0   \n",
            "1997  0.336337  0.139216  5.334119e-44  5.152586e-42      1.0      1.0   \n",
            "1998  0.336337  0.139216  5.334119e-44  5.152586e-42      1.0      1.0   \n",
            "1999  0.336337  0.139216  5.334119e-44  5.053023e-42      1.0      1.0   \n",
            "\n",
            "      DELTA FOBJ  DELTA VX  r_fitness         F        CR  \n",
            "0            0.0       0.0   0.570486  0.253572  0.335715  \n",
            "1            0.0       0.0   0.562987  0.434025  0.229533  \n",
            "2            0.0       0.0   0.562987  0.232674  0.158543  \n",
            "3            0.0       0.0   0.601819  0.392161  0.230993  \n",
            "4            0.0       0.0   0.669968  0.653450  0.162590  \n",
            "...          ...       ...        ...       ...       ...  \n",
            "1995         0.0       0.0   0.988640  0.336337  0.139216  \n",
            "1996         0.0       0.0   0.987711  0.336337  0.139216  \n",
            "1997         0.0       0.0   0.989648  0.336337  0.139216  \n",
            "1998         0.0       0.0   0.989648  0.336337  0.139216  \n",
            "1999         0.0       0.0   0.989444  0.336337  0.139216  \n",
            "\n",
            "[2000 rows x 17 columns]\n"
          ],
          "name": "stdout"
        }
      ]
    },
    {
      "cell_type": "code",
      "metadata": {
        "colab": {
          "base_uri": "https://localhost:8080/",
          "height": 297
        },
        "id": "bx0ywpMtAAjw",
        "outputId": "b3b78d59-937e-48bf-995a-2aab741e53a3"
      },
      "source": [
        "plt.plot(df['FRAC Its'],df['CR'])\n",
        "plt.xlabel('Iteração/Total')\n",
        "plt.ylabel('CR')"
      ],
      "execution_count": 22,
      "outputs": [
        {
          "output_type": "execute_result",
          "data": {
            "text/plain": [
              "Text(0, 0.5, 'CR')"
            ]
          },
          "metadata": {
            "tags": []
          },
          "execution_count": 22
        },
        {
          "output_type": "display_data",
          "data": {
            "image/png": "[encoded data removed]",
            "text/plain": [
              "<Figure size 432x288 with 1 Axes>"
            ]
          },
          "metadata": {
            "tags": [],
            "needs_background": "light"
          }
        }
      ]
    },
    {
      "cell_type": "code",
      "metadata": {
        "colab": {
          "base_uri": "https://localhost:8080/",
          "height": 295
        },
        "id": "BvPFvbDvteDC",
        "outputId": "bb7e0d05-2b0a-4229-a95d-e24b317ba163"
      },
      "source": [
        "\n",
        "fig, ax = plt.subplots()\n",
        "ax.plot(df['FRAC Its'],df['F'],label='F')\n",
        "ax.set_xlabel('Iteração/Total')\n",
        "ax.set_ylabel('Parâmetros')\n",
        "ax.plot(df['FRAC Its'],df['CR'],'-r', label='CR')\n",
        "nome=Fun.__name__+'  M=Diversidade'+ '  D='+str(dim)\n",
        "ax.set_title(nome)\n",
        "leg = ax.legend()\n"
      ],
      "execution_count": 23,
      "outputs": [
        {
          "output_type": "display_data",
          "data": {
            "image/png": "[encoded data removed]",
            "text/plain": [
              "<Figure size 432x288 with 1 Axes>"
            ]
          },
          "metadata": {
            "tags": [],
            "needs_background": "light"
          }
        }
      ]
    },
    {
      "cell_type": "code",
      "metadata": {
        "colab": {
          "base_uri": "https://localhost:8080/",
          "height": 313
        },
        "id": "htooaGpDia_0",
        "outputId": "6abeb4b3-012a-45bd-ff60-1e3ba23c044f"
      },
      "source": [
        "f, axarr = plt.subplots(2, sharex=True)\n",
        "axarr[0].plot(df['FRAC Its'],df['F'])\n",
        "axarr[0].set_ylabel('F')\n",
        "axarr[1].plot(df['FRAC Its'],df['CR'])\n",
        "axarr[1].set_ylabel('CR')\n",
        "axarr[1].set_xlabel('Iteração/Total')\n",
        "nome=Fun.__name__+'_Diversidade_'+ 'D='+str(dim)\n",
        "axarr[0].set_title(nome)\n"
      ],
      "execution_count": 24,
      "outputs": [
        {
          "output_type": "execute_result",
          "data": {
            "text/plain": [
              "Text(0.5, 1.0, 'Sphere_Diversidade_D=30')"
            ]
          },
          "metadata": {
            "tags": []
          },
          "execution_count": 24
        },
        {
          "output_type": "display_data",
          "data": {
            "image/png": "[encoded data removed]",
            "text/plain": [
              "<Figure size 432x288 with 2 Axes>"
            ]
          },
          "metadata": {
            "tags": [],
            "needs_background": "light"
          }
        }
      ]
    },
    {
      "cell_type": "code",
      "metadata": {
        "colab": {
          "base_uri": "https://localhost:8080/"
        },
        "id": "lNSN5X-wskcx",
        "outputId": "f277cacc-2617-4eff-fd03-c401a74e1132"
      },
      "source": [
        "nome='_ANN_Div3x4_Fo-'+str(Fi)+'_CRo-'+str(CRi)+'_D-'+str(dim)+'_Interv-'+str(ITE)\n",
        "print('DE_POP_VAR_F_CR','TOTAL=',TOTAL,'Iterações=',ITE*its,'Dim=', PAR,\"Min/Max=\",MIN[0],\"/\",MAX[0],'_',Fun.__name__)\n",
        "print(nome, '\\n')\n",
        "#print('BEST: ',BEST)\n",
        "#print('MÉDIA: ',MEAN)\n",
        "print('MÉDIA: ',MEAN[-1])\n",
        "print('MIN __:',MINFO)\n",
        "print('MAX__: ',MAXFO)\n",
        "print('STD __:',STD)\n",
        "print(\"Tempo Médio= %.3f segundos ---\" % (TIME))\n",
        "print(RUNS,'Rodadas') \n",
        "print()\n",
        "print('BEST: ',BEST)\n",
        "# print('melhor=',BEST_AGENTS[BEST_INDEX])"
      ],
      "execution_count": 25,
      "outputs": [
        {
          "output_type": "stream",
          "text": [
            "DE_POP_VAR_F_CR TOTAL= 300000 Iterações= 2000 Dim= 30 Min/Max= -5.12 / 5.12 _ Sphere\n",
            "_ANN_Div3x4_Fo-0.5_CRo-0.5_D-30_Interv-2000 \n",
            "\n",
            "MÉDIA:  2.397905069760532e-37\n",
            "MIN __: 5.334118686530267e-44\n",
            "MAX__:  1.4583937178990508e-36\n",
            "STD __: 4.638135353804972e-37\n",
            "Tempo Médio= 97.715 segundos ---\n",
            "30 Rodadas\n",
            "\n",
            "BEST:  [-6.63898591e-23 -5.17289656e-23  3.84391983e-23  1.09986948e-23\n",
            "  5.29365252e-23  4.12633792e-23  2.25688763e-23  2.21028481e-23\n",
            "  2.32916012e-23  8.83501326e-23  5.82963266e-23 -7.13154086e-24\n",
            "  1.19807861e-23 -3.93369517e-24  2.11245542e-23  7.12620429e-24\n",
            "  1.93019753e-24  3.40853922e-23  6.53977091e-23  2.32412279e-23\n",
            "  1.03386415e-23 -8.22050070e-24 -2.77098026e-23  1.99291351e-23\n",
            " -1.88536340e-23 -1.23674768e-23 -8.43234387e-23 -3.35953340e-23\n",
            "  1.36000834e-23  1.02216519e-22  5.33411869e-44]\n"
          ],
          "name": "stdout"
        }
      ]
    }
  ]
}
{
  "nbformat": 4,
  "nbformat_minor": 0,
  "metadata": {
    "colab": {
      "name": "Hybrid_Frannk_sum_squares_function_d10_0.25-0.25_2021.ipynb",
      "provenance": [],
      "collapsed_sections": [],
      "include_colab_link": true
    },
    "kernelspec": {
      "name": "python3",
      "display_name": "Python 3"
    },
    "language_info": {
      "codemirror_mode": {
        "name": "ipython",
        "version": 3
      },
      "file_extension": ".py",
      "mimetype": "text/x-python",
      "name": "python",
      "nbconvert_exporter": "python",
      "pygments_lexer": "ipython3",
      "version": "3.7.3"
    }
  },
  "cells": [
    {
      "cell_type": "markdown",
      "metadata": {
        "id": "view-in-github",
        "colab_type": "text"
      },
      "source": [
        "<a href=\"https://colab.research.google.com/github/ucfilho/Raianars_paper_one_revisited/blob/main/Hybrid/Hybrid_Frannk_sum_squares_function_d10_0_25_0_25_2021.ipynb\" target=\"_parent\"><img src=\"https://colab.research.google.com/assets/colab-badge.svg\" alt=\"Open In Colab\"/></a>"
      ]
    },
    {
      "cell_type": "code",
      "metadata": {
        "colab": {
          "base_uri": "https://localhost:8080/"
        },
        "id": "KCV-rX5Th9at",
        "outputId": "9a1a4ca3-1d51-4305-e918-03d2bbbc9b92"
      },
      "source": [
        "############################### Importar códigos\r\n",
        "!git clone https://github.com/ucfilho/optim_raianars_Insight/ #clonar do Github\r\n",
        "%cd optim_raianars_Insight\r\n",
        "import de_soma_Insight\r\n",
        "import de_bounds_matriz\r\n",
        "import Go2Ann"
      ],
      "execution_count": 1,
      "outputs": [
        {
          "output_type": "stream",
          "text": [
            "Cloning into 'optim_raianars_Insight'...\n",
            "remote: Enumerating objects: 9, done.\u001b[K\n",
            "remote: Counting objects: 100% (9/9), done.\u001b[K\n",
            "remote: Compressing objects: 100% (9/9), done.\u001b[K\n",
            "remote: Total 323 (delta 3), reused 0 (delta 0), pack-reused 314\u001b[K\n",
            "Receiving objects: 100% (323/323), 312.84 KiB | 272.00 KiB/s, done.\n",
            "Resolving deltas: 100% (184/184), done.\n",
            "/content/optim_raianars_Insight\n"
          ],
          "name": "stdout"
        }
      ]
    },
    {
      "cell_type": "code",
      "metadata": {
        "id": "Va-6Xios8RjU",
        "colab": {
          "base_uri": "https://localhost:8080/"
        },
        "outputId": "bc642fe1-f9f8-44e0-858d-06b22f7ba202"
      },
      "source": [
        "!git clone https://github.com/ucfilho/Raianars_paper_One #clonar do Github\n",
        "%cd Raianars_paper_One"
      ],
      "execution_count": 2,
      "outputs": [
        {
          "output_type": "stream",
          "text": [
            "Cloning into 'Raianars_paper_One'...\n",
            "remote: Enumerating objects: 113, done.\u001b[K\n",
            "remote: Counting objects: 100% (113/113), done.\u001b[K\n",
            "remote: Compressing objects: 100% (113/113), done.\u001b[K\n",
            "remote: Total 242 (delta 60), reused 0 (delta 0), pack-reused 129\u001b[K\n",
            "Receiving objects: 100% (242/242), 653.68 KiB | 1.98 MiB/s, done.\n",
            "Resolving deltas: 100% (132/132), done.\n",
            "/content/optim_raianars_Insight/Raianars_paper_One\n"
          ],
          "name": "stdout"
        }
      ]
    },
    {
      "cell_type": "code",
      "metadata": {
        "id": "_E15mKFURR6O"
      },
      "source": [
        "#import Go2Ann\n",
        "#import de_soma_Insight\n",
        "#import de_bounds_matriz\n",
        "#import Function\n",
        "import Go2MinMax\n",
        "from AvaliaX import AvaliaX\n",
        "from GeraIndices import GeraIndices\n",
        "import numpy as np\n",
        "import time\n",
        "import matplotlib.pyplot as plt\n",
        "from random import randint\n",
        "from scipy import optimize\n",
        "import pandas as pd\n",
        "from sklearn.metrics import confusion_matrix\n",
        "\n",
        "############################### DADOS DE ENTRADA \n",
        "\n",
        "Fc=0.1 # fator de correcao parametros da ANN\n",
        "its=1 #10 # quantas vezes vai usar o NPAR antes de alterar de novo\n",
        "ITE=2000 #10 # PONTOS quantas vezes vai alteral NPAR \n",
        "NPAR=100\n",
        "\n",
        "fator = 1.0/3.0; \n",
        "\n"
      ],
      "execution_count": 3,
      "outputs": []
    },
    {
      "cell_type": "code",
      "metadata": {
        "id": "tMGqnxI6h5BT"
      },
      "source": [
        ""
      ],
      "execution_count": 3,
      "outputs": []
    },
    {
      "cell_type": "code",
      "metadata": {
        "colab": {
          "base_uri": "https://localhost:8080/"
        },
        "id": "ik3ZjkUKycUK",
        "outputId": "176728c6-c385-4e9d-8725-22beeba2b6c5"
      },
      "source": [
        "############################### Importar códigos\r\n",
        "!git clone https://github.com/ucfilho/optim_raianars_Insight/ #clonar do Github\r\n",
        "%cd optim_raianars_Insight\r\n",
        "import de_soma_Insight\r\n",
        "import de_bounds_matriz"
      ],
      "execution_count": 4,
      "outputs": [
        {
          "output_type": "stream",
          "text": [
            "Cloning into 'optim_raianars_Insight'...\n",
            "remote: Enumerating objects: 9, done.\u001b[K\n",
            "remote: Counting objects: 100% (9/9), done.\u001b[K\n",
            "remote: Compressing objects: 100% (9/9), done.\u001b[K\n",
            "remote: Total 323 (delta 3), reused 0 (delta 0), pack-reused 314\u001b[K\n",
            "Receiving objects: 100% (323/323), 312.84 KiB | 953.00 KiB/s, done.\n",
            "Resolving deltas: 100% (184/184), done.\n",
            "/content/optim_raianars_Insight/Raianars_paper_One/optim_raianars_Insight\n"
          ],
          "name": "stdout"
        }
      ]
    },
    {
      "cell_type": "code",
      "metadata": {
        "colab": {
          "base_uri": "https://localhost:8080/"
        },
        "id": "lJogRB30yepw",
        "outputId": "73cc52ba-c0c7-421b-e183-5fd123f1872c"
      },
      "source": [
        "!git clone https://github.com/ucfilho/Raianars_paper_One #clonar do Github\r\n",
        "%cd Raianars_paper_One"
      ],
      "execution_count": 5,
      "outputs": [
        {
          "output_type": "stream",
          "text": [
            "Cloning into 'Raianars_paper_One'...\n",
            "remote: Enumerating objects: 113, done.\u001b[K\n",
            "remote: Counting objects: 100% (113/113), done.\u001b[K\n",
            "remote: Compressing objects: 100% (113/113), done.\u001b[K\n",
            "remote: Total 242 (delta 60), reused 0 (delta 0), pack-reused 129\u001b[K\n",
            "Receiving objects: 100% (242/242), 653.68 KiB | 1.83 MiB/s, done.\n",
            "Resolving deltas: 100% (132/132), done.\n",
            "/content/optim_raianars_Insight/Raianars_paper_One/optim_raianars_Insight/Raianars_paper_One\n"
          ],
          "name": "stdout"
        }
      ]
    },
    {
      "cell_type": "code",
      "metadata": {
        "id": "P8LIRCsdywOX"
      },
      "source": [
        "RUNS=50\r\n",
        "mut=0.25\r\n",
        "crossp=0.25\r\n",
        "Fi=mut;CRi=crossp;# para impressão\r\n",
        "\r\n",
        "############################### Função\r\n",
        "import Function\r\n",
        "#'''  \r\n",
        "############################### Função\r\n",
        "dim=10\r\n",
        "#fchoice='Rastrigin' 'Michalewicz' 'Schwefel' 'Schwefel_222' Ackley  Styblinskitank sum_squares_function\r\n",
        "fchoice='sum_squares_function'\r\n",
        "Fun=Function.sum_squares_function\r\n",
        "MIN,MAX=Go2MinMax.Intervalo(dim,fchoice)\r\n",
        "\r\n",
        "#''' \r\n",
        "#####################################\r\n",
        "PAR=len(MAX) #NUM DE PARAMETROS A SER OTIMIZADOS\r\n",
        "\r\n",
        "bounds=[]\r\n",
        "for k in range(len(MAX)):\r\n",
        "  bounds.append((MIN[k],MAX[k]))"
      ],
      "execution_count": 6,
      "outputs": []
    },
    {
      "cell_type": "code",
      "metadata": {
        "id": "qTINtQ1cosZK",
        "colab": {
          "base_uri": "https://localhost:8080/"
        },
        "outputId": "db589a1f-df00-4bfb-c05d-fca95b9d8c0d"
      },
      "source": [
        "!git clone https://github.com/ucfilho/ANN_read_matrix #clonar do Github\n",
        "%cd ANN_read_matrix"
      ],
      "execution_count": 7,
      "outputs": [
        {
          "output_type": "stream",
          "text": [
            "Cloning into 'ANN_read_matrix'...\n",
            "remote: Enumerating objects: 20, done.\u001b[K\n",
            "remote: Counting objects: 100% (20/20), done.\u001b[K\n",
            "remote: Compressing objects: 100% (18/18), done.\u001b[K\n",
            "remote: Total 20 (delta 5), reused 0 (delta 0), pack-reused 0\u001b[K\n",
            "Unpacking objects: 100% (20/20), done.\n",
            "/content/optim_raianars_Insight/Raianars_paper_One/optim_raianars_Insight/Raianars_paper_One/ANN_read_matrix\n"
          ],
          "name": "stdout"
        }
      ]
    },
    {
      "cell_type": "code",
      "metadata": {
        "id": "QiQLYOoNoyCw"
      },
      "source": [
        "ANN_F=pd.read_csv('ANN_INSIGHT_Valor_F.csv')"
      ],
      "execution_count": 8,
      "outputs": []
    },
    {
      "cell_type": "code",
      "metadata": {
        "id": "uHtW2amaDzFv"
      },
      "source": [
        "ANN_CR=pd.read_csv('ANN_INSIGHT_CR.csv')"
      ],
      "execution_count": 9,
      "outputs": []
    },
    {
      "cell_type": "code",
      "metadata": {
        "id": "EH6h_vke2yu1"
      },
      "source": [
        "syn0_F,syn1_F,X_max_F,X_min_F=Go2Ann.GetMatriz(ANN_F)"
      ],
      "execution_count": 10,
      "outputs": []
    },
    {
      "cell_type": "code",
      "metadata": {
        "id": "WW_3ZWJXD60i"
      },
      "source": [
        "syn0_CR,syn1_CR,X_max_CR,X_min_CR=Go2Ann.GetMatriz(ANN_CR)"
      ],
      "execution_count": 11,
      "outputs": []
    },
    {
      "cell_type": "code",
      "metadata": {
        "id": "b4gwBvVTyaXh"
      },
      "source": [
        "ANN_CR=pd.read_csv('ANN_INSIGHT_CR.csv')"
      ],
      "execution_count": 12,
      "outputs": []
    },
    {
      "cell_type": "code",
      "metadata": {
        "id": "6jL8MxpHvk-Y"
      },
      "source": [
        "fields = ['DI RELATIVO','FRAC Its','Fo','CRo']"
      ],
      "execution_count": 13,
      "outputs": []
    },
    {
      "cell_type": "code",
      "metadata": {
        "id": "Mb3LmbSmj9v7",
        "colab": {
          "base_uri": "https://localhost:8080/"
        },
        "outputId": "2be09904-8240-4ba2-cfa3-3daf7a858b48"
      },
      "source": [
        "##################################### \n",
        "\n",
        "TOTAL=10*dim*its*ITE\n",
        "TOTAL=int(TOTAL/2)   # CONFERIR SE ESTE EH O MELHOR LUGAR\n",
        "\n",
        "dimensions=len(MAX)\n",
        "start_time = time.time() #INICIALIZA CONTAGEM DO TEMPO\n",
        "\n",
        "\n",
        "PAR=dim\n",
        "fobj=Fun\n",
        "\n",
        "MAX_P=np.zeros(ITE) # ATENCAO para variar F e Cr MAX_P passa a ser 3 vezes maior\n",
        "MIN_P=np.zeros(ITE) # ATENCAO para variar F e Cr MIN_P passa a ser 3 vezes maior\n",
        "\n",
        "for i in range(dim):\n",
        "  MAX_P[i]=MAX[i] \n",
        "  MIN_P[i]=MIN[i]\n",
        "\n",
        "rodadas=1\n",
        "NPAR1=int(fator*NPAR);print('Npar1=',NPAR1);print('frac=',fator)\n",
        "NPAR2=NPAR-NPAR1;print('Npar2=',NPAR2);print('Npar=',NPAR)\n",
        "\n",
        "cols=dim\n",
        "\n",
        "X1=np.zeros((NPAR1,cols)) # X1 is Frannk population\n",
        "for i in range(NPAR1):\n",
        "  for j in range(cols):\n",
        "    r=np.random.random()\n",
        "    X1[i,j]=r*(MAX[j]-MIN[j])+MIN[j]\n",
        "    \n",
        "X2=np.zeros((NPAR2,cols)) # X2 is population DE (default DE)\n",
        "for i in range(NPAR2):\n",
        "  for j in range(cols):\n",
        "    r=np.random.random()\n",
        "    X2[i,j]=r*(MAX[j]-MIN[j])+MIN[j]\n",
        " ############################################################\n",
        "  #bounds=[(5*dim, 15*dim)] * PONTOS # ITE\n",
        "  #bounds=[(3*dim, 12*dim)] * PONTOS # ITE\n",
        "  #bounds=[(4*dim, 16*dim)] * PONTOS\n",
        "  \n",
        "  # nao pode ser assim pq o bounds vale p o DE nao dos parametros\n",
        "  #p=int(TOTAL/its/ITE) \n",
        "  #bounds=[(p, p)] * PONTOS\n"
      ],
      "execution_count": 14,
      "outputs": [
        {
          "output_type": "stream",
          "text": [
            "Npar1= 33\n",
            "frac= 0.3333333333333333\n",
            "Npar2= 67\n",
            "Npar= 100\n"
          ],
          "name": "stdout"
        }
      ]
    },
    {
      "cell_type": "code",
      "metadata": {
        "id": "rnX8ttNopd1G",
        "colab": {
          "base_uri": "https://localhost:8080/"
        },
        "outputId": "9537e612-d310-4bd4-a7cd-4e535fb65b59"
      },
      "source": [
        "\n",
        "start_time = time.time()\n",
        "BEST_AGENTS=[]\n",
        "MAT_stat=[]\n",
        "for iii in range(RUNS):\n",
        "    MAT=[] \n",
        "    mut=Fi\n",
        "    crossp=CRi\n",
        "    SOMA=0\n",
        "    pop = np.random.rand(NPAR, dim)\n",
        "    diff=np.zeros(PAR)\n",
        "    X1=np.zeros((NPAR1,cols)) # X1 is Frannk population\n",
        "    for i in range(NPAR1):\n",
        "      for j in range(cols):\n",
        "        r=np.random.random()\n",
        "        X1[i,j]=r*(MAX[j]-MIN[j])+MIN[j]\n",
        "        \n",
        "    X2=np.zeros((NPAR2,cols)) # X2 is population DE (default DE)\n",
        "    for i in range(NPAR2):\n",
        "      for j in range(cols):\n",
        "        r=np.random.random()\n",
        "        X2[i,j]=r*(MAX[j]-MIN[j])+MIN[j]\n",
        "    \n",
        "    DIo=1e99\n",
        "  \n",
        "    CRo=crossp;Fo=mut;\n",
        "    Fitness = np.asarray([Fun(ind) for ind in X1])\n",
        "    XY,BEST_XY,BESTo,FOBESTo=AvaliaX(X1,Fitness)\n",
        "    nrow,ncol=X1.shape\n",
        "\n",
        "    QUANT=17;MAT_INDo=np.zeros((1,QUANT)); # quantos indices esta fazendo\n",
        "    MAT_INDo[0,5]=nrow  # VALOR NP\n",
        "    MAT_INDo[0,6]=Fo    # VALOR Fo   \n",
        "    MAT_INDo[0,7]=CRo   # VALOR CRo\n",
        "  \n",
        "    MAT_INDo=GeraIndices(X1,BESTo,FOBESTo,DIo,MAT_INDo,SOMA,TOTAL,syn0_F,\n",
        "                        syn1_F,X_max_F,X_min_F,syn0_CR,syn1_CR,X_max_CR,\n",
        "                        X_min_CR,Fc,fields,Fun)\n",
        "  \n",
        "    DIo=np.copy(MAT_INDo[0,0])\n",
        "    MAT_INDo[0,15]=Fo    # VALOR Fo   \n",
        "    MAT_INDo[0,16]=CRo   # VALOR CRo\n",
        "    #ind_crossp=ITE-1\n",
        "    \n",
        "\n",
        "    \n",
        "    for k in range(ITE):\n",
        "\n",
        "      X2,BEST2,FOBEST,XY,BEST_XY=de_bounds_matriz.de(bounds, mut, crossp,NPAR2, its,fobj,X2)\n",
        "      \n",
        "      \n",
        "      X1,BEST1,FOBEST,XY,BEST_XY,SOMA= de_soma_Insight.de(MAX,MIN, mut, crossp,NPAR1,its,Fun,X1,SOMA,TOTAL)\n",
        "\n",
        "      MAT_IND=GeraIndices(X1,BESTo,FOBESTo,DIo,MAT_INDo,SOMA,TOTAL,syn0_F,\n",
        "                          syn1_F,X_max_F,X_min_F,syn0_CR,syn1_CR,X_max_CR,\n",
        "                          X_min_CR,Fc,fields,Fun)\n",
        "    \n",
        "      BESTo=np.copy(BEST1);FOBESTo=np.copy(FOBEST);\n",
        "      MAT.append(MAT_IND.ravel())\n",
        "    \n",
        "      MAT_INDo[0,6]=MAT_IND[0,15]   # VALOR Fo   \n",
        "      MAT_INDo[0,7]=MAT_IND[0,16]   # VALOR CRo\n",
        "      mut=MAT_IND[0,15]\n",
        "      crossp=MAT_IND[0,16]\n",
        "      X1[0,:] = BEST2;\n",
        "      X1[NPAR1-1,:] = BEST1;\n",
        "      X2[0,:] = BEST1;\n",
        "      X2[NPAR2-1,:] = BEST2;\n",
        "    print('k=',iii,'time=',(time.time()-start_time)/60, 'FOBEST=',FOBEST)  \n",
        "    BEST_AGENTS.append(BEST_XY)\n",
        "    MAT_stat.append(MAT)\n",
        "    #print(\"GlobalParam e Solucao:\", BEST,\"Funcao=\",FOBEST)\n",
        "    \n",
        "############################## Cálculo dos Parâmetros de Avaliação   \n",
        "TIME = (time.time() - start_time)/RUNS\n",
        "BEST_AGENTS=np.array(BEST_AGENTS)\n",
        "BEST_AGENTS_ST= BEST_AGENTS[BEST_AGENTS[:,-1].argsort()]\n",
        "BEST=BEST_AGENTS_ST[0]\n",
        "WORSE=BEST_AGENTS_ST[-1]\n",
        "MEAN=np.mean(BEST_AGENTS,axis=0)\n",
        "MAXFO=BEST_AGENTS[:,-1].max()\n",
        "MINFO=BEST_AGENTS[:,-1].min()\n",
        "STD=BEST_AGENTS[:,-1].std()"
      ],
      "execution_count": 15,
      "outputs": [
        {
          "output_type": "stream",
          "text": [
            "k= 0 time= 0.7393323143323263 FOBEST= 8.007486107739175e-124\n",
            "k= 1 time= 1.4848833203315734 FOBEST= 8.836142092302085e-124\n",
            "k= 2 time= 2.2572334170341493 FOBEST= 8.27498379929322e-124\n",
            "k= 3 time= 3.046291768550873 FOBEST= 3.5737386530770344e-123\n",
            "k= 4 time= 3.792239212989807 FOBEST= 2.604862916094572e-122\n",
            "k= 5 time= 4.539520573616028 FOBEST= 8.010119519521108e-123\n",
            "k= 6 time= 5.284602534770966 FOBEST= 1.801010507178927e-123\n",
            "k= 7 time= 6.033544611930847 FOBEST= 5.152707135918561e-125\n",
            "k= 8 time= 6.77649105389913 FOBEST= 4.819926326494921e-122\n",
            "k= 9 time= 7.521385622024536 FOBEST= 2.4405760053624155e-124\n",
            "k= 10 time= 8.265386227766673 FOBEST= 2.4965146101353197e-124\n",
            "k= 11 time= 9.009022506078084 FOBEST= 6.32086753284026e-123\n",
            "k= 12 time= 9.753333103656768 FOBEST= 1.948131097203107e-122\n",
            "k= 13 time= 10.494025512536366 FOBEST= 7.683550584977134e-123\n",
            "k= 14 time= 11.235126650333404 FOBEST= 2.3637879988713774e-124\n",
            "k= 15 time= 11.976653265953065 FOBEST= 2.242945813817498e-121\n",
            "k= 16 time= 12.718291461467743 FOBEST= 1.1587170742910001e-123\n",
            "k= 17 time= 13.464151541392008 FOBEST= 1.4826273614587722e-125\n",
            "k= 18 time= 14.208610876401265 FOBEST= 3.873310623314475e-123\n",
            "k= 19 time= 14.95559796889623 FOBEST= 6.14282864624864e-124\n",
            "k= 20 time= 15.6980450908343 FOBEST= 4.7376507989923996e-126\n",
            "k= 21 time= 16.442961037158966 FOBEST= 3.43773471646795e-124\n",
            "k= 22 time= 17.18591448465983 FOBEST= 1.0129227408101353e-122\n",
            "k= 23 time= 17.932870880762735 FOBEST= 1.8278100588210328e-124\n",
            "k= 24 time= 18.67720588048299 FOBEST= 1.2985535514034126e-123\n",
            "k= 25 time= 19.419879213968912 FOBEST= 1.0769719926200102e-122\n",
            "k= 26 time= 20.176425663630166 FOBEST= 7.845793312994942e-126\n",
            "k= 27 time= 20.918756655852 FOBEST= 3.2256239610124336e-123\n",
            "k= 28 time= 21.663199798266092 FOBEST= 1.0687126000322334e-122\n",
            "k= 29 time= 22.409702809651694 FOBEST= 8.235563595723138e-124\n",
            "k= 30 time= 23.155003861586252 FOBEST= 1.94077997488372e-124\n",
            "k= 31 time= 23.899916259447732 FOBEST= 3.8967801575324914e-123\n",
            "k= 32 time= 24.647103508313496 FOBEST= 6.634330845467454e-123\n",
            "k= 33 time= 25.402095560232798 FOBEST= 6.68745251052933e-125\n",
            "k= 34 time= 26.150121899445853 FOBEST= 2.080449786183946e-124\n",
            "k= 35 time= 26.896483167012533 FOBEST= 8.385970711021797e-124\n",
            "k= 36 time= 27.644480868180594 FOBEST= 1.1974542586675909e-122\n",
            "k= 37 time= 28.390794710318247 FOBEST= 2.8280989972388103e-123\n",
            "k= 38 time= 29.13611271381378 FOBEST= 1.746396177190271e-122\n",
            "k= 39 time= 29.880786657333374 FOBEST= 5.7237048097787345e-124\n",
            "k= 40 time= 30.635264905293784 FOBEST= 2.065601887099606e-125\n",
            "k= 41 time= 31.384444141387938 FOBEST= 4.426642402369692e-124\n",
            "k= 42 time= 32.13337623675664 FOBEST= 1.6917236734537332e-123\n",
            "k= 43 time= 32.881845573584236 FOBEST= 3.867922323318363e-123\n",
            "k= 44 time= 33.63104892174403 FOBEST= 1.1950918030274114e-123\n",
            "k= 45 time= 34.380542516708374 FOBEST= 1.3725781634169264e-123\n",
            "k= 46 time= 35.13370712598165 FOBEST= 5.756694491088912e-123\n",
            "k= 47 time= 35.88996467987696 FOBEST= 1.040717345524601e-122\n",
            "k= 48 time= 36.640193331241605 FOBEST= 4.272779048505801e-124\n",
            "k= 49 time= 37.39227799574534 FOBEST= 3.71275045065709e-123\n"
          ],
          "name": "stdout"
        }
      ]
    },
    {
      "cell_type": "code",
      "metadata": {
        "id": "TLEE0UrZSvJF",
        "colab": {
          "base_uri": "https://localhost:8080/"
        },
        "outputId": "b83f5d16-b7f4-4d82-a12a-5015b351e9b4"
      },
      "source": [
        "#len(X2[1,:])\r\n",
        "print(cols)"
      ],
      "execution_count": 16,
      "outputs": [
        {
          "output_type": "stream",
          "text": [
            "10\n"
          ],
          "name": "stdout"
        }
      ]
    },
    {
      "cell_type": "code",
      "metadata": {
        "id": "k3p9TGsx1OCu"
      },
      "source": [
        "NOMES=['DIVERSIDADE (DI)',  'DI RELATIVO','FRAC Its',\n",
        "           'VELOC FOBJ','VELOC X','NP','Fo','CRo','fmin','fmax',\n",
        "           'AD_fmin','AD_fmax','DELTA FOBJ','DELTA VX','r_fitness',\n",
        "           'F','CR']\n",
        "# BEST_INDEX= BEST_AGENTS[BEST_AGENTS[:,-1].argmin()]  \n",
        "BEST_INDEX = np.argmin(BEST_AGENTS[:,-1])\n",
        "df=pd.DataFrame(MAT_stat[BEST_INDEX], columns=NOMES)\n",
        "\n"
      ],
      "execution_count": 17,
      "outputs": []
    },
    {
      "cell_type": "code",
      "metadata": {
        "id": "jIHiKR_t1xxs",
        "colab": {
          "base_uri": "https://localhost:8080/"
        },
        "outputId": "09cccb7e-86c8-4bec-9886-0e0a52a47efc"
      },
      "source": [
        "pd.set_option('display.max_columns', 30)  \n",
        "print(df)"
      ],
      "execution_count": 18,
      "outputs": [
        {
          "output_type": "stream",
          "text": [
            "      DIVERSIDADE (DI)   DI RELATIVO  FRAC Its  VELOC FOBJ  VELOC X    NP  \\\n",
            "0         1.653352e+01  9.576943e-01   0.00033         0.0      0.0  33.0   \n",
            "1         1.533743e+01  8.884111e-01   0.00066         2.0      2.0  33.0   \n",
            "2         1.506523e+01  8.726445e-01   0.00099         0.0      0.0  33.0   \n",
            "3         1.477012e+01  8.555503e-01   0.00132         1.0      2.0  33.0   \n",
            "4         1.411897e+01  8.178330e-01   0.00165         1.0      2.0  33.0   \n",
            "...                ...           ...       ...         ...      ...   ...   \n",
            "1995      2.164575e-55  1.253817e-56   0.65868         0.0      0.0  33.0   \n",
            "1996      2.108729e-55  1.221468e-56   0.65901         1.0      1.0  33.0   \n",
            "1997      1.959430e-55  1.134988e-56   0.65934         0.0      0.0  33.0   \n",
            "1998      1.951795e-55  1.130566e-56   0.65967         1.0      1.0  33.0   \n",
            "1999      1.903103e-55  1.102361e-56   0.66000         0.0      0.0  33.0   \n",
            "\n",
            "            Fo       CRo           fmin           fmax  AD_fmin  AD_fmax  \\\n",
            "0     0.250000  0.250000   8.949309e+02   2.269115e+03      1.0      1.0   \n",
            "1     0.429568  0.170192   4.378906e+02   2.068930e+03      1.0      1.0   \n",
            "2     0.238751  0.119792   4.378906e+02   1.979567e+03      1.0      1.0   \n",
            "3     0.395010  0.172060   3.559140e+02   1.979567e+03      1.0      1.0   \n",
            "4     0.226035  0.122991   2.064398e+02   1.928054e+03      1.0      1.0   \n",
            "...        ...       ...            ...            ...      ...      ...   \n",
            "1995  0.336337  0.139216  9.096447e-126  5.020718e-109      1.0      1.0   \n",
            "1996  0.336337  0.139216  8.264666e-126  4.791530e-109      1.0      1.0   \n",
            "1997  0.336337  0.139216  8.264666e-126  4.702365e-109      1.0      1.0   \n",
            "1998  0.336337  0.139216  4.737651e-126  4.702365e-109      1.0      1.0   \n",
            "1999  0.336337  0.139216  4.737651e-126  4.702365e-109      1.0      1.0   \n",
            "\n",
            "      DELTA FOBJ  DELTA VX  r_fitness         F        CR  \n",
            "0            0.0       0.0   0.605604  0.429568  0.170192  \n",
            "1            0.0       0.0   0.788349  0.238751  0.119792  \n",
            "2            0.0       0.0   0.778795  0.395010  0.172060  \n",
            "3            0.0       0.0   0.820206  0.226035  0.122991  \n",
            "4            0.0       0.0   0.892928  0.364679  0.173284  \n",
            "...          ...       ...        ...       ...       ...  \n",
            "1995         0.0       0.0   1.000000  0.336337  0.139216  \n",
            "1996         0.0       0.0   1.000000  0.336337  0.139216  \n",
            "1997         0.0       0.0   1.000000  0.336337  0.139216  \n",
            "1998         0.0       0.0   1.000000  0.336337  0.139216  \n",
            "1999         0.0       0.0   1.000000  0.336337  0.139216  \n",
            "\n",
            "[2000 rows x 17 columns]\n"
          ],
          "name": "stdout"
        }
      ]
    },
    {
      "cell_type": "code",
      "metadata": {
        "id": "bx0ywpMtAAjw",
        "colab": {
          "base_uri": "https://localhost:8080/",
          "height": 298
        },
        "outputId": "adcb68ed-20a8-48e1-e8ff-2552fc974cce"
      },
      "source": [
        "plt.plot(df['FRAC Its'],df['CR'])\n",
        "plt.xlabel('Iteração/Total')\n",
        "plt.ylabel('CR')"
      ],
      "execution_count": 19,
      "outputs": [
        {
          "output_type": "execute_result",
          "data": {
            "text/plain": [
              "Text(0, 0.5, 'CR')"
            ]
          },
          "metadata": {
            "tags": []
          },
          "execution_count": 19
        },
        {
          "output_type": "display_data",
          "data": {
            "image/png": "[encoded data removed]",
            "text/plain": [
              "<Figure size 432x288 with 1 Axes>"
            ]
          },
          "metadata": {
            "tags": [],
            "needs_background": "light"
          }
        }
      ]
    },
    {
      "cell_type": "code",
      "metadata": {
        "id": "BvPFvbDvteDC",
        "colab": {
          "base_uri": "https://localhost:8080/",
          "height": 295
        },
        "outputId": "cdafb79c-364c-448f-d734-6008627d55bb"
      },
      "source": [
        "\n",
        "fig, ax = plt.subplots()\n",
        "ax.plot(df['FRAC Its'],df['F'],label='F')\n",
        "ax.set_xlabel('Iteração/Total')\n",
        "ax.set_ylabel('Parâmetros')\n",
        "ax.plot(df['FRAC Its'],df['CR'],'-r', label='CR')\n",
        "nome=Fun.__name__+'  M=Diversidade'+ '  D='+str(dim)\n",
        "ax.set_title(nome)\n",
        "leg = ax.legend()\n"
      ],
      "execution_count": 20,
      "outputs": [
        {
          "output_type": "display_data",
          "data": {
            "image/png": "[encoded data removed]",
            "text/plain": [
              "<Figure size 432x288 with 1 Axes>"
            ]
          },
          "metadata": {
            "tags": [],
            "needs_background": "light"
          }
        }
      ]
    },
    {
      "cell_type": "code",
      "metadata": {
        "id": "htooaGpDia_0",
        "colab": {
          "base_uri": "https://localhost:8080/",
          "height": 312
        },
        "outputId": "ae51ae98-7daa-4f05-87c9-6d01864299e3"
      },
      "source": [
        "f, axarr = plt.subplots(2, sharex=True)\n",
        "axarr[0].plot(df['FRAC Its'],df['F'])\n",
        "axarr[0].set_ylabel('F')\n",
        "axarr[1].plot(df['FRAC Its'],df['CR'])\n",
        "axarr[1].set_ylabel('CR')\n",
        "axarr[1].set_xlabel('Iteração/Total')\n",
        "nome=Fun.__name__+'_Diversidade_'+ 'D='+str(dim)\n",
        "axarr[0].set_title(nome)\n"
      ],
      "execution_count": 21,
      "outputs": [
        {
          "output_type": "execute_result",
          "data": {
            "text/plain": [
              "Text(0.5, 1.0, 'sum_squares_function_Diversidade_D=10')"
            ]
          },
          "metadata": {
            "tags": []
          },
          "execution_count": 21
        },
        {
          "output_type": "display_data",
          "data": {
            "image/png": "[encoded data removed]",
            "text/plain": [
              "<Figure size 432x288 with 2 Axes>"
            ]
          },
          "metadata": {
            "tags": [],
            "needs_background": "light"
          }
        }
      ]
    },
    {
      "cell_type": "code",
      "metadata": {
        "id": "lNSN5X-wskcx",
        "colab": {
          "base_uri": "https://localhost:8080/"
        },
        "outputId": "88501762-594e-4702-93b9-9c25db517177"
      },
      "source": [
        "nome='_ANN_Div3x4_Fo-'+str(Fi)+'_CRo-'+str(CRi)+'_D-'+str(dim)+'_Interv-'+str(ITE)\n",
        "print('H-FRANNK - ','TOTAL=',TOTAL,'Iterações=',ITE*its,'Dim=', PAR,\"Min/Max=\",MIN[0],\"/\",MAX[0],'_',Fun.__name__)\n",
        "print(nome, '\\n')\n",
        "#print('BEST: ',BEST)\n",
        "#print('MÉDIA: ',MEAN)\n",
        "print('MÉDIA: ',MEAN[-1])\n",
        "print('MIN __:',MINFO)\n",
        "print('MAX__: ',MAXFO)\n",
        "print('STD __:',STD)\n",
        "print(\"Tempo Médio= %.3f segundos ---\" % (TIME))\n",
        "print(RUNS,'Rodadas') \n",
        "print()\n",
        "print('BEST: ',BEST)\n",
        "# print('melhor=',BEST_AGENTS[BEST_INDEX])"
      ],
      "execution_count": 22,
      "outputs": [
        {
          "output_type": "stream",
          "text": [
            "H-FRANNK -  TOTAL= 100000 Iterações= 2000 Dim= 10 Min/Max= -10 / 10 _ sum_squares_function\n",
            "_ANN_Div3x4_Fo-0.25_CRo-0.25_D-10_Interv-2000 \n",
            "\n",
            "MÉDIA:  9.308256832207484e-123\n",
            "MIN __: 4.7376507989923996e-126\n",
            "MAX__:  2.242945813817498e-121\n",
            "STD __: 3.1810199639472376e-122\n",
            "Tempo Médio= 44.871 segundos ---\n",
            "50 Rodadas\n",
            "\n",
            "BEST:  [-9.72537987e-064 -1.75816184e-064  4.26280334e-064 -5.82392918e-064\n",
            "  5.40263976e-065  3.51673097e-064 -1.77310835e-064 -2.80633177e-064\n",
            " -2.67142960e-065 -1.46612579e-064  4.73765080e-126]\n"
          ],
          "name": "stdout"
        }
      ]
    }
  ]
}
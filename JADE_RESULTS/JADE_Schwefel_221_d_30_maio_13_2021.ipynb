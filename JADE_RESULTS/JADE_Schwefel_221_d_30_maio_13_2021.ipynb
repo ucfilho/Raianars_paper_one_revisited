{
  "nbformat": 4,
  "nbformat_minor": 0,
  "metadata": {
    "colab": {
      "name": "JADE_Schwefel_221_d_30_maio_13_2021.ipynb",
      "provenance": [],
      "collapsed_sections": [],
      "authorship_tag": "ABX9TyOxic3jT13XrVpP9hDMHWNb",
      "include_colab_link": true
    },
    "kernelspec": {
      "display_name": "Python 3",
      "name": "python3"
    }
  },
  "cells": [
    {
      "cell_type": "markdown",
      "metadata": {
        "id": "view-in-github",
        "colab_type": "text"
      },
      "source": [
        "<a href=\"https://colab.research.google.com/github/ucfilho/Raianars_paper_one_revisited/blob/main/JADE_RESULTS/JADE_Schwefel_221_d_30_maio_13_2021.ipynb\" target=\"_parent\"><img src=\"https://colab.research.google.com/assets/colab-badge.svg\" alt=\"Open In Colab\"/></a>"
      ]
    },
    {
      "cell_type": "code",
      "metadata": {
        "id": "Es8PhSUedYDe"
      },
      "source": [
        "import numpy as np\n",
        "import time"
      ],
      "execution_count": 1,
      "outputs": []
    },
    {
      "cell_type": "code",
      "metadata": {
        "colab": {
          "base_uri": "https://localhost:8080/"
        },
        "id": "WPP0AwDbdk4p",
        "outputId": "ee544d50-51cc-454c-d174-94a8f53f208b"
      },
      "source": [
        "!git clone https://github.com/ucfilho/Raianars_Routines\n",
        "%cd Raianars_Routines"
      ],
      "execution_count": 2,
      "outputs": [
        {
          "output_type": "stream",
          "text": [
            "fatal: destination path 'Raianars_Routines' already exists and is not an empty directory.\n",
            "/content/Raianars_Routines\n"
          ],
          "name": "stdout"
        }
      ]
    },
    {
      "cell_type": "code",
      "metadata": {
        "id": "SG2Zh9StRMih"
      },
      "source": [
        "############################### Função\n",
        "import FunctionsNew\n",
        "#'''  \n",
        "############################### Função\n",
        "dim=30 # \n",
        "fchoice='Schwefel_221'\n",
        "Fun=FunctionsNew.Schwefel_221\n",
        "MAX=np.repeat(100,dim)\n",
        "MIN=np.repeat(-100,dim)\n",
        "bounds = (-100,100)\n"
      ],
      "execution_count": 3,
      "outputs": []
    },
    {
      "cell_type": "code",
      "metadata": {
        "id": "aainD4FVhQhu"
      },
      "source": [
        "ITE=2000 #10 # PONTOS quantas vezes vai alteral NPAR \n",
        "NPAR=100 # NUMBER OF PARTICLES\n",
        "RUNS=50 #NÚMERO DE RODADAS"
      ],
      "execution_count": 4,
      "outputs": []
    },
    {
      "cell_type": "code",
      "metadata": {
        "id": "4nlypEzsd8z4"
      },
      "source": [
        "#print(bounds)"
      ],
      "execution_count": 5,
      "outputs": []
    },
    {
      "cell_type": "code",
      "metadata": {
        "colab": {
          "base_uri": "https://localhost:8080/"
        },
        "id": "s8eOhF9tgGNn",
        "outputId": "07bf4551-bafa-4b4f-8a08-fa3c8d80ce49"
      },
      "source": [
        "!pip install PyFDE"
      ],
      "execution_count": 6,
      "outputs": [
        {
          "output_type": "stream",
          "text": [
            "Requirement already satisfied: PyFDE in /usr/local/lib/python3.7/dist-packages (1.3.0)\n",
            "Requirement already satisfied: numpy in /usr/local/lib/python3.7/dist-packages (from PyFDE) (1.19.5)\n"
          ],
          "name": "stdout"
        }
      ]
    },
    {
      "cell_type": "code",
      "metadata": {
        "id": "RSVcPxfcgHC_"
      },
      "source": [
        "import pyfde\n",
        "solver = pyfde.JADE(Fun, n_dim= dim, n_pop=NPAR, limits=bounds, minimize=True)\n",
        "solver.p = 0.05\n",
        "solver.c = 0.1\n",
        "its = 1"
      ],
      "execution_count": 7,
      "outputs": []
    },
    {
      "cell_type": "code",
      "metadata": {
        "colab": {
          "base_uri": "https://localhost:8080/"
        },
        "id": "YhpvZOmJbKlq",
        "outputId": "750b9031-e528-4cce-b864-c5a267dabba6"
      },
      "source": [
        "bounds"
      ],
      "execution_count": 8,
      "outputs": [
        {
          "output_type": "execute_result",
          "data": {
            "text/plain": [
              "(-100, 100)"
            ]
          },
          "metadata": {
            "tags": []
          },
          "execution_count": 8
        }
      ]
    },
    {
      "cell_type": "code",
      "metadata": {
        "id": "A1jYSGP2R70v"
      },
      "source": [
        "start_time = time.time()\n",
        "BEST_AGENTS=[]\n",
        "MAT_stat=[]"
      ],
      "execution_count": 9,
      "outputs": []
    },
    {
      "cell_type": "code",
      "metadata": {
        "colab": {
          "base_uri": "https://localhost:8080/"
        },
        "id": "M9HVQ-J2SS5w",
        "outputId": "530d9ea6-2aa5-4a61-e3d8-1d5fbf5e6396"
      },
      "source": [
        "start_time = time.time()\n",
        "BEST_AGENTS=[]\n",
        "BEST_FIT =[]\n",
        "rows = RUNS\n",
        "cols = dim + 1\n",
        "BEST_XY = np.zeros((rows,cols))\n",
        "for iii in range(RUNS):\n",
        "  solver = pyfde.JADE(Fun, n_dim= dim, n_pop=NPAR, limits=bounds, minimize=True)\n",
        "  solver.p = 0.05\n",
        "  solver.c = 0.1\n",
        "  solver.cr, solver.f = 0.5, 0.5\n",
        "  best, fit = solver.run(n_it=ITE)\n",
        "  kkk = -1\n",
        "  for xi in best:\n",
        "    kkk = kkk +1\n",
        "    BEST_XY[iii,kkk] = xi\n",
        "  BEST_XY[iii,dim] = -fit\n",
        "  BEST_AGENTS.append(best)\n",
        "  TIME = (time.time() - start_time) /60\n",
        "  BEST_FIT.append(-fit)\n",
        "  print('ite ', iii,'time ', TIME,'fob =', -fit)\n",
        "    \n",
        "############################## Cálculo dos Parâmetros de Avaliação   \n",
        "TIME = (time.time() - start_time)/RUNS\n"
      ],
      "execution_count": 10,
      "outputs": [
        {
          "output_type": "stream",
          "text": [
            "ite  0 time  0.038723886013031006 fob = 4.174232109321412e-12\n",
            "ite  1 time  0.07670609951019287 fob = 1.8144206339546607e-11\n",
            "ite  2 time  0.11475752592086792 fob = 7.8253574824372e-11\n",
            "ite  3 time  0.1523796796798706 fob = 1.4166916043772707e-09\n",
            "ite  4 time  0.18949508666992188 fob = 3.259369096885443e-11\n",
            "ite  5 time  0.22671578725179037 fob = 1.1905324840795282e-10\n",
            "ite  6 time  0.26421531041463214 fob = 5.86901126327463e-11\n",
            "ite  7 time  0.30144037008285524 fob = 3.620862083334332e-10\n",
            "ite  8 time  0.338821009794871 fob = 1.0417669697309206e-11\n",
            "ite  9 time  0.37625619967778523 fob = 3.3711268097965754e-11\n",
            "ite  10 time  0.4140397032101949 fob = 4.214372559762706e-09\n",
            "ite  11 time  0.4511726578076681 fob = 4.101303937452973e-10\n",
            "ite  12 time  0.4883232553799947 fob = 9.552326640300857e-11\n",
            "ite  13 time  0.5259221196174622 fob = 3.93789115724504e-11\n",
            "ite  14 time  0.5632558743158976 fob = 3.858487164417807e-11\n",
            "ite  15 time  0.6005019426345826 fob = 4.86894146245997e-12\n",
            "ite  16 time  0.6377517302831014 fob = 2.202720812631053e-09\n",
            "ite  17 time  0.6747372388839722 fob = 3.95209932312606e-12\n",
            "ite  18 time  0.7119787057240804 fob = 6.80769745585322e-10\n",
            "ite  19 time  0.7497949441274007 fob = 3.653910299130123e-12\n",
            "ite  20 time  0.7872180302937826 fob = 1.0934160405008404e-09\n",
            "ite  21 time  0.8253520091374715 fob = 1.4537835764370322e-08\n",
            "ite  22 time  0.8628240625063578 fob = 2.3570647580469817e-10\n",
            "ite  23 time  0.9003858804702759 fob = 2.0635750497921036e-09\n",
            "ite  24 time  0.9371244072914123 fob = 3.769848421318104e-12\n",
            "ite  25 time  0.9748600482940674 fob = 1.562200779527633e-11\n",
            "ite  26 time  1.011885416507721 fob = 3.209595996333305e-10\n",
            "ite  27 time  1.0488766233126323 fob = 6.563915542769901e-10\n",
            "ite  28 time  1.086029624938965 fob = 1.4717517281962564e-10\n",
            "ite  29 time  1.1228574872016908 fob = 1.0180117823943264e-10\n",
            "ite  30 time  1.1603593428929646 fob = 9.797917547411064e-10\n",
            "ite  31 time  1.1981600642204284 fob = 1.1362016753178579e-10\n",
            "ite  32 time  1.2360634366671244 fob = 4.871490010257486e-10\n",
            "ite  33 time  1.273438314596812 fob = 4.2838019837244996e-10\n",
            "ite  34 time  1.3106045166651408 fob = 2.144639892049773e-10\n",
            "ite  35 time  1.3475070675214131 fob = 1.5043918133958081e-10\n",
            "ite  36 time  1.3847461064656577 fob = 1.2537357186590187e-10\n",
            "ite  37 time  1.422031080722809 fob = 3.9770693996059423e-10\n",
            "ite  38 time  1.459066621462504 fob = 2.8568147959834443e-10\n",
            "ite  39 time  1.4960148652394614 fob = 1.1740582224279562e-09\n",
            "ite  40 time  1.5335603833198548 fob = 1.730946073965042e-11\n",
            "ite  41 time  1.5709280927975973 fob = 1.335231452339646e-11\n",
            "ite  42 time  1.608089025815328 fob = 1.4571626847728883e-10\n",
            "ite  43 time  1.645473559697469 fob = 1.1045168736437533e-11\n",
            "ite  44 time  1.6829168717066447 fob = 2.2821202449213016e-10\n",
            "ite  45 time  1.720156236489614 fob = 1.256012905879982e-10\n",
            "ite  46 time  1.7571381012598672 fob = 1.468503669087543e-09\n",
            "ite  47 time  1.7942428231239318 fob = 9.731848322035378e-12\n",
            "ite  48 time  1.8317413846651713 fob = 5.1293747848702465e-12\n",
            "ite  49 time  1.8685020645459494 fob = 2.47623405779692e-12\n"
          ],
          "name": "stdout"
        }
      ]
    },
    {
      "cell_type": "code",
      "metadata": {
        "id": "u-n_6dNIfgHe"
      },
      "source": [
        "IND_XY = np.argsort(np.array(BEST_XY[:,-1]))\n",
        "BEST_XY = BEST_XY[IND_XY,:]"
      ],
      "execution_count": 11,
      "outputs": []
    },
    {
      "cell_type": "code",
      "metadata": {
        "id": "J_yG5aOopqo5"
      },
      "source": [
        "\n",
        "\n",
        "BEST=BEST_XY[0]\n",
        "WORSE=BEST_XY[-1]\n",
        "MEAN=np.mean(BEST_XY,axis=0)\n",
        "MAXFO=BEST_XY[:,-1].max()\n",
        "MINFO=BEST_XY[:,-1].min()\n",
        "STD=BEST_XY[:,-1].std()\n",
        "BEST=BEST_XY[(rows-1),(cols-1)]"
      ],
      "execution_count": 12,
      "outputs": []
    },
    {
      "cell_type": "code",
      "metadata": {
        "colab": {
          "base_uri": "https://localhost:8080/"
        },
        "id": "z4mYgxbKhqj1",
        "outputId": "ccb65b13-6525-42dd-ce6d-76536beb40f9"
      },
      "source": [
        "print('======== JADE ==============')\n",
        "print('NPAR=',NPAR,'Iterações=',ITE*its,'Dim=', dim,\"Min/Max=\",MIN[0],\"/\",MAX[0],'_',Fun.__name__)\n",
        "print()\n",
        "print('MÉDIA: ',MEAN[-1])\n",
        "print('MIN __:',MINFO)\n",
        "print('MAX__: ',MAXFO)\n",
        "print('STD __:',STD)\n",
        "print(\"Tempo Médio= %.3f segundos ---\" % (TIME))\n",
        "print(RUNS,'Rodadas') \n",
        "print()\n",
        "print('BEST: ',MINFO)\n",
        "print()\n",
        "print(MEAN[-1])\n",
        "print(STD)\n",
        "print(MINFO)\n",
        "\n",
        "\n",
        "# print('melhor=',BEST_AGENTS[BEST_INDEX])"
      ],
      "execution_count": 13,
      "outputs": [
        {
          "output_type": "stream",
          "text": [
            "======== JADE ==============\n",
            "NPAR= 100 Iterações= 2000 Dim= 30 Min/Max= -100 / 100 _ Schwefel_221\n",
            "\n",
            "MÉDIA:  7.077553235949806e-10\n",
            "MIN __: 2.47623405779692e-12\n",
            "MAX__:  1.4537835764370322e-08\n",
            "STD __: 2.1125448416156883e-09\n",
            "Tempo Médio= 2.242 segundos ---\n",
            "50 Rodadas\n",
            "\n",
            "BEST:  2.47623405779692e-12\n",
            "\n",
            "7.077553235949806e-10\n",
            "2.1125448416156883e-09\n",
            "2.47623405779692e-12\n"
          ],
          "name": "stdout"
        }
      ]
    }
  ]
}
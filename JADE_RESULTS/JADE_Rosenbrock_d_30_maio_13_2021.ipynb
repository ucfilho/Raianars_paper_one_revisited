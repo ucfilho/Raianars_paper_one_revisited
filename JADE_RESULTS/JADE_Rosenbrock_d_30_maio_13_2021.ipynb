{
  "nbformat": 4,
  "nbformat_minor": 0,
  "metadata": {
    "colab": {
      "name": "JADE_Rosenbrock_d_30_maio_13_2021.ipynb",
      "provenance": [],
      "collapsed_sections": [],
      "authorship_tag": "ABX9TyPELFruvPZyHtsDnOKRU/q6",
      "include_colab_link": true
    },
    "kernelspec": {
      "display_name": "Python 3",
      "name": "python3"
    }
  },
  "cells": [
    {
      "cell_type": "markdown",
      "metadata": {
        "id": "view-in-github",
        "colab_type": "text"
      },
      "source": [
        "<a href=\"https://colab.research.google.com/github/ucfilho/Raianars_paper_one_revisited/blob/main/JADE_RESULTS/JADE_Rosenbrock_d_30_maio_13_2021.ipynb\" target=\"_parent\"><img src=\"https://colab.research.google.com/assets/colab-badge.svg\" alt=\"Open In Colab\"/></a>"
      ]
    },
    {
      "cell_type": "code",
      "metadata": {
        "id": "Es8PhSUedYDe"
      },
      "source": [
        "import numpy as np\n",
        "import time"
      ],
      "execution_count": 1,
      "outputs": []
    },
    {
      "cell_type": "code",
      "metadata": {
        "colab": {
          "base_uri": "https://localhost:8080/"
        },
        "id": "WPP0AwDbdk4p",
        "outputId": "b3ba045e-98b0-40f0-c680-52c27dd1ad78"
      },
      "source": [
        "!git clone https://github.com/ucfilho/Raianars_Routines\n",
        "%cd Raianars_Routines"
      ],
      "execution_count": 2,
      "outputs": [
        {
          "output_type": "stream",
          "text": [
            "Cloning into 'Raianars_Routines'...\n",
            "remote: Enumerating objects: 54, done.\u001b[K\n",
            "remote: Counting objects: 100% (54/54), done.\u001b[K\n",
            "remote: Compressing objects: 100% (52/52), done.\u001b[K\n",
            "remote: Total 54 (delta 16), reused 0 (delta 0), pack-reused 0\u001b[K\n",
            "Unpacking objects: 100% (54/54), done.\n",
            "/content/Raianars_Routines\n"
          ],
          "name": "stdout"
        }
      ]
    },
    {
      "cell_type": "code",
      "metadata": {
        "id": "SG2Zh9StRMih"
      },
      "source": [
        "############################### Função\n",
        "import FunctionsNew\n",
        "#'''  \n",
        "############################### Função\n",
        "dim=30 # \n",
        "fchoice='Rosenbrock'\n",
        "Fun=FunctionsNew.Rosenbrock\n",
        "MAX=np.repeat(10,dim)\n",
        "MIN=np.repeat(-10,dim)\n",
        "bounds = (-10,10)\n"
      ],
      "execution_count": 3,
      "outputs": []
    },
    {
      "cell_type": "code",
      "metadata": {
        "id": "aainD4FVhQhu"
      },
      "source": [
        "ITE=2000 #10 # PONTOS quantas vezes vai alteral NPAR \n",
        "NPAR=100 # NUMBER OF PARTICLES\n",
        "RUNS=50 #NÚMERO DE RODADAS"
      ],
      "execution_count": 4,
      "outputs": []
    },
    {
      "cell_type": "code",
      "metadata": {
        "id": "4nlypEzsd8z4"
      },
      "source": [
        "#print(bounds)"
      ],
      "execution_count": 5,
      "outputs": []
    },
    {
      "cell_type": "code",
      "metadata": {
        "colab": {
          "base_uri": "https://localhost:8080/"
        },
        "id": "s8eOhF9tgGNn",
        "outputId": "245f0361-076c-4ec9-981c-e644b4a7723d"
      },
      "source": [
        "!pip install PyFDE"
      ],
      "execution_count": 6,
      "outputs": [
        {
          "output_type": "stream",
          "text": [
            "Collecting PyFDE\n",
            "\u001b[?25l  Downloading https://files.pythonhosted.org/packages/72/f9/87f7279554d2682e3827d39c3d3a565b2fd42f7114a779e34a601c6c5079/PyFDE-1.3.0.tar.gz (397kB)\n",
            "\r\u001b[K     |▉                               | 10kB 13.8MB/s eta 0:00:01\r\u001b[K     |█▋                              | 20kB 19.6MB/s eta 0:00:01\r\u001b[K     |██▌                             | 30kB 19.1MB/s eta 0:00:01\r\u001b[K     |███▎                            | 40kB 16.2MB/s eta 0:00:01\r\u001b[K     |████▏                           | 51kB 9.3MB/s eta 0:00:01\r\u001b[K     |█████                           | 61kB 10.7MB/s eta 0:00:01\r\u001b[K     |█████▊                          | 71kB 8.7MB/s eta 0:00:01\r\u001b[K     |██████▋                         | 81kB 9.5MB/s eta 0:00:01\r\u001b[K     |███████▍                        | 92kB 10.1MB/s eta 0:00:01\r\u001b[K     |████████▎                       | 102kB 8.5MB/s eta 0:00:01\r\u001b[K     |█████████                       | 112kB 8.5MB/s eta 0:00:01\r\u001b[K     |██████████                      | 122kB 8.5MB/s eta 0:00:01\r\u001b[K     |██████████▊                     | 133kB 8.5MB/s eta 0:00:01\r\u001b[K     |███████████▌                    | 143kB 8.5MB/s eta 0:00:01\r\u001b[K     |████████████▍                   | 153kB 8.5MB/s eta 0:00:01\r\u001b[K     |█████████████▏                  | 163kB 8.5MB/s eta 0:00:01\r\u001b[K     |██████████████                  | 174kB 8.5MB/s eta 0:00:01\r\u001b[K     |██████████████▉                 | 184kB 8.5MB/s eta 0:00:01\r\u001b[K     |███████████████▊                | 194kB 8.5MB/s eta 0:00:01\r\u001b[K     |████████████████▌               | 204kB 8.5MB/s eta 0:00:01\r\u001b[K     |█████████████████▎              | 215kB 8.5MB/s eta 0:00:01\r\u001b[K     |██████████████████▏             | 225kB 8.5MB/s eta 0:00:01\r\u001b[K     |███████████████████             | 235kB 8.5MB/s eta 0:00:01\r\u001b[K     |███████████████████▉            | 245kB 8.5MB/s eta 0:00:01\r\u001b[K     |████████████████████▋           | 256kB 8.5MB/s eta 0:00:01\r\u001b[K     |█████████████████████▌          | 266kB 8.5MB/s eta 0:00:01\r\u001b[K     |██████████████████████▎         | 276kB 8.5MB/s eta 0:00:01\r\u001b[K     |███████████████████████         | 286kB 8.5MB/s eta 0:00:01\r\u001b[K     |████████████████████████        | 296kB 8.5MB/s eta 0:00:01\r\u001b[K     |████████████████████████▊       | 307kB 8.5MB/s eta 0:00:01\r\u001b[K     |█████████████████████████▋      | 317kB 8.5MB/s eta 0:00:01\r\u001b[K     |██████████████████████████▍     | 327kB 8.5MB/s eta 0:00:01\r\u001b[K     |███████████████████████████▎    | 337kB 8.5MB/s eta 0:00:01\r\u001b[K     |████████████████████████████    | 348kB 8.5MB/s eta 0:00:01\r\u001b[K     |████████████████████████████▉   | 358kB 8.5MB/s eta 0:00:01\r\u001b[K     |█████████████████████████████▊  | 368kB 8.5MB/s eta 0:00:01\r\u001b[K     |██████████████████████████████▌ | 378kB 8.5MB/s eta 0:00:01\r\u001b[K     |███████████████████████████████▍| 389kB 8.5MB/s eta 0:00:01\r\u001b[K     |████████████████████████████████| 399kB 8.5MB/s \n",
            "\u001b[?25hRequirement already satisfied: numpy in /usr/local/lib/python3.7/dist-packages (from PyFDE) (1.19.5)\n",
            "Building wheels for collected packages: PyFDE\n",
            "  Building wheel for PyFDE (setup.py) ... \u001b[?25l\u001b[?25hdone\n",
            "  Created wheel for PyFDE: filename=PyFDE-1.3.0-cp37-cp37m-linux_x86_64.whl size=974732 sha256=6c49ecc9a04edc68fb223bdc831c2b43393ce83bc569d33d734ab32f0669577e\n",
            "  Stored in directory: /root/.cache/pip/wheels/7d/42/ba/abf21db37934e576c74fc2c9504b5cd97eb6a99e3dec1743c0\n",
            "Successfully built PyFDE\n",
            "Installing collected packages: PyFDE\n",
            "Successfully installed PyFDE-1.3.0\n"
          ],
          "name": "stdout"
        }
      ]
    },
    {
      "cell_type": "code",
      "metadata": {
        "id": "RSVcPxfcgHC_"
      },
      "source": [
        "import pyfde\n",
        "solver = pyfde.JADE(Fun, n_dim= dim, n_pop=NPAR, limits=bounds, minimize=True)\n",
        "solver.p = 0.05\n",
        "solver.c = 0.1\n",
        "its = 1"
      ],
      "execution_count": 7,
      "outputs": []
    },
    {
      "cell_type": "code",
      "metadata": {
        "colab": {
          "base_uri": "https://localhost:8080/"
        },
        "id": "YhpvZOmJbKlq",
        "outputId": "7ef5ecfc-e1b0-493e-a4de-945387de27e2"
      },
      "source": [
        "bounds"
      ],
      "execution_count": 8,
      "outputs": [
        {
          "output_type": "execute_result",
          "data": {
            "text/plain": [
              "(-10, 10)"
            ]
          },
          "metadata": {
            "tags": []
          },
          "execution_count": 8
        }
      ]
    },
    {
      "cell_type": "code",
      "metadata": {
        "id": "A1jYSGP2R70v"
      },
      "source": [
        "start_time = time.time()\n",
        "BEST_AGENTS=[]\n",
        "MAT_stat=[]"
      ],
      "execution_count": 9,
      "outputs": []
    },
    {
      "cell_type": "code",
      "metadata": {
        "id": "M9HVQ-J2SS5w",
        "colab": {
          "base_uri": "https://localhost:8080/"
        },
        "outputId": "3df6f3a0-31c0-4de8-d1e9-f153a4791d84"
      },
      "source": [
        "start_time = time.time()\n",
        "BEST_AGENTS=[]\n",
        "BEST_FIT =[]\n",
        "rows = RUNS\n",
        "cols = dim + 1\n",
        "BEST_XY = np.zeros((rows,cols))\n",
        "for iii in range(RUNS):\n",
        "  solver = pyfde.JADE(Fun, n_dim= dim, n_pop=NPAR, limits=bounds, minimize=True)\n",
        "  solver.p = 0.05\n",
        "  solver.c = 0.1\n",
        "  solver.cr, solver.f = 0.5, 0.5\n",
        "  best, fit = solver.run(n_it=ITE)\n",
        "  kkk = -1\n",
        "  for xi in best:\n",
        "    kkk = kkk +1\n",
        "    BEST_XY[iii,kkk] = xi\n",
        "  BEST_XY[iii,dim] = -fit\n",
        "  BEST_AGENTS.append(best)\n",
        "  TIME = (time.time() - start_time) /60\n",
        "  BEST_FIT.append(-fit)\n",
        "  print('ite ', iii,'time ', TIME,'fob =', -fit)\n",
        "    \n",
        "############################## Cálculo dos Parâmetros de Avaliação   \n",
        "TIME = (time.time() - start_time)/RUNS\n"
      ],
      "execution_count": 10,
      "outputs": [
        {
          "output_type": "stream",
          "text": [
            "ite  0 time  0.09634681145350138 fob = 7.143339359166422e-21\n",
            "ite  1 time  0.19206705093383789 fob = 9.489247789638781e-23\n",
            "ite  2 time  0.28722139199574787 fob = 3.5590210438200907e-20\n",
            "ite  3 time  0.382045582930247 fob = 4.297904555886716e-19\n",
            "ite  4 time  0.47695465485254923 fob = 3.986623854300933\n",
            "ite  5 time  0.5715596040089925 fob = 1.4012619928650663e-18\n",
            "ite  6 time  0.6667718768119812 fob = 5.41756304981716e-22\n",
            "ite  7 time  0.7616068363189697 fob = 4.1398069667660587e-22\n",
            "ite  8 time  0.8577214002609252 fob = 4.821618770577093e-22\n",
            "ite  9 time  0.9531519969304403 fob = 6.425319948142988e-21\n",
            "ite  10 time  1.048140581448873 fob = 1.115444496677395e-21\n",
            "ite  11 time  1.143508251508077 fob = 1.0384239554903781e-22\n",
            "ite  12 time  1.2394454836845399 fob = 1.583982034324749e-23\n",
            "ite  13 time  1.3349392811457317 fob = 1.171971817439795e-21\n",
            "ite  14 time  1.429997181892395 fob = 1.2357451013358623e-21\n",
            "ite  15 time  1.5253581206003826 fob = 1.1475463692346268e-24\n",
            "ite  16 time  1.6213309645652771 fob = 5.5822759610803525e-21\n",
            "ite  17 time  1.7164487401644388 fob = 1.2682704606338388e-19\n",
            "ite  18 time  1.811165690422058 fob = 1.1978515877089545e-19\n",
            "ite  19 time  1.9056456645329793 fob = 9.164498062968528e-23\n",
            "ite  20 time  2.0000046849250794 fob = 6.321981574956173e-22\n",
            "ite  21 time  2.0949731548627217 fob = 1.1261827809151212e-20\n",
            "ite  22 time  2.1898542563120524 fob = 2.8932556158260794e-21\n",
            "ite  23 time  2.2844867507616677 fob = 1.2448911648275789e-21\n",
            "ite  24 time  2.3788694739341736 fob = 3.9866238543009325\n",
            "ite  25 time  2.473614048957825 fob = 4.806701149672449e-22\n",
            "ite  26 time  2.5686999400456747 fob = 2.1829227455094234e-20\n",
            "ite  27 time  2.6638290524482726 fob = 4.8880547238899285e-22\n",
            "ite  28 time  2.75878001054128 fob = 4.556167829640536e-21\n",
            "ite  29 time  2.8540908694267273 fob = 1.0547875068045793e-20\n",
            "ite  30 time  2.9496862371762593 fob = 2.870176391148272e-23\n",
            "ite  31 time  3.0453134377797446 fob = 3.394771693089583e-20\n",
            "ite  32 time  3.1404491742451985 fob = 1.8093308616493437e-21\n",
            "ite  33 time  3.235855519771576 fob = 4.979396065855848e-21\n",
            "ite  34 time  3.3311099767684937 fob = 5.434803947278724e-21\n",
            "ite  35 time  3.425580608844757 fob = 1.0814269733887282e-19\n",
            "ite  36 time  3.520603048801422 fob = 2.946666611076119e-21\n",
            "ite  37 time  3.6162850856781006 fob = 8.614339756519525e-21\n",
            "ite  38 time  3.711861868699392 fob = 6.427772877172858e-19\n",
            "ite  39 time  3.8074434558550516 fob = 1.2761329756162198e-20\n",
            "ite  40 time  3.902553900082906 fob = 3.3999903782430444e-24\n",
            "ite  41 time  3.997377300262451 fob = 3.9866238543009347\n",
            "ite  42 time  4.092858513196309 fob = 1.4324384997646782e-19\n",
            "ite  43 time  4.18869454463323 fob = 3.192582736041961e-20\n",
            "ite  44 time  4.283018569151561 fob = 4.207184141521417e-20\n",
            "ite  45 time  4.377906473477681 fob = 3.6127609065221663e-19\n",
            "ite  46 time  4.4725137591362 fob = 7.304400468057638e-21\n",
            "ite  47 time  4.567295094331105 fob = 2.491144522512905e-22\n",
            "ite  48 time  4.662636049588522 fob = 2.0390226389215195e-20\n",
            "ite  49 time  4.758134762446086 fob = 1.339631082103189e-23\n"
          ],
          "name": "stdout"
        }
      ]
    },
    {
      "cell_type": "code",
      "metadata": {
        "id": "u-n_6dNIfgHe"
      },
      "source": [
        "IND_XY = np.argsort(np.array(BEST_XY[:,-1]))\n",
        "BEST_XY = BEST_XY[IND_XY,:]"
      ],
      "execution_count": 11,
      "outputs": []
    },
    {
      "cell_type": "code",
      "metadata": {
        "id": "J_yG5aOopqo5"
      },
      "source": [
        "\n",
        "\n",
        "BEST=BEST_XY[0]\n",
        "WORSE=BEST_XY[-1]\n",
        "MEAN=np.mean(BEST_XY,axis=0)\n",
        "MAXFO=BEST_XY[:,-1].max()\n",
        "MINFO=BEST_XY[:,-1].min()\n",
        "STD=BEST_XY[:,-1].std()\n",
        "BEST=BEST_XY[(rows-1),(cols-1)]"
      ],
      "execution_count": 12,
      "outputs": []
    },
    {
      "cell_type": "code",
      "metadata": {
        "id": "z4mYgxbKhqj1",
        "colab": {
          "base_uri": "https://localhost:8080/"
        },
        "outputId": "afcf05bc-f0fd-4c19-b37c-b90578365ed7"
      },
      "source": [
        "print('======== JADE ==============')\n",
        "print('NPAR=',NPAR,'Iterações=',ITE*its,'Dim=', dim,\"Min/Max=\",MIN[0],\"/\",MAX[0],'_',Fun.__name__)\n",
        "print()\n",
        "print('MÉDIA: ',MEAN[-1])\n",
        "print('MIN __:',MINFO)\n",
        "print('MAX__: ',MAXFO)\n",
        "print('STD __:',STD)\n",
        "print(\"Tempo Médio= %.3f segundos ---\" % (TIME))\n",
        "print(RUNS,'Rodadas') \n",
        "print()\n",
        "print('BEST: ',MINFO)\n",
        "print()\n",
        "print(MEAN[-1])\n",
        "print(STD)\n",
        "print(MINFO)\n",
        "\n",
        "\n",
        "# print('melhor=',BEST_AGENTS[BEST_INDEX])"
      ],
      "execution_count": 13,
      "outputs": [
        {
          "output_type": "stream",
          "text": [
            "======== JADE ==============\n",
            "NPAR= 100 Iterações= 2000 Dim= 30 Min/Max= -10 / 10 _ Rosenbrock\n",
            "\n",
            "MÉDIA:  0.23919743125805604\n",
            "MIN __: 1.1475463692346268e-24\n",
            "MAX__:  3.9866238543009347\n",
            "STD __: 0.9467707083662978\n",
            "Tempo Médio= 5.710 segundos ---\n",
            "50 Rodadas\n",
            "\n",
            "BEST:  1.1475463692346268e-24\n",
            "\n",
            "0.23919743125805604\n",
            "0.9467707083662978\n",
            "1.1475463692346268e-24\n"
          ],
          "name": "stdout"
        }
      ]
    }
  ]
}
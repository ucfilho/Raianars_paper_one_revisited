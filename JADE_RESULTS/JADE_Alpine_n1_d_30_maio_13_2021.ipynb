{
  "nbformat": 4,
  "nbformat_minor": 0,
  "metadata": {
    "colab": {
      "name": "JADE_Alpine_n1_d_30_maio_13_2021.ipynb",
      "provenance": [],
      "collapsed_sections": [],
      "authorship_tag": "ABX9TyOaZ/tuWrc7hIzVarZ4i8vB",
      "include_colab_link": true
    },
    "kernelspec": {
      "display_name": "Python 3",
      "name": "python3"
    }
  },
  "cells": [
    {
      "cell_type": "markdown",
      "metadata": {
        "id": "view-in-github",
        "colab_type": "text"
      },
      "source": [
        "<a href=\"https://colab.research.google.com/github/ucfilho/Raianars_paper_one_revisited/blob/main/JADE_RESULTS/JADE_Alpine_n1_d_30_maio_13_2021.ipynb\" target=\"_parent\"><img src=\"https://colab.research.google.com/assets/colab-badge.svg\" alt=\"Open In Colab\"/></a>"
      ]
    },
    {
      "cell_type": "code",
      "metadata": {
        "id": "Es8PhSUedYDe"
      },
      "source": [
        "import numpy as np\n",
        "import time"
      ],
      "execution_count": 1,
      "outputs": []
    },
    {
      "cell_type": "code",
      "metadata": {
        "colab": {
          "base_uri": "https://localhost:8080/"
        },
        "id": "WPP0AwDbdk4p",
        "outputId": "2d6f34bb-975f-4f6f-f4b5-9f119656913b"
      },
      "source": [
        "!git clone https://github.com/ucfilho/Raianars_Routines\n",
        "%cd Raianars_Routines"
      ],
      "execution_count": 2,
      "outputs": [
        {
          "output_type": "stream",
          "text": [
            "Cloning into 'Raianars_Routines'...\n",
            "remote: Enumerating objects: 54, done.\u001b[K\n",
            "remote: Counting objects: 100% (54/54), done.\u001b[K\n",
            "remote: Compressing objects: 100% (52/52), done.\u001b[K\n",
            "remote: Total 54 (delta 16), reused 0 (delta 0), pack-reused 0\u001b[K\n",
            "Unpacking objects: 100% (54/54), done.\n",
            "/content/Raianars_Routines\n"
          ],
          "name": "stdout"
        }
      ]
    },
    {
      "cell_type": "code",
      "metadata": {
        "id": "SG2Zh9StRMih"
      },
      "source": [
        "############################### Função\n",
        "import FunctionsNew\n",
        "#'''  \n",
        "############################### Função\n",
        "dim=30 # \n",
        "fchoice='Alpine_n1'\n",
        "Fun=FunctionsNew.Alpine_n1\n",
        "MAX=np.repeat(10,dim)\n",
        "MIN=np.repeat(-10,dim)\n",
        "bounds = (-10,10)\n"
      ],
      "execution_count": 3,
      "outputs": []
    },
    {
      "cell_type": "code",
      "metadata": {
        "id": "aainD4FVhQhu"
      },
      "source": [
        "ITE=2000 #10 # PONTOS quantas vezes vai alteral NPAR \n",
        "NPAR=100 # NUMBER OF PARTICLES\n",
        "RUNS=50 #NÚMERO DE RODADAS"
      ],
      "execution_count": 4,
      "outputs": []
    },
    {
      "cell_type": "code",
      "metadata": {
        "id": "4nlypEzsd8z4"
      },
      "source": [
        "#print(bounds)"
      ],
      "execution_count": 5,
      "outputs": []
    },
    {
      "cell_type": "code",
      "metadata": {
        "colab": {
          "base_uri": "https://localhost:8080/"
        },
        "id": "s8eOhF9tgGNn",
        "outputId": "77ec5587-a78b-4031-84c9-9bf9700aba0f"
      },
      "source": [
        "!pip install PyFDE"
      ],
      "execution_count": 6,
      "outputs": [
        {
          "output_type": "stream",
          "text": [
            "Collecting PyFDE\n",
            "\u001b[?25l  Downloading https://files.pythonhosted.org/packages/72/f9/87f7279554d2682e3827d39c3d3a565b2fd42f7114a779e34a601c6c5079/PyFDE-1.3.0.tar.gz (397kB)\n",
            "\r\u001b[K     |▉                               | 10kB 14.2MB/s eta 0:00:01\r\u001b[K     |█▋                              | 20kB 20.3MB/s eta 0:00:01\r\u001b[K     |██▌                             | 30kB 17.9MB/s eta 0:00:01\r\u001b[K     |███▎                            | 40kB 15.7MB/s eta 0:00:01\r\u001b[K     |████▏                           | 51kB 8.3MB/s eta 0:00:01\r\u001b[K     |█████                           | 61kB 9.5MB/s eta 0:00:01\r\u001b[K     |█████▊                          | 71kB 8.3MB/s eta 0:00:01\r\u001b[K     |██████▋                         | 81kB 8.9MB/s eta 0:00:01\r\u001b[K     |███████▍                        | 92kB 9.8MB/s eta 0:00:01\r\u001b[K     |████████▎                       | 102kB 7.9MB/s eta 0:00:01\r\u001b[K     |█████████                       | 112kB 7.9MB/s eta 0:00:01\r\u001b[K     |██████████                      | 122kB 7.9MB/s eta 0:00:01\r\u001b[K     |██████████▊                     | 133kB 7.9MB/s eta 0:00:01\r\u001b[K     |███████████▌                    | 143kB 7.9MB/s eta 0:00:01\r\u001b[K     |████████████▍                   | 153kB 7.9MB/s eta 0:00:01\r\u001b[K     |█████████████▏                  | 163kB 7.9MB/s eta 0:00:01\r\u001b[K     |██████████████                  | 174kB 7.9MB/s eta 0:00:01\r\u001b[K     |██████████████▉                 | 184kB 7.9MB/s eta 0:00:01\r\u001b[K     |███████████████▊                | 194kB 7.9MB/s eta 0:00:01\r\u001b[K     |████████████████▌               | 204kB 7.9MB/s eta 0:00:01\r\u001b[K     |█████████████████▎              | 215kB 7.9MB/s eta 0:00:01\r\u001b[K     |██████████████████▏             | 225kB 7.9MB/s eta 0:00:01\r\u001b[K     |███████████████████             | 235kB 7.9MB/s eta 0:00:01\r\u001b[K     |███████████████████▉            | 245kB 7.9MB/s eta 0:00:01\r\u001b[K     |████████████████████▋           | 256kB 7.9MB/s eta 0:00:01\r\u001b[K     |█████████████████████▌          | 266kB 7.9MB/s eta 0:00:01\r\u001b[K     |██████████████████████▎         | 276kB 7.9MB/s eta 0:00:01\r\u001b[K     |███████████████████████         | 286kB 7.9MB/s eta 0:00:01\r\u001b[K     |████████████████████████        | 296kB 7.9MB/s eta 0:00:01\r\u001b[K     |████████████████████████▊       | 307kB 7.9MB/s eta 0:00:01\r\u001b[K     |█████████████████████████▋      | 317kB 7.9MB/s eta 0:00:01\r\u001b[K     |██████████████████████████▍     | 327kB 7.9MB/s eta 0:00:01\r\u001b[K     |███████████████████████████▎    | 337kB 7.9MB/s eta 0:00:01\r\u001b[K     |████████████████████████████    | 348kB 7.9MB/s eta 0:00:01\r\u001b[K     |████████████████████████████▉   | 358kB 7.9MB/s eta 0:00:01\r\u001b[K     |█████████████████████████████▊  | 368kB 7.9MB/s eta 0:00:01\r\u001b[K     |██████████████████████████████▌ | 378kB 7.9MB/s eta 0:00:01\r\u001b[K     |███████████████████████████████▍| 389kB 7.9MB/s eta 0:00:01\r\u001b[K     |████████████████████████████████| 399kB 7.9MB/s \n",
            "\u001b[?25hRequirement already satisfied: numpy in /usr/local/lib/python3.7/dist-packages (from PyFDE) (1.19.5)\n",
            "Building wheels for collected packages: PyFDE\n",
            "  Building wheel for PyFDE (setup.py) ... \u001b[?25l\u001b[?25hdone\n",
            "  Created wheel for PyFDE: filename=PyFDE-1.3.0-cp37-cp37m-linux_x86_64.whl size=974754 sha256=2c7030e433c79bf75bc0d44c3f7c56f4a4e08515f86c40a041d834382aa21cd3\n",
            "  Stored in directory: /root/.cache/pip/wheels/7d/42/ba/abf21db37934e576c74fc2c9504b5cd97eb6a99e3dec1743c0\n",
            "Successfully built PyFDE\n",
            "Installing collected packages: PyFDE\n",
            "Successfully installed PyFDE-1.3.0\n"
          ],
          "name": "stdout"
        }
      ]
    },
    {
      "cell_type": "code",
      "metadata": {
        "id": "RSVcPxfcgHC_"
      },
      "source": [
        "import pyfde\n",
        "solver = pyfde.JADE(Fun, n_dim= dim, n_pop=NPAR, limits=bounds, minimize=True)\n",
        "solver.p = 0.05\n",
        "solver.c = 0.1\n",
        "its = 1"
      ],
      "execution_count": 7,
      "outputs": []
    },
    {
      "cell_type": "code",
      "metadata": {
        "colab": {
          "base_uri": "https://localhost:8080/"
        },
        "id": "YhpvZOmJbKlq",
        "outputId": "fd8329a8-0289-4174-dbab-e500a46673e1"
      },
      "source": [
        "bounds"
      ],
      "execution_count": 8,
      "outputs": [
        {
          "output_type": "execute_result",
          "data": {
            "text/plain": [
              "(-10, 10)"
            ]
          },
          "metadata": {
            "tags": []
          },
          "execution_count": 8
        }
      ]
    },
    {
      "cell_type": "code",
      "metadata": {
        "id": "A1jYSGP2R70v"
      },
      "source": [
        "start_time = time.time()\n",
        "BEST_AGENTS=[]\n",
        "MAT_stat=[]"
      ],
      "execution_count": 9,
      "outputs": []
    },
    {
      "cell_type": "code",
      "metadata": {
        "colab": {
          "base_uri": "https://localhost:8080/"
        },
        "id": "M9HVQ-J2SS5w",
        "outputId": "642f47e1-229f-4261-bdb1-b9493acbf140"
      },
      "source": [
        "start_time = time.time()\n",
        "BEST_AGENTS=[]\n",
        "BEST_FIT =[]\n",
        "rows = RUNS\n",
        "cols = dim + 1\n",
        "BEST_XY = np.zeros((rows,cols))\n",
        "for iii in range(RUNS):\n",
        "  solver = pyfde.JADE(Fun, n_dim= dim, n_pop=NPAR, limits=bounds, minimize=True)\n",
        "  solver.p = 0.05\n",
        "  solver.c = 0.1\n",
        "  solver.cr, solver.f = 0.5, 0.5\n",
        "  best, fit = solver.run(n_it=ITE)\n",
        "  kkk = -1\n",
        "  for xi in best:\n",
        "    kkk = kkk +1\n",
        "    BEST_XY[iii,kkk] = xi\n",
        "  BEST_XY[iii,dim] = -fit\n",
        "  BEST_AGENTS.append(best)\n",
        "  TIME = (time.time() - start_time) /60\n",
        "  BEST_FIT.append(-fit)\n",
        "  print('ite ', iii,'time ', TIME,'fob =', -fit)\n",
        "    \n",
        "############################## Cálculo dos Parâmetros de Avaliação   \n",
        "TIME = (time.time() - start_time)/RUNS\n"
      ],
      "execution_count": 10,
      "outputs": [
        {
          "output_type": "stream",
          "text": [
            "ite  0 time  0.19216481844584146 fob = 6.017873245342962e-06\n",
            "ite  1 time  0.3798766295115153 fob = 8.523315596891793e-06\n",
            "ite  2 time  0.5644460598627726 fob = 6.383209391116653e-06\n",
            "ite  3 time  0.7501281857490539 fob = 2.8243969410065842e-06\n",
            "ite  4 time  0.9358301957448324 fob = 1.0471200843558365e-05\n",
            "ite  5 time  1.1230413953463236 fob = 2.4959425402289914e-06\n",
            "ite  6 time  1.3065016349156697 fob = 5.341067503545882e-06\n",
            "ite  7 time  1.495434828599294 fob = 5.580913409637946e-06\n",
            "ite  8 time  1.684092390537262 fob = 1.2554361401911636e-06\n",
            "ite  9 time  1.8696780363718668 fob = 6.01953432925945e-06\n",
            "ite  10 time  2.052176598707835 fob = 6.776786809978195e-06\n",
            "ite  11 time  2.2366835395495097 fob = 6.464126818797353e-06\n",
            "ite  12 time  2.423869792620341 fob = 9.129058624404166e-06\n",
            "ite  13 time  2.609636831283569 fob = 4.913472965815452e-06\n",
            "ite  14 time  2.795340728759766 fob = 3.997772094918699e-06\n",
            "ite  15 time  2.979215661684672 fob = 2.2797967258221755e-06\n",
            "ite  16 time  3.1641136606534324 fob = 5.8043036910725175e-06\n",
            "ite  17 time  3.347506388028463 fob = 3.5665264986621907e-06\n",
            "ite  18 time  3.5316808660825094 fob = 7.2829356417912204e-06\n",
            "ite  19 time  3.7172442197799684 fob = 7.783364642909351e-06\n",
            "ite  20 time  3.8997523307800295 fob = 2.4164089387280272e-06\n",
            "ite  21 time  4.085846495628357 fob = 1.1564051652921528e-05\n",
            "ite  22 time  4.272300473848978 fob = 1.3546020096567065e-05\n",
            "ite  23 time  4.458506826559702 fob = 1.3780128127924386e-05\n",
            "ite  24 time  4.646743142604828 fob = 1.1601858089298548e-05\n",
            "ite  25 time  4.832510145505269 fob = 9.942854292685933e-06\n",
            "ite  26 time  5.018917711575826 fob = 8.342847328808076e-06\n",
            "ite  27 time  5.203148591518402 fob = 2.1192963375099565e-06\n",
            "ite  28 time  5.390363677342733 fob = 1.4279548736870743e-05\n",
            "ite  29 time  5.577529331048329 fob = 5.9542552392311805e-06\n",
            "ite  30 time  5.76157792409261 fob = 8.06671122231305e-06\n",
            "ite  31 time  5.945309940973917 fob = 5.070480037788773e-06\n",
            "ite  32 time  6.13098373413086 fob = 8.228903660352239e-06\n",
            "ite  33 time  6.31676279703776 fob = 4.622038670894198e-06\n",
            "ite  34 time  6.5008164048194885 fob = 7.893229713216965e-06\n",
            "ite  35 time  6.688307789961497 fob = 7.648553920498498e-06\n",
            "ite  36 time  6.876760216554006 fob = 1.0039719715253211e-05\n",
            "ite  37 time  7.064590493837993 fob = 8.997924809597431e-06\n",
            "ite  38 time  7.250387926896413 fob = 1.1647218846315287e-06\n",
            "ite  39 time  7.437109585603078 fob = 5.468739655250623e-06\n",
            "ite  40 time  7.637190806865692 fob = 7.1922147495485686e-06\n",
            "ite  41 time  7.845847201347351 fob = 4.306798434202549e-06\n",
            "ite  42 time  8.030306617418924 fob = 5.172724786235984e-06\n",
            "ite  43 time  8.219497036933898 fob = 8.272984279852452e-06\n",
            "ite  44 time  8.409265406926473 fob = 7.659443240239287e-06\n",
            "ite  45 time  8.595749886830648 fob = 1.1235711564153889e-05\n",
            "ite  46 time  8.782353170712788 fob = 7.156428824042983e-06\n",
            "ite  47 time  8.967638071378072 fob = 9.99430933003652e-06\n",
            "ite  48 time  9.154840815067292 fob = 1.0804679794115546e-05\n",
            "ite  49 time  9.344076363245646 fob = 6.794847474795761e-06\n"
          ],
          "name": "stdout"
        }
      ]
    },
    {
      "cell_type": "code",
      "metadata": {
        "id": "u-n_6dNIfgHe"
      },
      "source": [
        "IND_XY = np.argsort(np.array(BEST_XY[:,-1]))\n",
        "BEST_XY = BEST_XY[IND_XY,:]"
      ],
      "execution_count": 11,
      "outputs": []
    },
    {
      "cell_type": "code",
      "metadata": {
        "id": "J_yG5aOopqo5"
      },
      "source": [
        "\n",
        "\n",
        "BEST=BEST_XY[0]\n",
        "WORSE=BEST_XY[-1]\n",
        "MEAN=np.mean(BEST_XY,axis=0)\n",
        "MAXFO=BEST_XY[:,-1].max()\n",
        "MINFO=BEST_XY[:,-1].min()\n",
        "STD=BEST_XY[:,-1].std()\n",
        "BEST=BEST_XY[(rows-1),(cols-1)]"
      ],
      "execution_count": 12,
      "outputs": []
    },
    {
      "cell_type": "code",
      "metadata": {
        "id": "z4mYgxbKhqj1",
        "colab": {
          "base_uri": "https://localhost:8080/"
        },
        "outputId": "f144cc9b-9a6f-4aca-9f27-ba3faadbf006"
      },
      "source": [
        "print('======== JADE ==============')\n",
        "print('NPAR=',NPAR,'Iterações=',ITE*its,'Dim=', dim,\"Min/Max=\",MIN[0],\"/\",MAX[0],'_',Fun.__name__)\n",
        "print()\n",
        "print('MÉDIA: ',MEAN[-1])\n",
        "print('MIN __:',MINFO)\n",
        "print('MAX__: ',MAXFO)\n",
        "print('STD __:',STD)\n",
        "print(\"Tempo Médio= %.3f segundos ---\" % (TIME))\n",
        "print(RUNS,'Rodadas') \n",
        "print()\n",
        "print('BEST: ',MINFO)\n",
        "print()\n",
        "print(MEAN[-1])\n",
        "print(STD)\n",
        "print(MINFO)\n",
        "\n",
        "\n",
        "# print('melhor=',BEST_AGENTS[BEST_INDEX])"
      ],
      "execution_count": 13,
      "outputs": [
        {
          "output_type": "stream",
          "text": [
            "======== JADE ==============\n",
            "NPAR= 100 Iterações= 2000 Dim= 30 Min/Max= -10 / 10 _ Alpine_n1\n",
            "\n",
            "MÉDIA:  7.044989381250331e-06\n",
            "MIN __: 1.1647218846315287e-06\n",
            "MAX__:  1.4279548736870743e-05\n",
            "STD __: 3.173972296237457e-06\n",
            "Tempo Médio= 11.213 segundos ---\n",
            "50 Rodadas\n",
            "\n",
            "BEST:  1.1647218846315287e-06\n",
            "\n",
            "7.044989381250331e-06\n",
            "3.173972296237457e-06\n",
            "1.1647218846315287e-06\n"
          ],
          "name": "stdout"
        }
      ]
    }
  ]
}
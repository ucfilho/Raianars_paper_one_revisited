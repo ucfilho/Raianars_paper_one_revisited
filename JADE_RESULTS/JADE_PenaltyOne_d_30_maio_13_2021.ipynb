{
  "nbformat": 4,
  "nbformat_minor": 0,
  "metadata": {
    "colab": {
      "name": "JADE_PenaltyOne_d_30_maio_13_2021.ipynb",
      "provenance": [],
      "collapsed_sections": [],
      "authorship_tag": "ABX9TyMmnAoE+4/QNZQJ+YqqBrW/",
      "include_colab_link": true
    },
    "kernelspec": {
      "display_name": "Python 3",
      "name": "python3"
    }
  },
  "cells": [
    {
      "cell_type": "markdown",
      "metadata": {
        "id": "view-in-github",
        "colab_type": "text"
      },
      "source": [
        "<a href=\"https://colab.research.google.com/github/ucfilho/Raianars_paper_one_revisited/blob/main/JADE_RESULTS/JADE_PenaltyOne_d_30_maio_13_2021.ipynb\" target=\"_parent\"><img src=\"https://colab.research.google.com/assets/colab-badge.svg\" alt=\"Open In Colab\"/></a>"
      ]
    },
    {
      "cell_type": "code",
      "metadata": {
        "id": "Es8PhSUedYDe"
      },
      "source": [
        "import numpy as np\n",
        "import time"
      ],
      "execution_count": 14,
      "outputs": []
    },
    {
      "cell_type": "code",
      "metadata": {
        "colab": {
          "base_uri": "https://localhost:8080/"
        },
        "id": "WPP0AwDbdk4p",
        "outputId": "7fcbd09b-41dc-4ece-b075-8c89b0a53d77"
      },
      "source": [
        "!git clone https://github.com/ucfilho/Raianars_Routines\n",
        "%cd Raianars_Routines"
      ],
      "execution_count": 15,
      "outputs": [
        {
          "output_type": "stream",
          "text": [
            "Cloning into 'Raianars_Routines'...\n",
            "remote: Enumerating objects: 54, done.\u001b[K\n",
            "remote: Counting objects: 100% (54/54), done.\u001b[K\n",
            "remote: Compressing objects: 100% (52/52), done.\u001b[K\n",
            "remote: Total 54 (delta 16), reused 0 (delta 0), pack-reused 0\u001b[K\n",
            "Unpacking objects: 100% (54/54), done.\n",
            "/content/Raianars_Routines/Raianars_Routines\n"
          ],
          "name": "stdout"
        }
      ]
    },
    {
      "cell_type": "code",
      "metadata": {
        "id": "SG2Zh9StRMih"
      },
      "source": [
        "############################### Função\n",
        "import FunctionsNew\n",
        "#'''  \n",
        "############################### Função\n",
        "dim=30 # \n",
        "fchoice='PenaltyOne'\n",
        "Fun=FunctionsNew.PenaltyOne\n",
        "MAX=np.repeat(50,dim)\n",
        "MIN=np.repeat(-50,dim)\n",
        "bounds = (-50,50)\n"
      ],
      "execution_count": 16,
      "outputs": []
    },
    {
      "cell_type": "code",
      "metadata": {
        "id": "aainD4FVhQhu"
      },
      "source": [
        "ITE=2000 #10 # PONTOS quantas vezes vai alteral NPAR \n",
        "NPAR=100 # NUMBER OF PARTICLES\n",
        "RUNS=50 #NÚMERO DE RODADAS"
      ],
      "execution_count": 17,
      "outputs": []
    },
    {
      "cell_type": "code",
      "metadata": {
        "id": "4nlypEzsd8z4"
      },
      "source": [
        "#print(bounds)"
      ],
      "execution_count": 18,
      "outputs": []
    },
    {
      "cell_type": "code",
      "metadata": {
        "colab": {
          "base_uri": "https://localhost:8080/"
        },
        "id": "s8eOhF9tgGNn",
        "outputId": "e34ed407-5158-4fbe-f773-dafbcc01f153"
      },
      "source": [
        "!pip install PyFDE"
      ],
      "execution_count": 19,
      "outputs": [
        {
          "output_type": "stream",
          "text": [
            "Requirement already satisfied: PyFDE in /usr/local/lib/python3.7/dist-packages (1.3.0)\n",
            "Requirement already satisfied: numpy in /usr/local/lib/python3.7/dist-packages (from PyFDE) (1.19.5)\n"
          ],
          "name": "stdout"
        }
      ]
    },
    {
      "cell_type": "code",
      "metadata": {
        "id": "RSVcPxfcgHC_"
      },
      "source": [
        "import pyfde\n",
        "solver = pyfde.JADE(Fun, n_dim= dim, n_pop=NPAR, limits=bounds, minimize=True)\n",
        "solver.p = 0.05\n",
        "solver.c = 0.1\n",
        "its = 1"
      ],
      "execution_count": 20,
      "outputs": []
    },
    {
      "cell_type": "code",
      "metadata": {
        "colab": {
          "base_uri": "https://localhost:8080/"
        },
        "id": "YhpvZOmJbKlq",
        "outputId": "fd3eb8d6-86d0-4261-c2eb-198286532b0a"
      },
      "source": [
        "bounds"
      ],
      "execution_count": 21,
      "outputs": [
        {
          "output_type": "execute_result",
          "data": {
            "text/plain": [
              "(-50, 50)"
            ]
          },
          "metadata": {
            "tags": []
          },
          "execution_count": 21
        }
      ]
    },
    {
      "cell_type": "code",
      "metadata": {
        "id": "A1jYSGP2R70v"
      },
      "source": [
        "start_time = time.time()\n",
        "BEST_AGENTS=[]\n",
        "MAT_stat=[]"
      ],
      "execution_count": 22,
      "outputs": []
    },
    {
      "cell_type": "code",
      "metadata": {
        "id": "M9HVQ-J2SS5w",
        "colab": {
          "base_uri": "https://localhost:8080/"
        },
        "outputId": "300b1bcd-9ebc-4a5b-eedc-69f6bfc3a920"
      },
      "source": [
        "start_time = time.time()\n",
        "BEST_AGENTS=[]\n",
        "BEST_FIT =[]\n",
        "rows = RUNS\n",
        "cols = dim + 1\n",
        "BEST_XY = np.zeros((rows,cols))\n",
        "for iii in range(RUNS):\n",
        "  solver = pyfde.JADE(Fun, n_dim= dim, n_pop=NPAR, limits=bounds, minimize=True)\n",
        "  solver.p = 0.05\n",
        "  solver.c = 0.1\n",
        "  solver.cr, solver.f = 0.5, 0.5\n",
        "  best, fit = solver.run(n_it=ITE)\n",
        "  kkk = -1\n",
        "  for xi in best:\n",
        "    kkk = kkk +1\n",
        "    BEST_XY[iii,kkk] = xi\n",
        "  BEST_XY[iii,dim] = -fit\n",
        "  BEST_AGENTS.append(best)\n",
        "  TIME = (time.time() - start_time) /60\n",
        "  BEST_FIT.append(-fit)\n",
        "  print('ite ', iii,'time ', TIME,'fob =', -fit)\n",
        "    \n",
        "############################## Cálculo dos Parâmetros de Avaliação   \n",
        "TIME = (time.time() - start_time)/RUNS\n"
      ],
      "execution_count": 23,
      "outputs": [
        {
          "output_type": "stream",
          "text": [
            "ite  0 time  0.40803556044896444 fob = 1.570544771786639e-32\n",
            "ite  1 time  0.8046905716260274 fob = 1.570544771786639e-32\n",
            "ite  2 time  1.1937223156293233 fob = 1.570544771786639e-32\n",
            "ite  3 time  1.5803427577018738 fob = 1.570544771786639e-32\n",
            "ite  4 time  1.9662631114323934 fob = 1.570544771786639e-32\n",
            "ite  5 time  2.343344791730245 fob = 1.570544771786639e-32\n",
            "ite  6 time  2.7246764143308004 fob = 1.570544771786639e-32\n",
            "ite  7 time  3.110727854569753 fob = 1.570544771786639e-32\n",
            "ite  8 time  3.4891101479530335 fob = 1.570544771786639e-32\n",
            "ite  9 time  3.864112889766693 fob = 1.570544771786639e-32\n",
            "ite  10 time  4.242159819602966 fob = 1.570544771786639e-32\n",
            "ite  11 time  4.609712874889373 fob = 1.570544771786639e-32\n",
            "ite  12 time  4.9807665824890135 fob = 1.570544771786639e-32\n",
            "ite  13 time  5.359274144967397 fob = 1.570544771786639e-32\n",
            "ite  14 time  5.7545452356338505 fob = 1.570544771786639e-32\n",
            "ite  15 time  6.147404781977335 fob = 1.570544771786639e-32\n",
            "ite  16 time  6.532736202081044 fob = 1.570544771786639e-32\n",
            "ite  17 time  6.927808264891307 fob = 1.570544771786639e-32\n",
            "ite  18 time  7.304889893531799 fob = 1.570544771786639e-32\n",
            "ite  19 time  7.678533275922139 fob = 1.570544771786639e-32\n",
            "ite  20 time  8.054168887933095 fob = 1.570544771786639e-32\n",
            "ite  21 time  8.43008743127187 fob = 1.570544771786639e-32\n",
            "ite  22 time  8.804801881313324 fob = 1.570544771786639e-32\n",
            "ite  23 time  9.193279969692231 fob = 1.570544771786639e-32\n",
            "ite  24 time  9.572705161571502 fob = 1.570544771786639e-32\n",
            "ite  25 time  9.962593738238017 fob = 1.570544771786639e-32\n",
            "ite  26 time  10.349182307720184 fob = 1.570544771786639e-32\n",
            "ite  27 time  10.73816686073939 fob = 1.570544771786639e-32\n",
            "ite  28 time  11.127965935071309 fob = 1.570544771786639e-32\n",
            "ite  29 time  11.515917030970256 fob = 1.570544771786639e-32\n",
            "ite  30 time  11.901478894551595 fob = 1.570544771786639e-32\n",
            "ite  31 time  12.285690069198608 fob = 1.570544771786639e-32\n",
            "ite  32 time  12.671350924173991 fob = 1.570544771786639e-32\n",
            "ite  33 time  13.04637488524119 fob = 1.570544771786639e-32\n",
            "ite  34 time  13.42296814918518 fob = 1.570544771786639e-32\n",
            "ite  35 time  13.803329547246298 fob = 1.570544771786639e-32\n",
            "ite  36 time  14.18337736527125 fob = 1.570544771786639e-32\n",
            "ite  37 time  14.564114590485891 fob = 1.570544771786639e-32\n",
            "ite  38 time  14.946459126472472 fob = 1.570544771786639e-32\n",
            "ite  39 time  15.327993273735046 fob = 1.570544771786639e-32\n",
            "ite  40 time  15.70737138191859 fob = 1.570544771786639e-32\n",
            "ite  41 time  16.08667286634445 fob = 1.570544771786639e-32\n",
            "ite  42 time  16.46785481373469 fob = 1.570544771786639e-32\n",
            "ite  43 time  16.851315216223398 fob = 1.570544771786639e-32\n",
            "ite  44 time  17.232531627019245 fob = 1.570544771786639e-32\n",
            "ite  45 time  17.620934295654298 fob = 1.570544771786639e-32\n",
            "ite  46 time  18.006146415074667 fob = 1.570544771786639e-32\n",
            "ite  47 time  18.387735871473947 fob = 1.570544771786639e-32\n",
            "ite  48 time  18.7683721502622 fob = 1.570544771786639e-32\n",
            "ite  49 time  19.148922375837962 fob = 1.570544771786639e-32\n"
          ],
          "name": "stdout"
        }
      ]
    },
    {
      "cell_type": "code",
      "metadata": {
        "id": "u-n_6dNIfgHe"
      },
      "source": [
        "IND_XY = np.argsort(np.array(BEST_XY[:,-1]))\n",
        "BEST_XY = BEST_XY[IND_XY,:]"
      ],
      "execution_count": 24,
      "outputs": []
    },
    {
      "cell_type": "code",
      "metadata": {
        "id": "J_yG5aOopqo5"
      },
      "source": [
        "\n",
        "\n",
        "BEST=BEST_XY[0]\n",
        "WORSE=BEST_XY[-1]\n",
        "MEAN=np.mean(BEST_XY,axis=0)\n",
        "MAXFO=BEST_XY[:,-1].max()\n",
        "MINFO=BEST_XY[:,-1].min()\n",
        "STD=BEST_XY[:,-1].std()\n",
        "BEST=BEST_XY[(rows-1),(cols-1)]"
      ],
      "execution_count": 25,
      "outputs": []
    },
    {
      "cell_type": "code",
      "metadata": {
        "id": "z4mYgxbKhqj1",
        "colab": {
          "base_uri": "https://localhost:8080/"
        },
        "outputId": "77c562e8-2afa-4603-eb48-214e44c26ad6"
      },
      "source": [
        "print('======== JADE ==============')\n",
        "print('NPAR=',NPAR,'Iterações=',ITE*its,'Dim=', dim,\"Min/Max=\",MIN[0],\"/\",MAX[0],'_',Fun.__name__)\n",
        "print()\n",
        "print('MÉDIA: ',MEAN[-1])\n",
        "print('MIN __:',MINFO)\n",
        "print('MAX__: ',MAXFO)\n",
        "print('STD __:',STD)\n",
        "print(\"Tempo Médio= %.3f segundos ---\" % (TIME))\n",
        "print(RUNS,'Rodadas') \n",
        "print()\n",
        "print('BEST: ',MINFO)\n",
        "print()\n",
        "print(MEAN[-1])\n",
        "print(STD)\n",
        "print(MINFO)\n",
        "\n",
        "\n",
        "# print('melhor=',BEST_AGENTS[BEST_INDEX])"
      ],
      "execution_count": 26,
      "outputs": [
        {
          "output_type": "stream",
          "text": [
            "======== JADE ==============\n",
            "NPAR= 100 Iterações= 2000 Dim= 30 Min/Max= -50 / 50 _ PenaltyOne\n",
            "\n",
            "MÉDIA:  1.5705447717866383e-32\n",
            "MIN __: 1.570544771786639e-32\n",
            "MAX__:  1.570544771786639e-32\n",
            "STD __: 0.0\n",
            "Tempo Médio= 22.979 segundos ---\n",
            "50 Rodadas\n",
            "\n",
            "BEST:  1.570544771786639e-32\n",
            "\n",
            "1.5705447717866383e-32\n",
            "0.0\n",
            "1.570544771786639e-32\n"
          ],
          "name": "stdout"
        }
      ]
    }
  ]
}
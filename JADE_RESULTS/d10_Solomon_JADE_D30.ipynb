{
  "nbformat": 4,
  "nbformat_minor": 0,
  "metadata": {
    "colab": {
      "name": "d10_Solomon_JADE_D30.ipynb",
      "provenance": [],
      "collapsed_sections": [],
      "include_colab_link": true
    },
    "kernelspec": {
      "display_name": "Python 3",
      "name": "python3"
    },
    "language_info": {
      "codemirror_mode": {
        "name": "ipython",
        "version": 3
      },
      "file_extension": ".py",
      "mimetype": "text/x-python",
      "name": "python",
      "nbconvert_exporter": "python",
      "pygments_lexer": "ipython3",
      "version": "3.7.3"
    }
  },
  "cells": [
    {
      "cell_type": "markdown",
      "metadata": {
        "id": "view-in-github",
        "colab_type": "text"
      },
      "source": [
        "<a href=\"https://colab.research.google.com/github/ucfilho/Raianars_paper_one_revisited/blob/main/JADE_RESULTS/d10_Solomon_JADE_D30.ipynb\" target=\"_parent\"><img src=\"https://colab.research.google.com/assets/colab-badge.svg\" alt=\"Open In Colab\"/></a>"
      ]
    },
    {
      "cell_type": "code",
      "metadata": {
        "colab": {
          "base_uri": "https://localhost:8080/"
        },
        "id": "IviJOU5POtN8",
        "outputId": "d92dda0c-9842-47dc-8565-dcb2e176bca6"
      },
      "source": [
        "############################### Importar códigos\n",
        "!git clone https://github.com/ucfilho/optim_raianars_Insight\n",
        "%cd optim_raianars_Insight"
      ],
      "execution_count": 1,
      "outputs": [
        {
          "output_type": "stream",
          "text": [
            "fatal: destination path 'optim_raianars_Insight' already exists and is not an empty directory.\n",
            "/content/optim_raianars_Insight\n"
          ],
          "name": "stdout"
        }
      ]
    },
    {
      "cell_type": "code",
      "metadata": {
        "id": "_E15mKFURR6O"
      },
      "source": [
        "import Function\n",
        "import Go2MinMax\n",
        "import numpy as np\n",
        "import time\n",
        "import matplotlib.pyplot as plt\n",
        "from random import randint\n",
        "import pandas as pd"
      ],
      "execution_count": 2,
      "outputs": []
    },
    {
      "cell_type": "code",
      "metadata": {
        "colab": {
          "base_uri": "https://localhost:8080/"
        },
        "id": "o0jWIItGErMg",
        "outputId": "e1d28398-5c2c-48d2-d6fe-6ab28631b4de"
      },
      "source": [
        "!git clone https://github.com/ucfilho/Raianars_Routines #clonar do Github\n",
        "%cd Raianars_Routines"
      ],
      "execution_count": 3,
      "outputs": [
        {
          "output_type": "stream",
          "text": [
            "fatal: destination path 'Raianars_Routines' already exists and is not an empty directory.\n",
            "/content/optim_raianars_Insight/Raianars_Routines\n"
          ],
          "name": "stdout"
        }
      ]
    },
    {
      "cell_type": "code",
      "metadata": {
        "colab": {
          "base_uri": "https://localhost:8080/"
        },
        "id": "b4IBcelTB4qr",
        "outputId": "65ea7aed-f539-44da-d7a3-ecff7748c6e7"
      },
      "source": [
        "\n",
        "!git clone https://github.com/ucfilho/Raianars_Routines #clonar do Github\n",
        "%cd Raianars_Routines\n",
        "\n",
        "############################### Função\n",
        "import FunctionsNew\n",
        "#'''  \n",
        "############################### Função\n",
        "dim=10 # \n",
        "fchoice='Salomon'\n",
        "Fun=FunctionsNew.Salomon\n",
        "MAX=np.repeat(100,dim)\n",
        "MIN=np.repeat(-100,dim)\n",
        "\n",
        "bounds=[]\n",
        "for k in range(len(MAX)):\n",
        "  bounds.append((MIN[k],MAX[k]))\n",
        "\n",
        "############################### DADOS DE ENTRADA \n",
        "RUNS=50 #NÚMERO DE RODADAS\n",
        "Fc=0.1 # fator de correcao parametros da ANN\n",
        "its=1 #10 # quantas vezes vai usar o NPAR antes de alterar de novo\n",
        "ITE=2000 #00 #10 # PONTOS quantas vezes vai alteral NPAR \n",
        "NPAR=100"
      ],
      "execution_count": 4,
      "outputs": [
        {
          "output_type": "stream",
          "text": [
            "Cloning into 'Raianars_Routines'...\n",
            "remote: Enumerating objects: 54, done.\u001b[K\n",
            "remote: Counting objects: 100% (54/54), done.\u001b[K\n",
            "remote: Compressing objects: 100% (52/52), done.\u001b[K\n",
            "remote: Total 54 (delta 16), reused 0 (delta 0), pack-reused 0\u001b[K\n",
            "Unpacking objects: 100% (54/54), done.\n",
            "/content/optim_raianars_Insight/Raianars_Routines/Raianars_Routines\n"
          ],
          "name": "stdout"
        }
      ]
    },
    {
      "cell_type": "code",
      "metadata": {
        "colab": {
          "base_uri": "https://localhost:8080/"
        },
        "id": "lAVDJIRmNQUC",
        "outputId": "6b75322f-bb0a-40d2-d0e5-a7c77a0a8098"
      },
      "source": [
        "!pip install PyFDE"
      ],
      "execution_count": 5,
      "outputs": [
        {
          "output_type": "stream",
          "text": [
            "Requirement already satisfied: PyFDE in /usr/local/lib/python3.7/dist-packages (1.3.0)\n",
            "Requirement already satisfied: numpy in /usr/local/lib/python3.7/dist-packages (from PyFDE) (1.19.5)\n"
          ],
          "name": "stdout"
        }
      ]
    },
    {
      "cell_type": "code",
      "metadata": {
        "id": "E7DrzRqmM2j8"
      },
      "source": [
        "import pyfde\n",
        "solver = pyfde.JADE(Fun, n_dim= dim, n_pop=NPAR, limits=bounds, minimize=True)\n",
        "solver.p = 0.05\n",
        "solver.c = 0.1"
      ],
      "execution_count": 6,
      "outputs": []
    },
    {
      "cell_type": "code",
      "metadata": {
        "id": "NnOvinHvNl_p"
      },
      "source": [
        "start_time = time.time()\n",
        "BEST_AGENTS=[]\n",
        "MAT_stat=[]"
      ],
      "execution_count": 7,
      "outputs": []
    },
    {
      "cell_type": "code",
      "metadata": {
        "id": "3-uCNVsZNnqa",
        "colab": {
          "base_uri": "https://localhost:8080/"
        },
        "outputId": "aeb4982c-46d1-4009-dc21-44cc47a62f7a"
      },
      "source": [
        "start_time = time.time()\n",
        "BEST_AGENTS=[]\n",
        "BEST_FIT =[]\n",
        "rows = RUNS\n",
        "cols = dim + 1\n",
        "BEST_XY = np.zeros((rows,cols))\n",
        "for iii in range(RUNS):\n",
        "  solver = pyfde.JADE(Fun, n_dim= dim, n_pop=NPAR, limits=bounds, minimize=True)\n",
        "  solver.p = 0.05\n",
        "  solver.c = 0.1\n",
        "  solver.cr, solver.f = 0.5, 0.5\n",
        "  best, fit = solver.run(n_it=ITE)\n",
        "  kkk = -1\n",
        "  for xi in best:\n",
        "    kkk = kkk +1\n",
        "    BEST_XY[iii,kkk] = xi\n",
        "  BEST_XY[iii,dim] = -fit\n",
        "  BEST_AGENTS.append(best)\n",
        "  TIME = (time.time() - start_time) /60\n",
        "  BEST_FIT.append(-fit)\n",
        "  print('ite ', iii,'time ', TIME,'fob =', -fit)\n",
        "    \n",
        "############################## Cálculo dos Parâmetros de Avaliação   \n",
        "JADE_TIME = (time.time() - start_time)/RUNS"
      ],
      "execution_count": 8,
      "outputs": [
        {
          "output_type": "stream",
          "text": [
            "ite  0 time  0.026577301820119224 fob = 0.099873345846823\n",
            "ite  1 time  0.05368124643961589 fob = 0.0998733458480723\n",
            "ite  2 time  0.07989901304244995 fob = 0.0998733458468198\n",
            "ite  3 time  0.10597082376480102 fob = 0.0998733458468239\n",
            "ite  4 time  0.13238530953725178 fob = 0.09987334584691598\n",
            "ite  5 time  0.15873374938964843 fob = 0.09987334584715729\n",
            "ite  6 time  0.18517630100250243 fob = 0.09987334584681107\n",
            "ite  7 time  0.21210368076960245 fob = 0.09987334592141014\n",
            "ite  8 time  0.23908790349960327 fob = 0.09987334584681107\n",
            "ite  9 time  0.26550281842549645 fob = 0.0998733458478615\n",
            "ite  10 time  0.2922821521759033 fob = 0.09987334584686777\n",
            "ite  11 time  0.3184309482574463 fob = 0.09987334584683251\n",
            "ite  12 time  0.3444177428881327 fob = 0.09987334584681122\n",
            "ite  13 time  0.3706660191218058 fob = 0.09987334584681101\n",
            "ite  14 time  0.39654109477996824 fob = 0.09987334584685106\n",
            "ite  15 time  0.4242815176645915 fob = 0.09987334584685553\n",
            "ite  16 time  0.4505265712738037 fob = 0.09987334584692988\n",
            "ite  17 time  0.47718053658803306 fob = 0.09987334584682706\n",
            "ite  18 time  0.5036508560180664 fob = 0.09987334584683545\n",
            "ite  19 time  0.5301882108052571 fob = 0.09987334584681182\n",
            "ite  20 time  0.5568856875101725 fob = 0.0998733458468189\n",
            "ite  21 time  0.5830439289410909 fob = 0.09987334584681104\n",
            "ite  22 time  0.6092515190442404 fob = 0.09987334584725158\n",
            "ite  23 time  0.6357106924057007 fob = 0.09987334584681129\n",
            "ite  24 time  0.6617551366488139 fob = 0.09987334584681164\n",
            "ite  25 time  0.68780064980189 fob = 0.09987334584923643\n",
            "ite  26 time  0.713810936609904 fob = 0.09987334584692242\n",
            "ite  27 time  0.740016492207845 fob = 0.0998733458468173\n",
            "ite  28 time  0.7658017237981161 fob = 0.09987334584681198\n",
            "ite  29 time  0.792578919728597 fob = 0.0998733458468121\n",
            "ite  30 time  0.8186907609303792 fob = 0.09987334584681808\n",
            "ite  31 time  0.8448367476463318 fob = 0.09987334584684748\n",
            "ite  32 time  0.8713702201843262 fob = 0.09987334584770988\n",
            "ite  33 time  0.8976601719856262 fob = 0.09987334584779384\n",
            "ite  34 time  0.92406325340271 fob = 0.09987334584759186\n",
            "ite  35 time  0.95015021165212 fob = 0.09987334584685376\n",
            "ite  36 time  0.9764622886975606 fob = 0.09987334584681146\n",
            "ite  37 time  1.0026382565498353 fob = 0.09987334584682396\n",
            "ite  38 time  1.02909996509552 fob = 0.09987334584681232\n",
            "ite  39 time  1.0552582383155822 fob = 0.09987334584702913\n",
            "ite  40 time  1.0819052616755167 fob = 0.09987334584685688\n",
            "ite  41 time  1.1082972129185995 fob = 0.09987334584681107\n",
            "ite  42 time  1.1345195690790812 fob = 0.09987334584681135\n",
            "ite  43 time  1.160971760749817 fob = 0.09987334584681247\n",
            "ite  44 time  1.1869517723719278 fob = 0.09987334584682778\n",
            "ite  45 time  1.2133841594060262 fob = 0.09987334584681178\n",
            "ite  46 time  1.2397482434908549 fob = 0.09987334584681108\n",
            "ite  47 time  1.266068152586619 fob = 0.09987334584681352\n",
            "ite  48 time  1.2923946261405945 fob = 0.09987334584690338\n",
            "ite  49 time  1.3190410772959391 fob = 0.09987334584777405\n"
          ],
          "name": "stdout"
        }
      ]
    },
    {
      "cell_type": "code",
      "metadata": {
        "id": "vxovHXZqNuYh"
      },
      "source": [
        "IND_XY = np.argsort(np.array(BEST_XY[:,-1]))\n",
        "BEST_XY = BEST_XY[IND_XY,:]"
      ],
      "execution_count": 9,
      "outputs": []
    },
    {
      "cell_type": "code",
      "metadata": {
        "id": "iNdcjVsFN15n"
      },
      "source": [
        "JADE_BEST=BEST_XY[0]\n",
        "JADE_WORSE=BEST_XY[-1]\n",
        "JADE_MEAN=np.mean(BEST_XY,axis=0)\n",
        "JADE_MAXFO=BEST_XY[:,-1].max()\n",
        "JADE_MINFO=BEST_XY[:,-1].min()\n",
        "JADE_STD=BEST_XY[:,-1].std()\n",
        "JADE_BEST=BEST_XY[(rows-1),(cols-1)]"
      ],
      "execution_count": 10,
      "outputs": []
    },
    {
      "cell_type": "code",
      "metadata": {
        "id": "lNSN5X-wskcx",
        "colab": {
          "base_uri": "https://localhost:8080/"
        },
        "outputId": "e1358d71-d27b-4259-c807-b77b4e3b6267"
      },
      "source": [
        "print('======== JADE ==============')\n",
        "print('NPAR=',NPAR,'Iterações=',ITE*its,'Dim=', dim,\"Min/Max=\",MIN[0],\"/\",MAX[0],'_',Fun.__name__)\n",
        "print()\n",
        "print('MÉDIA: ',JADE_MEAN[-1])\n",
        "print('MIN __:',JADE_MINFO)\n",
        "print('MAX__: ',JADE_MAXFO)\n",
        "print('STD __:',JADE_STD)\n",
        "print(\"Tempo Médio= %.3f segundos ---\" % (JADE_TIME))\n",
        "print(RUNS,'Rodadas') \n",
        "print()\n",
        "print('BEST: ',JADE_MINFO)\n",
        "\n",
        "print(JADE_MEAN[-1])\n",
        "print(JADE_STD)\n",
        "print(JADE_MINFO)\n"
      ],
      "execution_count": 11,
      "outputs": [
        {
          "output_type": "stream",
          "text": [
            "======== JADE ==============\n",
            "NPAR= 100 Iterações= 2000 Dim= 10 Min/Max= -100 / 100 _ Salomon\n",
            "\n",
            "MÉDIA:  0.09987334584850739\n",
            "MIN __: 0.09987334584681101\n",
            "MAX__:  0.09987334592141014\n",
            "STD __: 1.0424449209659283e-11\n",
            "Tempo Médio= 1.583 segundos ---\n",
            "50 Rodadas\n",
            "\n",
            "BEST:  0.09987334584681101\n",
            "0.09987334584850739\n",
            "1.0424449209659283e-11\n",
            "0.09987334584681101\n"
          ],
          "name": "stdout"
        }
      ]
    }
  ]
}
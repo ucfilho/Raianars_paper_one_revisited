{
  "nbformat": 4,
  "nbformat_minor": 0,
  "metadata": {
    "colab": {
      "name": "JADE_sum_squares_function_d_30_maio_13_2021.ipynb",
      "provenance": [],
      "collapsed_sections": [],
      "authorship_tag": "ABX9TyMtqkYlvb38JISkt64trFHF",
      "include_colab_link": true
    },
    "kernelspec": {
      "display_name": "Python 3",
      "name": "python3"
    }
  },
  "cells": [
    {
      "cell_type": "markdown",
      "metadata": {
        "id": "view-in-github",
        "colab_type": "text"
      },
      "source": [
        "<a href=\"https://colab.research.google.com/github/ucfilho/Raianars_paper_one_revisited/blob/main/JADE_RESULTS/JADE_sum_squares_function_d_30_maio_13_2021.ipynb\" target=\"_parent\"><img src=\"https://colab.research.google.com/assets/colab-badge.svg\" alt=\"Open In Colab\"/></a>"
      ]
    },
    {
      "cell_type": "code",
      "metadata": {
        "id": "Es8PhSUedYDe"
      },
      "source": [
        "import numpy as np\n",
        "import time"
      ],
      "execution_count": 27,
      "outputs": []
    },
    {
      "cell_type": "code",
      "metadata": {
        "colab": {
          "base_uri": "https://localhost:8080/"
        },
        "id": "WPP0AwDbdk4p",
        "outputId": "69466056-0d94-4ab8-f8c5-fadddf2f939e"
      },
      "source": [
        "!git clone https://github.com/ucfilho/Raianars_Routines\n",
        "%cd Raianars_Routines"
      ],
      "execution_count": 28,
      "outputs": [
        {
          "output_type": "stream",
          "text": [
            "Cloning into 'Raianars_Routines'...\n",
            "remote: Enumerating objects: 54, done.\u001b[K\n",
            "remote: Counting objects: 100% (54/54), done.\u001b[K\n",
            "remote: Compressing objects: 100% (52/52), done.\u001b[K\n",
            "remote: Total 54 (delta 16), reused 0 (delta 0), pack-reused 0\u001b[K\n",
            "Unpacking objects: 100% (54/54), done.\n",
            "/content/Raianars_Routines/Raianars_Routines/Raianars_Routines\n"
          ],
          "name": "stdout"
        }
      ]
    },
    {
      "cell_type": "code",
      "metadata": {
        "id": "SG2Zh9StRMih"
      },
      "source": [
        "############################### Função\n",
        "import FunctionsNew\n",
        "#'''  \n",
        "############################### Função\n",
        "dim=30 # \n",
        "fchoice='sum_squares_function'\n",
        "Fun=FunctionsNew.sum_squares_function\n",
        "MAX=np.repeat(10,dim)\n",
        "MIN=np.repeat(-10,dim)\n",
        "bounds = (-10,10)"
      ],
      "execution_count": 29,
      "outputs": []
    },
    {
      "cell_type": "code",
      "metadata": {
        "id": "aainD4FVhQhu"
      },
      "source": [
        "ITE=2000 #10 # PONTOS quantas vezes vai alteral NPAR \n",
        "NPAR=100 # NUMBER OF PARTICLES\n",
        "RUNS=50 #NÚMERO DE RODADAS"
      ],
      "execution_count": 30,
      "outputs": []
    },
    {
      "cell_type": "code",
      "metadata": {
        "id": "4nlypEzsd8z4"
      },
      "source": [
        "#print(bounds)"
      ],
      "execution_count": 31,
      "outputs": []
    },
    {
      "cell_type": "code",
      "metadata": {
        "colab": {
          "base_uri": "https://localhost:8080/"
        },
        "id": "s8eOhF9tgGNn",
        "outputId": "6f36a34f-74e0-4300-e4c8-35255c46edf7"
      },
      "source": [
        "!pip install PyFDE"
      ],
      "execution_count": 32,
      "outputs": [
        {
          "output_type": "stream",
          "text": [
            "Requirement already satisfied: PyFDE in /usr/local/lib/python3.7/dist-packages (1.3.0)\n",
            "Requirement already satisfied: numpy in /usr/local/lib/python3.7/dist-packages (from PyFDE) (1.19.5)\n"
          ],
          "name": "stdout"
        }
      ]
    },
    {
      "cell_type": "code",
      "metadata": {
        "id": "RSVcPxfcgHC_"
      },
      "source": [
        "import pyfde\n",
        "solver = pyfde.JADE(Fun, n_dim= dim, n_pop=NPAR, limits=bounds, minimize=True)\n",
        "solver.p = 0.05\n",
        "solver.c = 0.1\n",
        "its = 1"
      ],
      "execution_count": 33,
      "outputs": []
    },
    {
      "cell_type": "code",
      "metadata": {
        "colab": {
          "base_uri": "https://localhost:8080/"
        },
        "id": "YhpvZOmJbKlq",
        "outputId": "a385efe2-c69f-4646-c2ce-9dc349b11406"
      },
      "source": [
        "bounds"
      ],
      "execution_count": 34,
      "outputs": [
        {
          "output_type": "execute_result",
          "data": {
            "text/plain": [
              "(-10, 10)"
            ]
          },
          "metadata": {
            "tags": []
          },
          "execution_count": 34
        }
      ]
    },
    {
      "cell_type": "code",
      "metadata": {
        "id": "A1jYSGP2R70v"
      },
      "source": [
        "start_time = time.time()\n",
        "BEST_AGENTS=[]\n",
        "MAT_stat=[]"
      ],
      "execution_count": 35,
      "outputs": []
    },
    {
      "cell_type": "code",
      "metadata": {
        "colab": {
          "base_uri": "https://localhost:8080/"
        },
        "id": "M9HVQ-J2SS5w",
        "outputId": "41163e45-d0e5-4085-df74-5a474fbf4fa3"
      },
      "source": [
        "start_time = time.time()\n",
        "BEST_AGENTS=[]\n",
        "BEST_FIT =[]\n",
        "rows = RUNS\n",
        "cols = dim + 1\n",
        "BEST_XY = np.zeros((rows,cols))\n",
        "for iii in range(RUNS):\n",
        "  solver = pyfde.JADE(Fun, n_dim= dim, n_pop=NPAR, limits=bounds, minimize=True)\n",
        "  solver.p = 0.05\n",
        "  solver.c = 0.1\n",
        "  solver.cr, solver.f = 0.5, 0.5\n",
        "  best, fit = solver.run(n_it=ITE)\n",
        "  kkk = -1\n",
        "  for xi in best:\n",
        "    kkk = kkk +1\n",
        "    BEST_XY[iii,kkk] = xi\n",
        "  BEST_XY[iii,dim] = -fit\n",
        "  BEST_AGENTS.append(best)\n",
        "  TIME = (time.time() - start_time) /60\n",
        "  BEST_FIT.append(-fit)\n",
        "  print('ite ', iii,'time ', TIME,'fob =', -fit)\n",
        "    \n",
        "############################## Cálculo dos Parâmetros de Avaliação   \n",
        "TIME = (time.time() - start_time)/RUNS\n"
      ],
      "execution_count": 36,
      "outputs": [
        {
          "output_type": "stream",
          "text": [
            "ite  0 time  0.04265918731689453 fob = 1.2393740702225067e-88\n",
            "ite  1 time  0.0854567527770996 fob = 2.2427893716879044e-87\n",
            "ite  2 time  0.12852999369303386 fob = 8.452894288266606e-88\n",
            "ite  3 time  0.1714698036511739 fob = 1.3743124280684198e-90\n",
            "ite  4 time  0.21439040104548138 fob = 2.7384982904431755e-98\n",
            "ite  5 time  0.2569281816482544 fob = 6.553466812571027e-98\n",
            "ite  6 time  0.2994490226109823 fob = 9.156832187208955e-84\n",
            "ite  7 time  0.34176812171936033 fob = 9.743982612996486e-95\n",
            "ite  8 time  0.38430466651916506 fob = 4.633476317074766e-82\n",
            "ite  9 time  0.4267617066701253 fob = 5.8084278268937e-88\n",
            "ite  10 time  0.46954530477523804 fob = 8.727792751511454e-97\n",
            "ite  11 time  0.5122365832328797 fob = 1.2363692824007172e-86\n",
            "ite  12 time  0.5554210146268209 fob = 1.3614204570608864e-96\n",
            "ite  13 time  0.598050614198049 fob = 2.483589981943375e-96\n",
            "ite  14 time  0.6400132338205974 fob = 6.187826602167439e-94\n",
            "ite  15 time  0.682702378431956 fob = 2.20048154381493e-90\n",
            "ite  16 time  0.7259009559949239 fob = 6.836251715261923e-82\n",
            "ite  17 time  0.7683605074882507 fob = 8.19971596339241e-99\n",
            "ite  18 time  0.8111506303151449 fob = 1.4575557226780365e-97\n",
            "ite  19 time  0.8537399450937907 fob = 1.235362353423836e-91\n",
            "ite  20 time  0.8960621555646261 fob = 3.59154194756018e-98\n",
            "ite  21 time  0.9383436799049377 fob = 5.208856168919465e-91\n",
            "ite  22 time  0.9805670460065206 fob = 1.2443061416158225e-88\n",
            "ite  23 time  1.0233763853708904 fob = 1.1285719949457546e-88\n",
            "ite  24 time  1.0663103143374124 fob = 3.401579100615049e-91\n",
            "ite  25 time  1.1089106400807698 fob = 2.8406567268989092e-83\n",
            "ite  26 time  1.1523092269897461 fob = 3.2370172094386027e-91\n",
            "ite  27 time  1.1945477565129599 fob = 1.715506568129644e-95\n",
            "ite  28 time  1.2376391609509787 fob = 7.862655279341652e-91\n",
            "ite  29 time  1.2797647396723428 fob = 5.323311534236876e-96\n",
            "ite  30 time  1.3222217241923013 fob = 3.351745071363952e-93\n",
            "ite  31 time  1.3646023273468018 fob = 1.618526046698701e-95\n",
            "ite  32 time  1.406474757194519 fob = 4.477639826868067e-95\n",
            "ite  33 time  1.4487170298894247 fob = 1.8120897897136504e-92\n",
            "ite  34 time  1.491269596417745 fob = 3.993938203081888e-96\n",
            "ite  35 time  1.5335798899332682 fob = 3.6619677919295844e-89\n",
            "ite  36 time  1.5757436434427896 fob = 2.323960620697837e-88\n",
            "ite  37 time  1.61794886191686 fob = 2.460725670745323e-76\n",
            "ite  38 time  1.6601169546445211 fob = 3.8271811721920877e-87\n",
            "ite  39 time  1.7024724761644998 fob = 8.04603151108109e-96\n",
            "ite  40 time  1.7448224345842998 fob = 4.3242903194538634e-91\n",
            "ite  41 time  1.7873443921407064 fob = 1.0852993472676154e-90\n",
            "ite  42 time  1.830796754360199 fob = 2.2527726799480157e-89\n",
            "ite  43 time  1.8729689002037049 fob = 3.7839951597343595e-94\n",
            "ite  44 time  1.9152974645296732 fob = 1.9614639044811036e-92\n",
            "ite  45 time  1.957464293638865 fob = 8.706227933278687e-84\n",
            "ite  46 time  1.9998578945795695 fob = 1.747916465725286e-79\n",
            "ite  47 time  2.042110606034597 fob = 6.7557956436201595e-96\n",
            "ite  48 time  2.0844980080922446 fob = 1.3078012179329328e-88\n",
            "ite  49 time  2.1268455346425372 fob = 1.292377630678522e-93\n"
          ],
          "name": "stdout"
        }
      ]
    },
    {
      "cell_type": "code",
      "metadata": {
        "id": "u-n_6dNIfgHe"
      },
      "source": [
        "IND_XY = np.argsort(np.array(BEST_XY[:,-1]))\n",
        "BEST_XY = BEST_XY[IND_XY,:]"
      ],
      "execution_count": 37,
      "outputs": []
    },
    {
      "cell_type": "code",
      "metadata": {
        "id": "J_yG5aOopqo5"
      },
      "source": [
        "\n",
        "\n",
        "BEST=BEST_XY[0]\n",
        "WORSE=BEST_XY[-1]\n",
        "MEAN=np.mean(BEST_XY,axis=0)\n",
        "MAXFO=BEST_XY[:,-1].max()\n",
        "MINFO=BEST_XY[:,-1].min()\n",
        "STD=BEST_XY[:,-1].std()\n",
        "BEST=BEST_XY[(rows-1),(cols-1)]"
      ],
      "execution_count": 38,
      "outputs": []
    },
    {
      "cell_type": "code",
      "metadata": {
        "colab": {
          "base_uri": "https://localhost:8080/"
        },
        "id": "z4mYgxbKhqj1",
        "outputId": "a49bad1e-ba42-4fce-a7b9-22686bb6894a"
      },
      "source": [
        "print('======== JADE ==============')\n",
        "print('NPAR=',NPAR,'Iterações=',ITE*its,'Dim=', dim,\"Min/Max=\",MIN[0],\"/\",MAX[0],'_',Fun.__name__)\n",
        "print()\n",
        "print('MÉDIA: ',MEAN[-1])\n",
        "print('MIN __:',MINFO)\n",
        "print('MAX__: ',MAXFO)\n",
        "print('STD __:',STD)\n",
        "print(\"Tempo Médio= %.3f segundos ---\" % (TIME))\n",
        "print(RUNS,'Rodadas') \n",
        "print()\n",
        "print('BEST: ',MINFO)\n",
        "print()\n",
        "print(MEAN[-1])\n",
        "print(STD)\n",
        "print(MINFO)\n",
        "\n",
        "\n",
        "# print('melhor=',BEST_AGENTS[BEST_INDEX])"
      ],
      "execution_count": 39,
      "outputs": [
        {
          "output_type": "stream",
          "text": [
            "======== JADE ==============\n",
            "NPAR= 100 Iterações= 2000 Dim= 30 Min/Max= -10 / 10 _ sum_squares_function\n",
            "\n",
            "MÉDIA:  4.92497103968372e-78\n",
            "MIN __: 8.19971596339241e-99\n",
            "MAX__:  2.460725670745323e-76\n",
            "STD __: 3.4449665261760305e-77\n",
            "Tempo Médio= 2.552 segundos ---\n",
            "50 Rodadas\n",
            "\n",
            "BEST:  8.19971596339241e-99\n",
            "\n",
            "4.92497103968372e-78\n",
            "3.4449665261760305e-77\n",
            "8.19971596339241e-99\n"
          ],
          "name": "stdout"
        }
      ]
    }
  ]
}
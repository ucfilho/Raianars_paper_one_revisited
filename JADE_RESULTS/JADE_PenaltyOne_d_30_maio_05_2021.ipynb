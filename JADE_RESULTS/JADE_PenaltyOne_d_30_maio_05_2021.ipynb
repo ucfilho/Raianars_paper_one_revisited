{
  "nbformat": 4,
  "nbformat_minor": 0,
  "metadata": {
    "colab": {
      "name": "JADE_PenaltyOne_d_30_maio_05_2021.ipynb",
      "provenance": [],
      "collapsed_sections": [],
      "authorship_tag": "ABX9TyPyfEUGN2+qcUX0QaqFtIbb",
      "include_colab_link": true
    },
    "kernelspec": {
      "display_name": "Python 3",
      "name": "python3"
    }
  },
  "cells": [
    {
      "cell_type": "markdown",
      "metadata": {
        "id": "view-in-github",
        "colab_type": "text"
      },
      "source": [
        "<a href=\"https://colab.research.google.com/github/ucfilho/Raianars_paper_one_revisited/blob/main/JADE_RESULTS/JADE_PenaltyOne_d_30_maio_05_2021.ipynb\" target=\"_parent\"><img src=\"https://colab.research.google.com/assets/colab-badge.svg\" alt=\"Open In Colab\"/></a>"
      ]
    },
    {
      "cell_type": "code",
      "metadata": {
        "id": "Es8PhSUedYDe"
      },
      "source": [
        "import numpy as np\n",
        "import time"
      ],
      "execution_count": 4,
      "outputs": []
    },
    {
      "cell_type": "code",
      "metadata": {
        "colab": {
          "base_uri": "https://localhost:8080/"
        },
        "id": "WPP0AwDbdk4p",
        "outputId": "0176f7a7-ace4-4abe-8ebb-c98246773215"
      },
      "source": [
        "!git clone https://github.com/ucfilho/Raianars_Routines\n",
        "%cd Raianars_Routines"
      ],
      "execution_count": 5,
      "outputs": [
        {
          "output_type": "stream",
          "text": [
            "Cloning into 'Raianars_Routines'...\n",
            "remote: Enumerating objects: 54, done.\u001b[K\n",
            "remote: Counting objects: 100% (54/54), done.\u001b[K\n",
            "remote: Compressing objects: 100% (52/52), done.\u001b[K\n",
            "remote: Total 54 (delta 16), reused 0 (delta 0), pack-reused 0\u001b[K\n",
            "Unpacking objects: 100% (54/54), done.\n",
            "/content/Raianars_Routines/Raianars_Routines\n"
          ],
          "name": "stdout"
        }
      ]
    },
    {
      "cell_type": "code",
      "metadata": {
        "id": "SG2Zh9StRMih"
      },
      "source": [
        "############################### Função\n",
        "import FunctionsNew\n",
        "#'''  \n",
        "############################### Função\n",
        "dim=30 # \n",
        "fchoice='PenaltyOne'\n",
        "Fun=FunctionsNew.PenaltyOne\n",
        "MAX=np.repeat(50,dim)\n",
        "MIN=np.repeat(-50,dim)\n",
        "bounds = (-50,50)\n"
      ],
      "execution_count": 6,
      "outputs": []
    },
    {
      "cell_type": "code",
      "metadata": {
        "id": "aainD4FVhQhu"
      },
      "source": [
        "ITE=2000 #10 # PONTOS quantas vezes vai alteral NPAR \n",
        "NPAR=100 # NUMBER OF PARTICLES\n",
        "RUNS=50 #NÚMERO DE RODADAS"
      ],
      "execution_count": 7,
      "outputs": []
    },
    {
      "cell_type": "code",
      "metadata": {
        "id": "4nlypEzsd8z4"
      },
      "source": [
        "#print(bounds)"
      ],
      "execution_count": 8,
      "outputs": []
    },
    {
      "cell_type": "code",
      "metadata": {
        "colab": {
          "base_uri": "https://localhost:8080/"
        },
        "id": "s8eOhF9tgGNn",
        "outputId": "fac48781-c39a-4dff-c9b8-4f5fa1d6b2a2"
      },
      "source": [
        "!pip install PyFDE"
      ],
      "execution_count": 9,
      "outputs": [
        {
          "output_type": "stream",
          "text": [
            "Collecting PyFDE\n",
            "\u001b[?25l  Downloading https://files.pythonhosted.org/packages/72/f9/87f7279554d2682e3827d39c3d3a565b2fd42f7114a779e34a601c6c5079/PyFDE-1.3.0.tar.gz (397kB)\n",
            "\u001b[K     |████████████████████████████████| 399kB 5.5MB/s \n",
            "\u001b[?25hRequirement already satisfied: numpy in /usr/local/lib/python3.7/dist-packages (from PyFDE) (1.19.5)\n",
            "Building wheels for collected packages: PyFDE\n",
            "  Building wheel for PyFDE (setup.py) ... \u001b[?25l\u001b[?25hdone\n",
            "  Created wheel for PyFDE: filename=PyFDE-1.3.0-cp37-cp37m-linux_x86_64.whl size=974711 sha256=e15113c8e2a5279c1bd43f6e1edbda2ba37842e33be1d7cead7231058b7c94ef\n",
            "  Stored in directory: /root/.cache/pip/wheels/7d/42/ba/abf21db37934e576c74fc2c9504b5cd97eb6a99e3dec1743c0\n",
            "Successfully built PyFDE\n",
            "Installing collected packages: PyFDE\n",
            "Successfully installed PyFDE-1.3.0\n"
          ],
          "name": "stdout"
        }
      ]
    },
    {
      "cell_type": "code",
      "metadata": {
        "id": "RSVcPxfcgHC_"
      },
      "source": [
        "import pyfde\n",
        "solver = pyfde.JADE(Fun, n_dim= dim, n_pop=NPAR, limits=bounds, minimize=True)\n",
        "solver.p = 0.05\n",
        "solver.c = 0.1\n"
      ],
      "execution_count": 10,
      "outputs": []
    },
    {
      "cell_type": "code",
      "metadata": {
        "colab": {
          "base_uri": "https://localhost:8080/"
        },
        "id": "YhpvZOmJbKlq",
        "outputId": "e0567926-690a-4d63-8b92-8c608e8da6f2"
      },
      "source": [
        "bounds"
      ],
      "execution_count": 11,
      "outputs": [
        {
          "output_type": "execute_result",
          "data": {
            "text/plain": [
              "(-50, 50)"
            ]
          },
          "metadata": {
            "tags": []
          },
          "execution_count": 11
        }
      ]
    },
    {
      "cell_type": "code",
      "metadata": {
        "id": "A1jYSGP2R70v"
      },
      "source": [
        "start_time = time.time()\n",
        "BEST_AGENTS=[]\n",
        "MAT_stat=[]"
      ],
      "execution_count": 12,
      "outputs": []
    },
    {
      "cell_type": "code",
      "metadata": {
        "colab": {
          "base_uri": "https://localhost:8080/"
        },
        "id": "M9HVQ-J2SS5w",
        "outputId": "fcb6ee5b-76d7-4546-8dbe-2e34678d21c3"
      },
      "source": [
        "start_time = time.time()\n",
        "BEST_AGENTS=[]\n",
        "BEST_FIT =[]\n",
        "rows = RUNS\n",
        "cols = dim + 1\n",
        "BEST_XY = np.zeros((rows,cols))\n",
        "for iii in range(RUNS):\n",
        "  best, fit = solver.run(n_it=ITE)\n",
        "  kkk = -1\n",
        "  for xi in best:\n",
        "    kkk = kkk +1\n",
        "    BEST_XY[iii,kkk] = xi\n",
        "  BEST_XY[iii,dim] = -fit\n",
        "  BEST_AGENTS.append(best)\n",
        "  TIME = (time.time() - start_time) /60\n",
        "  BEST_FIT.append(-fit)\n",
        "  print('ite ', iii,'time ', TIME,'fob =', -fit)\n",
        "    \n",
        "############################## Cálculo dos Parâmetros de Avaliação   \n",
        "TIME = (time.time() - start_time)/RUNS\n"
      ],
      "execution_count": 13,
      "outputs": [
        {
          "output_type": "stream",
          "text": [
            "ite  0 time  0.38531866868336995 fob = 1.570544771786639e-32\n",
            "ite  1 time  0.7747999827067057 fob = 1.570544771786639e-32\n",
            "ite  2 time  1.163938315709432 fob = 1.570544771786639e-32\n",
            "ite  3 time  1.5583917101224263 fob = 1.570544771786639e-32\n",
            "ite  4 time  1.9550643682479858 fob = 1.570544771786639e-32\n",
            "ite  5 time  2.3514453689257304 fob = 1.570544771786639e-32\n",
            "ite  6 time  2.7462239464124045 fob = 1.570544771786639e-32\n",
            "ite  7 time  3.1410812576611837 fob = 1.570544771786639e-32\n",
            "ite  8 time  3.53527383406957 fob = 1.570544771786639e-32\n",
            "ite  9 time  3.9322519183158873 fob = 1.570544771786639e-32\n",
            "ite  10 time  4.328044410546621 fob = 1.570544771786639e-32\n",
            "ite  11 time  4.719627932707469 fob = 1.570544771786639e-32\n",
            "ite  12 time  5.113678101698557 fob = 1.570544771786639e-32\n",
            "ite  13 time  5.504853101571401 fob = 1.570544771786639e-32\n",
            "ite  14 time  5.89622863928477 fob = 1.570544771786639e-32\n",
            "ite  15 time  6.287712407112122 fob = 1.570544771786639e-32\n",
            "ite  16 time  6.6823384165763855 fob = 1.570544771786639e-32\n",
            "ite  17 time  7.078225735823313 fob = 1.570544771786639e-32\n",
            "ite  18 time  7.4697292248408 fob = 1.570544771786639e-32\n",
            "ite  19 time  7.861247559388478 fob = 1.570544771786639e-32\n",
            "ite  20 time  8.251559185981751 fob = 1.570544771786639e-32\n",
            "ite  21 time  8.642191310723623 fob = 1.570544771786639e-32\n",
            "ite  22 time  9.033497806390127 fob = 1.570544771786639e-32\n",
            "ite  23 time  9.424922025203704 fob = 1.570544771786639e-32\n",
            "ite  24 time  9.81675072113673 fob = 1.570544771786639e-32\n",
            "ite  25 time  10.210113124052684 fob = 1.570544771786639e-32\n",
            "ite  26 time  10.602485585212708 fob = 1.570544771786639e-32\n",
            "ite  27 time  10.994787593682608 fob = 1.570544771786639e-32\n",
            "ite  28 time  11.386410188674926 fob = 1.570544771786639e-32\n",
            "ite  29 time  11.779670894145966 fob = 1.570544771786639e-32\n",
            "ite  30 time  12.173570279280344 fob = 1.570544771786639e-32\n",
            "ite  31 time  12.567682838439941 fob = 1.570544771786639e-32\n",
            "ite  32 time  12.958412500222524 fob = 1.570544771786639e-32\n",
            "ite  33 time  13.34877347946167 fob = 1.570544771786639e-32\n",
            "ite  34 time  13.73825800816218 fob = 1.570544771786639e-32\n",
            "ite  35 time  14.127446262041728 fob = 1.570544771786639e-32\n",
            "ite  36 time  14.51844962835312 fob = 1.570544771786639e-32\n",
            "ite  37 time  14.910634497801462 fob = 1.570544771786639e-32\n",
            "ite  38 time  15.30405370791753 fob = 1.570544771786639e-32\n",
            "ite  39 time  15.69459561506907 fob = 1.570544771786639e-32\n",
            "ite  40 time  16.086764546235404 fob = 1.570544771786639e-32\n",
            "ite  41 time  16.47885173956553 fob = 1.570544771786639e-32\n",
            "ite  42 time  16.87160629828771 fob = 1.570544771786639e-32\n",
            "ite  43 time  17.261792786916097 fob = 1.570544771786639e-32\n",
            "ite  44 time  17.65304313103358 fob = 1.570544771786639e-32\n",
            "ite  45 time  18.04330917994181 fob = 1.570544771786639e-32\n",
            "ite  46 time  18.4332434296608 fob = 1.570544771786639e-32\n",
            "ite  47 time  18.82276286681493 fob = 1.570544771786639e-32\n",
            "ite  48 time  19.213293135166168 fob = 1.570544771786639e-32\n",
            "ite  49 time  19.602028862635294 fob = 1.570544771786639e-32\n"
          ],
          "name": "stdout"
        }
      ]
    },
    {
      "cell_type": "code",
      "metadata": {
        "id": "u-n_6dNIfgHe"
      },
      "source": [
        "IND_XY = np.argsort(np.array(BEST_XY[:,-1]))\n",
        "BEST_XY = BEST_XY[IND_XY,:]"
      ],
      "execution_count": 14,
      "outputs": []
    },
    {
      "cell_type": "code",
      "metadata": {
        "id": "J_yG5aOopqo5"
      },
      "source": [
        "\n",
        "\n",
        "BEST=BEST_XY[0]\n",
        "WORSE=BEST_XY[-1]\n",
        "MEAN=np.mean(BEST_XY,axis=0)\n",
        "MAXFO=BEST_XY[:,-1].max()\n",
        "MINFO=BEST_XY[:,-1].min()\n",
        "STD=BEST_XY[:,-1].std()\n",
        "BEST=BEST_XY[(rows-1),(cols-1)]"
      ],
      "execution_count": 15,
      "outputs": []
    },
    {
      "cell_type": "code",
      "metadata": {
        "colab": {
          "base_uri": "https://localhost:8080/"
        },
        "id": "z4mYgxbKhqj1",
        "outputId": "c91254ba-48b6-4a2b-ea64-2650a0ac7568"
      },
      "source": [
        "\n",
        "print('MÉDIA: ',MEAN[-1])\n",
        "print('MIN __:',MINFO)\n",
        "print('MAX__: ',MAXFO)\n",
        "print('STD __:',STD)\n",
        "print(\"Tempo Médio= %.3f segundos ---\" % (TIME))\n",
        "print(RUNS,'Rodadas') \n",
        "print()\n",
        "print('BEST: ',BEST)\n"
      ],
      "execution_count": 16,
      "outputs": [
        {
          "output_type": "stream",
          "text": [
            "MÉDIA:  1.5705447717866383e-32\n",
            "MIN __: 1.570544771786639e-32\n",
            "MAX__:  1.570544771786639e-32\n",
            "STD __: 0.0\n",
            "Tempo Médio= 23.522 segundos ---\n",
            "50 Rodadas\n",
            "\n",
            "BEST:  1.570544771786639e-32\n"
          ],
          "name": "stdout"
        }
      ]
    }
  ]
}
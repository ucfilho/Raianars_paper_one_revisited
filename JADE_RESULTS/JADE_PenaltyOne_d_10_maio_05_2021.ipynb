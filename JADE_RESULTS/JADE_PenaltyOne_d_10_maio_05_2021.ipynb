{
  "nbformat": 4,
  "nbformat_minor": 0,
  "metadata": {
    "colab": {
      "name": "JADE_PenaltyOne_d_10_maio_05_2021.ipynb",
      "provenance": [],
      "collapsed_sections": [],
      "authorship_tag": "ABX9TyPRV461YQKQmr+/iWFO4+DR",
      "include_colab_link": true
    },
    "kernelspec": {
      "display_name": "Python 3",
      "name": "python3"
    }
  },
  "cells": [
    {
      "cell_type": "markdown",
      "metadata": {
        "id": "view-in-github",
        "colab_type": "text"
      },
      "source": [
        "<a href=\"https://colab.research.google.com/github/ucfilho/Raianars_paper_one_revisited/blob/main/JADE_RESULTS/JADE_PenaltyOne_d_10_maio_05_2021.ipynb\" target=\"_parent\"><img src=\"https://colab.research.google.com/assets/colab-badge.svg\" alt=\"Open In Colab\"/></a>"
      ]
    },
    {
      "cell_type": "code",
      "metadata": {
        "id": "Es8PhSUedYDe"
      },
      "source": [
        "import numpy as np\n",
        "import time"
      ],
      "execution_count": null,
      "outputs": []
    },
    {
      "cell_type": "code",
      "metadata": {
        "colab": {
          "base_uri": "https://localhost:8080/"
        },
        "id": "WPP0AwDbdk4p",
        "outputId": "0294e2a4-79f2-4aa5-942d-b5d1b99873db"
      },
      "source": [
        "!git clone https://github.com/ucfilho/Raianars_Routines\n",
        "%cd Raianars_Routines"
      ],
      "execution_count": null,
      "outputs": [
        {
          "output_type": "stream",
          "text": [
            "Cloning into 'Raianars_Routines'...\n",
            "remote: Enumerating objects: 54, done.\u001b[K\n",
            "remote: Counting objects: 100% (54/54), done.\u001b[K\n",
            "remote: Compressing objects: 100% (52/52), done.\u001b[K\n",
            "remote: Total 54 (delta 16), reused 0 (delta 0), pack-reused 0\u001b[K\n",
            "Unpacking objects: 100% (54/54), done.\n",
            "/content/Raianars_Routines\n"
          ],
          "name": "stdout"
        }
      ]
    },
    {
      "cell_type": "code",
      "metadata": {
        "id": "SG2Zh9StRMih"
      },
      "source": [
        "############################### Função\n",
        "import FunctionsNew\n",
        "#'''  \n",
        "############################### Função\n",
        "dim=10 # \n",
        "fchoice='PenaltyOne'\n",
        "Fun=FunctionsNew.PenaltyOne\n",
        "MAX=np.repeat(50,dim)\n",
        "MIN=np.repeat(-50,dim)\n",
        "bounds = (-50,50)\n"
      ],
      "execution_count": null,
      "outputs": []
    },
    {
      "cell_type": "code",
      "metadata": {
        "id": "aainD4FVhQhu"
      },
      "source": [
        "ITE=2000 #10 # PONTOS quantas vezes vai alteral NPAR \n",
        "NPAR=100 # NUMBER OF PARTICLES\n",
        "RUNS=50 #NÚMERO DE RODADAS"
      ],
      "execution_count": null,
      "outputs": []
    },
    {
      "cell_type": "code",
      "metadata": {
        "id": "4nlypEzsd8z4"
      },
      "source": [
        "#print(bounds)"
      ],
      "execution_count": null,
      "outputs": []
    },
    {
      "cell_type": "code",
      "metadata": {
        "colab": {
          "base_uri": "https://localhost:8080/"
        },
        "id": "s8eOhF9tgGNn",
        "outputId": "27100675-3d7e-49ca-e11b-bb6e1ba88cc2"
      },
      "source": [
        "!pip install PyFDE"
      ],
      "execution_count": null,
      "outputs": [
        {
          "output_type": "stream",
          "text": [
            "Collecting PyFDE\n",
            "\u001b[?25l  Downloading https://files.pythonhosted.org/packages/72/f9/87f7279554d2682e3827d39c3d3a565b2fd42f7114a779e34a601c6c5079/PyFDE-1.3.0.tar.gz (397kB)\n",
            "\r\u001b[K     |▉                               | 10kB 10.8MB/s eta 0:00:01\r\u001b[K     |█▋                              | 20kB 14.5MB/s eta 0:00:01\r\u001b[K     |██▌                             | 30kB 17.1MB/s eta 0:00:01\r\u001b[K     |███▎                            | 40kB 19.0MB/s eta 0:00:01\r\u001b[K     |████▏                           | 51kB 20.4MB/s eta 0:00:01\r\u001b[K     |█████                           | 61kB 21.5MB/s eta 0:00:01\r\u001b[K     |█████▊                          | 71kB 22.1MB/s eta 0:00:01\r\u001b[K     |██████▋                         | 81kB 22.6MB/s eta 0:00:01\r\u001b[K     |███████▍                        | 92kB 23.4MB/s eta 0:00:01\r\u001b[K     |████████▎                       | 102kB 24.3MB/s eta 0:00:01\r\u001b[K     |█████████                       | 112kB 24.3MB/s eta 0:00:01\r\u001b[K     |██████████                      | 122kB 24.3MB/s eta 0:00:01\r\u001b[K     |██████████▊                     | 133kB 24.3MB/s eta 0:00:01\r\u001b[K     |███████████▌                    | 143kB 24.3MB/s eta 0:00:01\r\u001b[K     |████████████▍                   | 153kB 24.3MB/s eta 0:00:01\r\u001b[K     |█████████████▏                  | 163kB 24.3MB/s eta 0:00:01\r\u001b[K     |██████████████                  | 174kB 24.3MB/s eta 0:00:01\r\u001b[K     |██████████████▉                 | 184kB 24.3MB/s eta 0:00:01\r\u001b[K     |███████████████▊                | 194kB 24.3MB/s eta 0:00:01\r\u001b[K     |████████████████▌               | 204kB 24.3MB/s eta 0:00:01\r\u001b[K     |█████████████████▎              | 215kB 24.3MB/s eta 0:00:01\r\u001b[K     |██████████████████▏             | 225kB 24.3MB/s eta 0:00:01\r\u001b[K     |███████████████████             | 235kB 24.3MB/s eta 0:00:01\r\u001b[K     |███████████████████▉            | 245kB 24.3MB/s eta 0:00:01\r\u001b[K     |████████████████████▋           | 256kB 24.3MB/s eta 0:00:01\r\u001b[K     |█████████████████████▌          | 266kB 24.3MB/s eta 0:00:01\r\u001b[K     |██████████████████████▎         | 276kB 24.3MB/s eta 0:00:01\r\u001b[K     |███████████████████████         | 286kB 24.3MB/s eta 0:00:01\r\u001b[K     |████████████████████████        | 296kB 24.3MB/s eta 0:00:01\r\u001b[K     |████████████████████████▊       | 307kB 24.3MB/s eta 0:00:01\r\u001b[K     |█████████████████████████▋      | 317kB 24.3MB/s eta 0:00:01\r\u001b[K     |██████████████████████████▍     | 327kB 24.3MB/s eta 0:00:01\r\u001b[K     |███████████████████████████▎    | 337kB 24.3MB/s eta 0:00:01\r\u001b[K     |████████████████████████████    | 348kB 24.3MB/s eta 0:00:01\r\u001b[K     |████████████████████████████▉   | 358kB 24.3MB/s eta 0:00:01\r\u001b[K     |█████████████████████████████▊  | 368kB 24.3MB/s eta 0:00:01\r\u001b[K     |██████████████████████████████▌ | 378kB 24.3MB/s eta 0:00:01\r\u001b[K     |███████████████████████████████▍| 389kB 24.3MB/s eta 0:00:01\r\u001b[K     |████████████████████████████████| 399kB 24.3MB/s \n",
            "\u001b[?25hRequirement already satisfied: numpy in /usr/local/lib/python3.7/dist-packages (from PyFDE) (1.19.5)\n",
            "Building wheels for collected packages: PyFDE\n",
            "  Building wheel for PyFDE (setup.py) ... \u001b[?25l\u001b[?25hdone\n",
            "  Created wheel for PyFDE: filename=PyFDE-1.3.0-cp37-cp37m-linux_x86_64.whl size=974705 sha256=e48edfd77bd4c9f8262a5be96570b4259fa0a62cf942bdf166bbae65f13643f5\n",
            "  Stored in directory: /root/.cache/pip/wheels/7d/42/ba/abf21db37934e576c74fc2c9504b5cd97eb6a99e3dec1743c0\n",
            "Successfully built PyFDE\n",
            "Installing collected packages: PyFDE\n",
            "Successfully installed PyFDE-1.3.0\n"
          ],
          "name": "stdout"
        }
      ]
    },
    {
      "cell_type": "code",
      "metadata": {
        "id": "RSVcPxfcgHC_"
      },
      "source": [
        "import pyfde\n",
        "solver = pyfde.JADE(Fun, n_dim= dim, n_pop=NPAR, limits=bounds, minimize=True)\n",
        "solver.p = 0.05\n",
        "solver.c = 0.1\n"
      ],
      "execution_count": null,
      "outputs": []
    },
    {
      "cell_type": "code",
      "metadata": {
        "colab": {
          "base_uri": "https://localhost:8080/"
        },
        "id": "YhpvZOmJbKlq",
        "outputId": "43d41c9b-dbcd-46d6-bfa2-8bf61c873467"
      },
      "source": [
        "bounds"
      ],
      "execution_count": null,
      "outputs": [
        {
          "output_type": "execute_result",
          "data": {
            "text/plain": [
              "(-50, 50)"
            ]
          },
          "metadata": {
            "tags": []
          },
          "execution_count": 8
        }
      ]
    },
    {
      "cell_type": "code",
      "metadata": {
        "id": "A1jYSGP2R70v"
      },
      "source": [
        "start_time = time.time()\n",
        "BEST_AGENTS=[]\n",
        "MAT_stat=[]"
      ],
      "execution_count": null,
      "outputs": []
    },
    {
      "cell_type": "code",
      "metadata": {
        "colab": {
          "base_uri": "https://localhost:8080/"
        },
        "id": "M9HVQ-J2SS5w",
        "outputId": "162876a0-cc8a-493c-f8ab-e39f1fa3f07d"
      },
      "source": [
        "start_time = time.time()\n",
        "BEST_AGENTS=[]\n",
        "BEST_FIT =[]\n",
        "rows = RUNS\n",
        "cols = dim + 1\n",
        "BEST_XY = np.zeros((rows,cols))\n",
        "for iii in range(RUNS):\n",
        "  solver = pyfde.JADE(Fun, n_dim= dim, n_pop=NPAR, limits=bounds, minimize=True)\n",
        "  solver.p = 0.05\n",
        "  solver.c = 0.1\n",
        "  solver.cr, solver.f = 0.5, 0.5\n",
        "  best, fit = solver.run(n_it=ITE)\n",
        "  kkk = -1\n",
        "  for xi in best:\n",
        "    kkk = kkk +1\n",
        "    BEST_XY[iii,kkk] = xi\n",
        "  BEST_XY[iii,dim] = -fit\n",
        "  BEST_AGENTS.append(best)\n",
        "  TIME = (time.time() - start_time) /60\n",
        "  BEST_FIT.append(-fit)\n",
        "  print('ite ', iii,'time ', TIME,'fob =', -fit)\n",
        "    \n",
        "############################## Cálculo dos Parâmetros de Avaliação   \n",
        "TIME = (time.time() - start_time)/RUNS\n"
      ],
      "execution_count": null,
      "outputs": [
        {
          "output_type": "stream",
          "text": [
            "ite  0 time  0.13542780876159669 fob = 4.7116343153599164e-32\n",
            "ite  1 time  0.271351703008016 fob = 4.7116343153599164e-32\n",
            "ite  2 time  0.40551605224609377 fob = 4.7116343153599164e-32\n",
            "ite  3 time  0.5429141441980998 fob = 4.7116343153599164e-32\n",
            "ite  4 time  0.6791699767112732 fob = 4.7116343153599164e-32\n",
            "ite  5 time  0.8140326619148255 fob = 4.7116343153599164e-32\n",
            "ite  6 time  0.9495135545730591 fob = 4.7116343153599164e-32\n",
            "ite  7 time  1.0859451293945312 fob = 4.7116343153599164e-32\n",
            "ite  8 time  1.2209485173225403 fob = 4.7116343153599164e-32\n",
            "ite  9 time  1.3567631562550864 fob = 4.7116343153599164e-32\n",
            "ite  10 time  1.4927122751871744 fob = 4.7116343153599164e-32\n",
            "ite  11 time  1.6285630305608114 fob = 4.7116343153599164e-32\n",
            "ite  12 time  1.7661798199017842 fob = 4.7116343153599164e-32\n",
            "ite  13 time  1.904472037156423 fob = 4.7116343153599164e-32\n",
            "ite  14 time  2.041559127966563 fob = 4.7116343153599164e-32\n",
            "ite  15 time  2.176663013299306 fob = 4.7116343153599164e-32\n",
            "ite  16 time  2.3130504806836445 fob = 4.7116343153599164e-32\n",
            "ite  17 time  2.448905384540558 fob = 4.7116343153599164e-32\n",
            "ite  18 time  2.5855839530626934 fob = 4.7116343153599164e-32\n",
            "ite  19 time  2.72134743531545 fob = 4.7116343153599164e-32\n",
            "ite  20 time  2.856716469923655 fob = 4.7116343153599164e-32\n",
            "ite  21 time  2.9920443614323933 fob = 4.7116343153599164e-32\n",
            "ite  22 time  3.1284473538398743 fob = 4.7116343153599164e-32\n",
            "ite  23 time  3.263909681638082 fob = 4.7116343153599164e-32\n",
            "ite  24 time  3.4002150932947797 fob = 4.7116343153599164e-32\n",
            "ite  25 time  3.536317984263102 fob = 4.7116343153599164e-32\n",
            "ite  26 time  3.67255828777949 fob = 4.7116343153599164e-32\n",
            "ite  27 time  3.809918514887492 fob = 4.7116343153599164e-32\n",
            "ite  28 time  3.9497296690940855 fob = 4.7116343153599164e-32\n",
            "ite  29 time  4.08914167881012 fob = 4.7116343153599164e-32\n",
            "ite  30 time  4.225983798503876 fob = 4.7116343153599164e-32\n",
            "ite  31 time  4.363100520769755 fob = 4.7116343153599164e-32\n",
            "ite  32 time  4.4993754307429 fob = 4.7116343153599164e-32\n",
            "ite  33 time  4.635797278086344 fob = 4.7116343153599164e-32\n",
            "ite  34 time  4.772293134530385 fob = 4.7116343153599164e-32\n",
            "ite  35 time  4.907237454255422 fob = 4.7116343153599164e-32\n",
            "ite  36 time  5.044985647996267 fob = 4.7116343153599164e-32\n",
            "ite  37 time  5.1803060412406925 fob = 4.7116343153599164e-32\n",
            "ite  38 time  5.31673758427302 fob = 4.7116343153599164e-32\n",
            "ite  39 time  5.456986033916474 fob = 4.7116343153599164e-32\n",
            "ite  40 time  5.594208192825318 fob = 4.7116343153599164e-32\n",
            "ite  41 time  5.731476859251658 fob = 4.7116343153599164e-32\n",
            "ite  42 time  5.867015898227692 fob = 4.7116343153599164e-32\n",
            "ite  43 time  6.002797067165375 fob = 4.7116343153599164e-32\n",
            "ite  44 time  6.1367930253346765 fob = 4.7116343153599164e-32\n",
            "ite  45 time  6.271419135729472 fob = 4.7116343153599164e-32\n",
            "ite  46 time  6.407033721605937 fob = 4.7116343153599164e-32\n",
            "ite  47 time  6.543595679601034 fob = 4.7116343153599164e-32\n",
            "ite  48 time  6.679348929723104 fob = 4.7116343153599164e-32\n",
            "ite  49 time  6.8166318734486895 fob = 4.7116343153599164e-32\n"
          ],
          "name": "stdout"
        }
      ]
    },
    {
      "cell_type": "code",
      "metadata": {
        "id": "u-n_6dNIfgHe"
      },
      "source": [
        "IND_XY = np.argsort(np.array(BEST_XY[:,-1]))\n",
        "BEST_XY = BEST_XY[IND_XY,:]"
      ],
      "execution_count": null,
      "outputs": []
    },
    {
      "cell_type": "code",
      "metadata": {
        "id": "J_yG5aOopqo5"
      },
      "source": [
        "\n",
        "\n",
        "BEST=BEST_XY[0]\n",
        "WORSE=BEST_XY[-1]\n",
        "MEAN=np.mean(BEST_XY,axis=0)\n",
        "MAXFO=BEST_XY[:,-1].max()\n",
        "MINFO=BEST_XY[:,-1].min()\n",
        "STD=BEST_XY[:,-1].std()\n",
        "BEST=BEST_XY[(rows-1),(cols-1)]"
      ],
      "execution_count": null,
      "outputs": []
    },
    {
      "cell_type": "code",
      "metadata": {
        "colab": {
          "base_uri": "https://localhost:8080/"
        },
        "id": "z4mYgxbKhqj1",
        "outputId": "4cc0670d-8979-41fb-de22-d66b9a937859"
      },
      "source": [
        "\n",
        "print('MÉDIA: ',MEAN[-1])\n",
        "print('MIN __:',MINFO)\n",
        "print('MAX__: ',MAXFO)\n",
        "print('STD __:',STD)\n",
        "print(\"Tempo Médio= %.3f segundos ---\" % (TIME))\n",
        "print(RUNS,'Rodadas') \n",
        "print()\n",
        "print('BEST: ',BEST)\n"
      ],
      "execution_count": null,
      "outputs": [
        {
          "output_type": "stream",
          "text": [
            "MÉDIA:  4.711634315359915e-32\n",
            "MIN __: 4.7116343153599164e-32\n",
            "MAX__:  4.7116343153599164e-32\n",
            "STD __: 1.0947644252537633e-47\n",
            "Tempo Médio= 8.180 segundos ---\n",
            "50 Rodadas\n",
            "\n",
            "BEST:  4.7116343153599164e-32\n"
          ],
          "name": "stdout"
        }
      ]
    }
  ]
}
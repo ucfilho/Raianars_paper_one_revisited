{
  "nbformat": 4,
  "nbformat_minor": 0,
  "metadata": {
    "colab": {
      "name": "JADE_Griewank_d_30_maio_05_2021.ipynb",
      "provenance": [],
      "collapsed_sections": [],
      "authorship_tag": "ABX9TyMNPIXkWN4fw1DlfTB4SaFd",
      "include_colab_link": true
    },
    "kernelspec": {
      "name": "python3",
      "display_name": "Python 3"
    }
  },
  "cells": [
    {
      "cell_type": "markdown",
      "metadata": {
        "id": "view-in-github",
        "colab_type": "text"
      },
      "source": [
        "<a href=\"https://colab.research.google.com/github/ucfilho/Raianars_paper_one_revisited/blob/main/JADE_RESULTS/JADE_Griewank_d_30_maio_05_2021.ipynb\" target=\"_parent\"><img src=\"https://colab.research.google.com/assets/colab-badge.svg\" alt=\"Open In Colab\"/></a>"
      ]
    },
    {
      "cell_type": "code",
      "metadata": {
        "id": "Es8PhSUedYDe"
      },
      "source": [
        "import numpy as np\n",
        "import time"
      ],
      "execution_count": 1,
      "outputs": []
    },
    {
      "cell_type": "code",
      "metadata": {
        "id": "WPP0AwDbdk4p",
        "colab": {
          "base_uri": "https://localhost:8080/"
        },
        "outputId": "d7f82389-623f-402f-eba8-002d80f1b834"
      },
      "source": [
        "!git clone https://github.com/ucfilho/Raianars_Routines\n",
        "%cd Raianars_Routines"
      ],
      "execution_count": 2,
      "outputs": [
        {
          "output_type": "stream",
          "text": [
            "fatal: destination path 'Raianars_Routines' already exists and is not an empty directory.\n",
            "/content/Raianars_Routines\n"
          ],
          "name": "stdout"
        }
      ]
    },
    {
      "cell_type": "code",
      "metadata": {
        "id": "SG2Zh9StRMih"
      },
      "source": [
        "############################### Função\n",
        "import FunctionsNew\n",
        "#'''  \n",
        "############################### Função\n",
        "dim=30 # \n",
        "fchoice='Griewank'\n",
        "Fun=FunctionsNew.Griewank\n",
        "MAX=np.repeat(600,dim)\n",
        "MIN=np.repeat(-600,dim)\n",
        "bounds = (-600,600)\n"
      ],
      "execution_count": 3,
      "outputs": []
    },
    {
      "cell_type": "code",
      "metadata": {
        "id": "aainD4FVhQhu"
      },
      "source": [
        "ITE=2000 #10 # PONTOS quantas vezes vai alteral NPAR \n",
        "NPAR=100 # NUMBER OF PARTICLES\n",
        "RUNS=50 #NÚMERO DE RODADAS"
      ],
      "execution_count": 4,
      "outputs": []
    },
    {
      "cell_type": "code",
      "metadata": {
        "id": "4nlypEzsd8z4"
      },
      "source": [
        "#print(bounds)"
      ],
      "execution_count": 5,
      "outputs": []
    },
    {
      "cell_type": "code",
      "metadata": {
        "id": "s8eOhF9tgGNn",
        "colab": {
          "base_uri": "https://localhost:8080/"
        },
        "outputId": "cf61b5fb-2602-4601-9ca4-b8c2167511d3"
      },
      "source": [
        "!pip install PyFDE"
      ],
      "execution_count": 6,
      "outputs": [
        {
          "output_type": "stream",
          "text": [
            "Requirement already satisfied: PyFDE in /usr/local/lib/python3.7/dist-packages (1.3.0)\n",
            "Requirement already satisfied: numpy in /usr/local/lib/python3.7/dist-packages (from PyFDE) (1.19.5)\n"
          ],
          "name": "stdout"
        }
      ]
    },
    {
      "cell_type": "code",
      "metadata": {
        "id": "RSVcPxfcgHC_"
      },
      "source": [
        "import pyfde\n",
        "solver = pyfde.JADE(Fun, n_dim= dim, n_pop=NPAR, limits=bounds, minimize=True)\n",
        "solver.p = 0.05\n",
        "solver.c = 0.1\n"
      ],
      "execution_count": 7,
      "outputs": []
    },
    {
      "cell_type": "code",
      "metadata": {
        "colab": {
          "base_uri": "https://localhost:8080/"
        },
        "id": "YhpvZOmJbKlq",
        "outputId": "ffa71f70-ac2a-46d7-f32c-3520e7378bd9"
      },
      "source": [
        "bounds"
      ],
      "execution_count": 8,
      "outputs": [
        {
          "output_type": "execute_result",
          "data": {
            "text/plain": [
              "(-600, 600)"
            ]
          },
          "metadata": {
            "tags": []
          },
          "execution_count": 8
        }
      ]
    },
    {
      "cell_type": "code",
      "metadata": {
        "id": "A1jYSGP2R70v"
      },
      "source": [
        "start_time = time.time()\n",
        "BEST_AGENTS=[]\n",
        "MAT_stat=[]"
      ],
      "execution_count": 9,
      "outputs": []
    },
    {
      "cell_type": "code",
      "metadata": {
        "colab": {
          "base_uri": "https://localhost:8080/"
        },
        "id": "M9HVQ-J2SS5w",
        "outputId": "29d98a8c-39c2-4390-f5db-2bebb0c9c4a0"
      },
      "source": [
        "start_time = time.time()\n",
        "BEST_AGENTS=[]\n",
        "BEST_FIT =[]\n",
        "rows = RUNS\n",
        "cols = dim + 1\n",
        "BEST_XY = np.zeros((rows,cols))\n",
        "for iii in range(RUNS):\n",
        "  best, fit = solver.run(n_it=ITE)\n",
        "  kkk = -1\n",
        "  for xi in best:\n",
        "    kkk = kkk +1\n",
        "    BEST_XY[iii,kkk] = xi\n",
        "  BEST_XY[iii,dim] = -fit\n",
        "  BEST_AGENTS.append(best)\n",
        "  TIME = (time.time() - start_time) /60\n",
        "  BEST_FIT.append(-fit)\n",
        "  print('ite ', iii,'time ', TIME,'fob =', -fit)\n",
        "    \n",
        "############################## Cálculo dos Parâmetros de Avaliação   \n",
        "TIME = (time.time() - start_time)/RUNS\n"
      ],
      "execution_count": null,
      "outputs": [
        {
          "output_type": "stream",
          "text": [
            "ite  0 time  0.20627047618230185 fob = 0.0\n",
            "ite  1 time  0.4137717326482137 fob = 0.0\n",
            "ite  2 time  0.6193490902582804 fob = 0.0\n",
            "ite  3 time  0.822657843430837 fob = 0.0\n",
            "ite  4 time  1.0273325840632122 fob = 0.0\n",
            "ite  5 time  1.232693076133728 fob = 0.0\n",
            "ite  6 time  1.4388190944989523 fob = 0.0\n",
            "ite  7 time  1.6421405633290609 fob = 0.0\n",
            "ite  8 time  1.8456439097722372 fob = 0.0\n",
            "ite  9 time  2.0513795614242554 fob = 0.0\n",
            "ite  10 time  2.257213266690572 fob = 0.0\n",
            "ite  11 time  2.4629728833834332 fob = 0.0\n",
            "ite  12 time  2.668253004550934 fob = 0.0\n",
            "ite  13 time  2.8736956040064494 fob = 0.0\n",
            "ite  14 time  3.0775289654731752 fob = 0.0\n",
            "ite  15 time  3.2802996079126996 fob = 0.0\n",
            "ite  16 time  3.4835689187049867 fob = 0.0\n",
            "ite  17 time  3.6874095757802325 fob = 0.0\n",
            "ite  18 time  3.894495650132497 fob = 0.0\n",
            "ite  19 time  4.1022685726483665 fob = 0.0\n",
            "ite  20 time  4.31244329214096 fob = 0.0\n",
            "ite  21 time  4.522000841299692 fob = 0.0\n",
            "ite  22 time  4.727508115768432 fob = 0.0\n",
            "ite  23 time  4.933660395940145 fob = 0.0\n",
            "ite  24 time  5.139691781997681 fob = 0.0\n",
            "ite  25 time  5.34689736366272 fob = 0.0\n",
            "ite  26 time  5.554401266574859 fob = 0.0\n",
            "ite  27 time  5.759306768576304 fob = 0.0\n",
            "ite  28 time  5.965594120820364 fob = 0.0\n",
            "ite  29 time  6.172367262840271 fob = 0.0\n",
            "ite  30 time  6.379374663035075 fob = 0.0\n",
            "ite  31 time  6.586169191201528 fob = 0.0\n",
            "ite  32 time  6.791314633687337 fob = 0.0\n",
            "ite  33 time  6.995430163542429 fob = 0.0\n",
            "ite  34 time  7.201300179958343 fob = 0.0\n",
            "ite  35 time  7.404016780853271 fob = 0.0\n",
            "ite  36 time  7.607676525910695 fob = 0.0\n",
            "ite  37 time  7.814194083213806 fob = 0.0\n",
            "ite  38 time  8.022862219810486 fob = 0.0\n",
            "ite  39 time  8.227840741475424 fob = 0.0\n",
            "ite  40 time  8.43239103158315 fob = 0.0\n",
            "ite  41 time  8.638221220175426 fob = 0.0\n",
            "ite  42 time  8.843232937653859 fob = 0.0\n",
            "ite  43 time  9.051631891727448 fob = 0.0\n",
            "ite  44 time  9.260961973667145 fob = 0.0\n"
          ],
          "name": "stdout"
        }
      ]
    },
    {
      "cell_type": "code",
      "metadata": {
        "id": "u-n_6dNIfgHe"
      },
      "source": [
        "IND_XY = np.argsort(np.array(BEST_XY[:,-1]))\n",
        "BEST_XY = BEST_XY[IND_XY,:]"
      ],
      "execution_count": null,
      "outputs": []
    },
    {
      "cell_type": "code",
      "metadata": {
        "id": "J_yG5aOopqo5"
      },
      "source": [
        "\n",
        "\n",
        "BEST=BEST_XY[0]\n",
        "WORSE=BEST_XY[-1]\n",
        "MEAN=np.mean(BEST_XY,axis=0)\n",
        "MAXFO=BEST_XY[:,-1].max()\n",
        "MINFO=BEST_XY[:,-1].min()\n",
        "STD=BEST_XY[:,-1].std()\n"
      ],
      "execution_count": null,
      "outputs": []
    },
    {
      "cell_type": "code",
      "metadata": {
        "id": "z4mYgxbKhqj1"
      },
      "source": [
        "\n",
        "print('MÉDIA: ',MEAN[-1])\n",
        "print('MIN __:',MINFO)\n",
        "print('MAX__: ',MAXFO)\n",
        "print('STD __:',STD)\n",
        "print(\"Tempo Médio= %.3f segundos ---\" % (TIME))\n",
        "print(RUNS,'Rodadas') \n",
        "print()\n",
        "print('BEST: ',BEST)\n"
      ],
      "execution_count": null,
      "outputs": []
    }
  ]
}
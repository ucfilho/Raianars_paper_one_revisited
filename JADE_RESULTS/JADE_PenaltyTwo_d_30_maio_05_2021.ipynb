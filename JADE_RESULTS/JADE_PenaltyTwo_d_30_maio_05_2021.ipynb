{
  "nbformat": 4,
  "nbformat_minor": 0,
  "metadata": {
    "colab": {
      "name": "JADE_PenaltyTwo_d_30_maio_05_2021.ipynb",
      "provenance": [],
      "collapsed_sections": [],
      "include_colab_link": true
    },
    "kernelspec": {
      "display_name": "Python 3",
      "name": "python3"
    }
  },
  "cells": [
    {
      "cell_type": "markdown",
      "metadata": {
        "id": "view-in-github",
        "colab_type": "text"
      },
      "source": [
        "<a href=\"https://colab.research.google.com/github/ucfilho/Raianars_paper_one_revisited/blob/main/JADE_RESULTS/JADE_PenaltyTwo_d_30_maio_05_2021.ipynb\" target=\"_parent\"><img src=\"https://colab.research.google.com/assets/colab-badge.svg\" alt=\"Open In Colab\"/></a>"
      ]
    },
    {
      "cell_type": "code",
      "metadata": {
        "id": "Es8PhSUedYDe"
      },
      "source": [
        "import numpy as np\n",
        "import time"
      ],
      "execution_count": null,
      "outputs": []
    },
    {
      "cell_type": "code",
      "metadata": {
        "colab": {
          "base_uri": "https://localhost:8080/"
        },
        "id": "WPP0AwDbdk4p",
        "outputId": "3da62c33-12de-4a76-c685-e3220076f45c"
      },
      "source": [
        "!git clone https://github.com/ucfilho/Raianars_Routines\n",
        "%cd Raianars_Routines"
      ],
      "execution_count": null,
      "outputs": [
        {
          "output_type": "stream",
          "text": [
            "Cloning into 'Raianars_Routines'...\n",
            "remote: Enumerating objects: 54, done.\u001b[K\n",
            "remote: Counting objects: 100% (54/54), done.\u001b[K\n",
            "remote: Compressing objects: 100% (52/52), done.\u001b[K\n",
            "remote: Total 54 (delta 16), reused 0 (delta 0), pack-reused 0\u001b[K\n",
            "Unpacking objects: 100% (54/54), done.\n",
            "/content/Raianars_Routines\n"
          ],
          "name": "stdout"
        }
      ]
    },
    {
      "cell_type": "code",
      "metadata": {
        "id": "SG2Zh9StRMih"
      },
      "source": [
        "############################### Função\n",
        "import FunctionsNew\n",
        "#'''  \n",
        "############################### Função\n",
        "dim=30 # \n",
        "fchoice='PenaltyTwo'\n",
        "Fun=FunctionsNew.PenaltyTwo\n",
        "MAX=np.repeat(50,dim)\n",
        "MIN=np.repeat(-50,dim)\n",
        "bounds = (-50,50)\n"
      ],
      "execution_count": null,
      "outputs": []
    },
    {
      "cell_type": "code",
      "metadata": {
        "id": "aainD4FVhQhu"
      },
      "source": [
        "ITE=2000 #10 # PONTOS quantas vezes vai alteral NPAR \n",
        "NPAR=100 # NUMBER OF PARTICLES\n",
        "RUNS=50 #NÚMERO DE RODADAS"
      ],
      "execution_count": null,
      "outputs": []
    },
    {
      "cell_type": "code",
      "metadata": {
        "id": "4nlypEzsd8z4"
      },
      "source": [
        "#print(bounds)"
      ],
      "execution_count": null,
      "outputs": []
    },
    {
      "cell_type": "code",
      "metadata": {
        "colab": {
          "base_uri": "https://localhost:8080/"
        },
        "id": "s8eOhF9tgGNn",
        "outputId": "499870db-381c-4785-d696-4edf543fbd6c"
      },
      "source": [
        "!pip install PyFDE"
      ],
      "execution_count": null,
      "outputs": [
        {
          "output_type": "stream",
          "text": [
            "Collecting PyFDE\n",
            "\u001b[?25l  Downloading https://files.pythonhosted.org/packages/72/f9/87f7279554d2682e3827d39c3d3a565b2fd42f7114a779e34a601c6c5079/PyFDE-1.3.0.tar.gz (397kB)\n",
            "\r\u001b[K     |▉                               | 10kB 14.2MB/s eta 0:00:01\r\u001b[K     |█▋                              | 20kB 12.8MB/s eta 0:00:01\r\u001b[K     |██▌                             | 30kB 9.4MB/s eta 0:00:01\r\u001b[K     |███▎                            | 40kB 8.0MB/s eta 0:00:01\r\u001b[K     |████▏                           | 51kB 4.4MB/s eta 0:00:01\r\u001b[K     |█████                           | 61kB 5.1MB/s eta 0:00:01\r\u001b[K     |█████▊                          | 71kB 5.1MB/s eta 0:00:01\r\u001b[K     |██████▋                         | 81kB 5.5MB/s eta 0:00:01\r\u001b[K     |███████▍                        | 92kB 5.6MB/s eta 0:00:01\r\u001b[K     |████████▎                       | 102kB 4.3MB/s eta 0:00:01\r\u001b[K     |█████████                       | 112kB 4.3MB/s eta 0:00:01\r\u001b[K     |██████████                      | 122kB 4.3MB/s eta 0:00:01\r\u001b[K     |██████████▊                     | 133kB 4.3MB/s eta 0:00:01\r\u001b[K     |███████████▌                    | 143kB 4.3MB/s eta 0:00:01\r\u001b[K     |████████████▍                   | 153kB 4.3MB/s eta 0:00:01\r\u001b[K     |█████████████▏                  | 163kB 4.3MB/s eta 0:00:01\r\u001b[K     |██████████████                  | 174kB 4.3MB/s eta 0:00:01\r\u001b[K     |██████████████▉                 | 184kB 4.3MB/s eta 0:00:01\r\u001b[K     |███████████████▊                | 194kB 4.3MB/s eta 0:00:01\r\u001b[K     |████████████████▌               | 204kB 4.3MB/s eta 0:00:01\r\u001b[K     |█████████████████▎              | 215kB 4.3MB/s eta 0:00:01\r\u001b[K     |██████████████████▏             | 225kB 4.3MB/s eta 0:00:01\r\u001b[K     |███████████████████             | 235kB 4.3MB/s eta 0:00:01\r\u001b[K     |███████████████████▉            | 245kB 4.3MB/s eta 0:00:01\r\u001b[K     |████████████████████▋           | 256kB 4.3MB/s eta 0:00:01\r\u001b[K     |█████████████████████▌          | 266kB 4.3MB/s eta 0:00:01\r\u001b[K     |██████████████████████▎         | 276kB 4.3MB/s eta 0:00:01\r\u001b[K     |███████████████████████         | 286kB 4.3MB/s eta 0:00:01\r\u001b[K     |████████████████████████        | 296kB 4.3MB/s eta 0:00:01\r\u001b[K     |████████████████████████▊       | 307kB 4.3MB/s eta 0:00:01\r\u001b[K     |█████████████████████████▋      | 317kB 4.3MB/s eta 0:00:01\r\u001b[K     |██████████████████████████▍     | 327kB 4.3MB/s eta 0:00:01\r\u001b[K     |███████████████████████████▎    | 337kB 4.3MB/s eta 0:00:01\r\u001b[K     |████████████████████████████    | 348kB 4.3MB/s eta 0:00:01\r\u001b[K     |████████████████████████████▉   | 358kB 4.3MB/s eta 0:00:01\r\u001b[K     |█████████████████████████████▊  | 368kB 4.3MB/s eta 0:00:01\r\u001b[K     |██████████████████████████████▌ | 378kB 4.3MB/s eta 0:00:01\r\u001b[K     |███████████████████████████████▍| 389kB 4.3MB/s eta 0:00:01\r\u001b[K     |████████████████████████████████| 399kB 4.3MB/s \n",
            "\u001b[?25hRequirement already satisfied: numpy in /usr/local/lib/python3.7/dist-packages (from PyFDE) (1.19.5)\n",
            "Building wheels for collected packages: PyFDE\n",
            "  Building wheel for PyFDE (setup.py) ... \u001b[?25l\u001b[?25hdone\n",
            "  Created wheel for PyFDE: filename=PyFDE-1.3.0-cp37-cp37m-linux_x86_64.whl size=974736 sha256=7d5dc200fff82746f53dc2bb0de11664bff3dc42003fb2bfdd744810f9198326\n",
            "  Stored in directory: /root/.cache/pip/wheels/7d/42/ba/abf21db37934e576c74fc2c9504b5cd97eb6a99e3dec1743c0\n",
            "Successfully built PyFDE\n",
            "Installing collected packages: PyFDE\n",
            "Successfully installed PyFDE-1.3.0\n"
          ],
          "name": "stdout"
        }
      ]
    },
    {
      "cell_type": "code",
      "metadata": {
        "id": "RSVcPxfcgHC_"
      },
      "source": [
        "import pyfde\n",
        "solver = pyfde.JADE(Fun, n_dim= dim, n_pop=NPAR, limits=bounds, minimize=True)\n",
        "solver.p = 0.05\n",
        "solver.c = 0.1\n"
      ],
      "execution_count": null,
      "outputs": []
    },
    {
      "cell_type": "code",
      "metadata": {
        "colab": {
          "base_uri": "https://localhost:8080/"
        },
        "id": "YhpvZOmJbKlq",
        "outputId": "e7b312ba-7e23-45a0-eea2-23d575c0537b"
      },
      "source": [
        "bounds"
      ],
      "execution_count": null,
      "outputs": [
        {
          "output_type": "execute_result",
          "data": {
            "text/plain": [
              "(-50, 50)"
            ]
          },
          "metadata": {
            "tags": []
          },
          "execution_count": 8
        }
      ]
    },
    {
      "cell_type": "code",
      "metadata": {
        "id": "A1jYSGP2R70v"
      },
      "source": [
        "start_time = time.time()\n",
        "BEST_AGENTS=[]\n",
        "MAT_stat=[]"
      ],
      "execution_count": null,
      "outputs": []
    },
    {
      "cell_type": "code",
      "metadata": {
        "colab": {
          "base_uri": "https://localhost:8080/"
        },
        "id": "M9HVQ-J2SS5w",
        "outputId": "848a3c00-fae3-4d5d-ab0d-1bf6f43697b5"
      },
      "source": [
        "start_time = time.time()\n",
        "BEST_AGENTS=[]\n",
        "BEST_FIT =[]\n",
        "rows = RUNS\n",
        "cols = dim + 1\n",
        "BEST_XY = np.zeros((rows,cols))\n",
        "for iii in range(RUNS):\n",
        "  solver = pyfde.JADE(Fun, n_dim= dim, n_pop=NPAR, limits=bounds, minimize=True)\n",
        "  solver.p = 0.05\n",
        "  solver.c = 0.1\n",
        "  solver.cr, solver.f = 0.5, 0.5\n",
        "  best, fit = solver.run(n_it=ITE)\n",
        "  kkk = -1\n",
        "  for xi in best:\n",
        "    kkk = kkk +1\n",
        "    BEST_XY[iii,kkk] = xi\n",
        "  BEST_XY[iii,dim] = -fit\n",
        "  BEST_AGENTS.append(best)\n",
        "  TIME = (time.time() - start_time) /60\n",
        "  BEST_FIT.append(-fit)\n",
        "  print('ite ', iii,'time ', TIME,'fob =', -fit)\n",
        "    \n",
        "############################## Cálculo dos Parâmetros de Avaliação   \n",
        "TIME = (time.time() - start_time)/RUNS\n"
      ],
      "execution_count": null,
      "outputs": [
        {
          "output_type": "stream",
          "text": [
            "ite  0 time  0.34077816804250083 fob = 1.3497838043956716e-32\n",
            "ite  1 time  0.6873522202173868 fob = 1.3497838043956716e-32\n",
            "ite  2 time  1.0322463194529214 fob = 1.3497838043956716e-32\n",
            "ite  3 time  1.3766016801198324 fob = 1.3497838043956716e-32\n",
            "ite  4 time  1.720086944103241 fob = 1.3497838043956716e-32\n",
            "ite  5 time  2.06064813931783 fob = 1.3497838043956716e-32\n",
            "ite  6 time  2.4025662581125897 fob = 1.3497838043956716e-32\n",
            "ite  7 time  2.7488759954770408 fob = 1.3497838043956716e-32\n",
            "ite  8 time  3.0936675667762756 fob = 1.3497838043956716e-32\n",
            "ite  9 time  3.4383559703826903 fob = 1.3497838043956716e-32\n",
            "ite  10 time  3.782329297065735 fob = 1.3497838043956716e-32\n",
            "ite  11 time  4.125513323148092 fob = 1.3497838043956716e-32\n",
            "ite  12 time  4.467591480414073 fob = 1.3497838043956716e-32\n",
            "ite  13 time  4.810292116800944 fob = 1.3497838043956716e-32\n",
            "ite  14 time  5.152783656120301 fob = 1.3497838043956716e-32\n",
            "ite  15 time  5.495382277170817 fob = 1.3497838043956716e-32\n",
            "ite  16 time  5.83851326306661 fob = 1.3497838043956716e-32\n",
            "ite  17 time  6.183429380257924 fob = 1.3497838043956716e-32\n",
            "ite  18 time  6.541203872362773 fob = 1.3497838043956716e-32\n",
            "ite  19 time  6.9038226246833805 fob = 1.3497838043956716e-32\n",
            "ite  20 time  7.2483388384183245 fob = 1.3497838043956716e-32\n",
            "ite  21 time  7.595222890377045 fob = 1.3497838043956716e-32\n",
            "ite  22 time  7.942206680774689 fob = 1.3497838043956716e-32\n",
            "ite  23 time  8.287552360693613 fob = 1.3497838043956716e-32\n",
            "ite  24 time  8.634693916638692 fob = 1.3497838043956716e-32\n",
            "ite  25 time  8.980002200603485 fob = 1.3497838043956716e-32\n",
            "ite  26 time  9.325272214412688 fob = 1.3497838043956716e-32\n",
            "ite  27 time  9.669926810264588 fob = 1.3497838043956716e-32\n",
            "ite  28 time  10.017625002066294 fob = 1.3497838043956716e-32\n",
            "ite  29 time  10.363571683565775 fob = 1.3497838043956716e-32\n",
            "ite  30 time  10.707060130437215 fob = 1.3497838043956716e-32\n",
            "ite  31 time  11.052507869402568 fob = 1.3497838043956716e-32\n",
            "ite  32 time  11.397662885983785 fob = 1.3497838043956716e-32\n",
            "ite  33 time  11.741448652744293 fob = 1.3497838043956716e-32\n",
            "ite  34 time  12.088744099934896 fob = 1.3497838043956716e-32\n",
            "ite  35 time  12.434313197930654 fob = 1.3497838043956716e-32\n",
            "ite  36 time  12.780335076649983 fob = 1.3497838043956716e-32\n",
            "ite  37 time  13.125525375207266 fob = 1.3497838043956716e-32\n",
            "ite  38 time  13.471749977270763 fob = 1.3497838043956716e-32\n",
            "ite  39 time  13.819780333836873 fob = 1.3497838043956716e-32\n",
            "ite  40 time  14.167306594053905 fob = 1.3497838043956716e-32\n",
            "ite  41 time  14.516117652257284 fob = 1.3497838043956716e-32\n",
            "ite  42 time  14.862855037053427 fob = 1.3497838043956716e-32\n",
            "ite  43 time  15.211534281571707 fob = 1.3497838043956716e-32\n",
            "ite  44 time  15.556784919897716 fob = 1.3497838043956716e-32\n",
            "ite  45 time  15.90028619368871 fob = 1.3497838043956716e-32\n",
            "ite  46 time  16.244316593805948 fob = 1.3497838043956716e-32\n",
            "ite  47 time  16.58813754717509 fob = 1.3497838043956716e-32\n",
            "ite  48 time  16.95691624482473 fob = 1.3497838043956716e-32\n",
            "ite  49 time  17.30047877629598 fob = 1.3497838043956716e-32\n"
          ],
          "name": "stdout"
        }
      ]
    },
    {
      "cell_type": "code",
      "metadata": {
        "id": "u-n_6dNIfgHe"
      },
      "source": [
        "IND_XY = np.argsort(np.array(BEST_XY[:,-1]))\n",
        "BEST_XY = BEST_XY[IND_XY,:]"
      ],
      "execution_count": null,
      "outputs": []
    },
    {
      "cell_type": "code",
      "metadata": {
        "id": "J_yG5aOopqo5"
      },
      "source": [
        "\n",
        "\n",
        "BEST=BEST_XY[0]\n",
        "WORSE=BEST_XY[-1]\n",
        "MEAN=np.mean(BEST_XY,axis=0)\n",
        "MAXFO=BEST_XY[:,-1].max()\n",
        "MINFO=BEST_XY[:,-1].min()\n",
        "STD=BEST_XY[:,-1].std()\n",
        "BEST=BEST_XY[(rows-1),(cols-1)]"
      ],
      "execution_count": null,
      "outputs": []
    },
    {
      "cell_type": "code",
      "metadata": {
        "id": "z4mYgxbKhqj1",
        "colab": {
          "base_uri": "https://localhost:8080/"
        },
        "outputId": "9c6c69af-336b-43bc-fed8-b7f4f7aa703a"
      },
      "source": [
        "\n",
        "print('MÉDIA: ',MEAN[-1])\n",
        "print('MIN __:',MINFO)\n",
        "print('MAX__: ',MAXFO)\n",
        "print('STD __:',STD)\n",
        "print(\"Tempo Médio= %.3f segundos ---\" % (TIME))\n",
        "print(RUNS,'Rodadas') \n",
        "print()\n",
        "print('BEST: ',BEST)\n"
      ],
      "execution_count": null,
      "outputs": [
        {
          "output_type": "stream",
          "text": [
            "MÉDIA:  1.3497838043956727e-32\n",
            "MIN __: 1.3497838043956716e-32\n",
            "MAX__:  1.3497838043956716e-32\n",
            "STD __: 2.7369110631344083e-48\n",
            "Tempo Médio= 20.761 segundos ---\n",
            "50 Rodadas\n",
            "\n",
            "BEST:  1.3497838043956716e-32\n"
          ],
          "name": "stdout"
        }
      ]
    }
  ]
}
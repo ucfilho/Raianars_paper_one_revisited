{
  "nbformat": 4,
  "nbformat_minor": 0,
  "metadata": {
    "colab": {
      "name": "JADE_Bent_Cigar_d_30_maio_13_2021.ipynb",
      "provenance": [],
      "collapsed_sections": [],
      "authorship_tag": "ABX9TyM8UDvV2jIaDVnigdbkHIme",
      "include_colab_link": true
    },
    "kernelspec": {
      "display_name": "Python 3",
      "name": "python3"
    }
  },
  "cells": [
    {
      "cell_type": "markdown",
      "metadata": {
        "id": "view-in-github",
        "colab_type": "text"
      },
      "source": [
        "<a href=\"https://colab.research.google.com/github/ucfilho/Raianars_paper_one_revisited/blob/main/JADE_RESULTS/JADE_Bent_Cigar_d_30_maio_13_2021.ipynb\" target=\"_parent\"><img src=\"https://colab.research.google.com/assets/colab-badge.svg\" alt=\"Open In Colab\"/></a>"
      ]
    },
    {
      "cell_type": "code",
      "metadata": {
        "id": "Es8PhSUedYDe"
      },
      "source": [
        "import numpy as np\n",
        "import time"
      ],
      "execution_count": 14,
      "outputs": []
    },
    {
      "cell_type": "code",
      "metadata": {
        "colab": {
          "base_uri": "https://localhost:8080/"
        },
        "id": "WPP0AwDbdk4p",
        "outputId": "2d9eb022-30d3-4914-ddbe-e3f462dcd162"
      },
      "source": [
        "!git clone https://github.com/ucfilho/Raianars_Routines\n",
        "%cd Raianars_Routines"
      ],
      "execution_count": 15,
      "outputs": [
        {
          "output_type": "stream",
          "text": [
            "Cloning into 'Raianars_Routines'...\n",
            "remote: Enumerating objects: 54, done.\u001b[K\n",
            "remote: Counting objects: 100% (54/54), done.\u001b[K\n",
            "remote: Compressing objects: 100% (52/52), done.\u001b[K\n",
            "remote: Total 54 (delta 16), reused 0 (delta 0), pack-reused 0\u001b[K\n",
            "Unpacking objects: 100% (54/54), done.\n",
            "/content/Raianars_Routines/Raianars_Routines\n"
          ],
          "name": "stdout"
        }
      ]
    },
    {
      "cell_type": "code",
      "metadata": {
        "id": "SG2Zh9StRMih"
      },
      "source": [
        "############################### Função\n",
        "import FunctionsNew\n",
        "#'''  \n",
        "############################### Função\n",
        "dim=30 # \n",
        "fchoice='Bent_Cigar'\n",
        "Fun=FunctionsNew.Bent_Cigar\n",
        "MAX=np.repeat(100,dim)\n",
        "MIN=np.repeat(-100,dim)\n",
        "bounds = (-100,100)\n"
      ],
      "execution_count": 16,
      "outputs": []
    },
    {
      "cell_type": "code",
      "metadata": {
        "id": "aainD4FVhQhu"
      },
      "source": [
        "ITE=2000 #10 # PONTOS quantas vezes vai alteral NPAR \n",
        "NPAR=100 # NUMBER OF PARTICLES\n",
        "RUNS=50 #NÚMERO DE RODADAS"
      ],
      "execution_count": 17,
      "outputs": []
    },
    {
      "cell_type": "code",
      "metadata": {
        "id": "4nlypEzsd8z4"
      },
      "source": [
        "#print(bounds)"
      ],
      "execution_count": 18,
      "outputs": []
    },
    {
      "cell_type": "code",
      "metadata": {
        "colab": {
          "base_uri": "https://localhost:8080/"
        },
        "id": "s8eOhF9tgGNn",
        "outputId": "c2dd1eb3-fefa-4d77-cbb4-42e1e3d0e1c5"
      },
      "source": [
        "!pip install PyFDE"
      ],
      "execution_count": 19,
      "outputs": [
        {
          "output_type": "stream",
          "text": [
            "Requirement already satisfied: PyFDE in /usr/local/lib/python3.7/dist-packages (1.3.0)\n",
            "Requirement already satisfied: numpy in /usr/local/lib/python3.7/dist-packages (from PyFDE) (1.19.5)\n"
          ],
          "name": "stdout"
        }
      ]
    },
    {
      "cell_type": "code",
      "metadata": {
        "id": "RSVcPxfcgHC_"
      },
      "source": [
        "import pyfde\n",
        "solver = pyfde.JADE(Fun, n_dim= dim, n_pop=NPAR, limits=bounds, minimize=True)\n",
        "solver.p = 0.05\n",
        "solver.c = 0.1\n",
        "its = 1"
      ],
      "execution_count": 20,
      "outputs": []
    },
    {
      "cell_type": "code",
      "metadata": {
        "colab": {
          "base_uri": "https://localhost:8080/"
        },
        "id": "YhpvZOmJbKlq",
        "outputId": "4a5cf56a-ed2d-4734-9a56-23a195ed599d"
      },
      "source": [
        "bounds"
      ],
      "execution_count": 21,
      "outputs": [
        {
          "output_type": "execute_result",
          "data": {
            "text/plain": [
              "(-100, 100)"
            ]
          },
          "metadata": {
            "tags": []
          },
          "execution_count": 21
        }
      ]
    },
    {
      "cell_type": "code",
      "metadata": {
        "id": "A1jYSGP2R70v"
      },
      "source": [
        "start_time = time.time()\n",
        "BEST_AGENTS=[]\n",
        "MAT_stat=[]"
      ],
      "execution_count": 22,
      "outputs": []
    },
    {
      "cell_type": "code",
      "metadata": {
        "colab": {
          "base_uri": "https://localhost:8080/"
        },
        "id": "M9HVQ-J2SS5w",
        "outputId": "58ea90d6-29e9-4891-c492-f84c2c8e5720"
      },
      "source": [
        "start_time = time.time()\n",
        "BEST_AGENTS=[]\n",
        "BEST_FIT =[]\n",
        "rows = RUNS\n",
        "cols = dim + 1\n",
        "BEST_XY = np.zeros((rows,cols))\n",
        "for iii in range(RUNS):\n",
        "  solver = pyfde.JADE(Fun, n_dim= dim, n_pop=NPAR, limits=bounds, minimize=True)\n",
        "  solver.p = 0.05\n",
        "  solver.c = 0.1\n",
        "  solver.cr, solver.f = 0.5, 0.5\n",
        "  best, fit = solver.run(n_it=ITE)\n",
        "  kkk = -1\n",
        "  for xi in best:\n",
        "    kkk = kkk +1\n",
        "    BEST_XY[iii,kkk] = xi\n",
        "  BEST_XY[iii,dim] = -fit\n",
        "  BEST_AGENTS.append(best)\n",
        "  TIME = (time.time() - start_time) /60\n",
        "  BEST_FIT.append(-fit)\n",
        "  print('ite ', iii,'time ', TIME,'fob =', -fit)\n",
        "    \n",
        "############################## Cálculo dos Parâmetros de Avaliação   \n",
        "TIME = (time.time() - start_time)/RUNS\n"
      ],
      "execution_count": 23,
      "outputs": [
        {
          "output_type": "stream",
          "text": [
            "ite  0 time  0.0363444447517395 fob = 8.689678771823657e-80\n",
            "ite  1 time  0.07279717922210693 fob = 3.0729049924808226e-82\n",
            "ite  2 time  0.10848857561747233 fob = 2.3308491215320007e-80\n",
            "ite  3 time  0.14410528739293416 fob = 8.429709567618423e-85\n",
            "ite  4 time  0.17999840180079144 fob = 6.935162007645094e-83\n",
            "ite  5 time  0.21582306226094564 fob = 4.3829272808983694e-89\n",
            "ite  6 time  0.25157296657562256 fob = 1.1623546466253365e-90\n",
            "ite  7 time  0.2873205383618673 fob = 7.135752503118492e-85\n",
            "ite  8 time  0.3233351985613505 fob = 3.8951667615729752e-87\n",
            "ite  9 time  0.35934053659439086 fob = 4.9190488961946046e-85\n",
            "ite  10 time  0.39483683904012046 fob = 2.3926176091131704e-84\n",
            "ite  11 time  0.43046826918919884 fob = 1.6348455415960781e-83\n",
            "ite  12 time  0.46594692866007487 fob = 3.083379460314862e-83\n",
            "ite  13 time  0.5016470034917195 fob = 6.206262409511977e-82\n",
            "ite  14 time  0.5372829039891561 fob = 6.465078269397984e-78\n",
            "ite  15 time  0.5729211052258809 fob = 2.7017026712806757e-77\n",
            "ite  16 time  0.6085730036099751 fob = 1.1004184355419103e-91\n",
            "ite  17 time  0.6442826867103577 fob = 8.74728542826186e-82\n",
            "ite  18 time  0.6804593165715536 fob = 2.90664576344385e-83\n",
            "ite  19 time  0.7163400769233703 fob = 3.6017263853588115e-82\n",
            "ite  20 time  0.7522138595581055 fob = 6.69448962703987e-90\n",
            "ite  21 time  0.7881877183914184 fob = 1.0994831796086151e-82\n",
            "ite  22 time  0.8243704358736674 fob = 5.5168504957438274e-89\n",
            "ite  23 time  0.8602253635724385 fob = 9.684967840784406e-82\n",
            "ite  24 time  0.8959607283274332 fob = 6.2396607547294965e-81\n",
            "ite  25 time  0.9322103540102641 fob = 5.0055227692127157e-85\n",
            "ite  26 time  0.9680538813273112 fob = 1.095073902089244e-83\n",
            "ite  27 time  1.0037249406178792 fob = 2.8919693495740454e-82\n",
            "ite  28 time  1.0400407155354818 fob = 6.854113020722772e-85\n",
            "ite  29 time  1.0765794475873312 fob = 7.6624445178450665e-84\n",
            "ite  30 time  1.1125283201535543 fob = 1.2794434519642237e-84\n",
            "ite  31 time  1.1482933402061462 fob = 3.358992420988159e-88\n",
            "ite  32 time  1.186563511689504 fob = 4.0469181789998403e-85\n",
            "ite  33 time  1.2274243632952373 fob = 3.55663832658561e-92\n",
            "ite  34 time  1.2681315342585247 fob = 3.328682060687133e-86\n",
            "ite  35 time  1.3081784923871358 fob = 1.0373595174403191e-85\n",
            "ite  36 time  1.3594516078631083 fob = 8.510682251767684e-88\n",
            "ite  37 time  1.3952704230944315 fob = 8.766624540299158e-84\n",
            "ite  38 time  1.430888577302297 fob = 8.019403658313739e-86\n",
            "ite  39 time  1.4664211789766948 fob = 8.154528879757812e-84\n",
            "ite  40 time  1.5020286003748575 fob = 2.1398588121753618e-85\n",
            "ite  41 time  1.538015854358673 fob = 1.6327508989508006e-87\n",
            "ite  42 time  1.5745822270711263 fob = 4.283559800431791e-82\n",
            "ite  43 time  1.6110976020495096 fob = 5.6191562257505855e-84\n",
            "ite  44 time  1.646820863087972 fob = 1.2275521128602424e-83\n",
            "ite  45 time  1.6826584299405416 fob = 2.457455084399784e-83\n",
            "ite  46 time  1.7189265807469687 fob = 9.971080201306182e-86\n",
            "ite  47 time  1.7550004164377848 fob = 7.507092532062033e-87\n",
            "ite  48 time  1.7910204887390138 fob = 2.6972001259689285e-88\n",
            "ite  49 time  1.8267586986223856 fob = 7.34113852434458e-85\n"
          ],
          "name": "stdout"
        }
      ]
    },
    {
      "cell_type": "code",
      "metadata": {
        "id": "u-n_6dNIfgHe"
      },
      "source": [
        "IND_XY = np.argsort(np.array(BEST_XY[:,-1]))\n",
        "BEST_XY = BEST_XY[IND_XY,:]"
      ],
      "execution_count": 24,
      "outputs": []
    },
    {
      "cell_type": "code",
      "metadata": {
        "id": "J_yG5aOopqo5"
      },
      "source": [
        "\n",
        "\n",
        "BEST=BEST_XY[0]\n",
        "WORSE=BEST_XY[-1]\n",
        "MEAN=np.mean(BEST_XY,axis=0)\n",
        "MAXFO=BEST_XY[:,-1].max()\n",
        "MINFO=BEST_XY[:,-1].min()\n",
        "STD=BEST_XY[:,-1].std()\n",
        "BEST=BEST_XY[(rows-1),(cols-1)]"
      ],
      "execution_count": 25,
      "outputs": []
    },
    {
      "cell_type": "code",
      "metadata": {
        "colab": {
          "base_uri": "https://localhost:8080/"
        },
        "id": "z4mYgxbKhqj1",
        "outputId": "494e1466-b13a-4da3-b4a6-31f8e9361638"
      },
      "source": [
        "print('======== JADE ==============')\n",
        "print('NPAR=',NPAR,'Iterações=',ITE*its,'Dim=', dim,\"Min/Max=\",MIN[0],\"/\",MAX[0],'_',Fun.__name__)\n",
        "print()\n",
        "print('MÉDIA: ',MEAN[-1])\n",
        "print('MIN __:',MINFO)\n",
        "print('MAX__: ',MAXFO)\n",
        "print('STD __:',STD)\n",
        "print(\"Tempo Médio= %.3f segundos ---\" % (TIME))\n",
        "print(RUNS,'Rodadas') \n",
        "print()\n",
        "print('BEST: ',MINFO)\n",
        "print()\n",
        "print(MEAN[-1])\n",
        "print(STD)\n",
        "print(MINFO)\n",
        "\n",
        "\n",
        "# print('melhor=',BEST_AGENTS[BEST_INDEX])"
      ],
      "execution_count": 26,
      "outputs": [
        {
          "output_type": "stream",
          "text": [
            "======== JADE ==============\n",
            "NPAR= 100 Iterações= 2000 Dim= 30 Min/Max= -100 / 100 _ Bent_Cigar\n",
            "\n",
            "MÉDIA:  6.720548186503622e-79\n",
            "MIN __: 3.55663832658561e-92\n",
            "MAX__:  2.7017026712806757e-77\n",
            "STD __: 3.8707679375981975e-78\n",
            "Tempo Médio= 2.192 segundos ---\n",
            "50 Rodadas\n",
            "\n",
            "BEST:  3.55663832658561e-92\n",
            "\n",
            "6.720548186503622e-79\n",
            "3.8707679375981975e-78\n",
            "3.55663832658561e-92\n"
          ],
          "name": "stdout"
        }
      ]
    }
  ]
}
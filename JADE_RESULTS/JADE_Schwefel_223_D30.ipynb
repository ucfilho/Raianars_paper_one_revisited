{
  "nbformat": 4,
  "nbformat_minor": 0,
  "metadata": {
    "colab": {
      "name": "JADE_Schwefel_223_D30.ipynb",
      "provenance": [],
      "collapsed_sections": [],
      "include_colab_link": true
    },
    "kernelspec": {
      "display_name": "Python 3",
      "name": "python3"
    },
    "language_info": {
      "codemirror_mode": {
        "name": "ipython",
        "version": 3
      },
      "file_extension": ".py",
      "mimetype": "text/x-python",
      "name": "python",
      "nbconvert_exporter": "python",
      "pygments_lexer": "ipython3",
      "version": "3.7.3"
    }
  },
  "cells": [
    {
      "cell_type": "markdown",
      "metadata": {
        "id": "view-in-github",
        "colab_type": "text"
      },
      "source": [
        "<a href=\"https://colab.research.google.com/github/ucfilho/Raianars_paper_one_revisited/blob/main/JADE_RESULTS/JADE_Schwefel_223_D30.ipynb\" target=\"_parent\"><img src=\"https://colab.research.google.com/assets/colab-badge.svg\" alt=\"Open In Colab\"/></a>"
      ]
    },
    {
      "cell_type": "code",
      "metadata": {
        "colab": {
          "base_uri": "https://localhost:8080/"
        },
        "id": "IviJOU5POtN8",
        "outputId": "a8a1f82b-1f08-471e-c755-3044e05f34a5"
      },
      "source": [
        "############################### Importar códigos\n",
        "!git clone https://github.com/ucfilho/optim_raianars_Insight\n",
        "%cd optim_raianars_Insight"
      ],
      "execution_count": 1,
      "outputs": [
        {
          "output_type": "stream",
          "text": [
            "Cloning into 'optim_raianars_Insight'...\n",
            "remote: Enumerating objects: 375, done.\u001b[K\n",
            "remote: Counting objects: 100% (61/61), done.\u001b[K\n",
            "remote: Compressing objects: 100% (61/61), done.\u001b[K\n",
            "remote: Total 375 (delta 35), reused 0 (delta 0), pack-reused 314\u001b[K\n",
            "Receiving objects: 100% (375/375), 327.03 KiB | 10.22 MiB/s, done.\n",
            "Resolving deltas: 100% (216/216), done.\n",
            "/content/optim_raianars_Insight\n"
          ],
          "name": "stdout"
        }
      ]
    },
    {
      "cell_type": "code",
      "metadata": {
        "id": "_E15mKFURR6O"
      },
      "source": [
        "import Function\n",
        "import Go2MinMax\n",
        "import numpy as np\n",
        "import time\n",
        "import matplotlib.pyplot as plt\n",
        "from random import randint\n",
        "import pandas as pd\n",
        "\n",
        "############################### Função\n",
        "dim=30 # \n",
        "fchoice='Schwefel_223'\n",
        "Fun=Function.Schwefel_223\n",
        "MIN,MAX=Go2MinMax.Intervalo(dim,fchoice)\n",
        "#MAX=np.repeat(1.28,dim)\n",
        "#MIN=np.repeat(-1.28,dim)\n",
        "\n",
        "bounds=[]\n",
        "for k in range(len(MAX)):\n",
        "  bounds.append((MIN[k],MAX[k]))\n",
        "\n",
        "############################### DADOS DE ENTRADA \n",
        "RUNS=50 #NÚMERO DE RODADAS\n",
        "Fc=0.1 # fator de correcao parametros da ANN\n",
        "its=1 #10 # quantas vezes vai usar o NPAR antes de alterar de novo\n",
        "ITE=2000 #00 #10 # PONTOS quantas vezes vai alteral NPAR \n",
        "NPAR=100\n"
      ],
      "execution_count": 2,
      "outputs": []
    },
    {
      "cell_type": "code",
      "metadata": {
        "colab": {
          "base_uri": "https://localhost:8080/"
        },
        "id": "lAVDJIRmNQUC",
        "outputId": "52a5ae77-7381-4ba8-a477-92e960830682"
      },
      "source": [
        "!pip install PyFDE"
      ],
      "execution_count": 3,
      "outputs": [
        {
          "output_type": "stream",
          "text": [
            "Collecting PyFDE\n",
            "\u001b[?25l  Downloading https://files.pythonhosted.org/packages/72/f9/87f7279554d2682e3827d39c3d3a565b2fd42f7114a779e34a601c6c5079/PyFDE-1.3.0.tar.gz (397kB)\n",
            "\u001b[K     |████████████████████████████████| 399kB 4.9MB/s \n",
            "\u001b[?25hRequirement already satisfied: numpy in /usr/local/lib/python3.7/dist-packages (from PyFDE) (1.19.5)\n",
            "Building wheels for collected packages: PyFDE\n",
            "  Building wheel for PyFDE (setup.py) ... \u001b[?25l\u001b[?25hdone\n",
            "  Created wheel for PyFDE: filename=PyFDE-1.3.0-cp37-cp37m-linux_x86_64.whl size=974716 sha256=1cb1dcf30cfba258b2617e2e172a3eaf51c379542beb68d310745665df48cedd\n",
            "  Stored in directory: /root/.cache/pip/wheels/7d/42/ba/abf21db37934e576c74fc2c9504b5cd97eb6a99e3dec1743c0\n",
            "Successfully built PyFDE\n",
            "Installing collected packages: PyFDE\n",
            "Successfully installed PyFDE-1.3.0\n"
          ],
          "name": "stdout"
        }
      ]
    },
    {
      "cell_type": "code",
      "metadata": {
        "id": "E7DrzRqmM2j8"
      },
      "source": [
        "import pyfde\n",
        "solver = pyfde.JADE(Fun, n_dim= dim, n_pop=NPAR, limits=bounds, minimize=True)\n",
        "solver.p = 0.05\n",
        "solver.c = 0.1"
      ],
      "execution_count": 4,
      "outputs": []
    },
    {
      "cell_type": "code",
      "metadata": {
        "id": "NnOvinHvNl_p"
      },
      "source": [
        "start_time = time.time()\n",
        "BEST_AGENTS=[]\n",
        "MAT_stat=[]"
      ],
      "execution_count": 5,
      "outputs": []
    },
    {
      "cell_type": "code",
      "metadata": {
        "id": "3-uCNVsZNnqa",
        "colab": {
          "base_uri": "https://localhost:8080/"
        },
        "outputId": "cd9c9501-7b92-46c7-a35e-898723d68678"
      },
      "source": [
        "start_time = time.time()\n",
        "BEST_AGENTS=[]\n",
        "BEST_FIT =[]\n",
        "rows = RUNS\n",
        "cols = dim + 1\n",
        "BEST_XY = np.zeros((rows,cols))\n",
        "for iii in range(RUNS):\n",
        "  solver = pyfde.JADE(Fun, n_dim= dim, n_pop=NPAR, limits=bounds, minimize=True)\n",
        "  solver.p = 0.05\n",
        "  solver.c = 0.1\n",
        "  solver.cr, solver.f = 0.5, 0.5\n",
        "  best, fit = solver.run(n_it=ITE)\n",
        "  kkk = -1\n",
        "  for xi in best:\n",
        "    kkk = kkk +1\n",
        "    BEST_XY[iii,kkk] = xi\n",
        "  BEST_XY[iii,dim] = -fit\n",
        "  BEST_AGENTS.append(best)\n",
        "  TIME = (time.time() - start_time) /60\n",
        "  BEST_FIT.append(-fit)\n",
        "  print('ite ', iii,'time ', TIME,'fob =', -fit)\n",
        "    \n",
        "############################## Cálculo dos Parâmetros de Avaliação   \n",
        "JADE_TIME = (time.time() - start_time)/RUNS"
      ],
      "execution_count": 6,
      "outputs": [
        {
          "output_type": "stream",
          "text": [
            "ite  0 time  0.051080771287282306 fob = 7.218113915252733e-140\n",
            "ite  1 time  0.10026286045710246 fob = 3.2294749919394283e-172\n",
            "ite  2 time  0.14954880078633626 fob = 1.472608646873025e-149\n",
            "ite  3 time  0.19836313724517823 fob = 8.278740663468637e-151\n",
            "ite  4 time  0.24816162983576456 fob = 1.2559983819847316e-144\n",
            "ite  5 time  0.2994452516237895 fob = 1.9230743019398089e-153\n",
            "ite  6 time  0.34903382857640586 fob = 1.5875927154961278e-157\n",
            "ite  7 time  0.3992756644884745 fob = 5.476848464927793e-145\n",
            "ite  8 time  0.45039260387420654 fob = 6.028382649066274e-160\n",
            "ite  9 time  0.5013214548428854 fob = 1.377835361783484e-153\n",
            "ite  10 time  0.5500258604685465 fob = 2.2813320708983658e-167\n",
            "ite  11 time  0.599846084912618 fob = 2.333465710126074e-160\n",
            "ite  12 time  0.6504149556159973 fob = 4.442144849215265e-165\n",
            "ite  13 time  0.6986235737800598 fob = 5.366161143300208e-181\n",
            "ite  14 time  0.7485719164212544 fob = 2.7700520930811975e-158\n",
            "ite  15 time  0.7982584516207377 fob = 1.76998898246089e-180\n",
            "ite  16 time  0.8467057228088379 fob = 1.870262444283612e-163\n",
            "ite  17 time  0.8950196067492168 fob = 8.760794394211958e-172\n",
            "ite  18 time  0.9438473582267761 fob = 9.99594464522716e-155\n",
            "ite  19 time  0.9920841773351033 fob = 3.756698579593568e-155\n",
            "ite  20 time  1.0412975112597147 fob = 1.1658942742810267e-162\n",
            "ite  21 time  1.0906248966852823 fob = 1.4145347998575093e-158\n",
            "ite  22 time  1.1407411853472391 fob = 3.727854142029574e-156\n",
            "ite  23 time  1.1896334807078044 fob = 7.613594178146674e-156\n",
            "ite  24 time  1.2399365226427714 fob = 2.477061868401911e-137\n",
            "ite  25 time  1.2910816431045533 fob = 2.3899779162485743e-135\n",
            "ite  26 time  1.3405239224433898 fob = 2.399653148870185e-144\n",
            "ite  27 time  1.3893880009651185 fob = 1.289676225349142e-147\n",
            "ite  28 time  1.43757453362147 fob = 7.373180777837448e-159\n",
            "ite  29 time  1.4862291137377421 fob = 1.3134718315339195e-183\n",
            "ite  30 time  1.5353432019551596 fob = 9.604921228237856e-147\n",
            "ite  31 time  1.58454718987147 fob = 7.6257961199152e-167\n",
            "ite  32 time  1.6341787497202556 fob = 5.418501070685615e-169\n",
            "ite  33 time  1.6821670254071555 fob = 5.4303192701576325e-152\n",
            "ite  34 time  1.7314647595087687 fob = 9.19927363965817e-154\n",
            "ite  35 time  1.7814196030298868 fob = 1.7649262052446828e-165\n",
            "ite  36 time  1.831321648756663 fob = 2.0111488846632453e-151\n",
            "ite  37 time  1.881201454003652 fob = 1.0348630922722015e-131\n",
            "ite  38 time  1.9296983400980632 fob = 4.838663131352808e-156\n",
            "ite  39 time  1.9788200418154398 fob = 1.6130993756341565e-164\n",
            "ite  40 time  2.0281550765037535 fob = 1.2058568442561263e-150\n",
            "ite  41 time  2.0775899291038513 fob = 1.1866175437866151e-150\n",
            "ite  42 time  2.1273349642753603 fob = 3.2952479636328704e-179\n",
            "ite  43 time  2.176597225666046 fob = 1.6680444095148294e-158\n",
            "ite  44 time  2.2266570409138997 fob = 1.0958869502990172e-148\n",
            "ite  45 time  2.276087029774984 fob = 3.8847666906998827e-149\n",
            "ite  46 time  2.325643046696981 fob = 6.6125750310398046e-167\n",
            "ite  47 time  2.3771914800008136 fob = 5.105269359619098e-150\n",
            "ite  48 time  2.426415510972341 fob = 4.895954531742284e-157\n",
            "ite  49 time  2.4757664680480955 fob = 4.271404632647569e-149\n"
          ],
          "name": "stdout"
        }
      ]
    },
    {
      "cell_type": "code",
      "metadata": {
        "id": "vxovHXZqNuYh"
      },
      "source": [
        "IND_XY = np.argsort(np.array(BEST_XY[:,-1]))\n",
        "BEST_XY = BEST_XY[IND_XY,:]"
      ],
      "execution_count": 7,
      "outputs": []
    },
    {
      "cell_type": "code",
      "metadata": {
        "id": "iNdcjVsFN15n"
      },
      "source": [
        "JADE_BEST=BEST_XY[0]\n",
        "JADE_WORSE=BEST_XY[-1]\n",
        "JADE_MEAN=np.mean(BEST_XY,axis=0)\n",
        "JADE_MAXFO=BEST_XY[:,-1].max()\n",
        "JADE_MINFO=BEST_XY[:,-1].min()\n",
        "JADE_STD=BEST_XY[:,-1].std()\n",
        "JADE_BEST=BEST_XY[(rows-1),(cols-1)]"
      ],
      "execution_count": 8,
      "outputs": []
    },
    {
      "cell_type": "code",
      "metadata": {
        "id": "lNSN5X-wskcx",
        "colab": {
          "base_uri": "https://localhost:8080/"
        },
        "outputId": "eba1e689-20dd-429d-e9ab-ca73dd367100"
      },
      "source": [
        "print('======== JADE ==============')\n",
        "print('NPAR=',NPAR,'Iterações=',ITE*its,'Dim=', dim,\"Min/Max=\",MIN[0],\"/\",MAX[0],'_',Fun.__name__)\n",
        "print()\n",
        "print('MÉDIA: ',JADE_MEAN[-1])\n",
        "print('MIN __:',JADE_MINFO)\n",
        "print('MAX__: ',JADE_MAXFO)\n",
        "print('STD __:',JADE_STD)\n",
        "print(\"Tempo Médio= %.3f segundos ---\" % (JADE_TIME))\n",
        "print(RUNS,'Rodadas') \n",
        "print()\n",
        "print('BEST: ',JADE_MINFO)\n",
        "\n",
        "print(JADE_MEAN[-1])\n",
        "print(JADE_STD)\n",
        "print(JADE_MINFO)\n"
      ],
      "execution_count": 9,
      "outputs": [
        {
          "output_type": "stream",
          "text": [
            "======== JADE ==============\n",
            "NPAR= 100 Iterações= 2000 Dim= 30 Min/Max= -10 / 10 _ Schwefel_223\n",
            "\n",
            "MÉDIA:  2.0702091486884603e-133\n",
            "MIN __: 1.3134718315339195e-183\n",
            "MAX__:  1.0348630922722015e-131\n",
            "STD __: 1.4488014683017797e-132\n",
            "Tempo Médio= 2.971 segundos ---\n",
            "50 Rodadas\n",
            "\n",
            "BEST:  1.3134718315339195e-183\n",
            "2.0702091486884603e-133\n",
            "1.4488014683017797e-132\n",
            "1.3134718315339195e-183\n"
          ],
          "name": "stdout"
        }
      ]
    }
  ]
}
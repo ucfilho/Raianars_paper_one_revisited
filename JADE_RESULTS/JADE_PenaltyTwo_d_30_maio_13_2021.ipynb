{
  "nbformat": 4,
  "nbformat_minor": 0,
  "metadata": {
    "colab": {
      "name": "JADE_PenaltyTwo_d_30_maio_13_2021.ipynb",
      "provenance": [],
      "collapsed_sections": [],
      "authorship_tag": "ABX9TyOlo9Uo1okzGXbZsj2QvIT2",
      "include_colab_link": true
    },
    "kernelspec": {
      "display_name": "Python 3",
      "name": "python3"
    }
  },
  "cells": [
    {
      "cell_type": "markdown",
      "metadata": {
        "id": "view-in-github",
        "colab_type": "text"
      },
      "source": [
        "<a href=\"https://colab.research.google.com/github/ucfilho/Raianars_paper_one_revisited/blob/main/JADE_RESULTS/JADE_PenaltyTwo_d_30_maio_13_2021.ipynb\" target=\"_parent\"><img src=\"https://colab.research.google.com/assets/colab-badge.svg\" alt=\"Open In Colab\"/></a>"
      ]
    },
    {
      "cell_type": "code",
      "metadata": {
        "id": "Es8PhSUedYDe"
      },
      "source": [
        "import numpy as np\n",
        "import time"
      ],
      "execution_count": 1,
      "outputs": []
    },
    {
      "cell_type": "code",
      "metadata": {
        "colab": {
          "base_uri": "https://localhost:8080/"
        },
        "id": "WPP0AwDbdk4p",
        "outputId": "a8b01b05-d0ca-440a-8bed-6bbcae3a74f7"
      },
      "source": [
        "!git clone https://github.com/ucfilho/Raianars_Routines\n",
        "%cd Raianars_Routines"
      ],
      "execution_count": 2,
      "outputs": [
        {
          "output_type": "stream",
          "text": [
            "Cloning into 'Raianars_Routines'...\n",
            "remote: Enumerating objects: 54, done.\u001b[K\n",
            "remote: Counting objects: 100% (54/54), done.\u001b[K\n",
            "remote: Compressing objects: 100% (52/52), done.\u001b[K\n",
            "remote: Total 54 (delta 16), reused 0 (delta 0), pack-reused 0\u001b[K\n",
            "Unpacking objects: 100% (54/54), done.\n",
            "/content/Raianars_Routines\n"
          ],
          "name": "stdout"
        }
      ]
    },
    {
      "cell_type": "code",
      "metadata": {
        "id": "SG2Zh9StRMih"
      },
      "source": [
        "############################### Função\n",
        "import FunctionsNew\n",
        "#'''  \n",
        "############################### Função\n",
        "dim=30 # \n",
        "fchoice='PenaltyTwo'\n",
        "Fun=FunctionsNew.PenaltyTwo\n",
        "MAX=np.repeat(50,dim)\n",
        "MIN=np.repeat(-50,dim)\n",
        "bounds = (-50,50)\n"
      ],
      "execution_count": 3,
      "outputs": []
    },
    {
      "cell_type": "code",
      "metadata": {
        "id": "aainD4FVhQhu"
      },
      "source": [
        "ITE=2000 #10 # PONTOS quantas vezes vai alteral NPAR \n",
        "NPAR=100 # NUMBER OF PARTICLES\n",
        "RUNS=50 #NÚMERO DE RODADAS"
      ],
      "execution_count": 4,
      "outputs": []
    },
    {
      "cell_type": "code",
      "metadata": {
        "id": "4nlypEzsd8z4"
      },
      "source": [
        "#print(bounds)"
      ],
      "execution_count": 5,
      "outputs": []
    },
    {
      "cell_type": "code",
      "metadata": {
        "colab": {
          "base_uri": "https://localhost:8080/"
        },
        "id": "s8eOhF9tgGNn",
        "outputId": "3ddcd3f7-09ee-4f13-d4d7-23317ebe0fb5"
      },
      "source": [
        "!pip install PyFDE"
      ],
      "execution_count": 6,
      "outputs": [
        {
          "output_type": "stream",
          "text": [
            "Collecting PyFDE\n",
            "\u001b[?25l  Downloading https://files.pythonhosted.org/packages/72/f9/87f7279554d2682e3827d39c3d3a565b2fd42f7114a779e34a601c6c5079/PyFDE-1.3.0.tar.gz (397kB)\n",
            "\u001b[K     |████████████████████████████████| 399kB 3.9MB/s \n",
            "\u001b[?25hRequirement already satisfied: numpy in /usr/local/lib/python3.7/dist-packages (from PyFDE) (1.19.5)\n",
            "Building wheels for collected packages: PyFDE\n",
            "  Building wheel for PyFDE (setup.py) ... \u001b[?25l\u001b[?25hdone\n",
            "  Created wheel for PyFDE: filename=PyFDE-1.3.0-cp37-cp37m-linux_x86_64.whl size=974715 sha256=227a6fc5910ce9a8c246f9a75203fb8d9f14a993b80cd0af12152f05a0f041c3\n",
            "  Stored in directory: /root/.cache/pip/wheels/7d/42/ba/abf21db37934e576c74fc2c9504b5cd97eb6a99e3dec1743c0\n",
            "Successfully built PyFDE\n",
            "Installing collected packages: PyFDE\n",
            "Successfully installed PyFDE-1.3.0\n"
          ],
          "name": "stdout"
        }
      ]
    },
    {
      "cell_type": "code",
      "metadata": {
        "id": "RSVcPxfcgHC_"
      },
      "source": [
        "import pyfde\n",
        "solver = pyfde.JADE(Fun, n_dim= dim, n_pop=NPAR, limits=bounds, minimize=True)\n",
        "solver.p = 0.05\n",
        "solver.c = 0.1\n",
        "its = 1"
      ],
      "execution_count": 7,
      "outputs": []
    },
    {
      "cell_type": "code",
      "metadata": {
        "colab": {
          "base_uri": "https://localhost:8080/"
        },
        "id": "YhpvZOmJbKlq",
        "outputId": "ee748734-a952-4a8e-86b5-6bd04972d620"
      },
      "source": [
        "bounds"
      ],
      "execution_count": 8,
      "outputs": [
        {
          "output_type": "execute_result",
          "data": {
            "text/plain": [
              "(-50, 50)"
            ]
          },
          "metadata": {
            "tags": []
          },
          "execution_count": 8
        }
      ]
    },
    {
      "cell_type": "code",
      "metadata": {
        "id": "A1jYSGP2R70v"
      },
      "source": [
        "start_time = time.time()\n",
        "BEST_AGENTS=[]\n",
        "MAT_stat=[]"
      ],
      "execution_count": 9,
      "outputs": []
    },
    {
      "cell_type": "code",
      "metadata": {
        "id": "M9HVQ-J2SS5w",
        "colab": {
          "base_uri": "https://localhost:8080/"
        },
        "outputId": "e073f67a-97e1-4479-b5c3-3ccf681151db"
      },
      "source": [
        "start_time = time.time()\n",
        "BEST_AGENTS=[]\n",
        "BEST_FIT =[]\n",
        "rows = RUNS\n",
        "cols = dim + 1\n",
        "BEST_XY = np.zeros((rows,cols))\n",
        "for iii in range(RUNS):\n",
        "  solver = pyfde.JADE(Fun, n_dim= dim, n_pop=NPAR, limits=bounds, minimize=True)\n",
        "  solver.p = 0.05\n",
        "  solver.c = 0.1\n",
        "  solver.cr, solver.f = 0.5, 0.5\n",
        "  best, fit = solver.run(n_it=ITE)\n",
        "  kkk = -1\n",
        "  for xi in best:\n",
        "    kkk = kkk +1\n",
        "    BEST_XY[iii,kkk] = xi\n",
        "  BEST_XY[iii,dim] = -fit\n",
        "  BEST_AGENTS.append(best)\n",
        "  TIME = (time.time() - start_time) /60\n",
        "  BEST_FIT.append(-fit)\n",
        "  print('ite ', iii,'time ', TIME,'fob =', -fit)\n",
        "    \n",
        "############################## Cálculo dos Parâmetros de Avaliação   \n",
        "TIME = (time.time() - start_time)/RUNS\n"
      ],
      "execution_count": 10,
      "outputs": [
        {
          "output_type": "stream",
          "text": [
            "ite  0 time  0.36765960852305096 fob = 1.3497838043956716e-32\n",
            "ite  1 time  0.7290646990140279 fob = 1.3497838043956716e-32\n",
            "ite  2 time  1.0864590724309287 fob = 1.3497838043956716e-32\n",
            "ite  3 time  1.4465221524238587 fob = 1.3497838043956716e-32\n",
            "ite  4 time  1.8090705196062724 fob = 1.3497838043956716e-32\n",
            "ite  5 time  2.1776296377182005 fob = 1.3497838043956716e-32\n",
            "ite  6 time  2.545815718173981 fob = 1.3497838043956716e-32\n",
            "ite  7 time  2.9133391539255777 fob = 1.3497838043956716e-32\n",
            "ite  8 time  3.280107045173645 fob = 1.3497838043956716e-32\n",
            "ite  9 time  3.6479580839474997 fob = 1.3497838043956716e-32\n",
            "ite  10 time  4.016075750192006 fob = 1.3497838043956716e-32\n",
            "ite  11 time  4.379956098397573 fob = 1.3497838043956716e-32\n",
            "ite  12 time  4.744016480445862 fob = 1.3497838043956716e-32\n",
            "ite  13 time  5.1097075541814165 fob = 1.3497838043956716e-32\n",
            "ite  14 time  5.476830987135569 fob = 1.3497838043956716e-32\n",
            "ite  15 time  5.841610928376515 fob = 1.3497838043956716e-32\n",
            "ite  16 time  6.2077994028727215 fob = 1.3497838043956716e-32\n",
            "ite  17 time  6.577441744009653 fob = 1.3497838043956716e-32\n",
            "ite  18 time  6.94044140179952 fob = 1.3497838043956716e-32\n",
            "ite  19 time  7.304300089677175 fob = 1.3497838043956716e-32\n",
            "ite  20 time  7.667487998803456 fob = 1.3497838043956716e-32\n",
            "ite  21 time  8.030885430177053 fob = 1.3497838043956716e-32\n",
            "ite  22 time  8.395408618450166 fob = 1.3497838043956716e-32\n",
            "ite  23 time  8.770016833146412 fob = 1.3497838043956716e-32\n",
            "ite  24 time  9.15591139793396 fob = 1.3497838043956716e-32\n",
            "ite  25 time  9.51638598839442 fob = 1.3497838043956716e-32\n",
            "ite  26 time  9.879947710037232 fob = 1.3497838043956716e-32\n",
            "ite  27 time  10.243241767088572 fob = 1.3497838043956716e-32\n",
            "ite  28 time  10.604382956027985 fob = 1.3497838043956716e-32\n",
            "ite  29 time  10.967414788405101 fob = 1.3497838043956716e-32\n",
            "ite  30 time  11.33487724463145 fob = 1.3497838043956716e-32\n",
            "ite  31 time  11.708020877838134 fob = 1.3497838043956716e-32\n",
            "ite  32 time  12.079749766985575 fob = 1.3497838043956716e-32\n",
            "ite  33 time  12.4467511733373 fob = 1.3497838043956716e-32\n",
            "ite  34 time  12.81363168557485 fob = 1.3497838043956716e-32\n",
            "ite  35 time  13.178781282901763 fob = 1.3497838043956716e-32\n",
            "ite  36 time  13.543570486704509 fob = 1.3497838043956716e-32\n",
            "ite  37 time  13.906716430187226 fob = 1.3497838043956716e-32\n",
            "ite  38 time  14.278902339935303 fob = 1.3497838043956716e-32\n",
            "ite  39 time  14.648273984591166 fob = 1.3497838043956716e-32\n",
            "ite  40 time  15.018519107500712 fob = 1.3497838043956716e-32\n",
            "ite  41 time  15.387315992514292 fob = 1.3497838043956716e-32\n",
            "ite  42 time  15.754230093955993 fob = 1.3497838043956716e-32\n",
            "ite  43 time  16.124700725078583 fob = 1.3497838043956716e-32\n",
            "ite  44 time  16.49691296815872 fob = 1.3497838043956716e-32\n",
            "ite  45 time  16.861956214904787 fob = 1.3497838043956716e-32\n",
            "ite  46 time  17.23356947898865 fob = 1.3497838043956716e-32\n",
            "ite  47 time  17.600294466813406 fob = 1.3497838043956716e-32\n",
            "ite  48 time  17.9676965991656 fob = 1.3497838043956716e-32\n",
            "ite  49 time  18.339012678464254 fob = 1.3497838043956716e-32\n"
          ],
          "name": "stdout"
        }
      ]
    },
    {
      "cell_type": "code",
      "metadata": {
        "id": "u-n_6dNIfgHe"
      },
      "source": [
        "IND_XY = np.argsort(np.array(BEST_XY[:,-1]))\n",
        "BEST_XY = BEST_XY[IND_XY,:]"
      ],
      "execution_count": 11,
      "outputs": []
    },
    {
      "cell_type": "code",
      "metadata": {
        "id": "J_yG5aOopqo5"
      },
      "source": [
        "\n",
        "\n",
        "BEST=BEST_XY[0]\n",
        "WORSE=BEST_XY[-1]\n",
        "MEAN=np.mean(BEST_XY,axis=0)\n",
        "MAXFO=BEST_XY[:,-1].max()\n",
        "MINFO=BEST_XY[:,-1].min()\n",
        "STD=BEST_XY[:,-1].std()\n",
        "BEST=BEST_XY[(rows-1),(cols-1)]"
      ],
      "execution_count": 12,
      "outputs": []
    },
    {
      "cell_type": "code",
      "metadata": {
        "id": "z4mYgxbKhqj1",
        "colab": {
          "base_uri": "https://localhost:8080/"
        },
        "outputId": "1c252be4-4cf1-4a7f-cd9b-7e305b2e67e1"
      },
      "source": [
        "print('======== JADE ==============')\n",
        "print('NPAR=',NPAR,'Iterações=',ITE*its,'Dim=', dim,\"Min/Max=\",MIN[0],\"/\",MAX[0],'_',Fun.__name__)\n",
        "print()\n",
        "print('MÉDIA: ',MEAN[-1])\n",
        "print('MIN __:',MINFO)\n",
        "print('MAX__: ',MAXFO)\n",
        "print('STD __:',STD)\n",
        "print(\"Tempo Médio= %.3f segundos ---\" % (TIME))\n",
        "print(RUNS,'Rodadas') \n",
        "print()\n",
        "print('BEST: ',MINFO)\n",
        "print()\n",
        "print(MEAN[-1])\n",
        "print(STD)\n",
        "print(MINFO)\n",
        "\n",
        "\n",
        "# print('melhor=',BEST_AGENTS[BEST_INDEX])"
      ],
      "execution_count": 13,
      "outputs": [
        {
          "output_type": "stream",
          "text": [
            "======== JADE ==============\n",
            "NPAR= 100 Iterações= 2000 Dim= 30 Min/Max= -50 / 50 _ PenaltyTwo\n",
            "\n",
            "MÉDIA:  1.3497838043956727e-32\n",
            "MIN __: 1.3497838043956716e-32\n",
            "MAX__:  1.3497838043956716e-32\n",
            "STD __: 2.7369110631344083e-48\n",
            "Tempo Médio= 22.007 segundos ---\n",
            "50 Rodadas\n",
            "\n",
            "BEST:  1.3497838043956716e-32\n",
            "\n",
            "1.3497838043956727e-32\n",
            "2.7369110631344083e-48\n",
            "1.3497838043956716e-32\n"
          ],
          "name": "stdout"
        }
      ]
    }
  ]
}
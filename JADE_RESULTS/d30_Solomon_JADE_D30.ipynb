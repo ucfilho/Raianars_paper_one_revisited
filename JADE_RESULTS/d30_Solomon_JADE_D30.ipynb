{
  "nbformat": 4,
  "nbformat_minor": 0,
  "metadata": {
    "colab": {
      "name": "d30_Solomon_JADE_D30.ipynb",
      "provenance": [],
      "collapsed_sections": [],
      "include_colab_link": true
    },
    "kernelspec": {
      "display_name": "Python 3",
      "name": "python3"
    },
    "language_info": {
      "codemirror_mode": {
        "name": "ipython",
        "version": 3
      },
      "file_extension": ".py",
      "mimetype": "text/x-python",
      "name": "python",
      "nbconvert_exporter": "python",
      "pygments_lexer": "ipython3",
      "version": "3.7.3"
    }
  },
  "cells": [
    {
      "cell_type": "markdown",
      "metadata": {
        "id": "view-in-github",
        "colab_type": "text"
      },
      "source": [
        "<a href=\"https://colab.research.google.com/github/ucfilho/Raianars_paper_one_revisited/blob/main/JADE_RESULTS/d30_Solomon_JADE_D30.ipynb\" target=\"_parent\"><img src=\"https://colab.research.google.com/assets/colab-badge.svg\" alt=\"Open In Colab\"/></a>"
      ]
    },
    {
      "cell_type": "code",
      "metadata": {
        "colab": {
          "base_uri": "https://localhost:8080/"
        },
        "id": "IviJOU5POtN8",
        "outputId": "b74b7645-00d8-404d-b77d-e219e24208ef"
      },
      "source": [
        "############################### Importar códigos\n",
        "!git clone https://github.com/ucfilho/optim_raianars_Insight\n",
        "%cd optim_raianars_Insight"
      ],
      "execution_count": 1,
      "outputs": [
        {
          "output_type": "stream",
          "text": [
            "Cloning into 'optim_raianars_Insight'...\n",
            "remote: Enumerating objects: 375, done.\u001b[K\n",
            "remote: Counting objects: 100% (61/61), done.\u001b[K\n",
            "remote: Compressing objects: 100% (61/61), done.\u001b[K\n",
            "remote: Total 375 (delta 35), reused 0 (delta 0), pack-reused 314\u001b[K\n",
            "Receiving objects: 100% (375/375), 327.03 KiB | 11.28 MiB/s, done.\n",
            "Resolving deltas: 100% (216/216), done.\n",
            "/content/optim_raianars_Insight\n"
          ],
          "name": "stdout"
        }
      ]
    },
    {
      "cell_type": "code",
      "metadata": {
        "id": "_E15mKFURR6O"
      },
      "source": [
        "import Function\n",
        "import Go2MinMax\n",
        "import numpy as np\n",
        "import time\n",
        "import matplotlib.pyplot as plt\n",
        "from random import randint\n",
        "import pandas as pd"
      ],
      "execution_count": 2,
      "outputs": []
    },
    {
      "cell_type": "code",
      "metadata": {
        "id": "o0jWIItGErMg"
      },
      "source": [
        "!git clone https://github.com/ucfilho/Raianars_Routines #clonar do Github\n",
        "%cd Raianars_Routines"
      ],
      "execution_count": null,
      "outputs": []
    },
    {
      "cell_type": "code",
      "metadata": {
        "colab": {
          "base_uri": "https://localhost:8080/"
        },
        "id": "b4IBcelTB4qr",
        "outputId": "00e7a388-07c6-46d8-860f-5b7a783350ed"
      },
      "source": [
        "\n",
        "!git clone https://github.com/ucfilho/Raianars_Routines #clonar do Github\n",
        "%cd Raianars_Routines\n",
        "\n",
        "############################### Função\n",
        "import FunctionsNew\n",
        "#'''  \n",
        "############################### Função\n",
        "dim=30 # \n",
        "fchoice='Salomon'\n",
        "Fun=FunctionsNew.Salomon\n",
        "MAX=np.repeat(100,dim)\n",
        "MIN=np.repeat(-100,dim)\n",
        "\n",
        "bounds=[]\n",
        "for k in range(len(MAX)):\n",
        "  bounds.append((MIN[k],MAX[k]))\n",
        "\n",
        "############################### DADOS DE ENTRADA \n",
        "RUNS=50 #NÚMERO DE RODADAS\n",
        "Fc=0.1 # fator de correcao parametros da ANN\n",
        "its=1 #10 # quantas vezes vai usar o NPAR antes de alterar de novo\n",
        "ITE=2000 #00 #10 # PONTOS quantas vezes vai alteral NPAR \n",
        "NPAR=100"
      ],
      "execution_count": 3,
      "outputs": [
        {
          "output_type": "stream",
          "text": [
            "Cloning into 'Raianars_Routines'...\n",
            "remote: Enumerating objects: 54, done.\u001b[K\n",
            "remote: Counting objects: 100% (54/54), done.\u001b[K\n",
            "remote: Compressing objects: 100% (52/52), done.\u001b[K\n",
            "remote: Total 54 (delta 16), reused 0 (delta 0), pack-reused 0\u001b[K\n",
            "Unpacking objects: 100% (54/54), done.\n",
            "/content/optim_raianars_Insight/Raianars_Routines\n"
          ],
          "name": "stdout"
        }
      ]
    },
    {
      "cell_type": "code",
      "metadata": {
        "colab": {
          "base_uri": "https://localhost:8080/"
        },
        "id": "lAVDJIRmNQUC",
        "outputId": "c8acc7b0-805f-4a36-b8f3-0975a7aba11b"
      },
      "source": [
        "!pip install PyFDE"
      ],
      "execution_count": 4,
      "outputs": [
        {
          "output_type": "stream",
          "text": [
            "Collecting PyFDE\n",
            "\u001b[?25l  Downloading https://files.pythonhosted.org/packages/72/f9/87f7279554d2682e3827d39c3d3a565b2fd42f7114a779e34a601c6c5079/PyFDE-1.3.0.tar.gz (397kB)\n",
            "\r\u001b[K     |▉                               | 10kB 21.3MB/s eta 0:00:01\r\u001b[K     |█▋                              | 20kB 30.6MB/s eta 0:00:01\r\u001b[K     |██▌                             | 30kB 34.9MB/s eta 0:00:01\r\u001b[K     |███▎                            | 40kB 25.2MB/s eta 0:00:01\r\u001b[K     |████▏                           | 51kB 16.4MB/s eta 0:00:01\r\u001b[K     |█████                           | 61kB 12.9MB/s eta 0:00:01\r\u001b[K     |█████▊                          | 71kB 14.0MB/s eta 0:00:01\r\u001b[K     |██████▋                         | 81kB 15.5MB/s eta 0:00:01\r\u001b[K     |███████▍                        | 92kB 15.0MB/s eta 0:00:01\r\u001b[K     |████████▎                       | 102kB 14.5MB/s eta 0:00:01\r\u001b[K     |█████████                       | 112kB 14.5MB/s eta 0:00:01\r\u001b[K     |██████████                      | 122kB 14.5MB/s eta 0:00:01\r\u001b[K     |██████████▊                     | 133kB 14.5MB/s eta 0:00:01\r\u001b[K     |███████████▌                    | 143kB 14.5MB/s eta 0:00:01\r\u001b[K     |████████████▍                   | 153kB 14.5MB/s eta 0:00:01\r\u001b[K     |█████████████▏                  | 163kB 14.5MB/s eta 0:00:01\r\u001b[K     |██████████████                  | 174kB 14.5MB/s eta 0:00:01\r\u001b[K     |██████████████▉                 | 184kB 14.5MB/s eta 0:00:01\r\u001b[K     |███████████████▊                | 194kB 14.5MB/s eta 0:00:01\r\u001b[K     |████████████████▌               | 204kB 14.5MB/s eta 0:00:01\r\u001b[K     |█████████████████▎              | 215kB 14.5MB/s eta 0:00:01\r\u001b[K     |██████████████████▏             | 225kB 14.5MB/s eta 0:00:01\r\u001b[K     |███████████████████             | 235kB 14.5MB/s eta 0:00:01\r\u001b[K     |███████████████████▉            | 245kB 14.5MB/s eta 0:00:01\r\u001b[K     |████████████████████▋           | 256kB 14.5MB/s eta 0:00:01\r\u001b[K     |█████████████████████▌          | 266kB 14.5MB/s eta 0:00:01\r\u001b[K     |██████████████████████▎         | 276kB 14.5MB/s eta 0:00:01\r\u001b[K     |███████████████████████         | 286kB 14.5MB/s eta 0:00:01\r\u001b[K     |████████████████████████        | 296kB 14.5MB/s eta 0:00:01\r\u001b[K     |████████████████████████▊       | 307kB 14.5MB/s eta 0:00:01\r\u001b[K     |█████████████████████████▋      | 317kB 14.5MB/s eta 0:00:01\r\u001b[K     |██████████████████████████▍     | 327kB 14.5MB/s eta 0:00:01\r\u001b[K     |███████████████████████████▎    | 337kB 14.5MB/s eta 0:00:01\r\u001b[K     |████████████████████████████    | 348kB 14.5MB/s eta 0:00:01\r\u001b[K     |████████████████████████████▉   | 358kB 14.5MB/s eta 0:00:01\r\u001b[K     |█████████████████████████████▊  | 368kB 14.5MB/s eta 0:00:01\r\u001b[K     |██████████████████████████████▌ | 378kB 14.5MB/s eta 0:00:01\r\u001b[K     |███████████████████████████████▍| 389kB 14.5MB/s eta 0:00:01\r\u001b[K     |████████████████████████████████| 399kB 14.5MB/s \n",
            "\u001b[?25hRequirement already satisfied: numpy in /usr/local/lib/python3.7/dist-packages (from PyFDE) (1.19.5)\n",
            "Building wheels for collected packages: PyFDE\n",
            "  Building wheel for PyFDE (setup.py) ... \u001b[?25l\u001b[?25hdone\n",
            "  Created wheel for PyFDE: filename=PyFDE-1.3.0-cp37-cp37m-linux_x86_64.whl size=974697 sha256=3388cae5a05c9a546b4cf17477c3c3ba74ea573939ea63c8b972f57587f48650\n",
            "  Stored in directory: /root/.cache/pip/wheels/7d/42/ba/abf21db37934e576c74fc2c9504b5cd97eb6a99e3dec1743c0\n",
            "Successfully built PyFDE\n",
            "Installing collected packages: PyFDE\n",
            "Successfully installed PyFDE-1.3.0\n"
          ],
          "name": "stdout"
        }
      ]
    },
    {
      "cell_type": "code",
      "metadata": {
        "id": "E7DrzRqmM2j8"
      },
      "source": [
        "import pyfde\n",
        "solver = pyfde.JADE(Fun, n_dim= dim, n_pop=NPAR, limits=bounds, minimize=True)\n",
        "solver.p = 0.05\n",
        "solver.c = 0.1"
      ],
      "execution_count": 5,
      "outputs": []
    },
    {
      "cell_type": "code",
      "metadata": {
        "id": "NnOvinHvNl_p"
      },
      "source": [
        "start_time = time.time()\n",
        "BEST_AGENTS=[]\n",
        "MAT_stat=[]"
      ],
      "execution_count": 6,
      "outputs": []
    },
    {
      "cell_type": "code",
      "metadata": {
        "id": "3-uCNVsZNnqa",
        "colab": {
          "base_uri": "https://localhost:8080/"
        },
        "outputId": "12fbae2a-c2d4-4ebd-e72f-f3f2eeaccb47"
      },
      "source": [
        "start_time = time.time()\n",
        "BEST_AGENTS=[]\n",
        "BEST_FIT =[]\n",
        "rows = RUNS\n",
        "cols = dim + 1\n",
        "BEST_XY = np.zeros((rows,cols))\n",
        "for iii in range(RUNS):\n",
        "  solver = pyfde.JADE(Fun, n_dim= dim, n_pop=NPAR, limits=bounds, minimize=True)\n",
        "  solver.p = 0.05\n",
        "  solver.c = 0.1\n",
        "  solver.cr, solver.f = 0.5, 0.5\n",
        "  best, fit = solver.run(n_it=ITE)\n",
        "  kkk = -1\n",
        "  for xi in best:\n",
        "    kkk = kkk +1\n",
        "    BEST_XY[iii,kkk] = xi\n",
        "  BEST_XY[iii,dim] = -fit\n",
        "  BEST_AGENTS.append(best)\n",
        "  TIME = (time.time() - start_time) /60\n",
        "  BEST_FIT.append(-fit)\n",
        "  print('ite ', iii,'time ', TIME,'fob =', -fit)\n",
        "    \n",
        "############################## Cálculo dos Parâmetros de Avaliação   \n",
        "JADE_TIME = (time.time() - start_time)/RUNS"
      ],
      "execution_count": 7,
      "outputs": [
        {
          "output_type": "stream",
          "text": [
            "ite  0 time  0.0493432879447937 fob = 0.09987334773963263\n",
            "ite  1 time  0.09861454566319784 fob = 0.1998733458709293\n",
            "ite  2 time  0.14704278707504273 fob = 0.19987334584681316\n",
            "ite  3 time  0.1955169955889384 fob = 0.19987334584681465\n",
            "ite  4 time  0.24386374950408934 fob = 0.19987334584681443\n",
            "ite  5 time  0.2926425258318583 fob = 0.199873345846811\n",
            "ite  6 time  0.3409795641899109 fob = 0.19987334584681274\n",
            "ite  7 time  0.38939297993977867 fob = 0.29987334584681435\n",
            "ite  8 time  0.43723328908284503 fob = 0.19987334584681593\n",
            "ite  9 time  0.4854287068049113 fob = 0.19987334584685934\n",
            "ite  10 time  0.5337761123975118 fob = 0.19987334584690497\n",
            "ite  11 time  0.5825155814488728 fob = 0.19987334584681116\n",
            "ite  12 time  0.631117828687032 fob = 0.19987334584777494\n",
            "ite  13 time  0.6800513784090678 fob = 0.19987334584681105\n",
            "ite  14 time  0.7284476637840271 fob = 0.19987334584681107\n",
            "ite  15 time  0.777397632598877 fob = 0.2998733458468329\n",
            "ite  16 time  0.8265444238980612 fob = 0.1998733458677049\n",
            "ite  17 time  0.8751036763191223 fob = 0.19987334584681363\n",
            "ite  18 time  0.9244850317637126 fob = 0.09987335457378466\n",
            "ite  19 time  0.972987417380015 fob = 0.19987334584681538\n",
            "ite  20 time  1.0222646355628968 fob = 0.19987334584692637\n",
            "ite  21 time  1.0708853046099345 fob = 0.19987334584684002\n",
            "ite  22 time  1.119006621837616 fob = 0.19987334584681427\n",
            "ite  23 time  1.1673202037811279 fob = 0.19987334584681166\n",
            "ite  24 time  1.2158069729804992 fob = 0.19987334584689062\n",
            "ite  25 time  1.2644979317982992 fob = 0.19987334584683103\n",
            "ite  26 time  1.312541663646698 fob = 0.19987334584695932\n",
            "ite  27 time  1.3604559302330017 fob = 0.29987334584684056\n",
            "ite  28 time  1.4084986845652263 fob = 0.19987334584682348\n",
            "ite  29 time  1.4573995391527812 fob = 0.19987334584681393\n",
            "ite  30 time  1.5060920437177023 fob = 0.19987334584688798\n",
            "ite  31 time  1.554366898536682 fob = 0.19987334584688515\n",
            "ite  32 time  1.6026312788327535 fob = 0.19987334584731054\n",
            "ite  33 time  1.6520190517107645 fob = 0.19987334586583763\n",
            "ite  34 time  1.701704700787862 fob = 0.19987334584681152\n",
            "ite  35 time  1.7510403076807657 fob = 0.1998733458468113\n",
            "ite  36 time  1.8000771164894105 fob = 0.19987334584732588\n",
            "ite  37 time  1.8483530124028524 fob = 0.1998733458468327\n",
            "ite  38 time  1.8964033524195354 fob = 0.19987334584688535\n",
            "ite  39 time  1.9459620793660481 fob = 0.19987334584682429\n",
            "ite  40 time  1.9946616053581239 fob = 0.19987334584681493\n",
            "ite  41 time  2.043652971585592 fob = 0.19987334584681551\n",
            "ite  42 time  2.091853308677673 fob = 0.19987334759223974\n",
            "ite  43 time  2.140093259016673 fob = 0.19987334584681113\n",
            "ite  44 time  2.188464617729187 fob = 0.19987334584704253\n",
            "ite  45 time  2.2371837576230367 fob = 0.19987334584681102\n",
            "ite  46 time  2.2866061091423036 fob = 0.1998733507823247\n",
            "ite  47 time  2.3361486554145814 fob = 0.0998733654541613\n",
            "ite  48 time  2.385060938199361 fob = 0.1998733458471307\n",
            "ite  49 time  2.433929471174876 fob = 0.19987334584681124\n"
          ],
          "name": "stdout"
        }
      ]
    },
    {
      "cell_type": "code",
      "metadata": {
        "id": "vxovHXZqNuYh"
      },
      "source": [
        "IND_XY = np.argsort(np.array(BEST_XY[:,-1]))\n",
        "BEST_XY = BEST_XY[IND_XY,:]"
      ],
      "execution_count": 8,
      "outputs": []
    },
    {
      "cell_type": "code",
      "metadata": {
        "id": "iNdcjVsFN15n"
      },
      "source": [
        "JADE_BEST=BEST_XY[0]\n",
        "JADE_WORSE=BEST_XY[-1]\n",
        "JADE_MEAN=np.mean(BEST_XY,axis=0)\n",
        "JADE_MAXFO=BEST_XY[:,-1].max()\n",
        "JADE_MINFO=BEST_XY[:,-1].min()\n",
        "JADE_STD=BEST_XY[:,-1].std()\n",
        "JADE_BEST=BEST_XY[(rows-1),(cols-1)]"
      ],
      "execution_count": 9,
      "outputs": []
    },
    {
      "cell_type": "code",
      "metadata": {
        "id": "lNSN5X-wskcx",
        "colab": {
          "base_uri": "https://localhost:8080/"
        },
        "outputId": "637632cb-f359-47d2-d5a0-7990e7cc5a85"
      },
      "source": [
        "print('======== JADE ==============')\n",
        "print('NPAR=',NPAR,'Iterações=',ITE*its,'Dim=', dim,\"Min/Max=\",MIN[0],\"/\",MAX[0],'_',Fun.__name__)\n",
        "print()\n",
        "print('MÉDIA: ',JADE_MEAN[-1])\n",
        "print('MIN __:',JADE_MINFO)\n",
        "print('MAX__: ',JADE_MAXFO)\n",
        "print('STD __:',JADE_STD)\n",
        "print(\"Tempo Médio= %.3f segundos ---\" % (JADE_TIME))\n",
        "print(RUNS,'Rodadas') \n",
        "print()\n",
        "print('BEST: ',JADE_MINFO)\n",
        "\n",
        "print(JADE_MEAN[-1])\n",
        "print(JADE_STD)\n",
        "print(JADE_MINFO)\n"
      ],
      "execution_count": 10,
      "outputs": [
        {
          "output_type": "stream",
          "text": [
            "======== JADE ==============\n",
            "NPAR= 100 Iterações= 2000 Dim= 30 Min/Max= -100 / 100 _ Salomon\n",
            "\n",
            "MÉDIA:  0.19987334658632225\n",
            "MIN __: 0.09987334773963263\n",
            "MAX__:  0.29987334584684056\n",
            "STD __: 0.03464101440621573\n",
            "Tempo Médio= 2.921 segundos ---\n",
            "50 Rodadas\n",
            "\n",
            "BEST:  0.09987334773963263\n",
            "0.19987334658632225\n",
            "0.03464101440621573\n",
            "0.09987334773963263\n"
          ],
          "name": "stdout"
        }
      ]
    }
  ]
}
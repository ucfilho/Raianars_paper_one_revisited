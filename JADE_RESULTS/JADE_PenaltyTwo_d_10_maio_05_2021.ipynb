{
  "nbformat": 4,
  "nbformat_minor": 0,
  "metadata": {
    "colab": {
      "name": "JADE_PenaltyTwo_d_10_maio_05_2021.ipynb",
      "provenance": [],
      "collapsed_sections": [],
      "include_colab_link": true
    },
    "kernelspec": {
      "display_name": "Python 3",
      "name": "python3"
    }
  },
  "cells": [
    {
      "cell_type": "markdown",
      "metadata": {
        "id": "view-in-github",
        "colab_type": "text"
      },
      "source": [
        "<a href=\"https://colab.research.google.com/github/ucfilho/Raianars_paper_one_revisited/blob/main/JADE_RESULTS/JADE_PenaltyTwo_d_10_maio_05_2021.ipynb\" target=\"_parent\"><img src=\"https://colab.research.google.com/assets/colab-badge.svg\" alt=\"Open In Colab\"/></a>"
      ]
    },
    {
      "cell_type": "code",
      "metadata": {
        "id": "Es8PhSUedYDe"
      },
      "source": [
        "import numpy as np\n",
        "import time"
      ],
      "execution_count": 1,
      "outputs": []
    },
    {
      "cell_type": "code",
      "metadata": {
        "colab": {
          "base_uri": "https://localhost:8080/"
        },
        "id": "WPP0AwDbdk4p",
        "outputId": "c9243bed-6da6-4055-8ab0-53430f59d395"
      },
      "source": [
        "!git clone https://github.com/ucfilho/Raianars_Routines\n",
        "%cd Raianars_Routines"
      ],
      "execution_count": 2,
      "outputs": [
        {
          "output_type": "stream",
          "text": [
            "Cloning into 'Raianars_Routines'...\n",
            "remote: Enumerating objects: 54, done.\u001b[K\n",
            "remote: Counting objects: 100% (54/54), done.\u001b[K\n",
            "remote: Compressing objects: 100% (52/52), done.\u001b[K\n",
            "remote: Total 54 (delta 16), reused 0 (delta 0), pack-reused 0\u001b[K\n",
            "Unpacking objects: 100% (54/54), done.\n",
            "/content/Raianars_Routines\n"
          ],
          "name": "stdout"
        }
      ]
    },
    {
      "cell_type": "code",
      "metadata": {
        "id": "SG2Zh9StRMih"
      },
      "source": [
        "############################### Função\n",
        "import FunctionsNew\n",
        "#'''  \n",
        "############################### Função\n",
        "dim=10 # \n",
        "fchoice='PenaltyTwo'\n",
        "Fun=FunctionsNew.PenaltyTwo\n",
        "MAX=np.repeat(50,dim)\n",
        "MIN=np.repeat(-50,dim)\n",
        "bounds = (-50,50)\n"
      ],
      "execution_count": 3,
      "outputs": []
    },
    {
      "cell_type": "code",
      "metadata": {
        "id": "aainD4FVhQhu"
      },
      "source": [
        "ITE=2000 #10 # PONTOS quantas vezes vai alteral NPAR \n",
        "NPAR=100 # NUMBER OF PARTICLES\n",
        "RUNS=50 #NÚMERO DE RODADAS"
      ],
      "execution_count": 4,
      "outputs": []
    },
    {
      "cell_type": "code",
      "metadata": {
        "id": "4nlypEzsd8z4"
      },
      "source": [
        "#print(bounds)"
      ],
      "execution_count": 5,
      "outputs": []
    },
    {
      "cell_type": "code",
      "metadata": {
        "colab": {
          "base_uri": "https://localhost:8080/"
        },
        "id": "s8eOhF9tgGNn",
        "outputId": "ba33207a-08eb-4b25-a836-3bd783625a46"
      },
      "source": [
        "!pip install PyFDE"
      ],
      "execution_count": 6,
      "outputs": [
        {
          "output_type": "stream",
          "text": [
            "Collecting PyFDE\n",
            "\u001b[?25l  Downloading https://files.pythonhosted.org/packages/72/f9/87f7279554d2682e3827d39c3d3a565b2fd42f7114a779e34a601c6c5079/PyFDE-1.3.0.tar.gz (397kB)\n",
            "\u001b[K     |████████████████████████████████| 399kB 700kB/s \n",
            "\u001b[?25hRequirement already satisfied: numpy in /usr/local/lib/python3.7/dist-packages (from PyFDE) (1.19.5)\n",
            "Building wheels for collected packages: PyFDE\n",
            "  Building wheel for PyFDE (setup.py) ... \u001b[?25l\u001b[?25hdone\n",
            "  Created wheel for PyFDE: filename=PyFDE-1.3.0-cp37-cp37m-linux_x86_64.whl size=974715 sha256=6c2323134163cfd7d8bb6700351283988d839242209fab3404e1b35b5025d85a\n",
            "  Stored in directory: /root/.cache/pip/wheels/7d/42/ba/abf21db37934e576c74fc2c9504b5cd97eb6a99e3dec1743c0\n",
            "Successfully built PyFDE\n",
            "Installing collected packages: PyFDE\n",
            "Successfully installed PyFDE-1.3.0\n"
          ],
          "name": "stdout"
        }
      ]
    },
    {
      "cell_type": "code",
      "metadata": {
        "id": "RSVcPxfcgHC_"
      },
      "source": [
        "import pyfde\n",
        "solver = pyfde.JADE(Fun, n_dim= dim, n_pop=NPAR, limits=bounds, minimize=True)\n",
        "solver.p = 0.05\n",
        "solver.c = 0.1\n"
      ],
      "execution_count": 7,
      "outputs": []
    },
    {
      "cell_type": "code",
      "metadata": {
        "colab": {
          "base_uri": "https://localhost:8080/"
        },
        "id": "YhpvZOmJbKlq",
        "outputId": "716efa7f-1905-4c60-eeb4-519f50f5f5dd"
      },
      "source": [
        "bounds"
      ],
      "execution_count": 8,
      "outputs": [
        {
          "output_type": "execute_result",
          "data": {
            "text/plain": [
              "(-50, 50)"
            ]
          },
          "metadata": {
            "tags": []
          },
          "execution_count": 8
        }
      ]
    },
    {
      "cell_type": "code",
      "metadata": {
        "id": "A1jYSGP2R70v"
      },
      "source": [
        "start_time = time.time()\n",
        "BEST_AGENTS=[]\n",
        "MAT_stat=[]"
      ],
      "execution_count": 9,
      "outputs": []
    },
    {
      "cell_type": "code",
      "metadata": {
        "colab": {
          "base_uri": "https://localhost:8080/"
        },
        "id": "M9HVQ-J2SS5w",
        "outputId": "549dc7b8-812d-40e3-be57-4c21c910299c"
      },
      "source": [
        "start_time = time.time()\n",
        "BEST_AGENTS=[]\n",
        "BEST_FIT =[]\n",
        "rows = RUNS\n",
        "cols = dim + 1\n",
        "BEST_XY = np.zeros((rows,cols))\n",
        "for iii in range(RUNS):\n",
        "  best, fit = solver.run(n_it=ITE)\n",
        "  kkk = -1\n",
        "  for xi in best:\n",
        "    kkk = kkk +1\n",
        "    BEST_XY[iii,kkk] = xi\n",
        "  BEST_XY[iii,dim] = -fit\n",
        "  BEST_AGENTS.append(best)\n",
        "  TIME = (time.time() - start_time) /60\n",
        "  BEST_FIT.append(-fit)\n",
        "  print('ite ', iii,'time ', TIME,'fob =', -fit)\n",
        "    \n",
        "############################## Cálculo dos Parâmetros de Avaliação   \n",
        "TIME = (time.time() - start_time)/RUNS\n"
      ],
      "execution_count": 10,
      "outputs": [
        {
          "output_type": "stream",
          "text": [
            "ite  0 time  0.12930760383605958 fob = 1.3497838043956716e-32\n",
            "ite  1 time  0.2573042352994283 fob = 1.3497838043956716e-32\n",
            "ite  2 time  0.38695884148279824 fob = 1.3497838043956716e-32\n",
            "ite  3 time  0.5141773144404094 fob = 1.3497838043956716e-32\n",
            "ite  4 time  0.6422976851463318 fob = 1.3497838043956716e-32\n",
            "ite  5 time  0.7702830751736959 fob = 1.3497838043956716e-32\n",
            "ite  6 time  0.899264931678772 fob = 1.3497838043956716e-32\n",
            "ite  7 time  1.0283579349517822 fob = 1.3497838043956716e-32\n",
            "ite  8 time  1.158137075106303 fob = 1.3497838043956716e-32\n",
            "ite  9 time  1.2875537951787313 fob = 1.3497838043956716e-32\n",
            "ite  10 time  1.4175255338350932 fob = 1.3497838043956716e-32\n",
            "ite  11 time  1.5466093063354491 fob = 1.3497838043956716e-32\n",
            "ite  12 time  1.6775190671284994 fob = 1.3497838043956716e-32\n",
            "ite  13 time  1.8076935052871703 fob = 1.3497838043956716e-32\n",
            "ite  14 time  1.938826028505961 fob = 1.3497838043956716e-32\n",
            "ite  15 time  2.0690921982129415 fob = 1.3497838043956716e-32\n",
            "ite  16 time  2.1991347869237265 fob = 1.3497838043956716e-32\n",
            "ite  17 time  2.3279102206230164 fob = 1.3497838043956716e-32\n",
            "ite  18 time  2.4573774377504987 fob = 1.3497838043956716e-32\n",
            "ite  19 time  2.5873849987983704 fob = 1.3497838043956716e-32\n",
            "ite  20 time  2.71854696671168 fob = 1.3497838043956716e-32\n",
            "ite  21 time  2.847448698679606 fob = 1.3497838043956716e-32\n",
            "ite  22 time  2.976429283618927 fob = 1.3497838043956716e-32\n",
            "ite  23 time  3.1053792039553323 fob = 1.3497838043956716e-32\n",
            "ite  24 time  3.2340795278549193 fob = 1.3497838043956716e-32\n",
            "ite  25 time  3.362945330142975 fob = 1.3497838043956716e-32\n",
            "ite  26 time  3.49135822057724 fob = 1.3497838043956716e-32\n",
            "ite  27 time  3.6197205662727354 fob = 1.3497838043956716e-32\n",
            "ite  28 time  3.7481673836708067 fob = 1.3497838043956716e-32\n",
            "ite  29 time  3.8763307054837544 fob = 1.3497838043956716e-32\n",
            "ite  30 time  4.004897697766622 fob = 1.3497838043956716e-32\n",
            "ite  31 time  4.134173107147217 fob = 1.3497838043956716e-32\n",
            "ite  32 time  4.26388209660848 fob = 1.3497838043956716e-32\n",
            "ite  33 time  4.3943186203638716 fob = 1.3497838043956716e-32\n",
            "ite  34 time  4.523206353187561 fob = 1.3497838043956716e-32\n",
            "ite  35 time  4.651606070995331 fob = 1.3497838043956716e-32\n",
            "ite  36 time  4.781372129917145 fob = 1.3497838043956716e-32\n",
            "ite  37 time  4.911860434214274 fob = 1.3497838043956716e-32\n",
            "ite  38 time  5.042028852303823 fob = 1.3497838043956716e-32\n",
            "ite  39 time  5.1731150110562645 fob = 1.3497838043956716e-32\n",
            "ite  40 time  5.303243096669515 fob = 1.3497838043956716e-32\n",
            "ite  41 time  5.433074982961019 fob = 1.3497838043956716e-32\n",
            "ite  42 time  5.562177892525991 fob = 1.3497838043956716e-32\n",
            "ite  43 time  5.694097848733266 fob = 1.3497838043956716e-32\n",
            "ite  44 time  5.829310488700867 fob = 1.3497838043956716e-32\n",
            "ite  45 time  5.962301484743754 fob = 1.3497838043956716e-32\n",
            "ite  46 time  6.0938565214475 fob = 1.3497838043956716e-32\n",
            "ite  47 time  6.224278883139292 fob = 1.3497838043956716e-32\n",
            "ite  48 time  6.355376863479615 fob = 1.3497838043956716e-32\n",
            "ite  49 time  6.487547254562378 fob = 1.3497838043956716e-32\n"
          ],
          "name": "stdout"
        }
      ]
    },
    {
      "cell_type": "code",
      "metadata": {
        "id": "u-n_6dNIfgHe"
      },
      "source": [
        "IND_XY = np.argsort(np.array(BEST_XY[:,-1]))\n",
        "BEST_XY = BEST_XY[IND_XY,:]"
      ],
      "execution_count": 11,
      "outputs": []
    },
    {
      "cell_type": "code",
      "metadata": {
        "id": "J_yG5aOopqo5"
      },
      "source": [
        "\n",
        "\n",
        "BEST=BEST_XY[0]\n",
        "WORSE=BEST_XY[-1]\n",
        "MEAN=np.mean(BEST_XY,axis=0)\n",
        "MAXFO=BEST_XY[:,-1].max()\n",
        "MINFO=BEST_XY[:,-1].min()\n",
        "STD=BEST_XY[:,-1].std()\n",
        "BEST=BEST_XY[(rows-1),(cols-1)]"
      ],
      "execution_count": 12,
      "outputs": []
    },
    {
      "cell_type": "code",
      "metadata": {
        "id": "z4mYgxbKhqj1",
        "colab": {
          "base_uri": "https://localhost:8080/"
        },
        "outputId": "cdf5ca77-15c2-4001-83e1-8c43b646c871"
      },
      "source": [
        "\n",
        "print('MÉDIA: ',MEAN[-1])\n",
        "print('MIN __:',MINFO)\n",
        "print('MAX__: ',MAXFO)\n",
        "print('STD __:',STD)\n",
        "print(\"Tempo Médio= %.3f segundos ---\" % (TIME))\n",
        "print(RUNS,'Rodadas') \n",
        "print()\n",
        "print('BEST: ',BEST)\n"
      ],
      "execution_count": 13,
      "outputs": [
        {
          "output_type": "stream",
          "text": [
            "MÉDIA:  1.3497838043956727e-32\n",
            "MIN __: 1.3497838043956716e-32\n",
            "MAX__:  1.3497838043956716e-32\n",
            "STD __: 2.7369110631344083e-48\n",
            "Tempo Médio= 7.785 segundos ---\n",
            "50 Rodadas\n",
            "\n",
            "BEST:  1.3497838043956716e-32\n"
          ],
          "name": "stdout"
        }
      ]
    }
  ]
}
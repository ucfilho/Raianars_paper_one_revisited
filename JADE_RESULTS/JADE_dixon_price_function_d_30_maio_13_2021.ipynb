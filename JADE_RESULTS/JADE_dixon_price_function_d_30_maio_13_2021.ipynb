{
  "nbformat": 4,
  "nbformat_minor": 0,
  "metadata": {
    "colab": {
      "name": "JADE_dixon_price_function_d_30_maio_13_2021.ipynb",
      "provenance": [],
      "collapsed_sections": [],
      "authorship_tag": "ABX9TyPinyMWUSATAbrH633zM80q",
      "include_colab_link": true
    },
    "kernelspec": {
      "display_name": "Python 3",
      "name": "python3"
    }
  },
  "cells": [
    {
      "cell_type": "markdown",
      "metadata": {
        "id": "view-in-github",
        "colab_type": "text"
      },
      "source": [
        "<a href=\"https://colab.research.google.com/github/ucfilho/Raianars_paper_one_revisited/blob/main/JADE_RESULTS/JADE_dixon_price_function_d_30_maio_13_2021.ipynb\" target=\"_parent\"><img src=\"https://colab.research.google.com/assets/colab-badge.svg\" alt=\"Open In Colab\"/></a>"
      ]
    },
    {
      "cell_type": "code",
      "metadata": {
        "id": "Es8PhSUedYDe"
      },
      "source": [
        "import numpy as np\n",
        "import time"
      ],
      "execution_count": 1,
      "outputs": []
    },
    {
      "cell_type": "code",
      "metadata": {
        "colab": {
          "base_uri": "https://localhost:8080/"
        },
        "id": "WPP0AwDbdk4p",
        "outputId": "1b70215a-dd29-4fd4-9b2f-512539a2439f"
      },
      "source": [
        "!git clone https://github.com/ucfilho/Raianars_Routines\n",
        "%cd Raianars_Routines"
      ],
      "execution_count": 2,
      "outputs": [
        {
          "output_type": "stream",
          "text": [
            "Cloning into 'Raianars_Routines'...\n",
            "remote: Enumerating objects: 54, done.\u001b[K\n",
            "remote: Counting objects: 100% (54/54), done.\u001b[K\n",
            "remote: Compressing objects: 100% (52/52), done.\u001b[K\n",
            "remote: Total 54 (delta 16), reused 0 (delta 0), pack-reused 0\u001b[K\n",
            "Unpacking objects: 100% (54/54), done.\n",
            "/content/Raianars_Routines\n"
          ],
          "name": "stdout"
        }
      ]
    },
    {
      "cell_type": "code",
      "metadata": {
        "id": "SG2Zh9StRMih"
      },
      "source": [
        "############################### Função\n",
        "import FunctionsNew\n",
        "#'''  \n",
        "############################### Função\n",
        "dim=30 # \n",
        "fchoice='dixon_price_function'\n",
        "Fun=FunctionsNew.dixon_price_function\n",
        "MAX=np.repeat(10,dim)\n",
        "MIN=np.repeat(-10,dim)\n",
        "bounds = (-10,10)\n",
        "\n"
      ],
      "execution_count": 3,
      "outputs": []
    },
    {
      "cell_type": "code",
      "metadata": {
        "id": "aainD4FVhQhu"
      },
      "source": [
        "ITE=2000 #10 # PONTOS quantas vezes vai alteral NPAR \n",
        "NPAR=100 # NUMBER OF PARTICLES\n",
        "RUNS=50 #NÚMERO DE RODADAS"
      ],
      "execution_count": 4,
      "outputs": []
    },
    {
      "cell_type": "code",
      "metadata": {
        "id": "4nlypEzsd8z4"
      },
      "source": [
        "#print(bounds)"
      ],
      "execution_count": 5,
      "outputs": []
    },
    {
      "cell_type": "code",
      "metadata": {
        "colab": {
          "base_uri": "https://localhost:8080/"
        },
        "id": "s8eOhF9tgGNn",
        "outputId": "9ab9c765-fda2-4eb1-9c20-f07ed0c25bba"
      },
      "source": [
        "!pip install PyFDE"
      ],
      "execution_count": 6,
      "outputs": [
        {
          "output_type": "stream",
          "text": [
            "Collecting PyFDE\n",
            "\u001b[?25l  Downloading https://files.pythonhosted.org/packages/72/f9/87f7279554d2682e3827d39c3d3a565b2fd42f7114a779e34a601c6c5079/PyFDE-1.3.0.tar.gz (397kB)\n",
            "\u001b[K     |████████████████████████████████| 399kB 3.8MB/s \n",
            "\u001b[?25hRequirement already satisfied: numpy in /usr/local/lib/python3.7/dist-packages (from PyFDE) (1.19.5)\n",
            "Building wheels for collected packages: PyFDE\n",
            "  Building wheel for PyFDE (setup.py) ... \u001b[?25l\u001b[?25hdone\n",
            "  Created wheel for PyFDE: filename=PyFDE-1.3.0-cp37-cp37m-linux_x86_64.whl size=974745 sha256=1ec94485920eb77670bd27f0512d739385eab040f832427ad9e912ab2b0a40e9\n",
            "  Stored in directory: /root/.cache/pip/wheels/7d/42/ba/abf21db37934e576c74fc2c9504b5cd97eb6a99e3dec1743c0\n",
            "Successfully built PyFDE\n",
            "Installing collected packages: PyFDE\n",
            "Successfully installed PyFDE-1.3.0\n"
          ],
          "name": "stdout"
        }
      ]
    },
    {
      "cell_type": "code",
      "metadata": {
        "id": "RSVcPxfcgHC_"
      },
      "source": [
        "import pyfde\n",
        "solver = pyfde.JADE(Fun, n_dim= dim, n_pop=NPAR, limits=bounds, minimize=True)\n",
        "solver.p = 0.05\n",
        "solver.c = 0.1\n",
        "its = 1"
      ],
      "execution_count": 7,
      "outputs": []
    },
    {
      "cell_type": "code",
      "metadata": {
        "colab": {
          "base_uri": "https://localhost:8080/"
        },
        "id": "YhpvZOmJbKlq",
        "outputId": "67248046-b43f-4838-a840-b1883233ef14"
      },
      "source": [
        "bounds"
      ],
      "execution_count": 8,
      "outputs": [
        {
          "output_type": "execute_result",
          "data": {
            "text/plain": [
              "(-10, 10)"
            ]
          },
          "metadata": {
            "tags": []
          },
          "execution_count": 8
        }
      ]
    },
    {
      "cell_type": "code",
      "metadata": {
        "id": "A1jYSGP2R70v"
      },
      "source": [
        "start_time = time.time()\n",
        "BEST_AGENTS=[]\n",
        "MAT_stat=[]"
      ],
      "execution_count": 9,
      "outputs": []
    },
    {
      "cell_type": "code",
      "metadata": {
        "colab": {
          "base_uri": "https://localhost:8080/"
        },
        "id": "M9HVQ-J2SS5w",
        "outputId": "5ff35111-14cb-43b6-dd86-5d67a30eb775"
      },
      "source": [
        "start_time = time.time()\n",
        "BEST_AGENTS=[]\n",
        "BEST_FIT =[]\n",
        "rows = RUNS\n",
        "cols = dim + 1\n",
        "BEST_XY = np.zeros((rows,cols))\n",
        "for iii in range(RUNS):\n",
        "  solver = pyfde.JADE(Fun, n_dim= dim, n_pop=NPAR, limits=bounds, minimize=True)\n",
        "  solver.p = 0.05\n",
        "  solver.c = 0.1\n",
        "  solver.cr, solver.f = 0.5, 0.5\n",
        "  best, fit = solver.run(n_it=ITE)\n",
        "  kkk = -1\n",
        "  for xi in best:\n",
        "    kkk = kkk +1\n",
        "    BEST_XY[iii,kkk] = xi\n",
        "  BEST_XY[iii,dim] = -fit\n",
        "  BEST_AGENTS.append(best)\n",
        "  TIME = (time.time() - start_time) /60\n",
        "  BEST_FIT.append(-fit)\n",
        "  print('ite ', iii,'time ', TIME,'fob =', -fit)\n",
        "    \n",
        "############################## Cálculo dos Parâmetros de Avaliação   \n",
        "TIME = (time.time() - start_time)/RUNS\n"
      ],
      "execution_count": 10,
      "outputs": [
        {
          "output_type": "stream",
          "text": [
            "ite  0 time  0.08010754187901815 fob = 0.6666666677969117\n",
            "ite  1 time  0.15752222537994384 fob = 0.6666666666666666\n",
            "ite  2 time  0.23362863461176556 fob = 0.6666666666666665\n",
            "ite  3 time  0.3094805161158244 fob = 0.6666666666666665\n",
            "ite  4 time  0.3853174050649007 fob = 0.6666666666666665\n",
            "ite  5 time  0.4613416234652201 fob = 0.6666666666666665\n",
            "ite  6 time  0.5378302494684856 fob = 0.6666666666666665\n",
            "ite  7 time  0.6150669932365418 fob = 0.6666666666666665\n",
            "ite  8 time  0.6911798636118571 fob = 0.6666666666666665\n",
            "ite  9 time  0.7680843790372213 fob = 0.6666666666666665\n",
            "ite  10 time  0.845814065138499 fob = 0.6666666666666665\n",
            "ite  11 time  0.9226878841718038 fob = 0.6666666666666666\n",
            "ite  12 time  0.9993250290552775 fob = 0.6666666666666665\n",
            "ite  13 time  1.0781248370806376 fob = 0.6666666666666665\n",
            "ite  14 time  1.155047090848287 fob = 0.6666666666666665\n",
            "ite  15 time  1.232051153977712 fob = 0.6666666666666665\n",
            "ite  16 time  1.309095573425293 fob = 0.6666666666666665\n",
            "ite  17 time  1.38635755777359 fob = 0.6666666666666665\n",
            "ite  18 time  1.4632347782452901 fob = 0.6666666666666667\n",
            "ite  19 time  1.5387572288513183 fob = 0.6666666666666665\n",
            "ite  20 time  1.6167964935302734 fob = 0.6666666666666665\n",
            "ite  21 time  1.6944492975870769 fob = 0.6666666666666665\n",
            "ite  22 time  1.7705321709314983 fob = 0.6666666666666665\n",
            "ite  23 time  1.8474185148874918 fob = 0.6666666666666665\n",
            "ite  24 time  1.9238468448321024 fob = 0.6666666666666665\n",
            "ite  25 time  1.9999833544095358 fob = 0.6666666666666665\n",
            "ite  26 time  2.076702872912089 fob = 0.6666666666666665\n",
            "ite  27 time  2.1545629620552065 fob = 0.6666666666666665\n",
            "ite  28 time  2.2308621803919473 fob = 0.6666666666666665\n",
            "ite  29 time  2.3081507960955303 fob = 0.6666666666666665\n",
            "ite  30 time  2.3834917386372885 fob = 0.6666666666666665\n",
            "ite  31 time  2.459741457303365 fob = 0.6666666666666665\n",
            "ite  32 time  2.5356603384017946 fob = 0.6666666666666665\n",
            "ite  33 time  2.614601159095764 fob = 0.6666666666666665\n",
            "ite  34 time  2.692050496737162 fob = 0.6666666666666665\n",
            "ite  35 time  2.767832322915395 fob = 0.6666666666666665\n",
            "ite  36 time  2.845358145236969 fob = 0.6666666666666665\n",
            "ite  37 time  2.9223569989204408 fob = 0.6666666666666665\n",
            "ite  38 time  2.998877799510956 fob = 0.6666666666666665\n",
            "ite  39 time  3.076607410113017 fob = 0.6666666666667206\n",
            "ite  40 time  3.1524774352709453 fob = 0.6666666666666665\n",
            "ite  41 time  3.229164552688599 fob = 0.6666666666666665\n",
            "ite  42 time  3.3063092668851217 fob = 0.6666666666666665\n",
            "ite  43 time  3.382640564441681 fob = 0.6666666666666665\n",
            "ite  44 time  3.458970228830973 fob = 0.6666666666666665\n",
            "ite  45 time  3.5361164093017576 fob = 0.6666666666726604\n",
            "ite  46 time  3.613199500242869 fob = 0.6666666666666665\n",
            "ite  47 time  3.6901949365933735 fob = 0.6666666666666665\n",
            "ite  48 time  3.7667917132377626 fob = 0.6666666666666665\n",
            "ite  49 time  3.844439431031545 fob = 0.6666666666666665\n"
          ],
          "name": "stdout"
        }
      ]
    },
    {
      "cell_type": "code",
      "metadata": {
        "id": "u-n_6dNIfgHe"
      },
      "source": [
        "IND_XY = np.argsort(np.array(BEST_XY[:,-1]))\n",
        "BEST_XY = BEST_XY[IND_XY,:]"
      ],
      "execution_count": 11,
      "outputs": []
    },
    {
      "cell_type": "code",
      "metadata": {
        "id": "J_yG5aOopqo5"
      },
      "source": [
        "\n",
        "\n",
        "BEST=BEST_XY[0]\n",
        "WORSE=BEST_XY[-1]\n",
        "MEAN=np.mean(BEST_XY,axis=0)\n",
        "MAXFO=BEST_XY[:,-1].max()\n",
        "MINFO=BEST_XY[:,-1].min()\n",
        "STD=BEST_XY[:,-1].std()\n",
        "BEST=BEST_XY[(rows-1),(cols-1)]"
      ],
      "execution_count": 12,
      "outputs": []
    },
    {
      "cell_type": "code",
      "metadata": {
        "id": "z4mYgxbKhqj1",
        "colab": {
          "base_uri": "https://localhost:8080/"
        },
        "outputId": "8b3dcc83-d896-4abc-b0d1-0ca20ea6b4da"
      },
      "source": [
        "print('======== JADE ==============')\n",
        "print('NPAR=',NPAR,'Iterações=',ITE*its,'Dim=', dim,\"Min/Max=\",MIN[0],\"/\",MAX[0],'_',Fun.__name__)\n",
        "print()\n",
        "print('MÉDIA: ',MEAN[-1])\n",
        "print('MIN __:',MINFO)\n",
        "print('MAX__: ',MAXFO)\n",
        "print('STD __:',STD)\n",
        "print(\"Tempo Médio= %.3f segundos ---\" % (TIME))\n",
        "print(RUNS,'Rodadas') \n",
        "print()\n",
        "print('BEST: ',MINFO)\n",
        "print()\n",
        "print(MEAN[-1])\n",
        "print(STD)\n",
        "print(MINFO)\n",
        "\n",
        "\n",
        "# print('melhor=',BEST_AGENTS[BEST_INDEX])"
      ],
      "execution_count": 13,
      "outputs": [
        {
          "output_type": "stream",
          "text": [
            "======== JADE ==============\n",
            "NPAR= 100 Iterações= 2000 Dim= 30 Min/Max= -10 / 10 _ dixon_price_function\n",
            "\n",
            "MÉDIA:  0.6666666666893929\n",
            "MIN __: 0.6666666666666665\n",
            "MAX__:  0.6666666677969117\n",
            "STD __: 1.5821927489776345e-10\n",
            "Tempo Médio= 4.613 segundos ---\n",
            "50 Rodadas\n",
            "\n",
            "BEST:  0.6666666666666665\n",
            "\n",
            "0.6666666666893929\n",
            "1.5821927489776345e-10\n",
            "0.6666666666666665\n"
          ],
          "name": "stdout"
        }
      ]
    }
  ]
}
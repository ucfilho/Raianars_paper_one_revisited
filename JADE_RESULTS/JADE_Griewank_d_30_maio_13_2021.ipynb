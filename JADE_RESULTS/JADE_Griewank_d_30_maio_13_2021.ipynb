{
  "nbformat": 4,
  "nbformat_minor": 0,
  "metadata": {
    "colab": {
      "name": "JADE_Griewank_d_30_maio_13_2021.ipynb",
      "provenance": [],
      "collapsed_sections": [],
      "authorship_tag": "ABX9TyNk3geVXckb0HKSTPIxIeZ1",
      "include_colab_link": true
    },
    "kernelspec": {
      "display_name": "Python 3",
      "name": "python3"
    }
  },
  "cells": [
    {
      "cell_type": "markdown",
      "metadata": {
        "id": "view-in-github",
        "colab_type": "text"
      },
      "source": [
        "<a href=\"https://colab.research.google.com/github/ucfilho/Raianars_paper_one_revisited/blob/main/JADE_RESULTS/JADE_Griewank_d_30_maio_13_2021.ipynb\" target=\"_parent\"><img src=\"https://colab.research.google.com/assets/colab-badge.svg\" alt=\"Open In Colab\"/></a>"
      ]
    },
    {
      "cell_type": "code",
      "metadata": {
        "id": "Es8PhSUedYDe"
      },
      "source": [
        "import numpy as np\n",
        "import time"
      ],
      "execution_count": 1,
      "outputs": []
    },
    {
      "cell_type": "code",
      "metadata": {
        "colab": {
          "base_uri": "https://localhost:8080/"
        },
        "id": "WPP0AwDbdk4p",
        "outputId": "a41c2571-0657-4f4a-a4e2-1ae9013d7efb"
      },
      "source": [
        "!git clone https://github.com/ucfilho/Raianars_Routines\n",
        "%cd Raianars_Routines"
      ],
      "execution_count": 2,
      "outputs": [
        {
          "output_type": "stream",
          "text": [
            "Cloning into 'Raianars_Routines'...\n",
            "remote: Enumerating objects: 54, done.\u001b[K\n",
            "remote: Counting objects: 100% (54/54), done.\u001b[K\n",
            "remote: Compressing objects: 100% (52/52), done.\u001b[K\n",
            "remote: Total 54 (delta 16), reused 0 (delta 0), pack-reused 0\u001b[K\n",
            "Unpacking objects: 100% (54/54), done.\n",
            "/content/Raianars_Routines\n"
          ],
          "name": "stdout"
        }
      ]
    },
    {
      "cell_type": "code",
      "metadata": {
        "id": "SG2Zh9StRMih"
      },
      "source": [
        "############################### Função\n",
        "import FunctionsNew\n",
        "#'''  \n",
        "############################### Função\n",
        "dim=30 # \n",
        "fchoice='Griewank'\n",
        "Fun=FunctionsNew.Griewank\n",
        "MAX=np.repeat(600,dim)\n",
        "MIN=np.repeat(-600,dim)\n",
        "bounds = (-600,600)\n"
      ],
      "execution_count": 3,
      "outputs": []
    },
    {
      "cell_type": "code",
      "metadata": {
        "id": "aainD4FVhQhu"
      },
      "source": [
        "ITE=2000 #10 # PONTOS quantas vezes vai alteral NPAR \n",
        "NPAR=100 # NUMBER OF PARTICLES\n",
        "RUNS=50 #NÚMERO DE RODADAS"
      ],
      "execution_count": 4,
      "outputs": []
    },
    {
      "cell_type": "code",
      "metadata": {
        "id": "4nlypEzsd8z4"
      },
      "source": [
        "#print(bounds)"
      ],
      "execution_count": 5,
      "outputs": []
    },
    {
      "cell_type": "code",
      "metadata": {
        "colab": {
          "base_uri": "https://localhost:8080/"
        },
        "id": "s8eOhF9tgGNn",
        "outputId": "945ab4eb-37bd-4572-fb4a-6460308b0f38"
      },
      "source": [
        "!pip install PyFDE"
      ],
      "execution_count": 6,
      "outputs": [
        {
          "output_type": "stream",
          "text": [
            "Collecting PyFDE\n",
            "\u001b[?25l  Downloading https://files.pythonhosted.org/packages/72/f9/87f7279554d2682e3827d39c3d3a565b2fd42f7114a779e34a601c6c5079/PyFDE-1.3.0.tar.gz (397kB)\n",
            "\r\u001b[K     |▉                               | 10kB 13.1MB/s eta 0:00:01\r\u001b[K     |█▋                              | 20kB 19.1MB/s eta 0:00:01\r\u001b[K     |██▌                             | 30kB 12.4MB/s eta 0:00:01\r\u001b[K     |███▎                            | 40kB 10.0MB/s eta 0:00:01\r\u001b[K     |████▏                           | 51kB 5.4MB/s eta 0:00:01\r\u001b[K     |█████                           | 61kB 5.4MB/s eta 0:00:01\r\u001b[K     |█████▊                          | 71kB 5.8MB/s eta 0:00:01\r\u001b[K     |██████▋                         | 81kB 6.3MB/s eta 0:00:01\r\u001b[K     |███████▍                        | 92kB 6.7MB/s eta 0:00:01\r\u001b[K     |████████▎                       | 102kB 5.1MB/s eta 0:00:01\r\u001b[K     |█████████                       | 112kB 5.1MB/s eta 0:00:01\r\u001b[K     |██████████                      | 122kB 5.1MB/s eta 0:00:01\r\u001b[K     |██████████▊                     | 133kB 5.1MB/s eta 0:00:01\r\u001b[K     |███████████▌                    | 143kB 5.1MB/s eta 0:00:01\r\u001b[K     |████████████▍                   | 153kB 5.1MB/s eta 0:00:01\r\u001b[K     |█████████████▏                  | 163kB 5.1MB/s eta 0:00:01\r\u001b[K     |██████████████                  | 174kB 5.1MB/s eta 0:00:01\r\u001b[K     |██████████████▉                 | 184kB 5.1MB/s eta 0:00:01\r\u001b[K     |███████████████▊                | 194kB 5.1MB/s eta 0:00:01\r\u001b[K     |████████████████▌               | 204kB 5.1MB/s eta 0:00:01\r\u001b[K     |█████████████████▎              | 215kB 5.1MB/s eta 0:00:01\r\u001b[K     |██████████████████▏             | 225kB 5.1MB/s eta 0:00:01\r\u001b[K     |███████████████████             | 235kB 5.1MB/s eta 0:00:01\r\u001b[K     |███████████████████▉            | 245kB 5.1MB/s eta 0:00:01\r\u001b[K     |████████████████████▋           | 256kB 5.1MB/s eta 0:00:01\r\u001b[K     |█████████████████████▌          | 266kB 5.1MB/s eta 0:00:01\r\u001b[K     |██████████████████████▎         | 276kB 5.1MB/s eta 0:00:01\r\u001b[K     |███████████████████████         | 286kB 5.1MB/s eta 0:00:01\r\u001b[K     |████████████████████████        | 296kB 5.1MB/s eta 0:00:01\r\u001b[K     |████████████████████████▊       | 307kB 5.1MB/s eta 0:00:01\r\u001b[K     |█████████████████████████▋      | 317kB 5.1MB/s eta 0:00:01\r\u001b[K     |██████████████████████████▍     | 327kB 5.1MB/s eta 0:00:01\r\u001b[K     |███████████████████████████▎    | 337kB 5.1MB/s eta 0:00:01\r\u001b[K     |████████████████████████████    | 348kB 5.1MB/s eta 0:00:01\r\u001b[K     |████████████████████████████▉   | 358kB 5.1MB/s eta 0:00:01\r\u001b[K     |█████████████████████████████▊  | 368kB 5.1MB/s eta 0:00:01\r\u001b[K     |██████████████████████████████▌ | 378kB 5.1MB/s eta 0:00:01\r\u001b[K     |███████████████████████████████▍| 389kB 5.1MB/s eta 0:00:01\r\u001b[K     |████████████████████████████████| 399kB 5.1MB/s \n",
            "\u001b[?25hRequirement already satisfied: numpy in /usr/local/lib/python3.7/dist-packages (from PyFDE) (1.19.5)\n",
            "Building wheels for collected packages: PyFDE\n",
            "  Building wheel for PyFDE (setup.py) ... \u001b[?25l\u001b[?25hdone\n",
            "  Created wheel for PyFDE: filename=PyFDE-1.3.0-cp37-cp37m-linux_x86_64.whl size=974722 sha256=9f8e88151eb7c2357710141903ba33a029e53642c476b213521439f74b56a7b9\n",
            "  Stored in directory: /root/.cache/pip/wheels/7d/42/ba/abf21db37934e576c74fc2c9504b5cd97eb6a99e3dec1743c0\n",
            "Successfully built PyFDE\n",
            "Installing collected packages: PyFDE\n",
            "Successfully installed PyFDE-1.3.0\n"
          ],
          "name": "stdout"
        }
      ]
    },
    {
      "cell_type": "code",
      "metadata": {
        "id": "RSVcPxfcgHC_"
      },
      "source": [
        "import pyfde\n",
        "solver = pyfde.JADE(Fun, n_dim= dim, n_pop=NPAR, limits=bounds, minimize=True)\n",
        "solver.p = 0.05\n",
        "solver.c = 0.1\n",
        "its = 1"
      ],
      "execution_count": 7,
      "outputs": []
    },
    {
      "cell_type": "code",
      "metadata": {
        "colab": {
          "base_uri": "https://localhost:8080/"
        },
        "id": "YhpvZOmJbKlq",
        "outputId": "cf58612f-b99c-4831-ce69-875589587d65"
      },
      "source": [
        "bounds"
      ],
      "execution_count": 8,
      "outputs": [
        {
          "output_type": "execute_result",
          "data": {
            "text/plain": [
              "(-600, 600)"
            ]
          },
          "metadata": {
            "tags": []
          },
          "execution_count": 8
        }
      ]
    },
    {
      "cell_type": "code",
      "metadata": {
        "id": "A1jYSGP2R70v"
      },
      "source": [
        "start_time = time.time()\n",
        "BEST_AGENTS=[]\n",
        "MAT_stat=[]"
      ],
      "execution_count": 9,
      "outputs": []
    },
    {
      "cell_type": "code",
      "metadata": {
        "colab": {
          "base_uri": "https://localhost:8080/"
        },
        "id": "M9HVQ-J2SS5w",
        "outputId": "69d2db3b-0399-4780-b86d-c57981caa9a2"
      },
      "source": [
        "start_time = time.time()\n",
        "BEST_AGENTS=[]\n",
        "BEST_FIT =[]\n",
        "rows = RUNS\n",
        "cols = dim + 1\n",
        "BEST_XY = np.zeros((rows,cols))\n",
        "for iii in range(RUNS):\n",
        "  solver = pyfde.JADE(Fun, n_dim= dim, n_pop=NPAR, limits=bounds, minimize=True)\n",
        "  solver.p = 0.05\n",
        "  solver.c = 0.1\n",
        "  solver.cr, solver.f = 0.5, 0.5\n",
        "  best, fit = solver.run(n_it=ITE)\n",
        "  kkk = -1\n",
        "  for xi in best:\n",
        "    kkk = kkk +1\n",
        "    BEST_XY[iii,kkk] = xi\n",
        "  BEST_XY[iii,dim] = -fit\n",
        "  BEST_AGENTS.append(best)\n",
        "  TIME = (time.time() - start_time) /60\n",
        "  BEST_FIT.append(-fit)\n",
        "  print('ite ', iii,'time ', TIME,'fob =', -fit)\n",
        "    \n",
        "############################## Cálculo dos Parâmetros de Avaliação   \n",
        "TIME = (time.time() - start_time)/RUNS\n"
      ],
      "execution_count": 10,
      "outputs": [
        {
          "output_type": "stream",
          "text": [
            "ite  0 time  0.19017988443374634 fob = 0.0\n",
            "ite  1 time  0.37930990060170494 fob = 0.0\n",
            "ite  2 time  0.5640108903249105 fob = 0.0\n",
            "ite  3 time  0.7504329880078634 fob = 0.0\n",
            "ite  4 time  0.9340198516845704 fob = 0.0\n",
            "ite  5 time  1.1220193783442178 fob = 0.0\n",
            "ite  6 time  1.3109669804573059 fob = 0.0\n",
            "ite  7 time  1.5004510800043742 fob = 0.0\n",
            "ite  8 time  1.6873466889063518 fob = 0.0\n",
            "ite  9 time  1.8742188215255737 fob = 0.0\n",
            "ite  10 time  2.0619685967763264 fob = 0.0\n",
            "ite  11 time  2.2500185052553814 fob = 0.0\n",
            "ite  12 time  2.442478799819946 fob = 0.0\n",
            "ite  13 time  2.635651445388794 fob = 0.0\n",
            "ite  14 time  2.8277018467585244 fob = 0.0\n",
            "ite  15 time  3.018653702735901 fob = 0.0\n",
            "ite  16 time  3.2120888113975523 fob = 0.0\n",
            "ite  17 time  3.4058738191922506 fob = 0.0\n",
            "ite  18 time  3.6007465958595275 fob = 0.0\n",
            "ite  19 time  3.7908635179201764 fob = 0.0\n",
            "ite  20 time  3.9823261578877767 fob = 0.0\n",
            "ite  21 time  4.177198791503907 fob = 0.0\n",
            "ite  22 time  4.372224815686544 fob = 0.0\n",
            "ite  23 time  4.572740956147512 fob = 0.0\n",
            "ite  24 time  4.774235681692759 fob = 0.0\n",
            "ite  25 time  4.971599888801575 fob = 0.0\n",
            "ite  26 time  5.166104956467946 fob = 0.0\n",
            "ite  27 time  5.357603545983633 fob = 0.0\n",
            "ite  28 time  5.550287477175394 fob = 0.0\n",
            "ite  29 time  5.74515821536382 fob = 0.0\n",
            "ite  30 time  5.93624685605367 fob = 0.0\n",
            "ite  31 time  6.12603075504303 fob = 0.0\n",
            "ite  32 time  6.316559513409932 fob = 0.0\n",
            "ite  33 time  6.511144010225932 fob = 0.0\n",
            "ite  34 time  6.70464160044988 fob = 0.0\n",
            "ite  35 time  6.8997604012489315 fob = 0.0\n",
            "ite  36 time  7.098048190275828 fob = 0.007396040334114895\n",
            "ite  37 time  7.291833086808523 fob = 0.0\n",
            "ite  38 time  7.490154115358989 fob = 0.0\n",
            "ite  39 time  7.687454493840535 fob = 0.0\n",
            "ite  40 time  7.894050216674804 fob = 0.0\n",
            "ite  41 time  8.100283817450206 fob = 0.0\n",
            "ite  42 time  8.289872185389202 fob = 0.0\n",
            "ite  43 time  8.479566808541616 fob = 0.0\n",
            "ite  44 time  8.668112234274547 fob = 0.0\n",
            "ite  45 time  8.858376189072926 fob = 0.0\n",
            "ite  46 time  9.04841225941976 fob = 0.0\n",
            "ite  47 time  9.236485226949055 fob = 0.0\n",
            "ite  48 time  9.426349325974781 fob = 0.0\n",
            "ite  49 time  9.615058799584707 fob = 0.0\n"
          ],
          "name": "stdout"
        }
      ]
    },
    {
      "cell_type": "code",
      "metadata": {
        "id": "u-n_6dNIfgHe"
      },
      "source": [
        "IND_XY = np.argsort(np.array(BEST_XY[:,-1]))\n",
        "BEST_XY = BEST_XY[IND_XY,:]"
      ],
      "execution_count": 11,
      "outputs": []
    },
    {
      "cell_type": "code",
      "metadata": {
        "id": "J_yG5aOopqo5"
      },
      "source": [
        "\n",
        "\n",
        "BEST=BEST_XY[0]\n",
        "WORSE=BEST_XY[-1]\n",
        "MEAN=np.mean(BEST_XY,axis=0)\n",
        "MAXFO=BEST_XY[:,-1].max()\n",
        "MINFO=BEST_XY[:,-1].min()\n",
        "STD=BEST_XY[:,-1].std()\n",
        "BEST=BEST_XY[(rows-1),(cols-1)]"
      ],
      "execution_count": 12,
      "outputs": []
    },
    {
      "cell_type": "code",
      "metadata": {
        "colab": {
          "base_uri": "https://localhost:8080/"
        },
        "id": "z4mYgxbKhqj1",
        "outputId": "9d462c0f-cf37-48c3-c972-02a773e2d776"
      },
      "source": [
        "print('======== JADE ==============')\n",
        "print('NPAR=',NPAR,'Iterações=',ITE*its,'Dim=', dim,\"Min/Max=\",MIN[0],\"/\",MAX[0],'_',Fun.__name__)\n",
        "print()\n",
        "print('MÉDIA: ',MEAN[-1])\n",
        "print('MIN __:',MINFO)\n",
        "print('MAX__: ',MAXFO)\n",
        "print('STD __:',STD)\n",
        "print(\"Tempo Médio= %.3f segundos ---\" % (TIME))\n",
        "print(RUNS,'Rodadas') \n",
        "print()\n",
        "print('BEST: ',MINFO)\n",
        "print()\n",
        "print(MEAN[-1])\n",
        "print(STD)\n",
        "print(MINFO)\n",
        "\n",
        "\n",
        "# print('melhor=',BEST_AGENTS[BEST_INDEX])"
      ],
      "execution_count": 13,
      "outputs": [
        {
          "output_type": "stream",
          "text": [
            "======== JADE ==============\n",
            "NPAR= 100 Iterações= 2000 Dim= 30 Min/Max= -600 / 600 _ Griewank\n",
            "\n",
            "MÉDIA:  0.0001479208066822979\n",
            "MIN __: 0.0\n",
            "MAX__:  0.007396040334114895\n",
            "STD __: 0.0010354456467760855\n",
            "Tempo Médio= 11.538 segundos ---\n",
            "50 Rodadas\n",
            "\n",
            "BEST:  0.0\n",
            "\n",
            "0.0001479208066822979\n",
            "0.0010354456467760855\n",
            "0.0\n"
          ],
          "name": "stdout"
        }
      ]
    }
  ]
}
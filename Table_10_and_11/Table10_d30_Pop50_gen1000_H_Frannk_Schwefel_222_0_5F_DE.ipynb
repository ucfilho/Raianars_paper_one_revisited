{
  "nbformat": 4,
  "nbformat_minor": 0,
  "metadata": {
    "colab": {
      "name": "Table10_d30_Pop50_gen1000_H_Frannk_Schwefel_222_0.5F-DE.ipynb",
      "provenance": [],
      "collapsed_sections": [],
      "include_colab_link": true
    },
    "kernelspec": {
      "name": "python3",
      "display_name": "Python 3"
    },
    "language_info": {
      "codemirror_mode": {
        "name": "ipython",
        "version": 3
      },
      "file_extension": ".py",
      "mimetype": "text/x-python",
      "name": "python",
      "nbconvert_exporter": "python",
      "pygments_lexer": "ipython3",
      "version": "3.7.3"
    }
  },
  "cells": [
    {
      "cell_type": "markdown",
      "metadata": {
        "id": "view-in-github",
        "colab_type": "text"
      },
      "source": [
        "<a href=\"https://colab.research.google.com/github/ucfilho/Raianars_paper_one_revisited/blob/main/Table_10_and_11/Table10_d30_Pop50_gen1000_H_Frannk_Schwefel_222_0_5F_DE.ipynb\" target=\"_parent\"><img src=\"https://colab.research.google.com/assets/colab-badge.svg\" alt=\"Open In Colab\"/></a>"
      ]
    },
    {
      "cell_type": "code",
      "metadata": {
        "colab": {
          "base_uri": "https://localhost:8080/"
        },
        "id": "c59cDVKoxDLX",
        "outputId": "5449e1f8-044e-4702-8393-3b91d9663a52"
      },
      "source": [
        "############################### Importar códigos\n",
        "!git clone https://github.com/ucfilho/optim_raianars_Insight/ #clonar do Github\n",
        "%cd optim_raianars_Insight\n",
        "import de_soma_Insight\n",
        "import de_bounds_matriz\n",
        "import Go2Ann"
      ],
      "execution_count": 1,
      "outputs": [
        {
          "output_type": "stream",
          "text": [
            "Cloning into 'optim_raianars_Insight'...\n",
            "remote: Enumerating objects: 323, done.\u001b[K\n",
            "remote: Counting objects: 100% (9/9), done.\u001b[K\n",
            "remote: Compressing objects: 100% (9/9), done.\u001b[K\n",
            "remote: Total 323 (delta 3), reused 0 (delta 0), pack-reused 314\u001b[K\n",
            "Receiving objects: 100% (323/323), 312.84 KiB | 7.27 MiB/s, done.\n",
            "Resolving deltas: 100% (184/184), done.\n",
            "/content/optim_raianars_Insight\n"
          ],
          "name": "stdout"
        }
      ]
    },
    {
      "cell_type": "code",
      "metadata": {
        "id": "Va-6Xios8RjU",
        "colab": {
          "base_uri": "https://localhost:8080/"
        },
        "outputId": "0c869157-0d16-4dd5-c696-d92c538b350b"
      },
      "source": [
        "!git clone https://github.com/ucfilho/Raianars_paper_One #clonar do Github\n",
        "%cd Raianars_paper_One"
      ],
      "execution_count": 2,
      "outputs": [
        {
          "output_type": "stream",
          "text": [
            "Cloning into 'Raianars_paper_One'...\n",
            "remote: Enumerating objects: 257, done.\u001b[K\n",
            "remote: Counting objects:   0% (1/128)\u001b[K\rremote: Counting objects:   1% (2/128)\u001b[K\rremote: Counting objects:   2% (3/128)\u001b[K\rremote: Counting objects:   3% (4/128)\u001b[K\rremote: Counting objects:   4% (6/128)\u001b[K\rremote: Counting objects:   5% (7/128)\u001b[K\rremote: Counting objects:   6% (8/128)\u001b[K\rremote: Counting objects:   7% (9/128)\u001b[K\rremote: Counting objects:   8% (11/128)\u001b[K\rremote: Counting objects:   9% (12/128)\u001b[K\rremote: Counting objects:  10% (13/128)\u001b[K\rremote: Counting objects:  11% (15/128)\u001b[K\rremote: Counting objects:  12% (16/128)\u001b[K\rremote: Counting objects:  13% (17/128)\u001b[K\rremote: Counting objects:  14% (18/128)\u001b[K\rremote: Counting objects:  15% (20/128)\u001b[K\rremote: Counting objects:  16% (21/128)\u001b[K\rremote: Counting objects:  17% (22/128)\u001b[K\rremote: Counting objects:  18% (24/128)\u001b[K\rremote: Counting objects:  19% (25/128)\u001b[K\rremote: Counting objects:  20% (26/128)\u001b[K\rremote: Counting objects:  21% (27/128)\u001b[K\rremote: Counting objects:  22% (29/128)\u001b[K\rremote: Counting objects:  23% (30/128)\u001b[K\rremote: Counting objects:  24% (31/128)\u001b[K\rremote: Counting objects:  25% (32/128)\u001b[K\rremote: Counting objects:  26% (34/128)\u001b[K\rremote: Counting objects:  27% (35/128)\u001b[K\rremote: Counting objects:  28% (36/128)\u001b[K\rremote: Counting objects:  29% (38/128)\u001b[K\rremote: Counting objects:  30% (39/128)\u001b[K\rremote: Counting objects:  31% (40/128)\u001b[K\rremote: Counting objects:  32% (41/128)\u001b[K\rremote: Counting objects:  33% (43/128)\u001b[K\rremote: Counting objects:  34% (44/128)\u001b[K\rremote: Counting objects:  35% (45/128)\u001b[K\rremote: Counting objects:  36% (47/128)\u001b[K\rremote: Counting objects:  37% (48/128)\u001b[K\rremote: Counting objects:  38% (49/128)\u001b[K\rremote: Counting objects:  39% (50/128)\u001b[K\rremote: Counting objects:  40% (52/128)\u001b[K\rremote: Counting objects:  41% (53/128)\u001b[K\rremote: Counting objects:  42% (54/128)\u001b[K\rremote: Counting objects:  43% (56/128)\u001b[K\rremote: Counting objects:  44% (57/128)\u001b[K\rremote: Counting objects:  45% (58/128)\u001b[K\rremote: Counting objects:  46% (59/128)\u001b[K\rremote: Counting objects:  47% (61/128)\u001b[K\rremote: Counting objects:  48% (62/128)\u001b[K\rremote: Counting objects:  49% (63/128)\u001b[K\rremote: Counting objects:  50% (64/128)\u001b[K\rremote: Counting objects:  51% (66/128)\u001b[K\rremote: Counting objects:  52% (67/128)\u001b[K\rremote: Counting objects:  53% (68/128)\u001b[K\rremote: Counting objects:  54% (70/128)\u001b[K\rremote: Counting objects:  55% (71/128)\u001b[K\rremote: Counting objects:  56% (72/128)\u001b[K\rremote: Counting objects:  57% (73/128)\u001b[K\rremote: Counting objects:  58% (75/128)\u001b[K\rremote: Counting objects:  59% (76/128)\u001b[K\rremote: Counting objects:  60% (77/128)\u001b[K\rremote: Counting objects:  61% (79/128)\u001b[K\rremote: Counting objects:  62% (80/128)\u001b[K\rremote: Counting objects:  63% (81/128)\u001b[K\rremote: Counting objects:  64% (82/128)\u001b[K\rremote: Counting objects:  65% (84/128)\u001b[K\rremote: Counting objects:  66% (85/128)\u001b[K\rremote: Counting objects:  67% (86/128)\u001b[K\rremote: Counting objects:  68% (88/128)\u001b[K\rremote: Counting objects:  69% (89/128)\u001b[K\rremote: Counting objects:  70% (90/128)\u001b[K\rremote: Counting objects:  71% (91/128)\u001b[K\rremote: Counting objects:  72% (93/128)\u001b[K\rremote: Counting objects:  73% (94/128)\u001b[K\rremote: Counting objects:  74% (95/128)\u001b[K\rremote: Counting objects:  75% (96/128)\u001b[K\rremote: Counting objects:  76% (98/128)\u001b[K\rremote: Counting objects:  77% (99/128)\u001b[K\rremote: Counting objects:  78% (100/128)\u001b[K\rremote: Counting objects:  79% (102/128)\u001b[K\rremote: Counting objects:  80% (103/128)\u001b[K\rremote: Counting objects:  81% (104/128)\u001b[K\rremote: Counting objects:  82% (105/128)\u001b[K\rremote: Counting objects:  83% (107/128)\u001b[K\rremote: Counting objects:  84% (108/128)\u001b[K\rremote: Counting objects:  85% (109/128)\u001b[K\rremote: Counting objects:  86% (111/128)\u001b[K\rremote: Counting objects:  87% (112/128)\u001b[K\rremote: Counting objects:  88% (113/128)\u001b[K\rremote: Counting objects:  89% (114/128)\u001b[K\rremote: Counting objects:  90% (116/128)\u001b[K\rremote: Counting objects:  91% (117/128)\u001b[K\rremote: Counting objects:  92% (118/128)\u001b[K\rremote: Counting objects:  93% (120/128)\u001b[K\rremote: Counting objects:  94% (121/128)\u001b[K\rremote: Counting objects:  95% (122/128)\u001b[K\rremote: Counting objects:  96% (123/128)\u001b[K\rremote: Counting objects:  97% (125/128)\u001b[K\rremote: Counting objects:  98% (126/128)\u001b[K\rremote: Counting objects:  99% (127/128)\u001b[K\rremote: Counting objects: 100% (128/128)\u001b[K\rremote: Counting objects: 100% (128/128), done.\u001b[K\n",
            "remote: Compressing objects: 100% (128/128), done.\u001b[K\n",
            "remote: Total 257 (delta 70), reused 0 (delta 0), pack-reused 129\u001b[K\n",
            "Receiving objects: 100% (257/257), 656.89 KiB | 12.88 MiB/s, done.\n",
            "Resolving deltas: 100% (142/142), done.\n",
            "/content/optim_raianars_Insight/Raianars_paper_One\n"
          ],
          "name": "stdout"
        }
      ]
    },
    {
      "cell_type": "code",
      "metadata": {
        "id": "_E15mKFURR6O"
      },
      "source": [
        "#import Go2Ann\n",
        "#import de_soma_Insight\n",
        "#import de_bounds_matriz\n",
        "#import Function\n",
        "import Go2MinMax\n",
        "from AvaliaX import AvaliaX\n",
        "#from Function import FUN\n",
        "#from Function import Function.FUN\n",
        "#from Function import Function.Fun\n",
        "#from Function import Function\n",
        "from GeraIndices import GeraIndices\n",
        "import numpy as np\n",
        "import time\n",
        "import matplotlib.pyplot as plt\n",
        "from random import randint\n",
        "from scipy import optimize\n",
        "import pandas as pd\n",
        "from sklearn.metrics import confusion_matrix\n",
        "\n",
        "############################### DADOS DE ENTRADA \n",
        "RUNS=50 #NÚMERO DE RODADAS\n",
        "Fc=0.1 # fator de correcao parametros da ANN\n",
        "its=1 #10 # quantas vezes vai usar o NPAR antes de alterar de novo\n",
        "ITE=1000 #10 # PONTOS quantas vezes vai alteral NPAR \n",
        "NPAR=50\n",
        "mut=0.5\n",
        "crossp=0.5\n",
        "\n",
        "#fator = 1.0/3.0; \n",
        "Fi=mut;CRi=crossp;# para impressão\n",
        "fator = 1.0/2.0; \n",
        "mut2=0.5;crossp2=0.5;mut3=0.75;crossp3=0.25;mut4=0.25;crossp4=0.25;\n"
      ],
      "execution_count": 3,
      "outputs": []
    },
    {
      "cell_type": "code",
      "metadata": {
        "colab": {
          "base_uri": "https://localhost:8080/"
        },
        "id": "ik3ZjkUKycUK",
        "outputId": "be13b27b-e5c1-4e7c-ac5a-314429a6b7b3"
      },
      "source": [
        "############################### Importar códigos\n",
        "!git clone https://github.com/ucfilho/optim_raianars_Insight/ #clonar do Github\n",
        "%cd optim_raianars_Insight\n",
        "import de_soma_Insight\n",
        "import de_bounds_matriz"
      ],
      "execution_count": 4,
      "outputs": [
        {
          "output_type": "stream",
          "text": [
            "Cloning into 'optim_raianars_Insight'...\n",
            "remote: Enumerating objects: 323, done.\u001b[K\n",
            "remote: Counting objects:  11% (1/9)\u001b[K\rremote: Counting objects:  22% (2/9)\u001b[K\rremote: Counting objects:  33% (3/9)\u001b[K\rremote: Counting objects:  44% (4/9)\u001b[K\rremote: Counting objects:  55% (5/9)\u001b[K\rremote: Counting objects:  66% (6/9)\u001b[K\rremote: Counting objects:  77% (7/9)\u001b[K\rremote: Counting objects:  88% (8/9)\u001b[K\rremote: Counting objects: 100% (9/9)\u001b[K\rremote: Counting objects: 100% (9/9), done.\u001b[K\n",
            "remote: Compressing objects:  11% (1/9)\u001b[K\rremote: Compressing objects:  22% (2/9)\u001b[K\rremote: Compressing objects:  33% (3/9)\u001b[K\rremote: Compressing objects:  44% (4/9)\u001b[K\rremote: Compressing objects:  55% (5/9)\u001b[K\rremote: Compressing objects:  66% (6/9)\u001b[K\rremote: Compressing objects:  77% (7/9)\u001b[K\rremote: Compressing objects:  88% (8/9)\u001b[K\rremote: Compressing objects: 100% (9/9)\u001b[K\rremote: Compressing objects: 100% (9/9), done.\u001b[K\n",
            "remote: Total 323 (delta 3), reused 0 (delta 0), pack-reused 314\u001b[K\n",
            "Receiving objects: 100% (323/323), 312.84 KiB | 7.82 MiB/s, done.\n",
            "Resolving deltas: 100% (184/184), done.\n",
            "/content/optim_raianars_Insight/Raianars_paper_One/optim_raianars_Insight\n"
          ],
          "name": "stdout"
        }
      ]
    },
    {
      "cell_type": "code",
      "metadata": {
        "colab": {
          "base_uri": "https://localhost:8080/"
        },
        "id": "lJogRB30yepw",
        "outputId": "015f91fd-5e70-40c3-bd74-9f9dadf10b7f"
      },
      "source": [
        "#!git clone https://github.com/ucfilho/Raianars_paper_One #clonar do Github\n",
        "#%cd Raianars_paper_One\n",
        "\n",
        "!git clone https://github.com/ucfilho/Raianars_Routines #clonar do Github\n",
        "%cd Raianars_Routines"
      ],
      "execution_count": 5,
      "outputs": [
        {
          "output_type": "stream",
          "text": [
            "Cloning into 'Raianars_Routines'...\n",
            "remote: Enumerating objects: 54, done.\u001b[K\n",
            "remote: Counting objects: 100% (54/54), done.\u001b[K\n",
            "remote: Compressing objects: 100% (52/52), done.\u001b[K\n",
            "remote: Total 54 (delta 16), reused 0 (delta 0), pack-reused 0\u001b[K\n",
            "Unpacking objects: 100% (54/54), done.\n",
            "/content/optim_raianars_Insight/Raianars_paper_One/optim_raianars_Insight/Raianars_Routines\n"
          ],
          "name": "stdout"
        }
      ]
    },
    {
      "cell_type": "code",
      "metadata": {
        "id": "P8LIRCsdywOX"
      },
      "source": [
        "############################### Função\n",
        "import FunctionsNew\n",
        "#'''  \n",
        "############################### Função\n",
        "dim=30 # \n",
        "fchoice='Schwefel_222'\n",
        "Fun=FunctionsNew.Schwefel_222\n",
        "MAX=np.repeat(10,dim)\n",
        "MIN=np.repeat(-10,dim)\n",
        "\n",
        "bounds=[]\n",
        "for k in range(len(MAX)):\n",
        "  bounds.append((MIN[k],MAX[k]))"
      ],
      "execution_count": 6,
      "outputs": []
    },
    {
      "cell_type": "code",
      "metadata": {
        "id": "qTINtQ1cosZK",
        "colab": {
          "base_uri": "https://localhost:8080/"
        },
        "outputId": "b9237631-5844-4f4b-c01a-4c1c0ef39621"
      },
      "source": [
        "!git clone https://github.com/ucfilho/ANN_read_matrix #clonar do Github\n",
        "%cd ANN_read_matrix"
      ],
      "execution_count": 7,
      "outputs": [
        {
          "output_type": "stream",
          "text": [
            "Cloning into 'ANN_read_matrix'...\n",
            "remote: Enumerating objects: 20, done.\u001b[K\n",
            "remote: Counting objects: 100% (20/20), done.\u001b[K\n",
            "remote: Compressing objects: 100% (18/18), done.\u001b[K\n",
            "remote: Total 20 (delta 5), reused 0 (delta 0), pack-reused 0\u001b[K\n",
            "Unpacking objects: 100% (20/20), done.\n",
            "/content/optim_raianars_Insight/Raianars_paper_One/optim_raianars_Insight/Raianars_Routines/ANN_read_matrix\n"
          ],
          "name": "stdout"
        }
      ]
    },
    {
      "cell_type": "code",
      "metadata": {
        "id": "QiQLYOoNoyCw"
      },
      "source": [
        "ANN_F=pd.read_csv('ANN_INSIGHT_Valor_F.csv')"
      ],
      "execution_count": 8,
      "outputs": []
    },
    {
      "cell_type": "code",
      "metadata": {
        "id": "uHtW2amaDzFv"
      },
      "source": [
        "ANN_CR=pd.read_csv('ANN_INSIGHT_CR.csv')"
      ],
      "execution_count": 9,
      "outputs": []
    },
    {
      "cell_type": "code",
      "metadata": {
        "id": "EH6h_vke2yu1"
      },
      "source": [
        "syn0_F,syn1_F,X_max_F,X_min_F=Go2Ann.GetMatriz(ANN_F)"
      ],
      "execution_count": 10,
      "outputs": []
    },
    {
      "cell_type": "code",
      "metadata": {
        "id": "WW_3ZWJXD60i"
      },
      "source": [
        "syn0_CR,syn1_CR,X_max_CR,X_min_CR=Go2Ann.GetMatriz(ANN_CR)"
      ],
      "execution_count": 11,
      "outputs": []
    },
    {
      "cell_type": "code",
      "metadata": {
        "id": "b4gwBvVTyaXh"
      },
      "source": [
        "ANN_CR=pd.read_csv('ANN_INSIGHT_CR.csv')"
      ],
      "execution_count": 12,
      "outputs": []
    },
    {
      "cell_type": "code",
      "metadata": {
        "id": "6jL8MxpHvk-Y"
      },
      "source": [
        "fields = ['DI RELATIVO','FRAC Its','Fo','CRo']"
      ],
      "execution_count": 13,
      "outputs": []
    },
    {
      "cell_type": "code",
      "metadata": {
        "id": "Mb3LmbSmj9v7",
        "colab": {
          "base_uri": "https://localhost:8080/"
        },
        "outputId": "efc7c034-5008-4711-fa8c-25d0359c3588"
      },
      "source": [
        "##################################### \n",
        "\n",
        "TOTAL=10*dim*its*ITE\n",
        "TOTAL=int(TOTAL/2)   # CONFERIR SE ESTE EH O MELHOR LUGAR\n",
        "\n",
        "dimensions=len(MAX)\n",
        "start_time = time.time() #INICIALIZA CONTAGEM DO TEMPO\n",
        "\n",
        "\n",
        "PAR=dim\n",
        "fobj=Fun\n",
        "\n",
        "MAX_P=np.zeros(ITE) # ATENCAO para variar F e Cr MAX_P passa a ser 3 vezes maior\n",
        "MIN_P=np.zeros(ITE) # ATENCAO para variar F e Cr MIN_P passa a ser 3 vezes maior\n",
        "\n",
        "for i in range(dim):\n",
        "  MAX_P[i]=MAX[i] \n",
        "  MIN_P[i]=MIN[i]\n",
        "\n",
        "rodadas=1\n",
        "NPAR1=int(fator*NPAR);\n",
        "NPAR2=int((NPAR-NPAR1)/3);\n",
        "NPAR3=int((NPAR-NPAR1)/3);\n",
        "NPAR4=int((NPAR-NPAR1)/3);\n",
        "NPAR1 = NPAR-3*NPAR2\n",
        "print('frac=',fator);\n",
        "print('Npar1=',NPAR1);\n",
        "print('Npar2=',NPAR2);\n",
        "print('Npar3=',NPAR3);\n",
        "print('Npar4=',NPAR4);\n",
        "print('Npar=',NPAR)\n",
        "\n",
        "cols=dim\n",
        "\n",
        "X1=np.zeros((NPAR1,cols)) # X1 is Frannk population\n",
        "for i in range(NPAR1):\n",
        "  for j in range(cols):\n",
        "    r=np.random.random()\n",
        "    X1[i,j]=r*(MAX[j]-MIN[j])+MIN[j]\n",
        "    \n",
        "X2=np.zeros((NPAR2,cols)) # X2 is population DE (default DE)\n",
        "for i in range(NPAR2):\n",
        "  for j in range(cols):\n",
        "    r=np.random.random()\n",
        "    X2[i,j]=r*(MAX[j]-MIN[j])+MIN[j]\n",
        "\n",
        "X3=np.zeros((NPAR3,cols)) # X1 is Frannk population\n",
        "for i in range(NPAR3):\n",
        "  for j in range(cols):\n",
        "    r=np.random.random()\n",
        "    X3[i,j]=r*(MAX[j]-MIN[j])+MIN[j]\n",
        "    \n",
        "X4=np.zeros((NPAR4,cols)) # X2 is population DE (default DE)\n",
        "for i in range(NPAR4):\n",
        "  for j in range(cols):\n",
        "    r=np.random.random()\n",
        "    X4[i,j]=r*(MAX[j]-MIN[j])+MIN[j]\n",
        "    \n",
        " ############################################################\n",
        "  #bounds=[(5*dim, 15*dim)] * PONTOS # ITE\n",
        "  #bounds=[(3*dim, 12*dim)] * PONTOS # ITE\n",
        "  #bounds=[(4*dim, 16*dim)] * PONTOS\n",
        "  \n",
        "  # nao pode ser assim pq o bounds vale p o DE nao dos parametros\n",
        "  #p=int(TOTAL/its/ITE) \n",
        "  #bounds=[(p, p)] * PONTOS\n"
      ],
      "execution_count": 14,
      "outputs": [
        {
          "output_type": "stream",
          "text": [
            "frac= 0.5\n",
            "Npar1= 26\n",
            "Npar2= 8\n",
            "Npar3= 8\n",
            "Npar4= 8\n",
            "Npar= 50\n"
          ],
          "name": "stdout"
        }
      ]
    },
    {
      "cell_type": "code",
      "metadata": {
        "id": "rnX8ttNopd1G",
        "colab": {
          "base_uri": "https://localhost:8080/"
        },
        "outputId": "8fcd81d4-d613-4234-90bb-363a5ed47f1e"
      },
      "source": [
        "\n",
        "start_time = time.time()\n",
        "BEST_AGENTS=[]\n",
        "MAT_stat=[]\n",
        "for iii in range(RUNS):\n",
        "    MAT=[] \n",
        "    mut=Fi\n",
        "    crossp=CRi\n",
        "    SOMA=0\n",
        "    pop = np.random.rand(NPAR, dim)\n",
        "    diff=np.zeros(PAR)\n",
        "\n",
        "\n",
        "    X1=np.zeros((NPAR1,cols)) # X1 is Frannk population\n",
        "    for i in range(NPAR1):\n",
        "      for j in range(cols):\n",
        "        r=np.random.random()\n",
        "        X1[i,j]=r*(MAX[j]-MIN[j])+MIN[j]\n",
        "        \n",
        "    X2=np.zeros((NPAR2,cols)) # X2 is population DE (default DE)\n",
        "    for i in range(NPAR2):\n",
        "      for j in range(cols):\n",
        "        r=np.random.random()\n",
        "        X2[i,j]=r*(MAX[j]-MIN[j])+MIN[j]\n",
        "\n",
        "    X3=np.zeros((NPAR3,cols)) # X2 is population DE (default DE)\n",
        "    for i in range(NPAR3):\n",
        "      for j in range(cols):\n",
        "        r=np.random.random()\n",
        "        X3[i,j]=r*(MAX[j]-MIN[j])+MIN[j]\n",
        "\n",
        "    X4=np.zeros((NPAR4,cols)) # X2 is population DE (default DE)\n",
        "    for i in range(NPAR4):\n",
        "      for j in range(cols):\n",
        "        r=np.random.random()\n",
        "        X4[i,j]=r*(MAX[j]-MIN[j])+MIN[j]\n",
        "    \n",
        "    DIo=1e99\n",
        "  \n",
        "    CRo=crossp;Fo=mut;\n",
        "    Fitness = np.asarray([Fun(ind) for ind in X1])\n",
        "    XY,BEST_XY,BESTo,FOBESTo=AvaliaX(X1,Fitness)\n",
        "    nrow,ncol=X1.shape\n",
        "\n",
        "    QUANT=17;MAT_INDo=np.zeros((1,QUANT)); # quantos indices esta fazendo\n",
        "    MAT_INDo[0,5]=nrow  # VALOR NP\n",
        "    MAT_INDo[0,6]=Fo    # VALOR Fo   \n",
        "    MAT_INDo[0,7]=CRo   # VALOR CRo\n",
        "  \n",
        "    MAT_INDo=GeraIndices(X1,BESTo,FOBESTo,DIo,MAT_INDo,SOMA,TOTAL,syn0_F,\n",
        "                        syn1_F,X_max_F,X_min_F,syn0_CR,syn1_CR,X_max_CR,\n",
        "                        X_min_CR,Fc,fields,Fun)\n",
        "  \n",
        "    DIo=np.copy(MAT_INDo[0,0])\n",
        "    MAT_INDo[0,15]=Fo    # VALOR Fo   \n",
        "    MAT_INDo[0,16]=CRo   # VALOR CRo\n",
        "    #ind_crossp=ITE-1\n",
        "    \n",
        "\n",
        "    \n",
        "    for k in range(ITE):\n",
        "\n",
        "\n",
        "\n",
        "      X2,BEST2,FOBEST,XY,BEST_XY=de_bounds_matriz.de(bounds, mut2, crossp2,NPAR2, its,fobj,X2)\n",
        "      X3,BEST3,FOBEST,XY,BEST_XY=de_bounds_matriz.de(bounds, mut3, crossp3,NPAR3, its,fobj,X3)\n",
        "      X4,BEST4,FOBEST,XY,BEST_XY=de_bounds_matriz.de(bounds, mut4, crossp4,NPAR4, its,fobj,X4)\n",
        "      \n",
        "      X1,BEST1,FOBEST,XY,BEST_XY,SOMA= de_soma_Insight.de(MAX,MIN, mut, crossp,NPAR1,its,Fun,X1,SOMA,TOTAL)\n",
        "\n",
        "      MAT_IND=GeraIndices(X1,BESTo,FOBESTo,DIo,MAT_INDo,SOMA,TOTAL,syn0_F,\n",
        "                          syn1_F,X_max_F,X_min_F,syn0_CR,syn1_CR,X_max_CR,\n",
        "                          X_min_CR,Fc,fields,Fun)\n",
        "    \n",
        "      BESTo=np.copy(BEST1);FOBESTo=np.copy(FOBEST);\n",
        "      MAT.append(MAT_IND.ravel())\n",
        "    \n",
        "      MAT_INDo[0,6]=MAT_IND[0,15]   # VALOR Fo   \n",
        "      MAT_INDo[0,7]=MAT_IND[0,16]   # VALOR CRo\n",
        "      mut=MAT_IND[0,15]\n",
        "      crossp=MAT_IND[0,16]\n",
        "      X1[0,:] = BEST2;X1[1,:] = BEST3; X1[2,:] = BEST4;X1[NPAR1-1,:] = BEST1;\n",
        "      X2[0,:] = BEST1;X2[1,:] = BEST3;X2[2,:] = BEST4;X2[NPAR2-1,:] = BEST2;\n",
        "      X3[0,:] = BEST1;X3[1,:] = BEST2;X3[2,:] = BEST4;X3[NPAR3-1,:] = BEST3;\n",
        "      X4[0,:] = BEST1;X4[1,:] = BEST2;X4[2,:] = BEST3;X4[NPAR4-1,:] = BEST4;\n",
        "    print('k=',iii,'time=',(time.time()-start_time)/60, 'FO=',FOBEST)  \n",
        "    BEST_AGENTS.append(BEST_XY)\n",
        "    MAT_stat.append(MAT)\n",
        "    #print(\"GlobalParam e Solucao:\", BEST,\"Funcao=\",FOBEST)\n",
        "    \n",
        "############################## Cálculo dos Parâmetros de Avaliação   \n",
        "TIME = (time.time() - start_time)/RUNS\n",
        "BEST_AGENTS=np.array(BEST_AGENTS)\n",
        "BEST_AGENTS_ST= BEST_AGENTS[BEST_AGENTS[:,-1].argsort()]\n",
        "BEST=BEST_AGENTS_ST[0]\n",
        "WORSE=BEST_AGENTS_ST[-1]\n",
        "MEAN=np.mean(BEST_AGENTS,axis=0)\n",
        "MAXFO=BEST_AGENTS[:,-1].max()\n",
        "MINFO=BEST_AGENTS[:,-1].min()\n",
        "STD=BEST_AGENTS[:,-1].std()"
      ],
      "execution_count": 15,
      "outputs": [
        {
          "output_type": "stream",
          "text": [
            "k= 0 time= 0.39957768519719444 FO= 9.932817891781517e-11\n",
            "k= 1 time= 0.7963640252749126 FO= 4.552770604342227e-14\n",
            "k= 2 time= 1.1962061444918315 FO= 5.1848575386680026e-11\n",
            "k= 3 time= 1.592159922917684 FO= 8.516650955591619e-12\n",
            "k= 4 time= 1.992432693640391 FO= 8.660039936088583e-11\n",
            "k= 5 time= 2.3961773037910463 FO= 6.976079807493164e-11\n",
            "k= 6 time= 2.7948002497355144 FO= 3.4538063425518416e-11\n",
            "k= 7 time= 3.1899816393852234 FO= 1.2227311943005053e-10\n",
            "k= 8 time= 3.586583340167999 FO= 5.933154795883912e-11\n",
            "k= 9 time= 3.9834497054417928 FO= 1.8207850935213956e-14\n",
            "k= 10 time= 4.378882451852163 FO= 2.051268414877891e-12\n",
            "k= 11 time= 4.773206587632497 FO= 7.23246100345198e-11\n",
            "k= 12 time= 5.170397094885508 FO= 5.18524001832269e-12\n",
            "k= 13 time= 5.563194668292999 FO= 7.456446703355105e-14\n",
            "k= 14 time= 5.959424920876821 FO= 3.561642133592338e-11\n",
            "k= 15 time= 6.355315637588501 FO= 5.2922581831696834e-14\n",
            "k= 16 time= 6.74898841381073 FO= 1.72252459442634e-10\n",
            "k= 17 time= 7.143104227383931 FO= 4.1686431397995765e-14\n",
            "k= 18 time= 7.535880343119303 FO= 2.0736754514867717e-14\n",
            "k= 19 time= 7.931260903676351 FO= 5.2660116425446465e-11\n",
            "k= 20 time= 8.324541238943736 FO= 3.9307089810312317e-14\n",
            "k= 21 time= 8.718761809666951 FO= 6.325327181708466e-14\n",
            "k= 22 time= 9.155521583557128 FO= 8.199617686578763e-11\n",
            "k= 23 time= 9.556062877178192 FO= 1.4150323070893529e-14\n",
            "k= 24 time= 9.953360982735951 FO= 7.039328012050674e-14\n",
            "k= 25 time= 10.352943642934163 FO= 3.6000176906351617e-11\n",
            "k= 26 time= 10.745978724956512 FO= 6.376231447144063e-14\n",
            "k= 27 time= 11.143425488471985 FO= 6.201566900964598e-11\n",
            "k= 28 time= 11.541575793425242 FO= 4.269425978424381e-14\n",
            "k= 29 time= 11.935436594486237 FO= 5.3892355145292846e-14\n",
            "k= 30 time= 12.33918114900589 FO= 1.6639778749193205e-10\n",
            "k= 31 time= 12.751545870304108 FO= 3.35051610524102e-14\n",
            "k= 32 time= 13.166593559583028 FO= 3.0129421095207714e-14\n",
            "k= 33 time= 13.566047020753224 FO= 1.1385864555779376e-10\n",
            "k= 34 time= 13.95872761408488 FO= 2.4894829671060748e-14\n",
            "k= 35 time= 14.35513193209966 FO= 3.54308301889007e-12\n",
            "k= 36 time= 14.750445854663848 FO= 1.7258822482697594e-10\n",
            "k= 37 time= 15.145337390899659 FO= 2.4788994650031833e-14\n",
            "k= 38 time= 15.541791260242462 FO= 2.3178920602733255e-14\n",
            "k= 39 time= 15.938935160636902 FO= 2.3126924532613987e-14\n",
            "k= 40 time= 16.331583563486735 FO= 6.040969508144102e-14\n",
            "k= 41 time= 16.72516063451767 FO= 2.913987842071418e-14\n",
            "k= 42 time= 17.11882204214732 FO= 4.1735748919781923e-14\n",
            "k= 43 time= 17.513376943270366 FO= 4.1334401279832915e-14\n",
            "k= 44 time= 17.907405002911887 FO= 3.3126990575903624e-14\n",
            "k= 45 time= 18.30204829374949 FO= 8.192370453813148e-14\n",
            "k= 46 time= 18.697176321347555 FO= 1.8653111767319723e-14\n",
            "k= 47 time= 19.121399931112926 FO= 4.340947991071899e-14\n",
            "k= 48 time= 19.522260149319965 FO= 7.878572902949391e-12\n",
            "k= 49 time= 19.917326096693674 FO= 2.5757336139065713e-14\n"
          ],
          "name": "stdout"
        }
      ]
    },
    {
      "cell_type": "code",
      "metadata": {
        "id": "TLEE0UrZSvJF",
        "colab": {
          "base_uri": "https://localhost:8080/"
        },
        "outputId": "b5be1a2b-7f67-4c5d-df49-fa953745225d"
      },
      "source": [
        "#len(X2[1,:])\n",
        "print(cols)"
      ],
      "execution_count": 16,
      "outputs": [
        {
          "output_type": "stream",
          "text": [
            "30\n"
          ],
          "name": "stdout"
        }
      ]
    },
    {
      "cell_type": "code",
      "metadata": {
        "id": "k3p9TGsx1OCu"
      },
      "source": [
        "NOMES=['DIVERSIDADE (DI)',  'DI RELATIVO','FRAC Its',\n",
        "           'VELOC FOBJ','VELOC X','NP','Fo','CRo','fmin','fmax',\n",
        "           'AD_fmin','AD_fmax','DELTA FOBJ','DELTA VX','r_fitness',\n",
        "           'F','CR']\n",
        "# BEST_INDEX= BEST_AGENTS[BEST_AGENTS[:,-1].argmin()]  \n",
        "BEST_INDEX = np.argmin(BEST_AGENTS[:,-1])\n",
        "df=pd.DataFrame(MAT_stat[BEST_INDEX], columns=NOMES)\n",
        "\n"
      ],
      "execution_count": 17,
      "outputs": []
    },
    {
      "cell_type": "code",
      "metadata": {
        "id": "jIHiKR_t1xxs",
        "colab": {
          "base_uri": "https://localhost:8080/"
        },
        "outputId": "5f7a8ce6-cf9a-4301-d1f4-314ff7fcbc63"
      },
      "source": [
        "pd.set_option('display.max_columns', 30)  \n",
        "print(df)"
      ],
      "execution_count": 18,
      "outputs": [
        {
          "output_type": "stream",
          "text": [
            "     DIVERSIDADE (DI)   DI RELATIVO  FRAC Its  VELOC FOBJ  VELOC X    NP  \\\n",
            "0        3.023895e+01  9.812749e-01  0.000173         2.0      0.0  26.0   \n",
            "1        2.934834e+01  9.523739e-01  0.000347         2.0      2.0  26.0   \n",
            "2        2.776139e+01  9.008765e-01  0.000520         1.0      2.0  26.0   \n",
            "3        2.698576e+01  8.757065e-01  0.000693         2.0      2.0  26.0   \n",
            "4        2.622735e+01  8.510959e-01  0.000867         2.0      2.0  26.0   \n",
            "..                ...           ...       ...         ...      ...   ...   \n",
            "995      9.514766e-15  3.087608e-16  0.172640         0.0      0.0  26.0   \n",
            "996      9.101432e-15  2.953478e-16  0.172813         1.0      1.0  26.0   \n",
            "997      8.884671e-15  2.883138e-16  0.172987         1.0      1.0  26.0   \n",
            "998      8.645478e-15  2.805518e-16  0.173160         1.0      1.0  26.0   \n",
            "999      8.266077e-15  2.682400e-16  0.173333         1.0      1.0  26.0   \n",
            "\n",
            "           Fo       CRo          fmin          fmax  AD_fmin  AD_fmax  \\\n",
            "0    0.500000  0.500000  8.646482e+08  3.248682e+19      1.0      1.0   \n",
            "1    0.254681  0.336454  2.560474e+07  3.248682e+19      1.0      1.0   \n",
            "2    0.436595  0.229644  2.502179e+07  3.266794e+17      1.0      1.0   \n",
            "3    0.239936  0.160684  2.468238e+06  1.410297e+16      1.0      1.0   \n",
            "4    0.397521  0.231040  2.237978e+05  9.080966e+15      1.0      1.0   \n",
            "..        ...       ...           ...           ...      ...      ...   \n",
            "995  0.336337  0.139216  1.731928e-14  5.610376e-14      1.0      1.0   \n",
            "996  0.336337  0.139216  1.527566e-14  5.610376e-14      1.0      1.0   \n",
            "997  0.336337  0.139216  1.525922e-14  5.425651e-14      1.0      1.0   \n",
            "998  0.336337  0.139216  1.514187e-14  5.005871e-14      1.0      1.0   \n",
            "999  0.336337  0.139216  1.415032e-14  4.966978e-14      1.0      1.0   \n",
            "\n",
            "     DELTA FOBJ  DELTA VX  r_fitness         F        CR  \n",
            "0           0.0       0.0   1.000000  0.254681  0.336454  \n",
            "1           0.0       0.0   1.000000  0.436595  0.229644  \n",
            "2           0.0       0.0   1.000000  0.239936  0.160684  \n",
            "3           0.0       0.0   1.000000  0.397521  0.231040  \n",
            "4           0.0       0.0   1.000000  0.651268  0.165494  \n",
            "..          ...       ...        ...       ...       ...  \n",
            "995         0.0       0.0   0.691299  0.336337  0.139216  \n",
            "996         0.0       0.0   0.727725  0.336337  0.139216  \n",
            "997         0.0       0.0   0.718758  0.336337  0.139216  \n",
            "998         0.0       0.0   0.697518  0.336337  0.139216  \n",
            "999         0.0       0.0   0.715112  0.336337  0.139216  \n",
            "\n",
            "[1000 rows x 17 columns]\n"
          ],
          "name": "stdout"
        }
      ]
    },
    {
      "cell_type": "code",
      "metadata": {
        "id": "bx0ywpMtAAjw",
        "colab": {
          "base_uri": "https://localhost:8080/",
          "height": 299
        },
        "outputId": "d1dff70a-9f73-4af1-bd0a-563cb0d4832e"
      },
      "source": [
        "plt.plot(df['FRAC Its'],df['CR'])\n",
        "plt.xlabel('Iteração/Total')\n",
        "plt.ylabel('CR')"
      ],
      "execution_count": 19,
      "outputs": [
        {
          "output_type": "execute_result",
          "data": {
            "text/plain": [
              "Text(0, 0.5, 'CR')"
            ]
          },
          "metadata": {
            "tags": []
          },
          "execution_count": 19
        },
        {
          "output_type": "display_data",
          "data": {
            "image/png": "[encoded data removed]",
            "text/plain": [
              "<Figure size 432x288 with 1 Axes>"
            ]
          },
          "metadata": {
            "tags": [],
            "needs_background": "light"
          }
        }
      ]
    },
    {
      "cell_type": "code",
      "metadata": {
        "id": "BvPFvbDvteDC",
        "colab": {
          "base_uri": "https://localhost:8080/",
          "height": 295
        },
        "outputId": "003ae61e-19fb-4a4b-dfd9-efb3bcc451ba"
      },
      "source": [
        "\n",
        "fig, ax = plt.subplots()\n",
        "ax.plot(df['FRAC Its'],df['F'],label='F')\n",
        "ax.set_xlabel('Iteração/Total')\n",
        "ax.set_ylabel('Parâmetros')\n",
        "ax.plot(df['FRAC Its'],df['CR'],'-r', label='CR')\n",
        "nome=Fun.__name__+'  M=Diversidade'+ '  D='+str(dim)\n",
        "ax.set_title(nome)\n",
        "leg = ax.legend()\n"
      ],
      "execution_count": 20,
      "outputs": [
        {
          "output_type": "display_data",
          "data": {
            "image/png": "[encoded data removed]",
            "text/plain": [
              "<Figure size 432x288 with 1 Axes>"
            ]
          },
          "metadata": {
            "tags": [],
            "needs_background": "light"
          }
        }
      ]
    },
    {
      "cell_type": "code",
      "metadata": {
        "id": "htooaGpDia_0",
        "colab": {
          "base_uri": "https://localhost:8080/",
          "height": 312
        },
        "outputId": "ad0f7c78-d470-4237-ed3f-acfbc8094400"
      },
      "source": [
        "f, axarr = plt.subplots(2, sharex=True)\n",
        "axarr[0].plot(df['FRAC Its'],df['F'])\n",
        "axarr[0].set_ylabel('F')\n",
        "axarr[1].plot(df['FRAC Its'],df['CR'])\n",
        "axarr[1].set_ylabel('CR')\n",
        "axarr[1].set_xlabel('Iteração/Total')\n",
        "nome=Fun.__name__+'_Diversidade_'+ 'D='+str(dim)\n",
        "axarr[0].set_title(nome)\n"
      ],
      "execution_count": 21,
      "outputs": [
        {
          "output_type": "execute_result",
          "data": {
            "text/plain": [
              "Text(0.5, 1.0, 'Schwefel_222_Diversidade_D=30')"
            ]
          },
          "metadata": {
            "tags": []
          },
          "execution_count": 21
        },
        {
          "output_type": "display_data",
          "data": {
            "image/png": "[encoded data removed]",
            "text/plain": [
              "<Figure size 432x288 with 2 Axes>"
            ]
          },
          "metadata": {
            "tags": [],
            "needs_background": "light"
          }
        }
      ]
    },
    {
      "cell_type": "code",
      "metadata": {
        "id": "lNSN5X-wskcx",
        "colab": {
          "base_uri": "https://localhost:8080/"
        },
        "outputId": "ddfd292e-16c8-47f3-bc59-f0404db0cc32"
      },
      "source": [
        "nome='SUB'+'_Fo-'+str(Fi)+'_CRo-'+str(CRi)+'_D-'+str(dim)+'_Interv-'+str(ITE)\n",
        "print('MCS-FRANNK','Fator F/DE= %.2f' %(fator),'NPAR=',NPAR,'Iterações=',ITE*its,'Dim=', PAR,\"Min/Max=\",MIN[0],\"/\",MAX[0],'_',Fun.__name__)\n",
        "print(nome, '\\n')\n",
        "#print('BEST: ',BEST)\n",
        "#print('MÉDIA: ',MEAN)\n",
        "print('MÉDIA: ',MEAN[-1],'STD __:',STD)\n",
        "print('MIN __:',MINFO, 'MAX__: ',MAXFO)\n",
        "print(MEAN[-1])\n",
        "print(STD)\n",
        "print(MINFO)\n",
        "print(\"Tempo Médio= %.3f segundos ---\" % (TIME))\n",
        "print(RUNS,'Rodadas') \n",
        "print()\n",
        "print('BEST: ',BEST)\n",
        "# print('melhor=',BEST_AGENTS[BEST_INDEX])"
      ],
      "execution_count": 22,
      "outputs": [
        {
          "output_type": "stream",
          "text": [
            "MCS-FRANNK Fator F/DE= 0.50 NPAR= 50 Iterações= 1000 Dim= 30 Min/Max= -10 / 10 _ Schwefel_222\n",
            "SUB_Fo-0.5_CRo-0.5_D-30_Interv-1000 \n",
            "\n",
            "MÉDIA:  3.035403998093152e-11 STD __: 4.897789767154397e-11\n",
            "MIN __: 1.4150323070893529e-14 MAX__:  1.7258822482697594e-10\n",
            "3.035403998093152e-11\n",
            "4.897789767154397e-11\n",
            "1.4150323070893529e-14\n",
            "Tempo Médio= 23.901 segundos ---\n",
            "50 Rodadas\n",
            "\n",
            "BEST:  [-8.26860712e-16  1.08850606e-17 -1.11298721e-15  6.87085657e-16\n",
            " -2.11614651e-16  5.73696900e-17  4.44537579e-16 -4.60992866e-16\n",
            "  5.48471616e-16 -6.51825399e-17 -7.71585249e-17  5.97983953e-17\n",
            "  2.08939934e-16  4.93462253e-16  8.66661382e-16 -3.62084770e-16\n",
            " -1.51902730e-16  1.25031404e-15 -1.26075035e-16 -1.29984554e-15\n",
            "  1.18755146e-16 -5.42555875e-16  4.78882129e-17  2.56735521e-16\n",
            "  2.54615216e-16 -3.87820322e-16  5.99265656e-16  4.66852653e-16\n",
            " -2.13374162e-16  1.94023012e-15  1.41503231e-14]\n"
          ],
          "name": "stdout"
        }
      ]
    }
  ]
}
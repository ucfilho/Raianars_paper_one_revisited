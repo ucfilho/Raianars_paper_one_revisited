{
  "nbformat": 4,
  "nbformat_minor": 0,
  "metadata": {
    "colab": {
      "name": "Table11_d30_Pop20_gen2000_H_Frannk_Rosenbrock_0.5F-DE.ipynb",
      "provenance": [],
      "collapsed_sections": [],
      "include_colab_link": true
    },
    "kernelspec": {
      "name": "python3",
      "display_name": "Python 3"
    },
    "language_info": {
      "codemirror_mode": {
        "name": "ipython",
        "version": 3
      },
      "file_extension": ".py",
      "mimetype": "text/x-python",
      "name": "python",
      "nbconvert_exporter": "python",
      "pygments_lexer": "ipython3",
      "version": "3.7.3"
    }
  },
  "cells": [
    {
      "cell_type": "markdown",
      "metadata": {
        "id": "view-in-github",
        "colab_type": "text"
      },
      "source": [
        "<a href=\"https://colab.research.google.com/github/ucfilho/Raianars_paper_one_revisited/blob/main/Table_10_and_11/Table11_d30_Pop20_gen2000_H_Frannk_Rosenbrock_0_5F_DE.ipynb\" target=\"_parent\"><img src=\"https://colab.research.google.com/assets/colab-badge.svg\" alt=\"Open In Colab\"/></a>"
      ]
    },
    {
      "cell_type": "code",
      "metadata": {
        "colab": {
          "base_uri": "https://localhost:8080/"
        },
        "id": "c59cDVKoxDLX",
        "outputId": "3feb4c39-1a01-4d53-818e-d8b665380d3f"
      },
      "source": [
        "############################### Importar códigos\n",
        "!git clone https://github.com/ucfilho/optim_raianars_Insight/ #clonar do Github\n",
        "%cd optim_raianars_Insight\n",
        "import de_soma_Insight\n",
        "import de_bounds_matriz\n",
        "import Go2Ann"
      ],
      "execution_count": 1,
      "outputs": [
        {
          "output_type": "stream",
          "text": [
            "Cloning into 'optim_raianars_Insight'...\n",
            "remote: Enumerating objects: 323, done.\u001b[K\n",
            "remote: Counting objects: 100% (9/9), done.\u001b[K\n",
            "remote: Compressing objects: 100% (9/9), done.\u001b[K\n",
            "remote: Total 323 (delta 3), reused 0 (delta 0), pack-reused 314\u001b[K\n",
            "Receiving objects: 100% (323/323), 312.84 KiB | 17.38 MiB/s, done.\n",
            "Resolving deltas: 100% (184/184), done.\n",
            "/content/optim_raianars_Insight\n"
          ],
          "name": "stdout"
        }
      ]
    },
    {
      "cell_type": "code",
      "metadata": {
        "id": "Va-6Xios8RjU",
        "colab": {
          "base_uri": "https://localhost:8080/"
        },
        "outputId": "9215a0f8-677e-40f1-d78f-4262a222d4a1"
      },
      "source": [
        "!git clone https://github.com/ucfilho/Raianars_paper_One #clonar do Github\n",
        "%cd Raianars_paper_One"
      ],
      "execution_count": 2,
      "outputs": [
        {
          "output_type": "stream",
          "text": [
            "Cloning into 'Raianars_paper_One'...\n",
            "remote: Enumerating objects: 257, done.\u001b[K\n",
            "remote: Counting objects:   0% (1/128)\u001b[K\rremote: Counting objects:   1% (2/128)\u001b[K\rremote: Counting objects:   2% (3/128)\u001b[K\rremote: Counting objects:   3% (4/128)\u001b[K\rremote: Counting objects:   4% (6/128)\u001b[K\rremote: Counting objects:   5% (7/128)\u001b[K\rremote: Counting objects:   6% (8/128)\u001b[K\rremote: Counting objects:   7% (9/128)\u001b[K\rremote: Counting objects:   8% (11/128)\u001b[K\rremote: Counting objects:   9% (12/128)\u001b[K\rremote: Counting objects:  10% (13/128)\u001b[K\rremote: Counting objects:  11% (15/128)\u001b[K\rremote: Counting objects:  12% (16/128)\u001b[K\rremote: Counting objects:  13% (17/128)\u001b[K\rremote: Counting objects:  14% (18/128)\u001b[K\rremote: Counting objects:  15% (20/128)\u001b[K\rremote: Counting objects:  16% (21/128)\u001b[K\rremote: Counting objects:  17% (22/128)\u001b[K\rremote: Counting objects:  18% (24/128)\u001b[K\rremote: Counting objects:  19% (25/128)\u001b[K\rremote: Counting objects:  20% (26/128)\u001b[K\rremote: Counting objects:  21% (27/128)\u001b[K\rremote: Counting objects:  22% (29/128)\u001b[K\rremote: Counting objects:  23% (30/128)\u001b[K\rremote: Counting objects:  24% (31/128)\u001b[K\rremote: Counting objects:  25% (32/128)\u001b[K\rremote: Counting objects:  26% (34/128)\u001b[K\rremote: Counting objects:  27% (35/128)\u001b[K\rremote: Counting objects:  28% (36/128)\u001b[K\rremote: Counting objects:  29% (38/128)\u001b[K\rremote: Counting objects:  30% (39/128)\u001b[K\rremote: Counting objects:  31% (40/128)\u001b[K\rremote: Counting objects:  32% (41/128)\u001b[K\rremote: Counting objects:  33% (43/128)\u001b[K\rremote: Counting objects:  34% (44/128)\u001b[K\rremote: Counting objects:  35% (45/128)\u001b[K\rremote: Counting objects:  36% (47/128)\u001b[K\rremote: Counting objects:  37% (48/128)\u001b[K\rremote: Counting objects:  38% (49/128)\u001b[K\rremote: Counting objects:  39% (50/128)\u001b[K\rremote: Counting objects:  40% (52/128)\u001b[K\rremote: Counting objects:  41% (53/128)\u001b[K\rremote: Counting objects:  42% (54/128)\u001b[K\rremote: Counting objects:  43% (56/128)\u001b[K\rremote: Counting objects:  44% (57/128)\u001b[K\rremote: Counting objects:  45% (58/128)\u001b[K\rremote: Counting objects:  46% (59/128)\u001b[K\rremote: Counting objects:  47% (61/128)\u001b[K\rremote: Counting objects:  48% (62/128)\u001b[K\rremote: Counting objects:  49% (63/128)\u001b[K\rremote: Counting objects:  50% (64/128)\u001b[K\rremote: Counting objects:  51% (66/128)\u001b[K\rremote: Counting objects:  52% (67/128)\u001b[K\rremote: Counting objects:  53% (68/128)\u001b[K\rremote: Counting objects:  54% (70/128)\u001b[K\rremote: Counting objects:  55% (71/128)\u001b[K\rremote: Counting objects:  56% (72/128)\u001b[K\rremote: Counting objects:  57% (73/128)\u001b[K\rremote: Counting objects:  58% (75/128)\u001b[K\rremote: Counting objects:  59% (76/128)\u001b[K\rremote: Counting objects:  60% (77/128)\u001b[K\rremote: Counting objects:  61% (79/128)\u001b[K\rremote: Counting objects:  62% (80/128)\u001b[K\rremote: Counting objects:  63% (81/128)\u001b[K\rremote: Counting objects:  64% (82/128)\u001b[K\rremote: Counting objects:  65% (84/128)\u001b[K\rremote: Counting objects:  66% (85/128)\u001b[K\rremote: Counting objects:  67% (86/128)\u001b[K\rremote: Counting objects:  68% (88/128)\u001b[K\rremote: Counting objects:  69% (89/128)\u001b[K\rremote: Counting objects:  70% (90/128)\u001b[K\rremote: Counting objects:  71% (91/128)\u001b[K\rremote: Counting objects:  72% (93/128)\u001b[K\rremote: Counting objects:  73% (94/128)\u001b[K\rremote: Counting objects:  74% (95/128)\u001b[K\rremote: Counting objects:  75% (96/128)\u001b[K\rremote: Counting objects:  76% (98/128)\u001b[K\rremote: Counting objects:  77% (99/128)\u001b[K\rremote: Counting objects:  78% (100/128)\u001b[K\rremote: Counting objects:  79% (102/128)\u001b[K\rremote: Counting objects:  80% (103/128)\u001b[K\rremote: Counting objects:  81% (104/128)\u001b[K\rremote: Counting objects:  82% (105/128)\u001b[K\rremote: Counting objects:  83% (107/128)\u001b[K\rremote: Counting objects:  84% (108/128)\u001b[K\rremote: Counting objects:  85% (109/128)\u001b[K\rremote: Counting objects:  86% (111/128)\u001b[K\rremote: Counting objects:  87% (112/128)\u001b[K\rremote: Counting objects:  88% (113/128)\u001b[K\rremote: Counting objects:  89% (114/128)\u001b[K\rremote: Counting objects:  90% (116/128)\u001b[K\rremote: Counting objects:  91% (117/128)\u001b[K\rremote: Counting objects:  92% (118/128)\u001b[K\rremote: Counting objects:  93% (120/128)\u001b[K\rremote: Counting objects:  94% (121/128)\u001b[K\rremote: Counting objects:  95% (122/128)\u001b[K\rremote: Counting objects:  96% (123/128)\u001b[K\rremote: Counting objects:  97% (125/128)\u001b[K\rremote: Counting objects:  98% (126/128)\u001b[K\rremote: Counting objects:  99% (127/128)\u001b[K\rremote: Counting objects: 100% (128/128)\u001b[K\rremote: Counting objects: 100% (128/128), done.\u001b[K\n",
            "remote: Compressing objects:   0% (1/128)\u001b[K\rremote: Compressing objects:   1% (2/128)\u001b[K\rremote: Compressing objects:   2% (3/128)\u001b[K\rremote: Compressing objects:   3% (4/128)\u001b[K\rremote: Compressing objects:   4% (6/128)\u001b[K\rremote: Compressing objects:   5% (7/128)\u001b[K\rremote: Compressing objects:   6% (8/128)\u001b[K\rremote: Compressing objects:   7% (9/128)\u001b[K\rremote: Compressing objects:   8% (11/128)\u001b[K\rremote: Compressing objects:   9% (12/128)\u001b[K\rremote: Compressing objects:  10% (13/128)\u001b[K\rremote: Compressing objects:  11% (15/128)\u001b[K\rremote: Compressing objects:  12% (16/128)\u001b[K\rremote: Compressing objects:  13% (17/128)\u001b[K\rremote: Compressing objects:  14% (18/128)\u001b[K\rremote: Compressing objects:  15% (20/128)\u001b[K\rremote: Compressing objects:  16% (21/128)\u001b[K\rremote: Compressing objects:  17% (22/128)\u001b[K\rremote: Compressing objects:  18% (24/128)\u001b[K\rremote: Compressing objects:  19% (25/128)\u001b[K\rremote: Compressing objects:  20% (26/128)\u001b[K\rremote: Compressing objects:  21% (27/128)\u001b[K\rremote: Compressing objects:  22% (29/128)\u001b[K\rremote: Compressing objects:  23% (30/128)\u001b[K\rremote: Compressing objects:  24% (31/128)\u001b[K\rremote: Compressing objects:  25% (32/128)\u001b[K\rremote: Compressing objects:  26% (34/128)\u001b[K\rremote: Compressing objects:  27% (35/128)\u001b[K\rremote: Compressing objects:  28% (36/128)\u001b[K\rremote: Compressing objects:  29% (38/128)\u001b[K\rremote: Compressing objects:  30% (39/128)\u001b[K\rremote: Compressing objects:  31% (40/128)\u001b[K\rremote: Compressing objects:  32% (41/128)\u001b[K\rremote: Compressing objects:  33% (43/128)\u001b[K\rremote: Compressing objects:  34% (44/128)\u001b[K\rremote: Compressing objects:  35% (45/128)\u001b[K\rremote: Compressing objects:  36% (47/128)\u001b[K\rremote: Compressing objects:  37% (48/128)\u001b[K\rremote: Compressing objects:  38% (49/128)\u001b[K\rremote: Compressing objects:  39% (50/128)\u001b[K\rremote: Compressing objects:  40% (52/128)\u001b[K\rremote: Compressing objects:  41% (53/128)\u001b[K\rremote: Compressing objects:  42% (54/128)\u001b[K\rremote: Compressing objects:  43% (56/128)\u001b[K\rremote: Compressing objects:  44% (57/128)\u001b[K\rremote: Compressing objects:  45% (58/128)\u001b[K\rremote: Compressing objects:  46% (59/128)\u001b[K\rremote: Compressing objects:  47% (61/128)\u001b[K\rremote: Compressing objects:  48% (62/128)\u001b[K\rremote: Compressing objects:  49% (63/128)\u001b[K\rremote: Compressing objects:  50% (64/128)\u001b[K\rremote: Compressing objects:  51% (66/128)\u001b[K\rremote: Compressing objects:  52% (67/128)\u001b[K\rremote: Compressing objects:  53% (68/128)\u001b[K\rremote: Compressing objects:  54% (70/128)\u001b[K\rremote: Compressing objects:  55% (71/128)\u001b[K\rremote: Compressing objects:  56% (72/128)\u001b[K\rremote: Compressing objects:  57% (73/128)\u001b[K\rremote: Compressing objects:  58% (75/128)\u001b[K\rremote: Compressing objects:  59% (76/128)\u001b[K\rremote: Compressing objects:  60% (77/128)\u001b[K\rremote: Compressing objects:  61% (79/128)\u001b[K\rremote: Compressing objects:  62% (80/128)\u001b[K\rremote: Compressing objects:  63% (81/128)\u001b[K\rremote: Compressing objects:  64% (82/128)\u001b[K\rremote: Compressing objects:  65% (84/128)\u001b[K\rremote: Compressing objects:  66% (85/128)\u001b[K\rremote: Compressing objects:  67% (86/128)\u001b[K\rremote: Compressing objects:  68% (88/128)\u001b[K\rremote: Compressing objects:  69% (89/128)\u001b[K\rremote: Compressing objects:  70% (90/128)\u001b[K\rremote: Compressing objects:  71% (91/128)\u001b[K\rremote: Compressing objects:  72% (93/128)\u001b[K\rremote: Compressing objects:  73% (94/128)\u001b[K\rremote: Compressing objects:  74% (95/128)\u001b[K\rremote: Compressing objects:  75% (96/128)\u001b[K\rremote: Compressing objects:  76% (98/128)\u001b[K\rremote: Compressing objects:  77% (99/128)\u001b[K\rremote: Compressing objects:  78% (100/128)\u001b[K\rremote: Compressing objects:  79% (102/128)\u001b[K\rremote: Compressing objects:  80% (103/128)\u001b[K\rremote: Compressing objects:  81% (104/128)\u001b[K\rremote: Compressing objects:  82% (105/128)\u001b[K\rremote: Compressing objects:  83% (107/128)\u001b[K\rremote: Compressing objects:  84% (108/128)\u001b[K\rremote: Compressing objects:  85% (109/128)\u001b[K\rremote: Compressing objects:  86% (111/128)\u001b[K\rremote: Compressing objects:  87% (112/128)\u001b[K\rremote: Compressing objects:  88% (113/128)\u001b[K\rremote: Compressing objects:  89% (114/128)\u001b[K\rremote: Compressing objects:  90% (116/128)\u001b[K\rremote: Compressing objects:  91% (117/128)\u001b[K\rremote: Compressing objects:  92% (118/128)\u001b[K\rremote: Compressing objects:  93% (120/128)\u001b[K\rremote: Compressing objects:  94% (121/128)\u001b[K\rremote: Compressing objects:  95% (122/128)\u001b[K\rremote: Compressing objects:  96% (123/128)\u001b[K\rremote: Compressing objects:  97% (125/128)\u001b[K\rremote: Compressing objects:  98% (126/128)\u001b[K\rremote: Compressing objects:  99% (127/128)\u001b[K\rremote: Compressing objects: 100% (128/128)\u001b[K\rremote: Compressing objects: 100% (128/128), done.\u001b[K\n",
            "Receiving objects:   0% (1/257)   \rReceiving objects:   1% (3/257)   \rReceiving objects:   2% (6/257)   \rReceiving objects:   3% (8/257)   \rReceiving objects:   4% (11/257)   \rReceiving objects:   5% (13/257)   \rReceiving objects:   6% (16/257)   \rReceiving objects:   7% (18/257)   \rReceiving objects:   8% (21/257)   \rReceiving objects:   9% (24/257)   \rReceiving objects:  10% (26/257)   \rReceiving objects:  11% (29/257)   \rReceiving objects:  12% (31/257)   \rReceiving objects:  13% (34/257)   \rReceiving objects:  14% (36/257)   \rReceiving objects:  15% (39/257)   \rReceiving objects:  16% (42/257)   \rReceiving objects:  17% (44/257)   \rReceiving objects:  18% (47/257)   \rReceiving objects:  19% (49/257)   \rReceiving objects:  20% (52/257)   \rReceiving objects:  21% (54/257)   \rReceiving objects:  22% (57/257)   \rReceiving objects:  23% (60/257)   \rReceiving objects:  24% (62/257)   \rReceiving objects:  25% (65/257)   \rReceiving objects:  26% (67/257)   \rReceiving objects:  27% (70/257)   \rReceiving objects:  28% (72/257)   \rReceiving objects:  29% (75/257)   \rReceiving objects:  30% (78/257)   \rReceiving objects:  31% (80/257)   \rReceiving objects:  32% (83/257)   \rReceiving objects:  33% (85/257)   \rReceiving objects:  34% (88/257)   \rReceiving objects:  35% (90/257)   \rReceiving objects:  36% (93/257)   \rReceiving objects:  37% (96/257)   \rReceiving objects:  38% (98/257)   \rReceiving objects:  39% (101/257)   \rReceiving objects:  40% (103/257)   \rReceiving objects:  41% (106/257)   \rReceiving objects:  42% (108/257)   \rReceiving objects:  43% (111/257)   \rReceiving objects:  44% (114/257)   \rReceiving objects:  45% (116/257)   \rReceiving objects:  46% (119/257)   \rReceiving objects:  47% (121/257)   \rReceiving objects:  48% (124/257)   \rReceiving objects:  49% (126/257)   \rReceiving objects:  50% (129/257)   \rReceiving objects:  51% (132/257)   \rReceiving objects:  52% (134/257)   \rReceiving objects:  53% (137/257)   \rReceiving objects:  54% (139/257)   \rReceiving objects:  55% (142/257)   \rReceiving objects:  56% (144/257)   \rReceiving objects:  57% (147/257)   \rReceiving objects:  58% (150/257)   \rReceiving objects:  59% (152/257)   \rReceiving objects:  60% (155/257)   \rReceiving objects:  61% (157/257)   \rReceiving objects:  62% (160/257)   \rReceiving objects:  63% (162/257)   \rReceiving objects:  64% (165/257)   \rReceiving objects:  65% (168/257)   \rReceiving objects:  66% (170/257)   \rReceiving objects:  67% (173/257)   \rReceiving objects:  68% (175/257)   \rReceiving objects:  69% (178/257)   \rReceiving objects:  70% (180/257)   \rReceiving objects:  71% (183/257)   \rReceiving objects:  72% (186/257)   \rremote: Total 257 (delta 70), reused 0 (delta 0), pack-reused 129\u001b[K\n",
            "Receiving objects: 100% (257/257), 656.89 KiB | 27.37 MiB/s, done.\n",
            "Resolving deltas: 100% (142/142), done.\n",
            "/content/optim_raianars_Insight/Raianars_paper_One\n"
          ],
          "name": "stdout"
        }
      ]
    },
    {
      "cell_type": "code",
      "metadata": {
        "id": "_E15mKFURR6O"
      },
      "source": [
        "#import Go2Ann\n",
        "#import de_soma_Insight\n",
        "#import de_bounds_matriz\n",
        "#import Function\n",
        "import Go2MinMax\n",
        "from AvaliaX import AvaliaX\n",
        "#from Function import FUN\n",
        "#from Function import Function.FUN\n",
        "#from Function import Function.Fun\n",
        "#from Function import Function\n",
        "from GeraIndices import GeraIndices\n",
        "import numpy as np\n",
        "import time\n",
        "import matplotlib.pyplot as plt\n",
        "from random import randint\n",
        "from scipy import optimize\n",
        "import pandas as pd\n",
        "from sklearn.metrics import confusion_matrix\n",
        "\n",
        "############################### DADOS DE ENTRADA \n",
        "RUNS=50 #NÚMERO DE RODADAS\n",
        "Fc=0.1 # fator de correcao parametros da ANN\n",
        "its=1 #10 # quantas vezes vai usar o NPAR antes de alterar de novo\n",
        "ITE=2000 #10 # PONTOS quantas vezes vai alteral NPAR \n",
        "NPAR=20\n",
        "mut=0.5\n",
        "crossp=0.5\n",
        "\n",
        "#fator = 1.0/3.0; \n",
        "Fi=mut;CRi=crossp;# para impressão\n",
        "fator = 1.0/2.0; \n",
        "mut2=0.5;crossp2=0.5;mut3=0.75;crossp3=0.25;mut4=0.25;crossp4=0.25;\n"
      ],
      "execution_count": 3,
      "outputs": []
    },
    {
      "cell_type": "code",
      "metadata": {
        "colab": {
          "base_uri": "https://localhost:8080/"
        },
        "id": "ik3ZjkUKycUK",
        "outputId": "7a835187-8d14-4568-9635-a5708467313f"
      },
      "source": [
        "############################### Importar códigos\n",
        "!git clone https://github.com/ucfilho/optim_raianars_Insight/ #clonar do Github\n",
        "%cd optim_raianars_Insight\n",
        "import de_soma_Insight\n",
        "import de_bounds_matriz"
      ],
      "execution_count": 4,
      "outputs": [
        {
          "output_type": "stream",
          "text": [
            "Cloning into 'optim_raianars_Insight'...\n",
            "remote: Enumerating objects: 323, done.\u001b[K\n",
            "remote: Counting objects:  11% (1/9)\u001b[K\rremote: Counting objects:  22% (2/9)\u001b[K\rremote: Counting objects:  33% (3/9)\u001b[K\rremote: Counting objects:  44% (4/9)\u001b[K\rremote: Counting objects:  55% (5/9)\u001b[K\rremote: Counting objects:  66% (6/9)\u001b[K\rremote: Counting objects:  77% (7/9)\u001b[K\rremote: Counting objects:  88% (8/9)\u001b[K\rremote: Counting objects: 100% (9/9)\u001b[K\rremote: Counting objects: 100% (9/9), done.\u001b[K\n",
            "remote: Compressing objects:  11% (1/9)\u001b[K\rremote: Compressing objects:  22% (2/9)\u001b[K\rremote: Compressing objects:  33% (3/9)\u001b[K\rremote: Compressing objects:  44% (4/9)\u001b[K\rremote: Compressing objects:  55% (5/9)\u001b[K\rremote: Compressing objects:  66% (6/9)\u001b[K\rremote: Compressing objects:  77% (7/9)\u001b[K\rremote: Compressing objects:  88% (8/9)\u001b[K\rremote: Compressing objects: 100% (9/9)\u001b[K\rremote: Compressing objects: 100% (9/9), done.\u001b[K\n",
            "Receiving objects:   0% (1/323)   \rReceiving objects:   1% (4/323)   \rReceiving objects:   2% (7/323)   \rReceiving objects:   3% (10/323)   \rReceiving objects:   4% (13/323)   \rReceiving objects:   5% (17/323)   \rReceiving objects:   6% (20/323)   \rReceiving objects:   7% (23/323)   \rReceiving objects:   8% (26/323)   \rReceiving objects:   9% (30/323)   \rReceiving objects:  10% (33/323)   \rReceiving objects:  11% (36/323)   \rReceiving objects:  12% (39/323)   \rReceiving objects:  13% (42/323)   \rReceiving objects:  14% (46/323)   \rReceiving objects:  15% (49/323)   \rReceiving objects:  16% (52/323)   \rReceiving objects:  17% (55/323)   \rReceiving objects:  18% (59/323)   \rReceiving objects:  19% (62/323)   \rReceiving objects:  20% (65/323)   \rReceiving objects:  21% (68/323)   \rReceiving objects:  22% (72/323)   \rReceiving objects:  23% (75/323)   \rReceiving objects:  24% (78/323)   \rReceiving objects:  25% (81/323)   \rReceiving objects:  26% (84/323)   \rReceiving objects:  27% (88/323)   \rReceiving objects:  28% (91/323)   \rReceiving objects:  29% (94/323)   \rReceiving objects:  30% (97/323)   \rReceiving objects:  31% (101/323)   \rReceiving objects:  32% (104/323)   \rReceiving objects:  33% (107/323)   \rReceiving objects:  34% (110/323)   \rReceiving objects:  35% (114/323)   \rReceiving objects:  36% (117/323)   \rReceiving objects:  37% (120/323)   \rReceiving objects:  38% (123/323)   \rReceiving objects:  39% (126/323)   \rReceiving objects:  40% (130/323)   \rReceiving objects:  41% (133/323)   \rReceiving objects:  42% (136/323)   \rReceiving objects:  43% (139/323)   \rReceiving objects:  44% (143/323)   \rReceiving objects:  45% (146/323)   \rReceiving objects:  46% (149/323)   \rReceiving objects:  47% (152/323)   \rReceiving objects:  48% (156/323)   \rReceiving objects:  49% (159/323)   \rReceiving objects:  50% (162/323)   \rReceiving objects:  51% (165/323)   \rReceiving objects:  52% (168/323)   \rReceiving objects:  53% (172/323)   \rReceiving objects:  54% (175/323)   \rReceiving objects:  55% (178/323)   \rReceiving objects:  56% (181/323)   \rReceiving objects:  57% (185/323)   \rReceiving objects:  58% (188/323)   \rremote: Total 323 (delta 3), reused 0 (delta 0), pack-reused 314\u001b[K\n",
            "Receiving objects:  59% (191/323)   \rReceiving objects:  60% (194/323)   \rReceiving objects:  61% (198/323)   \rReceiving objects:  62% (201/323)   \rReceiving objects:  63% (204/323)   \rReceiving objects:  64% (207/323)   \rReceiving objects:  65% (210/323)   \rReceiving objects:  66% (214/323)   \rReceiving objects:  67% (217/323)   \rReceiving objects:  68% (220/323)   \rReceiving objects:  69% (223/323)   \rReceiving objects:  70% (227/323)   \rReceiving objects:  71% (230/323)   \rReceiving objects:  72% (233/323)   \rReceiving objects:  73% (236/323)   \rReceiving objects:  74% (240/323)   \rReceiving objects:  75% (243/323)   \rReceiving objects:  76% (246/323)   \rReceiving objects:  77% (249/323)   \rReceiving objects:  78% (252/323)   \rReceiving objects:  79% (256/323)   \rReceiving objects:  80% (259/323)   \rReceiving objects:  81% (262/323)   \rReceiving objects:  82% (265/323)   \rReceiving objects:  83% (269/323)   \rReceiving objects:  84% (272/323)   \rReceiving objects:  85% (275/323)   \rReceiving objects:  86% (278/323)   \rReceiving objects:  87% (282/323)   \rReceiving objects:  88% (285/323)   \rReceiving objects:  89% (288/323)   \rReceiving objects:  90% (291/323)   \rReceiving objects:  91% (294/323)   \rReceiving objects:  92% (298/323)   \rReceiving objects:  93% (301/323)   \rReceiving objects:  94% (304/323)   \rReceiving objects:  95% (307/323)   \rReceiving objects:  96% (311/323)   \rReceiving objects:  97% (314/323)   \rReceiving objects:  98% (317/323)   \rReceiving objects:  99% (320/323)   \rReceiving objects: 100% (323/323)   \rReceiving objects: 100% (323/323), 312.84 KiB | 24.06 MiB/s, done.\n",
            "Resolving deltas:   0% (0/184)   \rResolving deltas:  25% (46/184)   \rResolving deltas:  40% (74/184)   \rResolving deltas:  49% (91/184)   \rResolving deltas:  71% (132/184)   \rResolving deltas:  72% (133/184)   \rResolving deltas:  80% (149/184)   \rResolving deltas:  89% (164/184)   \rResolving deltas:  93% (172/184)   \rResolving deltas:  95% (175/184)   \rResolving deltas:  97% (179/184)   \rResolving deltas:  98% (182/184)   \rResolving deltas:  99% (183/184)   \rResolving deltas: 100% (184/184)   \rResolving deltas: 100% (184/184), done.\n",
            "/content/optim_raianars_Insight/Raianars_paper_One/optim_raianars_Insight\n"
          ],
          "name": "stdout"
        }
      ]
    },
    {
      "cell_type": "code",
      "metadata": {
        "colab": {
          "base_uri": "https://localhost:8080/"
        },
        "id": "lJogRB30yepw",
        "outputId": "9e664ae8-d326-4adf-d589-936724242f54"
      },
      "source": [
        "#!git clone https://github.com/ucfilho/Raianars_paper_One #clonar do Github\n",
        "#%cd Raianars_paper_One\n",
        "\n",
        "!git clone https://github.com/ucfilho/Raianars_Routines #clonar do Github\n",
        "%cd Raianars_Routines"
      ],
      "execution_count": 5,
      "outputs": [
        {
          "output_type": "stream",
          "text": [
            "Cloning into 'Raianars_Routines'...\n",
            "remote: Enumerating objects: 54, done.\u001b[K\n",
            "remote: Counting objects: 100% (54/54), done.\u001b[K\n",
            "remote: Compressing objects: 100% (52/52), done.\u001b[K\n",
            "remote: Total 54 (delta 16), reused 0 (delta 0), pack-reused 0\u001b[K\n",
            "Unpacking objects: 100% (54/54), done.\n",
            "/content/optim_raianars_Insight/Raianars_paper_One/optim_raianars_Insight/Raianars_Routines\n"
          ],
          "name": "stdout"
        }
      ]
    },
    {
      "cell_type": "code",
      "metadata": {
        "id": "P8LIRCsdywOX"
      },
      "source": [
        "############################### Função\n",
        "import FunctionsNew\n",
        "#'''  \n",
        "############################### Função\n",
        "dim=30 # \n",
        "fchoice='Rosenbrock'\n",
        "Fun=FunctionsNew.Rosenbrock\n",
        "MAX=np.repeat(10,dim)\n",
        "MIN=np.repeat(-10,dim)\n",
        "\n",
        "bounds=[]\n",
        "for k in range(len(MAX)):\n",
        "  bounds.append((MIN[k],MAX[k]))"
      ],
      "execution_count": 6,
      "outputs": []
    },
    {
      "cell_type": "code",
      "metadata": {
        "id": "qTINtQ1cosZK",
        "colab": {
          "base_uri": "https://localhost:8080/"
        },
        "outputId": "0fa20659-de90-4508-885c-086dfbb19d1f"
      },
      "source": [
        "!git clone https://github.com/ucfilho/ANN_read_matrix #clonar do Github\n",
        "%cd ANN_read_matrix"
      ],
      "execution_count": 7,
      "outputs": [
        {
          "output_type": "stream",
          "text": [
            "Cloning into 'ANN_read_matrix'...\n",
            "remote: Enumerating objects: 20, done.\u001b[K\n",
            "remote: Counting objects: 100% (20/20), done.\u001b[K\n",
            "remote: Compressing objects: 100% (18/18), done.\u001b[K\n",
            "remote: Total 20 (delta 5), reused 0 (delta 0), pack-reused 0\u001b[K\n",
            "Unpacking objects: 100% (20/20), done.\n",
            "/content/optim_raianars_Insight/Raianars_paper_One/optim_raianars_Insight/Raianars_Routines/ANN_read_matrix\n"
          ],
          "name": "stdout"
        }
      ]
    },
    {
      "cell_type": "code",
      "metadata": {
        "id": "QiQLYOoNoyCw"
      },
      "source": [
        "ANN_F=pd.read_csv('ANN_INSIGHT_Valor_F.csv')"
      ],
      "execution_count": 8,
      "outputs": []
    },
    {
      "cell_type": "code",
      "metadata": {
        "id": "uHtW2amaDzFv"
      },
      "source": [
        "ANN_CR=pd.read_csv('ANN_INSIGHT_CR.csv')"
      ],
      "execution_count": 9,
      "outputs": []
    },
    {
      "cell_type": "code",
      "metadata": {
        "id": "EH6h_vke2yu1"
      },
      "source": [
        "syn0_F,syn1_F,X_max_F,X_min_F=Go2Ann.GetMatriz(ANN_F)"
      ],
      "execution_count": 10,
      "outputs": []
    },
    {
      "cell_type": "code",
      "metadata": {
        "id": "WW_3ZWJXD60i"
      },
      "source": [
        "syn0_CR,syn1_CR,X_max_CR,X_min_CR=Go2Ann.GetMatriz(ANN_CR)"
      ],
      "execution_count": 11,
      "outputs": []
    },
    {
      "cell_type": "code",
      "metadata": {
        "id": "b4gwBvVTyaXh"
      },
      "source": [
        "ANN_CR=pd.read_csv('ANN_INSIGHT_CR.csv')"
      ],
      "execution_count": 12,
      "outputs": []
    },
    {
      "cell_type": "code",
      "metadata": {
        "id": "6jL8MxpHvk-Y"
      },
      "source": [
        "fields = ['DI RELATIVO','FRAC Its','Fo','CRo']"
      ],
      "execution_count": 13,
      "outputs": []
    },
    {
      "cell_type": "code",
      "metadata": {
        "id": "Mb3LmbSmj9v7",
        "colab": {
          "base_uri": "https://localhost:8080/"
        },
        "outputId": "97a9239b-c6bd-4d11-c979-2095aa701203"
      },
      "source": [
        "##################################### \n",
        "\n",
        "TOTAL=10*dim*its*ITE\n",
        "TOTAL=int(TOTAL/2)   # CONFERIR SE ESTE EH O MELHOR LUGAR\n",
        "\n",
        "dimensions=len(MAX)\n",
        "start_time = time.time() #INICIALIZA CONTAGEM DO TEMPO\n",
        "\n",
        "\n",
        "PAR=dim\n",
        "fobj=Fun\n",
        "\n",
        "MAX_P=np.zeros(ITE) # ATENCAO para variar F e Cr MAX_P passa a ser 3 vezes maior\n",
        "MIN_P=np.zeros(ITE) # ATENCAO para variar F e Cr MIN_P passa a ser 3 vezes maior\n",
        "\n",
        "for i in range(dim):\n",
        "  MAX_P[i]=MAX[i] \n",
        "  MIN_P[i]=MIN[i]\n",
        "\n",
        "rodadas=1\n",
        "NPAR1=int(fator*NPAR);\n",
        "NPAR1=5;\n",
        "NPAR2=int((NPAR-NPAR1)/3);\n",
        "NPAR3=int((NPAR-NPAR1)/3);\n",
        "NPAR4=int((NPAR-NPAR1)/3);\n",
        "NPAR1 = NPAR-3*NPAR2\n",
        "print('frac=',fator);\n",
        "print('Npar1=',NPAR1);\n",
        "print('Npar2=',NPAR2);\n",
        "print('Npar3=',NPAR3);\n",
        "print('Npar4=',NPAR4);\n",
        "print('Npar=',NPAR)\n",
        "\n",
        "cols=dim\n",
        "\n",
        "X1=np.zeros((NPAR1,cols)) # X1 is Frannk population\n",
        "for i in range(NPAR1):\n",
        "  for j in range(cols):\n",
        "    r=np.random.random()\n",
        "    X1[i,j]=r*(MAX[j]-MIN[j])+MIN[j]\n",
        "    \n",
        "X2=np.zeros((NPAR2,cols)) # X2 is population DE (default DE)\n",
        "for i in range(NPAR2):\n",
        "  for j in range(cols):\n",
        "    r=np.random.random()\n",
        "    X2[i,j]=r*(MAX[j]-MIN[j])+MIN[j]\n",
        "\n",
        "X3=np.zeros((NPAR3,cols)) # X1 is Frannk population\n",
        "for i in range(NPAR3):\n",
        "  for j in range(cols):\n",
        "    r=np.random.random()\n",
        "    X3[i,j]=r*(MAX[j]-MIN[j])+MIN[j]\n",
        "    \n",
        "X4=np.zeros((NPAR4,cols)) # X2 is population DE (default DE)\n",
        "for i in range(NPAR4):\n",
        "  for j in range(cols):\n",
        "    r=np.random.random()\n",
        "    X4[i,j]=r*(MAX[j]-MIN[j])+MIN[j]\n",
        "    \n",
        " ############################################################\n",
        "  #bounds=[(5*dim, 15*dim)] * PONTOS # ITE\n",
        "  #bounds=[(3*dim, 12*dim)] * PONTOS # ITE\n",
        "  #bounds=[(4*dim, 16*dim)] * PONTOS\n",
        "  \n",
        "  # nao pode ser assim pq o bounds vale p o DE nao dos parametros\n",
        "  #p=int(TOTAL/its/ITE) \n",
        "  #bounds=[(p, p)] * PONTOS\n"
      ],
      "execution_count": 14,
      "outputs": [
        {
          "output_type": "stream",
          "text": [
            "frac= 0.5\n",
            "Npar1= 5\n",
            "Npar2= 5\n",
            "Npar3= 5\n",
            "Npar4= 5\n",
            "Npar= 20\n"
          ],
          "name": "stdout"
        }
      ]
    },
    {
      "cell_type": "code",
      "metadata": {
        "id": "rnX8ttNopd1G",
        "colab": {
          "base_uri": "https://localhost:8080/"
        },
        "outputId": "df9d177e-0d5f-4c57-b50a-032558126474"
      },
      "source": [
        "\n",
        "start_time = time.time()\n",
        "BEST_AGENTS=[]\n",
        "MAT_stat=[]\n",
        "for iii in range(RUNS):\n",
        "    MAT=[] \n",
        "    mut=Fi\n",
        "    crossp=CRi\n",
        "    SOMA=0\n",
        "    pop = np.random.rand(NPAR, dim)\n",
        "    diff=np.zeros(PAR)\n",
        "\n",
        "\n",
        "    X1=np.zeros((NPAR1,cols)) # X1 is Frannk population\n",
        "    for i in range(NPAR1):\n",
        "      for j in range(cols):\n",
        "        r=np.random.random()\n",
        "        X1[i,j]=r*(MAX[j]-MIN[j])+MIN[j]\n",
        "        \n",
        "    X2=np.zeros((NPAR2,cols)) # X2 is population DE (default DE)\n",
        "    for i in range(NPAR2):\n",
        "      for j in range(cols):\n",
        "        r=np.random.random()\n",
        "        X2[i,j]=r*(MAX[j]-MIN[j])+MIN[j]\n",
        "\n",
        "    X3=np.zeros((NPAR3,cols)) # X2 is population DE (default DE)\n",
        "    for i in range(NPAR3):\n",
        "      for j in range(cols):\n",
        "        r=np.random.random()\n",
        "        X3[i,j]=r*(MAX[j]-MIN[j])+MIN[j]\n",
        "\n",
        "    X4=np.zeros((NPAR4,cols)) # X2 is population DE (default DE)\n",
        "    for i in range(NPAR4):\n",
        "      for j in range(cols):\n",
        "        r=np.random.random()\n",
        "        X4[i,j]=r*(MAX[j]-MIN[j])+MIN[j]\n",
        "    \n",
        "    DIo=1e99\n",
        "  \n",
        "    CRo=crossp;Fo=mut;\n",
        "    Fitness = np.asarray([Fun(ind) for ind in X1])\n",
        "    XY,BEST_XY,BESTo,FOBESTo=AvaliaX(X1,Fitness)\n",
        "    nrow,ncol=X1.shape\n",
        "\n",
        "    QUANT=17;MAT_INDo=np.zeros((1,QUANT)); # quantos indices esta fazendo\n",
        "    MAT_INDo[0,5]=nrow  # VALOR NP\n",
        "    MAT_INDo[0,6]=Fo    # VALOR Fo   \n",
        "    MAT_INDo[0,7]=CRo   # VALOR CRo\n",
        "  \n",
        "    MAT_INDo=GeraIndices(X1,BESTo,FOBESTo,DIo,MAT_INDo,SOMA,TOTAL,syn0_F,\n",
        "                        syn1_F,X_max_F,X_min_F,syn0_CR,syn1_CR,X_max_CR,\n",
        "                        X_min_CR,Fc,fields,Fun)\n",
        "  \n",
        "    DIo=np.copy(MAT_INDo[0,0])\n",
        "    MAT_INDo[0,15]=Fo    # VALOR Fo   \n",
        "    MAT_INDo[0,16]=CRo   # VALOR CRo\n",
        "    #ind_crossp=ITE-1\n",
        "    \n",
        "\n",
        "    \n",
        "    for k in range(ITE):\n",
        "\n",
        "\n",
        "\n",
        "      X2,BEST2,FOBEST,XY,BEST_XY=de_bounds_matriz.de(bounds, mut2, crossp2,NPAR2, its,fobj,X2)\n",
        "      X3,BEST3,FOBEST,XY,BEST_XY=de_bounds_matriz.de(bounds, mut3, crossp3,NPAR3, its,fobj,X3)\n",
        "      X4,BEST4,FOBEST,XY,BEST_XY=de_bounds_matriz.de(bounds, mut4, crossp4,NPAR4, its,fobj,X4)\n",
        "      \n",
        "      X1,BEST1,FOBEST,XY,BEST_XY,SOMA= de_soma_Insight.de(MAX,MIN, mut, crossp,NPAR1,its,Fun,X1,SOMA,TOTAL)\n",
        "\n",
        "      MAT_IND=GeraIndices(X1,BESTo,FOBESTo,DIo,MAT_INDo,SOMA,TOTAL,syn0_F,\n",
        "                          syn1_F,X_max_F,X_min_F,syn0_CR,syn1_CR,X_max_CR,\n",
        "                          X_min_CR,Fc,fields,Fun)\n",
        "    \n",
        "      BESTo=np.copy(BEST1);FOBESTo=np.copy(FOBEST);\n",
        "      MAT.append(MAT_IND.ravel())\n",
        "    \n",
        "      MAT_INDo[0,6]=MAT_IND[0,15]   # VALOR Fo   \n",
        "      MAT_INDo[0,7]=MAT_IND[0,16]   # VALOR CRo\n",
        "      mut=MAT_IND[0,15]\n",
        "      crossp=MAT_IND[0,16]\n",
        "      X1[0,:] = BEST2;X1[1,:] = BEST3; X1[2,:] = BEST4;X1[NPAR1-1,:] = BEST1;\n",
        "      X2[0,:] = BEST1;X2[1,:] = BEST3;X2[2,:] = BEST4;X2[NPAR2-1,:] = BEST2;\n",
        "      X3[0,:] = BEST1;X3[1,:] = BEST2;X3[2,:] = BEST4;X3[NPAR3-1,:] = BEST3;\n",
        "      X4[0,:] = BEST1;X4[1,:] = BEST2;X4[2,:] = BEST3;X4[NPAR4-1,:] = BEST4;\n",
        "    print('k=',iii,'time=',(time.time()-start_time)/60, 'FO=',FOBEST)  \n",
        "    BEST_AGENTS.append(BEST_XY)\n",
        "    MAT_stat.append(MAT)\n",
        "    #print(\"GlobalParam e Solucao:\", BEST,\"Funcao=\",FOBEST)\n",
        "    \n",
        "############################## Cálculo dos Parâmetros de Avaliação   \n",
        "TIME = (time.time() - start_time)/RUNS\n",
        "BEST_AGENTS=np.array(BEST_AGENTS)\n",
        "BEST_AGENTS_ST= BEST_AGENTS[BEST_AGENTS[:,-1].argsort()]\n",
        "BEST=BEST_AGENTS_ST[0]\n",
        "WORSE=BEST_AGENTS_ST[-1]\n",
        "MEAN=np.mean(BEST_AGENTS,axis=0)\n",
        "MAXFO=BEST_AGENTS[:,-1].max()\n",
        "MINFO=BEST_AGENTS[:,-1].min()\n",
        "STD=BEST_AGENTS[:,-1].std()"
      ],
      "execution_count": 15,
      "outputs": [
        {
          "output_type": "stream",
          "text": [
            "k= 0 time= 0.4506254474322001 FO= 192705.82349880208\n",
            "k= 1 time= 0.8960536678632101 FO= 934388.1309417809\n",
            "k= 2 time= 1.3420189579327901 FO= 707820.3950883434\n",
            "k= 3 time= 1.7944499254226685 FO= 771009.4315821979\n",
            "k= 4 time= 2.240669592221578 FO= 322053.48270528944\n",
            "k= 5 time= 2.685313371817271 FO= 425368.8412143012\n",
            "k= 6 time= 3.1315891345342 FO= 447324.9154525839\n",
            "k= 7 time= 3.579758099714915 FO= 690197.5089867895\n",
            "k= 8 time= 4.026495095094045 FO= 202281.46636338896\n",
            "k= 9 time= 4.47219694852829 FO= 505509.77049963025\n",
            "k= 10 time= 4.916332312424978 FO= 199280.79314498336\n",
            "k= 11 time= 5.3598810394605 FO= 1303383.3397371555\n",
            "k= 12 time= 5.805501310030619 FO= 312574.09374834073\n",
            "k= 13 time= 6.249319926897685 FO= 610563.4640712353\n",
            "k= 14 time= 6.694180917739868 FO= 840262.8423236638\n",
            "k= 15 time= 7.138718513647715 FO= 1141447.9100269491\n",
            "k= 16 time= 7.583408407370249 FO= 603332.2505153237\n",
            "k= 17 time= 8.02866463661194 FO= 308807.2543271514\n",
            "k= 18 time= 8.470974838733673 FO= 511407.9321279634\n",
            "k= 19 time= 8.917036445935567 FO= 363093.0817096035\n",
            "k= 20 time= 9.359241064389547 FO= 957508.5072041807\n",
            "k= 21 time= 9.802286597092946 FO= 1596262.8174137713\n",
            "k= 22 time= 10.242465651035308 FO= 892790.7575802465\n",
            "k= 23 time= 10.684858298301696 FO= 276146.9190719337\n",
            "k= 24 time= 11.127476119995118 FO= 1244667.7036418838\n",
            "k= 25 time= 11.569789242744445 FO= 813619.4883896306\n",
            "k= 26 time= 12.014883335431417 FO= 659130.2717764712\n",
            "k= 27 time= 12.46445401509603 FO= 764633.4730531415\n",
            "k= 28 time= 12.906445626417796 FO= 1304777.7856152528\n",
            "k= 29 time= 13.348696434497834 FO= 668285.0219765584\n",
            "k= 30 time= 13.791249863306682 FO= 915761.6349662915\n",
            "k= 31 time= 14.23992036183675 FO= 737517.1317425244\n",
            "k= 32 time= 14.69181261062622 FO= 1161717.2608383808\n",
            "k= 33 time= 15.142224570115408 FO= 254666.7627742173\n",
            "k= 34 time= 15.593933228651682 FO= 635392.9948996668\n",
            "k= 35 time= 16.04505577882131 FO= 534447.154783313\n",
            "k= 36 time= 16.4884486079216 FO= 688722.7852801742\n",
            "k= 37 time= 16.931756754716236 FO= 558038.6171753714\n",
            "k= 38 time= 17.376519334316253 FO= 466516.95886321174\n",
            "k= 39 time= 17.81877995332082 FO= 659648.7287875363\n",
            "k= 40 time= 18.26130656003952 FO= 913056.373742637\n",
            "k= 41 time= 18.70443276166916 FO= 681800.6501389169\n",
            "k= 42 time= 19.152604647477467 FO= 938303.4945729295\n",
            "k= 43 time= 19.595751778284708 FO= 462379.4877029679\n",
            "k= 44 time= 20.046161957581837 FO= 583047.5715834992\n",
            "k= 45 time= 20.499806678295137 FO= 414580.85269074474\n",
            "k= 46 time= 20.948832972844443 FO= 729890.1353554421\n",
            "k= 47 time= 21.398578135172524 FO= 518388.6237288895\n",
            "k= 48 time= 21.86422485113144 FO= 600599.7954649611\n",
            "k= 49 time= 22.325108607610066 FO= 772468.1483518045\n"
          ],
          "name": "stdout"
        }
      ]
    },
    {
      "cell_type": "code",
      "metadata": {
        "id": "TLEE0UrZSvJF",
        "colab": {
          "base_uri": "https://localhost:8080/"
        },
        "outputId": "7cf33cba-0bd1-45fe-d80f-97e4930f9c7c"
      },
      "source": [
        "#len(X2[1,:])\n",
        "print(cols)"
      ],
      "execution_count": 16,
      "outputs": [
        {
          "output_type": "stream",
          "text": [
            "30\n"
          ],
          "name": "stdout"
        }
      ]
    },
    {
      "cell_type": "code",
      "metadata": {
        "id": "k3p9TGsx1OCu"
      },
      "source": [
        "NOMES=['DIVERSIDADE (DI)',  'DI RELATIVO','FRAC Its',\n",
        "           'VELOC FOBJ','VELOC X','NP','Fo','CRo','fmin','fmax',\n",
        "           'AD_fmin','AD_fmax','DELTA FOBJ','DELTA VX','r_fitness',\n",
        "           'F','CR']\n",
        "# BEST_INDEX= BEST_AGENTS[BEST_AGENTS[:,-1].argmin()]  \n",
        "BEST_INDEX = np.argmin(BEST_AGENTS[:,-1])\n",
        "df=pd.DataFrame(MAT_stat[BEST_INDEX], columns=NOMES)\n",
        "\n"
      ],
      "execution_count": 17,
      "outputs": []
    },
    {
      "cell_type": "code",
      "metadata": {
        "id": "jIHiKR_t1xxs",
        "colab": {
          "base_uri": "https://localhost:8080/"
        },
        "outputId": "d8e1a71c-b26f-49fa-e1dd-367ee0479d25"
      },
      "source": [
        "pd.set_option('display.max_columns', 30)  \n",
        "print(df)"
      ],
      "execution_count": 18,
      "outputs": [
        {
          "output_type": "stream",
          "text": [
            "      DIVERSIDADE (DI)   DI RELATIVO  FRAC Its  VELOC FOBJ  VELOC X   NP  \\\n",
            "0         2.713770e+01  9.294472e-01  0.000017         1.0      0.0  5.0   \n",
            "1         2.227729e+01  7.629817e-01  0.000033         2.0      2.0  5.0   \n",
            "2         2.019878e+01  6.917941e-01  0.000050         0.0      0.0  5.0   \n",
            "3         1.198510e+01  4.104812e-01  0.000067         0.0      0.0  5.0   \n",
            "4         1.364933e+01  4.674800e-01  0.000083         1.0      2.0  5.0   \n",
            "...                ...           ...       ...         ...      ...  ...   \n",
            "1995      4.839350e-16  1.657444e-17  0.033267         0.0      0.0  5.0   \n",
            "1996      4.839350e-16  1.657444e-17  0.033283         0.0      0.0  5.0   \n",
            "1997      4.839350e-16  1.657444e-17  0.033300         0.0      0.0  5.0   \n",
            "1998      4.839350e-16  1.657444e-17  0.033317         0.0      0.0  5.0   \n",
            "1999      4.839350e-16  1.657444e-17  0.033333         0.0      0.0  5.0   \n",
            "\n",
            "            Fo       CRo          fmin          fmax  AD_fmin  AD_fmax  \\\n",
            "0     0.500000  0.500000  3.589346e+06  7.006096e+06      1.0      1.0   \n",
            "1     0.267638  0.345092  1.719469e+06  4.301300e+06      1.0      1.0   \n",
            "2     0.420791  0.257326  1.719469e+06  3.589346e+06      1.0      1.0   \n",
            "3     0.639116  0.197987  1.719469e+06  2.707622e+06      1.0      1.0   \n",
            "4     0.376771  0.143807  1.112737e+06  2.707622e+06      1.0      1.0   \n",
            "...        ...       ...           ...           ...      ...      ...   \n",
            "1995  0.335540  0.138273  1.927058e+05  1.927058e+05      1.0      1.0   \n",
            "1996  0.335540  0.138273  1.927058e+05  1.927058e+05      1.0      1.0   \n",
            "1997  0.335540  0.138273  1.927058e+05  1.927058e+05      1.0      1.0   \n",
            "1998  0.335540  0.138273  1.927058e+05  1.927058e+05      1.0      1.0   \n",
            "1999  0.335540  0.138273  1.927058e+05  1.927058e+05      1.0      1.0   \n",
            "\n",
            "      DELTA FOBJ  DELTA VX  r_fitness         F        CR  \n",
            "0            0.0       0.0   0.487682  0.267638  0.345092  \n",
            "1            0.0       0.0   0.600244  0.420791  0.257326  \n",
            "2            0.0       0.0   0.520952  0.639116  0.197987  \n",
            "3            0.0       0.0   0.364952  0.376771  0.143807  \n",
            "4            0.0       0.0   0.589035  0.200638  0.121398  \n",
            "...          ...       ...        ...       ...       ...  \n",
            "1995         0.0       0.0   0.000000  0.335540  0.138273  \n",
            "1996         0.0       0.0   0.000000  0.335540  0.138273  \n",
            "1997         0.0       0.0   0.000000  0.335540  0.138273  \n",
            "1998         0.0       0.0   0.000000  0.335540  0.138273  \n",
            "1999         0.0       0.0   0.000000  0.335540  0.138273  \n",
            "\n",
            "[2000 rows x 17 columns]\n"
          ],
          "name": "stdout"
        }
      ]
    },
    {
      "cell_type": "code",
      "metadata": {
        "id": "bx0ywpMtAAjw",
        "colab": {
          "base_uri": "https://localhost:8080/",
          "height": 296
        },
        "outputId": "95c564a0-a820-4f15-c7f5-e40a89b01f8e"
      },
      "source": [
        "plt.plot(df['FRAC Its'],df['CR'])\n",
        "plt.xlabel('Iteração/Total')\n",
        "plt.ylabel('CR')"
      ],
      "execution_count": 19,
      "outputs": [
        {
          "output_type": "execute_result",
          "data": {
            "text/plain": [
              "Text(0, 0.5, 'CR')"
            ]
          },
          "metadata": {
            "tags": []
          },
          "execution_count": 19
        },
        {
          "output_type": "display_data",
          "data": {
            "image/png": "[encoded data removed]",
            "text/plain": [
              "<Figure size 432x288 with 1 Axes>"
            ]
          },
          "metadata": {
            "tags": [],
            "needs_background": "light"
          }
        }
      ]
    },
    {
      "cell_type": "code",
      "metadata": {
        "id": "BvPFvbDvteDC",
        "colab": {
          "base_uri": "https://localhost:8080/",
          "height": 295
        },
        "outputId": "41b096b0-aa48-4480-cac2-a2f641c71288"
      },
      "source": [
        "\n",
        "fig, ax = plt.subplots()\n",
        "ax.plot(df['FRAC Its'],df['F'],label='F')\n",
        "ax.set_xlabel('Iteração/Total')\n",
        "ax.set_ylabel('Parâmetros')\n",
        "ax.plot(df['FRAC Its'],df['CR'],'-r', label='CR')\n",
        "nome=Fun.__name__+'  M=Diversidade'+ '  D='+str(dim)\n",
        "ax.set_title(nome)\n",
        "leg = ax.legend()\n"
      ],
      "execution_count": 20,
      "outputs": [
        {
          "output_type": "display_data",
          "data": {
            "image/png": "[encoded data removed]",
            "text/plain": [
              "<Figure size 432x288 with 1 Axes>"
            ]
          },
          "metadata": {
            "tags": [],
            "needs_background": "light"
          }
        }
      ]
    },
    {
      "cell_type": "code",
      "metadata": {
        "id": "htooaGpDia_0",
        "colab": {
          "base_uri": "https://localhost:8080/",
          "height": 312
        },
        "outputId": "3dac1636-f478-496e-a56d-f84a6c75d761"
      },
      "source": [
        "f, axarr = plt.subplots(2, sharex=True)\n",
        "axarr[0].plot(df['FRAC Its'],df['F'])\n",
        "axarr[0].set_ylabel('F')\n",
        "axarr[1].plot(df['FRAC Its'],df['CR'])\n",
        "axarr[1].set_ylabel('CR')\n",
        "axarr[1].set_xlabel('Iteração/Total')\n",
        "nome=Fun.__name__+'_Diversidade_'+ 'D='+str(dim)\n",
        "axarr[0].set_title(nome)\n"
      ],
      "execution_count": 21,
      "outputs": [
        {
          "output_type": "execute_result",
          "data": {
            "text/plain": [
              "Text(0.5, 1.0, 'Rosenbrock_Diversidade_D=30')"
            ]
          },
          "metadata": {
            "tags": []
          },
          "execution_count": 21
        },
        {
          "output_type": "display_data",
          "data": {
            "image/png": "[encoded data removed]",
            "text/plain": [
              "<Figure size 432x288 with 2 Axes>"
            ]
          },
          "metadata": {
            "tags": [],
            "needs_background": "light"
          }
        }
      ]
    },
    {
      "cell_type": "code",
      "metadata": {
        "id": "lNSN5X-wskcx",
        "colab": {
          "base_uri": "https://localhost:8080/"
        },
        "outputId": "a2e40d34-fca7-45a0-96ec-e21faa9df8cd"
      },
      "source": [
        "nome='SUB'+'_Fo-'+str(Fi)+'_CRo-'+str(CRi)+'_D-'+str(dim)+'_Interv-'+str(ITE)\n",
        "print('MCS-FRANNK','Fator F/DE= %.2f' %(fator),'NPAR=',NPAR,'Iterações=',ITE*its,'Dim=', PAR,\"Min/Max=\",MIN[0],\"/\",MAX[0],'_',Fun.__name__)\n",
        "print(nome, '\\n')\n",
        "#print('BEST: ',BEST)\n",
        "#print('MÉDIA: ',MEAN)\n",
        "print('MÉDIA: ',MEAN[-1],'STD __:',STD)\n",
        "print('MIN __:',MINFO, 'MAX__: ',MAXFO)\n",
        "print(MEAN[-1])\n",
        "print(STD)\n",
        "print(MINFO)\n",
        "print(\"Tempo Médio= %.3f segundos ---\" % (TIME))\n",
        "print(RUNS,'Rodadas') \n",
        "print()\n",
        "print('BEST: ',BEST)\n",
        "# print('melhor=',BEST_AGENTS[BEST_INDEX])"
      ],
      "execution_count": 22,
      "outputs": [
        {
          "output_type": "stream",
          "text": [
            "MCS-FRANNK Fator F/DE= 0.50 NPAR= 20 Iterações= 2000 Dim= 30 Min/Max= -10 / 10 _ Rosenbrock\n",
            "SUB_Fo-0.5_CRo-0.5_D-30_Interv-2000 \n",
            "\n",
            "MÉDIA:  675951.6127446407 STD __: 309655.0776771782\n",
            "MIN __: 192705.82349880208 MAX__:  1596262.8174137713\n",
            "675951.6127446407\n",
            "309655.0776771782\n",
            "192705.82349880208\n",
            "Tempo Médio= 26.790 segundos ---\n",
            "50 Rodadas\n",
            "\n",
            "BEST:  [-4.18807915e+00  2.84030130e+00 -2.65256262e+00  2.06627598e+00\n",
            " -3.75814254e-01 -2.69777010e+00  1.41824166e+00  2.97126861e-02\n",
            "  2.01173471e-01 -7.43097740e-01 -8.14860625e-01 -2.22934039e+00\n",
            " -7.97443424e-01  2.74913280e+00  2.22532915e+00  9.32762576e-01\n",
            "  3.48625958e-01 -3.46988748e-01  4.21518612e+00 -5.00394897e-02\n",
            "  4.44541705e+00  2.83128242e+00 -1.11593429e+00 -1.71953136e+00\n",
            " -3.24297166e+00  2.68254469e+00  4.91306582e+00  3.23916364e+00\n",
            " -9.90121543e-01  2.23877445e+00  1.92705823e+05]\n"
          ],
          "name": "stdout"
        }
      ]
    }
  ]
}
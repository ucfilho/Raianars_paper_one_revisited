{
  "nbformat": 4,
  "nbformat_minor": 0,
  "metadata": {
    "colab": {
      "name": "Diff_Pop_Hybrid_Frannk_Schwefel_222_gen_2000_par_100_dim_10_mar_21_2021.ipynb",
      "provenance": [],
      "collapsed_sections": [],
      "include_colab_link": true
    },
    "kernelspec": {
      "display_name": "Python 3",
      "name": "python3"
    },
    "language_info": {
      "codemirror_mode": {
        "name": "ipython",
        "version": 3
      },
      "file_extension": ".py",
      "mimetype": "text/x-python",
      "name": "python",
      "nbconvert_exporter": "python",
      "pygments_lexer": "ipython3",
      "version": "3.7.3"
    }
  },
  "cells": [
    {
      "cell_type": "markdown",
      "metadata": {
        "id": "view-in-github",
        "colab_type": "text"
      },
      "source": [
        "<a href=\"https://colab.research.google.com/github/ucfilho/Raianars_paper_one_revisited/blob/main/Hybrid_SubPopulations/Diff_Pop_Hybrid_Frannk_Schwefel_222_gen_2000_par_100_dim_10_mar_21_2021.ipynb\" target=\"_parent\"><img src=\"https://colab.research.google.com/assets/colab-badge.svg\" alt=\"Open In Colab\"/></a>"
      ]
    },
    {
      "cell_type": "code",
      "metadata": {
        "colab": {
          "base_uri": "https://localhost:8080/"
        },
        "id": "c59cDVKoxDLX",
        "outputId": "524e34a6-0190-44da-fccd-3b8d73e8cb23"
      },
      "source": [
        "############################### Importar códigos\n",
        "!git clone https://github.com/ucfilho/optim_raianars_Insight/ #clonar do Github\n",
        "%cd optim_raianars_Insight\n",
        "import de_soma_Insight\n",
        "import de_bounds_matriz\n",
        "import Go2Ann"
      ],
      "execution_count": 1,
      "outputs": [
        {
          "output_type": "stream",
          "text": [
            "Cloning into 'optim_raianars_Insight'...\n",
            "remote: Enumerating objects: 9, done.\u001b[K\n",
            "remote: Counting objects: 100% (9/9), done.\u001b[K\n",
            "remote: Compressing objects: 100% (9/9), done.\u001b[K\n",
            "remote: Total 323 (delta 3), reused 0 (delta 0), pack-reused 314\u001b[K\n",
            "Receiving objects: 100% (323/323), 312.84 KiB | 8.02 MiB/s, done.\n",
            "Resolving deltas: 100% (184/184), done.\n",
            "/content/optim_raianars_Insight\n"
          ],
          "name": "stdout"
        }
      ]
    },
    {
      "cell_type": "code",
      "metadata": {
        "id": "88sLduNFwZ9Y"
      },
      "source": [
        "# PSO 2016 \n",
        "#  Gen =1000,1500, 2000\n",
        "#  Npar= 20, 40, 80\n",
        "#  dim = 10,20,30\n",
        "# Dynamic parameter adaptation in particle swarm optimization\n",
        "#  using interval type-2 fuzzy logic -Soft Comput (2016) 20:1057–1070"
      ],
      "execution_count": 2,
      "outputs": []
    },
    {
      "cell_type": "code",
      "metadata": {
        "colab": {
          "base_uri": "https://localhost:8080/"
        },
        "id": "Va-6Xios8RjU",
        "outputId": "8d598c05-6f2f-4955-f2e5-f6c5c0b4bd30"
      },
      "source": [
        "!git clone https://github.com/ucfilho/Raianars_paper_One #clonar do Github\n",
        "%cd Raianars_paper_One"
      ],
      "execution_count": 3,
      "outputs": [
        {
          "output_type": "stream",
          "text": [
            "Cloning into 'Raianars_paper_One'...\n",
            "remote: Enumerating objects: 119, done.\u001b[K\n",
            "remote: Counting objects:   0% (1/119)\u001b[K\rremote: Counting objects:   1% (2/119)\u001b[K\rremote: Counting objects:   2% (3/119)\u001b[K\rremote: Counting objects:   3% (4/119)\u001b[K\rremote: Counting objects:   4% (5/119)\u001b[K\rremote: Counting objects:   5% (6/119)\u001b[K\rremote: Counting objects:   6% (8/119)\u001b[K\rremote: Counting objects:   7% (9/119)\u001b[K\rremote: Counting objects:   8% (10/119)\u001b[K\rremote: Counting objects:   9% (11/119)\u001b[K\rremote: Counting objects:  10% (12/119)\u001b[K\rremote: Counting objects:  11% (14/119)\u001b[K\rremote: Counting objects:  12% (15/119)\u001b[K\rremote: Counting objects:  13% (16/119)\u001b[K\rremote: Counting objects:  14% (17/119)\u001b[K\rremote: Counting objects:  15% (18/119)\u001b[K\rremote: Counting objects:  16% (20/119)\u001b[K\rremote: Counting objects:  17% (21/119)\u001b[K\rremote: Counting objects:  18% (22/119)\u001b[K\rremote: Counting objects:  19% (23/119)\u001b[K\rremote: Counting objects:  20% (24/119)\u001b[K\rremote: Counting objects:  21% (25/119)\u001b[K\rremote: Counting objects:  22% (27/119)\u001b[K\rremote: Counting objects:  23% (28/119)\u001b[K\rremote: Counting objects:  24% (29/119)\u001b[K\rremote: Counting objects:  25% (30/119)\u001b[K\rremote: Counting objects:  26% (31/119)\u001b[K\rremote: Counting objects:  27% (33/119)\u001b[K\rremote: Counting objects:  28% (34/119)\u001b[K\rremote: Counting objects:  29% (35/119)\u001b[K\rremote: Counting objects:  30% (36/119)\u001b[K\rremote: Counting objects:  31% (37/119)\u001b[K\rremote: Counting objects:  32% (39/119)\u001b[K\rremote: Counting objects:  33% (40/119)\u001b[K\rremote: Counting objects:  34% (41/119)\u001b[K\rremote: Counting objects:  35% (42/119)\u001b[K\rremote: Counting objects:  36% (43/119)\u001b[K\rremote: Counting objects:  37% (45/119)\u001b[K\rremote: Counting objects:  38% (46/119)\u001b[K\rremote: Counting objects:  39% (47/119)\u001b[K\rremote: Counting objects:  40% (48/119)\u001b[K\rremote: Counting objects:  41% (49/119)\u001b[K\rremote: Counting objects:  42% (50/119)\u001b[K\rremote: Counting objects:  43% (52/119)\u001b[K\rremote: Counting objects:  44% (53/119)\u001b[K\rremote: Counting objects:  45% (54/119)\u001b[K\rremote: Counting objects:  46% (55/119)\u001b[K\rremote: Counting objects:  47% (56/119)\u001b[K\rremote: Counting objects:  48% (58/119)\u001b[K\rremote: Counting objects:  49% (59/119)\u001b[K\rremote: Counting objects:  50% (60/119)\u001b[K\rremote: Counting objects:  51% (61/119)\u001b[K\rremote: Counting objects:  52% (62/119)\u001b[K\rremote: Counting objects:  53% (64/119)\u001b[K\rremote: Counting objects:  54% (65/119)\u001b[K\rremote: Counting objects:  55% (66/119)\u001b[K\rremote: Counting objects:  56% (67/119)\u001b[K\rremote: Counting objects:  57% (68/119)\u001b[K\rremote: Counting objects:  58% (70/119)\u001b[K\rremote: Counting objects:  59% (71/119)\u001b[K\rremote: Counting objects:  60% (72/119)\u001b[K\rremote: Counting objects:  61% (73/119)\u001b[K\rremote: Counting objects:  62% (74/119)\u001b[K\rremote: Counting objects:  63% (75/119)\u001b[K\rremote: Counting objects:  64% (77/119)\u001b[K\rremote: Counting objects:  65% (78/119)\u001b[K\rremote: Counting objects:  66% (79/119)\u001b[K\rremote: Counting objects:  67% (80/119)\u001b[K\rremote: Counting objects:  68% (81/119)\u001b[K\rremote: Counting objects:  69% (83/119)\u001b[K\rremote: Counting objects:  70% (84/119)\u001b[K\rremote: Counting objects:  71% (85/119)\u001b[K\rremote: Counting objects:  72% (86/119)\u001b[K\rremote: Counting objects:  73% (87/119)\u001b[K\rremote: Counting objects:  74% (89/119)\u001b[K\rremote: Counting objects:  75% (90/119)\u001b[K\rremote: Counting objects:  76% (91/119)\u001b[K\rremote: Counting objects:  77% (92/119)\u001b[K\rremote: Counting objects:  78% (93/119)\u001b[K\rremote: Counting objects:  79% (95/119)\u001b[K\rremote: Counting objects:  80% (96/119)\u001b[K\rremote: Counting objects:  81% (97/119)\u001b[K\rremote: Counting objects:  82% (98/119)\u001b[K\rremote: Counting objects:  83% (99/119)\u001b[K\rremote: Counting objects:  84% (100/119)\u001b[K\rremote: Counting objects:  85% (102/119)\u001b[K\rremote: Counting objects:  86% (103/119)\u001b[K\rremote: Counting objects:  87% (104/119)\u001b[K\rremote: Counting objects:  88% (105/119)\u001b[K\rremote: Counting objects:  89% (106/119)\u001b[K\rremote: Counting objects:  90% (108/119)\u001b[K\rremote: Counting objects:  91% (109/119)\u001b[K\rremote: Counting objects:  92% (110/119)\u001b[K\rremote: Counting objects:  93% (111/119)\u001b[K\rremote: Counting objects:  94% (112/119)\u001b[K\rremote: Counting objects:  95% (114/119)\u001b[K\rremote: Counting objects:  96% (115/119)\u001b[K\rremote: Counting objects:  97% (116/119)\u001b[K\rremote: Counting objects:  98% (117/119)\u001b[K\rremote: Counting objects:  99% (118/119)\u001b[K\rremote: Counting objects: 100% (119/119)\u001b[K\rremote: Counting objects: 100% (119/119), done.\u001b[K\n",
            "remote: Compressing objects: 100% (119/119), done.\u001b[K\n",
            "remote: Total 248 (delta 64), reused 0 (delta 0), pack-reused 129\u001b[K\n",
            "Receiving objects: 100% (248/248), 654.97 KiB | 12.59 MiB/s, done.\n",
            "Resolving deltas: 100% (136/136), done.\n",
            "/content/optim_raianars_Insight/Raianars_paper_One\n"
          ],
          "name": "stdout"
        }
      ]
    },
    {
      "cell_type": "code",
      "metadata": {
        "id": "_E15mKFURR6O"
      },
      "source": [
        "#import Go2Ann\n",
        "#import de_soma_Insight\n",
        "#import de_bounds_matriz\n",
        "#import Function\n",
        "#import Go2MinMax\n",
        "from AvaliaX import AvaliaX\n",
        "#from Function import FUN\n",
        "#from Function import Function.FUN\n",
        "#from Function import Function.Fun\n",
        "#from Function import Function\n",
        "from GeraIndices import GeraIndices\n",
        "import numpy as np\n",
        "import time\n",
        "import matplotlib.pyplot as plt\n",
        "from random import randint\n",
        "from scipy import optimize\n",
        "import pandas as pd\n",
        "from sklearn.metrics import confusion_matrix\n",
        "\n",
        "############################### DADOS DE ENTRADA \n",
        "RUNS=50 #NÚMERO DE RODADAS\n",
        "Fc=0.1 # fator de correcao parametros da ANN\n",
        "its=1 #10 # quantas vezes vai usar o NPAR antes de alterar de novo\n",
        "ITE=2000 #10 # PONTOS quantas vezes vai alteral NPAR \n",
        "NPAR=100\n",
        "mut=0.5\n",
        "crossp=0.5\n",
        "Fi=mut;CRi=crossp;# para impressão\n",
        "fator = 2.0/3.0; \n",
        "mut2=0.5;crossp2=0.5;mut3=0.75;crossp3=0.25;mut4=0.25;crossp4=0.25;\n"
      ],
      "execution_count": 4,
      "outputs": []
    },
    {
      "cell_type": "code",
      "metadata": {
        "colab": {
          "base_uri": "https://localhost:8080/"
        },
        "id": "ik3ZjkUKycUK",
        "outputId": "f376c76c-47f0-45b2-84bd-21aa636d43a5"
      },
      "source": [
        "############################### Importar códigos\n",
        "!git clone https://github.com/ucfilho/optim_raianars_Insight/ #clonar do Github\n",
        "%cd optim_raianars_Insight\n",
        "import de_soma_Insight\n",
        "import de_bounds_matriz"
      ],
      "execution_count": 5,
      "outputs": [
        {
          "output_type": "stream",
          "text": [
            "Cloning into 'optim_raianars_Insight'...\n",
            "remote: Enumerating objects: 9, done.\u001b[K\n",
            "remote: Counting objects:  11% (1/9)\u001b[K\rremote: Counting objects:  22% (2/9)\u001b[K\rremote: Counting objects:  33% (3/9)\u001b[K\rremote: Counting objects:  44% (4/9)\u001b[K\rremote: Counting objects:  55% (5/9)\u001b[K\rremote: Counting objects:  66% (6/9)\u001b[K\rremote: Counting objects:  77% (7/9)\u001b[K\rremote: Counting objects:  88% (8/9)\u001b[K\rremote: Counting objects: 100% (9/9)\u001b[K\rremote: Counting objects: 100% (9/9), done.\u001b[K\n",
            "remote: Compressing objects:  11% (1/9)\u001b[K\rremote: Compressing objects:  22% (2/9)\u001b[K\rremote: Compressing objects:  33% (3/9)\u001b[K\rremote: Compressing objects:  44% (4/9)\u001b[K\rremote: Compressing objects:  55% (5/9)\u001b[K\rremote: Compressing objects:  66% (6/9)\u001b[K\rremote: Compressing objects:  77% (7/9)\u001b[K\rremote: Compressing objects:  88% (8/9)\u001b[K\rremote: Compressing objects: 100% (9/9)\u001b[K\rremote: Compressing objects: 100% (9/9), done.\u001b[K\n",
            "remote: Total 323 (delta 3), reused 0 (delta 0), pack-reused 314\u001b[K\n",
            "Receiving objects: 100% (323/323), 312.84 KiB | 7.82 MiB/s, done.\n",
            "Resolving deltas: 100% (184/184), done.\n",
            "/content/optim_raianars_Insight/Raianars_paper_One/optim_raianars_Insight\n"
          ],
          "name": "stdout"
        }
      ]
    },
    {
      "cell_type": "code",
      "metadata": {
        "colab": {
          "base_uri": "https://localhost:8080/"
        },
        "id": "lJogRB30yepw",
        "outputId": "06951d2e-4edd-4773-ceb5-ab6c0f7aef15"
      },
      "source": [
        "#!git clone https://github.com/ucfilho/Raianars_paper_one_revisited/AddFunctions \n",
        "!git clone https://github.com/ucfilho/Raianars_Routines #clonar do Github\n",
        "%cd Raianars_Routines"
      ],
      "execution_count": 6,
      "outputs": [
        {
          "output_type": "stream",
          "text": [
            "Cloning into 'Raianars_Routines'...\n",
            "remote: Enumerating objects: 36, done.\u001b[K\n",
            "remote: Counting objects: 100% (36/36), done.\u001b[K\n",
            "remote: Compressing objects: 100% (34/34), done.\u001b[K\n",
            "remote: Total 36 (delta 10), reused 0 (delta 0), pack-reused 0\u001b[K\n",
            "Unpacking objects: 100% (36/36), done.\n",
            "/content/optim_raianars_Insight/Raianars_paper_One/optim_raianars_Insight/Raianars_Routines\n"
          ],
          "name": "stdout"
        }
      ]
    },
    {
      "cell_type": "code",
      "metadata": {
        "id": "P8LIRCsdywOX"
      },
      "source": [
        "############################### Função\n",
        "import FunctionsNew\n",
        "#'''  \n",
        "############################### Função\n",
        "dim=10 # \n",
        "fchoice='Schwefel_222'\n",
        "Fun=FunctionsNew.Schwefel_222\n",
        "MAX=np.repeat(10,dim)\n",
        "MIN=np.repeat(-10,dim)\n",
        " #fx=\n",
        "#'''\n",
        "#####################################\n",
        "PAR=len(MAX) #NUM DE PARAMETROS A SER OTIMIZADOS\n",
        "\n",
        "bounds=[]\n",
        "for k in range(len(MAX)):\n",
        "  bounds.append((MIN[k],MAX[k]))"
      ],
      "execution_count": 7,
      "outputs": []
    },
    {
      "cell_type": "code",
      "metadata": {
        "colab": {
          "base_uri": "https://localhost:8080/"
        },
        "id": "QfCTvdZm5Luv",
        "outputId": "a82fea32-dd1e-4e50-80ea-530729f8e608"
      },
      "source": [
        "!ls"
      ],
      "execution_count": 8,
      "outputs": [
        {
          "output_type": "stream",
          "text": [
            "FunctionsNew.py  __pycache__  README.md\n"
          ],
          "name": "stdout"
        }
      ]
    },
    {
      "cell_type": "code",
      "metadata": {
        "colab": {
          "base_uri": "https://localhost:8080/"
        },
        "id": "qTINtQ1cosZK",
        "outputId": "a1430933-b017-418e-cf5b-2dcb259955e7"
      },
      "source": [
        "!git clone https://github.com/ucfilho/ANN_read_matrix #clonar do Github\n",
        "%cd ANN_read_matrix"
      ],
      "execution_count": 9,
      "outputs": [
        {
          "output_type": "stream",
          "text": [
            "Cloning into 'ANN_read_matrix'...\n",
            "remote: Enumerating objects: 20, done.\u001b[K\n",
            "remote: Counting objects: 100% (20/20), done.\u001b[K\n",
            "remote: Compressing objects: 100% (18/18), done.\u001b[K\n",
            "remote: Total 20 (delta 5), reused 0 (delta 0), pack-reused 0\u001b[K\n",
            "Unpacking objects: 100% (20/20), done.\n",
            "/content/optim_raianars_Insight/Raianars_paper_One/optim_raianars_Insight/Raianars_Routines/ANN_read_matrix\n"
          ],
          "name": "stdout"
        }
      ]
    },
    {
      "cell_type": "code",
      "metadata": {
        "id": "QiQLYOoNoyCw"
      },
      "source": [
        "ANN_F=pd.read_csv('ANN_INSIGHT_Valor_F.csv')"
      ],
      "execution_count": 10,
      "outputs": []
    },
    {
      "cell_type": "code",
      "metadata": {
        "id": "uHtW2amaDzFv"
      },
      "source": [
        "ANN_CR=pd.read_csv('ANN_INSIGHT_CR.csv')"
      ],
      "execution_count": 11,
      "outputs": []
    },
    {
      "cell_type": "code",
      "metadata": {
        "id": "EH6h_vke2yu1"
      },
      "source": [
        "syn0_F,syn1_F,X_max_F,X_min_F=Go2Ann.GetMatriz(ANN_F)"
      ],
      "execution_count": 12,
      "outputs": []
    },
    {
      "cell_type": "code",
      "metadata": {
        "id": "WW_3ZWJXD60i"
      },
      "source": [
        "syn0_CR,syn1_CR,X_max_CR,X_min_CR=Go2Ann.GetMatriz(ANN_CR)"
      ],
      "execution_count": 13,
      "outputs": []
    },
    {
      "cell_type": "code",
      "metadata": {
        "id": "b4gwBvVTyaXh"
      },
      "source": [
        "ANN_CR=pd.read_csv('ANN_INSIGHT_CR.csv')"
      ],
      "execution_count": 14,
      "outputs": []
    },
    {
      "cell_type": "code",
      "metadata": {
        "id": "6jL8MxpHvk-Y"
      },
      "source": [
        "fields = ['DI RELATIVO','FRAC Its','Fo','CRo']"
      ],
      "execution_count": 15,
      "outputs": []
    },
    {
      "cell_type": "code",
      "metadata": {
        "colab": {
          "base_uri": "https://localhost:8080/"
        },
        "id": "Mb3LmbSmj9v7",
        "outputId": "1fbc8bc4-494f-44cc-bcd2-01950f574238"
      },
      "source": [
        "##################################### \n",
        "\n",
        "TOTAL=10*dim*its*ITE\n",
        "TOTAL=int(TOTAL/2)   # CONFERIR SE ESTE EH O MELHOR LUGAR\n",
        "\n",
        "dimensions=len(MAX)\n",
        "start_time = time.time() #INICIALIZA CONTAGEM DO TEMPO\n",
        "\n",
        "\n",
        "PAR=dim\n",
        "fobj=Fun\n",
        "\n",
        "MAX_P=np.zeros(ITE) # ATENCAO para variar F e Cr MAX_P passa a ser 3 vezes maior\n",
        "MIN_P=np.zeros(ITE) # ATENCAO para variar F e Cr MIN_P passa a ser 3 vezes maior\n",
        "\n",
        "for i in range(dim):\n",
        "  MAX_P[i]=MAX[i] \n",
        "  MIN_P[i]=MIN[i]\n",
        "\n",
        "rodadas=1\n",
        "NPAR1=int(fator*NPAR);\n",
        "NPAR2=int((NPAR1)/3);\n",
        "NPAR3=int((NPAR1)/3);\n",
        "NPAR4=int((NPAR1)/3);\n",
        "\n",
        "NPAR1 = NPAR-NPAR2-NPAR3-NPAR4\n",
        "print('Npar1=',NPAR1);print('frac=',fator)\n",
        "print('Npar2=',NPAR2);\n",
        "print('Npar3=',NPAR3);\n",
        "print('Npar4=',NPAR4);\n",
        "print('Npar=',NPAR)\n",
        "\n",
        "cols=dim\n",
        "\n",
        "X1=np.zeros((NPAR1,cols)) # X1 is Frannk population\n",
        "for i in range(NPAR1):\n",
        "  for j in range(cols):\n",
        "    r=np.random.random()\n",
        "    X1[i,j]=r*(MAX[j]-MIN[j])+MIN[j]\n",
        "    \n",
        "X2=np.zeros((NPAR2,cols)) # X2 is population DE (default DE)\n",
        "for i in range(NPAR2):\n",
        "  for j in range(cols):\n",
        "    r=np.random.random()\n",
        "    X2[i,j]=r*(MAX[j]-MIN[j])+MIN[j]\n",
        "\n",
        "X3=np.zeros((NPAR3,cols)) # X1 is Frannk population\n",
        "for i in range(NPAR3):\n",
        "  for j in range(cols):\n",
        "    r=np.random.random()\n",
        "    X3[i,j]=r*(MAX[j]-MIN[j])+MIN[j]\n",
        "    \n",
        "X4=np.zeros((NPAR4,cols)) # X2 is population DE (default DE)\n",
        "for i in range(NPAR4):\n",
        "  for j in range(cols):\n",
        "    r=np.random.random()\n",
        "    X4[i,j]=r*(MAX[j]-MIN[j])+MIN[j]"
      ],
      "execution_count": 16,
      "outputs": [
        {
          "output_type": "stream",
          "text": [
            "Npar1= 34\n",
            "frac= 0.6666666666666666\n",
            "Npar2= 22\n",
            "Npar3= 22\n",
            "Npar4= 22\n",
            "Npar= 100\n"
          ],
          "name": "stdout"
        }
      ]
    },
    {
      "cell_type": "code",
      "metadata": {
        "colab": {
          "base_uri": "https://localhost:8080/"
        },
        "id": "rnX8ttNopd1G",
        "outputId": "ef2d84a3-7605-478d-8292-4470f3653245"
      },
      "source": [
        "\n",
        "start_time = time.time()\n",
        "BEST_AGENTS=[]\n",
        "MAT_stat=[]\n",
        "for iii in range(RUNS):\n",
        "    MAT=[] \n",
        "    mut=Fi\n",
        "    crossp=CRi\n",
        "    SOMA=0\n",
        "    pop = np.random.rand(NPAR, dim)\n",
        "    diff=np.zeros(PAR)\n",
        "    X1=np.zeros((NPAR1,cols)) # X1 is Frannk population\n",
        "    for i in range(NPAR1):\n",
        "      for j in range(cols):\n",
        "        r=np.random.random()\n",
        "        X1[i,j]=r*(MAX[j]-MIN[j])+MIN[j]\n",
        "        \n",
        "    X2=np.zeros((NPAR2,cols)) # X2 is population DE (default DE)\n",
        "    for i in range(NPAR2):\n",
        "      for j in range(cols):\n",
        "        r=np.random.random()\n",
        "        X2[i,j]=r*(MAX[j]-MIN[j])+MIN[j]\n",
        "\n",
        "    X3=np.zeros((NPAR3,cols)) # X2 is population DE (default DE)\n",
        "    for i in range(NPAR3):\n",
        "      for j in range(cols):\n",
        "        r=np.random.random()\n",
        "        X3[i,j]=r*(MAX[j]-MIN[j])+MIN[j]\n",
        "\n",
        "    X4=np.zeros((NPAR4,cols)) # X2 is population DE (default DE)\n",
        "    for i in range(NPAR4):\n",
        "      for j in range(cols):\n",
        "        r=np.random.random()\n",
        "        X4[i,j]=r*(MAX[j]-MIN[j])+MIN[j]\n",
        "\n",
        "    DIo=1e99\n",
        "  \n",
        "    CRo=crossp;Fo=mut;\n",
        "    Fitness = np.asarray([Fun(ind) for ind in X1])\n",
        "    XY,BEST_XY,BESTo,FOBESTo=AvaliaX(X1,Fitness)\n",
        "    nrow,ncol=X1.shape\n",
        "\n",
        "    QUANT=17;MAT_INDo=np.zeros((1,QUANT)); # quantos indices esta fazendo\n",
        "    MAT_INDo[0,5]=nrow  # VALOR NP\n",
        "    MAT_INDo[0,6]=Fo    # VALOR Fo   \n",
        "    MAT_INDo[0,7]=CRo   # VALOR CRo\n",
        "  \n",
        "    MAT_INDo=GeraIndices(X1,BESTo,FOBESTo,DIo,MAT_INDo,SOMA,TOTAL,syn0_F,\n",
        "                        syn1_F,X_max_F,X_min_F,syn0_CR,syn1_CR,X_max_CR,\n",
        "                        X_min_CR,Fc,fields,Fun)\n",
        "  \n",
        "    DIo=np.copy(MAT_INDo[0,0])\n",
        "    MAT_INDo[0,15]=Fo    # VALOR Fo   \n",
        "    MAT_INDo[0,16]=CRo   # VALOR CRo\n",
        "    #ind_crossp=ITE-1\n",
        "    \n",
        "\n",
        "    \n",
        "    for k in range(ITE):\n",
        "\n",
        "      X2,BEST2,FOBEST,XY,BEST_XY=de_bounds_matriz.de(bounds, mut2, crossp2,NPAR2, its,fobj,X2)\n",
        "      X3,BEST3,FOBEST,XY,BEST_XY=de_bounds_matriz.de(bounds, mut3, crossp3,NPAR3, its,fobj,X3)\n",
        "      X4,BEST4,FOBEST,XY,BEST_XY=de_bounds_matriz.de(bounds, mut4, crossp4,NPAR4, its,fobj,X4)\n",
        "      \n",
        "      X1,BEST1,FOBEST,XY,BEST_XY,SOMA= de_soma_Insight.de(MAX,MIN, mut, crossp,NPAR1,its,Fun,X1,SOMA,TOTAL)\n",
        "\n",
        "      MAT_IND=GeraIndices(X1,BESTo,FOBESTo,DIo,MAT_INDo,SOMA,TOTAL,syn0_F,\n",
        "                          syn1_F,X_max_F,X_min_F,syn0_CR,syn1_CR,X_max_CR,\n",
        "                          X_min_CR,Fc,fields,Fun)\n",
        "    \n",
        "      BESTo=np.copy(BEST1);FOBESTo=np.copy(FOBEST);\n",
        "      MAT.append(MAT_IND.ravel())\n",
        "    \n",
        "      MAT_INDo[0,6]=MAT_IND[0,15]   # VALOR Fo   \n",
        "      MAT_INDo[0,7]=MAT_IND[0,16]   # VALOR CRo\n",
        "      mut=MAT_IND[0,15]\n",
        "      crossp=MAT_IND[0,16]\n",
        "      X1[0,:] = BEST2;X1[1,:] = BEST3; X1[2,:] = BEST4;X1[NPAR1-1,:] = BEST1;\n",
        "      X2[0,:] = BEST1;X2[1,:] = BEST3;X2[2,:] = BEST4;X2[NPAR2-1,:] = BEST2;\n",
        "      X3[0,:] = BEST1;X3[1,:] = BEST2;X3[2,:] = BEST4;X3[NPAR3-1,:] = BEST3;\n",
        "      X4[0,:] = BEST1;X4[1,:] = BEST2;X4[2,:] = BEST3;X4[NPAR4-1,:] = BEST4;\n",
        "    print('k=',iii,'time=',(time.time()-start_time)/60)  \n",
        "    BEST_AGENTS.append(BEST_XY)\n",
        "    MAT_stat.append(MAT)\n",
        "    #print(\"GlobalParam e Solucao:\", BEST,\"Funcao=\",FOBEST)\n",
        "    \n",
        "############################## Cálculo dos Parâmetros de Avaliação   \n",
        "TIME = (time.time() - start_time)/RUNS\n",
        "BEST_AGENTS=np.array(BEST_AGENTS)\n",
        "BEST_AGENTS_ST= BEST_AGENTS[BEST_AGENTS[:,-1].argsort()]\n",
        "BEST=BEST_AGENTS_ST[0]\n",
        "WORSE=BEST_AGENTS_ST[-1]\n",
        "MEAN=np.mean(BEST_AGENTS,axis=0)\n",
        "MAXFO=BEST_AGENTS[:,-1].max()\n",
        "MINFO=BEST_AGENTS[:,-1].min()\n",
        "STD=BEST_AGENTS[:,-1].std()"
      ],
      "execution_count": 17,
      "outputs": [
        {
          "output_type": "stream",
          "text": [
            "k= 0 time= 0.6196107824643453\n",
            "k= 1 time= 1.2385112245877583\n",
            "k= 2 time= 1.8849078297615052\n",
            "k= 3 time= 2.6224130392074585\n",
            "k= 4 time= 3.3055881102879843\n",
            "k= 5 time= 4.036345513661702\n",
            "k= 6 time= 4.689248875776927\n",
            "k= 7 time= 5.323174866040548\n",
            "k= 8 time= 5.970426507790884\n",
            "k= 9 time= 6.599219755331675\n",
            "k= 10 time= 7.216674240430196\n",
            "k= 11 time= 7.876104680697123\n",
            "k= 12 time= 8.49067500034968\n",
            "k= 13 time= 9.127878042062123\n",
            "k= 14 time= 9.753241082032522\n",
            "k= 15 time= 10.367762911319733\n",
            "k= 16 time= 10.980263487497966\n",
            "k= 17 time= 11.59706324338913\n",
            "k= 18 time= 12.206431885560354\n",
            "k= 19 time= 12.822780911127726\n",
            "k= 20 time= 13.433761397997538\n",
            "k= 21 time= 14.044756889343262\n",
            "k= 22 time= 14.65218919912974\n",
            "k= 23 time= 15.261581035455068\n",
            "k= 24 time= 15.870028034845989\n",
            "k= 25 time= 16.478862432638802\n",
            "k= 26 time= 17.09976821343104\n",
            "k= 27 time= 17.70688404639562\n",
            "k= 28 time= 18.31889484723409\n",
            "k= 29 time= 18.925922815004984\n",
            "k= 30 time= 19.536543265978494\n",
            "k= 31 time= 20.14564693371455\n",
            "k= 32 time= 20.75302586158117\n",
            "k= 33 time= 21.359505399068198\n",
            "k= 34 time= 21.96619777282079\n",
            "k= 35 time= 22.571714373429618\n",
            "k= 36 time= 23.181698910395305\n",
            "k= 37 time= 23.784167261918387\n",
            "k= 38 time= 24.38723485072454\n",
            "k= 39 time= 24.994199415047962\n",
            "k= 40 time= 25.602087310949962\n",
            "k= 41 time= 26.252564911047617\n",
            "k= 42 time= 26.914503637949625\n",
            "k= 43 time= 27.52703312635422\n",
            "k= 44 time= 28.13554751475652\n",
            "k= 45 time= 28.746805556615193\n",
            "k= 46 time= 29.35605460802714\n",
            "k= 47 time= 29.963644150892893\n",
            "k= 48 time= 30.573453668753306\n",
            "k= 49 time= 31.18183023929596\n"
          ],
          "name": "stdout"
        }
      ]
    },
    {
      "cell_type": "code",
      "metadata": {
        "id": "hPpkYEjBtKLU",
        "colab": {
          "base_uri": "https://localhost:8080/"
        },
        "outputId": "6e29a11d-da89-4100-c055-453e979f43a5"
      },
      "source": [
        "X1.shape"
      ],
      "execution_count": 18,
      "outputs": [
        {
          "output_type": "execute_result",
          "data": {
            "text/plain": [
              "(34, 10)"
            ]
          },
          "metadata": {
            "tags": []
          },
          "execution_count": 18
        }
      ]
    },
    {
      "cell_type": "code",
      "metadata": {
        "id": "TLEE0UrZSvJF",
        "colab": {
          "base_uri": "https://localhost:8080/"
        },
        "outputId": "6e94d1a5-38c9-4ba7-b217-e5475f4fc4d7"
      },
      "source": [
        "#len(X2[1,:])\n",
        "print(cols)"
      ],
      "execution_count": 19,
      "outputs": [
        {
          "output_type": "stream",
          "text": [
            "10\n"
          ],
          "name": "stdout"
        }
      ]
    },
    {
      "cell_type": "code",
      "metadata": {
        "id": "k3p9TGsx1OCu"
      },
      "source": [
        "NOMES=['DIVERSIDADE (DI)',  'DI RELATIVO','FRAC Its',\n",
        "           'VELOC FOBJ','VELOC X','NP','Fo','CRo','fmin','fmax',\n",
        "           'AD_fmin','AD_fmax','DELTA FOBJ','DELTA VX','r_fitness',\n",
        "           'F','CR']\n",
        "# BEST_INDEX= BEST_AGENTS[BEST_AGENTS[:,-1].argmin()]  \n",
        "BEST_INDEX = np.argmin(BEST_AGENTS[:,-1])\n",
        "df=pd.DataFrame(MAT_stat[BEST_INDEX], columns=NOMES)\n",
        "\n"
      ],
      "execution_count": 20,
      "outputs": []
    },
    {
      "cell_type": "code",
      "metadata": {
        "id": "jIHiKR_t1xxs",
        "colab": {
          "base_uri": "https://localhost:8080/"
        },
        "outputId": "df31e09a-cf60-4e41-e2f4-fe9644c83dba"
      },
      "source": [
        "pd.set_option('display.max_columns', 30)  \n",
        "print(df)"
      ],
      "execution_count": 21,
      "outputs": [
        {
          "output_type": "stream",
          "text": [
            "      DIVERSIDADE (DI)   DI RELATIVO  FRAC Its  VELOC FOBJ  VELOC X    NP  \\\n",
            "0         1.693244e+01  9.651467e-01   0.00034         2.0      0.0  34.0   \n",
            "1         1.597178e+01  9.103895e-01   0.00068         1.0      2.0  34.0   \n",
            "2         1.500229e+01  8.551283e-01   0.00102         1.0      2.0  34.0   \n",
            "3         1.443730e+01  8.229244e-01   0.00136         1.0      2.0  34.0   \n",
            "4         1.419301e+01  8.089998e-01   0.00170         0.0      0.0  34.0   \n",
            "...                ...           ...       ...         ...      ...   ...   \n",
            "1995      2.110471e-64  1.202966e-65   0.67864         1.0      1.0  34.0   \n",
            "1996      2.097214e-64  1.195409e-65   0.67898         1.0      1.0  34.0   \n",
            "1997      1.779679e-64  1.014415e-65   0.67932         1.0      1.0  34.0   \n",
            "1998      1.760883e-64  1.003701e-65   0.67966         0.0      0.0  34.0   \n",
            "1999      1.577595e-64  8.992272e-66   0.68000         0.0      0.0  34.0   \n",
            "\n",
            "            Fo       CRo           fmin          fmax  AD_fmin  AD_fmax  \\\n",
            "0     0.500000  0.500000   4.331670e+01  1.940396e+07      1.0      1.0   \n",
            "1     0.258713  0.339142   2.383343e+01  1.106497e+07      1.0      1.0   \n",
            "2     0.435361  0.236225   1.536974e+01  9.194370e+06      1.0      1.0   \n",
            "3     0.249216  0.168891   1.310460e+01  5.168056e+06      1.0      1.0   \n",
            "4     0.403031  0.238383   1.310460e+01  2.342936e+06      1.0      1.0   \n",
            "...        ...       ...            ...           ...      ...      ...   \n",
            "1995  0.336337  0.139216  1.157633e-104  7.784739e-64      1.0      1.0   \n",
            "1996  0.336337  0.139216  1.070353e-104  7.784739e-64      1.0      1.0   \n",
            "1997  0.336337  0.139216  8.231220e-105  7.123282e-64      1.0      1.0   \n",
            "1998  0.336337  0.139216  8.231220e-105  7.123282e-64      1.0      1.0   \n",
            "1999  0.336337  0.139216  8.231220e-105  7.123282e-64      1.0      1.0   \n",
            "\n",
            "      DELTA FOBJ  DELTA VX  r_fitness         F        CR  \n",
            "0            0.0       0.0   0.999998  0.258713  0.339142  \n",
            "1            0.0       0.0   0.999998  0.435361  0.236225  \n",
            "2            0.0       0.0   0.999998  0.249216  0.168891  \n",
            "3            0.0       0.0   0.999997  0.403031  0.238383  \n",
            "4            0.0       0.0   0.999994  0.647569  0.174099  \n",
            "...          ...       ...        ...       ...       ...  \n",
            "1995         0.0       0.0   1.000000  0.336337  0.139216  \n",
            "1996         0.0       0.0   1.000000  0.336337  0.139216  \n",
            "1997         0.0       0.0   1.000000  0.336337  0.139216  \n",
            "1998         0.0       0.0   1.000000  0.336337  0.139216  \n",
            "1999         0.0       0.0   1.000000  0.336337  0.139216  \n",
            "\n",
            "[2000 rows x 17 columns]\n"
          ],
          "name": "stdout"
        }
      ]
    },
    {
      "cell_type": "code",
      "metadata": {
        "id": "bx0ywpMtAAjw",
        "colab": {
          "base_uri": "https://localhost:8080/",
          "height": 300
        },
        "outputId": "1127b1e2-83a7-4db2-b475-c617843b87da"
      },
      "source": [
        "plt.plot(df['FRAC Its'],df['CR'])\n",
        "plt.xlabel('Iteração/Total')\n",
        "plt.ylabel('CR')"
      ],
      "execution_count": 22,
      "outputs": [
        {
          "output_type": "execute_result",
          "data": {
            "text/plain": [
              "Text(0, 0.5, 'CR')"
            ]
          },
          "metadata": {
            "tags": []
          },
          "execution_count": 22
        },
        {
          "output_type": "display_data",
          "data": {
            "image/png": "[encoded data removed]",
            "text/plain": [
              "<Figure size 432x288 with 1 Axes>"
            ]
          },
          "metadata": {
            "tags": [],
            "needs_background": "light"
          }
        }
      ]
    },
    {
      "cell_type": "code",
      "metadata": {
        "id": "BvPFvbDvteDC",
        "colab": {
          "base_uri": "https://localhost:8080/",
          "height": 295
        },
        "outputId": "0b629a79-b59a-4958-9225-db4421e7271d"
      },
      "source": [
        "\n",
        "fig, ax = plt.subplots()\n",
        "ax.plot(df['FRAC Its'],df['F'],label='F')\n",
        "ax.set_xlabel('Iteração/Total')\n",
        "ax.set_ylabel('Parâmetros')\n",
        "ax.plot(df['FRAC Its'],df['CR'],'-r', label='CR')\n",
        "nome=Fun.__name__+'  M=Diversidade'+ '  D='+str(dim)\n",
        "ax.set_title(nome)\n",
        "leg = ax.legend()\n"
      ],
      "execution_count": 23,
      "outputs": [
        {
          "output_type": "display_data",
          "data": {
            "image/png": "[encoded data removed]",
            "text/plain": [
              "<Figure size 432x288 with 1 Axes>"
            ]
          },
          "metadata": {
            "tags": [],
            "needs_background": "light"
          }
        }
      ]
    },
    {
      "cell_type": "code",
      "metadata": {
        "id": "htooaGpDia_0",
        "colab": {
          "base_uri": "https://localhost:8080/",
          "height": 313
        },
        "outputId": "f707d210-d003-4688-9a72-6dfc08546b64"
      },
      "source": [
        "f, axarr = plt.subplots(2, sharex=True)\n",
        "axarr[0].plot(df['FRAC Its'],df['F'])\n",
        "axarr[0].set_ylabel('F')\n",
        "axarr[1].plot(df['FRAC Its'],df['CR'])\n",
        "axarr[1].set_ylabel('CR')\n",
        "axarr[1].set_xlabel('Iteração/Total')\n",
        "nome=Fun.__name__+'_Diversidade_'+ 'D='+str(dim)\n",
        "axarr[0].set_title(nome)\n"
      ],
      "execution_count": 24,
      "outputs": [
        {
          "output_type": "execute_result",
          "data": {
            "text/plain": [
              "Text(0.5, 1.0, 'Schwefel_222_Diversidade_D=10')"
            ]
          },
          "metadata": {
            "tags": []
          },
          "execution_count": 24
        },
        {
          "output_type": "display_data",
          "data": {
            "image/png": "[encoded data removed]",
            "text/plain": [
              "<Figure size 432x288 with 2 Axes>"
            ]
          },
          "metadata": {
            "tags": [],
            "needs_background": "light"
          }
        }
      ]
    },
    {
      "cell_type": "code",
      "metadata": {
        "id": "lNSN5X-wskcx",
        "colab": {
          "base_uri": "https://localhost:8080/"
        },
        "outputId": "b182e727-aa1b-457c-86a0-1ea60e9607c7"
      },
      "source": [
        "nome='_ANN_Div3x4_Fo-'+str(Fi)+'_CRo-'+str(CRi)+'_D-'+str(dim)+'_Interv-'+str(ITE)\n",
        "print('DE_POP_VAR_F_CR','TOTAL=',TOTAL,'Iterações=',ITE*its,'Dim=', PAR,\"Min/Max=\",MIN[0],\"/\",MAX[0],'_',Fun.__name__)\n",
        "print(nome, '\\n')\n",
        "#print('BEST: ',BEST)\n",
        "#print('MÉDIA: ',MEAN)\n",
        "print('MÉDIA: ',MEAN[-1])\n",
        "print('MIN __:',MINFO)\n",
        "print('MAX__: ',MAXFO)\n",
        "print('STD __:',STD)\n",
        "print(\"Tempo Médio= %.3f segundos ---\" % (TIME))\n",
        "print(RUNS,'Rodadas') \n",
        "print()\n",
        "print('BEST: ',BEST)\n",
        "# print('melhor=',BEST_AGENTS[BEST_INDEX])"
      ],
      "execution_count": 25,
      "outputs": [
        {
          "output_type": "stream",
          "text": [
            "DE_POP_VAR_F_CR TOTAL= 100000 Iterações= 2000 Dim= 10 Min/Max= -10 / 10 _ Schwefel_222\n",
            "_ANN_Div3x4_Fo-0.5_CRo-0.5_D-10_Interv-2000 \n",
            "\n",
            "MÉDIA:  2.6507066108256324e-68\n",
            "MIN __: 8.231220035527631e-105\n",
            "MAX__:  1.0497721513360603e-66\n",
            "STD __: 1.496702252423338e-67\n",
            "Tempo Médio= 37.418 segundos ---\n",
            "50 Rodadas\n",
            "\n",
            "BEST:  [ 6.23945478e-106 -8.36997103e-106  7.52586594e-106  3.79329419e-106\n",
            " -6.86322070e-107 -4.50966894e-106  3.62854143e-106  2.11263451e-105\n",
            "  3.92880940e-106 -2.25039275e-105  8.23122004e-105]\n"
          ],
          "name": "stdout"
        }
      ]
    }
  ]
}
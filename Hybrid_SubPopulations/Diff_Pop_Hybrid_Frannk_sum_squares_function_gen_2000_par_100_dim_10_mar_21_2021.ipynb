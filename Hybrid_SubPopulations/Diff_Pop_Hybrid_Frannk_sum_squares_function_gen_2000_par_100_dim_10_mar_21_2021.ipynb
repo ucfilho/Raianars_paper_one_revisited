{
  "nbformat": 4,
  "nbformat_minor": 0,
  "metadata": {
    "colab": {
      "name": "Diff_Pop_Hybrid_Frannk_sum_squares_function_gen_2000_par_100_dim_10_mar_21_2021.ipynb",
      "provenance": [],
      "collapsed_sections": [],
      "include_colab_link": true
    },
    "kernelspec": {
      "display_name": "Python 3",
      "name": "python3"
    },
    "language_info": {
      "codemirror_mode": {
        "name": "ipython",
        "version": 3
      },
      "file_extension": ".py",
      "mimetype": "text/x-python",
      "name": "python",
      "nbconvert_exporter": "python",
      "pygments_lexer": "ipython3",
      "version": "3.7.3"
    }
  },
  "cells": [
    {
      "cell_type": "markdown",
      "metadata": {
        "id": "view-in-github",
        "colab_type": "text"
      },
      "source": [
        "<a href=\"https://colab.research.google.com/github/ucfilho/Raianars_paper_one_revisited/blob/main/Hybrid_SubPopulations/Diff_Pop_Hybrid_Frannk_sum_squares_function_gen_2000_par_100_dim_10_mar_21_2021.ipynb\" target=\"_parent\"><img src=\"https://colab.research.google.com/assets/colab-badge.svg\" alt=\"Open In Colab\"/></a>"
      ]
    },
    {
      "cell_type": "code",
      "metadata": {
        "colab": {
          "base_uri": "https://localhost:8080/"
        },
        "id": "c59cDVKoxDLX",
        "outputId": "09d79e06-a328-4334-f320-5fd8fd2fe224"
      },
      "source": [
        "############################### Importar códigos\n",
        "!git clone https://github.com/ucfilho/optim_raianars_Insight/ #clonar do Github\n",
        "%cd optim_raianars_Insight\n",
        "import de_soma_Insight\n",
        "import de_bounds_matriz\n",
        "import Go2Ann"
      ],
      "execution_count": 1,
      "outputs": [
        {
          "output_type": "stream",
          "text": [
            "Cloning into 'optim_raianars_Insight'...\n",
            "remote: Enumerating objects: 9, done.\u001b[K\n",
            "remote: Counting objects: 100% (9/9), done.\u001b[K\n",
            "remote: Compressing objects: 100% (9/9), done.\u001b[K\n",
            "remote: Total 323 (delta 3), reused 0 (delta 0), pack-reused 314\u001b[K\n",
            "Receiving objects: 100% (323/323), 312.84 KiB | 1.65 MiB/s, done.\n",
            "Resolving deltas: 100% (184/184), done.\n",
            "/content/optim_raianars_Insight\n"
          ],
          "name": "stdout"
        }
      ]
    },
    {
      "cell_type": "code",
      "metadata": {
        "id": "88sLduNFwZ9Y"
      },
      "source": [
        "# PSO 2016 \n",
        "#  Gen =1000,1500, 2000\n",
        "#  Npar= 20, 40, 80\n",
        "#  dim = 10,20,30\n",
        "# Dynamic parameter adaptation in particle swarm optimization\n",
        "#  using interval type-2 fuzzy logic -Soft Comput (2016) 20:1057–1070"
      ],
      "execution_count": 2,
      "outputs": []
    },
    {
      "cell_type": "code",
      "metadata": {
        "colab": {
          "base_uri": "https://localhost:8080/"
        },
        "id": "Va-6Xios8RjU",
        "outputId": "b0efd96d-0468-4ddf-b61d-e7c96e6735aa"
      },
      "source": [
        "!git clone https://github.com/ucfilho/Raianars_paper_One #clonar do Github\n",
        "%cd Raianars_paper_One"
      ],
      "execution_count": 3,
      "outputs": [
        {
          "output_type": "stream",
          "text": [
            "Cloning into 'Raianars_paper_One'...\n",
            "remote: Enumerating objects: 119, done.\u001b[K\n",
            "remote: Counting objects: 100% (119/119), done.\u001b[K\n",
            "remote: Compressing objects: 100% (119/119), done.\u001b[K\n",
            "remote: Total 248 (delta 64), reused 0 (delta 0), pack-reused 129\u001b[K\n",
            "Receiving objects: 100% (248/248), 654.97 KiB | 2.62 MiB/s, done.\n",
            "Resolving deltas: 100% (136/136), done.\n",
            "/content/optim_raianars_Insight/Raianars_paper_One\n"
          ],
          "name": "stdout"
        }
      ]
    },
    {
      "cell_type": "code",
      "metadata": {
        "id": "_E15mKFURR6O"
      },
      "source": [
        "#import Go2Ann\n",
        "#import de_soma_Insight\n",
        "#import de_bounds_matriz\n",
        "#import Function\n",
        "#import Go2MinMax\n",
        "from AvaliaX import AvaliaX\n",
        "#from Function import FUN\n",
        "#from Function import Function.FUN\n",
        "#from Function import Function.Fun\n",
        "#from Function import Function\n",
        "from GeraIndices import GeraIndices\n",
        "import numpy as np\n",
        "import time\n",
        "import matplotlib.pyplot as plt\n",
        "from random import randint\n",
        "from scipy import optimize\n",
        "import pandas as pd\n",
        "from sklearn.metrics import confusion_matrix\n",
        "\n",
        "############################### DADOS DE ENTRADA \n",
        "RUNS=50 #NÚMERO DE RODADAS\n",
        "Fc=0.1 # fator de correcao parametros da ANN\n",
        "its=1 #10 # quantas vezes vai usar o NPAR antes de alterar de novo\n",
        "ITE=2000 #10 # PONTOS quantas vezes vai alteral NPAR \n",
        "NPAR=100\n",
        "mut=0.5\n",
        "crossp=0.5\n",
        "Fi=mut;CRi=crossp;# para impressão\n",
        "fator = 2.0/3.0; \n",
        "mut2=0.5;crossp2=0.5;mut3=0.75;crossp3=0.25;mut4=0.25;crossp4=0.25;\n"
      ],
      "execution_count": 4,
      "outputs": []
    },
    {
      "cell_type": "code",
      "metadata": {
        "colab": {
          "base_uri": "https://localhost:8080/"
        },
        "id": "ik3ZjkUKycUK",
        "outputId": "22ebd912-111f-4c4f-ed6c-fd12e7005eb7"
      },
      "source": [
        "############################### Importar códigos\n",
        "!git clone https://github.com/ucfilho/optim_raianars_Insight/ #clonar do Github\n",
        "%cd optim_raianars_Insight\n",
        "import de_soma_Insight\n",
        "import de_bounds_matriz"
      ],
      "execution_count": 5,
      "outputs": [
        {
          "output_type": "stream",
          "text": [
            "Cloning into 'optim_raianars_Insight'...\n",
            "remote: Enumerating objects: 9, done.\u001b[K\n",
            "remote: Counting objects: 100% (9/9), done.\u001b[K\n",
            "remote: Compressing objects: 100% (9/9), done.\u001b[K\n",
            "remote: Total 323 (delta 3), reused 0 (delta 0), pack-reused 314\u001b[K\n",
            "Receiving objects: 100% (323/323), 312.84 KiB | 1.27 MiB/s, done.\n",
            "Resolving deltas: 100% (184/184), done.\n",
            "/content/optim_raianars_Insight/Raianars_paper_One/optim_raianars_Insight\n"
          ],
          "name": "stdout"
        }
      ]
    },
    {
      "cell_type": "code",
      "metadata": {
        "colab": {
          "base_uri": "https://localhost:8080/"
        },
        "id": "lJogRB30yepw",
        "outputId": "125ea74b-a8bd-4c41-de7d-e40ca2b5489f"
      },
      "source": [
        "#!git clone https://github.com/ucfilho/Raianars_paper_one_revisited/AddFunctions \n",
        "!git clone https://github.com/ucfilho/Raianars_Routines #clonar do Github\n",
        "%cd Raianars_Routines"
      ],
      "execution_count": 6,
      "outputs": [
        {
          "output_type": "stream",
          "text": [
            "Cloning into 'Raianars_Routines'...\n",
            "remote: Enumerating objects: 36, done.\u001b[K\n",
            "remote: Counting objects: 100% (36/36), done.\u001b[K\n",
            "remote: Compressing objects: 100% (34/34), done.\u001b[K\n",
            "remote: Total 36 (delta 10), reused 0 (delta 0), pack-reused 0\u001b[K\n",
            "Unpacking objects: 100% (36/36), done.\n",
            "/content/optim_raianars_Insight/Raianars_paper_One/optim_raianars_Insight/Raianars_Routines\n"
          ],
          "name": "stdout"
        }
      ]
    },
    {
      "cell_type": "code",
      "metadata": {
        "id": "P8LIRCsdywOX"
      },
      "source": [
        "############################### Função\n",
        "import FunctionsNew\n",
        "#'''  \n",
        "############################### Função\n",
        "dim=10 # \n",
        "fchoice='sum_squares_function'\n",
        "Fun=FunctionsNew.sum_squares_function\n",
        "MAX=np.repeat(10,dim)\n",
        "MIN=np.repeat(-10,dim)\n",
        " #fx=\n",
        "#'''\n",
        "#####################################\n",
        "PAR=len(MAX) #NUM DE PARAMETROS A SER OTIMIZADOS\n",
        "\n",
        "bounds=[]\n",
        "for k in range(len(MAX)):\n",
        "  bounds.append((MIN[k],MAX[k]))"
      ],
      "execution_count": 7,
      "outputs": []
    },
    {
      "cell_type": "code",
      "metadata": {
        "colab": {
          "base_uri": "https://localhost:8080/"
        },
        "id": "QfCTvdZm5Luv",
        "outputId": "983fa677-c411-447b-866c-9363f95ccadc"
      },
      "source": [
        "!ls"
      ],
      "execution_count": 8,
      "outputs": [
        {
          "output_type": "stream",
          "text": [
            "FunctionsNew.py  __pycache__  README.md\n"
          ],
          "name": "stdout"
        }
      ]
    },
    {
      "cell_type": "code",
      "metadata": {
        "colab": {
          "base_uri": "https://localhost:8080/"
        },
        "id": "qTINtQ1cosZK",
        "outputId": "9c41b319-3ca5-47f8-f3a2-3795ec1e4ca9"
      },
      "source": [
        "!git clone https://github.com/ucfilho/ANN_read_matrix #clonar do Github\n",
        "%cd ANN_read_matrix"
      ],
      "execution_count": 9,
      "outputs": [
        {
          "output_type": "stream",
          "text": [
            "Cloning into 'ANN_read_matrix'...\n",
            "remote: Enumerating objects: 20, done.\u001b[K\n",
            "remote: Counting objects: 100% (20/20), done.\u001b[K\n",
            "remote: Compressing objects: 100% (18/18), done.\u001b[K\n",
            "remote: Total 20 (delta 5), reused 0 (delta 0), pack-reused 0\u001b[K\n",
            "Unpacking objects: 100% (20/20), done.\n",
            "/content/optim_raianars_Insight/Raianars_paper_One/optim_raianars_Insight/Raianars_Routines/ANN_read_matrix\n"
          ],
          "name": "stdout"
        }
      ]
    },
    {
      "cell_type": "code",
      "metadata": {
        "id": "QiQLYOoNoyCw"
      },
      "source": [
        "ANN_F=pd.read_csv('ANN_INSIGHT_Valor_F.csv')"
      ],
      "execution_count": 10,
      "outputs": []
    },
    {
      "cell_type": "code",
      "metadata": {
        "id": "uHtW2amaDzFv"
      },
      "source": [
        "ANN_CR=pd.read_csv('ANN_INSIGHT_CR.csv')"
      ],
      "execution_count": 11,
      "outputs": []
    },
    {
      "cell_type": "code",
      "metadata": {
        "id": "EH6h_vke2yu1"
      },
      "source": [
        "syn0_F,syn1_F,X_max_F,X_min_F=Go2Ann.GetMatriz(ANN_F)"
      ],
      "execution_count": 12,
      "outputs": []
    },
    {
      "cell_type": "code",
      "metadata": {
        "id": "WW_3ZWJXD60i"
      },
      "source": [
        "syn0_CR,syn1_CR,X_max_CR,X_min_CR=Go2Ann.GetMatriz(ANN_CR)"
      ],
      "execution_count": 13,
      "outputs": []
    },
    {
      "cell_type": "code",
      "metadata": {
        "id": "b4gwBvVTyaXh"
      },
      "source": [
        "ANN_CR=pd.read_csv('ANN_INSIGHT_CR.csv')"
      ],
      "execution_count": 14,
      "outputs": []
    },
    {
      "cell_type": "code",
      "metadata": {
        "id": "6jL8MxpHvk-Y"
      },
      "source": [
        "fields = ['DI RELATIVO','FRAC Its','Fo','CRo']"
      ],
      "execution_count": 15,
      "outputs": []
    },
    {
      "cell_type": "code",
      "metadata": {
        "colab": {
          "base_uri": "https://localhost:8080/"
        },
        "id": "Mb3LmbSmj9v7",
        "outputId": "47af324d-5b59-40eb-e6b2-2e180b0aa919"
      },
      "source": [
        "##################################### \n",
        "\n",
        "TOTAL=10*dim*its*ITE\n",
        "TOTAL=int(TOTAL/2)   # CONFERIR SE ESTE EH O MELHOR LUGAR\n",
        "\n",
        "dimensions=len(MAX)\n",
        "start_time = time.time() #INICIALIZA CONTAGEM DO TEMPO\n",
        "\n",
        "\n",
        "PAR=dim\n",
        "fobj=Fun\n",
        "\n",
        "MAX_P=np.zeros(ITE) # ATENCAO para variar F e Cr MAX_P passa a ser 3 vezes maior\n",
        "MIN_P=np.zeros(ITE) # ATENCAO para variar F e Cr MIN_P passa a ser 3 vezes maior\n",
        "\n",
        "for i in range(dim):\n",
        "  MAX_P[i]=MAX[i] \n",
        "  MIN_P[i]=MIN[i]\n",
        "\n",
        "rodadas=1\n",
        "NPAR1=int(fator*NPAR);\n",
        "NPAR2=int((NPAR1)/3);\n",
        "NPAR3=int((NPAR1)/3);\n",
        "NPAR4=int((NPAR1)/3);\n",
        "\n",
        "NPAR1 = NPAR-NPAR2-NPAR3-NPAR4\n",
        "print('Npar1=',NPAR1);print('frac=',fator)\n",
        "print('Npar2=',NPAR2);\n",
        "print('Npar3=',NPAR3);\n",
        "print('Npar4=',NPAR4);\n",
        "print('Npar=',NPAR)\n",
        "\n",
        "cols=dim\n",
        "\n",
        "X1=np.zeros((NPAR1,cols)) # X1 is Frannk population\n",
        "for i in range(NPAR1):\n",
        "  for j in range(cols):\n",
        "    r=np.random.random()\n",
        "    X1[i,j]=r*(MAX[j]-MIN[j])+MIN[j]\n",
        "    \n",
        "X2=np.zeros((NPAR2,cols)) # X2 is population DE (default DE)\n",
        "for i in range(NPAR2):\n",
        "  for j in range(cols):\n",
        "    r=np.random.random()\n",
        "    X2[i,j]=r*(MAX[j]-MIN[j])+MIN[j]\n",
        "\n",
        "X3=np.zeros((NPAR3,cols)) # X1 is Frannk population\n",
        "for i in range(NPAR3):\n",
        "  for j in range(cols):\n",
        "    r=np.random.random()\n",
        "    X3[i,j]=r*(MAX[j]-MIN[j])+MIN[j]\n",
        "    \n",
        "X4=np.zeros((NPAR4,cols)) # X2 is population DE (default DE)\n",
        "for i in range(NPAR4):\n",
        "  for j in range(cols):\n",
        "    r=np.random.random()\n",
        "    X4[i,j]=r*(MAX[j]-MIN[j])+MIN[j]"
      ],
      "execution_count": 16,
      "outputs": [
        {
          "output_type": "stream",
          "text": [
            "Npar1= 34\n",
            "frac= 0.6666666666666666\n",
            "Npar2= 22\n",
            "Npar3= 22\n",
            "Npar4= 22\n",
            "Npar= 100\n"
          ],
          "name": "stdout"
        }
      ]
    },
    {
      "cell_type": "code",
      "metadata": {
        "colab": {
          "base_uri": "https://localhost:8080/"
        },
        "id": "rnX8ttNopd1G",
        "outputId": "4ff162b7-a62e-41c1-8f44-fac825cf68af"
      },
      "source": [
        "\n",
        "start_time = time.time()\n",
        "BEST_AGENTS=[]\n",
        "MAT_stat=[]\n",
        "for iii in range(RUNS):\n",
        "    MAT=[] \n",
        "    mut=Fi\n",
        "    crossp=CRi\n",
        "    SOMA=0\n",
        "    pop = np.random.rand(NPAR, dim)\n",
        "    diff=np.zeros(PAR)\n",
        "    X1=np.zeros((NPAR1,cols)) # X1 is Frannk population\n",
        "    for i in range(NPAR1):\n",
        "      for j in range(cols):\n",
        "        r=np.random.random()\n",
        "        X1[i,j]=r*(MAX[j]-MIN[j])+MIN[j]\n",
        "        \n",
        "    X2=np.zeros((NPAR2,cols)) # X2 is population DE (default DE)\n",
        "    for i in range(NPAR2):\n",
        "      for j in range(cols):\n",
        "        r=np.random.random()\n",
        "        X2[i,j]=r*(MAX[j]-MIN[j])+MIN[j]\n",
        "\n",
        "    X3=np.zeros((NPAR3,cols)) # X2 is population DE (default DE)\n",
        "    for i in range(NPAR3):\n",
        "      for j in range(cols):\n",
        "        r=np.random.random()\n",
        "        X3[i,j]=r*(MAX[j]-MIN[j])+MIN[j]\n",
        "\n",
        "    X4=np.zeros((NPAR4,cols)) # X2 is population DE (default DE)\n",
        "    for i in range(NPAR4):\n",
        "      for j in range(cols):\n",
        "        r=np.random.random()\n",
        "        X4[i,j]=r*(MAX[j]-MIN[j])+MIN[j]\n",
        "\n",
        "    DIo=1e99\n",
        "  \n",
        "    CRo=crossp;Fo=mut;\n",
        "    Fitness = np.asarray([Fun(ind) for ind in X1])\n",
        "    XY,BEST_XY,BESTo,FOBESTo=AvaliaX(X1,Fitness)\n",
        "    nrow,ncol=X1.shape\n",
        "\n",
        "    QUANT=17;MAT_INDo=np.zeros((1,QUANT)); # quantos indices esta fazendo\n",
        "    MAT_INDo[0,5]=nrow  # VALOR NP\n",
        "    MAT_INDo[0,6]=Fo    # VALOR Fo   \n",
        "    MAT_INDo[0,7]=CRo   # VALOR CRo\n",
        "  \n",
        "    MAT_INDo=GeraIndices(X1,BESTo,FOBESTo,DIo,MAT_INDo,SOMA,TOTAL,syn0_F,\n",
        "                        syn1_F,X_max_F,X_min_F,syn0_CR,syn1_CR,X_max_CR,\n",
        "                        X_min_CR,Fc,fields,Fun)\n",
        "  \n",
        "    DIo=np.copy(MAT_INDo[0,0])\n",
        "    MAT_INDo[0,15]=Fo    # VALOR Fo   \n",
        "    MAT_INDo[0,16]=CRo   # VALOR CRo\n",
        "    #ind_crossp=ITE-1\n",
        "    \n",
        "\n",
        "    \n",
        "    for k in range(ITE):\n",
        "\n",
        "      X2,BEST2,FOBEST,XY,BEST_XY=de_bounds_matriz.de(bounds, mut2, crossp2,NPAR2, its,fobj,X2)\n",
        "      X3,BEST3,FOBEST,XY,BEST_XY=de_bounds_matriz.de(bounds, mut3, crossp3,NPAR3, its,fobj,X3)\n",
        "      X4,BEST4,FOBEST,XY,BEST_XY=de_bounds_matriz.de(bounds, mut4, crossp4,NPAR4, its,fobj,X4)\n",
        "      \n",
        "      X1,BEST1,FOBEST,XY,BEST_XY,SOMA= de_soma_Insight.de(MAX,MIN, mut, crossp,NPAR1,its,Fun,X1,SOMA,TOTAL)\n",
        "\n",
        "      MAT_IND=GeraIndices(X1,BESTo,FOBESTo,DIo,MAT_INDo,SOMA,TOTAL,syn0_F,\n",
        "                          syn1_F,X_max_F,X_min_F,syn0_CR,syn1_CR,X_max_CR,\n",
        "                          X_min_CR,Fc,fields,Fun)\n",
        "    \n",
        "      BESTo=np.copy(BEST1);FOBESTo=np.copy(FOBEST);\n",
        "      MAT.append(MAT_IND.ravel())\n",
        "    \n",
        "      MAT_INDo[0,6]=MAT_IND[0,15]   # VALOR Fo   \n",
        "      MAT_INDo[0,7]=MAT_IND[0,16]   # VALOR CRo\n",
        "      mut=MAT_IND[0,15]\n",
        "      crossp=MAT_IND[0,16]\n",
        "      X1[0,:] = BEST2;X1[1,:] = BEST3; X1[2,:] = BEST4;X1[NPAR1-1,:] = BEST1;\n",
        "      X2[0,:] = BEST1;X2[1,:] = BEST3;X2[2,:] = BEST4;X2[NPAR2-1,:] = BEST2;\n",
        "      X3[0,:] = BEST1;X3[1,:] = BEST2;X3[2,:] = BEST4;X3[NPAR3-1,:] = BEST3;\n",
        "      X4[0,:] = BEST1;X4[1,:] = BEST2;X4[2,:] = BEST3;X4[NPAR4-1,:] = BEST4;\n",
        "    print('k=',iii,'time=',(time.time()-start_time)/60)  \n",
        "    BEST_AGENTS.append(BEST_XY)\n",
        "    MAT_stat.append(MAT)\n",
        "    #print(\"GlobalParam e Solucao:\", BEST,\"Funcao=\",FOBEST)\n",
        "    \n",
        "############################## Cálculo dos Parâmetros de Avaliação   \n",
        "TIME = (time.time() - start_time)/RUNS\n",
        "BEST_AGENTS=np.array(BEST_AGENTS)\n",
        "BEST_AGENTS_ST= BEST_AGENTS[BEST_AGENTS[:,-1].argsort()]\n",
        "BEST=BEST_AGENTS_ST[0]\n",
        "WORSE=BEST_AGENTS_ST[-1]\n",
        "MEAN=np.mean(BEST_AGENTS,axis=0)\n",
        "MAXFO=BEST_AGENTS[:,-1].max()\n",
        "MINFO=BEST_AGENTS[:,-1].min()\n",
        "STD=BEST_AGENTS[:,-1].std()"
      ],
      "execution_count": 17,
      "outputs": [
        {
          "output_type": "stream",
          "text": [
            "k= 0 time= 0.626320501168569\n",
            "k= 1 time= 1.2486475904782612\n",
            "k= 2 time= 1.874167013168335\n",
            "k= 3 time= 2.5004014492034914\n",
            "k= 4 time= 3.1232800324757894\n",
            "k= 5 time= 3.745770545800527\n",
            "k= 6 time= 4.370450556278229\n",
            "k= 7 time= 4.993116740385691\n",
            "k= 8 time= 5.6158562183380125\n",
            "k= 9 time= 6.241431709130605\n",
            "k= 10 time= 6.8660069306691485\n",
            "k= 11 time= 7.4894453684488935\n",
            "k= 12 time= 8.11352199713389\n",
            "k= 13 time= 8.737709244092306\n",
            "k= 14 time= 9.362122106552125\n",
            "k= 15 time= 9.986584544181824\n",
            "k= 16 time= 10.610633846124014\n",
            "k= 17 time= 11.232319740454356\n",
            "k= 18 time= 11.85504247347514\n",
            "k= 19 time= 12.479757857322692\n",
            "k= 20 time= 13.103690230846405\n",
            "k= 21 time= 13.727557464440663\n",
            "k= 22 time= 14.350122038523356\n",
            "k= 23 time= 14.972952115535737\n",
            "k= 24 time= 15.596039891242981\n",
            "k= 25 time= 16.218426791826882\n",
            "k= 26 time= 16.84006122748057\n",
            "k= 27 time= 17.46365112066269\n",
            "k= 28 time= 18.08783147732417\n",
            "k= 29 time= 18.70900289217631\n",
            "k= 30 time= 19.331200643380484\n",
            "k= 31 time= 19.951737491289773\n",
            "k= 32 time= 20.57502847512563\n",
            "k= 33 time= 21.197639258702598\n",
            "k= 34 time= 21.819229412078858\n",
            "k= 35 time= 22.443161551157633\n",
            "k= 36 time= 23.066412870089213\n",
            "k= 37 time= 23.688572144508363\n",
            "k= 38 time= 24.31196920077006\n",
            "k= 39 time= 24.934380741914115\n",
            "k= 40 time= 25.558306340376536\n",
            "k= 41 time= 26.178826999664306\n",
            "k= 42 time= 26.800122276941934\n",
            "k= 43 time= 27.42261546055476\n",
            "k= 44 time= 28.04854331413905\n",
            "k= 45 time= 28.67166414260864\n",
            "k= 46 time= 29.293929600715636\n",
            "k= 47 time= 29.91558181444804\n",
            "k= 48 time= 30.538111996650695\n",
            "k= 49 time= 31.160448582967124\n"
          ],
          "name": "stdout"
        }
      ]
    },
    {
      "cell_type": "code",
      "metadata": {
        "id": "hPpkYEjBtKLU",
        "colab": {
          "base_uri": "https://localhost:8080/"
        },
        "outputId": "f06511bb-f12c-4d62-dcac-43127299ae69"
      },
      "source": [
        "X1.shape"
      ],
      "execution_count": 18,
      "outputs": [
        {
          "output_type": "execute_result",
          "data": {
            "text/plain": [
              "(34, 10)"
            ]
          },
          "metadata": {
            "tags": []
          },
          "execution_count": 18
        }
      ]
    },
    {
      "cell_type": "code",
      "metadata": {
        "id": "TLEE0UrZSvJF",
        "colab": {
          "base_uri": "https://localhost:8080/"
        },
        "outputId": "4545b814-b858-4f86-ccae-34231a61bd62"
      },
      "source": [
        "#len(X2[1,:])\n",
        "print(cols)"
      ],
      "execution_count": 19,
      "outputs": [
        {
          "output_type": "stream",
          "text": [
            "10\n"
          ],
          "name": "stdout"
        }
      ]
    },
    {
      "cell_type": "code",
      "metadata": {
        "id": "k3p9TGsx1OCu"
      },
      "source": [
        "NOMES=['DIVERSIDADE (DI)',  'DI RELATIVO','FRAC Its',\n",
        "           'VELOC FOBJ','VELOC X','NP','Fo','CRo','fmin','fmax',\n",
        "           'AD_fmin','AD_fmax','DELTA FOBJ','DELTA VX','r_fitness',\n",
        "           'F','CR']\n",
        "# BEST_INDEX= BEST_AGENTS[BEST_AGENTS[:,-1].argmin()]  \n",
        "BEST_INDEX = np.argmin(BEST_AGENTS[:,-1])\n",
        "df=pd.DataFrame(MAT_stat[BEST_INDEX], columns=NOMES)\n",
        "\n"
      ],
      "execution_count": 20,
      "outputs": []
    },
    {
      "cell_type": "code",
      "metadata": {
        "id": "jIHiKR_t1xxs",
        "colab": {
          "base_uri": "https://localhost:8080/"
        },
        "outputId": "f05a862f-ea5f-41d7-e3a2-cdb51664c33d"
      },
      "source": [
        "pd.set_option('display.max_columns', 30)  \n",
        "print(df)"
      ],
      "execution_count": 21,
      "outputs": [
        {
          "output_type": "stream",
          "text": [
            "      DIVERSIDADE (DI)   DI RELATIVO  FRAC Its  VELOC FOBJ  VELOC X    NP  \\\n",
            "0         1.680549e+01  9.576425e-01   0.00034         1.0      2.0  34.0   \n",
            "1         1.558501e+01  8.880947e-01   0.00068         1.0      2.0  34.0   \n",
            "2         1.433396e+01  8.168050e-01   0.00102         0.0      0.0  34.0   \n",
            "3         1.367747e+01  7.793958e-01   0.00136         0.0      0.0  34.0   \n",
            "4         1.239866e+01  7.065238e-01   0.00170         1.0      2.0  34.0   \n",
            "...                ...           ...       ...         ...      ...   ...   \n",
            "1995      4.735782e-62  2.698634e-63   0.67864         0.0      0.0  34.0   \n",
            "1996      4.603248e-62  2.623111e-63   0.67898         1.0      1.0  34.0   \n",
            "1997      4.525611e-62  2.578870e-63   0.67932         0.0      0.0  34.0   \n",
            "1998      4.431727e-62  2.525371e-63   0.67966         1.0      1.0  34.0   \n",
            "1999      4.237820e-62  2.414875e-63   0.68000         0.0      0.0  34.0   \n",
            "\n",
            "            Fo       CRo           fmin           fmax  AD_fmin  AD_fmax  \\\n",
            "0     0.500000  0.500000   4.982830e+02   2.887637e+03      1.0      1.0   \n",
            "1     0.260589  0.340393   2.729913e+02   2.303446e+03      1.0      1.0   \n",
            "2     0.434160  0.239626   2.729913e+02   2.291765e+03      1.0      1.0   \n",
            "3     0.256848  0.174383   2.729913e+02   1.991670e+03      1.0      1.0   \n",
            "4     0.406988  0.242340   1.908572e+02   1.772228e+03      1.0      1.0   \n",
            "...        ...       ...            ...            ...      ...      ...   \n",
            "1995  0.336337  0.139216  1.980510e-179  1.199056e-121      1.0      1.0   \n",
            "1996  0.336337  0.139216  1.475165e-179  1.195239e-121      1.0      1.0   \n",
            "1997  0.336337  0.139216  1.475165e-179  1.195239e-121      1.0      1.0   \n",
            "1998  0.336337  0.139216  1.125873e-179  1.191796e-121      1.0      1.0   \n",
            "1999  0.336337  0.139216  1.125873e-179  1.191796e-121      1.0      1.0   \n",
            "\n",
            "      DELTA FOBJ  DELTA VX  r_fitness         F        CR  \n",
            "0            0.0       0.0   0.827443  0.260589  0.340393  \n",
            "1            0.0       0.0   0.881486  0.434160  0.239626  \n",
            "2            0.0       0.0   0.880882  0.256848  0.174383  \n",
            "3            0.0       0.0   0.862933  0.406988  0.242340  \n",
            "4            0.0       0.0   0.892307  0.622648  0.185267  \n",
            "...          ...       ...        ...       ...       ...  \n",
            "1995         0.0       0.0   1.000000  0.336337  0.139216  \n",
            "1996         0.0       0.0   1.000000  0.336337  0.139216  \n",
            "1997         0.0       0.0   1.000000  0.336337  0.139216  \n",
            "1998         0.0       0.0   1.000000  0.336337  0.139216  \n",
            "1999         0.0       0.0   1.000000  0.336337  0.139216  \n",
            "\n",
            "[2000 rows x 17 columns]\n"
          ],
          "name": "stdout"
        }
      ]
    },
    {
      "cell_type": "code",
      "metadata": {
        "id": "bx0ywpMtAAjw",
        "colab": {
          "base_uri": "https://localhost:8080/",
          "height": 299
        },
        "outputId": "08676315-6b54-49f2-c5be-b2c0259b5595"
      },
      "source": [
        "plt.plot(df['FRAC Its'],df['CR'])\n",
        "plt.xlabel('Iteração/Total')\n",
        "plt.ylabel('CR')"
      ],
      "execution_count": 22,
      "outputs": [
        {
          "output_type": "execute_result",
          "data": {
            "text/plain": [
              "Text(0, 0.5, 'CR')"
            ]
          },
          "metadata": {
            "tags": []
          },
          "execution_count": 22
        },
        {
          "output_type": "display_data",
          "data": {
            "image/png": "[encoded data removed]",
            "text/plain": [
              "<Figure size 432x288 with 1 Axes>"
            ]
          },
          "metadata": {
            "tags": [],
            "needs_background": "light"
          }
        }
      ]
    },
    {
      "cell_type": "code",
      "metadata": {
        "id": "BvPFvbDvteDC",
        "colab": {
          "base_uri": "https://localhost:8080/",
          "height": 295
        },
        "outputId": "aadfcfaa-7c40-4d3b-93b9-14d0e0ffe8ea"
      },
      "source": [
        "\n",
        "fig, ax = plt.subplots()\n",
        "ax.plot(df['FRAC Its'],df['F'],label='F')\n",
        "ax.set_xlabel('Iteração/Total')\n",
        "ax.set_ylabel('Parâmetros')\n",
        "ax.plot(df['FRAC Its'],df['CR'],'-r', label='CR')\n",
        "nome=Fun.__name__+'  M=Diversidade'+ '  D='+str(dim)\n",
        "ax.set_title(nome)\n",
        "leg = ax.legend()\n"
      ],
      "execution_count": 23,
      "outputs": [
        {
          "output_type": "display_data",
          "data": {
            "image/png": "[encoded data removed]",
            "text/plain": [
              "<Figure size 432x288 with 1 Axes>"
            ]
          },
          "metadata": {
            "tags": [],
            "needs_background": "light"
          }
        }
      ]
    },
    {
      "cell_type": "code",
      "metadata": {
        "id": "htooaGpDia_0",
        "colab": {
          "base_uri": "https://localhost:8080/",
          "height": 313
        },
        "outputId": "e6e81f4b-b7a6-4008-8665-ea6ccd27624e"
      },
      "source": [
        "f, axarr = plt.subplots(2, sharex=True)\n",
        "axarr[0].plot(df['FRAC Its'],df['F'])\n",
        "axarr[0].set_ylabel('F')\n",
        "axarr[1].plot(df['FRAC Its'],df['CR'])\n",
        "axarr[1].set_ylabel('CR')\n",
        "axarr[1].set_xlabel('Iteração/Total')\n",
        "nome=Fun.__name__+'_Diversidade_'+ 'D='+str(dim)\n",
        "axarr[0].set_title(nome)\n"
      ],
      "execution_count": 24,
      "outputs": [
        {
          "output_type": "execute_result",
          "data": {
            "text/plain": [
              "Text(0.5, 1.0, 'sum_squares_function_Diversidade_D=10')"
            ]
          },
          "metadata": {
            "tags": []
          },
          "execution_count": 24
        },
        {
          "output_type": "display_data",
          "data": {
            "image/png": "[encoded data removed]",
            "text/plain": [
              "<Figure size 432x288 with 2 Axes>"
            ]
          },
          "metadata": {
            "tags": [],
            "needs_background": "light"
          }
        }
      ]
    },
    {
      "cell_type": "code",
      "metadata": {
        "id": "lNSN5X-wskcx",
        "colab": {
          "base_uri": "https://localhost:8080/"
        },
        "outputId": "49ebb454-4980-4cec-e8ec-eaa34e6d287f"
      },
      "source": [
        "nome='_ANN_Div3x4_Fo-'+str(Fi)+'_CRo-'+str(CRi)+'_D-'+str(dim)+'_Interv-'+str(ITE)\n",
        "print('DE_POP_VAR_F_CR','TOTAL=',TOTAL,'Iterações=',ITE*its,'Dim=', PAR,\"Min/Max=\",MIN[0],\"/\",MAX[0],'_',Fun.__name__)\n",
        "print(nome, '\\n')\n",
        "#print('BEST: ',BEST)\n",
        "#print('MÉDIA: ',MEAN)\n",
        "print('MÉDIA: ',MEAN[-1])\n",
        "print('MIN __:',MINFO)\n",
        "print('MAX__: ',MAXFO)\n",
        "print('STD __:',STD)\n",
        "print(\"Tempo Médio= %.3f segundos ---\" % (TIME))\n",
        "print(RUNS,'Rodadas') \n",
        "print()\n",
        "print('BEST: ',BEST)\n",
        "# print('melhor=',BEST_AGENTS[BEST_INDEX])"
      ],
      "execution_count": 25,
      "outputs": [
        {
          "output_type": "stream",
          "text": [
            "DE_POP_VAR_F_CR TOTAL= 100000 Iterações= 2000 Dim= 10 Min/Max= -10 / 10 _ sum_squares_function\n",
            "_ANN_Div3x4_Fo-0.5_CRo-0.5_D-10_Interv-2000 \n",
            "\n",
            "MÉDIA:  8.52743841156308e-170\n",
            "MIN __: 1.1258727847828953e-179\n",
            "MAX__:  3.582028122837597e-168\n",
            "STD __: 0.0\n",
            "Tempo Médio= 37.393 segundos ---\n",
            "50 Rodadas\n",
            "\n",
            "BEST:  [ 4.04665560e-091  5.94693834e-091 -5.19786943e-091 -6.97185189e-091\n",
            "  1.85092502e-091 -7.10956988e-092  4.84357670e-092 -2.44072947e-091\n",
            "  2.07115930e-091 -8.09453898e-091  1.12587278e-179]\n"
          ],
          "name": "stdout"
        }
      ]
    }
  ]
}
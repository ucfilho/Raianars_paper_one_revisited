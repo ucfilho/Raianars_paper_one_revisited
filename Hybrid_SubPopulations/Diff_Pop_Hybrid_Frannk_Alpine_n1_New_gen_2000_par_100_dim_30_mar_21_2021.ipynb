{
  "nbformat": 4,
  "nbformat_minor": 0,
  "metadata": {
    "colab": {
      "name": "Diff_Pop_Hybrid_Frannk_Alpine_n1_New_gen_2000_par_100_dim_30_mar_21_2021.ipynb",
      "provenance": [],
      "collapsed_sections": [],
      "include_colab_link": true
    },
    "kernelspec": {
      "display_name": "Python 3",
      "name": "python3"
    },
    "language_info": {
      "codemirror_mode": {
        "name": "ipython",
        "version": 3
      },
      "file_extension": ".py",
      "mimetype": "text/x-python",
      "name": "python",
      "nbconvert_exporter": "python",
      "pygments_lexer": "ipython3",
      "version": "3.7.3"
    }
  },
  "cells": [
    {
      "cell_type": "markdown",
      "metadata": {
        "id": "view-in-github",
        "colab_type": "text"
      },
      "source": [
        "<a href=\"https://colab.research.google.com/github/ucfilho/Raianars_paper_one_revisited/blob/main/Hybrid_SubPopulations/Diff_Pop_Hybrid_Frannk_Alpine_n1_New_gen_2000_par_100_dim_30_mar_21_2021.ipynb\" target=\"_parent\"><img src=\"https://colab.research.google.com/assets/colab-badge.svg\" alt=\"Open In Colab\"/></a>"
      ]
    },
    {
      "cell_type": "code",
      "metadata": {
        "colab": {
          "base_uri": "https://localhost:8080/"
        },
        "id": "c59cDVKoxDLX",
        "outputId": "b20cc6ec-4a81-4019-8f4d-8139007b00eb"
      },
      "source": [
        "############################### Importar códigos\n",
        "!git clone https://github.com/ucfilho/optim_raianars_Insight/ #clonar do Github\n",
        "%cd optim_raianars_Insight\n",
        "import de_soma_Insight\n",
        "import de_bounds_matriz\n",
        "import Go2Ann"
      ],
      "execution_count": 1,
      "outputs": [
        {
          "output_type": "stream",
          "text": [
            "Cloning into 'optim_raianars_Insight'...\n",
            "remote: Enumerating objects: 9, done.\u001b[K\n",
            "remote: Counting objects: 100% (9/9), done.\u001b[K\n",
            "remote: Compressing objects: 100% (9/9), done.\u001b[K\n",
            "remote: Total 323 (delta 3), reused 0 (delta 0), pack-reused 314\u001b[K\n",
            "Receiving objects: 100% (323/323), 312.84 KiB | 19.55 MiB/s, done.\n",
            "Resolving deltas: 100% (184/184), done.\n",
            "/content/optim_raianars_Insight\n"
          ],
          "name": "stdout"
        }
      ]
    },
    {
      "cell_type": "code",
      "metadata": {
        "id": "88sLduNFwZ9Y"
      },
      "source": [
        "# PSO 2016 \n",
        "#  Gen =1000,1500, 2000\n",
        "#  Npar= 20, 40, 80\n",
        "#  dim = 10,20,30\n",
        "# Dynamic parameter adaptation in particle swarm optimization\n",
        "#  using interval type-2 fuzzy logic -Soft Comput (2016) 20:1057–1070"
      ],
      "execution_count": 2,
      "outputs": []
    },
    {
      "cell_type": "code",
      "metadata": {
        "colab": {
          "base_uri": "https://localhost:8080/"
        },
        "id": "Va-6Xios8RjU",
        "outputId": "fa05976b-e3a7-4386-99fa-b497cbef0759"
      },
      "source": [
        "!git clone https://github.com/ucfilho/Raianars_paper_One #clonar do Github\n",
        "%cd Raianars_paper_One"
      ],
      "execution_count": 3,
      "outputs": [
        {
          "output_type": "stream",
          "text": [
            "Cloning into 'Raianars_paper_One'...\n",
            "remote: Enumerating objects: 119, done.\u001b[K\n",
            "remote: Counting objects:   0% (1/119)\u001b[K\rremote: Counting objects:   1% (2/119)\u001b[K\rremote: Counting objects:   2% (3/119)\u001b[K\rremote: Counting objects:   3% (4/119)\u001b[K\rremote: Counting objects:   4% (5/119)\u001b[K\rremote: Counting objects:   5% (6/119)\u001b[K\rremote: Counting objects:   6% (8/119)\u001b[K\rremote: Counting objects:   7% (9/119)\u001b[K\rremote: Counting objects:   8% (10/119)\u001b[K\rremote: Counting objects:   9% (11/119)\u001b[K\rremote: Counting objects:  10% (12/119)\u001b[K\rremote: Counting objects:  11% (14/119)\u001b[K\rremote: Counting objects:  12% (15/119)\u001b[K\rremote: Counting objects:  13% (16/119)\u001b[K\rremote: Counting objects:  14% (17/119)\u001b[K\rremote: Counting objects:  15% (18/119)\u001b[K\rremote: Counting objects:  16% (20/119)\u001b[K\rremote: Counting objects:  17% (21/119)\u001b[K\rremote: Counting objects:  18% (22/119)\u001b[K\rremote: Counting objects:  19% (23/119)\u001b[K\rremote: Counting objects:  20% (24/119)\u001b[K\rremote: Counting objects:  21% (25/119)\u001b[K\rremote: Counting objects:  22% (27/119)\u001b[K\rremote: Counting objects:  23% (28/119)\u001b[K\rremote: Counting objects:  24% (29/119)\u001b[K\rremote: Counting objects:  25% (30/119)\u001b[K\rremote: Counting objects:  26% (31/119)\u001b[K\rremote: Counting objects:  27% (33/119)\u001b[K\rremote: Counting objects:  28% (34/119)\u001b[K\rremote: Counting objects:  29% (35/119)\u001b[K\rremote: Counting objects:  30% (36/119)\u001b[K\rremote: Counting objects:  31% (37/119)\u001b[K\rremote: Counting objects:  32% (39/119)\u001b[K\rremote: Counting objects:  33% (40/119)\u001b[K\rremote: Counting objects:  34% (41/119)\u001b[K\rremote: Counting objects:  35% (42/119)\u001b[K\rremote: Counting objects:  36% (43/119)\u001b[K\rremote: Counting objects:  37% (45/119)\u001b[K\rremote: Counting objects:  38% (46/119)\u001b[K\rremote: Counting objects:  39% (47/119)\u001b[K\rremote: Counting objects:  40% (48/119)\u001b[K\rremote: Counting objects:  41% (49/119)\u001b[K\rremote: Counting objects:  42% (50/119)\u001b[K\rremote: Counting objects:  43% (52/119)\u001b[K\rremote: Counting objects:  44% (53/119)\u001b[K\rremote: Counting objects:  45% (54/119)\u001b[K\rremote: Counting objects:  46% (55/119)\u001b[K\rremote: Counting objects:  47% (56/119)\u001b[K\rremote: Counting objects:  48% (58/119)\u001b[K\rremote: Counting objects:  49% (59/119)\u001b[K\rremote: Counting objects:  50% (60/119)\u001b[K\rremote: Counting objects:  51% (61/119)\u001b[K\rremote: Counting objects:  52% (62/119)\u001b[K\rremote: Counting objects:  53% (64/119)\u001b[K\rremote: Counting objects:  54% (65/119)\u001b[K\rremote: Counting objects:  55% (66/119)\u001b[K\rremote: Counting objects:  56% (67/119)\u001b[K\rremote: Counting objects:  57% (68/119)\u001b[K\rremote: Counting objects:  58% (70/119)\u001b[K\rremote: Counting objects:  59% (71/119)\u001b[K\rremote: Counting objects:  60% (72/119)\u001b[K\rremote: Counting objects:  61% (73/119)\u001b[K\rremote: Counting objects:  62% (74/119)\u001b[K\rremote: Counting objects:  63% (75/119)\u001b[K\rremote: Counting objects:  64% (77/119)\u001b[K\rremote: Counting objects:  65% (78/119)\u001b[K\rremote: Counting objects:  66% (79/119)\u001b[K\rremote: Counting objects:  67% (80/119)\u001b[K\rremote: Counting objects:  68% (81/119)\u001b[K\rremote: Counting objects:  69% (83/119)\u001b[K\rremote: Counting objects:  70% (84/119)\u001b[K\rremote: Counting objects:  71% (85/119)\u001b[K\rremote: Counting objects:  72% (86/119)\u001b[K\rremote: Counting objects:  73% (87/119)\u001b[K\rremote: Counting objects:  74% (89/119)\u001b[K\rremote: Counting objects:  75% (90/119)\u001b[K\rremote: Counting objects:  76% (91/119)\u001b[K\rremote: Counting objects:  77% (92/119)\u001b[K\rremote: Counting objects:  78% (93/119)\u001b[K\rremote: Counting objects:  79% (95/119)\u001b[K\rremote: Counting objects:  80% (96/119)\u001b[K\rremote: Counting objects:  81% (97/119)\u001b[K\rremote: Counting objects:  82% (98/119)\u001b[K\rremote: Counting objects:  83% (99/119)\u001b[K\rremote: Counting objects:  84% (100/119)\u001b[K\rremote: Counting objects:  85% (102/119)\u001b[K\rremote: Counting objects:  86% (103/119)\u001b[K\rremote: Counting objects:  87% (104/119)\u001b[K\rremote: Counting objects:  88% (105/119)\u001b[K\rremote: Counting objects:  89% (106/119)\u001b[K\rremote: Counting objects:  90% (108/119)\u001b[K\rremote: Counting objects:  91% (109/119)\u001b[K\rremote: Counting objects:  92% (110/119)\u001b[K\rremote: Counting objects:  93% (111/119)\u001b[K\rremote: Counting objects:  94% (112/119)\u001b[K\rremote: Counting objects:  95% (114/119)\u001b[K\rremote: Counting objects:  96% (115/119)\u001b[K\rremote: Counting objects:  97% (116/119)\u001b[K\rremote: Counting objects:  98% (117/119)\u001b[K\rremote: Counting objects:  99% (118/119)\u001b[K\rremote: Counting objects: 100% (119/119)\u001b[K\rremote: Counting objects: 100% (119/119), done.\u001b[K\n",
            "remote: Compressing objects:   0% (1/119)\u001b[K\rremote: Compressing objects:   1% (2/119)\u001b[K\rremote: Compressing objects:   2% (3/119)\u001b[K\rremote: Compressing objects:   3% (4/119)\u001b[K\rremote: Compressing objects:   4% (5/119)\u001b[K\rremote: Compressing objects:   5% (6/119)\u001b[K\rremote: Compressing objects:   6% (8/119)\u001b[K\rremote: Compressing objects:   7% (9/119)\u001b[K\rremote: Compressing objects:   8% (10/119)\u001b[K\rremote: Compressing objects:   9% (11/119)\u001b[K\rremote: Compressing objects:  10% (12/119)\u001b[K\rremote: Compressing objects:  11% (14/119)\u001b[K\rremote: Compressing objects:  12% (15/119)\u001b[K\rremote: Compressing objects:  13% (16/119)\u001b[K\rremote: Compressing objects:  14% (17/119)\u001b[K\rremote: Compressing objects:  15% (18/119)\u001b[K\rremote: Compressing objects:  16% (20/119)\u001b[K\rremote: Compressing objects:  17% (21/119)\u001b[K\rremote: Compressing objects:  18% (22/119)\u001b[K\rremote: Compressing objects:  19% (23/119)\u001b[K\rremote: Compressing objects:  20% (24/119)\u001b[K\rremote: Compressing objects:  21% (25/119)\u001b[K\rremote: Compressing objects:  22% (27/119)\u001b[K\rremote: Compressing objects:  23% (28/119)\u001b[K\rremote: Compressing objects:  24% (29/119)\u001b[K\rremote: Compressing objects:  25% (30/119)\u001b[K\rremote: Compressing objects:  26% (31/119)\u001b[K\rremote: Compressing objects:  27% (33/119)\u001b[K\rremote: Compressing objects:  28% (34/119)\u001b[K\rremote: Compressing objects:  29% (35/119)\u001b[K\rremote: Compressing objects:  30% (36/119)\u001b[K\rremote: Compressing objects:  31% (37/119)\u001b[K\rremote: Compressing objects:  32% (39/119)\u001b[K\rremote: Compressing objects:  33% (40/119)\u001b[K\rremote: Compressing objects:  34% (41/119)\u001b[K\rremote: Compressing objects:  35% (42/119)\u001b[K\rremote: Compressing objects:  36% (43/119)\u001b[K\rremote: Compressing objects:  37% (45/119)\u001b[K\rremote: Compressing objects:  38% (46/119)\u001b[K\rremote: Compressing objects:  39% (47/119)\u001b[K\rremote: Compressing objects:  40% (48/119)\u001b[K\rremote: Compressing objects:  41% (49/119)\u001b[K\rremote: Compressing objects:  42% (50/119)\u001b[K\rremote: Compressing objects:  43% (52/119)\u001b[K\rremote: Compressing objects:  44% (53/119)\u001b[K\rremote: Compressing objects:  45% (54/119)\u001b[K\rremote: Compressing objects:  46% (55/119)\u001b[K\rremote: Compressing objects:  47% (56/119)\u001b[K\rremote: Compressing objects:  48% (58/119)\u001b[K\rremote: Compressing objects:  49% (59/119)\u001b[K\rremote: Compressing objects:  50% (60/119)\u001b[K\rremote: Compressing objects:  51% (61/119)\u001b[K\rremote: Compressing objects:  52% (62/119)\u001b[K\rremote: Compressing objects:  53% (64/119)\u001b[K\rremote: Compressing objects:  54% (65/119)\u001b[K\rremote: Compressing objects:  55% (66/119)\u001b[K\rremote: Compressing objects:  56% (67/119)\u001b[K\rremote: Compressing objects:  57% (68/119)\u001b[K\rremote: Compressing objects:  58% (70/119)\u001b[K\rremote: Compressing objects:  59% (71/119)\u001b[K\rremote: Compressing objects:  60% (72/119)\u001b[K\rremote: Compressing objects:  61% (73/119)\u001b[K\rremote: Compressing objects:  62% (74/119)\u001b[K\rremote: Compressing objects:  63% (75/119)\u001b[K\rremote: Compressing objects:  64% (77/119)\u001b[K\rremote: Compressing objects:  65% (78/119)\u001b[K\rremote: Compressing objects:  66% (79/119)\u001b[K\rremote: Compressing objects:  67% (80/119)\u001b[K\rremote: Compressing objects:  68% (81/119)\u001b[K\rremote: Compressing objects:  69% (83/119)\u001b[K\rremote: Compressing objects:  70% (84/119)\u001b[K\rremote: Compressing objects:  71% (85/119)\u001b[K\rremote: Compressing objects:  72% (86/119)\u001b[K\rremote: Compressing objects:  73% (87/119)\u001b[K\rremote: Compressing objects:  74% (89/119)\u001b[K\rremote: Compressing objects:  75% (90/119)\u001b[K\rremote: Compressing objects:  76% (91/119)\u001b[K\rremote: Compressing objects:  77% (92/119)\u001b[K\rremote: Compressing objects:  78% (93/119)\u001b[K\rremote: Compressing objects:  79% (95/119)\u001b[K\rremote: Compressing objects:  80% (96/119)\u001b[K\rremote: Compressing objects:  81% (97/119)\u001b[K\rremote: Compressing objects:  82% (98/119)\u001b[K\rremote: Compressing objects:  83% (99/119)\u001b[K\rremote: Compressing objects:  84% (100/119)\u001b[K\rremote: Compressing objects:  85% (102/119)\u001b[K\rremote: Compressing objects:  86% (103/119)\u001b[K\rremote: Compressing objects:  87% (104/119)\u001b[K\rremote: Compressing objects:  88% (105/119)\u001b[K\rremote: Compressing objects:  89% (106/119)\u001b[K\rremote: Compressing objects:  90% (108/119)\u001b[K\rremote: Compressing objects:  91% (109/119)\u001b[K\rremote: Compressing objects:  92% (110/119)\u001b[K\rremote: Compressing objects:  93% (111/119)\u001b[K\rremote: Compressing objects:  94% (112/119)\u001b[K\rremote: Compressing objects:  95% (114/119)\u001b[K\rremote: Compressing objects:  96% (115/119)\u001b[K\rremote: Compressing objects:  97% (116/119)\u001b[K\rremote: Compressing objects:  98% (117/119)\u001b[K\rremote: Compressing objects:  99% (118/119)\u001b[K\rremote: Compressing objects: 100% (119/119)\u001b[K\rremote: Compressing objects: 100% (119/119), done.\u001b[K\n",
            "Receiving objects:   0% (1/248)   \rReceiving objects:   1% (3/248)   \rReceiving objects:   2% (5/248)   \rReceiving objects:   3% (8/248)   \rReceiving objects:   4% (10/248)   \rReceiving objects:   5% (13/248)   \rReceiving objects:   6% (15/248)   \rReceiving objects:   7% (18/248)   \rReceiving objects:   8% (20/248)   \rReceiving objects:   9% (23/248)   \rReceiving objects:  10% (25/248)   \rReceiving objects:  11% (28/248)   \rReceiving objects:  12% (30/248)   \rReceiving objects:  13% (33/248)   \rReceiving objects:  14% (35/248)   \rReceiving objects:  15% (38/248)   \rReceiving objects:  16% (40/248)   \rReceiving objects:  17% (43/248)   \rReceiving objects:  18% (45/248)   \rReceiving objects:  19% (48/248)   \rReceiving objects:  20% (50/248)   \rReceiving objects:  21% (53/248)   \rReceiving objects:  22% (55/248)   \rReceiving objects:  23% (58/248)   \rReceiving objects:  24% (60/248)   \rReceiving objects:  25% (62/248)   \rReceiving objects:  26% (65/248)   \rReceiving objects:  27% (67/248)   \rReceiving objects:  28% (70/248)   \rReceiving objects:  29% (72/248)   \rReceiving objects:  30% (75/248)   \rReceiving objects:  31% (77/248)   \rReceiving objects:  32% (80/248)   \rReceiving objects:  33% (82/248)   \rReceiving objects:  34% (85/248)   \rReceiving objects:  35% (87/248)   \rReceiving objects:  36% (90/248)   \rReceiving objects:  37% (92/248)   \rReceiving objects:  38% (95/248)   \rReceiving objects:  39% (97/248)   \rReceiving objects:  40% (100/248)   \rReceiving objects:  41% (102/248)   \rReceiving objects:  42% (105/248)   \rReceiving objects:  43% (107/248)   \rReceiving objects:  44% (110/248)   \rReceiving objects:  45% (112/248)   \rReceiving objects:  46% (115/248)   \rReceiving objects:  47% (117/248)   \rReceiving objects:  48% (120/248)   \rReceiving objects:  49% (122/248)   \rReceiving objects:  50% (124/248)   \rReceiving objects:  51% (127/248)   \rReceiving objects:  52% (129/248)   \rReceiving objects:  53% (132/248)   \rReceiving objects:  54% (134/248)   \rReceiving objects:  55% (137/248)   \rReceiving objects:  56% (139/248)   \rReceiving objects:  57% (142/248)   \rReceiving objects:  58% (144/248)   \rReceiving objects:  59% (147/248)   \rReceiving objects:  60% (149/248)   \rReceiving objects:  61% (152/248)   \rReceiving objects:  62% (154/248)   \rReceiving objects:  63% (157/248)   \rReceiving objects:  64% (159/248)   \rReceiving objects:  65% (162/248)   \rReceiving objects:  66% (164/248)   \rReceiving objects:  67% (167/248)   \rReceiving objects:  68% (169/248)   \rReceiving objects:  69% (172/248)   \rReceiving objects:  70% (174/248)   \rReceiving objects:  71% (177/248)   \rReceiving objects:  72% (179/248)   \rReceiving objects:  73% (182/248)   \rremote: Total 248 (delta 64), reused 0 (delta 0), pack-reused 129\u001b[K\n",
            "Receiving objects:  74% (184/248)   \rReceiving objects:  75% (186/248)   \rReceiving objects:  76% (189/248)   \rReceiving objects:  77% (191/248)   \rReceiving objects:  78% (194/248)   \rReceiving objects:  79% (196/248)   \rReceiving objects:  80% (199/248)   \rReceiving objects:  81% (201/248)   \rReceiving objects:  82% (204/248)   \rReceiving objects:  83% (206/248)   \rReceiving objects:  84% (209/248)   \rReceiving objects:  85% (211/248)   \rReceiving objects:  86% (214/248)   \rReceiving objects:  87% (216/248)   \rReceiving objects:  88% (219/248)   \rReceiving objects:  89% (221/248)   \rReceiving objects:  90% (224/248)   \rReceiving objects:  91% (226/248)   \rReceiving objects:  92% (229/248)   \rReceiving objects:  93% (231/248)   \rReceiving objects:  94% (234/248)   \rReceiving objects:  95% (236/248)   \rReceiving objects:  96% (239/248)   \rReceiving objects:  97% (241/248)   \rReceiving objects:  98% (244/248)   \rReceiving objects:  99% (246/248)   \rReceiving objects: 100% (248/248)   \rReceiving objects: 100% (248/248), 654.97 KiB | 20.47 MiB/s, done.\n",
            "Resolving deltas:   0% (0/136)   \rResolving deltas:  29% (40/136)   \rResolving deltas:  34% (47/136)   \rResolving deltas:  50% (69/136)   \rResolving deltas:  51% (70/136)   \rResolving deltas:  52% (71/136)   \rResolving deltas:  80% (109/136)   \rResolving deltas:  81% (111/136)   \rResolving deltas:  83% (113/136)   \rResolving deltas:  95% (130/136)   \rResolving deltas:  98% (134/136)   \rResolving deltas: 100% (136/136)   \rResolving deltas: 100% (136/136), done.\n",
            "/content/optim_raianars_Insight/Raianars_paper_One\n"
          ],
          "name": "stdout"
        }
      ]
    },
    {
      "cell_type": "code",
      "metadata": {
        "id": "_E15mKFURR6O"
      },
      "source": [
        "#import Go2Ann\n",
        "#import de_soma_Insight\n",
        "#import de_bounds_matriz\n",
        "#import Function\n",
        "#import Go2MinMax\n",
        "from AvaliaX import AvaliaX\n",
        "#from Function import FUN\n",
        "#from Function import Function.FUN\n",
        "#from Function import Function.Fun\n",
        "#from Function import Function\n",
        "from GeraIndices import GeraIndices\n",
        "import numpy as np\n",
        "import time\n",
        "import matplotlib.pyplot as plt\n",
        "from random import randint\n",
        "from scipy import optimize\n",
        "import pandas as pd\n",
        "from sklearn.metrics import confusion_matrix\n",
        "\n",
        "############################### DADOS DE ENTRADA \n",
        "RUNS=30 #NÚMERO DE RODADAS\n",
        "Fc=0.1 # fator de correcao parametros da ANN\n",
        "its=1 #10 # quantas vezes vai usar o NPAR antes de alterar de novo\n",
        "ITE=2000 #10 # PONTOS quantas vezes vai alteral NPAR \n",
        "NPAR=100\n",
        "mut=0.5\n",
        "crossp=0.5\n",
        "Fi=mut;CRi=crossp;# para impressão\n",
        "fator = 2.0/3.0; \n",
        "mut2=0.5;crossp2=0.5;mut3=0.75;crossp3=0.25;mut4=0.25;crossp4=0.25;\n"
      ],
      "execution_count": 4,
      "outputs": []
    },
    {
      "cell_type": "code",
      "metadata": {
        "colab": {
          "base_uri": "https://localhost:8080/"
        },
        "id": "ik3ZjkUKycUK",
        "outputId": "e4044906-1f4b-4b9f-e94f-0510e95956a0"
      },
      "source": [
        "############################### Importar códigos\n",
        "!git clone https://github.com/ucfilho/optim_raianars_Insight/ #clonar do Github\n",
        "%cd optim_raianars_Insight\n",
        "import de_soma_Insight\n",
        "import de_bounds_matriz"
      ],
      "execution_count": 5,
      "outputs": [
        {
          "output_type": "stream",
          "text": [
            "Cloning into 'optim_raianars_Insight'...\n",
            "remote: Enumerating objects: 9, done.\u001b[K\n",
            "remote: Counting objects:  11% (1/9)\u001b[K\rremote: Counting objects:  22% (2/9)\u001b[K\rremote: Counting objects:  33% (3/9)\u001b[K\rremote: Counting objects:  44% (4/9)\u001b[K\rremote: Counting objects:  55% (5/9)\u001b[K\rremote: Counting objects:  66% (6/9)\u001b[K\rremote: Counting objects:  77% (7/9)\u001b[K\rremote: Counting objects:  88% (8/9)\u001b[K\rremote: Counting objects: 100% (9/9)\u001b[K\rremote: Counting objects: 100% (9/9), done.\u001b[K\n",
            "remote: Compressing objects:  11% (1/9)\u001b[K\rremote: Compressing objects:  22% (2/9)\u001b[K\rremote: Compressing objects:  33% (3/9)\u001b[K\rremote: Compressing objects:  44% (4/9)\u001b[K\rremote: Compressing objects:  55% (5/9)\u001b[K\rremote: Compressing objects:  66% (6/9)\u001b[K\rremote: Compressing objects:  77% (7/9)\u001b[K\rremote: Compressing objects:  88% (8/9)\u001b[K\rremote: Compressing objects: 100% (9/9)\u001b[K\rremote: Compressing objects: 100% (9/9), done.\u001b[K\n",
            "Receiving objects:   0% (1/323)   \rReceiving objects:   1% (4/323)   \rReceiving objects:   2% (7/323)   \rReceiving objects:   3% (10/323)   \rReceiving objects:   4% (13/323)   \rReceiving objects:   5% (17/323)   \rReceiving objects:   6% (20/323)   \rReceiving objects:   7% (23/323)   \rReceiving objects:   8% (26/323)   \rReceiving objects:   9% (30/323)   \rReceiving objects:  10% (33/323)   \rReceiving objects:  11% (36/323)   \rReceiving objects:  12% (39/323)   \rReceiving objects:  13% (42/323)   \rReceiving objects:  14% (46/323)   \rReceiving objects:  15% (49/323)   \rReceiving objects:  16% (52/323)   \rReceiving objects:  17% (55/323)   \rReceiving objects:  18% (59/323)   \rReceiving objects:  19% (62/323)   \rReceiving objects:  20% (65/323)   \rReceiving objects:  21% (68/323)   \rReceiving objects:  22% (72/323)   \rReceiving objects:  23% (75/323)   \rReceiving objects:  24% (78/323)   \rReceiving objects:  25% (81/323)   \rReceiving objects:  26% (84/323)   \rReceiving objects:  27% (88/323)   \rReceiving objects:  28% (91/323)   \rReceiving objects:  29% (94/323)   \rReceiving objects:  30% (97/323)   \rReceiving objects:  31% (101/323)   \rReceiving objects:  32% (104/323)   \rReceiving objects:  33% (107/323)   \rReceiving objects:  34% (110/323)   \rReceiving objects:  35% (114/323)   \rReceiving objects:  36% (117/323)   \rReceiving objects:  37% (120/323)   \rReceiving objects:  38% (123/323)   \rReceiving objects:  39% (126/323)   \rReceiving objects:  40% (130/323)   \rReceiving objects:  41% (133/323)   \rReceiving objects:  42% (136/323)   \rReceiving objects:  43% (139/323)   \rReceiving objects:  44% (143/323)   \rReceiving objects:  45% (146/323)   \rReceiving objects:  46% (149/323)   \rReceiving objects:  47% (152/323)   \rReceiving objects:  48% (156/323)   \rReceiving objects:  49% (159/323)   \rReceiving objects:  50% (162/323)   \rReceiving objects:  51% (165/323)   \rReceiving objects:  52% (168/323)   \rReceiving objects:  53% (172/323)   \rReceiving objects:  54% (175/323)   \rReceiving objects:  55% (178/323)   \rReceiving objects:  56% (181/323)   \rReceiving objects:  57% (185/323)   \rReceiving objects:  58% (188/323)   \rremote: Total 323 (delta 3), reused 0 (delta 0), pack-reused 314\u001b[K\n",
            "Receiving objects:  59% (191/323)   \rReceiving objects:  60% (194/323)   \rReceiving objects:  61% (198/323)   \rReceiving objects:  62% (201/323)   \rReceiving objects:  63% (204/323)   \rReceiving objects:  64% (207/323)   \rReceiving objects:  65% (210/323)   \rReceiving objects:  66% (214/323)   \rReceiving objects:  67% (217/323)   \rReceiving objects:  68% (220/323)   \rReceiving objects:  69% (223/323)   \rReceiving objects:  70% (227/323)   \rReceiving objects:  71% (230/323)   \rReceiving objects:  72% (233/323)   \rReceiving objects:  73% (236/323)   \rReceiving objects:  74% (240/323)   \rReceiving objects:  75% (243/323)   \rReceiving objects:  76% (246/323)   \rReceiving objects:  77% (249/323)   \rReceiving objects:  78% (252/323)   \rReceiving objects:  79% (256/323)   \rReceiving objects:  80% (259/323)   \rReceiving objects:  81% (262/323)   \rReceiving objects:  82% (265/323)   \rReceiving objects:  83% (269/323)   \rReceiving objects:  84% (272/323)   \rReceiving objects:  85% (275/323)   \rReceiving objects:  86% (278/323)   \rReceiving objects:  87% (282/323)   \rReceiving objects:  88% (285/323)   \rReceiving objects:  89% (288/323)   \rReceiving objects:  90% (291/323)   \rReceiving objects:  91% (294/323)   \rReceiving objects:  92% (298/323)   \rReceiving objects:  93% (301/323)   \rReceiving objects:  94% (304/323)   \rReceiving objects:  95% (307/323)   \rReceiving objects:  96% (311/323)   \rReceiving objects:  97% (314/323)   \rReceiving objects:  98% (317/323)   \rReceiving objects:  99% (320/323)   \rReceiving objects: 100% (323/323)   \rReceiving objects: 100% (323/323), 312.84 KiB | 18.40 MiB/s, done.\n",
            "Resolving deltas:   0% (0/184)   \rResolving deltas:  28% (52/184)   \rResolving deltas:  57% (106/184)   \rResolving deltas:  68% (126/184)   \rResolving deltas:  69% (127/184)   \rResolving deltas:  74% (137/184)   \rResolving deltas:  76% (140/184)   \rResolving deltas:  89% (165/184)   \rResolving deltas:  94% (174/184)   \rResolving deltas:  95% (175/184)   \rResolving deltas:  98% (181/184)   \rResolving deltas:  99% (183/184)   \rResolving deltas: 100% (184/184)   \rResolving deltas: 100% (184/184), done.\n",
            "/content/optim_raianars_Insight/Raianars_paper_One/optim_raianars_Insight\n"
          ],
          "name": "stdout"
        }
      ]
    },
    {
      "cell_type": "code",
      "metadata": {
        "colab": {
          "base_uri": "https://localhost:8080/"
        },
        "id": "lJogRB30yepw",
        "outputId": "e1570a69-bd13-4d1a-f9cd-e0b7a1b62854"
      },
      "source": [
        "#!git clone https://github.com/ucfilho/Raianars_paper_one_revisited/AddFunctions \n",
        "!git clone https://github.com/ucfilho/Raianars_Routines #clonar do Github\n",
        "%cd Raianars_Routines"
      ],
      "execution_count": 6,
      "outputs": [
        {
          "output_type": "stream",
          "text": [
            "Cloning into 'Raianars_Routines'...\n",
            "remote: Enumerating objects: 36, done.\u001b[K\n",
            "remote: Counting objects: 100% (36/36), done.\u001b[K\n",
            "remote: Compressing objects: 100% (34/34), done.\u001b[K\n",
            "remote: Total 36 (delta 10), reused 0 (delta 0), pack-reused 0\u001b[K\n",
            "Unpacking objects: 100% (36/36), done.\n",
            "/content/optim_raianars_Insight/Raianars_paper_One/optim_raianars_Insight/Raianars_Routines\n"
          ],
          "name": "stdout"
        }
      ]
    },
    {
      "cell_type": "code",
      "metadata": {
        "id": "P8LIRCsdywOX"
      },
      "source": [
        "############################### Função\n",
        "import FunctionsNew\n",
        "#'''  \n",
        "############################### Função\n",
        "dim=30 # \n",
        "fchoice='Alpine_n1'\n",
        "Fun=FunctionsNew.Alpine_n1\n",
        "MAX=np.repeat(10,dim)\n",
        "MIN=np.repeat(-10,dim)\n",
        " #fx=\n",
        "#'''\n",
        "#####################################\n",
        "PAR=len(MAX) #NUM DE PARAMETROS A SER OTIMIZADOS\n",
        "\n",
        "bounds=[]\n",
        "for k in range(len(MAX)):\n",
        "  bounds.append((MIN[k],MAX[k]))"
      ],
      "execution_count": 7,
      "outputs": []
    },
    {
      "cell_type": "code",
      "metadata": {
        "colab": {
          "base_uri": "https://localhost:8080/"
        },
        "id": "QfCTvdZm5Luv",
        "outputId": "6cd08400-8170-48d7-b35e-b3186a605146"
      },
      "source": [
        "!ls"
      ],
      "execution_count": 8,
      "outputs": [
        {
          "output_type": "stream",
          "text": [
            "FunctionsNew.py  __pycache__  README.md\n"
          ],
          "name": "stdout"
        }
      ]
    },
    {
      "cell_type": "code",
      "metadata": {
        "colab": {
          "base_uri": "https://localhost:8080/"
        },
        "id": "qTINtQ1cosZK",
        "outputId": "71378302-ca7d-4bbb-f64f-7bb260648a5d"
      },
      "source": [
        "!git clone https://github.com/ucfilho/ANN_read_matrix #clonar do Github\n",
        "%cd ANN_read_matrix"
      ],
      "execution_count": 9,
      "outputs": [
        {
          "output_type": "stream",
          "text": [
            "Cloning into 'ANN_read_matrix'...\n",
            "remote: Enumerating objects: 20, done.\u001b[K\n",
            "remote: Counting objects: 100% (20/20), done.\u001b[K\n",
            "remote: Compressing objects: 100% (18/18), done.\u001b[K\n",
            "remote: Total 20 (delta 5), reused 0 (delta 0), pack-reused 0\u001b[K\n",
            "Unpacking objects: 100% (20/20), done.\n",
            "/content/optim_raianars_Insight/Raianars_paper_One/optim_raianars_Insight/Raianars_Routines/ANN_read_matrix\n"
          ],
          "name": "stdout"
        }
      ]
    },
    {
      "cell_type": "code",
      "metadata": {
        "id": "QiQLYOoNoyCw"
      },
      "source": [
        "ANN_F=pd.read_csv('ANN_INSIGHT_Valor_F.csv')"
      ],
      "execution_count": 10,
      "outputs": []
    },
    {
      "cell_type": "code",
      "metadata": {
        "id": "uHtW2amaDzFv"
      },
      "source": [
        "ANN_CR=pd.read_csv('ANN_INSIGHT_CR.csv')"
      ],
      "execution_count": 11,
      "outputs": []
    },
    {
      "cell_type": "code",
      "metadata": {
        "id": "EH6h_vke2yu1"
      },
      "source": [
        "syn0_F,syn1_F,X_max_F,X_min_F=Go2Ann.GetMatriz(ANN_F)"
      ],
      "execution_count": 12,
      "outputs": []
    },
    {
      "cell_type": "code",
      "metadata": {
        "id": "WW_3ZWJXD60i"
      },
      "source": [
        "syn0_CR,syn1_CR,X_max_CR,X_min_CR=Go2Ann.GetMatriz(ANN_CR)"
      ],
      "execution_count": 13,
      "outputs": []
    },
    {
      "cell_type": "code",
      "metadata": {
        "id": "b4gwBvVTyaXh"
      },
      "source": [
        "ANN_CR=pd.read_csv('ANN_INSIGHT_CR.csv')"
      ],
      "execution_count": 14,
      "outputs": []
    },
    {
      "cell_type": "code",
      "metadata": {
        "id": "6jL8MxpHvk-Y"
      },
      "source": [
        "fields = ['DI RELATIVO','FRAC Its','Fo','CRo']"
      ],
      "execution_count": 15,
      "outputs": []
    },
    {
      "cell_type": "code",
      "metadata": {
        "colab": {
          "base_uri": "https://localhost:8080/"
        },
        "id": "Mb3LmbSmj9v7",
        "outputId": "1e7358d2-ca97-4885-d049-ee34b6c1686d"
      },
      "source": [
        "##################################### \n",
        "\n",
        "TOTAL=10*dim*its*ITE\n",
        "TOTAL=int(TOTAL/2)   # CONFERIR SE ESTE EH O MELHOR LUGAR\n",
        "\n",
        "dimensions=len(MAX)\n",
        "start_time = time.time() #INICIALIZA CONTAGEM DO TEMPO\n",
        "\n",
        "\n",
        "PAR=dim\n",
        "fobj=Fun\n",
        "\n",
        "MAX_P=np.zeros(ITE) # ATENCAO para variar F e Cr MAX_P passa a ser 3 vezes maior\n",
        "MIN_P=np.zeros(ITE) # ATENCAO para variar F e Cr MIN_P passa a ser 3 vezes maior\n",
        "\n",
        "for i in range(dim):\n",
        "  MAX_P[i]=MAX[i] \n",
        "  MIN_P[i]=MIN[i]\n",
        "\n",
        "rodadas=1\n",
        "NPAR1=int(fator*NPAR);\n",
        "NPAR2=int((NPAR-NPAR1)/3);\n",
        "NPAR3=int((NPAR-NPAR1)/3);\n",
        "NPAR4=int((NPAR-NPAR1)/3);\n",
        "\n",
        "NPAR1 = NPAR-NPAR2-NPAR3-NPAR4\n",
        "print('Npar1=',NPAR1);print('frac=',fator)\n",
        "print('Npar2=',NPAR2);\n",
        "print('Npar3=',NPAR3);\n",
        "print('Npar4=',NPAR4);\n",
        "print('Npar=',NPAR)\n",
        "\n",
        "cols=dim\n",
        "\n",
        "X1=np.zeros((NPAR1,cols)) # X1 is Frannk population\n",
        "for i in range(NPAR1):\n",
        "  for j in range(cols):\n",
        "    r=np.random.random()\n",
        "    X1[i,j]=r*(MAX[j]-MIN[j])+MIN[j]\n",
        "    \n",
        "X2=np.zeros((NPAR2,cols)) # X2 is population DE (default DE)\n",
        "for i in range(NPAR2):\n",
        "  for j in range(cols):\n",
        "    r=np.random.random()\n",
        "    X2[i,j]=r*(MAX[j]-MIN[j])+MIN[j]\n",
        "\n",
        "X3=np.zeros((NPAR3,cols)) # X1 is Frannk population\n",
        "for i in range(NPAR3):\n",
        "  for j in range(cols):\n",
        "    r=np.random.random()\n",
        "    X3[i,j]=r*(MAX[j]-MIN[j])+MIN[j]\n",
        "    \n",
        "X4=np.zeros((NPAR4,cols)) # X2 is population DE (default DE)\n",
        "for i in range(NPAR4):\n",
        "  for j in range(cols):\n",
        "    r=np.random.random()\n",
        "    X4[i,j]=r*(MAX[j]-MIN[j])+MIN[j]"
      ],
      "execution_count": 16,
      "outputs": [
        {
          "output_type": "stream",
          "text": [
            "Npar1= 67\n",
            "frac= 0.6666666666666666\n",
            "Npar2= 11\n",
            "Npar3= 11\n",
            "Npar4= 11\n",
            "Npar= 100\n"
          ],
          "name": "stdout"
        }
      ]
    },
    {
      "cell_type": "code",
      "metadata": {
        "colab": {
          "base_uri": "https://localhost:8080/"
        },
        "id": "rnX8ttNopd1G",
        "outputId": "0a6ec8f6-23e0-4c0d-f1a3-c37f64f0e421"
      },
      "source": [
        "\n",
        "start_time = time.time()\n",
        "BEST_AGENTS=[]\n",
        "MAT_stat=[]\n",
        "for iii in range(RUNS):\n",
        "    MAT=[] \n",
        "    mut=Fi\n",
        "    crossp=CRi\n",
        "    SOMA=0\n",
        "    pop = np.random.rand(NPAR, dim)\n",
        "    diff=np.zeros(PAR)\n",
        "    X1=np.zeros((NPAR1,cols)) # X1 is Frannk population\n",
        "    for i in range(NPAR1):\n",
        "      for j in range(cols):\n",
        "        r=np.random.random()\n",
        "        X1[i,j]=r*(MAX[j]-MIN[j])+MIN[j]\n",
        "        \n",
        "    X2=np.zeros((NPAR2,cols)) # X2 is population DE (default DE)\n",
        "    for i in range(NPAR2):\n",
        "      for j in range(cols):\n",
        "        r=np.random.random()\n",
        "        X2[i,j]=r*(MAX[j]-MIN[j])+MIN[j]\n",
        "\n",
        "    X3=np.zeros((NPAR3,cols)) # X2 is population DE (default DE)\n",
        "    for i in range(NPAR3):\n",
        "      for j in range(cols):\n",
        "        r=np.random.random()\n",
        "        X3[i,j]=r*(MAX[j]-MIN[j])+MIN[j]\n",
        "\n",
        "    X4=np.zeros((NPAR4,cols)) # X2 is population DE (default DE)\n",
        "    for i in range(NPAR4):\n",
        "      for j in range(cols):\n",
        "        r=np.random.random()\n",
        "        X4[i,j]=r*(MAX[j]-MIN[j])+MIN[j]\n",
        "\n",
        "    DIo=1e99\n",
        "  \n",
        "    CRo=crossp;Fo=mut;\n",
        "    Fitness = np.asarray([Fun(ind) for ind in X1])\n",
        "    XY,BEST_XY,BESTo,FOBESTo=AvaliaX(X1,Fitness)\n",
        "    nrow,ncol=X1.shape\n",
        "\n",
        "    QUANT=17;MAT_INDo=np.zeros((1,QUANT)); # quantos indices esta fazendo\n",
        "    MAT_INDo[0,5]=nrow  # VALOR NP\n",
        "    MAT_INDo[0,6]=Fo    # VALOR Fo   \n",
        "    MAT_INDo[0,7]=CRo   # VALOR CRo\n",
        "  \n",
        "    MAT_INDo=GeraIndices(X1,BESTo,FOBESTo,DIo,MAT_INDo,SOMA,TOTAL,syn0_F,\n",
        "                        syn1_F,X_max_F,X_min_F,syn0_CR,syn1_CR,X_max_CR,\n",
        "                        X_min_CR,Fc,fields,Fun)\n",
        "  \n",
        "    DIo=np.copy(MAT_INDo[0,0])\n",
        "    MAT_INDo[0,15]=Fo    # VALOR Fo   \n",
        "    MAT_INDo[0,16]=CRo   # VALOR CRo\n",
        "    #ind_crossp=ITE-1\n",
        "    \n",
        "\n",
        "    \n",
        "    for k in range(ITE):\n",
        "\n",
        "      X2,BEST2,FOBEST,XY,BEST_XY=de_bounds_matriz.de(bounds, mut2, crossp2,NPAR2, its,fobj,X2)\n",
        "      X3,BEST3,FOBEST,XY,BEST_XY=de_bounds_matriz.de(bounds, mut3, crossp3,NPAR3, its,fobj,X3)\n",
        "      X4,BEST4,FOBEST,XY,BEST_XY=de_bounds_matriz.de(bounds, mut4, crossp4,NPAR4, its,fobj,X4)\n",
        "      \n",
        "      X1,BEST1,FOBEST,XY,BEST_XY,SOMA= de_soma_Insight.de(MAX,MIN, mut, crossp,NPAR1,its,Fun,X1,SOMA,TOTAL)\n",
        "\n",
        "      MAT_IND=GeraIndices(X1,BESTo,FOBESTo,DIo,MAT_INDo,SOMA,TOTAL,syn0_F,\n",
        "                          syn1_F,X_max_F,X_min_F,syn0_CR,syn1_CR,X_max_CR,\n",
        "                          X_min_CR,Fc,fields,Fun)\n",
        "    \n",
        "      BESTo=np.copy(BEST1);FOBESTo=np.copy(FOBEST);\n",
        "      MAT.append(MAT_IND.ravel())\n",
        "    \n",
        "      MAT_INDo[0,6]=MAT_IND[0,15]   # VALOR Fo   \n",
        "      MAT_INDo[0,7]=MAT_IND[0,16]   # VALOR CRo\n",
        "      mut=MAT_IND[0,15]\n",
        "      crossp=MAT_IND[0,16]\n",
        "      X1[0,:] = BEST2;X1[1,:] = BEST3; X1[2,:] = BEST4;X1[NPAR1-1,:] = BEST1;\n",
        "      X2[0,:] = BEST1;X2[1,:] = BEST3;X2[2,:] = BEST4;X2[NPAR2-1,:] = BEST2;\n",
        "      X3[0,:] = BEST1;X3[1,:] = BEST2;X3[2,:] = BEST4;X3[NPAR3-1,:] = BEST3;\n",
        "      X4[0,:] = BEST1;X4[1,:] = BEST2;X4[2,:] = BEST3;X4[NPAR4-1,:] = BEST4;\n",
        "    print('k=',iii,'time=',(time.time()-start_time)/60)  \n",
        "    BEST_AGENTS.append(BEST_XY)\n",
        "    MAT_stat.append(MAT)\n",
        "    #print(\"GlobalParam e Solucao:\", BEST,\"Funcao=\",FOBEST)\n",
        "    \n",
        "############################## Cálculo dos Parâmetros de Avaliação   \n",
        "TIME = (time.time() - start_time)/RUNS\n",
        "BEST_AGENTS=np.array(BEST_AGENTS)\n",
        "BEST_AGENTS_ST= BEST_AGENTS[BEST_AGENTS[:,-1].argsort()]\n",
        "BEST=BEST_AGENTS_ST[0]\n",
        "WORSE=BEST_AGENTS_ST[-1]\n",
        "MEAN=np.mean(BEST_AGENTS,axis=0)\n",
        "MAXFO=BEST_AGENTS[:,-1].max()\n",
        "MINFO=BEST_AGENTS[:,-1].min()\n",
        "STD=BEST_AGENTS[:,-1].std()"
      ],
      "execution_count": null,
      "outputs": [
        {
          "output_type": "stream",
          "text": [
            "k= 0 time= 2.4566311637560525\n",
            "k= 1 time= 4.909441121419271\n",
            "k= 2 time= 7.3636105298995975\n",
            "k= 3 time= 9.80180246035258\n"
          ],
          "name": "stdout"
        }
      ]
    },
    {
      "cell_type": "code",
      "metadata": {
        "id": "hPpkYEjBtKLU"
      },
      "source": [
        "X1.shape"
      ],
      "execution_count": null,
      "outputs": []
    },
    {
      "cell_type": "code",
      "metadata": {
        "id": "TLEE0UrZSvJF"
      },
      "source": [
        "#len(X2[1,:])\n",
        "print(cols)"
      ],
      "execution_count": null,
      "outputs": []
    },
    {
      "cell_type": "code",
      "metadata": {
        "id": "k3p9TGsx1OCu"
      },
      "source": [
        "NOMES=['DIVERSIDADE (DI)',  'DI RELATIVO','FRAC Its',\n",
        "           'VELOC FOBJ','VELOC X','NP','Fo','CRo','fmin','fmax',\n",
        "           'AD_fmin','AD_fmax','DELTA FOBJ','DELTA VX','r_fitness',\n",
        "           'F','CR']\n",
        "# BEST_INDEX= BEST_AGENTS[BEST_AGENTS[:,-1].argmin()]  \n",
        "BEST_INDEX = np.argmin(BEST_AGENTS[:,-1])\n",
        "df=pd.DataFrame(MAT_stat[BEST_INDEX], columns=NOMES)\n",
        "\n"
      ],
      "execution_count": null,
      "outputs": []
    },
    {
      "cell_type": "code",
      "metadata": {
        "id": "jIHiKR_t1xxs"
      },
      "source": [
        "pd.set_option('display.max_columns', 30)  \n",
        "print(df)"
      ],
      "execution_count": null,
      "outputs": []
    },
    {
      "cell_type": "code",
      "metadata": {
        "id": "bx0ywpMtAAjw"
      },
      "source": [
        "plt.plot(df['FRAC Its'],df['CR'])\n",
        "plt.xlabel('Iteração/Total')\n",
        "plt.ylabel('CR')"
      ],
      "execution_count": null,
      "outputs": []
    },
    {
      "cell_type": "code",
      "metadata": {
        "id": "BvPFvbDvteDC"
      },
      "source": [
        "\n",
        "fig, ax = plt.subplots()\n",
        "ax.plot(df['FRAC Its'],df['F'],label='F')\n",
        "ax.set_xlabel('Iteração/Total')\n",
        "ax.set_ylabel('Parâmetros')\n",
        "ax.plot(df['FRAC Its'],df['CR'],'-r', label='CR')\n",
        "nome=Fun.__name__+'  M=Diversidade'+ '  D='+str(dim)\n",
        "ax.set_title(nome)\n",
        "leg = ax.legend()\n"
      ],
      "execution_count": null,
      "outputs": []
    },
    {
      "cell_type": "code",
      "metadata": {
        "id": "htooaGpDia_0"
      },
      "source": [
        "f, axarr = plt.subplots(2, sharex=True)\n",
        "axarr[0].plot(df['FRAC Its'],df['F'])\n",
        "axarr[0].set_ylabel('F')\n",
        "axarr[1].plot(df['FRAC Its'],df['CR'])\n",
        "axarr[1].set_ylabel('CR')\n",
        "axarr[1].set_xlabel('Iteração/Total')\n",
        "nome=Fun.__name__+'_Diversidade_'+ 'D='+str(dim)\n",
        "axarr[0].set_title(nome)\n"
      ],
      "execution_count": null,
      "outputs": []
    },
    {
      "cell_type": "code",
      "metadata": {
        "id": "lNSN5X-wskcx"
      },
      "source": [
        "nome='_ANN_Div3x4_Fo-'+str(Fi)+'_CRo-'+str(CRi)+'_D-'+str(dim)+'_Interv-'+str(ITE)\n",
        "print('DE_POP_VAR_F_CR','TOTAL=',TOTAL,'Iterações=',ITE*its,'Dim=', PAR,\"Min/Max=\",MIN[0],\"/\",MAX[0],'_',Fun.__name__)\n",
        "print(nome, '\\n')\n",
        "#print('BEST: ',BEST)\n",
        "#print('MÉDIA: ',MEAN)\n",
        "print('MÉDIA: ',MEAN[-1])\n",
        "print('MIN __:',MINFO)\n",
        "print('MAX__: ',MAXFO)\n",
        "print('STD __:',STD)\n",
        "print(\"Tempo Médio= %.3f segundos ---\" % (TIME))\n",
        "print(RUNS,'Rodadas') \n",
        "print()\n",
        "print('BEST: ',BEST)\n",
        "# print('melhor=',BEST_AGENTS[BEST_INDEX])"
      ],
      "execution_count": null,
      "outputs": []
    }
  ]
}
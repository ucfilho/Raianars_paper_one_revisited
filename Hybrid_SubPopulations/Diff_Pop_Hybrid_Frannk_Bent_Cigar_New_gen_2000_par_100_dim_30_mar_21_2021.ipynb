{
  "nbformat": 4,
  "nbformat_minor": 0,
  "metadata": {
    "colab": {
      "name": "Diff_Pop_Hybrid_Frannk_Bent_Cigar_New_gen_2000_par_100_dim_30_mar_21_2021.ipynb",
      "provenance": [],
      "collapsed_sections": [],
      "include_colab_link": true
    },
    "kernelspec": {
      "display_name": "Python 3",
      "name": "python3"
    },
    "language_info": {
      "codemirror_mode": {
        "name": "ipython",
        "version": 3
      },
      "file_extension": ".py",
      "mimetype": "text/x-python",
      "name": "python",
      "nbconvert_exporter": "python",
      "pygments_lexer": "ipython3",
      "version": "3.7.3"
    }
  },
  "cells": [
    {
      "cell_type": "markdown",
      "metadata": {
        "id": "view-in-github",
        "colab_type": "text"
      },
      "source": [
        "<a href=\"https://colab.research.google.com/github/ucfilho/Raianars_paper_one_revisited/blob/main/Hybrid_SubPopulations/Diff_Pop_Hybrid_Frannk_Bent_Cigar_New_gen_2000_par_100_dim_30_mar_21_2021.ipynb\" target=\"_parent\"><img src=\"https://colab.research.google.com/assets/colab-badge.svg\" alt=\"Open In Colab\"/></a>"
      ]
    },
    {
      "cell_type": "code",
      "metadata": {
        "colab": {
          "base_uri": "https://localhost:8080/"
        },
        "id": "c59cDVKoxDLX",
        "outputId": "2c029ce5-8dd2-4c68-d4d8-6b5c81810021"
      },
      "source": [
        "############################### Importar códigos\n",
        "!git clone https://github.com/ucfilho/optim_raianars_Insight/ #clonar do Github\n",
        "%cd optim_raianars_Insight\n",
        "import de_soma_Insight\n",
        "import de_bounds_matriz\n",
        "import Go2Ann"
      ],
      "execution_count": 1,
      "outputs": [
        {
          "output_type": "stream",
          "text": [
            "Cloning into 'optim_raianars_Insight'...\n",
            "remote: Enumerating objects: 323, done.\u001b[K\n",
            "remote: Counting objects: 100% (9/9), done.\u001b[K\n",
            "remote: Compressing objects: 100% (9/9), done.\u001b[K\n",
            "remote: Total 323 (delta 3), reused 0 (delta 0), pack-reused 314\u001b[K\n",
            "Receiving objects: 100% (323/323), 312.84 KiB | 8.02 MiB/s, done.\n",
            "Resolving deltas: 100% (184/184), done.\n",
            "/content/optim_raianars_Insight\n"
          ],
          "name": "stdout"
        }
      ]
    },
    {
      "cell_type": "code",
      "metadata": {
        "id": "88sLduNFwZ9Y"
      },
      "source": [
        "# PSO 2016 \n",
        "#  Gen =1000,1500, 2000\n",
        "#  Npar= 20, 40, 80\n",
        "#  dim = 10,20,30\n",
        "# Dynamic parameter adaptation in particle swarm optimization\n",
        "#  using interval type-2 fuzzy logic -Soft Comput (2016) 20:1057–1070"
      ],
      "execution_count": 2,
      "outputs": []
    },
    {
      "cell_type": "code",
      "metadata": {
        "colab": {
          "base_uri": "https://localhost:8080/"
        },
        "id": "Va-6Xios8RjU",
        "outputId": "c9383c28-7bbd-4322-a81f-cdd06cacea75"
      },
      "source": [
        "!git clone https://github.com/ucfilho/Raianars_paper_One #clonar do Github\n",
        "%cd Raianars_paper_One"
      ],
      "execution_count": 3,
      "outputs": [
        {
          "output_type": "stream",
          "text": [
            "Cloning into 'Raianars_paper_One'...\n",
            "remote: Enumerating objects: 248, done.\u001b[K\n",
            "remote: Counting objects:   0% (1/119)\u001b[K\rremote: Counting objects:   1% (2/119)\u001b[K\rremote: Counting objects:   2% (3/119)\u001b[K\rremote: Counting objects:   3% (4/119)\u001b[K\rremote: Counting objects:   4% (5/119)\u001b[K\rremote: Counting objects:   5% (6/119)\u001b[K\rremote: Counting objects:   6% (8/119)\u001b[K\rremote: Counting objects:   7% (9/119)\u001b[K\rremote: Counting objects:   8% (10/119)\u001b[K\rremote: Counting objects:   9% (11/119)\u001b[K\rremote: Counting objects:  10% (12/119)\u001b[K\rremote: Counting objects:  11% (14/119)\u001b[K\rremote: Counting objects:  12% (15/119)\u001b[K\rremote: Counting objects:  13% (16/119)\u001b[K\rremote: Counting objects:  14% (17/119)\u001b[K\rremote: Counting objects:  15% (18/119)\u001b[K\rremote: Counting objects:  16% (20/119)\u001b[K\rremote: Counting objects:  17% (21/119)\u001b[K\rremote: Counting objects:  18% (22/119)\u001b[K\rremote: Counting objects:  19% (23/119)\u001b[K\rremote: Counting objects:  20% (24/119)\u001b[K\rremote: Counting objects:  21% (25/119)\u001b[K\rremote: Counting objects:  22% (27/119)\u001b[K\rremote: Counting objects:  23% (28/119)\u001b[K\rremote: Counting objects:  24% (29/119)\u001b[K\rremote: Counting objects:  25% (30/119)\u001b[K\rremote: Counting objects:  26% (31/119)\u001b[K\rremote: Counting objects:  27% (33/119)\u001b[K\rremote: Counting objects:  28% (34/119)\u001b[K\rremote: Counting objects:  29% (35/119)\u001b[K\rremote: Counting objects:  30% (36/119)\u001b[K\rremote: Counting objects:  31% (37/119)\u001b[K\rremote: Counting objects:  32% (39/119)\u001b[K\rremote: Counting objects:  33% (40/119)\u001b[K\rremote: Counting objects:  34% (41/119)\u001b[K\rremote: Counting objects:  35% (42/119)\u001b[K\rremote: Counting objects:  36% (43/119)\u001b[K\rremote: Counting objects:  37% (45/119)\u001b[K\rremote: Counting objects:  38% (46/119)\u001b[K\rremote: Counting objects:  39% (47/119)\u001b[K\rremote: Counting objects:  40% (48/119)\u001b[K\rremote: Counting objects:  41% (49/119)\u001b[K\rremote: Counting objects:  42% (50/119)\u001b[K\rremote: Counting objects:  43% (52/119)\u001b[K\rremote: Counting objects:  44% (53/119)\u001b[K\rremote: Counting objects:  45% (54/119)\u001b[K\rremote: Counting objects:  46% (55/119)\u001b[K\rremote: Counting objects:  47% (56/119)\u001b[K\rremote: Counting objects:  48% (58/119)\u001b[K\rremote: Counting objects:  49% (59/119)\u001b[K\rremote: Counting objects:  50% (60/119)\u001b[K\rremote: Counting objects:  51% (61/119)\u001b[K\rremote: Counting objects:  52% (62/119)\u001b[K\rremote: Counting objects:  53% (64/119)\u001b[K\rremote: Counting objects:  54% (65/119)\u001b[K\rremote: Counting objects:  55% (66/119)\u001b[K\rremote: Counting objects:  56% (67/119)\u001b[K\rremote: Counting objects:  57% (68/119)\u001b[K\rremote: Counting objects:  58% (70/119)\u001b[K\rremote: Counting objects:  59% (71/119)\u001b[K\rremote: Counting objects:  60% (72/119)\u001b[K\rremote: Counting objects:  61% (73/119)\u001b[K\rremote: Counting objects:  62% (74/119)\u001b[K\rremote: Counting objects:  63% (75/119)\u001b[K\rremote: Counting objects:  64% (77/119)\u001b[K\rremote: Counting objects:  65% (78/119)\u001b[K\rremote: Counting objects:  66% (79/119)\u001b[K\rremote: Counting objects:  67% (80/119)\u001b[K\rremote: Counting objects:  68% (81/119)\u001b[K\rremote: Counting objects:  69% (83/119)\u001b[K\rremote: Counting objects:  70% (84/119)\u001b[K\rremote: Counting objects:  71% (85/119)\u001b[K\rremote: Counting objects:  72% (86/119)\u001b[K\rremote: Counting objects:  73% (87/119)\u001b[K\rremote: Counting objects:  74% (89/119)\u001b[K\rremote: Counting objects:  75% (90/119)\u001b[K\rremote: Counting objects:  76% (91/119)\u001b[K\rremote: Counting objects:  77% (92/119)\u001b[K\rremote: Counting objects:  78% (93/119)\u001b[K\rremote: Counting objects:  79% (95/119)\u001b[K\rremote: Counting objects:  80% (96/119)\u001b[K\rremote: Counting objects:  81% (97/119)\u001b[K\rremote: Counting objects:  82% (98/119)\u001b[K\rremote: Counting objects:  83% (99/119)\u001b[K\rremote: Counting objects:  84% (100/119)\u001b[K\rremote: Counting objects:  85% (102/119)\u001b[K\rremote: Counting objects:  86% (103/119)\u001b[K\rremote: Counting objects:  87% (104/119)\u001b[K\rremote: Counting objects:  88% (105/119)\u001b[K\rremote: Counting objects:  89% (106/119)\u001b[K\rremote: Counting objects:  90% (108/119)\u001b[K\rremote: Counting objects:  91% (109/119)\u001b[K\rremote: Counting objects:  92% (110/119)\u001b[K\rremote: Counting objects:  93% (111/119)\u001b[K\rremote: Counting objects:  94% (112/119)\u001b[K\rremote: Counting objects:  95% (114/119)\u001b[K\rremote: Counting objects:  96% (115/119)\u001b[K\rremote: Counting objects:  97% (116/119)\u001b[K\rremote: Counting objects:  98% (117/119)\u001b[K\rremote: Counting objects:  99% (118/119)\u001b[K\rremote: Counting objects: 100% (119/119)\u001b[K\rremote: Counting objects: 100% (119/119), done.\u001b[K\n",
            "remote: Compressing objects: 100% (119/119), done.\u001b[K\n",
            "remote: Total 248 (delta 64), reused 0 (delta 0), pack-reused 129\u001b[K\n",
            "Receiving objects: 100% (248/248), 654.97 KiB | 5.00 MiB/s, done.\n",
            "Resolving deltas: 100% (136/136), done.\n",
            "/content/optim_raianars_Insight/Raianars_paper_One\n"
          ],
          "name": "stdout"
        }
      ]
    },
    {
      "cell_type": "code",
      "metadata": {
        "id": "_E15mKFURR6O"
      },
      "source": [
        "#import Go2Ann\n",
        "#import de_soma_Insight\n",
        "#import de_bounds_matriz\n",
        "#import Function\n",
        "#import Go2MinMax\n",
        "from AvaliaX import AvaliaX\n",
        "#from Function import FUN\n",
        "#from Function import Function.FUN\n",
        "#from Function import Function.Fun\n",
        "#from Function import Function\n",
        "from GeraIndices import GeraIndices\n",
        "import numpy as np\n",
        "import time\n",
        "import matplotlib.pyplot as plt\n",
        "from random import randint\n",
        "from scipy import optimize\n",
        "import pandas as pd\n",
        "from sklearn.metrics import confusion_matrix\n",
        "\n",
        "############################### DADOS DE ENTRADA \n",
        "RUNS=50 #NÚMERO DE RODADAS\n",
        "Fc=0.1 # fator de correcao parametros da ANN\n",
        "its=1 #10 # quantas vezes vai usar o NPAR antes de alterar de novo\n",
        "ITE=2000 #10 # PONTOS quantas vezes vai alteral NPAR \n",
        "NPAR=100\n",
        "mut=0.5\n",
        "crossp=0.5\n",
        "Fi=mut;CRi=crossp;# para impressão\n",
        "fator = 2.0/3.0; \n",
        "mut2=0.5;crossp2=0.5;mut3=0.75;crossp3=0.25;mut4=0.25;crossp4=0.25;\n"
      ],
      "execution_count": 4,
      "outputs": []
    },
    {
      "cell_type": "code",
      "metadata": {
        "colab": {
          "base_uri": "https://localhost:8080/"
        },
        "id": "ik3ZjkUKycUK",
        "outputId": "3c18d724-eaa2-4030-c86b-0111548ed919"
      },
      "source": [
        "############################### Importar códigos\n",
        "!git clone https://github.com/ucfilho/optim_raianars_Insight/ #clonar do Github\n",
        "%cd optim_raianars_Insight\n",
        "import de_soma_Insight\n",
        "import de_bounds_matriz"
      ],
      "execution_count": 5,
      "outputs": [
        {
          "output_type": "stream",
          "text": [
            "Cloning into 'optim_raianars_Insight'...\n",
            "remote: Enumerating objects: 323, done.\u001b[K\n",
            "remote: Counting objects:  11% (1/9)\u001b[K\rremote: Counting objects:  22% (2/9)\u001b[K\rremote: Counting objects:  33% (3/9)\u001b[K\rremote: Counting objects:  44% (4/9)\u001b[K\rremote: Counting objects:  55% (5/9)\u001b[K\rremote: Counting objects:  66% (6/9)\u001b[K\rremote: Counting objects:  77% (7/9)\u001b[K\rremote: Counting objects:  88% (8/9)\u001b[K\rremote: Counting objects: 100% (9/9)\u001b[K\rremote: Counting objects: 100% (9/9), done.\u001b[K\n",
            "remote: Compressing objects:  11% (1/9)\u001b[K\rremote: Compressing objects:  22% (2/9)\u001b[K\rremote: Compressing objects:  33% (3/9)\u001b[K\rremote: Compressing objects:  44% (4/9)\u001b[K\rremote: Compressing objects:  55% (5/9)\u001b[K\rremote: Compressing objects:  66% (6/9)\u001b[K\rremote: Compressing objects:  77% (7/9)\u001b[K\rremote: Compressing objects:  88% (8/9)\u001b[K\rremote: Compressing objects: 100% (9/9)\u001b[K\rremote: Compressing objects: 100% (9/9), done.\u001b[K\n",
            "remote: Total 323 (delta 3), reused 0 (delta 0), pack-reused 314\u001b[K\n",
            "Receiving objects: 100% (323/323), 312.84 KiB | 8.02 MiB/s, done.\n",
            "Resolving deltas: 100% (184/184), done.\n",
            "/content/optim_raianars_Insight/Raianars_paper_One/optim_raianars_Insight\n"
          ],
          "name": "stdout"
        }
      ]
    },
    {
      "cell_type": "code",
      "metadata": {
        "colab": {
          "base_uri": "https://localhost:8080/"
        },
        "id": "lJogRB30yepw",
        "outputId": "7cda646a-ece8-4c6b-9a16-dd80d40f7ef4"
      },
      "source": [
        "#!git clone https://github.com/ucfilho/Raianars_paper_one_revisited/AddFunctions \n",
        "!git clone https://github.com/ucfilho/Raianars_Routines #clonar do Github\n",
        "%cd Raianars_Routines"
      ],
      "execution_count": 6,
      "outputs": [
        {
          "output_type": "stream",
          "text": [
            "Cloning into 'Raianars_Routines'...\n",
            "remote: Enumerating objects: 36, done.\u001b[K\n",
            "remote: Counting objects: 100% (36/36), done.\u001b[K\n",
            "remote: Compressing objects: 100% (34/34), done.\u001b[K\n",
            "remote: Total 36 (delta 10), reused 0 (delta 0), pack-reused 0\u001b[K\n",
            "Unpacking objects: 100% (36/36), done.\n",
            "/content/optim_raianars_Insight/Raianars_paper_One/optim_raianars_Insight/Raianars_Routines\n"
          ],
          "name": "stdout"
        }
      ]
    },
    {
      "cell_type": "code",
      "metadata": {
        "id": "P8LIRCsdywOX"
      },
      "source": [
        "############################### Função\n",
        "import FunctionsNew\n",
        "#'''  \n",
        "############################### Função\n",
        "dim=30 # \n",
        "fchoice='Bent_Cigar'\n",
        "Fun=FunctionsNew.Bent_Cigar\n",
        "MAX=np.repeat(100,dim)\n",
        "MIN=np.repeat(-100,dim)\n",
        " #fx=\n",
        "#'''\n",
        "#####################################\n",
        "PAR=len(MAX) #NUM DE PARAMETROS A SER OTIMIZADOS\n",
        "\n",
        "bounds=[]\n",
        "for k in range(len(MAX)):\n",
        "  bounds.append((MIN[k],MAX[k]))"
      ],
      "execution_count": 7,
      "outputs": []
    },
    {
      "cell_type": "code",
      "metadata": {
        "colab": {
          "base_uri": "https://localhost:8080/"
        },
        "id": "QfCTvdZm5Luv",
        "outputId": "933aa663-ea18-427f-b08e-a514aff5d116"
      },
      "source": [
        "!ls"
      ],
      "execution_count": 8,
      "outputs": [
        {
          "output_type": "stream",
          "text": [
            "FunctionsNew.py  __pycache__  README.md\n"
          ],
          "name": "stdout"
        }
      ]
    },
    {
      "cell_type": "code",
      "metadata": {
        "colab": {
          "base_uri": "https://localhost:8080/"
        },
        "id": "qTINtQ1cosZK",
        "outputId": "5b92a609-ae20-429e-c1ba-b74734c57fd4"
      },
      "source": [
        "!git clone https://github.com/ucfilho/ANN_read_matrix #clonar do Github\n",
        "%cd ANN_read_matrix"
      ],
      "execution_count": 9,
      "outputs": [
        {
          "output_type": "stream",
          "text": [
            "Cloning into 'ANN_read_matrix'...\n",
            "remote: Enumerating objects: 20, done.\u001b[K\n",
            "remote: Counting objects: 100% (20/20), done.\u001b[K\n",
            "remote: Compressing objects: 100% (18/18), done.\u001b[K\n",
            "remote: Total 20 (delta 5), reused 0 (delta 0), pack-reused 0\u001b[K\n",
            "Unpacking objects: 100% (20/20), done.\n",
            "/content/optim_raianars_Insight/Raianars_paper_One/optim_raianars_Insight/Raianars_Routines/ANN_read_matrix\n"
          ],
          "name": "stdout"
        }
      ]
    },
    {
      "cell_type": "code",
      "metadata": {
        "id": "QiQLYOoNoyCw"
      },
      "source": [
        "ANN_F=pd.read_csv('ANN_INSIGHT_Valor_F.csv')"
      ],
      "execution_count": 10,
      "outputs": []
    },
    {
      "cell_type": "code",
      "metadata": {
        "id": "uHtW2amaDzFv"
      },
      "source": [
        "ANN_CR=pd.read_csv('ANN_INSIGHT_CR.csv')"
      ],
      "execution_count": 11,
      "outputs": []
    },
    {
      "cell_type": "code",
      "metadata": {
        "id": "EH6h_vke2yu1"
      },
      "source": [
        "syn0_F,syn1_F,X_max_F,X_min_F=Go2Ann.GetMatriz(ANN_F)"
      ],
      "execution_count": 12,
      "outputs": []
    },
    {
      "cell_type": "code",
      "metadata": {
        "id": "WW_3ZWJXD60i"
      },
      "source": [
        "syn0_CR,syn1_CR,X_max_CR,X_min_CR=Go2Ann.GetMatriz(ANN_CR)"
      ],
      "execution_count": 13,
      "outputs": []
    },
    {
      "cell_type": "code",
      "metadata": {
        "id": "b4gwBvVTyaXh"
      },
      "source": [
        "ANN_CR=pd.read_csv('ANN_INSIGHT_CR.csv')"
      ],
      "execution_count": 14,
      "outputs": []
    },
    {
      "cell_type": "code",
      "metadata": {
        "id": "6jL8MxpHvk-Y"
      },
      "source": [
        "fields = ['DI RELATIVO','FRAC Its','Fo','CRo']"
      ],
      "execution_count": 15,
      "outputs": []
    },
    {
      "cell_type": "code",
      "metadata": {
        "colab": {
          "base_uri": "https://localhost:8080/"
        },
        "id": "Mb3LmbSmj9v7",
        "outputId": "177dc45f-8404-4a98-e184-3209cc4f429b"
      },
      "source": [
        "##################################### \n",
        "\n",
        "TOTAL=10*dim*its*ITE\n",
        "TOTAL=int(TOTAL/2)   # CONFERIR SE ESTE EH O MELHOR LUGAR\n",
        "\n",
        "dimensions=len(MAX)\n",
        "start_time = time.time() #INICIALIZA CONTAGEM DO TEMPO\n",
        "\n",
        "\n",
        "PAR=dim\n",
        "fobj=Fun\n",
        "\n",
        "MAX_P=np.zeros(ITE) # ATENCAO para variar F e Cr MAX_P passa a ser 3 vezes maior\n",
        "MIN_P=np.zeros(ITE) # ATENCAO para variar F e Cr MIN_P passa a ser 3 vezes maior\n",
        "\n",
        "for i in range(dim):\n",
        "  MAX_P[i]=MAX[i] \n",
        "  MIN_P[i]=MIN[i]\n",
        "\n",
        "rodadas=1\n",
        "NPAR1=int(fator*NPAR);\n",
        "NPAR2=int((NPAR1)/3);\n",
        "NPAR3=int((NPAR1)/3);\n",
        "NPAR4=int((NPAR1)/3);\n",
        "\n",
        "NPAR1 = NPAR-NPAR2-NPAR3-NPAR4\n",
        "print('Npar1=',NPAR1);print('frac=',fator)\n",
        "print('Npar2=',NPAR2);\n",
        "print('Npar3=',NPAR3);\n",
        "print('Npar4=',NPAR4);\n",
        "print('Npar=',NPAR)\n",
        "\n",
        "cols=dim\n",
        "\n",
        "X1=np.zeros((NPAR1,cols)) # X1 is Frannk population\n",
        "for i in range(NPAR1):\n",
        "  for j in range(cols):\n",
        "    r=np.random.random()\n",
        "    X1[i,j]=r*(MAX[j]-MIN[j])+MIN[j]\n",
        "    \n",
        "X2=np.zeros((NPAR2,cols)) # X2 is population DE (default DE)\n",
        "for i in range(NPAR2):\n",
        "  for j in range(cols):\n",
        "    r=np.random.random()\n",
        "    X2[i,j]=r*(MAX[j]-MIN[j])+MIN[j]\n",
        "\n",
        "X3=np.zeros((NPAR3,cols)) # X1 is Frannk population\n",
        "for i in range(NPAR3):\n",
        "  for j in range(cols):\n",
        "    r=np.random.random()\n",
        "    X3[i,j]=r*(MAX[j]-MIN[j])+MIN[j]\n",
        "    \n",
        "X4=np.zeros((NPAR4,cols)) # X2 is population DE (default DE)\n",
        "for i in range(NPAR4):\n",
        "  for j in range(cols):\n",
        "    r=np.random.random()\n",
        "    X4[i,j]=r*(MAX[j]-MIN[j])+MIN[j]"
      ],
      "execution_count": 16,
      "outputs": [
        {
          "output_type": "stream",
          "text": [
            "Npar1= 34\n",
            "frac= 0.6666666666666666\n",
            "Npar2= 22\n",
            "Npar3= 22\n",
            "Npar4= 22\n",
            "Npar= 100\n"
          ],
          "name": "stdout"
        }
      ]
    },
    {
      "cell_type": "code",
      "metadata": {
        "colab": {
          "base_uri": "https://localhost:8080/"
        },
        "id": "rnX8ttNopd1G",
        "outputId": "c57979cb-1f80-46d7-bb8f-db9256118487"
      },
      "source": [
        "\n",
        "start_time = time.time()\n",
        "BEST_AGENTS=[]\n",
        "MAT_stat=[]\n",
        "for iii in range(RUNS):\n",
        "    MAT=[] \n",
        "    mut=Fi\n",
        "    crossp=CRi\n",
        "    SOMA=0\n",
        "    pop = np.random.rand(NPAR, dim)\n",
        "    diff=np.zeros(PAR)\n",
        "    X1=np.zeros((NPAR1,cols)) # X1 is Frannk population\n",
        "    for i in range(NPAR1):\n",
        "      for j in range(cols):\n",
        "        r=np.random.random()\n",
        "        X1[i,j]=r*(MAX[j]-MIN[j])+MIN[j]\n",
        "        \n",
        "    X2=np.zeros((NPAR2,cols)) # X2 is population DE (default DE)\n",
        "    for i in range(NPAR2):\n",
        "      for j in range(cols):\n",
        "        r=np.random.random()\n",
        "        X2[i,j]=r*(MAX[j]-MIN[j])+MIN[j]\n",
        "\n",
        "    X3=np.zeros((NPAR3,cols)) # X2 is population DE (default DE)\n",
        "    for i in range(NPAR3):\n",
        "      for j in range(cols):\n",
        "        r=np.random.random()\n",
        "        X3[i,j]=r*(MAX[j]-MIN[j])+MIN[j]\n",
        "\n",
        "    X4=np.zeros((NPAR4,cols)) # X2 is population DE (default DE)\n",
        "    for i in range(NPAR4):\n",
        "      for j in range(cols):\n",
        "        r=np.random.random()\n",
        "        X4[i,j]=r*(MAX[j]-MIN[j])+MIN[j]\n",
        "\n",
        "    DIo=1e99\n",
        "  \n",
        "    CRo=crossp;Fo=mut;\n",
        "    Fitness = np.asarray([Fun(ind) for ind in X1])\n",
        "    XY,BEST_XY,BESTo,FOBESTo=AvaliaX(X1,Fitness)\n",
        "    nrow,ncol=X1.shape\n",
        "\n",
        "    QUANT=17;MAT_INDo=np.zeros((1,QUANT)); # quantos indices esta fazendo\n",
        "    MAT_INDo[0,5]=nrow  # VALOR NP\n",
        "    MAT_INDo[0,6]=Fo    # VALOR Fo   \n",
        "    MAT_INDo[0,7]=CRo   # VALOR CRo\n",
        "  \n",
        "    MAT_INDo=GeraIndices(X1,BESTo,FOBESTo,DIo,MAT_INDo,SOMA,TOTAL,syn0_F,\n",
        "                        syn1_F,X_max_F,X_min_F,syn0_CR,syn1_CR,X_max_CR,\n",
        "                        X_min_CR,Fc,fields,Fun)\n",
        "  \n",
        "    DIo=np.copy(MAT_INDo[0,0])\n",
        "    MAT_INDo[0,15]=Fo    # VALOR Fo   \n",
        "    MAT_INDo[0,16]=CRo   # VALOR CRo\n",
        "    #ind_crossp=ITE-1\n",
        "    \n",
        "\n",
        "    \n",
        "    for k in range(ITE):\n",
        "\n",
        "      X2,BEST2,FOBEST,XY,BEST_XY=de_bounds_matriz.de(bounds, mut2, crossp2,NPAR2, its,fobj,X2)\n",
        "      X3,BEST3,FOBEST,XY,BEST_XY=de_bounds_matriz.de(bounds, mut3, crossp3,NPAR3, its,fobj,X3)\n",
        "      X4,BEST4,FOBEST,XY,BEST_XY=de_bounds_matriz.de(bounds, mut4, crossp4,NPAR4, its,fobj,X4)\n",
        "      \n",
        "      X1,BEST1,FOBEST,XY,BEST_XY,SOMA= de_soma_Insight.de(MAX,MIN, mut, crossp,NPAR1,its,Fun,X1,SOMA,TOTAL)\n",
        "\n",
        "      MAT_IND=GeraIndices(X1,BESTo,FOBESTo,DIo,MAT_INDo,SOMA,TOTAL,syn0_F,\n",
        "                          syn1_F,X_max_F,X_min_F,syn0_CR,syn1_CR,X_max_CR,\n",
        "                          X_min_CR,Fc,fields,Fun)\n",
        "    \n",
        "      BESTo=np.copy(BEST1);FOBESTo=np.copy(FOBEST);\n",
        "      MAT.append(MAT_IND.ravel())\n",
        "    \n",
        "      MAT_INDo[0,6]=MAT_IND[0,15]   # VALOR Fo   \n",
        "      MAT_INDo[0,7]=MAT_IND[0,16]   # VALOR CRo\n",
        "      mut=MAT_IND[0,15]\n",
        "      crossp=MAT_IND[0,16]\n",
        "      X1[0,:] = BEST2;X1[1,:] = BEST3; X1[2,:] = BEST4;X1[NPAR1-1,:] = BEST1;\n",
        "      X2[0,:] = BEST1;X2[1,:] = BEST3;X2[2,:] = BEST4;X2[NPAR2-1,:] = BEST2;\n",
        "      X3[0,:] = BEST1;X3[1,:] = BEST2;X3[2,:] = BEST4;X3[NPAR3-1,:] = BEST3;\n",
        "      X4[0,:] = BEST1;X4[1,:] = BEST2;X4[2,:] = BEST3;X4[NPAR4-1,:] = BEST4;\n",
        "    print('k=',iii,'time=',(time.time()-start_time)/60)  \n",
        "    BEST_AGENTS.append(BEST_XY)\n",
        "    MAT_stat.append(MAT)\n",
        "    #print(\"GlobalParam e Solucao:\", BEST,\"Funcao=\",FOBEST)\n",
        "    \n",
        "############################## Cálculo dos Parâmetros de Avaliação   \n",
        "TIME = (time.time() - start_time)/RUNS\n",
        "BEST_AGENTS=np.array(BEST_AGENTS)\n",
        "BEST_AGENTS_ST= BEST_AGENTS[BEST_AGENTS[:,-1].argsort()]\n",
        "BEST=BEST_AGENTS_ST[0]\n",
        "WORSE=BEST_AGENTS_ST[-1]\n",
        "MEAN=np.mean(BEST_AGENTS,axis=0)\n",
        "MAXFO=BEST_AGENTS[:,-1].max()\n",
        "MINFO=BEST_AGENTS[:,-1].min()\n",
        "STD=BEST_AGENTS[:,-1].std()"
      ],
      "execution_count": 17,
      "outputs": [
        {
          "output_type": "stream",
          "text": [
            "k= 0 time= 1.1322112719217936\n",
            "k= 1 time= 2.256817364692688\n",
            "k= 2 time= 3.378588100274404\n",
            "k= 3 time= 4.5066019058227536\n",
            "k= 4 time= 5.6324746688206995\n",
            "k= 5 time= 6.770126183827718\n",
            "k= 6 time= 7.892560493946076\n",
            "k= 7 time= 9.015787601470947\n",
            "k= 8 time= 10.139249710241954\n",
            "k= 9 time= 11.26388458808263\n",
            "k= 10 time= 12.387217219670614\n",
            "k= 11 time= 13.514092254638673\n",
            "k= 12 time= 14.646197581291199\n",
            "k= 13 time= 15.778426841894786\n",
            "k= 14 time= 16.898956195513406\n",
            "k= 15 time= 18.023388771216073\n",
            "k= 16 time= 19.148477435112\n",
            "k= 17 time= 20.27493276198705\n",
            "k= 18 time= 21.40368554989497\n",
            "k= 19 time= 22.529135322570802\n",
            "k= 20 time= 23.653954390684763\n",
            "k= 21 time= 24.78350060780843\n",
            "k= 22 time= 25.925507239500682\n",
            "k= 23 time= 27.057504192988077\n",
            "k= 24 time= 28.17728147506714\n",
            "k= 25 time= 29.30047391653061\n",
            "k= 26 time= 30.43302417198817\n",
            "k= 27 time= 31.577681640783947\n",
            "k= 28 time= 32.72893368403117\n",
            "k= 29 time= 33.88257750272751\n",
            "k= 30 time= 35.05090795755386\n",
            "k= 31 time= 36.21015242338181\n",
            "k= 32 time= 37.37203279733658\n",
            "k= 33 time= 38.54834025303523\n",
            "k= 34 time= 39.703347524007164\n",
            "k= 35 time= 40.87080576817195\n",
            "k= 36 time= 42.029845003287\n",
            "k= 37 time= 43.18035744825999\n",
            "k= 38 time= 44.33385944366455\n",
            "k= 39 time= 45.48238415320714\n",
            "k= 40 time= 46.611871393521625\n",
            "k= 41 time= 47.74301035006841\n",
            "k= 42 time= 48.86963793039322\n",
            "k= 43 time= 50.00704131126404\n",
            "k= 44 time= 51.15585994323094\n",
            "k= 45 time= 52.305795562267306\n",
            "k= 46 time= 53.448424625396726\n",
            "k= 47 time= 54.59802023172379\n",
            "k= 48 time= 55.73351756334305\n",
            "k= 49 time= 56.86092165708542\n"
          ],
          "name": "stdout"
        }
      ]
    },
    {
      "cell_type": "code",
      "metadata": {
        "id": "hPpkYEjBtKLU",
        "colab": {
          "base_uri": "https://localhost:8080/"
        },
        "outputId": "3c0c3cdc-250c-498e-ddb9-ce36b9f71fc7"
      },
      "source": [
        "X1.shape"
      ],
      "execution_count": 18,
      "outputs": [
        {
          "output_type": "execute_result",
          "data": {
            "text/plain": [
              "(34, 30)"
            ]
          },
          "metadata": {
            "tags": []
          },
          "execution_count": 18
        }
      ]
    },
    {
      "cell_type": "code",
      "metadata": {
        "id": "TLEE0UrZSvJF",
        "colab": {
          "base_uri": "https://localhost:8080/"
        },
        "outputId": "99c33f85-5392-4643-9005-08a57fbe9b50"
      },
      "source": [
        "#len(X2[1,:])\n",
        "print(cols)"
      ],
      "execution_count": 19,
      "outputs": [
        {
          "output_type": "stream",
          "text": [
            "30\n"
          ],
          "name": "stdout"
        }
      ]
    },
    {
      "cell_type": "code",
      "metadata": {
        "id": "k3p9TGsx1OCu"
      },
      "source": [
        "NOMES=['DIVERSIDADE (DI)',  'DI RELATIVO','FRAC Its',\n",
        "           'VELOC FOBJ','VELOC X','NP','Fo','CRo','fmin','fmax',\n",
        "           'AD_fmin','AD_fmax','DELTA FOBJ','DELTA VX','r_fitness',\n",
        "           'F','CR']\n",
        "# BEST_INDEX= BEST_AGENTS[BEST_AGENTS[:,-1].argmin()]  \n",
        "BEST_INDEX = np.argmin(BEST_AGENTS[:,-1])\n",
        "df=pd.DataFrame(MAT_stat[BEST_INDEX], columns=NOMES)\n",
        "\n"
      ],
      "execution_count": 20,
      "outputs": []
    },
    {
      "cell_type": "code",
      "metadata": {
        "id": "jIHiKR_t1xxs",
        "colab": {
          "base_uri": "https://localhost:8080/"
        },
        "outputId": "3209b568-fe2f-49ac-dd8e-372afeaaa30c"
      },
      "source": [
        "pd.set_option('display.max_columns', 30)  \n",
        "print(df)"
      ],
      "execution_count": 21,
      "outputs": [
        {
          "output_type": "stream",
          "text": [
            "      DIVERSIDADE (DI)   DI RELATIVO  FRAC Its  VELOC FOBJ  VELOC X    NP  \\\n",
            "0         3.111741e+02  9.771393e-01  0.000113         0.0      0.0  34.0   \n",
            "1         2.936255e+02  9.220337e-01  0.000227         1.0      2.0  34.0   \n",
            "2         2.840215e+02  8.918755e-01  0.000340         1.0      2.0  34.0   \n",
            "3         2.744546e+02  8.618338e-01  0.000453         0.0      0.0  34.0   \n",
            "4         2.635833e+02  8.276960e-01  0.000567         0.0      0.0  34.0   \n",
            "...                ...           ...       ...         ...      ...   ...   \n",
            "1995      3.673955e-25  1.153684e-27  0.226213         1.0      1.0  34.0   \n",
            "1996      3.717002e-25  1.167202e-27  0.226327         0.0      0.0  34.0   \n",
            "1997      3.766780e-25  1.182833e-27  0.226440         1.0      1.0  34.0   \n",
            "1998      3.684948e-25  1.157136e-27  0.226553         1.0      1.0  34.0   \n",
            "1999      3.177878e-25  9.979074e-28  0.226667         1.0      1.0  34.0   \n",
            "\n",
            "            Fo       CRo          fmin          fmax  AD_fmin  AD_fmax  \\\n",
            "0     0.500000  0.500000  6.732459e+10  1.284167e+11      1.0      1.0   \n",
            "1     0.255715  0.337143  6.091005e+10  1.058357e+11      1.0      1.0   \n",
            "2     0.432549  0.233524  4.425085e+10  1.012797e+11      1.0      1.0   \n",
            "3     0.239659  0.164099  4.425085e+10  1.008475e+11      1.0      1.0   \n",
            "4     0.394569  0.234813  4.425085e+10  1.008475e+11      1.0      1.0   \n",
            "...        ...       ...           ...           ...      ...      ...   \n",
            "1995  0.336337  0.139216  1.066542e-49  1.036375e-47      1.0      1.0   \n",
            "1996  0.336337  0.139216  1.066542e-49  1.020211e-47      1.0      1.0   \n",
            "1997  0.336337  0.139216  9.354765e-50  8.901922e-48      1.0      1.0   \n",
            "1998  0.336337  0.139216  9.213077e-50  8.638063e-48      1.0      1.0   \n",
            "1999  0.336337  0.139216  8.785018e-50  6.920395e-48      1.0      1.0   \n",
            "\n",
            "      DELTA FOBJ  DELTA VX  r_fitness         F        CR  \n",
            "0            0.0       0.0   0.475733  0.255715  0.337143  \n",
            "1            0.0       0.0   0.424485  0.432549  0.233524  \n",
            "2            0.0       0.0   0.563083  0.239659  0.164099  \n",
            "3            0.0       0.0   0.561210  0.394569  0.234813  \n",
            "4            0.0       0.0   0.561210  0.639506  0.170028  \n",
            "...          ...       ...        ...       ...       ...  \n",
            "1995         0.0       0.0   0.989709  0.336337  0.139216  \n",
            "1996         0.0       0.0   0.989546  0.336337  0.139216  \n",
            "1997         0.0       0.0   0.989491  0.336337  0.139216  \n",
            "1998         0.0       0.0   0.989334  0.336337  0.139216  \n",
            "1999         0.0       0.0   0.987306  0.336337  0.139216  \n",
            "\n",
            "[2000 rows x 17 columns]\n"
          ],
          "name": "stdout"
        }
      ]
    },
    {
      "cell_type": "code",
      "metadata": {
        "id": "bx0ywpMtAAjw",
        "colab": {
          "base_uri": "https://localhost:8080/",
          "height": 300
        },
        "outputId": "ad790207-4f03-409a-d4da-ce9473ae7054"
      },
      "source": [
        "plt.plot(df['FRAC Its'],df['CR'])\n",
        "plt.xlabel('Iteração/Total')\n",
        "plt.ylabel('CR')"
      ],
      "execution_count": 22,
      "outputs": [
        {
          "output_type": "execute_result",
          "data": {
            "text/plain": [
              "Text(0, 0.5, 'CR')"
            ]
          },
          "metadata": {
            "tags": []
          },
          "execution_count": 22
        },
        {
          "output_type": "display_data",
          "data": {
            "image/png": "[encoded data removed]",
            "text/plain": [
              "<Figure size 432x288 with 1 Axes>"
            ]
          },
          "metadata": {
            "tags": [],
            "needs_background": "light"
          }
        }
      ]
    },
    {
      "cell_type": "code",
      "metadata": {
        "id": "BvPFvbDvteDC",
        "colab": {
          "base_uri": "https://localhost:8080/",
          "height": 295
        },
        "outputId": "656735e5-a98e-491a-de2b-8fdee784c1b7"
      },
      "source": [
        "\n",
        "fig, ax = plt.subplots()\n",
        "ax.plot(df['FRAC Its'],df['F'],label='F')\n",
        "ax.set_xlabel('Iteração/Total')\n",
        "ax.set_ylabel('Parâmetros')\n",
        "ax.plot(df['FRAC Its'],df['CR'],'-r', label='CR')\n",
        "nome=Fun.__name__+'  M=Diversidade'+ '  D='+str(dim)\n",
        "ax.set_title(nome)\n",
        "leg = ax.legend()\n"
      ],
      "execution_count": 23,
      "outputs": [
        {
          "output_type": "display_data",
          "data": {
            "image/png": "[encoded data removed]",
            "text/plain": [
              "<Figure size 432x288 with 1 Axes>"
            ]
          },
          "metadata": {
            "tags": [],
            "needs_background": "light"
          }
        }
      ]
    },
    {
      "cell_type": "code",
      "metadata": {
        "id": "htooaGpDia_0",
        "colab": {
          "base_uri": "https://localhost:8080/",
          "height": 312
        },
        "outputId": "b9f66cab-a048-4269-c1a3-91d26e69ef05"
      },
      "source": [
        "f, axarr = plt.subplots(2, sharex=True)\n",
        "axarr[0].plot(df['FRAC Its'],df['F'])\n",
        "axarr[0].set_ylabel('F')\n",
        "axarr[1].plot(df['FRAC Its'],df['CR'])\n",
        "axarr[1].set_ylabel('CR')\n",
        "axarr[1].set_xlabel('Iteração/Total')\n",
        "nome=Fun.__name__+'_Diversidade_'+ 'D='+str(dim)\n",
        "axarr[0].set_title(nome)\n"
      ],
      "execution_count": 24,
      "outputs": [
        {
          "output_type": "execute_result",
          "data": {
            "text/plain": [
              "Text(0.5, 1.0, 'Bent_Cigar_Diversidade_D=30')"
            ]
          },
          "metadata": {
            "tags": []
          },
          "execution_count": 24
        },
        {
          "output_type": "display_data",
          "data": {
            "image/png": "[encoded data removed]",
            "text/plain": [
              "<Figure size 432x288 with 2 Axes>"
            ]
          },
          "metadata": {
            "tags": [],
            "needs_background": "light"
          }
        }
      ]
    },
    {
      "cell_type": "code",
      "metadata": {
        "id": "lNSN5X-wskcx",
        "colab": {
          "base_uri": "https://localhost:8080/"
        },
        "outputId": "1e7dbc09-ae12-4be5-eec6-ab270954052f"
      },
      "source": [
        "nome='_ANN_Div3x4_Fo-'+str(Fi)+'_CRo-'+str(CRi)+'_D-'+str(dim)+'_Interv-'+str(ITE)\n",
        "print('DE_POP_VAR_F_CR','TOTAL=',TOTAL,'Iterações=',ITE*its,'Dim=', PAR,\"Min/Max=\",MIN[0],\"/\",MAX[0],'_',Fun.__name__)\n",
        "print(nome, '\\n')\n",
        "#print('BEST: ',BEST)\n",
        "#print('MÉDIA: ',MEAN)\n",
        "print('MÉDIA: ',MEAN[-1])\n",
        "print('MIN __:',MINFO)\n",
        "print('MAX__: ',MAXFO)\n",
        "print('STD __:',STD)\n",
        "print(\"Tempo Médio= %.3f segundos ---\" % (TIME))\n",
        "print(RUNS,'Rodadas') \n",
        "print()\n",
        "print('BEST: ',BEST)\n",
        "# print('melhor=',BEST_AGENTS[BEST_INDEX])"
      ],
      "execution_count": 25,
      "outputs": [
        {
          "output_type": "stream",
          "text": [
            "DE_POP_VAR_F_CR TOTAL= 300000 Iterações= 2000 Dim= 30 Min/Max= -100 / 100 _ Bent_Cigar\n",
            "_ANN_Div3x4_Fo-0.5_CRo-0.5_D-30_Interv-2000 \n",
            "\n",
            "MÉDIA:  3.676265776523693e-42\n",
            "MIN __: 8.785017565255588e-50\n",
            "MAX__:  9.25432922818713e-41\n",
            "STD __: 1.6327416605630907e-41\n",
            "Tempo Médio= 68.233 segundos ---\n",
            "50 Rodadas\n",
            "\n",
            "BEST:  [ 8.16678047e-26 -1.60869033e-30  3.69302580e-29 -6.40460432e-30\n",
            " -1.71376282e-30  1.00898554e-29  8.40512189e-29  3.79467924e-30\n",
            " -1.23967613e-29  9.10246135e-30 -2.10039501e-29  2.22540674e-29\n",
            "  1.00905772e-28 -9.08045060e-30  2.77538978e-30  1.03594444e-28\n",
            "  1.58201774e-29  5.03961120e-29  1.61651121e-28 -1.56554627e-29\n",
            "  1.61520746e-29  2.16464861e-30  6.41756227e-29 -2.65092089e-31\n",
            " -7.74981169e-29  4.09280371e-29  7.77577032e-29 -3.75776083e-29\n",
            "  3.69128876e-29  1.89768060e-29  8.78501757e-50]\n"
          ],
          "name": "stdout"
        }
      ]
    }
  ]
}
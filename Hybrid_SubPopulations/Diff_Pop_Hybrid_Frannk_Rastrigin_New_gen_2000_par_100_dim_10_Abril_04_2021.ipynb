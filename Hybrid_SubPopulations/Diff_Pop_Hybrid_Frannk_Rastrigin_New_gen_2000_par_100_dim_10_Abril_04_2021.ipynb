{
  "nbformat": 4,
  "nbformat_minor": 0,
  "metadata": {
    "colab": {
      "name": "Diff_Pop_Hybrid_Frannk_Rastrigin_New_gen_2000_par_100_dim_10_Abril_04_2021.ipynb",
      "provenance": [],
      "collapsed_sections": [],
      "include_colab_link": true
    },
    "kernelspec": {
      "display_name": "Python 3",
      "name": "python3"
    },
    "language_info": {
      "codemirror_mode": {
        "name": "ipython",
        "version": 3
      },
      "file_extension": ".py",
      "mimetype": "text/x-python",
      "name": "python",
      "nbconvert_exporter": "python",
      "pygments_lexer": "ipython3",
      "version": "3.7.3"
    }
  },
  "cells": [
    {
      "cell_type": "markdown",
      "metadata": {
        "id": "view-in-github",
        "colab_type": "text"
      },
      "source": [
        "<a href=\"https://colab.research.google.com/github/ucfilho/Raianars_paper_one_revisited/blob/main/Hybrid_SubPopulations/Diff_Pop_Hybrid_Frannk_Rastrigin_New_gen_2000_par_100_dim_10_Abril_04_2021.ipynb\" target=\"_parent\"><img src=\"https://colab.research.google.com/assets/colab-badge.svg\" alt=\"Open In Colab\"/></a>"
      ]
    },
    {
      "cell_type": "code",
      "metadata": {
        "colab": {
          "base_uri": "https://localhost:8080/"
        },
        "id": "c59cDVKoxDLX",
        "outputId": "98402208-0b2b-4dde-db98-918d63fd36cb"
      },
      "source": [
        "############################### Importar códigos\n",
        "!git clone https://github.com/ucfilho/optim_raianars_Insight/ #clonar do Github\n",
        "%cd optim_raianars_Insight\n",
        "import de_soma_Insight\n",
        "import de_bounds_matriz\n",
        "import Go2Ann"
      ],
      "execution_count": 1,
      "outputs": [
        {
          "output_type": "stream",
          "text": [
            "Cloning into 'optim_raianars_Insight'...\n",
            "remote: Enumerating objects: 9, done.\u001b[K\n",
            "remote: Counting objects: 100% (9/9), done.\u001b[K\n",
            "remote: Compressing objects: 100% (9/9), done.\u001b[K\n",
            "remote: Total 323 (delta 3), reused 0 (delta 0), pack-reused 314\u001b[K\n",
            "Receiving objects: 100% (323/323), 312.84 KiB | 1.66 MiB/s, done.\n",
            "Resolving deltas: 100% (184/184), done.\n",
            "/content/optim_raianars_Insight\n"
          ],
          "name": "stdout"
        }
      ]
    },
    {
      "cell_type": "code",
      "metadata": {
        "id": "88sLduNFwZ9Y"
      },
      "source": [
        "# PSO 2016 \n",
        "#  Gen =1000,1500, 2000\n",
        "#  Npar= 20, 40, 80\n",
        "#  dim = 10,20,30\n",
        "# Dynamic parameter adaptation in particle swarm optimization\n",
        "#  using interval type-2 fuzzy logic -Soft Comput (2016) 20:1057–1070"
      ],
      "execution_count": 2,
      "outputs": []
    },
    {
      "cell_type": "code",
      "metadata": {
        "colab": {
          "base_uri": "https://localhost:8080/"
        },
        "id": "Va-6Xios8RjU",
        "outputId": "a08eb664-53d6-412e-cc68-9ca462f575b8"
      },
      "source": [
        "!git clone https://github.com/ucfilho/Raianars_paper_One #clonar do Github\n",
        "%cd Raianars_paper_One"
      ],
      "execution_count": 3,
      "outputs": [
        {
          "output_type": "stream",
          "text": [
            "Cloning into 'Raianars_paper_One'...\n",
            "remote: Enumerating objects: 119, done.\u001b[K\n",
            "remote: Counting objects: 100% (119/119), done.\u001b[K\n",
            "remote: Compressing objects: 100% (119/119), done.\u001b[K\n",
            "remote: Total 248 (delta 64), reused 0 (delta 0), pack-reused 129\u001b[K\n",
            "Receiving objects: 100% (248/248), 654.97 KiB | 2.62 MiB/s, done.\n",
            "Resolving deltas: 100% (136/136), done.\n",
            "/content/optim_raianars_Insight/Raianars_paper_One\n"
          ],
          "name": "stdout"
        }
      ]
    },
    {
      "cell_type": "code",
      "metadata": {
        "id": "_E15mKFURR6O"
      },
      "source": [
        "#import Go2Ann\n",
        "#import de_soma_Insight\n",
        "#import de_bounds_matriz\n",
        "#import Function\n",
        "#import Go2MinMax\n",
        "from AvaliaX import AvaliaX\n",
        "#from Function import FUN\n",
        "#from Function import Function.FUN\n",
        "#from Function import Function.Fun\n",
        "#from Function import Function\n",
        "from GeraIndices import GeraIndices\n",
        "import numpy as np\n",
        "import time\n",
        "import matplotlib.pyplot as plt\n",
        "from random import randint\n",
        "from scipy import optimize\n",
        "import pandas as pd\n",
        "from sklearn.metrics import confusion_matrix\n",
        "\n",
        "############################### DADOS DE ENTRADA \n",
        "RUNS=50 #NÚMERO DE RODADAS\n",
        "Fc=0.1 # fator de correcao parametros da ANN\n",
        "its=1 #10 # quantas vezes vai usar o NPAR antes de alterar de novo\n",
        "ITE=2000 #10 # PONTOS quantas vezes vai alteral NPAR \n",
        "NPAR=100\n",
        "mut=0.5\n",
        "crossp=0.5\n",
        "Fi=mut;CRi=crossp;# para impressão\n",
        "fator = 2.0/3.0; \n",
        "mut2=0.5;crossp2=0.5;mut3=0.75;crossp3=0.25;mut4=0.25;crossp4=0.25;\n"
      ],
      "execution_count": 4,
      "outputs": []
    },
    {
      "cell_type": "code",
      "metadata": {
        "colab": {
          "base_uri": "https://localhost:8080/"
        },
        "id": "ik3ZjkUKycUK",
        "outputId": "93d1cb67-c5d6-4235-b5c5-bd6b577cfc1f"
      },
      "source": [
        "############################### Importar códigos\n",
        "!git clone https://github.com/ucfilho/optim_raianars_Insight/ #clonar do Github\n",
        "%cd optim_raianars_Insight\n",
        "import de_soma_Insight\n",
        "import de_bounds_matriz"
      ],
      "execution_count": 5,
      "outputs": [
        {
          "output_type": "stream",
          "text": [
            "Cloning into 'optim_raianars_Insight'...\n",
            "remote: Enumerating objects: 9, done.\u001b[K\n",
            "remote: Counting objects: 100% (9/9), done.\u001b[K\n",
            "remote: Compressing objects: 100% (9/9), done.\u001b[K\n",
            "remote: Total 323 (delta 3), reused 0 (delta 0), pack-reused 314\u001b[K\n",
            "Receiving objects: 100% (323/323), 312.84 KiB | 1.60 MiB/s, done.\n",
            "Resolving deltas: 100% (184/184), done.\n",
            "/content/optim_raianars_Insight/Raianars_paper_One/optim_raianars_Insight\n"
          ],
          "name": "stdout"
        }
      ]
    },
    {
      "cell_type": "code",
      "metadata": {
        "colab": {
          "base_uri": "https://localhost:8080/"
        },
        "id": "lJogRB30yepw",
        "outputId": "b13be225-84a9-49c9-ea0d-adbb1e215659"
      },
      "source": [
        "#!git clone https://github.com/ucfilho/Raianars_paper_one_revisited/AddFunctions \n",
        "!git clone https://github.com/ucfilho/Raianars_Routines #clonar do Github\n",
        "%cd Raianars_Routines"
      ],
      "execution_count": 6,
      "outputs": [
        {
          "output_type": "stream",
          "text": [
            "Cloning into 'Raianars_Routines'...\n",
            "remote: Enumerating objects: 36, done.\u001b[K\n",
            "remote: Counting objects: 100% (36/36), done.\u001b[K\n",
            "remote: Compressing objects: 100% (34/34), done.\u001b[K\n",
            "remote: Total 36 (delta 10), reused 0 (delta 0), pack-reused 0\u001b[K\n",
            "Unpacking objects: 100% (36/36), done.\n",
            "/content/optim_raianars_Insight/Raianars_paper_One/optim_raianars_Insight/Raianars_Routines\n"
          ],
          "name": "stdout"
        }
      ]
    },
    {
      "cell_type": "code",
      "metadata": {
        "id": "P8LIRCsdywOX"
      },
      "source": [
        "############################### Função\n",
        "import FunctionsNew\n",
        "#'''  \n",
        "############################### Função\n",
        "dim=10 # \n",
        "fchoice='Rastrigin'\n",
        "Fun=FunctionsNew.Rastrigin\n",
        "MAX=np.repeat(5.12,dim)\n",
        "MIN=np.repeat(-5.12,dim)\n",
        " #fx=\n",
        "#'''\n",
        "#####################################\n",
        "PAR=len(MAX) #NUM DE PARAMETROS A SER OTIMIZADOS\n",
        "\n",
        "bounds=[]\n",
        "for k in range(len(MAX)):\n",
        "  bounds.append((MIN[k],MAX[k]))"
      ],
      "execution_count": 7,
      "outputs": []
    },
    {
      "cell_type": "code",
      "metadata": {
        "colab": {
          "base_uri": "https://localhost:8080/"
        },
        "id": "QfCTvdZm5Luv",
        "outputId": "e40d717b-fae2-40df-eb8d-3ab3c541c08c"
      },
      "source": [
        "!ls"
      ],
      "execution_count": 8,
      "outputs": [
        {
          "output_type": "stream",
          "text": [
            "FunctionsNew.py  __pycache__  README.md\n"
          ],
          "name": "stdout"
        }
      ]
    },
    {
      "cell_type": "code",
      "metadata": {
        "colab": {
          "base_uri": "https://localhost:8080/"
        },
        "id": "qTINtQ1cosZK",
        "outputId": "0e33b18e-ba58-4512-f7cd-ee6b15769353"
      },
      "source": [
        "!git clone https://github.com/ucfilho/ANN_read_matrix #clonar do Github\n",
        "%cd ANN_read_matrix"
      ],
      "execution_count": 9,
      "outputs": [
        {
          "output_type": "stream",
          "text": [
            "Cloning into 'ANN_read_matrix'...\n",
            "remote: Enumerating objects: 20, done.\u001b[K\n",
            "remote: Counting objects: 100% (20/20), done.\u001b[K\n",
            "remote: Compressing objects: 100% (18/18), done.\u001b[K\n",
            "remote: Total 20 (delta 5), reused 0 (delta 0), pack-reused 0\u001b[K\n",
            "Unpacking objects: 100% (20/20), done.\n",
            "/content/optim_raianars_Insight/Raianars_paper_One/optim_raianars_Insight/Raianars_Routines/ANN_read_matrix\n"
          ],
          "name": "stdout"
        }
      ]
    },
    {
      "cell_type": "code",
      "metadata": {
        "id": "QiQLYOoNoyCw"
      },
      "source": [
        "ANN_F=pd.read_csv('ANN_INSIGHT_Valor_F.csv')"
      ],
      "execution_count": 10,
      "outputs": []
    },
    {
      "cell_type": "code",
      "metadata": {
        "id": "uHtW2amaDzFv"
      },
      "source": [
        "ANN_CR=pd.read_csv('ANN_INSIGHT_CR.csv')"
      ],
      "execution_count": 11,
      "outputs": []
    },
    {
      "cell_type": "code",
      "metadata": {
        "id": "EH6h_vke2yu1"
      },
      "source": [
        "syn0_F,syn1_F,X_max_F,X_min_F=Go2Ann.GetMatriz(ANN_F)"
      ],
      "execution_count": 12,
      "outputs": []
    },
    {
      "cell_type": "code",
      "metadata": {
        "id": "WW_3ZWJXD60i"
      },
      "source": [
        "syn0_CR,syn1_CR,X_max_CR,X_min_CR=Go2Ann.GetMatriz(ANN_CR)"
      ],
      "execution_count": 13,
      "outputs": []
    },
    {
      "cell_type": "code",
      "metadata": {
        "id": "b4gwBvVTyaXh"
      },
      "source": [
        "ANN_CR=pd.read_csv('ANN_INSIGHT_CR.csv')"
      ],
      "execution_count": 14,
      "outputs": []
    },
    {
      "cell_type": "code",
      "metadata": {
        "id": "6jL8MxpHvk-Y"
      },
      "source": [
        "fields = ['DI RELATIVO','FRAC Its','Fo','CRo']"
      ],
      "execution_count": 15,
      "outputs": []
    },
    {
      "cell_type": "code",
      "metadata": {
        "colab": {
          "base_uri": "https://localhost:8080/"
        },
        "id": "Mb3LmbSmj9v7",
        "outputId": "4e253461-a9ea-47d2-95e4-973169e09b60"
      },
      "source": [
        "##################################### \n",
        "\n",
        "TOTAL=10*dim*its*ITE\n",
        "TOTAL=int(TOTAL/2)   # CONFERIR SE ESTE EH O MELHOR LUGAR\n",
        "\n",
        "dimensions=len(MAX)\n",
        "start_time = time.time() #INICIALIZA CONTAGEM DO TEMPO\n",
        "\n",
        "\n",
        "PAR=dim\n",
        "fobj=Fun\n",
        "\n",
        "MAX_P=np.zeros(ITE) # ATENCAO para variar F e Cr MAX_P passa a ser 3 vezes maior\n",
        "MIN_P=np.zeros(ITE) # ATENCAO para variar F e Cr MIN_P passa a ser 3 vezes maior\n",
        "\n",
        "for i in range(dim):\n",
        "  MAX_P[i]=MAX[i] \n",
        "  MIN_P[i]=MIN[i]\n",
        "\n",
        "rodadas=1\n",
        "NPAR1=int(fator*NPAR);\n",
        "NPAR2=int((NPAR1)/3);\n",
        "NPAR3=int((NPAR1)/3);\n",
        "NPAR4=int((NPAR1)/3);\n",
        "\n",
        "NPAR1 = NPAR-NPAR2-NPAR3-NPAR4\n",
        "print('Npar1=',NPAR1);print('frac=',fator)\n",
        "print('Npar2=',NPAR2);\n",
        "print('Npar3=',NPAR3);\n",
        "print('Npar4=',NPAR4);\n",
        "print('Npar=',NPAR)\n",
        "\n",
        "cols=dim\n",
        "\n",
        "X1=np.zeros((NPAR1,cols)) # X1 is Frannk population\n",
        "for i in range(NPAR1):\n",
        "  for j in range(cols):\n",
        "    r=np.random.random()\n",
        "    X1[i,j]=r*(MAX[j]-MIN[j])+MIN[j]\n",
        "    \n",
        "X2=np.zeros((NPAR2,cols)) # X2 is population DE (default DE)\n",
        "for i in range(NPAR2):\n",
        "  for j in range(cols):\n",
        "    r=np.random.random()\n",
        "    X2[i,j]=r*(MAX[j]-MIN[j])+MIN[j]\n",
        "\n",
        "X3=np.zeros((NPAR3,cols)) # X1 is Frannk population\n",
        "for i in range(NPAR3):\n",
        "  for j in range(cols):\n",
        "    r=np.random.random()\n",
        "    X3[i,j]=r*(MAX[j]-MIN[j])+MIN[j]\n",
        "    \n",
        "X4=np.zeros((NPAR4,cols)) # X2 is population DE (default DE)\n",
        "for i in range(NPAR4):\n",
        "  for j in range(cols):\n",
        "    r=np.random.random()\n",
        "    X4[i,j]=r*(MAX[j]-MIN[j])+MIN[j]"
      ],
      "execution_count": 16,
      "outputs": [
        {
          "output_type": "stream",
          "text": [
            "Npar1= 34\n",
            "frac= 0.6666666666666666\n",
            "Npar2= 22\n",
            "Npar3= 22\n",
            "Npar4= 22\n",
            "Npar= 100\n"
          ],
          "name": "stdout"
        }
      ]
    },
    {
      "cell_type": "code",
      "metadata": {
        "colab": {
          "base_uri": "https://localhost:8080/"
        },
        "id": "rnX8ttNopd1G",
        "outputId": "32141735-b9b9-4a19-948f-59dd73175d6c"
      },
      "source": [
        "\n",
        "start_time = time.time()\n",
        "BEST_AGENTS=[]\n",
        "MAT_stat=[]\n",
        "for iii in range(RUNS):\n",
        "    MAT=[] \n",
        "    mut=Fi\n",
        "    crossp=CRi\n",
        "    SOMA=0\n",
        "    pop = np.random.rand(NPAR, dim)\n",
        "    diff=np.zeros(PAR)\n",
        "    X1=np.zeros((NPAR1,cols)) # X1 is Frannk population\n",
        "    for i in range(NPAR1):\n",
        "      for j in range(cols):\n",
        "        r=np.random.random()\n",
        "        X1[i,j]=r*(MAX[j]-MIN[j])+MIN[j]\n",
        "        \n",
        "    X2=np.zeros((NPAR2,cols)) # X2 is population DE (default DE)\n",
        "    for i in range(NPAR2):\n",
        "      for j in range(cols):\n",
        "        r=np.random.random()\n",
        "        X2[i,j]=r*(MAX[j]-MIN[j])+MIN[j]\n",
        "\n",
        "    X3=np.zeros((NPAR3,cols)) # X2 is population DE (default DE)\n",
        "    for i in range(NPAR3):\n",
        "      for j in range(cols):\n",
        "        r=np.random.random()\n",
        "        X3[i,j]=r*(MAX[j]-MIN[j])+MIN[j]\n",
        "\n",
        "    X4=np.zeros((NPAR4,cols)) # X2 is population DE (default DE)\n",
        "    for i in range(NPAR4):\n",
        "      for j in range(cols):\n",
        "        r=np.random.random()\n",
        "        X4[i,j]=r*(MAX[j]-MIN[j])+MIN[j]\n",
        "\n",
        "    DIo=1e99\n",
        "  \n",
        "    CRo=crossp;Fo=mut;\n",
        "    Fitness = np.asarray([Fun(ind) for ind in X1])\n",
        "    XY,BEST_XY,BESTo,FOBESTo=AvaliaX(X1,Fitness)\n",
        "    nrow,ncol=X1.shape\n",
        "\n",
        "    QUANT=17;MAT_INDo=np.zeros((1,QUANT)); # quantos indices esta fazendo\n",
        "    MAT_INDo[0,5]=nrow  # VALOR NP\n",
        "    MAT_INDo[0,6]=Fo    # VALOR Fo   \n",
        "    MAT_INDo[0,7]=CRo   # VALOR CRo\n",
        "  \n",
        "    MAT_INDo=GeraIndices(X1,BESTo,FOBESTo,DIo,MAT_INDo,SOMA,TOTAL,syn0_F,\n",
        "                        syn1_F,X_max_F,X_min_F,syn0_CR,syn1_CR,X_max_CR,\n",
        "                        X_min_CR,Fc,fields,Fun)\n",
        "  \n",
        "    DIo=np.copy(MAT_INDo[0,0])\n",
        "    MAT_INDo[0,15]=Fo    # VALOR Fo   \n",
        "    MAT_INDo[0,16]=CRo   # VALOR CRo\n",
        "    #ind_crossp=ITE-1\n",
        "    \n",
        "\n",
        "    \n",
        "    for k in range(ITE):\n",
        "\n",
        "      X2,BEST2,FOBEST,XY,BEST_XY=de_bounds_matriz.de(bounds, mut2, crossp2,NPAR2, its,fobj,X2)\n",
        "      X3,BEST3,FOBEST,XY,BEST_XY=de_bounds_matriz.de(bounds, mut3, crossp3,NPAR3, its,fobj,X3)\n",
        "      X4,BEST4,FOBEST,XY,BEST_XY=de_bounds_matriz.de(bounds, mut4, crossp4,NPAR4, its,fobj,X4)\n",
        "      \n",
        "      X1,BEST1,FOBEST,XY,BEST_XY,SOMA= de_soma_Insight.de(MAX,MIN, mut, crossp,NPAR1,its,Fun,X1,SOMA,TOTAL)\n",
        "\n",
        "      MAT_IND=GeraIndices(X1,BESTo,FOBESTo,DIo,MAT_INDo,SOMA,TOTAL,syn0_F,\n",
        "                          syn1_F,X_max_F,X_min_F,syn0_CR,syn1_CR,X_max_CR,\n",
        "                          X_min_CR,Fc,fields,Fun)\n",
        "    \n",
        "      BESTo=np.copy(BEST1);FOBESTo=np.copy(FOBEST);\n",
        "      MAT.append(MAT_IND.ravel())\n",
        "    \n",
        "      MAT_INDo[0,6]=MAT_IND[0,15]   # VALOR Fo   \n",
        "      MAT_INDo[0,7]=MAT_IND[0,16]   # VALOR CRo\n",
        "      mut=MAT_IND[0,15]\n",
        "      crossp=MAT_IND[0,16]\n",
        "      X1[0,:] = BEST2;X1[1,:] = BEST3; X1[2,:] = BEST4;X1[NPAR1-1,:] = BEST1;\n",
        "      X2[0,:] = BEST1;X2[1,:] = BEST3;X2[2,:] = BEST4;X2[NPAR2-1,:] = BEST2;\n",
        "      X3[0,:] = BEST1;X3[1,:] = BEST2;X3[2,:] = BEST4;X3[NPAR3-1,:] = BEST3;\n",
        "      X4[0,:] = BEST1;X4[1,:] = BEST2;X4[2,:] = BEST3;X4[NPAR4-1,:] = BEST4;\n",
        "    print('k=',iii,'time=',(time.time()-start_time)/60)  \n",
        "    BEST_AGENTS.append(BEST_XY)\n",
        "    MAT_stat.append(MAT)\n",
        "    #print(\"GlobalParam e Solucao:\", BEST,\"Funcao=\",FOBEST)\n",
        "    \n",
        "############################## Cálculo dos Parâmetros de Avaliação   \n",
        "TIME = (time.time() - start_time)/RUNS\n",
        "BEST_AGENTS=np.array(BEST_AGENTS)\n",
        "BEST_AGENTS_ST= BEST_AGENTS[BEST_AGENTS[:,-1].argsort()]\n",
        "BEST=BEST_AGENTS_ST[0]\n",
        "WORSE=BEST_AGENTS_ST[-1]\n",
        "MEAN=np.mean(BEST_AGENTS,axis=0)\n",
        "MAXFO=BEST_AGENTS[:,-1].max()\n",
        "MINFO=BEST_AGENTS[:,-1].min()\n",
        "STD=BEST_AGENTS[:,-1].std()"
      ],
      "execution_count": 17,
      "outputs": [
        {
          "output_type": "stream",
          "text": [
            "/content/optim_raianars_Insight/Raianars_paper_One/GeraIndices.py:57: RuntimeWarning: invalid value encountered in double_scalars\n",
            "  if abs(MAT_IND[0,8]/MAT_IND[0,8])>1:\n",
            "/content/optim_raianars_Insight/Raianars_paper_One/GeraIndices.py:60: RuntimeWarning: invalid value encountered in double_scalars\n",
            "  MAT_IND[0,10]=MAT_IND[0,8]/MAT_IND[0,8]\n",
            "/content/optim_raianars_Insight/Raianars_paper_One/GeraIndices.py:62: RuntimeWarning: invalid value encountered in double_scalars\n",
            "  if abs(MAT_IND[0,9]/MAT_IND[0,9])>1: # tem que pegar primeira\n",
            "/content/optim_raianars_Insight/Raianars_paper_One/GeraIndices.py:65: RuntimeWarning: invalid value encountered in double_scalars\n",
            "  MAT_IND[0,11]=MAT_IND[0,9]/MAT_IND[0,9] # tem que pegar do anterior\n"
          ],
          "name": "stderr"
        },
        {
          "output_type": "stream",
          "text": [
            "k= 0 time= 1.333261247475942\n",
            "k= 1 time= 2.6557987769444784\n",
            "k= 2 time= 3.9761163115501406\n",
            "k= 3 time= 5.295812165737152\n",
            "k= 4 time= 6.617148657639821\n",
            "k= 5 time= 7.941002082824707\n",
            "k= 6 time= 9.261986263593037\n",
            "k= 7 time= 10.58349542617798\n",
            "k= 8 time= 11.900755035877228\n",
            "k= 9 time= 13.212000385920208\n",
            "k= 10 time= 14.528221023082732\n",
            "k= 11 time= 15.847933495044709\n",
            "k= 12 time= 17.176192808151246\n",
            "k= 13 time= 18.491217188040416\n",
            "k= 14 time= 19.804004295667013\n",
            "k= 15 time= 21.116477700074515\n",
            "k= 16 time= 22.433460942904155\n",
            "k= 17 time= 23.740325899918876\n",
            "k= 18 time= 25.03892440398534\n",
            "k= 19 time= 26.341327476501466\n",
            "k= 20 time= 27.657637059688568\n",
            "k= 21 time= 28.994647324085236\n",
            "k= 22 time= 30.346162088712056\n",
            "k= 23 time= 31.70194501876831\n",
            "k= 24 time= 33.0608301838239\n",
            "k= 25 time= 34.42065206766129\n",
            "k= 26 time= 35.78144466479619\n",
            "k= 27 time= 37.155681316057844\n",
            "k= 28 time= 38.527788345019026\n",
            "k= 29 time= 39.896025359630585\n",
            "k= 30 time= 41.26615524689357\n",
            "k= 31 time= 42.633448803424834\n",
            "k= 32 time= 44.00863771438598\n",
            "k= 33 time= 45.38097397089005\n",
            "k= 34 time= 46.749184131622314\n",
            "k= 35 time= 48.118291775385536\n",
            "k= 36 time= 49.48769416014353\n",
            "k= 37 time= 50.85474261840184\n",
            "k= 38 time= 52.22922202348709\n",
            "k= 39 time= 53.61097429593404\n",
            "k= 40 time= 54.98047563234965\n",
            "k= 41 time= 56.352771588166554\n",
            "k= 42 time= 57.7277779062589\n",
            "k= 43 time= 59.10085909763972\n",
            "k= 44 time= 60.47099239428838\n",
            "k= 45 time= 61.84344232082367\n",
            "k= 46 time= 63.2213781674703\n",
            "k= 47 time= 64.59333920478821\n",
            "k= 48 time= 65.96245319843293\n",
            "k= 49 time= 67.33120519717535\n"
          ],
          "name": "stdout"
        }
      ]
    },
    {
      "cell_type": "code",
      "metadata": {
        "id": "hPpkYEjBtKLU",
        "colab": {
          "base_uri": "https://localhost:8080/"
        },
        "outputId": "5b357c82-d11a-41a3-f0b5-b0d66d48f2a8"
      },
      "source": [
        "X1.shape"
      ],
      "execution_count": 18,
      "outputs": [
        {
          "output_type": "execute_result",
          "data": {
            "text/plain": [
              "(34, 10)"
            ]
          },
          "metadata": {
            "tags": []
          },
          "execution_count": 18
        }
      ]
    },
    {
      "cell_type": "code",
      "metadata": {
        "id": "TLEE0UrZSvJF",
        "colab": {
          "base_uri": "https://localhost:8080/"
        },
        "outputId": "19a5c527-54e6-42f2-e2f7-c0e0488012f6"
      },
      "source": [
        "#len(X2[1,:])\n",
        "print(cols)"
      ],
      "execution_count": 19,
      "outputs": [
        {
          "output_type": "stream",
          "text": [
            "10\n"
          ],
          "name": "stdout"
        }
      ]
    },
    {
      "cell_type": "code",
      "metadata": {
        "id": "k3p9TGsx1OCu"
      },
      "source": [
        "NOMES=['DIVERSIDADE (DI)',  'DI RELATIVO','FRAC Its',\n",
        "           'VELOC FOBJ','VELOC X','NP','Fo','CRo','fmin','fmax',\n",
        "           'AD_fmin','AD_fmax','DELTA FOBJ','DELTA VX','r_fitness',\n",
        "           'F','CR']\n",
        "# BEST_INDEX= BEST_AGENTS[BEST_AGENTS[:,-1].argmin()]  \n",
        "BEST_INDEX = np.argmin(BEST_AGENTS[:,-1])\n",
        "df=pd.DataFrame(MAT_stat[BEST_INDEX], columns=NOMES)\n",
        "\n"
      ],
      "execution_count": 20,
      "outputs": []
    },
    {
      "cell_type": "code",
      "metadata": {
        "id": "jIHiKR_t1xxs",
        "colab": {
          "base_uri": "https://localhost:8080/"
        },
        "outputId": "657bd083-a23c-4955-9ed3-7e1ee2e272b8"
      },
      "source": [
        "pd.set_option('display.max_columns', 30)  \n",
        "print(df)"
      ],
      "execution_count": 21,
      "outputs": [
        {
          "output_type": "stream",
          "text": [
            "      DIVERSIDADE (DI)   DI RELATIVO  FRAC Its  VELOC FOBJ  VELOC X    NP  \\\n",
            "0         9.146430e+00  9.734047e-01   0.00034         0.0      0.0  34.0   \n",
            "1         8.568640e+00  9.119136e-01   0.00068         1.0      2.0  34.0   \n",
            "2         8.203610e+00  8.730655e-01   0.00102         1.0      2.0  34.0   \n",
            "3         7.818730e+00  8.321048e-01   0.00136         1.0      2.0  34.0   \n",
            "4         7.799894e+00  8.301002e-01   0.00170         1.0      2.0  34.0   \n",
            "...                ...           ...       ...         ...      ...   ...   \n",
            "1995      8.299666e-09  8.832882e-10   0.67864         0.0      0.0  34.0   \n",
            "1996      8.299666e-09  8.832882e-10   0.67898         0.0      0.0  34.0   \n",
            "1997      8.299666e-09  8.832882e-10   0.67932         0.0      0.0  34.0   \n",
            "1998      8.299666e-09  8.832882e-10   0.67966         0.0      0.0  34.0   \n",
            "1999      8.299666e-09  8.832882e-10   0.68000         0.0      0.0  34.0   \n",
            "\n",
            "            Fo       CRo        fmin        fmax  AD_fmin  AD_fmax  \\\n",
            "0     0.500000  0.500000  119.061793  240.293890      1.0      1.0   \n",
            "1     0.256649  0.337766   90.604385  211.575582      1.0      1.0   \n",
            "2     0.432180  0.235095   86.156070  211.575582      1.0      1.0   \n",
            "3     0.243519  0.166677   78.310037  193.888152      1.0      1.0   \n",
            "4     0.395494  0.236023   71.149302  193.888152      1.0      1.0   \n",
            "...        ...       ...         ...         ...      ...      ...   \n",
            "1995  0.336337  0.139216    0.000000    0.000000      NaN      NaN   \n",
            "1996  0.336337  0.139216    0.000000    0.000000      NaN      NaN   \n",
            "1997  0.336337  0.139216    0.000000    0.000000      NaN      NaN   \n",
            "1998  0.336337  0.139216    0.000000    0.000000      NaN      NaN   \n",
            "1999  0.336337  0.139216    0.000000    0.000000      NaN      NaN   \n",
            "\n",
            "      DELTA FOBJ  DELTA VX  r_fitness         F        CR  \n",
            "0            0.0       0.0   0.504516  0.256649  0.337766  \n",
            "1            0.0       0.0   0.571764  0.432180  0.235095  \n",
            "2            0.0       0.0   0.592788  0.243519  0.166677  \n",
            "3            0.0       0.0   0.596107  0.395494  0.236023  \n",
            "4            0.0       0.0   0.633039  0.641719  0.170716  \n",
            "...          ...       ...        ...       ...       ...  \n",
            "1995         0.0       0.0   0.050000  0.336337  0.139216  \n",
            "1996         0.0       0.0   0.050000  0.336337  0.139216  \n",
            "1997         0.0       0.0   0.050000  0.336337  0.139216  \n",
            "1998         0.0       0.0   0.050000  0.336337  0.139216  \n",
            "1999         0.0       0.0   0.050000  0.336337  0.139216  \n",
            "\n",
            "[2000 rows x 17 columns]\n"
          ],
          "name": "stdout"
        }
      ]
    },
    {
      "cell_type": "code",
      "metadata": {
        "id": "bx0ywpMtAAjw",
        "colab": {
          "base_uri": "https://localhost:8080/",
          "height": 300
        },
        "outputId": "71f04616-c802-4768-bd98-0ae67541bcb1"
      },
      "source": [
        "plt.plot(df['FRAC Its'],df['CR'])\n",
        "plt.xlabel('Iteração/Total')\n",
        "plt.ylabel('CR')"
      ],
      "execution_count": 22,
      "outputs": [
        {
          "output_type": "execute_result",
          "data": {
            "text/plain": [
              "Text(0, 0.5, 'CR')"
            ]
          },
          "metadata": {
            "tags": []
          },
          "execution_count": 22
        },
        {
          "output_type": "display_data",
          "data": {
            "image/png": "[encoded data removed]",
            "text/plain": [
              "<Figure size 432x288 with 1 Axes>"
            ]
          },
          "metadata": {
            "tags": [],
            "needs_background": "light"
          }
        }
      ]
    },
    {
      "cell_type": "code",
      "metadata": {
        "id": "BvPFvbDvteDC",
        "colab": {
          "base_uri": "https://localhost:8080/",
          "height": 295
        },
        "outputId": "379beefa-3db1-4eee-ea45-c87bee007af7"
      },
      "source": [
        "\n",
        "fig, ax = plt.subplots()\n",
        "ax.plot(df['FRAC Its'],df['F'],label='F')\n",
        "ax.set_xlabel('Iteração/Total')\n",
        "ax.set_ylabel('Parâmetros')\n",
        "ax.plot(df['FRAC Its'],df['CR'],'-r', label='CR')\n",
        "nome=Fun.__name__+'  M=Diversidade'+ '  D='+str(dim)\n",
        "ax.set_title(nome)\n",
        "leg = ax.legend()\n"
      ],
      "execution_count": 23,
      "outputs": [
        {
          "output_type": "display_data",
          "data": {
            "image/png": "[encoded data removed]",
            "text/plain": [
              "<Figure size 432x288 with 1 Axes>"
            ]
          },
          "metadata": {
            "tags": [],
            "needs_background": "light"
          }
        }
      ]
    },
    {
      "cell_type": "code",
      "metadata": {
        "id": "htooaGpDia_0",
        "colab": {
          "base_uri": "https://localhost:8080/",
          "height": 312
        },
        "outputId": "28417684-00e3-413d-8a28-5eb9957e8190"
      },
      "source": [
        "f, axarr = plt.subplots(2, sharex=True)\n",
        "axarr[0].plot(df['FRAC Its'],df['F'])\n",
        "axarr[0].set_ylabel('F')\n",
        "axarr[1].plot(df['FRAC Its'],df['CR'])\n",
        "axarr[1].set_ylabel('CR')\n",
        "axarr[1].set_xlabel('Iteração/Total')\n",
        "nome=Fun.__name__+'_Diversidade_'+ 'D='+str(dim)\n",
        "axarr[0].set_title(nome)\n"
      ],
      "execution_count": 24,
      "outputs": [
        {
          "output_type": "execute_result",
          "data": {
            "text/plain": [
              "Text(0.5, 1.0, 'Rastrigin_Diversidade_D=10')"
            ]
          },
          "metadata": {
            "tags": []
          },
          "execution_count": 24
        },
        {
          "output_type": "display_data",
          "data": {
            "image/png": "[encoded data removed]",
            "text/plain": [
              "<Figure size 432x288 with 2 Axes>"
            ]
          },
          "metadata": {
            "tags": [],
            "needs_background": "light"
          }
        }
      ]
    },
    {
      "cell_type": "code",
      "metadata": {
        "id": "lNSN5X-wskcx",
        "colab": {
          "base_uri": "https://localhost:8080/"
        },
        "outputId": "a9030f16-188d-45de-85fa-478a0eb24680"
      },
      "source": [
        "nome='_ANN_Div3x4_Fo-'+str(Fi)+'_CRo-'+str(CRi)+'_D-'+str(dim)+'_Interv-'+str(ITE)\n",
        "print('DE_POP_VAR_F_CR','TOTAL=',TOTAL,'Iterações=',ITE*its,'Dim=', PAR,\"Min/Max=\",MIN[0],\"/\",MAX[0],'_',Fun.__name__)\n",
        "print(nome, '\\n')\n",
        "#print('BEST: ',BEST)\n",
        "#print('MÉDIA: ',MEAN)\n",
        "print('MÉDIA: ',MEAN[-1])\n",
        "print('MIN __:',MINFO)\n",
        "print('MAX__: ',MAXFO)\n",
        "print('STD __:',STD)\n",
        "print(\"Tempo Médio= %.3f segundos ---\" % (TIME))\n",
        "print(RUNS,'Rodadas') \n",
        "print()\n",
        "print('BEST: ',BEST)\n",
        "# print('melhor=',BEST_AGENTS[BEST_INDEX])"
      ],
      "execution_count": 25,
      "outputs": [
        {
          "output_type": "stream",
          "text": [
            "DE_POP_VAR_F_CR TOTAL= 100000 Iterações= 2000 Dim= 10 Min/Max= -5.12 / 5.12 _ Rastrigin\n",
            "_ANN_Div3x4_Fo-0.5_CRo-0.5_D-10_Interv-2000 \n",
            "\n",
            "MÉDIA:  0.019899181141865938\n",
            "MIN __: 0.0\n",
            "MAX__:  0.9949590570932969\n",
            "STD __: 0.13929426799306155\n",
            "Tempo Médio= 80.797 segundos ---\n",
            "50 Rodadas\n",
            "\n",
            "BEST:  [ 1.47828070e-09  1.75601274e-09 -1.79722000e-09 -2.91377458e-09\n",
            "  3.83825214e-09  1.76217244e-09  1.38843285e-09 -3.20752978e-09\n",
            "  3.77510230e-10  4.06648944e-09  0.00000000e+00]\n"
          ],
          "name": "stdout"
        }
      ]
    }
  ]
}
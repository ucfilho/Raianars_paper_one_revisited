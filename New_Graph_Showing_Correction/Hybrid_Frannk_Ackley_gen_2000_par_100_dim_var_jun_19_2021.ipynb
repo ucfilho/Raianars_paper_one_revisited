{
  "nbformat": 4,
  "nbformat_minor": 0,
  "metadata": {
    "colab": {
      "name": "Hybrid_Frannk_Ackley_gen_2000_par_100_dim_var_jun_19_2021.ipynb",
      "provenance": [],
      "collapsed_sections": [],
      "include_colab_link": true
    },
    "kernelspec": {
      "display_name": "Python 3",
      "name": "python3"
    },
    "language_info": {
      "codemirror_mode": {
        "name": "ipython",
        "version": 3
      },
      "file_extension": ".py",
      "mimetype": "text/x-python",
      "name": "python",
      "nbconvert_exporter": "python",
      "pygments_lexer": "ipython3",
      "version": "3.7.3"
    }
  },
  "cells": [
    {
      "cell_type": "markdown",
      "metadata": {
        "id": "view-in-github",
        "colab_type": "text"
      },
      "source": [
        "<a href=\"https://colab.research.google.com/github/ucfilho/Raianars_paper_one_revisited/blob/main/New_Graph_Showing_Correction/Hybrid_Frannk_Ackley_gen_2000_par_100_dim_var_jun_19_2021.ipynb\" target=\"_parent\"><img src=\"https://colab.research.google.com/assets/colab-badge.svg\" alt=\"Open In Colab\"/></a>"
      ]
    },
    {
      "cell_type": "code",
      "metadata": {
        "colab": {
          "base_uri": "https://localhost:8080/"
        },
        "id": "c59cDVKoxDLX",
        "outputId": "7a500395-89a0-438b-ee5c-9c9bc29b8036"
      },
      "source": [
        "############################### Importar códigos\n",
        "!git clone https://github.com/ucfilho/optim_raianars_Insight/ #clonar do Github\n",
        "%cd optim_raianars_Insight\n",
        "import de_soma_Insight\n",
        "import de_bounds_matriz\n",
        "import Go2Ann"
      ],
      "execution_count": 1,
      "outputs": [
        {
          "output_type": "stream",
          "text": [
            "fatal: destination path 'optim_raianars_Insight' already exists and is not an empty directory.\n",
            "/content/optim_raianars_Insight\n"
          ],
          "name": "stdout"
        }
      ]
    },
    {
      "cell_type": "code",
      "metadata": {
        "colab": {
          "base_uri": "https://localhost:8080/"
        },
        "id": "Va-6Xios8RjU",
        "outputId": "905275a5-23f3-4a99-d8ff-07f52cbb32d6"
      },
      "source": [
        "!git clone https://github.com/ucfilho/Raianars_paper_One #clonar do Github\n",
        "%cd Raianars_paper_One"
      ],
      "execution_count": 2,
      "outputs": [
        {
          "output_type": "stream",
          "text": [
            "fatal: destination path 'Raianars_paper_One' already exists and is not an empty directory.\n",
            "/content/optim_raianars_Insight/Raianars_paper_One\n"
          ],
          "name": "stdout"
        }
      ]
    },
    {
      "cell_type": "code",
      "metadata": {
        "id": "_E15mKFURR6O"
      },
      "source": [
        "#import Go2Ann\n",
        "#import de_soma_Insight\n",
        "#import de_bounds_matriz\n",
        "#import Function\n",
        "#import Go2MinMax\n",
        "from AvaliaX import AvaliaX\n",
        "#from Function import FUN\n",
        "#from Function import Function.FUN\n",
        "#from Function import Function.Fun\n",
        "#from Function import Function\n",
        "from GeraIndices import GeraIndices\n",
        "import numpy as np\n",
        "import time\n",
        "import matplotlib.pyplot as plt\n",
        "from random import randint\n",
        "from scipy import optimize\n",
        "import pandas as pd\n",
        "from sklearn.metrics import confusion_matrix\n",
        "\n",
        "############################### DADOS DE ENTRADA \n",
        "RUNS=1 #NÚMERO DE RODADAS\n",
        "Fc=0.1 # fator de correcao parametros da ANN\n",
        "its=1 #10 # quantas vezes vai usar o NPAR antes de alterar de novo\n",
        "ITE=2000 #10 # PONTOS quantas vezes vai alteral NPAR \n",
        "NPAR=100\n",
        "mut=0.5\n",
        "crossp=0.5\n",
        "Fi=mut;CRi=crossp;# para impressão\n",
        "fator = 2.0/3.0; \n",
        "\n"
      ],
      "execution_count": 3,
      "outputs": []
    },
    {
      "cell_type": "code",
      "metadata": {
        "colab": {
          "base_uri": "https://localhost:8080/"
        },
        "id": "ik3ZjkUKycUK",
        "outputId": "a8119d2f-6ef4-48bc-b12c-1f4bde6560be"
      },
      "source": [
        "############################### Importar códigos\n",
        "!git clone https://github.com/ucfilho/optim_raianars_Insight/ #clonar do Github\n",
        "%cd optim_raianars_Insight\n",
        "import de_soma_Insight\n",
        "import de_bounds_matriz"
      ],
      "execution_count": 4,
      "outputs": [
        {
          "output_type": "stream",
          "text": [
            "fatal: destination path 'optim_raianars_Insight' already exists and is not an empty directory.\n",
            "/content/optim_raianars_Insight/Raianars_paper_One/optim_raianars_Insight\n"
          ],
          "name": "stdout"
        }
      ]
    },
    {
      "cell_type": "code",
      "metadata": {
        "colab": {
          "base_uri": "https://localhost:8080/"
        },
        "id": "QfCTvdZm5Luv",
        "outputId": "cef8d599-5240-4d93-8e67-861ebe0c9b15"
      },
      "source": [
        "!ls"
      ],
      "execution_count": 5,
      "outputs": [
        {
          "output_type": "stream",
          "text": [
            "ANN_gera_matriz_classifica_Insight_CR.ipynb  de_soma_Insight.py\n",
            "ANN_gera_matriz_classifica_Insight.ipynb     Fun2Choice.py\n",
            "ANN_read_matrix\t\t\t\t     Function.py\n",
            "AvaliaX.py\t\t\t\t     GeraIndices.py\n",
            "de_bounds_matriz.py\t\t\t     Go2Ann.py\n",
            "DE_OPTIM_ANN_Insight_DIVERSIDADE_3x4.ipynb   Go2MinMax.py\n",
            "DE_OPTIM_ANN_Insight_DIVERSIDADE.ipynb\t     hello.py\n",
            "DE_OPTIM_ANN_Insight_exponencial.ipynb\t     Raiana_Cauchy_Insight.ipynb\n"
          ],
          "name": "stdout"
        }
      ]
    },
    {
      "cell_type": "code",
      "metadata": {
        "colab": {
          "base_uri": "https://localhost:8080/"
        },
        "id": "qTINtQ1cosZK",
        "outputId": "d3f95ac4-5f09-4670-e0ed-dd56baab50df"
      },
      "source": [
        "!git clone https://github.com/ucfilho/ANN_read_matrix #clonar do Github\n",
        "%cd ANN_read_matrix"
      ],
      "execution_count": 6,
      "outputs": [
        {
          "output_type": "stream",
          "text": [
            "fatal: destination path 'ANN_read_matrix' already exists and is not an empty directory.\n",
            "/content/optim_raianars_Insight/Raianars_paper_One/optim_raianars_Insight/ANN_read_matrix\n"
          ],
          "name": "stdout"
        }
      ]
    },
    {
      "cell_type": "code",
      "metadata": {
        "id": "QiQLYOoNoyCw"
      },
      "source": [
        "ANN_F=pd.read_csv('ANN_INSIGHT_Valor_F.csv')"
      ],
      "execution_count": 7,
      "outputs": []
    },
    {
      "cell_type": "code",
      "metadata": {
        "id": "uHtW2amaDzFv"
      },
      "source": [
        "ANN_CR=pd.read_csv('ANN_INSIGHT_CR.csv')"
      ],
      "execution_count": 8,
      "outputs": []
    },
    {
      "cell_type": "code",
      "metadata": {
        "id": "EH6h_vke2yu1"
      },
      "source": [
        "syn0_F,syn1_F,X_max_F,X_min_F=Go2Ann.GetMatriz(ANN_F)"
      ],
      "execution_count": 9,
      "outputs": []
    },
    {
      "cell_type": "code",
      "metadata": {
        "id": "WW_3ZWJXD60i"
      },
      "source": [
        "syn0_CR,syn1_CR,X_max_CR,X_min_CR=Go2Ann.GetMatriz(ANN_CR)"
      ],
      "execution_count": 10,
      "outputs": []
    },
    {
      "cell_type": "code",
      "metadata": {
        "id": "b4gwBvVTyaXh"
      },
      "source": [
        "ANN_CR=pd.read_csv('ANN_INSIGHT_CR.csv')"
      ],
      "execution_count": 11,
      "outputs": []
    },
    {
      "cell_type": "code",
      "metadata": {
        "id": "6jL8MxpHvk-Y"
      },
      "source": [
        "fields = ['DI RELATIVO','FRAC Its','Fo','CRo']"
      ],
      "execution_count": 12,
      "outputs": []
    },
    {
      "cell_type": "code",
      "metadata": {
        "id": "P8LIRCsdywOX",
        "colab": {
          "base_uri": "https://localhost:8080/",
          "height": 1000
        },
        "outputId": "6e6caa7b-045d-4309-e06e-7de9211efded"
      },
      "source": [
        "#!git clone https://github.com/ucfilho/Raianars_paper_one_revisited/AddFunctions \n",
        "!git clone https://github.com/ucfilho/Raianars_Routines #clonar do Github\n",
        "%cd Raianars_Routines\n",
        "############################### Função\n",
        "import FunctionsNew\n",
        "#'''  \n",
        "############################### Função\n",
        "dim=30 # \n",
        "fchoice='Ackley'\n",
        "Fun=FunctionsNew.Ackley\n",
        "MAX=np.repeat(32,dim)\n",
        "MIN=np.repeat(-32,dim)\n",
        " #fx=\n",
        "#'''\n",
        "#####################################\n",
        "PAR=len(MAX) #NUM DE PARAMETROS A SER OTIMIZADOS\n",
        "\n",
        "bounds=[]\n",
        "for k in range(len(MAX)):\n",
        "  bounds.append((MIN[k],MAX[k]))\n",
        "\n",
        "##################################### \n",
        "\n",
        "TOTAL=10*dim*its*ITE\n",
        "TOTAL=int(TOTAL/2)   # CONFERIR SE ESTE EH O MELHOR LUGAR\n",
        "\n",
        "dimensions=len(MAX)\n",
        "start_time = time.time() #INICIALIZA CONTAGEM DO TEMPO\n",
        "\n",
        "\n",
        "PAR=dim\n",
        "fobj=Fun\n",
        "\n",
        "MAX_P=np.zeros(ITE) # ATENCAO para variar F e Cr MAX_P passa a ser 3 vezes maior\n",
        "MIN_P=np.zeros(ITE) # ATENCAO para variar F e Cr MIN_P passa a ser 3 vezes maior\n",
        "\n",
        "for i in range(dim):\n",
        "  MAX_P[i]=MAX[i] \n",
        "  MIN_P[i]=MIN[i]\n",
        "\n",
        "rodadas=1\n",
        "NPAR1=int(fator*NPAR);print('Npar1=',NPAR1);print('frac=',fator)\n",
        "NPAR2=NPAR-NPAR1;print('Npar2=',NPAR2);print('Npar=',NPAR)\n",
        "\n",
        "cols=dim\n",
        "\n",
        "X1=np.zeros((NPAR1,cols)) # X1 is Frannk population\n",
        "for i in range(NPAR1):\n",
        "  for j in range(cols):\n",
        "    r=np.random.random()\n",
        "    X1[i,j]=r*(MAX[j]-MIN[j])+MIN[j]\n",
        "    \n",
        "X2=np.zeros((NPAR2,cols)) # X2 is population DE (default DE)\n",
        "for i in range(NPAR2):\n",
        "  for j in range(cols):\n",
        "    r=np.random.random()\n",
        "    X2[i,j]=r*(MAX[j]-MIN[j])+MIN[j]\n",
        "\n",
        "\n",
        "start_time = time.time()\n",
        "BEST_AGENTS=[]\n",
        "MAT_stat=[]\n",
        "for iii in range(RUNS):\n",
        "    MAT=[] \n",
        "    mut=Fi\n",
        "    crossp=CRi\n",
        "    SOMA=0\n",
        "    pop = np.random.rand(NPAR, dim)\n",
        "    diff=np.zeros(PAR)\n",
        "    X1=np.zeros((NPAR1,cols)) # X1 is Frannk population\n",
        "    for i in range(NPAR1):\n",
        "      for j in range(cols):\n",
        "        r=np.random.random()\n",
        "        X1[i,j]=r*(MAX[j]-MIN[j])+MIN[j]\n",
        "        \n",
        "    X2=np.zeros((NPAR2,cols)) # X2 is population DE (default DE)\n",
        "    for i in range(NPAR2):\n",
        "      for j in range(cols):\n",
        "        r=np.random.random()\n",
        "        X2[i,j]=r*(MAX[j]-MIN[j])+MIN[j]\n",
        "    \n",
        "    DIo=1e99\n",
        "  \n",
        "    CRo=crossp;Fo=mut;\n",
        "    Fitness = np.asarray([Fun(ind) for ind in X1])\n",
        "    XY,BEST_XY,BESTo,FOBESTo=AvaliaX(X1,Fitness)\n",
        "    nrow,ncol=X1.shape\n",
        "\n",
        "    QUANT=17;MAT_INDo=np.zeros((1,QUANT)); # quantos indices esta fazendo\n",
        "    MAT_INDo[0,5]=nrow  # VALOR NP\n",
        "    MAT_INDo[0,6]=Fo    # VALOR Fo   \n",
        "    MAT_INDo[0,7]=CRo   # VALOR CRo\n",
        "  \n",
        "    MAT_INDo=GeraIndices(X1,BESTo,FOBESTo,DIo,MAT_INDo,SOMA,TOTAL,syn0_F,\n",
        "                        syn1_F,X_max_F,X_min_F,syn0_CR,syn1_CR,X_max_CR,\n",
        "                        X_min_CR,Fc,fields,Fun)\n",
        "  \n",
        "    DIo=np.copy(MAT_INDo[0,0])\n",
        "    MAT_INDo[0,15]=Fo    # VALOR Fo   \n",
        "    MAT_INDo[0,16]=CRo   # VALOR CRo\n",
        "    #ind_crossp=ITE-1\n",
        "    \n",
        "\n",
        "    \n",
        "    for k in range(ITE):\n",
        "\n",
        "      X2,BEST2,FOBEST,XY,BEST_XY=de_bounds_matriz.de(bounds, mut, crossp,NPAR2, its,fobj,X2)\n",
        "      \n",
        "      \n",
        "      X1,BEST1,FOBEST,XY,BEST_XY,SOMA= de_soma_Insight.de(MAX,MIN, mut, crossp,NPAR1,its,Fun,X1,SOMA,TOTAL)\n",
        "\n",
        "      MAT_IND=GeraIndices(X1,BESTo,FOBESTo,DIo,MAT_INDo,SOMA,TOTAL,syn0_F,\n",
        "                          syn1_F,X_max_F,X_min_F,syn0_CR,syn1_CR,X_max_CR,\n",
        "                          X_min_CR,Fc,fields,Fun)\n",
        "    \n",
        "      BESTo=np.copy(BEST1);FOBESTo=np.copy(FOBEST);\n",
        "      MAT.append(MAT_IND.ravel())\n",
        "    \n",
        "      MAT_INDo[0,6]=MAT_IND[0,15]   # VALOR Fo   \n",
        "      MAT_INDo[0,7]=MAT_IND[0,16]   # VALOR CRo\n",
        "      mut=MAT_IND[0,15]\n",
        "      crossp=MAT_IND[0,16]\n",
        "      X1[0,:] = BEST2;\n",
        "      X1[NPAR1-1,:] = BEST1;\n",
        "      X2[0,:] = BEST1;\n",
        "      X2[NPAR2-1,:] = BEST2;\n",
        "    print('k=',iii,'time=',(time.time()-start_time)/60)  \n",
        "    BEST_AGENTS.append(BEST_XY)\n",
        "    MAT_stat.append(MAT)\n",
        "    #print(\"GlobalParam e Solucao:\", BEST,\"Funcao=\",FOBEST)\n",
        "    \n",
        "############################## Cálculo dos Parâmetros de Avaliação   \n",
        "TIME = (time.time() - start_time)/RUNS\n",
        "BEST_AGENTS=np.array(BEST_AGENTS)\n",
        "BEST_AGENTS_ST= BEST_AGENTS[BEST_AGENTS[:,-1].argsort()]\n",
        "BEST=BEST_AGENTS_ST[0]\n",
        "WORSE=BEST_AGENTS_ST[-1]\n",
        "MEAN=np.mean(BEST_AGENTS,axis=0)\n",
        "MAXFO=BEST_AGENTS[:,-1].max()\n",
        "MINFO=BEST_AGENTS[:,-1].min()\n",
        "STD=BEST_AGENTS[:,-1].std()\n",
        "\n",
        "NOMES=['DIVERSIDADE (DI)',  'DI RELATIVO','FRAC Its',\n",
        "           'VELOC FOBJ','VELOC X','NP','Fo','CRo','fmin','fmax',\n",
        "           'AD_fmin','AD_fmax','DELTA FOBJ','DELTA VX','r_fitness',\n",
        "           'F','CR']\n",
        "# BEST_INDEX= BEST_AGENTS[BEST_AGENTS[:,-1].argmin()]  \n",
        "BEST_INDEX = np.argmin(BEST_AGENTS[:,-1])\n",
        "df=pd.DataFrame(MAT_stat[BEST_INDEX], columns=NOMES)\n",
        "\n",
        "pd.set_option('display.max_columns', 30)  \n",
        "print(df)\n",
        "\n",
        "plt.plot(df['FRAC Its'],df['CR'])\n",
        "plt.xlabel('Iteração/Total')\n",
        "plt.ylabel('CR')"
      ],
      "execution_count": 13,
      "outputs": [
        {
          "output_type": "stream",
          "text": [
            "fatal: destination path 'Raianars_Routines' already exists and is not an empty directory.\n",
            "/content/optim_raianars_Insight/Raianars_paper_One/optim_raianars_Insight/ANN_read_matrix/Raianars_Routines\n",
            "Npar1= 66\n",
            "frac= 0.6666666666666666\n",
            "Npar2= 34\n",
            "Npar= 100\n",
            "k= 0 time= 2.1170327186584474\n",
            "      DIVERSIDADE (DI)   DI RELATIVO  FRAC Its  VELOC FOBJ  VELOC X    NP  \\\n",
            "0         9.804280e+01  9.864081e-01   0.00022         1.0      2.0  66.0   \n",
            "1         9.660949e+01  9.719876e-01   0.00044         0.0      0.0  66.0   \n",
            "2         9.559114e+01  9.617421e-01   0.00066         0.0      0.0  66.0   \n",
            "3         9.339951e+01  9.396921e-01   0.00088         1.0      2.0  66.0   \n",
            "4         9.206617e+01  9.262773e-01   0.00110         1.0      2.0  66.0   \n",
            "...                ...           ...       ...         ...      ...   ...   \n",
            "1995      7.029817e-14  7.072695e-16   0.43912         0.0      0.0  66.0   \n",
            "1996      7.029817e-14  7.072695e-16   0.43934         0.0      0.0  66.0   \n",
            "1997      7.029817e-14  7.072695e-16   0.43956         0.0      0.0  66.0   \n",
            "1998      7.023719e-14  7.066560e-16   0.43978         0.0      0.0  66.0   \n",
            "1999      7.016289e-14  7.059085e-16   0.44000         0.0      0.0  66.0   \n",
            "\n",
            "            Fo       CRo          fmin          fmax  AD_fmin  AD_fmax  \\\n",
            "0     0.500000  0.500000  2.012786e+01  2.142160e+01      1.0      1.0   \n",
            "1     0.253398  0.335599  2.012786e+01  2.142160e+01      1.0      1.0   \n",
            "2     0.438123  0.226866  2.012786e+01  2.142160e+01      1.0      1.0   \n",
            "3     0.227442  0.154137  1.996097e+01  2.139374e+01      1.0      1.0   \n",
            "4     0.387736  0.226558  1.982809e+01  2.126190e+01      1.0      1.0   \n",
            "...        ...       ...           ...           ...      ...      ...   \n",
            "1995  0.207587  0.008409  2.886580e-14  7.860379e-14      1.0      1.0   \n",
            "1996  0.207587  0.008409  2.886580e-14  7.860379e-14      1.0      1.0   \n",
            "1997  0.207587  0.008409  2.886580e-14  7.860379e-14      1.0      1.0   \n",
            "1998  0.207587  0.008409  2.886580e-14  7.860379e-14      1.0      1.0   \n",
            "1999  0.207587  0.008409  2.886580e-14  7.860379e-14      1.0      1.0   \n",
            "\n",
            "      DELTA FOBJ  DELTA VX  r_fitness         F        CR  \n",
            "0            0.0       0.0   0.060394  0.253398  0.335599  \n",
            "1            0.0       0.0   0.060394  0.438123  0.226866  \n",
            "2            0.0       0.0   0.060394  0.227442  0.154137  \n",
            "3            0.0       0.0   0.066972  0.387736  0.226558  \n",
            "4            0.0       0.0   0.067435  0.657100  0.156606  \n",
            "...          ...       ...        ...       ...       ...  \n",
            "1995         0.0       0.0   0.632768  0.207587  0.008409  \n",
            "1996         0.0       0.0   0.632768  0.207587  0.008409  \n",
            "1997         0.0       0.0   0.632768  0.207587  0.008409  \n",
            "1998         0.0       0.0   0.632768  0.207587  0.008409  \n",
            "1999         0.0       0.0   0.632768  0.207587  0.008409  \n",
            "\n",
            "[2000 rows x 17 columns]\n"
          ],
          "name": "stdout"
        },
        {
          "output_type": "execute_result",
          "data": {
            "text/plain": [
              "Text(0, 0.5, 'CR')"
            ]
          },
          "metadata": {
            "tags": []
          },
          "execution_count": 13
        },
        {
          "output_type": "display_data",
          "data": {
            "image/png": "[encoded data removed]",
            "text/plain": [
              "<Figure size 432x288 with 1 Axes>"
            ]
          },
          "metadata": {
            "tags": [],
            "needs_background": "light"
          }
        }
      ]
    },
    {
      "cell_type": "code",
      "metadata": {
        "id": "kNkhfZOhlMJp",
        "colab": {
          "base_uri": "https://localhost:8080/"
        },
        "outputId": "1a59d363-e9d3-40d5-ac74-cfb8f46902ee"
      },
      "source": [
        "df.columns"
      ],
      "execution_count": 14,
      "outputs": [
        {
          "output_type": "execute_result",
          "data": {
            "text/plain": [
              "Index(['DIVERSIDADE (DI)', 'DI RELATIVO', 'FRAC Its', 'VELOC FOBJ', 'VELOC X',\n",
              "       'NP', 'Fo', 'CRo', 'fmin', 'fmax', 'AD_fmin', 'AD_fmax', 'DELTA FOBJ',\n",
              "       'DELTA VX', 'r_fitness', 'F', 'CR'],\n",
              "      dtype='object')"
            ]
          },
          "metadata": {
            "tags": []
          },
          "execution_count": 14
        }
      ]
    },
    {
      "cell_type": "code",
      "metadata": {
        "id": "BvPFvbDvteDC",
        "colab": {
          "base_uri": "https://localhost:8080/",
          "height": 295
        },
        "outputId": "64087cd4-d0c6-4256-d517-b529903d87b6"
      },
      "source": [
        "\n",
        "fig, ax = plt.subplots()\n",
        "ax.plot(df['FRAC Its'],df['F'],label='F')\n",
        "ax.set_xlabel('Iteração/Total')\n",
        "ax.set_ylabel('Parâmetros')\n",
        "ax.plot(df['FRAC Its'],df['CR'],'-r', label='CR')\n",
        "nome=Fun.__name__+'  M=Diversidade'+ '  D='+str(dim)\n",
        "ax.set_title(nome)\n",
        "leg = ax.legend()\n"
      ],
      "execution_count": 15,
      "outputs": [
        {
          "output_type": "display_data",
          "data": {
            "image/png": "[encoded data removed]",
            "text/plain": [
              "<Figure size 432x288 with 1 Axes>"
            ]
          },
          "metadata": {
            "tags": [],
            "needs_background": "light"
          }
        }
      ]
    },
    {
      "cell_type": "code",
      "metadata": {
        "id": "htooaGpDia_0",
        "colab": {
          "base_uri": "https://localhost:8080/",
          "height": 313
        },
        "outputId": "1d5e48ec-7290-4264-fb86-16c658cb7a7f"
      },
      "source": [
        "f, axarr = plt.subplots(2, sharex=True)\n",
        "axarr[0].plot(df['FRAC Its'],df['F'])\n",
        "axarr[0].set_ylabel('F')\n",
        "axarr[1].plot(df['FRAC Its'],df['CR'])\n",
        "axarr[1].set_ylabel('CR')\n",
        "axarr[1].set_xlabel('Iteração/Total')\n",
        "nome=Fun.__name__+'_Diversidade_'+ 'D='+str(dim)\n",
        "axarr[0].set_title(nome)\n"
      ],
      "execution_count": 16,
      "outputs": [
        {
          "output_type": "execute_result",
          "data": {
            "text/plain": [
              "Text(0.5, 1.0, 'Ackley_Diversidade_D=30')"
            ]
          },
          "metadata": {
            "tags": []
          },
          "execution_count": 16
        },
        {
          "output_type": "display_data",
          "data": {
            "image/png": "[encoded data removed]",
            "text/plain": [
              "<Figure size 432x288 with 2 Axes>"
            ]
          },
          "metadata": {
            "tags": [],
            "needs_background": "light"
          }
        }
      ]
    },
    {
      "cell_type": "code",
      "metadata": {
        "id": "lNSN5X-wskcx",
        "colab": {
          "base_uri": "https://localhost:8080/"
        },
        "outputId": "de1ad16d-5a71-4872-972c-f416979ed0d0"
      },
      "source": [
        "nome='_ANN_Div3x4_Fo-'+str(Fi)+'_CRo-'+str(CRi)+'_D-'+str(dim)+'_Interv-'+str(ITE)\n",
        "print('DE_POP_VAR_F_CR','TOTAL=',TOTAL,'Iterações=',ITE*its,'Dim=', PAR,\"Min/Max=\",MIN[0],\"/\",MAX[0],'_',Fun.__name__)\n",
        "print(nome, '\\n')\n",
        "#print('BEST: ',BEST)\n",
        "#print('MÉDIA: ',MEAN)\n",
        "print('MÉDIA: ',MEAN[-1])\n",
        "print('MIN __:',MINFO)\n",
        "print('MAX__: ',MAXFO)\n",
        "print('STD __:',STD)\n",
        "print(\"Tempo Médio= %.3f segundos ---\" % (TIME))\n",
        "print(RUNS,'Rodadas') \n",
        "print()\n",
        "print('BEST: ',BEST)\n",
        "# print('melhor=',BEST_AGENTS[BEST_INDEX])"
      ],
      "execution_count": 17,
      "outputs": [
        {
          "output_type": "stream",
          "text": [
            "DE_POP_VAR_F_CR TOTAL= 300000 Iterações= 2000 Dim= 30 Min/Max= -32 / 32 _ Ackley\n",
            "_ANN_Div3x4_Fo-0.5_CRo-0.5_D-30_Interv-2000 \n",
            "\n",
            "MÉDIA:  2.886579864025407e-14\n",
            "MIN __: 2.886579864025407e-14\n",
            "MAX__:  2.886579864025407e-14\n",
            "STD __: 0.0\n",
            "Tempo Médio= 127.023 segundos ---\n",
            "1 Rodadas\n",
            "\n",
            "BEST:  [ 1.56883117e-15 -1.21591382e-14 -4.71192772e-15  8.36696152e-15\n",
            "  1.45902538e-14 -8.68814510e-15  5.78762595e-15 -7.27920244e-15\n",
            " -3.34039784e-16  8.11514947e-15 -1.19710596e-14  2.58361592e-15\n",
            " -4.45221340e-15  4.15243473e-15 -2.40769081e-15  5.38134896e-16\n",
            "  9.28550913e-15  1.74752680e-15  2.55499045e-15 -1.44478782e-14\n",
            " -7.99313715e-15  4.84547054e-15  1.29267979e-15 -2.63799429e-15\n",
            " -1.28201799e-14  3.96636392e-15 -7.63172933e-15 -4.67601968e-16\n",
            "  2.11510732e-15  7.00370412e-15  2.88657986e-14]\n"
          ],
          "name": "stdout"
        }
      ]
    },
    {
      "cell_type": "code",
      "metadata": {
        "id": "9t1H6F8fvpfl",
        "colab": {
          "base_uri": "https://localhost:8080/"
        },
        "outputId": "0ed12f20-20ee-4f28-a79d-9a6c751c813c"
      },
      "source": [
        "df.columns"
      ],
      "execution_count": 18,
      "outputs": [
        {
          "output_type": "execute_result",
          "data": {
            "text/plain": [
              "Index(['DIVERSIDADE (DI)', 'DI RELATIVO', 'FRAC Its', 'VELOC FOBJ', 'VELOC X',\n",
              "       'NP', 'Fo', 'CRo', 'fmin', 'fmax', 'AD_fmin', 'AD_fmax', 'DELTA FOBJ',\n",
              "       'DELTA VX', 'r_fitness', 'F', 'CR'],\n",
              "      dtype='object')"
            ]
          },
          "metadata": {
            "tags": []
          },
          "execution_count": 18
        }
      ]
    },
    {
      "cell_type": "code",
      "metadata": {
        "id": "B49HnrJWvUbd",
        "colab": {
          "base_uri": "https://localhost:8080/",
          "height": 17
        },
        "outputId": "26620f13-81fb-469a-b22e-80dcafc4f387"
      },
      "source": [
        "df = df[['FRAC Its','DI RELATIVO','fmin','fmax', 'F', 'CR']]\n",
        "Arq = fchoice+'.xlsx'\n",
        "df.to_excel(Arq)\n",
        "from google.colab import files\n",
        "files.download(Arq)"
      ],
      "execution_count": 19,
      "outputs": [
        {
          "output_type": "display_data",
          "data": {
            "application/javascript": [
              "\n",
              "    async function download(id, filename, size) {\n",
              "      if (!google.colab.kernel.accessAllowed) {\n",
              "        return;\n",
              "      }\n",
              "      const div = document.createElement('div');\n",
              "      const label = document.createElement('label');\n",
              "      label.textContent = `Downloading \"${filename}\": `;\n",
              "      div.appendChild(label);\n",
              "      const progress = document.createElement('progress');\n",
              "      progress.max = size;\n",
              "      div.appendChild(progress);\n",
              "      document.body.appendChild(div);\n",
              "\n",
              "      const buffers = [];\n",
              "      let downloaded = 0;\n",
              "\n",
              "      const channel = await google.colab.kernel.comms.open(id);\n",
              "      // Send a message to notify the kernel that we're ready.\n",
              "      channel.send({})\n",
              "\n",
              "      for await (const message of channel.messages) {\n",
              "        // Send a message to notify the kernel that we're ready.\n",
              "        channel.send({})\n",
              "        if (message.buffers) {\n",
              "          for (const buffer of message.buffers) {\n",
              "            buffers.push(buffer);\n",
              "            downloaded += buffer.byteLength;\n",
              "            progress.value = downloaded;\n",
              "          }\n",
              "        }\n",
              "      }\n",
              "      const blob = new Blob(buffers, {type: 'application/binary'});\n",
              "      const a = document.createElement('a');\n",
              "      a.href = window.URL.createObjectURL(blob);\n",
              "      a.download = filename;\n",
              "      div.appendChild(a);\n",
              "      a.click();\n",
              "      div.remove();\n",
              "    }\n",
              "  "
            ],
            "text/plain": [
              "<IPython.core.display.Javascript object>"
            ]
          },
          "metadata": {
            "tags": []
          }
        },
        {
          "output_type": "display_data",
          "data": {
            "application/javascript": [
              "download(\"download_c788a13d-2f87-4784-9356-b38dc3325fe7\", \"Ackley.xlsx\", 129929)"
            ],
            "text/plain": [
              "<IPython.core.display.Javascript object>"
            ]
          },
          "metadata": {
            "tags": []
          }
        }
      ]
    }
  ]
}
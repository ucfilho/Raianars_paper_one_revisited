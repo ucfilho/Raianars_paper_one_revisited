{
  "nbformat": 4,
  "nbformat_minor": 0,
  "metadata": {
    "colab": {
      "name": "Frannk_Ackley_gen_2000_par_100_dim_var_jun_19_2021.ipynb",
      "provenance": [],
      "collapsed_sections": [],
      "include_colab_link": true
    },
    "kernelspec": {
      "display_name": "Python 3",
      "name": "python3"
    },
    "language_info": {
      "codemirror_mode": {
        "name": "ipython",
        "version": 3
      },
      "file_extension": ".py",
      "mimetype": "text/x-python",
      "name": "python",
      "nbconvert_exporter": "python",
      "pygments_lexer": "ipython3",
      "version": "3.7.3"
    }
  },
  "cells": [
    {
      "cell_type": "markdown",
      "metadata": {
        "id": "view-in-github",
        "colab_type": "text"
      },
      "source": [
        "<a href=\"https://colab.research.google.com/github/ucfilho/Raianars_paper_one_revisited/blob/main/New_Graph_Showing_Correction/Frannk_Ackley_gen_2000_par_100_dim_var_jun_19_2021.ipynb\" target=\"_parent\"><img src=\"https://colab.research.google.com/assets/colab-badge.svg\" alt=\"Open In Colab\"/></a>"
      ]
    },
    {
      "cell_type": "code",
      "metadata": {
        "colab": {
          "base_uri": "https://localhost:8080/"
        },
        "id": "c59cDVKoxDLX",
        "outputId": "95ab963f-9b0a-472b-cfd4-01bd898d1a3c"
      },
      "source": [
        "############################### Importar códigos\n",
        "!git clone https://github.com/ucfilho/optim_raianars_Insight/ #clonar do Github\n",
        "%cd optim_raianars_Insight\n",
        "import de_soma_Insight\n",
        "import de_bounds_matriz\n",
        "import Go2Ann"
      ],
      "execution_count": 1,
      "outputs": [
        {
          "output_type": "stream",
          "text": [
            "Cloning into 'optim_raianars_Insight'...\n",
            "remote: Enumerating objects: 378, done.\u001b[K\n",
            "remote: Counting objects: 100% (64/64), done.\u001b[K\n",
            "remote: Compressing objects: 100% (64/64), done.\u001b[K\n",
            "remote: Total 378 (delta 37), reused 0 (delta 0), pack-reused 314\u001b[K\n",
            "Receiving objects: 100% (378/378), 327.66 KiB | 20.48 MiB/s, done.\n",
            "Resolving deltas: 100% (218/218), done.\n",
            "/content/optim_raianars_Insight\n"
          ],
          "name": "stdout"
        }
      ]
    },
    {
      "cell_type": "code",
      "metadata": {
        "colab": {
          "base_uri": "https://localhost:8080/"
        },
        "id": "Va-6Xios8RjU",
        "outputId": "f9b0eb5d-49bc-4b41-e8cf-2280a9a402cb"
      },
      "source": [
        "!git clone https://github.com/ucfilho/Raianars_paper_One #clonar do Github\n",
        "%cd Raianars_paper_One"
      ],
      "execution_count": 2,
      "outputs": [
        {
          "output_type": "stream",
          "text": [
            "Cloning into 'Raianars_paper_One'...\n",
            "remote: Enumerating objects: 272, done.\u001b[K\n",
            "remote: Counting objects: 100% (143/143), done.\u001b[K\n",
            "remote: Compressing objects: 100% (143/143), done.\u001b[K\n",
            "remote: Total 272 (delta 80), reused 0 (delta 0), pack-reused 129\u001b[K\n",
            "Receiving objects: 100% (272/272), 660.83 KiB | 27.53 MiB/s, done.\n",
            "Resolving deltas: 100% (152/152), done.\n",
            "/content/optim_raianars_Insight/Raianars_paper_One\n"
          ],
          "name": "stdout"
        }
      ]
    },
    {
      "cell_type": "code",
      "metadata": {
        "id": "_E15mKFURR6O"
      },
      "source": [
        "#import Go2Ann\n",
        "#import de_soma_Insight\n",
        "#import de_bounds_matriz\n",
        "#import Function\n",
        "#import Go2MinMax\n",
        "from AvaliaX import AvaliaX\n",
        "#from Function import FUN\n",
        "#from Function import Function.FUN\n",
        "#from Function import Function.Fun\n",
        "#from Function import Function\n",
        "from GeraIndices import GeraIndices\n",
        "import numpy as np\n",
        "import time\n",
        "import matplotlib.pyplot as plt\n",
        "from random import randint\n",
        "from scipy import optimize\n",
        "import pandas as pd\n",
        "from sklearn.metrics import confusion_matrix\n",
        "\n",
        "############################### DADOS DE ENTRADA \n",
        "RUNS=1 #NÚMERO DE RODADAS\n",
        "Fc=0.1 # fator de correcao parametros da ANN\n",
        "its=1 #10 # quantas vezes vai usar o NPAR antes de alterar de novo\n",
        "ITE=2000 #10 # PONTOS quantas vezes vai alteral NPAR \n",
        "NPAR=100\n",
        "mut=0.5\n",
        "crossp=0.5\n",
        "Fi=mut;CRi=crossp;# para impressão\n",
        "\n",
        "\n"
      ],
      "execution_count": 3,
      "outputs": []
    },
    {
      "cell_type": "code",
      "metadata": {
        "colab": {
          "base_uri": "https://localhost:8080/"
        },
        "id": "ik3ZjkUKycUK",
        "outputId": "9643fb7b-08eb-455f-9e9d-3f4bff1540d6"
      },
      "source": [
        "############################### Importar códigos\n",
        "!git clone https://github.com/ucfilho/optim_raianars_Insight/ #clonar do Github\n",
        "%cd optim_raianars_Insight\n",
        "import de_soma_Insight\n",
        "import de_bounds_matriz"
      ],
      "execution_count": 4,
      "outputs": [
        {
          "output_type": "stream",
          "text": [
            "Cloning into 'optim_raianars_Insight'...\n",
            "remote: Enumerating objects: 378, done.\u001b[K\n",
            "remote: Counting objects:   1% (1/64)\u001b[K\rremote: Counting objects:   3% (2/64)\u001b[K\rremote: Counting objects:   4% (3/64)\u001b[K\rremote: Counting objects:   6% (4/64)\u001b[K\rremote: Counting objects:   7% (5/64)\u001b[K\rremote: Counting objects:   9% (6/64)\u001b[K\rremote: Counting objects:  10% (7/64)\u001b[K\rremote: Counting objects:  12% (8/64)\u001b[K\rremote: Counting objects:  14% (9/64)\u001b[K\rremote: Counting objects:  15% (10/64)\u001b[K\rremote: Counting objects:  17% (11/64)\u001b[K\rremote: Counting objects:  18% (12/64)\u001b[K\rremote: Counting objects:  20% (13/64)\u001b[K\rremote: Counting objects:  21% (14/64)\u001b[K\rremote: Counting objects:  23% (15/64)\u001b[K\rremote: Counting objects:  25% (16/64)\u001b[K\rremote: Counting objects:  26% (17/64)\u001b[K\rremote: Counting objects:  28% (18/64)\u001b[K\rremote: Counting objects:  29% (19/64)\u001b[K\rremote: Counting objects:  31% (20/64)\u001b[K\rremote: Counting objects:  32% (21/64)\u001b[K\rremote: Counting objects:  34% (22/64)\u001b[K\rremote: Counting objects:  35% (23/64)\u001b[K\rremote: Counting objects:  37% (24/64)\u001b[K\rremote: Counting objects:  39% (25/64)\u001b[K\rremote: Counting objects:  40% (26/64)\u001b[K\rremote: Counting objects:  42% (27/64)\u001b[K\rremote: Counting objects:  43% (28/64)\u001b[K\rremote: Counting objects:  45% (29/64)\u001b[K\rremote: Counting objects:  46% (30/64)\u001b[K\rremote: Counting objects:  48% (31/64)\u001b[K\rremote: Counting objects:  50% (32/64)\u001b[K\rremote: Counting objects:  51% (33/64)\u001b[K\rremote: Counting objects:  53% (34/64)\u001b[K\rremote: Counting objects:  54% (35/64)\u001b[K\rremote: Counting objects:  56% (36/64)\u001b[K\rremote: Counting objects:  57% (37/64)\u001b[K\rremote: Counting objects:  59% (38/64)\u001b[K\rremote: Counting objects:  60% (39/64)\u001b[K\rremote: Counting objects:  62% (40/64)\u001b[K\rremote: Counting objects:  64% (41/64)\u001b[K\rremote: Counting objects:  65% (42/64)\u001b[K\rremote: Counting objects:  67% (43/64)\u001b[K\rremote: Counting objects:  68% (44/64)\u001b[K\rremote: Counting objects:  70% (45/64)\u001b[K\rremote: Counting objects:  71% (46/64)\u001b[K\rremote: Counting objects:  73% (47/64)\u001b[K\rremote: Counting objects:  75% (48/64)\u001b[K\rremote: Counting objects:  76% (49/64)\u001b[K\rremote: Counting objects:  78% (50/64)\u001b[K\rremote: Counting objects:  79% (51/64)\u001b[K\rremote: Counting objects:  81% (52/64)\u001b[K\rremote: Counting objects:  82% (53/64)\u001b[K\rremote: Counting objects:  84% (54/64)\u001b[K\rremote: Counting objects:  85% (55/64)\u001b[K\rremote: Counting objects:  87% (56/64)\u001b[K\rremote: Counting objects:  89% (57/64)\u001b[K\rremote: Counting objects:  90% (58/64)\u001b[K\rremote: Counting objects:  92% (59/64)\u001b[K\rremote: Counting objects:  93% (60/64)\u001b[K\rremote: Counting objects:  95% (61/64)\u001b[K\rremote: Counting objects:  96% (62/64)\u001b[K\rremote: Counting objects:  98% (63/64)\u001b[K\rremote: Counting objects: 100% (64/64)\u001b[K\rremote: Counting objects: 100% (64/64), done.\u001b[K\n",
            "remote: Compressing objects:   1% (1/64)\u001b[K\rremote: Compressing objects:   3% (2/64)\u001b[K\rremote: Compressing objects:   4% (3/64)\u001b[K\rremote: Compressing objects:   6% (4/64)\u001b[K\rremote: Compressing objects:   7% (5/64)\u001b[K\rremote: Compressing objects:   9% (6/64)\u001b[K\rremote: Compressing objects:  10% (7/64)\u001b[K\rremote: Compressing objects:  12% (8/64)\u001b[K\rremote: Compressing objects:  14% (9/64)\u001b[K\rremote: Compressing objects:  15% (10/64)\u001b[K\rremote: Compressing objects:  17% (11/64)\u001b[K\rremote: Compressing objects:  18% (12/64)\u001b[K\rremote: Compressing objects:  20% (13/64)\u001b[K\rremote: Compressing objects:  21% (14/64)\u001b[K\rremote: Compressing objects:  23% (15/64)\u001b[K\rremote: Compressing objects:  25% (16/64)\u001b[K\rremote: Compressing objects:  26% (17/64)\u001b[K\rremote: Compressing objects:  28% (18/64)\u001b[K\rremote: Compressing objects:  29% (19/64)\u001b[K\rremote: Compressing objects:  31% (20/64)\u001b[K\rremote: Compressing objects:  32% (21/64)\u001b[K\rremote: Compressing objects:  34% (22/64)\u001b[K\rremote: Compressing objects:  35% (23/64)\u001b[K\rremote: Compressing objects:  37% (24/64)\u001b[K\rremote: Compressing objects:  39% (25/64)\u001b[K\rremote: Compressing objects:  40% (26/64)\u001b[K\rremote: Compressing objects:  42% (27/64)\u001b[K\rremote: Compressing objects:  43% (28/64)\u001b[K\rremote: Compressing objects:  45% (29/64)\u001b[K\rremote: Compressing objects:  46% (30/64)\u001b[K\rremote: Compressing objects:  48% (31/64)\u001b[K\rremote: Compressing objects:  50% (32/64)\u001b[K\rremote: Compressing objects:  51% (33/64)\u001b[K\rremote: Compressing objects:  53% (34/64)\u001b[K\rremote: Compressing objects:  54% (35/64)\u001b[K\rremote: Compressing objects:  56% (36/64)\u001b[K\rremote: Compressing objects:  57% (37/64)\u001b[K\rremote: Compressing objects:  59% (38/64)\u001b[K\rremote: Compressing objects:  60% (39/64)\u001b[K\rremote: Compressing objects:  62% (40/64)\u001b[K\rremote: Compressing objects:  64% (41/64)\u001b[K\rremote: Compressing objects:  65% (42/64)\u001b[K\rremote: Compressing objects:  67% (43/64)\u001b[K\rremote: Compressing objects:  68% (44/64)\u001b[K\rremote: Compressing objects:  70% (45/64)\u001b[K\rremote: Compressing objects:  71% (46/64)\u001b[K\rremote: Compressing objects:  73% (47/64)\u001b[K\rremote: Compressing objects:  75% (48/64)\u001b[K\rremote: Compressing objects:  76% (49/64)\u001b[K\rremote: Compressing objects:  78% (50/64)\u001b[K\rremote: Compressing objects:  79% (51/64)\u001b[K\rremote: Compressing objects:  81% (52/64)\u001b[K\rremote: Compressing objects:  82% (53/64)\u001b[K\rremote: Compressing objects:  84% (54/64)\u001b[K\rremote: Compressing objects:  85% (55/64)\u001b[K\rremote: Compressing objects:  87% (56/64)\u001b[K\rremote: Compressing objects:  89% (57/64)\u001b[K\rremote: Compressing objects:  90% (58/64)\u001b[K\rremote: Compressing objects:  92% (59/64)\u001b[K\rremote: Compressing objects:  93% (60/64)\u001b[K\rremote: Compressing objects:  95% (61/64)\u001b[K\rremote: Compressing objects:  96% (62/64)\u001b[K\rremote: Compressing objects:  98% (63/64)\u001b[K\rremote: Compressing objects: 100% (64/64)\u001b[K\rremote: Compressing objects: 100% (64/64), done.\u001b[K\n",
            "Receiving objects:   0% (1/378)   \rReceiving objects:   1% (4/378)   \rReceiving objects:   2% (8/378)   \rReceiving objects:   3% (12/378)   \rReceiving objects:   4% (16/378)   \rReceiving objects:   5% (19/378)   \rReceiving objects:   6% (23/378)   \rReceiving objects:   7% (27/378)   \rReceiving objects:   8% (31/378)   \rReceiving objects:   9% (35/378)   \rReceiving objects:  10% (38/378)   \rReceiving objects:  11% (42/378)   \rReceiving objects:  12% (46/378)   \rReceiving objects:  13% (50/378)   \rReceiving objects:  14% (53/378)   \rReceiving objects:  15% (57/378)   \rReceiving objects:  16% (61/378)   \rReceiving objects:  17% (65/378)   \rReceiving objects:  18% (69/378)   \rReceiving objects:  19% (72/378)   \rReceiving objects:  20% (76/378)   \rReceiving objects:  21% (80/378)   \rReceiving objects:  22% (84/378)   \rReceiving objects:  23% (87/378)   \rReceiving objects:  24% (91/378)   \rReceiving objects:  25% (95/378)   \rReceiving objects:  26% (99/378)   \rReceiving objects:  27% (103/378)   \rReceiving objects:  28% (106/378)   \rReceiving objects:  29% (110/378)   \rReceiving objects:  30% (114/378)   \rReceiving objects:  31% (118/378)   \rReceiving objects:  32% (121/378)   \rReceiving objects:  33% (125/378)   \rReceiving objects:  34% (129/378)   \rReceiving objects:  35% (133/378)   \rReceiving objects:  36% (137/378)   \rReceiving objects:  37% (140/378)   \rReceiving objects:  38% (144/378)   \rReceiving objects:  39% (148/378)   \rReceiving objects:  40% (152/378)   \rReceiving objects:  41% (155/378)   \rReceiving objects:  42% (159/378)   \rReceiving objects:  43% (163/378)   \rReceiving objects:  44% (167/378)   \rReceiving objects:  45% (171/378)   \rReceiving objects:  46% (174/378)   \rReceiving objects:  47% (178/378)   \rReceiving objects:  48% (182/378)   \rReceiving objects:  49% (186/378)   \rReceiving objects:  50% (189/378)   \rReceiving objects:  51% (193/378)   \rremote: Total 378 (delta 37), reused 0 (delta 0), pack-reused 314\u001b[K\n",
            "Receiving objects:  52% (197/378)   \rReceiving objects:  53% (201/378)   \rReceiving objects:  54% (205/378)   \rReceiving objects:  55% (208/378)   \rReceiving objects:  56% (212/378)   \rReceiving objects:  57% (216/378)   \rReceiving objects:  58% (220/378)   \rReceiving objects:  59% (224/378)   \rReceiving objects:  60% (227/378)   \rReceiving objects:  61% (231/378)   \rReceiving objects:  62% (235/378)   \rReceiving objects:  63% (239/378)   \rReceiving objects:  64% (242/378)   \rReceiving objects:  65% (246/378)   \rReceiving objects:  66% (250/378)   \rReceiving objects:  67% (254/378)   \rReceiving objects:  68% (258/378)   \rReceiving objects:  69% (261/378)   \rReceiving objects:  70% (265/378)   \rReceiving objects:  71% (269/378)   \rReceiving objects:  72% (273/378)   \rReceiving objects:  73% (276/378)   \rReceiving objects:  74% (280/378)   \rReceiving objects:  75% (284/378)   \rReceiving objects:  76% (288/378)   \rReceiving objects:  77% (292/378)   \rReceiving objects:  78% (295/378)   \rReceiving objects:  79% (299/378)   \rReceiving objects:  80% (303/378)   \rReceiving objects:  81% (307/378)   \rReceiving objects:  82% (310/378)   \rReceiving objects:  83% (314/378)   \rReceiving objects:  84% (318/378)   \rReceiving objects:  85% (322/378)   \rReceiving objects:  86% (326/378)   \rReceiving objects:  87% (329/378)   \rReceiving objects:  88% (333/378)   \rReceiving objects:  89% (337/378)   \rReceiving objects:  90% (341/378)   \rReceiving objects:  91% (344/378)   \rReceiving objects:  92% (348/378)   \rReceiving objects:  93% (352/378)   \rReceiving objects:  94% (356/378)   \rReceiving objects:  95% (360/378)   \rReceiving objects:  96% (363/378)   \rReceiving objects:  97% (367/378)   \rReceiving objects:  98% (371/378)   \rReceiving objects:  99% (375/378)   \rReceiving objects: 100% (378/378)   \rReceiving objects: 100% (378/378), 327.66 KiB | 15.60 MiB/s, done.\n",
            "Resolving deltas:   0% (0/218)   \rResolving deltas:  20% (44/218)   \rResolving deltas:  40% (89/218)   \rResolving deltas:  51% (112/218)   \rResolving deltas:  58% (128/218)   \rResolving deltas:  62% (137/218)   \rResolving deltas:  64% (140/218)   \rResolving deltas:  75% (165/218)   \rResolving deltas:  79% (174/218)   \rResolving deltas:  80% (175/218)   \rResolving deltas:  83% (181/218)   \rResolving deltas:  93% (203/218)   \rResolving deltas:  97% (213/218)   \rResolving deltas: 100% (218/218)   \rResolving deltas: 100% (218/218), done.\n",
            "/content/optim_raianars_Insight/Raianars_paper_One/optim_raianars_Insight\n"
          ],
          "name": "stdout"
        }
      ]
    },
    {
      "cell_type": "code",
      "metadata": {
        "colab": {
          "base_uri": "https://localhost:8080/"
        },
        "id": "QfCTvdZm5Luv",
        "outputId": "1ff6485f-2ac3-4b23-d5c8-ef4f67292a37"
      },
      "source": [
        "!ls"
      ],
      "execution_count": 5,
      "outputs": [
        {
          "output_type": "stream",
          "text": [
            "ANN_gera_matriz_classifica_Insight_CR.ipynb  Fun2Choice.py\n",
            "ANN_gera_matriz_classifica_Insight.ipynb     Function.py\n",
            "AvaliaX.py\t\t\t\t     GeraIndices.py\n",
            "de_bounds_matriz.py\t\t\t     Go2Ann.py\n",
            "DE_OPTIM_ANN_Insight_DIVERSIDADE_3x4.ipynb   Go2MinMax.py\n",
            "DE_OPTIM_ANN_Insight_DIVERSIDADE.ipynb\t     hello.py\n",
            "DE_OPTIM_ANN_Insight_exponencial.ipynb\t     Raiana_Cauchy_Insight.ipynb\n",
            "de_soma_Insight.py\n"
          ],
          "name": "stdout"
        }
      ]
    },
    {
      "cell_type": "code",
      "metadata": {
        "colab": {
          "base_uri": "https://localhost:8080/"
        },
        "id": "qTINtQ1cosZK",
        "outputId": "1e1d2132-ee3a-4bf7-e5a1-51bd345b5a26"
      },
      "source": [
        "!git clone https://github.com/ucfilho/ANN_read_matrix #clonar do Github\n",
        "%cd ANN_read_matrix"
      ],
      "execution_count": 6,
      "outputs": [
        {
          "output_type": "stream",
          "text": [
            "Cloning into 'ANN_read_matrix'...\n",
            "remote: Enumerating objects: 20, done.\u001b[K\n",
            "remote: Counting objects: 100% (20/20), done.\u001b[K\n",
            "remote: Compressing objects: 100% (18/18), done.\u001b[K\n",
            "remote: Total 20 (delta 5), reused 0 (delta 0), pack-reused 0\u001b[K\n",
            "Unpacking objects: 100% (20/20), done.\n",
            "/content/optim_raianars_Insight/Raianars_paper_One/optim_raianars_Insight/ANN_read_matrix\n"
          ],
          "name": "stdout"
        }
      ]
    },
    {
      "cell_type": "code",
      "metadata": {
        "id": "QiQLYOoNoyCw"
      },
      "source": [
        "ANN_F=pd.read_csv('ANN_INSIGHT_Valor_F.csv')"
      ],
      "execution_count": 7,
      "outputs": []
    },
    {
      "cell_type": "code",
      "metadata": {
        "id": "uHtW2amaDzFv"
      },
      "source": [
        "ANN_CR=pd.read_csv('ANN_INSIGHT_CR.csv')"
      ],
      "execution_count": 8,
      "outputs": []
    },
    {
      "cell_type": "code",
      "metadata": {
        "id": "EH6h_vke2yu1"
      },
      "source": [
        "syn0_F,syn1_F,X_max_F,X_min_F=Go2Ann.GetMatriz(ANN_F)"
      ],
      "execution_count": 9,
      "outputs": []
    },
    {
      "cell_type": "code",
      "metadata": {
        "id": "WW_3ZWJXD60i"
      },
      "source": [
        "syn0_CR,syn1_CR,X_max_CR,X_min_CR=Go2Ann.GetMatriz(ANN_CR)"
      ],
      "execution_count": 10,
      "outputs": []
    },
    {
      "cell_type": "code",
      "metadata": {
        "id": "b4gwBvVTyaXh"
      },
      "source": [
        "ANN_CR=pd.read_csv('ANN_INSIGHT_CR.csv')"
      ],
      "execution_count": 11,
      "outputs": []
    },
    {
      "cell_type": "code",
      "metadata": {
        "id": "6jL8MxpHvk-Y"
      },
      "source": [
        "fields = ['DI RELATIVO','FRAC Its','Fo','CRo']"
      ],
      "execution_count": 12,
      "outputs": []
    },
    {
      "cell_type": "code",
      "metadata": {
        "id": "P8LIRCsdywOX",
        "colab": {
          "base_uri": "https://localhost:8080/",
          "height": 1000
        },
        "outputId": "63d02fc8-b4c0-4fb1-acac-79c48cb5bcc9"
      },
      "source": [
        "#!git clone https://github.com/ucfilho/Raianars_paper_one_revisited/AddFunctions \n",
        "!git clone https://github.com/ucfilho/Raianars_Routines #clonar do Github\n",
        "%cd Raianars_Routines\n",
        "############################### Função\n",
        "import FunctionsNew\n",
        "#'''  \n",
        "############################### Função\n",
        "dim=30 # \n",
        "fchoice='Ackley'\n",
        "Fun=FunctionsNew.Ackley\n",
        "MAX=np.repeat(32,dim)\n",
        "MIN=np.repeat(-32,dim)\n",
        " #fx=\n",
        "#'''\n",
        "#####################################\n",
        "PAR=len(MAX) #NUM DE PARAMETROS A SER OTIMIZADOS\n",
        "\n",
        "bounds=[]\n",
        "for k in range(len(MAX)):\n",
        "  bounds.append((MIN[k],MAX[k]))\n",
        "\n",
        "##################################### \n",
        "\n",
        "TOTAL=10*dim*its*ITE\n",
        "TOTAL=int(TOTAL/2)   # CONFERIR SE ESTE EH O MELHOR LUGAR\n",
        "\n",
        "dimensions=len(MAX)\n",
        "start_time = time.time() #INICIALIZA CONTAGEM DO TEMPO\n",
        "\n",
        "\n",
        "PAR=dim\n",
        "fobj=Fun\n",
        "\n",
        "MAX_P=np.zeros(ITE) # ATENCAO para variar F e Cr MAX_P passa a ser 3 vezes maior\n",
        "MIN_P=np.zeros(ITE) # ATENCAO para variar F e Cr MIN_P passa a ser 3 vezes maior\n",
        "\n",
        "for i in range(dim):\n",
        "  MAX_P[i]=MAX[i] \n",
        "  MIN_P[i]=MIN[i]\n",
        "\n",
        "rodadas=1\n",
        "NPAR1=NPAR\n",
        "# NPAR2=NPAR-NPAR1;print('Npar2=',NPAR2);print('Npar=',NPAR)\n",
        "\n",
        "cols=dim\n",
        "\n",
        "X1=np.zeros((NPAR1,cols)) # X1 is Frannk population\n",
        "for i in range(NPAR1):\n",
        "  for j in range(cols):\n",
        "    r=np.random.random()\n",
        "    X1[i,j]=r*(MAX[j]-MIN[j])+MIN[j]\n",
        "  \n",
        "\n",
        "\n",
        "start_time = time.time()\n",
        "BEST_AGENTS=[]\n",
        "MAT_stat=[]\n",
        "for iii in range(RUNS):\n",
        "    MAT=[] \n",
        "    mut=Fi\n",
        "    crossp=CRi\n",
        "    SOMA=0\n",
        "    pop = np.random.rand(NPAR, dim)\n",
        "    diff=np.zeros(PAR)\n",
        "    X1=np.zeros((NPAR1,cols)) # X1 is Frannk population\n",
        "    for i in range(NPAR1):\n",
        "      for j in range(cols):\n",
        "        r=np.random.random()\n",
        "        X1[i,j]=r*(MAX[j]-MIN[j])+MIN[j]\n",
        "        \n",
        "\n",
        "    \n",
        "    DIo=1e99\n",
        "  \n",
        "    CRo=crossp;Fo=mut;\n",
        "    Fitness = np.asarray([Fun(ind) for ind in X1])\n",
        "    XY,BEST_XY,BESTo,FOBESTo=AvaliaX(X1,Fitness)\n",
        "    nrow,ncol=X1.shape\n",
        "\n",
        "    QUANT=17;MAT_INDo=np.zeros((1,QUANT)); # quantos indices esta fazendo\n",
        "    MAT_INDo[0,5]=nrow  # VALOR NP\n",
        "    MAT_INDo[0,6]=Fo    # VALOR Fo   \n",
        "    MAT_INDo[0,7]=CRo   # VALOR CRo\n",
        "  \n",
        "    MAT_INDo=GeraIndices(X1,BESTo,FOBESTo,DIo,MAT_INDo,SOMA,TOTAL,syn0_F,\n",
        "                        syn1_F,X_max_F,X_min_F,syn0_CR,syn1_CR,X_max_CR,\n",
        "                        X_min_CR,Fc,fields,Fun)\n",
        "  \n",
        "    DIo=np.copy(MAT_INDo[0,0])\n",
        "    MAT_INDo[0,15]=Fo    # VALOR Fo   \n",
        "    MAT_INDo[0,16]=CRo   # VALOR CRo\n",
        "    #ind_crossp=ITE-1\n",
        "    \n",
        "\n",
        "    \n",
        "    for k in range(ITE):\n",
        "    \n",
        "      \n",
        "      X1,BEST1,FOBEST,XY,BEST_XY,SOMA= de_soma_Insight.de(MAX,MIN, mut, crossp,NPAR1,its,Fun,X1,SOMA,TOTAL)\n",
        "\n",
        "      MAT_IND=GeraIndices(X1,BESTo,FOBESTo,DIo,MAT_INDo,SOMA,TOTAL,syn0_F,\n",
        "                          syn1_F,X_max_F,X_min_F,syn0_CR,syn1_CR,X_max_CR,\n",
        "                          X_min_CR,Fc,fields,Fun)\n",
        "    \n",
        "      BESTo=np.copy(BEST1);FOBESTo=np.copy(FOBEST);\n",
        "      MAT.append(MAT_IND.ravel())\n",
        "    \n",
        "      MAT_INDo[0,6]=MAT_IND[0,15]   # VALOR Fo   \n",
        "      MAT_INDo[0,7]=MAT_IND[0,16]   # VALOR CRo\n",
        "      mut=MAT_IND[0,15]\n",
        "      crossp=MAT_IND[0,16]\n",
        "\n",
        "    print('k=',iii,'time=',(time.time()-start_time)/60)  \n",
        "    BEST_AGENTS.append(BEST_XY)\n",
        "    MAT_stat.append(MAT)\n",
        "    #print(\"GlobalParam e Solucao:\", BEST,\"Funcao=\",FOBEST)\n",
        "    \n",
        "############################## Cálculo dos Parâmetros de Avaliação   \n",
        "TIME = (time.time() - start_time)/RUNS\n",
        "BEST_AGENTS=np.array(BEST_AGENTS)\n",
        "BEST_AGENTS_ST= BEST_AGENTS[BEST_AGENTS[:,-1].argsort()]\n",
        "BEST=BEST_AGENTS_ST[0]\n",
        "WORSE=BEST_AGENTS_ST[-1]\n",
        "MEAN=np.mean(BEST_AGENTS,axis=0)\n",
        "MAXFO=BEST_AGENTS[:,-1].max()\n",
        "MINFO=BEST_AGENTS[:,-1].min()\n",
        "STD=BEST_AGENTS[:,-1].std()\n",
        "\n",
        "NOMES=['DIVERSIDADE (DI)',  'DI RELATIVO','FRAC Its',\n",
        "           'VELOC FOBJ','VELOC X','NP','Fo','CRo','fmin','fmax',\n",
        "           'AD_fmin','AD_fmax','DELTA FOBJ','DELTA VX','r_fitness',\n",
        "           'F','CR']\n",
        "# BEST_INDEX= BEST_AGENTS[BEST_AGENTS[:,-1].argmin()]  \n",
        "BEST_INDEX = np.argmin(BEST_AGENTS[:,-1])\n",
        "df=pd.DataFrame(MAT_stat[BEST_INDEX], columns=NOMES)\n",
        "\n",
        "pd.set_option('display.max_columns', 30)  \n",
        "print(df)\n",
        "\n",
        "plt.plot(df['FRAC Its'],df['CR'])\n",
        "plt.xlabel('Iteração/Total')\n",
        "plt.ylabel('CR')"
      ],
      "execution_count": 13,
      "outputs": [
        {
          "output_type": "stream",
          "text": [
            "Cloning into 'Raianars_Routines'...\n",
            "remote: Enumerating objects: 63, done.\u001b[K\n",
            "remote: Counting objects:   1% (1/63)\u001b[K\rremote: Counting objects:   3% (2/63)\u001b[K\rremote: Counting objects:   4% (3/63)\u001b[K\rremote: Counting objects:   6% (4/63)\u001b[K\rremote: Counting objects:   7% (5/63)\u001b[K\rremote: Counting objects:   9% (6/63)\u001b[K\rremote: Counting objects:  11% (7/63)\u001b[K\rremote: Counting objects:  12% (8/63)\u001b[K\rremote: Counting objects:  14% (9/63)\u001b[K\rremote: Counting objects:  15% (10/63)\u001b[K\rremote: Counting objects:  17% (11/63)\u001b[K\rremote: Counting objects:  19% (12/63)\u001b[K\rremote: Counting objects:  20% (13/63)\u001b[K\rremote: Counting objects:  22% (14/63)\u001b[K\rremote: Counting objects:  23% (15/63)\u001b[K\rremote: Counting objects:  25% (16/63)\u001b[K\rremote: Counting objects:  26% (17/63)\u001b[K\rremote: Counting objects:  28% (18/63)\u001b[K\rremote: Counting objects:  30% (19/63)\u001b[K\rremote: Counting objects:  31% (20/63)\u001b[K\rremote: Counting objects:  33% (21/63)\u001b[K\rremote: Counting objects:  34% (22/63)\u001b[K\rremote: Counting objects:  36% (23/63)\u001b[K\rremote: Counting objects:  38% (24/63)\u001b[K\rremote: Counting objects:  39% (25/63)\u001b[K\rremote: Counting objects:  41% (26/63)\u001b[K\rremote: Counting objects:  42% (27/63)\u001b[K\rremote: Counting objects:  44% (28/63)\u001b[K\rremote: Counting objects:  46% (29/63)\u001b[K\rremote: Counting objects:  47% (30/63)\u001b[K\rremote: Counting objects:  49% (31/63)\u001b[K\rremote: Counting objects:  50% (32/63)\u001b[K\rremote: Counting objects:  52% (33/63)\u001b[K\rremote: Counting objects:  53% (34/63)\u001b[K\rremote: Counting objects:  55% (35/63)\u001b[K\rremote: Counting objects:  57% (36/63)\u001b[K\rremote: Counting objects:  58% (37/63)\u001b[K\rremote: Counting objects:  60% (38/63)\u001b[K\rremote: Counting objects:  61% (39/63)\u001b[K\rremote: Counting objects:  63% (40/63)\u001b[K\rremote: Counting objects:  65% (41/63)\u001b[K\rremote: Counting objects:  66% (42/63)\u001b[K\rremote: Counting objects:  68% (43/63)\u001b[K\rremote: Counting objects:  69% (44/63)\u001b[K\rremote: Counting objects:  71% (45/63)\u001b[K\rremote: Counting objects:  73% (46/63)\u001b[K\rremote: Counting objects:  74% (47/63)\u001b[K\rremote: Counting objects:  76% (48/63)\u001b[K\rremote: Counting objects:  77% (49/63)\u001b[K\rremote: Counting objects:  79% (50/63)\u001b[K\rremote: Counting objects:  80% (51/63)\u001b[K\rremote: Counting objects:  82% (52/63)\u001b[K\rremote: Counting objects:  84% (53/63)\u001b[K\rremote: Counting objects:  85% (54/63)\u001b[K\rremote: Counting objects:  87% (55/63)\u001b[K\rremote: Counting objects:  88% (56/63)\u001b[K\rremote: Counting objects:  90% (57/63)\u001b[K\rremote: Counting objects:  92% (58/63)\u001b[K\rremote: Counting objects:  93% (59/63)\u001b[K\rremote: Counting objects:  95% (60/63)\u001b[K\rremote: Counting objects:  96% (61/63)\u001b[K\rremote: Counting objects:  98% (62/63)\u001b[K\rremote: Counting objects: 100% (63/63)\u001b[K\rremote: Counting objects: 100% (63/63), done.\u001b[K\n",
            "remote: Compressing objects: 100% (61/61), done.\u001b[K\n",
            "remote: Total 63 (delta 18), reused 0 (delta 0), pack-reused 0\u001b[K\n",
            "Unpacking objects: 100% (63/63), done.\n",
            "/content/optim_raianars_Insight/Raianars_paper_One/optim_raianars_Insight/ANN_read_matrix/Raianars_Routines\n",
            "k= 0 time= 2.665151604016622\n",
            "      DIVERSIDADE (DI)   DI RELATIVO  FRAC Its  VELOC FOBJ  VELOC X     NP  \\\n",
            "0         1.008871e+02  1.003466e+00  0.000333         0.0      0.0  100.0   \n",
            "1         9.952467e+01  9.899144e-01  0.000667         0.0      0.0  100.0   \n",
            "2         9.849870e+01  9.797097e-01  0.001000         1.0      2.0  100.0   \n",
            "3         9.716710e+01  9.664650e-01  0.001333         1.0      2.0  100.0   \n",
            "4         9.578799e+01  9.527479e-01  0.001667         0.0      0.0  100.0   \n",
            "...                ...           ...       ...         ...      ...    ...   \n",
            "1995      2.208679e-14  2.196846e-16  0.665333         0.0      0.0  100.0   \n",
            "1996      2.208679e-14  2.196846e-16  0.665667         0.0      0.0  100.0   \n",
            "1997      2.208679e-14  2.196846e-16  0.666000         0.0      0.0  100.0   \n",
            "1998      2.208679e-14  2.196846e-16  0.666333         0.0      0.0  100.0   \n",
            "1999      2.208679e-14  2.196846e-16  0.666667         0.0      0.0  100.0   \n",
            "\n",
            "            Fo       CRo          fmin          fmax  AD_fmin  AD_fmax  \\\n",
            "0     0.500000  0.500000  2.058280e+01  2.149681e+01      1.0      1.0   \n",
            "1     0.249133  0.332756  2.058280e+01  2.139923e+01      1.0      1.0   \n",
            "2     0.434099  0.222956  2.044799e+01  2.133591e+01      1.0      1.0   \n",
            "3     0.221454  0.150145  2.024704e+01  2.132802e+01      1.0      1.0   \n",
            "4     0.381974  0.222700  2.024704e+01  2.123732e+01      1.0      1.0   \n",
            "...        ...       ...           ...           ...      ...      ...   \n",
            "1995  0.336337  0.139216  7.549517e-15  2.176037e-14      1.0      1.0   \n",
            "1996  0.336337  0.139216  7.549517e-15  2.176037e-14      1.0      1.0   \n",
            "1997  0.336337  0.139216  7.549517e-15  2.176037e-14      1.0      1.0   \n",
            "1998  0.336337  0.139216  7.549517e-15  2.176037e-14      1.0      1.0   \n",
            "1999  0.336337  0.139216  7.549517e-15  2.176037e-14      1.0      1.0   \n",
            "\n",
            "      DELTA FOBJ  DELTA VX  r_fitness         F        CR  \n",
            "0            0.0       0.0   0.042518  0.249133  0.332756  \n",
            "1            0.0       0.0   0.038152  0.434099  0.222956  \n",
            "2            0.0       0.0   0.041616  0.221454  0.150145  \n",
            "3            0.0       0.0   0.050684  0.381974  0.222700  \n",
            "4            0.0       0.0   0.046629  0.654917  0.151974  \n",
            "...          ...       ...        ...       ...       ...  \n",
            "1995         0.0       0.0   0.653061  0.336337  0.139216  \n",
            "1996         0.0       0.0   0.653061  0.336337  0.139216  \n",
            "1997         0.0       0.0   0.653061  0.336337  0.139216  \n",
            "1998         0.0       0.0   0.653061  0.336337  0.139216  \n",
            "1999         0.0       0.0   0.653061  0.336337  0.139216  \n",
            "\n",
            "[2000 rows x 17 columns]\n"
          ],
          "name": "stdout"
        },
        {
          "output_type": "execute_result",
          "data": {
            "text/plain": [
              "Text(0, 0.5, 'CR')"
            ]
          },
          "metadata": {
            "tags": []
          },
          "execution_count": 13
        },
        {
          "output_type": "display_data",
          "data": {
            "image/png": "[encoded data removed]",
            "text/plain": [
              "<Figure size 432x288 with 1 Axes>"
            ]
          },
          "metadata": {
            "tags": [],
            "needs_background": "light"
          }
        }
      ]
    },
    {
      "cell_type": "code",
      "metadata": {
        "id": "kNkhfZOhlMJp",
        "colab": {
          "base_uri": "https://localhost:8080/"
        },
        "outputId": "dba2e9ba-7cf4-4eda-fc79-5234d395e97a"
      },
      "source": [
        "df.columns"
      ],
      "execution_count": 14,
      "outputs": [
        {
          "output_type": "execute_result",
          "data": {
            "text/plain": [
              "Index(['DIVERSIDADE (DI)', 'DI RELATIVO', 'FRAC Its', 'VELOC FOBJ', 'VELOC X',\n",
              "       'NP', 'Fo', 'CRo', 'fmin', 'fmax', 'AD_fmin', 'AD_fmax', 'DELTA FOBJ',\n",
              "       'DELTA VX', 'r_fitness', 'F', 'CR'],\n",
              "      dtype='object')"
            ]
          },
          "metadata": {
            "tags": []
          },
          "execution_count": 14
        }
      ]
    },
    {
      "cell_type": "code",
      "metadata": {
        "id": "BvPFvbDvteDC",
        "colab": {
          "base_uri": "https://localhost:8080/",
          "height": 295
        },
        "outputId": "489bddf3-31fc-4310-b2d0-1d0f88370f4a"
      },
      "source": [
        "\n",
        "fig, ax = plt.subplots()\n",
        "ax.plot(df['FRAC Its'],df['F'],label='F')\n",
        "ax.set_xlabel('Iteração/Total')\n",
        "ax.set_ylabel('Parâmetros')\n",
        "ax.plot(df['FRAC Its'],df['CR'],'-r', label='CR')\n",
        "nome=Fun.__name__+'  M=Diversidade'+ '  D='+str(dim)\n",
        "ax.set_title(nome)\n",
        "leg = ax.legend()\n"
      ],
      "execution_count": 15,
      "outputs": [
        {
          "output_type": "display_data",
          "data": {
            "image/png": "[encoded data removed]",
            "text/plain": [
              "<Figure size 432x288 with 1 Axes>"
            ]
          },
          "metadata": {
            "tags": [],
            "needs_background": "light"
          }
        }
      ]
    },
    {
      "cell_type": "code",
      "metadata": {
        "id": "htooaGpDia_0",
        "colab": {
          "base_uri": "https://localhost:8080/",
          "height": 313
        },
        "outputId": "a22602fc-52a8-450e-dfc3-dd00eb6d6c9e"
      },
      "source": [
        "f, axarr = plt.subplots(2, sharex=True)\n",
        "axarr[0].plot(df['FRAC Its'],df['F'])\n",
        "axarr[0].set_ylabel('F')\n",
        "axarr[1].plot(df['FRAC Its'],df['CR'])\n",
        "axarr[1].set_ylabel('CR')\n",
        "axarr[1].set_xlabel('Iteração/Total')\n",
        "nome=Fun.__name__+'_Diversidade_'+ 'D='+str(dim)\n",
        "axarr[0].set_title(nome)\n"
      ],
      "execution_count": 16,
      "outputs": [
        {
          "output_type": "execute_result",
          "data": {
            "text/plain": [
              "Text(0.5, 1.0, 'Ackley_Diversidade_D=30')"
            ]
          },
          "metadata": {
            "tags": []
          },
          "execution_count": 16
        },
        {
          "output_type": "display_data",
          "data": {
            "image/png": "[encoded data removed]",
            "text/plain": [
              "<Figure size 432x288 with 2 Axes>"
            ]
          },
          "metadata": {
            "tags": [],
            "needs_background": "light"
          }
        }
      ]
    },
    {
      "cell_type": "code",
      "metadata": {
        "id": "lNSN5X-wskcx",
        "colab": {
          "base_uri": "https://localhost:8080/"
        },
        "outputId": "fe5b78b0-28c2-4c91-bcfd-d95d50938a98"
      },
      "source": [
        "nome='_ANN_Div3x4_Fo-'+str(Fi)+'_CRo-'+str(CRi)+'_D-'+str(dim)+'_Interv-'+str(ITE)\n",
        "print('DE_POP_VAR_F_CR','TOTAL=',TOTAL,'Iterações=',ITE*its,'Dim=', PAR,\"Min/Max=\",MIN[0],\"/\",MAX[0],'_',Fun.__name__)\n",
        "print(nome, '\\n')\n",
        "#print('BEST: ',BEST)\n",
        "#print('MÉDIA: ',MEAN)\n",
        "print('MÉDIA: ',MEAN[-1])\n",
        "print('MIN __:',MINFO)\n",
        "print('MAX__: ',MAXFO)\n",
        "print('STD __:',STD)\n",
        "print(\"Tempo Médio= %.3f segundos ---\" % (TIME))\n",
        "print(RUNS,'Rodadas') \n",
        "print()\n",
        "print('BEST: ',BEST)\n",
        "# print('melhor=',BEST_AGENTS[BEST_INDEX])"
      ],
      "execution_count": 17,
      "outputs": [
        {
          "output_type": "stream",
          "text": [
            "DE_POP_VAR_F_CR TOTAL= 300000 Iterações= 2000 Dim= 30 Min/Max= -32 / 32 _ Ackley\n",
            "_ANN_Div3x4_Fo-0.5_CRo-0.5_D-30_Interv-2000 \n",
            "\n",
            "MÉDIA:  7.549516567451064e-15\n",
            "MIN __: 7.549516567451064e-15\n",
            "MAX__:  7.549516567451064e-15\n",
            "STD __: 0.0\n",
            "Tempo Médio= 159.911 segundos ---\n",
            "1 Rodadas\n",
            "\n",
            "BEST:  [ 1.64912244e-15  5.14907306e-16 -2.09442393e-16 -3.79448069e-15\n",
            "  3.67200234e-16 -5.09994388e-15 -1.82906924e-15  1.69799764e-15\n",
            "  5.31276345e-16 -2.87299279e-16  9.91111963e-17  1.17403907e-15\n",
            " -3.21188044e-15  1.97763714e-16 -9.13567726e-16  1.46843291e-15\n",
            " -4.39470622e-15 -2.11411857e-15  2.62189263e-15  4.31337962e-16\n",
            "  3.71891854e-17 -1.34553166e-15  2.21868671e-15  1.37218751e-15\n",
            "  2.74765599e-15 -3.60137693e-15  8.51686325e-17  4.65806492e-15\n",
            " -3.07233365e-15 -2.31295792e-15  7.54951657e-15]\n"
          ],
          "name": "stdout"
        }
      ]
    },
    {
      "cell_type": "code",
      "metadata": {
        "id": "9t1H6F8fvpfl",
        "colab": {
          "base_uri": "https://localhost:8080/"
        },
        "outputId": "84a0cee7-a0b9-45e0-a604-988c16d971e2"
      },
      "source": [
        "df.columns"
      ],
      "execution_count": 18,
      "outputs": [
        {
          "output_type": "execute_result",
          "data": {
            "text/plain": [
              "Index(['DIVERSIDADE (DI)', 'DI RELATIVO', 'FRAC Its', 'VELOC FOBJ', 'VELOC X',\n",
              "       'NP', 'Fo', 'CRo', 'fmin', 'fmax', 'AD_fmin', 'AD_fmax', 'DELTA FOBJ',\n",
              "       'DELTA VX', 'r_fitness', 'F', 'CR'],\n",
              "      dtype='object')"
            ]
          },
          "metadata": {
            "tags": []
          },
          "execution_count": 18
        }
      ]
    },
    {
      "cell_type": "code",
      "metadata": {
        "id": "B49HnrJWvUbd",
        "colab": {
          "base_uri": "https://localhost:8080/",
          "height": 17
        },
        "outputId": "a381fe26-2260-418f-c528-65cc027636bf"
      },
      "source": [
        "df = df[['FRAC Its','DI RELATIVO','fmin','fmax', 'F', 'CR']]\n",
        "Arq = fchoice+'_Pure_Frannk.xlsx'\n",
        "df.to_excel(Arq)\n",
        "from google.colab import files\n",
        "files.download(Arq)"
      ],
      "execution_count": 19,
      "outputs": [
        {
          "output_type": "display_data",
          "data": {
            "application/javascript": [
              "\n",
              "    async function download(id, filename, size) {\n",
              "      if (!google.colab.kernel.accessAllowed) {\n",
              "        return;\n",
              "      }\n",
              "      const div = document.createElement('div');\n",
              "      const label = document.createElement('label');\n",
              "      label.textContent = `Downloading \"${filename}\": `;\n",
              "      div.appendChild(label);\n",
              "      const progress = document.createElement('progress');\n",
              "      progress.max = size;\n",
              "      div.appendChild(progress);\n",
              "      document.body.appendChild(div);\n",
              "\n",
              "      const buffers = [];\n",
              "      let downloaded = 0;\n",
              "\n",
              "      const channel = await google.colab.kernel.comms.open(id);\n",
              "      // Send a message to notify the kernel that we're ready.\n",
              "      channel.send({})\n",
              "\n",
              "      for await (const message of channel.messages) {\n",
              "        // Send a message to notify the kernel that we're ready.\n",
              "        channel.send({})\n",
              "        if (message.buffers) {\n",
              "          for (const buffer of message.buffers) {\n",
              "            buffers.push(buffer);\n",
              "            downloaded += buffer.byteLength;\n",
              "            progress.value = downloaded;\n",
              "          }\n",
              "        }\n",
              "      }\n",
              "      const blob = new Blob(buffers, {type: 'application/binary'});\n",
              "      const a = document.createElement('a');\n",
              "      a.href = window.URL.createObjectURL(blob);\n",
              "      a.download = filename;\n",
              "      div.appendChild(a);\n",
              "      a.click();\n",
              "      div.remove();\n",
              "    }\n",
              "  "
            ],
            "text/plain": [
              "<IPython.core.display.Javascript object>"
            ]
          },
          "metadata": {
            "tags": []
          }
        },
        {
          "output_type": "display_data",
          "data": {
            "application/javascript": [
              "download(\"download_ccb0a8b2-17eb-4d39-b43d-64365c5a83ca\", \"Ackley_Pure_Frannk.xlsx\", 120740)"
            ],
            "text/plain": [
              "<IPython.core.display.Javascript object>"
            ]
          },
          "metadata": {
            "tags": []
          }
        }
      ]
    }
  ]
}
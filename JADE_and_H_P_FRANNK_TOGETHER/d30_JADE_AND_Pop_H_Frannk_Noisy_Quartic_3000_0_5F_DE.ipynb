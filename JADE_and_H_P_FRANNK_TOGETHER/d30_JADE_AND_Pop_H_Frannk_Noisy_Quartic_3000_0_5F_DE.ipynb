{
  "nbformat": 4,
  "nbformat_minor": 0,
  "metadata": {
    "colab": {
      "name": "d30_JADE_AND_Pop_H_Frannk_Noisy_Quartic_3000_0.5F-DE.ipynb",
      "provenance": [],
      "collapsed_sections": [],
      "include_colab_link": true
    },
    "kernelspec": {
      "name": "python3",
      "display_name": "Python 3"
    },
    "language_info": {
      "codemirror_mode": {
        "name": "ipython",
        "version": 3
      },
      "file_extension": ".py",
      "mimetype": "text/x-python",
      "name": "python",
      "nbconvert_exporter": "python",
      "pygments_lexer": "ipython3",
      "version": "3.7.3"
    }
  },
  "cells": [
    {
      "cell_type": "markdown",
      "metadata": {
        "id": "view-in-github",
        "colab_type": "text"
      },
      "source": [
        "<a href=\"https://colab.research.google.com/github/ucfilho/Raianars_paper_one_revisited/blob/main/JADE_and_H_P_FRANNK_TOGETHER/d30_JADE_AND_Pop_H_Frannk_Noisy_Quartic_3000_0_5F_DE.ipynb\" target=\"_parent\"><img src=\"https://colab.research.google.com/assets/colab-badge.svg\" alt=\"Open In Colab\"/></a>"
      ]
    },
    {
      "cell_type": "code",
      "metadata": {
        "colab": {
          "base_uri": "https://localhost:8080/"
        },
        "id": "c59cDVKoxDLX",
        "outputId": "58c939f1-880a-47f6-a4b2-d43b9590d7f5"
      },
      "source": [
        "############################### Importar códigos\n",
        "!git clone https://github.com/ucfilho/optim_raianars_Insight/ #clonar do Github\n",
        "%cd optim_raianars_Insight\n",
        "import de_soma_Insight\n",
        "import de_bounds_matriz\n",
        "import Go2Ann"
      ],
      "execution_count": 1,
      "outputs": [
        {
          "output_type": "stream",
          "text": [
            "fatal: destination path 'optim_raianars_Insight' already exists and is not an empty directory.\n",
            "/content/optim_raianars_Insight\n"
          ],
          "name": "stdout"
        }
      ]
    },
    {
      "cell_type": "code",
      "metadata": {
        "id": "Va-6Xios8RjU",
        "colab": {
          "base_uri": "https://localhost:8080/"
        },
        "outputId": "3272fb9f-9d0a-4dae-c200-a023ef48c381"
      },
      "source": [
        "!git clone https://github.com/ucfilho/Raianars_paper_One #clonar do Github\n",
        "%cd Raianars_paper_One"
      ],
      "execution_count": 2,
      "outputs": [
        {
          "output_type": "stream",
          "text": [
            "fatal: destination path 'Raianars_paper_One' already exists and is not an empty directory.\n",
            "/content/optim_raianars_Insight/Raianars_paper_One\n"
          ],
          "name": "stdout"
        }
      ]
    },
    {
      "cell_type": "code",
      "metadata": {
        "id": "_E15mKFURR6O"
      },
      "source": [
        "#import Go2Ann\n",
        "#import de_soma_Insight\n",
        "#import de_bounds_matriz\n",
        "#import Function\n",
        "import Go2MinMax\n",
        "from AvaliaX import AvaliaX\n",
        "#from Function import FUN\n",
        "#from Function import Function.FUN\n",
        "#from Function import Function.Fun\n",
        "#from Function import Function\n",
        "from GeraIndices import GeraIndices\n",
        "import numpy as np\n",
        "import time\n",
        "import matplotlib.pyplot as plt\n",
        "from random import randint\n",
        "from scipy import optimize\n",
        "import pandas as pd\n",
        "from sklearn.metrics import confusion_matrix\n",
        "\n",
        "############################### DADOS DE ENTRADA \n",
        "RUNS=50 #NÚMERO DE RODADAS\n",
        "Fc=0.1 # fator de correcao parametros da ANN\n",
        "its=1 #10 # quantas vezes vai usar o NPAR antes de alterar de novo\n",
        "ITE=30 #00 #10 # PONTOS quantas vezes vai alteral NPAR \n",
        "NPAR=100\n",
        "mut=0.5\n",
        "crossp=0.5\n",
        "\n",
        "#fator = 1.0/3.0; \n",
        "Fi=mut;CRi=crossp;# para impressão\n",
        "fator = 1.0/2.0; \n",
        "mut2=0.5;crossp2=0.5;mut3=0.75;crossp3=0.25;mut4=0.25;crossp4=0.25;\n"
      ],
      "execution_count": 3,
      "outputs": []
    },
    {
      "cell_type": "code",
      "metadata": {
        "colab": {
          "base_uri": "https://localhost:8080/"
        },
        "id": "ik3ZjkUKycUK",
        "outputId": "76e3f48e-dc09-4ea6-b5e5-be7b96d7302b"
      },
      "source": [
        "############################### Importar códigos\n",
        "!git clone https://github.com/ucfilho/optim_raianars_Insight/ #clonar do Github\n",
        "%cd optim_raianars_Insight\n",
        "import de_soma_Insight\n",
        "import de_bounds_matriz"
      ],
      "execution_count": 4,
      "outputs": [
        {
          "output_type": "stream",
          "text": [
            "fatal: destination path 'optim_raianars_Insight' already exists and is not an empty directory.\n",
            "/content/optim_raianars_Insight/Raianars_paper_One/optim_raianars_Insight\n"
          ],
          "name": "stdout"
        }
      ]
    },
    {
      "cell_type": "code",
      "metadata": {
        "colab": {
          "base_uri": "https://localhost:8080/"
        },
        "id": "lAVDJIRmNQUC",
        "outputId": "40ba2d72-1e7d-479a-c73c-097efc1e8ad0"
      },
      "source": [
        "!pip install PyFDE"
      ],
      "execution_count": 5,
      "outputs": [
        {
          "output_type": "stream",
          "text": [
            "Requirement already satisfied: PyFDE in /usr/local/lib/python3.7/dist-packages (1.3.0)\n",
            "Requirement already satisfied: numpy in /usr/local/lib/python3.7/dist-packages (from PyFDE) (1.19.5)\n"
          ],
          "name": "stdout"
        }
      ]
    },
    {
      "cell_type": "code",
      "metadata": {
        "colab": {
          "base_uri": "https://localhost:8080/"
        },
        "id": "lJogRB30yepw",
        "outputId": "51e27eee-5a33-43cf-857e-8fd6ffdcd0c8"
      },
      "source": [
        "#!git clone https://github.com/ucfilho/Raianars_paper_One #clonar do Github\n",
        "#%cd Raianars_paper_One\n",
        "\n",
        "!git clone https://github.com/ucfilho/Raianars_Routines #clonar do Github\n",
        "%cd Raianars_Routines"
      ],
      "execution_count": 6,
      "outputs": [
        {
          "output_type": "stream",
          "text": [
            "fatal: destination path 'Raianars_Routines' already exists and is not an empty directory.\n",
            "/content/optim_raianars_Insight/Raianars_paper_One/optim_raianars_Insight/Raianars_Routines\n"
          ],
          "name": "stdout"
        }
      ]
    },
    {
      "cell_type": "code",
      "metadata": {
        "id": "P8LIRCsdywOX"
      },
      "source": [
        "############################### Função\n",
        "import FunctionsNew\n",
        "#'''  \n",
        "############################### Função\n",
        "dim=30 # \n",
        "fchoice='Noisy_Quartic'\n",
        "Fun=FunctionsNew.Noisy_Quartic\n",
        "MAX=np.repeat(1.28,dim)\n",
        "MIN=np.repeat(-1.28,dim)\n",
        "\n",
        "bounds=[]\n",
        "for k in range(len(MAX)):\n",
        "  bounds.append((MIN[k],MAX[k]))"
      ],
      "execution_count": 7,
      "outputs": []
    },
    {
      "cell_type": "code",
      "metadata": {
        "id": "E7DrzRqmM2j8"
      },
      "source": [
        "import pyfde\n",
        "solver = pyfde.JADE(Fun, n_dim= dim, n_pop=NPAR, limits=bounds, minimize=True)\n",
        "solver.p = 0.05\n",
        "solver.c = 0.1"
      ],
      "execution_count": 8,
      "outputs": []
    },
    {
      "cell_type": "code",
      "metadata": {
        "id": "NnOvinHvNl_p"
      },
      "source": [
        "start_time = time.time()\n",
        "BEST_AGENTS=[]\n",
        "MAT_stat=[]"
      ],
      "execution_count": 9,
      "outputs": []
    },
    {
      "cell_type": "code",
      "metadata": {
        "colab": {
          "base_uri": "https://localhost:8080/"
        },
        "id": "3-uCNVsZNnqa",
        "outputId": "98e5df52-d5e2-4ab3-af2e-e2918e89b73c"
      },
      "source": [
        "start_time = time.time()\n",
        "BEST_AGENTS=[]\n",
        "BEST_FIT =[]\n",
        "rows = RUNS\n",
        "cols = dim + 1\n",
        "BEST_XY = np.zeros((rows,cols))\n",
        "for iii in range(RUNS):\n",
        "  best, fit = solver.run(n_it=ITE)\n",
        "  kkk = -1\n",
        "  for xi in best:\n",
        "    kkk = kkk +1\n",
        "    BEST_XY[iii,kkk] = xi\n",
        "  BEST_XY[iii,dim] = -fit\n",
        "  BEST_AGENTS.append(best)\n",
        "  TIME = (time.time() - start_time) /60\n",
        "  BEST_FIT.append(-fit)\n",
        "  print('ite ', iii,'time ', TIME,'fob =', -fit)\n",
        "    \n",
        "############################## Cálculo dos Parâmetros de Avaliação   \n",
        "JADE_TIME = (time.time() - start_time)/RUNS"
      ],
      "execution_count": 10,
      "outputs": [
        {
          "output_type": "stream",
          "text": [
            "ite  0 time  0.00021297931671142577 fob = 0.0013673019615314088\n",
            "ite  1 time  0.00047889947891235354 fob = 0.0006173772643448248\n",
            "ite  2 time  0.0007560094197591146 fob = 0.0006173772643448248\n",
            "ite  3 time  0.0010283589363098145 fob = 0.0006173772643448248\n",
            "ite  4 time  0.0012779593467712401 fob = 0.0005265110866898057\n"
          ],
          "name": "stdout"
        }
      ]
    },
    {
      "cell_type": "code",
      "metadata": {
        "id": "vxovHXZqNuYh"
      },
      "source": [
        "IND_XY = np.argsort(np.array(BEST_XY[:,-1]))\n",
        "BEST_XY = BEST_XY[IND_XY,:]"
      ],
      "execution_count": 11,
      "outputs": []
    },
    {
      "cell_type": "code",
      "metadata": {
        "id": "iNdcjVsFN15n"
      },
      "source": [
        "JADE_BEST=BEST_XY[0]\n",
        "JADE_WORSE=BEST_XY[-1]\n",
        "JADE_MEAN=np.mean(BEST_XY,axis=0)\n",
        "JADE_MAXFO=BEST_XY[:,-1].max()\n",
        "JADE_MINFO=BEST_XY[:,-1].min()\n",
        "JADE_STD=BEST_XY[:,-1].std()\n",
        "JADE_BEST=BEST_XY[(rows-1),(cols-1)]"
      ],
      "execution_count": 12,
      "outputs": []
    },
    {
      "cell_type": "code",
      "metadata": {
        "id": "qTINtQ1cosZK",
        "colab": {
          "base_uri": "https://localhost:8080/"
        },
        "outputId": "a88793e3-3a9d-4485-f947-54e7149f6382"
      },
      "source": [
        "!git clone https://github.com/ucfilho/ANN_read_matrix #clonar do Github\n",
        "%cd ANN_read_matrix"
      ],
      "execution_count": 13,
      "outputs": [
        {
          "output_type": "stream",
          "text": [
            "fatal: destination path 'ANN_read_matrix' already exists and is not an empty directory.\n",
            "/content/optim_raianars_Insight/Raianars_paper_One/optim_raianars_Insight/Raianars_Routines/ANN_read_matrix\n"
          ],
          "name": "stdout"
        }
      ]
    },
    {
      "cell_type": "code",
      "metadata": {
        "id": "QiQLYOoNoyCw"
      },
      "source": [
        "ANN_F=pd.read_csv('ANN_INSIGHT_Valor_F.csv')"
      ],
      "execution_count": 14,
      "outputs": []
    },
    {
      "cell_type": "code",
      "metadata": {
        "id": "uHtW2amaDzFv"
      },
      "source": [
        "ANN_CR=pd.read_csv('ANN_INSIGHT_CR.csv')"
      ],
      "execution_count": 15,
      "outputs": []
    },
    {
      "cell_type": "code",
      "metadata": {
        "id": "EH6h_vke2yu1"
      },
      "source": [
        "syn0_F,syn1_F,X_max_F,X_min_F=Go2Ann.GetMatriz(ANN_F)"
      ],
      "execution_count": 16,
      "outputs": []
    },
    {
      "cell_type": "code",
      "metadata": {
        "id": "WW_3ZWJXD60i"
      },
      "source": [
        "syn0_CR,syn1_CR,X_max_CR,X_min_CR=Go2Ann.GetMatriz(ANN_CR)"
      ],
      "execution_count": 17,
      "outputs": []
    },
    {
      "cell_type": "code",
      "metadata": {
        "id": "b4gwBvVTyaXh"
      },
      "source": [
        "ANN_CR=pd.read_csv('ANN_INSIGHT_CR.csv')"
      ],
      "execution_count": 18,
      "outputs": []
    },
    {
      "cell_type": "code",
      "metadata": {
        "id": "6jL8MxpHvk-Y"
      },
      "source": [
        "fields = ['DI RELATIVO','FRAC Its','Fo','CRo']"
      ],
      "execution_count": 19,
      "outputs": []
    },
    {
      "cell_type": "code",
      "metadata": {
        "id": "Mb3LmbSmj9v7",
        "colab": {
          "base_uri": "https://localhost:8080/"
        },
        "outputId": "8dd7ca80-5b97-49f7-d78f-7a0ad3c41f58"
      },
      "source": [
        "##################################### \n",
        "\n",
        "TOTAL=10*dim*its*ITE\n",
        "TOTAL=int(TOTAL/2)   # CONFERIR SE ESTE EH O MELHOR LUGAR\n",
        "\n",
        "dimensions=len(MAX)\n",
        "start_time = time.time() #INICIALIZA CONTAGEM DO TEMPO\n",
        "\n",
        "\n",
        "PAR=dim\n",
        "fobj=Fun\n",
        "\n",
        "MAX_P=np.zeros(ITE) # ATENCAO para variar F e Cr MAX_P passa a ser 3 vezes maior\n",
        "MIN_P=np.zeros(ITE) # ATENCAO para variar F e Cr MIN_P passa a ser 3 vezes maior\n",
        "\n",
        "for i in range(dim):\n",
        "  MAX_P[i]=MAX[i] \n",
        "  MIN_P[i]=MIN[i]\n",
        "\n",
        "rodadas=1\n",
        "NPAR1=int(fator*NPAR);\n",
        "NPAR2=int((NPAR-NPAR1)/3);\n",
        "NPAR3=int((NPAR-NPAR1)/3);\n",
        "NPAR4=int((NPAR-NPAR1)/3);\n",
        "NPAR1 = NPAR-3*NPAR2\n",
        "print('frac=',fator);\n",
        "print('Npar1=',NPAR1);\n",
        "print('Npar2=',NPAR2);\n",
        "print('Npar3=',NPAR3);\n",
        "print('Npar4=',NPAR4);\n",
        "print('Npar=',NPAR)\n",
        "\n",
        "cols=dim\n",
        "\n",
        "X1=np.zeros((NPAR1,cols)) # X1 is Frannk population\n",
        "for i in range(NPAR1):\n",
        "  for j in range(cols):\n",
        "    r=np.random.random()\n",
        "    X1[i,j]=r*(MAX[j]-MIN[j])+MIN[j]\n",
        "    \n",
        "X2=np.zeros((NPAR2,cols)) # X2 is population DE (default DE)\n",
        "for i in range(NPAR2):\n",
        "  for j in range(cols):\n",
        "    r=np.random.random()\n",
        "    X2[i,j]=r*(MAX[j]-MIN[j])+MIN[j]\n",
        "\n",
        "X3=np.zeros((NPAR3,cols)) # X1 is Frannk population\n",
        "for i in range(NPAR3):\n",
        "  for j in range(cols):\n",
        "    r=np.random.random()\n",
        "    X3[i,j]=r*(MAX[j]-MIN[j])+MIN[j]\n",
        "    \n",
        "X4=np.zeros((NPAR4,cols)) # X2 is population DE (default DE)\n",
        "for i in range(NPAR4):\n",
        "  for j in range(cols):\n",
        "    r=np.random.random()\n",
        "    X4[i,j]=r*(MAX[j]-MIN[j])+MIN[j]\n",
        "    \n",
        " ############################################################\n",
        "  #bounds=[(5*dim, 15*dim)] * PONTOS # ITE\n",
        "  #bounds=[(3*dim, 12*dim)] * PONTOS # ITE\n",
        "  #bounds=[(4*dim, 16*dim)] * PONTOS\n",
        "  \n",
        "  # nao pode ser assim pq o bounds vale p o DE nao dos parametros\n",
        "  #p=int(TOTAL/its/ITE) \n",
        "  #bounds=[(p, p)] * PONTOS\n"
      ],
      "execution_count": 20,
      "outputs": [
        {
          "output_type": "stream",
          "text": [
            "frac= 0.5\n",
            "Npar1= 52\n",
            "Npar2= 16\n",
            "Npar3= 16\n",
            "Npar4= 16\n",
            "Npar= 100\n"
          ],
          "name": "stdout"
        }
      ]
    },
    {
      "cell_type": "code",
      "metadata": {
        "id": "rnX8ttNopd1G",
        "colab": {
          "base_uri": "https://localhost:8080/"
        },
        "outputId": "eadbad19-3258-4ae0-f0c9-e975d6b05675"
      },
      "source": [
        "\n",
        "start_time = time.time()\n",
        "BEST_AGENTS=[]\n",
        "MAT_stat=[]\n",
        "for iii in range(RUNS):\n",
        "    MAT=[] \n",
        "    mut=Fi\n",
        "    crossp=CRi\n",
        "    SOMA=0\n",
        "    pop = np.random.rand(NPAR, dim)\n",
        "    diff=np.zeros(PAR)\n",
        "\n",
        "\n",
        "    X1=np.zeros((NPAR1,cols)) # X1 is Frannk population\n",
        "    for i in range(NPAR1):\n",
        "      for j in range(cols):\n",
        "        r=np.random.random()\n",
        "        X1[i,j]=r*(MAX[j]-MIN[j])+MIN[j]\n",
        "        \n",
        "    X2=np.zeros((NPAR2,cols)) # X2 is population DE (default DE)\n",
        "    for i in range(NPAR2):\n",
        "      for j in range(cols):\n",
        "        r=np.random.random()\n",
        "        X2[i,j]=r*(MAX[j]-MIN[j])+MIN[j]\n",
        "\n",
        "    X3=np.zeros((NPAR3,cols)) # X2 is population DE (default DE)\n",
        "    for i in range(NPAR3):\n",
        "      for j in range(cols):\n",
        "        r=np.random.random()\n",
        "        X3[i,j]=r*(MAX[j]-MIN[j])+MIN[j]\n",
        "\n",
        "    X4=np.zeros((NPAR4,cols)) # X2 is population DE (default DE)\n",
        "    for i in range(NPAR4):\n",
        "      for j in range(cols):\n",
        "        r=np.random.random()\n",
        "        X4[i,j]=r*(MAX[j]-MIN[j])+MIN[j]\n",
        "    \n",
        "    DIo=1e99\n",
        "  \n",
        "    CRo=crossp;Fo=mut;\n",
        "    Fitness = np.asarray([Fun(ind) for ind in X1])\n",
        "    XY,BEST_XY,BESTo,FOBESTo=AvaliaX(X1,Fitness)\n",
        "    nrow,ncol=X1.shape\n",
        "\n",
        "    QUANT=17;MAT_INDo=np.zeros((1,QUANT)); # quantos indices esta fazendo\n",
        "    MAT_INDo[0,5]=nrow  # VALOR NP\n",
        "    MAT_INDo[0,6]=Fo    # VALOR Fo   \n",
        "    MAT_INDo[0,7]=CRo   # VALOR CRo\n",
        "  \n",
        "    MAT_INDo=GeraIndices(X1,BESTo,FOBESTo,DIo,MAT_INDo,SOMA,TOTAL,syn0_F,\n",
        "                        syn1_F,X_max_F,X_min_F,syn0_CR,syn1_CR,X_max_CR,\n",
        "                        X_min_CR,Fc,fields,Fun)\n",
        "  \n",
        "    DIo=np.copy(MAT_INDo[0,0])\n",
        "    MAT_INDo[0,15]=Fo    # VALOR Fo   \n",
        "    MAT_INDo[0,16]=CRo   # VALOR CRo\n",
        "    #ind_crossp=ITE-1\n",
        "    \n",
        "\n",
        "    \n",
        "    for k in range(ITE):\n",
        "\n",
        "\n",
        "\n",
        "      X2,BEST2,FOBEST,XY,BEST_XY=de_bounds_matriz.de(bounds, mut2, crossp2,NPAR2, its,fobj,X2)\n",
        "      X3,BEST3,FOBEST,XY,BEST_XY=de_bounds_matriz.de(bounds, mut3, crossp3,NPAR3, its,fobj,X3)\n",
        "      X4,BEST4,FOBEST,XY,BEST_XY=de_bounds_matriz.de(bounds, mut4, crossp4,NPAR4, its,fobj,X4)\n",
        "      \n",
        "      X1,BEST1,FOBEST,XY,BEST_XY,SOMA= de_soma_Insight.de(MAX,MIN, mut, crossp,NPAR1,its,Fun,X1,SOMA,TOTAL)\n",
        "\n",
        "      MAT_IND=GeraIndices(X1,BESTo,FOBESTo,DIo,MAT_INDo,SOMA,TOTAL,syn0_F,\n",
        "                          syn1_F,X_max_F,X_min_F,syn0_CR,syn1_CR,X_max_CR,\n",
        "                          X_min_CR,Fc,fields,Fun)\n",
        "    \n",
        "      BESTo=np.copy(BEST1);FOBESTo=np.copy(FOBEST);\n",
        "      MAT.append(MAT_IND.ravel())\n",
        "    \n",
        "      MAT_INDo[0,6]=MAT_IND[0,15]   # VALOR Fo   \n",
        "      MAT_INDo[0,7]=MAT_IND[0,16]   # VALOR CRo\n",
        "      mut=MAT_IND[0,15]\n",
        "      crossp=MAT_IND[0,16]\n",
        "      X1[0,:] = BEST2;X1[1,:] = BEST3; X1[2,:] = BEST4;X1[NPAR1-1,:] = BEST1;\n",
        "      X2[0,:] = BEST1;X2[1,:] = BEST3;X2[2,:] = BEST4;X2[NPAR2-1,:] = BEST2;\n",
        "      X3[0,:] = BEST1;X3[1,:] = BEST2;X3[2,:] = BEST4;X3[NPAR3-1,:] = BEST3;\n",
        "      X4[0,:] = BEST1;X4[1,:] = BEST2;X4[2,:] = BEST3;X4[NPAR4-1,:] = BEST4;\n",
        "    print('k=',iii,'time=',(time.time()-start_time)/60, 'FO=',FOBEST)  \n",
        "    BEST_AGENTS.append(BEST_XY)\n",
        "    MAT_stat.append(MAT)\n",
        "    #print(\"GlobalParam e Solucao:\", BEST,\"Funcao=\",FOBEST)\n",
        "    \n",
        "############################## Cálculo dos Parâmetros de Avaliação   \n",
        "TIME = (time.time() - start_time)/RUNS\n",
        "BEST_AGENTS=np.array(BEST_AGENTS)\n",
        "BEST_AGENTS_ST= BEST_AGENTS[BEST_AGENTS[:,-1].argsort()]\n",
        "BEST=BEST_AGENTS_ST[0]\n",
        "WORSE=BEST_AGENTS_ST[-1]\n",
        "MEAN=np.mean(BEST_AGENTS,axis=0)\n",
        "MAXFO=BEST_AGENTS[:,-1].max()\n",
        "MINFO=BEST_AGENTS[:,-1].min()\n",
        "STD=BEST_AGENTS[:,-1].std()"
      ],
      "execution_count": 21,
      "outputs": [
        {
          "output_type": "stream",
          "text": [
            "k= 0 time= 0.006401654084523519 FO= 0.00876327503070675\n",
            "k= 1 time= 0.013566243648529052 FO= 0.1178233607682946\n",
            "k= 2 time= 0.020604618390401206 FO= 0.011934775433729913\n",
            "k= 3 time= 0.027204020818074545 FO= 0.12867954443196167\n",
            "k= 4 time= 0.0338076909383138 FO= 0.028542897806035986\n"
          ],
          "name": "stdout"
        }
      ]
    },
    {
      "cell_type": "code",
      "metadata": {
        "id": "TLEE0UrZSvJF",
        "colab": {
          "base_uri": "https://localhost:8080/"
        },
        "outputId": "e182b90f-385a-44fe-d67d-cb44ec2b5cac"
      },
      "source": [
        "#len(X2[1,:])\n",
        "print(cols)"
      ],
      "execution_count": 22,
      "outputs": [
        {
          "output_type": "stream",
          "text": [
            "3\n"
          ],
          "name": "stdout"
        }
      ]
    },
    {
      "cell_type": "code",
      "metadata": {
        "id": "k3p9TGsx1OCu"
      },
      "source": [
        "NOMES=['DIVERSIDADE (DI)',  'DI RELATIVO','FRAC Its',\n",
        "           'VELOC FOBJ','VELOC X','NP','Fo','CRo','fmin','fmax',\n",
        "           'AD_fmin','AD_fmax','DELTA FOBJ','DELTA VX','r_fitness',\n",
        "           'F','CR']\n",
        "# BEST_INDEX= BEST_AGENTS[BEST_AGENTS[:,-1].argmin()]  \n",
        "BEST_INDEX = np.argmin(BEST_AGENTS[:,-1])\n",
        "df=pd.DataFrame(MAT_stat[BEST_INDEX], columns=NOMES)\n",
        "\n"
      ],
      "execution_count": 23,
      "outputs": []
    },
    {
      "cell_type": "code",
      "metadata": {
        "id": "jIHiKR_t1xxs",
        "colab": {
          "base_uri": "https://localhost:8080/"
        },
        "outputId": "7d8a9b11-8420-45db-f31e-c6ed3c9f283f"
      },
      "source": [
        "pd.set_option('display.max_columns', 30)  \n",
        "print(df)"
      ],
      "execution_count": 24,
      "outputs": [
        {
          "output_type": "stream",
          "text": [
            "    DIVERSIDADE (DI)  DI RELATIVO  FRAC Its  VELOC FOBJ  VELOC X    NP  \\\n",
            "0           1.146489     0.891467  0.115556         2.0      0.0  52.0   \n",
            "1           0.989479     0.769382  0.231111         1.0      2.0  52.0   \n",
            "2           0.922844     0.717569  0.346667         2.0      2.0  52.0   \n",
            "3           0.781604     0.607746  0.462222         2.0      2.0  52.0   \n",
            "4           0.701221     0.545243  0.577778         1.0      2.0  52.0   \n",
            "5           0.625012     0.485986  0.693333         2.0      2.0  52.0   \n",
            "6           0.592354     0.460592  0.808889         2.0      2.0  52.0   \n",
            "7           0.573647     0.446046  0.924444         1.0      2.0  52.0   \n",
            "8           0.531082     0.412949  1.002222         2.0      2.0  52.0   \n",
            "9           0.527018     0.409789  1.002222         2.0      2.0  52.0   \n",
            "10          0.522766     0.406483  1.002222         1.0      2.0  52.0   \n",
            "11          0.528569     0.410995  1.002222         1.0      2.0  52.0   \n",
            "12          0.523701     0.407210  1.002222         2.0      0.0  52.0   \n",
            "13          0.524524     0.407850  1.002222         1.0      2.0  52.0   \n",
            "14          0.527339     0.410039  1.002222         1.0      2.0  52.0   \n",
            "15          0.531463     0.413246  1.002222         1.0      2.0  52.0   \n",
            "16          0.523940     0.407396  1.002222         1.0      2.0  52.0   \n",
            "17          0.527448     0.410124  1.002222         1.0      2.0  52.0   \n",
            "18          0.524365     0.407726  1.002222         1.0      0.0  52.0   \n",
            "19          0.524903     0.408144  1.002222         1.0      2.0  52.0   \n",
            "20          0.524647     0.407946  1.002222         2.0      2.0  52.0   \n",
            "21          0.526635     0.409491  1.002222         1.0      2.0  52.0   \n",
            "22          0.530339     0.412371  1.002222         1.0      2.0  52.0   \n",
            "23          0.522008     0.405894  1.002222         2.0      2.0  52.0   \n",
            "24          0.523380     0.406961  1.002222         1.0      2.0  52.0   \n",
            "25          0.523636     0.407160  1.002222         1.0      2.0  52.0   \n",
            "26          0.530394     0.412414  1.002222         2.0      2.0  52.0   \n",
            "27          0.525284     0.408441  1.002222         2.0      2.0  52.0   \n",
            "28          0.524630     0.407933  1.002222         1.0      2.0  52.0   \n",
            "29          0.520783     0.404941  1.002222         1.0      2.0  52.0   \n",
            "\n",
            "          Fo       CRo      fmin      fmax  AD_fmin  AD_fmax  DELTA FOBJ  \\\n",
            "0   0.500000  0.500000  0.096990  7.987189      1.0      1.0         0.0   \n",
            "1   0.277133  0.351422  0.111045  7.480750      1.0      1.0         0.0   \n",
            "2   0.437049  0.261296  0.047946  5.772081      1.0      1.0         0.0   \n",
            "3   0.672259  0.198797  0.051535  4.131472      1.0      1.0         0.0   \n",
            "4   0.263696  0.158524  0.146203  2.711079      1.0      1.0         0.0   \n",
            "5   0.371530  0.201741  0.068680  2.136178      1.0      1.0         0.0   \n",
            "6   0.506949  0.136379  0.024391  2.416459      1.0      1.0         0.0   \n",
            "7   0.273452  0.115441  0.060661  1.940770      1.0      1.0         0.0   \n",
            "8   0.364931  0.141187  0.040887  2.651376      1.0      1.0         0.0   \n",
            "9   0.214233  0.121752  0.017734  2.002074      1.0      1.0         0.0   \n",
            "10  0.280076  0.146699  0.085035  1.833172      1.0      1.0         0.0   \n",
            "11  0.365460  0.176514  0.037654  2.708867      1.0      1.0         0.0   \n",
            "12  0.478112  0.128150  0.058133  2.048051      1.0      1.0         0.0   \n",
            "13  0.283420  0.110755  0.043720  1.790144      1.0      1.0         0.0   \n",
            "14  0.370115  0.133341  0.059977  1.829618      1.0      1.0         0.0   \n",
            "15  0.218353  0.115116  0.080178  2.464487      1.0      1.0         0.0   \n",
            "16  0.286028  0.138901  0.079201  2.301466      1.0      1.0         0.0   \n",
            "17  0.373423  0.167195  0.051802  2.393165      1.0      1.0         0.0   \n",
            "18  0.220274  0.144338  0.044809  2.654226      1.0      1.0         0.0   \n",
            "19  0.287632  0.173764  0.029272  1.861139      1.0      1.0         0.0   \n",
            "20  0.375679  0.209224  0.040907  2.351295      1.0      1.0         0.0   \n",
            "21  0.490621  0.152323  0.073987  2.467626      1.0      1.0         0.0   \n",
            "22  0.289716  0.131531  0.032633  2.464535      1.0      1.0         0.0   \n",
            "23  0.379319  0.158651  0.007789  2.690593      1.0      1.0         0.0   \n",
            "24  0.225356  0.137186  0.027209  2.536587      1.0      1.0         0.0   \n",
            "25  0.294139  0.165100  0.097831  2.002882      1.0      1.0         0.0   \n",
            "26  0.383960  0.198711  0.007973  2.212227      1.0      1.0         0.0   \n",
            "27  0.502723  0.144077  0.038603  2.020417      1.0      1.0         0.0   \n",
            "28  0.297390  0.124461  0.095686  1.826666      1.0      1.0         0.0   \n",
            "29  0.388377  0.149847  0.095285  2.150057      1.0      1.0         0.0   \n",
            "\n",
            "    DELTA VX  r_fitness         F        CR  \n",
            "0        0.0   0.987857  0.277133  0.351422  \n",
            "1        0.0   0.985156  0.437049  0.261296  \n",
            "2        0.0   0.991693  0.672259  0.198797  \n",
            "3        0.0   0.987526  0.263696  0.158524  \n",
            "4        0.0   0.946072  0.371530  0.201741  \n",
            "5        0.0   0.967849  0.506949  0.136379  \n",
            "6        0.0   0.989906  0.273452  0.115441  \n",
            "7        0.0   0.968744  0.364931  0.141187  \n",
            "8        0.0   0.984579  0.214233  0.121752  \n",
            "9        0.0   0.991142  0.280076  0.146699  \n",
            "10       0.0   0.953613  0.365460  0.176514  \n",
            "11       0.0   0.986100  0.478112  0.128150  \n",
            "12       0.0   0.971615  0.283420  0.110755  \n",
            "13       0.0   0.975577  0.370115  0.133341  \n",
            "14       0.0   0.967219  0.218353  0.115116  \n",
            "15       0.0   0.967467  0.286028  0.138901  \n",
            "16       0.0   0.965587  0.373423  0.167195  \n",
            "17       0.0   0.978354  0.220274  0.144338  \n",
            "18       0.0   0.983118  0.287632  0.173764  \n",
            "19       0.0   0.984272  0.375679  0.209224  \n",
            "20       0.0   0.982603  0.490621  0.152323  \n",
            "21       0.0   0.970017  0.289716  0.131531  \n",
            "22       0.0   0.986759  0.379319  0.158651  \n",
            "23       0.0   0.997105  0.225356  0.137186  \n",
            "24       0.0   0.989273  0.294139  0.165100  \n",
            "25       0.0   0.951155  0.383960  0.198711  \n",
            "26       0.0   0.996396  0.502723  0.144077  \n",
            "27       0.0   0.980894  0.297390  0.124461  \n",
            "28       0.0   0.947617  0.388377  0.149847  \n",
            "29       0.0   0.955683  0.231107  0.129621  \n"
          ],
          "name": "stdout"
        }
      ]
    },
    {
      "cell_type": "code",
      "metadata": {
        "id": "bx0ywpMtAAjw",
        "colab": {
          "base_uri": "https://localhost:8080/",
          "height": 296
        },
        "outputId": "35acadfa-ee15-4f25-97b0-2131640c87ce"
      },
      "source": [
        "plt.plot(df['FRAC Its'],df['CR'])\n",
        "plt.xlabel('Iteração/Total')\n",
        "plt.ylabel('CR')"
      ],
      "execution_count": 25,
      "outputs": [
        {
          "output_type": "execute_result",
          "data": {
            "text/plain": [
              "Text(0, 0.5, 'CR')"
            ]
          },
          "metadata": {
            "tags": []
          },
          "execution_count": 25
        },
        {
          "output_type": "display_data",
          "data": {
            "image/png": "[encoded data removed]",
            "text/plain": [
              "<Figure size 432x288 with 1 Axes>"
            ]
          },
          "metadata": {
            "tags": [],
            "needs_background": "light"
          }
        }
      ]
    },
    {
      "cell_type": "code",
      "metadata": {
        "id": "BvPFvbDvteDC",
        "colab": {
          "base_uri": "https://localhost:8080/",
          "height": 295
        },
        "outputId": "853d0713-e886-49e1-9d70-7383f5732ce3"
      },
      "source": [
        "\n",
        "fig, ax = plt.subplots()\n",
        "ax.plot(df['FRAC Its'],df['F'],label='F')\n",
        "ax.set_xlabel('Iteração/Total')\n",
        "ax.set_ylabel('Parâmetros')\n",
        "ax.plot(df['FRAC Its'],df['CR'],'-r', label='CR')\n",
        "nome=Fun.__name__+'  M=Diversidade'+ '  D='+str(dim)\n",
        "ax.set_title(nome)\n",
        "leg = ax.legend()\n"
      ],
      "execution_count": 26,
      "outputs": [
        {
          "output_type": "display_data",
          "data": {
            "image/png": "[encoded data removed]",
            "text/plain": [
              "<Figure size 432x288 with 1 Axes>"
            ]
          },
          "metadata": {
            "tags": [],
            "needs_background": "light"
          }
        }
      ]
    },
    {
      "cell_type": "code",
      "metadata": {
        "id": "htooaGpDia_0",
        "colab": {
          "base_uri": "https://localhost:8080/",
          "height": 312
        },
        "outputId": "6482267d-af24-4f49-edf0-e928968958fc"
      },
      "source": [
        "f, axarr = plt.subplots(2, sharex=True)\n",
        "axarr[0].plot(df['FRAC Its'],df['F'])\n",
        "axarr[0].set_ylabel('F')\n",
        "axarr[1].plot(df['FRAC Its'],df['CR'])\n",
        "axarr[1].set_ylabel('CR')\n",
        "axarr[1].set_xlabel('Iteração/Total')\n",
        "nome=Fun.__name__+'_Diversidade_'+ 'D='+str(dim)\n",
        "axarr[0].set_title(nome)\n"
      ],
      "execution_count": 27,
      "outputs": [
        {
          "output_type": "execute_result",
          "data": {
            "text/plain": [
              "Text(0.5, 1.0, 'Noisy_Quartic_Diversidade_D=3')"
            ]
          },
          "metadata": {
            "tags": []
          },
          "execution_count": 27
        },
        {
          "output_type": "display_data",
          "data": {
            "image/png": "[encoded data removed]",
            "text/plain": [
              "<Figure size 432x288 with 2 Axes>"
            ]
          },
          "metadata": {
            "tags": [],
            "needs_background": "light"
          }
        }
      ]
    },
    {
      "cell_type": "code",
      "metadata": {
        "id": "lNSN5X-wskcx",
        "colab": {
          "base_uri": "https://localhost:8080/"
        },
        "outputId": "8f7a6a7a-dda5-4803-d6f6-9aba6b687a41"
      },
      "source": [
        "nome='SUB'+'_Fo-'+str(Fi)+'_CRo-'+str(CRi)+'_D-'+str(dim)+'_Interv-'+str(ITE)\n",
        "print('MCS-FRANNK','Fator F/DE= %.2f' %(fator),'NPAR=',NPAR,'Iterações=',ITE*its,'Dim=', PAR,\"Min/Max=\",MIN[0],\"/\",MAX[0],'_',Fun.__name__)\n",
        "print(nome, '\\n')\n",
        "#print('BEST: ',BEST)\n",
        "#print('MÉDIA: ',MEAN)\n",
        "print('MÉDIA: ',MEAN[-1],'STD __:',STD)\n",
        "print('MIN __:',MINFO, 'MAX__: ',MAXFO)\n",
        "print(MEAN[-1])\n",
        "print(STD)\n",
        "print(MINFO)\n",
        "print(\"Tempo Médio= %.3f segundos ---\" % (TIME))\n",
        "print(RUNS,'Rodadas') \n",
        "print()\n",
        "print('BEST: ',BEST)\n",
        "# print('melhor=',BEST_AGENTS[BEST_INDEX])\n",
        "\n",
        "print('======== JADE ==============')\n",
        "print('MÉDIA: ',JADE_MEAN[-1])\n",
        "print('MIN __:',JADE_MINFO)\n",
        "print('MAX__: ',JADE_MAXFO)\n",
        "print('STD __:',JADE_STD)\n",
        "print(\"Tempo Médio= %.3f segundos ---\" % (JADE_TIME))\n",
        "print(RUNS,'Rodadas') \n",
        "print()\n",
        "print('BEST: ',JADE_BEST)\n",
        "\n",
        "print(JADE_MEAN[-1])\n",
        "print(JADE_STD)\n",
        "print(JADE_MINFO)\n",
        "\n",
        "print('================================')"
      ],
      "execution_count": 28,
      "outputs": [
        {
          "output_type": "stream",
          "text": [
            "MCS-FRANNK Fator F/DE= 0.50 NPAR= 100 Iterações= 30 Dim= 3 Min/Max= -1.28 / 1.28 _ Noisy_Quartic\n",
            "SUB_Fo-0.5_CRo-0.5_D-3_Interv-30 \n",
            "\n",
            "MÉDIA:  0.05914877069414578 STD __: 0.052880648622899644\n",
            "MIN __: 0.00876327503070675 MAX__:  0.12867954443196167\n",
            "0.05914877069414578\n",
            "0.052880648622899644\n",
            "0.00876327503070675\n",
            "Tempo Médio= 0.406 segundos ---\n",
            "5 Rodadas\n",
            "\n",
            "BEST:  [-0.28525454  0.03398587 -0.06665694  0.00876328]\n",
            "======== JADE ==============\n",
            "MÉDIA:  0.0007491889682511378\n",
            "MIN __: 0.0005265110866898057\n",
            "MAX__:  0.0013673019615314088\n",
            "STD __: 0.00031105372116680926\n",
            "Tempo Médio= 0.016 segundos ---\n",
            "5 Rodadas\n",
            "\n",
            "BEST:  0.0013673019615314088\n",
            "0.0007491889682511378\n",
            "0.00031105372116680926\n",
            "0.0005265110866898057\n",
            "================================\n"
          ],
          "name": "stdout"
        }
      ]
    },
    {
      "cell_type": "code",
      "metadata": {
        "colab": {
          "base_uri": "https://localhost:8080/"
        },
        "id": "soc6munUN56c",
        "outputId": "cad2ad4c-2f96-445d-d2b7-52ebcc1822f7"
      },
      "source": [
        "print('FRANNK POP H                 JADE')\n",
        "print(MEAN[-1],'       ',JADE_MEAN[-1])\n",
        "print(STD,'      ',JADE_STD)\n",
        "print(MINFO,'       ',JADE_MINFO)\n"
      ],
      "execution_count": 32,
      "outputs": [
        {
          "output_type": "stream",
          "text": [
            "FRANNK POP H                 JADE\n",
            "0.05914877069414578         0.0007491889682511378\n",
            "0.052880648622899644        0.00031105372116680926\n",
            "0.00876327503070675         0.0005265110866898057\n"
          ],
          "name": "stdout"
        }
      ]
    }
  ]
}
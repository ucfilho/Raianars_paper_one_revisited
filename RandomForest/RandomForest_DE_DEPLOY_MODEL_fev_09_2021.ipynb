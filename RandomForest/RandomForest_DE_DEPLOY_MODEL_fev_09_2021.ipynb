{
  "nbformat": 4,
  "nbformat_minor": 0,
  "metadata": {
    "colab": {
      "name": "RandomForest_DE_DEPLOY_MODEL_fev_09_2021.ipynb",
      "provenance": [],
      "collapsed_sections": [],
      "authorship_tag": "ABX9TyMHbibooY5qvltRJ9vHs5Qq",
      "include_colab_link": true
    },
    "kernelspec": {
      "name": "python3",
      "display_name": "Python 3"
    }
  },
  "cells": [
    {
      "cell_type": "markdown",
      "metadata": {
        "id": "view-in-github",
        "colab_type": "text"
      },
      "source": [
        "<a href=\"https://colab.research.google.com/github/ucfilho/Raianars_paper_one_revisited/blob/main/RandomForest/RandomForest_DE_DEPLOY_MODEL_fev_09_2021.ipynb\" target=\"_parent\"><img src=\"https://colab.research.google.com/assets/colab-badge.svg\" alt=\"Open In Colab\"/></a>"
      ]
    },
    {
      "cell_type": "code",
      "metadata": {
        "id": "Q0B8coo9rXd8"
      },
      "source": [
        "import pandas as pd\n",
        "import numpy as np\n",
        "from sklearn.preprocessing import MinMaxScaler\n",
        "#from sklearn.preprocessing import StandardScaler\n",
        "from sklearn.ensemble import RandomForestClassifier\n",
        "from sklearn.model_selection import train_test_split\n",
        "from sklearn.metrics import classification_report, confusion_matrix\n",
        "from sklearn.externals import joblib"
      ],
      "execution_count": 33,
      "outputs": []
    },
    {
      "cell_type": "code",
      "metadata": {
        "id": "h9ySh6JJrm_A",
        "colab": {
          "base_uri": "https://localhost:8080/"
        },
        "outputId": "48617ee9-e180-4e65-d669-6cc156ced1ce"
      },
      "source": [
        "#!git clone https://github.com/ucfilho/Raianars_Thesis/Machine_Learning_Models/ #clonar do Github\n",
        "!git clone https://github.com/ucfilho/Raianars_Thesis/\n",
        "#%cd Machine_Learning_Models/Machine_Learning_Models/\n",
        "%cd Raianars_Thesis"
      ],
      "execution_count": 34,
      "outputs": [
        {
          "output_type": "stream",
          "text": [
            "Cloning into 'Raianars_Thesis'...\n",
            "remote: Enumerating objects: 205, done.\u001b[K\n",
            "remote: Counting objects: 100% (205/205), done.\u001b[K\n",
            "remote: Compressing objects: 100% (198/198), done.\u001b[K\n",
            "remote: Total 205 (delta 77), reused 0 (delta 0), pack-reused 0\u001b[K\n",
            "Receiving objects: 100% (205/205), 2.52 MiB | 2.66 MiB/s, done.\n",
            "Resolving deltas: 100% (77/77), done.\n",
            "/content/Raianars_Thesis/Raianars_Thesis\n"
          ],
          "name": "stdout"
        }
      ]
    },
    {
      "cell_type": "code",
      "metadata": {
        "id": "sP3zdPdbwrd7",
        "colab": {
          "base_uri": "https://localhost:8080/"
        },
        "outputId": "5dd621d8-7033-4847-cb80-840db4d9b958"
      },
      "source": [
        "# found drive\r\n",
        "from google.colab import drive\r\n",
        "drive.mount('drive')"
      ],
      "execution_count": 35,
      "outputs": [
        {
          "output_type": "stream",
          "text": [
            "Mounted at drive\n"
          ],
          "name": "stdout"
        }
      ]
    },
    {
      "cell_type": "code",
      "metadata": {
        "id": "TMly_R0pv8AG"
      },
      "source": [
        "\n",
        "def Confusion(X):\n",
        "  TP, FP, FN, TN = X.ravel()\n",
        "  A=(TP+TN)/(TP+TN+FP+FN)*100 #Acuracy\n",
        "  P=TP/(TP+FP)*100 # Precision\n",
        "  R=TP/(TP+FN)*100 # Recall\n",
        "  S=TN/(TN+FP)*100 # Specificity\n",
        "  F1=2*TP/(2*TP+FP+FN)*100 # F1 score\n",
        "\n",
        "  return A,P,R,S,F1"
      ],
      "execution_count": 36,
      "outputs": []
    },
    {
      "cell_type": "code",
      "metadata": {
        "id": "mUMZt1oSsY0O"
      },
      "source": [
        "Name='Machine_Learning_Models/XY_D10_30_out_7_2019.csv'\n",
        "df = pd.read_csv(Name)"
      ],
      "execution_count": 37,
      "outputs": []
    },
    {
      "cell_type": "code",
      "metadata": {
        "id": "FqcMCR9gxIpA"
      },
      "source": [
        "Columns =['DI RELATIVO', 'FRAC Its',  'Fo', 'CRo','F','CR']\n",
        "pd.set_option('display.max_rows', 140)\n",
        "pd.set_option('display.max_rows', 30)\n",
        "df = df[Columns]"
      ],
      "execution_count": 38,
      "outputs": []
    },
    {
      "cell_type": "code",
      "metadata": {
        "id": "7uLcEyH6si7K"
      },
      "source": [
        "#print(df)"
      ],
      "execution_count": 39,
      "outputs": []
    },
    {
      "cell_type": "code",
      "metadata": {
        "id": "O-RUk7x00z2U"
      },
      "source": [
        "W=np.array(df['F'])\n",
        "Wo=np.array(df['Fo'])\n",
        "for i in range(len(W)):\n",
        "  W[i]=W[i]-Wo[i]\n",
        "  if(W[i]<0):\n",
        "    W[i]=-1\n",
        "  else:\n",
        "    W[i]=1\n",
        "df['F'] = W\n",
        "\n",
        "W=np.array(df['CR'])\n",
        "Wo=np.array(df['CRo'])\n",
        "for i in range(len(W)):\n",
        "  W[i]=W[i]-Wo[i]\n",
        "  if(W[i]<0):\n",
        "    W[i]=-1\n",
        "  else:\n",
        "    W[i]=1\n",
        "df['CR'] = W"
      ],
      "execution_count": 40,
      "outputs": []
    },
    {
      "cell_type": "code",
      "metadata": {
        "id": "OlcbLnk24c35"
      },
      "source": [
        "# print(df)"
      ],
      "execution_count": 41,
      "outputs": []
    },
    {
      "cell_type": "code",
      "metadata": {
        "id": "IH4VEEeV5jUg"
      },
      "source": [
        "Names_X= ['DI RELATIVO','FRAC Its','Fo','CRo']\n",
        "Name_Y =['F']  \n",
        "# Name_Y =['CR']  \n",
        "y=df[Name_Y]\n",
        "X=df[Names_X]                  "
      ],
      "execution_count": 42,
      "outputs": []
    },
    {
      "cell_type": "code",
      "metadata": {
        "id": "RiNily1b-gKI"
      },
      "source": [
        "test_fraction = 0.3\r\n",
        "number_random = 10"
      ],
      "execution_count": 43,
      "outputs": []
    },
    {
      "cell_type": "code",
      "metadata": {
        "id": "vRD1rDqQ5cOi"
      },
      "source": [
        "X_train, X_test, y_train, y_test = train_test_split(X, y, test_size=test_fraction, random_state=number_random)\n",
        "#scaler = StandardScaler() \n",
        "scaler = MinMaxScaler() \n",
        "scaler.fit(X_train) \n",
        "X_train = scaler.transform(X_train)\n",
        "X_test = scaler.transform(X_test)"
      ],
      "execution_count": 44,
      "outputs": []
    },
    {
      "cell_type": "code",
      "metadata": {
        "colab": {
          "base_uri": "https://localhost:8080/"
        },
        "id": "LZDbNc2VVgdd",
        "outputId": "39c3bda6-9fb3-41fe-943d-b7d969b117f3"
      },
      "source": [
        "joblib.dump(scaler,'RF_scaler.pkl')"
      ],
      "execution_count": 45,
      "outputs": [
        {
          "output_type": "execute_result",
          "data": {
            "text/plain": [
              "['RF_scaler.pkl']"
            ]
          },
          "metadata": {
            "tags": []
          },
          "execution_count": 45
        }
      ]
    },
    {
      "cell_type": "code",
      "metadata": {
        "id": "Y7wbWhRXWW-g"
      },
      "source": [
        "!cp RF_scaler.pkl drive/My\\ Drive/Raianars_Paper_One_Revisited/"
      ],
      "execution_count": 46,
      "outputs": []
    },
    {
      "cell_type": "code",
      "metadata": {
        "id": "BCpqrCMu6oYZ",
        "colab": {
          "base_uri": "https://localhost:8080/"
        },
        "outputId": "5c38dee7-8988-49c5-fd58-9b6c05113743"
      },
      "source": [
        "#model = RandomForestClassifier(max_depth=2,n_estimators=1000, random_state=101)\n",
        "# model = RandomForestClassifier(max_depth=2,n_estimators=100, random_state=101)\n",
        "model = RandomForestClassifier(max_depth=2, random_state=0)\n",
        "model.fit(X_train, y_train)"
      ],
      "execution_count": 47,
      "outputs": [
        {
          "output_type": "stream",
          "text": [
            "/usr/local/lib/python3.6/dist-packages/ipykernel_launcher.py:4: DataConversionWarning: A column-vector y was passed when a 1d array was expected. Please change the shape of y to (n_samples,), for example using ravel().\n",
            "  after removing the cwd from sys.path.\n"
          ],
          "name": "stderr"
        },
        {
          "output_type": "execute_result",
          "data": {
            "text/plain": [
              "RandomForestClassifier(bootstrap=True, ccp_alpha=0.0, class_weight=None,\n",
              "                       criterion='gini', max_depth=2, max_features='auto',\n",
              "                       max_leaf_nodes=None, max_samples=None,\n",
              "                       min_impurity_decrease=0.0, min_impurity_split=None,\n",
              "                       min_samples_leaf=1, min_samples_split=2,\n",
              "                       min_weight_fraction_leaf=0.0, n_estimators=100,\n",
              "                       n_jobs=None, oob_score=False, random_state=0, verbose=0,\n",
              "                       warm_start=False)"
            ]
          },
          "metadata": {
            "tags": []
          },
          "execution_count": 47
        }
      ]
    },
    {
      "cell_type": "code",
      "metadata": {
        "colab": {
          "base_uri": "https://localhost:8080/"
        },
        "id": "9OTJC6tTUsFP",
        "outputId": "b50294fa-a083-4de2-bcaa-564275b1139b"
      },
      "source": [
        "joblib.dump(model,'model_F.pkl')"
      ],
      "execution_count": 48,
      "outputs": [
        {
          "output_type": "execute_result",
          "data": {
            "text/plain": [
              "['model_F.pkl']"
            ]
          },
          "metadata": {
            "tags": []
          },
          "execution_count": 48
        }
      ]
    },
    {
      "cell_type": "code",
      "metadata": {
        "id": "gn5UaG7LVBRB"
      },
      "source": [
        "!cp model_F.pkl drive/My\\ Drive/Raianars_Paper_One_Revisited/"
      ],
      "execution_count": 49,
      "outputs": []
    },
    {
      "cell_type": "code",
      "metadata": {
        "id": "zINjIWY3BzPH"
      },
      "source": [
        "#Predicting new data\n",
        "predictions = model.predict(X_train)\n",
        "Mat_train = confusion_matrix(y_train,predictions)\n",
        "\n",
        "\n",
        "predictions = model.predict(X_test)\n",
        "Mat_test = confusion_matrix(y_test,predictions)\n"
      ],
      "execution_count": 50,
      "outputs": []
    },
    {
      "cell_type": "code",
      "metadata": {
        "id": "4955XZhxB2k0"
      },
      "source": [
        "#print('\\n results test \\n')\n",
        "#print(classification_report(y_test,predictions))\n",
        "#print('\\n results test \\n')\n",
        "#print(confusion_matrix(y_test,predictions))"
      ],
      "execution_count": 51,
      "outputs": []
    },
    {
      "cell_type": "code",
      "metadata": {
        "id": "bZaGW-f0wSWs",
        "colab": {
          "base_uri": "https://localhost:8080/"
        },
        "outputId": "eaf53c38-6149-403e-882e-3ed5134f8798"
      },
      "source": [
        "A,P,R,S,F1=Confusion(Mat_train)\n",
        "print(\"=======F's classification train:=======\")\n",
        "print(\" Accuracy=%f \\n Precision=%f \\n Recall=%f \\n Specificity=%f \\n F1 score=%f \\n\"%(A,P,R,S,F1))\n",
        "\n",
        "\n",
        "A,P,R,S,F1=Confusion(Mat_test )\n",
        "print(\"=======F's classification test:=========\")\n",
        "print(\" Accuracy=%f \\n Precision=%f \\n Recall=%f \\n Specificity=%f \\n F1 score=%f \\n\"%(A,P,R,S,F1))"
      ],
      "execution_count": 52,
      "outputs": [
        {
          "output_type": "stream",
          "text": [
            "=======F's classification train:=======\n",
            " Accuracy=77.272727 \n",
            " Precision=86.956522 \n",
            " Recall=74.074074 \n",
            " Specificity=82.352941 \n",
            " F1 score=80.000000 \n",
            "\n",
            "=======F's classification test:=========\n",
            " Accuracy=63.157895 \n",
            " Precision=65.000000 \n",
            " Recall=65.000000 \n",
            " Specificity=61.111111 \n",
            " F1 score=65.000000 \n",
            "\n"
          ],
          "name": "stdout"
        }
      ]
    },
    {
      "cell_type": "code",
      "metadata": {
        "id": "B3InRp9CD1h3"
      },
      "source": [
        "Names_X= ['DI RELATIVO','FRAC Its','Fo','CRo']\n",
        "Name_Y =['CR']  \n",
        "y=df[Name_Y]\n",
        "X=df[Names_X]   "
      ],
      "execution_count": 53,
      "outputs": []
    },
    {
      "cell_type": "code",
      "metadata": {
        "id": "cjtorOG5D8cP"
      },
      "source": [
        "X_train, X_test, y_train, y_test = train_test_split(X, y, test_size=test_fraction, random_state=number_random)\n",
        "#scaler = StandardScaler() \n",
        "scaler = MinMaxScaler() \n",
        "scaler.fit(X_train) \n",
        "X_train = scaler.transform(X_train)\n",
        "X_test = scaler.transform(X_test)"
      ],
      "execution_count": 54,
      "outputs": []
    },
    {
      "cell_type": "code",
      "metadata": {
        "id": "AAfaEVY0EASi",
        "colab": {
          "base_uri": "https://localhost:8080/"
        },
        "outputId": "c61be43d-dbe8-414d-8bae-dcefd0d96a00"
      },
      "source": [
        "#model = RandomForestClassifier(max_depth=2,n_estimators=1000, random_state=101)\n",
        "#model = RandomForestClassifier(max_depth=2,n_estimators=100, random_state=101)\n",
        "model = RandomForestClassifier(max_depth=2, random_state=0)\n",
        "model.fit(X_train, y_train)"
      ],
      "execution_count": 55,
      "outputs": [
        {
          "output_type": "stream",
          "text": [
            "/usr/local/lib/python3.6/dist-packages/ipykernel_launcher.py:4: DataConversionWarning: A column-vector y was passed when a 1d array was expected. Please change the shape of y to (n_samples,), for example using ravel().\n",
            "  after removing the cwd from sys.path.\n"
          ],
          "name": "stderr"
        },
        {
          "output_type": "execute_result",
          "data": {
            "text/plain": [
              "RandomForestClassifier(bootstrap=True, ccp_alpha=0.0, class_weight=None,\n",
              "                       criterion='gini', max_depth=2, max_features='auto',\n",
              "                       max_leaf_nodes=None, max_samples=None,\n",
              "                       min_impurity_decrease=0.0, min_impurity_split=None,\n",
              "                       min_samples_leaf=1, min_samples_split=2,\n",
              "                       min_weight_fraction_leaf=0.0, n_estimators=100,\n",
              "                       n_jobs=None, oob_score=False, random_state=0, verbose=0,\n",
              "                       warm_start=False)"
            ]
          },
          "metadata": {
            "tags": []
          },
          "execution_count": 55
        }
      ]
    },
    {
      "cell_type": "code",
      "metadata": {
        "colab": {
          "base_uri": "https://localhost:8080/"
        },
        "id": "oUHgIkf3xbbG",
        "outputId": "5b83a9a0-30cb-4245-a717-1b373628094b"
      },
      "source": [
        "#from sklearn.externals import joblib\r\n",
        "joblib.dump(model,'model_CR.pkl')"
      ],
      "execution_count": 56,
      "outputs": [
        {
          "output_type": "execute_result",
          "data": {
            "text/plain": [
              "['model_CR.pkl']"
            ]
          },
          "metadata": {
            "tags": []
          },
          "execution_count": 56
        }
      ]
    },
    {
      "cell_type": "code",
      "metadata": {
        "id": "76p3lXyvxTwi"
      },
      "source": [
        "# save in drive\r\n",
        "!cp model_CR.pkl drive/My\\ Drive/Raianars_Paper_One_Revisited/"
      ],
      "execution_count": 57,
      "outputs": []
    },
    {
      "cell_type": "code",
      "metadata": {
        "id": "ZxPg5JRIxKmG"
      },
      "source": [
        "# get csv file\r\n",
        "#df.to_csv('Fotos_Treina_ANN_dez_2019.csv')"
      ],
      "execution_count": 58,
      "outputs": []
    },
    {
      "cell_type": "code",
      "metadata": {
        "id": "__QAJwfUEEYx"
      },
      "source": [
        "#Predicting new data\n",
        "predictions = model.predict(X_train)\n",
        "Mat_train = confusion_matrix(y_train,predictions)\n",
        "\n",
        "\n",
        "predictions = model.predict(X_test)\n",
        "Mat_test = confusion_matrix(y_test,predictions)"
      ],
      "execution_count": 59,
      "outputs": []
    },
    {
      "cell_type": "code",
      "metadata": {
        "id": "XCDyLpuJEHED"
      },
      "source": [
        "# predictions = model.predict(X_test)\n",
        "# print(classification_report(y_test,predictions))\n",
        "# print('\\n')\n",
        "# print(confusion_matrix(y_test,predictions))"
      ],
      "execution_count": 60,
      "outputs": []
    },
    {
      "cell_type": "code",
      "metadata": {
        "id": "mVjUJlKxTkIB"
      },
      "source": [
        "#predictions = model.predict(X_train)\r\n",
        "#print(classification_report(y_train,predictions))\r\n",
        "#print('\\n')\r\n",
        "#print(confusion_matrix(y_train,predictions))"
      ],
      "execution_count": 61,
      "outputs": []
    },
    {
      "cell_type": "code",
      "metadata": {
        "id": "mHLHgg0AbrRs"
      },
      "source": [
        "# Mat_test.ravel()"
      ],
      "execution_count": 62,
      "outputs": []
    },
    {
      "cell_type": "code",
      "metadata": {
        "id": "8cc4gV60b-Ur"
      },
      "source": [
        "# TN, FP, FN, TP =Mat_test.ravel()"
      ],
      "execution_count": 63,
      "outputs": []
    },
    {
      "cell_type": "code",
      "metadata": {
        "id": "YQDzPbK5cCVL"
      },
      "source": [
        "# print(TN);print(FP);print(FN);print(TP);print(Mat_test)"
      ],
      "execution_count": 64,
      "outputs": []
    },
    {
      "cell_type": "code",
      "metadata": {
        "id": "Mdz0pgg6wnq5",
        "colab": {
          "base_uri": "https://localhost:8080/"
        },
        "outputId": "dad019fe-af1d-4492-ec69-68bd723239f1"
      },
      "source": [
        "A,P,R,S,F1=Confusion(Mat_train)\n",
        "print(\"=======CR's classification train:=======\")\n",
        "print(\" Accuracy=%f \\n Precision=%f \\n Recall=%f \\n Specificity=%f \\n F1 score=%f \\n\"%(A,P,R,S,F1))\n",
        "\n",
        "\n",
        "A,P,R,S,F1=Confusion(Mat_test )\n",
        "print(\"=======CR's classification test:=========\")\n",
        "print(\" Accuracy=%f \\n Precision=%f \\n Recall=%f \\n Specificity=%f \\n F1 score=%f \\n\"%(A,P,R,S,F1))"
      ],
      "execution_count": 65,
      "outputs": [
        {
          "output_type": "stream",
          "text": [
            "=======CR's classification train:=======\n",
            " Accuracy=80.681818 \n",
            " Precision=90.000000 \n",
            " Recall=73.469388 \n",
            " Specificity=89.743590 \n",
            " F1 score=80.898876 \n",
            "\n",
            "=======CR's classification test:=========\n",
            " Accuracy=63.157895 \n",
            " Precision=70.833333 \n",
            " Recall=70.833333 \n",
            " Specificity=50.000000 \n",
            " F1 score=70.833333 \n",
            "\n"
          ],
          "name": "stdout"
        }
      ]
    }
  ]
}
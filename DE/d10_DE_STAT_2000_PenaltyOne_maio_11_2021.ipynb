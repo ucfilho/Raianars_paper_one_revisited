{
  "nbformat": 4,
  "nbformat_minor": 0,
  "metadata": {
    "colab": {
      "name": "d10_DE_STAT_2000_PenaltyOne_maio_11_2021.ipynb",
      "provenance": [],
      "collapsed_sections": [],
      "include_colab_link": true
    },
    "kernelspec": {
      "display_name": "Python 3",
      "language": "python",
      "name": "python3"
    },
    "language_info": {
      "codemirror_mode": {
        "name": "ipython",
        "version": 3
      },
      "file_extension": ".py",
      "mimetype": "text/x-python",
      "name": "python",
      "nbconvert_exporter": "python",
      "pygments_lexer": "ipython3",
      "version": "3.6.1"
    }
  },
  "cells": [
    {
      "cell_type": "markdown",
      "metadata": {
        "id": "view-in-github",
        "colab_type": "text"
      },
      "source": [
        "<a href=\"https://colab.research.google.com/github/ucfilho/Raianars_paper_one_revisited/blob/main/DE/d10_DE_STAT_2000_PenaltyOne_maio_11_2021.ipynb\" target=\"_parent\"><img src=\"https://colab.research.google.com/assets/colab-badge.svg\" alt=\"Open In Colab\"/></a>"
      ]
    },
    {
      "cell_type": "code",
      "metadata": {
        "id": "v1OxgXboBKoG"
      },
      "source": [
        "import time\n",
        "import matplotlib.pyplot as plt\n",
        "import numpy as np\n",
        "from random import randint"
      ],
      "execution_count": 1,
      "outputs": []
    },
    {
      "cell_type": "code",
      "metadata": {
        "id": "LbcaeSLNPSIS",
        "colab": {
          "base_uri": "https://localhost:8080/"
        },
        "outputId": "99c2d1cc-5b6e-4218-f137-b971b068eadb"
      },
      "source": [
        "!git clone https://github.com/ucfilho/Raianars_Routines #clonar do Github\n",
        "%cd Raianars_Routines"
      ],
      "execution_count": 2,
      "outputs": [
        {
          "output_type": "stream",
          "text": [
            "Cloning into 'Raianars_Routines'...\n",
            "remote: Enumerating objects: 54, done.\u001b[K\n",
            "remote: Counting objects: 100% (54/54), done.\u001b[K\n",
            "remote: Compressing objects: 100% (52/52), done.\u001b[K\n",
            "remote: Total 54 (delta 16), reused 0 (delta 0), pack-reused 0\u001b[K\n",
            "Unpacking objects: 100% (54/54), done.\n",
            "/content/Raianars_Routines\n"
          ],
          "name": "stdout"
        }
      ]
    },
    {
      "cell_type": "code",
      "metadata": {
        "id": "tjabLb6IPUbC"
      },
      "source": [
        "############################### Função\n",
        "import FunctionsNew\n",
        "#'''  \n",
        "############################### Função\n",
        "dim=10 # \n",
        "fchoice='PenaltyOne'\n",
        "Fun=FunctionsNew.PenaltyOne\n",
        "MAX=np.repeat(50,dim)\n",
        "MIN=np.repeat(-50,dim)\n",
        "\n",
        "bounds=[]\n",
        "for k in range(len(MAX)):\n",
        "  bounds.append((MIN[k],MAX[k]))\n",
        "\n",
        "\n",
        "############################### DADOS DE ENTRADA \n",
        "RUNS=50 #NÚMERO DE RODADAS\n",
        "its=1 #10 # quantas vezes vai usar o NPAR antes de alterar de novo\n",
        "ITE=2000 #10 # PONTOS quantas vezes vai alteral NPAR \n",
        "NPAR=100\n",
        "\n",
        "mut=0.50\n",
        "crossp=0.50\n"
      ],
      "execution_count": 3,
      "outputs": []
    },
    {
      "cell_type": "code",
      "metadata": {
        "id": "qMRpE0dGULCI",
        "colab": {
          "base_uri": "https://localhost:8080/"
        },
        "outputId": "705cd478-b9da-4fd8-b2e1-db643d4c1e88"
      },
      "source": [
        "!git clone https://github.com/ucfilho/Raianars_July_2020 #clonar do Github\n",
        "%cd Raianars_July_2020"
      ],
      "execution_count": 4,
      "outputs": [
        {
          "output_type": "stream",
          "text": [
            "Cloning into 'Raianars_July_2020'...\n",
            "remote: Enumerating objects: 172, done.\u001b[K\n",
            "remote: Counting objects: 100% (49/49), done.\u001b[K\n",
            "remote: Compressing objects: 100% (49/49), done.\u001b[K\n",
            "remote: Total 172 (delta 24), reused 0 (delta 0), pack-reused 123\u001b[K\n",
            "Receiving objects: 100% (172/172), 390.34 KiB | 16.97 MiB/s, done.\n",
            "Resolving deltas: 100% (86/86), done.\n",
            "/content/Raianars_Routines/Raianars_July_2020\n"
          ],
          "name": "stdout"
        }
      ]
    },
    {
      "cell_type": "code",
      "metadata": {
        "id": "_E15mKFURR6O"
      },
      "source": [
        "import de_soma_Insight\n",
        "import de_bounds_matriz\n",
        "import Go2MinMax\n",
        "from AvaliaX import AvaliaX\n",
        "\n",
        "\n",
        "\n",
        "\n",
        "\n",
        "# MIN,MAX=Go2MinMax.Intervalo(dim,fchoice)\n",
        "\n",
        "TOTAL=10*dim*its*ITE\n",
        "SOMA=0"
      ],
      "execution_count": 5,
      "outputs": []
    },
    {
      "cell_type": "code",
      "metadata": {
        "id": "rnX8ttNopd1G",
        "colab": {
          "base_uri": "https://localhost:8080/"
        },
        "outputId": "e4d3c88e-5dc4-4243-bfae-a0ed2d4d9edf"
      },
      "source": [
        "start_time = time.time()\n",
        "BEST_AGENTS=[]\n",
        "MAT_stat=[]\n",
        "\n",
        "for i in range(RUNS):\n",
        "\n",
        "    pop = np.random.rand(NPAR, dim)\n",
        "    diff=np.zeros(dim)\n",
        "    for ii in range(dim):\n",
        "      diff[ii] = MAX[ii]-MIN[ii]\n",
        "    X = MIN + pop * diff\n",
        "\n",
        "    SOMA=0\n",
        "\n",
        "    for k in range(ITE):\n",
        "      X,BEST,FOBEST,XY,BEST_XY,SOMA= de_soma_Insight.de(MAX,MIN, mut, crossp,dim,its,Fun,X,SOMA,TOTAL)\n",
        "\n",
        "    start_run = (time.time()-start_time)/60\n",
        "    print('time ',start_run,'run=',i,'total=50','Fobj=',FOBEST)  \n",
        "    BEST_AGENTS.append(BEST_XY)"
      ],
      "execution_count": 6,
      "outputs": [
        {
          "output_type": "stream",
          "text": [
            "time  0.12560599247614543 run= 0 total=50 Fobj= 2.6770797892890963e-09\n",
            "time  0.2515667319297791 run= 1 total=50 Fobj= 2.070087728361684\n",
            "time  0.37807181278864543 run= 2 total=50 Fobj= 4.882182208607106e-16\n",
            "time  0.5018355886141459 run= 3 total=50 Fobj= 0.4366692199489983\n",
            "time  0.6255702654520671 run= 4 total=50 Fobj= 0.0001744920407209804\n",
            "time  0.7475314418474833 run= 5 total=50 Fobj= 0.6260250983089115\n",
            "time  0.8714474479357401 run= 6 total=50 Fobj= 9.935604485864193e-09\n",
            "time  0.9964085698127747 run= 7 total=50 Fobj= 22.807864189805855\n",
            "time  1.118711801369985 run= 8 total=50 Fobj= 0.00013993481632431983\n",
            "time  1.2437560200691222 run= 9 total=50 Fobj= 3.422280777146619e-05\n",
            "time  1.3679030458132426 run= 10 total=50 Fobj= 3.6553715488058044e-08\n",
            "time  1.493354062239329 run= 11 total=50 Fobj= 0.2785536058681303\n",
            "time  1.6164740721384685 run= 12 total=50 Fobj= 0.040914807148566434\n",
            "time  1.7401982108751932 run= 13 total=50 Fobj= 0.26811689278543305\n",
            "time  1.8649114926656087 run= 14 total=50 Fobj= 0.3711109640581102\n",
            "time  1.9924622138341268 run= 15 total=50 Fobj= 0.22380741137638294\n",
            "time  2.1184337576230368 run= 16 total=50 Fobj= 0.5538965901606334\n",
            "time  2.244897743066152 run= 17 total=50 Fobj= 1.5288274878620816\n",
            "time  2.368625803788503 run= 18 total=50 Fobj= 7.156802434883554\n",
            "time  2.490833552678426 run= 19 total=50 Fobj= 0.9747243356191989\n",
            "time  2.6149176160494485 run= 20 total=50 Fobj= 0.013084459859588018\n",
            "time  2.735983733336131 run= 21 total=50 Fobj= 1.2440157788456518\n",
            "time  2.855720027287801 run= 22 total=50 Fobj= 3.2171448701668137e-07\n",
            "time  2.978647275765737 run= 23 total=50 Fobj= 0.0034519519165583296\n",
            "time  3.102592893441518 run= 24 total=50 Fobj= 3.595691156916625e-05\n",
            "time  3.2249357382456463 run= 25 total=50 Fobj= 0.6890462124732256\n",
            "time  3.348510444164276 run= 26 total=50 Fobj= 2.757780941351183e-08\n",
            "time  3.472092644373576 run= 27 total=50 Fobj= 3.689690555166164\n",
            "time  3.594578989346822 run= 28 total=50 Fobj= 0.7180842461183365\n",
            "time  3.7185860951741536 run= 29 total=50 Fobj= 0.3110584376988347\n",
            "time  3.840776026248932 run= 30 total=50 Fobj= 13010.043023081398\n",
            "time  3.9647645711898805 run= 31 total=50 Fobj= 3.2724812641189097e-10\n",
            "time  4.087190890312195 run= 32 total=50 Fobj= 0.22261549657442212\n",
            "time  4.212526130676269 run= 33 total=50 Fobj= 2.2211823800613577\n",
            "time  4.3340252836545305 run= 34 total=50 Fobj= 1.1491903929127105\n",
            "time  4.459001684188843 run= 35 total=50 Fobj= 1.494836652428642\n",
            "time  4.582836008071899 run= 36 total=50 Fobj= 1.3358922687585228\n",
            "time  4.706947203477224 run= 37 total=50 Fobj= 0.45294184368973034\n",
            "time  4.832221158345541 run= 38 total=50 Fobj= 0.04056416593785663\n",
            "time  4.956663493315379 run= 39 total=50 Fobj= 3.5994353400842984e-08\n",
            "time  5.0821688691775 run= 40 total=50 Fobj= 0.3110071891862466\n",
            "time  5.206848959128062 run= 41 total=50 Fobj= 0.013331355976317485\n",
            "time  5.331575294335683 run= 42 total=50 Fobj= 0.0004673981106377184\n",
            "time  5.455025366942087 run= 43 total=50 Fobj= 0.03046858483537865\n",
            "time  5.579764298597971 run= 44 total=50 Fobj= 1.413588569019335e-10\n",
            "time  5.702935926119486 run= 45 total=50 Fobj= 0.044105288358729636\n",
            "time  5.824168225129445 run= 46 total=50 Fobj= 0.00013554225226002547\n",
            "time  5.951110418637594 run= 47 total=50 Fobj= 7.330091476005725\n",
            "time  6.077614792188009 run= 48 total=50 Fobj= 3.348077568846769\n",
            "time  6.201081613699595 run= 49 total=50 Fobj= 0.0008873474191669472\n"
          ],
          "name": "stdout"
        }
      ]
    },
    {
      "cell_type": "code",
      "metadata": {
        "id": "lNSN5X-wskcx",
        "colab": {
          "base_uri": "https://localhost:8080/"
        },
        "outputId": "aefd947f-84d5-41d9-b924-5db298510350"
      },
      "source": [
        "############################## Cálculo dos Parâmetros de Avaliação   \n",
        "TIME = (time.time() - start_time)/RUNS\n",
        "BEST_AGENTS=np.array(BEST_AGENTS)\n",
        "BEST_AGENTS_ST= BEST_AGENTS[BEST_AGENTS[:,-1].argsort()]\n",
        "BEST=BEST_AGENTS_ST[0]\n",
        "WORSE=BEST_AGENTS_ST[-1]\n",
        "MEAN=np.mean(BEST_AGENTS,axis=0)\n",
        "MAXFO=BEST_AGENTS[:,-1].max()\n",
        "MINFO=BEST_AGENTS[:,-1].min()\n",
        "STD=BEST_AGENTS[:,-1].std()\n",
        "\n",
        "nome='_DE_STAT_Fo-'+str(mut)+'_CRo-'+str(crossp)+'_D-'+str(dim)+'_Interv-'+str(ITE)\n",
        "print('DE','TOTAL=',TOTAL,'Iterações=',ITE*its,'Dim=', dim,\"Min/Max=\",MIN[0],\"/\",MAX[0],'_',Fun.__name__)\n",
        "print(nome, '\\n')\n",
        "#print('BEST: ',BEST)\n",
        "#print('MÉDIA: ',MEAN)\n",
        "print('MÉDIA: ',MEAN[-1])\n",
        "print('MIN __:',MINFO)\n",
        "print('MAX__: ',MAXFO)\n",
        "print('STD __:',STD)\n",
        "print(\"Tempo Médio= %.3f segundos ---\" % (TIME))\n",
        "print(RUNS,'Rodadas') \n",
        "print()\n",
        "print('BEST: ',BEST)\n",
        "# print('melhor=',BEST_AGENTS[BEST_INDEX])"
      ],
      "execution_count": 7,
      "outputs": [
        {
          "output_type": "stream",
          "text": [
            "DE TOTAL= 200000 Iterações= 2000 Dim= 10 Min/Max= -50 / 50 _ PenaltyOne\n",
            "_DE_STAT_Fo-0.5_CRo-0.5_D-10_Interv-2000 \n",
            "\n",
            "MÉDIA:  261.44090070965035\n",
            "MIN __: 4.882182208607106e-16\n",
            "MAX__:  13010.043023081398\n",
            "STD __: 1821.2321338694983\n",
            "Tempo Médio= 7.442 segundos ---\n",
            "50 Rodadas\n",
            "\n",
            "BEST:  [-1.00000000e+00 -1.00000000e+00 -1.00000000e+00 -1.00000000e+00\n",
            " -1.00000000e+00 -1.00000016e+00 -1.00000000e+00 -1.00000000e+00\n",
            " -1.00000000e+00 -1.00000000e+00  4.88218221e-16]\n"
          ],
          "name": "stdout"
        }
      ]
    },
    {
      "cell_type": "code",
      "metadata": {
        "id": "Jm9NMXWMq53f",
        "colab": {
          "base_uri": "https://localhost:8080/",
          "height": 54
        },
        "outputId": "b7a49768-28cc-44e8-f11e-f2659284ae60"
      },
      "source": [
        "'''\n",
        "mut=0.25\n",
        "crossp=0.75\n",
        "MÉDIA:  2.1396295860276955\n",
        "MIN __: 1.802053616279927e-11\n",
        "MAX__:  9.460815772046365\n",
        "STD __: 2.7931350380679962\n",
        "Tempo Médio= 3.534 segundos ---\n",
        "50 Rodadas\n",
        "'''"
      ],
      "execution_count": 8,
      "outputs": [
        {
          "output_type": "execute_result",
          "data": {
            "application/vnd.google.colaboratory.intrinsic+json": {
              "type": "string"
            },
            "text/plain": [
              "'\\nmut=0.25\\ncrossp=0.75\\nMÉDIA:  2.1396295860276955\\nMIN __: 1.802053616279927e-11\\nMAX__:  9.460815772046365\\nSTD __: 2.7931350380679962\\nTempo Médio= 3.534 segundos ---\\n50 Rodadas\\n'"
            ]
          },
          "metadata": {
            "tags": []
          },
          "execution_count": 8
        }
      ]
    }
  ]
}
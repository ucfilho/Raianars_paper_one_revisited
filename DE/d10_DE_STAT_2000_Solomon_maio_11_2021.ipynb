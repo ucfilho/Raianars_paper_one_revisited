{
  "nbformat": 4,
  "nbformat_minor": 0,
  "metadata": {
    "colab": {
      "name": "d10_DE_STAT_2000_Solomon_maio_11_2021.ipynb",
      "provenance": [],
      "collapsed_sections": [],
      "include_colab_link": true
    },
    "kernelspec": {
      "display_name": "Python 3",
      "language": "python",
      "name": "python3"
    },
    "language_info": {
      "codemirror_mode": {
        "name": "ipython",
        "version": 3
      },
      "file_extension": ".py",
      "mimetype": "text/x-python",
      "name": "python",
      "nbconvert_exporter": "python",
      "pygments_lexer": "ipython3",
      "version": "3.6.1"
    }
  },
  "cells": [
    {
      "cell_type": "markdown",
      "metadata": {
        "id": "view-in-github",
        "colab_type": "text"
      },
      "source": [
        "<a href=\"https://colab.research.google.com/github/ucfilho/Raianars_paper_one_revisited/blob/main/DE/d10_DE_STAT_2000_Solomon_maio_11_2021.ipynb\" target=\"_parent\"><img src=\"https://colab.research.google.com/assets/colab-badge.svg\" alt=\"Open In Colab\"/></a>"
      ]
    },
    {
      "cell_type": "code",
      "metadata": {
        "id": "v1OxgXboBKoG"
      },
      "source": [
        "import time\n",
        "import matplotlib.pyplot as plt\n",
        "import numpy as np\n",
        "from random import randint"
      ],
      "execution_count": 1,
      "outputs": []
    },
    {
      "cell_type": "code",
      "metadata": {
        "id": "LbcaeSLNPSIS",
        "colab": {
          "base_uri": "https://localhost:8080/"
        },
        "outputId": "548e9328-4e73-45d2-9703-d13af2db0011"
      },
      "source": [
        "!git clone https://github.com/ucfilho/Raianars_Routines #clonar do Github\n",
        "%cd Raianars_Routines"
      ],
      "execution_count": 2,
      "outputs": [
        {
          "output_type": "stream",
          "text": [
            "Cloning into 'Raianars_Routines'...\n",
            "remote: Enumerating objects: 54, done.\u001b[K\n",
            "remote: Counting objects: 100% (54/54), done.\u001b[K\n",
            "remote: Compressing objects: 100% (52/52), done.\u001b[K\n",
            "remote: Total 54 (delta 16), reused 0 (delta 0), pack-reused 0\u001b[K\n",
            "Unpacking objects: 100% (54/54), done.\n",
            "/content/Raianars_Routines\n"
          ],
          "name": "stdout"
        }
      ]
    },
    {
      "cell_type": "code",
      "metadata": {
        "id": "tjabLb6IPUbC"
      },
      "source": [
        "############################### Função\n",
        "import FunctionsNew\n",
        "#'''  \n",
        "############################### Função\n",
        "dim=10 # \n",
        "fchoice='Salomon'\n",
        "Fun=FunctionsNew.Salomon\n",
        "MAX=np.repeat(100,dim)\n",
        "MIN=np.repeat(-100,dim)\n",
        "\n",
        "bounds=[]\n",
        "for k in range(len(MAX)):\n",
        "  bounds.append((MIN[k],MAX[k]))\n",
        "\n",
        "\n",
        "############################### DADOS DE ENTRADA \n",
        "RUNS=50 #NÚMERO DE RODADAS\n",
        "its=1 #10 # quantas vezes vai usar o NPAR antes de alterar de novo\n",
        "ITE=2000 #10 # PONTOS quantas vezes vai alteral NPAR \n",
        "NPAR=100\n",
        "\n",
        "mut=0.50\n",
        "crossp=0.50\n"
      ],
      "execution_count": 3,
      "outputs": []
    },
    {
      "cell_type": "code",
      "metadata": {
        "id": "qMRpE0dGULCI",
        "colab": {
          "base_uri": "https://localhost:8080/"
        },
        "outputId": "c1f96497-8003-466e-ae30-d00531de9c7d"
      },
      "source": [
        "!git clone https://github.com/ucfilho/Raianars_July_2020 #clonar do Github\n",
        "%cd Raianars_July_2020"
      ],
      "execution_count": 4,
      "outputs": [
        {
          "output_type": "stream",
          "text": [
            "Cloning into 'Raianars_July_2020'...\n",
            "remote: Enumerating objects: 172, done.\u001b[K\n",
            "remote: Counting objects: 100% (49/49), done.\u001b[K\n",
            "remote: Compressing objects: 100% (49/49), done.\u001b[K\n",
            "remote: Total 172 (delta 24), reused 0 (delta 0), pack-reused 123\u001b[K\n",
            "Receiving objects: 100% (172/172), 390.34 KiB | 24.40 MiB/s, done.\n",
            "Resolving deltas: 100% (86/86), done.\n",
            "/content/Raianars_Routines/Raianars_July_2020\n"
          ],
          "name": "stdout"
        }
      ]
    },
    {
      "cell_type": "code",
      "metadata": {
        "id": "_E15mKFURR6O"
      },
      "source": [
        "import de_soma_Insight\n",
        "import de_bounds_matriz\n",
        "import Go2MinMax\n",
        "from AvaliaX import AvaliaX\n",
        "\n",
        "\n",
        "\n",
        "\n",
        "\n",
        "# MIN,MAX=Go2MinMax.Intervalo(dim,fchoice)\n",
        "\n",
        "TOTAL=10*dim*its*ITE\n",
        "SOMA=0"
      ],
      "execution_count": 5,
      "outputs": []
    },
    {
      "cell_type": "code",
      "metadata": {
        "id": "rnX8ttNopd1G",
        "colab": {
          "base_uri": "https://localhost:8080/"
        },
        "outputId": "573549e9-e58e-4828-f2ad-1623d09d4b2a"
      },
      "source": [
        "start_time = time.time()\n",
        "BEST_AGENTS=[]\n",
        "MAT_stat=[]\n",
        "\n",
        "for i in range(RUNS):\n",
        "\n",
        "    pop = np.random.rand(NPAR, dim)\n",
        "    diff=np.zeros(dim)\n",
        "    for ii in range(dim):\n",
        "      diff[ii] = MAX[ii]-MIN[ii]\n",
        "    X = MIN + pop * diff\n",
        "\n",
        "    SOMA=0\n",
        "\n",
        "    for k in range(ITE):\n",
        "      X,BEST,FOBEST,XY,BEST_XY,SOMA= de_soma_Insight.de(MAX,MIN, mut, crossp,dim,its,Fun,X,SOMA,TOTAL)\n",
        "\n",
        "    start_run = (time.time()-start_time)/60\n",
        "    print('time ',start_run,'run=',i,'total=50','Fobj=',FOBEST)  \n",
        "    BEST_AGENTS.append(BEST_XY)"
      ],
      "execution_count": 6,
      "outputs": [
        {
          "output_type": "stream",
          "text": [
            "time  0.058484168847401936 run= 0 total=50 Fobj= 0.0998733458483116\n",
            "time  0.11545004447301228 run= 1 total=50 Fobj= 0.19987334586949912\n",
            "time  0.17315183480580648 run= 2 total=50 Fobj= 0.29987334606901106\n",
            "time  0.23052740891774495 run= 3 total=50 Fobj= 0.09987334762895345\n",
            "time  0.2883152008056641 run= 4 total=50 Fobj= 0.09991097244054571\n",
            "time  0.34711244503657024 run= 5 total=50 Fobj= 0.09987335077894466\n",
            "time  0.40548884073893227 run= 6 total=50 Fobj= 0.09987335137255486\n",
            "time  0.4632407387097677 run= 7 total=50 Fobj= 0.09987335582457034\n",
            "time  0.5213090101877849 run= 8 total=50 Fobj= 2.499873352287594\n",
            "time  0.5789964040120442 run= 9 total=50 Fobj= 0.7000080101687031\n",
            "time  0.6366232713063558 run= 10 total=50 Fobj= 0.19987341329995853\n",
            "time  0.6942731738090515 run= 11 total=50 Fobj= 0.09987334931554548\n",
            "time  0.751865271727244 run= 12 total=50 Fobj= 0.2998733486854361\n",
            "time  0.8095966736475627 run= 13 total=50 Fobj= 0.09987334619891908\n",
            "time  0.8673575321833292 run= 14 total=50 Fobj= 1.2998733464709118\n",
            "time  0.9252606987953186 run= 15 total=50 Fobj= 0.09987334585436888\n",
            "time  0.982537583510081 run= 16 total=50 Fobj= 2.0998733458611683\n",
            "time  1.039798919359843 run= 17 total=50 Fobj= 0.09987334805551734\n",
            "time  1.096867044766744 run= 18 total=50 Fobj= 0.1998733580320789\n",
            "time  1.1543093045552573 run= 19 total=50 Fobj= 0.2998733458512534\n",
            "time  1.2122026403745016 run= 20 total=50 Fobj= 0.099873345848146\n",
            "time  1.2692070563634237 run= 21 total=50 Fobj= 0.09987334828706398\n",
            "time  1.3262014627456664 run= 22 total=50 Fobj= 0.09987334674869862\n",
            "time  1.3834834297498066 run= 23 total=50 Fobj= 0.09987334657669453\n",
            "time  1.4408708214759827 run= 24 total=50 Fobj= 0.19987334898860878\n",
            "time  1.4982739567756653 run= 25 total=50 Fobj= 0.09987335099498026\n",
            "time  1.5558954715728759 run= 26 total=50 Fobj= 0.09987350498580971\n",
            "time  1.6135624289512633 run= 27 total=50 Fobj= 0.2998733468600429\n",
            "time  1.670687731107076 run= 28 total=50 Fobj= 0.19987334705323637\n",
            "time  1.7286426742871603 run= 29 total=50 Fobj= 0.2998733748860988\n",
            "time  1.7862088203430175 run= 30 total=50 Fobj= 0.09987334622462712\n",
            "time  1.8436085820198058 run= 31 total=50 Fobj= 0.09987334660714908\n",
            "time  1.901929251352946 run= 32 total=50 Fobj= 0.8998733461354349\n",
            "time  1.9598896980285645 run= 33 total=50 Fobj= 1.4998733485723943\n",
            "time  2.019679856300354 run= 34 total=50 Fobj= 0.09987335419505018\n",
            "time  2.079007645448049 run= 35 total=50 Fobj= 0.09987334884717411\n",
            "time  2.1386330246925356 run= 36 total=50 Fobj= 0.7998733461210246\n",
            "time  2.199016789595286 run= 37 total=50 Fobj= 0.19987335051880117\n",
            "time  2.258085644245148 run= 38 total=50 Fobj= 0.29987334619793743\n",
            "time  2.315994393825531 run= 39 total=50 Fobj= 0.19987334590243433\n",
            "time  2.37355770667394 run= 40 total=50 Fobj= 0.09987335740323063\n",
            "time  2.4315878987312316 run= 41 total=50 Fobj= 0.09987336400301777\n",
            "time  2.4900169809659323 run= 42 total=50 Fobj= 0.39987334606874636\n",
            "time  2.5482201973597207 run= 43 total=50 Fobj= 0.19987335564571157\n",
            "time  2.6070128957430523 run= 44 total=50 Fobj= 0.19987335252664667\n",
            "time  2.6653753240903217 run= 45 total=50 Fobj= 0.09987347515562217\n",
            "time  2.723529918988546 run= 46 total=50 Fobj= 0.09987334741484584\n",
            "time  2.783222190539042 run= 47 total=50 Fobj= 0.09996757106009847\n",
            "time  2.8412883718808493 run= 48 total=50 Fobj= 0.19987334668277468\n",
            "time  2.90017196337382 run= 49 total=50 Fobj= 0.19987335729367825\n"
          ],
          "name": "stdout"
        }
      ]
    },
    {
      "cell_type": "code",
      "metadata": {
        "id": "lNSN5X-wskcx",
        "colab": {
          "base_uri": "https://localhost:8080/"
        },
        "outputId": "01673522-9ec2-4f15-9e5f-2b84ebf00056"
      },
      "source": [
        "############################## Cálculo dos Parâmetros de Avaliação   \n",
        "TIME = (time.time() - start_time)/RUNS\n",
        "BEST_AGENTS=np.array(BEST_AGENTS)\n",
        "BEST_AGENTS_ST= BEST_AGENTS[BEST_AGENTS[:,-1].argsort()]\n",
        "BEST=BEST_AGENTS_ST[0]\n",
        "WORSE=BEST_AGENTS_ST[-1]\n",
        "MEAN=np.mean(BEST_AGENTS,axis=0)\n",
        "MAXFO=BEST_AGENTS[:,-1].max()\n",
        "MINFO=BEST_AGENTS[:,-1].min()\n",
        "STD=BEST_AGENTS[:,-1].std()\n",
        "\n",
        "nome='_DE_STAT_Fo-'+str(mut)+'_CRo-'+str(crossp)+'_D-'+str(dim)+'_Interv-'+str(ITE)\n",
        "print('DE','TOTAL=',TOTAL,'Iterações=',ITE*its,'Dim=', dim,\"Min/Max=\",MIN[0],\"/\",MAX[0],'_',Fun.__name__)\n",
        "print(nome, '\\n')\n",
        "#print('BEST: ',BEST)\n",
        "#print('MÉDIA: ',MEAN)\n",
        "print('MÉDIA: ',MEAN[-1])\n",
        "print('MIN __:',MINFO)\n",
        "print('MAX__: ',MAXFO)\n",
        "print('STD __:',STD)\n",
        "print(\"Tempo Médio= %.3f segundos ---\" % (TIME))\n",
        "print(RUNS,'Rodadas') \n",
        "print()\n",
        "print('BEST: ',BEST)\n",
        "# print('melhor=',BEST_AGENTS[BEST_INDEX])"
      ],
      "execution_count": 7,
      "outputs": [
        {
          "output_type": "stream",
          "text": [
            "DE TOTAL= 200000 Iterações= 2000 Dim= 10 Min/Max= -100 / 100 _ Salomon\n",
            "_DE_STAT_Fo-0.5_CRo-0.5_D-10_Interv-2000 \n",
            "\n",
            "MÉDIA:  0.3338786867943926\n",
            "MIN __: 0.099873345848146\n",
            "MAX__:  2.499873352287594\n",
            "STD __: 0.4970359488806428\n",
            "Tempo Médio= 3.481 segundos ---\n",
            "50 Rodadas\n",
            "\n",
            "BEST:  [-0.13747663 -0.10937827  0.37775823 -0.06344559 -0.33075433 -0.21717143\n",
            " -0.6854946  -0.16617538 -0.27693205 -0.29424528  0.09987335]\n"
          ],
          "name": "stdout"
        }
      ]
    },
    {
      "cell_type": "code",
      "metadata": {
        "id": "Jm9NMXWMq53f",
        "colab": {
          "base_uri": "https://localhost:8080/",
          "height": 54
        },
        "outputId": "3477c6a3-6799-4675-cf82-1fb7386be547"
      },
      "source": [
        "'''\n",
        "mut=0.25\n",
        "crossp=0.75\n",
        "MÉDIA:  2.1396295860276955\n",
        "MIN __: 1.802053616279927e-11\n",
        "MAX__:  9.460815772046365\n",
        "STD __: 2.7931350380679962\n",
        "Tempo Médio= 3.534 segundos ---\n",
        "50 Rodadas\n",
        "'''"
      ],
      "execution_count": 8,
      "outputs": [
        {
          "output_type": "execute_result",
          "data": {
            "application/vnd.google.colaboratory.intrinsic+json": {
              "type": "string"
            },
            "text/plain": [
              "'\\nmut=0.25\\ncrossp=0.75\\nMÉDIA:  2.1396295860276955\\nMIN __: 1.802053616279927e-11\\nMAX__:  9.460815772046365\\nSTD __: 2.7931350380679962\\nTempo Médio= 3.534 segundos ---\\n50 Rodadas\\n'"
            ]
          },
          "metadata": {
            "tags": []
          },
          "execution_count": 8
        }
      ]
    }
  ]
}
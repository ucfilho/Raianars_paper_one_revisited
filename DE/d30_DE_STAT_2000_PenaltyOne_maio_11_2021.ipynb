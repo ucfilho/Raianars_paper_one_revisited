{
  "nbformat": 4,
  "nbformat_minor": 0,
  "metadata": {
    "accelerator": "GPU",
    "colab": {
      "name": "d30_DE_STAT_2000_PenaltyOne_maio_11_2021.ipynb",
      "provenance": [],
      "collapsed_sections": [],
      "include_colab_link": true
    },
    "kernelspec": {
      "display_name": "Python 3",
      "language": "python",
      "name": "python3"
    },
    "language_info": {
      "codemirror_mode": {
        "name": "ipython",
        "version": 3
      },
      "file_extension": ".py",
      "mimetype": "text/x-python",
      "name": "python",
      "nbconvert_exporter": "python",
      "pygments_lexer": "ipython3",
      "version": "3.6.1"
    }
  },
  "cells": [
    {
      "cell_type": "markdown",
      "metadata": {
        "id": "view-in-github",
        "colab_type": "text"
      },
      "source": [
        "<a href=\"https://colab.research.google.com/github/ucfilho/Raianars_paper_one_revisited/blob/main/DE/d30_DE_STAT_2000_PenaltyOne_maio_11_2021.ipynb\" target=\"_parent\"><img src=\"https://colab.research.google.com/assets/colab-badge.svg\" alt=\"Open In Colab\"/></a>"
      ]
    },
    {
      "cell_type": "code",
      "metadata": {
        "id": "v1OxgXboBKoG"
      },
      "source": [
        "import time\n",
        "import matplotlib.pyplot as plt\n",
        "import numpy as np\n",
        "from random import randint"
      ],
      "execution_count": 1,
      "outputs": []
    },
    {
      "cell_type": "code",
      "metadata": {
        "id": "LbcaeSLNPSIS",
        "colab": {
          "base_uri": "https://localhost:8080/"
        },
        "outputId": "8b96afef-23ad-46f2-c9f2-e6ac7892d74e"
      },
      "source": [
        "!git clone https://github.com/ucfilho/Raianars_Routines #clonar do Github\n",
        "%cd Raianars_Routines"
      ],
      "execution_count": 2,
      "outputs": [
        {
          "output_type": "stream",
          "text": [
            "Cloning into 'Raianars_Routines'...\n",
            "remote: Enumerating objects: 54, done.\u001b[K\n",
            "remote: Counting objects: 100% (54/54), done.\u001b[K\n",
            "remote: Compressing objects: 100% (52/52), done.\u001b[K\n",
            "remote: Total 54 (delta 16), reused 0 (delta 0), pack-reused 0\u001b[K\n",
            "Unpacking objects: 100% (54/54), done.\n",
            "/content/Raianars_Routines\n"
          ],
          "name": "stdout"
        }
      ]
    },
    {
      "cell_type": "code",
      "metadata": {
        "id": "tjabLb6IPUbC"
      },
      "source": [
        "############################### Função\n",
        "import FunctionsNew\n",
        "#'''  \n",
        "############################### Função\n",
        "dim=30 # \n",
        "fchoice='PenaltyOne'\n",
        "Fun=FunctionsNew.PenaltyOne\n",
        "MAX=np.repeat(50,dim)\n",
        "MIN=np.repeat(-50,dim)\n",
        "\n",
        "bounds=[]\n",
        "for k in range(len(MAX)):\n",
        "  bounds.append((MIN[k],MAX[k]))\n",
        "\n",
        "\n",
        "############################### DADOS DE ENTRADA \n",
        "RUNS=50 #NÚMERO DE RODADAS\n",
        "its=1 #10 # quantas vezes vai usar o NPAR antes de alterar de novo\n",
        "ITE=2000 #10 # PONTOS quantas vezes vai alteral NPAR \n",
        "NPAR=100\n",
        "\n",
        "mut=0.50\n",
        "crossp=0.50\n"
      ],
      "execution_count": 3,
      "outputs": []
    },
    {
      "cell_type": "code",
      "metadata": {
        "id": "qMRpE0dGULCI",
        "colab": {
          "base_uri": "https://localhost:8080/"
        },
        "outputId": "4f0ec66f-f096-44b9-d17e-09ab811585f3"
      },
      "source": [
        "!git clone https://github.com/ucfilho/Raianars_July_2020 #clonar do Github\n",
        "%cd Raianars_July_2020"
      ],
      "execution_count": 4,
      "outputs": [
        {
          "output_type": "stream",
          "text": [
            "Cloning into 'Raianars_July_2020'...\n",
            "remote: Enumerating objects: 172, done.\u001b[K\n",
            "remote: Counting objects: 100% (49/49), done.\u001b[K\n",
            "remote: Compressing objects: 100% (49/49), done.\u001b[K\n",
            "remote: Total 172 (delta 24), reused 0 (delta 0), pack-reused 123\u001b[K\n",
            "Receiving objects: 100% (172/172), 390.34 KiB | 13.94 MiB/s, done.\n",
            "Resolving deltas: 100% (86/86), done.\n",
            "/content/Raianars_Routines/Raianars_July_2020\n"
          ],
          "name": "stdout"
        }
      ]
    },
    {
      "cell_type": "code",
      "metadata": {
        "id": "_E15mKFURR6O"
      },
      "source": [
        "import de_soma_Insight\n",
        "import de_bounds_matriz\n",
        "import Go2MinMax\n",
        "from AvaliaX import AvaliaX\n",
        "\n",
        "\n",
        "\n",
        "\n",
        "\n",
        "# MIN,MAX=Go2MinMax.Intervalo(dim,fchoice)\n",
        "\n",
        "TOTAL=10*dim*its*ITE\n",
        "SOMA=0"
      ],
      "execution_count": 5,
      "outputs": []
    },
    {
      "cell_type": "code",
      "metadata": {
        "id": "rnX8ttNopd1G",
        "colab": {
          "base_uri": "https://localhost:8080/"
        },
        "outputId": "bb0a8632-7a3c-4a61-9763-6c08fa94a131"
      },
      "source": [
        "start_time = time.time()\n",
        "BEST_AGENTS=[]\n",
        "MAT_stat=[]\n",
        "\n",
        "for i in range(RUNS):\n",
        "\n",
        "    pop = np.random.rand(NPAR, dim)\n",
        "    diff=np.zeros(dim)\n",
        "    for ii in range(dim):\n",
        "      diff[ii] = MAX[ii]-MIN[ii]\n",
        "    X = MIN + pop * diff\n",
        "\n",
        "    SOMA=0\n",
        "\n",
        "    for k in range(ITE):\n",
        "      X,BEST,FOBEST,XY,BEST_XY,SOMA= de_soma_Insight.de(MAX,MIN, mut, crossp,dim,its,Fun,X,SOMA,TOTAL)\n",
        "\n",
        "    start_run = (time.time()-start_time)/60\n",
        "    print('time ',start_run,'run=',i,'total=50','Fobj=',FOBEST)  \n",
        "    BEST_AGENTS.append(BEST_XY)"
      ],
      "execution_count": 6,
      "outputs": [
        {
          "output_type": "stream",
          "text": [
            "time  0.8632611314455668 run= 0 total=50 Fobj= 2.6868239766204907e-29\n",
            "time  1.7383598248163858 run= 1 total=50 Fobj= 1.7022799702208337e-28\n",
            "time  2.615458381175995 run= 2 total=50 Fobj= 2.895027809428332e-29\n",
            "time  3.4853981534639993 run= 3 total=50 Fobj= 4.2958986536828327e-29\n",
            "time  4.352722084522247 run= 4 total=50 Fobj= 2.2474478804475232e-30\n",
            "time  5.210846499602 run= 5 total=50 Fobj= 3.754409955395211e-30\n",
            "time  6.070956548055013 run= 6 total=50 Fobj= 3.261019201434974e-30\n",
            "time  6.947302881876627 run= 7 total=50 Fobj= 1.3841782489682236e-29\n",
            "time  7.803645968437195 run= 8 total=50 Fobj= 7.233955837274605e-29\n",
            "time  8.656589810053507 run= 9 total=50 Fobj= 4.280411634958345e-30\n",
            "time  9.51401875813802 run= 10 total=50 Fobj= 5.980356564920726e-30\n",
            "time  10.368182337284088 run= 11 total=50 Fobj= 1.834401276356436e-30\n",
            "time  11.22291676600774 run= 12 total=50 Fobj= 2.0669326422910022e-29\n",
            "time  12.083326971530914 run= 13 total=50 Fobj= 6.756236566364151e-29\n",
            "time  12.940440221627552 run= 14 total=50 Fobj= 2.6524603695559466e-29\n",
            "time  13.799956075350444 run= 15 total=50 Fobj= 2.7405222640812585e-30\n",
            "time  14.656144380569458 run= 16 total=50 Fobj= 1.6472395338776617e-30\n",
            "time  15.508966747919718 run= 17 total=50 Fobj= 3.838968076835995e-30\n",
            "time  16.36277595361074 run= 18 total=50 Fobj= 1.271559775288102e-29\n",
            "time  17.221731098492942 run= 19 total=50 Fobj= 1.2860796804965905e-29\n",
            "time  18.077759536107383 run= 20 total=50 Fobj= 5.6899331714191796e-30\n",
            "time  18.934120746453605 run= 21 total=50 Fobj= 1.3055728460603165e-29\n",
            "time  19.79396247069041 run= 22 total=50 Fobj= 6.295046746416874e-29\n",
            "time  20.65138252178828 run= 23 total=50 Fobj= 2.5492594636652976e-29\n",
            "time  21.51628828048706 run= 24 total=50 Fobj= 4.706365945427279e-30\n",
            "time  22.391174507141113 run= 25 total=50 Fobj= 4.659995942502409e-29\n",
            "time  23.26925773223241 run= 26 total=50 Fobj= 6.99521865654596e-30\n",
            "time  24.147407416502634 run= 27 total=50 Fobj= 4.987851684499711e-29\n",
            "time  25.01588755051295 run= 28 total=50 Fobj= 3.224917147413438e-29\n",
            "time  25.87887581984202 run= 29 total=50 Fobj= 3.312333656619858e-30\n",
            "time  26.73802805741628 run= 30 total=50 Fobj= 3.0354729994384296e-31\n",
            "time  27.593350406487783 run= 31 total=50 Fobj= 3.47109844506737e-30\n",
            "time  28.450788629055022 run= 32 total=50 Fobj= 1.5675676484979498e-29\n",
            "time  29.298395760854085 run= 33 total=50 Fobj= 4.082028997472043e-28\n",
            "time  30.1504873474439 run= 34 total=50 Fobj= 7.30604158399511e-29\n",
            "time  31.001469051837923 run= 35 total=50 Fobj= 2.792411543724453e-29\n",
            "time  31.853819700082145 run= 36 total=50 Fobj= 2.40604026476031e-28\n",
            "time  32.71114698251088 run= 37 total=50 Fobj= 6.48183060232344e-31\n",
            "time  33.566105063756304 run= 38 total=50 Fobj= 5.7454363088439196e-30\n",
            "time  34.42483963171641 run= 39 total=50 Fobj= 1.5168716994614122e-30\n",
            "time  35.27869374752045 run= 40 total=50 Fobj= 3.153885238498848e-30\n",
            "time  36.13685597976049 run= 41 total=50 Fobj= 1.5697932956105829e-30\n",
            "time  36.98721458514532 run= 42 total=50 Fobj= 3.9068287464218905e-29\n",
            "time  37.84964478413264 run= 43 total=50 Fobj= 8.29212677719303e-30\n",
            "time  38.704115513960524 run= 44 total=50 Fobj= 2.7324539831327673e-29\n",
            "time  39.55348280270894 run= 45 total=50 Fobj= 4.141008406077603e-30\n",
            "time  40.40857971906662 run= 46 total=50 Fobj= 7.664812247229691e-30\n",
            "time  41.26301324764888 run= 47 total=50 Fobj= 4.9942077976532546e-30\n",
            "time  42.11838697195053 run= 48 total=50 Fobj= 6.35338927924049e-30\n",
            "time  42.979416795571645 run= 49 total=50 Fobj= 7.049114653006414e-30\n"
          ],
          "name": "stdout"
        }
      ]
    },
    {
      "cell_type": "code",
      "metadata": {
        "id": "lNSN5X-wskcx",
        "colab": {
          "base_uri": "https://localhost:8080/"
        },
        "outputId": "26d5f061-db99-4a9a-b881-77c52c3aa590"
      },
      "source": [
        "############################## Cálculo dos Parâmetros de Avaliação   \n",
        "TIME = (time.time() - start_time)/RUNS\n",
        "BEST_AGENTS=np.array(BEST_AGENTS)\n",
        "BEST_AGENTS_ST= BEST_AGENTS[BEST_AGENTS[:,-1].argsort()]\n",
        "BEST=BEST_AGENTS_ST[0]\n",
        "WORSE=BEST_AGENTS_ST[-1]\n",
        "MEAN=np.mean(BEST_AGENTS,axis=0)\n",
        "MAXFO=BEST_AGENTS[:,-1].max()\n",
        "MINFO=BEST_AGENTS[:,-1].min()\n",
        "STD=BEST_AGENTS[:,-1].std()\n",
        "\n",
        "nome='_DE_STAT_Fo-'+str(mut)+'_CRo-'+str(crossp)+'_D-'+str(dim)+'_Interv-'+str(ITE)\n",
        "print('DE','TOTAL=',TOTAL,'Iterações=',ITE*its,'Dim=', dim,\"Min/Max=\",MIN[0],\"/\",MAX[0],'_',Fun.__name__)\n",
        "print(nome, '\\n')\n",
        "#print('BEST: ',BEST)\n",
        "#print('MÉDIA: ',MEAN)\n",
        "print('MÉDIA: ',MEAN[-1])\n",
        "print('MIN __:',MINFO)\n",
        "print('MAX__: ',MAXFO)\n",
        "print('STD __:',STD)\n",
        "print(\"Tempo Médio= %.3f segundos ---\" % (TIME))\n",
        "print(RUNS,'Rodadas') \n",
        "print()\n",
        "print('BEST: ',BEST)\n",
        "# print('melhor=',BEST_AGENTS[BEST_INDEX])"
      ],
      "execution_count": 7,
      "outputs": [
        {
          "output_type": "stream",
          "text": [
            "DE TOTAL= 600000 Iterações= 2000 Dim= 30 Min/Max= -50 / 50 _ PenaltyOne\n",
            "_DE_STAT_Fo-0.5_CRo-0.5_D-30_Interv-2000 \n",
            "\n",
            "MÉDIA:  3.325596069069406e-29\n",
            "MIN __: 3.0354729994384296e-31\n",
            "MAX__:  4.082028997472043e-28\n",
            "STD __: 6.822279897832303e-29\n",
            "Tempo Médio= 51.576 segundos ---\n",
            "50 Rodadas\n",
            "\n",
            "BEST:  [-1.000000e+00 -1.000000e+00 -1.000000e+00 -1.000000e+00 -1.000000e+00\n",
            " -1.000000e+00 -1.000000e+00 -1.000000e+00 -1.000000e+00 -1.000000e+00\n",
            " -1.000000e+00 -1.000000e+00 -1.000000e+00 -1.000000e+00 -1.000000e+00\n",
            " -1.000000e+00 -1.000000e+00 -1.000000e+00 -1.000000e+00 -1.000000e+00\n",
            " -1.000000e+00 -1.000000e+00 -1.000000e+00 -1.000000e+00 -1.000000e+00\n",
            " -1.000000e+00 -1.000000e+00 -1.000000e+00 -1.000000e+00 -1.000000e+00\n",
            "  3.035473e-31]\n"
          ],
          "name": "stdout"
        }
      ]
    },
    {
      "cell_type": "code",
      "metadata": {
        "id": "Jm9NMXWMq53f",
        "colab": {
          "base_uri": "https://localhost:8080/",
          "height": 54
        },
        "outputId": "c21cd68a-2739-47b5-df71-893ffddab484"
      },
      "source": [
        "'''\n",
        "mut=0.25\n",
        "crossp=0.75\n",
        "MÉDIA:  2.1396295860276955\n",
        "MIN __: 1.802053616279927e-11\n",
        "MAX__:  9.460815772046365\n",
        "STD __: 2.7931350380679962\n",
        "Tempo Médio= 3.534 segundos ---\n",
        "50 Rodadas\n",
        "'''"
      ],
      "execution_count": 8,
      "outputs": [
        {
          "output_type": "execute_result",
          "data": {
            "application/vnd.google.colaboratory.intrinsic+json": {
              "type": "string"
            },
            "text/plain": [
              "'\\nmut=0.25\\ncrossp=0.75\\nMÉDIA:  2.1396295860276955\\nMIN __: 1.802053616279927e-11\\nMAX__:  9.460815772046365\\nSTD __: 2.7931350380679962\\nTempo Médio= 3.534 segundos ---\\n50 Rodadas\\n'"
            ]
          },
          "metadata": {
            "tags": []
          },
          "execution_count": 8
        }
      ]
    }
  ]
}
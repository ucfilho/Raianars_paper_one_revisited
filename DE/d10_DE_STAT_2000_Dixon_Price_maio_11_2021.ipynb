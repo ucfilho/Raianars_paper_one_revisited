{
  "nbformat": 4,
  "nbformat_minor": 0,
  "metadata": {
    "colab": {
      "name": "d10_DE_STAT_2000_Dixon_Price_maio_11_2021.ipynb",
      "provenance": [],
      "collapsed_sections": [],
      "include_colab_link": true
    },
    "kernelspec": {
      "display_name": "Python 3",
      "language": "python",
      "name": "python3"
    },
    "language_info": {
      "codemirror_mode": {
        "name": "ipython",
        "version": 3
      },
      "file_extension": ".py",
      "mimetype": "text/x-python",
      "name": "python",
      "nbconvert_exporter": "python",
      "pygments_lexer": "ipython3",
      "version": "3.6.1"
    }
  },
  "cells": [
    {
      "cell_type": "markdown",
      "metadata": {
        "id": "view-in-github",
        "colab_type": "text"
      },
      "source": [
        "<a href=\"https://colab.research.google.com/github/ucfilho/Raianars_paper_one_revisited/blob/main/DE/d10_DE_STAT_2000_Dixon_Price_maio_11_2021.ipynb\" target=\"_parent\"><img src=\"https://colab.research.google.com/assets/colab-badge.svg\" alt=\"Open In Colab\"/></a>"
      ]
    },
    {
      "cell_type": "code",
      "metadata": {
        "id": "v1OxgXboBKoG"
      },
      "source": [
        "import time\n",
        "import matplotlib.pyplot as plt\n",
        "import numpy as np\n",
        "from random import randint"
      ],
      "execution_count": 1,
      "outputs": []
    },
    {
      "cell_type": "code",
      "metadata": {
        "id": "LbcaeSLNPSIS",
        "colab": {
          "base_uri": "https://localhost:8080/"
        },
        "outputId": "ca8287bd-1d8e-40a5-959c-c2b825ed3e94"
      },
      "source": [
        "!git clone https://github.com/ucfilho/Raianars_Routines #clonar do Github\n",
        "%cd Raianars_Routines"
      ],
      "execution_count": 2,
      "outputs": [
        {
          "output_type": "stream",
          "text": [
            "Cloning into 'Raianars_Routines'...\n",
            "remote: Enumerating objects: 54, done.\u001b[K\n",
            "remote: Counting objects: 100% (54/54), done.\u001b[K\n",
            "remote: Compressing objects: 100% (52/52), done.\u001b[K\n",
            "remote: Total 54 (delta 16), reused 0 (delta 0), pack-reused 0\u001b[K\n",
            "Unpacking objects: 100% (54/54), done.\n",
            "/content/Raianars_Routines\n"
          ],
          "name": "stdout"
        }
      ]
    },
    {
      "cell_type": "code",
      "metadata": {
        "id": "tjabLb6IPUbC"
      },
      "source": [
        "############################### Função\n",
        "import FunctionsNew\n",
        "#'''  \n",
        "############################### Função\n",
        "dim=10 # \n",
        "fchoice='dixon_price_function'\n",
        "Fun=FunctionsNew.dixon_price_function\n",
        "MAX=np.repeat(10,dim)\n",
        "MIN=np.repeat(-10,dim)\n",
        "\n",
        "bounds=[]\n",
        "for k in range(len(MAX)):\n",
        "  bounds.append((MIN[k],MAX[k]))\n",
        "\n",
        "\n",
        "############################### DADOS DE ENTRADA \n",
        "RUNS=50 #NÚMERO DE RODADAS\n",
        "its=1 #10 # quantas vezes vai usar o NPAR antes de alterar de novo\n",
        "ITE=2000 #10 # PONTOS quantas vezes vai alteral NPAR \n",
        "NPAR=100\n",
        "\n",
        "mut=0.50\n",
        "crossp=0.50\n"
      ],
      "execution_count": 3,
      "outputs": []
    },
    {
      "cell_type": "code",
      "metadata": {
        "id": "qMRpE0dGULCI",
        "colab": {
          "base_uri": "https://localhost:8080/"
        },
        "outputId": "2328d32c-5786-40fb-b8cf-e0452d6a463e"
      },
      "source": [
        "!git clone https://github.com/ucfilho/Raianars_July_2020 #clonar do Github\n",
        "%cd Raianars_July_2020"
      ],
      "execution_count": 4,
      "outputs": [
        {
          "output_type": "stream",
          "text": [
            "Cloning into 'Raianars_July_2020'...\n",
            "remote: Enumerating objects: 172, done.\u001b[K\n",
            "remote: Counting objects: 100% (49/49), done.\u001b[K\n",
            "remote: Compressing objects: 100% (49/49), done.\u001b[K\n",
            "remote: Total 172 (delta 24), reused 0 (delta 0), pack-reused 123\u001b[K\n",
            "Receiving objects: 100% (172/172), 390.34 KiB | 2.06 MiB/s, done.\n",
            "Resolving deltas: 100% (86/86), done.\n",
            "/content/Raianars_Routines/Raianars_July_2020\n"
          ],
          "name": "stdout"
        }
      ]
    },
    {
      "cell_type": "code",
      "metadata": {
        "id": "_E15mKFURR6O"
      },
      "source": [
        "import de_soma_Insight\n",
        "import de_bounds_matriz\n",
        "import Go2MinMax\n",
        "from AvaliaX import AvaliaX\n",
        "\n",
        "\n",
        "\n",
        "\n",
        "\n",
        "# MIN,MAX=Go2MinMax.Intervalo(dim,fchoice)\n",
        "\n",
        "TOTAL=10*dim*its*ITE\n",
        "SOMA=0"
      ],
      "execution_count": 5,
      "outputs": []
    },
    {
      "cell_type": "code",
      "metadata": {
        "id": "rnX8ttNopd1G",
        "colab": {
          "base_uri": "https://localhost:8080/"
        },
        "outputId": "a6e8bcfa-35a4-480b-bf49-7c4d99d86bd4"
      },
      "source": [
        "start_time = time.time()\n",
        "BEST_AGENTS=[]\n",
        "MAT_stat=[]\n",
        "\n",
        "for i in range(RUNS):\n",
        "\n",
        "    pop = np.random.rand(NPAR, dim)\n",
        "    diff=np.zeros(dim)\n",
        "    for ii in range(dim):\n",
        "      diff[ii] = MAX[ii]-MIN[ii]\n",
        "    X = MIN + pop * diff\n",
        "\n",
        "    SOMA=0\n",
        "\n",
        "    for k in range(ITE):\n",
        "      X,BEST,FOBEST,XY,BEST_XY,SOMA= de_soma_Insight.de(MAX,MIN, mut, crossp,dim,its,Fun,X,SOMA,TOTAL)\n",
        "\n",
        "    start_run = (time.time()-start_time)/60\n",
        "    print('time ',start_run,'run=',i,'total=50','Fobj=',FOBEST)  \n",
        "    BEST_AGENTS.append(BEST_XY)"
      ],
      "execution_count": 6,
      "outputs": [
        {
          "output_type": "stream",
          "text": [
            "time  0.06894166866938273 run= 0 total=50 Fobj= 1.5119953699617679\n",
            "time  0.13836819330851238 run= 1 total=50 Fobj= 0.6905609312361392\n",
            "time  0.2069223920504252 run= 2 total=50 Fobj= 1.2381999567913673\n",
            "time  0.2752275307973226 run= 3 total=50 Fobj= 0.012673457188558225\n",
            "time  0.3442698200543722 run= 4 total=50 Fobj= 202.18929793179836\n",
            "time  0.4139241099357605 run= 5 total=50 Fobj= 0.99765203374262\n",
            "time  0.4833547592163086 run= 6 total=50 Fobj= 0.8360298990083577\n",
            "time  0.5516310771306355 run= 7 total=50 Fobj= 0.6854274114818554\n",
            "time  0.6202060778935751 run= 8 total=50 Fobj= 34.31382872621457\n",
            "time  0.6876732587814331 run= 9 total=50 Fobj= 0.7231262783476703\n",
            "time  0.7558558861414592 run= 10 total=50 Fobj= 0.04688879574666063\n",
            "time  0.8249354481697082 run= 11 total=50 Fobj= 0.16744223397507696\n",
            "time  0.8934123794237773 run= 12 total=50 Fobj= 2.023086193120628\n",
            "time  0.9614056746164957 run= 13 total=50 Fobj= 0.1374122330891919\n",
            "time  1.0290879408518474 run= 14 total=50 Fobj= 8.362279242610168\n",
            "time  1.0982807238896688 run= 15 total=50 Fobj= 1.215365645997482\n",
            "time  1.1663625240325928 run= 16 total=50 Fobj= 0.6666672292638249\n",
            "time  1.2349998593330382 run= 17 total=50 Fobj= 0.6990637011103344\n",
            "time  1.3024112661679585 run= 18 total=50 Fobj= 0.8266016740633648\n",
            "time  1.3699759602546693 run= 19 total=50 Fobj= 18.318642326931254\n",
            "time  1.4375555992126465 run= 20 total=50 Fobj= 3.4231315701950438\n",
            "time  1.5065648595492045 run= 21 total=50 Fobj= 0.7350810901226761\n",
            "time  1.5752606749534608 run= 22 total=50 Fobj= 0.6668851656465148\n",
            "time  1.6449979861577353 run= 23 total=50 Fobj= 0.008511600168063446\n",
            "time  1.7129125078519185 run= 24 total=50 Fobj= 4.744129259139107\n",
            "time  1.7817249218622844 run= 25 total=50 Fobj= 44.9703992076894\n",
            "time  1.8505099693934122 run= 26 total=50 Fobj= 0.7903931886729099\n",
            "time  1.9203979214032492 run= 27 total=50 Fobj= 1.7057524266744493\n",
            "time  1.990807298819224 run= 28 total=50 Fobj= 1.6096326220627863\n",
            "time  2.060079272588094 run= 29 total=50 Fobj= 4.821529020011108\n",
            "time  2.129015906651815 run= 30 total=50 Fobj= 4.377904878449505\n",
            "time  2.1982801874478657 run= 31 total=50 Fobj= 2.0208007504158183\n",
            "time  2.2681591431299846 run= 32 total=50 Fobj= 3.103032814195828\n",
            "time  2.3383970856666565 run= 33 total=50 Fobj= 14.028217528585628\n",
            "time  2.409081395467122 run= 34 total=50 Fobj= 4.8354445466475555\n",
            "time  2.4773128668467206 run= 35 total=50 Fobj= 0.6666671753190844\n",
            "time  2.5463613470395408 run= 36 total=50 Fobj= 1.4405299419503748\n",
            "time  2.615384848912557 run= 37 total=50 Fobj= 61.06484844901841\n",
            "time  2.6834359606107077 run= 38 total=50 Fobj= 0.19674839795379065\n",
            "time  2.7518443862597146 run= 39 total=50 Fobj= 0.6728974904213845\n",
            "time  2.8209018190701802 run= 40 total=50 Fobj= 0.9424126165583834\n",
            "time  2.8902110775311787 run= 41 total=50 Fobj= 1.250062618115278\n",
            "time  2.959190579255422 run= 42 total=50 Fobj= 24.16312123240438\n",
            "time  3.0293874859809877 run= 43 total=50 Fobj= 0.9646443105048484\n",
            "time  3.099402304490407 run= 44 total=50 Fobj= 51.72528785649584\n",
            "time  3.169179944197337 run= 45 total=50 Fobj= 0.8641408378249571\n",
            "time  3.2378382722536725 run= 46 total=50 Fobj= 0.6666666667354137\n",
            "time  3.3073012510935467 run= 47 total=50 Fobj= 0.6671914792049931\n",
            "time  3.376366976896922 run= 48 total=50 Fobj= 2.0503340793744953\n",
            "time  3.444554344813029 run= 49 total=50 Fobj= 2.2016240126306825\n"
          ],
          "name": "stdout"
        }
      ]
    },
    {
      "cell_type": "code",
      "metadata": {
        "id": "lNSN5X-wskcx",
        "colab": {
          "base_uri": "https://localhost:8080/"
        },
        "outputId": "64136d87-b99a-4fcb-8267-10ce06d970af"
      },
      "source": [
        "############################## Cálculo dos Parâmetros de Avaliação   \n",
        "TIME = (time.time() - start_time)/RUNS\n",
        "BEST_AGENTS=np.array(BEST_AGENTS)\n",
        "BEST_AGENTS_ST= BEST_AGENTS[BEST_AGENTS[:,-1].argsort()]\n",
        "BEST=BEST_AGENTS_ST[0]\n",
        "WORSE=BEST_AGENTS_ST[-1]\n",
        "MEAN=np.mean(BEST_AGENTS,axis=0)\n",
        "MAXFO=BEST_AGENTS[:,-1].max()\n",
        "MINFO=BEST_AGENTS[:,-1].min()\n",
        "STD=BEST_AGENTS[:,-1].std()\n",
        "\n",
        "nome='_DE_STAT_Fo-'+str(mut)+'_CRo-'+str(crossp)+'_D-'+str(dim)+'_Interv-'+str(ITE)\n",
        "print('DE','TOTAL=',TOTAL,'Iterações=',ITE*its,'Dim=', dim,\"Min/Max=\",MIN[0],\"/\",MAX[0],'_',Fun.__name__)\n",
        "print(nome, '\\n')\n",
        "#print('BEST: ',BEST)\n",
        "#print('MÉDIA: ',MEAN)\n",
        "print('MÉDIA: ',MEAN[-1])\n",
        "print('MIN __:',MINFO)\n",
        "print('MAX__: ',MAXFO)\n",
        "print('STD __:',STD)\n",
        "print(\"Tempo Médio= %.3f segundos ---\" % (TIME))\n",
        "print(RUNS,'Rodadas') \n",
        "print()\n",
        "print('BEST: ',BEST)\n",
        "# print('melhor=',BEST_AGENTS[BEST_INDEX])"
      ],
      "execution_count": 7,
      "outputs": [
        {
          "output_type": "stream",
          "text": [
            "DE TOTAL= 200000 Iterações= 2000 Dim= 10 Min/Max= -10 / 10 _ dixon_price_function\n",
            "_DE_STAT_Fo-0.5_CRo-0.5_D-10_Interv-2000 \n",
            "\n",
            "MÉDIA:  10.340805282097362\n",
            "MIN __: 0.008511600168063446\n",
            "MAX__:  202.18929793179836\n",
            "STD __: 30.488156601785814\n",
            "Tempo Médio= 4.134 segundos ---\n",
            "50 Rodadas\n",
            "\n",
            "BEST:  [ 0.91213423  0.66811906  0.57739832  0.53632369  0.51734095  0.50798604\n",
            "  0.50368715  0.50177027  0.50082881 -0.50031399  0.0085116 ]\n"
          ],
          "name": "stdout"
        }
      ]
    },
    {
      "cell_type": "code",
      "metadata": {
        "id": "Jm9NMXWMq53f",
        "colab": {
          "base_uri": "https://localhost:8080/",
          "height": 54
        },
        "outputId": "8e51b427-b031-4f54-eeb3-b05f687d4122"
      },
      "source": [
        "'''\n",
        "mut=0.25\n",
        "crossp=0.75\n",
        "MÉDIA:  2.1396295860276955\n",
        "MIN __: 1.802053616279927e-11\n",
        "MAX__:  9.460815772046365\n",
        "STD __: 2.7931350380679962\n",
        "Tempo Médio= 3.534 segundos ---\n",
        "50 Rodadas\n",
        "'''"
      ],
      "execution_count": 8,
      "outputs": [
        {
          "output_type": "execute_result",
          "data": {
            "application/vnd.google.colaboratory.intrinsic+json": {
              "type": "string"
            },
            "text/plain": [
              "'\\nmut=0.25\\ncrossp=0.75\\nMÉDIA:  2.1396295860276955\\nMIN __: 1.802053616279927e-11\\nMAX__:  9.460815772046365\\nSTD __: 2.7931350380679962\\nTempo Médio= 3.534 segundos ---\\n50 Rodadas\\n'"
            ]
          },
          "metadata": {
            "tags": []
          },
          "execution_count": 8
        }
      ]
    }
  ]
}
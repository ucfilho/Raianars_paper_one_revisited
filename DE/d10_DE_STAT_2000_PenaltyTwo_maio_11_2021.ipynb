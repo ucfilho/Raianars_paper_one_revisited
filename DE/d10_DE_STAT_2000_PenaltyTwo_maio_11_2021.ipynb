{
  "nbformat": 4,
  "nbformat_minor": 0,
  "metadata": {
    "colab": {
      "name": "d10_DE_STAT_2000_PenaltyTwo_maio_11_2021.ipynb",
      "provenance": [],
      "collapsed_sections": [],
      "include_colab_link": true
    },
    "kernelspec": {
      "display_name": "Python 3",
      "language": "python",
      "name": "python3"
    },
    "language_info": {
      "codemirror_mode": {
        "name": "ipython",
        "version": 3
      },
      "file_extension": ".py",
      "mimetype": "text/x-python",
      "name": "python",
      "nbconvert_exporter": "python",
      "pygments_lexer": "ipython3",
      "version": "3.6.1"
    }
  },
  "cells": [
    {
      "cell_type": "markdown",
      "metadata": {
        "id": "view-in-github",
        "colab_type": "text"
      },
      "source": [
        "<a href=\"https://colab.research.google.com/github/ucfilho/Raianars_paper_one_revisited/blob/main/DE/d10_DE_STAT_2000_PenaltyTwo_maio_11_2021.ipynb\" target=\"_parent\"><img src=\"https://colab.research.google.com/assets/colab-badge.svg\" alt=\"Open In Colab\"/></a>"
      ]
    },
    {
      "cell_type": "code",
      "metadata": {
        "id": "v1OxgXboBKoG"
      },
      "source": [
        "import time\n",
        "import matplotlib.pyplot as plt\n",
        "import numpy as np\n",
        "from random import randint"
      ],
      "execution_count": 1,
      "outputs": []
    },
    {
      "cell_type": "code",
      "metadata": {
        "id": "LbcaeSLNPSIS",
        "colab": {
          "base_uri": "https://localhost:8080/"
        },
        "outputId": "3da76ab6-07b5-4c96-b0ac-d99b798b6176"
      },
      "source": [
        "!git clone https://github.com/ucfilho/Raianars_Routines #clonar do Github\n",
        "%cd Raianars_Routines"
      ],
      "execution_count": 2,
      "outputs": [
        {
          "output_type": "stream",
          "text": [
            "Cloning into 'Raianars_Routines'...\n",
            "remote: Enumerating objects: 54, done.\u001b[K\n",
            "remote: Counting objects: 100% (54/54), done.\u001b[K\n",
            "remote: Compressing objects: 100% (52/52), done.\u001b[K\n",
            "remote: Total 54 (delta 16), reused 0 (delta 0), pack-reused 0\u001b[K\n",
            "Unpacking objects: 100% (54/54), done.\n",
            "/content/Raianars_Routines\n"
          ],
          "name": "stdout"
        }
      ]
    },
    {
      "cell_type": "code",
      "metadata": {
        "id": "tjabLb6IPUbC"
      },
      "source": [
        "############################### Função\n",
        "import FunctionsNew\n",
        "#'''  \n",
        "############################### Função\n",
        "dim=10 # \n",
        "fchoice='PenaltyTwo'\n",
        "Fun=FunctionsNew.PenaltyTwo\n",
        "MAX=np.repeat(50,dim)\n",
        "MIN=np.repeat(-50,dim)\n",
        "\n",
        "bounds=[]\n",
        "for k in range(len(MAX)):\n",
        "  bounds.append((MIN[k],MAX[k]))\n",
        "\n",
        "\n",
        "############################### DADOS DE ENTRADA \n",
        "RUNS=50 #NÚMERO DE RODADAS\n",
        "its=1 #10 # quantas vezes vai usar o NPAR antes de alterar de novo\n",
        "ITE=2000 #10 # PONTOS quantas vezes vai alteral NPAR \n",
        "NPAR=100\n",
        "\n",
        "mut=0.50\n",
        "crossp=0.50\n"
      ],
      "execution_count": 3,
      "outputs": []
    },
    {
      "cell_type": "code",
      "metadata": {
        "id": "qMRpE0dGULCI",
        "colab": {
          "base_uri": "https://localhost:8080/"
        },
        "outputId": "d3cbc884-fd9f-40ef-e9cc-72060a948110"
      },
      "source": [
        "!git clone https://github.com/ucfilho/Raianars_July_2020 #clonar do Github\n",
        "%cd Raianars_July_2020"
      ],
      "execution_count": 4,
      "outputs": [
        {
          "output_type": "stream",
          "text": [
            "Cloning into 'Raianars_July_2020'...\n",
            "remote: Enumerating objects: 172, done.\u001b[K\n",
            "remote: Counting objects: 100% (49/49), done.\u001b[K\n",
            "remote: Compressing objects: 100% (49/49), done.\u001b[K\n",
            "remote: Total 172 (delta 24), reused 0 (delta 0), pack-reused 123\u001b[K\n",
            "Receiving objects: 100% (172/172), 390.34 KiB | 11.83 MiB/s, done.\n",
            "Resolving deltas: 100% (86/86), done.\n",
            "/content/Raianars_Routines/Raianars_July_2020\n"
          ],
          "name": "stdout"
        }
      ]
    },
    {
      "cell_type": "code",
      "metadata": {
        "id": "_E15mKFURR6O"
      },
      "source": [
        "import de_soma_Insight\n",
        "import de_bounds_matriz\n",
        "import Go2MinMax\n",
        "from AvaliaX import AvaliaX\n",
        "\n",
        "\n",
        "\n",
        "\n",
        "\n",
        "# MIN,MAX=Go2MinMax.Intervalo(dim,fchoice)\n",
        "\n",
        "TOTAL=10*dim*its*ITE\n",
        "SOMA=0"
      ],
      "execution_count": 5,
      "outputs": []
    },
    {
      "cell_type": "code",
      "metadata": {
        "id": "rnX8ttNopd1G",
        "colab": {
          "base_uri": "https://localhost:8080/"
        },
        "outputId": "b59b5edf-16c5-4c6d-f3da-525f65160c7e"
      },
      "source": [
        "start_time = time.time()\n",
        "BEST_AGENTS=[]\n",
        "MAT_stat=[]\n",
        "\n",
        "for i in range(RUNS):\n",
        "\n",
        "    pop = np.random.rand(NPAR, dim)\n",
        "    diff=np.zeros(dim)\n",
        "    for ii in range(dim):\n",
        "      diff[ii] = MAX[ii]-MIN[ii]\n",
        "    X = MIN + pop * diff\n",
        "\n",
        "    SOMA=0\n",
        "\n",
        "    for k in range(ITE):\n",
        "      X,BEST,FOBEST,XY,BEST_XY,SOMA= de_soma_Insight.de(MAX,MIN, mut, crossp,dim,its,Fun,X,SOMA,TOTAL)\n",
        "\n",
        "    start_run = (time.time()-start_time)/60\n",
        "    print('time ',start_run,'run=',i,'total=50','Fobj=',FOBEST)  \n",
        "    BEST_AGENTS.append(BEST_XY)"
      ],
      "execution_count": 6,
      "outputs": [
        {
          "output_type": "stream",
          "text": [
            "time  0.12969468434651693 run= 0 total=50 Fobj= 1.5628378093485278\n",
            "time  0.25470954974492394 run= 1 total=50 Fobj= 4.2028485747569375\n",
            "time  0.38066349029541013 run= 2 total=50 Fobj= 0.011074210187827407\n",
            "time  0.5064800540606181 run= 3 total=50 Fobj= 0.16463413055288337\n",
            "time  0.6336182634035746 run= 4 total=50 Fobj= 0.15810444832473292\n",
            "time  0.7604594310124715 run= 5 total=50 Fobj= 3.230576254904049\n",
            "time  0.8917312979698181 run= 6 total=50 Fobj= 392161.3517497911\n",
            "time  1.0158091227213542 run= 7 total=50 Fobj= 0.001054023724298492\n",
            "time  1.141459548473358 run= 8 total=50 Fobj= 0.7839046462482117\n",
            "time  1.2668081005414327 run= 9 total=50 Fobj= 0.011008492368852575\n",
            "time  1.3920156677563986 run= 10 total=50 Fobj= 9.010543773947091e-05\n",
            "time  1.5169094959894815 run= 11 total=50 Fobj= 0.03065330630580003\n",
            "time  1.6416220823923746 run= 12 total=50 Fobj= 2.477723991128654\n",
            "time  1.765435226758321 run= 13 total=50 Fobj= 33.88513273524847\n",
            "time  1.8900458216667175 run= 14 total=50 Fobj= 0.00036363441853256125\n",
            "time  2.0152847290039064 run= 15 total=50 Fobj= 0.10988214597246398\n",
            "time  2.1391979018847147 run= 16 total=50 Fobj= 0.03950460875195799\n",
            "time  2.264568253358205 run= 17 total=50 Fobj= 115.94050290004446\n",
            "time  2.3887651642163594 run= 18 total=50 Fobj= 1.1303984118478865\n",
            "time  2.513402291138967 run= 19 total=50 Fobj= 5.534687692465637e-06\n",
            "time  2.6398003657658893 run= 20 total=50 Fobj= 3.0198618176468104\n",
            "time  2.767557215690613 run= 21 total=50 Fobj= 155205.54271055103\n",
            "time  2.8939811905225117 run= 22 total=50 Fobj= 0.03948600714486267\n",
            "time  3.0178213318188987 run= 23 total=50 Fobj= 3.7515906466533604\n",
            "time  3.144472094376882 run= 24 total=50 Fobj= 64578.110824151205\n",
            "time  3.272912311553955 run= 25 total=50 Fobj= 205400.64627659152\n",
            "time  3.398943535486857 run= 26 total=50 Fobj= 10.089217195661156\n",
            "time  3.5241095542907717 run= 27 total=50 Fobj= 166.45623264088977\n",
            "time  3.647766331831614 run= 28 total=50 Fobj= 3.664236446992646\n",
            "time  3.772446799278259 run= 29 total=50 Fobj= 0.009603971042118178\n",
            "time  3.8975160082181293 run= 30 total=50 Fobj= 62.504135074097626\n",
            "time  4.021872516473135 run= 31 total=50 Fobj= 0.702970555141929\n",
            "time  4.145181775093079 run= 32 total=50 Fobj= 1.3832330061856108\n",
            "time  4.2695527593294775 run= 33 total=50 Fobj= 0.0037384720613477724\n",
            "time  4.393822356065114 run= 34 total=50 Fobj= 1.3091093771421516\n",
            "time  4.520720918973287 run= 35 total=50 Fobj= 59.343311288261404\n",
            "time  4.6450359185536705 run= 36 total=50 Fobj= 1.3780655249439047\n",
            "time  4.767982125282288 run= 37 total=50 Fobj= 0.1008337204284851\n",
            "time  4.891261025269826 run= 38 total=50 Fobj= 0.0005976544002673735\n",
            "time  5.015567048390706 run= 39 total=50 Fobj= 1.1410208975499646e-05\n",
            "time  5.14478630622228 run= 40 total=50 Fobj= 103455.47402752077\n",
            "time  5.274495077133179 run= 41 total=50 Fobj= 2.150495263701214\n",
            "time  5.400629246234894 run= 42 total=50 Fobj= 1.327650322564969\n",
            "time  5.528016185760498 run= 43 total=50 Fobj= 3.9296791428031286\n",
            "time  5.652307804425558 run= 44 total=50 Fobj= 2.181540331816682\n",
            "time  5.777438938617706 run= 45 total=50 Fobj= 1.3393802209337142\n",
            "time  5.901254860560099 run= 46 total=50 Fobj= 4.643366860671711\n",
            "time  6.026399528980255 run= 47 total=50 Fobj= 8.25771517714381e-05\n",
            "time  6.151141679286956 run= 48 total=50 Fobj= 122.58644187522668\n",
            "time  6.277802896499634 run= 49 total=50 Fobj= 0.04731802116047648\n"
          ],
          "name": "stdout"
        }
      ]
    },
    {
      "cell_type": "code",
      "metadata": {
        "id": "lNSN5X-wskcx",
        "colab": {
          "base_uri": "https://localhost:8080/"
        },
        "outputId": "2fc9b47d-03b6-446e-d2f7-e198164d8e05"
      },
      "source": [
        "############################## Cálculo dos Parâmetros de Avaliação   \n",
        "TIME = (time.time() - start_time)/RUNS\n",
        "BEST_AGENTS=np.array(BEST_AGENTS)\n",
        "BEST_AGENTS_ST= BEST_AGENTS[BEST_AGENTS[:,-1].argsort()]\n",
        "BEST=BEST_AGENTS_ST[0]\n",
        "WORSE=BEST_AGENTS_ST[-1]\n",
        "MEAN=np.mean(BEST_AGENTS,axis=0)\n",
        "MAXFO=BEST_AGENTS[:,-1].max()\n",
        "MINFO=BEST_AGENTS[:,-1].min()\n",
        "STD=BEST_AGENTS[:,-1].std()\n",
        "\n",
        "nome='_DE_STAT_Fo-'+str(mut)+'_CRo-'+str(crossp)+'_D-'+str(dim)+'_Interv-'+str(ITE)\n",
        "print('DE','TOTAL=',TOTAL,'Iterações=',ITE*its,'Dim=', dim,\"Min/Max=\",MIN[0],\"/\",MAX[0],'_',Fun.__name__)\n",
        "print(nome, '\\n')\n",
        "#print('BEST: ',BEST)\n",
        "#print('MÉDIA: ',MEAN)\n",
        "print('MÉDIA: ',MEAN[-1])\n",
        "print('MIN __:',MINFO)\n",
        "print('MAX__: ',MAXFO)\n",
        "print('STD __:',STD)\n",
        "print(\"Tempo Médio= %.3f segundos ---\" % (TIME))\n",
        "print(RUNS,'Rodadas') \n",
        "print()\n",
        "print('BEST: ',BEST)\n",
        "# print('melhor=',BEST_AGENTS[BEST_INDEX])"
      ],
      "execution_count": 7,
      "outputs": [
        {
          "output_type": "stream",
          "text": [
            "DE TOTAL= 200000 Iterações= 2000 Dim= 10 Min/Max= -50 / 50 _ PenaltyTwo\n",
            "_DE_STAT_Fo-0.5_CRo-0.5_D-10_Interv-2000 \n",
            "\n",
            "MÉDIA:  18428.336561559896\n",
            "MIN __: 5.534687692465637e-06\n",
            "MAX__:  392161.3517497911\n",
            "STD __: 66024.53556893134\n",
            "Tempo Médio= 7.534 segundos ---\n",
            "50 Rodadas\n",
            "\n",
            "BEST:  [9.99407035e-01 1.00000000e+00 1.00000000e+00 9.99999986e-01\n",
            " 1.00000000e+00 1.00000112e+00 1.00486399e+00 1.00000000e+00\n",
            " 1.00000001e+00 9.99675730e-01 5.53468769e-06]\n"
          ],
          "name": "stdout"
        }
      ]
    },
    {
      "cell_type": "code",
      "metadata": {
        "id": "Jm9NMXWMq53f",
        "colab": {
          "base_uri": "https://localhost:8080/",
          "height": 54
        },
        "outputId": "976a1c56-1ef0-4f73-a5d5-8ac6d5d4b59e"
      },
      "source": [
        "'''\n",
        "mut=0.25\n",
        "crossp=0.75\n",
        "MÉDIA:  2.1396295860276955\n",
        "MIN __: 1.802053616279927e-11\n",
        "MAX__:  9.460815772046365\n",
        "STD __: 2.7931350380679962\n",
        "Tempo Médio= 3.534 segundos ---\n",
        "50 Rodadas\n",
        "'''"
      ],
      "execution_count": 8,
      "outputs": [
        {
          "output_type": "execute_result",
          "data": {
            "application/vnd.google.colaboratory.intrinsic+json": {
              "type": "string"
            },
            "text/plain": [
              "'\\nmut=0.25\\ncrossp=0.75\\nMÉDIA:  2.1396295860276955\\nMIN __: 1.802053616279927e-11\\nMAX__:  9.460815772046365\\nSTD __: 2.7931350380679962\\nTempo Médio= 3.534 segundos ---\\n50 Rodadas\\n'"
            ]
          },
          "metadata": {
            "tags": []
          },
          "execution_count": 8
        }
      ]
    }
  ]
}
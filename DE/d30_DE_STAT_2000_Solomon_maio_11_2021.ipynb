{
  "nbformat": 4,
  "nbformat_minor": 0,
  "metadata": {
    "accelerator": "GPU",
    "colab": {
      "name": "d30_DE_STAT_2000_Solomon_maio_11_2021.ipynb",
      "provenance": [],
      "collapsed_sections": [],
      "include_colab_link": true
    },
    "kernelspec": {
      "display_name": "Python 3",
      "language": "python",
      "name": "python3"
    },
    "language_info": {
      "codemirror_mode": {
        "name": "ipython",
        "version": 3
      },
      "file_extension": ".py",
      "mimetype": "text/x-python",
      "name": "python",
      "nbconvert_exporter": "python",
      "pygments_lexer": "ipython3",
      "version": "3.6.1"
    }
  },
  "cells": [
    {
      "cell_type": "markdown",
      "metadata": {
        "id": "view-in-github",
        "colab_type": "text"
      },
      "source": [
        "<a href=\"https://colab.research.google.com/github/ucfilho/Raianars_paper_one_revisited/blob/main/DE/d30_DE_STAT_2000_Solomon_maio_11_2021.ipynb\" target=\"_parent\"><img src=\"https://colab.research.google.com/assets/colab-badge.svg\" alt=\"Open In Colab\"/></a>"
      ]
    },
    {
      "cell_type": "code",
      "metadata": {
        "id": "v1OxgXboBKoG"
      },
      "source": [
        "import time\n",
        "import matplotlib.pyplot as plt\n",
        "import numpy as np\n",
        "from random import randint"
      ],
      "execution_count": 1,
      "outputs": []
    },
    {
      "cell_type": "code",
      "metadata": {
        "id": "LbcaeSLNPSIS",
        "colab": {
          "base_uri": "https://localhost:8080/"
        },
        "outputId": "83a756de-c080-4786-e2d6-a26ca4f1f956"
      },
      "source": [
        "!git clone https://github.com/ucfilho/Raianars_Routines #clonar do Github\n",
        "%cd Raianars_Routines"
      ],
      "execution_count": 2,
      "outputs": [
        {
          "output_type": "stream",
          "text": [
            "Cloning into 'Raianars_Routines'...\n",
            "remote: Enumerating objects: 54, done.\u001b[K\n",
            "remote: Counting objects: 100% (54/54), done.\u001b[K\n",
            "remote: Compressing objects: 100% (52/52), done.\u001b[K\n",
            "remote: Total 54 (delta 16), reused 0 (delta 0), pack-reused 0\u001b[K\n",
            "Unpacking objects: 100% (54/54), done.\n",
            "/content/Raianars_Routines\n"
          ],
          "name": "stdout"
        }
      ]
    },
    {
      "cell_type": "code",
      "metadata": {
        "id": "tjabLb6IPUbC"
      },
      "source": [
        "############################### Função\n",
        "import FunctionsNew\n",
        "#'''  \n",
        "############################### Função\n",
        "dim=30 # \n",
        "fchoice='Salomon'\n",
        "Fun=FunctionsNew.Salomon\n",
        "MAX=np.repeat(100,dim)\n",
        "MIN=np.repeat(-100,dim)\n",
        "\n",
        "bounds=[]\n",
        "for k in range(len(MAX)):\n",
        "  bounds.append((MIN[k],MAX[k]))\n",
        "\n",
        "\n",
        "############################### DADOS DE ENTRADA \n",
        "RUNS=50 #NÚMERO DE RODADAS\n",
        "its=1 #10 # quantas vezes vai usar o NPAR antes de alterar de novo\n",
        "ITE=2000 #10 # PONTOS quantas vezes vai alteral NPAR \n",
        "NPAR=100\n",
        "\n",
        "mut=0.50\n",
        "crossp=0.50\n"
      ],
      "execution_count": 3,
      "outputs": []
    },
    {
      "cell_type": "code",
      "metadata": {
        "id": "qMRpE0dGULCI",
        "colab": {
          "base_uri": "https://localhost:8080/"
        },
        "outputId": "d35487ac-419b-4ac7-9526-239efce757d8"
      },
      "source": [
        "!git clone https://github.com/ucfilho/Raianars_July_2020 #clonar do Github\n",
        "%cd Raianars_July_2020"
      ],
      "execution_count": 4,
      "outputs": [
        {
          "output_type": "stream",
          "text": [
            "Cloning into 'Raianars_July_2020'...\n",
            "remote: Enumerating objects: 172, done.\u001b[K\n",
            "remote: Counting objects: 100% (49/49), done.\u001b[K\n",
            "remote: Compressing objects: 100% (49/49), done.\u001b[K\n",
            "remote: Total 172 (delta 24), reused 0 (delta 0), pack-reused 123\u001b[K\n",
            "Receiving objects: 100% (172/172), 390.34 KiB | 4.82 MiB/s, done.\n",
            "Resolving deltas: 100% (86/86), done.\n",
            "/content/Raianars_Routines/Raianars_July_2020\n"
          ],
          "name": "stdout"
        }
      ]
    },
    {
      "cell_type": "code",
      "metadata": {
        "id": "_E15mKFURR6O"
      },
      "source": [
        "import de_soma_Insight\n",
        "import de_bounds_matriz\n",
        "import Go2MinMax\n",
        "from AvaliaX import AvaliaX\n",
        "\n",
        "\n",
        "\n",
        "\n",
        "\n",
        "# MIN,MAX=Go2MinMax.Intervalo(dim,fchoice)\n",
        "\n",
        "TOTAL=10*dim*its*ITE\n",
        "SOMA=0"
      ],
      "execution_count": 5,
      "outputs": []
    },
    {
      "cell_type": "code",
      "metadata": {
        "id": "rnX8ttNopd1G",
        "colab": {
          "base_uri": "https://localhost:8080/"
        },
        "outputId": "b052e596-4d75-42c7-ccb0-a7dc72025db0"
      },
      "source": [
        "start_time = time.time()\n",
        "BEST_AGENTS=[]\n",
        "MAT_stat=[]\n",
        "\n",
        "for i in range(RUNS):\n",
        "\n",
        "    pop = np.random.rand(NPAR, dim)\n",
        "    diff=np.zeros(dim)\n",
        "    for ii in range(dim):\n",
        "      diff[ii] = MAX[ii]-MIN[ii]\n",
        "    X = MIN + pop * diff\n",
        "\n",
        "    SOMA=0\n",
        "\n",
        "    for k in range(ITE):\n",
        "      X,BEST,FOBEST,XY,BEST_XY,SOMA= de_soma_Insight.de(MAX,MIN, mut, crossp,dim,its,Fun,X,SOMA,TOTAL)\n",
        "\n",
        "    start_run = (time.time()-start_time)/60\n",
        "    print('time ',start_run,'run=',i,'total=50','Fobj=',FOBEST)  \n",
        "    BEST_AGENTS.append(BEST_XY)"
      ],
      "execution_count": 6,
      "outputs": [
        {
          "output_type": "stream",
          "text": [
            "time  0.3870386123657227 run= 0 total=50 Fobj= 0.1998739881010291\n",
            "time  0.768315319220225 run= 1 total=50 Fobj= 0.1998744704029468\n",
            "time  1.1481613278388978 run= 2 total=50 Fobj= 0.1998739991784323\n",
            "time  1.528743358453115 run= 3 total=50 Fobj= 0.20115960317397732\n",
            "time  1.909933376312256 run= 4 total=50 Fobj= 0.19987641798008302\n",
            "time  2.2965430061022443 run= 5 total=50 Fobj= 0.19987334833784706\n",
            "time  2.6789695898691814 run= 6 total=50 Fobj= 0.19987339375074978\n",
            "time  3.0613847295443217 run= 7 total=50 Fobj= 0.1998752150424141\n",
            "time  3.441464980443319 run= 8 total=50 Fobj= 0.2294104639125164\n",
            "time  3.8261642416318256 run= 9 total=50 Fobj= 0.1998733636929223\n",
            "time  4.209894053141276 run= 10 total=50 Fobj= 0.19987342288941967\n",
            "time  4.5931707382202145 run= 11 total=50 Fobj= 0.19987350304267215\n",
            "time  4.9710655331611635 run= 12 total=50 Fobj= 0.19987350366938614\n",
            "time  5.353794864813486 run= 13 total=50 Fobj= 0.1999508088793684\n",
            "time  5.73468914826711 run= 14 total=50 Fobj= 0.199905119567944\n",
            "time  6.11769902308782 run= 15 total=50 Fobj= 0.1998824609412319\n",
            "time  6.5013975938161215 run= 16 total=50 Fobj= 0.19987334790156264\n",
            "time  6.879449824492137 run= 17 total=50 Fobj= 0.19987717435436247\n",
            "time  7.264819792906443 run= 18 total=50 Fobj= 0.19989327660080555\n",
            "time  7.643760617574056 run= 19 total=50 Fobj= 0.1998742170819392\n",
            "time  8.02429134051005 run= 20 total=50 Fobj= 0.19987763991140328\n",
            "time  8.403635887304942 run= 21 total=50 Fobj= 0.1999574114761085\n",
            "time  8.782128381729127 run= 22 total=50 Fobj= 0.19988210255948652\n",
            "time  9.167977913220723 run= 23 total=50 Fobj= 0.20239992282785216\n",
            "time  9.548231534163158 run= 24 total=50 Fobj= 0.19987359709455996\n",
            "time  9.927302356561025 run= 25 total=50 Fobj= 0.19987335190614722\n",
            "time  10.305173071225484 run= 26 total=50 Fobj= 0.19987335841711307\n",
            "time  10.685546199480692 run= 27 total=50 Fobj= 0.19988401884259988\n",
            "time  11.065933012962342 run= 28 total=50 Fobj= 0.1998910960922361\n",
            "time  11.44630844593048 run= 29 total=50 Fobj= 0.20003970141082886\n",
            "time  11.825975131988525 run= 30 total=50 Fobj= 0.1998734414237765\n",
            "time  12.208868288993836 run= 31 total=50 Fobj= 0.19988132025894337\n",
            "time  12.588019227981567 run= 32 total=50 Fobj= 0.19988375047145593\n",
            "time  12.967385828495026 run= 33 total=50 Fobj= 0.19989069556883865\n",
            "time  13.3484433054924 run= 34 total=50 Fobj= 0.1998741423056298\n",
            "time  13.728292187054953 run= 35 total=50 Fobj= 0.1998733552583251\n",
            "time  14.10735893646876 run= 36 total=50 Fobj= 0.2024766859182972\n",
            "time  14.491006275018057 run= 37 total=50 Fobj= 0.19987939340973127\n",
            "time  14.872484811147054 run= 38 total=50 Fobj= 0.1998733508866605\n",
            "time  15.250761783123016 run= 39 total=50 Fobj= 0.19987397649418617\n",
            "time  15.630649224917095 run= 40 total=50 Fobj= 0.19987804065499828\n",
            "time  16.011574681599935 run= 41 total=50 Fobj= 0.19987335547150936\n",
            "time  16.393305345376334 run= 42 total=50 Fobj= 0.19987341983182483\n",
            "time  16.77372237841288 run= 43 total=50 Fobj= 0.19988767731103732\n",
            "time  17.155961406230926 run= 44 total=50 Fobj= 0.1998738856278086\n",
            "time  17.541024132569632 run= 45 total=50 Fobj= 0.1999497640898511\n",
            "time  17.916964904467264 run= 46 total=50 Fobj= 0.19987822413633075\n",
            "time  18.2992600162824 run= 47 total=50 Fobj= 0.1998888030261543\n",
            "time  18.679963592688242 run= 48 total=50 Fobj= 0.19987861623299394\n",
            "time  19.060813101132712 run= 49 total=50 Fobj= 0.29987345759747985\n"
          ],
          "name": "stdout"
        }
      ]
    },
    {
      "cell_type": "code",
      "metadata": {
        "id": "lNSN5X-wskcx",
        "colab": {
          "base_uri": "https://localhost:8080/"
        },
        "outputId": "1a088eab-4a4b-4898-bd6b-6930f4e061a8"
      },
      "source": [
        "############################## Cálculo dos Parâmetros de Avaliação   \n",
        "TIME = (time.time() - start_time)/RUNS\n",
        "BEST_AGENTS=np.array(BEST_AGENTS)\n",
        "BEST_AGENTS_ST= BEST_AGENTS[BEST_AGENTS[:,-1].argsort()]\n",
        "BEST=BEST_AGENTS_ST[0]\n",
        "WORSE=BEST_AGENTS_ST[-1]\n",
        "MEAN=np.mean(BEST_AGENTS,axis=0)\n",
        "MAXFO=BEST_AGENTS[:,-1].max()\n",
        "MINFO=BEST_AGENTS[:,-1].min()\n",
        "STD=BEST_AGENTS[:,-1].std()\n",
        "\n",
        "nome='_DE_STAT_Fo-'+str(mut)+'_CRo-'+str(crossp)+'_D-'+str(dim)+'_Interv-'+str(ITE)\n",
        "print('DE','TOTAL=',TOTAL,'Iterações=',ITE*its,'Dim=', dim,\"Min/Max=\",MIN[0],\"/\",MAX[0],'_',Fun.__name__)\n",
        "print(nome, '\\n')\n",
        "#print('BEST: ',BEST)\n",
        "#print('MÉDIA: ',MEAN)\n",
        "print('MÉDIA: ',MEAN[-1])\n",
        "print('MIN __:',MINFO)\n",
        "print('MAX__: ',MAXFO)\n",
        "print('STD __:',STD)\n",
        "print(\"Tempo Médio= %.3f segundos ---\" % (TIME))\n",
        "print(RUNS,'Rodadas') \n",
        "print()\n",
        "print('BEST: ',BEST)\n",
        "# print('melhor=',BEST_AGENTS[BEST_INDEX])"
      ],
      "execution_count": 7,
      "outputs": [
        {
          "output_type": "stream",
          "text": [
            "DE TOTAL= 600000 Iterações= 2000 Dim= 30 Min/Max= -100 / 100 _ Salomon\n",
            "_DE_STAT_Fo-0.5_CRo-0.5_D-30_Interv-2000 \n",
            "\n",
            "MÉDIA:  0.20260457310031563\n",
            "MIN __: 0.19987334790156264\n",
            "MAX__:  0.29987345759747985\n",
            "STD __: 0.014501274883045224\n",
            "Tempo Médio= 22.874 segundos ---\n",
            "50 Rodadas\n",
            "\n",
            "BEST:  [-0.0827657  -0.33233498  0.28099535 -0.25695484  0.55431596  0.2393764\n",
            " -0.55195208  0.12380945 -0.09483995  0.0223298  -0.5557415   0.10682455\n",
            "  0.20787729  0.17100489  0.92743102 -0.20915059  0.61642221  0.41299637\n",
            " -0.05382919 -0.51811386 -0.58830798 -0.24052942 -0.17531376  0.09253497\n",
            " -0.5004754   0.30120829  0.0099538  -0.18321011  0.30913064  0.03789917\n",
            "  0.19987335]\n"
          ],
          "name": "stdout"
        }
      ]
    },
    {
      "cell_type": "code",
      "metadata": {
        "id": "Jm9NMXWMq53f",
        "colab": {
          "base_uri": "https://localhost:8080/",
          "height": 54
        },
        "outputId": "4d561ebb-a77f-4e5b-fabb-a71a86a7e501"
      },
      "source": [
        "'''\n",
        "mut=0.25\n",
        "crossp=0.75\n",
        "MÉDIA:  2.1396295860276955\n",
        "MIN __: 1.802053616279927e-11\n",
        "MAX__:  9.460815772046365\n",
        "STD __: 2.7931350380679962\n",
        "Tempo Médio= 3.534 segundos ---\n",
        "50 Rodadas\n",
        "'''"
      ],
      "execution_count": 8,
      "outputs": [
        {
          "output_type": "execute_result",
          "data": {
            "application/vnd.google.colaboratory.intrinsic+json": {
              "type": "string"
            },
            "text/plain": [
              "'\\nmut=0.25\\ncrossp=0.75\\nMÉDIA:  2.1396295860276955\\nMIN __: 1.802053616279927e-11\\nMAX__:  9.460815772046365\\nSTD __: 2.7931350380679962\\nTempo Médio= 3.534 segundos ---\\n50 Rodadas\\n'"
            ]
          },
          "metadata": {
            "tags": []
          },
          "execution_count": 8
        }
      ]
    }
  ]
}
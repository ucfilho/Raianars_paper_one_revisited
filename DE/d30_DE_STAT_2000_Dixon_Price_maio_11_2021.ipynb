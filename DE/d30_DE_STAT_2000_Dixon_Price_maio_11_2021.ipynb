{
  "nbformat": 4,
  "nbformat_minor": 0,
  "metadata": {
    "accelerator": "GPU",
    "colab": {
      "name": "d30_DE_STAT_2000_Dixon_Price_maio_11_2021.ipynb",
      "provenance": [],
      "collapsed_sections": [],
      "include_colab_link": true
    },
    "kernelspec": {
      "display_name": "Python 3",
      "language": "python",
      "name": "python3"
    },
    "language_info": {
      "codemirror_mode": {
        "name": "ipython",
        "version": 3
      },
      "file_extension": ".py",
      "mimetype": "text/x-python",
      "name": "python",
      "nbconvert_exporter": "python",
      "pygments_lexer": "ipython3",
      "version": "3.6.1"
    }
  },
  "cells": [
    {
      "cell_type": "markdown",
      "metadata": {
        "id": "view-in-github",
        "colab_type": "text"
      },
      "source": [
        "<a href=\"https://colab.research.google.com/github/ucfilho/Raianars_paper_one_revisited/blob/main/DE/d30_DE_STAT_2000_Dixon_Price_maio_11_2021.ipynb\" target=\"_parent\"><img src=\"https://colab.research.google.com/assets/colab-badge.svg\" alt=\"Open In Colab\"/></a>"
      ]
    },
    {
      "cell_type": "code",
      "metadata": {
        "id": "v1OxgXboBKoG"
      },
      "source": [
        "import time\n",
        "import matplotlib.pyplot as plt\n",
        "import numpy as np\n",
        "from random import randint"
      ],
      "execution_count": 1,
      "outputs": []
    },
    {
      "cell_type": "code",
      "metadata": {
        "id": "LbcaeSLNPSIS",
        "colab": {
          "base_uri": "https://localhost:8080/"
        },
        "outputId": "302ba574-6160-4687-d661-c4fde279d81a"
      },
      "source": [
        "!git clone https://github.com/ucfilho/Raianars_Routines #clonar do Github\n",
        "%cd Raianars_Routines"
      ],
      "execution_count": 2,
      "outputs": [
        {
          "output_type": "stream",
          "text": [
            "fatal: destination path 'Raianars_Routines' already exists and is not an empty directory.\n",
            "/content/Raianars_Routines\n"
          ],
          "name": "stdout"
        }
      ]
    },
    {
      "cell_type": "code",
      "metadata": {
        "id": "tjabLb6IPUbC"
      },
      "source": [
        "############################### Função\n",
        "import FunctionsNew\n",
        "#'''  \n",
        "############################### Função\n",
        "dim=30 # \n",
        "fchoice='dixon_price_function'\n",
        "Fun=FunctionsNew.dixon_price_function\n",
        "MAX=np.repeat(10,dim)\n",
        "MIN=np.repeat(-10,dim)\n",
        "\n",
        "bounds=[]\n",
        "for k in range(len(MAX)):\n",
        "  bounds.append((MIN[k],MAX[k]))\n",
        "\n",
        "\n",
        "############################### DADOS DE ENTRADA \n",
        "RUNS=50 #NÚMERO DE RODADAS\n",
        "its=1 #10 # quantas vezes vai usar o NPAR antes de alterar de novo\n",
        "ITE=2000 #10 # PONTOS quantas vezes vai alteral NPAR \n",
        "NPAR=100\n",
        "\n",
        "mut=0.50\n",
        "crossp=0.50\n"
      ],
      "execution_count": 3,
      "outputs": []
    },
    {
      "cell_type": "code",
      "metadata": {
        "id": "qMRpE0dGULCI",
        "colab": {
          "base_uri": "https://localhost:8080/"
        },
        "outputId": "065023d6-1dcf-4118-c4f4-4ccb4960275b"
      },
      "source": [
        "!git clone https://github.com/ucfilho/Raianars_July_2020 #clonar do Github\n",
        "%cd Raianars_July_2020"
      ],
      "execution_count": 4,
      "outputs": [
        {
          "output_type": "stream",
          "text": [
            "fatal: destination path 'Raianars_July_2020' already exists and is not an empty directory.\n",
            "/content/Raianars_Routines/Raianars_July_2020\n"
          ],
          "name": "stdout"
        }
      ]
    },
    {
      "cell_type": "code",
      "metadata": {
        "id": "_E15mKFURR6O"
      },
      "source": [
        "import de_soma_Insight\n",
        "import de_bounds_matriz\n",
        "import Go2MinMax\n",
        "from AvaliaX import AvaliaX\n",
        "\n",
        "\n",
        "\n",
        "\n",
        "\n",
        "# MIN,MAX=Go2MinMax.Intervalo(dim,fchoice)\n",
        "\n",
        "TOTAL=10*dim*its*ITE\n",
        "SOMA=0"
      ],
      "execution_count": 5,
      "outputs": []
    },
    {
      "cell_type": "code",
      "metadata": {
        "id": "rnX8ttNopd1G",
        "colab": {
          "base_uri": "https://localhost:8080/"
        },
        "outputId": "10f289f7-1a31-46cf-9a61-458a366d11db"
      },
      "source": [
        "start_time = time.time()\n",
        "BEST_AGENTS=[]\n",
        "MAT_stat=[]\n",
        "\n",
        "for i in range(RUNS):\n",
        "\n",
        "    pop = np.random.rand(NPAR, dim)\n",
        "    diff=np.zeros(dim)\n",
        "    for ii in range(dim):\n",
        "      diff[ii] = MAX[ii]-MIN[ii]\n",
        "    X = MIN + pop * diff\n",
        "\n",
        "    SOMA=0\n",
        "\n",
        "    for k in range(ITE):\n",
        "      X,BEST,FOBEST,XY,BEST_XY,SOMA= de_soma_Insight.de(MAX,MIN, mut, crossp,dim,its,Fun,X,SOMA,TOTAL)\n",
        "\n",
        "    start_run = (time.time()-start_time)/60\n",
        "    print('time ',start_run,'run=',i,'total=50','Fobj=',FOBEST)  \n",
        "    BEST_AGENTS.append(BEST_XY)"
      ],
      "execution_count": 6,
      "outputs": [
        {
          "output_type": "stream",
          "text": [
            "time  0.38445177872975667 run= 0 total=50 Fobj= 0.6666666666679402\n",
            "time  0.7688683152198792 run= 1 total=50 Fobj= 0.6666667756646834\n",
            "time  1.156240693728129 run= 2 total=50 Fobj= 0.6666666666666681\n",
            "time  1.5433028618494669 run= 3 total=50 Fobj= 0.6666741027747785\n",
            "time  1.9262614965438842 run= 4 total=50 Fobj= 0.6666666666666667\n",
            "time  2.308472673098246 run= 5 total=50 Fobj= 0.6666666666732448\n",
            "time  2.7023990948994956 run= 6 total=50 Fobj= 0.6666666666666669\n",
            "time  3.0862045526504516 run= 7 total=50 Fobj= 0.6666666751078213\n",
            "time  3.4711851835250855 run= 8 total=50 Fobj= 0.6666666666666669\n",
            "time  3.8518478910128278 run= 9 total=50 Fobj= 0.6666666672176641\n",
            "time  4.2304887215296425 run= 10 total=50 Fobj= 0.6666666676983509\n",
            "time  4.6140513062477115 run= 11 total=50 Fobj= 0.6666666666666666\n",
            "time  4.99889033238093 run= 12 total=50 Fobj= 0.6666666672668625\n",
            "time  5.379735970497132 run= 13 total=50 Fobj= 0.6666666666666987\n",
            "time  5.763056484858195 run= 14 total=50 Fobj= 0.6666666666666665\n",
            "time  6.151130012671152 run= 15 total=50 Fobj= 0.6666666666920814\n",
            "time  6.532666571935018 run= 16 total=50 Fobj= 0.6666666666666734\n",
            "time  6.916098415851593 run= 17 total=50 Fobj= 0.6666666666666665\n",
            "time  7.301283578077952 run= 18 total=50 Fobj= 0.6666666666672407\n",
            "time  7.685540127754211 run= 19 total=50 Fobj= 0.6666666666666665\n",
            "time  8.078415075937906 run= 20 total=50 Fobj= 0.666666821381738\n",
            "time  8.460587080319723 run= 21 total=50 Fobj= 0.6666666672629694\n",
            "time  8.849521907170613 run= 22 total=50 Fobj= 0.6666666666666675\n",
            "time  9.23551121155421 run= 23 total=50 Fobj= 0.6666666666666665\n",
            "time  9.617997590700785 run= 24 total=50 Fobj= 0.6666666667805088\n",
            "time  10.009002037843068 run= 25 total=50 Fobj= 0.6666666687145058\n",
            "time  10.394150094191234 run= 26 total=50 Fobj= 0.6666666666666666\n",
            "time  10.77920918862025 run= 27 total=50 Fobj= 0.6666666666666666\n",
            "time  11.170083022117614 run= 28 total=50 Fobj= 0.6666666666666672\n",
            "time  11.552258781592052 run= 29 total=50 Fobj= 0.6666666666686626\n",
            "time  11.931572302182515 run= 30 total=50 Fobj= 0.6666666666666671\n",
            "time  12.314570001761119 run= 31 total=50 Fobj= 0.6666666666666665\n",
            "time  12.701610227425894 run= 32 total=50 Fobj= 0.6666666666666666\n",
            "time  13.104145693778992 run= 33 total=50 Fobj= 0.6666666666666666\n",
            "time  13.49155945777893 run= 34 total=50 Fobj= 0.666666670021806\n",
            "time  13.88017251888911 run= 35 total=50 Fobj= 0.6666666666666666\n",
            "time  14.271360119183859 run= 36 total=50 Fobj= 0.6666666666685162\n",
            "time  14.657454442977905 run= 37 total=50 Fobj= 0.6666666667147867\n",
            "time  15.047361822923024 run= 38 total=50 Fobj= 0.6666666667907253\n",
            "time  15.435995320479075 run= 39 total=50 Fobj= 0.6666666666750712\n",
            "time  15.822320504983265 run= 40 total=50 Fobj= 0.6666666666666676\n",
            "time  16.212574648857117 run= 41 total=50 Fobj= 0.6666666666666666\n",
            "time  16.598383887608847 run= 42 total=50 Fobj= 0.6666666666666707\n",
            "time  16.984906804561614 run= 43 total=50 Fobj= 0.6666666666666701\n",
            "time  17.36698551972707 run= 44 total=50 Fobj= 0.6666666666666767\n",
            "time  17.744600013891855 run= 45 total=50 Fobj= 0.6666666666891815\n",
            "time  18.133870832125346 run= 46 total=50 Fobj= 0.6666666666666666\n",
            "time  18.520102894306184 run= 47 total=50 Fobj= 0.6666666666667084\n",
            "time  18.897912406921385 run= 48 total=50 Fobj= 0.6666666671140703\n",
            "time  19.279040948549905 run= 49 total=50 Fobj= 0.6666666666666665\n"
          ],
          "name": "stdout"
        }
      ]
    },
    {
      "cell_type": "code",
      "metadata": {
        "id": "lNSN5X-wskcx",
        "colab": {
          "base_uri": "https://localhost:8080/"
        },
        "outputId": "affa731d-9a79-48fc-d563-ec94f6a494a6"
      },
      "source": [
        "############################## Cálculo dos Parâmetros de Avaliação   \n",
        "TIME = (time.time() - start_time)/RUNS\n",
        "BEST_AGENTS=np.array(BEST_AGENTS)\n",
        "BEST_AGENTS_ST= BEST_AGENTS[BEST_AGENTS[:,-1].argsort()]\n",
        "BEST=BEST_AGENTS_ST[0]\n",
        "WORSE=BEST_AGENTS_ST[-1]\n",
        "MEAN=np.mean(BEST_AGENTS,axis=0)\n",
        "MAXFO=BEST_AGENTS[:,-1].max()\n",
        "MINFO=BEST_AGENTS[:,-1].min()\n",
        "STD=BEST_AGENTS[:,-1].std()\n",
        "\n",
        "nome='_DE_STAT_Fo-'+str(mut)+'_CRo-'+str(crossp)+'_D-'+str(dim)+'_Interv-'+str(ITE)\n",
        "print('DE','TOTAL=',TOTAL,'Iterações=',ITE*its,'Dim=', dim,\"Min/Max=\",MIN[0],\"/\",MAX[0],'_',Fun.__name__)\n",
        "print(nome, '\\n')\n",
        "#print('BEST: ',BEST)\n",
        "#print('MÉDIA: ',MEAN)\n",
        "print('MÉDIA: ',MEAN[-1])\n",
        "print('MIN __:',MINFO)\n",
        "print('MAX__: ',MAXFO)\n",
        "print('STD __:',STD)\n",
        "print(\"Tempo Médio= %.3f segundos ---\" % (TIME))\n",
        "print(RUNS,'Rodadas') \n",
        "print()\n",
        "print('BEST: ',BEST)\n",
        "# print('melhor=',BEST_AGENTS[BEST_INDEX])"
      ],
      "execution_count": 7,
      "outputs": [
        {
          "output_type": "stream",
          "text": [
            "DE TOTAL= 600000 Iterações= 2000 Dim= 30 Min/Max= -10 / 10 _ dixon_price_function\n",
            "_DE_STAT_Fo-0.5_CRo-0.5_D-30_Interv-2000 \n",
            "\n",
            "MÉDIA:  0.6666668210115997\n",
            "MIN __: 0.6666666666666665\n",
            "MAX__:  0.6666741027747785\n",
            "STD __: 1.040581493928807e-06\n",
            "Tempo Médio= 23.135 segundos ---\n",
            "50 Rodadas\n",
            "\n",
            "BEST:  [ 3.33333334e-01  3.96352492e-09 -4.41706928e-10  3.47224671e-10\n",
            "  1.08333948e-09 -5.54626569e-10  1.31621578e-09  2.71968994e-10\n",
            "  1.49497316e-10 -9.21278520e-10 -5.44198333e-10 -3.58142076e-10\n",
            "  6.86461007e-10  3.22851314e-10  5.30238022e-10 -1.83406090e-10\n",
            "  2.86464652e-10  5.41363273e-10  3.25574111e-10 -5.67006147e-10\n",
            "  1.68711218e-10  6.79347916e-10 -6.24744417e-10  8.44745729e-11\n",
            " -6.41084039e-10  4.93525857e-11  1.50170988e-10 -2.47465501e-10\n",
            "  6.24305135e-10  2.19431359e-06  6.66666667e-01]\n"
          ],
          "name": "stdout"
        }
      ]
    },
    {
      "cell_type": "code",
      "metadata": {
        "id": "Jm9NMXWMq53f",
        "colab": {
          "base_uri": "https://localhost:8080/",
          "height": 54
        },
        "outputId": "d04f911b-831b-4db2-c2f9-6243af8675f9"
      },
      "source": [
        "'''\n",
        "mut=0.25\n",
        "crossp=0.75\n",
        "MÉDIA:  2.1396295860276955\n",
        "MIN __: 1.802053616279927e-11\n",
        "MAX__:  9.460815772046365\n",
        "STD __: 2.7931350380679962\n",
        "Tempo Médio= 3.534 segundos ---\n",
        "50 Rodadas\n",
        "'''"
      ],
      "execution_count": 8,
      "outputs": [
        {
          "output_type": "execute_result",
          "data": {
            "application/vnd.google.colaboratory.intrinsic+json": {
              "type": "string"
            },
            "text/plain": [
              "'\\nmut=0.25\\ncrossp=0.75\\nMÉDIA:  2.1396295860276955\\nMIN __: 1.802053616279927e-11\\nMAX__:  9.460815772046365\\nSTD __: 2.7931350380679962\\nTempo Médio= 3.534 segundos ---\\n50 Rodadas\\n'"
            ]
          },
          "metadata": {
            "tags": []
          },
          "execution_count": 8
        }
      ]
    }
  ]
}
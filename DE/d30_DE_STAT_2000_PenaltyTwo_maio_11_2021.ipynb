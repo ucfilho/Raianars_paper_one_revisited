{
  "nbformat": 4,
  "nbformat_minor": 0,
  "metadata": {
    "colab": {
      "name": "d30_DE_STAT_2000_PenaltyTwo_maio_11_2021.ipynb",
      "provenance": [],
      "collapsed_sections": [],
      "include_colab_link": true
    },
    "kernelspec": {
      "display_name": "Python 3",
      "language": "python",
      "name": "python3"
    },
    "language_info": {
      "codemirror_mode": {
        "name": "ipython",
        "version": 3
      },
      "file_extension": ".py",
      "mimetype": "text/x-python",
      "name": "python",
      "nbconvert_exporter": "python",
      "pygments_lexer": "ipython3",
      "version": "3.6.1"
    }
  },
  "cells": [
    {
      "cell_type": "markdown",
      "metadata": {
        "id": "view-in-github",
        "colab_type": "text"
      },
      "source": [
        "<a href=\"https://colab.research.google.com/github/ucfilho/Raianars_paper_one_revisited/blob/main/DE/d30_DE_STAT_2000_PenaltyTwo_maio_11_2021.ipynb\" target=\"_parent\"><img src=\"https://colab.research.google.com/assets/colab-badge.svg\" alt=\"Open In Colab\"/></a>"
      ]
    },
    {
      "cell_type": "code",
      "metadata": {
        "id": "v1OxgXboBKoG"
      },
      "source": [
        "import time\n",
        "import matplotlib.pyplot as plt\n",
        "import numpy as np\n",
        "from random import randint"
      ],
      "execution_count": 1,
      "outputs": []
    },
    {
      "cell_type": "code",
      "metadata": {
        "id": "LbcaeSLNPSIS",
        "colab": {
          "base_uri": "https://localhost:8080/"
        },
        "outputId": "292b843e-7cde-42f2-d88d-d761f94de603"
      },
      "source": [
        "!git clone https://github.com/ucfilho/Raianars_Routines #clonar do Github\n",
        "%cd Raianars_Routines"
      ],
      "execution_count": 2,
      "outputs": [
        {
          "output_type": "stream",
          "text": [
            "fatal: destination path 'Raianars_Routines' already exists and is not an empty directory.\n",
            "/content/Raianars_Routines\n"
          ],
          "name": "stdout"
        }
      ]
    },
    {
      "cell_type": "code",
      "metadata": {
        "id": "tjabLb6IPUbC",
        "colab": {
          "base_uri": "https://localhost:8080/"
        },
        "outputId": "e0a3b641-999b-4778-850a-88171475d796"
      },
      "source": [
        "!git clone https://github.com/ucfilho/Raianars_Routines #clonar do Github\n",
        "%cd Raianars_Routines\n",
        "\n",
        "import FunctionsNew\n",
        "import Go2MinMax\n",
        "\n",
        "ITE=2000 #10 # PONTOS quantas vezes vai alteral NPAR \n",
        "NPAR=100 # NUMBER OF PARTICLES\n",
        "dim=30\n",
        "RUNS=50\n",
        "fchoice='Schwefel_223'  #MS\n",
        "Fun=FunctionsNew.Schwefel_223\n",
        "\n",
        "MIN,MAX=Go2MinMax.Intervalo(dim,fchoice)\n",
        "bounds = [(0,0)]*dim\n",
        "\n",
        "for i in range(dim):\n",
        "  bounds[i] = (MIN[i],MAX[i])"
      ],
      "execution_count": 3,
      "outputs": [
        {
          "output_type": "stream",
          "text": [
            "fatal: destination path 'Raianars_Routines' already exists and is not an empty directory.\n",
            "/content/Raianars_Routines/Raianars_Routines\n"
          ],
          "name": "stdout"
        }
      ]
    },
    {
      "cell_type": "code",
      "metadata": {
        "id": "qMRpE0dGULCI",
        "colab": {
          "base_uri": "https://localhost:8080/"
        },
        "outputId": "32cd5b6c-e15b-4a16-d9e4-fa7f33bf9a0a"
      },
      "source": [
        "!git clone https://github.com/ucfilho/Raianars_July_2020 #clonar do Github\n",
        "%cd Raianars_July_2020"
      ],
      "execution_count": 4,
      "outputs": [
        {
          "output_type": "stream",
          "text": [
            "fatal: destination path 'Raianars_July_2020' already exists and is not an empty directory.\n",
            "/content/Raianars_Routines/Raianars_Routines/Raianars_July_2020\n"
          ],
          "name": "stdout"
        }
      ]
    },
    {
      "cell_type": "code",
      "metadata": {
        "id": "_E15mKFURR6O"
      },
      "source": [
        "import de_soma_Insight\n",
        "import de_bounds_matriz\n",
        "import Go2MinMax\n",
        "from AvaliaX import AvaliaX\n",
        "\n",
        "its = 1\n",
        "mut = 0.5\n",
        "crossp = 0.5\n",
        "\n",
        "# MIN,MAX=Go2MinMax.Intervalo(dim,fchoice)\n",
        "\n",
        "TOTAL=10*dim*its*ITE\n",
        "SOMA=0"
      ],
      "execution_count": 5,
      "outputs": []
    },
    {
      "cell_type": "code",
      "metadata": {
        "id": "rnX8ttNopd1G",
        "colab": {
          "base_uri": "https://localhost:8080/"
        },
        "outputId": "f9639558-1911-4db6-ce7a-7f5b741add71"
      },
      "source": [
        "start_time = time.time()\n",
        "BEST_AGENTS=[]\n",
        "MAT_stat=[]\n",
        "\n",
        "for i in range(RUNS):\n",
        "\n",
        "    pop = np.random.rand(NPAR, dim)\n",
        "    diff=np.zeros(dim)\n",
        "    for ii in range(dim):\n",
        "      diff[ii] = MAX[ii]-MIN[ii]\n",
        "    X = MIN + pop * diff\n",
        "\n",
        "    SOMA=0\n",
        "\n",
        "    for k in range(ITE):\n",
        "      X,BEST,FOBEST,XY,BEST_XY,SOMA= de_soma_Insight.de(MAX,MIN, mut, crossp,dim,its,Fun,X,SOMA,TOTAL)\n",
        "\n",
        "    start_run = (time.time()-start_time)/60\n",
        "    print('time ',start_run,'run=',i,'total=50','Fobj=',FOBEST)  \n",
        "    BEST_AGENTS.append(BEST_XY)"
      ],
      "execution_count": 6,
      "outputs": [
        {
          "output_type": "stream",
          "text": [
            "time  0.31412816047668457 run= 0 total=50 Fobj= 1.1239920925228211e-69\n",
            "time  0.6231537103652954 run= 1 total=50 Fobj= 7.827880095996086e-70\n",
            "time  0.9309671481450399 run= 2 total=50 Fobj= 1.7266484968455756e-55\n",
            "time  1.239488967259725 run= 3 total=50 Fobj= 4.0325525834813237e-69\n",
            "time  1.5803701718648275 run= 4 total=50 Fobj= 5.115418534771015e-68\n",
            "time  1.895200220743815 run= 5 total=50 Fobj= 1.4304464663743612e-64\n",
            "time  2.2086310029029845 run= 6 total=50 Fobj= 2.8019451008257956e-69\n",
            "time  2.517982316017151 run= 7 total=50 Fobj= 4.4076728926138395e-70\n",
            "time  2.8266576011975606 run= 8 total=50 Fobj= 1.3114342949371706e-68\n",
            "time  3.138698168595632 run= 9 total=50 Fobj= 3.810695287228254e-68\n",
            "time  3.4459900935490926 run= 10 total=50 Fobj= 9.647088379888764e-56\n",
            "time  3.7547101100285847 run= 11 total=50 Fobj= 1.2484257910688922e-70\n",
            "time  4.060804529984792 run= 12 total=50 Fobj= 1.0610980598846333e-72\n",
            "time  4.370003271102905 run= 13 total=50 Fobj= 1.1797077927320134e-69\n",
            "time  4.6781929651896155 run= 14 total=50 Fobj= 2.6646681296507735e-53\n",
            "time  4.984295078118643 run= 15 total=50 Fobj= 1.1608646916138938e-70\n",
            "time  5.294655132293701 run= 16 total=50 Fobj= 2.7941013564316017e-63\n",
            "time  5.602782126267751 run= 17 total=50 Fobj= 9.548362183283096e-64\n",
            "time  5.910119140148163 run= 18 total=50 Fobj= 1.5806041652174426e-69\n",
            "time  6.2221269051233925 run= 19 total=50 Fobj= 2.2590413254960776e-67\n",
            "time  6.533111250400543 run= 20 total=50 Fobj= 2.570877170726812e-74\n",
            "time  6.840878276030223 run= 21 total=50 Fobj= 5.421034129129215e-71\n",
            "time  7.15687452952067 run= 22 total=50 Fobj= 4.352948053547813e-71\n",
            "time  7.469147868951162 run= 23 total=50 Fobj= 3.4263074720518974e-71\n",
            "time  7.775548879305521 run= 24 total=50 Fobj= 6.212392941124596e-70\n",
            "time  8.084248634179433 run= 25 total=50 Fobj= 1.251125722049328e-64\n",
            "time  8.391404016812642 run= 26 total=50 Fobj= 7.213385149795188e-70\n",
            "time  8.700951449076335 run= 27 total=50 Fobj= 1.4762187067181726e-64\n",
            "time  9.012391408284506 run= 28 total=50 Fobj= 1.8199218584032497e-70\n",
            "time  9.319924942652385 run= 29 total=50 Fobj= 3.2453918716194606e-69\n",
            "time  9.630433205763499 run= 30 total=50 Fobj= 4.415536403234883e-37\n",
            "time  9.94251791636149 run= 31 total=50 Fobj= 2.3786316517385187e-71\n",
            "time  10.250548426310221 run= 32 total=50 Fobj= 1.7831889141891488e-68\n",
            "time  10.55752211411794 run= 33 total=50 Fobj= 3.0356774457573518e-58\n",
            "time  10.86444609562556 run= 34 total=50 Fobj= 5.600199860360178e-66\n",
            "time  11.17044095993042 run= 35 total=50 Fobj= 1.7435589729478528e-68\n",
            "time  11.474384907881419 run= 36 total=50 Fobj= 4.0731210203691645e-69\n",
            "time  11.78072917064031 run= 37 total=50 Fobj= 5.779209071018959e-59\n",
            "time  12.086337157090504 run= 38 total=50 Fobj= 2.264597889366481e-71\n",
            "time  12.40027360121409 run= 39 total=50 Fobj= 1.379056448016708e-71\n",
            "time  12.712765991687775 run= 40 total=50 Fobj= 5.501553380314175e-42\n",
            "time  13.01985076268514 run= 41 total=50 Fobj= 1.1445020875040793e-66\n",
            "time  13.329444428284964 run= 42 total=50 Fobj= 1.2718770012165241e-68\n",
            "time  13.638939162095388 run= 43 total=50 Fobj= 3.747136074530562e-68\n",
            "time  13.952034970124563 run= 44 total=50 Fobj= 6.783124337471913e-72\n",
            "time  14.264536039034526 run= 45 total=50 Fobj= 7.160722912322893e-58\n",
            "time  14.579034038384755 run= 46 total=50 Fobj= 4.391458613308189e-71\n",
            "time  14.888429359594982 run= 47 total=50 Fobj= 2.402407276225403e-50\n",
            "time  15.203168547153473 run= 48 total=50 Fobj= 1.0390032177261789e-59\n",
            "time  15.51432277361552 run= 49 total=50 Fobj= 1.7920789926122064e-67\n"
          ],
          "name": "stdout"
        }
      ]
    },
    {
      "cell_type": "code",
      "metadata": {
        "id": "lNSN5X-wskcx",
        "colab": {
          "base_uri": "https://localhost:8080/"
        },
        "outputId": "1fd00a42-d1f2-4c51-99b6-5cd21d1840b9"
      },
      "source": [
        "############################## Cálculo dos Parâmetros de Avaliação   \n",
        "TIME = (time.time() - start_time)/RUNS\n",
        "BEST_AGENTS=np.array(BEST_AGENTS)\n",
        "BEST_AGENTS_ST= BEST_AGENTS[BEST_AGENTS[:,-1].argsort()]\n",
        "BEST=BEST_AGENTS_ST[0]\n",
        "WORSE=BEST_AGENTS_ST[-1]\n",
        "MEAN=np.mean(BEST_AGENTS,axis=0)\n",
        "MAXFO=BEST_AGENTS[:,-1].max()\n",
        "MINFO=BEST_AGENTS[:,-1].min()\n",
        "STD=BEST_AGENTS[:,-1].std()\n",
        "\n",
        "nome='_DE_STAT_Fo-'+str(mut)+'_CRo-'+str(crossp)+'_D-'+str(dim)+'_Interv-'+str(ITE)\n",
        "print('DE','TOTAL=',TOTAL,'Iterações=',ITE*its,'Dim=', dim,\"Min/Max=\",MIN[0],\"/\",MAX[0],'_',Fun.__name__)\n",
        "print(nome, '\\n')\n",
        "#print('BEST: ',BEST)\n",
        "#print('MÉDIA: ',MEAN)\n",
        "print('MÉDIA: ',MEAN[-1])\n",
        "print('MIN __:',MINFO)\n",
        "print('MAX__: ',MAXFO)\n",
        "print('STD __:',STD)\n",
        "print(\"Tempo Médio= %.3f segundos ---\" % (TIME))\n",
        "print(RUNS,'Rodadas') \n",
        "print()\n",
        "print('BEST: ',BEST)\n",
        "# print('melhor=',BEST_AGENTS[BEST_INDEX])"
      ],
      "execution_count": 7,
      "outputs": [
        {
          "output_type": "stream",
          "text": [
            "DE TOTAL= 600000 Iterações= 2000 Dim= 30 Min/Max= -10 / 10 _ Schwefel_223\n",
            "_DE_STAT_Fo-0.5_CRo-0.5_D-30_Interv-2000 \n",
            "\n",
            "MÉDIA:  8.831182837537854e-39\n",
            "MIN __: 2.570877170726812e-74\n",
            "MAX__:  4.415536403234883e-37\n",
            "STD __: 6.181749393136064e-38\n",
            "Tempo Médio= 18.618 segundos ---\n",
            "50 Rodadas\n",
            "\n",
            "BEST:  [ 2.53756260e-08  1.75132921e-08  3.86491286e-08 -8.48859118e-09\n",
            " -3.91204561e-09 -2.06465068e-08  1.25897494e-08 -5.84617654e-09\n",
            "  2.66645563e-10 -4.77288532e-09  6.25715531e-10 -1.24940070e-08\n",
            " -1.02044883e-08 -1.45433592e-08  1.67214559e-08 -4.56686817e-09\n",
            "  1.38567455e-08  4.09292808e-08  1.86489545e-08  3.16410318e-08\n",
            " -9.66367217e-09  7.09781437e-09  1.53177531e-08 -2.77719618e-09\n",
            " -6.13476160e-09  3.60525121e-08 -1.77390118e-08  2.41971878e-08\n",
            " -2.57930217e-08 -2.18767161e-08  2.57087717e-74]\n"
          ],
          "name": "stdout"
        }
      ]
    },
    {
      "cell_type": "code",
      "metadata": {
        "id": "Jm9NMXWMq53f",
        "colab": {
          "base_uri": "https://localhost:8080/",
          "height": 54
        },
        "outputId": "da2e2c76-22f5-4b51-bdce-cce399021ad4"
      },
      "source": [
        "'''\n",
        "mut=0.25\n",
        "crossp=0.75\n",
        "MÉDIA:  2.1396295860276955\n",
        "MIN __: 1.802053616279927e-11\n",
        "MAX__:  9.460815772046365\n",
        "STD __: 2.7931350380679962\n",
        "Tempo Médio= 3.534 segundos ---\n",
        "50 Rodadas\n",
        "'''"
      ],
      "execution_count": 8,
      "outputs": [
        {
          "output_type": "execute_result",
          "data": {
            "application/vnd.google.colaboratory.intrinsic+json": {
              "type": "string"
            },
            "text/plain": [
              "'\\nmut=0.25\\ncrossp=0.75\\nMÉDIA:  2.1396295860276955\\nMIN __: 1.802053616279927e-11\\nMAX__:  9.460815772046365\\nSTD __: 2.7931350380679962\\nTempo Médio= 3.534 segundos ---\\n50 Rodadas\\n'"
            ]
          },
          "metadata": {
            "tags": []
          },
          "execution_count": 8
        }
      ]
    }
  ]
}
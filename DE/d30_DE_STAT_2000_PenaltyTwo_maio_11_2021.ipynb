{
  "nbformat": 4,
  "nbformat_minor": 0,
  "metadata": {
    "colab": {
      "name": "d30_DE_STAT_2000_PenaltyTwo_maio_11_2021.ipynb",
      "provenance": [],
      "collapsed_sections": [],
      "include_colab_link": true
    },
    "kernelspec": {
      "display_name": "Python 3",
      "language": "python",
      "name": "python3"
    },
    "language_info": {
      "codemirror_mode": {
        "name": "ipython",
        "version": 3
      },
      "file_extension": ".py",
      "mimetype": "text/x-python",
      "name": "python",
      "nbconvert_exporter": "python",
      "pygments_lexer": "ipython3",
      "version": "3.6.1"
    }
  },
  "cells": [
    {
      "cell_type": "markdown",
      "metadata": {
        "id": "view-in-github",
        "colab_type": "text"
      },
      "source": [
        "<a href=\"https://colab.research.google.com/github/ucfilho/Raianars_paper_one_revisited/blob/main/DE/d30_DE_STAT_2000_PenaltyTwo_maio_11_2021.ipynb\" target=\"_parent\"><img src=\"https://colab.research.google.com/assets/colab-badge.svg\" alt=\"Open In Colab\"/></a>"
      ]
    },
    {
      "cell_type": "code",
      "metadata": {
        "id": "v1OxgXboBKoG"
      },
      "source": [
        "import time\n",
        "import matplotlib.pyplot as plt\n",
        "import numpy as np\n",
        "from random import randint"
      ],
      "execution_count": 1,
      "outputs": []
    },
    {
      "cell_type": "code",
      "metadata": {
        "id": "LbcaeSLNPSIS",
        "colab": {
          "base_uri": "https://localhost:8080/"
        },
        "outputId": "4f6b848b-3e3e-4a44-ff6c-92d50ff23dc1"
      },
      "source": [
        "!git clone https://github.com/ucfilho/Raianars_Routines #clonar do Github\n",
        "%cd Raianars_Routines"
      ],
      "execution_count": 2,
      "outputs": [
        {
          "output_type": "stream",
          "text": [
            "Cloning into 'Raianars_Routines'...\n",
            "remote: Enumerating objects: 54, done.\u001b[K\n",
            "remote: Counting objects: 100% (54/54), done.\u001b[K\n",
            "remote: Compressing objects: 100% (52/52), done.\u001b[K\n",
            "remote: Total 54 (delta 16), reused 0 (delta 0), pack-reused 0\u001b[K\n",
            "Unpacking objects: 100% (54/54), done.\n",
            "/content/Raianars_Routines\n"
          ],
          "name": "stdout"
        }
      ]
    },
    {
      "cell_type": "code",
      "metadata": {
        "id": "tjabLb6IPUbC"
      },
      "source": [
        "############################### Função\n",
        "import FunctionsNew\n",
        "#'''  \n",
        "############################### Função\n",
        "dim=30 # \n",
        "fchoice='PenaltyTwo'\n",
        "Fun=FunctionsNew.PenaltyTwo\n",
        "MAX=np.repeat(50,dim)\n",
        "MIN=np.repeat(-50,dim)\n",
        "\n",
        "bounds=[]\n",
        "for k in range(len(MAX)):\n",
        "  bounds.append((MIN[k],MAX[k]))\n",
        "\n",
        "\n",
        "############################### DADOS DE ENTRADA \n",
        "RUNS=50 #NÚMERO DE RODADAS\n",
        "its=1 #10 # quantas vezes vai usar o NPAR antes de alterar de novo\n",
        "ITE=2000 #10 # PONTOS quantas vezes vai alteral NPAR \n",
        "NPAR=100\n",
        "\n",
        "mut=0.50\n",
        "crossp=0.50\n"
      ],
      "execution_count": 3,
      "outputs": []
    },
    {
      "cell_type": "code",
      "metadata": {
        "id": "qMRpE0dGULCI",
        "colab": {
          "base_uri": "https://localhost:8080/"
        },
        "outputId": "281ccd28-76c6-483c-e99e-cdaaf8b03092"
      },
      "source": [
        "!git clone https://github.com/ucfilho/Raianars_July_2020 #clonar do Github\n",
        "%cd Raianars_July_2020"
      ],
      "execution_count": 4,
      "outputs": [
        {
          "output_type": "stream",
          "text": [
            "Cloning into 'Raianars_July_2020'...\n",
            "remote: Enumerating objects: 172, done.\u001b[K\n",
            "remote: Counting objects: 100% (49/49), done.\u001b[K\n",
            "remote: Compressing objects: 100% (49/49), done.\u001b[K\n",
            "remote: Total 172 (delta 24), reused 0 (delta 0), pack-reused 123\u001b[K\n",
            "Receiving objects: 100% (172/172), 390.34 KiB | 15.61 MiB/s, done.\n",
            "Resolving deltas: 100% (86/86), done.\n",
            "/content/Raianars_Routines/Raianars_July_2020\n"
          ],
          "name": "stdout"
        }
      ]
    },
    {
      "cell_type": "code",
      "metadata": {
        "id": "_E15mKFURR6O"
      },
      "source": [
        "import de_soma_Insight\n",
        "import de_bounds_matriz\n",
        "import Go2MinMax\n",
        "from AvaliaX import AvaliaX\n",
        "\n",
        "\n",
        "\n",
        "\n",
        "\n",
        "# MIN,MAX=Go2MinMax.Intervalo(dim,fchoice)\n",
        "\n",
        "TOTAL=10*dim*its*ITE\n",
        "SOMA=0"
      ],
      "execution_count": 5,
      "outputs": []
    },
    {
      "cell_type": "code",
      "metadata": {
        "id": "rnX8ttNopd1G",
        "colab": {
          "base_uri": "https://localhost:8080/"
        },
        "outputId": "2238f86e-acba-4956-befa-01ec67c15c0a"
      },
      "source": [
        "start_time = time.time()\n",
        "BEST_AGENTS=[]\n",
        "MAT_stat=[]\n",
        "\n",
        "for i in range(RUNS):\n",
        "\n",
        "    pop = np.random.rand(NPAR, dim)\n",
        "    diff=np.zeros(dim)\n",
        "    for ii in range(dim):\n",
        "      diff[ii] = MAX[ii]-MIN[ii]\n",
        "    X = MIN + pop * diff\n",
        "\n",
        "    SOMA=0\n",
        "\n",
        "    for k in range(ITE):\n",
        "      X,BEST,FOBEST,XY,BEST_XY,SOMA= de_soma_Insight.de(MAX,MIN, mut, crossp,dim,its,Fun,X,SOMA,TOTAL)\n",
        "\n",
        "    start_run = (time.time()-start_time)/60\n",
        "    print('time ',start_run,'run=',i,'total=50','Fobj=',FOBEST)  \n",
        "    BEST_AGENTS.append(BEST_XY)"
      ],
      "execution_count": 6,
      "outputs": [
        {
          "output_type": "stream",
          "text": [
            "time  0.8491507093111674 run= 0 total=50 Fobj= 2.0367211283534142e-29\n",
            "time  1.6971227486928304 run= 1 total=50 Fobj= 3.702524660740266e-30\n",
            "time  2.5442009528477985 run= 2 total=50 Fobj= 1.2239062894924468e-30\n",
            "time  3.3910022298494975 run= 3 total=50 Fobj= 7.280878927392528e-30\n",
            "time  4.239537135759989 run= 4 total=50 Fobj= 7.861375678637886e-29\n",
            "time  5.089005851745606 run= 5 total=50 Fobj= 8.18103256165948e-29\n",
            "time  5.936642698446909 run= 6 total=50 Fobj= 4.272032459007016e-29\n",
            "time  6.783017865816752 run= 7 total=50 Fobj= 3.3660350882807815e-28\n",
            "time  7.628137191136678 run= 8 total=50 Fobj= 5.792034473164197e-30\n",
            "time  8.47510042587916 run= 9 total=50 Fobj= 2.558148034210825e-29\n",
            "time  9.32121910651525 run= 10 total=50 Fobj= 1.2262194302326706e-28\n",
            "time  10.171348575750986 run= 11 total=50 Fobj= 4.939359481017416e-29\n",
            "time  11.017973212401072 run= 12 total=50 Fobj= 1.1043540513714316e-28\n",
            "time  11.86211464802424 run= 13 total=50 Fobj= 3.389010662145343e-28\n",
            "time  12.707391703128815 run= 14 total=50 Fobj= 1.1975572899869299e-29\n",
            "time  13.554958848158519 run= 15 total=50 Fobj= 5.255520140688025e-29\n",
            "time  14.40028013388316 run= 16 total=50 Fobj= 8.39403225092904e-29\n",
            "time  15.24504561026891 run= 17 total=50 Fobj= 1.3607149943978e-28\n",
            "time  16.0929310242335 run= 18 total=50 Fobj= 8.104527553262651e-29\n",
            "time  16.940756483872732 run= 19 total=50 Fobj= 5.690340563378207e-29\n",
            "time  17.78678976694743 run= 20 total=50 Fobj= 1.3043997508657583e-28\n",
            "time  18.63433828751246 run= 21 total=50 Fobj= 1.7029651980098579e-28\n",
            "time  19.480155380566917 run= 22 total=50 Fobj= 2.866517243470399e-29\n",
            "time  20.32669008175532 run= 23 total=50 Fobj= 1.5404389361707318e-27\n",
            "time  21.174094367027283 run= 24 total=50 Fobj= 2.0378639142669923e-28\n",
            "time  22.02269202073415 run= 25 total=50 Fobj= 2.083550416278763e-28\n",
            "time  22.870336973667143 run= 26 total=50 Fobj= 3.9953148445974576e-29\n",
            "time  23.71669561068217 run= 27 total=50 Fobj= 1.6089003972250889e-29\n",
            "time  24.564119176069894 run= 28 total=50 Fobj= 3.3978003707113343e-28\n",
            "time  25.41265227794647 run= 29 total=50 Fobj= 1.0853130661688574e-28\n",
            "time  26.259986186027525 run= 30 total=50 Fobj= 6.230838351693384e-30\n",
            "time  27.104193313916525 run= 31 total=50 Fobj= 1.8994100270383817e-29\n",
            "time  27.947997848192852 run= 32 total=50 Fobj= 1.1553439032354572e-28\n",
            "time  28.795189662774405 run= 33 total=50 Fobj= 1.0590931569343762e-28\n",
            "time  29.638816424210866 run= 34 total=50 Fobj= 9.298757101604388e-29\n",
            "time  30.48410592476527 run= 35 total=50 Fobj= 4.553446985478957e-29\n",
            "time  31.331616179148355 run= 36 total=50 Fobj= 4.050684468354635e-29\n",
            "time  32.180937910079955 run= 37 total=50 Fobj= 3.114859068223311e-29\n",
            "time  33.02749368349711 run= 38 total=50 Fobj= 3.029738944113261e-29\n",
            "time  33.87588916222254 run= 39 total=50 Fobj= 2.164528584006842e-28\n",
            "time  34.72333980003993 run= 40 total=50 Fobj= 1.9343668134429566e-28\n",
            "time  35.57110603650411 run= 41 total=50 Fobj= 1.549009322672501e-29\n",
            "time  36.41693749030431 run= 42 total=50 Fobj= 1.1428123255447193e-28\n",
            "time  37.26177484591802 run= 43 total=50 Fobj= 1.1767606064600375e-28\n",
            "time  38.10573192834854 run= 44 total=50 Fobj= 2.7653211804725156e-29\n",
            "time  38.95331785281499 run= 45 total=50 Fobj= 9.69508140385215e-29\n",
            "time  39.79893610080083 run= 46 total=50 Fobj= 3.520235353435727e-28\n",
            "time  40.64496366182963 run= 47 total=50 Fobj= 2.1490235982686004e-29\n",
            "time  41.4920923391978 run= 48 total=50 Fobj= 4.402836906825953e-29\n",
            "time  42.335170924663544 run= 49 total=50 Fobj= 6.220642154419356e-29\n"
          ],
          "name": "stdout"
        }
      ]
    },
    {
      "cell_type": "code",
      "metadata": {
        "id": "lNSN5X-wskcx",
        "colab": {
          "base_uri": "https://localhost:8080/"
        },
        "outputId": "5eba0452-d5e9-4edc-e925-899e3e6d10b8"
      },
      "source": [
        "############################## Cálculo dos Parâmetros de Avaliação   \n",
        "TIME = (time.time() - start_time)/RUNS\n",
        "BEST_AGENTS=np.array(BEST_AGENTS)\n",
        "BEST_AGENTS_ST= BEST_AGENTS[BEST_AGENTS[:,-1].argsort()]\n",
        "BEST=BEST_AGENTS_ST[0]\n",
        "WORSE=BEST_AGENTS_ST[-1]\n",
        "MEAN=np.mean(BEST_AGENTS,axis=0)\n",
        "MAXFO=BEST_AGENTS[:,-1].max()\n",
        "MINFO=BEST_AGENTS[:,-1].min()\n",
        "STD=BEST_AGENTS[:,-1].std()\n",
        "\n",
        "nome='_DE_STAT_Fo-'+str(mut)+'_CRo-'+str(crossp)+'_D-'+str(dim)+'_Interv-'+str(ITE)\n",
        "print('DE','TOTAL=',TOTAL,'Iterações=',ITE*its,'Dim=', dim,\"Min/Max=\",MIN[0],\"/\",MAX[0],'_',Fun.__name__)\n",
        "print(nome, '\\n')\n",
        "#print('BEST: ',BEST)\n",
        "#print('MÉDIA: ',MEAN)\n",
        "print('MÉDIA: ',MEAN[-1])\n",
        "print('MIN __:',MINFO)\n",
        "print('MAX__: ',MAXFO)\n",
        "print('STD __:',STD)\n",
        "print(\"Tempo Médio= %.3f segundos ---\" % (TIME))\n",
        "print(RUNS,'Rodadas') \n",
        "print()\n",
        "print('BEST: ',BEST)\n",
        "# print('melhor=',BEST_AGENTS[BEST_INDEX])"
      ],
      "execution_count": 7,
      "outputs": [
        {
          "output_type": "stream",
          "text": [
            "DE TOTAL= 600000 Iterações= 2000 Dim= 30 Min/Max= -50 / 50 _ PenaltyTwo\n",
            "_DE_STAT_Fo-0.5_CRo-0.5_D-30_Interv-2000 \n",
            "\n",
            "MÉDIA:  1.2365415590659327e-28\n",
            "MIN __: 1.2239062894924468e-30\n",
            "MAX__:  1.5404389361707318e-27\n",
            "STD __: 2.2236244511219545e-28\n",
            "Tempo Médio= 50.803 segundos ---\n",
            "50 Rodadas\n",
            "\n",
            "BEST:  [1.00000000e+00 1.00000000e+00 1.00000000e+00 1.00000000e+00\n",
            " 1.00000000e+00 1.00000000e+00 1.00000000e+00 1.00000000e+00\n",
            " 1.00000000e+00 1.00000000e+00 1.00000000e+00 1.00000000e+00\n",
            " 1.00000000e+00 1.00000000e+00 1.00000000e+00 1.00000000e+00\n",
            " 1.00000000e+00 1.00000000e+00 1.00000000e+00 1.00000000e+00\n",
            " 1.00000000e+00 1.00000000e+00 1.00000000e+00 1.00000000e+00\n",
            " 1.00000000e+00 1.00000000e+00 1.00000000e+00 1.00000000e+00\n",
            " 1.00000000e+00 1.00000000e+00 1.22390629e-30]\n"
          ],
          "name": "stdout"
        }
      ]
    },
    {
      "cell_type": "code",
      "metadata": {
        "id": "Jm9NMXWMq53f",
        "colab": {
          "base_uri": "https://localhost:8080/",
          "height": 54
        },
        "outputId": "58420285-1658-43d0-ba9e-12ffa654a50a"
      },
      "source": [
        "'''\n",
        "mut=0.25\n",
        "crossp=0.75\n",
        "MÉDIA:  2.1396295860276955\n",
        "MIN __: 1.802053616279927e-11\n",
        "MAX__:  9.460815772046365\n",
        "STD __: 2.7931350380679962\n",
        "Tempo Médio= 3.534 segundos ---\n",
        "50 Rodadas\n",
        "'''"
      ],
      "execution_count": 8,
      "outputs": [
        {
          "output_type": "execute_result",
          "data": {
            "application/vnd.google.colaboratory.intrinsic+json": {
              "type": "string"
            },
            "text/plain": [
              "'\\nmut=0.25\\ncrossp=0.75\\nMÉDIA:  2.1396295860276955\\nMIN __: 1.802053616279927e-11\\nMAX__:  9.460815772046365\\nSTD __: 2.7931350380679962\\nTempo Médio= 3.534 segundos ---\\n50 Rodadas\\n'"
            ]
          },
          "metadata": {
            "tags": []
          },
          "execution_count": 8
        }
      ]
    }
  ]
}
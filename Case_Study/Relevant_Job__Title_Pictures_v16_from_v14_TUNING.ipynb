{
  "nbformat": 4,
  "nbformat_minor": 0,
  "metadata": {
    "colab": {
      "provenance": [],
      "include_colab_link": true
    },
    "kernelspec": {
      "name": "python3",
      "display_name": "Python 3"
    },
    "language_info": {
      "name": "python"
    }
  },
  "cells": [
    {
      "cell_type": "markdown",
      "metadata": {
        "id": "view-in-github",
        "colab_type": "text"
      },
      "source": [
        "<a href=\"https://colab.research.google.com/github/ucfilho/Raianars_paper_one_revisited/blob/main/Case_Study/Relevant_Job__Title_Pictures_v16_from_v14_TUNING.ipynb\" target=\"_parent\"><img src=\"https://colab.research.google.com/assets/colab-badge.svg\" alt=\"Open In Colab\"/></a>"
      ]
    },
    {
      "cell_type": "markdown",
      "source": [
        "# **Determining Relevant Job Title Pictures**\n",
        "The objective of this short project is to automatically find relevant pictures for job titles. We are looking for pictures that represent the activities typically associated with that job title, showing people or tools used on the job.\n",
        "## Dataset\n",
        "The dataset provided is a .csv file with a set of pictures queried from Google Images, with the following available metadata and pre-extracted features:\n",
        "\n",
        "* Job Title: the job we are trying to get pictures for.\n",
        "\n",
        "* Pic Title: the picture title according to Google Images.\n",
        "\n",
        "* Num Resumes: the number of resumes we have available for the job title. This indicates how popular /common the job title is.\n",
        "\n",
        "* Google Position: the position of the image in the search results.\n",
        "\n",
        "* Strict Face Count: face count according to a high-precision face recognition algorithm from OpenCV. When it detects a face, it is a human face almost 100% of the time, but it doesn't detect all human faces.\n",
        "\n",
        "* Relaxed Face Count: face count according to a high-recall face recognition algorithm from OpenCV. It detects human faces almost 100% of the time, but it also confuses some other shapes and objects with human faces.\n",
        "\n",
        "* KB size: size of the image in kilobytes.\n",
        "\n",
        "* Height: pixel height of the image.\n",
        "\n",
        "* Width: pixel width of the image.\n",
        "\n",
        "* Resolution: total pixels in the image.\n",
        "\n",
        "* Text regions: number of text regions identified in the image, also using OpenCV.\n",
        "\n",
        "* Picture URL: the URL of the image.\n",
        "\n",
        "* Manual Label: a label indicating if the picture is good (relevant) or bad (irrelevant). \n",
        "\n",
        "##Methodology\n",
        "The feature \"Manual Label\" is available only for  around 20% of the dataset. For this reason, I decided to use unsupervised learning to create the model and use the labaled data to evaluate the quality of the model.\n",
        "----------\n",
        "Author: Raiana Roland Seixas\n",
        "09/07/2022"
      ],
      "metadata": {
        "id": "WJb--sIgwspE"
      }
    },
    {
      "cell_type": "markdown",
      "source": [
        "# Data load & Libraries"
      ],
      "metadata": {
        "id": "JNid1Hd0yl0X"
      }
    },
    {
      "cell_type": "code",
      "source": [
        "import pandas as pd\n",
        "import numpy as np\n",
        "import seaborn as sns\n",
        "import matplotlib.pyplot as plt\n",
        "import seaborn as sns"
      ],
      "metadata": {
        "id": "v9Zz0XIExGgq"
      },
      "execution_count": 1,
      "outputs": []
    },
    {
      "cell_type": "code",
      "source": [
        "from sklearn.metrics import classification_report, confusion_matrix\n",
        "from sklearn.metrics import accuracy_score\n",
        "from sklearn import preprocessing\n",
        "from sklearn.model_selection import train_test_split, cross_validate\n",
        "from sklearn.metrics import precision_score, recall_score, f1_score, accuracy_score\n",
        "from sklearn.cluster import KMeans"
      ],
      "metadata": {
        "id": "PpDUaLEEB9Em"
      },
      "execution_count": 2,
      "outputs": []
    },
    {
      "cell_type": "code",
      "source": [
        "from sklearn.feature_extraction.text import TfidfVectorizer\n",
        "from sklearn.metrics import adjusted_rand_score\n",
        "from sklearn.cluster import Birch"
      ],
      "metadata": {
        "id": "PkJA6KCBzxyf"
      },
      "execution_count": 3,
      "outputs": []
    },
    {
      "cell_type": "code",
      "execution_count": 4,
      "metadata": {
        "colab": {
          "base_uri": "https://localhost:8080/"
        },
        "id": "34ZvAeHUuFOW",
        "outputId": "090977e0-0c80-439f-fc56-1fae9d581b0a"
      },
      "outputs": [
        {
          "output_type": "stream",
          "name": "stdout",
          "text": [
            "fatal: destination path 'NLT' already exists and is not an empty directory.\n",
            "/content/NLT\n"
          ]
        }
      ],
      "source": [
        "!git clone https://github.com/RaianaSeixas/NLT\n",
        "%cd NLT"
      ]
    },
    {
      "cell_type": "code",
      "source": [
        "df=pd.read_csv('occupation_pictures.csv')\n",
        "#df"
      ],
      "metadata": {
        "id": "CXxX2nnBx-l9"
      },
      "execution_count": 5,
      "outputs": []
    },
    {
      "cell_type": "code",
      "source": [
        "#documents = list(df['Pic Title'].values)\n",
        "#job = list(df['Job Title'].values)"
      ],
      "metadata": {
        "id": "dfc5Wu0jyDeX"
      },
      "execution_count": 6,
      "outputs": []
    },
    {
      "cell_type": "code",
      "source": [
        "#documents"
      ],
      "metadata": {
        "id": "mpsUmgwthPbW"
      },
      "execution_count": 7,
      "outputs": []
    },
    {
      "cell_type": "code",
      "source": [
        "# this function is to show how tfidf vectorizer works...it is not used in solution\n",
        "def text_show(corpus):\n",
        "  def lista_organiza(arr_conv):\n",
        "    n = arr_conv.shape[0]\n",
        "    lista =[]\n",
        "    for i in range(n):\n",
        "      arr = arr_conv[i]\n",
        "      ans =' '.join(arr)\n",
        "      lista.append(ans)\n",
        "    resp = lista\n",
        "    return resp  \n",
        "\n",
        "  corpus = lista_organiza(corpus)\n",
        "\n",
        "  vectorizer = TfidfVectorizer(stop_words='english')\n",
        "  XW = vectorizer.fit_transform(corpus)\n",
        "  return XW"
      ],
      "metadata": {
        "id": "Njg3SD9puZkg"
      },
      "execution_count": 8,
      "outputs": []
    },
    {
      "cell_type": "code",
      "source": [
        "def text_variable(corpus,documents,cluster_k):\n",
        "  def lista_organiza(arr_conv):\n",
        "    n = arr_conv.shape[0]\n",
        "    lista =[]\n",
        "    for i in range(n):\n",
        "      arr = arr_conv[i]\n",
        "      ans =' '.join(arr)\n",
        "      lista.append(ans)\n",
        "    resp = lista\n",
        "    return resp  \n",
        "\n",
        "  corpus = lista_organiza(corpus)\n",
        "  documents = lista_organiza(documents)\n",
        "\n",
        "  vectorizer = TfidfVectorizer(stop_words='english')\n",
        "  XW = vectorizer.fit_transform(corpus)\n",
        "\n",
        "  model = KMeans(n_clusters=cluster_k, init='k-means++', max_iter=100, n_init=1)\n",
        "  model.fit(XW)\n",
        "  resp = []\n",
        "  for x in documents:\n",
        "    doc=[]\n",
        "    doc.append(x)\n",
        "    Y = vectorizer.transform(doc)\n",
        "    prediction = model.predict(Y)\n",
        "    resp.append(prediction[0])\n",
        "  return resp"
      ],
      "metadata": {
        "id": "v3s_O-5i1J7u"
      },
      "execution_count": 9,
      "outputs": []
    },
    {
      "cell_type": "code",
      "source": [
        "def text_kmeans_check(corpus,documents,jobs,cluster_k):\n",
        "  def lista_organiza(arr_conv):\n",
        "    n = arr_conv.shape[0]\n",
        "    lista =[]\n",
        "    for i in range(n):\n",
        "      arr = arr_conv[i]\n",
        "      ans =' '.join(arr)\n",
        "      lista.append(ans)\n",
        "    resp = lista\n",
        "    return resp  \n",
        "\n",
        "  corpus = lista_organiza(corpus)\n",
        "  documents = lista_organiza(documents)\n",
        "  jobs = lista_organiza(jobs)\n",
        "\n",
        "  vectorizer = TfidfVectorizer(stop_words='english')\n",
        "  XW = vectorizer.fit_transform(corpus)\n",
        "\n",
        "  model = KMeans(n_clusters=cluster_k, init='k-means++', max_iter=100, n_init=1)\n",
        "  model.fit(XW)\n",
        "  resp = []\n",
        "  for x in documents:\n",
        "    doc=[]\n",
        "    doc.append(x)\n",
        "    Y = vectorizer.transform(doc)\n",
        "    prediction = model.predict(Y)\n",
        "    resp.append(prediction[0])\n",
        "  y1 = resp\n",
        "  resp = []\n",
        "  for x in jobs:\n",
        "    doc=[]\n",
        "    doc.append(x)\n",
        "    Y = vectorizer.transform(doc)\n",
        "    prediction = model.predict(Y)\n",
        "    resp.append(prediction[0])\n",
        "  y2 = resp\n",
        "  return y1,y2"
      ],
      "metadata": {
        "id": "hwtmp3kuyQt8"
      },
      "execution_count": 10,
      "outputs": []
    },
    {
      "cell_type": "code",
      "source": [
        "def text_variable_Birch(corpus, documents,cluster_k):\n",
        "  def lista_organiza(arr_conv):\n",
        "    n = arr_conv.shape[0]\n",
        "    lista =[]\n",
        "    for i in range(n):\n",
        "      arr = arr_conv[i]\n",
        "      ans =' '.join(arr)\n",
        "      lista.append(ans)\n",
        "    resp = lista\n",
        "    return resp  \n",
        "  corpus = lista_organiza(corpus)\n",
        "  documents = lista_organiza(documents)\n",
        "  vectorizer = TfidfVectorizer(stop_words='english')\n",
        "\n",
        "  XW = vectorizer.fit_transform(corpus)\n",
        "\n",
        "  model = Birch(threshold=0.01, n_clusters = cluster_k)\n",
        "  model.fit(XW)\n",
        "  resp = []\n",
        "  for x in documents:\n",
        "    doc=[]\n",
        "    doc.append(x)\n",
        "    Y = vectorizer.transform(doc)\n",
        "    prediction = model.predict(Y)\n",
        "    resp.append(prediction[0])\n",
        "  return resp"
      ],
      "metadata": {
        "id": "c-GR2S3_Zgi3"
      },
      "execution_count": 11,
      "outputs": []
    },
    {
      "cell_type": "code",
      "source": [
        "def text_Birch_check(corpus, documents,jobs,cluster_k):\n",
        "  def lista_organiza(arr_conv):\n",
        "    n = arr_conv.shape[0]\n",
        "    lista =[]\n",
        "    for i in range(n):\n",
        "      arr = arr_conv[i]\n",
        "      ans =' '.join(arr)\n",
        "      lista.append(ans)\n",
        "    resp = lista\n",
        "    return resp  \n",
        "  corpus = lista_organiza(corpus)\n",
        "  documents = lista_organiza(documents)\n",
        "  jobs = lista_organiza(jobs)\n",
        "  vectorizer = TfidfVectorizer(stop_words='english')\n",
        "\n",
        "  XW = vectorizer.fit_transform(corpus)\n",
        "\n",
        "  model = Birch(threshold=0.01, n_clusters = cluster_k)\n",
        "  model.fit(XW)\n",
        "  resp = []\n",
        "  for x in documents:\n",
        "    doc=[]\n",
        "    doc.append(x)\n",
        "    Y = vectorizer.transform(doc)\n",
        "    prediction = model.predict(Y)\n",
        "    resp.append(prediction[0])\n",
        "  y1 = resp\n",
        "  resp = []\n",
        "  for x in jobs:\n",
        "    doc=[]\n",
        "    doc.append(x)\n",
        "    Y = vectorizer.transform(doc)\n",
        "    prediction = model.predict(Y)\n",
        "    resp.append(prediction[0])\n",
        "  y2 = resp\n",
        "  return y1,y2"
      ],
      "metadata": {
        "id": "o73kdx1vzk2C"
      },
      "execution_count": 12,
      "outputs": []
    },
    {
      "cell_type": "code",
      "source": [
        "data=df.drop(columns=['Picture URL'])"
      ],
      "metadata": {
        "id": "O3Y7as-OolX2"
      },
      "execution_count": 13,
      "outputs": []
    },
    {
      "cell_type": "code",
      "source": [
        "#data['Manual Label'].describe()"
      ],
      "metadata": {
        "id": "HGDaQb7KebDX"
      },
      "execution_count": 14,
      "outputs": []
    },
    {
      "cell_type": "code",
      "source": [
        "data['Pic Title'].describe()"
      ],
      "metadata": {
        "id": "mCXEn8Wme3db",
        "colab": {
          "base_uri": "https://localhost:8080/"
        },
        "outputId": "95f48c2d-bf9d-4082-aacc-3a30e41c2516"
      },
      "execution_count": 15,
      "outputs": [
        {
          "output_type": "execute_result",
          "data": {
            "text/plain": [
              "count                            658\n",
              "unique                           593\n",
              "top       Bureau of Labor Statistics\n",
              "freq                              17\n",
              "Name: Pic Title, dtype: object"
            ]
          },
          "metadata": {},
          "execution_count": 15
        }
      ]
    },
    {
      "cell_type": "markdown",
      "source": [
        "# Exploratory Analysis"
      ],
      "metadata": {
        "id": "cy920h25yvyg"
      }
    },
    {
      "cell_type": "markdown",
      "source": [
        "# Data Preprocessing"
      ],
      "metadata": {
        "id": "y4fO9kxxy-Lc"
      }
    },
    {
      "cell_type": "code",
      "source": [
        "import nltk\n",
        "ps = nltk.PorterStemmer()\n",
        "wn=nltk.WordNetLemmatizer()\n",
        "nltk.download(\"popular\")\n",
        "stopwords = nltk.corpus.stopwords.words('english')\n",
        "import re\n",
        "import string"
      ],
      "metadata": {
        "id": "Zk7tUJ0uzIQf",
        "colab": {
          "base_uri": "https://localhost:8080/"
        },
        "outputId": "4594fc7b-a0d7-43ef-d075-96c7158b9276"
      },
      "execution_count": 16,
      "outputs": [
        {
          "output_type": "stream",
          "name": "stderr",
          "text": [
            "[nltk_data] Downloading collection 'popular'\n",
            "[nltk_data]    | \n",
            "[nltk_data]    | Downloading package cmudict to /root/nltk_data...\n",
            "[nltk_data]    |   Package cmudict is already up-to-date!\n",
            "[nltk_data]    | Downloading package gazetteers to /root/nltk_data...\n",
            "[nltk_data]    |   Package gazetteers is already up-to-date!\n",
            "[nltk_data]    | Downloading package genesis to /root/nltk_data...\n",
            "[nltk_data]    |   Package genesis is already up-to-date!\n",
            "[nltk_data]    | Downloading package gutenberg to /root/nltk_data...\n",
            "[nltk_data]    |   Package gutenberg is already up-to-date!\n",
            "[nltk_data]    | Downloading package inaugural to /root/nltk_data...\n",
            "[nltk_data]    |   Package inaugural is already up-to-date!\n",
            "[nltk_data]    | Downloading package movie_reviews to\n",
            "[nltk_data]    |     /root/nltk_data...\n",
            "[nltk_data]    |   Package movie_reviews is already up-to-date!\n",
            "[nltk_data]    | Downloading package names to /root/nltk_data...\n",
            "[nltk_data]    |   Package names is already up-to-date!\n",
            "[nltk_data]    | Downloading package shakespeare to /root/nltk_data...\n",
            "[nltk_data]    |   Package shakespeare is already up-to-date!\n",
            "[nltk_data]    | Downloading package stopwords to /root/nltk_data...\n",
            "[nltk_data]    |   Package stopwords is already up-to-date!\n",
            "[nltk_data]    | Downloading package treebank to /root/nltk_data...\n",
            "[nltk_data]    |   Package treebank is already up-to-date!\n",
            "[nltk_data]    | Downloading package twitter_samples to\n",
            "[nltk_data]    |     /root/nltk_data...\n",
            "[nltk_data]    |   Package twitter_samples is already up-to-date!\n",
            "[nltk_data]    | Downloading package omw to /root/nltk_data...\n",
            "[nltk_data]    |   Package omw is already up-to-date!\n",
            "[nltk_data]    | Downloading package omw-1.4 to /root/nltk_data...\n",
            "[nltk_data]    |   Package omw-1.4 is already up-to-date!\n",
            "[nltk_data]    | Downloading package wordnet to /root/nltk_data...\n",
            "[nltk_data]    |   Package wordnet is already up-to-date!\n",
            "[nltk_data]    | Downloading package wordnet2021 to /root/nltk_data...\n",
            "[nltk_data]    |   Package wordnet2021 is already up-to-date!\n",
            "[nltk_data]    | Downloading package wordnet31 to /root/nltk_data...\n",
            "[nltk_data]    |   Package wordnet31 is already up-to-date!\n",
            "[nltk_data]    | Downloading package wordnet_ic to /root/nltk_data...\n",
            "[nltk_data]    |   Package wordnet_ic is already up-to-date!\n",
            "[nltk_data]    | Downloading package words to /root/nltk_data...\n",
            "[nltk_data]    |   Package words is already up-to-date!\n",
            "[nltk_data]    | Downloading package maxent_ne_chunker to\n",
            "[nltk_data]    |     /root/nltk_data...\n",
            "[nltk_data]    |   Package maxent_ne_chunker is already up-to-date!\n",
            "[nltk_data]    | Downloading package punkt to /root/nltk_data...\n",
            "[nltk_data]    |   Package punkt is already up-to-date!\n",
            "[nltk_data]    | Downloading package snowball_data to\n",
            "[nltk_data]    |     /root/nltk_data...\n",
            "[nltk_data]    |   Package snowball_data is already up-to-date!\n",
            "[nltk_data]    | Downloading package averaged_perceptron_tagger to\n",
            "[nltk_data]    |     /root/nltk_data...\n",
            "[nltk_data]    |   Package averaged_perceptron_tagger is already up-\n",
            "[nltk_data]    |       to-date!\n",
            "[nltk_data]    | \n",
            "[nltk_data]  Done downloading collection popular\n"
          ]
        }
      ]
    },
    {
      "cell_type": "markdown",
      "source": [
        "### Clean up text"
      ],
      "metadata": {
        "id": "Ms3eUeIomxlg"
      }
    },
    {
      "cell_type": "code",
      "source": [
        "def clean_text(text):\n",
        "    text = \"\".join([word for word in text if word not in string.punctuation])\n",
        "    tokens = re.split('\\W+', text)\n",
        "    text = [word for word in tokens if word not in stopwords]\n",
        "    return text\n",
        "\n",
        "data['Job Title'] = data['Job Title'].apply(lambda x: clean_text(x.lower()))\n",
        "data['Pic Title'] = data['Pic Title'].apply(lambda x: clean_text(x.lower()))\n",
        "#data.head()"
      ],
      "metadata": {
        "id": "FWg_1z62jEaw"
      },
      "execution_count": 17,
      "outputs": []
    },
    {
      "cell_type": "code",
      "source": [
        "#data.columns"
      ],
      "metadata": {
        "id": "4lfJ3zmNm7s3"
      },
      "execution_count": 18,
      "outputs": []
    },
    {
      "cell_type": "code",
      "source": [
        "#documents_new = data['Pic Title'].values\n",
        "#documents_new"
      ],
      "metadata": {
        "id": "h3awdqconF_4"
      },
      "execution_count": 19,
      "outputs": []
    },
    {
      "cell_type": "code",
      "source": [
        "\n"
      ],
      "metadata": {
        "id": "0xWOcwnVrnB7"
      },
      "execution_count": 19,
      "outputs": []
    },
    {
      "cell_type": "code",
      "source": [],
      "metadata": {
        "id": "DsaYaA3JudeS"
      },
      "execution_count": 19,
      "outputs": []
    },
    {
      "cell_type": "markdown",
      "source": [
        "### Stem / Lemmatize text"
      ],
      "metadata": {
        "id": "RJUlsYj7nC4P"
      }
    },
    {
      "cell_type": "code",
      "source": [
        "def stemming(text):\n",
        "  stemmed=[ps.stem(word) for word in text]\n",
        "  return stemmed\n",
        "\n",
        "data['Stem Job Title'] = data['Job Title'].apply(lambda x: stemming(x))\n",
        "data['Stem Pic Title'] = data['Pic Title'].apply(lambda x: stemming(x))\n",
        "#data"
      ],
      "metadata": {
        "id": "PCS028iFp_bj"
      },
      "execution_count": 20,
      "outputs": []
    },
    {
      "cell_type": "code",
      "source": [
        "#data[data['Manual Label']=='bad']"
      ],
      "metadata": {
        "id": "thfBx5G3UnLN"
      },
      "execution_count": 21,
      "outputs": []
    },
    {
      "cell_type": "code",
      "source": [
        "#data[data['Manual Label']=='good']"
      ],
      "metadata": {
        "id": "mY-rUfIbVaaL"
      },
      "execution_count": 22,
      "outputs": []
    },
    {
      "cell_type": "code",
      "source": [
        "#documents = list(data['Stem Pic Title'].values)\n",
        "#job = list(data['Stem Job Title'].values)"
      ],
      "metadata": {
        "id": "lwzqU6nlgEs0"
      },
      "execution_count": 23,
      "outputs": []
    },
    {
      "cell_type": "code",
      "source": [
        "documents = data['Stem Pic Title'].values\n",
        "job = data['Stem Job Title'].values"
      ],
      "metadata": {
        "id": "qSUpFbWT-TI1"
      },
      "execution_count": 24,
      "outputs": []
    },
    {
      "cell_type": "code",
      "source": [
        "# print(text_show(documents))"
      ],
      "metadata": {
        "id": "Av3y5xZXu0eN"
      },
      "execution_count": 25,
      "outputs": []
    },
    {
      "cell_type": "code",
      "source": [
        "# documents"
      ],
      "metadata": {
        "id": "5H7ujPKyu42N"
      },
      "execution_count": 26,
      "outputs": []
    },
    {
      "cell_type": "code",
      "source": [
        "corpus = job + documents"
      ],
      "metadata": {
        "id": "6kx5LjlRhX4b"
      },
      "execution_count": 27,
      "outputs": []
    },
    {
      "cell_type": "code",
      "source": [
        "# data.head()"
      ],
      "metadata": {
        "id": "g6Wr6jN6tq2d"
      },
      "execution_count": 28,
      "outputs": []
    },
    {
      "cell_type": "markdown",
      "source": [
        "career, senior"
      ],
      "metadata": {
        "id": "s85Qe0nWY18g"
      }
    },
    {
      "cell_type": "markdown",
      "source": [
        "###Data split"
      ],
      "metadata": {
        "id": "MFHtuk7prz4p"
      }
    },
    {
      "cell_type": "code",
      "source": [
        "data=data.drop(columns=['Job Title','Pic Title'])"
      ],
      "metadata": {
        "id": "DdvQ5CaUuo0S"
      },
      "execution_count": 29,
      "outputs": []
    },
    {
      "cell_type": "code",
      "source": [
        "''' Data (with labels) to test the model '''\n",
        "\n",
        "labaled= data[data['Manual Label'].notna()]\n",
        "#labaled.head()"
      ],
      "metadata": {
        "id": "Fy2K09ljr88O"
      },
      "execution_count": 30,
      "outputs": []
    },
    {
      "cell_type": "code",
      "source": [
        "#Drop target feature\n",
        "#X = data.drop(columns=['Manual Label','Stem Job Title','Stem Pic Title','KB size','Num Resumes','Google Position','Width','Text Regions']) \n",
        "clusters = []\n",
        "cluster_both = []\n",
        "n =20\n",
        "for i in range(5,n):\n",
        "  cluster_both.append(i)\n",
        "  clusters.append(i)\n",
        "X = data.drop(columns=['Manual Label','Stem Job Title','Stem Pic Title','KB size','Resolution','Width']) \n",
        "W = X\n",
        "# get the elements containing label (we will use it to evaluate the method)\n",
        "y = data['Manual Label'].replace({'good':0, 'bad':1})\n",
        "index_no = data['Manual Label'].notna()\n",
        "y_real = y[index_no].astype(int)\n",
        "\n",
        "grid_find =[]\n",
        "\n",
        "for ncluster in clusters:\n",
        "  for cluster_k in cluster_both:\n",
        "    X = W\n",
        "    y1, y2  = text_kmeans_check(corpus, documents, job, cluster_k)\n",
        "\n",
        "    resp = text_variable(corpus,documents,ncluster)\n",
        "    X['Doc_title'] = resp\n",
        "\n",
        "    #resp = text_variable(corpus,job,ncluster[1]) \n",
        "    #X['Doc_job'] = resp\n",
        "\n",
        "    X['y1'] = y1\n",
        "    X['y2'] = y2\n",
        "    scaler = preprocessing.StandardScaler()\n",
        "    Xs = scaler.fit_transform(X)\n",
        "    y_pred = KMeans(n_clusters=2, init='k-means++', max_iter=200, n_init=1).fit_predict(Xs)\n",
        "\n",
        "    X_eval= Xs[index_no,:]\n",
        "    y_mod = y_pred[index_no]\n",
        "    prec = precision_score(y_real, y_mod)\n",
        "    rec = recall_score(y_real, y_mod)\n",
        "    f1 = f1_score(y_real, y_mod)\n",
        "    acc = accuracy_score(y_real, y_mod)\n",
        "    lista =[ncluster,cluster_k,prec,rec,f1,acc]\n",
        "    grid_find.append(lista)\n",
        "\n",
        "\n",
        "names =['cluster 0','cluster both','precision','recall','f1-score','accuracy']\n",
        "grid = pd.DataFrame(grid_find, columns=names)\n",
        "\n"
      ],
      "metadata": {
        "id": "gwzmkxZP-uxI",
        "colab": {
          "base_uri": "https://localhost:8080/"
        },
        "outputId": "5859901f-b91f-4c63-9c04-c0715f5e064a"
      },
      "execution_count": 31,
      "outputs": [
        {
          "output_type": "stream",
          "name": "stderr",
          "text": [
            "/usr/local/lib/python3.7/dist-packages/sklearn/metrics/_classification.py:1318: UndefinedMetricWarning: Precision is ill-defined and being set to 0.0 due to no predicted samples. Use `zero_division` parameter to control this behavior.\n",
            "  _warn_prf(average, modifier, msg_start, len(result))\n",
            "/usr/local/lib/python3.7/dist-packages/sklearn/metrics/_classification.py:1318: UndefinedMetricWarning: Precision is ill-defined and being set to 0.0 due to no predicted samples. Use `zero_division` parameter to control this behavior.\n",
            "  _warn_prf(average, modifier, msg_start, len(result))\n",
            "/usr/local/lib/python3.7/dist-packages/sklearn/metrics/_classification.py:1318: UndefinedMetricWarning: Precision is ill-defined and being set to 0.0 due to no predicted samples. Use `zero_division` parameter to control this behavior.\n",
            "  _warn_prf(average, modifier, msg_start, len(result))\n"
          ]
        }
      ]
    },
    {
      "cell_type": "code",
      "source": [
        "grid"
      ],
      "metadata": {
        "id": "rJOWyWBOHQ1U",
        "colab": {
          "base_uri": "https://localhost:8080/",
          "height": 656
        },
        "outputId": "34a44ff8-e681-4ba4-dec3-a498a0b2aef7"
      },
      "execution_count": 32,
      "outputs": [
        {
          "output_type": "execute_result",
          "data": {
            "text/plain": [
              "     cluster 0  cluster both  precision    recall  f1-score  accuracy\n",
              "0            5             5   0.310000  0.738095  0.436620  0.398496\n",
              "1            5             6   0.404255  0.452381  0.426966  0.616541\n",
              "2            5             7   0.444444  0.095238  0.156863  0.676692\n",
              "3            5             8   0.461538  0.285714  0.352941  0.669173\n",
              "4            5             9   0.316667  0.904762  0.469136  0.353383\n",
              "..         ...           ...        ...       ...       ...       ...\n",
              "220         19            15   0.333333  0.261905  0.293333  0.601504\n",
              "221         19            16   0.312977  0.976190  0.473988  0.315789\n",
              "222         19            17   0.250000  0.285714  0.266667  0.503759\n",
              "223         19            18   0.385965  0.523810  0.444444  0.586466\n",
              "224         19            19   0.250000  0.142857  0.181818  0.593985\n",
              "\n",
              "[225 rows x 6 columns]"
            ],
            "text/html": [
              "\n",
              "  <div id=\"df-f26d9e72-43b5-490f-bcd7-50f36beb54d4\">\n",
              "    <div class=\"colab-df-container\">\n",
              "      <div>\n",
              "<style scoped>\n",
              "    .dataframe tbody tr th:only-of-type {\n",
              "        vertical-align: middle;\n",
              "    }\n",
              "\n",
              "    .dataframe tbody tr th {\n",
              "        vertical-align: top;\n",
              "    }\n",
              "\n",
              "    .dataframe thead th {\n",
              "        text-align: right;\n",
              "    }\n",
              "</style>\n",
              "<table border=\"1\" class=\"dataframe\">\n",
              "  <thead>\n",
              "    <tr style=\"text-align: right;\">\n",
              "      <th></th>\n",
              "      <th>cluster 0</th>\n",
              "      <th>cluster both</th>\n",
              "      <th>precision</th>\n",
              "      <th>recall</th>\n",
              "      <th>f1-score</th>\n",
              "      <th>accuracy</th>\n",
              "    </tr>\n",
              "  </thead>\n",
              "  <tbody>\n",
              "    <tr>\n",
              "      <th>0</th>\n",
              "      <td>5</td>\n",
              "      <td>5</td>\n",
              "      <td>0.310000</td>\n",
              "      <td>0.738095</td>\n",
              "      <td>0.436620</td>\n",
              "      <td>0.398496</td>\n",
              "    </tr>\n",
              "    <tr>\n",
              "      <th>1</th>\n",
              "      <td>5</td>\n",
              "      <td>6</td>\n",
              "      <td>0.404255</td>\n",
              "      <td>0.452381</td>\n",
              "      <td>0.426966</td>\n",
              "      <td>0.616541</td>\n",
              "    </tr>\n",
              "    <tr>\n",
              "      <th>2</th>\n",
              "      <td>5</td>\n",
              "      <td>7</td>\n",
              "      <td>0.444444</td>\n",
              "      <td>0.095238</td>\n",
              "      <td>0.156863</td>\n",
              "      <td>0.676692</td>\n",
              "    </tr>\n",
              "    <tr>\n",
              "      <th>3</th>\n",
              "      <td>5</td>\n",
              "      <td>8</td>\n",
              "      <td>0.461538</td>\n",
              "      <td>0.285714</td>\n",
              "      <td>0.352941</td>\n",
              "      <td>0.669173</td>\n",
              "    </tr>\n",
              "    <tr>\n",
              "      <th>4</th>\n",
              "      <td>5</td>\n",
              "      <td>9</td>\n",
              "      <td>0.316667</td>\n",
              "      <td>0.904762</td>\n",
              "      <td>0.469136</td>\n",
              "      <td>0.353383</td>\n",
              "    </tr>\n",
              "    <tr>\n",
              "      <th>...</th>\n",
              "      <td>...</td>\n",
              "      <td>...</td>\n",
              "      <td>...</td>\n",
              "      <td>...</td>\n",
              "      <td>...</td>\n",
              "      <td>...</td>\n",
              "    </tr>\n",
              "    <tr>\n",
              "      <th>220</th>\n",
              "      <td>19</td>\n",
              "      <td>15</td>\n",
              "      <td>0.333333</td>\n",
              "      <td>0.261905</td>\n",
              "      <td>0.293333</td>\n",
              "      <td>0.601504</td>\n",
              "    </tr>\n",
              "    <tr>\n",
              "      <th>221</th>\n",
              "      <td>19</td>\n",
              "      <td>16</td>\n",
              "      <td>0.312977</td>\n",
              "      <td>0.976190</td>\n",
              "      <td>0.473988</td>\n",
              "      <td>0.315789</td>\n",
              "    </tr>\n",
              "    <tr>\n",
              "      <th>222</th>\n",
              "      <td>19</td>\n",
              "      <td>17</td>\n",
              "      <td>0.250000</td>\n",
              "      <td>0.285714</td>\n",
              "      <td>0.266667</td>\n",
              "      <td>0.503759</td>\n",
              "    </tr>\n",
              "    <tr>\n",
              "      <th>223</th>\n",
              "      <td>19</td>\n",
              "      <td>18</td>\n",
              "      <td>0.385965</td>\n",
              "      <td>0.523810</td>\n",
              "      <td>0.444444</td>\n",
              "      <td>0.586466</td>\n",
              "    </tr>\n",
              "    <tr>\n",
              "      <th>224</th>\n",
              "      <td>19</td>\n",
              "      <td>19</td>\n",
              "      <td>0.250000</td>\n",
              "      <td>0.142857</td>\n",
              "      <td>0.181818</td>\n",
              "      <td>0.593985</td>\n",
              "    </tr>\n",
              "  </tbody>\n",
              "</table>\n",
              "<p>225 rows × 6 columns</p>\n",
              "</div>\n",
              "      <button class=\"colab-df-convert\" onclick=\"convertToInteractive('df-f26d9e72-43b5-490f-bcd7-50f36beb54d4')\"\n",
              "              title=\"Convert this dataframe to an interactive table.\"\n",
              "              style=\"display:none;\">\n",
              "        \n",
              "  <svg xmlns=\"http://www.w3.org/2000/svg\" height=\"24px\"viewBox=\"0 0 24 24\"\n",
              "       width=\"24px\">\n",
              "    <path d=\"M0 0h24v24H0V0z\" fill=\"none\"/>\n",
              "    <path d=\"M18.56 5.44l.94 2.06.94-2.06 2.06-.94-2.06-.94-.94-2.06-.94 2.06-2.06.94zm-11 1L8.5 8.5l.94-2.06 2.06-.94-2.06-.94L8.5 2.5l-.94 2.06-2.06.94zm10 10l.94 2.06.94-2.06 2.06-.94-2.06-.94-.94-2.06-.94 2.06-2.06.94z\"/><path d=\"M17.41 7.96l-1.37-1.37c-.4-.4-.92-.59-1.43-.59-.52 0-1.04.2-1.43.59L10.3 9.45l-7.72 7.72c-.78.78-.78 2.05 0 2.83L4 21.41c.39.39.9.59 1.41.59.51 0 1.02-.2 1.41-.59l7.78-7.78 2.81-2.81c.8-.78.8-2.07 0-2.86zM5.41 20L4 18.59l7.72-7.72 1.47 1.35L5.41 20z\"/>\n",
              "  </svg>\n",
              "      </button>\n",
              "      \n",
              "  <style>\n",
              "    .colab-df-container {\n",
              "      display:flex;\n",
              "      flex-wrap:wrap;\n",
              "      gap: 12px;\n",
              "    }\n",
              "\n",
              "    .colab-df-convert {\n",
              "      background-color: #E8F0FE;\n",
              "      border: none;\n",
              "      border-radius: 50%;\n",
              "      cursor: pointer;\n",
              "      display: none;\n",
              "      fill: #1967D2;\n",
              "      height: 32px;\n",
              "      padding: 0 0 0 0;\n",
              "      width: 32px;\n",
              "    }\n",
              "\n",
              "    .colab-df-convert:hover {\n",
              "      background-color: #E2EBFA;\n",
              "      box-shadow: 0px 1px 2px rgba(60, 64, 67, 0.3), 0px 1px 3px 1px rgba(60, 64, 67, 0.15);\n",
              "      fill: #174EA6;\n",
              "    }\n",
              "\n",
              "    [theme=dark] .colab-df-convert {\n",
              "      background-color: #3B4455;\n",
              "      fill: #D2E3FC;\n",
              "    }\n",
              "\n",
              "    [theme=dark] .colab-df-convert:hover {\n",
              "      background-color: #434B5C;\n",
              "      box-shadow: 0px 1px 3px 1px rgba(0, 0, 0, 0.15);\n",
              "      filter: drop-shadow(0px 1px 2px rgba(0, 0, 0, 0.3));\n",
              "      fill: #FFFFFF;\n",
              "    }\n",
              "  </style>\n",
              "\n",
              "      <script>\n",
              "        const buttonEl =\n",
              "          document.querySelector('#df-f26d9e72-43b5-490f-bcd7-50f36beb54d4 button.colab-df-convert');\n",
              "        buttonEl.style.display =\n",
              "          google.colab.kernel.accessAllowed ? 'block' : 'none';\n",
              "\n",
              "        async function convertToInteractive(key) {\n",
              "          const element = document.querySelector('#df-f26d9e72-43b5-490f-bcd7-50f36beb54d4');\n",
              "          const dataTable =\n",
              "            await google.colab.kernel.invokeFunction('convertToInteractive',\n",
              "                                                     [key], {});\n",
              "          if (!dataTable) return;\n",
              "\n",
              "          const docLinkHtml = 'Like what you see? Visit the ' +\n",
              "            '<a target=\"_blank\" href=https://colab.research.google.com/notebooks/data_table.ipynb>data table notebook</a>'\n",
              "            + ' to learn more about interactive tables.';\n",
              "          element.innerHTML = '';\n",
              "          dataTable['output_type'] = 'display_data';\n",
              "          await google.colab.output.renderOutput(dataTable, element);\n",
              "          const docLink = document.createElement('div');\n",
              "          docLink.innerHTML = docLinkHtml;\n",
              "          element.appendChild(docLink);\n",
              "        }\n",
              "      </script>\n",
              "    </div>\n",
              "  </div>\n",
              "  "
            ]
          },
          "metadata": {},
          "execution_count": 32
        }
      ]
    },
    {
      "cell_type": "code",
      "source": [
        "grid.sort_values(by=['f1-score'], ascending=False)"
      ],
      "metadata": {
        "colab": {
          "base_uri": "https://localhost:8080/",
          "height": 656
        },
        "id": "T0WLmuuqMYgm",
        "outputId": "7762c140-369c-4d21-d114-2717403fb108"
      },
      "execution_count": 42,
      "outputs": [
        {
          "output_type": "execute_result",
          "data": {
            "text/plain": [
              "     cluster 0  cluster both  precision    recall  f1-score  accuracy\n",
              "17           6             7   0.541667  0.619048  0.577778  0.714286\n",
              "163         15            18   0.491525  0.690476  0.574257  0.676692\n",
              "18           6             8   0.438356  0.761905  0.556522  0.616541\n",
              "37           7            12   0.409639  0.809524  0.544000  0.571429\n",
              "117         12            17   0.459016  0.666667  0.543689  0.646617\n",
              "..         ...           ...        ...       ...       ...       ...\n",
              "153         15             8   0.500000  0.023810  0.045455  0.684211\n",
              "134         13            19   0.500000  0.023810  0.045455  0.684211\n",
              "78          10             8   0.000000  0.000000  0.000000  0.684211\n",
              "114         12            14   0.000000  0.000000  0.000000  0.684211\n",
              "59           8            19   0.000000  0.000000  0.000000  0.684211\n",
              "\n",
              "[225 rows x 6 columns]"
            ],
            "text/html": [
              "\n",
              "  <div id=\"df-9954901b-f679-4633-b3a7-9cd401a2c256\">\n",
              "    <div class=\"colab-df-container\">\n",
              "      <div>\n",
              "<style scoped>\n",
              "    .dataframe tbody tr th:only-of-type {\n",
              "        vertical-align: middle;\n",
              "    }\n",
              "\n",
              "    .dataframe tbody tr th {\n",
              "        vertical-align: top;\n",
              "    }\n",
              "\n",
              "    .dataframe thead th {\n",
              "        text-align: right;\n",
              "    }\n",
              "</style>\n",
              "<table border=\"1\" class=\"dataframe\">\n",
              "  <thead>\n",
              "    <tr style=\"text-align: right;\">\n",
              "      <th></th>\n",
              "      <th>cluster 0</th>\n",
              "      <th>cluster both</th>\n",
              "      <th>precision</th>\n",
              "      <th>recall</th>\n",
              "      <th>f1-score</th>\n",
              "      <th>accuracy</th>\n",
              "    </tr>\n",
              "  </thead>\n",
              "  <tbody>\n",
              "    <tr>\n",
              "      <th>17</th>\n",
              "      <td>6</td>\n",
              "      <td>7</td>\n",
              "      <td>0.541667</td>\n",
              "      <td>0.619048</td>\n",
              "      <td>0.577778</td>\n",
              "      <td>0.714286</td>\n",
              "    </tr>\n",
              "    <tr>\n",
              "      <th>163</th>\n",
              "      <td>15</td>\n",
              "      <td>18</td>\n",
              "      <td>0.491525</td>\n",
              "      <td>0.690476</td>\n",
              "      <td>0.574257</td>\n",
              "      <td>0.676692</td>\n",
              "    </tr>\n",
              "    <tr>\n",
              "      <th>18</th>\n",
              "      <td>6</td>\n",
              "      <td>8</td>\n",
              "      <td>0.438356</td>\n",
              "      <td>0.761905</td>\n",
              "      <td>0.556522</td>\n",
              "      <td>0.616541</td>\n",
              "    </tr>\n",
              "    <tr>\n",
              "      <th>37</th>\n",
              "      <td>7</td>\n",
              "      <td>12</td>\n",
              "      <td>0.409639</td>\n",
              "      <td>0.809524</td>\n",
              "      <td>0.544000</td>\n",
              "      <td>0.571429</td>\n",
              "    </tr>\n",
              "    <tr>\n",
              "      <th>117</th>\n",
              "      <td>12</td>\n",
              "      <td>17</td>\n",
              "      <td>0.459016</td>\n",
              "      <td>0.666667</td>\n",
              "      <td>0.543689</td>\n",
              "      <td>0.646617</td>\n",
              "    </tr>\n",
              "    <tr>\n",
              "      <th>...</th>\n",
              "      <td>...</td>\n",
              "      <td>...</td>\n",
              "      <td>...</td>\n",
              "      <td>...</td>\n",
              "      <td>...</td>\n",
              "      <td>...</td>\n",
              "    </tr>\n",
              "    <tr>\n",
              "      <th>153</th>\n",
              "      <td>15</td>\n",
              "      <td>8</td>\n",
              "      <td>0.500000</td>\n",
              "      <td>0.023810</td>\n",
              "      <td>0.045455</td>\n",
              "      <td>0.684211</td>\n",
              "    </tr>\n",
              "    <tr>\n",
              "      <th>134</th>\n",
              "      <td>13</td>\n",
              "      <td>19</td>\n",
              "      <td>0.500000</td>\n",
              "      <td>0.023810</td>\n",
              "      <td>0.045455</td>\n",
              "      <td>0.684211</td>\n",
              "    </tr>\n",
              "    <tr>\n",
              "      <th>78</th>\n",
              "      <td>10</td>\n",
              "      <td>8</td>\n",
              "      <td>0.000000</td>\n",
              "      <td>0.000000</td>\n",
              "      <td>0.000000</td>\n",
              "      <td>0.684211</td>\n",
              "    </tr>\n",
              "    <tr>\n",
              "      <th>114</th>\n",
              "      <td>12</td>\n",
              "      <td>14</td>\n",
              "      <td>0.000000</td>\n",
              "      <td>0.000000</td>\n",
              "      <td>0.000000</td>\n",
              "      <td>0.684211</td>\n",
              "    </tr>\n",
              "    <tr>\n",
              "      <th>59</th>\n",
              "      <td>8</td>\n",
              "      <td>19</td>\n",
              "      <td>0.000000</td>\n",
              "      <td>0.000000</td>\n",
              "      <td>0.000000</td>\n",
              "      <td>0.684211</td>\n",
              "    </tr>\n",
              "  </tbody>\n",
              "</table>\n",
              "<p>225 rows × 6 columns</p>\n",
              "</div>\n",
              "      <button class=\"colab-df-convert\" onclick=\"convertToInteractive('df-9954901b-f679-4633-b3a7-9cd401a2c256')\"\n",
              "              title=\"Convert this dataframe to an interactive table.\"\n",
              "              style=\"display:none;\">\n",
              "        \n",
              "  <svg xmlns=\"http://www.w3.org/2000/svg\" height=\"24px\"viewBox=\"0 0 24 24\"\n",
              "       width=\"24px\">\n",
              "    <path d=\"M0 0h24v24H0V0z\" fill=\"none\"/>\n",
              "    <path d=\"M18.56 5.44l.94 2.06.94-2.06 2.06-.94-2.06-.94-.94-2.06-.94 2.06-2.06.94zm-11 1L8.5 8.5l.94-2.06 2.06-.94-2.06-.94L8.5 2.5l-.94 2.06-2.06.94zm10 10l.94 2.06.94-2.06 2.06-.94-2.06-.94-.94-2.06-.94 2.06-2.06.94z\"/><path d=\"M17.41 7.96l-1.37-1.37c-.4-.4-.92-.59-1.43-.59-.52 0-1.04.2-1.43.59L10.3 9.45l-7.72 7.72c-.78.78-.78 2.05 0 2.83L4 21.41c.39.39.9.59 1.41.59.51 0 1.02-.2 1.41-.59l7.78-7.78 2.81-2.81c.8-.78.8-2.07 0-2.86zM5.41 20L4 18.59l7.72-7.72 1.47 1.35L5.41 20z\"/>\n",
              "  </svg>\n",
              "      </button>\n",
              "      \n",
              "  <style>\n",
              "    .colab-df-container {\n",
              "      display:flex;\n",
              "      flex-wrap:wrap;\n",
              "      gap: 12px;\n",
              "    }\n",
              "\n",
              "    .colab-df-convert {\n",
              "      background-color: #E8F0FE;\n",
              "      border: none;\n",
              "      border-radius: 50%;\n",
              "      cursor: pointer;\n",
              "      display: none;\n",
              "      fill: #1967D2;\n",
              "      height: 32px;\n",
              "      padding: 0 0 0 0;\n",
              "      width: 32px;\n",
              "    }\n",
              "\n",
              "    .colab-df-convert:hover {\n",
              "      background-color: #E2EBFA;\n",
              "      box-shadow: 0px 1px 2px rgba(60, 64, 67, 0.3), 0px 1px 3px 1px rgba(60, 64, 67, 0.15);\n",
              "      fill: #174EA6;\n",
              "    }\n",
              "\n",
              "    [theme=dark] .colab-df-convert {\n",
              "      background-color: #3B4455;\n",
              "      fill: #D2E3FC;\n",
              "    }\n",
              "\n",
              "    [theme=dark] .colab-df-convert:hover {\n",
              "      background-color: #434B5C;\n",
              "      box-shadow: 0px 1px 3px 1px rgba(0, 0, 0, 0.15);\n",
              "      filter: drop-shadow(0px 1px 2px rgba(0, 0, 0, 0.3));\n",
              "      fill: #FFFFFF;\n",
              "    }\n",
              "  </style>\n",
              "\n",
              "      <script>\n",
              "        const buttonEl =\n",
              "          document.querySelector('#df-9954901b-f679-4633-b3a7-9cd401a2c256 button.colab-df-convert');\n",
              "        buttonEl.style.display =\n",
              "          google.colab.kernel.accessAllowed ? 'block' : 'none';\n",
              "\n",
              "        async function convertToInteractive(key) {\n",
              "          const element = document.querySelector('#df-9954901b-f679-4633-b3a7-9cd401a2c256');\n",
              "          const dataTable =\n",
              "            await google.colab.kernel.invokeFunction('convertToInteractive',\n",
              "                                                     [key], {});\n",
              "          if (!dataTable) return;\n",
              "\n",
              "          const docLinkHtml = 'Like what you see? Visit the ' +\n",
              "            '<a target=\"_blank\" href=https://colab.research.google.com/notebooks/data_table.ipynb>data table notebook</a>'\n",
              "            + ' to learn more about interactive tables.';\n",
              "          element.innerHTML = '';\n",
              "          dataTable['output_type'] = 'display_data';\n",
              "          await google.colab.output.renderOutput(dataTable, element);\n",
              "          const docLink = document.createElement('div');\n",
              "          docLink.innerHTML = docLinkHtml;\n",
              "          element.appendChild(docLink);\n",
              "        }\n",
              "      </script>\n",
              "    </div>\n",
              "  </div>\n",
              "  "
            ]
          },
          "metadata": {},
          "execution_count": 42
        }
      ]
    },
    {
      "cell_type": "code",
      "source": [
        "#documents"
      ],
      "metadata": {
        "id": "w5t_3F7P9-l8"
      },
      "execution_count": 33,
      "outputs": []
    },
    {
      "cell_type": "markdown",
      "source": [
        "# Predictive Model"
      ],
      "metadata": {
        "id": "9aXxUfHOy3za"
      }
    },
    {
      "cell_type": "code",
      "source": [
        "#y_pred = KMeans(n_clusters=2).fit_predict(X)\n",
        "y_pred = KMeans(n_clusters=2, init='k-means++', max_iter=200, n_init=1).fit_predict(Xs)"
      ],
      "metadata": {
        "id": "L_PwjyWmBU2z"
      },
      "execution_count": 34,
      "outputs": []
    },
    {
      "cell_type": "code",
      "source": [
        "# len(y_pred)"
      ],
      "metadata": {
        "id": "jwDK5OMeNOW9"
      },
      "execution_count": 35,
      "outputs": []
    },
    {
      "cell_type": "code",
      "source": [
        "# get the elements containing label (we will use it to evaluate the method)\n",
        "y = data['Manual Label'].replace({'good':0, 'bad':1})\n",
        "index_no = data['Manual Label'].notna()\n",
        "y_real = y[index_no].astype(int)\n",
        "X_eval= Xs[index_no,:]\n",
        "y_mod = y_pred[index_no]"
      ],
      "metadata": {
        "id": "cgaHv92gUG6J"
      },
      "execution_count": 36,
      "outputs": []
    },
    {
      "cell_type": "code",
      "source": [
        "#y_real.shape, y_mod.shape"
      ],
      "metadata": {
        "id": "OBNXjunHYJua"
      },
      "execution_count": 37,
      "outputs": []
    },
    {
      "cell_type": "code",
      "source": [
        "# Classification Report\n",
        "print('\\n\\n', classification_report(y_real, y_mod, target_names=['0-Good', '1-Bad']))\n",
        "# Confusion Matrix\n",
        "con_matrix = pd.DataFrame(confusion_matrix(y_real, y_mod), columns=['Predicted Good', 'Predicted Bad'], index=['Actual Good', 'Actual Bad'])\n",
        "'''  \n",
        "plt.figure(figsize=(15,10))\n",
        "sns.heatmap(data=con_matrix, cmap='cool');\n",
        "plt.title('Model Confusion Matrix')\n",
        "plt.show();\n",
        "'''"
      ],
      "metadata": {
        "id": "Bmj7WdvjXYZj",
        "colab": {
          "base_uri": "https://localhost:8080/",
          "height": 226
        },
        "outputId": "f70bba17-6439-4adf-fbb4-445021274539"
      },
      "execution_count": 38,
      "outputs": [
        {
          "output_type": "stream",
          "name": "stdout",
          "text": [
            "\n",
            "\n",
            "               precision    recall  f1-score   support\n",
            "\n",
            "      0-Good       0.71      0.74      0.72        91\n",
            "       1-Bad       0.38      0.36      0.37        42\n",
            "\n",
            "    accuracy                           0.62       133\n",
            "   macro avg       0.55      0.55      0.55       133\n",
            "weighted avg       0.61      0.62      0.61       133\n",
            "\n"
          ]
        },
        {
          "output_type": "execute_result",
          "data": {
            "text/plain": [
              "\"  \\nplt.figure(figsize=(15,10))\\nsns.heatmap(data=con_matrix, cmap='cool');\\nplt.title('Model Confusion Matrix')\\nplt.show();\\n\""
            ],
            "application/vnd.google.colaboratory.intrinsic+json": {
              "type": "string"
            }
          },
          "metadata": {},
          "execution_count": 38
        }
      ]
    },
    {
      "cell_type": "code",
      "source": [
        "# Birch:  Balanced Iterative Reducing and Clustering using Hierarchies\n",
        "# “threshold” and “n_clusters” are the hyperparameters"
      ],
      "metadata": {
        "id": "DWiYqFtPQIab"
      },
      "execution_count": 39,
      "outputs": []
    },
    {
      "cell_type": "code",
      "source": [
        "X = W\n",
        "X = X.drop(columns= ['Doc_title','Doc_job','y1','y2'])\n",
        "\n",
        "\n",
        "# resp = text_variable(documents,ncluster[0])\n",
        "y1, y2  = text_Birch_check(corpus, documents, job, cluster_k)\n",
        "\n",
        "resp = text_variable_Birch(corpus,documents,ncluster[0])\n",
        "X['Doc_title'] = resp\n",
        "\n",
        "#resp = text_variable(job,ncluster[1])\n",
        "resp = text_variable_Birch(corpus,job,ncluster[1])\n",
        "X['Doc_job'] = resp\n",
        "\n",
        "X['y1'] = y1\n",
        "X['y2'] = y2\n",
        "\n",
        "W = X\n",
        "scaler = preprocessing.StandardScaler()\n",
        "Xs = scaler.fit_transform(X)\n",
        "model = Birch(threshold=0.01, n_clusters=2)\n",
        "# fit the model\n",
        "model.fit(Xs)\n",
        "# assign a cluster to each example\n",
        "y_calc = model.predict(Xs)\n",
        "index_no = data['Manual Label'].notna()\n",
        "y_mod = y_calc[index_no]"
      ],
      "metadata": {
        "id": "bNnc_XzPSuEJ",
        "colab": {
          "base_uri": "https://localhost:8080/",
          "height": 380
        },
        "outputId": "daf4b6f6-ac6d-42e6-f8bc-6bd5d5acc36d"
      },
      "execution_count": 40,
      "outputs": [
        {
          "output_type": "error",
          "ename": "KeyError",
          "evalue": "ignored",
          "traceback": [
            "\u001b[0;31m---------------------------------------------------------------------------\u001b[0m",
            "\u001b[0;31mKeyError\u001b[0m                                  Traceback (most recent call last)",
            "\u001b[0;32m<ipython-input-40-8bfb3dbdb498>\u001b[0m in \u001b[0;36m<module>\u001b[0;34m\u001b[0m\n\u001b[1;32m      1\u001b[0m \u001b[0mX\u001b[0m \u001b[0;34m=\u001b[0m \u001b[0mW\u001b[0m\u001b[0;34m\u001b[0m\u001b[0;34m\u001b[0m\u001b[0m\n\u001b[0;32m----> 2\u001b[0;31m \u001b[0mX\u001b[0m \u001b[0;34m=\u001b[0m \u001b[0mX\u001b[0m\u001b[0;34m.\u001b[0m\u001b[0mdrop\u001b[0m\u001b[0;34m(\u001b[0m\u001b[0mcolumns\u001b[0m\u001b[0;34m=\u001b[0m \u001b[0;34m[\u001b[0m\u001b[0;34m'Doc_title'\u001b[0m\u001b[0;34m,\u001b[0m\u001b[0;34m'Doc_job'\u001b[0m\u001b[0;34m,\u001b[0m\u001b[0;34m'y1'\u001b[0m\u001b[0;34m,\u001b[0m\u001b[0;34m'y2'\u001b[0m\u001b[0;34m]\u001b[0m\u001b[0;34m)\u001b[0m\u001b[0;34m\u001b[0m\u001b[0;34m\u001b[0m\u001b[0m\n\u001b[0m\u001b[1;32m      3\u001b[0m \u001b[0;34m\u001b[0m\u001b[0m\n\u001b[1;32m      4\u001b[0m \u001b[0;34m\u001b[0m\u001b[0m\n\u001b[1;32m      5\u001b[0m \u001b[0;31m# resp = text_variable(documents,ncluster[0])\u001b[0m\u001b[0;34m\u001b[0m\u001b[0;34m\u001b[0m\u001b[0;34m\u001b[0m\u001b[0m\n",
            "\u001b[0;32m/usr/local/lib/python3.7/dist-packages/pandas/util/_decorators.py\u001b[0m in \u001b[0;36mwrapper\u001b[0;34m(*args, **kwargs)\u001b[0m\n\u001b[1;32m    309\u001b[0m                     \u001b[0mstacklevel\u001b[0m\u001b[0;34m=\u001b[0m\u001b[0mstacklevel\u001b[0m\u001b[0;34m,\u001b[0m\u001b[0;34m\u001b[0m\u001b[0;34m\u001b[0m\u001b[0m\n\u001b[1;32m    310\u001b[0m                 )\n\u001b[0;32m--> 311\u001b[0;31m             \u001b[0;32mreturn\u001b[0m \u001b[0mfunc\u001b[0m\u001b[0;34m(\u001b[0m\u001b[0;34m*\u001b[0m\u001b[0margs\u001b[0m\u001b[0;34m,\u001b[0m \u001b[0;34m**\u001b[0m\u001b[0mkwargs\u001b[0m\u001b[0;34m)\u001b[0m\u001b[0;34m\u001b[0m\u001b[0;34m\u001b[0m\u001b[0m\n\u001b[0m\u001b[1;32m    312\u001b[0m \u001b[0;34m\u001b[0m\u001b[0m\n\u001b[1;32m    313\u001b[0m         \u001b[0;32mreturn\u001b[0m \u001b[0mwrapper\u001b[0m\u001b[0;34m\u001b[0m\u001b[0;34m\u001b[0m\u001b[0m\n",
            "\u001b[0;32m/usr/local/lib/python3.7/dist-packages/pandas/core/frame.py\u001b[0m in \u001b[0;36mdrop\u001b[0;34m(self, labels, axis, index, columns, level, inplace, errors)\u001b[0m\n\u001b[1;32m   4911\u001b[0m             \u001b[0mlevel\u001b[0m\u001b[0;34m=\u001b[0m\u001b[0mlevel\u001b[0m\u001b[0;34m,\u001b[0m\u001b[0;34m\u001b[0m\u001b[0;34m\u001b[0m\u001b[0m\n\u001b[1;32m   4912\u001b[0m             \u001b[0minplace\u001b[0m\u001b[0;34m=\u001b[0m\u001b[0minplace\u001b[0m\u001b[0;34m,\u001b[0m\u001b[0;34m\u001b[0m\u001b[0;34m\u001b[0m\u001b[0m\n\u001b[0;32m-> 4913\u001b[0;31m             \u001b[0merrors\u001b[0m\u001b[0;34m=\u001b[0m\u001b[0merrors\u001b[0m\u001b[0;34m,\u001b[0m\u001b[0;34m\u001b[0m\u001b[0;34m\u001b[0m\u001b[0m\n\u001b[0m\u001b[1;32m   4914\u001b[0m         )\n\u001b[1;32m   4915\u001b[0m \u001b[0;34m\u001b[0m\u001b[0m\n",
            "\u001b[0;32m/usr/local/lib/python3.7/dist-packages/pandas/core/generic.py\u001b[0m in \u001b[0;36mdrop\u001b[0;34m(self, labels, axis, index, columns, level, inplace, errors)\u001b[0m\n\u001b[1;32m   4148\u001b[0m         \u001b[0;32mfor\u001b[0m \u001b[0maxis\u001b[0m\u001b[0;34m,\u001b[0m \u001b[0mlabels\u001b[0m \u001b[0;32min\u001b[0m \u001b[0maxes\u001b[0m\u001b[0;34m.\u001b[0m\u001b[0mitems\u001b[0m\u001b[0;34m(\u001b[0m\u001b[0;34m)\u001b[0m\u001b[0;34m:\u001b[0m\u001b[0;34m\u001b[0m\u001b[0;34m\u001b[0m\u001b[0m\n\u001b[1;32m   4149\u001b[0m             \u001b[0;32mif\u001b[0m \u001b[0mlabels\u001b[0m \u001b[0;32mis\u001b[0m \u001b[0;32mnot\u001b[0m \u001b[0;32mNone\u001b[0m\u001b[0;34m:\u001b[0m\u001b[0;34m\u001b[0m\u001b[0;34m\u001b[0m\u001b[0m\n\u001b[0;32m-> 4150\u001b[0;31m                 \u001b[0mobj\u001b[0m \u001b[0;34m=\u001b[0m \u001b[0mobj\u001b[0m\u001b[0;34m.\u001b[0m\u001b[0m_drop_axis\u001b[0m\u001b[0;34m(\u001b[0m\u001b[0mlabels\u001b[0m\u001b[0;34m,\u001b[0m \u001b[0maxis\u001b[0m\u001b[0;34m,\u001b[0m \u001b[0mlevel\u001b[0m\u001b[0;34m=\u001b[0m\u001b[0mlevel\u001b[0m\u001b[0;34m,\u001b[0m \u001b[0merrors\u001b[0m\u001b[0;34m=\u001b[0m\u001b[0merrors\u001b[0m\u001b[0;34m)\u001b[0m\u001b[0;34m\u001b[0m\u001b[0;34m\u001b[0m\u001b[0m\n\u001b[0m\u001b[1;32m   4151\u001b[0m \u001b[0;34m\u001b[0m\u001b[0m\n\u001b[1;32m   4152\u001b[0m         \u001b[0;32mif\u001b[0m \u001b[0minplace\u001b[0m\u001b[0;34m:\u001b[0m\u001b[0;34m\u001b[0m\u001b[0;34m\u001b[0m\u001b[0m\n",
            "\u001b[0;32m/usr/local/lib/python3.7/dist-packages/pandas/core/generic.py\u001b[0m in \u001b[0;36m_drop_axis\u001b[0;34m(self, labels, axis, level, errors)\u001b[0m\n\u001b[1;32m   4183\u001b[0m                 \u001b[0mnew_axis\u001b[0m \u001b[0;34m=\u001b[0m \u001b[0maxis\u001b[0m\u001b[0;34m.\u001b[0m\u001b[0mdrop\u001b[0m\u001b[0;34m(\u001b[0m\u001b[0mlabels\u001b[0m\u001b[0;34m,\u001b[0m \u001b[0mlevel\u001b[0m\u001b[0;34m=\u001b[0m\u001b[0mlevel\u001b[0m\u001b[0;34m,\u001b[0m \u001b[0merrors\u001b[0m\u001b[0;34m=\u001b[0m\u001b[0merrors\u001b[0m\u001b[0;34m)\u001b[0m\u001b[0;34m\u001b[0m\u001b[0;34m\u001b[0m\u001b[0m\n\u001b[1;32m   4184\u001b[0m             \u001b[0;32melse\u001b[0m\u001b[0;34m:\u001b[0m\u001b[0;34m\u001b[0m\u001b[0;34m\u001b[0m\u001b[0m\n\u001b[0;32m-> 4185\u001b[0;31m                 \u001b[0mnew_axis\u001b[0m \u001b[0;34m=\u001b[0m \u001b[0maxis\u001b[0m\u001b[0;34m.\u001b[0m\u001b[0mdrop\u001b[0m\u001b[0;34m(\u001b[0m\u001b[0mlabels\u001b[0m\u001b[0;34m,\u001b[0m \u001b[0merrors\u001b[0m\u001b[0;34m=\u001b[0m\u001b[0merrors\u001b[0m\u001b[0;34m)\u001b[0m\u001b[0;34m\u001b[0m\u001b[0;34m\u001b[0m\u001b[0m\n\u001b[0m\u001b[1;32m   4186\u001b[0m             \u001b[0mresult\u001b[0m \u001b[0;34m=\u001b[0m \u001b[0mself\u001b[0m\u001b[0;34m.\u001b[0m\u001b[0mreindex\u001b[0m\u001b[0;34m(\u001b[0m\u001b[0;34m**\u001b[0m\u001b[0;34m{\u001b[0m\u001b[0maxis_name\u001b[0m\u001b[0;34m:\u001b[0m \u001b[0mnew_axis\u001b[0m\u001b[0;34m}\u001b[0m\u001b[0;34m)\u001b[0m\u001b[0;34m\u001b[0m\u001b[0;34m\u001b[0m\u001b[0m\n\u001b[1;32m   4187\u001b[0m \u001b[0;34m\u001b[0m\u001b[0m\n",
            "\u001b[0;32m/usr/local/lib/python3.7/dist-packages/pandas/core/indexes/base.py\u001b[0m in \u001b[0;36mdrop\u001b[0;34m(self, labels, errors)\u001b[0m\n\u001b[1;32m   6015\u001b[0m         \u001b[0;32mif\u001b[0m \u001b[0mmask\u001b[0m\u001b[0;34m.\u001b[0m\u001b[0many\u001b[0m\u001b[0;34m(\u001b[0m\u001b[0;34m)\u001b[0m\u001b[0;34m:\u001b[0m\u001b[0;34m\u001b[0m\u001b[0;34m\u001b[0m\u001b[0m\n\u001b[1;32m   6016\u001b[0m             \u001b[0;32mif\u001b[0m \u001b[0merrors\u001b[0m \u001b[0;34m!=\u001b[0m \u001b[0;34m\"ignore\"\u001b[0m\u001b[0;34m:\u001b[0m\u001b[0;34m\u001b[0m\u001b[0;34m\u001b[0m\u001b[0m\n\u001b[0;32m-> 6017\u001b[0;31m                 \u001b[0;32mraise\u001b[0m \u001b[0mKeyError\u001b[0m\u001b[0;34m(\u001b[0m\u001b[0;34mf\"{labels[mask]} not found in axis\"\u001b[0m\u001b[0;34m)\u001b[0m\u001b[0;34m\u001b[0m\u001b[0;34m\u001b[0m\u001b[0m\n\u001b[0m\u001b[1;32m   6018\u001b[0m             \u001b[0mindexer\u001b[0m \u001b[0;34m=\u001b[0m \u001b[0mindexer\u001b[0m\u001b[0;34m[\u001b[0m\u001b[0;34m~\u001b[0m\u001b[0mmask\u001b[0m\u001b[0;34m]\u001b[0m\u001b[0;34m\u001b[0m\u001b[0;34m\u001b[0m\u001b[0m\n\u001b[1;32m   6019\u001b[0m         \u001b[0;32mreturn\u001b[0m \u001b[0mself\u001b[0m\u001b[0;34m.\u001b[0m\u001b[0mdelete\u001b[0m\u001b[0;34m(\u001b[0m\u001b[0mindexer\u001b[0m\u001b[0;34m)\u001b[0m\u001b[0;34m\u001b[0m\u001b[0;34m\u001b[0m\u001b[0m\n",
            "\u001b[0;31mKeyError\u001b[0m: \"['Doc_job'] not found in axis\""
          ]
        }
      ]
    },
    {
      "cell_type": "code",
      "source": [],
      "metadata": {
        "id": "-Ifv_oqzy24D"
      },
      "execution_count": null,
      "outputs": []
    },
    {
      "cell_type": "code",
      "source": [
        "\n",
        "# Classification Report\n",
        "print('\\n\\n', classification_report(y_real, y_mod, target_names=['0-Good', '1-Bad']))\n",
        "# Confusion Matrix\n",
        "con_matrix = pd.DataFrame(confusion_matrix(y_real, y_mod), columns=['Predicted Good', 'Predicted Bad'], index=['Actual Good', 'Actual Bad'])\n",
        "  \n",
        "plt.figure(figsize=(15,10))\n",
        "sns.heatmap(data=con_matrix, cmap='cool');\n",
        "plt.title('Model Confusion Matrix')\n",
        "plt.show();"
      ],
      "metadata": {
        "id": "g7-VsropNZQd"
      },
      "execution_count": null,
      "outputs": []
    },
    {
      "cell_type": "code",
      "source": [
        "# W"
      ],
      "metadata": {
        "id": "hpfGnnMUvsqL"
      },
      "execution_count": null,
      "outputs": []
    },
    {
      "cell_type": "code",
      "source": [
        "#y = data['Manual Label'].replace({'good':0, 'bad':1})\n",
        "lista = []\n",
        "for yi in y_calc:\n",
        "  if(yi == 0):\n",
        "    lista.append('good')\n",
        "  else:\n",
        "    lista.append('bad')"
      ],
      "metadata": {
        "id": "bm6yy9S-RFC_"
      },
      "execution_count": null,
      "outputs": []
    },
    {
      "cell_type": "code",
      "source": [
        "df['Predict Label'] = lista"
      ],
      "metadata": {
        "id": "naNNH5zdRGS2"
      },
      "execution_count": null,
      "outputs": []
    },
    {
      "cell_type": "code",
      "source": [
        "'''\n",
        "Arq = \"output_excel.xlsx\"\n",
        "df.to_excel(Arq)\n",
        "from google.colab import files\n",
        "files.download(Arq)\n",
        "'''"
      ],
      "metadata": {
        "id": "CjCwByUsRKm1"
      },
      "execution_count": null,
      "outputs": []
    },
    {
      "cell_type": "code",
      "source": [
        "'''\n",
        "Arq = \"output_csv.csv\"\n",
        "df.to_csv(Arq)\n",
        "from google.colab import files\n",
        "files.download(Arq)\n",
        "'''"
      ],
      "metadata": {
        "id": "x90uEy26RNxe"
      },
      "execution_count": null,
      "outputs": []
    },
    {
      "cell_type": "code",
      "source": [
        "W"
      ],
      "metadata": {
        "id": "fFgM8Gu22Gem"
      },
      "execution_count": null,
      "outputs": []
    }
  ]
}
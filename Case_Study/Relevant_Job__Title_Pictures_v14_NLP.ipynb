{
  "nbformat": 4,
  "nbformat_minor": 0,
  "metadata": {
    "colab": {
      "provenance": [],
      "include_colab_link": true
    },
    "kernelspec": {
      "name": "python3",
      "display_name": "Python 3"
    },
    "language_info": {
      "name": "python"
    }
  },
  "cells": [
    {
      "cell_type": "markdown",
      "metadata": {
        "id": "view-in-github",
        "colab_type": "text"
      },
      "source": [
        "<a href=\"https://colab.research.google.com/github/ucfilho/Raianars_paper_one_revisited/blob/main/Case_Study/Relevant_Job__Title_Pictures_v14_NLP.ipynb\" target=\"_parent\"><img src=\"https://colab.research.google.com/assets/colab-badge.svg\" alt=\"Open In Colab\"/></a>"
      ]
    },
    {
      "cell_type": "markdown",
      "source": [
        "# **Determining Relevant Job Title Pictures**\n",
        "The objective of this short project is to automatically find relevant pictures for job titles. We are looking for pictures that represent the activities typically associated with that job title, showing people or tools used on the job.\n",
        "## Dataset\n",
        "The dataset provided is a .csv file with a set of pictures queried from Google Images, with the following available metadata and pre-extracted features:\n",
        "\n",
        "* Job Title: the job we are trying to get pictures for.\n",
        "\n",
        "* Pic Title: the picture title according to Google Images.\n",
        "\n",
        "* Num Resumes: the number of resumes we have available for the job title. This indicates how popular /common the job title is.\n",
        "\n",
        "* Google Position: the position of the image in the search results.\n",
        "\n",
        "* Strict Face Count: face count according to a high-precision face recognition algorithm from OpenCV. When it detects a face, it is a human face almost 100% of the time, but it doesn't detect all human faces.\n",
        "\n",
        "* Relaxed Face Count: face count according to a high-recall face recognition algorithm from OpenCV. It detects human faces almost 100% of the time, but it also confuses some other shapes and objects with human faces.\n",
        "\n",
        "* KB size: size of the image in kilobytes.\n",
        "\n",
        "* Height: pixel height of the image.\n",
        "\n",
        "* Width: pixel width of the image.\n",
        "\n",
        "* Resolution: total pixels in the image.\n",
        "\n",
        "* Text regions: number of text regions identified in the image, also using OpenCV.\n",
        "\n",
        "* Picture URL: the URL of the image.\n",
        "\n",
        "* Manual Label: a label indicating if the picture is good (relevant) or bad (irrelevant). \n",
        "\n",
        "##Methodology\n",
        "The feature \"Manual Label\" is available only for  around 20% of the dataset. For this reason, I decided to use unsupervised learning to create the model and use the labaled data to evaluate the quality of the model.\n",
        "----------\n",
        "Author: Raiana Roland Seixas\n",
        "09/07/2022"
      ],
      "metadata": {
        "id": "WJb--sIgwspE"
      }
    },
    {
      "cell_type": "markdown",
      "source": [
        "# Data load & Libraries"
      ],
      "metadata": {
        "id": "JNid1Hd0yl0X"
      }
    },
    {
      "cell_type": "code",
      "source": [
        "import pandas as pd\n",
        "import numpy as np\n",
        "import seaborn as sns\n",
        "import matplotlib.pyplot as plt\n",
        "import seaborn as sns"
      ],
      "metadata": {
        "id": "v9Zz0XIExGgq"
      },
      "execution_count": 1,
      "outputs": []
    },
    {
      "cell_type": "code",
      "source": [
        "from sklearn.metrics import classification_report, confusion_matrix\n",
        "from sklearn.metrics import accuracy_score\n",
        "from sklearn import preprocessing\n",
        "from sklearn.model_selection import train_test_split, cross_validate\n",
        "from sklearn.cluster import KMeans"
      ],
      "metadata": {
        "id": "PpDUaLEEB9Em"
      },
      "execution_count": 2,
      "outputs": []
    },
    {
      "cell_type": "code",
      "source": [
        "from sklearn.feature_extraction.text import TfidfVectorizer\n",
        "from sklearn.metrics import adjusted_rand_score\n",
        "from sklearn.cluster import Birch"
      ],
      "metadata": {
        "id": "PkJA6KCBzxyf"
      },
      "execution_count": 3,
      "outputs": []
    },
    {
      "cell_type": "code",
      "execution_count": 4,
      "metadata": {
        "colab": {
          "base_uri": "https://localhost:8080/"
        },
        "id": "34ZvAeHUuFOW",
        "outputId": "5e6abc9e-2a22-46ef-a2a3-d76eedc4b519"
      },
      "outputs": [
        {
          "output_type": "stream",
          "name": "stdout",
          "text": [
            "fatal: destination path 'NLT' already exists and is not an empty directory.\n",
            "/content/NLT\n"
          ]
        }
      ],
      "source": [
        "!git clone https://github.com/RaianaSeixas/NLT\n",
        "%cd NLT"
      ]
    },
    {
      "cell_type": "code",
      "source": [
        "df=pd.read_csv('occupation_pictures.csv')\n",
        "#df"
      ],
      "metadata": {
        "id": "CXxX2nnBx-l9"
      },
      "execution_count": 5,
      "outputs": []
    },
    {
      "cell_type": "code",
      "source": [
        "#documents = list(df['Pic Title'].values)\n",
        "#job = list(df['Job Title'].values)"
      ],
      "metadata": {
        "id": "dfc5Wu0jyDeX"
      },
      "execution_count": 6,
      "outputs": []
    },
    {
      "cell_type": "code",
      "source": [
        "#documents"
      ],
      "metadata": {
        "id": "mpsUmgwthPbW"
      },
      "execution_count": 7,
      "outputs": []
    },
    {
      "cell_type": "code",
      "source": [
        "# this function is to show how tfidf vectorizer works...it is not used in solution\n",
        "def text_show(corpus):\n",
        "  def lista_organiza(arr_conv):\n",
        "    n = arr_conv.shape[0]\n",
        "    lista =[]\n",
        "    for i in range(n):\n",
        "      arr = arr_conv[i]\n",
        "      ans =' '.join(arr)\n",
        "      lista.append(ans)\n",
        "    resp = lista\n",
        "    return resp  \n",
        "\n",
        "  corpus = lista_organiza(corpus)\n",
        "\n",
        "  vectorizer = TfidfVectorizer(stop_words='english')\n",
        "  XW = vectorizer.fit_transform(corpus)\n",
        "  return XW"
      ],
      "metadata": {
        "id": "Njg3SD9puZkg"
      },
      "execution_count": 8,
      "outputs": []
    },
    {
      "cell_type": "code",
      "source": [
        "def text_variable(corpus,documents,cluster_k):\n",
        "  def lista_organiza(arr_conv):\n",
        "    n = arr_conv.shape[0]\n",
        "    lista =[]\n",
        "    for i in range(n):\n",
        "      arr = arr_conv[i]\n",
        "      ans =' '.join(arr)\n",
        "      lista.append(ans)\n",
        "    resp = lista\n",
        "    return resp  \n",
        "\n",
        "  corpus = lista_organiza(corpus)\n",
        "  documents = lista_organiza(documents)\n",
        "\n",
        "  vectorizer = TfidfVectorizer(stop_words='english')\n",
        "  XW = vectorizer.fit_transform(corpus)\n",
        "\n",
        "  model = KMeans(n_clusters=cluster_k, init='k-means++', max_iter=100, n_init=1)\n",
        "  model.fit(XW)\n",
        "  resp = []\n",
        "  for x in documents:\n",
        "    doc=[]\n",
        "    doc.append(x)\n",
        "    Y = vectorizer.transform(doc)\n",
        "    prediction = model.predict(Y)\n",
        "    resp.append(prediction[0])\n",
        "  return resp"
      ],
      "metadata": {
        "id": "v3s_O-5i1J7u"
      },
      "execution_count": 9,
      "outputs": []
    },
    {
      "cell_type": "code",
      "source": [
        "def text_kmeans_check(corpus,documents,jobs,cluster_k):\n",
        "  def lista_organiza(arr_conv):\n",
        "    n = arr_conv.shape[0]\n",
        "    lista =[]\n",
        "    for i in range(n):\n",
        "      arr = arr_conv[i]\n",
        "      ans =' '.join(arr)\n",
        "      lista.append(ans)\n",
        "    resp = lista\n",
        "    return resp  \n",
        "\n",
        "  corpus = lista_organiza(corpus)\n",
        "  documents = lista_organiza(documents)\n",
        "  jobs = lista_organiza(jobs)\n",
        "\n",
        "  vectorizer = TfidfVectorizer(stop_words='english')\n",
        "  XW = vectorizer.fit_transform(corpus)\n",
        "\n",
        "  model = KMeans(n_clusters=cluster_k, init='k-means++', max_iter=100, n_init=1)\n",
        "  model.fit(XW)\n",
        "  resp = []\n",
        "  for x in documents:\n",
        "    doc=[]\n",
        "    doc.append(x)\n",
        "    Y = vectorizer.transform(doc)\n",
        "    prediction = model.predict(Y)\n",
        "    resp.append(prediction[0])\n",
        "  y1 = resp\n",
        "  resp = []\n",
        "  for x in jobs:\n",
        "    doc=[]\n",
        "    doc.append(x)\n",
        "    Y = vectorizer.transform(doc)\n",
        "    prediction = model.predict(Y)\n",
        "    resp.append(prediction[0])\n",
        "  y2 = resp\n",
        "  return y1,y2"
      ],
      "metadata": {
        "id": "hwtmp3kuyQt8"
      },
      "execution_count": 10,
      "outputs": []
    },
    {
      "cell_type": "code",
      "source": [
        "def text_variable_Birch(corpus, documents,cluster_k):\n",
        "  def lista_organiza(arr_conv):\n",
        "    n = arr_conv.shape[0]\n",
        "    lista =[]\n",
        "    for i in range(n):\n",
        "      arr = arr_conv[i]\n",
        "      ans =' '.join(arr)\n",
        "      lista.append(ans)\n",
        "    resp = lista\n",
        "    return resp  \n",
        "  corpus = lista_organiza(corpus)\n",
        "  documents = lista_organiza(documents)\n",
        "  vectorizer = TfidfVectorizer(stop_words='english')\n",
        "\n",
        "  XW = vectorizer.fit_transform(corpus)\n",
        "\n",
        "  model = Birch(threshold=0.01, n_clusters = cluster_k)\n",
        "  model.fit(XW)\n",
        "  resp = []\n",
        "  for x in documents:\n",
        "    doc=[]\n",
        "    doc.append(x)\n",
        "    Y = vectorizer.transform(doc)\n",
        "    prediction = model.predict(Y)\n",
        "    resp.append(prediction[0])\n",
        "  return resp"
      ],
      "metadata": {
        "id": "c-GR2S3_Zgi3"
      },
      "execution_count": 11,
      "outputs": []
    },
    {
      "cell_type": "code",
      "source": [
        "def text_Birch_check(corpus, documents,jobs,cluster_k):\n",
        "  def lista_organiza(arr_conv):\n",
        "    n = arr_conv.shape[0]\n",
        "    lista =[]\n",
        "    for i in range(n):\n",
        "      arr = arr_conv[i]\n",
        "      ans =' '.join(arr)\n",
        "      lista.append(ans)\n",
        "    resp = lista\n",
        "    return resp  \n",
        "  corpus = lista_organiza(corpus)\n",
        "  documents = lista_organiza(documents)\n",
        "  jobs = lista_organiza(jobs)\n",
        "  vectorizer = TfidfVectorizer(stop_words='english')\n",
        "\n",
        "  XW = vectorizer.fit_transform(corpus)\n",
        "\n",
        "  model = Birch(threshold=0.01, n_clusters = cluster_k)\n",
        "  model.fit(XW)\n",
        "  resp = []\n",
        "  for x in documents:\n",
        "    doc=[]\n",
        "    doc.append(x)\n",
        "    Y = vectorizer.transform(doc)\n",
        "    prediction = model.predict(Y)\n",
        "    resp.append(prediction[0])\n",
        "  y1 = resp\n",
        "  resp = []\n",
        "  for x in jobs:\n",
        "    doc=[]\n",
        "    doc.append(x)\n",
        "    Y = vectorizer.transform(doc)\n",
        "    prediction = model.predict(Y)\n",
        "    resp.append(prediction[0])\n",
        "  y2 = resp\n",
        "  return y1,y2"
      ],
      "metadata": {
        "id": "o73kdx1vzk2C"
      },
      "execution_count": 12,
      "outputs": []
    },
    {
      "cell_type": "code",
      "source": [
        "data=df.drop(columns=['Picture URL'])"
      ],
      "metadata": {
        "id": "O3Y7as-OolX2"
      },
      "execution_count": 13,
      "outputs": []
    },
    {
      "cell_type": "code",
      "source": [
        "#data['Manual Label'].describe()"
      ],
      "metadata": {
        "id": "HGDaQb7KebDX"
      },
      "execution_count": 14,
      "outputs": []
    },
    {
      "cell_type": "code",
      "source": [
        "data['Pic Title'].describe()"
      ],
      "metadata": {
        "id": "mCXEn8Wme3db",
        "colab": {
          "base_uri": "https://localhost:8080/"
        },
        "outputId": "8a87a9d1-6ed9-4d61-e2c7-29ab0660eecc"
      },
      "execution_count": 15,
      "outputs": [
        {
          "output_type": "execute_result",
          "data": {
            "text/plain": [
              "count                            658\n",
              "unique                           593\n",
              "top       Bureau of Labor Statistics\n",
              "freq                              17\n",
              "Name: Pic Title, dtype: object"
            ]
          },
          "metadata": {},
          "execution_count": 15
        }
      ]
    },
    {
      "cell_type": "markdown",
      "source": [
        "# Exploratory Analysis"
      ],
      "metadata": {
        "id": "cy920h25yvyg"
      }
    },
    {
      "cell_type": "markdown",
      "source": [
        "# Data Preprocessing"
      ],
      "metadata": {
        "id": "y4fO9kxxy-Lc"
      }
    },
    {
      "cell_type": "code",
      "source": [
        "import nltk\n",
        "ps = nltk.PorterStemmer()\n",
        "wn=nltk.WordNetLemmatizer()\n",
        "nltk.download(\"popular\")\n",
        "stopwords = nltk.corpus.stopwords.words('english')\n",
        "import re\n",
        "import string"
      ],
      "metadata": {
        "id": "Zk7tUJ0uzIQf",
        "colab": {
          "base_uri": "https://localhost:8080/"
        },
        "outputId": "b7710368-8d03-4af4-d14f-bd850de6c8ac"
      },
      "execution_count": 16,
      "outputs": [
        {
          "output_type": "stream",
          "name": "stderr",
          "text": [
            "[nltk_data] Downloading collection 'popular'\n",
            "[nltk_data]    | \n",
            "[nltk_data]    | Downloading package cmudict to /root/nltk_data...\n",
            "[nltk_data]    |   Package cmudict is already up-to-date!\n",
            "[nltk_data]    | Downloading package gazetteers to /root/nltk_data...\n",
            "[nltk_data]    |   Package gazetteers is already up-to-date!\n",
            "[nltk_data]    | Downloading package genesis to /root/nltk_data...\n",
            "[nltk_data]    |   Package genesis is already up-to-date!\n",
            "[nltk_data]    | Downloading package gutenberg to /root/nltk_data...\n",
            "[nltk_data]    |   Package gutenberg is already up-to-date!\n",
            "[nltk_data]    | Downloading package inaugural to /root/nltk_data...\n",
            "[nltk_data]    |   Package inaugural is already up-to-date!\n",
            "[nltk_data]    | Downloading package movie_reviews to\n",
            "[nltk_data]    |     /root/nltk_data...\n",
            "[nltk_data]    |   Package movie_reviews is already up-to-date!\n",
            "[nltk_data]    | Downloading package names to /root/nltk_data...\n",
            "[nltk_data]    |   Package names is already up-to-date!\n",
            "[nltk_data]    | Downloading package shakespeare to /root/nltk_data...\n",
            "[nltk_data]    |   Package shakespeare is already up-to-date!\n",
            "[nltk_data]    | Downloading package stopwords to /root/nltk_data...\n",
            "[nltk_data]    |   Package stopwords is already up-to-date!\n",
            "[nltk_data]    | Downloading package treebank to /root/nltk_data...\n",
            "[nltk_data]    |   Package treebank is already up-to-date!\n",
            "[nltk_data]    | Downloading package twitter_samples to\n",
            "[nltk_data]    |     /root/nltk_data...\n",
            "[nltk_data]    |   Package twitter_samples is already up-to-date!\n",
            "[nltk_data]    | Downloading package omw to /root/nltk_data...\n",
            "[nltk_data]    |   Package omw is already up-to-date!\n",
            "[nltk_data]    | Downloading package omw-1.4 to /root/nltk_data...\n",
            "[nltk_data]    |   Package omw-1.4 is already up-to-date!\n",
            "[nltk_data]    | Downloading package wordnet to /root/nltk_data...\n",
            "[nltk_data]    |   Package wordnet is already up-to-date!\n",
            "[nltk_data]    | Downloading package wordnet2021 to /root/nltk_data...\n",
            "[nltk_data]    |   Package wordnet2021 is already up-to-date!\n",
            "[nltk_data]    | Downloading package wordnet31 to /root/nltk_data...\n",
            "[nltk_data]    |   Package wordnet31 is already up-to-date!\n",
            "[nltk_data]    | Downloading package wordnet_ic to /root/nltk_data...\n",
            "[nltk_data]    |   Package wordnet_ic is already up-to-date!\n",
            "[nltk_data]    | Downloading package words to /root/nltk_data...\n",
            "[nltk_data]    |   Package words is already up-to-date!\n",
            "[nltk_data]    | Downloading package maxent_ne_chunker to\n",
            "[nltk_data]    |     /root/nltk_data...\n",
            "[nltk_data]    |   Package maxent_ne_chunker is already up-to-date!\n",
            "[nltk_data]    | Downloading package punkt to /root/nltk_data...\n",
            "[nltk_data]    |   Package punkt is already up-to-date!\n",
            "[nltk_data]    | Downloading package snowball_data to\n",
            "[nltk_data]    |     /root/nltk_data...\n",
            "[nltk_data]    |   Package snowball_data is already up-to-date!\n",
            "[nltk_data]    | Downloading package averaged_perceptron_tagger to\n",
            "[nltk_data]    |     /root/nltk_data...\n",
            "[nltk_data]    |   Package averaged_perceptron_tagger is already up-\n",
            "[nltk_data]    |       to-date!\n",
            "[nltk_data]    | \n",
            "[nltk_data]  Done downloading collection popular\n"
          ]
        }
      ]
    },
    {
      "cell_type": "markdown",
      "source": [
        "### Clean up text"
      ],
      "metadata": {
        "id": "Ms3eUeIomxlg"
      }
    },
    {
      "cell_type": "code",
      "source": [
        "def clean_text(text):\n",
        "    text = \"\".join([word for word in text if word not in string.punctuation])\n",
        "    tokens = re.split('\\W+', text)\n",
        "    text = [word for word in tokens if word not in stopwords]\n",
        "    return text\n",
        "\n",
        "data['Job Title'] = data['Job Title'].apply(lambda x: clean_text(x.lower()))\n",
        "data['Pic Title'] = data['Pic Title'].apply(lambda x: clean_text(x.lower()))\n",
        "#data.head()"
      ],
      "metadata": {
        "id": "FWg_1z62jEaw"
      },
      "execution_count": 17,
      "outputs": []
    },
    {
      "cell_type": "code",
      "source": [
        "#data.columns"
      ],
      "metadata": {
        "id": "4lfJ3zmNm7s3"
      },
      "execution_count": 18,
      "outputs": []
    },
    {
      "cell_type": "code",
      "source": [
        "#documents_new = data['Pic Title'].values\n",
        "#documents_new"
      ],
      "metadata": {
        "id": "h3awdqconF_4"
      },
      "execution_count": 19,
      "outputs": []
    },
    {
      "cell_type": "code",
      "source": [
        "\n"
      ],
      "metadata": {
        "id": "0xWOcwnVrnB7"
      },
      "execution_count": 19,
      "outputs": []
    },
    {
      "cell_type": "code",
      "source": [],
      "metadata": {
        "id": "DsaYaA3JudeS"
      },
      "execution_count": 19,
      "outputs": []
    },
    {
      "cell_type": "markdown",
      "source": [
        "### Stem / Lemmatize text"
      ],
      "metadata": {
        "id": "RJUlsYj7nC4P"
      }
    },
    {
      "cell_type": "code",
      "source": [
        "def stemming(text):\n",
        "  stemmed=[ps.stem(word) for word in text]\n",
        "  return stemmed\n",
        "\n",
        "data['Stem Job Title'] = data['Job Title'].apply(lambda x: stemming(x))\n",
        "data['Stem Pic Title'] = data['Pic Title'].apply(lambda x: stemming(x))\n",
        "#data"
      ],
      "metadata": {
        "id": "PCS028iFp_bj"
      },
      "execution_count": 20,
      "outputs": []
    },
    {
      "cell_type": "code",
      "source": [
        "#data[data['Manual Label']=='bad']"
      ],
      "metadata": {
        "id": "thfBx5G3UnLN"
      },
      "execution_count": 21,
      "outputs": []
    },
    {
      "cell_type": "code",
      "source": [
        "#data[data['Manual Label']=='good']"
      ],
      "metadata": {
        "id": "mY-rUfIbVaaL"
      },
      "execution_count": 22,
      "outputs": []
    },
    {
      "cell_type": "code",
      "source": [
        "#documents = list(data['Stem Pic Title'].values)\n",
        "#job = list(data['Stem Job Title'].values)"
      ],
      "metadata": {
        "id": "lwzqU6nlgEs0"
      },
      "execution_count": 23,
      "outputs": []
    },
    {
      "cell_type": "code",
      "source": [
        "documents = data['Stem Pic Title'].values\n",
        "job = data['Stem Job Title'].values"
      ],
      "metadata": {
        "id": "qSUpFbWT-TI1"
      },
      "execution_count": 24,
      "outputs": []
    },
    {
      "cell_type": "code",
      "source": [
        "# print(text_show(documents))"
      ],
      "metadata": {
        "id": "Av3y5xZXu0eN"
      },
      "execution_count": 25,
      "outputs": []
    },
    {
      "cell_type": "code",
      "source": [
        "# documents"
      ],
      "metadata": {
        "id": "5H7ujPKyu42N"
      },
      "execution_count": 26,
      "outputs": []
    },
    {
      "cell_type": "code",
      "source": [
        "corpus = job + documents"
      ],
      "metadata": {
        "id": "6kx5LjlRhX4b"
      },
      "execution_count": 27,
      "outputs": []
    },
    {
      "cell_type": "code",
      "source": [
        "# data.head()"
      ],
      "metadata": {
        "id": "g6Wr6jN6tq2d"
      },
      "execution_count": 28,
      "outputs": []
    },
    {
      "cell_type": "markdown",
      "source": [
        "career, senior"
      ],
      "metadata": {
        "id": "s85Qe0nWY18g"
      }
    },
    {
      "cell_type": "markdown",
      "source": [
        "###Data split"
      ],
      "metadata": {
        "id": "MFHtuk7prz4p"
      }
    },
    {
      "cell_type": "code",
      "source": [
        "data=data.drop(columns=['Job Title','Pic Title'])"
      ],
      "metadata": {
        "id": "DdvQ5CaUuo0S"
      },
      "execution_count": 29,
      "outputs": []
    },
    {
      "cell_type": "code",
      "source": [
        "''' Data (with labels) to test the model '''\n",
        "\n",
        "labaled= data[data['Manual Label'].notna()]\n",
        "#labaled.head()"
      ],
      "metadata": {
        "id": "Fy2K09ljr88O"
      },
      "execution_count": 30,
      "outputs": []
    },
    {
      "cell_type": "code",
      "source": [
        "#Drop target feature\n",
        "#X = data.drop(columns=['Manual Label','Stem Job Title','Stem Pic Title','KB size','Num Resumes','Google Position','Width','Text Regions']) \n",
        "X = data.drop(columns=['Manual Label','Stem Job Title','Stem Pic Title','KB size','Resolution','Width']) \n",
        "#'Height','Num Resumes','Google Position','Text Regions'\n",
        "#X = data.drop(columns=['Manual Label','Stem Job Title','Stem Pic Title']) \n",
        "#X['Common']=lista\n",
        "#X['Division']=divide\n",
        "#X['Career'] = career\n",
        "ncluster = [6,8]\n",
        "cluster_k = 10\n",
        "\n",
        "y1, y2  = text_kmeans_check(corpus, documents, job, cluster_k)\n",
        "\n",
        "resp = text_variable(corpus,documents,ncluster[0])\n",
        "X['Doc_title'] = resp\n",
        "\n",
        "resp = text_variable(corpus,job,ncluster[1]) \n",
        "X['Doc_job'] = resp\n",
        "\n",
        "X['y1'] = y1\n",
        "X['y2'] = y2\n",
        "\n",
        "W = X\n",
        "scaler = preprocessing.StandardScaler()\n",
        "Xs = scaler.fit_transform(X)"
      ],
      "metadata": {
        "id": "gwzmkxZP-uxI"
      },
      "execution_count": 31,
      "outputs": []
    },
    {
      "cell_type": "code",
      "source": [
        "#documents"
      ],
      "metadata": {
        "id": "w5t_3F7P9-l8"
      },
      "execution_count": 32,
      "outputs": []
    },
    {
      "cell_type": "markdown",
      "source": [
        "# Predictive Model"
      ],
      "metadata": {
        "id": "9aXxUfHOy3za"
      }
    },
    {
      "cell_type": "code",
      "source": [
        "#y_pred = KMeans(n_clusters=2).fit_predict(X)\n",
        "y_pred = KMeans(n_clusters=2, init='k-means++', max_iter=200, n_init=1).fit_predict(Xs)"
      ],
      "metadata": {
        "id": "L_PwjyWmBU2z"
      },
      "execution_count": 33,
      "outputs": []
    },
    {
      "cell_type": "code",
      "source": [
        "# len(y_pred)"
      ],
      "metadata": {
        "id": "jwDK5OMeNOW9"
      },
      "execution_count": 34,
      "outputs": []
    },
    {
      "cell_type": "code",
      "source": [
        "# get the elements containing label (we will use it to evaluate the method)\n",
        "y = data['Manual Label'].replace({'good':0, 'bad':1})\n",
        "index_no = data['Manual Label'].notna()\n",
        "y_real = y[index_no].astype(int)\n",
        "X_eval= Xs[index_no,:]\n",
        "y_mod = y_pred[index_no]"
      ],
      "metadata": {
        "id": "cgaHv92gUG6J"
      },
      "execution_count": 35,
      "outputs": []
    },
    {
      "cell_type": "code",
      "source": [
        "#y_real.shape, y_mod.shape"
      ],
      "metadata": {
        "id": "OBNXjunHYJua"
      },
      "execution_count": 36,
      "outputs": []
    },
    {
      "cell_type": "code",
      "source": [
        "# Classification Report\n",
        "print('\\n\\n', classification_report(y_real, y_mod, target_names=['0-Good', '1-Bad']))\n",
        "# Confusion Matrix\n",
        "con_matrix = pd.DataFrame(confusion_matrix(y_real, y_mod), columns=['Predicted Good', 'Predicted Bad'], index=['Actual Good', 'Actual Bad'])\n",
        "  \n",
        "plt.figure(figsize=(15,10))\n",
        "sns.heatmap(data=con_matrix, cmap='cool');\n",
        "plt.title('Model Confusion Matrix')\n",
        "plt.show();"
      ],
      "metadata": {
        "id": "Bmj7WdvjXYZj",
        "colab": {
          "base_uri": "https://localhost:8080/",
          "height": 798
        },
        "outputId": "84395833-9ca7-49ad-8521-cce93c05ef38"
      },
      "execution_count": 37,
      "outputs": [
        {
          "output_type": "stream",
          "name": "stdout",
          "text": [
            "\n",
            "\n",
            "               precision    recall  f1-score   support\n",
            "\n",
            "      0-Good       0.55      0.25      0.35        91\n",
            "       1-Bad       0.25      0.55      0.35        42\n",
            "\n",
            "    accuracy                           0.35       133\n",
            "   macro avg       0.40      0.40      0.35       133\n",
            "weighted avg       0.45      0.35      0.35       133\n",
            "\n"
          ]
        },
        {
          "output_type": "display_data",
          "data": {
            "text/plain": [
              "<Figure size 1080x720 with 2 Axes>"
            ],
            "image/png": "[encoded data removed]"
          },
          "metadata": {
            "needs_background": "light"
          }
        }
      ]
    },
    {
      "cell_type": "code",
      "source": [
        "# Birch:  Balanced Iterative Reducing and Clustering using Hierarchies\n",
        "# “threshold” and “n_clusters” are the hyperparameters"
      ],
      "metadata": {
        "id": "DWiYqFtPQIab"
      },
      "execution_count": 38,
      "outputs": []
    },
    {
      "cell_type": "code",
      "source": [
        "X = W\n",
        "X = X.drop(columns= ['Doc_title','Doc_job','y1','y2'])\n",
        "\n",
        "\n",
        "# resp = text_variable(documents,ncluster[0])\n",
        "y1, y2  = text_Birch_check(corpus, documents, job, cluster_k)\n",
        "\n",
        "resp = text_variable_Birch(corpus,documents,ncluster[0])\n",
        "X['Doc_title'] = resp\n",
        "\n",
        "#resp = text_variable(job,ncluster[1])\n",
        "resp = text_variable_Birch(corpus,job,ncluster[1])\n",
        "X['Doc_job'] = resp\n",
        "\n",
        "X['y1'] = y1\n",
        "X['y2'] = y2\n",
        "\n",
        "W = X\n",
        "scaler = preprocessing.StandardScaler()\n",
        "Xs = scaler.fit_transform(X)\n",
        "model = Birch(threshold=0.01, n_clusters=2)\n",
        "# fit the model\n",
        "model.fit(Xs)\n",
        "# assign a cluster to each example\n",
        "y_calc = model.predict(Xs)\n",
        "index_no = data['Manual Label'].notna()\n",
        "y_mod = y_calc[index_no]"
      ],
      "metadata": {
        "id": "bNnc_XzPSuEJ"
      },
      "execution_count": 39,
      "outputs": []
    },
    {
      "cell_type": "code",
      "source": [],
      "metadata": {
        "id": "-Ifv_oqzy24D"
      },
      "execution_count": 39,
      "outputs": []
    },
    {
      "cell_type": "code",
      "source": [
        "\n",
        "# Classification Report\n",
        "print('\\n\\n', classification_report(y_real, y_mod, target_names=['0-Good', '1-Bad']))\n",
        "# Confusion Matrix\n",
        "con_matrix = pd.DataFrame(confusion_matrix(y_real, y_mod), columns=['Predicted Good', 'Predicted Bad'], index=['Actual Good', 'Actual Bad'])\n",
        "  \n",
        "plt.figure(figsize=(15,10))\n",
        "sns.heatmap(data=con_matrix, cmap='cool');\n",
        "plt.title('Model Confusion Matrix')\n",
        "plt.show();"
      ],
      "metadata": {
        "id": "g7-VsropNZQd",
        "colab": {
          "base_uri": "https://localhost:8080/",
          "height": 798
        },
        "outputId": "d4498604-d53f-47bc-c22e-449190b8b9f0"
      },
      "execution_count": 40,
      "outputs": [
        {
          "output_type": "stream",
          "name": "stdout",
          "text": [
            "\n",
            "\n",
            "               precision    recall  f1-score   support\n",
            "\n",
            "      0-Good       0.73      0.87      0.79        91\n",
            "       1-Bad       0.52      0.31      0.39        42\n",
            "\n",
            "    accuracy                           0.69       133\n",
            "   macro avg       0.63      0.59      0.59       133\n",
            "weighted avg       0.66      0.69      0.67       133\n",
            "\n"
          ]
        },
        {
          "output_type": "display_data",
          "data": {
            "text/plain": [
              "<Figure size 1080x720 with 2 Axes>"
            ],
            "image/png": "[encoded data removed]"
          },
          "metadata": {
            "needs_background": "light"
          }
        }
      ]
    },
    {
      "cell_type": "code",
      "source": [
        "# W"
      ],
      "metadata": {
        "id": "hpfGnnMUvsqL"
      },
      "execution_count": 41,
      "outputs": []
    },
    {
      "cell_type": "code",
      "source": [
        "#y = data['Manual Label'].replace({'good':0, 'bad':1})\n",
        "lista = []\n",
        "for yi in y_calc:\n",
        "  if(yi == 0):\n",
        "    lista.append('good')\n",
        "  else:\n",
        "    lista.append('bad')"
      ],
      "metadata": {
        "id": "bm6yy9S-RFC_"
      },
      "execution_count": 42,
      "outputs": []
    },
    {
      "cell_type": "code",
      "source": [
        "df['Predict Label'] = lista"
      ],
      "metadata": {
        "id": "naNNH5zdRGS2"
      },
      "execution_count": 43,
      "outputs": []
    },
    {
      "cell_type": "code",
      "source": [
        "'''\n",
        "Arq = \"output_excel.xlsx\"\n",
        "df.to_excel(Arq)\n",
        "from google.colab import files\n",
        "files.download(Arq)\n",
        "'''"
      ],
      "metadata": {
        "id": "CjCwByUsRKm1",
        "colab": {
          "base_uri": "https://localhost:8080/",
          "height": 36
        },
        "outputId": "73063a2b-1ca1-46f8-c136-c024dc8e5a33"
      },
      "execution_count": 44,
      "outputs": [
        {
          "output_type": "execute_result",
          "data": {
            "text/plain": [
              "'\\nArq = \"output_excel.xlsx\"\\ndf.to_excel(Arq)\\nfrom google.colab import files\\nfiles.download(Arq)\\n'"
            ],
            "application/vnd.google.colaboratory.intrinsic+json": {
              "type": "string"
            }
          },
          "metadata": {},
          "execution_count": 44
        }
      ]
    },
    {
      "cell_type": "code",
      "source": [
        "'''\n",
        "Arq = \"output_csv.csv\"\n",
        "df.to_csv(Arq)\n",
        "from google.colab import files\n",
        "files.download(Arq)\n",
        "'''"
      ],
      "metadata": {
        "id": "x90uEy26RNxe",
        "colab": {
          "base_uri": "https://localhost:8080/",
          "height": 36
        },
        "outputId": "3f629108-21f9-44e1-e3dd-cf840bfdf50a"
      },
      "execution_count": 45,
      "outputs": [
        {
          "output_type": "execute_result",
          "data": {
            "text/plain": [
              "'\\nArq = \"output_csv.csv\"\\ndf.to_csv(Arq)\\nfrom google.colab import files\\nfiles.download(Arq)\\n'"
            ],
            "application/vnd.google.colaboratory.intrinsic+json": {
              "type": "string"
            }
          },
          "metadata": {},
          "execution_count": 45
        }
      ]
    },
    {
      "cell_type": "code",
      "source": [
        "W"
      ],
      "metadata": {
        "colab": {
          "base_uri": "https://localhost:8080/",
          "height": 424
        },
        "id": "fFgM8Gu22Gem",
        "outputId": "cc650bc1-a399-49be-8f50-b7d784d99926"
      },
      "execution_count": 46,
      "outputs": [
        {
          "output_type": "execute_result",
          "data": {
            "text/plain": [
              "     Num Resumes  Google Position  Strict Face Count  Relaxed Face Count  \\\n",
              "0           1261                0                  0                   7   \n",
              "1           1261                1                  0                   3   \n",
              "2           1261                2                  0                   2   \n",
              "3           1261                3                  0                   2   \n",
              "4           1261                4                  0                   1   \n",
              "..           ...              ...                ...                 ...   \n",
              "653           61                4                  0                   0   \n",
              "654           61                5                  0                   0   \n",
              "655           61                6                  0                   1   \n",
              "656           61                7                  0                   1   \n",
              "657           61                8                  0                   2   \n",
              "\n",
              "     Height  Text Regions  Doc_title  Doc_job  y1  y2  \n",
              "0      1917             2          0        0   0   0  \n",
              "1       340             5          0        0   0   0  \n",
              "2       380             8          0        0   0   0  \n",
              "3       330             1          0        0   0   0  \n",
              "4      1075             3          0        0   0   0  \n",
              "..      ...           ...        ...      ...  ..  ..  \n",
              "653     720             0          4        1   1   1  \n",
              "654     200             0          4        1   1   1  \n",
              "655     500             1          4        1   1   1  \n",
              "656     920             0          4        1   1   1  \n",
              "657     379             0          4        1   1   1  \n",
              "\n",
              "[658 rows x 10 columns]"
            ],
            "text/html": [
              "\n",
              "  <div id=\"df-96ee429b-8b15-4301-abd0-913e3b9b1642\">\n",
              "    <div class=\"colab-df-container\">\n",
              "      <div>\n",
              "<style scoped>\n",
              "    .dataframe tbody tr th:only-of-type {\n",
              "        vertical-align: middle;\n",
              "    }\n",
              "\n",
              "    .dataframe tbody tr th {\n",
              "        vertical-align: top;\n",
              "    }\n",
              "\n",
              "    .dataframe thead th {\n",
              "        text-align: right;\n",
              "    }\n",
              "</style>\n",
              "<table border=\"1\" class=\"dataframe\">\n",
              "  <thead>\n",
              "    <tr style=\"text-align: right;\">\n",
              "      <th></th>\n",
              "      <th>Num Resumes</th>\n",
              "      <th>Google Position</th>\n",
              "      <th>Strict Face Count</th>\n",
              "      <th>Relaxed Face Count</th>\n",
              "      <th>Height</th>\n",
              "      <th>Text Regions</th>\n",
              "      <th>Doc_title</th>\n",
              "      <th>Doc_job</th>\n",
              "      <th>y1</th>\n",
              "      <th>y2</th>\n",
              "    </tr>\n",
              "  </thead>\n",
              "  <tbody>\n",
              "    <tr>\n",
              "      <th>0</th>\n",
              "      <td>1261</td>\n",
              "      <td>0</td>\n",
              "      <td>0</td>\n",
              "      <td>7</td>\n",
              "      <td>1917</td>\n",
              "      <td>2</td>\n",
              "      <td>0</td>\n",
              "      <td>0</td>\n",
              "      <td>0</td>\n",
              "      <td>0</td>\n",
              "    </tr>\n",
              "    <tr>\n",
              "      <th>1</th>\n",
              "      <td>1261</td>\n",
              "      <td>1</td>\n",
              "      <td>0</td>\n",
              "      <td>3</td>\n",
              "      <td>340</td>\n",
              "      <td>5</td>\n",
              "      <td>0</td>\n",
              "      <td>0</td>\n",
              "      <td>0</td>\n",
              "      <td>0</td>\n",
              "    </tr>\n",
              "    <tr>\n",
              "      <th>2</th>\n",
              "      <td>1261</td>\n",
              "      <td>2</td>\n",
              "      <td>0</td>\n",
              "      <td>2</td>\n",
              "      <td>380</td>\n",
              "      <td>8</td>\n",
              "      <td>0</td>\n",
              "      <td>0</td>\n",
              "      <td>0</td>\n",
              "      <td>0</td>\n",
              "    </tr>\n",
              "    <tr>\n",
              "      <th>3</th>\n",
              "      <td>1261</td>\n",
              "      <td>3</td>\n",
              "      <td>0</td>\n",
              "      <td>2</td>\n",
              "      <td>330</td>\n",
              "      <td>1</td>\n",
              "      <td>0</td>\n",
              "      <td>0</td>\n",
              "      <td>0</td>\n",
              "      <td>0</td>\n",
              "    </tr>\n",
              "    <tr>\n",
              "      <th>4</th>\n",
              "      <td>1261</td>\n",
              "      <td>4</td>\n",
              "      <td>0</td>\n",
              "      <td>1</td>\n",
              "      <td>1075</td>\n",
              "      <td>3</td>\n",
              "      <td>0</td>\n",
              "      <td>0</td>\n",
              "      <td>0</td>\n",
              "      <td>0</td>\n",
              "    </tr>\n",
              "    <tr>\n",
              "      <th>...</th>\n",
              "      <td>...</td>\n",
              "      <td>...</td>\n",
              "      <td>...</td>\n",
              "      <td>...</td>\n",
              "      <td>...</td>\n",
              "      <td>...</td>\n",
              "      <td>...</td>\n",
              "      <td>...</td>\n",
              "      <td>...</td>\n",
              "      <td>...</td>\n",
              "    </tr>\n",
              "    <tr>\n",
              "      <th>653</th>\n",
              "      <td>61</td>\n",
              "      <td>4</td>\n",
              "      <td>0</td>\n",
              "      <td>0</td>\n",
              "      <td>720</td>\n",
              "      <td>0</td>\n",
              "      <td>4</td>\n",
              "      <td>1</td>\n",
              "      <td>1</td>\n",
              "      <td>1</td>\n",
              "    </tr>\n",
              "    <tr>\n",
              "      <th>654</th>\n",
              "      <td>61</td>\n",
              "      <td>5</td>\n",
              "      <td>0</td>\n",
              "      <td>0</td>\n",
              "      <td>200</td>\n",
              "      <td>0</td>\n",
              "      <td>4</td>\n",
              "      <td>1</td>\n",
              "      <td>1</td>\n",
              "      <td>1</td>\n",
              "    </tr>\n",
              "    <tr>\n",
              "      <th>655</th>\n",
              "      <td>61</td>\n",
              "      <td>6</td>\n",
              "      <td>0</td>\n",
              "      <td>1</td>\n",
              "      <td>500</td>\n",
              "      <td>1</td>\n",
              "      <td>4</td>\n",
              "      <td>1</td>\n",
              "      <td>1</td>\n",
              "      <td>1</td>\n",
              "    </tr>\n",
              "    <tr>\n",
              "      <th>656</th>\n",
              "      <td>61</td>\n",
              "      <td>7</td>\n",
              "      <td>0</td>\n",
              "      <td>1</td>\n",
              "      <td>920</td>\n",
              "      <td>0</td>\n",
              "      <td>4</td>\n",
              "      <td>1</td>\n",
              "      <td>1</td>\n",
              "      <td>1</td>\n",
              "    </tr>\n",
              "    <tr>\n",
              "      <th>657</th>\n",
              "      <td>61</td>\n",
              "      <td>8</td>\n",
              "      <td>0</td>\n",
              "      <td>2</td>\n",
              "      <td>379</td>\n",
              "      <td>0</td>\n",
              "      <td>4</td>\n",
              "      <td>1</td>\n",
              "      <td>1</td>\n",
              "      <td>1</td>\n",
              "    </tr>\n",
              "  </tbody>\n",
              "</table>\n",
              "<p>658 rows × 10 columns</p>\n",
              "</div>\n",
              "      <button class=\"colab-df-convert\" onclick=\"convertToInteractive('df-96ee429b-8b15-4301-abd0-913e3b9b1642')\"\n",
              "              title=\"Convert this dataframe to an interactive table.\"\n",
              "              style=\"display:none;\">\n",
              "        \n",
              "  <svg xmlns=\"http://www.w3.org/2000/svg\" height=\"24px\"viewBox=\"0 0 24 24\"\n",
              "       width=\"24px\">\n",
              "    <path d=\"M0 0h24v24H0V0z\" fill=\"none\"/>\n",
              "    <path d=\"M18.56 5.44l.94 2.06.94-2.06 2.06-.94-2.06-.94-.94-2.06-.94 2.06-2.06.94zm-11 1L8.5 8.5l.94-2.06 2.06-.94-2.06-.94L8.5 2.5l-.94 2.06-2.06.94zm10 10l.94 2.06.94-2.06 2.06-.94-2.06-.94-.94-2.06-.94 2.06-2.06.94z\"/><path d=\"M17.41 7.96l-1.37-1.37c-.4-.4-.92-.59-1.43-.59-.52 0-1.04.2-1.43.59L10.3 9.45l-7.72 7.72c-.78.78-.78 2.05 0 2.83L4 21.41c.39.39.9.59 1.41.59.51 0 1.02-.2 1.41-.59l7.78-7.78 2.81-2.81c.8-.78.8-2.07 0-2.86zM5.41 20L4 18.59l7.72-7.72 1.47 1.35L5.41 20z\"/>\n",
              "  </svg>\n",
              "      </button>\n",
              "      \n",
              "  <style>\n",
              "    .colab-df-container {\n",
              "      display:flex;\n",
              "      flex-wrap:wrap;\n",
              "      gap: 12px;\n",
              "    }\n",
              "\n",
              "    .colab-df-convert {\n",
              "      background-color: #E8F0FE;\n",
              "      border: none;\n",
              "      border-radius: 50%;\n",
              "      cursor: pointer;\n",
              "      display: none;\n",
              "      fill: #1967D2;\n",
              "      height: 32px;\n",
              "      padding: 0 0 0 0;\n",
              "      width: 32px;\n",
              "    }\n",
              "\n",
              "    .colab-df-convert:hover {\n",
              "      background-color: #E2EBFA;\n",
              "      box-shadow: 0px 1px 2px rgba(60, 64, 67, 0.3), 0px 1px 3px 1px rgba(60, 64, 67, 0.15);\n",
              "      fill: #174EA6;\n",
              "    }\n",
              "\n",
              "    [theme=dark] .colab-df-convert {\n",
              "      background-color: #3B4455;\n",
              "      fill: #D2E3FC;\n",
              "    }\n",
              "\n",
              "    [theme=dark] .colab-df-convert:hover {\n",
              "      background-color: #434B5C;\n",
              "      box-shadow: 0px 1px 3px 1px rgba(0, 0, 0, 0.15);\n",
              "      filter: drop-shadow(0px 1px 2px rgba(0, 0, 0, 0.3));\n",
              "      fill: #FFFFFF;\n",
              "    }\n",
              "  </style>\n",
              "\n",
              "      <script>\n",
              "        const buttonEl =\n",
              "          document.querySelector('#df-96ee429b-8b15-4301-abd0-913e3b9b1642 button.colab-df-convert');\n",
              "        buttonEl.style.display =\n",
              "          google.colab.kernel.accessAllowed ? 'block' : 'none';\n",
              "\n",
              "        async function convertToInteractive(key) {\n",
              "          const element = document.querySelector('#df-96ee429b-8b15-4301-abd0-913e3b9b1642');\n",
              "          const dataTable =\n",
              "            await google.colab.kernel.invokeFunction('convertToInteractive',\n",
              "                                                     [key], {});\n",
              "          if (!dataTable) return;\n",
              "\n",
              "          const docLinkHtml = 'Like what you see? Visit the ' +\n",
              "            '<a target=\"_blank\" href=https://colab.research.google.com/notebooks/data_table.ipynb>data table notebook</a>'\n",
              "            + ' to learn more about interactive tables.';\n",
              "          element.innerHTML = '';\n",
              "          dataTable['output_type'] = 'display_data';\n",
              "          await google.colab.output.renderOutput(dataTable, element);\n",
              "          const docLink = document.createElement('div');\n",
              "          docLink.innerHTML = docLinkHtml;\n",
              "          element.appendChild(docLink);\n",
              "        }\n",
              "      </script>\n",
              "    </div>\n",
              "  </div>\n",
              "  "
            ]
          },
          "metadata": {},
          "execution_count": 46
        }
      ]
    }
  ]
}
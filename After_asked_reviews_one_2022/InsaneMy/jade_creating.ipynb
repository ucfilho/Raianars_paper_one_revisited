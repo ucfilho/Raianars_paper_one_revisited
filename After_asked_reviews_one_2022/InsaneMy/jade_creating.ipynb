{
  "nbformat": 4,
  "nbformat_minor": 0,
  "metadata": {
    "colab": {
      "name": "jade_creating.ipynb",
      "provenance": [],
      "authorship_tag": "ABX9TyOY0Z7U8RA4EaPBv+gzg+C0",
      "include_colab_link": true
    },
    "kernelspec": {
      "name": "python3",
      "display_name": "Python 3"
    },
    "language_info": {
      "name": "python"
    }
  },
  "cells": [
    {
      "cell_type": "markdown",
      "metadata": {
        "id": "view-in-github",
        "colab_type": "text"
      },
      "source": [
        "<a href=\"https://colab.research.google.com/github/ucfilho/Raianars_paper_one_revisited/blob/main/After_asked_reviews_one_2022/InsaneMy/jade_creating.ipynb\" target=\"_parent\"><img src=\"https://colab.research.google.com/assets/colab-badge.svg\" alt=\"Open In Colab\"/></a>"
      ]
    },
    {
      "cell_type": "code",
      "execution_count": null,
      "metadata": {
        "id": "e5pjX0DHAe6h"
      },
      "outputs": [],
      "source": [
        "import numpy as np\n",
        "import scipy.stats\n",
        "\n",
        "def de(MAX,MIN, mut, crossp, popsize, its,fobj,X,SOMA,TOTAL):\n",
        "  \n",
        "  meanSF = 0.0; meanSF2 = 0.0;\n",
        "  meanSCR = 0.0; meanSCR2 = 0.0;\n",
        "  mi_CR = 0.9; mi_F = 0.5; p = 0.1\n",
        "  Num = int(popsize*p)\n",
        "  pBest = np.zeros((Num)); sizeA = 0;\n",
        "  F_values = scipy.stats.cauchy.rvs(loc=mi_F, scale=0.1, size=popsize)\n",
        "  CR_values = np.random.normal(mi_CR , 0.1, population_size)\n",
        "  Num=len(X[0,:]) # num eh usado duas vezes para significados diferentes\n",
        "  \n",
        "  XOLD=X\n",
        "  X=np.zeros((popsize,Num)) \n",
        "    \n",
        "  for i in range(popsize):\n",
        "    for j in range(Num):\n",
        "        X[i,j]=np.copy(XOLD[i,j])\n",
        "  \n",
        "  \n",
        "  Num=len(MAX) # alterando Num para segundo significado (definicao de bounds)\n",
        "  bounds=[(0,0)] * Num\n",
        "  # dimensions = len(bounds)  # dimensions refere a populacao\n",
        "  dimensions =len(X[0,:]) # num eh usado duas vezes para significados diferentes\n",
        "  \n",
        "  for i in range(Num):\n",
        "    bounds[i]=(MIN[i], MAX[i])\n",
        "\n",
        "  fitness = np.asarray([fobj(ind) for ind in X])\n",
        "  best_idx = np.argmin(fitness)\n",
        "  best = X[best_idx]\n",
        "  \n",
        "  Num=len(X[0,:]) # Alterando Num dimensao da solucao\n",
        "  for i in range(its):\n",
        "    if(SOMA>TOTAL):\n",
        "      break\n",
        "    for j in range(popsize):\n",
        "      if(SOMA>TOTAL):\n",
        "        break\n",
        "      SOMA=SOMA+1\n",
        "      mut = F_values[i]\n",
        "      crossp = CR_values[i]\n",
        "      idxs = [idx for idx in range(popsize) if idx != j]\n",
        "      a, b, c = X[np.random.choice(idxs, 3, replace = False)]\n",
        "      mutant = a + mut * (b - c)\n",
        "\n",
        "      for k in range(Num):\n",
        "        if(mutant[k]>MAX[k]):\n",
        "          mutant[k]=MAX[k]\n",
        "        if(mutant[k]<MIN[k]):\n",
        "          mutant[k]=MIN[k]\n",
        "          \n",
        "      cross_points = np.random.rand(dimensions) < crossp\n",
        "      if not np.any(cross_points):\n",
        "        cross_points[np.random.randint(0, dimensions)] = True\n",
        "        \n",
        "      #==================================\n",
        "      #==================================\n",
        "      #print(cross_points, mutant, X[j,:])\n",
        "      trial = np.where(cross_points, mutant, X[j,:])\n",
        "      #print(trial)\n",
        "      #==================================\n",
        "      #==================================\n",
        "\n",
        "      f = fobj(trial)\n",
        "      if f < fitness[j]:\n",
        "        fitness[j] = f\n",
        "        X[j,:] = trial\n",
        "        if f < fitness[best_idx]:\n",
        "          best_idx = j\n",
        "          best = trial\n",
        "\n",
        "    fitness = np.asarray([fobj(ind) for ind in X])\n",
        "\n",
        "  fitness = np.asarray([fobj(ind) for ind in X])\n",
        "  best_idx = np.argmin(fitness)\n",
        "  best = X[best_idx]\n",
        "  fobj_best = fitness[best_idx]\n",
        "\n",
        "  \n",
        "  y=fitness\n",
        "\n",
        "  BEST=best\n",
        "  FOBEST=fobj_best\n",
        "  XY= np.c_[X,y] #concatena x e y em 2 colunas            \n",
        "  XYsorted = XY[XY[:,-1].argsort()] #Ordena a partir da last col(Y) for all row\n",
        "  x=XYsorted[:,0:Num]\n",
        "  XY=XYsorted\n",
        "  BEST_XY =np.append(BEST,FOBEST)\n",
        "  \n",
        "  for i in range(popsize):\n",
        "    for j in range(Num):\n",
        "        XOLD[i,j]=np.copy(X[i,j])\n",
        "  \n",
        "  return XOLD,BEST,FOBEST,XY,BEST_XY,SOMA"
      ]
    },
    {
      "cell_type": "code",
      "source": [
        "# "
      ],
      "metadata": {
        "id": "NEQiqpSZHJ7X"
      },
      "execution_count": null,
      "outputs": []
    }
  ]
}
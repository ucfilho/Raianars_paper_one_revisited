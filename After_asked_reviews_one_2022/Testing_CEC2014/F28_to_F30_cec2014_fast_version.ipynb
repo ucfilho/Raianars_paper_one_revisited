{
  "nbformat": 4,
  "nbformat_minor": 0,
  "metadata": {
    "colab": {
      "name": "F28_to_F30_cec2014_fast_version.ipynb",
      "provenance": [],
      "authorship_tag": "ABX9TyNUQghiKmBX0bpgphnbdWgW",
      "include_colab_link": true
    },
    "kernelspec": {
      "name": "python3",
      "display_name": "Python 3"
    },
    "language_info": {
      "name": "python"
    }
  },
  "cells": [
    {
      "cell_type": "markdown",
      "metadata": {
        "id": "view-in-github",
        "colab_type": "text"
      },
      "source": [
        "<a href=\"https://colab.research.google.com/github/ucfilho/Raianars_paper_one_revisited/blob/main/After_asked_reviews_one_2022/Testing_CEC2014/F28_to_F30_cec2014_fast_version.ipynb\" target=\"_parent\"><img src=\"https://colab.research.google.com/assets/colab-badge.svg\" alt=\"Open In Colab\"/></a>"
      ]
    },
    {
      "cell_type": "code",
      "source": [
        "from scipy.optimize import differential_evolution\n",
        "import numpy as np\n",
        "from pandas import read_csv\n"
      ],
      "metadata": {
        "id": "ogQTgEZt7ed3"
      },
      "execution_count": 1,
      "outputs": []
    },
    {
      "cell_type": "code",
      "source": [
        "!git clone https://github.com/ucfilho/functions_cec2014_data\n",
        "%cd functions_cec2014_data\n",
        "import F28_to_F30_cec2014\n",
        "import cec2014_names\n",
        "import cec2014_shift_rotate"
      ],
      "metadata": {
        "colab": {
          "base_uri": "https://localhost:8080/"
        },
        "id": "AVdOI6GnVJeF",
        "outputId": "3726a3a8-7ade-4d11-f516-4cc2fc900b5f"
      },
      "execution_count": 2,
      "outputs": [
        {
          "output_type": "stream",
          "name": "stdout",
          "text": [
            "Cloning into 'functions_cec2014_data'...\n",
            "remote: Enumerating objects: 276, done.\u001b[K\n",
            "remote: Counting objects: 100% (276/276), done.\u001b[K\n",
            "remote: Compressing objects: 100% (274/274), done.\u001b[K\n",
            "remote: Total 276 (delta 167), reused 0 (delta 0), pack-reused 0\u001b[K\n",
            "Receiving objects: 100% (276/276), 458.30 KiB | 2.98 MiB/s, done.\n",
            "Resolving deltas: 100% (167/167), done.\n",
            "/content/functions_cec2014_data\n"
          ]
        }
      ]
    },
    {
      "cell_type": "code",
      "source": [
        "# Note: cec2014 funtions not composed\n",
        "# F1: elliptic  F2: bent cigar  F3: discus  F4: Rosenbrock\n",
        "# F5: Ackey   F6: Weierstrass  F7: griewank  F8: rastrigin\n",
        "# F9: modified Schwefel   F10: Katsuura  F11: happy cat  F12: hgbat\n",
        "# F13: expanded Griewank   F14:  expanded Scaffer"
      ],
      "metadata": {
        "id": "HMrG6BXHTg5p"
      },
      "execution_count": 3,
      "outputs": []
    },
    {
      "cell_type": "code",
      "source": [
        "# F28 to F30 are composed so it is in different file: F28_to_F30_cec2014\n",
        "function_select = 'F29' \n",
        "Function = F28_to_F30_cec2014.F29\n",
        "#Shift_Rotate= cec2014_shift_rotate.F29 \n",
        "problem_size = 10 # "
      ],
      "metadata": {
        "id": "6LOExkH1zxCD"
      },
      "execution_count": 4,
      "outputs": []
    },
    {
      "cell_type": "code",
      "source": [
        "if function_select == 'F28':\n",
        "  aux_fun = 'F15'\n",
        "  f_matrix_aux = \"M_\"+ aux_fun[1:]+\"_D\"+str(problem_size) + \".txt\"\n",
        "  shift_data_file_aux=\"shift_data_\"+aux_fun[1:]+\".txt\"\n",
        "  F_bias_aux = cec2014_names.BiasValue()[aux_fun]\n",
        "  type_fun_aux  = cec2014_names.TypeFunctions()[aux_fun]\n",
        "  Function_CEC2014_aux  = aux_fun + \"_\" + cec2014_names.NamesFunctions()[aux_fun]\n",
        "  Function_CEC2014_aux = Function_CEC2014_aux +\"_D_\"+str(problem_size)\n",
        "\n",
        "if function_select == 'F29':\n",
        "\n",
        "  aux_fun_01 = 'F17'\n",
        "  f_matrix_aux_01 = \"M_\"+ aux_fun_01[1:]+\"_D\"+str(problem_size) + \".txt\"\n",
        "  shift_data_file_aux_01=\"shift_data_\"+aux_fun_01[1:]+\".txt\"\n",
        "  F_bias_aux_01 = cec2014_names.BiasValue()[aux_fun_01]\n",
        "  type_fun_aux_01  = cec2014_names.TypeFunctions()[aux_fun_01]\n",
        "  Function_CEC2014_aux_01  = aux_fun_01 + \"_\" + cec2014_names.NamesFunctions()[aux_fun_01]\n",
        "  Function_CEC2014_aux_01 = Function_CEC2014_aux_01 +\"_D_\"+str(problem_size)\n",
        "\n",
        "  aux_fun_02 = 'F18'\n",
        "  f_matrix_aux_02 = \"M_\"+ aux_fun_02[1:]+\"_D\"+str(problem_size) + \".txt\"\n",
        "  shift_data_file_aux_02=\"shift_data_\"+aux_fun_02[1:]+\".txt\"\n",
        "  F_bias_aux_02 = cec2014_names.BiasValue()[aux_fun_02]\n",
        "  type_fun_aux_02  = cec2014_names.TypeFunctions()[aux_fun_01]\n",
        "  Function_CEC2014_aux_02  = aux_fun_02 + \"_\" + cec2014_names.NamesFunctions()[aux_fun_01]\n",
        "  Function_CEC2014_aux_02 = Function_CEC2014_aux_02 +\"_D_\"+str(problem_size)\n",
        "\n",
        "  aux_fun_03 = 'F19'\n",
        "  f_matrix_aux_03 = \"M_\"+ aux_fun_03[1:]+\"_D\"+str(problem_size) + \".txt\"\n",
        "  shift_data_file_aux_03=\"shift_data_\"+aux_fun_03[1:]+\".txt\"\n",
        "  F_bias_aux_03 = cec2014_names.BiasValue()[aux_fun_03]\n",
        "  type_fun_aux_03  = cec2014_names.TypeFunctions()[aux_fun_01]\n",
        "  Function_CEC2014_aux_03  = aux_fun_03 + \"_\" + cec2014_names.NamesFunctions()[aux_fun_01]\n",
        "  Function_CEC2014_aux_03 = Function_CEC2014_aux_03 +\"_D_\"+str(problem_size)\n",
        "#F29(solution , shift_data , matrix, sda_01, ma_01, sda_02, ma_02, sda_03, ma_03)"
      ],
      "metadata": {
        "id": "5F895yf1oy8u"
      },
      "execution_count": 5,
      "outputs": []
    },
    {
      "cell_type": "code",
      "source": [
        "f_matrix = \"M_\"+function_select[1:]+\"_D\"+str(problem_size) + \".txt\"\n",
        "shift_data_file=\"shift_data_\"+function_select[1:]+\".txt\"\n",
        "F_bias = cec2014_names.BiasValue()[function_select]\n",
        "type_fun = cec2014_names.TypeFunctions()[function_select]\n",
        "Function_CEC2014 =function_select + \"_\" + cec2014_names.NamesFunctions()[function_select]+\"_D_\"+str(problem_size)"
      ],
      "metadata": {
        "id": "gh7e-QAzUHLl"
      },
      "execution_count": 6,
      "outputs": []
    },
    {
      "cell_type": "code",
      "source": [
        "shift_data_file_aux_01,f_matrix_aux_01 "
      ],
      "metadata": {
        "id": "0Zd0jp05V5UQ",
        "colab": {
          "base_uri": "https://localhost:8080/"
        },
        "outputId": "5d2d8c0f-bb3b-4ca2-b8da-c5b22c295040"
      },
      "execution_count": 7,
      "outputs": [
        {
          "output_type": "execute_result",
          "data": {
            "text/plain": [
              "('shift_data_17.txt', 'M_17_D10.txt')"
            ]
          },
          "metadata": {},
          "execution_count": 7
        }
      ]
    },
    {
      "cell_type": "code",
      "source": [
        "shift_data_file_aux_02,f_matrix_aux_02 "
      ],
      "metadata": {
        "id": "mh6RLvkTSfcU",
        "outputId": "31a83ed2-c1f6-462b-fe09-36c593a8fdf9",
        "colab": {
          "base_uri": "https://localhost:8080/"
        }
      },
      "execution_count": 8,
      "outputs": [
        {
          "output_type": "execute_result",
          "data": {
            "text/plain": [
              "('shift_data_18.txt', 'M_18_D10.txt')"
            ]
          },
          "metadata": {},
          "execution_count": 8
        }
      ]
    },
    {
      "cell_type": "code",
      "source": [
        "shift_data_file_aux_03,f_matrix_aux_03 "
      ],
      "metadata": {
        "id": "dgm6ac1pSgja",
        "outputId": "3deba09d-00f3-4052-d544-5e797f3ed2ee",
        "colab": {
          "base_uri": "https://localhost:8080/"
        }
      },
      "execution_count": 9,
      "outputs": [
        {
          "output_type": "execute_result",
          "data": {
            "text/plain": [
              "('shift_data_19.txt', 'M_19_D10.txt')"
            ]
          },
          "metadata": {},
          "execution_count": 9
        }
      ]
    },
    {
      "cell_type": "code",
      "source": [
        "shift_data_file,f_matrix \n"
      ],
      "metadata": {
        "id": "N8Ay_otipbA6",
        "outputId": "0e421099-0df0-48ab-9e76-52073131d0f8",
        "colab": {
          "base_uri": "https://localhost:8080/"
        }
      },
      "execution_count": 10,
      "outputs": [
        {
          "output_type": "execute_result",
          "data": {
            "text/plain": [
              "('shift_data_29.txt', 'M_29_D10.txt')"
            ]
          },
          "metadata": {},
          "execution_count": 10
        }
      ]
    },
    {
      "cell_type": "code",
      "source": [
        "!pip install --upgrade --no-cache-dir gdown"
      ],
      "metadata": {
        "id": "OlFdf_djSPWY",
        "colab": {
          "base_uri": "https://localhost:8080/"
        },
        "outputId": "67304b2e-1232-4702-e1d6-37d14f47cb02"
      },
      "execution_count": 11,
      "outputs": [
        {
          "output_type": "stream",
          "name": "stdout",
          "text": [
            "Requirement already satisfied: gdown in /usr/local/lib/python3.7/dist-packages (4.2.2)\n",
            "Collecting gdown\n",
            "  Downloading gdown-4.4.0.tar.gz (14 kB)\n",
            "  Installing build dependencies ... \u001b[?25l\u001b[?25hdone\n",
            "  Getting requirements to build wheel ... \u001b[?25l\u001b[?25hdone\n",
            "    Preparing wheel metadata ... \u001b[?25l\u001b[?25hdone\n",
            "Requirement already satisfied: six in /usr/local/lib/python3.7/dist-packages (from gdown) (1.15.0)\n",
            "Requirement already satisfied: tqdm in /usr/local/lib/python3.7/dist-packages (from gdown) (4.63.0)\n",
            "Requirement already satisfied: requests[socks] in /usr/local/lib/python3.7/dist-packages (from gdown) (2.23.0)\n",
            "Requirement already satisfied: beautifulsoup4 in /usr/local/lib/python3.7/dist-packages (from gdown) (4.6.3)\n",
            "Requirement already satisfied: filelock in /usr/local/lib/python3.7/dist-packages (from gdown) (3.6.0)\n",
            "Requirement already satisfied: urllib3!=1.25.0,!=1.25.1,<1.26,>=1.21.1 in /usr/local/lib/python3.7/dist-packages (from requests[socks]->gdown) (1.24.3)\n",
            "Requirement already satisfied: idna<3,>=2.5 in /usr/local/lib/python3.7/dist-packages (from requests[socks]->gdown) (2.10)\n",
            "Requirement already satisfied: certifi>=2017.4.17 in /usr/local/lib/python3.7/dist-packages (from requests[socks]->gdown) (2021.10.8)\n",
            "Requirement already satisfied: chardet<4,>=3.0.2 in /usr/local/lib/python3.7/dist-packages (from requests[socks]->gdown) (3.0.4)\n",
            "Requirement already satisfied: PySocks!=1.5.7,>=1.5.6 in /usr/local/lib/python3.7/dist-packages (from requests[socks]->gdown) (1.7.1)\n",
            "Building wheels for collected packages: gdown\n",
            "  Building wheel for gdown (PEP 517) ... \u001b[?25l\u001b[?25hdone\n",
            "  Created wheel for gdown: filename=gdown-4.4.0-py3-none-any.whl size=14774 sha256=33038b8b96f607e2a875546ef3efd0a6e75e0c192714dd8a960d1b7df853691d\n",
            "  Stored in directory: /tmp/pip-ephem-wheel-cache-c4b5ytnv/wheels/fb/c3/0e/c4d8ff8bfcb0461afff199471449f642179b74968c15b7a69c\n",
            "Successfully built gdown\n",
            "Installing collected packages: gdown\n",
            "  Attempting uninstall: gdown\n",
            "    Found existing installation: gdown 4.2.2\n",
            "    Uninstalling gdown-4.2.2:\n",
            "      Successfully uninstalled gdown-4.2.2\n",
            "Successfully installed gdown-4.4.0\n"
          ]
        }
      ]
    },
    {
      "cell_type": "code",
      "source": [
        "# !gdown --id 1yM-cGzp7F35bXZ-f80uoJHzGqAb52CPz\n",
        "# https://drive.google.com/file/d/1yM-cGzp7F35bXZ-f80uoJHzGqAb52CPz/view?usp=sharing\n",
        "!gdown --id 1yM-cGzp7F35bXZ-f80uoJHzGqAb52CPz "
      ],
      "metadata": {
        "id": "lGBjPXkRQA8t",
        "colab": {
          "base_uri": "https://localhost:8080/"
        },
        "outputId": "7891d3fe-51cf-4563-e3b1-bf3a0d067601"
      },
      "execution_count": 12,
      "outputs": [
        {
          "output_type": "stream",
          "name": "stdout",
          "text": [
            "/usr/local/lib/python3.7/dist-packages/gdown/cli.py:131: FutureWarning: Option `--id` was deprecated in version 4.3.1 and will be removed in 5.0. You don't need to pass it anymore to use a file ID.\n",
            "  category=FutureWarning,\n",
            "Downloading...\n",
            "From: https://drive.google.com/uc?id=1yM-cGzp7F35bXZ-f80uoJHzGqAb52CPz\n",
            "To: /content/functions_cec2014_data/cec2014.zip\n",
            "100% 36.1M/36.1M [00:00<00:00, 103MB/s] \n"
          ]
        }
      ]
    },
    {
      "cell_type": "code",
      "source": [
        "import zipfile\n",
        "file_name = zipfile.ZipFile('cec2014.zip', 'r')\n",
        "file_name.extractall()"
      ],
      "metadata": {
        "id": "FlIMj7IdD-Yv"
      },
      "execution_count": 13,
      "outputs": []
    },
    {
      "cell_type": "code",
      "source": [
        "#!ls"
      ],
      "metadata": {
        "id": "gW42-PakWMl6"
      },
      "execution_count": 14,
      "outputs": []
    },
    {
      "cell_type": "code",
      "source": [
        "def load_shift_data__(data_file=None):\n",
        "    data = read_csv(data_file, delimiter='\\s+', index_col=False, header=None)\n",
        "    return data.values.reshape((-1))\n",
        "\n",
        "def load_matrix_data__(data_file=None):\n",
        "    data = read_csv(data_file, delimiter='\\s+', index_col=False, header=None)\n",
        "    return data.values"
      ],
      "metadata": {
        "id": "gh1DB8L_zxQz"
      },
      "execution_count": 15,
      "outputs": []
    },
    {
      "cell_type": "code",
      "source": [
        "if (type_fun == 'hybrid'):\n",
        "  f_shuffle = \"shuffle_data_\"+function_select[1:]+\"_D\"+str(problem_size) + \".txt\"\n",
        "  shuffle = (load_shift_data__(f_shuffle)[:problem_size] - np.ones(problem_size)).astype(int)\n",
        "  matrix_a = load_matrix_data__(f_matrix)\n",
        "  shift_data_a = load_shift_data__(shift_data_file)[:problem_size]\n",
        "\n",
        "\n",
        "\n",
        "if function_select == 'F28':\n",
        "  shift_data_a = load_shift_data__(shift_data_file)[:problem_size]\n",
        "  matrix_a = load_matrix_data__(f_matrix)\n",
        "  shift_data_aux = load_shift_data__(shift_data_file_aux)[:problem_size]\n",
        "  matrix_aux = load_matrix_data__(f_matrix_aux)\n",
        "\n",
        "  sda_01 = shift_data_aux \n",
        "  ma_01 = matrix_aux \n",
        "  Fba_01 = F_bias_aux\n",
        "\n",
        "if function_select == 'F29':\n",
        "  matrix_a = load_matrix_data__(f_matrix)\n",
        "  shift_data_a = load_shift_data__(shift_data_file)[:problem_size]\n",
        "  f_shuffle = \"shuffle_data_\"+function_select[1:]+\"_D\"+str(problem_size) + \".txt\"\n",
        "  shuffle = (load_shift_data__(f_shuffle)[:problem_size] - np.ones(problem_size)).astype(int)\n",
        "  sda_01 = load_shift_data__(shift_data_file_aux_01)[:problem_size]\n",
        "  ma_01 = load_matrix_data__(f_matrix_aux_01 )\n",
        "  sda_02 = load_shift_data__(shift_data_file_aux_02)[:problem_size]\n",
        "  ma_02 = load_matrix_data__(f_matrix_aux_02)\n",
        "  sda_03 = load_shift_data__(shift_data_file_aux_03)[:problem_size]\n",
        "  ma_03 = load_matrix_data__(f_matrix_aux_03 )"
      ],
      "metadata": {
        "id": "0112hnWC4ahG"
      },
      "execution_count": 16,
      "outputs": []
    },
    {
      "cell_type": "code",
      "source": [
        "#!ls"
      ],
      "metadata": {
        "id": "y5nZerGMOTNJ"
      },
      "execution_count": 17,
      "outputs": []
    },
    {
      "cell_type": "code",
      "execution_count": 18,
      "metadata": {
        "id": "0fN3yW_pyzvq"
      },
      "outputs": [],
      "source": [
        "SUPPORT_DIMENSION = [2, 10, 20, 30, 50, 100]\n",
        "SUPPORT_DIMENSION_2 = [10, 20, 30, 50, 100]\n",
        "if(function_select == 'F28'):\n",
        "  def Fun(solution, shift_data ,  matrix, sda_01, ma_01, Fba_01):\n",
        "    result = Function(solution, shift_data ,  matrix, sda_01, ma_01, Fba_01)\n",
        "    return result\n",
        "elif(function_select == 'F29'):\n",
        "  def Fun(solution, shift_data, shuffle ,  matrix, sda_01, ma_01, sda_02, ma_02, sda_03, ma_03):\n",
        "    result = Function(solution, shift_data, shuffle ,  matrix, sda_01, ma_01, sda_02, ma_02, sda_03, ma_03)\n",
        "    return result"
      ]
    },
    {
      "cell_type": "code",
      "source": [
        "solution = np.random.uniform(0, 1,problem_size)\n",
        "if(function_select == 'F28'):\n",
        "  resp = Fun(solution, shift_data_a,matrix_a,sda_01, ma_01)\n",
        "elif(function_select == 'F29'):\n",
        "  resp = Fun(solution , shift_data_a ,shuffle , matrix_a, sda_01, ma_01, sda_02, ma_02, sda_03, ma_03)\n",
        "#def F29(solution , shift_data , matrix, sda_01, ma_01, sda_02, ma_02, sda_03, ma_03):\n",
        "print(resp)"
      ],
      "metadata": {
        "id": "3eP09S9TYAc7",
        "colab": {
          "base_uri": "https://localhost:8080/"
        },
        "outputId": "823729a6-0513-4630-e913-6ea5e86382bd"
      },
      "execution_count": 19,
      "outputs": [
        {
          "output_type": "stream",
          "name": "stdout",
          "text": [
            "1631700085.8274426\n"
          ]
        }
      ]
    },
    {
      "cell_type": "code",
      "source": [
        "bounds_test = int(problem_size)*[(-100,100)]\n",
        "result = differential_evolution(Fun, bounds_test)"
      ],
      "metadata": {
        "id": "RUzbV9bg7SMX",
        "outputId": "0f30c0e1-d583-41a7-c8b8-0568f4c14c6b",
        "colab": {
          "base_uri": "https://localhost:8080/",
          "height": 502
        }
      },
      "execution_count": 20,
      "outputs": [
        {
          "output_type": "error",
          "ename": "RuntimeError",
          "evalue": "ignored",
          "traceback": [
            "\u001b[0;31m---------------------------------------------------------------------------\u001b[0m",
            "\u001b[0;31mTypeError\u001b[0m                                 Traceback (most recent call last)",
            "\u001b[0;32m/usr/local/lib/python3.7/dist-packages/scipy/optimize/_differentialevolution.py\u001b[0m in \u001b[0;36m_calculate_population_energies\u001b[0;34m(self, population)\u001b[0m\n\u001b[1;32m    877\u001b[0m             calc_energies = list(self._mapwrapper(self.func,\n\u001b[0;32m--> 878\u001b[0;31m                                                   parameters_pop[0:nfevs]))\n\u001b[0m\u001b[1;32m    879\u001b[0m             \u001b[0menergies\u001b[0m\u001b[0;34m[\u001b[0m\u001b[0;36m0\u001b[0m\u001b[0;34m:\u001b[0m\u001b[0mnfevs\u001b[0m\u001b[0;34m]\u001b[0m \u001b[0;34m=\u001b[0m \u001b[0mcalc_energies\u001b[0m\u001b[0;34m\u001b[0m\u001b[0;34m\u001b[0m\u001b[0m\n",
            "\u001b[0;32m/usr/local/lib/python3.7/dist-packages/scipy/optimize/_differentialevolution.py\u001b[0m in \u001b[0;36m__call__\u001b[0;34m(self, x)\u001b[0m\n\u001b[1;32m   1264\u001b[0m     \u001b[0;32mdef\u001b[0m \u001b[0m__call__\u001b[0m\u001b[0;34m(\u001b[0m\u001b[0mself\u001b[0m\u001b[0;34m,\u001b[0m \u001b[0mx\u001b[0m\u001b[0;34m)\u001b[0m\u001b[0;34m:\u001b[0m\u001b[0;34m\u001b[0m\u001b[0;34m\u001b[0m\u001b[0m\n\u001b[0;32m-> 1265\u001b[0;31m         \u001b[0;32mreturn\u001b[0m \u001b[0mself\u001b[0m\u001b[0;34m.\u001b[0m\u001b[0mf\u001b[0m\u001b[0;34m(\u001b[0m\u001b[0mx\u001b[0m\u001b[0;34m,\u001b[0m \u001b[0;34m*\u001b[0m\u001b[0mself\u001b[0m\u001b[0;34m.\u001b[0m\u001b[0margs\u001b[0m\u001b[0;34m)\u001b[0m\u001b[0;34m\u001b[0m\u001b[0;34m\u001b[0m\u001b[0m\n\u001b[0m\u001b[1;32m   1266\u001b[0m \u001b[0;34m\u001b[0m\u001b[0m\n",
            "\u001b[0;31mTypeError\u001b[0m: Fun() missing 9 required positional arguments: 'shift_data', 'shuffle', 'matrix', 'sda_01', 'ma_01', 'sda_02', 'ma_02', 'sda_03', and 'ma_03'",
            "\nDuring handling of the above exception, another exception occurred:\n",
            "\u001b[0;31mRuntimeError\u001b[0m                              Traceback (most recent call last)",
            "\u001b[0;32m<ipython-input-20-aa9dcbd7b5c2>\u001b[0m in \u001b[0;36m<module>\u001b[0;34m()\u001b[0m\n\u001b[1;32m      1\u001b[0m \u001b[0mbounds_test\u001b[0m \u001b[0;34m=\u001b[0m \u001b[0mint\u001b[0m\u001b[0;34m(\u001b[0m\u001b[0mproblem_size\u001b[0m\u001b[0;34m)\u001b[0m\u001b[0;34m*\u001b[0m\u001b[0;34m[\u001b[0m\u001b[0;34m(\u001b[0m\u001b[0;34m-\u001b[0m\u001b[0;36m100\u001b[0m\u001b[0;34m,\u001b[0m\u001b[0;36m100\u001b[0m\u001b[0;34m)\u001b[0m\u001b[0;34m]\u001b[0m\u001b[0;34m\u001b[0m\u001b[0;34m\u001b[0m\u001b[0m\n\u001b[0;32m----> 2\u001b[0;31m \u001b[0mresult\u001b[0m \u001b[0;34m=\u001b[0m \u001b[0mdifferential_evolution\u001b[0m\u001b[0;34m(\u001b[0m\u001b[0mFun\u001b[0m\u001b[0;34m,\u001b[0m \u001b[0mbounds_test\u001b[0m\u001b[0;34m)\u001b[0m\u001b[0;34m\u001b[0m\u001b[0;34m\u001b[0m\u001b[0m\n\u001b[0m",
            "\u001b[0;32m/usr/local/lib/python3.7/dist-packages/scipy/optimize/_differentialevolution.py\u001b[0m in \u001b[0;36mdifferential_evolution\u001b[0;34m(func, bounds, args, strategy, maxiter, popsize, tol, mutation, recombination, seed, callback, disp, polish, init, atol, updating, workers, constraints)\u001b[0m\n\u001b[1;32m    304\u001b[0m                                      \u001b[0mworkers\u001b[0m\u001b[0;34m=\u001b[0m\u001b[0mworkers\u001b[0m\u001b[0;34m,\u001b[0m\u001b[0;34m\u001b[0m\u001b[0;34m\u001b[0m\u001b[0m\n\u001b[1;32m    305\u001b[0m                                      constraints=constraints) as solver:\n\u001b[0;32m--> 306\u001b[0;31m         \u001b[0mret\u001b[0m \u001b[0;34m=\u001b[0m \u001b[0msolver\u001b[0m\u001b[0;34m.\u001b[0m\u001b[0msolve\u001b[0m\u001b[0;34m(\u001b[0m\u001b[0;34m)\u001b[0m\u001b[0;34m\u001b[0m\u001b[0;34m\u001b[0m\u001b[0m\n\u001b[0m\u001b[1;32m    307\u001b[0m \u001b[0;34m\u001b[0m\u001b[0m\n\u001b[1;32m    308\u001b[0m     \u001b[0;32mreturn\u001b[0m \u001b[0mret\u001b[0m\u001b[0;34m\u001b[0m\u001b[0;34m\u001b[0m\u001b[0m\n",
            "\u001b[0;32m/usr/local/lib/python3.7/dist-packages/scipy/optimize/_differentialevolution.py\u001b[0m in \u001b[0;36msolve\u001b[0;34m(self)\u001b[0m\n\u001b[1;32m    743\u001b[0m             self.population_energies[self.feasible] = (\n\u001b[1;32m    744\u001b[0m                 self._calculate_population_energies(\n\u001b[0;32m--> 745\u001b[0;31m                     self.population[self.feasible]))\n\u001b[0m\u001b[1;32m    746\u001b[0m \u001b[0;34m\u001b[0m\u001b[0m\n\u001b[1;32m    747\u001b[0m             \u001b[0mself\u001b[0m\u001b[0;34m.\u001b[0m\u001b[0m_promote_lowest_energy\u001b[0m\u001b[0;34m(\u001b[0m\u001b[0;34m)\u001b[0m\u001b[0;34m\u001b[0m\u001b[0;34m\u001b[0m\u001b[0m\n",
            "\u001b[0;32m/usr/local/lib/python3.7/dist-packages/scipy/optimize/_differentialevolution.py\u001b[0m in \u001b[0;36m_calculate_population_energies\u001b[0;34m(self, population)\u001b[0m\n\u001b[1;32m    881\u001b[0m             \u001b[0;31m# wrong number of arguments for _mapwrapper\u001b[0m\u001b[0;34m\u001b[0m\u001b[0;34m\u001b[0m\u001b[0;34m\u001b[0m\u001b[0m\n\u001b[1;32m    882\u001b[0m             \u001b[0;31m# or wrong length returned from the mapper\u001b[0m\u001b[0;34m\u001b[0m\u001b[0;34m\u001b[0m\u001b[0;34m\u001b[0m\u001b[0m\n\u001b[0;32m--> 883\u001b[0;31m             raise RuntimeError(\"The map-like callable must be of the\"\n\u001b[0m\u001b[1;32m    884\u001b[0m                                \u001b[0;34m\" form f(func, iterable), returning a sequence\"\u001b[0m\u001b[0;34m\u001b[0m\u001b[0;34m\u001b[0m\u001b[0m\n\u001b[1;32m    885\u001b[0m                                \" of numbers the same length as 'iterable'\")\n",
            "\u001b[0;31mRuntimeError\u001b[0m: The map-like callable must be of the form f(func, iterable), returning a sequence of numbers the same length as 'iterable'"
          ]
        }
      ]
    },
    {
      "cell_type": "code",
      "source": [
        "result.x, result.fun, Function_CEC2014"
      ],
      "metadata": {
        "id": "jHwhCdUq7yRO"
      },
      "execution_count": null,
      "outputs": []
    }
  ]
}
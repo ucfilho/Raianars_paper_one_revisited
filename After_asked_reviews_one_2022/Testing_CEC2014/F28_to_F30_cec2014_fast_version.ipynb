{
  "nbformat": 4,
  "nbformat_minor": 0,
  "metadata": {
    "colab": {
      "name": "F28_to_F30_cec2014_fast_version.ipynb",
      "provenance": [],
      "authorship_tag": "ABX9TyPtGIqemHmzXEQADr/C1EjP",
      "include_colab_link": true
    },
    "kernelspec": {
      "name": "python3",
      "display_name": "Python 3"
    },
    "language_info": {
      "name": "python"
    }
  },
  "cells": [
    {
      "cell_type": "markdown",
      "metadata": {
        "id": "view-in-github",
        "colab_type": "text"
      },
      "source": [
        "<a href=\"https://colab.research.google.com/github/ucfilho/Raianars_paper_one_revisited/blob/main/After_asked_reviews_one_2022/Testing_CEC2014/F28_to_F30_cec2014_fast_version.ipynb\" target=\"_parent\"><img src=\"https://colab.research.google.com/assets/colab-badge.svg\" alt=\"Open In Colab\"/></a>"
      ]
    },
    {
      "cell_type": "code",
      "source": [
        "from scipy.optimize import differential_evolution\n",
        "import numpy as np\n",
        "from pandas import read_csv\n"
      ],
      "metadata": {
        "id": "ogQTgEZt7ed3"
      },
      "execution_count": 1,
      "outputs": []
    },
    {
      "cell_type": "code",
      "source": [
        "!git clone https://github.com/ucfilho/functions_cec2014_data\n",
        "%cd functions_cec2014_data\n",
        "import F28_to_F30_cec2014\n",
        "import cec2014_names\n",
        "import cec2014_shift_rotate"
      ],
      "metadata": {
        "colab": {
          "base_uri": "https://localhost:8080/"
        },
        "id": "AVdOI6GnVJeF",
        "outputId": "54fe7863-17a4-4b54-9991-8ea95a3556f3"
      },
      "execution_count": 2,
      "outputs": [
        {
          "output_type": "stream",
          "name": "stdout",
          "text": [
            "fatal: destination path 'functions_cec2014_data' already exists and is not an empty directory.\n",
            "/content/functions_cec2014_data\n"
          ]
        }
      ]
    },
    {
      "cell_type": "code",
      "source": [
        "# Note: cec2014 funtions not composed\n",
        "# F1: elliptic  F2: bent cigar  F3: discus  F4: Rosenbrock\n",
        "# F5: Ackey   F6: Weierstrass  F7: griewank  F8: rastrigin\n",
        "# F9: modified Schwefel   F10: Katsuura  F11: happy cat  F12: hgbat\n",
        "# F13: expanded Griewank   F14:  expanded Scaffer"
      ],
      "metadata": {
        "id": "HMrG6BXHTg5p"
      },
      "execution_count": 3,
      "outputs": []
    },
    {
      "cell_type": "code",
      "source": [
        "# F28 to F30 are composed so it is in different file: F28_to_F30_cec2014\n",
        "function_select = 'F30' \n",
        "Function = F28_to_F30_cec2014.F30\n",
        "#Shift_Rotate= cec2014_shift_rotate.F29 \n",
        "problem_size = 10 # "
      ],
      "metadata": {
        "id": "6LOExkH1zxCD"
      },
      "execution_count": 4,
      "outputs": []
    },
    {
      "cell_type": "code",
      "source": [
        "if function_select == 'F28':\n",
        "  aux_fun = 'F15'\n",
        "  f_matrix_aux = \"M_\"+ aux_fun[1:]+\"_D\"+str(problem_size) + \".txt\"\n",
        "  shift_data_file_aux=\"shift_data_\"+aux_fun[1:]+\".txt\"\n",
        "  F_bias_aux = cec2014_names.BiasValue()[aux_fun]\n",
        "  type_fun_aux  = cec2014_names.TypeFunctions()[aux_fun]\n",
        "  Function_CEC2014_aux  = aux_fun + \"_\" + cec2014_names.NamesFunctions()[aux_fun]\n",
        "  Function_CEC2014_aux = Function_CEC2014_aux +\"_D_\"+str(problem_size)\n",
        "\n",
        "if function_select == 'F29':\n",
        "\n",
        "  aux_fun_01 = 'F17'\n",
        "  f_matrix_aux_01 = \"M_\"+ aux_fun_01[1:]+\"_D\"+str(problem_size) + \".txt\"\n",
        "  shift_data_file_aux_01=\"shift_data_\"+aux_fun_01[1:]+\".txt\"\n",
        "  F_bias_aux_01 = cec2014_names.BiasValue()[aux_fun_01]\n",
        "  type_fun_aux_01  = cec2014_names.TypeFunctions()[aux_fun_01]\n",
        "  Function_CEC2014_aux_01  = aux_fun_01 + \"_\" + cec2014_names.NamesFunctions()[aux_fun_01]\n",
        "  Function_CEC2014_aux_01 = Function_CEC2014_aux_01 +\"_D_\"+str(problem_size)\n",
        "\n",
        "  aux_fun_02 = 'F18'\n",
        "  f_matrix_aux_02 = \"M_\"+ aux_fun_02[1:]+\"_D\"+str(problem_size) + \".txt\"\n",
        "  shift_data_file_aux_02=\"shift_data_\"+aux_fun_02[1:]+\".txt\"\n",
        "  F_bias_aux_02 = cec2014_names.BiasValue()[aux_fun_02]\n",
        "  type_fun_aux_02  = cec2014_names.TypeFunctions()[aux_fun_01]\n",
        "  Function_CEC2014_aux_02  = aux_fun_02 + \"_\" + cec2014_names.NamesFunctions()[aux_fun_01]\n",
        "  Function_CEC2014_aux_02 = Function_CEC2014_aux_02 +\"_D_\"+str(problem_size)\n",
        "\n",
        "  aux_fun_03 = 'F19'\n",
        "  f_matrix_aux_03 = \"M_\"+ aux_fun_03[1:]+\"_D\"+str(problem_size) + \".txt\"\n",
        "  shift_data_file_aux_03=\"shift_data_\"+aux_fun_03[1:]+\".txt\"\n",
        "  F_bias_aux_03 = cec2014_names.BiasValue()[aux_fun_03]\n",
        "  type_fun_aux_03  = cec2014_names.TypeFunctions()[aux_fun_01]\n",
        "  Function_CEC2014_aux_03  = aux_fun_03 + \"_\" + cec2014_names.NamesFunctions()[aux_fun_01]\n",
        "  Function_CEC2014_aux_03 = Function_CEC2014_aux_03 +\"_D_\"+str(problem_size)\n",
        "\n",
        "if function_select == 'F30':\n",
        "\n",
        "  aux_fun_01 = 'F20'\n",
        "  f_matrix_aux_01 = \"M_\"+ aux_fun_01[1:]+\"_D\"+str(problem_size) + \".txt\"\n",
        "  shift_data_file_aux_01=\"shift_data_\"+aux_fun_01[1:]+\".txt\"\n",
        "  F_bias_aux_01 = cec2014_names.BiasValue()[aux_fun_01]\n",
        "  type_fun_aux_01  = cec2014_names.TypeFunctions()[aux_fun_01]\n",
        "  Function_CEC2014_aux_01  = aux_fun_01 + \"_\" + cec2014_names.NamesFunctions()[aux_fun_01]\n",
        "  Function_CEC2014_aux_01 = Function_CEC2014_aux_01 +\"_D_\"+str(problem_size)\n",
        "\n",
        "  aux_fun_02 = 'F21'\n",
        "  f_matrix_aux_02 = \"M_\"+ aux_fun_02[1:]+\"_D\"+str(problem_size) + \".txt\"\n",
        "  shift_data_file_aux_02=\"shift_data_\"+aux_fun_02[1:]+\".txt\"\n",
        "  F_bias_aux_02 = cec2014_names.BiasValue()[aux_fun_02]\n",
        "  type_fun_aux_02  = cec2014_names.TypeFunctions()[aux_fun_01]\n",
        "  Function_CEC2014_aux_02  = aux_fun_02 + \"_\" + cec2014_names.NamesFunctions()[aux_fun_01]\n",
        "  Function_CEC2014_aux_02 = Function_CEC2014_aux_02 +\"_D_\"+str(problem_size)\n",
        "\n",
        "  aux_fun_03 = 'F22'\n",
        "  f_matrix_aux_03 = \"M_\"+ aux_fun_03[1:]+\"_D\"+str(problem_size) + \".txt\"\n",
        "  shift_data_file_aux_03=\"shift_data_\"+aux_fun_03[1:]+\".txt\"\n",
        "  F_bias_aux_03 = cec2014_names.BiasValue()[aux_fun_03]\n",
        "  type_fun_aux_03  = cec2014_names.TypeFunctions()[aux_fun_01]\n",
        "  Function_CEC2014_aux_03  = aux_fun_03 + \"_\" + cec2014_names.NamesFunctions()[aux_fun_01]\n",
        "  Function_CEC2014_aux_03 = Function_CEC2014_aux_03 +\"_D_\"+str(problem_size)"
      ],
      "metadata": {
        "id": "5F895yf1oy8u"
      },
      "execution_count": 5,
      "outputs": []
    },
    {
      "cell_type": "code",
      "source": [
        "f_matrix = \"M_\"+function_select[1:]+\"_D\"+str(problem_size) + \".txt\"\n",
        "shift_data_file=\"shift_data_\"+function_select[1:]+\".txt\"\n",
        "F_bias = cec2014_names.BiasValue()[function_select]\n",
        "type_fun = cec2014_names.TypeFunctions()[function_select]\n",
        "Function_CEC2014 =function_select + \"_\" + cec2014_names.NamesFunctions()[function_select]+\"_D_\"+str(problem_size)"
      ],
      "metadata": {
        "id": "gh7e-QAzUHLl"
      },
      "execution_count": 6,
      "outputs": []
    },
    {
      "cell_type": "code",
      "source": [
        "#shift_data_file_aux_01,f_matrix_aux_01 "
      ],
      "metadata": {
        "id": "0Zd0jp05V5UQ"
      },
      "execution_count": 7,
      "outputs": []
    },
    {
      "cell_type": "code",
      "source": [
        "#shift_data_file_aux_02,f_matrix_aux_02 "
      ],
      "metadata": {
        "id": "mh6RLvkTSfcU"
      },
      "execution_count": 8,
      "outputs": []
    },
    {
      "cell_type": "code",
      "source": [
        "#shift_data_file_aux_03,f_matrix_aux_03 "
      ],
      "metadata": {
        "id": "dgm6ac1pSgja"
      },
      "execution_count": 9,
      "outputs": []
    },
    {
      "cell_type": "code",
      "source": [
        "shift_data_file,f_matrix \n"
      ],
      "metadata": {
        "id": "N8Ay_otipbA6",
        "outputId": "79313662-2d6b-4df0-f80a-12571049ff20",
        "colab": {
          "base_uri": "https://localhost:8080/"
        }
      },
      "execution_count": 10,
      "outputs": [
        {
          "output_type": "execute_result",
          "data": {
            "text/plain": [
              "('shift_data_30.txt', 'M_30_D10.txt')"
            ]
          },
          "metadata": {},
          "execution_count": 10
        }
      ]
    },
    {
      "cell_type": "code",
      "source": [
        "!pip install --upgrade --no-cache-dir gdown"
      ],
      "metadata": {
        "id": "OlFdf_djSPWY",
        "colab": {
          "base_uri": "https://localhost:8080/"
        },
        "outputId": "669209d3-244a-49c7-e5b2-1395d2575c03"
      },
      "execution_count": 11,
      "outputs": [
        {
          "output_type": "stream",
          "name": "stdout",
          "text": [
            "Requirement already satisfied: gdown in /usr/local/lib/python3.7/dist-packages (4.4.0)\n",
            "Requirement already satisfied: filelock in /usr/local/lib/python3.7/dist-packages (from gdown) (3.6.0)\n",
            "Requirement already satisfied: six in /usr/local/lib/python3.7/dist-packages (from gdown) (1.15.0)\n",
            "Requirement already satisfied: requests[socks] in /usr/local/lib/python3.7/dist-packages (from gdown) (2.23.0)\n",
            "Requirement already satisfied: tqdm in /usr/local/lib/python3.7/dist-packages (from gdown) (4.63.0)\n",
            "Requirement already satisfied: beautifulsoup4 in /usr/local/lib/python3.7/dist-packages (from gdown) (4.6.3)\n",
            "Requirement already satisfied: urllib3!=1.25.0,!=1.25.1,<1.26,>=1.21.1 in /usr/local/lib/python3.7/dist-packages (from requests[socks]->gdown) (1.24.3)\n",
            "Requirement already satisfied: chardet<4,>=3.0.2 in /usr/local/lib/python3.7/dist-packages (from requests[socks]->gdown) (3.0.4)\n",
            "Requirement already satisfied: idna<3,>=2.5 in /usr/local/lib/python3.7/dist-packages (from requests[socks]->gdown) (2.10)\n",
            "Requirement already satisfied: certifi>=2017.4.17 in /usr/local/lib/python3.7/dist-packages (from requests[socks]->gdown) (2021.10.8)\n",
            "Requirement already satisfied: PySocks!=1.5.7,>=1.5.6 in /usr/local/lib/python3.7/dist-packages (from requests[socks]->gdown) (1.7.1)\n"
          ]
        }
      ]
    },
    {
      "cell_type": "code",
      "source": [
        "# !gdown --id 1yM-cGzp7F35bXZ-f80uoJHzGqAb52CPz\n",
        "# https://drive.google.com/file/d/1yM-cGzp7F35bXZ-f80uoJHzGqAb52CPz/view?usp=sharing\n",
        "!gdown --id 1yM-cGzp7F35bXZ-f80uoJHzGqAb52CPz "
      ],
      "metadata": {
        "id": "lGBjPXkRQA8t",
        "colab": {
          "base_uri": "https://localhost:8080/"
        },
        "outputId": "62ba2f0b-b142-4550-bec7-dc6c73a04391"
      },
      "execution_count": 12,
      "outputs": [
        {
          "output_type": "stream",
          "name": "stdout",
          "text": [
            "/usr/local/lib/python3.7/dist-packages/gdown/cli.py:131: FutureWarning: Option `--id` was deprecated in version 4.3.1 and will be removed in 5.0. You don't need to pass it anymore to use a file ID.\n",
            "  category=FutureWarning,\n",
            "Downloading...\n",
            "From: https://drive.google.com/uc?id=1yM-cGzp7F35bXZ-f80uoJHzGqAb52CPz\n",
            "To: /content/functions_cec2014_data/cec2014.zip\n",
            "100% 36.1M/36.1M [00:00<00:00, 210MB/s]\n"
          ]
        }
      ]
    },
    {
      "cell_type": "code",
      "source": [
        "import zipfile\n",
        "file_name = zipfile.ZipFile('cec2014.zip', 'r')\n",
        "file_name.extractall()"
      ],
      "metadata": {
        "id": "FlIMj7IdD-Yv"
      },
      "execution_count": 13,
      "outputs": []
    },
    {
      "cell_type": "code",
      "source": [
        "bias = F_bias "
      ],
      "metadata": {
        "id": "gW42-PakWMl6"
      },
      "execution_count": 14,
      "outputs": []
    },
    {
      "cell_type": "code",
      "source": [
        "def load_shift_data__(data_file=None):\n",
        "    data = read_csv(data_file, delimiter='\\s+', index_col=False, header=None)\n",
        "    return data.values.reshape((-1))\n",
        "\n",
        "def load_matrix_data__(data_file=None):\n",
        "    data = read_csv(data_file, delimiter='\\s+', index_col=False, header=None)\n",
        "    return data.values"
      ],
      "metadata": {
        "id": "gh1DB8L_zxQz"
      },
      "execution_count": 15,
      "outputs": []
    },
    {
      "cell_type": "code",
      "source": [
        "if (type_fun == 'hybrid'):\n",
        "  f_shuffle = \"shuffle_data_\"+function_select[1:]+\"_D\"+str(problem_size) + \".txt\"\n",
        "  shuffle = (load_shift_data__(f_shuffle)[:problem_size] - np.ones(problem_size)).astype(int)\n",
        "  matrix_a = load_matrix_data__(f_matrix)\n",
        "  shift_data_a = load_shift_data__(shift_data_file)[:problem_size]\n",
        "\n",
        "\n",
        "\n",
        "if function_select == 'F28':\n",
        "  shift_data_a = load_shift_data__(shift_data_file)[:problem_size]\n",
        "  matrix_a = load_matrix_data__(f_matrix)\n",
        "  shift_data_aux = load_shift_data__(shift_data_file_aux)[:problem_size]\n",
        "  matrix_aux = load_matrix_data__(f_matrix_aux)\n",
        "\n",
        "  sda_01 = shift_data_aux \n",
        "  ma_01 = matrix_aux \n",
        "  Fba_01 = F_bias_aux\n",
        "\n",
        "if function_select == 'F30':\n",
        "  matrix_a = load_matrix_data__(f_matrix)\n",
        "  shift_data_a = load_shift_data__(shift_data_file)[:problem_size]\n",
        "  f_shuffle = \"shuffle_data_\"+function_select[1:]+\"_D\"+str(problem_size) + \".txt\"\n",
        "  shuffle = (load_shift_data__(f_shuffle)[:problem_size] - np.ones(problem_size)).astype(int)\n",
        "  sda_01 = load_shift_data__(shift_data_file_aux_01)[:problem_size]\n",
        "  ma_01 = load_matrix_data__(f_matrix_aux_01 )\n",
        "  sda_02 = load_shift_data__(shift_data_file_aux_02)[:problem_size]\n",
        "  ma_02 = load_matrix_data__(f_matrix_aux_02)\n",
        "  sda_03 = load_shift_data__(shift_data_file_aux_03)[:problem_size]\n",
        "  ma_03 = load_matrix_data__(f_matrix_aux_03 )\n",
        "\n",
        "  if function_select == 'F29':\n",
        "    matrix_a = load_matrix_data__(f_matrix)\n",
        "    shift_data_a = load_shift_data__(shift_data_file)[:problem_size]\n",
        "    f_shuffle = \"shuffle_data_\"+function_select[1:]+\"_D\"+str(problem_size) + \".txt\"\n",
        "    shuffle = (load_shift_data__(f_shuffle)[:problem_size] - np.ones(problem_size)).astype(int)\n",
        "    sda_01 = load_shift_data__(shift_data_file_aux_01)[:problem_size]\n",
        "    ma_01 = load_matrix_data__(f_matrix_aux_01 )\n",
        "    sda_02 = load_shift_data__(shift_data_file_aux_02)[:problem_size]\n",
        "    ma_02 = load_matrix_data__(f_matrix_aux_02)\n",
        "    sda_03 = load_shift_data__(shift_data_file_aux_03)[:problem_size]\n",
        "    ma_03 = load_matrix_data__(f_matrix_aux_03 )"
      ],
      "metadata": {
        "id": "0112hnWC4ahG"
      },
      "execution_count": 16,
      "outputs": []
    },
    {
      "cell_type": "code",
      "source": [
        "#!ls"
      ],
      "metadata": {
        "id": "y5nZerGMOTNJ"
      },
      "execution_count": 17,
      "outputs": []
    },
    {
      "cell_type": "code",
      "execution_count": 18,
      "metadata": {
        "id": "0fN3yW_pyzvq"
      },
      "outputs": [],
      "source": [
        "SUPPORT_DIMENSION = [2, 10, 20, 30, 50, 100]\n",
        "SUPPORT_DIMENSION_2 = [10, 20, 30, 50, 100]\n",
        "if(function_select == 'F28'):\n",
        "  def Fun(solution, shift_data ,  matrix, sda_01, ma_01): #, Fba_01)\n",
        "    result = Function(solution, shift_data ,  matrix, sda_01, ma_01)  #, Fba_01):\n",
        "    return result\n",
        "elif(function_select == 'F29'):\n",
        "  def Fun(solution, shift_data, shuffle ,  matrix, sda_01, ma_01, sda_02, ma_02, sda_03, ma_03):\n",
        "    result = Function(solution, shift_data, shuffle ,  matrix, sda_01, ma_01, sda_02, ma_02, sda_03, ma_03)\n",
        "    return result\n",
        "elif(function_select == 'F30'):\n",
        "  def Fun(solution, shift_data, shuffle ,  matrix, sda_01, ma_01, sda_02, ma_02, sda_03, ma_03):\n",
        "    result = Function(solution, shift_data, shuffle ,  matrix, sda_01, ma_01, sda_02, ma_02, sda_03, ma_03)\n",
        "    return result"
      ]
    },
    {
      "cell_type": "code",
      "source": [
        "solution = np.random.uniform(0, 1,problem_size)\n",
        "if(function_select == 'F28'):\n",
        "  resp = Fun(solution, shift_data_a,matrix_a,sda_01, ma_01)\n",
        "  resp = resp + bias\n",
        "elif(function_select == 'F29'):\n",
        "  resp = Fun(solution , shift_data_a ,shuffle , matrix_a, sda_01, ma_01, sda_02, ma_02, sda_03, ma_03)\n",
        "  resp = resp + bias\n",
        "elif(function_select == 'F30'):\n",
        "  resp = Fun(solution , shift_data_a ,shuffle , matrix_a, sda_01, ma_01, sda_02, ma_02, sda_03, ma_03)\n",
        "  resp = resp + bias\n",
        "#def F29(solution , shift_data , matrix, sda_01, ma_01, sda_02, ma_02, sda_03, ma_03):\n",
        "print(resp)"
      ],
      "metadata": {
        "id": "3eP09S9TYAc7",
        "colab": {
          "base_uri": "https://localhost:8080/"
        },
        "outputId": "b3af7859-3b3d-4d21-a31b-7c36d43ceec0"
      },
      "execution_count": 19,
      "outputs": [
        {
          "output_type": "stream",
          "name": "stdout",
          "text": [
            "1210484792868660.2\n"
          ]
        }
      ]
    },
    {
      "cell_type": "code",
      "source": [
        ""
      ],
      "metadata": {
        "id": "oCuoKD52SZgG"
      },
      "execution_count": null,
      "outputs": []
    }
  ]
}
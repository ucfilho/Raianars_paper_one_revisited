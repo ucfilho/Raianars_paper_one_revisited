{
  "nbformat": 4,
  "nbformat_minor": 0,
  "metadata": {
    "colab": {
      "name": "F1_CEC2014_test.ipynb",
      "provenance": [],
      "authorship_tag": "ABX9TyMcMl7G2HqLztm+cBFZTNNt",
      "include_colab_link": true
    },
    "kernelspec": {
      "name": "python3",
      "display_name": "Python 3"
    },
    "language_info": {
      "name": "python"
    }
  },
  "cells": [
    {
      "cell_type": "markdown",
      "metadata": {
        "id": "view-in-github",
        "colab_type": "text"
      },
      "source": [
        "<a href=\"https://colab.research.google.com/github/ucfilho/Raianars_paper_one_revisited/blob/main/After_asked_reviews_one_2022/Testing_CEC2014/F1_CEC2014_test.ipynb\" target=\"_parent\"><img src=\"https://colab.research.google.com/assets/colab-badge.svg\" alt=\"Open In Colab\"/></a>"
      ]
    },
    {
      "cell_type": "code",
      "execution_count": null,
      "metadata": {
        "id": "_NqvJj7YBgsV"
      },
      "outputs": [],
      "source": [
        "from scipy.optimize import differential_evolution\n"
      ]
    },
    {
      "cell_type": "code",
      "source": [
        "!pip install opfunu\n",
        "# https://pypi.org/project/opfunu/"
      ],
      "metadata": {
        "colab": {
          "base_uri": "https://localhost:8080/"
        },
        "id": "03ydwrBwChWP",
        "outputId": "f74748aa-d71f-49c9-965c-ce393518e02d"
      },
      "execution_count": null,
      "outputs": [
        {
          "output_type": "stream",
          "name": "stdout",
          "text": [
            "Collecting opfunu\n",
            "  Downloading opfunu-0.8.0-py3-none-any.whl (7.4 MB)\n",
            "\u001b[K     |████████████████████████████████| 7.4 MB 5.0 MB/s \n",
            "\u001b[?25hRequirement already satisfied: numpy in /usr/local/lib/python3.7/dist-packages (from opfunu) (1.21.5)\n",
            "Installing collected packages: opfunu\n",
            "Successfully installed opfunu-0.8.0\n"
          ]
        }
      ]
    },
    {
      "cell_type": "code",
      "source": [
        "# An adaptive differential evolution with combined strategy for global numerical optimization\n",
        "# Soft Computing (2020) 24:6277–6296\n",
        "# F=30 mean of 50 runs---> table "
      ],
      "metadata": {
        "id": "flwEuruzjf8b"
      },
      "execution_count": null,
      "outputs": []
    },
    {
      "cell_type": "code",
      "source": [
        "## CEC-2014 (3 ways to use depend on your purpose)\n",
        "\n",
        "import numpy as np\n",
        "from opfunu.cec.cec2014.function import F1 #, F2, ...\n",
        "#from opfunu.cec.cec2014.unconstraint2 import Model as MD2\n"
      ],
      "metadata": {
        "id": "1Zd4YCu2CMnw"
      },
      "execution_count": null,
      "outputs": []
    },
    {
      "cell_type": "code",
      "source": [
        "def wakeup(x):\n",
        "  fobj = F1(x)\n",
        "  return fobj"
      ],
      "metadata": {
        "id": "ErJp9f6JYRYi"
      },
      "execution_count": null,
      "outputs": []
    },
    {
      "cell_type": "code",
      "source": [
        "bounds_test = 10*[(-100,100)]\n",
        "result = differential_evolution(wakeup, bounds_test)\n"
      ],
      "metadata": {
        "id": "1oyu8CPpDZuW"
      },
      "execution_count": null,
      "outputs": []
    },
    {
      "cell_type": "code",
      "source": [
        "result.x, result.fun"
      ],
      "metadata": {
        "id": "eGyVaPwNJ9_K",
        "colab": {
          "base_uri": "https://localhost:8080/"
        },
        "outputId": "8ee80761-7f5d-4566-9f18-0a825a898499"
      },
      "execution_count": null,
      "outputs": [
        {
          "output_type": "execute_result",
          "data": {
            "text/plain": [
              "(array([ 50.35589189,  64.92658419, -59.6822197 ,  66.13982878,\n",
              "         21.17794558, -64.39294388, -35.44012416,   7.5009249 ,\n",
              "         73.20106027,  74.38282711]), 100.00003957896591)"
            ]
          },
          "metadata": {},
          "execution_count": 6
        }
      ]
    }
  ]
}
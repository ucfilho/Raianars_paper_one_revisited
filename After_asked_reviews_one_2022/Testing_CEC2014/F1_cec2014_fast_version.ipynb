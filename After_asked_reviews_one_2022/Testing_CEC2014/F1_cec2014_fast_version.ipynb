{
  "nbformat": 4,
  "nbformat_minor": 0,
  "metadata": {
    "colab": {
      "name": "F1_cec2014_fast_version.ipynb",
      "provenance": [],
      "authorship_tag": "ABX9TyO3exhsv6f3x9YgMwJViEM6",
      "include_colab_link": true
    },
    "kernelspec": {
      "name": "python3",
      "display_name": "Python 3"
    },
    "language_info": {
      "name": "python"
    }
  },
  "cells": [
    {
      "cell_type": "markdown",
      "metadata": {
        "id": "view-in-github",
        "colab_type": "text"
      },
      "source": [
        "<a href=\"https://colab.research.google.com/github/ucfilho/Raianars_paper_one_revisited/blob/main/After_asked_reviews_one_2022/Testing_CEC2014/F1_cec2014_fast_version.ipynb\" target=\"_parent\"><img src=\"https://colab.research.google.com/assets/colab-badge.svg\" alt=\"Open In Colab\"/></a>"
      ]
    },
    {
      "cell_type": "code",
      "source": [
        "from scipy.optimize import differential_evolution\n",
        "import numpy as np\n",
        "from pandas import read_csv"
      ],
      "metadata": {
        "id": "ogQTgEZt7ed3"
      },
      "execution_count": 1,
      "outputs": []
    },
    {
      "cell_type": "code",
      "source": [
        "# CEC 2014 function only support problem size 2, 10, 20, 30, 50, 100\n",
        "!git clone https://github.com/ucfilho/Raianars_Routines\n",
        "%cd Raianars_Routines"
      ],
      "metadata": {
        "colab": {
          "base_uri": "https://localhost:8080/"
        },
        "id": "nept1Xzbzv9W",
        "outputId": "c01bb811-67e9-4ca1-a231-15d09ca8de7b"
      },
      "execution_count": 2,
      "outputs": [
        {
          "output_type": "stream",
          "name": "stdout",
          "text": [
            "Cloning into 'Raianars_Routines'...\n",
            "remote: Enumerating objects: 69, done.\u001b[K\n",
            "remote: Counting objects: 100% (69/69), done.\u001b[K\n",
            "remote: Compressing objects: 100% (67/67), done.\u001b[K\n",
            "remote: Total 69 (delta 20), reused 0 (delta 0), pack-reused 0\u001b[K\n",
            "Unpacking objects: 100% (69/69), done.\n",
            "/content/Raianars_Routines\n"
          ]
        }
      ]
    },
    {
      "cell_type": "code",
      "source": [
        "def load_shift_data__(data_file=None):\n",
        "    data = read_csv(data_file, delimiter='\\s+', index_col=False, header=None)\n",
        "    return data.values.reshape((-1))\n",
        "\n",
        "def load_matrix_data__(data_file=None):\n",
        "    data = read_csv(data_file, delimiter='\\s+', index_col=False, header=None)\n",
        "    return data.values\n",
        "\n",
        "def f1_elliptic__(solution=None):\n",
        "    result = 0\n",
        "    for i in range(len(solution)):\n",
        "        result += (10**6)**(i/(len(solution)-1)) * solution[i]**2\n",
        "    return result"
      ],
      "metadata": {
        "id": "gh1DB8L_zxQz"
      },
      "execution_count": 3,
      "outputs": []
    },
    {
      "cell_type": "code",
      "source": [
        "# F1 Rotated High Conditioned Elliptic Function\n",
        "f_matrix = \"M_1_D10.txt\"\n",
        "shift_data_file=\"shift_data_1.txt\"\n",
        "problem_size = 10"
      ],
      "metadata": {
        "id": "6LOExkH1zxCD"
      },
      "execution_count": 4,
      "outputs": []
    },
    {
      "cell_type": "code",
      "source": [
        "shift_data_a = load_shift_data__(shift_data_file)[:problem_size]\n",
        "matrix_a = load_matrix_data__(f_matrix)"
      ],
      "metadata": {
        "id": "0112hnWC4ahG"
      },
      "execution_count": 5,
      "outputs": []
    },
    {
      "cell_type": "code",
      "execution_count": 6,
      "metadata": {
        "id": "0fN3yW_pyzvq"
      },
      "outputs": [],
      "source": [
        "SUPPORT_DIMENSION = [2, 10, 20, 30, 50, 100]\n",
        "SUPPORT_DIMENSION_2 = [10, 20, 30, 50, 100]\n",
        "\n",
        "def F1(solution=None,shift_data=shift_data_a, matrix=matrix_a, bias=100):\n",
        "    problem_size = len(solution)\n",
        "    z = np.dot(solution - shift_data, matrix)\n",
        "    return f1_elliptic__(z) + bias\n"
      ]
    },
    {
      "cell_type": "code",
      "source": [
        "bounds_test = 10*[(-100,100)]\n",
        "result = differential_evolution(F1, bounds_test)"
      ],
      "metadata": {
        "id": "RUzbV9bg7SMX"
      },
      "execution_count": 7,
      "outputs": []
    },
    {
      "cell_type": "code",
      "source": [
        "result.x, result.fun"
      ],
      "metadata": {
        "colab": {
          "base_uri": "https://localhost:8080/"
        },
        "id": "jHwhCdUq7yRO",
        "outputId": "c4fc3bd4-f2fd-4773-aee6-4efee8708176"
      },
      "execution_count": 8,
      "outputs": [
        {
          "output_type": "execute_result",
          "data": {
            "text/plain": [
              "(array([ 50.35455043,  64.9261436 , -59.68234721,  66.13850599,\n",
              "         21.18559441, -64.39884649, -35.43277471,   7.50079235,\n",
              "         73.20102557,  74.37582953]), 100.00072540346345)"
            ]
          },
          "metadata": {},
          "execution_count": 8
        }
      ]
    }
  ]
}
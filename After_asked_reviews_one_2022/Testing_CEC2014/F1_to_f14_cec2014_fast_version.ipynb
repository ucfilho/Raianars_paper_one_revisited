{
  "nbformat": 4,
  "nbformat_minor": 0,
  "metadata": {
    "colab": {
      "name": "F1_to_f14_cec2014_fast_version.ipynb",
      "provenance": [],
      "authorship_tag": "ABX9TyNb1IPOLJ3fZF7aXJtruQ/j",
      "include_colab_link": true
    },
    "kernelspec": {
      "name": "python3",
      "display_name": "Python 3"
    },
    "language_info": {
      "name": "python"
    }
  },
  "cells": [
    {
      "cell_type": "markdown",
      "metadata": {
        "id": "view-in-github",
        "colab_type": "text"
      },
      "source": [
        "<a href=\"https://colab.research.google.com/github/ucfilho/Raianars_paper_one_revisited/blob/main/After_asked_reviews_one_2022/Testing_CEC2014/F1_to_f14_cec2014_fast_version.ipynb\" target=\"_parent\"><img src=\"https://colab.research.google.com/assets/colab-badge.svg\" alt=\"Open In Colab\"/></a>"
      ]
    },
    {
      "cell_type": "code",
      "source": [
        "from scipy.optimize import differential_evolution\n",
        "import numpy as np\n",
        "from pandas import read_csv\n"
      ],
      "metadata": {
        "id": "ogQTgEZt7ed3"
      },
      "execution_count": 1,
      "outputs": []
    },
    {
      "cell_type": "code",
      "source": [
        "!git clone https://github.com/ucfilho/functions_cec2014_data\n",
        "%cd functions_cec2014_data\n",
        "import f1_to_f14_cec2014"
      ],
      "metadata": {
        "colab": {
          "base_uri": "https://localhost:8080/"
        },
        "id": "AVdOI6GnVJeF",
        "outputId": "948157af-17f7-49d7-d47f-f1215c345b0a"
      },
      "execution_count": 2,
      "outputs": [
        {
          "output_type": "stream",
          "name": "stdout",
          "text": [
            "fatal: destination path 'functions_cec2014_data' already exists and is not an empty directory.\n",
            "/content/functions_cec2014_data\n"
          ]
        }
      ]
    },
    {
      "cell_type": "code",
      "source": [
        "# Note: cec2014 funtions not composed\n",
        "# F1: elliptic  F2: bent cigar  F3: discus  F4: Rosenbrock\n",
        "# F5: Ackey   F6: Weierstrass  F7: griewank  F8: rastrigin\n",
        "# F9: modified Schwefel   F10: Katsuura  F11: happy cat  F12: hgbat\n",
        "# F13: expanded Griewank   F14:  expanded Scaffer"
      ],
      "metadata": {
        "id": "HMrG6BXHTg5p"
      },
      "execution_count": 3,
      "outputs": []
    },
    {
      "cell_type": "code",
      "source": [
        "# F1 Rotated High Conditioned Elliptic Function \n",
        "function_select = 'F1' \n",
        "Function = f1_to_f14_cec2014.F1 \n",
        "problem_size = 10 # possibles 2, 10, 20, 30, 50, 100\n",
        "\n",
        "# F2 bent cigar \n",
        "function_select = 'F2' \n",
        "Function = f1_to_f14_cec2014.F2 \n",
        "problem_size = 10 # possibles 2, 10, 20, 30, 50, 100\n",
        "\n",
        "# F3 discus\n",
        "function_select = 'F3'\n",
        "Function = f1_to_f14_cec2014.F3  \n",
        "problem_size = 10 # possibles 2, 10, 20, 30, 50, 100\n",
        "\n",
        "# F6:Weierstrass\n",
        "function_select = 'F6'\n",
        "Function = f1_to_f14_cec2014.F6  \n",
        "problem_size = 50 # possibles 2, 10, 20, 30, 50, 100\n",
        "\n"
      ],
      "metadata": {
        "id": "6LOExkH1zxCD"
      },
      "execution_count": 4,
      "outputs": []
    },
    {
      "cell_type": "code",
      "source": [
        "f_matrix = \"M_\"+function_select[1:]+\"_D\"+str(problem_size) + \".txt\"\n",
        "shift_data_file=\"shift_data_\"+function_select[1:]+\".txt\"\n",
        "F_bias = f1_to_f14_cec2014.BiasValue()[function_select]\n",
        "Function_CEC2014 =function_select + \"_\" + f1_to_f14_cec2014.NamesFunctions()[function_select]+\"_D_\"+str(problem_size)"
      ],
      "metadata": {
        "id": "gh7e-QAzUHLl"
      },
      "execution_count": 5,
      "outputs": []
    },
    {
      "cell_type": "code",
      "source": [
        "shift_data_file,f_matrix "
      ],
      "metadata": {
        "colab": {
          "base_uri": "https://localhost:8080/"
        },
        "id": "0Zd0jp05V5UQ",
        "outputId": "4eae2850-057e-4d58-a333-0d7dcc94ce87"
      },
      "execution_count": 6,
      "outputs": [
        {
          "output_type": "execute_result",
          "data": {
            "text/plain": [
              "('shift_data_6.txt', 'M_6_D50.txt')"
            ]
          },
          "metadata": {},
          "execution_count": 6
        }
      ]
    },
    {
      "cell_type": "code",
      "source": [
        "!pip install --upgrade --no-cache-dir gdown"
      ],
      "metadata": {
        "colab": {
          "base_uri": "https://localhost:8080/"
        },
        "id": "OlFdf_djSPWY",
        "outputId": "23bc9db7-6cca-49ed-b202-899692413e15"
      },
      "execution_count": 7,
      "outputs": [
        {
          "output_type": "stream",
          "name": "stdout",
          "text": [
            "Requirement already satisfied: gdown in /usr/local/lib/python3.7/dist-packages (4.4.0)\n",
            "Requirement already satisfied: requests[socks] in /usr/local/lib/python3.7/dist-packages (from gdown) (2.23.0)\n",
            "Requirement already satisfied: six in /usr/local/lib/python3.7/dist-packages (from gdown) (1.15.0)\n",
            "Requirement already satisfied: tqdm in /usr/local/lib/python3.7/dist-packages (from gdown) (4.63.0)\n",
            "Requirement already satisfied: beautifulsoup4 in /usr/local/lib/python3.7/dist-packages (from gdown) (4.6.3)\n",
            "Requirement already satisfied: filelock in /usr/local/lib/python3.7/dist-packages (from gdown) (3.6.0)\n",
            "Requirement already satisfied: idna<3,>=2.5 in /usr/local/lib/python3.7/dist-packages (from requests[socks]->gdown) (2.10)\n",
            "Requirement already satisfied: certifi>=2017.4.17 in /usr/local/lib/python3.7/dist-packages (from requests[socks]->gdown) (2021.10.8)\n",
            "Requirement already satisfied: chardet<4,>=3.0.2 in /usr/local/lib/python3.7/dist-packages (from requests[socks]->gdown) (3.0.4)\n",
            "Requirement already satisfied: urllib3!=1.25.0,!=1.25.1,<1.26,>=1.21.1 in /usr/local/lib/python3.7/dist-packages (from requests[socks]->gdown) (1.24.3)\n",
            "Requirement already satisfied: PySocks!=1.5.7,>=1.5.6 in /usr/local/lib/python3.7/dist-packages (from requests[socks]->gdown) (1.7.1)\n"
          ]
        }
      ]
    },
    {
      "cell_type": "code",
      "source": [
        "# !gdown --id 1yM-cGzp7F35bXZ-f80uoJHzGqAb52CPz\n",
        "# https://drive.google.com/file/d/1yM-cGzp7F35bXZ-f80uoJHzGqAb52CPz/view?usp=sharing\n",
        "!gdown --id 1yM-cGzp7F35bXZ-f80uoJHzGqAb52CPz "
      ],
      "metadata": {
        "colab": {
          "base_uri": "https://localhost:8080/"
        },
        "id": "lGBjPXkRQA8t",
        "outputId": "05bb83d6-046f-4e75-dd31-e828fdbee3df"
      },
      "execution_count": 8,
      "outputs": [
        {
          "output_type": "stream",
          "name": "stdout",
          "text": [
            "/usr/local/lib/python3.7/dist-packages/gdown/cli.py:131: FutureWarning: Option `--id` was deprecated in version 4.3.1 and will be removed in 5.0. You don't need to pass it anymore to use a file ID.\n",
            "  category=FutureWarning,\n",
            "Downloading...\n",
            "From: https://drive.google.com/uc?id=1yM-cGzp7F35bXZ-f80uoJHzGqAb52CPz\n",
            "To: /content/functions_cec2014_data/cec2014.zip\n",
            "100% 36.1M/36.1M [00:00<00:00, 206MB/s]\n"
          ]
        }
      ]
    },
    {
      "cell_type": "code",
      "source": [
        "import zipfile\n",
        "file_name = zipfile.ZipFile('cec2014.zip', 'r')\n",
        "file_name.extractall()"
      ],
      "metadata": {
        "id": "FlIMj7IdD-Yv"
      },
      "execution_count": 9,
      "outputs": []
    },
    {
      "cell_type": "code",
      "source": [
        "#!ls"
      ],
      "metadata": {
        "id": "gW42-PakWMl6"
      },
      "execution_count": 10,
      "outputs": []
    },
    {
      "cell_type": "code",
      "source": [
        "def load_shift_data__(data_file=None):\n",
        "    data = read_csv(data_file, delimiter='\\s+', index_col=False, header=None)\n",
        "    return data.values.reshape((-1))\n",
        "\n",
        "def load_matrix_data__(data_file=None):\n",
        "    data = read_csv(data_file, delimiter='\\s+', index_col=False, header=None)\n",
        "    return data.values"
      ],
      "metadata": {
        "id": "gh1DB8L_zxQz"
      },
      "execution_count": 11,
      "outputs": []
    },
    {
      "cell_type": "code",
      "source": [
        "shift_data_a = load_shift_data__(shift_data_file)[:problem_size]\n",
        "matrix_a = load_matrix_data__(f_matrix)"
      ],
      "metadata": {
        "id": "0112hnWC4ahG"
      },
      "execution_count": 12,
      "outputs": []
    },
    {
      "cell_type": "code",
      "source": [
        "#!ls"
      ],
      "metadata": {
        "id": "y5nZerGMOTNJ"
      },
      "execution_count": 13,
      "outputs": []
    },
    {
      "cell_type": "code",
      "execution_count": 14,
      "metadata": {
        "id": "0fN3yW_pyzvq"
      },
      "outputs": [],
      "source": [
        "SUPPORT_DIMENSION = [2, 10, 20, 30, 50, 100]\n",
        "SUPPORT_DIMENSION_2 = [10, 20, 30, 50, 100]\n",
        "\n",
        "def Fun(solution=None,shift_data=shift_data_a, matrix=matrix_a, bias=F_bias):\n",
        "    problem_size = len(solution)\n",
        "    z = np.dot(solution - shift_data, matrix)\n",
        "    return Function(z) + bias\n"
      ]
    },
    {
      "cell_type": "code",
      "source": [
        "bounds_test = int(problem_size)*[(-100,100)]\n",
        "result = differential_evolution(Fun, bounds_test)"
      ],
      "metadata": {
        "id": "RUzbV9bg7SMX"
      },
      "execution_count": 15,
      "outputs": []
    },
    {
      "cell_type": "code",
      "source": [
        "result.x, result.fun, Function_CEC2014"
      ],
      "metadata": {
        "colab": {
          "base_uri": "https://localhost:8080/"
        },
        "id": "jHwhCdUq7yRO",
        "outputId": "150f21d2-f097-44d5-9f14-7cd1dfd17bd1"
      },
      "execution_count": 16,
      "outputs": [
        {
          "output_type": "execute_result",
          "data": {
            "text/plain": [
              "(array([ -1.05558291,  41.28486769,  13.13843979, -43.56416359,\n",
              "        -39.13814772, -54.88209868, -52.71312559,  88.41275175,\n",
              "        -34.66285643, -91.38168277,  72.11134865, -41.91820822,\n",
              "         63.87915024, -12.33601358, -50.35009777,  51.90490324,\n",
              "        -18.07496498,  76.41451538,  28.21521522, -57.49417713,\n",
              "        -51.06729377,  32.32252376, -64.36957233,  22.07562816,\n",
              "         87.06442262,  -8.75200576, -53.08346552, -82.19489117,\n",
              "        -80.36731617, -58.94213128,  48.54336811, -24.93489617,\n",
              "         56.63941766,  23.76442941,  95.51695176,  18.69883055,\n",
              "          1.03633982,  24.21240492,  73.21787372, -81.82007901,\n",
              "        -81.19696194, -54.89728485, -41.83639824,  81.59587522,\n",
              "         35.50559249,  14.22606272,  49.07535693,  13.14278999,\n",
              "        -71.23130365,   4.31343568]), 681.4989600110508, 'F6_Weierstrass_D_50')"
            ]
          },
          "metadata": {},
          "execution_count": 16
        }
      ]
    }
  ]
}
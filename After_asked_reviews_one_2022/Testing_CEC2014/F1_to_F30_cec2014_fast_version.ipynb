{
  "nbformat": 4,
  "nbformat_minor": 0,
  "metadata": {
    "colab": {
      "name": "F1_to_F30_cec2014_fast_version.ipynb",
      "provenance": [],
      "authorship_tag": "ABX9TyMAHLHrH9/HcS6ie1OOZGTE",
      "include_colab_link": true
    },
    "kernelspec": {
      "name": "python3",
      "display_name": "Python 3"
    },
    "language_info": {
      "name": "python"
    }
  },
  "cells": [
    {
      "cell_type": "markdown",
      "metadata": {
        "id": "view-in-github",
        "colab_type": "text"
      },
      "source": [
        "<a href=\"https://colab.research.google.com/github/ucfilho/Raianars_paper_one_revisited/blob/main/After_asked_reviews_one_2022/Testing_CEC2014/F1_to_F30_cec2014_fast_version.ipynb\" target=\"_parent\"><img src=\"https://colab.research.google.com/assets/colab-badge.svg\" alt=\"Open In Colab\"/></a>"
      ]
    },
    {
      "cell_type": "code",
      "source": [
        "from scipy.optimize import differential_evolution\n",
        "import numpy as np\n",
        "from pandas import read_csv\n"
      ],
      "metadata": {
        "id": "ogQTgEZt7ed3"
      },
      "execution_count": 1,
      "outputs": []
    },
    {
      "cell_type": "code",
      "source": [
        "!git clone https://github.com/ucfilho/functions_cec2014_data\n",
        "%cd functions_cec2014_data\n",
        "import F1_to_F27_cec2014\n",
        "import cec2014_names\n",
        "import cec2014_shift_rotate"
      ],
      "metadata": {
        "colab": {
          "base_uri": "https://localhost:8080/"
        },
        "id": "AVdOI6GnVJeF",
        "outputId": "16394a41-e81f-4182-d350-dc78f63d63c9"
      },
      "execution_count": 2,
      "outputs": [
        {
          "output_type": "stream",
          "name": "stdout",
          "text": [
            "Cloning into 'functions_cec2014_data'...\n",
            "remote: Enumerating objects: 226, done.\u001b[K\n",
            "remote: Counting objects: 100% (226/226), done.\u001b[K\n",
            "remote: Compressing objects: 100% (224/224), done.\u001b[K\n",
            "remote: Total 226 (delta 134), reused 1 (delta 0), pack-reused 0\u001b[K\n",
            "Receiving objects: 100% (226/226), 445.45 KiB | 2.67 MiB/s, done.\n",
            "Resolving deltas: 100% (134/134), done.\n",
            "/content/functions_cec2014_data\n"
          ]
        }
      ]
    },
    {
      "cell_type": "code",
      "source": [
        "# Note: cec2014 funtions not composed\n",
        "# F1: elliptic  F2: bent cigar  F3: discus  F4: Rosenbrock\n",
        "# F5: Ackey   F6: Weierstrass  F7: griewank  F8: rastrigin\n",
        "# F9: modified Schwefel   F10: Katsuura  F11: happy cat  F12: hgbat\n",
        "# F13: expanded Griewank   F14:  expanded Scaffer"
      ],
      "metadata": {
        "id": "HMrG6BXHTg5p"
      },
      "execution_count": 3,
      "outputs": []
    },
    {
      "cell_type": "code",
      "source": [
        "# F1 Rotated High Conditioned Elliptic Function \n",
        "function_select = 'F1' \n",
        "Function = F1_to_F27_cec2014.F1 \n",
        "Shift_Rotate= cec2014_shift_rotate.F1  \n",
        "problem_size = 10 # possibles 2, 10, 20, 30, 50, 100\n",
        "\n",
        "# F2 bent cigar \n",
        "function_select = 'F2' \n",
        "Function = F1_to_F27_cec2014.F2 \n",
        "Shift_Rotate= cec2014_shift_rotate.F2  \n",
        "problem_size = 10 # possibles 2, 10, 20, 30, 50, 100\n",
        "\n",
        "# F3 discus\n",
        "function_select = 'F3'\n",
        "Function = F1_to_F27_cec2014.F3\n",
        "Shift_Rotate= cec2014_shift_rotate.F3  \n",
        "problem_size = 10 # possibles 2, 10, 20, 30, 50, 100\n",
        "\n",
        "# F6:Weierstrass\n",
        "function_select = 'F6'\n",
        "Function = F1_to_F27_cec2014.F6  \n",
        "Shift_Rotate= cec2014_shift_rotate.F6  \n",
        "problem_size = 50 # possibles 2, 10, 20, 30, 50, 100\n",
        "\n",
        "# F17 to F22 Hybride  F17, F18,\n",
        "function_select = 'F28' \n",
        "Function = F1_to_F27_cec2014.F28\n",
        "Shift_Rotate= cec2014_shift_rotate.F28 \n",
        "problem_size = 10 # \n"
      ],
      "metadata": {
        "id": "6LOExkH1zxCD",
        "colab": {
          "base_uri": "https://localhost:8080/",
          "height": 235
        },
        "outputId": "d5ecab8b-b12f-4cc8-ebfa-77d1719cad5c"
      },
      "execution_count": 4,
      "outputs": [
        {
          "output_type": "error",
          "ename": "AttributeError",
          "evalue": "ignored",
          "traceback": [
            "\u001b[0;31m---------------------------------------------------------------------------\u001b[0m",
            "\u001b[0;31mAttributeError\u001b[0m                            Traceback (most recent call last)",
            "\u001b[0;32m<ipython-input-4-378cdc8d02bd>\u001b[0m in \u001b[0;36m<module>\u001b[0;34m()\u001b[0m\n\u001b[1;32m     25\u001b[0m \u001b[0;31m# F17 to F22 Hybride  F17, F18,\u001b[0m\u001b[0;34m\u001b[0m\u001b[0;34m\u001b[0m\u001b[0;34m\u001b[0m\u001b[0m\n\u001b[1;32m     26\u001b[0m \u001b[0mfunction_select\u001b[0m \u001b[0;34m=\u001b[0m \u001b[0;34m'F28'\u001b[0m\u001b[0;34m\u001b[0m\u001b[0;34m\u001b[0m\u001b[0m\n\u001b[0;32m---> 27\u001b[0;31m \u001b[0mFunction\u001b[0m \u001b[0;34m=\u001b[0m \u001b[0mF1_to_F27_cec2014\u001b[0m\u001b[0;34m.\u001b[0m\u001b[0mF28\u001b[0m\u001b[0;34m\u001b[0m\u001b[0;34m\u001b[0m\u001b[0m\n\u001b[0m\u001b[1;32m     28\u001b[0m \u001b[0mShift_Rotate\u001b[0m\u001b[0;34m=\u001b[0m \u001b[0mcec2014_shift_rotate\u001b[0m\u001b[0;34m.\u001b[0m\u001b[0mF28\u001b[0m\u001b[0;34m\u001b[0m\u001b[0;34m\u001b[0m\u001b[0m\n\u001b[1;32m     29\u001b[0m \u001b[0mproblem_size\u001b[0m \u001b[0;34m=\u001b[0m \u001b[0;36m10\u001b[0m \u001b[0;31m#\u001b[0m\u001b[0;34m\u001b[0m\u001b[0;34m\u001b[0m\u001b[0m\n",
            "\u001b[0;31mAttributeError\u001b[0m: module 'F1_to_F27_cec2014' has no attribute 'F28'"
          ]
        }
      ]
    },
    {
      "cell_type": "code",
      "source": [
        "f_matrix = \"M_\"+function_select[1:]+\"_D\"+str(problem_size) + \".txt\"\n",
        "shift_data_file=\"shift_data_\"+function_select[1:]+\".txt\"\n",
        "F_bias = cec2014_names.BiasValue()[function_select]\n",
        "type_fun = cec2014_names.TypeFunctions()[function_select]\n",
        "Function_CEC2014 =function_select + \"_\" + cec2014_names.NamesFunctions()[function_select]+\"_D_\"+str(problem_size)"
      ],
      "metadata": {
        "id": "gh7e-QAzUHLl"
      },
      "execution_count": null,
      "outputs": []
    },
    {
      "cell_type": "code",
      "source": [
        "\n"
      ],
      "metadata": {
        "id": "N8Ay_otipbA6"
      },
      "execution_count": null,
      "outputs": []
    },
    {
      "cell_type": "code",
      "source": [
        "shift_data_file,f_matrix "
      ],
      "metadata": {
        "id": "0Zd0jp05V5UQ"
      },
      "execution_count": null,
      "outputs": []
    },
    {
      "cell_type": "code",
      "source": [
        "!pip install --upgrade --no-cache-dir gdown"
      ],
      "metadata": {
        "id": "OlFdf_djSPWY"
      },
      "execution_count": null,
      "outputs": []
    },
    {
      "cell_type": "code",
      "source": [
        "# !gdown --id 1yM-cGzp7F35bXZ-f80uoJHzGqAb52CPz\n",
        "# https://drive.google.com/file/d/1yM-cGzp7F35bXZ-f80uoJHzGqAb52CPz/view?usp=sharing\n",
        "!gdown --id 1yM-cGzp7F35bXZ-f80uoJHzGqAb52CPz "
      ],
      "metadata": {
        "id": "lGBjPXkRQA8t"
      },
      "execution_count": null,
      "outputs": []
    },
    {
      "cell_type": "code",
      "source": [
        "import zipfile\n",
        "file_name = zipfile.ZipFile('cec2014.zip', 'r')\n",
        "file_name.extractall()"
      ],
      "metadata": {
        "id": "FlIMj7IdD-Yv"
      },
      "execution_count": null,
      "outputs": []
    },
    {
      "cell_type": "code",
      "source": [
        "#!ls"
      ],
      "metadata": {
        "id": "gW42-PakWMl6"
      },
      "execution_count": null,
      "outputs": []
    },
    {
      "cell_type": "code",
      "source": [
        "def load_shift_data__(data_file=None):\n",
        "    data = read_csv(data_file, delimiter='\\s+', index_col=False, header=None)\n",
        "    return data.values.reshape((-1))\n",
        "\n",
        "def load_matrix_data__(data_file=None):\n",
        "    data = read_csv(data_file, delimiter='\\s+', index_col=False, header=None)\n",
        "    return data.values"
      ],
      "metadata": {
        "id": "gh1DB8L_zxQz"
      },
      "execution_count": null,
      "outputs": []
    },
    {
      "cell_type": "code",
      "source": [
        "shift_data_a = load_shift_data__(shift_data_file)[:problem_size]\n",
        "matrix_a = load_matrix_data__(f_matrix)\n",
        "if (type_fun == 'hybrid'):\n",
        "  f_shuffle = \"shuffle_data_\"+function_select[1:]+\"_D\"+str(problem_size) + \".txt\"\n",
        "  shuffle = (load_shift_data__(f_shuffle)[:problem_size] - np.ones(problem_size)).astype(int)\n",
        "else:\n",
        "  shuffle = matrix_a"
      ],
      "metadata": {
        "id": "0112hnWC4ahG"
      },
      "execution_count": null,
      "outputs": []
    },
    {
      "cell_type": "code",
      "source": [
        "#!ls"
      ],
      "metadata": {
        "id": "y5nZerGMOTNJ"
      },
      "execution_count": null,
      "outputs": []
    },
    {
      "cell_type": "code",
      "execution_count": null,
      "metadata": {
        "id": "0fN3yW_pyzvq"
      },
      "outputs": [],
      "source": [
        "SUPPORT_DIMENSION = [2, 10, 20, 30, 50, 100]\n",
        "SUPPORT_DIMENSION_2 = [10, 20, 30, 50, 100]\n",
        "\n",
        "#def Fun(solution,shift_data=shift_data_a, matrix=matrix_a, shuffle):#, bias=F_bias):\n",
        "def Fun(solution, shift_data ,  matrix, shuffle):#, bias=F_bias):\n",
        "  if(type_fun == 'shift_rotate'):\n",
        "    z = Shift_Rotate(solution , shift_data , matrix,shuffle)\n",
        "    result = Function(z) + F_bias\n",
        "  elif(type_fun =='hybrid'): # F17 to F22\n",
        "    z = Shift_Rotate(solution , shift_data , matrix,shuffle)\n",
        "    result = z + F_bias\n",
        "  elif(type_fun =='composition'):\n",
        "    z = Shift_Rotate(solution , shift_data , matrix,shuffle)\n",
        "    result = z + F_bias\n",
        "  else: # (type_fun =='extracomposition'):\n",
        "    if(function_select == 'F28'):\n",
        "      xichma = array([10, 20, 30, 40, 50])\n",
        "      lamda = array([2.5, 10, 2.5, 5e-4, 1e-6])\n",
        "      bias = array([0, 100, 200, 300, 400]\n",
        "      function_select_01 == 'F15'\n",
        "      Function = F1_to_F27_cec2014.F15\n",
        "      f_matrix = \"M_\"+function_select_01[1:]+\"_D\"+str(problem_size) + \".txt\"\n",
        "      shift_data_file=\"shift_data_\"+function_select_01[1:]+\".txt\"\n",
        "      # F_bias = cec2014_names.BiasValue()[function_select_01]\n",
        "      shift_data_a = load_shift_data__(shift_data_file)[:problem_size]\n",
        "      matrix_a = load_matrix_data__(f_matrix)\n",
        "      shuffle = matrix_a\n",
        "      t1 = solution - shift_data_a[0]\n",
        "      z = Shift_Rotate(solution , shift_data , matrix,shuffle)\n",
        "      result = Function(z)\n",
        "      g1 = lamda[0] * result + bias[0]\n",
        "      w1 = (1.0 / sqrt(sum(t1 ** 2))) * exp(-sum(t1 ** 2) / (2 * problem_size * xichma[0] ** 2))\n",
        "      t2 = solution - shift_data[1]\n",
        "      def f11_happy_cat__(solution=None):\n",
        "        return (abs(sum(solution**2) - len(solution)))**0.25 + (0.5 * sum(solution**2) + sum(solution))/len(solution) + 0.5\n",
        "      g2 = lamda[1] * f11_happy_cat__(dot(matrix_a[problem_size:2 * problem_size, :], t2)) + bias[1]\n",
        "      w2 = (1.0 / sqrt(sum(t2 ** 2))) * exp(-sum(t2 ** 2) / (2 * problem_size * xichma[1] ** 2))\n",
        "\n",
        "      # 3. Rotated Schwefel's Function F11’\n",
        "      t3 = solution - shift_data[2]\n",
        "      def f9_modified_schwefel__(solution=None):\n",
        "        z = solution + 4.209687462275036e+002\n",
        "        result = 418.9829 * len(solution)\n",
        "        for i in range(0, len(solution)):\n",
        "            if z[i] > 500:\n",
        "                result -= (500 - z[i]%500)*sin(sqrt(abs(500 - z[i]%500))) - (z[i] - 500)**2 / (10000*len(solution))\n",
        "            elif z[i] < -500:\n",
        "                result -= (z[i]%500 - 500)*sin(sqrt(abs(z[i]%500 - 500))) - (z[i] + 500)**2 / (10000*len(solution))\n",
        "            else:\n",
        "                result -= z[i]*sin(abs(z[i])**0.5)\n",
        "        return result\n",
        "      g3 = lamda[2] * f9_modified_schwefel__(dot(matrix[2 * problem_size: 3 * problem_size, :], t3)) + bias[2]\n",
        "      w3 = (1.0 / sqrt(sum(t3 ** 2))) * exp(-sum(t3 ** 2) / (2 * problem_size * xichma[2] ** 2))\n",
        "\n",
        "      # 4. Rotated Expanded Scaffer’s F6 Function F16’\n",
        "      t4 = solution - shift_data[3]\n",
        "      def f14_expanded_scaffer__(solution=None):\n",
        "        def __xy__(x, y):\n",
        "          return 0.5 + (sin(sqrt(x ** 2 + y ** 2)) ** 2 - 0.5) / (1 + 0.001 * (x ** 2 + y ** 2)) ** 2\n",
        "        result = __xy__(solution[-1], solution[0])\n",
        "        for i in range(0, len(solution) - 1):\n",
        "          result += __xy__(solution[i], solution[i + 1])\n",
        "        return result\n",
        "      g4 = lamda[3] * f14_expanded_scaffer__(dot(matrix[3 * problem_size: 4 * problem_size, :], t4)) + bias[3]\n",
        "      w4 = (1.0 / sqrt(sum(t4 ** 2))) * exp(-sum(t4 ** 2) / (2 * problem_size * xichma[3] ** 2))\n",
        "\n",
        "      # 5. Rotated High Conditioned Elliptic Function F1’\n",
        "      t5 = solution - shift_data[4]\n",
        "      def f1_elliptic__(solution=None):\n",
        "        result = 0\n",
        "        for i in range(len(solution)):\n",
        "          result += (10**6)**(i/(len(solution)-1)) * solution[i]**2\n",
        "        return result\n",
        "      g5 = lamda[4] * f1_elliptic__(dot(matrix[4 * problem_size:, :], t5)) + bias[4]\n",
        "      w5 = (1.0 / sqrt(sum(t5 ** 2))) * exp(-sum(t5 ** 2) / (2 * problem_size * xichma[4] ** 2))\n",
        "      sw = sum([w1, w2, w3, w4, w5])\n",
        "      result = (w1 * g1 + w2 * g2 + w3 * g3 + w4 * g4 + w5 * g5) / sw\n",
        "  return result\n"
      ]
    },
    {
      "cell_type": "code",
      "source": [
        "solution = np.random.uniform(0, 1,problem_size)\n",
        "resp = Fun(solution, shift_data = shift_data_a, matrix = matrix_a, shuffle = shuffle)\n",
        "print(resp)"
      ],
      "metadata": {
        "id": "3eP09S9TYAc7"
      },
      "execution_count": null,
      "outputs": []
    },
    {
      "cell_type": "code",
      "source": [
        "bounds_test = int(problem_size)*[(-100,100)]\n",
        "result = differential_evolution(Fun, bounds_test)"
      ],
      "metadata": {
        "id": "RUzbV9bg7SMX"
      },
      "execution_count": null,
      "outputs": []
    },
    {
      "cell_type": "code",
      "source": [
        "result.x, result.fun, Function_CEC2014"
      ],
      "metadata": {
        "id": "jHwhCdUq7yRO"
      },
      "execution_count": null,
      "outputs": []
    }
  ]
}
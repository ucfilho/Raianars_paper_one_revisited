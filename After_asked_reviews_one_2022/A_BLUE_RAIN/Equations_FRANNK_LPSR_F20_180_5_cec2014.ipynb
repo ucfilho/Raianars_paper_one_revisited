{
  "nbformat": 4,
  "nbformat_minor": 0,
  "metadata": {
    "colab": {
      "name": "Equations_FRANNK_LPSR_F20_180/5_cec2014.ipynb",
      "provenance": [],
      "collapsed_sections": [],
      "include_colab_link": true
    },
    "kernelspec": {
      "name": "python3",
      "display_name": "Python 3"
    },
    "language_info": {
      "codemirror_mode": {
        "name": "ipython",
        "version": 3
      },
      "file_extension": ".py",
      "mimetype": "text/x-python",
      "name": "python",
      "nbconvert_exporter": "python",
      "pygments_lexer": "ipython3",
      "version": "3.7.3"
    }
  },
  "cells": [
    {
      "cell_type": "markdown",
      "metadata": {
        "id": "view-in-github",
        "colab_type": "text"
      },
      "source": [
        "<a href=\"https://colab.research.google.com/github/ucfilho/Raianars_paper_one_revisited/blob/main/After_asked_reviews_one_2022/A_BLUE_RAIN/Equations_FRANNK_LPSR_F20_180_5_cec2014.ipynb\" target=\"_parent\"><img src=\"https://colab.research.google.com/assets/colab-badge.svg\" alt=\"Open In Colab\"/></a>"
      ]
    },
    {
      "cell_type": "code",
      "source": [
        "############################### DADOS DE ENTRADA \n",
        "function_select = 'F20'   \n",
        "problem_size = 30 # possibles 2, 10, 20, 30, 50, 100\n",
        "RUNS=50 #NÚMERO DE RODADAS\n",
        "Fc=0.1 # fator de correcao parametros da ANN\n",
        "its=1 #10 # quantas vezes vai usar o NPAR antes de alterar de novo\n",
        "ITE=1000 #10 # PONTOS quantas vezes vai alteral NPAR \n",
        "NPAR=100\n",
        "mut=0.5\n",
        "crossp=0.5\n",
        "Fi=mut;CRi=crossp;# para impressão\n",
        "# fator = 1.0/3.0; \n",
        "fator = 1.0 # just LSHADE...\n",
        "mut2=0.5;crossp2=0.5;mut3=0.75;crossp3=0.25;mut4=0.25;crossp4=0.25;\n",
        "mut_best  =0.5 ; crossp_best =0.5\n",
        "maxNP = 180\n",
        "minNP = 5\n",
        "maxFES =300000\n",
        "FIX = 100 # Number of adjusts random walk\n",
        "H = 6\n",
        "kH = 0 # kH is used to work with H  \n",
        "terminal = 0.1\n",
        "p=0.1\n",
        "SF=[];SCR=[];MF=[];MCR=[];Xarq=[]\n",
        "MFi=0.5\n",
        "MCRi=0.5"
      ],
      "metadata": {
        "id": "SWHauA_QxHPz"
      },
      "execution_count": 1,
      "outputs": []
    },
    {
      "cell_type": "code",
      "source": [
        "  \n",
        "def eqFRANNK(ref,c,yneural):\n",
        "    # value ref (ref = CRa)  or (ref = Fa)\n",
        "    # c = to choose CR or F\n",
        "    # c = 1 it adjust and filter F \n",
        "    # c = 2 it adjust and filter CR\n",
        "    # yneural > 0 increase parameter\n",
        "    # yneural < 0 decrease parameter\n",
        "    f1 =3.0; f2=1.0; f3=3.0; f4=1.0; Fc=0.1; Fd=0.05\n",
        "    CRa = ref;CRo = ref; y_cod_CR = yneural\n",
        "    Fa = ref; Fo = ref; y_cod_F = yneural\n",
        "    if(c==1):\n",
        "      if(y_cod_F>0):\n",
        "        Fo=Fo*(1+Fd) #Fo=Fo+Fc\n",
        "        Fo=(f1*Fo+f2*Fa)/(f1+f2) # para suavizar\n",
        "        value  = Fo\n",
        "      else:\n",
        "        Fo=Fo*(1-Fd) #Fo=Fo-Fc\n",
        "        Fo=(f1*Fo+f2*Fa)/(f1+f2) # para suavizar\n",
        "        value = Fo\n",
        "      if(Fo<Fa):# conferir a necessidade de melhorar \n",
        "        Fo=Fa+0.05\n",
        "        value  = Fo\n",
        "      if(Fo<Fc):\n",
        "        Fo=(Fa+Fo)/2  # conferir a necessidade de melhorar\n",
        "        value = CRo\n",
        "      if(Fo> 1):\n",
        "        Fo=1\n",
        "        value = CRo\n",
        "    elif(c==2):\n",
        "      if(y_cod_CR>0):\n",
        "        CRo=CRo*(1+Fd) #CRo=CRo+Fc\n",
        "        CRo=(f3*CRo+f4*CRa)/(f3+f4) # para suavizar\n",
        "        value = CRo\n",
        "        if(CRo<CRa):  # conferir a necessidade de melhorar \n",
        "          CRo=CRa+0.05\n",
        "          value = CRo\n",
        "      else:\n",
        "        CRo=CRo*(1-Fd);#CRo=CRo-Fc\n",
        "        CRo=(f3*CRo+f4*CRa)/(f3+f4) # para suavizar\n",
        "        value = CRo\n",
        "\n",
        "      if(CRo<Fc):\n",
        "        CRo=(CRo+CRa)/2 # conferir a necessidade de melhorar\n",
        "        value = CRo\n",
        "      if(CRo> 1):\n",
        "        CRo=1\n",
        "        value = CRo\n",
        "\n",
        "    return value\n",
        " "
      ],
      "metadata": {
        "id": "1O97pSSgq9Dd"
      },
      "execution_count": 2,
      "outputs": []
    },
    {
      "cell_type": "code",
      "metadata": {
        "colab": {
          "base_uri": "https://localhost:8080/"
        },
        "id": "c59cDVKoxDLX",
        "outputId": "3c4c8436-5b16-47fa-a2f3-b9471e1b7c48"
      },
      "source": [
        "############################### Importar códigos\n",
        "!git clone https://github.com/ucfilho/optim_raianars_Insight/ #clonar do Github\n",
        "%cd optim_raianars_Insight\n",
        "import de_soma_Insight\n",
        "import de_bounds_matriz\n",
        "import Go2Ann\n",
        "import randomWALK\n",
        "import annDE_FES_new\n",
        "import classicDE_FES_new\n",
        "import stepsWALK_new\n",
        "import LShade_new\n",
        "from pandas import read_csv"
      ],
      "execution_count": 3,
      "outputs": [
        {
          "output_type": "stream",
          "name": "stdout",
          "text": [
            "Cloning into 'optim_raianars_Insight'...\n",
            "remote: Enumerating objects: 941, done.\u001b[K\n",
            "remote: Counting objects: 100% (300/300), done.\u001b[K\n",
            "remote: Compressing objects: 100% (133/133), done.\u001b[K\n",
            "remote: Total 941 (delta 197), reused 256 (delta 167), pack-reused 641\u001b[K\n",
            "Receiving objects: 100% (941/941), 461.93 KiB | 1.88 MiB/s, done.\n",
            "Resolving deltas: 100% (587/587), done.\n",
            "/content/optim_raianars_Insight\n"
          ]
        }
      ]
    },
    {
      "cell_type": "code",
      "metadata": {
        "id": "Va-6Xios8RjU",
        "colab": {
          "base_uri": "https://localhost:8080/"
        },
        "outputId": "b4260a31-e6dc-480d-b4b7-4e123c80153c"
      },
      "source": [
        "!git clone https://github.com/ucfilho/Raianars_paper_One #clonar do Github\n",
        "%cd Raianars_paper_One"
      ],
      "execution_count": 4,
      "outputs": [
        {
          "output_type": "stream",
          "name": "stdout",
          "text": [
            "Cloning into 'Raianars_paper_One'...\n",
            "remote: Enumerating objects: 277, done.\u001b[K\n",
            "remote: Counting objects: 100% (148/148), done.\u001b[K\n",
            "remote: Compressing objects: 100% (65/65), done.\u001b[K\n",
            "remote: Total 277 (delta 83), reused 142 (delta 82), pack-reused 129\u001b[K\n",
            "Receiving objects: 100% (277/277), 667.30 KiB | 2.63 MiB/s, done.\n",
            "Resolving deltas: 100% (155/155), done.\n",
            "/content/optim_raianars_Insight/Raianars_paper_One\n"
          ]
        }
      ]
    },
    {
      "cell_type": "code",
      "metadata": {
        "id": "_E15mKFURR6O"
      },
      "source": [
        "#import Go2Ann\n",
        "#import de_soma_Insight\n",
        "#import de_bounds_matriz\n",
        "#import Function\n",
        "import Go2MinMax\n",
        "from AvaliaX import AvaliaX\n",
        "import numpy as np\n",
        "import scipy.stats\n",
        "import random\n",
        "import numpy as np\n",
        "import time\n",
        "import matplotlib.pyplot as plt\n",
        "from random import randint\n",
        "from scipy import optimize\n",
        "import pandas as pd\n",
        "from sklearn.metrics import confusion_matrix"
      ],
      "execution_count": 5,
      "outputs": []
    },
    {
      "cell_type": "code",
      "source": [
        "f1 =3.0; f2=1.0; f3=3.0; f4=1.0; Fc=0.1; Fd=0.05\n",
        "setANN = np.zeros(6)\n",
        "setANN[0]=Fc\n",
        "setANN[1]=Fd\n",
        "setANN[2]=f1\n",
        "setANN[3]=f2\n",
        "setANN[4]=f3\n",
        "setANN[5]=f4"
      ],
      "metadata": {
        "id": "f8QrRVUwq6CQ"
      },
      "execution_count": 6,
      "outputs": []
    },
    {
      "cell_type": "code",
      "metadata": {
        "id": "ik3ZjkUKycUK",
        "colab": {
          "base_uri": "https://localhost:8080/"
        },
        "outputId": "1b10e3b1-635a-41fc-e324-a0eff16ce2a3"
      },
      "source": [
        "############################### Importar códigos\n",
        "!git clone https://github.com/ucfilho/optim_raianars_Insight/ #clonar do Github\n",
        "%cd optim_raianars_Insight\n",
        "import de_soma_Insight\n",
        "import de_bounds_matriz\n",
        "from GeraIndicesFUNC import GeraIndices"
      ],
      "execution_count": 7,
      "outputs": [
        {
          "output_type": "stream",
          "name": "stdout",
          "text": [
            "Cloning into 'optim_raianars_Insight'...\n",
            "remote: Enumerating objects: 941, done.\u001b[K\n",
            "remote: Counting objects: 100% (300/300), done.\u001b[K\n",
            "remote: Compressing objects: 100% (133/133), done.\u001b[K\n",
            "remote: Total 941 (delta 197), reused 256 (delta 167), pack-reused 641\u001b[K\n",
            "Receiving objects: 100% (941/941), 461.93 KiB | 3.02 MiB/s, done.\n",
            "Resolving deltas: 100% (587/587), done.\n",
            "/content/optim_raianars_Insight/Raianars_paper_One/optim_raianars_Insight\n"
          ]
        }
      ]
    },
    {
      "cell_type": "code",
      "metadata": {
        "id": "lJogRB30yepw",
        "colab": {
          "base_uri": "https://localhost:8080/"
        },
        "outputId": "1fd196d3-4bf4-4ddd-9c9d-4ccdf8ed26d8"
      },
      "source": [
        "#!git clone https://github.com/ucfilho/Raianars_paper_One #clonar do Github\n",
        "#%cd Raianars_paper_One\n",
        "\n",
        "!git clone https://github.com/ucfilho/Raianars_Routines #clonar do Github\n",
        "%cd Raianars_Routines"
      ],
      "execution_count": 8,
      "outputs": [
        {
          "output_type": "stream",
          "name": "stdout",
          "text": [
            "Cloning into 'Raianars_Routines'...\n",
            "remote: Enumerating objects: 77, done.\u001b[K\n",
            "remote: Counting objects: 100% (77/77), done.\u001b[K\n",
            "remote: Compressing objects: 100% (73/73), done.\u001b[K\n",
            "remote: Total 77 (delta 23), reused 0 (delta 0), pack-reused 0\u001b[K\n",
            "Unpacking objects: 100% (77/77), done.\n",
            "/content/optim_raianars_Insight/Raianars_paper_One/optim_raianars_Insight/Raianars_Routines\n"
          ]
        }
      ]
    },
    {
      "cell_type": "code",
      "source": [
        "!git clone https://github.com/ucfilho/functions_cec2014_data\n",
        "%cd functions_cec2014_data\n",
        "import F1_to_F27_cec2014_zero_to_hero\n",
        "import cec2014_names\n",
        "import cec2014_shift_rotate"
      ],
      "metadata": {
        "id": "Z66tL-D0qM1H",
        "colab": {
          "base_uri": "https://localhost:8080/"
        },
        "outputId": "f57102e6-1a69-4e91-97c9-ab65c9efa061"
      },
      "execution_count": 9,
      "outputs": [
        {
          "output_type": "stream",
          "name": "stdout",
          "text": [
            "Cloning into 'functions_cec2014_data'...\n",
            "remote: Enumerating objects: 300, done.\u001b[K\n",
            "remote: Counting objects: 100% (6/6), done.\u001b[K\n",
            "remote: Compressing objects: 100% (6/6), done.\u001b[K\n",
            "remote: Total 300 (delta 2), reused 0 (delta 0), pack-reused 294\u001b[K\n",
            "Receiving objects: 100% (300/300), 465.31 KiB | 2.75 MiB/s, done.\n",
            "Resolving deltas: 100% (181/181), done.\n",
            "/content/optim_raianars_Insight/Raianars_paper_One/optim_raianars_Insight/Raianars_Routines/functions_cec2014_data\n"
          ]
        }
      ]
    },
    {
      "cell_type": "code",
      "source": [
        "dim = problem_size "
      ],
      "metadata": {
        "id": "yCggKdhhtnp1"
      },
      "execution_count": 10,
      "outputs": []
    },
    {
      "cell_type": "code",
      "source": [
        "!pip install --upgrade --no-cache-dir gdown"
      ],
      "metadata": {
        "id": "QFsJfpK3qfQy",
        "colab": {
          "base_uri": "https://localhost:8080/"
        },
        "outputId": "0a40a561-07ef-4243-d66c-55f4209e8970"
      },
      "execution_count": 11,
      "outputs": [
        {
          "output_type": "stream",
          "name": "stdout",
          "text": [
            "Looking in indexes: https://pypi.org/simple, https://us-python.pkg.dev/colab-wheels/public/simple/\n",
            "Requirement already satisfied: gdown in /usr/local/lib/python3.7/dist-packages (4.4.0)\n",
            "Requirement already satisfied: beautifulsoup4 in /usr/local/lib/python3.7/dist-packages (from gdown) (4.6.3)\n",
            "Requirement already satisfied: requests[socks] in /usr/local/lib/python3.7/dist-packages (from gdown) (2.23.0)\n",
            "Requirement already satisfied: six in /usr/local/lib/python3.7/dist-packages (from gdown) (1.15.0)\n",
            "Requirement already satisfied: tqdm in /usr/local/lib/python3.7/dist-packages (from gdown) (4.64.0)\n",
            "Requirement already satisfied: filelock in /usr/local/lib/python3.7/dist-packages (from gdown) (3.7.0)\n",
            "Requirement already satisfied: idna<3,>=2.5 in /usr/local/lib/python3.7/dist-packages (from requests[socks]->gdown) (2.10)\n",
            "Requirement already satisfied: chardet<4,>=3.0.2 in /usr/local/lib/python3.7/dist-packages (from requests[socks]->gdown) (3.0.4)\n",
            "Requirement already satisfied: urllib3!=1.25.0,!=1.25.1,<1.26,>=1.21.1 in /usr/local/lib/python3.7/dist-packages (from requests[socks]->gdown) (1.24.3)\n",
            "Requirement already satisfied: certifi>=2017.4.17 in /usr/local/lib/python3.7/dist-packages (from requests[socks]->gdown) (2022.5.18.1)\n",
            "Requirement already satisfied: PySocks!=1.5.7,>=1.5.6 in /usr/local/lib/python3.7/dist-packages (from requests[socks]->gdown) (1.7.1)\n"
          ]
        }
      ]
    },
    {
      "cell_type": "code",
      "source": [
        "# !gdown --id 1yM-cGzp7F35bXZ-f80uoJHzGqAb52CPz\n",
        "# https://drive.google.com/file/d/1yM-cGzp7F35bXZ-f80uoJHzGqAb52CPz/view?usp=sharing\n",
        "!gdown --id 1yM-cGzp7F35bXZ-f80uoJHzGqAb52CPz"
      ],
      "metadata": {
        "id": "bCv2CFD3qp0q",
        "colab": {
          "base_uri": "https://localhost:8080/"
        },
        "outputId": "86e735c4-1df5-4c88-cb67-523c5ef08ec2"
      },
      "execution_count": 12,
      "outputs": [
        {
          "output_type": "stream",
          "name": "stdout",
          "text": [
            "/usr/local/lib/python3.7/dist-packages/gdown/cli.py:131: FutureWarning: Option `--id` was deprecated in version 4.3.1 and will be removed in 5.0. You don't need to pass it anymore to use a file ID.\n",
            "  category=FutureWarning,\n",
            "Downloading...\n",
            "From: https://drive.google.com/uc?id=1yM-cGzp7F35bXZ-f80uoJHzGqAb52CPz\n",
            "To: /content/optim_raianars_Insight/Raianars_paper_One/optim_raianars_Insight/Raianars_Routines/functions_cec2014_data/cec2014.zip\n",
            "100% 36.1M/36.1M [00:00<00:00, 116MB/s]\n"
          ]
        }
      ]
    },
    {
      "cell_type": "code",
      "source": [
        "import zipfile\n",
        "file_name = zipfile.ZipFile('cec2014.zip', 'r')\n",
        "file_name.extractall()"
      ],
      "metadata": {
        "id": "-N1Hsa88W-Mr"
      },
      "execution_count": 13,
      "outputs": []
    },
    {
      "cell_type": "code",
      "source": [
        "def load_shift_data__(data_file=None):\n",
        "    data = read_csv(data_file, delimiter='\\s+', index_col=False, header=None)\n",
        "    return data.values.reshape((-1))\n",
        "\n",
        "def load_matrix_data__(data_file=None):\n",
        "    data = read_csv(data_file, delimiter='\\s+', index_col=False, header=None)\n",
        "    return data.values"
      ],
      "metadata": {
        "id": "_tEgxfW4qwlt"
      },
      "execution_count": 14,
      "outputs": []
    },
    {
      "cell_type": "code",
      "source": [
        "SUPPORT_DIMENSION = [2, 10, 20, 30, 50, 100]\n",
        "SUPPORT_DIMENSION_2 = [10, 20, 30, 50, 100]\n",
        "\n",
        "#def Fun(solution,shift_data=shift_data_a, matrix=matrix_a, shuffle):#, bias=F_bias):\n",
        "def CEC2014(solution, shift_data ,  matrix, shuffle):#, bias=F_bias):\n",
        "  if(type_fun == 'shift_rotate'):\n",
        "    z = Shift_Rotate(solution , shift_data , matrix,shuffle)\n",
        "    result = Function(z) + F_bias\n",
        "  elif(type_fun =='hybrid'): # F17 to F22\n",
        "    z = Shift_Rotate(solution , shift_data , matrix,shuffle)\n",
        "    result = z + F_bias\n",
        " \n",
        "  return result"
      ],
      "metadata": {
        "id": "AF2E2EIwrC8o"
      },
      "execution_count": 15,
      "outputs": []
    },
    {
      "cell_type": "code",
      "source": [
        "\n",
        "Function_CEC2014 =function_select + \"_\" + cec2014_names.NamesFunctions()[function_select]+\"_D_\"+str(problem_size)\n",
        "\n",
        "f_matrix = \"M_\"+function_select[1:]+\"_D\"+str(problem_size) + \".txt\"\n",
        "shift_data_file=\"shift_data_\"+function_select[1:]+\".txt\"\n",
        "shift_data = load_shift_data__(shift_data_file)[:problem_size]\n",
        "matrix = load_matrix_data__(f_matrix)\n",
        "f_shuffle = \"shuffle_data_\"+function_select[1:]+\"_D\"+str(problem_size) + \".txt\"\n",
        "shuffle = (load_shift_data__(f_shuffle)[:problem_size] - np.ones(problem_size)).astype(int)\n",
        "\n",
        "if(function_select=='F17'):\n",
        "  f9_modified_schwefel__ = F1_to_F27_cec2014_zero_to_hero.f9_modified_schwefel__\n",
        "  f1_elliptic__ = F1_to_F27_cec2014_zero_to_hero.f1_elliptic__\n",
        "  f8_rastrigin__ = F1_to_F27_cec2014_zero_to_hero.f8_rastrigin__ \n",
        "\n",
        "\n",
        "  def F17(solution , shift_data= shift_data , matrix=matrix,shuffle=shuffle):\n",
        "      problem_size = len(solution)\n",
        "      p = np.array([0.3, 0.3, 0.4])\n",
        "      n1 = int(np.ceil(p[0] * problem_size))\n",
        "      n2 = int(np.ceil(p[1] * problem_size))\n",
        "\n",
        "      idx1 = shuffle[:n1]\n",
        "      idx2 = shuffle[n1:(n1+n2)]\n",
        "      idx3 = shuffle[(n1+n2):]\n",
        "      mz = np.dot(solution - shift_data, matrix)\n",
        "      return f9_modified_schwefel__(mz[idx1]) + f8_rastrigin__(mz[idx2]) + f1_elliptic__(mz[idx3]) #+ bias\n",
        "\n",
        "  Function = F17\n",
        "\n",
        "if(function_select=='F18'):\n",
        "  f2_bent_cigar__ = F1_to_F27_cec2014_zero_to_hero.f2_bent_cigar__\n",
        "  f12_hgbat__ = F1_to_F27_cec2014_zero_to_hero.f12_hgbat__\n",
        "  f8_rastrigin__ = F1_to_F27_cec2014_zero_to_hero.f8_rastrigin__ \n",
        "\n",
        "  def F18(solution , shift_data= shift_data , matrix=matrix,shuffle=shuffle):\n",
        "      problem_size = len(solution)\n",
        "      p = np.array([0.3, 0.3, 0.4])\n",
        "      n1 = int(np.ceil(p[0] * problem_size))\n",
        "      n2 = int(np.ceil(p[1] * problem_size))\n",
        "\n",
        "      idx1 = shuffle[:n1]\n",
        "      idx2 = shuffle[n1:(n1 + n2)]\n",
        "      idx3 = shuffle[(n1 + n2):]\n",
        "      mz = np.dot(solution - shift_data, matrix)\n",
        "      return f2_bent_cigar__(mz[idx1]) + f12_hgbat__(mz[idx2]) + f8_rastrigin__(mz[idx3]) #+ bias\n",
        "\n",
        "  Function = F18\n",
        "\n",
        "if(function_select=='F19'):\n",
        "\n",
        "  f6_weierstrass__ = F1_to_F27_cec2014_zero_to_hero.f6_weierstrass__\n",
        "  f4_rosenbrock__ = F1_to_F27_cec2014_zero_to_hero.f4_rosenbrock__\n",
        "  f7_griewank__ = F1_to_F27_cec2014_zero_to_hero.f7_griewank__\n",
        "  f14_expanded_scaffer__ = F1_to_F27_cec2014_zero_to_hero.f14_expanded_scaffer__\n",
        "\n",
        "\n",
        "  def F19(solution , shift_data= shift_data , matrix=matrix,shuffle=shuffle):\n",
        "      problem_size = len(solution)\n",
        "      p = np.array([0.2, 0.2, 0.3, 0.3])\n",
        "      n1 = int(np.ceil(p[0] * problem_size))\n",
        "      n2 = int(np.ceil(p[1] * problem_size))\n",
        "      n3 = int(np.ceil(p[2] * problem_size))\n",
        "\n",
        "      idx1 = shuffle[:n1]\n",
        "      idx2 = shuffle[n1:(n1 + n2)]\n",
        "      idx3 = shuffle[(n1 + n2):(n1+n2+n3)]\n",
        "      idx4 = shuffle[n1+n2+n3:]\n",
        "      mz = np.dot(solution - shift_data, matrix)\n",
        "      return f7_griewank__(mz[idx1]) + f6_weierstrass__(mz[idx2]) + f4_rosenbrock__(mz[idx3]) + f14_expanded_scaffer__(mz[idx4]) \n",
        "\n",
        "  Function = F19\n",
        "\n",
        "if(function_select=='F20'):\n",
        "  f12_hgbat__ = F1_to_F27_cec2014_zero_to_hero.f12_hgbat__\n",
        "  f3_discus__ = F1_to_F27_cec2014_zero_to_hero.f3_discus__\n",
        "  f13_expanded_griewank__ = F1_to_F27_cec2014_zero_to_hero.f13_expanded_griewank__\n",
        "  f8_rastrigin__ = F1_to_F27_cec2014_zero_to_hero.f8_rastrigin__\n",
        "\n",
        "  def F20(solution , shift_data= shift_data , matrix=matrix,shuffle=shuffle):\n",
        "      problem_size = len(solution)\n",
        "      p = np.array([0.2, 0.2, 0.3, 0.3])\n",
        "      n1 = int(np.ceil(p[0] * problem_size))\n",
        "      n2 = int(np.ceil(p[1] * problem_size))\n",
        "      n3 = int(np.ceil(p[2] * problem_size))\n",
        "\n",
        "      idx1 = shuffle[:n1]\n",
        "      idx2 = shuffle[n1:(n1 + n2)]\n",
        "      idx3 = shuffle[(n1 + n2):(n1 + n2 + n3)]\n",
        "      idx4 = shuffle[n1 + n2 + n3:]\n",
        "      mz = np.dot(solution - shift_data, matrix)\n",
        "      return f12_hgbat__(mz[idx1]) + f3_discus__(mz[idx2]) + f13_expanded_griewank__(mz[idx3]) + f8_rastrigin__(mz[idx4])# + bias\n",
        "\n",
        "  Function = F20\n",
        "\n",
        "if(function_select=='F21'):\n",
        "\n",
        "  f9_modified_schwefel__ = F1_to_F27_cec2014_zero_to_hero.f9_modified_schwefel__ \n",
        "  f12_hgbat__ = F1_to_F27_cec2014_zero_to_hero.f12_hgbat__ \n",
        "  f14_expanded_scaffer__ = F1_to_F27_cec2014_zero_to_hero.f14_expanded_scaffer__  \n",
        "  f1_elliptic__ = F1_to_F27_cec2014_zero_to_hero.f1_elliptic__\n",
        "  f4_rosenbrock__ = F1_to_F27_cec2014_zero_to_hero.f4_rosenbrock__\n",
        "\n",
        "  def F21(solution , shift_data= shift_data , matrix=matrix,shuffle=shuffle):\n",
        "    problem_size = len(solution)\n",
        "    p = np.array([0.1, 0.2, 0.2, 0.2, 0.3])\n",
        "    n1 = int(np.ceil(p[0] * problem_size))\n",
        "    n2 = int(np.ceil(p[1] * problem_size))\n",
        "    n3 = int(np.ceil(p[2] * problem_size))\n",
        "    n4 = int(np.ceil(p[3] * problem_size))\n",
        "\n",
        "    idx1 = shuffle[:n1]\n",
        "    idx2 = shuffle[n1:(n1 + n2)]\n",
        "    idx3 = shuffle[(n1 + n2):(n1 + n2 + n3)]\n",
        "    idx4 = shuffle[(n1+n2+n3):(n1+n2+n3+n4)]\n",
        "    idx5 = shuffle[n1+n2+n3+n4:]\n",
        "    mz = np.dot(solution - shift_data, matrix)\n",
        "\n",
        "    return f14_expanded_scaffer__(mz[idx1]) + f12_hgbat__(mz[idx2]) + f4_rosenbrock__(mz[idx3]) + \\\n",
        "           f9_modified_schwefel__(mz[idx4]) + f1_elliptic__(mz[idx5]) \n",
        "\n",
        "\n",
        "  Function = F21\n",
        "\n",
        "if(function_select=='F22'):\n",
        "\n",
        "  f1_elliptic__ = F1_to_F27_cec2014_zero_to_hero.f1_elliptic__\n",
        "  f10_katsuura__ = F1_to_F27_cec2014_zero_to_hero.f10_katsuura__ \n",
        "  f11_happy_cat__ = F1_to_F27_cec2014_zero_to_hero.f11_happy_cat__\n",
        "  f13_expanded_griewank__ = F1_to_F27_cec2014_zero_to_hero.f13_expanded_griewank__\n",
        "  f9_modified_schwefel__ = F1_to_F27_cec2014_zero_to_hero.f9_modified_schwefel__\n",
        "  f5_ackley__ = F1_to_F27_cec2014_zero_to_hero.f5_ackley__\n",
        "\n",
        "  def F22(solution , shift_data= shift_data , matrix=matrix,shuffle=shuffle):\n",
        "      problem_size = len(solution)\n",
        "      p = np.array([0.1, 0.2, 0.2, 0.2, 0.3])\n",
        "      n1 = int(np.ceil(p[0] * problem_size))\n",
        "      n2 = int(np.ceil(p[1] * problem_size))\n",
        "      n3 = int(np.ceil(p[2] * problem_size))\n",
        "      n4 = int(np.ceil(p[3] * problem_size))\n",
        "\n",
        "      idx1 = shuffle[:n1]\n",
        "      idx2 = shuffle[n1:(n1 + n2)]\n",
        "      idx3 = shuffle[(n1 + n2):(n1 + n2 + n3)]\n",
        "      idx4 = shuffle[(n1 + n2 + n3):(n1 + n2 + n3 + n4)]\n",
        "      idx5 = shuffle[n1 + n2 + n3 + n4:]\n",
        "      mz = np.dot(solution - shift_data, matrix)\n",
        "      \n",
        "      return f10_katsuura__(mz[idx1]) + f11_happy_cat__(mz[idx2]) + f13_expanded_griewank__(mz[idx3]) + \\\n",
        "            f9_modified_schwefel__(mz[idx4]) + f5_ackley__(mz[idx5]) #+ bias\n",
        "\n",
        "  Function = F22\n",
        "\n",
        "if(function_select=='F23'):\n",
        "  f1_elliptic__ = F1_to_F27_cec2014_zero_to_hero.f1_elliptic__\n",
        "  f2_bent_cigar__ = F1_to_F27_cec2014_zero_to_hero.f2_bent_cigar__ \n",
        "  f8_rastrigin__ = F1_to_F27_cec2014_zero_to_hero.f8_rastrigin__ \n",
        "  f3_discus__ = F1_to_F27_cec2014_zero_to_hero.f3_discus__\n",
        "  f4_rosenbrock__   =  F1_to_F27_cec2014_zero_to_hero.f4_rosenbrock__\n",
        "\n",
        "\n",
        "  def F23(solution , shift_data= shift_data , matrix=matrix,shuffle=shuffle):\n",
        "    problem_size = len(solution)\n",
        "    xichma = np.array([10, 20, 30, 40, 50])\n",
        "    lamda = np.array([1, 1e-6, 1e-26, 1e-6, 1e-6])\n",
        "    bias = np.array([0, 100, 200, 300, 400])\n",
        "\n",
        "      \n",
        "    # 1. Rotated Rosenbrock’s Function F4’\n",
        "    t1 = solution - shift_data[0]\n",
        "    g1 = lamda[0] * f4_rosenbrock__(np.dot(t1, matrix[:problem_size, :])) + bias[0]\n",
        "    w1 = (1.0 / np.sqrt(sum(t1 ** 2))) * np.exp(-sum(t1 ** 2) / (2 * problem_size * xichma[0] ** 2))\n",
        "\n",
        "    # 2. High Conditioned Elliptic Function F1’\n",
        "    t2 = solution - shift_data[1]\n",
        "    g2 = lamda[1] * f1_elliptic__(solution) + bias[1]\n",
        "    w2 = (1.0 / np.sqrt(sum(t2 ** 2))) * np.exp(-sum(t2 ** 2) / (2 * problem_size * xichma[1] ** 2))\n",
        "    # 3. Rotated Bent Cigar Function F2’\n",
        "    t3 = solution - shift_data[2]\n",
        "    g3 = lamda[2] * f2_bent_cigar__(np.dot(matrix[2 * problem_size: 3 * problem_size, :], t3)) + bias[2]\n",
        "    w3 = (1.0 / np.sqrt(sum(t3 ** 2))) * np.exp(-sum(t3 ** 2) / (2 * problem_size * xichma[2] ** 2))\n",
        "    # 4. Rotated Discus Function F3’\n",
        "    t4 = solution - shift_data[3]\n",
        "    g4 = lamda[3] * f3_discus__(np.dot(matrix[3 * problem_size: 4 * problem_size, :], t4)) + bias[3]\n",
        "    w4 = (1.0 / np.sqrt(sum(t4 ** 2))) * np.exp(-sum(t4 ** 2) / (2 * problem_size * xichma[3] ** 2))\n",
        "\n",
        "    # 4. High Conditioned Elliptic Function F1’\n",
        "    t5 = solution - shift_data[4]\n",
        "    g5 = lamda[4] * f1_elliptic__(solution) + bias[4]\n",
        "    w5 = (1.0 / np.sqrt(sum(t5 ** 2))) * np.exp(-sum(t5 ** 2) / (2 * problem_size * xichma[4] ** 2))\n",
        "\n",
        "    sw = sum([w1, w2, w3, w4, w5])\n",
        "    result = (w1 * g1 + w2 * g2 + w3 * g3 + w4 * g4 + w5 * g5) / sw\n",
        "    return result #+ f_bias\n",
        "\n",
        "  Function = F23\n",
        "\n",
        "\n",
        "if(function_select=='F24'):\n",
        "  f1_elliptic__ = F1_to_F27_cec2014_zero_to_hero.f1_elliptic__\n",
        "  f2_bent_cigar__ = F1_to_F27_cec2014_zero_to_hero.f2_bent_cigar__ \n",
        "  f8_rastrigin__ = F1_to_F27_cec2014_zero_to_hero.f8_rastrigin__ \n",
        "  f3_discus__ = F1_to_F27_cec2014_zero_to_hero.f3_discus__\n",
        "  f4_rosenbrock__   =  F1_to_F27_cec2014_zero_to_hero.f4_rosenbrock__\n",
        "  f1_elliptic__ = F1_to_F27_cec2014_zero_to_hero.f1_elliptic__\n",
        "  f9_modified_schwefel__ = F1_to_F27_cec2014_zero_to_hero.f9_modified_schwefel__ \n",
        "  f8_rastrigin__ = F1_to_F27_cec2014_zero_to_hero.f8_rastrigin__ \n",
        "  f12_hgbat__ = F1_to_F27_cec2014_zero_to_hero.f12_hgbat__\n",
        "\n",
        "  def F24(solution , shift_data= shift_data , matrix=matrix,shuffle=shuffle):\n",
        "      problem_size = len(solution)\n",
        "      xichma = np.array([20, 20, 20])\n",
        "      lamda = np.array([1, 1, 1])\n",
        "      bias = np.array([0, 100, 200])\n",
        "\n",
        "      # 1. Rotated Rosenbrock’s Function F4’\n",
        "      t1 = solution - shift_data[0]\n",
        "      g1 = lamda[0] * f9_modified_schwefel__(solution) + bias[0]\n",
        "      w1 = (1.0 / np.sqrt(sum(t1 ** 2))) * np.exp(-sum(t1 ** 2) / (2 * problem_size * xichma[0] ** 2))\n",
        "\n",
        "      # 2. Rotated Rastrigin’s Function F9’\n",
        "      t2 = solution - shift_data[1]\n",
        "      g2 = lamda[1] * f8_rastrigin__(np.dot(matrix[problem_size: 2 * problem_size], t2)) + bias[1]\n",
        "      w2 = (1.0 / np.sqrt(sum(t2 ** 2))) * np.exp(-sum(t2 ** 2) / (2 * problem_size * xichma[1] ** 2))\n",
        "\n",
        "      # 3. Rotated HGBat Function F14’\n",
        "      t3 = solution - shift_data[2]\n",
        "      g3 = lamda[2] * f12_hgbat__(np.dot(matrix[2 * problem_size: 3 * problem_size, :], t3)) + bias[2]\n",
        "      w3 = (1.0 / np.sqrt(sum(t3 ** 2))) * np.exp(-sum(t3 ** 2) / (2 * problem_size * xichma[2] ** 2))\n",
        "\n",
        "      sw = sum([w1, w2, w3])\n",
        "      result = (w1 * g1 + w2 * g2 + w3 * g3) / sw\n",
        "      return result #+ f_bias\n",
        "\n",
        "  Function = F24\n",
        "\n",
        " \n",
        "if(function_select=='F25'):\n",
        "\n",
        "  f9_modified_schwefel__ = F1_to_F27_cec2014_zero_to_hero.f9_modified_schwefel__ \n",
        "  f8_rastrigin__ = F1_to_F27_cec2014_zero_to_hero.f8_rastrigin__ \n",
        "  f1_elliptic__ = F1_to_F27_cec2014_zero_to_hero.f1_elliptic__\n",
        "\n",
        "  def F25(solution , shift_data= shift_data , matrix=matrix,shuffle=shuffle):\n",
        "      problem_size = len(solution)\n",
        "      xichma = np.array([10, 30, 50])\n",
        "      lamda = np.array([0.25, 1, 1e-7])\n",
        "      bias = np.array([0, 100, 200])\n",
        "\n",
        "      # 1. Rotated Schwefel's Function F11’\n",
        "      t1 = solution - shift_data[0]\n",
        "      g1 = lamda[0] * f9_modified_schwefel__(np.dot(matrix[:problem_size, :problem_size], t1)) + bias[0]\n",
        "      w1 = (1.0 / np.sqrt(sum(t1 ** 2))) * np.exp(-sum(t1 ** 2) / (2 * problem_size * xichma[0] ** 2))\n",
        "\n",
        "      # 2. Rotated Rastrigin’s Function F9’\n",
        "      t2 = solution - shift_data[1]\n",
        "      g2 = lamda[1] * f8_rastrigin__(np.dot(matrix[problem_size: 2 * problem_size], t2)) + bias[1]\n",
        "      w2 = (1.0 / np.sqrt(sum(t2 ** 2))) * np.exp(-sum(t2 ** 2) / (2 * problem_size * xichma[1] ** 2))\n",
        "\n",
        "      # 3. Rotated High Conditioned Elliptic Function F1'\n",
        "      t3 = solution - shift_data[2]\n",
        "      g3 = lamda[2] * f1_elliptic__(np.dot(matrix[2 * problem_size: 3 * problem_size, :], t3)) + bias[2]\n",
        "      w3 = (1.0 / np.sqrt(sum(t3 ** 2))) * np.exp(-sum(t3 ** 2) / (2 * problem_size * xichma[2] ** 2))\n",
        "\n",
        "      sw = sum([w1, w2, w3])\n",
        "      result = (w1 * g1 + w2 * g2 + w3 * g3) / sw\n",
        "      return result #+ f_bias\n",
        "\n",
        "  Function = F25   \n",
        "\n",
        "if(function_select=='F26'):\n",
        "\n",
        "  f9_modified_schwefel__ = F1_to_F27_cec2014_zero_to_hero.f9_modified_schwefel__ \n",
        "  f11_happy_cat__ = F1_to_F27_cec2014_zero_to_hero.f11_happy_cat__\n",
        "  f1_elliptic__ = F1_to_F27_cec2014_zero_to_hero.f1_elliptic__\n",
        "  f6_weierstrass__ = F1_to_F27_cec2014_zero_to_hero.f6_weierstrass__\n",
        "  f7_griewank__ = F1_to_F27_cec2014_zero_to_hero.f7_griewank__\n",
        "\n",
        "  def F26(solution , shift_data= shift_data , matrix=matrix,shuffle=shuffle):\n",
        "    problem_size = len(solution)\n",
        "    xichma = np.array([10, 10, 10, 10, 10])\n",
        "    lamda = np.array([0.25, 1, 1e-7, 2.5, 10])\n",
        "    bias = np.array([0, 100, 200, 300, 400])\n",
        "\n",
        "    # 1. Rotated Schwefel's Function F11’\n",
        "    t1 = solution - shift_data[0]\n",
        "    g1 = lamda[0] * f9_modified_schwefel__(np.dot(matrix[:problem_size, :], t1)) + bias[0]\n",
        "    w1 = (1.0 / np.sqrt(sum(t1 ** 2))) * np.exp(-sum(t1 ** 2) / (2 * problem_size * xichma[0] ** 2))\n",
        "\n",
        "    # 2. Rotated HappyCat Function F13’\n",
        "    t2 = solution - shift_data[1]\n",
        "    g2 = lamda[1] * f11_happy_cat__(np.dot(matrix[problem_size:2 * problem_size, :], t2)) + bias[1]\n",
        "    w2 = (1.0 / np.sqrt(sum(t2 ** 2))) * np.exp(-sum(t2 ** 2) / (2 * problem_size * xichma[1] ** 2))\n",
        "\n",
        "    # 3. Rotated High Conditioned Elliptic Function F1’\n",
        "    t3 = solution - shift_data[2]\n",
        "    g3 = lamda[2] * f1_elliptic__(np.dot(matrix[2 * problem_size: 3 * problem_size, :], t3)) + bias[2]\n",
        "    w3 = (1.0 / np.sqrt(sum(t3 ** 2))) * np.exp(-sum(t3 ** 2) / (2 * problem_size * xichma[2] ** 2))\n",
        "\n",
        "    # 4. Rotated Weierstrass Function F6’\n",
        "    t4 = solution - shift_data[3]\n",
        "    g4 = lamda[3] * f6_weierstrass__(np.dot(matrix[3 * problem_size: 4 * problem_size, :], t4)) + bias[3]\n",
        "    w4 = (1.0 / np.sqrt(sum(t4 ** 2))) * np.exp(-sum(t4 ** 2) / (2 * problem_size * xichma[3] ** 2))\n",
        "\n",
        "    # 5. Rotated Griewank’s Function F7’\n",
        "    t5 = solution - shift_data[4]\n",
        "    g5 = lamda[4] * f7_griewank__(np.dot(matrix[4*problem_size:, :], t5)) + bias[4]\n",
        "    w5 = (1.0 / np.sqrt(sum(t5 ** 2))) * np.exp(-sum(t5 ** 2) / (2 * problem_size * xichma[4] ** 2))\n",
        "\n",
        "    sw = sum([w1, w2, w3, w4, w5])\n",
        "    result = (w1 * g1 + w2 * g2 + w3 * g3 + w4 * g4 + w5 * g5) / sw\n",
        "    return result #+ f_bias\n",
        "\n",
        "  Function = F26\n",
        "\n",
        "if(function_select=='F27'):\n",
        "\n",
        "  f1_elliptic__ = F1_to_F27_cec2014_zero_to_hero.f1_elliptic__\n",
        "  f9_modified_schwefel__ = F1_to_F27_cec2014_zero_to_hero.f9_modified_schwefel__ \n",
        "  f12_hgbat__ = F1_to_F27_cec2014_zero_to_hero.f12_hgbat__\n",
        "  f8_rastrigin__ = F1_to_F27_cec2014_zero_to_hero.f8_rastrigin__\n",
        "  f6_weierstrass__ = F1_to_F27_cec2014_zero_to_hero.f6_weierstrass__\n",
        "\n",
        "  def F27(solution , shift_data= shift_data , matrix=matrix,shuffle=shuffle):\n",
        "      problem_size = len(solution)\n",
        "      xichma = np.array([10, 10, 10, 20, 20])\n",
        "      lamda = np.array([10, 10, 2.5, 25, 1e-6])\n",
        "      bias = np.array([0, 100, 200, 300, 400])\n",
        "\n",
        "      # 1. Rotated HGBat Function F14'\n",
        "      t1 = solution - shift_data[0]\n",
        "      g1 = lamda[0] * f12_hgbat__(np.dot(matrix[:problem_size, :], t1)) + bias[0]\n",
        "      w1 = (1.0 / np.sqrt(sum(t1 ** 2))) * np.exp(-sum(t1 ** 2) / (2 * problem_size * xichma[0] ** 2))\n",
        "\n",
        "      # 2. Rotated Rastrigin’s Function F9’\n",
        "      t2 = solution - shift_data[1]\n",
        "      g2 = lamda[1] * f8_rastrigin__(np.dot(matrix[problem_size:2 * problem_size, :], t2)) + bias[1]\n",
        "      w2 = (1.0 / np.sqrt(sum(t2 ** 2))) * np.exp(-sum(t2 ** 2) / (2 * problem_size * xichma[1] ** 2))\n",
        "\n",
        "      # 3. Rotated Schwefel's Function F11’\n",
        "      t3 = solution - shift_data[2]\n",
        "      g3 = lamda[2] * f9_modified_schwefel__(np.dot(matrix[2 * problem_size: 3 * problem_size, :], t3)) + bias[2]\n",
        "      w3 = (1.0 / np.sqrt(sum(t3 ** 2))) * np.exp(-sum(t3 ** 2) / (2 * problem_size * xichma[2] ** 2))\n",
        "\n",
        "      # 4. Rotated Weierstrass Function F6’\n",
        "      t4 = solution - shift_data[3]\n",
        "      g4 = lamda[3] * f6_weierstrass__(np.dot(matrix[3 * problem_size: 4 * problem_size, :], t4)) + bias[3]\n",
        "      w4 = (1.0 / np.sqrt(sum(t4 ** 2))) * np.exp(-sum(t4 ** 2) / (2 * problem_size * xichma[3] ** 2))\n",
        "\n",
        "      # 5. Rotated High Conditioned Elliptic Function F1’\n",
        "      t5 = solution - shift_data[4]\n",
        "      g5 = lamda[4] * f1_elliptic__(np.dot(matrix[4 * problem_size:, :], t5)) + bias[4]\n",
        "      w5 = (1.0 / np.sqrt(sum(t5 ** 2))) * np.exp(-sum(t5 ** 2) / (2 * problem_size * xichma[4] ** 2))\n",
        "\n",
        "      sw = sum([w1, w2, w3, w4, w5])\n",
        "      result = (w1 * g1 + w2 * g2 + w3 * g3 + w4 * g4 + w5 * g5) / sw\n",
        "      return result #+ f_bias\n",
        "\n",
        "  Function = F27 \n",
        "\n",
        "if(function_select=='F28'):\n",
        "\n",
        "  # block of functions to F28: it use F17 and F19\n",
        "  f_matrix = \"M_15\"+\"_D\"+str(problem_size) + \".txt\"\n",
        "  matrix_F15 = load_matrix_data__(f_matrix)\n",
        "\n",
        "  f14_expanded_scaffer__ = F1_to_F27_cec2014_zero_to_hero.f14_expanded_scaffer__ \n",
        "  f9_modified_schwefel__ = F1_to_F27_cec2014_zero_to_hero.f9_modified_schwefel__ \n",
        "  f11_happy_cat__ = F1_to_F27_cec2014_zero_to_hero.f11_happy_cat__ \n",
        "  f1_elliptic__ = F1_to_F27_cec2014_zero_to_hero.f1_elliptic__\n",
        "  f13_expanded_griewank__ = F1_to_F27_cec2014_zero_to_hero.f13_expanded_griewank__\n",
        "\n",
        "  def F15_hybrid(solution , shift_data = shift_data, matrix = matrix_F15 , shuffle = shuffle):\n",
        "      problem_size = len(solution)\n",
        "      z = 5 * (solution - shift_data) / 100\n",
        "      z = np.dot(z, matrix) + 1\n",
        "      return f13_expanded_griewank__(z) #+ bias\n",
        "\n",
        "  def F28(solution , shift_data= shift_data , matrix=matrix,shuffle=shuffle):\n",
        "      problem_size = len(solution)\n",
        "      xichma = np.array([10, 20, 30, 40, 50])\n",
        "      lamda = np.array([2.5, 10, 2.5, 5e-4, 1e-6])\n",
        "      bias = np.array([0, 100, 200, 300, 400])\n",
        "\n",
        "      # 1. Rotated Expanded Griewank’s plus Rosenbrock’s Function F15’\n",
        "      t1 = solution - shift_data[0]\n",
        "      g1 = lamda[0] * F15_hybrid(solution) + bias[0]\n",
        "      w1 = (1.0 / np.sqrt(sum(t1 ** 2))) * np.exp(-sum(t1 ** 2) / (2 * problem_size * xichma[0] ** 2))\n",
        "\n",
        "      # 2. Rotated HappyCat Function F13’\n",
        "      t2 = solution - shift_data[1]\n",
        "      g2 = lamda[1] * f11_happy_cat__(np.dot(matrix[problem_size:2 * problem_size, :], t2)) + bias[1]\n",
        "      w2 = (1.0 / np.sqrt(sum(t2 ** 2))) * np.exp(-sum(t2 ** 2) / (2 * problem_size * xichma[1] ** 2))\n",
        "\n",
        "      # 3. Rotated Schwefel's Function F11’\n",
        "      t3 = solution - shift_data[2]\n",
        "      g3 = lamda[2] * f9_modified_schwefel__(np.dot(matrix[2 * problem_size: 3 * problem_size, :], t3)) + bias[2]\n",
        "      w3 = (1.0 / np.sqrt(sum(t3 ** 2))) * np.exp(-sum(t3 ** 2) / (2 * problem_size * xichma[2] ** 2))\n",
        "\n",
        "      # 4. Rotated Expanded Scaffer’s F6 Function F16’\n",
        "      t4 = solution - shift_data[3]\n",
        "      g4 = lamda[3] * f14_expanded_scaffer__(np.dot(matrix[3 * problem_size: 4 * problem_size, :], t4)) + bias[3]\n",
        "      w4 = (1.0 / np.sqrt(sum(t4 ** 2))) * np.exp(-sum(t4 ** 2) / (2 * problem_size * xichma[3] ** 2))\n",
        "\n",
        "      # 5. Rotated High Conditioned Elliptic Function F1’\n",
        "      t5 = solution - shift_data[4]\n",
        "      g5 = lamda[4] * f1_elliptic__(np.dot(matrix[4 * problem_size:, :], t5)) + bias[4]\n",
        "      w5 = (1.0 / np.sqrt(sum(t5 ** 2))) * np.exp(-sum(t5 ** 2) / (2 * problem_size * xichma[4] ** 2))\n",
        "\n",
        "      sw = sum([w1, w2, w3, w4, w5])\n",
        "      result = (w1 * g1 + w2 * g2 + w3 * g3 + w4 * g4 + w5 * g5) / sw\n",
        "      return result #+ f_bias\n",
        "\n",
        "  Function = F28 \n",
        "\n",
        "if(function_select=='F29'):\n",
        "  # block of functions to F28: it use F17 and F19\n",
        "  f_matrix = \"M_17\"+\"_D\"+str(problem_size) + \".txt\"\n",
        "  matrix_F17 = load_matrix_data__(f_matrix)\n",
        "\n",
        "  f_matrix = \"M_18\"+\"_D\"+str(problem_size) + \".txt\"\n",
        "  matrix_F18 = load_matrix_data__(f_matrix)\n",
        "\n",
        "  f_matrix = \"M_19\"+\"_D\"+str(problem_size) + \".txt\"\n",
        "  matrix_F19 = load_matrix_data__(f_matrix)\n",
        "\n",
        "  f9_modified_schwefel__  = F1_to_F27_cec2014_zero_to_hero.f9_modified_schwefel__ \n",
        "  f8_rastrigin__ = F1_to_F27_cec2014_zero_to_hero.f8_rastrigin__\n",
        "  f1_elliptic__ = F1_to_F27_cec2014_zero_to_hero.f1_elliptic__\n",
        "\n",
        "  f2_bent_cigar__ = F1_to_F27_cec2014_zero_to_hero.f2_bent_cigar__\n",
        "  f12_hgbat__ = F1_to_F27_cec2014_zero_to_hero.f12_hgbat__\n",
        "  #f8_rastrigin__ = F1_to_F27_cec2014_zero_to_hero.f8_rastrigin__\n",
        "\n",
        "  f7_griewank__ = F1_to_F27_cec2014_zero_to_hero.f7_griewank__\n",
        "  f6_weierstrass__ = F1_to_F27_cec2014_zero_to_hero.f6_weierstrass__\n",
        "  f4_rosenbrock__ = F1_to_F27_cec2014_zero_to_hero.f4_rosenbrock__\n",
        "  f14_expanded_scaffer__ = F1_to_F27_cec2014_zero_to_hero.f14_expanded_scaffer__ \n",
        "\n",
        "  def F17_hybrid(solution , shift_data = shift_data, matrix = matrix_F17 , shuffle = shuffle):\n",
        "      problem_size = len(solution)\n",
        "      p = np.array([0.3, 0.3, 0.4])\n",
        "      n1 = int(np.ceil(p[0] * problem_size))\n",
        "      n2 = int(np.ceil(p[1] * problem_size))\n",
        "      idx1 = shuffle[:n1]\n",
        "      idx2 = shuffle[n1:(n1+n2)]\n",
        "      idx3 = shuffle[(n1+n2):]\n",
        "      mz = np.dot(solution - shift_data, matrix)\n",
        "\n",
        "      return f9_modified_schwefel__(mz[idx1]) + f8_rastrigin__(mz[idx2]) + f1_elliptic__(mz[idx3]) #+ bias\n",
        "\n",
        "  def F18_hybrid(solution , shift_data = shift_data, matrix = matrix_F17 , shuffle = shuffle):\n",
        "      problem_size = len(solution)\n",
        "      p = np.array([0.3, 0.3, 0.4])\n",
        "      n1 = int(np.ceil(p[0] * problem_size))\n",
        "      n2 = int(np.ceil(p[1] * problem_size))\n",
        "      idx1 = shuffle[:n1]\n",
        "      idx2 = shuffle[n1:(n1 + n2)]\n",
        "      idx3 = shuffle[(n1 + n2):]\n",
        "      mz = np.dot(solution - shift_data, matrix)\n",
        "      return f2_bent_cigar__(mz[idx1]) + f12_hgbat__(mz[idx2]) + f8_rastrigin__(mz[idx3]) #+ bias \n",
        "\n",
        "  def F19_hybrid(solution , shift_data = shift_data, matrix = matrix_F17 , shuffle = shuffle):\n",
        "      problem_size = len(solution)\n",
        "      p = np.array([0.2, 0.2, 0.3, 0.3])\n",
        "      n1 = int(np.ceil(p[0] * problem_size))\n",
        "      n2 = int(np.ceil(p[1] * problem_size))\n",
        "      n3 = int(np.ceil(p[2] * problem_size))\n",
        "      idx1 = shuffle[:n1]\n",
        "      idx2 = shuffle[n1:(n1 + n2)]\n",
        "      idx3 = shuffle[(n1 + n2):(n1+n2+n3)]\n",
        "      idx4 = shuffle[n1+n2+n3:]\n",
        "      mz = np.dot(solution - shift_data, matrix)\n",
        "      return f7_griewank__(mz[idx1]) + f6_weierstrass__(mz[idx2]) + f4_rosenbrock__(mz[idx3]) + f14_expanded_scaffer__(mz[idx4])#+ bias\n",
        "\n",
        "\n",
        "  def F29(solution , shift_data= shift_data , matrix=matrix,shuffle=shuffle):\n",
        "      num_funcs = 3\n",
        "      problem_size = len(solution)\n",
        "      xichma = np.array([10, 30, 50])\n",
        "      lamda = np.array([1, 1, 1])\n",
        "      bias = np.array([0, 100, 200])\n",
        "\n",
        "      def __fi__(solution=None, idx=None):\n",
        "          if idx == 0:\n",
        "              return F17_hybrid(solution) #F17_hybrid(solution , shift_data , matrix, shuffle)\n",
        "          elif idx == 1:\n",
        "              return F18_hybrid(solution )\n",
        "          else:\n",
        "              return F19_hybrid(solution)\n",
        "\n",
        "      weights = np.ones(num_funcs)\n",
        "      fits = np.ones(num_funcs)\n",
        "      for i in range(0, num_funcs):\n",
        "          t1 = lamda[i] * __fi__(solution, i) + bias[i]\n",
        "          t2 = 1.0 / np.sqrt(sum((solution - shift_data[i]) ** 2))\n",
        "          w_i = t2 * np.exp(-sum((solution - shift_data[i]) ** 2) / (2 * problem_size * xichma[i] ** 2))\n",
        "          weights[i] = w_i\n",
        "          fits[i] = t1\n",
        "      sw = sum(weights)\n",
        "      result = 0.0\n",
        "      for i in range(0, num_funcs):\n",
        "          result += (weights[i] / sw) * fits[i]\n",
        "      return result #+ f_bias\n",
        "\n",
        "  Function = F29 \n",
        "\n",
        "if(function_select=='F30'):\n",
        "  f12_hgbat__ = F1_to_F27_cec2014_zero_to_hero.f12_hgbat__ \n",
        "  f3_discus__ = F1_to_F27_cec2014_zero_to_hero.f3_discus__ \n",
        "  f13_expanded_griewank__ = F1_to_F27_cec2014_zero_to_hero.f13_expanded_griewank__ \n",
        "  f8_rastrigin__ = F1_to_F27_cec2014_zero_to_hero.f8_rastrigin__ \n",
        "\n",
        "\n",
        "  f14_expanded_scaffer__ = F1_to_F27_cec2014_zero_to_hero.f14_expanded_scaffer__ \n",
        "  #f12_hgbat__ = F1_to_F27_cec2014_zero_to_hero.f12_hgbat__\n",
        "  f4_rosenbrock__ = F1_to_F27_cec2014_zero_to_hero.f4_rosenbrock__\n",
        "  f9_modified_schwefel__ = F1_to_F27_cec2014_zero_to_hero.f9_modified_schwefel__\n",
        "  f1_elliptic__ = F1_to_F27_cec2014_zero_to_hero.f1_elliptic__  \n",
        "\n",
        "  f10_katsuura__ = F1_to_F27_cec2014_zero_to_hero.f10_katsuura__\n",
        "  f11_happy_cat__ = F1_to_F27_cec2014_zero_to_hero.f11_happy_cat__\n",
        "  #f13_expanded_griewank__ = F1_to_F27_cec2014_zero_to_hero.f13_expanded_griewank__\n",
        "  #f9_modified_schwefel__ = F1_to_F27_cec2014_zero_to_hero.f9_modified_schwefel__\n",
        "  f5_ackley__ = F1_to_F27_cec2014_zero_to_hero.f5_ackley__ \n",
        "\n",
        "  # block of functions to F30: it use F20, F21, F22\n",
        "  f_matrix = \"M_20\"+\"_D\"+str(problem_size) + \".txt\"\n",
        "  matrix_F20 = load_matrix_data__(f_matrix)\n",
        "  f_matrix = \"M_21\"+\"_D\"+str(problem_size) + \".txt\"\n",
        "  matrix_F21 = load_matrix_data__(f_matrix)\n",
        "  f_matrix = \"M_22\"+\"_D\"+str(problem_size) + \".txt\"\n",
        "  matrix_F22 = load_matrix_data__(f_matrix)\n",
        "\n",
        "  def F20_hybrid(solution , shift_data = shift_data, matrix = matrix_F20 , shuffle = shuffle):\n",
        "      problem_size = len(solution)\n",
        "      p = np.array([0.2, 0.2, 0.3, 0.3])\n",
        "      n1 = int(np.ceil(p[0] * problem_size))\n",
        "      n2 = int(np.ceil(p[1] * problem_size))\n",
        "      n3 = int(np.ceil(p[2] * problem_size))\n",
        "\n",
        "      shuffle = (shuffle[:problem_size] - np.ones(problem_size)).astype(int)\n",
        "      idx1 = shuffle[:n1]\n",
        "      idx2 = shuffle[n1:(n1 + n2)]\n",
        "      idx3 = shuffle[(n1 + n2):(n1 + n2 + n3)]\n",
        "      idx4 = shuffle[n1 + n2 + n3:]\n",
        "      mz = np.dot(solution - shift_data, matrix)\n",
        "      return f12_hgbat__(mz[idx1]) + f3_discus__(mz[idx2]) + f13_expanded_griewank__(mz[idx3]) + f8_rastrigin__(mz[idx4]) #+ bias\n",
        "\n",
        "\n",
        "  def F21_hybrid(solution , shift_data = shift_data, matrix = matrix_F21 , shuffle = shuffle):\n",
        "      problem_size = len(solution)\n",
        "      p = np.array([0.1, 0.2, 0.2, 0.2, 0.3])\n",
        "      n1 = int(np.ceil(p[0] * problem_size))\n",
        "      n2 = int(np.ceil(p[1] * problem_size))\n",
        "      n3 = int(np.ceil(p[2] * problem_size))\n",
        "      n4 = int(np.ceil(p[3] * problem_size))\n",
        "\n",
        "      shuffle = (shuffle[:problem_size] - np.ones(problem_size)).astype(int)\n",
        "\n",
        "      idx1 = shuffle[:n1]\n",
        "      idx2 = shuffle[n1:(n1 + n2)]\n",
        "      idx3 = shuffle[(n1 + n2):(n1 + n2 + n3)]\n",
        "      idx4 = shuffle[(n1+n2+n3):(n1+n2+n3+n4)]\n",
        "      idx5 = shuffle[n1+n2+n3+n4:]\n",
        "      mz = np.dot(solution - shift_data, matrix)\n",
        "      return f14_expanded_scaffer__(mz[idx1]) + f12_hgbat__(mz[idx2]) + f4_rosenbrock__(mz[idx3]) + \\\n",
        "            f9_modified_schwefel__(mz[idx4]) + f1_elliptic__(mz[idx5]) #+ bias\n",
        "\n",
        "\n",
        "  def F22_hybrid(solution , shift_data = shift_data, matrix = matrix_F22 , shuffle = shuffle):\n",
        "      problem_size = len(solution)\n",
        "      p = np.array([0.1, 0.2, 0.2, 0.2, 0.3])\n",
        "      n1 = int(np.ceil(p[0] * problem_size))\n",
        "      n2 = int(np.ceil(p[1] * problem_size))\n",
        "      n3 = int(np.ceil(p[2] * problem_size))\n",
        "      n4 = int(np.ceil(p[3] * problem_size))\n",
        "\n",
        "      idx1 = shuffle[:n1]\n",
        "      idx2 = shuffle[n1:(n1 + n2)]\n",
        "      idx3 = shuffle[(n1 + n2):(n1 + n2 + n3)]\n",
        "      idx4 = shuffle[(n1 + n2 + n3):(n1 + n2 + n3 + n4)]\n",
        "      idx5 = shuffle[n1 + n2 + n3 + n4:]\n",
        "      mz = np.dot(solution - shift_data, matrix)\n",
        "      return f10_katsuura__(mz[idx1]) + f11_happy_cat__(mz[idx2]) + f13_expanded_griewank__(mz[idx3]) + \\\n",
        "            f9_modified_schwefel__(mz[idx4]) + f5_ackley__(mz[idx5]) #+ \n",
        "\n",
        "  def F30(solution , shift_data= shift_data , matrix=matrix,shuffle=shuffle):\n",
        "      num_funcs = 3\n",
        "      problem_size = len(solution)\n",
        "      xichma = np.array([10, 30, 50])\n",
        "      lamda = np.array([1, 1, 1])\n",
        "      bias = np.array([0, 100, 200])\n",
        "\n",
        "      def __fi__(solution=None, idx=None):\n",
        "          if idx == 0:\n",
        "              return F20_hybrid(solution)\n",
        "          elif idx == 1:\n",
        "              return F21_hybrid(solution)\n",
        "          else:\n",
        "              return F22_hybrid(solution)\n",
        "\n",
        "      weights = np.ones(num_funcs)\n",
        "      fits = np.ones(num_funcs)\n",
        "      for i in range(0, num_funcs):\n",
        "          t1 = lamda[i] * __fi__(solution, i) + bias[i]\n",
        "          t2 = 1.0 / np.sqrt(sum((solution - shift_data[i]) ** 2))\n",
        "          w_i = t2 * np.exp(-sum((solution - shift_data[i]) ** 2) / (2 * problem_size * xichma[i] ** 2))\n",
        "          weights[i] = w_i\n",
        "          fits[i] = t1\n",
        "      sw = sum(weights)\n",
        "      result = 0.0\n",
        "      for i in range(0, num_funcs):\n",
        "          result += (weights[i] / sw) * fits[i]\n",
        "      return result #+ f_bias\n",
        "\n",
        "  Function = F30 "
      ],
      "metadata": {
        "id": "DEUr4sgUelxf"
      },
      "execution_count": 16,
      "outputs": []
    },
    {
      "cell_type": "code",
      "source": [
        "!git clone https://github.com/ucfilho/Raianars_paper_One #clonar do Github\n",
        "%cd Raianars_paper_One"
      ],
      "metadata": {
        "id": "9Vsz9VQRrLVf",
        "colab": {
          "base_uri": "https://localhost:8080/"
        },
        "outputId": "1fb24af0-a5d8-4ca4-8f06-d559f12d8fee"
      },
      "execution_count": 17,
      "outputs": [
        {
          "output_type": "stream",
          "name": "stdout",
          "text": [
            "Cloning into 'Raianars_paper_One'...\n",
            "remote: Enumerating objects: 277, done.\u001b[K\n",
            "remote: Counting objects: 100% (148/148), done.\u001b[K\n",
            "remote: Compressing objects: 100% (65/65), done.\u001b[K\n",
            "remote: Total 277 (delta 83), reused 142 (delta 82), pack-reused 129\u001b[K\n",
            "Receiving objects: 100% (277/277), 667.30 KiB | 4.20 MiB/s, done.\n",
            "Resolving deltas: 100% (155/155), done.\n",
            "/content/optim_raianars_Insight/Raianars_paper_One/optim_raianars_Insight/Raianars_Routines/functions_cec2014_data/Raianars_paper_One\n"
          ]
        }
      ]
    },
    {
      "cell_type": "code",
      "source": [
        "MAX=np.repeat(100,dim)\n",
        "MIN=np.repeat(-100,dim)\n",
        "\n",
        "bounds=[]\n",
        "for k in range(len(MAX)):\n",
        "  bounds.append((MIN[k],MAX[k]))"
      ],
      "metadata": {
        "id": "ukk5Twiiq0MN"
      },
      "execution_count": 18,
      "outputs": []
    },
    {
      "cell_type": "code",
      "metadata": {
        "id": "qTINtQ1cosZK",
        "colab": {
          "base_uri": "https://localhost:8080/"
        },
        "outputId": "d119aed9-5892-4dbf-c7cc-eb2a3fee7cc0"
      },
      "source": [
        "!git clone https://github.com/ucfilho/ANN_read_matrix #clonar do Github\n",
        "%cd ANN_read_matrix"
      ],
      "execution_count": 19,
      "outputs": [
        {
          "output_type": "stream",
          "name": "stdout",
          "text": [
            "Cloning into 'ANN_read_matrix'...\n",
            "remote: Enumerating objects: 20, done.\u001b[K\n",
            "remote: Total 20 (delta 0), reused 0 (delta 0), pack-reused 20\u001b[K\n",
            "Unpacking objects: 100% (20/20), done.\n",
            "/content/optim_raianars_Insight/Raianars_paper_One/optim_raianars_Insight/Raianars_Routines/functions_cec2014_data/Raianars_paper_One/ANN_read_matrix\n"
          ]
        }
      ]
    },
    {
      "cell_type": "code",
      "metadata": {
        "id": "QiQLYOoNoyCw"
      },
      "source": [
        "ANN_F=pd.read_csv('ANN_INSIGHT_Valor_F.csv')"
      ],
      "execution_count": 20,
      "outputs": []
    },
    {
      "cell_type": "code",
      "metadata": {
        "id": "uHtW2amaDzFv"
      },
      "source": [
        "ANN_CR=pd.read_csv('ANN_INSIGHT_CR.csv')"
      ],
      "execution_count": 21,
      "outputs": []
    },
    {
      "cell_type": "code",
      "metadata": {
        "id": "EH6h_vke2yu1"
      },
      "source": [
        "syn0_F,syn1_F,X_max_F,X_min_F=Go2Ann.GetMatriz(ANN_F)"
      ],
      "execution_count": 22,
      "outputs": []
    },
    {
      "cell_type": "code",
      "metadata": {
        "id": "WW_3ZWJXD60i"
      },
      "source": [
        "syn0_CR,syn1_CR,X_max_CR,X_min_CR=Go2Ann.GetMatriz(ANN_CR)"
      ],
      "execution_count": 23,
      "outputs": []
    },
    {
      "cell_type": "code",
      "metadata": {
        "id": "b4gwBvVTyaXh"
      },
      "source": [
        "ANN_CR=pd.read_csv('ANN_INSIGHT_CR.csv')"
      ],
      "execution_count": 24,
      "outputs": []
    },
    {
      "cell_type": "code",
      "metadata": {
        "id": "6jL8MxpHvk-Y"
      },
      "source": [
        "fields = ['DI RELATIVO','FRAC Its','Fo','CRo']"
      ],
      "execution_count": 25,
      "outputs": []
    },
    {
      "cell_type": "code",
      "source": [
        "\n",
        "\n"
      ],
      "metadata": {
        "id": "DH-dxtOwRNTr"
      },
      "execution_count": 25,
      "outputs": []
    },
    {
      "cell_type": "code",
      "metadata": {
        "id": "Mb3LmbSmj9v7",
        "colab": {
          "base_uri": "https://localhost:8080/"
        },
        "outputId": "16155654-0200-4767-a48a-6afeefd3b1dc"
      },
      "source": [
        "##################################### \n",
        "\n",
        "TOTAL=10*dim*its*ITE\n",
        "TOTAL=int(TOTAL/2)   # CONFERIR SE ESTE EH O MELHOR LUGAR\n",
        "\n",
        "#dimensions=len(MAX)\n",
        "dimensions=dim\n",
        "start_time = time.time() #INICIALIZA CONTAGEM DO TEMPO\n",
        "\n",
        "\n",
        "PAR=dim\n",
        "Fun = Function\n",
        "fobj=Fun\n",
        "\n",
        "MAX_P=np.zeros(ITE) # ATENCAO para variar F e Cr MAX_P passa a ser 3 vezes maior\n",
        "MIN_P=np.zeros(ITE) # ATENCAO para variar F e Cr MIN_P passa a ser 3 vezes maior\n",
        "\n",
        "for i in range(dim):\n",
        "  MAX_P[i]=MAX[i] \n",
        "  MIN_P[i]=MIN[i]\n",
        "\n",
        "rodadas=1\n",
        "NPAR1=int(fator*NPAR);\n",
        "NPAR2=int((NPAR-NPAR1)/3);\n",
        "NPAR3=int((NPAR-NPAR1)/3);\n",
        "NPAR4=int((NPAR-NPAR1)/3);\n",
        "NPAR1 = NPAR-3*NPAR2\n",
        "print('frac=',fator);\n",
        "print('Npar1=',NPAR1);\n",
        "print('Npar2=',NPAR2);\n",
        "print('Npar3=',NPAR3);\n",
        "print('Npar4=',NPAR4);\n",
        "print('Npar=',NPAR)\n",
        "\n",
        "cols=dim\n",
        "\n",
        "X1=np.zeros((NPAR1,cols)) # X1 is Frannk population\n",
        "for i in range(NPAR1):\n",
        "  for j in range(cols):\n",
        "    r=np.random.random()\n",
        "    X1[i,j]=r*(MAX[j]-MIN[j])+MIN[j]\n",
        "    \n",
        "X2=np.zeros((NPAR2,cols)) # X2 is population DE (default DE)\n",
        "for i in range(NPAR2):\n",
        "  for j in range(cols):\n",
        "    r=np.random.random()\n",
        "    X2[i,j]=r*(MAX[j]-MIN[j])+MIN[j]\n",
        "\n",
        "X3=np.zeros((NPAR3,cols)) # X1 is Frannk population\n",
        "for i in range(NPAR3):\n",
        "  for j in range(cols):\n",
        "    r=np.random.random()\n",
        "    X3[i,j]=r*(MAX[j]-MIN[j])+MIN[j]\n",
        "    \n",
        "X4=np.zeros((NPAR4,cols)) # X2 is population DE (default DE)\n",
        "for i in range(NPAR4):\n",
        "  for j in range(cols):\n",
        "    r=np.random.random()\n",
        "    X4[i,j]=r*(MAX[j]-MIN[j])+MIN[j]\n",
        "    \n",
        " ############################################################\n",
        "  #bounds=[(5*dim, 15*dim)] * PONTOS # ITE\n",
        "  #bounds=[(3*dim, 12*dim)] * PONTOS # ITE\n",
        "  #bounds=[(4*dim, 16*dim)] * PONTOS\n",
        "  \n",
        "  # nao pode ser assim pq o bounds vale p o DE nao dos parametros\n",
        "  #p=int(TOTAL/its/ITE) \n",
        "  #bounds=[(p, p)] * PONTOS\n"
      ],
      "execution_count": 26,
      "outputs": [
        {
          "output_type": "stream",
          "name": "stdout",
          "text": [
            "frac= 1.0\n",
            "Npar1= 100\n",
            "Npar2= 0\n",
            "Npar3= 0\n",
            "Npar4= 0\n",
            "Npar= 100\n"
          ]
        }
      ]
    },
    {
      "cell_type": "code",
      "source": [
        ""
      ],
      "metadata": {
        "id": "m8ARjtg5SC03"
      },
      "execution_count": 26,
      "outputs": []
    },
    {
      "cell_type": "code",
      "source": [
        ""
      ],
      "metadata": {
        "id": "T0AQuhq5SC_J"
      },
      "execution_count": 26,
      "outputs": []
    },
    {
      "cell_type": "code",
      "source": [
        ""
      ],
      "metadata": {
        "id": "_78KDd8sSDCq"
      },
      "execution_count": 26,
      "outputs": []
    },
    {
      "cell_type": "code",
      "source": [
        ""
      ],
      "metadata": {
        "id": "A1EeujCmSDGI"
      },
      "execution_count": 26,
      "outputs": []
    },
    {
      "cell_type": "code",
      "source": [
        ""
      ],
      "metadata": {
        "id": "FfpUBtCnSDLA"
      },
      "execution_count": 26,
      "outputs": []
    },
    {
      "cell_type": "code",
      "metadata": {
        "id": "rnX8ttNopd1G",
        "colab": {
          "base_uri": "https://localhost:8080/"
        },
        "outputId": "f1ef4242-4a9e-4b7c-e036-4f36bdf1a53a"
      },
      "source": [
        "start_time = time.time()\n",
        "BEST_AGENTS=[]\n",
        "MAT_stat=[]\n",
        "for iii in range(RUNS):\n",
        "\n",
        "    FES = 0 ; gen = 0 \n",
        "    MAT=[] \n",
        "    mut=Fi\n",
        "    crossp=CRi\n",
        "    SOMA=0\n",
        "    #pop = np.random.rand(NPAR, dim)\n",
        "    #diff=np.zeros(PAR)\n",
        "\n",
        "    NPAR = maxNP\n",
        "    # fator = 1.0\n",
        "    NPAR1=int(fator*NPAR);\n",
        "\n",
        "\n",
        "    X1=np.zeros((NPAR1,cols)) # X1 is Frannk population\n",
        "    for i in range(NPAR1):\n",
        "      for j in range(cols):\n",
        "        r=np.random.random()\n",
        "        X1[i,j]=r*(MAX[j]-MIN[j])+MIN[j]\n",
        "    '''    \n",
        "    X2=np.zeros((NPAR2,cols)) # X2 is population DE (default DE)\n",
        "    for i in range(NPAR2):\n",
        "      for j in range(cols):\n",
        "        r=np.random.random()\n",
        "        X2[i,j]=r*(MAX[j]-MIN[j])+MIN[j]\n",
        "\n",
        "    X3=np.zeros((NPAR3,cols)) # X2 is population DE (default DE)\n",
        "    for i in range(NPAR3):\n",
        "      for j in range(cols):\n",
        "        r=np.random.random()\n",
        "        X3[i,j]=r*(MAX[j]-MIN[j])+MIN[j]\n",
        "\n",
        "    X4=np.zeros((NPAR4,cols)) # X2 is population DE (default DE)\n",
        "    for i in range(NPAR4):\n",
        "      for j in range(cols):\n",
        "        r=np.random.random()\n",
        "        X4[i,j]=r*(MAX[j]-MIN[j])+MIN[j]\n",
        "    '''\n",
        "    fit1 = np.asarray([fobj(ind) for ind in X1])\n",
        "    best_idx = np.argmin(fit1)\n",
        "    best = X1[best_idx]\n",
        "    fbest = fit1[best_idx] \n",
        "\n",
        "    '''\n",
        "    fit2 = np.asarray([fobj(ind) for ind in X2])\n",
        "    fit3 = np.asarray([fobj(ind) for ind in X3])\n",
        "    fit4 = np.asarray([fobj(ind) for ind in X4])\n",
        "    FES = FES + NPAR1 + NPAR2 + NPAR3+ NPAR4\n",
        "    '''\n",
        "    FES = FES + NPAR1\n",
        "    fit_best =[]\n",
        "    DIo=1e99\n",
        "  \n",
        "    CRo=crossp;Fo=mut;\n",
        "    #Fitness = np.asarray([Fun(ind, shift_data , matrix, shuffle) for ind in X1])\n",
        "    XY,BEST_XY,BESTo,FOBESTo=AvaliaX(X1,fit1 )\n",
        "    nrow,ncol=X1.shape\n",
        "    FES = FES + nrow\n",
        "\n",
        "    QUANT=17;MAT_INDo=np.zeros((1,QUANT)); # quantos indices esta fazendo\n",
        "    MAT_INDo[0,5]=nrow  # VALOR NP\n",
        "    MAT_INDo[0,6]=Fo    # VALOR Fo   \n",
        "    MAT_INDo[0,7]=CRo   # VALOR CRo\n",
        "\n",
        "    Fuma = Fun  # Fuma era Fun\n",
        "\n",
        "    Fitness1 = np.asarray([Fun(ind) for ind in X1])\n",
        "\n",
        "      \n",
        "    MAT_IND=GeraIndices(eqFRANNK,X1,Fitness1,MAT_INDo,setANN,BESTo,FOBESTo,DIo,SOMA,TOTAL,syn0_F,\n",
        "                        syn1_F,X_max_F,X_min_F,syn0_CR,syn1_CR,X_max_CR,\n",
        "                        X_min_CR,fields,Fun)\n",
        "  \n",
        "    DIo=np.copy(MAT_INDo[0,0])\n",
        "    MAT_INDo[0,15]=Fo    # VALOR Fo   \n",
        "    MAT_INDo[0,16]=CRo   # VALOR CRo\n",
        "\n",
        "    # Just to intialize variables:\n",
        "    FESr = 0\n",
        "    FOBEST1 = 1E99;FOBEST2 = 1E99;FOBEST3 = 1E99;FOBEST4 = 1E99\n",
        "    #BEST1,BEST2,BEST3,BEST4  =  np.copy(X1[0,:]),np.copy(X2[0,:]),np.copy(X3[0,:]), np.copy(X4[0,:]) \n",
        "    BEST1  =  np.copy(X1[0,:])\n",
        "    popsize = NPAR\n",
        "    FUNCTION = []\n",
        " \n",
        "    MF=[]; MCR=[];\n",
        "    for i in range(H):\n",
        "      MCR.append(MCRi);MF.append(MFi) # line 3\n",
        " \n",
        "    Narquive = popsize\n",
        "    setTUNE =[SF,SCR,MF,MCR,p, terminal, Narquive,H,kH]\n",
        "    while(FESr == 0 ):\n",
        "\n",
        "      #print('FES',FES)\n",
        "\n",
        "      gen = gen +1\n",
        "      ##=cool=#####################################################################################\n",
        "      '''\n",
        "      fback,Xback,BESTback,FOBESTback,FESback= np.copy(fit2),np.copy(X2),BEST2,FOBEST2,FES\n",
        "      fit2,X2,BEST2,FOBEST2,XY2,BEST_XY2,FES=classicDE_FES_new.de(bounds, mut2, crossp2,NPAR2, its,fobj,fit2,X2,FES) # de_bounds_matriz\n",
        "      if(FES > maxFES):\n",
        "        FESr = FES \n",
        "        fit2,X2,BEST2,FOBEST2,FES = np.copy(fback),np.copy(Xback),BESTback,FOBESTback,FESback\n",
        "      \n",
        "      fback,Xback,BESTback,FOBESTback,FESback= np.copy(fit3),np.copy(X3),BEST3,FOBEST3,FES\n",
        "      fit3,X3,BEST3,FOBEST3,XY3,BEST_XY3,FES=classicDE_FES_new.de(bounds, mut3, crossp3,NPAR3, its,fobj,fit3,X3,FES) #de_bounds_matriz\n",
        "      if(FES > maxFES): \n",
        "        FESr = FES\n",
        "        fit3,X3,BEST3,FOBEST3,FES = np.copy(fback),np.copy(Xback),BESTback,FOBESTback,FESback\n",
        "\n",
        "      fback,Xback,BESTback,FOBESTback,FESback= np.copy(fit4),np.copy(X4),BEST4,FOBEST4,FES\n",
        "      fit4,X4,BEST4,FOBEST4,XY4,BEST_XY4,FES=classicDE_FES_new.de(bounds, mut4, crossp4,NPAR4, its,fobj,fit4,X4,FES) # de_bounds_matriz\n",
        "      if(FES > maxFES): \n",
        "        FESr = FES\n",
        "        fit4,X4,BEST4,FOBEST4,FES = np.copy(fback),np.copy(Xback),BESTback,FOBESTback,FESback\n",
        "      '''\n",
        "      \n",
        "      \n",
        "\n",
        "      \n",
        "\n",
        "      fback,Xback,BESTback,FOBESTback,FESback= np.copy(fit1),np.copy(X1),BEST1,FOBEST1,FES\n",
        "      Xarqback = Xarq\n",
        "      #fit1,X1,BEST1,FOBEST1,XY,BEST_XY,FES = annDE_FES_new.de(MAX,MIN, mut, crossp, NPAR1, its,fobj,fit1,X1,FES)\n",
        "      #fit1,X1,BEST1,FOBEST1,XY,BEST_XY,FES,Xarq,setTUNE= LShade_new.LShade(MAX,MIN, popsize,fobj,setTUNE,best,fbest,fit1,X1,Xarq,FES)\n",
        "      #fback,Xback,BESTback,FOBESTback,FESback= np.copy(fit1),np.copy(X1),BEST1,FOBEST1,FES\n",
        "      fit1,X1,BEST1,FOBEST1,XY,BEST_XY,FES = annDE_FES_new.de(MAX,MIN, mut, crossp, NPAR1, its,fobj,fit1,X1,FES)\n",
        "      if(FES > maxFES):\n",
        "        FESr = FES \n",
        "        fit1,X1,BEST1,FOBEST1,FES = np.copy(fback),np.copy(Xback),BESTback,FOBESTback,FESback\n",
        "      if(FES > maxFES):\n",
        "        FESr = FES \n",
        "        fit1,X1,BEST1,FOBEST1,FES = np.copy(fback),np.copy(Xback),BESTback,FOBESTback,FESback\n",
        "        #Xarq = np.copy(Xarqback)\n",
        "        Xarq = Xarqback\n",
        "\n",
        "      calc = (minNP-maxNP)/maxFES*FES+maxNP # Linear Population Size Reduction (LPSR)\n",
        "      calc = int(np.round(calc)) # Linear Population Size Reduction (LPSR)\n",
        "\n",
        "      Fitness1 = np.asarray([Fun(ind) for ind in X1])\n",
        "\n",
        "      MAT_IND=GeraIndices(eqFRANNK,X1,Fitness1,MAT_INDo,setANN,BESTo,FOBESTo,DIo,SOMA,TOTAL,syn0_F,\n",
        "                          syn1_F,X_max_F,X_min_F,syn0_CR,syn1_CR,X_max_CR,\n",
        "                          X_min_CR,fields,Fun)\n",
        "\n",
        "      BEST =BEST1; FOBEST = FOBEST1\n",
        "      BESTo=np.copy(BEST1);FOBESTo=np.copy(FOBEST);\n",
        "      MAT.append(MAT_IND.ravel())\n",
        "    \n",
        "      MAT_INDo[0,6]=MAT_IND[0,15]   # VALOR Fo   \n",
        "      MAT_INDo[0,7]=MAT_IND[0,16]   # VALOR CRo\n",
        "      mut=MAT_IND[0,15]\n",
        "      crossp=MAT_IND[0,16]\n",
        "      NPAR = calc\n",
        "      NPAR1=int(fator*NPAR);\n",
        "      NPAR2=int((NPAR-NPAR1)/3);\n",
        "      NPAR3=int((NPAR-NPAR1)/3);\n",
        "      NPAR4=int((NPAR-NPAR1)/3);\n",
        "      NPAR1 = NPAR-3*NPAR2\n",
        "\n",
        "      if(NPAR1 > len(X1[:,0])):\n",
        "        NPAR1 = len(X1[:,0])\n",
        "\n",
        "      \n",
        "      X1 = X1[:NPAR1,:];\n",
        "      #if(len(Xarq)>0) : Xarq = Xarq[:NPAR1,:]\n",
        "      if(len(Xarq)>0) : Xarq = Xarq[:NPAR1]\n",
        "      # X2 = X2[:NPAR2,:]; X3 = X3[:NPAR3,:]; X4 = X4[:NPAR4,:];\n",
        "      fit1 = fit1[:NPAR1];# fit2 = fit2[:NPAR2]; fit3 = fit3[:NPAR3]; fit4 = fit4[:NPAR4];\n",
        "      popsize = NPAR1\n",
        "      Narquive = popsize\n",
        "      NP = popsize\n",
        "\n",
        "    #setTUNE= [SF,SCR,MF,MCR,p, terminal, Narquive]\n",
        "    setTUNE =[SF,SCR,MF,MCR,p, terminal, Narquive,H,kH]\n",
        "    print('run=',iii,'gen=',gen,'time=',(time.time()-start_time)/60, 'eval FES=', FES,'FO=',FOBEST1)  \n",
        "    BEST_AGENTS.append(BEST_XY)\n",
        "    MAT_stat.append(MAT)"
      ],
      "execution_count": 27,
      "outputs": [
        {
          "output_type": "stream",
          "name": "stderr",
          "text": [
            "/content/optim_raianars_Insight/Raianars_paper_One/optim_raianars_Insight/GeraIndicesFUNC.py:54: RuntimeWarning: divide by zero encountered in double_scalars\n",
            "  DIr=DI/DIo\n"
          ]
        },
        {
          "output_type": "stream",
          "name": "stdout",
          "text": [
            "run= 0 gen= 6146 time= 4.446557358900706 eval FES= 300000 FO= 28825.899518078764\n",
            "run= 1 gen= 6146 time= 8.57966469526291 eval FES= 300000 FO= 14748.582157635985\n",
            "run= 2 gen= 6146 time= 12.690649151802063 eval FES= 300000 FO= 20670.359501817282\n",
            "run= 3 gen= 6146 time= 16.82387766043345 eval FES= 300000 FO= 4871.8545381873455\n",
            "run= 4 gen= 6146 time= 20.925227789084115 eval FES= 300000 FO= 4986.583409173594\n",
            "run= 5 gen= 6146 time= 25.041419088840485 eval FES= 300000 FO= 25316.62363013873\n",
            "run= 6 gen= 6146 time= 29.146583179632824 eval FES= 300000 FO= 19393.504899859716\n",
            "run= 7 gen= 6146 time= 33.25501327912013 eval FES= 300000 FO= 19624.00904520221\n",
            "run= 8 gen= 6146 time= 37.34652270873388 eval FES= 300000 FO= 3929.2113047436615\n",
            "run= 9 gen= 6146 time= 41.458498215675355 eval FES= 300000 FO= 36613.65825078999\n",
            "run= 10 gen= 6146 time= 45.5800016283989 eval FES= 300000 FO= 34876.28366143962\n",
            "run= 11 gen= 6146 time= 49.69538166125616 eval FES= 300000 FO= 46163.30486748171\n",
            "run= 12 gen= 6146 time= 53.78251466353734 eval FES= 300000 FO= 40124.31497525709\n",
            "run= 13 gen= 6146 time= 57.86941831509272 eval FES= 300000 FO= 12206.654138809632\n",
            "run= 14 gen= 6146 time= 61.98888301054637 eval FES= 300000 FO= 20825.72531158308\n",
            "run= 15 gen= 6146 time= 66.10078497330348 eval FES= 300000 FO= 12083.82196137519\n",
            "run= 16 gen= 6146 time= 70.19590628941855 eval FES= 300000 FO= 30959.476518295098\n",
            "run= 17 gen= 6146 time= 74.29293330907822 eval FES= 300000 FO= 24582.616787358686\n",
            "run= 18 gen= 6146 time= 78.42749694983165 eval FES= 300000 FO= 8112.491164565915\n",
            "run= 19 gen= 6146 time= 82.52126930157344 eval FES= 300000 FO= 15546.063529774652\n",
            "run= 20 gen= 6146 time= 86.63155500888824 eval FES= 300000 FO= 17221.225802974695\n",
            "run= 21 gen= 6146 time= 90.75506173372268 eval FES= 300000 FO= 24248.107472475556\n",
            "run= 22 gen= 6146 time= 94.86894156932831 eval FES= 300000 FO= 30568.640455916113\n",
            "run= 23 gen= 6146 time= 98.98045399983724 eval FES= 300000 FO= 10884.581025651674\n",
            "run= 24 gen= 6146 time= 103.08584041595459 eval FES= 300000 FO= 23933.74361300248\n",
            "run= 25 gen= 6146 time= 107.20022732019424 eval FES= 300000 FO= 30208.093332823366\n",
            "run= 26 gen= 6146 time= 111.52962893247604 eval FES= 300000 FO= 27801.32752881018\n",
            "run= 27 gen= 6146 time= 115.6499370733897 eval FES= 300000 FO= 19405.562680126397\n",
            "run= 28 gen= 6146 time= 119.75697871049245 eval FES= 300000 FO= 15035.638093304806\n",
            "run= 29 gen= 6146 time= 123.87593906323114 eval FES= 300000 FO= 36400.52701119758\n",
            "run= 30 gen= 6146 time= 127.99021402994792 eval FES= 300000 FO= 31884.48231459152\n",
            "run= 31 gen= 6146 time= 132.09446332852045 eval FES= 300000 FO= 14368.478947603804\n",
            "run= 32 gen= 6146 time= 136.21466146707536 eval FES= 300000 FO= 46575.96701545677\n",
            "run= 33 gen= 6146 time= 140.3371855020523 eval FES= 300000 FO= 19151.24073652068\n",
            "run= 34 gen= 6146 time= 144.43915576140085 eval FES= 300000 FO= 23528.385633243193\n",
            "run= 35 gen= 6146 time= 148.5395561416944 eval FES= 300000 FO= 33418.62741870424\n",
            "run= 36 gen= 6146 time= 152.62232229709625 eval FES= 300000 FO= 11646.941724794917\n",
            "run= 37 gen= 6146 time= 156.72744541962942 eval FES= 300000 FO= 27905.263843024288\n",
            "run= 38 gen= 6146 time= 160.82197828690212 eval FES= 300000 FO= 29274.297916733267\n",
            "run= 39 gen= 6146 time= 164.93913762172062 eval FES= 300000 FO= 46131.73607513032\n",
            "run= 40 gen= 6146 time= 169.0337511618932 eval FES= 300000 FO= 29137.949542619794\n",
            "run= 41 gen= 6146 time= 173.11492232084274 eval FES= 300000 FO= 22012.53557341034\n",
            "run= 42 gen= 6146 time= 177.20745832125345 eval FES= 300000 FO= 24174.848272394967\n",
            "run= 43 gen= 6146 time= 181.30759086211523 eval FES= 300000 FO= 37870.05995085963\n",
            "run= 44 gen= 6146 time= 185.41810077826182 eval FES= 300000 FO= 43423.00653740295\n",
            "run= 45 gen= 6146 time= 189.49285078048706 eval FES= 300000 FO= 28322.44276018875\n",
            "run= 46 gen= 6146 time= 193.58520469268163 eval FES= 300000 FO= 8249.787897037846\n",
            "run= 47 gen= 6146 time= 197.67108450333276 eval FES= 300000 FO= 18829.98296475185\n",
            "run= 48 gen= 6146 time= 201.76861991087597 eval FES= 300000 FO= 14485.839172088343\n",
            "run= 49 gen= 6146 time= 205.8768596291542 eval FES= 300000 FO= 40663.88782955805\n"
          ]
        }
      ]
    },
    {
      "cell_type": "code",
      "source": [
        "print(MAT_IND)"
      ],
      "metadata": {
        "id": "qzcZU2hSF9vp",
        "colab": {
          "base_uri": "https://localhost:8080/"
        },
        "outputId": "3e257b74-ad40-428c-d513-680e924e0910"
      },
      "execution_count": 28,
      "outputs": [
        {
          "output_type": "stream",
          "name": "stdout",
          "text": [
            "[[1.11049357e+02            inf 0.00000000e+00 0.00000000e+00\n",
            "  0.00000000e+00 5.00000000e+00 9.50000000e-01 6.80966131e-52\n",
            "  4.06638878e+04 1.70679233e+05 1.00000000e+00 1.00000000e+00\n",
            "  0.00000000e+00 0.00000000e+00 7.61752574e-01 9.50000000e-01\n",
            "  6.68198016e-52]]\n"
          ]
        }
      ]
    },
    {
      "cell_type": "code",
      "source": [
        "MAT_INDo"
      ],
      "metadata": {
        "id": "7ljo3aKgfD7B",
        "colab": {
          "base_uri": "https://localhost:8080/"
        },
        "outputId": "61e2bff0-4497-4c5b-fecb-e16189727485"
      },
      "execution_count": 32,
      "outputs": [
        {
          "output_type": "execute_result",
          "data": {
            "text/plain": [
              "array([[0.00000000e+00, 0.00000000e+00, 0.00000000e+00, 0.00000000e+00,\n",
              "        0.00000000e+00, 1.80000000e+02, 9.50000000e-01, 6.68198016e-52,\n",
              "        0.00000000e+00, 0.00000000e+00, 0.00000000e+00, 0.00000000e+00,\n",
              "        0.00000000e+00, 0.00000000e+00, 0.00000000e+00, 5.00000000e-01,\n",
              "        5.00000000e-01]])"
            ]
          },
          "metadata": {},
          "execution_count": 32
        }
      ]
    },
    {
      "cell_type": "code",
      "source": [
        "MAT_INDo"
      ],
      "metadata": {
        "id": "3S1V8yR2z_Gb",
        "colab": {
          "base_uri": "https://localhost:8080/"
        },
        "outputId": "c388ed94-bc81-4f31-d36f-8fb5282cee42"
      },
      "execution_count": 33,
      "outputs": [
        {
          "output_type": "execute_result",
          "data": {
            "text/plain": [
              "array([[0.00000000e+00, 0.00000000e+00, 0.00000000e+00, 0.00000000e+00,\n",
              "        0.00000000e+00, 1.80000000e+02, 9.50000000e-01, 6.68198016e-52,\n",
              "        0.00000000e+00, 0.00000000e+00, 0.00000000e+00, 0.00000000e+00,\n",
              "        0.00000000e+00, 0.00000000e+00, 0.00000000e+00, 5.00000000e-01,\n",
              "        5.00000000e-01]])"
            ]
          },
          "metadata": {},
          "execution_count": 33
        }
      ]
    },
    {
      "cell_type": "code",
      "metadata": {
        "id": "TLEE0UrZSvJF",
        "colab": {
          "base_uri": "https://localhost:8080/"
        },
        "outputId": "529cad5f-b9bb-4520-c83d-6e7740ce9e70"
      },
      "source": [
        "#len(X2[1,:])\n",
        "print(cols)"
      ],
      "execution_count": 34,
      "outputs": [
        {
          "output_type": "stream",
          "name": "stdout",
          "text": [
            "30\n"
          ]
        }
      ]
    },
    {
      "cell_type": "code",
      "source": [
        "BEST_AGENTS=np.array(BEST_AGENTS)"
      ],
      "metadata": {
        "id": "scZnrGN1uoW3"
      },
      "execution_count": 35,
      "outputs": []
    },
    {
      "cell_type": "code",
      "metadata": {
        "id": "k3p9TGsx1OCu"
      },
      "source": [
        "NOMES=['DIVERSIDADE (DI)',  'DI RELATIVO','FRAC Its',\n",
        "           'VELOC FOBJ','VELOC X','NP','Fo','CRo','fmin','fmax',\n",
        "           'AD_fmin','AD_fmax','DELTA FOBJ','DELTA VX','r_fitness',\n",
        "           'F','CR']\n",
        "# BEST_INDEX= BEST_AGENTS[BEST_AGENTS[:,-1].argmin()]  \n",
        "BEST_INDEX = np.argmin(BEST_AGENTS[:,-1])\n",
        "df=pd.DataFrame(MAT_stat[BEST_INDEX], columns=NOMES)\n",
        "\n"
      ],
      "execution_count": 36,
      "outputs": []
    },
    {
      "cell_type": "code",
      "source": [
        "freq_x = []\n",
        "for i in range(len(df['CR'])):\n",
        "  freq_x.append((i+1)/len(df['CR']))\n",
        "\n",
        "df['FRAC Its'] = freq_x"
      ],
      "metadata": {
        "id": "mEyviQjZa9Ow"
      },
      "execution_count": 37,
      "outputs": []
    },
    {
      "cell_type": "code",
      "source": [
        "plt.plot(df['FRAC Its'],df['CR'])\n",
        "plt.xlabel('Iteração/Total')\n",
        "plt.ylabel('CR')"
      ],
      "metadata": {
        "id": "10LZFH-GWTtw",
        "colab": {
          "base_uri": "https://localhost:8080/",
          "height": 299
        },
        "outputId": "816cbfe4-7870-4433-ffc3-061cf411d97e"
      },
      "execution_count": 38,
      "outputs": [
        {
          "output_type": "execute_result",
          "data": {
            "text/plain": [
              "Text(0, 0.5, 'CR')"
            ]
          },
          "metadata": {},
          "execution_count": 38
        },
        {
          "output_type": "display_data",
          "data": {
            "text/plain": [
              "<Figure size 432x288 with 1 Axes>"
            ],
            "image/png": "[encoded data removed]"
          },
          "metadata": {
            "needs_background": "light"
          }
        }
      ]
    },
    {
      "cell_type": "code",
      "source": [
        "df.columns"
      ],
      "metadata": {
        "id": "GRbE9nmJYre7",
        "colab": {
          "base_uri": "https://localhost:8080/"
        },
        "outputId": "0382dbcd-7c7a-4b05-fd6d-6e5a3ae659d8"
      },
      "execution_count": 39,
      "outputs": [
        {
          "output_type": "execute_result",
          "data": {
            "text/plain": [
              "Index(['DIVERSIDADE (DI)', 'DI RELATIVO', 'FRAC Its', 'VELOC FOBJ', 'VELOC X',\n",
              "       'NP', 'Fo', 'CRo', 'fmin', 'fmax', 'AD_fmin', 'AD_fmax', 'DELTA FOBJ',\n",
              "       'DELTA VX', 'r_fitness', 'F', 'CR'],\n",
              "      dtype='object')"
            ]
          },
          "metadata": {},
          "execution_count": 39
        }
      ]
    },
    {
      "cell_type": "code",
      "source": [
        "fig, ax = plt.subplots()\n",
        "ax.plot(df['FRAC Its'],df['F'],label='F')\n",
        "ax.set_xlabel('Iteração/Total')\n",
        "ax.set_ylabel('Parâmetros')\n",
        "ax.plot(df['FRAC Its'],df['CR'],'-r', label='CR')\n",
        "nome=Fun.__name__+'  M=Diversidade'+ '  D='+str(dim)\n",
        "ax.set_title(nome)\n",
        "leg = ax.legend()"
      ],
      "metadata": {
        "id": "Wi3BzX5eWUfV",
        "colab": {
          "base_uri": "https://localhost:8080/",
          "height": 295
        },
        "outputId": "0e00afb3-65e2-4c6a-b4a2-9b9eb73ca26f"
      },
      "execution_count": 40,
      "outputs": [
        {
          "output_type": "display_data",
          "data": {
            "text/plain": [
              "<Figure size 432x288 with 1 Axes>"
            ],
            "image/png": "[encoded data removed]"
          },
          "metadata": {
            "needs_background": "light"
          }
        }
      ]
    },
    {
      "cell_type": "code",
      "source": [
        "f, axarr = plt.subplots(2, sharex=True)\n",
        "axarr[0].plot(df['FRAC Its'],df['F'])\n",
        "axarr[0].set_ylabel('F')\n",
        "axarr[1].plot(df['FRAC Its'],df['CR'])\n",
        "axarr[1].set_ylabel('CR')\n",
        "axarr[1].set_xlabel('Iteração/Total')\n",
        "nome=Fun.__name__+'_Diversidade_'+ 'D='+str(dim)\n",
        "axarr[0].set_title(nome)"
      ],
      "metadata": {
        "id": "YhWJKnTKWYQ-",
        "colab": {
          "base_uri": "https://localhost:8080/",
          "height": 313
        },
        "outputId": "0d24c31a-64ce-4acb-b96f-d3d8d2c7de9e"
      },
      "execution_count": 41,
      "outputs": [
        {
          "output_type": "execute_result",
          "data": {
            "text/plain": [
              "Text(0.5, 1.0, 'F20_Diversidade_D=30')"
            ]
          },
          "metadata": {},
          "execution_count": 41
        },
        {
          "output_type": "display_data",
          "data": {
            "text/plain": [
              "<Figure size 432x288 with 2 Axes>"
            ],
            "image/png": "[encoded data removed]"
          },
          "metadata": {
            "needs_background": "light"
          }
        }
      ]
    },
    {
      "cell_type": "code",
      "source": [
        "TIME = (time.time() - start_time)/RUNS\n",
        "BEST_AGENTS=np.array(BEST_AGENTS)\n",
        "BEST_AGENTS_ST= BEST_AGENTS[BEST_AGENTS[:,-1].argsort()]\n",
        "BEST=BEST_AGENTS_ST[0]\n",
        "WORSE=BEST_AGENTS_ST[-1]\n",
        "MEAN=np.mean(BEST_AGENTS,axis=0)\n",
        "MAXFO=BEST_AGENTS[:,-1].max()\n",
        "MINFO=BEST_AGENTS[:,-1].min()\n",
        "STD=BEST_AGENTS[:,-1].std()    "
      ],
      "metadata": {
        "id": "CqGHCBBnw7jn"
      },
      "execution_count": 42,
      "outputs": []
    },
    {
      "cell_type": "code",
      "metadata": {
        "id": "lNSN5X-wskcx",
        "colab": {
          "base_uri": "https://localhost:8080/"
        },
        "outputId": "ba57a3a8-dae4-4653-ea7d-faf0bab195eb"
      },
      "source": [
        "nome='SUB'+'_Fo-'+str(Fi)+'_CRo-'+str(CRi)+'_D-'+str(dim)+'_Interv-'+str(ITE)\n",
        "print('MCS-FRANNK','Fator F/DE= %.2f' %(fator),'NPAR=',NPAR,'Iterações=',ITE*its,'Dim=', PAR,\"Min/Max=\",MIN[0],\"/\",MAX[0],'_',Fun.__name__)\n",
        "print(nome, '\\n')\n",
        "#print('BEST: ',BEST)\n",
        "#print('MÉDIA: ',MEAN)\n",
        "print('MÉDIA: ',MEAN[-1],'STD __:',STD)\n",
        "print('MIN __:',MINFO, 'MAX__: ',MAXFO)\n",
        "print(MEAN[-1])\n",
        "print(STD)\n",
        "print(MINFO)\n",
        "print(\"Tempo Médio= %.3f segundos ---\" % (TIME))\n",
        "print(RUNS,'Rodadas') \n",
        "print()\n",
        "print('BEST: ',BEST)\n",
        "# print('melhor=',BEST_AGENTS[BEST_INDEX])"
      ],
      "execution_count": 43,
      "outputs": [
        {
          "output_type": "stream",
          "name": "stdout",
          "text": [
            "MCS-FRANNK Fator F/DE= 1.00 NPAR= 5 Iterações= 1000 Dim= 30 Min/Max= -100 / 100 _ F20\n",
            "SUB_Fo-0.5_CRo-0.5_D-30_Interv-1000 \n",
            "\n",
            "MÉDIA:  24224.484966279324 STD __: 11203.420806145774\n",
            "MIN __: 3929.2113047436615 MAX__:  46575.96701545677\n",
            "24224.484966279324\n",
            "11203.420806145774\n",
            "3929.2113047436615\n",
            "Tempo Médio= 421.513 segundos ---\n",
            "50 Rodadas\n",
            "\n",
            "BEST:  [-4.89651774e+01 -1.27426565e+01 -2.54169110e+01 -1.34147508e+01\n",
            " -5.50027577e+01  5.06973509e+01  1.86136604e+01  3.82164603e+01\n",
            "  4.81165501e+01 -6.90821451e+01  7.18184427e+01 -8.90858436e-01\n",
            "  4.12850639e+01  3.97926653e+01  4.48344902e+01 -5.39616682e+01\n",
            " -6.47240777e+00  1.89748114e+01  6.15099993e+01  4.44550871e+01\n",
            "  7.88139654e+01  1.26035963e+01  1.38129183e+01  5.64868893e+01\n",
            " -7.31159097e+01  6.23241416e+01 -1.44196492e+01 -7.36890958e+01\n",
            "  3.94964663e+01 -6.46429453e+01  3.92921130e+03]\n"
          ]
        }
      ]
    },
    {
      "cell_type": "code",
      "source": [
        "len(Xarq)"
      ],
      "metadata": {
        "id": "uX1gnDDVPlWX"
      },
      "execution_count": null,
      "outputs": []
    },
    {
      "cell_type": "code",
      "source": [
        "setANN"
      ],
      "metadata": {
        "id": "brB1tYZDYEUU"
      },
      "execution_count": null,
      "outputs": []
    },
    {
      "cell_type": "code",
      "source": [
        "len(MF)"
      ],
      "metadata": {
        "id": "zRJhumJbYQv_"
      },
      "execution_count": null,
      "outputs": []
    }
  ]
}
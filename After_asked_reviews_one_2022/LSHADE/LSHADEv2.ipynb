{
  "nbformat": 4,
  "nbformat_minor": 0,
  "metadata": {
    "colab": {
      "name": "LSHADEv2.ipynb",
      "provenance": [],
      "authorship_tag": "ABX9TyMfNTm/qoyq+QKTkLaxiZl+",
      "include_colab_link": true
    },
    "kernelspec": {
      "name": "python3",
      "display_name": "Python 3"
    },
    "language_info": {
      "name": "python"
    }
  },
  "cells": [
    {
      "cell_type": "markdown",
      "metadata": {
        "id": "view-in-github",
        "colab_type": "text"
      },
      "source": [
        "<a href=\"https://colab.research.google.com/github/ucfilho/Raianars_paper_one_revisited/blob/main/After_asked_reviews_one_2022/LSHADE/LSHADEv2.ipynb\" target=\"_parent\"><img src=\"https://colab.research.google.com/assets/colab-badge.svg\" alt=\"Open In Colab\"/></a>"
      ]
    },
    {
      "cell_type": "code",
      "execution_count": 1,
      "metadata": {
        "id": "Rp0MgzaTJ9yT"
      },
      "outputs": [],
      "source": [
        "import numpy as np\n",
        "import scipy.stats\n",
        "import random"
      ]
    },
    {
      "cell_type": "code",
      "source": [
        "cols=30\n",
        "dim = cols\n",
        "NPAR1 = 100\n",
        "ITERATIONS = 1000\n",
        "MAX=np.repeat(100,dim)\n",
        "MIN=np.repeat(-100,dim)\n",
        "popsize = NPAR1\n",
        "H = 6\n",
        "kH = 0 # kH is used to work with H  \n",
        "terminal = 0.1\n",
        "p=0.1\n",
        "SF=[];SCR=[];MF=[];MCR=[];Xarq=[]"
      ],
      "metadata": {
        "id": "ReVflqZOfOdJ"
      },
      "execution_count": 2,
      "outputs": []
    },
    {
      "cell_type": "code",
      "source": [
        "# HappyCat function\n",
        "# global mimima 0 at (-1,-1,...,-1)\n",
        "# Not convex and non separable it is usually evaluated at xi =[(-600,600),..(-600,600)]\n",
        "\n",
        "def fobj(x): \n",
        "    alpha=1. / 8\n",
        "    s = sum(x**2) \n",
        "    return ((s - len(x))**2)**alpha + (s / 2 + sum(x)) / len(x) + 0.5 "
      ],
      "metadata": {
        "id": "tT8lx1_vOzhf"
      },
      "execution_count": 3,
      "outputs": []
    },
    {
      "cell_type": "code",
      "source": [
        "def LShade(MAX,MIN, popsize,fobj,setTUNE,best,fbest,fitness,X,Xarq,FES):\n",
        "\n",
        "  SF,SCR,MF,MCR,p, terminal, Narquive,H,kH = setTUNE\n",
        "\n",
        "  fmutant = []\n",
        "  Xmutant = []\n",
        "  fx=[]; fu=[] # to select the wij Lehmer Mean.\n",
        "  # setTUNE = [SF,SCR,MF,MCR,p, terminal, Narquive,H] \n",
        "  dim = X.shape[1]\n",
        "  #best_number = int(p*popsize)\n",
        "  if (p*popsize<1):\n",
        "    best_number=1\n",
        "  else:\n",
        "    best_number = int(p*popsize)\n",
        "  justGoOUT=1\n",
        "\n",
        "  if(justGoOUT==1):\n",
        "    SCR =[];SF=[];\n",
        "    for i in range(popsize):\n",
        "      ri = random.randint(0,H-1) # line 7\n",
        "      miF = MF[ri]\n",
        "      miCR = MCR[ri]\n",
        "      if(MCR[ri] == terminal):\n",
        "        miCR = 0\n",
        "        crossp = 0\n",
        "      else:\n",
        "        crossp = np.random.normal(miCR , 0.1)\n",
        "      while (True):\n",
        "        mut = scipy.stats.cauchy.rvs(loc=miF, scale=0.1)\n",
        "        if (mut > 0):\n",
        "          break\n",
        "      if(mut > 1.0): mut =1.0\n",
        "      if(crossp > 1.0): crossp =1\n",
        "      if(crossp < 0): crossp = 0 \n",
        "\n",
        "      ind = fitness.argsort()[range(best_number)] # find index of best p*popsize\n",
        "      best_idx = random.choice(ind) # index of the best in p*popsize (random best)\n",
        "      pbest = X[best_idx] # random best \n",
        "      idxs = [idx for idx in range(popsize) if idx != i]\n",
        "      iused = np.random.choice(idxs, 1, replace = False)\n",
        "      idxs = [idx for idx in range(popsize) if (idx != iused and idx != best_idx)]\n",
        "      a  = X[iused]\n",
        "      if(len(Xarq)>0):\n",
        "        Xii = np.asarray(Xarq)\n",
        "        Xnew = np.append(X[idxs,:],Xii,axis=0)\n",
        "      else:\n",
        "        Xnew=np.copy(X[idxs,:])\n",
        "\n",
        "      idxs2 = [idx for idx in range(len(Xnew[:,0])) if 2 > 1]\n",
        "      b  = Xnew[np.random.choice(idxs2, 1, replace = False)]\n",
        "\n",
        "      mutant = X[i,:]+mut*(pbest-X[i,:]) + mut * (b - a)\n",
        "      mutant = mutant.ravel()\n",
        "\n",
        "      #trial = np.copy(mutant)\n",
        "      trial = np.copy(X[i,:])\n",
        "\n",
        "      jrand = random.randint(0,dim-1)\n",
        "\n",
        "      for j in range(dim):\n",
        "        rdn = np.random.rand()\n",
        "        if(rdn < crossp or j == jrand) : \n",
        "          trial[j] = mutant[j] \n",
        "        else:\n",
        "          trial[j] = X[i,j]\n",
        "\n",
        "      mutant  = np.copy(trial) # just to use word mutant instead of trial\n",
        "      \n",
        "      for k in range(dim):\n",
        "        if(mutant[k]>MAX[k]):\n",
        "          mutant[k]=MAX[k]\n",
        "        if(mutant[k]<MIN[k]):\n",
        "          mutant[k]=MIN[k]\n",
        "\n",
        "      Xmutant.append(mutant)\n",
        "\n",
        "      FES = FES + 1\n",
        "      fmut =fobj(mutant)\n",
        "      fmutant.append(fmut)\n",
        "    \n",
        "    \n",
        "\n",
        "      #for i in range(popsize):\n",
        "      if( fmutant[i]  <= fitness[i]):\n",
        "        Xold = X[i,:] \n",
        "        X[i,:] = Xmutant[i]\n",
        "        fx.append(fitness[i])\n",
        "        fu.append(fmutant[i])\n",
        "        fitness[i]=fmutant[i]\n",
        "        SCR.append(crossp)\n",
        "        SF.append(mut)\n",
        "\n",
        "        sizeARQ = np.array(Xarq).shape[0]\n",
        "        if(sizeARQ < Narquive):\n",
        "          Xarq.append(Xold)\n",
        "        else:\n",
        "          ri = random.randint(0, Narquive-1) # deleting individuals if necessary line 19\n",
        "          Xarq[ri] = Xold\n",
        "\n",
        "        if(fbest >= fmutant[i]):\n",
        "          best = Xmutant[i]\n",
        "          fbest = fmutant[i]\n",
        "      else:\n",
        "        X[i,:] = X[i,:] # it is not necessary this line but just to remeber it\n",
        "\n",
        "    \n",
        "    # memory update algorithm 1:\n",
        "    if(kH > H-1): kH = 0\n",
        "\n",
        "    if (len(SCR)>0):\n",
        "      deltaF = np.abs(np.asarray(fu)-np.asarray(fx))\n",
        "      if( sum(deltaF) > 0):\n",
        "        w = deltaF/sum(deltaF)\n",
        "      else:\n",
        "        w =np.ones(len(fu))\n",
        "      if(MCR[kH] == terminal or max(SCR)==0):\n",
        "        MCR[kH] = terminal\n",
        "      else:\n",
        "        y = np.asarray(SCR)\n",
        "        MCR[kH] = np.dot(w,y**2)/np.dot(w,y)\n",
        "      y = np.asarray(SF)\n",
        "      MF[kH] = np.dot(w,y**2)/np.dot(w,y)\n",
        "      kH = kH + 1\n",
        "\n",
        "    else:\n",
        "      MCR = MCR\n",
        "      MF = MF\n",
        "\n",
        "  setTUNE =[SF,SCR,MF,MCR,p, terminal, Narquive,H,kH]\n",
        "\n",
        "\n",
        "  y=fitness\n",
        "\n",
        "\n",
        "  XY= np.c_[X,y] #concatena x e y em 2 colunas            \n",
        "  XYsorted = XY[XY[:,-1].argsort()] #Ordena a partir da last col(Y) for all row\n",
        "  X=XYsorted[:,0:dim]\n",
        "  XY=XYsorted\n",
        "  fitness = XYsorted[:,-1]  \n",
        "  BEST=X[0,:]\n",
        "  FOBEST=fitness[0]\n",
        "  BEST_XY =np.append(BEST,FOBEST)\n",
        "  \n",
        "  return fitness,X,BEST,FOBEST,XY,BEST_XY,FES,Xarq,setTUNE\n"
      ],
      "metadata": {
        "id": "mXFHkHhYJ-UA"
      },
      "execution_count": 4,
      "outputs": []
    },
    {
      "cell_type": "code",
      "source": [
        "\n",
        "X=np.zeros((NPAR1,cols)) # X1 is Frannk population\n",
        "for i in range(NPAR1):\n",
        "  for j in range(cols):\n",
        "    r=np.random.random()\n",
        "    X[i,j]=r*(MAX[j]-MIN[j])+MIN[j]\n",
        "\n",
        "FES = 0\n",
        "X1 = np.copy(X)\n",
        "fit1 = np.asarray([fobj(ind) for ind in X1])\n",
        "FES = FES + NPAR1\n",
        "best_idx = np.argmin(fit1)\n",
        "best = X1[best_idx]\n",
        "fbest = fit1[best_idx] \n",
        "BEST1,FOBEST1 = best, fbest"
      ],
      "metadata": {
        "id": "gcNLHJ40KV2V"
      },
      "execution_count": 5,
      "outputs": []
    },
    {
      "cell_type": "code",
      "source": [
        "for i in range(H):\n",
        "  MCR.append(0.5);MF.append(0.5) # line 3\n",
        "Narquive = popsize\n",
        "setTUNE =[SF,SCR,MF,MCR,p, terminal, Narquive,H,kH]"
      ],
      "metadata": {
        "id": "sP-gm-jXLnrq"
      },
      "execution_count": 6,
      "outputs": []
    },
    {
      "cell_type": "code",
      "source": [
        "for i in range(ITERATIONS):\n",
        "  \n",
        "  fit1,X1,BEST1,FOBEST1,XY,BEST_XY,FES,Xarq,setTUNE= LShade(MAX,MIN, popsize,fobj,setTUNE,best,fbest,fit1,X1,Xarq,FES)\n",
        "  print('i=',i,FOBEST1)\n"
      ],
      "metadata": {
        "colab": {
          "base_uri": "https://localhost:8080/"
        },
        "id": "7_9aIPmEK-8V",
        "outputId": "18e34f25-b09c-45f0-dc36-628a7daa7b97"
      },
      "execution_count": 7,
      "outputs": [
        {
          "output_type": "stream",
          "name": "stdout",
          "text": [
            "i= 0 670.829922025249\n",
            "MCR= [0.5070729359217766, 0.5, 0.5, 0.5, 0.5, 0.5]\n",
            "MF= [0.5028818282653037, 0.5, 0.5, 0.5, 0.5, 0.5]\n",
            "i= 100 0.30893146523882764\n",
            "MCR= [0.8774221086807219, 0.9909947512143562, 0.9144850066273595, 0.9692878864820171, 0.8982163463944294, 0.9361462920746001]\n",
            "MF= [0.5723521061155652, 0.3255518164889028, 0.4409299473731206, 0.009716726764781192, 0.45026616032505956, 0.4513643872631984]\n",
            "i= 200 0.2811515473945914\n",
            "MCR= [0.6255609908451987, 0.5232328632305697, 0.6510430461828551, 0.5778185046727665, 0.585221074027816, 0.9429368157154722]\n",
            "MF= [0.0139506557164073, 0.3206509079480997, 0.2465864363869045, 0.1553080151650399, 0.2517533129790736, 0.5580946410032372]\n"
          ]
        },
        {
          "output_type": "stream",
          "name": "stderr",
          "text": [
            "/usr/local/lib/python3.7/dist-packages/ipykernel_launcher.py:120: RuntimeWarning: invalid value encountered in double_scalars\n"
          ]
        },
        {
          "output_type": "stream",
          "name": "stdout",
          "text": [
            "i= 300 0.23731356774942625\n",
            "MCR= [0.1, 0.1, 0.1, 0.1, 0.1, 0.1]\n",
            "MF= [0.07172241031252481, 0.5311387770106426, 0.06210032057205331, 0.18651200248639213, 0.124556711800192, 0.3266194660493543]\n",
            "i= 400 0.19960889973940943\n",
            "MCR= [0.1, 0.1, 0.1, 0.1, 0.1, 0.1]\n",
            "MF= [0.010549151050877965, 0.04633987364493812, 0.028899500932382423, 0.04050750158954097, 0.008953805791798306, 0.1064677136876957]\n",
            "i= 500 0.19960889973940943\n",
            "MCR= [0.1, 0.1, 0.1, 0.1, 0.1, 0.1]\n",
            "MF= [0.094788699574611, 0.025766793503816384, 0.35147665717523563, 0.03167404297247531, 0.015640646135558163, 0.12092982728646182]\n",
            "i= 600 0.19960889973940943\n",
            "MCR= [0.1, 0.1, 0.1, 0.1, 0.1, 0.1]\n",
            "MF= [0.22086241906763104, 0.10482031669669234, 0.007962972840945983, 0.1344576624388071, 0.0019707345172850013, 0.04394004981691818]\n",
            "i= 700 0.19960889973940943\n",
            "MCR= [0.1, 0.1, 0.1, 0.1, 0.1, 0.1]\n",
            "MF= [0.03425576863023647, 0.00032888818938489833, 0.008411270211101628, 0.00015306902181491948, 0.0004378478614697461, 0.013077054036516163]\n",
            "i= 800 0.17243976823853358\n",
            "MCR= [0.1, 0.1, 0.1, 0.1, 0.1, 0.1]\n",
            "MF= [0.1527033053048073, 0.004880799997332713, 0.019193517911700868, 0.002652381103662427, 0.008266556329168475, 0.0011145269825391026]\n",
            "i= 900 0.14495655295291276\n",
            "MCR= [0.1, 0.1, 0.1, 0.1, 0.1, 0.1]\n",
            "MF= [0.004963414694030818, 0.014650127602852114, 0.09726100424566818, 0.015043383856548319, 0.14096564611202114, 0.005281811411580423]\n"
          ]
        }
      ]
    },
    {
      "cell_type": "code",
      "source": [
        "X1.shape"
      ],
      "metadata": {
        "colab": {
          "base_uri": "https://localhost:8080/"
        },
        "id": "6srpyq7cQpL2",
        "outputId": "86d24081-3a97-403b-fdaa-0a0c4c3a1755"
      },
      "execution_count": 8,
      "outputs": [
        {
          "output_type": "execute_result",
          "data": {
            "text/plain": [
              "(100, 30)"
            ]
          },
          "metadata": {},
          "execution_count": 8
        }
      ]
    },
    {
      "cell_type": "code",
      "source": [
        "fobj(X1[0,:])"
      ],
      "metadata": {
        "colab": {
          "base_uri": "https://localhost:8080/"
        },
        "id": "5oLfpjAuL4Dz",
        "outputId": "d65e021e-d4ae-43c5-b623-ffae3a33571f"
      },
      "execution_count": 9,
      "outputs": [
        {
          "output_type": "execute_result",
          "data": {
            "text/plain": [
              "0.14495655295291276"
            ]
          },
          "metadata": {},
          "execution_count": 9
        }
      ]
    },
    {
      "cell_type": "code",
      "source": [
        "fit1"
      ],
      "metadata": {
        "colab": {
          "base_uri": "https://localhost:8080/"
        },
        "id": "IoKbhaYffhS8",
        "outputId": "5e8009c8-f383-4d26-e017-2d258d392410"
      },
      "execution_count": 10,
      "outputs": [
        {
          "output_type": "execute_result",
          "data": {
            "text/plain": [
              "array([0.14495655, 0.1708399 , 0.17447825, 0.18158236, 0.19342162,\n",
              "       0.20111377, 0.20116127, 0.20213604, 0.22553408, 0.22827211,\n",
              "       0.2301372 , 0.23101423, 0.23396434, 0.23563859, 0.2361682 ,\n",
              "       0.23626993, 0.23731357, 0.23887641, 0.24053046, 0.24405988,\n",
              "       0.24661137, 0.24680428, 0.24700838, 0.24789331, 0.24888127,\n",
              "       0.25389504, 0.25411912, 0.25576265, 0.25705895, 0.25995418,\n",
              "       0.26039076, 0.26111959, 0.26189377, 0.26201348, 0.26298118,\n",
              "       0.26727378, 0.26874353, 0.26993094, 0.27107393, 0.27178527,\n",
              "       0.27537236, 0.27641245, 0.27964986, 0.281671  , 0.28282956,\n",
              "       0.2838834 , 0.28397505, 0.28521594, 0.28580778, 0.28710511,\n",
              "       0.28733676, 0.28768574, 0.29304851, 0.30012473, 0.30062573,\n",
              "       0.30103581, 0.30233732, 0.30348626, 0.30420698, 0.30630658,\n",
              "       0.30714757, 0.31054963, 0.31117641, 0.31319671, 0.31353865,\n",
              "       0.31823716, 0.31909978, 0.32072527, 0.32184361, 0.32737485,\n",
              "       0.32771015, 0.32852409, 0.32919057, 0.33448772, 0.33547275,\n",
              "       0.33757005, 0.33839247, 0.33935016, 0.33975631, 0.34018843,\n",
              "       0.34609382, 0.34896842, 0.35268391, 0.35784488, 0.36613318,\n",
              "       0.37030151, 0.38061653, 0.3838696 , 0.39267409, 0.39794508,\n",
              "       0.399764  , 0.40072286, 0.40292531, 0.40422523, 0.41203731,\n",
              "       0.4774844 , 0.51110984, 0.51647463, 0.55678886, 0.64565974])"
            ]
          },
          "metadata": {},
          "execution_count": 10
        }
      ]
    },
    {
      "cell_type": "code",
      "source": [
        "setTUNE"
      ],
      "metadata": {
        "colab": {
          "base_uri": "https://localhost:8080/"
        },
        "id": "QyOafxSFw4qt",
        "outputId": "1f6bfb3d-e07d-42ac-f116-f1b7cb13ef1b"
      },
      "execution_count": 11,
      "outputs": [
        {
          "output_type": "execute_result",
          "data": {
            "text/plain": [
              "[[],\n",
              " [],\n",
              " [0.0227011144029972,\n",
              "  0.006060499394480394,\n",
              "  0.0013890635118180442,\n",
              "  0.004189088437630407,\n",
              "  0.01944824619688883,\n",
              "  0.007175227071779155],\n",
              " [0.1, 0.1, 0.1, 0.1, 0.1, 0.1],\n",
              " 0.1,\n",
              " 0.1,\n",
              " 100,\n",
              " 6,\n",
              " 1]"
            ]
          },
          "metadata": {},
          "execution_count": 11
        }
      ]
    },
    {
      "cell_type": "code",
      "source": [
        "setTUNE[2]# =[SF,SCR,MF,MCR,p, terminal, Narquive,H,kH]"
      ],
      "metadata": {
        "colab": {
          "base_uri": "https://localhost:8080/"
        },
        "id": "W6eynro2IqIS",
        "outputId": "377f3f84-29e1-4d5a-95db-09c2ef18c6d7"
      },
      "execution_count": 12,
      "outputs": [
        {
          "output_type": "execute_result",
          "data": {
            "text/plain": [
              "[0.0227011144029972,\n",
              " 0.006060499394480394,\n",
              " 0.0013890635118180442,\n",
              " 0.004189088437630407,\n",
              " 0.01944824619688883,\n",
              " 0.007175227071779155]"
            ]
          },
          "metadata": {},
          "execution_count": 12
        }
      ]
    },
    {
      "cell_type": "code",
      "source": [
        "setTUNE[3]# =[SF,SCR,MF,MCR,p, terminal, Narquive,H,kH]"
      ],
      "metadata": {
        "colab": {
          "base_uri": "https://localhost:8080/"
        },
        "id": "x8oW34VeIw6n",
        "outputId": "dd2346c8-36ef-486d-dc34-42d89abd8090"
      },
      "execution_count": 13,
      "outputs": [
        {
          "output_type": "execute_result",
          "data": {
            "text/plain": [
              "[0.1, 0.1, 0.1, 0.1, 0.1, 0.1]"
            ]
          },
          "metadata": {},
          "execution_count": 13
        }
      ]
    }
  ]
}
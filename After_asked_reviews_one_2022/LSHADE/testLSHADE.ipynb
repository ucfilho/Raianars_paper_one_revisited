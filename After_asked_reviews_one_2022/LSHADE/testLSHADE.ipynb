{
  "nbformat": 4,
  "nbformat_minor": 0,
  "metadata": {
    "colab": {
      "name": "testLSHADE.ipynb",
      "provenance": [],
      "authorship_tag": "ABX9TyPhR1lWo/TwhWZRE20uMvwl",
      "include_colab_link": true
    },
    "kernelspec": {
      "name": "python3",
      "display_name": "Python 3"
    },
    "language_info": {
      "name": "python"
    }
  },
  "cells": [
    {
      "cell_type": "markdown",
      "metadata": {
        "id": "view-in-github",
        "colab_type": "text"
      },
      "source": [
        "<a href=\"https://colab.research.google.com/github/ucfilho/Raianars_paper_one_revisited/blob/main/After_asked_reviews_one_2022/LSHADE/testLSHADE.ipynb\" target=\"_parent\"><img src=\"https://colab.research.google.com/assets/colab-badge.svg\" alt=\"Open In Colab\"/></a>"
      ]
    },
    {
      "cell_type": "code",
      "execution_count": 1,
      "metadata": {
        "id": "Rp0MgzaTJ9yT"
      },
      "outputs": [],
      "source": [
        "import numpy as np\n",
        "import scipy.stats\n",
        "import random"
      ]
    },
    {
      "cell_type": "code",
      "source": [
        "# HappyCat function\n",
        "# global mimima 0 at (-1,-1,...,-1)\n",
        "# Not convex and non separable it is usually evaluated at xi =[(-600,600),..(-600,600)]\n",
        "\n",
        "def fobj(x): \n",
        "    alpha=1. / 8\n",
        "    s = sum(x**2) \n",
        "    return ((s - len(x))**2)**alpha + (s / 2 + sum(x)) / len(x) + 0.5 "
      ],
      "metadata": {
        "id": "tT8lx1_vOzhf"
      },
      "execution_count": 2,
      "outputs": []
    },
    {
      "cell_type": "code",
      "source": [
        "H = 6\n",
        "kH = 0 # kH is used to work with H  \n",
        "terminal = 0.1\n",
        "p=0.1\n",
        "SF=[];SCR=[];MF=[];MCR=[];Xarq=[]"
      ],
      "metadata": {
        "id": "Hcg1-w-rLa1H"
      },
      "execution_count": 3,
      "outputs": []
    },
    {
      "cell_type": "code",
      "source": [
        "def LShade(MAX,MIN, popsize,fobj,setTUNE,best,fbest,fitness,X,Xarq,FES):\n",
        "\n",
        "  SF,SCR,MF,MCR,p, terminal, Narquive,H = setTUNE\n",
        "  fmutant = []\n",
        "  Xmutant = []\n",
        "  fx=[]; fu=[] # to select the wij Lehmer Mean.\n",
        "  # setTUNE = [SF,SCR,MF,MCR,p, terminal, Narquive,H] \n",
        "  dim = X.shape[1]\n",
        "  best_number = int(p*popsize)\n",
        "\n",
        "  justGoOUT=1\n",
        "\n",
        "  if(justGoOUT==1):\n",
        "    SCR =[];SF=[];\n",
        "    for i in range(popsize):\n",
        "      ri = random.randint(0,H-1) # line 7\n",
        "      miF = MF[ri]\n",
        "      miCR = MCR[ri]\n",
        "      if(MCR[ri] == terminal):\n",
        "        miCR = 0\n",
        "      else:\n",
        "        crossp = np.random.normal(miCR , 0.1)\n",
        "      while (True):\n",
        "        mut = scipy.stats.cauchy.rvs(loc=miF, scale=0.1)\n",
        "        if (mut > 0):\n",
        "          break\n",
        "\n",
        "      ind = fitness.argsort()[range(best_number)] # find index of best p*popsize\n",
        "      best_idx = random.choice(ind) # index of the best in p*popsize (random best)\n",
        "      pbest = X[best_idx] # random best \n",
        "      idxs = [idx for idx in range(popsize) if idx != i]\n",
        "      iused = np.random.choice(idxs, 1, replace = False)\n",
        "      idxs = [idx for idx in range(popsize) if (idx != iused and idx != best_idx)]\n",
        "      a  = X[iused]\n",
        "      if(len(Xarq)>0):\n",
        "        Xii = np.asarray(Xarq)\n",
        "        Xnew = np.append(X[idxs,:],Xii,axis=0)\n",
        "      else:\n",
        "        Xnew=np.copy(X[idxs,:])\n",
        "\n",
        "      idxs2 = [idx for idx in range(len(Xnew[:,0])) if 2 > 1]\n",
        "      b  = Xnew[np.random.choice(idxs2, 1, replace = False)]\n",
        "\n",
        "      mutant = X[i,:]+mut*(pbest-X[i,:]) + mut * (a - b)\n",
        "      mutant = mutant.ravel()\n",
        "\n",
        "      trial = np.copy(mutant)\n",
        "    \n",
        "\n",
        "\n",
        "      for j in range(dim):\n",
        "        rdn = np.random.rand()\n",
        "        if(rdn < crossp) : \n",
        "          trial[j] = mutant[j] # not necessary but to make clear (trial = np.copy(mutant))\n",
        "        else:\n",
        "          trial[j] = X[i,j]\n",
        "\n",
        "      mutant  = np.copy(trial)\n",
        "      \n",
        "      for k in range(dim):\n",
        "        if(mutant[k]>MAX[k]):\n",
        "          mutant[k]=MAX[k]\n",
        "        if(mutant[k]<MIN[k]):\n",
        "          mutant[k]=MIN[k]\n",
        "\n",
        "      Xmutant.append(mutant)\n",
        "\n",
        "      FES = FES + 1\n",
        "      fmut =fobj(mutant)\n",
        "      fmutant.append(fmut)\n",
        "\n",
        "\n",
        "    for i in range(popsize):\n",
        "      if( fmutant[i]  <= fitness[i]):\n",
        "        Xold = X[i,:] \n",
        "        X[i,:] = Xmutant[i]\n",
        "        fitness[i]=fmutant[i]\n",
        "        if(fbest >= fmutant[i]):\n",
        "          best = Xmutant[i]\n",
        "          fbest = fmutant[i]\n",
        "      else:\n",
        "        X[i,:] = X[i,:] # it is not necessary this line but just to remeber it\n",
        "      if( fmutant[i]  < fitness[i]):\n",
        "        if(len(Xarq[:,0])< Narquive):\n",
        "          Xarq=np.append(Xarq,Xold,axis=0)\n",
        "        else:\n",
        "          ri = random.randint(0, Narquive-1) # deleting individuals if necessary line 19\n",
        "          Xarq[ri,:] = Xold\n",
        "\n",
        "        SCR.append(crossp)\n",
        "        SF.append(mut)\n",
        "        fx.append(fitness[i])\n",
        "        fu.append(fmutant[i])\n",
        "    # memory update algorithm 1:\n",
        "    if (len(SCR)>0):\n",
        "      deltaF = np.abs(np.asarray(fu)-np.asarray(fx))\n",
        "      w = deltaF/sum(deltaF)\n",
        "      if(MCR[kH] == terminal or max(SRC)==0):\n",
        "        MCR[kH] = terminal\n",
        "      else:\n",
        "        y = np.asarray(SCR)\n",
        "        MCR[kH] = np.dot(w,y**2)/np.dot(w,y)\n",
        "      y = np.asarray(SF)\n",
        "      MF[kH] = np.dot(w,y**2)/np.dot(w,y)\n",
        "      kH = kH + 1\n",
        "      if(kH > H): kH = 0\n",
        "    else:\n",
        "      MCR = MCR\n",
        "      MF = MF\n",
        "  \n",
        "  setTUNE =[SF,SCR,MF,MCR,p, terminal, Narquive,H]\n",
        "  \n",
        "\n",
        "  y=fitness\n",
        "\n",
        "\n",
        "  XY= np.c_[X,y] #concatena x e y em 2 colunas            \n",
        "  XYsorted = XY[XY[:,-1].argsort()] #Ordena a partir da last col(Y) for all row\n",
        "  X=XYsorted[:,0:dim]\n",
        "  XY=XYsorted\n",
        "  fitness = XYsorted[:,-1]  \n",
        "  BEST=X[0,:]\n",
        "  FOBEST=fitness[0]\n",
        "  BEST_XY =np.append(BEST,FOBEST)\n",
        "  \n",
        "  return fitness,X,BEST,FOBEST,XY,BEST_XY,FES,Xarq,setTUNE\n"
      ],
      "metadata": {
        "id": "mXFHkHhYJ-UA"
      },
      "execution_count": 4,
      "outputs": []
    },
    {
      "cell_type": "code",
      "source": [
        "cols=30\n",
        "dim = cols\n",
        "NPAR1 = 50\n",
        "MAX=np.repeat(100,dim)\n",
        "MIN=np.repeat(-100,dim)\n",
        "popsize = NPAR1\n",
        "X=np.zeros((NPAR1,cols)) # X1 is Frannk population\n",
        "for i in range(NPAR1):\n",
        "  for j in range(cols):\n",
        "    r=np.random.random()\n",
        "    X[i,j]=r*(MAX[j]-MIN[j])+MIN[j]\n",
        "\n",
        "FES = 0\n",
        "X1 = np.copy(X)\n",
        "fit1 = np.asarray([fobj(ind) for ind in X1])\n",
        "FES = FES + NPAR1\n",
        "best_idx = np.argmin(fit1)\n",
        "best = X1[best_idx]\n",
        "fbest = fit1[best_idx] \n",
        "BEST1,FOBEST1 = best, fbest"
      ],
      "metadata": {
        "id": "gcNLHJ40KV2V"
      },
      "execution_count": 5,
      "outputs": []
    },
    {
      "cell_type": "code",
      "source": [
        "for i in range(H):\n",
        "  MCR.append(0.5);MF.append(0.5) # line 3\n",
        "Narquive = popsize\n",
        "setTUNE =[SF,SCR,MF,MCR,p, terminal, Narquive,H]"
      ],
      "metadata": {
        "id": "sP-gm-jXLnrq"
      },
      "execution_count": 6,
      "outputs": []
    },
    {
      "cell_type": "code",
      "source": [
        "for i in range(100):\n",
        "  #print(i,X1.shape)\n",
        "  fit1,X1,BEST1,FOBEST1,XY,BEST_XY,FES,Xarq,setTUNE= LShade(MAX,MIN, popsize,fobj,setTUNE,best,fbest,fit1,X1,Xarq,FES)\n",
        "  print('i=',i,FOBEST1)"
      ],
      "metadata": {
        "colab": {
          "base_uri": "https://localhost:8080/"
        },
        "id": "7_9aIPmEK-8V",
        "outputId": "e7635071-e8c9-4df9-a7e8-f834fe172ada"
      },
      "execution_count": 7,
      "outputs": [
        {
          "output_type": "stream",
          "name": "stdout",
          "text": [
            "i= 0 1084.657952705128\n",
            "i= 1 799.2506802534373\n",
            "i= 2 799.2506802534373\n",
            "i= 3 760.2024328993866\n",
            "i= 4 642.551537389101\n",
            "i= 5 619.5424435034377\n",
            "i= 6 334.454122985829\n",
            "i= 7 317.4153529805391\n",
            "i= 8 317.4153529805391\n",
            "i= 9 317.4153529805391\n",
            "i= 10 221.12894484807077\n",
            "i= 11 221.12894484807077\n",
            "i= 12 208.90411912270545\n",
            "i= 13 208.90411912270545\n",
            "i= 14 208.90411912270545\n",
            "i= 15 208.90411912270545\n",
            "i= 16 206.61698606971672\n",
            "i= 17 205.7532297838732\n",
            "i= 18 164.29404953262636\n",
            "i= 19 151.7261973058015\n",
            "i= 20 151.7261973058015\n",
            "i= 21 106.26634520101143\n",
            "i= 22 106.26634520101143\n",
            "i= 23 106.26634520101143\n",
            "i= 24 95.59665557836894\n",
            "i= 25 78.63915423562042\n",
            "i= 26 78.63915423562042\n",
            "i= 27 78.63915423562042\n",
            "i= 28 58.36381580078507\n",
            "i= 29 58.36381580078507\n",
            "i= 30 58.36381580078507\n",
            "i= 31 53.703572775370894\n",
            "i= 32 51.47868177327221\n",
            "i= 33 51.47868177327221\n",
            "i= 34 50.33593731562404\n",
            "i= 35 39.2406826976962\n",
            "i= 36 39.2406826976962\n",
            "i= 37 39.2406826976962\n",
            "i= 38 38.16122234878154\n",
            "i= 39 34.06780810716023\n",
            "i= 40 33.22584571037774\n",
            "i= 41 23.71878770642604\n",
            "i= 42 23.71878770642604\n",
            "i= 43 23.71878770642604\n",
            "i= 44 23.082978860538105\n",
            "i= 45 21.29260574342627\n",
            "i= 46 19.78200091765036\n",
            "i= 47 19.78200091765036\n",
            "i= 48 17.504255820079337\n",
            "i= 49 14.07780569006213\n",
            "i= 50 13.63917342426847\n",
            "i= 51 13.63917342426847\n",
            "i= 52 10.358891714391035\n",
            "i= 53 10.358891714391035\n",
            "i= 54 10.358891714391035\n",
            "i= 55 10.357693871473888\n",
            "i= 56 9.363451067125194\n",
            "i= 57 8.863177996878495\n",
            "i= 58 7.435125735612327\n",
            "i= 59 7.435125735612327\n",
            "i= 60 6.904534830179234\n",
            "i= 61 6.450515609350791\n",
            "i= 62 6.450515609350791\n",
            "i= 63 5.761072090199202\n",
            "i= 64 5.421958945004206\n",
            "i= 65 4.479396086503179\n",
            "i= 66 4.479396086503179\n",
            "i= 67 4.479396086503179\n",
            "i= 68 4.434166797974172\n",
            "i= 69 4.208678103839226\n",
            "i= 70 4.073974387402101\n",
            "i= 71 3.8406874205252843\n",
            "i= 72 3.6405020012561007\n",
            "i= 73 2.9965467211925954\n",
            "i= 74 2.9965467211925954\n",
            "i= 75 2.9965467211925954\n",
            "i= 76 2.9965467211925954\n",
            "i= 77 2.9965467211925954\n",
            "i= 78 2.70298029048265\n",
            "i= 79 2.5990546601525124\n",
            "i= 80 2.311334777286786\n",
            "i= 81 2.311334777286786\n",
            "i= 82 2.311334777286786\n",
            "i= 83 2.0531631385405755\n",
            "i= 84 1.5904619550352719\n",
            "i= 85 1.5237589417551025\n",
            "i= 86 1.1037930227341268\n",
            "i= 87 1.1037930227341268\n",
            "i= 88 1.1037930227341268\n",
            "i= 89 0.7810492090881442\n",
            "i= 90 0.7810492090881442\n",
            "i= 91 0.7810492090881442\n",
            "i= 92 0.7810492090881442\n",
            "i= 93 0.7810492090881442\n",
            "i= 94 0.7810492090881442\n",
            "i= 95 0.7810492090881442\n",
            "i= 96 0.7810492090881442\n",
            "i= 97 0.7810492090881442\n",
            "i= 98 0.7810492090881442\n",
            "i= 99 0.7810492090881442\n"
          ]
        }
      ]
    },
    {
      "cell_type": "code",
      "source": [
        "X1.shape"
      ],
      "metadata": {
        "colab": {
          "base_uri": "https://localhost:8080/"
        },
        "id": "6srpyq7cQpL2",
        "outputId": "bdb31001-ff98-471b-d2dc-82c030e61b0a"
      },
      "execution_count": 8,
      "outputs": [
        {
          "output_type": "execute_result",
          "data": {
            "text/plain": [
              "(50, 30)"
            ]
          },
          "metadata": {},
          "execution_count": 8
        }
      ]
    },
    {
      "cell_type": "code",
      "source": [
        "fobj(X1[0,:])"
      ],
      "metadata": {
        "colab": {
          "base_uri": "https://localhost:8080/"
        },
        "id": "5oLfpjAuL4Dz",
        "outputId": "1b051be7-8fbf-4bdd-b89b-7ca4382b6341"
      },
      "execution_count": 12,
      "outputs": [
        {
          "output_type": "execute_result",
          "data": {
            "text/plain": [
              "0.7810492090881442"
            ]
          },
          "metadata": {},
          "execution_count": 12
        }
      ]
    },
    {
      "cell_type": "code",
      "source": [
        "fit1"
      ],
      "metadata": {
        "colab": {
          "base_uri": "https://localhost:8080/"
        },
        "id": "IoKbhaYffhS8",
        "outputId": "2452d462-f33f-49b6-e256-6fc979987cef"
      },
      "execution_count": 10,
      "outputs": [
        {
          "output_type": "execute_result",
          "data": {
            "text/plain": [
              "array([0.78104921, 0.84163994, 0.91210738, 0.93371206, 0.95080437,\n",
              "       0.95945615, 0.99370681, 0.99838668, 1.02327714, 1.02833676,\n",
              "       1.03958755, 1.06239737, 1.07799935, 1.09131897, 1.09624405,\n",
              "       1.09657517, 1.09812768, 1.13118958, 1.13176751, 1.17468814,\n",
              "       1.18630319, 1.19616756, 1.21904012, 1.22576331, 1.24280479,\n",
              "       1.25844649, 1.27142468, 1.28407091, 1.31574663, 1.31703816,\n",
              "       1.32590524, 1.33406398, 1.33502973, 1.33598674, 1.33881754,\n",
              "       1.36269506, 1.37638766, 1.37703567, 1.37865635, 1.40512781,\n",
              "       1.40822847, 1.41019587, 1.43683039, 1.52183273, 1.52375894,\n",
              "       1.53824826, 1.5419801 , 1.54542075, 1.73216368, 1.97512384])"
            ]
          },
          "metadata": {},
          "execution_count": 10
        }
      ]
    }
  ]
}
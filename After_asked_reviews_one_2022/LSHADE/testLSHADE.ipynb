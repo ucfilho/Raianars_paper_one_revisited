{
  "nbformat": 4,
  "nbformat_minor": 0,
  "metadata": {
    "colab": {
      "name": "testLSHADE.ipynb",
      "provenance": [],
      "authorship_tag": "ABX9TyPkNIjAPMqW2rLsPiTMqSjL",
      "include_colab_link": true
    },
    "kernelspec": {
      "name": "python3",
      "display_name": "Python 3"
    },
    "language_info": {
      "name": "python"
    }
  },
  "cells": [
    {
      "cell_type": "markdown",
      "metadata": {
        "id": "view-in-github",
        "colab_type": "text"
      },
      "source": [
        "<a href=\"https://colab.research.google.com/github/ucfilho/Raianars_paper_one_revisited/blob/main/After_asked_reviews_one_2022/LSHADE/testLSHADE.ipynb\" target=\"_parent\"><img src=\"https://colab.research.google.com/assets/colab-badge.svg\" alt=\"Open In Colab\"/></a>"
      ]
    },
    {
      "cell_type": "code",
      "execution_count": 1,
      "metadata": {
        "id": "Rp0MgzaTJ9yT"
      },
      "outputs": [],
      "source": [
        "import numpy as np\n",
        "import scipy.stats\n",
        "import random"
      ]
    },
    {
      "cell_type": "code",
      "source": [
        "cols=30\n",
        "dim = cols\n",
        "NPAR1 = 3\n",
        "MAX=np.repeat(100,dim)\n",
        "MIN=np.repeat(-100,dim)\n",
        "popsize = NPAR1\n",
        "H = 6\n",
        "kH = 0 # kH is used to work with H  \n",
        "terminal = 0.1\n",
        "p=0.1\n",
        "SF=[];SCR=[];MF=[];MCR=[];Xarq=[]"
      ],
      "metadata": {
        "id": "ReVflqZOfOdJ"
      },
      "execution_count": 2,
      "outputs": []
    },
    {
      "cell_type": "code",
      "source": [
        "# HappyCat function\n",
        "# global mimima 0 at (-1,-1,...,-1)\n",
        "# Not convex and non separable it is usually evaluated at xi =[(-600,600),..(-600,600)]\n",
        "\n",
        "def fobj(x): \n",
        "    alpha=1. / 8\n",
        "    s = sum(x**2) \n",
        "    return ((s - len(x))**2)**alpha + (s / 2 + sum(x)) / len(x) + 0.5 "
      ],
      "metadata": {
        "id": "tT8lx1_vOzhf"
      },
      "execution_count": 3,
      "outputs": []
    },
    {
      "cell_type": "code",
      "source": [
        "def LShade(MAX,MIN, popsize,fobj,setTUNE,best,fbest,fitness,X,Xarq,FES):\n",
        "\n",
        "  SF,SCR,MF,MCR,p, terminal, Narquive,H = setTUNE\n",
        "  fmutant = []\n",
        "  Xmutant = []\n",
        "  fx=[]; fu=[] # to select the wij Lehmer Mean.\n",
        "  # setTUNE = [SF,SCR,MF,MCR,p, terminal, Narquive,H] \n",
        "  dim = X.shape[1]\n",
        "  #best_number = int(p*popsize)\n",
        "  if (p*popsize<1):\n",
        "    best_number=1\n",
        "  else:\n",
        "    best_number = int(p*popsize)\n",
        "  justGoOUT=1\n",
        "\n",
        "  if(justGoOUT==1):\n",
        "    SCR =[];SF=[];\n",
        "    for i in range(popsize):\n",
        "      ri = random.randint(0,H-1) # line 7\n",
        "      miF = MF[ri]\n",
        "      miCR = MCR[ri]\n",
        "      if(MCR[ri] == terminal):\n",
        "        miCR = 0\n",
        "      else:\n",
        "        crossp = np.random.normal(miCR , 0.1)\n",
        "      while (True):\n",
        "        mut = scipy.stats.cauchy.rvs(loc=miF, scale=0.1)\n",
        "        if (mut > 0):\n",
        "          break\n",
        "\n",
        "      ind = fitness.argsort()[range(best_number)] # find index of best p*popsize\n",
        "      best_idx = random.choice(ind) # index of the best in p*popsize (random best)\n",
        "      pbest = X[best_idx] # random best \n",
        "      idxs = [idx for idx in range(popsize) if idx != i]\n",
        "      iused = np.random.choice(idxs, 1, replace = False)\n",
        "      idxs = [idx for idx in range(popsize) if (idx != iused and idx != best_idx)]\n",
        "      a  = X[iused]\n",
        "      if(len(Xarq)>0):\n",
        "        Xii = np.asarray(Xarq)\n",
        "        Xnew = np.append(X[idxs,:],Xii,axis=0)\n",
        "      else:\n",
        "        Xnew=np.copy(X[idxs,:])\n",
        "\n",
        "      idxs2 = [idx for idx in range(len(Xnew[:,0])) if 2 > 1]\n",
        "      b  = Xnew[np.random.choice(idxs2, 1, replace = False)]\n",
        "\n",
        "      mutant = X[i,:]+mut*(pbest-X[i,:]) + mut * (a - b)\n",
        "      mutant = mutant.ravel()\n",
        "\n",
        "      trial = np.copy(mutant)\n",
        "    \n",
        "\n",
        "\n",
        "      for j in range(dim):\n",
        "        rdn = np.random.rand()\n",
        "        if(rdn < crossp) : \n",
        "          trial[j] = mutant[j] # not necessary but to make clear (trial = np.copy(mutant))\n",
        "        else:\n",
        "          trial[j] = X[i,j]\n",
        "\n",
        "      mutant  = np.copy(trial)\n",
        "      \n",
        "      for k in range(dim):\n",
        "        if(mutant[k]>MAX[k]):\n",
        "          mutant[k]=MAX[k]\n",
        "        if(mutant[k]<MIN[k]):\n",
        "          mutant[k]=MIN[k]\n",
        "\n",
        "      Xmutant.append(mutant)\n",
        "\n",
        "      FES = FES + 1\n",
        "      fmut =fobj(mutant)\n",
        "      fmutant.append(fmut)\n",
        "\n",
        "\n",
        "    for i in range(popsize):\n",
        "      if( fmutant[i]  <= fitness[i]):\n",
        "        Xold = X[i,:] \n",
        "        X[i,:] = Xmutant[i]\n",
        "        fitness[i]=fmutant[i]\n",
        "        if(fbest >= fmutant[i]):\n",
        "          best = Xmutant[i]\n",
        "          fbest = fmutant[i]\n",
        "      else:\n",
        "        X[i,:] = X[i,:] # it is not necessary this line but just to remeber it\n",
        "      if( fmutant[i]  < fitness[i]):\n",
        "        if(len(Xarq[:,0])< Narquive):\n",
        "          Xarq=np.append(Xarq,Xold,axis=0)\n",
        "        else:\n",
        "          ri = random.randint(0, Narquive-1) # deleting individuals if necessary line 19\n",
        "          Xarq[ri,:] = Xold\n",
        "\n",
        "        SCR.append(crossp)\n",
        "        SF.append(mut)\n",
        "        fx.append(fitness[i])\n",
        "        fu.append(fmutant[i])\n",
        "    # memory update algorithm 1:\n",
        "    if (len(SCR)>0):\n",
        "      deltaF = np.abs(np.asarray(fu)-np.asarray(fx))\n",
        "      w = deltaF/sum(deltaF)\n",
        "      if(MCR[kH] == terminal or max(SRC)==0):\n",
        "        MCR[kH] = terminal\n",
        "      else:\n",
        "        y = np.asarray(SCR)\n",
        "        MCR[kH] = np.dot(w,y**2)/np.dot(w,y)\n",
        "      y = np.asarray(SF)\n",
        "      MF[kH] = np.dot(w,y**2)/np.dot(w,y)\n",
        "      kH = kH + 1\n",
        "      if(kH > H): kH = 0\n",
        "    else:\n",
        "      MCR = MCR\n",
        "      MF = MF\n",
        "  \n",
        "  setTUNE =[SF,SCR,MF,MCR,p, terminal, Narquive,H]\n",
        "  \n",
        "\n",
        "  y=fitness\n",
        "\n",
        "\n",
        "  XY= np.c_[X,y] #concatena x e y em 2 colunas            \n",
        "  XYsorted = XY[XY[:,-1].argsort()] #Ordena a partir da last col(Y) for all row\n",
        "  X=XYsorted[:,0:dim]\n",
        "  XY=XYsorted\n",
        "  fitness = XYsorted[:,-1]  \n",
        "  BEST=X[0,:]\n",
        "  FOBEST=fitness[0]\n",
        "  BEST_XY =np.append(BEST,FOBEST)\n",
        "  \n",
        "  return fitness,X,BEST,FOBEST,XY,BEST_XY,FES,Xarq,setTUNE\n"
      ],
      "metadata": {
        "id": "mXFHkHhYJ-UA"
      },
      "execution_count": 4,
      "outputs": []
    },
    {
      "cell_type": "code",
      "source": [
        "\n",
        "X=np.zeros((NPAR1,cols)) # X1 is Frannk population\n",
        "for i in range(NPAR1):\n",
        "  for j in range(cols):\n",
        "    r=np.random.random()\n",
        "    X[i,j]=r*(MAX[j]-MIN[j])+MIN[j]\n",
        "\n",
        "FES = 0\n",
        "X1 = np.copy(X)\n",
        "fit1 = np.asarray([fobj(ind) for ind in X1])\n",
        "FES = FES + NPAR1\n",
        "best_idx = np.argmin(fit1)\n",
        "best = X1[best_idx]\n",
        "fbest = fit1[best_idx] \n",
        "BEST1,FOBEST1 = best, fbest"
      ],
      "metadata": {
        "id": "gcNLHJ40KV2V"
      },
      "execution_count": 5,
      "outputs": []
    },
    {
      "cell_type": "code",
      "source": [
        "for i in range(H):\n",
        "  MCR.append(0.5);MF.append(0.5) # line 3\n",
        "Narquive = popsize\n",
        "setTUNE =[SF,SCR,MF,MCR,p, terminal, Narquive,H]"
      ],
      "metadata": {
        "id": "sP-gm-jXLnrq"
      },
      "execution_count": 6,
      "outputs": []
    },
    {
      "cell_type": "code",
      "source": [
        "for i in range(100):\n",
        "  #print(i,X1.shape)\n",
        "  fit1,X1,BEST1,FOBEST1,XY,BEST_XY,FES,Xarq,setTUNE= LShade(MAX,MIN, popsize,fobj,setTUNE,best,fbest,fit1,X1,Xarq,FES)\n",
        "  print('i=',i,FOBEST1)"
      ],
      "metadata": {
        "colab": {
          "base_uri": "https://localhost:8080/"
        },
        "id": "7_9aIPmEK-8V",
        "outputId": "e08e1d8e-6c9a-4cba-82d1-3bd5ff7f9f41"
      },
      "execution_count": 7,
      "outputs": [
        {
          "output_type": "stream",
          "name": "stdout",
          "text": [
            "i= 0 1324.7558404455056\n",
            "i= 1 1293.268884899187\n",
            "i= 2 1259.4229355171276\n",
            "i= 3 1132.8243453398852\n",
            "i= 4 1132.8243453398852\n",
            "i= 5 1027.558212798918\n",
            "i= 6 1027.558212798918\n",
            "i= 7 1015.1473860410373\n",
            "i= 8 981.3921317065874\n",
            "i= 9 967.8777076073575\n",
            "i= 10 967.8777076073575\n",
            "i= 11 919.3446893595435\n",
            "i= 12 914.7655194559054\n",
            "i= 13 911.463660568951\n",
            "i= 14 911.463660568951\n",
            "i= 15 911.463660568951\n",
            "i= 16 908.2044435938332\n",
            "i= 17 903.954858616181\n",
            "i= 18 898.3210468967354\n",
            "i= 19 893.6828748444049\n",
            "i= 20 893.1363451799095\n",
            "i= 21 889.7956492857862\n",
            "i= 22 889.7956492857862\n",
            "i= 23 889.3825468783236\n",
            "i= 24 889.3825468783236\n",
            "i= 25 889.1885138287502\n",
            "i= 26 888.3718386271548\n",
            "i= 27 887.8316429559437\n",
            "i= 28 887.532913986464\n",
            "i= 29 887.3249308286743\n",
            "i= 30 886.8795202249\n",
            "i= 31 886.7708444837169\n",
            "i= 32 886.7708444837169\n",
            "i= 33 886.5943759232068\n",
            "i= 34 886.5943759232068\n",
            "i= 35 886.3050511236746\n",
            "i= 36 886.3050511236746\n",
            "i= 37 886.3050511236746\n",
            "i= 38 886.2714802811838\n",
            "i= 39 886.2626595599686\n",
            "i= 40 886.2249202846779\n",
            "i= 41 886.2249202846779\n",
            "i= 42 886.2249202846779\n",
            "i= 43 886.2249202846779\n",
            "i= 44 886.2249202846779\n",
            "i= 45 886.2249202846779\n",
            "i= 46 886.180881634592\n",
            "i= 47 886.1787966339972\n",
            "i= 48 886.1183208207563\n",
            "i= 49 886.1035225174858\n",
            "i= 50 886.0798491211899\n",
            "i= 51 885.9560735889185\n",
            "i= 52 885.8860962179839\n",
            "i= 53 885.8860962179839\n",
            "i= 54 885.8018531807891\n",
            "i= 55 885.2106770065423\n",
            "i= 56 885.2106770065423\n",
            "i= 57 884.8506046743566\n",
            "i= 58 884.7132262219827\n",
            "i= 59 884.6563991589346\n",
            "i= 60 884.207307178937\n",
            "i= 61 884.207307178937\n",
            "i= 62 884.207307178937\n",
            "i= 63 884.1713112163683\n",
            "i= 64 884.0933234234822\n",
            "i= 65 883.96219785663\n",
            "i= 66 883.9331142933856\n",
            "i= 67 883.7938247408034\n",
            "i= 68 883.7720026166838\n",
            "i= 69 883.7720026166838\n",
            "i= 70 883.7548142407751\n",
            "i= 71 883.720990626018\n",
            "i= 72 883.6910318903886\n",
            "i= 73 883.6775732442361\n",
            "i= 74 883.6693663394511\n",
            "i= 75 883.6693663394511\n",
            "i= 76 883.6514688208341\n",
            "i= 77 883.6495338573206\n",
            "i= 78 883.6444152787066\n",
            "i= 79 883.6444152787066\n",
            "i= 80 883.6429879088565\n",
            "i= 81 883.6418931224326\n",
            "i= 82 883.6417621442569\n",
            "i= 83 883.6382716724753\n",
            "i= 84 883.6380066885521\n",
            "i= 85 883.6285737442705\n",
            "i= 86 883.6166504639191\n",
            "i= 87 883.6130101187919\n",
            "i= 88 883.5960094185901\n",
            "i= 89 883.5835367825397\n",
            "i= 90 883.5835367825397\n",
            "i= 91 883.583420724955\n",
            "i= 92 883.5782255082557\n",
            "i= 93 883.5782255082557\n",
            "i= 94 883.5766687473304\n",
            "i= 95 883.575722298737\n",
            "i= 96 883.5754985118373\n",
            "i= 97 883.5751682183259\n",
            "i= 98 883.5751682183259\n",
            "i= 99 883.5724784663535\n"
          ]
        }
      ]
    },
    {
      "cell_type": "code",
      "source": [
        "X1.shape"
      ],
      "metadata": {
        "colab": {
          "base_uri": "https://localhost:8080/"
        },
        "id": "6srpyq7cQpL2",
        "outputId": "0a27d724-0a95-48ad-b026-eb49688389b3"
      },
      "execution_count": 8,
      "outputs": [
        {
          "output_type": "execute_result",
          "data": {
            "text/plain": [
              "(3, 30)"
            ]
          },
          "metadata": {},
          "execution_count": 8
        }
      ]
    },
    {
      "cell_type": "code",
      "source": [
        "fobj(X1[0,:])"
      ],
      "metadata": {
        "colab": {
          "base_uri": "https://localhost:8080/"
        },
        "id": "5oLfpjAuL4Dz",
        "outputId": "43a02ab0-b5fd-4f35-bb86-fccea5fe9894"
      },
      "execution_count": 9,
      "outputs": [
        {
          "output_type": "execute_result",
          "data": {
            "text/plain": [
              "883.5724784663535"
            ]
          },
          "metadata": {},
          "execution_count": 9
        }
      ]
    },
    {
      "cell_type": "code",
      "source": [
        "fit1"
      ],
      "metadata": {
        "colab": {
          "base_uri": "https://localhost:8080/"
        },
        "id": "IoKbhaYffhS8",
        "outputId": "e21bc7ef-617c-408b-f54e-17e80e3510cd"
      },
      "execution_count": 10,
      "outputs": [
        {
          "output_type": "execute_result",
          "data": {
            "text/plain": [
              "array([883.57247847, 883.57438063, 883.57501288])"
            ]
          },
          "metadata": {},
          "execution_count": 10
        }
      ]
    }
  ]
}
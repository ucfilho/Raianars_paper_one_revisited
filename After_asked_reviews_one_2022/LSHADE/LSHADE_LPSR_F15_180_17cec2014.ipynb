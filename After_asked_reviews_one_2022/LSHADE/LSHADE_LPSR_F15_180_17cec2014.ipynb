{
  "nbformat": 4,
  "nbformat_minor": 0,
  "metadata": {
    "colab": {
      "name": "LSHADE_LPSR_F15_180/17cec2014.ipynb",
      "provenance": [],
      "collapsed_sections": [],
      "include_colab_link": true
    },
    "kernelspec": {
      "name": "python3",
      "display_name": "Python 3"
    },
    "language_info": {
      "codemirror_mode": {
        "name": "ipython",
        "version": 3
      },
      "file_extension": ".py",
      "mimetype": "text/x-python",
      "name": "python",
      "nbconvert_exporter": "python",
      "pygments_lexer": "ipython3",
      "version": "3.7.3"
    }
  },
  "cells": [
    {
      "cell_type": "markdown",
      "metadata": {
        "id": "view-in-github",
        "colab_type": "text"
      },
      "source": [
        "<a href=\"https://colab.research.google.com/github/ucfilho/Raianars_paper_one_revisited/blob/main/After_asked_reviews_one_2022/LSHADE/LSHADE_LPSR_F15_180_17cec2014.ipynb\" target=\"_parent\"><img src=\"https://colab.research.google.com/assets/colab-badge.svg\" alt=\"Open In Colab\"/></a>"
      ]
    },
    {
      "cell_type": "code",
      "source": [
        "############################### DADOS DE ENTRADA \n",
        " \n",
        "# this code only run from F22 to F25 (you just need to change this line the pararameters and type =cool= \n",
        "#          to go to line to change IFrank, de best or your combination\n",
        "RUNS=50 #NÚMERO DE RODADAS\n",
        "Fc=0.1 # fator de correcao parametros da ANN\n",
        "its=1 #10 # quantas vezes vai usar o NPAR antes de alterar de novo\n",
        "ITE=1000 #10 # PONTOS quantas vezes vai alteral NPAR \n",
        "NPAR=100\n",
        "mut=0.5\n",
        "crossp=0.5\n",
        "Fi=mut;CRi=crossp;# para impressão\n",
        "# fator = 1.0/3.0; \n",
        "fator = 1.0 # just LSHADE...\n",
        "mut2=0.5;crossp2=0.5;mut3=0.75;crossp3=0.25;mut4=0.25;crossp4=0.25;\n",
        "mut_best  =0.5 ; crossp_best =0.5\n",
        "maxNP = 180\n",
        "minNP = 17\n",
        "maxFES =300000\n",
        "FIX = 100 # Number of adjusts random walk\n",
        "H = 6\n",
        "kH = 0 # kH is used to work with H  \n",
        "terminal = 0.1\n",
        "p=0.1\n",
        "SF=[];SCR=[];MF=[];MCR=[];Xarq=[]\n"
      ],
      "metadata": {
        "id": "SWHauA_QxHPz"
      },
      "execution_count": null,
      "outputs": []
    },
    {
      "cell_type": "code",
      "metadata": {
        "colab": {
          "base_uri": "https://localhost:8080/"
        },
        "id": "c59cDVKoxDLX",
        "outputId": "a91fd151-3454-47ad-db69-d4fd9f0259a2"
      },
      "source": [
        "############################### Importar códigos\n",
        "!git clone https://github.com/ucfilho/optim_raianars_Insight/ #clonar do Github\n",
        "%cd optim_raianars_Insight\n",
        "import de_soma_Insight\n",
        "import de_bounds_matriz\n",
        "import Go2Ann\n",
        "import randomWALK\n",
        "import annDE_FES_new\n",
        "import classicDE_FES_new\n",
        "import stepsWALK_new\n",
        "import LShade_new\n",
        "from pandas import read_csv"
      ],
      "execution_count": null,
      "outputs": [
        {
          "output_type": "stream",
          "name": "stdout",
          "text": [
            "Cloning into 'optim_raianars_Insight'...\n",
            "remote: Enumerating objects: 845, done.\u001b[K\n",
            "remote: Counting objects:   0% (1/204)\u001b[K\rremote: Counting objects:   1% (3/204)\u001b[K\rremote: Counting objects:   2% (5/204)\u001b[K\rremote: Counting objects:   3% (7/204)\u001b[K\rremote: Counting objects:   4% (9/204)\u001b[K\rremote: Counting objects:   5% (11/204)\u001b[K\rremote: Counting objects:   6% (13/204)\u001b[K\rremote: Counting objects:   7% (15/204)\u001b[K\rremote: Counting objects:   8% (17/204)\u001b[K\rremote: Counting objects:   9% (19/204)\u001b[K\rremote: Counting objects:  10% (21/204)\u001b[K\rremote: Counting objects:  11% (23/204)\u001b[K\rremote: Counting objects:  12% (25/204)\u001b[K\rremote: Counting objects:  13% (27/204)\u001b[K\rremote: Counting objects:  14% (29/204)\u001b[K\rremote: Counting objects:  15% (31/204)\u001b[K\rremote: Counting objects:  16% (33/204)\u001b[K\rremote: Counting objects:  17% (35/204)\u001b[K\rremote: Counting objects:  18% (37/204)\u001b[K\rremote: Counting objects:  19% (39/204)\u001b[K\rremote: Counting objects:  20% (41/204)\u001b[K\rremote: Counting objects:  21% (43/204)\u001b[K\rremote: Counting objects:  22% (45/204)\u001b[K\rremote: Counting objects:  23% (47/204)\u001b[K\rremote: Counting objects:  24% (49/204)\u001b[K\rremote: Counting objects:  25% (51/204)\u001b[K\rremote: Counting objects:  26% (54/204)\u001b[K\rremote: Counting objects:  27% (56/204)\u001b[K\rremote: Counting objects:  28% (58/204)\u001b[K\rremote: Counting objects:  29% (60/204)\u001b[K\rremote: Counting objects:  30% (62/204)\u001b[K\rremote: Counting objects:  31% (64/204)\u001b[K\rremote: Counting objects:  32% (66/204)\u001b[K\rremote: Counting objects:  33% (68/204)\u001b[K\rremote: Counting objects:  34% (70/204)\u001b[K\rremote: Counting objects:  35% (72/204)\u001b[K\rremote: Counting objects:  36% (74/204)\u001b[K\rremote: Counting objects:  37% (76/204)\u001b[K\rremote: Counting objects:  38% (78/204)\u001b[K\rremote: Counting objects:  39% (80/204)\u001b[K\rremote: Counting objects:  40% (82/204)\u001b[K\rremote: Counting objects:  41% (84/204)\u001b[K\rremote: Counting objects:  42% (86/204)\u001b[K\rremote: Counting objects:  43% (88/204)\u001b[K\rremote: Counting objects:  44% (90/204)\u001b[K\rremote: Counting objects:  45% (92/204)\u001b[K\rremote: Counting objects:  46% (94/204)\u001b[K\rremote: Counting objects:  47% (96/204)\u001b[K\rremote: Counting objects:  48% (98/204)\u001b[K\rremote: Counting objects:  49% (100/204)\u001b[K\rremote: Counting objects:  50% (102/204)\u001b[K\rremote: Counting objects:  51% (105/204)\u001b[K\rremote: Counting objects:  52% (107/204)\u001b[K\rremote: Counting objects:  53% (109/204)\u001b[K\rremote: Counting objects:  54% (111/204)\u001b[K\rremote: Counting objects:  55% (113/204)\u001b[K\rremote: Counting objects:  56% (115/204)\u001b[K\rremote: Counting objects:  57% (117/204)\u001b[K\rremote: Counting objects:  58% (119/204)\u001b[K\rremote: Counting objects:  59% (121/204)\u001b[K\rremote: Counting objects:  60% (123/204)\u001b[K\rremote: Counting objects:  61% (125/204)\u001b[K\rremote: Counting objects:  62% (127/204)\u001b[K\rremote: Counting objects:  63% (129/204)\u001b[K\rremote: Counting objects:  64% (131/204)\u001b[K\rremote: Counting objects:  65% (133/204)\u001b[K\rremote: Counting objects:  66% (135/204)\u001b[K\rremote: Counting objects:  67% (137/204)\u001b[K\rremote: Counting objects:  68% (139/204)\u001b[K\rremote: Counting objects:  69% (141/204)\u001b[K\rremote: Counting objects:  70% (143/204)\u001b[K\rremote: Counting objects:  71% (145/204)\u001b[K\rremote: Counting objects:  72% (147/204)\u001b[K\rremote: Counting objects:  73% (149/204)\u001b[K\rremote: Counting objects:  74% (151/204)\u001b[K\rremote: Counting objects:  75% (153/204)\u001b[K\rremote: Counting objects:  76% (156/204)\u001b[K\rremote: Counting objects:  77% (158/204)\u001b[K\rremote: Counting objects:  78% (160/204)\u001b[K\rremote: Counting objects:  79% (162/204)\u001b[K\rremote: Counting objects:  80% (164/204)\u001b[K\rremote: Counting objects:  81% (166/204)\u001b[K\rremote: Counting objects:  82% (168/204)\u001b[K\rremote: Counting objects:  83% (170/204)\u001b[K\rremote: Counting objects:  84% (172/204)\u001b[K\rremote: Counting objects:  85% (174/204)\u001b[K\rremote: Counting objects:  86% (176/204)\u001b[K\rremote: Counting objects:  87% (178/204)\u001b[K\rremote: Counting objects:  88% (180/204)\u001b[K\rremote: Counting objects:  89% (182/204)\u001b[K\rremote: Counting objects:  90% (184/204)\u001b[K\rremote: Counting objects:  91% (186/204)\u001b[K\rremote: Counting objects:  92% (188/204)\u001b[K\rremote: Counting objects:  93% (190/204)\u001b[K\rremote: Counting objects:  94% (192/204)\u001b[K\rremote: Counting objects:  95% (194/204)\u001b[K\rremote: Counting objects:  96% (196/204)\u001b[K\rremote: Counting objects:  97% (198/204)\u001b[K\rremote: Counting objects:  98% (200/204)\u001b[K\rremote: Counting objects:  99% (202/204)\u001b[K\rremote: Counting objects: 100% (204/204)\u001b[K\rremote: Counting objects: 100% (204/204), done.\u001b[K\n",
            "remote: Compressing objects:   0% (1/122)\u001b[K\rremote: Compressing objects:   1% (2/122)\u001b[K\rremote: Compressing objects:   2% (3/122)\u001b[K\rremote: Compressing objects:   3% (4/122)\u001b[K\rremote: Compressing objects:   4% (5/122)\u001b[K\rremote: Compressing objects:   5% (7/122)\u001b[K\rremote: Compressing objects:   6% (8/122)\u001b[K\rremote: Compressing objects:   7% (9/122)\u001b[K\rremote: Compressing objects:   8% (10/122)\u001b[K\rremote: Compressing objects:   9% (11/122)\u001b[K\rremote: Compressing objects:  10% (13/122)\u001b[K\rremote: Compressing objects:  11% (14/122)\u001b[K\rremote: Compressing objects:  12% (15/122)\u001b[K\rremote: Compressing objects:  13% (16/122)\u001b[K\rremote: Compressing objects:  14% (18/122)\u001b[K\rremote: Compressing objects:  15% (19/122)\u001b[K\rremote: Compressing objects:  16% (20/122)\u001b[K\rremote: Compressing objects:  17% (21/122)\u001b[K\rremote: Compressing objects:  18% (22/122)\u001b[K\rremote: Compressing objects:  19% (24/122)\u001b[K\rremote: Compressing objects:  20% (25/122)\u001b[K\rremote: Compressing objects:  21% (26/122)\u001b[K\rremote: Compressing objects:  22% (27/122)\u001b[K\rremote: Compressing objects:  23% (29/122)\u001b[K\rremote: Compressing objects:  24% (30/122)\u001b[K\rremote: Compressing objects:  25% (31/122)\u001b[K\rremote: Compressing objects:  26% (32/122)\u001b[K\rremote: Compressing objects:  27% (33/122)\u001b[K\rremote: Compressing objects:  28% (35/122)\u001b[K\rremote: Compressing objects:  29% (36/122)\u001b[K\rremote: Compressing objects:  30% (37/122)\u001b[K\rremote: Compressing objects:  31% (38/122)\u001b[K\rremote: Compressing objects:  32% (40/122)\u001b[K\rremote: Compressing objects:  33% (41/122)\u001b[K\rremote: Compressing objects:  34% (42/122)\u001b[K\rremote: Compressing objects:  35% (43/122)\u001b[K\rremote: Compressing objects:  36% (44/122)\u001b[K\rremote: Compressing objects:  37% (46/122)\u001b[K\rremote: Compressing objects:  38% (47/122)\u001b[K\rremote: Compressing objects:  39% (48/122)\u001b[K\rremote: Compressing objects:  40% (49/122)\u001b[K\rremote: Compressing objects:  41% (51/122)\u001b[K\rremote: Compressing objects:  42% (52/122)\u001b[K\rremote: Compressing objects:  43% (53/122)\u001b[K\rremote: Compressing objects:  44% (54/122)\u001b[K\rremote: Compressing objects:  45% (55/122)\u001b[K\rremote: Compressing objects:  46% (57/122)\u001b[K\rremote: Compressing objects:  47% (58/122)\u001b[K\rremote: Compressing objects:  48% (59/122)\u001b[K\rremote: Compressing objects:  49% (60/122)\u001b[K\rremote: Compressing objects:  50% (61/122)\u001b[K\rremote: Compressing objects:  51% (63/122)\u001b[K\rremote: Compressing objects:  52% (64/122)\u001b[K\rremote: Compressing objects:  53% (65/122)\u001b[K\rremote: Compressing objects:  54% (66/122)\u001b[K\rremote: Compressing objects:  55% (68/122)\u001b[K\rremote: Compressing objects:  56% (69/122)\u001b[K\rremote: Compressing objects:  57% (70/122)\u001b[K\rremote: Compressing objects:  58% (71/122)\u001b[K\rremote: Compressing objects:  59% (72/122)\u001b[K\rremote: Compressing objects:  60% (74/122)\u001b[K\rremote: Compressing objects:  61% (75/122)\u001b[K\rremote: Compressing objects:  62% (76/122)\u001b[K\rremote: Compressing objects:  63% (77/122)\u001b[K\rremote: Compressing objects:  64% (79/122)\u001b[K\rremote: Compressing objects:  65% (80/122)\u001b[K\rremote: Compressing objects:  66% (81/122)\u001b[K\rremote: Compressing objects:  67% (82/122)\u001b[K\rremote: Compressing objects:  68% (83/122)\u001b[K\rremote: Compressing objects:  69% (85/122)\u001b[K\rremote: Compressing objects:  70% (86/122)\u001b[K\rremote: Compressing objects:  71% (87/122)\u001b[K\rremote: Compressing objects:  72% (88/122)\u001b[K\rremote: Compressing objects:  73% (90/122)\u001b[K\rremote: Compressing objects:  74% (91/122)\u001b[K\rremote: Compressing objects:  75% (92/122)\u001b[K\rremote: Compressing objects:  76% (93/122)\u001b[K\rremote: Compressing objects:  77% (94/122)\u001b[K\rremote: Compressing objects:  78% (96/122)\u001b[K\rremote: Compressing objects:  79% (97/122)\u001b[K\rremote: Compressing objects:  80% (98/122)\u001b[K\rremote: Compressing objects:  81% (99/122)\u001b[K\rremote: Compressing objects:  82% (101/122)\u001b[K\rremote: Compressing objects:  83% (102/122)\u001b[K\rremote: Compressing objects:  84% (103/122)\u001b[K\rremote: Compressing objects:  85% (104/122)\u001b[K\rremote: Compressing objects:  86% (105/122)\u001b[K\rremote: Compressing objects:  87% (107/122)\u001b[K\rremote: Compressing objects:  88% (108/122)\u001b[K\rremote: Compressing objects:  89% (109/122)\u001b[K\rremote: Compressing objects:  90% (110/122)\u001b[K\rremote: Compressing objects:  91% (112/122)\u001b[K\rremote: Compressing objects:  92% (113/122)\u001b[K\rremote: Compressing objects:  93% (114/122)\u001b[K\rremote: Compressing objects:  94% (115/122)\u001b[K\rremote: Compressing objects:  95% (116/122)\u001b[K\rremote: Compressing objects:  96% (118/122)\u001b[K\rremote: Compressing objects:  97% (119/122)\u001b[K\rremote: Compressing objects:  98% (120/122)\u001b[K\rremote: Compressing objects:  99% (121/122)\u001b[K\rremote: Compressing objects: 100% (122/122)\u001b[K\rremote: Compressing objects: 100% (122/122), done.\u001b[K\n",
            "Receiving objects:   0% (1/845)   \rReceiving objects:   1% (9/845)   \rReceiving objects:   2% (17/845)   \rReceiving objects:   3% (26/845)   \rReceiving objects:   4% (34/845)   \rReceiving objects:   5% (43/845)   \rReceiving objects:   6% (51/845)   \rReceiving objects:   7% (60/845)   \rReceiving objects:   8% (68/845)   \rReceiving objects:   9% (77/845)   \rReceiving objects:  10% (85/845)   \rReceiving objects:  11% (93/845)   \rReceiving objects:  12% (102/845)   \rReceiving objects:  13% (110/845)   \rReceiving objects:  14% (119/845)   \rReceiving objects:  15% (127/845)   \rReceiving objects:  16% (136/845)   \rReceiving objects:  17% (144/845)   \rReceiving objects:  18% (153/845)   \rReceiving objects:  19% (161/845)   \rReceiving objects:  20% (169/845)   \rReceiving objects:  21% (178/845)   \rReceiving objects:  22% (186/845)   \rReceiving objects:  23% (195/845)   \rReceiving objects:  24% (203/845)   \rReceiving objects:  25% (212/845)   \rReceiving objects:  26% (220/845)   \rReceiving objects:  27% (229/845)   \rReceiving objects:  28% (237/845)   \rReceiving objects:  29% (246/845)   \rReceiving objects:  30% (254/845)   \rReceiving objects:  31% (262/845)   \rReceiving objects:  32% (271/845)   \rReceiving objects:  33% (279/845)   \rReceiving objects:  34% (288/845)   \rReceiving objects:  35% (296/845)   \rReceiving objects:  36% (305/845)   \rReceiving objects:  37% (313/845)   \rReceiving objects:  38% (322/845)   \rReceiving objects:  39% (330/845)   \rReceiving objects:  40% (338/845)   \rReceiving objects:  41% (347/845)   \rReceiving objects:  42% (355/845)   \rReceiving objects:  43% (364/845)   \rReceiving objects:  44% (372/845)   \rReceiving objects:  45% (381/845)   \rReceiving objects:  46% (389/845)   \rReceiving objects:  47% (398/845)   \rReceiving objects:  48% (406/845)   \rReceiving objects:  49% (415/845)   \rReceiving objects:  50% (423/845)   \rReceiving objects:  51% (431/845)   \rReceiving objects:  52% (440/845)   \rReceiving objects:  53% (448/845)   \rReceiving objects:  54% (457/845)   \rReceiving objects:  55% (465/845)   \rReceiving objects:  56% (474/845)   \rReceiving objects:  57% (482/845)   \rReceiving objects:  58% (491/845)   \rReceiving objects:  59% (499/845)   \rReceiving objects:  60% (507/845)   \rReceiving objects:  61% (516/845)   \rReceiving objects:  62% (524/845)   \rReceiving objects:  63% (533/845)   \rReceiving objects:  64% (541/845)   \rReceiving objects:  65% (550/845)   \rReceiving objects:  66% (558/845)   \rReceiving objects:  67% (567/845)   \rReceiving objects:  68% (575/845)   \rReceiving objects:  69% (584/845)   \rReceiving objects:  70% (592/845)   \rReceiving objects:  71% (600/845)   \rReceiving objects:  72% (609/845)   \rReceiving objects:  73% (617/845)   \rReceiving objects:  74% (626/845)   \rReceiving objects:  75% (634/845)   \rReceiving objects:  76% (643/845)   \rReceiving objects:  77% (651/845)   \rReceiving objects:  78% (660/845)   \rReceiving objects:  79% (668/845)   \rReceiving objects:  80% (676/845)   \rReceiving objects:  81% (685/845)   \rReceiving objects:  82% (693/845)   \rReceiving objects:  83% (702/845)   \rReceiving objects:  84% (710/845)   \rReceiving objects:  85% (719/845)   \rReceiving objects:  86% (727/845)   \rReceiving objects:  87% (736/845)   \rremote: Total 845 (delta 135), reused 124 (delta 82), pack-reused 641\u001b[K\n",
            "Receiving objects:  88% (744/845)   \rReceiving objects:  89% (753/845)   \rReceiving objects:  90% (761/845)   \rReceiving objects:  91% (769/845)   \rReceiving objects:  92% (778/845)   \rReceiving objects:  93% (786/845)   \rReceiving objects:  94% (795/845)   \rReceiving objects:  95% (803/845)   \rReceiving objects:  96% (812/845)   \rReceiving objects:  97% (820/845)   \rReceiving objects:  98% (829/845)   \rReceiving objects:  99% (837/845)   \rReceiving objects: 100% (845/845)   \rReceiving objects: 100% (845/845), 440.25 KiB | 16.93 MiB/s, done.\n",
            "Resolving deltas:   0% (0/525)   \rResolving deltas:   8% (44/525)   \rResolving deltas:  23% (122/525)   \rResolving deltas:  28% (147/525)   \rResolving deltas:  33% (177/525)   \rResolving deltas:  37% (196/525)   \rResolving deltas:  39% (208/525)   \rResolving deltas:  40% (211/525)   \rResolving deltas:  44% (235/525)   \rResolving deltas:  52% (274/525)   \rResolving deltas:  64% (336/525)   \rResolving deltas:  67% (354/525)   \rResolving deltas:  70% (368/525)   \rResolving deltas:  74% (389/525)   \rResolving deltas:  80% (424/525)   \rResolving deltas:  88% (467/525)   \rResolving deltas:  93% (489/525)   \rResolving deltas:  99% (521/525)   \rResolving deltas: 100% (525/525)   \rResolving deltas: 100% (525/525), done.\n",
            "/content/optim_raianars_Insight/Raianars_paper_One/optim_raianars_Insight/Raianars_Routines/functions_cec2014_data/Raianars_paper_One/ANN_read_matrix/optim_raianars_Insight\n"
          ]
        }
      ]
    },
    {
      "cell_type": "code",
      "metadata": {
        "id": "Va-6Xios8RjU",
        "colab": {
          "base_uri": "https://localhost:8080/"
        },
        "outputId": "f140aa1b-b04b-4828-c908-fd21bc7ec1fa"
      },
      "source": [
        "!git clone https://github.com/ucfilho/Raianars_paper_One #clonar do Github\n",
        "%cd Raianars_paper_One"
      ],
      "execution_count": null,
      "outputs": [
        {
          "output_type": "stream",
          "name": "stdout",
          "text": [
            "Cloning into 'Raianars_paper_One'...\n",
            "remote: Enumerating objects: 277, done.\u001b[K\n",
            "remote: Counting objects: 100% (148/148), done.\u001b[K\n",
            "remote: Compressing objects: 100% (65/65), done.\u001b[K\n",
            "remote: Total 277 (delta 83), reused 142 (delta 82), pack-reused 129\u001b[K\n",
            "Receiving objects: 100% (277/277), 667.30 KiB | 18.54 MiB/s, done.\n",
            "Resolving deltas: 100% (155/155), done.\n",
            "/content/optim_raianars_Insight/Raianars_paper_One/optim_raianars_Insight/Raianars_Routines/functions_cec2014_data/Raianars_paper_One/ANN_read_matrix/optim_raianars_Insight/Raianars_paper_One\n"
          ]
        }
      ]
    },
    {
      "cell_type": "code",
      "metadata": {
        "id": "_E15mKFURR6O"
      },
      "source": [
        "#import Go2Ann\n",
        "#import de_soma_Insight\n",
        "#import de_bounds_matriz\n",
        "#import Function\n",
        "import Go2MinMax\n",
        "from AvaliaX import AvaliaX\n",
        "import numpy as np\n",
        "import scipy.stats\n",
        "import random\n",
        "from GeraIndices import GeraIndices\n",
        "import numpy as np\n",
        "import time\n",
        "import matplotlib.pyplot as plt\n",
        "from random import randint\n",
        "from scipy import optimize\n",
        "import pandas as pd\n",
        "from sklearn.metrics import confusion_matrix"
      ],
      "execution_count": null,
      "outputs": []
    },
    {
      "cell_type": "code",
      "metadata": {
        "id": "ik3ZjkUKycUK",
        "colab": {
          "base_uri": "https://localhost:8080/"
        },
        "outputId": "ae65c317-7d39-452a-f27d-00645b161e54"
      },
      "source": [
        "############################### Importar códigos\n",
        "!git clone https://github.com/ucfilho/optim_raianars_Insight/ #clonar do Github\n",
        "%cd optim_raianars_Insight\n",
        "import de_soma_Insight\n",
        "import de_bounds_matriz"
      ],
      "execution_count": null,
      "outputs": [
        {
          "output_type": "stream",
          "name": "stdout",
          "text": [
            "Cloning into 'optim_raianars_Insight'...\n",
            "remote: Enumerating objects: 845, done.\u001b[K\n",
            "remote: Counting objects: 100% (204/204), done.\u001b[K\n",
            "remote: Compressing objects: 100% (122/122), done.\u001b[K\n",
            "remote: Total 845 (delta 135), reused 124 (delta 82), pack-reused 641\u001b[K\n",
            "Receiving objects: 100% (845/845), 440.25 KiB | 20.96 MiB/s, done.\n",
            "Resolving deltas: 100% (525/525), done.\n",
            "/content/optim_raianars_Insight/Raianars_paper_One/optim_raianars_Insight/Raianars_Routines/functions_cec2014_data/Raianars_paper_One/ANN_read_matrix/optim_raianars_Insight/Raianars_paper_One/optim_raianars_Insight\n"
          ]
        }
      ]
    },
    {
      "cell_type": "code",
      "metadata": {
        "id": "lJogRB30yepw",
        "colab": {
          "base_uri": "https://localhost:8080/"
        },
        "outputId": "75be1ba5-3260-401d-ea4f-d81556ee0558"
      },
      "source": [
        "#!git clone https://github.com/ucfilho/Raianars_paper_One #clonar do Github\n",
        "#%cd Raianars_paper_One\n",
        "\n",
        "!git clone https://github.com/ucfilho/Raianars_Routines #clonar do Github\n",
        "%cd Raianars_Routines"
      ],
      "execution_count": null,
      "outputs": [
        {
          "output_type": "stream",
          "name": "stdout",
          "text": [
            "Cloning into 'Raianars_Routines'...\n",
            "remote: Enumerating objects: 77, done.\u001b[K\n",
            "remote: Counting objects: 100% (77/77), done.\u001b[K\n",
            "remote: Compressing objects: 100% (73/73), done.\u001b[K\n",
            "remote: Total 77 (delta 23), reused 0 (delta 0), pack-reused 0\u001b[K\n",
            "Unpacking objects: 100% (77/77), done.\n",
            "/content/optim_raianars_Insight/Raianars_paper_One/optim_raianars_Insight/Raianars_Routines/functions_cec2014_data/Raianars_paper_One/ANN_read_matrix/optim_raianars_Insight/Raianars_paper_One/optim_raianars_Insight/Raianars_Routines\n"
          ]
        }
      ]
    },
    {
      "cell_type": "code",
      "source": [
        "!git clone https://github.com/ucfilho/functions_cec2014_data\n",
        "%cd functions_cec2014_data\n",
        "import F1_to_F27_cec2014_zero_to_hero\n",
        "import cec2014_names\n",
        "import cec2014_shift_rotate"
      ],
      "metadata": {
        "id": "Z66tL-D0qM1H",
        "colab": {
          "base_uri": "https://localhost:8080/"
        },
        "outputId": "79019e3b-d1e4-4f6d-9c72-b38f0afcb2ae"
      },
      "execution_count": null,
      "outputs": [
        {
          "output_type": "stream",
          "name": "stdout",
          "text": [
            "Cloning into 'functions_cec2014_data'...\n",
            "remote: Enumerating objects: 300, done.\u001b[K\n",
            "remote: Counting objects: 100% (6/6), done.\u001b[K\n",
            "remote: Compressing objects: 100% (6/6), done.\u001b[K\n",
            "remote: Total 300 (delta 2), reused 0 (delta 0), pack-reused 294\u001b[K\n",
            "Receiving objects: 100% (300/300), 465.31 KiB | 8.95 MiB/s, done.\n",
            "Resolving deltas: 100% (181/181), done.\n",
            "/content/optim_raianars_Insight/Raianars_paper_One/optim_raianars_Insight/Raianars_Routines/functions_cec2014_data/Raianars_paper_One/ANN_read_matrix/optim_raianars_Insight/Raianars_paper_One/optim_raianars_Insight/Raianars_Routines/functions_cec2014_data\n"
          ]
        }
      ]
    },
    {
      "cell_type": "code",
      "source": [
        "function_select = 'F15'\n",
        "Function = F1_to_F27_cec2014_zero_to_hero.F15\n",
        "Shift_Rotate= cec2014_shift_rotate.F15\n",
        "problem_size = 30 # possibles 2, 10, 20, 30, 50, 100"
      ],
      "metadata": {
        "id": "hN3HYnHmqX3f"
      },
      "execution_count": null,
      "outputs": []
    },
    {
      "cell_type": "code",
      "source": [
        "dim = problem_size "
      ],
      "metadata": {
        "id": "yCggKdhhtnp1"
      },
      "execution_count": null,
      "outputs": []
    },
    {
      "cell_type": "code",
      "source": [
        "f_matrix = \"M_\"+function_select[1:]+\"_D\"+str(problem_size) + \".txt\"\n",
        "shift_data_file=\"shift_data_\"+function_select[1:]+\".txt\"\n",
        "F_bias = cec2014_names.BiasValue()[function_select]\n",
        "type_fun = cec2014_names.TypeFunctions()[function_select]\n",
        "Function_CEC2014 =function_select + \"_\" + cec2014_names.NamesFunctions()[function_select]+\"_D_\"+str(problem_size)"
      ],
      "metadata": {
        "id": "r5pD3VaXqYAj"
      },
      "execution_count": null,
      "outputs": []
    },
    {
      "cell_type": "code",
      "source": [
        "!pip install --upgrade --no-cache-dir gdown"
      ],
      "metadata": {
        "id": "QFsJfpK3qfQy",
        "colab": {
          "base_uri": "https://localhost:8080/"
        },
        "outputId": "170d5d74-3a38-41a2-e16c-0ec50a09b815"
      },
      "execution_count": null,
      "outputs": [
        {
          "output_type": "stream",
          "name": "stdout",
          "text": [
            "Looking in indexes: https://pypi.org/simple, https://us-python.pkg.dev/colab-wheels/public/simple/\n",
            "Requirement already satisfied: gdown in /usr/local/lib/python3.7/dist-packages (4.4.0)\n",
            "Requirement already satisfied: six in /usr/local/lib/python3.7/dist-packages (from gdown) (1.15.0)\n",
            "Requirement already satisfied: filelock in /usr/local/lib/python3.7/dist-packages (from gdown) (3.7.0)\n",
            "Requirement already satisfied: requests[socks] in /usr/local/lib/python3.7/dist-packages (from gdown) (2.23.0)\n",
            "Requirement already satisfied: tqdm in /usr/local/lib/python3.7/dist-packages (from gdown) (4.64.0)\n",
            "Requirement already satisfied: beautifulsoup4 in /usr/local/lib/python3.7/dist-packages (from gdown) (4.6.3)\n",
            "Requirement already satisfied: chardet<4,>=3.0.2 in /usr/local/lib/python3.7/dist-packages (from requests[socks]->gdown) (3.0.4)\n",
            "Requirement already satisfied: idna<3,>=2.5 in /usr/local/lib/python3.7/dist-packages (from requests[socks]->gdown) (2.10)\n",
            "Requirement already satisfied: urllib3!=1.25.0,!=1.25.1,<1.26,>=1.21.1 in /usr/local/lib/python3.7/dist-packages (from requests[socks]->gdown) (1.24.3)\n",
            "Requirement already satisfied: certifi>=2017.4.17 in /usr/local/lib/python3.7/dist-packages (from requests[socks]->gdown) (2022.5.18.1)\n",
            "Requirement already satisfied: PySocks!=1.5.7,>=1.5.6 in /usr/local/lib/python3.7/dist-packages (from requests[socks]->gdown) (1.7.1)\n"
          ]
        }
      ]
    },
    {
      "cell_type": "code",
      "source": [
        "# !gdown --id 1yM-cGzp7F35bXZ-f80uoJHzGqAb52CPz\n",
        "# https://drive.google.com/file/d/1yM-cGzp7F35bXZ-f80uoJHzGqAb52CPz/view?usp=sharing\n",
        "!gdown --id 1yM-cGzp7F35bXZ-f80uoJHzGqAb52CPz"
      ],
      "metadata": {
        "id": "bCv2CFD3qp0q",
        "colab": {
          "base_uri": "https://localhost:8080/"
        },
        "outputId": "670a3f14-273d-4ee5-fc05-4e6fee31f5f4"
      },
      "execution_count": null,
      "outputs": [
        {
          "output_type": "stream",
          "name": "stdout",
          "text": [
            "/usr/local/lib/python3.7/dist-packages/gdown/cli.py:131: FutureWarning: Option `--id` was deprecated in version 4.3.1 and will be removed in 5.0. You don't need to pass it anymore to use a file ID.\n",
            "  category=FutureWarning,\n",
            "Downloading...\n",
            "From: https://drive.google.com/uc?id=1yM-cGzp7F35bXZ-f80uoJHzGqAb52CPz\n",
            "To: /content/optim_raianars_Insight/Raianars_paper_One/optim_raianars_Insight/Raianars_Routines/functions_cec2014_data/Raianars_paper_One/ANN_read_matrix/optim_raianars_Insight/Raianars_paper_One/optim_raianars_Insight/Raianars_Routines/functions_cec2014_data/cec2014.zip\n",
            "100% 36.1M/36.1M [00:00<00:00, 274MB/s]\n"
          ]
        }
      ]
    },
    {
      "cell_type": "code",
      "source": [
        "import zipfile\n",
        "file_name = zipfile.ZipFile('cec2014.zip', 'r')\n",
        "file_name.extractall()"
      ],
      "metadata": {
        "id": "-N1Hsa88W-Mr"
      },
      "execution_count": null,
      "outputs": []
    },
    {
      "cell_type": "code",
      "source": [
        "def load_shift_data__(data_file=None):\n",
        "    data = read_csv(data_file, delimiter='\\s+', index_col=False, header=None)\n",
        "    return data.values.reshape((-1))\n",
        "\n",
        "def load_matrix_data__(data_file=None):\n",
        "    data = read_csv(data_file, delimiter='\\s+', index_col=False, header=None)\n",
        "    return data.values"
      ],
      "metadata": {
        "id": "_tEgxfW4qwlt"
      },
      "execution_count": null,
      "outputs": []
    },
    {
      "cell_type": "code",
      "source": [
        "shift_data_a = load_shift_data__(shift_data_file)[:problem_size]\n",
        "matrix_a = load_matrix_data__(f_matrix)\n",
        "if (type_fun == 'hybrid'):\n",
        "  f_shuffle = \"shuffle_data_\"+function_select[1:]+\"_D\"+str(problem_size) + \".txt\"\n",
        "  shuffle = (load_shift_data__(f_shuffle)[:problem_size] - np.ones(problem_size)).astype(int)\n",
        "else:\n",
        "  shuffle = matrix_a"
      ],
      "metadata": {
        "id": "NJVx_raoq9GU"
      },
      "execution_count": null,
      "outputs": []
    },
    {
      "cell_type": "code",
      "source": [
        "SUPPORT_DIMENSION = [2, 10, 20, 30, 50, 100]\n",
        "SUPPORT_DIMENSION_2 = [10, 20, 30, 50, 100]\n",
        "\n",
        "#def Fun(solution,shift_data=shift_data_a, matrix=matrix_a, shuffle):#, bias=F_bias):\n",
        "def CEC2014(solution, shift_data ,  matrix, shuffle):#, bias=F_bias):\n",
        "  if(type_fun == 'shift_rotate'):\n",
        "    z = Shift_Rotate(solution , shift_data , matrix,shuffle)\n",
        "    result = Function(z) + F_bias\n",
        "  elif(type_fun =='hybrid'): # F17 to F22\n",
        "    z = Shift_Rotate(solution , shift_data , matrix,shuffle)\n",
        "    result = z + F_bias\n",
        " \n",
        "  return result"
      ],
      "metadata": {
        "id": "AF2E2EIwrC8o"
      },
      "execution_count": null,
      "outputs": []
    },
    {
      "cell_type": "code",
      "source": [
        " shift_data = shift_data_a\n",
        " matrix = matrix_a\n",
        " shuffle = shuffle\n",
        " def Hybrid(solution):\n",
        "   resp = CEC2014(solution, shift_data = shift_data_a, matrix = matrix_a, shuffle = shuffle)\n",
        "   return resp"
      ],
      "metadata": {
        "id": "jIcMJI-UrK8V"
      },
      "execution_count": null,
      "outputs": []
    },
    {
      "cell_type": "code",
      "source": [
        "!git clone https://github.com/ucfilho/Raianars_paper_One #clonar do Github\n",
        "%cd Raianars_paper_One"
      ],
      "metadata": {
        "id": "9Vsz9VQRrLVf",
        "colab": {
          "base_uri": "https://localhost:8080/"
        },
        "outputId": "341d223a-9160-4c9e-fba5-f5615b92ab9f"
      },
      "execution_count": null,
      "outputs": [
        {
          "output_type": "stream",
          "name": "stdout",
          "text": [
            "Cloning into 'Raianars_paper_One'...\n",
            "remote: Enumerating objects: 277, done.\u001b[K\n",
            "remote: Counting objects:   0% (1/148)\u001b[K\rremote: Counting objects:   1% (2/148)\u001b[K\rremote: Counting objects:   2% (3/148)\u001b[K\rremote: Counting objects:   3% (5/148)\u001b[K\rremote: Counting objects:   4% (6/148)\u001b[K\rremote: Counting objects:   5% (8/148)\u001b[K\rremote: Counting objects:   6% (9/148)\u001b[K\rremote: Counting objects:   7% (11/148)\u001b[K\rremote: Counting objects:   8% (12/148)\u001b[K\rremote: Counting objects:   9% (14/148)\u001b[K\rremote: Counting objects:  10% (15/148)\u001b[K\rremote: Counting objects:  11% (17/148)\u001b[K\rremote: Counting objects:  12% (18/148)\u001b[K\rremote: Counting objects:  13% (20/148)\u001b[K\rremote: Counting objects:  14% (21/148)\u001b[K\rremote: Counting objects:  15% (23/148)\u001b[K\rremote: Counting objects:  16% (24/148)\u001b[K\rremote: Counting objects:  17% (26/148)\u001b[K\rremote: Counting objects:  18% (27/148)\u001b[K\rremote: Counting objects:  19% (29/148)\u001b[K\rremote: Counting objects:  20% (30/148)\u001b[K\rremote: Counting objects:  21% (32/148)\u001b[K\rremote: Counting objects:  22% (33/148)\u001b[K\rremote: Counting objects:  23% (35/148)\u001b[K\rremote: Counting objects:  24% (36/148)\u001b[K\rremote: Counting objects:  25% (37/148)\u001b[K\rremote: Counting objects:  26% (39/148)\u001b[K\rremote: Counting objects:  27% (40/148)\u001b[K\rremote: Counting objects:  28% (42/148)\u001b[K\rremote: Counting objects:  29% (43/148)\u001b[K\rremote: Counting objects:  30% (45/148)\u001b[K\rremote: Counting objects:  31% (46/148)\u001b[K\rremote: Counting objects:  32% (48/148)\u001b[K\rremote: Counting objects:  33% (49/148)\u001b[K\rremote: Counting objects:  34% (51/148)\u001b[K\rremote: Counting objects:  35% (52/148)\u001b[K\rremote: Counting objects:  36% (54/148)\u001b[K\rremote: Counting objects:  37% (55/148)\u001b[K\rremote: Counting objects:  38% (57/148)\u001b[K\rremote: Counting objects:  39% (58/148)\u001b[K\rremote: Counting objects:  40% (60/148)\u001b[K\rremote: Counting objects:  41% (61/148)\u001b[K\rremote: Counting objects:  42% (63/148)\u001b[K\rremote: Counting objects:  43% (64/148)\u001b[K\rremote: Counting objects:  44% (66/148)\u001b[K\rremote: Counting objects:  45% (67/148)\u001b[K\rremote: Counting objects:  46% (69/148)\u001b[K\rremote: Counting objects:  47% (70/148)\u001b[K\rremote: Counting objects:  48% (72/148)\u001b[K\rremote: Counting objects:  49% (73/148)\u001b[K\rremote: Counting objects:  50% (74/148)\u001b[K\rremote: Counting objects:  51% (76/148)\u001b[K\rremote: Counting objects:  52% (77/148)\u001b[K\rremote: Counting objects:  53% (79/148)\u001b[K\rremote: Counting objects:  54% (80/148)\u001b[K\rremote: Counting objects:  55% (82/148)\u001b[K\rremote: Counting objects:  56% (83/148)\u001b[K\rremote: Counting objects:  57% (85/148)\u001b[K\rremote: Counting objects:  58% (86/148)\u001b[K\rremote: Counting objects:  59% (88/148)\u001b[K\rremote: Counting objects:  60% (89/148)\u001b[K\rremote: Counting objects:  61% (91/148)\u001b[K\rremote: Counting objects:  62% (92/148)\u001b[K\rremote: Counting objects:  63% (94/148)\u001b[K\rremote: Counting objects:  64% (95/148)\u001b[K\rremote: Counting objects:  65% (97/148)\u001b[K\rremote: Counting objects:  66% (98/148)\u001b[K\rremote: Counting objects:  67% (100/148)\u001b[K\rremote: Counting objects:  68% (101/148)\u001b[K\rremote: Counting objects:  69% (103/148)\u001b[K\rremote: Counting objects:  70% (104/148)\u001b[K\rremote: Counting objects:  71% (106/148)\u001b[K\rremote: Counting objects:  72% (107/148)\u001b[K\rremote: Counting objects:  73% (109/148)\u001b[K\rremote: Counting objects:  74% (110/148)\u001b[K\rremote: Counting objects:  75% (111/148)\u001b[K\rremote: Counting objects:  76% (113/148)\u001b[K\rremote: Counting objects:  77% (114/148)\u001b[K\rremote: Counting objects:  78% (116/148)\u001b[K\rremote: Counting objects:  79% (117/148)\u001b[K\rremote: Counting objects:  80% (119/148)\u001b[K\rremote: Counting objects:  81% (120/148)\u001b[K\rremote: Counting objects:  82% (122/148)\u001b[K\rremote: Counting objects:  83% (123/148)\u001b[K\rremote: Counting objects:  84% (125/148)\u001b[K\rremote: Counting objects:  85% (126/148)\u001b[K\rremote: Counting objects:  86% (128/148)\u001b[K\rremote: Counting objects:  87% (129/148)\u001b[K\rremote: Counting objects:  88% (131/148)\u001b[K\rremote: Counting objects:  89% (132/148)\u001b[K\rremote: Counting objects:  90% (134/148)\u001b[K\rremote: Counting objects:  91% (135/148)\u001b[K\rremote: Counting objects:  92% (137/148)\u001b[K\rremote: Counting objects:  93% (138/148)\u001b[K\rremote: Counting objects:  94% (140/148)\u001b[K\rremote: Counting objects:  95% (141/148)\u001b[K\rremote: Counting objects:  96% (143/148)\u001b[K\rremote: Counting objects:  97% (144/148)\u001b[K\rremote: Counting objects:  98% (146/148)\u001b[K\rremote: Counting objects:  99% (147/148)\u001b[K\rremote: Counting objects: 100% (148/148)\u001b[K\rremote: Counting objects: 100% (148/148), done.\u001b[K\n",
            "remote: Compressing objects:   1% (1/65)\u001b[K\rremote: Compressing objects:   3% (2/65)\u001b[K\rremote: Compressing objects:   4% (3/65)\u001b[K\rremote: Compressing objects:   6% (4/65)\u001b[K\rremote: Compressing objects:   7% (5/65)\u001b[K\rremote: Compressing objects:   9% (6/65)\u001b[K\rremote: Compressing objects:  10% (7/65)\u001b[K\rremote: Compressing objects:  12% (8/65)\u001b[K\rremote: Compressing objects:  13% (9/65)\u001b[K\rremote: Compressing objects:  15% (10/65)\u001b[K\rremote: Compressing objects:  16% (11/65)\u001b[K\rremote: Compressing objects:  18% (12/65)\u001b[K\rremote: Compressing objects:  20% (13/65)\u001b[K\rremote: Compressing objects:  21% (14/65)\u001b[K\rremote: Compressing objects:  23% (15/65)\u001b[K\rremote: Compressing objects:  24% (16/65)\u001b[K\rremote: Compressing objects:  26% (17/65)\u001b[K\rremote: Compressing objects:  27% (18/65)\u001b[K\rremote: Compressing objects:  29% (19/65)\u001b[K\rremote: Compressing objects:  30% (20/65)\u001b[K\rremote: Compressing objects:  32% (21/65)\u001b[K\rremote: Compressing objects:  33% (22/65)\u001b[K\rremote: Compressing objects:  35% (23/65)\u001b[K\rremote: Compressing objects:  36% (24/65)\u001b[K\rremote: Compressing objects:  38% (25/65)\u001b[K\rremote: Compressing objects:  40% (26/65)\u001b[K\rremote: Compressing objects:  41% (27/65)\u001b[K\rremote: Compressing objects:  43% (28/65)\u001b[K\rremote: Compressing objects:  44% (29/65)\u001b[K\rremote: Compressing objects:  46% (30/65)\u001b[K\rremote: Compressing objects:  47% (31/65)\u001b[K\rremote: Compressing objects:  49% (32/65)\u001b[K\rremote: Compressing objects:  50% (33/65)\u001b[K\rremote: Compressing objects:  52% (34/65)\u001b[K\rremote: Compressing objects:  53% (35/65)\u001b[K\rremote: Compressing objects:  55% (36/65)\u001b[K\rremote: Compressing objects:  56% (37/65)\u001b[K\rremote: Compressing objects:  58% (38/65)\u001b[K\rremote: Compressing objects:  60% (39/65)\u001b[K\rremote: Compressing objects:  61% (40/65)\u001b[K\rremote: Compressing objects:  63% (41/65)\u001b[K\rremote: Compressing objects:  64% (42/65)\u001b[K\rremote: Compressing objects:  66% (43/65)\u001b[K\rremote: Compressing objects:  67% (44/65)\u001b[K\rremote: Compressing objects:  69% (45/65)\u001b[K\rremote: Compressing objects:  70% (46/65)\u001b[K\rremote: Compressing objects:  72% (47/65)\u001b[K\rremote: Compressing objects:  73% (48/65)\u001b[K\rremote: Compressing objects:  75% (49/65)\u001b[K\rremote: Compressing objects:  76% (50/65)\u001b[K\rremote: Compressing objects:  78% (51/65)\u001b[K\rremote: Compressing objects:  80% (52/65)\u001b[K\rremote: Compressing objects:  81% (53/65)\u001b[K\rremote: Compressing objects:  83% (54/65)\u001b[K\rremote: Compressing objects:  84% (55/65)\u001b[K\rremote: Compressing objects:  86% (56/65)\u001b[K\rremote: Compressing objects:  87% (57/65)\u001b[K\rremote: Compressing objects:  89% (58/65)\u001b[K\rremote: Compressing objects:  90% (59/65)\u001b[K\rremote: Compressing objects:  92% (60/65)\u001b[K\rremote: Compressing objects:  93% (61/65)\u001b[K\rremote: Compressing objects:  95% (62/65)\u001b[K\rremote: Compressing objects:  96% (63/65)\u001b[K\rremote: Compressing objects:  98% (64/65)\u001b[K\rremote: Compressing objects: 100% (65/65)\u001b[K\rremote: Compressing objects: 100% (65/65), done.\u001b[K\n",
            "Receiving objects:   0% (1/277)   \rReceiving objects:   1% (3/277)   \rReceiving objects:   2% (6/277)   \rReceiving objects:   3% (9/277)   \rReceiving objects:   4% (12/277)   \rReceiving objects:   5% (14/277)   \rReceiving objects:   6% (17/277)   \rReceiving objects:   7% (20/277)   \rReceiving objects:   8% (23/277)   \rReceiving objects:   9% (25/277)   \rReceiving objects:  10% (28/277)   \rReceiving objects:  11% (31/277)   \rReceiving objects:  12% (34/277)   \rReceiving objects:  13% (37/277)   \rReceiving objects:  14% (39/277)   \rReceiving objects:  15% (42/277)   \rReceiving objects:  16% (45/277)   \rReceiving objects:  17% (48/277)   \rReceiving objects:  18% (50/277)   \rReceiving objects:  19% (53/277)   \rReceiving objects:  20% (56/277)   \rReceiving objects:  21% (59/277)   \rReceiving objects:  22% (61/277)   \rReceiving objects:  23% (64/277)   \rReceiving objects:  24% (67/277)   \rReceiving objects:  25% (70/277)   \rReceiving objects:  26% (73/277)   \rReceiving objects:  27% (75/277)   \rReceiving objects:  28% (78/277)   \rReceiving objects:  29% (81/277)   \rReceiving objects:  30% (84/277)   \rReceiving objects:  31% (86/277)   \rReceiving objects:  32% (89/277)   \rReceiving objects:  33% (92/277)   \rReceiving objects:  34% (95/277)   \rReceiving objects:  35% (97/277)   \rReceiving objects:  36% (100/277)   \rReceiving objects:  37% (103/277)   \rReceiving objects:  38% (106/277)   \rReceiving objects:  39% (109/277)   \rReceiving objects:  40% (111/277)   \rReceiving objects:  41% (114/277)   \rReceiving objects:  42% (117/277)   \rReceiving objects:  43% (120/277)   \rReceiving objects:  44% (122/277)   \rReceiving objects:  45% (125/277)   \rReceiving objects:  46% (128/277)   \rReceiving objects:  47% (131/277)   \rReceiving objects:  48% (133/277)   \rReceiving objects:  49% (136/277)   \rReceiving objects:  50% (139/277)   \rReceiving objects:  51% (142/277)   \rReceiving objects:  52% (145/277)   \rReceiving objects:  53% (147/277)   \rReceiving objects:  54% (150/277)   \rReceiving objects:  55% (153/277)   \rReceiving objects:  56% (156/277)   \rReceiving objects:  57% (158/277)   \rReceiving objects:  58% (161/277)   \rReceiving objects:  59% (164/277)   \rReceiving objects:  60% (167/277)   \rReceiving objects:  61% (169/277)   \rReceiving objects:  62% (172/277)   \rReceiving objects:  63% (175/277)   \rReceiving objects:  64% (178/277)   \rReceiving objects:  65% (181/277)   \rReceiving objects:  66% (183/277)   \rReceiving objects:  67% (186/277)   \rReceiving objects:  68% (189/277)   \rReceiving objects:  69% (192/277)   \rReceiving objects:  70% (194/277)   \rReceiving objects:  71% (197/277)   \rReceiving objects:  72% (200/277)   \rReceiving objects:  73% (203/277)   \rReceiving objects:  74% (205/277)   \rReceiving objects:  75% (208/277)   \rReceiving objects:  76% (211/277)   \rReceiving objects:  77% (214/277)   \rReceiving objects:  78% (217/277)   \rReceiving objects:  79% (219/277)   \rReceiving objects:  80% (222/277)   \rReceiving objects:  81% (225/277)   \rReceiving objects:  82% (228/277)   \rReceiving objects:  83% (230/277)   \rReceiving objects:  84% (233/277)   \rReceiving objects:  85% (236/277)   \rReceiving objects:  86% (239/277)   \rReceiving objects:  87% (241/277)   \rReceiving objects:  88% (244/277)   \rReceiving objects:  89% (247/277)   \rReceiving objects:  90% (250/277)   \rReceiving objects:  91% (253/277)   \rReceiving objects:  92% (255/277)   \rReceiving objects:  93% (258/277)   \rReceiving objects:  94% (261/277)   \rReceiving objects:  95% (264/277)   \rReceiving objects:  96% (266/277)   \rReceiving objects:  97% (269/277)   \rremote: Total 277 (delta 83), reused 142 (delta 82), pack-reused 129\u001b[K\n",
            "Receiving objects:  98% (272/277)   \rReceiving objects:  99% (275/277)   \rReceiving objects: 100% (277/277)   \rReceiving objects: 100% (277/277), 667.30 KiB | 23.83 MiB/s, done.\n",
            "Resolving deltas:   0% (0/155)   \rResolving deltas:  25% (40/155)   \rResolving deltas:  26% (41/155)   \rResolving deltas:  44% (69/155)   \rResolving deltas:  45% (70/155)   \rResolving deltas:  46% (72/155)   \rResolving deltas:  76% (119/155)   \rResolving deltas:  89% (138/155)   \rResolving deltas:  94% (147/155)   \rResolving deltas:  98% (153/155)   \rResolving deltas: 100% (155/155)   \rResolving deltas: 100% (155/155), done.\n",
            "/content/optim_raianars_Insight/Raianars_paper_One/optim_raianars_Insight/Raianars_Routines/functions_cec2014_data/Raianars_paper_One/ANN_read_matrix/optim_raianars_Insight/Raianars_paper_One/optim_raianars_Insight/Raianars_Routines/functions_cec2014_data/Raianars_paper_One\n"
          ]
        }
      ]
    },
    {
      "cell_type": "code",
      "source": [
        "MAX=np.repeat(100,dim)\n",
        "MIN=np.repeat(-100,dim)\n",
        "\n",
        "bounds=[]\n",
        "for k in range(len(MAX)):\n",
        "  bounds.append((MIN[k],MAX[k]))"
      ],
      "metadata": {
        "id": "ukk5Twiiq0MN"
      },
      "execution_count": null,
      "outputs": []
    },
    {
      "cell_type": "code",
      "metadata": {
        "id": "qTINtQ1cosZK",
        "colab": {
          "base_uri": "https://localhost:8080/"
        },
        "outputId": "44f6eadf-86a4-4efc-a2e7-78ed45031607"
      },
      "source": [
        "!git clone https://github.com/ucfilho/ANN_read_matrix #clonar do Github\n",
        "%cd ANN_read_matrix"
      ],
      "execution_count": null,
      "outputs": [
        {
          "output_type": "stream",
          "name": "stdout",
          "text": [
            "Cloning into 'ANN_read_matrix'...\n",
            "remote: Enumerating objects: 20, done.\u001b[K\n",
            "remote: Total 20 (delta 0), reused 0 (delta 0), pack-reused 20\u001b[K\n",
            "Unpacking objects: 100% (20/20), done.\n",
            "/content/optim_raianars_Insight/Raianars_paper_One/optim_raianars_Insight/Raianars_Routines/functions_cec2014_data/Raianars_paper_One/ANN_read_matrix/optim_raianars_Insight/Raianars_paper_One/optim_raianars_Insight/Raianars_Routines/functions_cec2014_data/Raianars_paper_One/ANN_read_matrix\n"
          ]
        }
      ]
    },
    {
      "cell_type": "code",
      "metadata": {
        "id": "QiQLYOoNoyCw"
      },
      "source": [
        "ANN_F=pd.read_csv('ANN_INSIGHT_Valor_F.csv')"
      ],
      "execution_count": null,
      "outputs": []
    },
    {
      "cell_type": "code",
      "metadata": {
        "id": "uHtW2amaDzFv"
      },
      "source": [
        "ANN_CR=pd.read_csv('ANN_INSIGHT_CR.csv')"
      ],
      "execution_count": null,
      "outputs": []
    },
    {
      "cell_type": "code",
      "metadata": {
        "id": "EH6h_vke2yu1"
      },
      "source": [
        "syn0_F,syn1_F,X_max_F,X_min_F=Go2Ann.GetMatriz(ANN_F)"
      ],
      "execution_count": null,
      "outputs": []
    },
    {
      "cell_type": "code",
      "metadata": {
        "id": "WW_3ZWJXD60i"
      },
      "source": [
        "syn0_CR,syn1_CR,X_max_CR,X_min_CR=Go2Ann.GetMatriz(ANN_CR)"
      ],
      "execution_count": null,
      "outputs": []
    },
    {
      "cell_type": "code",
      "metadata": {
        "id": "b4gwBvVTyaXh"
      },
      "source": [
        "ANN_CR=pd.read_csv('ANN_INSIGHT_CR.csv')"
      ],
      "execution_count": null,
      "outputs": []
    },
    {
      "cell_type": "code",
      "metadata": {
        "id": "6jL8MxpHvk-Y"
      },
      "source": [
        "fields = ['DI RELATIVO','FRAC Its','Fo','CRo']"
      ],
      "execution_count": null,
      "outputs": []
    },
    {
      "cell_type": "code",
      "metadata": {
        "id": "Mb3LmbSmj9v7",
        "colab": {
          "base_uri": "https://localhost:8080/"
        },
        "outputId": "18af746d-81e7-456c-de1c-ca33ba822122"
      },
      "source": [
        "##################################### \n",
        "\n",
        "TOTAL=10*dim*its*ITE\n",
        "TOTAL=int(TOTAL/2)   # CONFERIR SE ESTE EH O MELHOR LUGAR\n",
        "\n",
        "#dimensions=len(MAX)\n",
        "dimensions=dim\n",
        "start_time = time.time() #INICIALIZA CONTAGEM DO TEMPO\n",
        "\n",
        "\n",
        "PAR=dim\n",
        "Fun = Function\n",
        "fobj=Fun\n",
        "\n",
        "MAX_P=np.zeros(ITE) # ATENCAO para variar F e Cr MAX_P passa a ser 3 vezes maior\n",
        "MIN_P=np.zeros(ITE) # ATENCAO para variar F e Cr MIN_P passa a ser 3 vezes maior\n",
        "\n",
        "for i in range(dim):\n",
        "  MAX_P[i]=MAX[i] \n",
        "  MIN_P[i]=MIN[i]\n",
        "\n",
        "rodadas=1\n",
        "NPAR1=int(fator*NPAR);\n",
        "NPAR2=int((NPAR-NPAR1)/3);\n",
        "NPAR3=int((NPAR-NPAR1)/3);\n",
        "NPAR4=int((NPAR-NPAR1)/3);\n",
        "NPAR1 = NPAR-3*NPAR2\n",
        "print('frac=',fator);\n",
        "print('Npar1=',NPAR1);\n",
        "print('Npar2=',NPAR2);\n",
        "print('Npar3=',NPAR3);\n",
        "print('Npar4=',NPAR4);\n",
        "print('Npar=',NPAR)\n",
        "\n",
        "cols=dim\n",
        "\n",
        "X1=np.zeros((NPAR1,cols)) # X1 is Frannk population\n",
        "for i in range(NPAR1):\n",
        "  for j in range(cols):\n",
        "    r=np.random.random()\n",
        "    X1[i,j]=r*(MAX[j]-MIN[j])+MIN[j]\n",
        "    \n",
        "X2=np.zeros((NPAR2,cols)) # X2 is population DE (default DE)\n",
        "for i in range(NPAR2):\n",
        "  for j in range(cols):\n",
        "    r=np.random.random()\n",
        "    X2[i,j]=r*(MAX[j]-MIN[j])+MIN[j]\n",
        "\n",
        "X3=np.zeros((NPAR3,cols)) # X1 is Frannk population\n",
        "for i in range(NPAR3):\n",
        "  for j in range(cols):\n",
        "    r=np.random.random()\n",
        "    X3[i,j]=r*(MAX[j]-MIN[j])+MIN[j]\n",
        "    \n",
        "X4=np.zeros((NPAR4,cols)) # X2 is population DE (default DE)\n",
        "for i in range(NPAR4):\n",
        "  for j in range(cols):\n",
        "    r=np.random.random()\n",
        "    X4[i,j]=r*(MAX[j]-MIN[j])+MIN[j]\n",
        "    \n",
        " ############################################################\n",
        "  #bounds=[(5*dim, 15*dim)] * PONTOS # ITE\n",
        "  #bounds=[(3*dim, 12*dim)] * PONTOS # ITE\n",
        "  #bounds=[(4*dim, 16*dim)] * PONTOS\n",
        "  \n",
        "  # nao pode ser assim pq o bounds vale p o DE nao dos parametros\n",
        "  #p=int(TOTAL/its/ITE) \n",
        "  #bounds=[(p, p)] * PONTOS\n"
      ],
      "execution_count": null,
      "outputs": [
        {
          "output_type": "stream",
          "name": "stdout",
          "text": [
            "frac= 1.0\n",
            "Npar1= 100\n",
            "Npar2= 0\n",
            "Npar3= 0\n",
            "Npar4= 0\n",
            "Npar= 100\n"
          ]
        }
      ]
    },
    {
      "cell_type": "code",
      "metadata": {
        "id": "rnX8ttNopd1G",
        "colab": {
          "base_uri": "https://localhost:8080/"
        },
        "outputId": "e978a9fd-4928-42b2-aa2b-edc23a2668c1"
      },
      "source": [
        "start_time = time.time()\n",
        "BEST_AGENTS=[]\n",
        "MAT_stat=[]\n",
        "for iii in range(RUNS):\n",
        "    FES = 0 ; gen = 0 \n",
        "    MAT=[] \n",
        "    mut=Fi\n",
        "    crossp=CRi\n",
        "    SOMA=0\n",
        "    pop = np.random.rand(NPAR, dim)\n",
        "    diff=np.zeros(PAR)\n",
        "\n",
        "    NPAR = maxNP\n",
        "    # fator = 1.0\n",
        "    NPAR1=int(fator*NPAR);\n",
        "    '''\n",
        "    NPAR2=int((NPAR-NPAR1)/3);\n",
        "    NPAR3=int((NPAR-NPAR1)/3);\n",
        "    NPAR4=int((NPAR-NPAR1)/3);\n",
        "    NPAR1 = NPAR-3*NPAR2\n",
        "    '''\n",
        "\n",
        "    X1=np.zeros((NPAR1,cols)) # X1 is Frannk population\n",
        "    for i in range(NPAR1):\n",
        "      for j in range(cols):\n",
        "        r=np.random.random()\n",
        "        X1[i,j]=r*(MAX[j]-MIN[j])+MIN[j]\n",
        "    '''    \n",
        "    X2=np.zeros((NPAR2,cols)) # X2 is population DE (default DE)\n",
        "    for i in range(NPAR2):\n",
        "      for j in range(cols):\n",
        "        r=np.random.random()\n",
        "        X2[i,j]=r*(MAX[j]-MIN[j])+MIN[j]\n",
        "\n",
        "    X3=np.zeros((NPAR3,cols)) # X2 is population DE (default DE)\n",
        "    for i in range(NPAR3):\n",
        "      for j in range(cols):\n",
        "        r=np.random.random()\n",
        "        X3[i,j]=r*(MAX[j]-MIN[j])+MIN[j]\n",
        "\n",
        "    X4=np.zeros((NPAR4,cols)) # X2 is population DE (default DE)\n",
        "    for i in range(NPAR4):\n",
        "      for j in range(cols):\n",
        "        r=np.random.random()\n",
        "        X4[i,j]=r*(MAX[j]-MIN[j])+MIN[j]\n",
        "    '''\n",
        "    fit1 = np.asarray([fobj(ind) for ind in X1])\n",
        "    best_idx = np.argmin(fit1)\n",
        "    best = X1[best_idx]\n",
        "    fbest = fit1[best_idx] \n",
        "\n",
        "    '''\n",
        "    fit2 = np.asarray([fobj(ind) for ind in X2])\n",
        "    fit3 = np.asarray([fobj(ind) for ind in X3])\n",
        "    fit4 = np.asarray([fobj(ind) for ind in X4])\n",
        "    FES = FES + NPAR1 + NPAR2 + NPAR3+ NPAR4\n",
        "    '''\n",
        "    FES = FES + NPAR1\n",
        "    fit_best =[]\n",
        "    DIo=1e99\n",
        "  \n",
        "    CRo=crossp;Fo=mut;\n",
        "    #Fitness = np.asarray([Fun(ind, shift_data , matrix, shuffle) for ind in X1])\n",
        "    XY,BEST_XY,BESTo,FOBESTo=AvaliaX(X1,fit1 )\n",
        "    nrow,ncol=X1.shape\n",
        "    FES = FES + nrow\n",
        "\n",
        "    QUANT=17;MAT_INDo=np.zeros((1,QUANT)); # quantos indices esta fazendo\n",
        "    MAT_INDo[0,5]=nrow  # VALOR NP\n",
        "    MAT_INDo[0,6]=Fo    # VALOR Fo   \n",
        "    MAT_INDo[0,7]=CRo   # VALOR CRo\n",
        "\n",
        "    Fuma = Fun  # Fuma era Fun\n",
        "  \n",
        "    MAT_INDo=GeraIndices(X1,BESTo,FOBESTo,DIo,MAT_INDo,SOMA,TOTAL,syn0_F,\n",
        "                        syn1_F,X_max_F,X_min_F,syn0_CR,syn1_CR,X_max_CR,\n",
        "                        X_min_CR,Fc,fields,Fuma)\n",
        "  \n",
        "    DIo=np.copy(MAT_INDo[0,0])\n",
        "    MAT_INDo[0,15]=Fo    # VALOR Fo   \n",
        "    MAT_INDo[0,16]=CRo   # VALOR CRo\n",
        "\n",
        "    # Just to intialize variables:\n",
        "    FESr = 0\n",
        "    FOBEST1 = 1E99;FOBEST2 = 1E99;FOBEST3 = 1E99;FOBEST4 = 1E99\n",
        "    #BEST1,BEST2,BEST3,BEST4  =  np.copy(X1[0,:]),np.copy(X2[0,:]),np.copy(X3[0,:]), np.copy(X4[0,:]) \n",
        "    BEST1  =  np.copy(X1[0,:])\n",
        "    popsize = NPAR\n",
        "    FUNCTION = []\n",
        "    for i in range(H):\n",
        "      MCR.append(0.5);MF.append(0.5) # line 3\n",
        "    Narquive = popsize\n",
        "    setTUNE =[SF,SCR,MF,MCR,p, terminal, Narquive,H,kH]\n",
        "    while(FESr == 0 ):\n",
        "\n",
        "      #print('FES',FES)\n",
        "\n",
        "      gen = gen +1\n",
        "      ##=cool=#####################################################################################\n",
        "      '''\n",
        "      fback,Xback,BESTback,FOBESTback,FESback= np.copy(fit2),np.copy(X2),BEST2,FOBEST2,FES\n",
        "      fit2,X2,BEST2,FOBEST2,XY2,BEST_XY2,FES=classicDE_FES_new.de(bounds, mut2, crossp2,NPAR2, its,fobj,fit2,X2,FES) # de_bounds_matriz\n",
        "      if(FES > maxFES):\n",
        "        FESr = FES \n",
        "        fit2,X2,BEST2,FOBEST2,FES = np.copy(fback),np.copy(Xback),BESTback,FOBESTback,FESback\n",
        "      \n",
        "      fback,Xback,BESTback,FOBESTback,FESback= np.copy(fit3),np.copy(X3),BEST3,FOBEST3,FES\n",
        "      fit3,X3,BEST3,FOBEST3,XY3,BEST_XY3,FES=classicDE_FES_new.de(bounds, mut3, crossp3,NPAR3, its,fobj,fit3,X3,FES) #de_bounds_matriz\n",
        "      if(FES > maxFES): \n",
        "        FESr = FES\n",
        "        fit3,X3,BEST3,FOBEST3,FES = np.copy(fback),np.copy(Xback),BESTback,FOBESTback,FESback\n",
        "\n",
        "      fback,Xback,BESTback,FOBESTback,FESback= np.copy(fit4),np.copy(X4),BEST4,FOBEST4,FES\n",
        "      fit4,X4,BEST4,FOBEST4,XY4,BEST_XY4,FES=classicDE_FES_new.de(bounds, mut4, crossp4,NPAR4, its,fobj,fit4,X4,FES) # de_bounds_matriz\n",
        "      if(FES > maxFES): \n",
        "        FESr = FES\n",
        "        fit4,X4,BEST4,FOBEST4,FES = np.copy(fback),np.copy(Xback),BESTback,FOBESTback,FESback\n",
        "      '''\n",
        "      \n",
        "      \n",
        "\n",
        "      \n",
        "\n",
        "      fback,Xback,BESTback,FOBESTback,FESback= np.copy(fit1),np.copy(X1),BEST1,FOBEST1,FES\n",
        "      Xarqback = Xarq\n",
        "      #fit1,X1,BEST1,FOBEST1,XY,BEST_XY,FES = annDE_FES_new.de(MAX,MIN, mut, crossp, NPAR1, its,fobj,fit1,X1,FES)\n",
        "      fit1,X1,BEST1,FOBEST1,XY,BEST_XY,FES,Xarq,setTUNE= LShade_new.LShade(MAX,MIN, popsize,fobj,setTUNE,best,fbest,fit1,X1,Xarq,FES)\n",
        "    \n",
        "      if(FES > maxFES):\n",
        "        FESr = FES \n",
        "        fit1,X1,BEST1,FOBEST1,FES = np.copy(fback),np.copy(Xback),BESTback,FOBESTback,FESback\n",
        "        #Xarq = np.copy(Xarqback)\n",
        "        Xarq = Xarqback\n",
        "      calc = (minNP-maxNP)/maxFES*FES+maxNP # Linear Population Size Reduction (LPSR)\n",
        "      calc = int(np.round(calc)) # Linear Population Size Reduction (LPSR) \n",
        "      gen = gen + 1\n",
        "      #fator = 1.0\n",
        "      NPAR = calc\n",
        "      NPAR1=int(fator*NPAR);\n",
        "      NPAR2=int((NPAR-NPAR1)/3);\n",
        "      NPAR3=int((NPAR-NPAR1)/3);\n",
        "      NPAR4=int((NPAR-NPAR1)/3);\n",
        "      NPAR1 = NPAR-3*NPAR2\n",
        "      '''\n",
        "      if(NPAR2 > len(X2[:,0])):\n",
        "        NPAR2 = len(X2[:,0])\n",
        "      '''\n",
        "      if(NPAR1 > len(X1[:,0])):\n",
        "        NPAR1 = len(X1[:,0])\n",
        "\n",
        "      \n",
        "      X1 = X1[:NPAR1,:];\n",
        "      #if(len(Xarq)>0) : Xarq = Xarq[:NPAR1,:]\n",
        "      if(len(Xarq)>0) : Xarq = Xarq[:NPAR1]\n",
        "      # X2 = X2[:NPAR2,:]; X3 = X3[:NPAR3,:]; X4 = X4[:NPAR4,:];\n",
        "      fit1 = fit1[:NPAR1];# fit2 = fit2[:NPAR2]; fit3 = fit3[:NPAR3]; fit4 = fit4[:NPAR4];\n",
        "      popsize = NPAR1\n",
        "      Narquive = popsize\n",
        "      NP = popsize\n",
        "      '''\n",
        "      X1[0,:] = BEST2;X1[1,:] = BEST3; X1[2,:] = BEST4;X1[3,:] = BEST1;\n",
        "      X2[0,:] = BEST1;X2[1,:] = BEST3;X2[2,:] = BEST4;X2[3,:] = BEST2;\n",
        "      X3[0,:] = BEST1;X3[1,:] = BEST2;X3[2,:] = BEST4;X3[3,:] = BEST3;\n",
        "      X4[0,:] = BEST1;X4[1,:] = BEST2;X4[2,:] = BEST3;X4[3,:] = BEST4;\n",
        "      fit1[0] = FOBEST1; fit2[1] = FOBEST2;fit3[0] = FOBEST3; fit4[1] = FOBEST4;\n",
        "      '''\n",
        "    '''\n",
        "    for i in range(FIX):\n",
        "      \n",
        "        Fitback,Xback,BESTback,FOBESTback,FESback= np.copy(fit2), np.copy(X2),BEST2,FOBEST2,FES\n",
        "        \n",
        "        if ( FESr == 0):\n",
        "          Fitback,Xback,BESTback,FOBESTback,FESback= np.copy(X2),BEST2,FOBEST2,FES\n",
        "          fit2,X2,BEST2,FOBEST2,XY2,BEST_XY2,FESr=classicDE_FES_new.de(bounds,mut_best, crossp_best,NPAR2, its,fobj,fit2,X2,FES) # de_bounds_matriz\n",
        "        if ( FESr > 0):\n",
        "          fit2, X2,BEST2,FOBEST2,FES = np.copy(Fitback),np.copy(Xback),BESTback,FOBESTback,FESback\n",
        "\n",
        "\n",
        "        if(FES > maxFES): \n",
        "          fit2, X2,BEST2,FOBEST2,FES = np.copy(Fitback),np.copy(Xback),BESTback,FOBESTback,FESback\n",
        "        \n",
        "        \n",
        "        fit2,X2,BEST2,FOBEST2,XY,BEST_XY, FES= stepsWALK_new.fixWALK(Fun,BEST2,FOBEST2,NPAR2,tunePAR,MAX,MIN,fit2,X2,FIX)\n",
        "        # print('FES',FES)\n",
        "\n",
        "      ############################################################################################\n",
        "      ############################################################################################\n",
        "    \n",
        "    if(FES > maxFES):\n",
        "      fit2,X2,BEST2,FOBEST2,FES = np.copy(Fitback),np.copy(Xback),BESTback,FOBESTback,FESback\n",
        "\n",
        "    FUNCTION.append(FOBEST2)\n",
        "    '''\n",
        "    #setTUNE= [SF,SCR,MF,MCR,p, terminal, Narquive]\n",
        "    setTUNE =[SF,SCR,MF,MCR,p, terminal, Narquive,H,kH]\n",
        "    print('run=',iii,'gen=',gen,'time=',(time.time()-start_time)/60, 'eval FES=', FES,'FO=',FOBEST1)  \n",
        "    BEST_AGENTS.append(BEST_XY)"
      ],
      "execution_count": null,
      "outputs": [
        {
          "output_type": "stream",
          "name": "stdout",
          "text": [
            "run= 0 gen= 8682 time= 3.286675198872884 eval FES= 299994 FO= 1.113418259287601\n",
            "run= 1 gen= 8682 time= 6.415277008215586 eval FES= 299994 FO= 0.2707416258921358\n",
            "run= 2 gen= 8682 time= 9.537405180931092 eval FES= 299994 FO= 0.4490225636092483\n",
            "run= 3 gen= 8682 time= 12.661355702082316 eval FES= 299994 FO= 0.3840914319749379\n",
            "run= 4 gen= 8682 time= 15.775477047761282 eval FES= 299994 FO= 0.48820422977887734\n",
            "run= 5 gen= 8682 time= 18.88550329208374 eval FES= 299994 FO= 0.4080050894819406\n",
            "run= 6 gen= 8682 time= 21.991759037971498 eval FES= 299994 FO= 0.5642685921849816\n",
            "run= 7 gen= 8682 time= 25.106583392620088 eval FES= 299994 FO= 0.5876143015055537\n",
            "run= 8 gen= 8682 time= 28.224799970785778 eval FES= 299994 FO= 0.45326549920708825\n",
            "run= 9 gen= 8682 time= 31.332482123374938 eval FES= 299994 FO= 0.5782478538644766\n",
            "run= 10 gen= 8682 time= 34.441240159670514 eval FES= 299994 FO= 0.6577161417811747\n",
            "run= 11 gen= 8682 time= 37.55910927454631 eval FES= 299994 FO= 0.40618481503946524\n",
            "run= 12 gen= 8682 time= 40.6771222392718 eval FES= 299994 FO= 0.4328626751037661\n",
            "run= 13 gen= 8682 time= 43.77913820346196 eval FES= 299994 FO= 0.24039035432574352\n",
            "run= 14 gen= 8682 time= 46.89969493150711 eval FES= 299994 FO= 0.5982247059438366\n",
            "run= 15 gen= 8682 time= 50.01009100278218 eval FES= 299994 FO= 0.6020275345120383\n",
            "run= 16 gen= 8682 time= 53.119352491696674 eval FES= 299994 FO= 0.5465876716302698\n",
            "run= 17 gen= 8682 time= 56.230698549747466 eval FES= 299994 FO= 0.34246073083311\n",
            "run= 18 gen= 8682 time= 59.34123410781225 eval FES= 299994 FO= 0.44430201497484345\n",
            "run= 19 gen= 8682 time= 62.45185652971268 eval FES= 299994 FO= 0.46494895197024955\n",
            "run= 20 gen= 8682 time= 65.56447470188141 eval FES= 299994 FO= 0.6463875569517958\n",
            "run= 21 gen= 8682 time= 68.6669612288475 eval FES= 299994 FO= 0.40329811307892804\n",
            "run= 22 gen= 8682 time= 71.76892350912094 eval FES= 299994 FO= 0.6909080895022852\n",
            "run= 23 gen= 8682 time= 74.88195341428121 eval FES= 299994 FO= 0.36837362831449105\n",
            "run= 24 gen= 8682 time= 77.98467474778494 eval FES= 299994 FO= 0.5751239388255718\n",
            "run= 25 gen= 8682 time= 81.09239877462387 eval FES= 299994 FO= 0.56490145110993\n",
            "run= 26 gen= 8682 time= 84.20353474617005 eval FES= 299994 FO= 0.4302209658031534\n",
            "run= 27 gen= 8682 time= 87.31309206088385 eval FES= 299994 FO= 0.4073260983349949\n",
            "run= 28 gen= 8682 time= 90.42142962614695 eval FES= 299994 FO= 0.3705193248404789\n",
            "run= 29 gen= 8682 time= 93.5277518192927 eval FES= 299994 FO= 0.44674271972548407\n",
            "run= 30 gen= 8682 time= 96.62777155240377 eval FES= 299994 FO= 0.5047550075152059\n",
            "run= 31 gen= 8682 time= 99.72671319643656 eval FES= 299994 FO= 0.4874480387169756\n",
            "run= 32 gen= 8682 time= 102.83225088914236 eval FES= 299994 FO= 0.26128530916384607\n",
            "run= 33 gen= 8682 time= 105.93437604109447 eval FES= 299994 FO= 0.5764066556887109\n",
            "run= 34 gen= 8682 time= 109.04696754217147 eval FES= 299994 FO= 0.4470080585227866\n",
            "run= 35 gen= 8682 time= 112.15072621107102 eval FES= 299994 FO= 0.6290990848254825\n",
            "run= 36 gen= 8682 time= 115.25734144846598 eval FES= 299994 FO= 0.48865781432492983\n",
            "run= 37 gen= 8682 time= 118.36424987713495 eval FES= 299994 FO= 0.49475907728488977\n",
            "run= 38 gen= 8682 time= 121.47192711432776 eval FES= 299994 FO= 0.34576973503429276\n",
            "run= 39 gen= 8682 time= 124.5795009414355 eval FES= 299994 FO= 0.49422553714633644\n",
            "run= 40 gen= 8682 time= 127.69088211059571 eval FES= 299994 FO= 0.6202774387485527\n",
            "run= 41 gen= 8682 time= 130.798178199927 eval FES= 299994 FO= 0.5061499641375778\n",
            "run= 42 gen= 8682 time= 133.90617992083233 eval FES= 299994 FO= 0.4366968472410587\n",
            "run= 43 gen= 8682 time= 137.01776214440665 eval FES= 299994 FO= 0.4034822047936344\n",
            "run= 44 gen= 8682 time= 140.119329671065 eval FES= 299994 FO= 0.5038317552071558\n",
            "run= 45 gen= 8682 time= 143.22721965312957 eval FES= 299994 FO= 0.6701440858786574\n",
            "run= 46 gen= 8682 time= 146.33371518850328 eval FES= 299994 FO= 0.3405988784890127\n",
            "run= 47 gen= 8682 time= 149.44119137128195 eval FES= 299994 FO= 0.5823240361954314\n",
            "run= 48 gen= 8682 time= 152.5605409781138 eval FES= 299994 FO= 0.763390634076275\n",
            "run= 49 gen= 8682 time= 155.6710705081622 eval FES= 299994 FO= 0.4546182698250818\n"
          ]
        }
      ]
    },
    {
      "cell_type": "code",
      "metadata": {
        "id": "TLEE0UrZSvJF",
        "colab": {
          "base_uri": "https://localhost:8080/"
        },
        "outputId": "b6e88eec-d776-4105-a152-88e39e1b3467"
      },
      "source": [
        "#len(X2[1,:])\n",
        "print(cols)"
      ],
      "execution_count": null,
      "outputs": [
        {
          "output_type": "stream",
          "name": "stdout",
          "text": [
            "30\n"
          ]
        }
      ]
    },
    {
      "cell_type": "code",
      "source": [
        "BEST_AGENTS=np.array(BEST_AGENTS)"
      ],
      "metadata": {
        "id": "scZnrGN1uoW3"
      },
      "execution_count": null,
      "outputs": []
    },
    {
      "cell_type": "code",
      "metadata": {
        "id": "k3p9TGsx1OCu"
      },
      "source": [
        "NOMES=['DIVERSIDADE (DI)',  'DI RELATIVO','FRAC Its',\n",
        "           'VELOC FOBJ','VELOC X','NP','Fo','CRo','fmin','fmax',\n",
        "           'AD_fmin','AD_fmax','DELTA FOBJ','DELTA VX','r_fitness',\n",
        "           'F','CR']\n",
        "# BEST_INDEX= BEST_AGENTS[BEST_AGENTS[:,-1].argmin()]  \n",
        "BEST_INDEX = np.argmin(BEST_AGENTS[:,-1])\n",
        "#df=pd.DataFrame(MAT_stat[BEST_INDEX], columns=NOMES)\n",
        "\n"
      ],
      "execution_count": null,
      "outputs": []
    },
    {
      "cell_type": "code",
      "source": [
        "TIME = (time.time() - start_time)/RUNS\n",
        "BEST_AGENTS=np.array(BEST_AGENTS)\n",
        "BEST_AGENTS_ST= BEST_AGENTS[BEST_AGENTS[:,-1].argsort()]\n",
        "BEST=BEST_AGENTS_ST[0]\n",
        "WORSE=BEST_AGENTS_ST[-1]\n",
        "MEAN=np.mean(BEST_AGENTS,axis=0)\n",
        "MAXFO=BEST_AGENTS[:,-1].max()\n",
        "MINFO=BEST_AGENTS[:,-1].min()\n",
        "STD=BEST_AGENTS[:,-1].std()    "
      ],
      "metadata": {
        "id": "CqGHCBBnw7jn"
      },
      "execution_count": null,
      "outputs": []
    },
    {
      "cell_type": "code",
      "metadata": {
        "id": "lNSN5X-wskcx",
        "colab": {
          "base_uri": "https://localhost:8080/"
        },
        "outputId": "e628b322-b15e-4bc1-80b1-7cf16ddc72ca"
      },
      "source": [
        "nome='SUB'+'_Fo-'+str(Fi)+'_CRo-'+str(CRi)+'_D-'+str(dim)+'_Interv-'+str(ITE)\n",
        "print('MCS-FRANNK','Fator F/DE= %.2f' %(fator),'NPAR=',NPAR,'Iterações=',ITE*its,'Dim=', PAR,\"Min/Max=\",MIN[0],\"/\",MAX[0],'_',Fun.__name__)\n",
        "print(nome, '\\n')\n",
        "#print('BEST: ',BEST)\n",
        "#print('MÉDIA: ',MEAN)\n",
        "print('MÉDIA: ',MEAN[-1],'STD __:',STD)\n",
        "print('MIN __:',MINFO, 'MAX__: ',MAXFO)\n",
        "print(MEAN[-1])\n",
        "print(STD)\n",
        "print(MINFO)\n",
        "print(\"Tempo Médio= %.3f segundos ---\" % (TIME))\n",
        "print(RUNS,'Rodadas') \n",
        "print()\n",
        "print('BEST: ',BEST)\n",
        "# print('melhor=',BEST_AGENTS[BEST_INDEX])"
      ],
      "execution_count": null,
      "outputs": [
        {
          "output_type": "stream",
          "name": "stdout",
          "text": [
            "MCS-FRANNK Fator F/DE= 1.00 NPAR= 17 Iterações= 1000 Dim= 30 Min/Max= -100 / 100 _ F15\n",
            "SUB_Fo-0.5_CRo-0.5_D-30_Interv-1000 \n",
            "\n",
            "MÉDIA:  0.49894157352721535 STD __: 0.14316916173043237\n",
            "MIN __: 0.24039035432574352 MAX__:  1.113418259287601\n",
            "0.49894157352721535\n",
            "0.14316916173043237\n",
            "0.24039035432574352\n",
            "Tempo Médio= 501.016 segundos ---\n",
            "50 Rodadas\n",
            "\n",
            "BEST:  [0.90003261 0.79771776 0.88636911 1.03673441 1.11392799 0.98957259\n",
            " 0.95732134 0.902133   0.80177113 0.99727654 1.02716649 1.07923951\n",
            " 0.91445955 0.87241035 1.01112846 1.03022835 1.06598827 0.88518179\n",
            " 0.75145407 0.81428552 1.01736136 1.04421202 1.09106994 1.1908272\n",
            " 1.16770825 1.00946533 1.00388813 0.9944661  0.97264545 0.95748633\n",
            " 0.24039035]\n"
          ]
        }
      ]
    },
    {
      "cell_type": "code",
      "source": [
        "MF,MCR,SF,SCR"
      ],
      "metadata": {
        "id": "3RQpDGEjsGVx"
      },
      "execution_count": null,
      "outputs": []
    },
    {
      "cell_type": "code",
      "source": [
        "FES,Xarq"
      ],
      "metadata": {
        "id": "uX1gnDDVPlWX"
      },
      "execution_count": null,
      "outputs": []
    }
  ]
}
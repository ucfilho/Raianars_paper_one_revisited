{
  "nbformat": 4,
  "nbformat_minor": 0,
  "metadata": {
    "colab": {
      "name": "CFRANNK_1/3_LSHADE_1/3_DE_random_F15_180/30cec2014.ipynb",
      "provenance": [],
      "collapsed_sections": [],
      "include_colab_link": true
    },
    "kernelspec": {
      "name": "python3",
      "display_name": "Python 3"
    },
    "language_info": {
      "codemirror_mode": {
        "name": "ipython",
        "version": 3
      },
      "file_extension": ".py",
      "mimetype": "text/x-python",
      "name": "python",
      "nbconvert_exporter": "python",
      "pygments_lexer": "ipython3",
      "version": "3.7.3"
    }
  },
  "cells": [
    {
      "cell_type": "markdown",
      "metadata": {
        "id": "view-in-github",
        "colab_type": "text"
      },
      "source": [
        "<a href=\"https://colab.research.google.com/github/ucfilho/Raianars_paper_one_revisited/blob/main/After_asked_reviews_one_2022/LSHADE/CFRANNK_1_3_LSHADE_1_3_DE_random_F15_180_30cec2014.ipynb\" target=\"_parent\"><img src=\"https://colab.research.google.com/assets/colab-badge.svg\" alt=\"Open In Colab\"/></a>"
      ]
    },
    {
      "cell_type": "code",
      "source": [
        "############################### DADOS DE ENTRADA \n",
        " \n",
        "# this code only run from F22 to F25 (you just need to change this line the pararameters and type =cool= \n",
        "#          to go to line to change IFrank, de best or your combination\n",
        "RUNS=50 #NÚMERO DE RODADAS\n",
        "Fc=0.1 # fator de correcao parametros da ANN\n",
        "its=1 #10 # quantas vezes vai usar o NPAR antes de alterar de novo\n",
        "ITE=1000 #10 # PONTOS quantas vezes vai alteral NPAR \n",
        "NPAR=100\n",
        "mut=0.5\n",
        "crossp=0.5\n",
        "Fi=mut;CRi=crossp;# para impressão\n",
        "fator = 1.0/3.0; \n",
        "#fator = 1.0 # just LSHADE...\n",
        "mut2=0.5;crossp2=0.5;mut3=0.5;crossp3=0.5;mut4=0.25;crossp4=0.25;\n",
        "mut_best  =0.5 ; crossp_best =0.5\n",
        "maxNP = 180\n",
        "minNP = 30\n",
        "maxFES =300000\n",
        "FIX = 100 # Number of adjusts random walk\n",
        "H = 6\n",
        "kH = 0 # kH is used to work with H  \n",
        "terminal = 0.1\n",
        "p=0.1\n",
        "SF=[];SCR=[];MF=[];MCR=[];Xarq=[]\n",
        "muARRAY = [0.5,0.75,0.25,0.25,0.75]\n",
        "crARRAY = [0.5,0.25,0.75,0.25,0.75]\n",
        "numARRAY = len(muARRAY)\n"
      ],
      "metadata": {
        "id": "SWHauA_QxHPz"
      },
      "execution_count": null,
      "outputs": []
    },
    {
      "cell_type": "code",
      "metadata": {
        "colab": {
          "base_uri": "https://localhost:8080/"
        },
        "id": "c59cDVKoxDLX",
        "outputId": "f4246b0d-7f92-45a3-c214-7251b405ef3f"
      },
      "source": [
        "############################### Importar códigos\n",
        "!git clone https://github.com/ucfilho/optim_raianars_Insight/ #clonar do Github\n",
        "%cd optim_raianars_Insight\n",
        "import de_soma_Insight\n",
        "import de_bounds_matriz\n",
        "import Go2Ann\n",
        "import randomWALK\n",
        "import annDE_FES_new\n",
        "import classicDE_FES_new\n",
        "import stepsWALK_new\n",
        "import LShade_new\n",
        "from pandas import read_csv"
      ],
      "execution_count": null,
      "outputs": [
        {
          "output_type": "stream",
          "name": "stdout",
          "text": [
            "fatal: destination path 'optim_raianars_Insight' already exists and is not an empty directory.\n",
            "/content/optim_raianars_Insight\n",
            "i= 0 682.1166530671272\n",
            "MCR= [0.5535566867531706, 0.5, 0.5, 0.5, 0.5, 0.5]\n",
            "MF= [0.5059031146545037, 0.5, 0.5, 0.5, 0.5, 0.5]\n",
            "i= 100 0.5371029164085654\n",
            "MCR= [0.8703452140443655, 0.8006749504805502, 0.8830758270367066, 0.7636791170527674, 0.8847198507879959, 0.8829734620881855]\n",
            "MF= [0.6248425714260728, 0.41097276361352897, 0.6552371266221615, 0.6521860947363209, 0.6629506854611269, 0.644972371020696]\n",
            "i= 200 0.4146190387178264\n",
            "MCR= [0.8466039725542619, 0.6164057148396516, 0.7338295930810049, 0.6495364536918508, 0.7284026664295125, 0.6059268015763779]\n",
            "MF= [0.0835605713586344, 0.05976362334808582, 0.21616828873603386, 0.038149344440666276, 0.019544024696910217, 0.5768512821370865]\n",
            "i= 300 0.4069285855624353\n",
            "MCR= [0.6364533683090975, 0.5990657320100119, 0.3357487132529787, 0.36185449689197263, 0.5226075787529995, 0.3686436417147192]\n",
            "MF= [0.3341626379263159, 0.18464987427401044, 0.269715678469062, 0.41593586236065194, 0.224510647506514, 0.28047661409749014]\n",
            "i= 400 0.31592205125169115\n",
            "MCR= [0.1, 0.1, 0.1, 0.1, 0.1, 0.1]\n",
            "MF= [0.32514605801758245, 0.33462610370863205, 0.23148726962849858, 0.14845305947235388, 0.21669312552787404, 0.04655693353134347]\n",
            "i= 500 0.3028826693495015\n",
            "MCR= [0.1, 0.1, 0.1, 0.1, 0.1, 0.1]\n",
            "MF= [0.023881137949452864, 0.0004468764451017425, 0.26802691757819475, 0.1189014741912583, 0.12168287739031963, 0.0037514377276862652]\n",
            "i= 600 0.29092977344500526\n",
            "MCR= [0.1, 0.1, 0.1, 0.1, 0.1, 0.1]\n",
            "MF= [0.0259360231970452, 0.10052697028924355, 0.0005723895003484017, 0.07603704205724139, 0.016924380833584312, 0.018838211239993075]\n",
            "i= 700 0.25919696828481864\n",
            "MCR= [0.1, 0.1, 0.1, 0.1, 0.1, 0.1]\n",
            "MF= [0.03613241065364333, 0.04518965030060159, 0.048585244083059254, 0.009696977196751541, 0.07447313569104547, 0.017673718119220683]\n",
            "i= 800 0.25919696828481864\n",
            "MCR= [0.1, 0.1, 0.1, 0.1, 0.1, 0.1]\n",
            "MF= [0.0001489520134902063, 0.1074780919861693, 0.0010649036705736542, 0.07014165599371502, 0.0006350199791107636, 0.0004848295780635841]\n",
            "i= 900 0.25919696828481864\n",
            "MCR= [0.1, 0.1, 0.1, 0.1, 0.1, 0.1]\n",
            "MF= [0.20212205958555968, 0.027415426001181843, 0.03693886894619729, 0.0029034459283556815, 0.002019790944396402, 0.026413714803877695]\n"
          ]
        }
      ]
    },
    {
      "cell_type": "code",
      "metadata": {
        "id": "Va-6Xios8RjU"
      },
      "source": [
        "!git clone https://github.com/ucfilho/Raianars_paper_One #clonar do Github\n",
        "%cd Raianars_paper_One"
      ],
      "execution_count": null,
      "outputs": []
    },
    {
      "cell_type": "code",
      "metadata": {
        "id": "_E15mKFURR6O"
      },
      "source": [
        "#import Go2Ann\n",
        "#import de_soma_Insight\n",
        "#import de_bounds_matriz\n",
        "#import Function\n",
        "import Go2MinMax\n",
        "from AvaliaX import AvaliaX\n",
        "import numpy as np\n",
        "import scipy.stats\n",
        "import random\n",
        "from GeraIndices import GeraIndices\n",
        "import numpy as np\n",
        "import time\n",
        "import matplotlib.pyplot as plt\n",
        "from random import randint\n",
        "from scipy import optimize\n",
        "import pandas as pd\n",
        "from sklearn.metrics import confusion_matrix"
      ],
      "execution_count": null,
      "outputs": []
    },
    {
      "cell_type": "code",
      "metadata": {
        "id": "ik3ZjkUKycUK"
      },
      "source": [
        "############################### Importar códigos\n",
        "!git clone https://github.com/ucfilho/optim_raianars_Insight/ #clonar do Github\n",
        "%cd optim_raianars_Insight\n",
        "import de_soma_Insight\n",
        "import de_bounds_matriz"
      ],
      "execution_count": null,
      "outputs": []
    },
    {
      "cell_type": "code",
      "metadata": {
        "id": "lJogRB30yepw"
      },
      "source": [
        "#!git clone https://github.com/ucfilho/Raianars_paper_One #clonar do Github\n",
        "#%cd Raianars_paper_One\n",
        "\n",
        "!git clone https://github.com/ucfilho/Raianars_Routines #clonar do Github\n",
        "%cd Raianars_Routines"
      ],
      "execution_count": null,
      "outputs": []
    },
    {
      "cell_type": "code",
      "source": [
        "!git clone https://github.com/ucfilho/functions_cec2014_data\n",
        "%cd functions_cec2014_data\n",
        "import F1_to_F27_cec2014_zero_to_hero\n",
        "import cec2014_names\n",
        "import cec2014_shift_rotate"
      ],
      "metadata": {
        "id": "Z66tL-D0qM1H"
      },
      "execution_count": null,
      "outputs": []
    },
    {
      "cell_type": "code",
      "source": [
        "function_select = 'F15'\n",
        "Function = F1_to_F27_cec2014_zero_to_hero.F15\n",
        "Shift_Rotate= cec2014_shift_rotate.F15\n",
        "problem_size = 30 # possibles 2, 10, 20, 30, 50, 100"
      ],
      "metadata": {
        "id": "hN3HYnHmqX3f"
      },
      "execution_count": null,
      "outputs": []
    },
    {
      "cell_type": "code",
      "source": [
        "dim = problem_size "
      ],
      "metadata": {
        "id": "yCggKdhhtnp1"
      },
      "execution_count": null,
      "outputs": []
    },
    {
      "cell_type": "code",
      "source": [
        "f_matrix = \"M_\"+function_select[1:]+\"_D\"+str(problem_size) + \".txt\"\n",
        "shift_data_file=\"shift_data_\"+function_select[1:]+\".txt\"\n",
        "F_bias = cec2014_names.BiasValue()[function_select]\n",
        "type_fun = cec2014_names.TypeFunctions()[function_select]\n",
        "Function_CEC2014 =function_select + \"_\" + cec2014_names.NamesFunctions()[function_select]+\"_D_\"+str(problem_size)"
      ],
      "metadata": {
        "id": "r5pD3VaXqYAj"
      },
      "execution_count": null,
      "outputs": []
    },
    {
      "cell_type": "code",
      "source": [
        "!pip install --upgrade --no-cache-dir gdown"
      ],
      "metadata": {
        "id": "QFsJfpK3qfQy"
      },
      "execution_count": null,
      "outputs": []
    },
    {
      "cell_type": "code",
      "source": [
        "# !gdown --id 1yM-cGzp7F35bXZ-f80uoJHzGqAb52CPz\n",
        "# https://drive.google.com/file/d/1yM-cGzp7F35bXZ-f80uoJHzGqAb52CPz/view?usp=sharing\n",
        "!gdown --id 1yM-cGzp7F35bXZ-f80uoJHzGqAb52CPz"
      ],
      "metadata": {
        "id": "bCv2CFD3qp0q"
      },
      "execution_count": null,
      "outputs": []
    },
    {
      "cell_type": "code",
      "source": [
        "import zipfile\n",
        "file_name = zipfile.ZipFile('cec2014.zip', 'r')\n",
        "file_name.extractall()"
      ],
      "metadata": {
        "id": "-N1Hsa88W-Mr"
      },
      "execution_count": null,
      "outputs": []
    },
    {
      "cell_type": "code",
      "source": [
        "def load_shift_data__(data_file=None):\n",
        "    data = read_csv(data_file, delimiter='\\s+', index_col=False, header=None)\n",
        "    return data.values.reshape((-1))\n",
        "\n",
        "def load_matrix_data__(data_file=None):\n",
        "    data = read_csv(data_file, delimiter='\\s+', index_col=False, header=None)\n",
        "    return data.values"
      ],
      "metadata": {
        "id": "_tEgxfW4qwlt"
      },
      "execution_count": null,
      "outputs": []
    },
    {
      "cell_type": "code",
      "source": [
        "shift_data_a = load_shift_data__(shift_data_file)[:problem_size]\n",
        "matrix_a = load_matrix_data__(f_matrix)\n",
        "if (type_fun == 'hybrid'):\n",
        "  f_shuffle = \"shuffle_data_\"+function_select[1:]+\"_D\"+str(problem_size) + \".txt\"\n",
        "  shuffle = (load_shift_data__(f_shuffle)[:problem_size] - np.ones(problem_size)).astype(int)\n",
        "else:\n",
        "  shuffle = matrix_a"
      ],
      "metadata": {
        "id": "NJVx_raoq9GU"
      },
      "execution_count": null,
      "outputs": []
    },
    {
      "cell_type": "code",
      "source": [
        "SUPPORT_DIMENSION = [2, 10, 20, 30, 50, 100]\n",
        "SUPPORT_DIMENSION_2 = [10, 20, 30, 50, 100]\n",
        "\n",
        "#def Fun(solution,shift_data=shift_data_a, matrix=matrix_a, shuffle):#, bias=F_bias):\n",
        "def CEC2014(solution, shift_data ,  matrix, shuffle):#, bias=F_bias):\n",
        "  if(type_fun == 'shift_rotate'):\n",
        "    z = Shift_Rotate(solution , shift_data , matrix,shuffle)\n",
        "    result = Function(z) + F_bias\n",
        "  elif(type_fun =='hybrid'): # F17 to F22\n",
        "    z = Shift_Rotate(solution , shift_data , matrix,shuffle)\n",
        "    result = z + F_bias\n",
        " \n",
        "  return result"
      ],
      "metadata": {
        "id": "AF2E2EIwrC8o"
      },
      "execution_count": null,
      "outputs": []
    },
    {
      "cell_type": "code",
      "source": [
        " shift_data = shift_data_a\n",
        " matrix = matrix_a\n",
        " shuffle = shuffle\n",
        " def Hybrid(solution):\n",
        "   resp = CEC2014(solution, shift_data = shift_data_a, matrix = matrix_a, shuffle = shuffle)\n",
        "   return resp"
      ],
      "metadata": {
        "id": "jIcMJI-UrK8V"
      },
      "execution_count": null,
      "outputs": []
    },
    {
      "cell_type": "code",
      "source": [
        "!git clone https://github.com/ucfilho/Raianars_paper_One #clonar do Github\n",
        "%cd Raianars_paper_One"
      ],
      "metadata": {
        "id": "9Vsz9VQRrLVf"
      },
      "execution_count": null,
      "outputs": []
    },
    {
      "cell_type": "code",
      "source": [
        "MAX=np.repeat(100,dim)\n",
        "MIN=np.repeat(-100,dim)\n",
        "\n",
        "bounds=[]\n",
        "for k in range(len(MAX)):\n",
        "  bounds.append((MIN[k],MAX[k]))"
      ],
      "metadata": {
        "id": "ukk5Twiiq0MN"
      },
      "execution_count": null,
      "outputs": []
    },
    {
      "cell_type": "code",
      "metadata": {
        "id": "qTINtQ1cosZK"
      },
      "source": [
        "!git clone https://github.com/ucfilho/ANN_read_matrix #clonar do Github\n",
        "%cd ANN_read_matrix"
      ],
      "execution_count": null,
      "outputs": []
    },
    {
      "cell_type": "code",
      "metadata": {
        "id": "QiQLYOoNoyCw"
      },
      "source": [
        "ANN_F=pd.read_csv('ANN_INSIGHT_Valor_F.csv')"
      ],
      "execution_count": null,
      "outputs": []
    },
    {
      "cell_type": "code",
      "metadata": {
        "id": "uHtW2amaDzFv"
      },
      "source": [
        "ANN_CR=pd.read_csv('ANN_INSIGHT_CR.csv')"
      ],
      "execution_count": null,
      "outputs": []
    },
    {
      "cell_type": "code",
      "metadata": {
        "id": "EH6h_vke2yu1"
      },
      "source": [
        "syn0_F,syn1_F,X_max_F,X_min_F=Go2Ann.GetMatriz(ANN_F)"
      ],
      "execution_count": null,
      "outputs": []
    },
    {
      "cell_type": "code",
      "metadata": {
        "id": "WW_3ZWJXD60i"
      },
      "source": [
        "syn0_CR,syn1_CR,X_max_CR,X_min_CR=Go2Ann.GetMatriz(ANN_CR)"
      ],
      "execution_count": null,
      "outputs": []
    },
    {
      "cell_type": "code",
      "metadata": {
        "id": "b4gwBvVTyaXh"
      },
      "source": [
        "ANN_CR=pd.read_csv('ANN_INSIGHT_CR.csv')"
      ],
      "execution_count": null,
      "outputs": []
    },
    {
      "cell_type": "code",
      "metadata": {
        "id": "6jL8MxpHvk-Y"
      },
      "source": [
        "fields = ['DI RELATIVO','FRAC Its','Fo','CRo']"
      ],
      "execution_count": null,
      "outputs": []
    },
    {
      "cell_type": "code",
      "metadata": {
        "id": "Mb3LmbSmj9v7"
      },
      "source": [
        "##################################### \n",
        "\n",
        "TOTAL=10*dim*its*ITE\n",
        "TOTAL=int(TOTAL/2)   # CONFERIR SE ESTE EH O MELHOR LUGAR\n",
        "\n",
        "#dimensions=len(MAX)\n",
        "dimensions=dim\n",
        "start_time = time.time() #INICIALIZA CONTAGEM DO TEMPO\n",
        "\n",
        "\n",
        "PAR=dim\n",
        "Fun = Function\n",
        "fobj=Fun\n",
        "\n",
        "MAX_P=np.zeros(ITE) # ATENCAO para variar F e Cr MAX_P passa a ser 3 vezes maior\n",
        "MIN_P=np.zeros(ITE) # ATENCAO para variar F e Cr MIN_P passa a ser 3 vezes maior\n",
        "\n",
        "for i in range(dim):\n",
        "  MAX_P[i]=MAX[i] \n",
        "  MIN_P[i]=MIN[i]\n",
        "\n",
        "rodadas=1\n",
        "NPAR1=int(fator*NPAR);\n",
        "NPAR2=int(fator*NPAR)\n",
        "#NPAR2=int((NPAR-NPAR1)/3);\n",
        "#NPAR3=int((NPAR-NPAR1)/3);\n",
        "#NPAR4=int((NPAR-NPAR1)/3);\n",
        "NPAR3 = NPAR-NPAR1-NPAR1\n",
        "print('frac=',fator);\n",
        "print('Npar1=',NPAR1);\n",
        "print('Npar2=',NPAR2);\n",
        "print('Npar3=',NPAR3);\n",
        "#print('Npar4=',NPAR4);\n",
        "print('Npar=',NPAR)\n",
        "\n",
        "cols=dim\n",
        "\n",
        "X1=np.zeros((NPAR1,cols)) # X1 is Frannk population\n",
        "for i in range(NPAR1):\n",
        "  for j in range(cols):\n",
        "    r=np.random.random()\n",
        "    X1[i,j]=r*(MAX[j]-MIN[j])+MIN[j]\n",
        "    \n",
        "X2=np.zeros((NPAR2,cols)) # X2 is population DE (default DE)\n",
        "for i in range(NPAR2):\n",
        "  for j in range(cols):\n",
        "    r=np.random.random()\n",
        "    X2[i,j]=r*(MAX[j]-MIN[j])+MIN[j]\n",
        "\n",
        "X3=np.zeros((NPAR3,cols)) # X1 is Frannk population\n",
        "for i in range(NPAR3):\n",
        "  for j in range(cols):\n",
        "    r=np.random.random()\n",
        "    X3[i,j]=r*(MAX[j]-MIN[j])+MIN[j]\n",
        "'''    \n",
        "X4=np.zeros((NPAR4,cols)) # X2 is population DE (default DE)\n",
        "for i in range(NPAR4):\n",
        "  for j in range(cols):\n",
        "    r=np.random.random()\n",
        "    X4[i,j]=r*(MAX[j]-MIN[j])+MIN[j]\n",
        "    \n",
        " ############################################################\n",
        "  #bounds=[(5*dim, 15*dim)] * PONTOS # ITE\n",
        "  #bounds=[(3*dim, 12*dim)] * PONTOS # ITE\n",
        "  #bounds=[(4*dim, 16*dim)] * PONTOS\n",
        "  \n",
        "  # nao pode ser assim pq o bounds vale p o DE nao dos parametros\n",
        "  #p=int(TOTAL/its/ITE) \n",
        "  #bounds=[(p, p)] * PONTOS\n",
        "'''"
      ],
      "execution_count": null,
      "outputs": []
    },
    {
      "cell_type": "code",
      "metadata": {
        "id": "rnX8ttNopd1G"
      },
      "source": [
        "start_time = time.time()\n",
        "BEST_AGENTS=[]\n",
        "MAT_stat=[]\n",
        "for iii in range(RUNS):\n",
        "    FES = 0 ; gen = 0 \n",
        "    MAT=[] \n",
        "    mut=Fi\n",
        "    crossp=CRi\n",
        "    SOMA=0\n",
        "    pop = np.random.rand(NPAR, dim)\n",
        "    diff=np.zeros(PAR)\n",
        "\n",
        "    NPAR = maxNP\n",
        "    # fator = 1.0\n",
        "    NPAR1=int(fator*NPAR);NPAR2=int(fator*NPAR);NPAR3 = NPAR-NPAR1-NPAR1\n",
        "    '''\n",
        "    NPAR2=int((NPAR-NPAR1)/3);\n",
        "    NPAR3=int((NPAR-NPAR1)/3);\n",
        "    NPAR4=int((NPAR-NPAR1)/3);\n",
        "    NPAR1 = NPAR-3*NPAR2\n",
        "    '''\n",
        "\n",
        "    X1=np.zeros((NPAR1,cols)) # X1 is Frannk population\n",
        "    for i in range(NPAR1):\n",
        "      for j in range(cols):\n",
        "        r=np.random.random()\n",
        "        X1[i,j]=r*(MAX[j]-MIN[j])+MIN[j]\n",
        "       \n",
        "    X2=np.zeros((NPAR2,cols)) # X2 is population DE (default DE)\n",
        "    for i in range(NPAR2):\n",
        "      for j in range(cols):\n",
        "        r=np.random.random()\n",
        "        X2[i,j]=r*(MAX[j]-MIN[j])+MIN[j]\n",
        "    \n",
        "    X3=np.zeros((NPAR3,cols)) # X2 is population DE (default DE)\n",
        "    for i in range(NPAR3):\n",
        "      for j in range(cols):\n",
        "        r=np.random.random()\n",
        "        X3[i,j]=r*(MAX[j]-MIN[j])+MIN[j]\n",
        "    ''' \n",
        "    X4=np.zeros((NPAR4,cols)) # X2 is population DE (default DE)\n",
        "    for i in range(NPAR4):\n",
        "      for j in range(cols):\n",
        "        r=np.random.random()\n",
        "        X4[i,j]=r*(MAX[j]-MIN[j])+MIN[j]\n",
        "    '''\n",
        "    fit1 = np.asarray([fobj(ind) for ind in X1])\n",
        "    best_idx = np.argmin(fit1)\n",
        "    best1 = X1[best_idx]\n",
        "    fbest1 = fit1[best_idx] \n",
        "\n",
        "    \n",
        "    fit2 = np.asarray([fobj(ind) for ind in X2])\n",
        "    best_idx = np.argmin(fit2)\n",
        "    best2 = X1[best_idx]\n",
        "    fbest2 = fit2[best_idx] \n",
        "\n",
        "    fit3 = np.asarray([fobj(ind) for ind in X3])\n",
        "    best_idx = np.argmin(fit3)\n",
        "    best3 = X3[best_idx]\n",
        "    fbest3 = fit3[best_idx] \n",
        "    '''\n",
        "    fit3 = np.asarray([fobj(ind) for ind in X3])\n",
        "    fit4 = np.asarray([fobj(ind) for ind in X4])\n",
        "    FES = FES + NPAR1 + NPAR2 + NPAR3+ NPAR4\n",
        "    '''\n",
        "    FES = FES + NPAR1 + NPAR2 + NPAR3\n",
        "    fit_best =[]\n",
        "    DIo=1e99\n",
        "  \n",
        "    CRo=crossp;Fo=mut;\n",
        "    #Fitness = np.asarray([Fun(ind, shift_data , matrix, shuffle) for ind in X1])\n",
        "    XY,BEST_XY,BESTo,FOBESTo=AvaliaX(X1,fit1 )\n",
        "    nrow,ncol=X1.shape\n",
        "    FES = FES + nrow\n",
        "\n",
        "    QUANT=17;MAT_INDo=np.zeros((1,QUANT)); # quantos indices esta fazendo\n",
        "    MAT_INDo[0,5]=nrow  # VALOR NP\n",
        "    MAT_INDo[0,6]=Fo    # VALOR Fo   \n",
        "    MAT_INDo[0,7]=CRo   # VALOR CRo\n",
        "\n",
        "    Fuma = Fun  # Fuma era Fun\n",
        "  \n",
        "    MAT_INDo=GeraIndices(X1,BESTo,FOBESTo,DIo,MAT_INDo,SOMA,TOTAL,syn0_F,\n",
        "                        syn1_F,X_max_F,X_min_F,syn0_CR,syn1_CR,X_max_CR,\n",
        "                        X_min_CR,Fc,fields,Fuma)\n",
        "  \n",
        "    DIo=np.copy(MAT_INDo[0,0])\n",
        "    MAT_INDo[0,15]=Fo    # VALOR Fo   \n",
        "    MAT_INDo[0,16]=CRo   # VALOR CRo\n",
        "\n",
        "    # Just to intialize variables:\n",
        "    FESr = 0\n",
        "    FOBEST1 = fbest1;FOBEST2 = fbest2;FOBEST3 = fbest3;FOBEST4 = 1E99\n",
        "    #BEST1,BEST2,BEST3,BEST4  =  np.copy(X1[0,:]),np.copy(X2[0,:]),np.copy(X3[0,:]), np.copy(X4[0,:]) \n",
        "    BEST1  =  best1\n",
        "    BEST2  =  best2\n",
        "    BEST3  =  best3\n",
        "    popsize = NPAR\n",
        "    FUNCTION = []\n",
        "    for i in range(H):\n",
        "      MCR.append(0.5);MF.append(0.5) # line 3\n",
        "    Narquive = popsize\n",
        "    setTUNE =[SF,SCR,MF,MCR,p, terminal, Narquive,H,kH]\n",
        "    while(FESr == 0 ):\n",
        "\n",
        "      #print('FES',FES)\n",
        "\n",
        "      gen = gen +1\n",
        "      ##=cool=#####################################################################################\n",
        "      '''\n",
        "      fback,Xback,BESTback,FOBESTback,FESback= np.copy(fit2),np.copy(X2),BEST2,FOBEST2,FES\n",
        "      fit2,X2,BEST2,FOBEST2,XY2,BEST_XY2,FES=classicDE_FES_new.de(bounds, mut2, crossp2,NPAR2, its,fobj,fit2,X2,FES) # de_bounds_matriz\n",
        "      if(FES > maxFES):\n",
        "        FESr = FES \n",
        "        fit2,X2,BEST2,FOBEST2,FES = np.copy(fback),np.copy(Xback),BESTback,FOBESTback,FESback\n",
        "      \n",
        "      fback,Xback,BESTback,FOBESTback,FESback= np.copy(fit3),np.copy(X3),BEST3,FOBEST3,FES\n",
        "      fit3,X3,BEST3,FOBEST3,XY3,BEST_XY3,FES=classicDE_FES_new.de(bounds, mut3, crossp3,NPAR3, its,fobj,fit3,X3,FES) #de_bounds_matriz\n",
        "      if(FES > maxFES): \n",
        "        FESr = FES\n",
        "        fit3,X3,BEST3,FOBEST3,FES = np.copy(fback),np.copy(Xback),BESTback,FOBESTback,FESback\n",
        "\n",
        "      fback,Xback,BESTback,FOBESTback,FESback= np.copy(fit4),np.copy(X4),BEST4,FOBEST4,FES\n",
        "      fit4,X4,BEST4,FOBEST4,XY4,BEST_XY4,FES=classicDE_FES_new.de(bounds, mut4, crossp4,NPAR4, its,fobj,fit4,X4,FES) # de_bounds_matriz\n",
        "      if(FES > maxFES): \n",
        "        FESr = FES\n",
        "        fit4,X4,BEST4,FOBEST4,FES = np.copy(fback),np.copy(Xback),BESTback,FOBESTback,FESback\n",
        "      '''\n",
        "      \n",
        "      \n",
        "\n",
        "      \n",
        "\n",
        "      fback,Xback,BESTback,FOBESTback,FESback= np.copy(fit1),np.copy(X1),BEST1,FOBEST1,FES\n",
        "      fit1,X1,BEST1,FOBEST1,XY,BEST_XY,FES = annDE_FES_new.de(MAX,MIN, mut, crossp, NPAR1, its,fobj,fit1,X1,FES)\n",
        "      if(FES > maxFES):\n",
        "        FESr = FES \n",
        "        fit1,X1,BEST1,FOBEST1,FES = np.copy(fback),np.copy(Xback),BESTback,FOBESTback,FESback\n",
        "\n",
        "      fback,Xback,BESTback,FOBESTback,FESback= np.copy(fit2),np.copy(X2),BEST2,FOBEST2,FES\n",
        "      Xarqback = Xarq\n",
        "      fit2,X2,BEST2,FOBEST2,XY,BEST_XY,FES,Xarq,setTUNE= LShade_new.LShade(MAX,MIN, NPAR2,fobj,setTUNE,best2,fbest2,fit2,X2,Xarq,FES)\n",
        "      if(FES > maxFES):\n",
        "        FESr = FES \n",
        "        fit2,X2,BEST2,FOBEST2,FES = np.copy(fback),np.copy(Xback),BESTback,FOBESTback,FESback\n",
        "        Xarq = Xarqback\n",
        "      ri = random.randint(0, numARRAY-1)\n",
        "      \n",
        "      mut3 = muARRAY[ri]; crossp3 = crARRAY[ri]\n",
        "      fback,Xback,BESTback,FOBESTback,FESback= np.copy(fit3),np.copy(X3),BEST3,FOBEST3,FES\n",
        "      fit3,X3,BEST3,FOBEST3,XY3,BEST_XY3,FES=classicDE_FES_new.de(bounds, mut3, crossp3,NPAR3, its,fobj,fit3,X3,FES) #de_bounds_matriz\n",
        "      if(FES > maxFES): \n",
        "        FESr = FES\n",
        "        fit3,X3,BEST3,FOBEST3,FES = np.copy(fback),np.copy(Xback),BESTback,FOBESTback,FESback\n",
        "\n",
        "\n",
        "      calc = (minNP-maxNP)/maxFES*FES+maxNP # Linear Population Size Reduction (LPSR)\n",
        "      calc = int(np.round(calc)) # Linear Population Size Reduction (LPSR) \n",
        "      gen = gen + 1\n",
        "      #fator = 1.0\n",
        "      NPAR = calc\n",
        "      NPAR1=int(fator*NPAR);\n",
        "      NPAR2=int(fator*NPAR);\n",
        "      NPAR3=NPAR-NPAR1-NPAR2\n",
        "      #NPAR3=int((NPAR-NPAR1)/3);\n",
        "      #NPAR4=int((NPAR-NPAR1)/3);\n",
        "      #NPAR1 = NPAR-3*NPAR2\n",
        "\n",
        "      '''\n",
        "      if(NPAR2 > len(X2[:,0])):\n",
        "        NPAR2 = len(X2[:,0])\n",
        "      '''\n",
        "      if(NPAR1 > len(X1[:,0])):\n",
        "        NPAR1 = len(X1[:,0])\n",
        "      if(NPAR2 > len(X2[:,0])):\n",
        "        NPAR2 = len(X2[:,0])\n",
        "      if(NPAR3 > len(X3[:,0])):\n",
        "        NPAR3 = len(X3[:,0])    \n",
        "          \n",
        "      X1 = X1[:NPAR1,:];X2 = X2[:NPAR2,:];X3 = X3[:NPAR3,:];\n",
        "      if(len(Xarq)>0) : Xarq = Xarq[:NPAR2]\n",
        "       #X4 = X4[:NPAR4,:];\n",
        "      fit1 = fit1[:NPAR1];fit2 = fit2[:NPAR2]; fit3 = fit3[:NPAR3]; # fit4 = fit4[:NPAR4];\n",
        "      popsize = NPAR2\n",
        "      Narquive = popsize\n",
        "      NP = popsize\n",
        "\n",
        "      X1[0,:] = BEST1;X1[1,:] = BEST2;X1[2,:] = BEST3;# X1[2,:] = BEST4;\n",
        "      X2[0,:] = BEST1;X2[1,:] = BEST2;X2[2,:] = BEST3;#X2[3,:] = BEST2;\n",
        "      X3[0,:] = BEST1;X3[1,:] = BEST2;X3[2,:] = BEST3;#X3[3,:] = BEST3;\n",
        "      #X4[0,:] = BEST1;X4[1,:] = BEST2;X4[2,:] = BEST3;X4[3,:] = BEST4;\n",
        "      fit1[0] = FOBEST1; fit1[1] = FOBEST2;fit1[2] = FOBEST3;\n",
        "      fit2[0] = FOBEST1; fit2[1] = FOBEST2;fit2[2] = FOBEST3;\n",
        "      fit3[0] = FOBEST1; fit3[1] = FOBEST2;fit3[2] = FOBEST3;\n",
        "      '''\n",
        "      X1[0,:] = BEST2;X1[1,:] = BEST3; X1[2,:] = BEST4;X1[3,:] = BEST1;\n",
        "      X2[0,:] = BEST1;X2[1,:] = BEST3;X2[2,:] = BEST4;X2[3,:] = BEST2;\n",
        "      X3[0,:] = BEST1;X3[1,:] = BEST2;X3[2,:] = BEST4;X3[3,:] = BEST3;\n",
        "      X4[0,:] = BEST1;X4[1,:] = BEST2;X4[2,:] = BEST3;X4[3,:] = BEST4;\n",
        "      fit1[0] = FOBEST1; fit2[1] = FOBEST2;fit3[0] = FOBEST3; fit4[1] = FOBEST4;\n",
        "      '''\n",
        "    '''\n",
        "    for i in range(FIX):\n",
        "      \n",
        "        Fitback,Xback,BESTback,FOBESTback,FESback= np.copy(fit2), np.copy(X2),BEST2,FOBEST2,FES\n",
        "        \n",
        "        if ( FESr == 0):\n",
        "          Fitback,Xback,BESTback,FOBESTback,FESback= np.copy(X2),BEST2,FOBEST2,FES\n",
        "          fit2,X2,BEST2,FOBEST2,XY2,BEST_XY2,FESr=classicDE_FES_new.de(bounds,mut_best, crossp_best,NPAR2, its,fobj,fit2,X2,FES) # de_bounds_matriz\n",
        "        if ( FESr > 0):\n",
        "          fit2, X2,BEST2,FOBEST2,FES = np.copy(Fitback),np.copy(Xback),BESTback,FOBESTback,FESback\n",
        "\n",
        "\n",
        "        if(FES > maxFES): \n",
        "          fit2, X2,BEST2,FOBEST2,FES = np.copy(Fitback),np.copy(Xback),BESTback,FOBESTback,FESback\n",
        "        \n",
        "        \n",
        "        fit2,X2,BEST2,FOBEST2,XY,BEST_XY, FES= stepsWALK_new.fixWALK(Fun,BEST2,FOBEST2,NPAR2,tunePAR,MAX,MIN,fit2,X2,FIX)\n",
        "        # print('FES',FES)\n",
        "\n",
        "      ############################################################################################\n",
        "      ############################################################################################\n",
        "    \n",
        "    if(FES > maxFES):\n",
        "      fit2,X2,BEST2,FOBEST2,FES = np.copy(Fitback),np.copy(Xback),BESTback,FOBESTback,FESback\n",
        "\n",
        "    FUNCTION.append(FOBEST2)\n",
        "    '''\n",
        "    #setTUNE= [SF,SCR,MF,MCR,p, terminal, Narquive]\n",
        "    setTUNE =[SF,SCR,MF,MCR,p, terminal, Narquive,H,kH]\n",
        "    print('run=',iii,'gen=',gen,'time=',(time.time()-start_time)/60, 'eval FES=', FES,'FO=',FOBEST1)  \n",
        "    BEST_AGENTS.append(BEST_XY)"
      ],
      "execution_count": null,
      "outputs": []
    },
    {
      "cell_type": "code",
      "source": [
        "NPAR1,NPAR2,NPAR3,X1.shape,X2.shape,X3.shape"
      ],
      "metadata": {
        "id": "HLMbmikcZEiq"
      },
      "execution_count": null,
      "outputs": []
    },
    {
      "cell_type": "code",
      "metadata": {
        "id": "TLEE0UrZSvJF"
      },
      "source": [
        "#len(X2[1,:])\n",
        "print(cols)"
      ],
      "execution_count": null,
      "outputs": []
    },
    {
      "cell_type": "code",
      "source": [
        "BEST_AGENTS=np.array(BEST_AGENTS)"
      ],
      "metadata": {
        "id": "scZnrGN1uoW3"
      },
      "execution_count": null,
      "outputs": []
    },
    {
      "cell_type": "code",
      "metadata": {
        "id": "k3p9TGsx1OCu"
      },
      "source": [
        "NOMES=['DIVERSIDADE (DI)',  'DI RELATIVO','FRAC Its',\n",
        "           'VELOC FOBJ','VELOC X','NP','Fo','CRo','fmin','fmax',\n",
        "           'AD_fmin','AD_fmax','DELTA FOBJ','DELTA VX','r_fitness',\n",
        "           'F','CR']\n",
        "# BEST_INDEX= BEST_AGENTS[BEST_AGENTS[:,-1].argmin()]  \n",
        "BEST_INDEX = np.argmin(BEST_AGENTS[:,-1])\n",
        "#df=pd.DataFrame(MAT_stat[BEST_INDEX], columns=NOMES)\n",
        "\n"
      ],
      "execution_count": null,
      "outputs": []
    },
    {
      "cell_type": "code",
      "source": [
        "TIME = (time.time() - start_time)/RUNS\n",
        "BEST_AGENTS=np.array(BEST_AGENTS)\n",
        "BEST_AGENTS_ST= BEST_AGENTS[BEST_AGENTS[:,-1].argsort()]\n",
        "BEST=BEST_AGENTS_ST[0]\n",
        "WORSE=BEST_AGENTS_ST[-1]\n",
        "MEAN=np.mean(BEST_AGENTS,axis=0)\n",
        "MAXFO=BEST_AGENTS[:,-1].max()\n",
        "MINFO=BEST_AGENTS[:,-1].min()\n",
        "STD=BEST_AGENTS[:,-1].std()    "
      ],
      "metadata": {
        "id": "CqGHCBBnw7jn"
      },
      "execution_count": null,
      "outputs": []
    },
    {
      "cell_type": "code",
      "metadata": {
        "id": "lNSN5X-wskcx"
      },
      "source": [
        "nome='SUB'+'_Fo-'+str(Fi)+'_CRo-'+str(CRi)+'_D-'+str(dim)+'_Interv-'+str(ITE)\n",
        "print('MCS-FRANNK','Fator F/DE= %.2f' %(fator),'NPAR=',NPAR,'Iterações=',ITE*its,'Dim=', PAR,\"Min/Max=\",MIN[0],\"/\",MAX[0],'_',Fun.__name__)\n",
        "print(nome, '\\n')\n",
        "#print('BEST: ',BEST)\n",
        "#print('MÉDIA: ',MEAN)\n",
        "print('MÉDIA: ',MEAN[-1],'STD __:',STD)\n",
        "print('MIN __:',MINFO, 'MAX__: ',MAXFO)\n",
        "print(MEAN[-1])\n",
        "print(STD)\n",
        "print(MINFO)\n",
        "print(\"Tempo Médio= %.3f segundos ---\" % (TIME))\n",
        "print(RUNS,'Rodadas') \n",
        "print()\n",
        "print('BEST: ',BEST)\n",
        "# print('melhor=',BEST_AGENTS[BEST_INDEX])"
      ],
      "execution_count": null,
      "outputs": []
    },
    {
      "cell_type": "code",
      "source": [
        "MF,MCR,SF,SCR"
      ],
      "metadata": {
        "id": "3RQpDGEjsGVx"
      },
      "execution_count": null,
      "outputs": []
    },
    {
      "cell_type": "code",
      "source": [
        "FES,Xarq"
      ],
      "metadata": {
        "id": "uX1gnDDVPlWX"
      },
      "execution_count": null,
      "outputs": []
    }
  ]
}
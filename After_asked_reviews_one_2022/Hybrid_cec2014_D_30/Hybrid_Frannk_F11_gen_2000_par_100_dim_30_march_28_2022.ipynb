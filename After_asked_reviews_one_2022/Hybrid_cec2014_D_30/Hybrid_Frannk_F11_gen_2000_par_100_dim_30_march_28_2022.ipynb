{
  "nbformat": 4,
  "nbformat_minor": 0,
  "metadata": {
    "colab": {
      "name": "Hybrid_Frannk_F11_gen_2000_par_100_dim_30_march_28_2022.ipynb",
      "provenance": [],
      "collapsed_sections": [],
      "machine_shape": "hm",
      "include_colab_link": true
    },
    "kernelspec": {
      "display_name": "Python 3",
      "name": "python3"
    },
    "language_info": {
      "codemirror_mode": {
        "name": "ipython",
        "version": 3
      },
      "file_extension": ".py",
      "mimetype": "text/x-python",
      "name": "python",
      "nbconvert_exporter": "python",
      "pygments_lexer": "ipython3",
      "version": "3.7.3"
    }
  },
  "cells": [
    {
      "cell_type": "markdown",
      "metadata": {
        "id": "view-in-github",
        "colab_type": "text"
      },
      "source": [
        "<a href=\"https://colab.research.google.com/github/ucfilho/Raianars_paper_one_revisited/blob/main/After_asked_reviews_one_2022/Hybrid_cec2014_D_30/Hybrid_Frannk_F11_gen_2000_par_100_dim_30_march_28_2022.ipynb\" target=\"_parent\"><img src=\"https://colab.research.google.com/assets/colab-badge.svg\" alt=\"Open In Colab\"/></a>"
      ]
    },
    {
      "cell_type": "code",
      "metadata": {
        "colab": {
          "base_uri": "https://localhost:8080/"
        },
        "id": "c59cDVKoxDLX",
        "outputId": "d881da29-d098-41c5-807f-6868a1e17bb6"
      },
      "source": [
        "############################### Importar códigos\n",
        "!git clone https://github.com/ucfilho/optim_raianars_Insight/ #clonar do Github\n",
        "%cd optim_raianars_Insight\n",
        "import de_soma_Insight\n",
        "import de_bounds_matriz\n",
        "import Go2Ann"
      ],
      "execution_count": 1,
      "outputs": [
        {
          "output_type": "stream",
          "name": "stdout",
          "text": [
            "Cloning into 'optim_raianars_Insight'...\n",
            "remote: Enumerating objects: 378, done.\u001b[K\n",
            "remote: Counting objects: 100% (64/64), done.\u001b[K\n",
            "remote: Compressing objects: 100% (64/64), done.\u001b[K\n",
            "remote: Total 378 (delta 37), reused 0 (delta 0), pack-reused 314\u001b[K\n",
            "Receiving objects: 100% (378/378), 327.66 KiB | 8.19 MiB/s, done.\n",
            "Resolving deltas: 100% (218/218), done.\n",
            "/content/optim_raianars_Insight\n"
          ]
        }
      ]
    },
    {
      "cell_type": "code",
      "source": [
        "# YOU NEED TO RUN THINGS IN DIM = 30 F6 TAKES MUCH LONGER TIME..."
      ],
      "metadata": {
        "id": "ZyEGPNQIyilT"
      },
      "execution_count": 2,
      "outputs": []
    },
    {
      "cell_type": "code",
      "source": [
        "from scipy.optimize import differential_evolution\n",
        "import numpy as np\n",
        "from pandas import read_csv"
      ],
      "metadata": {
        "id": "cnBfc21rWnBu"
      },
      "execution_count": 3,
      "outputs": []
    },
    {
      "cell_type": "code",
      "source": [
        "!git clone https://github.com/ucfilho/functions_cec2014_data\n",
        "%cd functions_cec2014_data\n",
        "import F1_to_F27_cec2014_zero_to_hero\n",
        "import cec2014_names\n",
        "import cec2014_shift_rotate"
      ],
      "metadata": {
        "id": "cNJuIcJSWq2Y",
        "outputId": "3fa3be6c-648e-4550-a457-4233059b9fe0",
        "colab": {
          "base_uri": "https://localhost:8080/"
        }
      },
      "execution_count": 4,
      "outputs": [
        {
          "output_type": "stream",
          "name": "stdout",
          "text": [
            "Cloning into 'functions_cec2014_data'...\n",
            "remote: Enumerating objects: 288, done.\u001b[K\n",
            "remote: Counting objects: 100% (288/288), done.\u001b[K\n",
            "remote: Compressing objects: 100% (286/286), done.\u001b[K\n",
            "remote: Total 288 (delta 175), reused 1 (delta 0), pack-reused 0\u001b[K\n",
            "Receiving objects: 100% (288/288), 461.04 KiB | 3.05 MiB/s, done.\n",
            "Resolving deltas: 100% (175/175), done.\n",
            "/content/optim_raianars_Insight/functions_cec2014_data\n"
          ]
        }
      ]
    },
    {
      "cell_type": "code",
      "source": [
        "\n",
        "function_select = 'F11'\n",
        "Function = F1_to_F27_cec2014_zero_to_hero.F11  \n",
        "Shift_Rotate= cec2014_shift_rotate.F11  \n",
        "problem_size = 30 # possibles 2, 10, 20, 30, 50, 100"
      ],
      "metadata": {
        "id": "Aa8aAaejWxul"
      },
      "execution_count": 5,
      "outputs": []
    },
    {
      "cell_type": "code",
      "source": [
        "f_matrix = \"M_\"+function_select[1:]+\"_D\"+str(problem_size) + \".txt\"\n",
        "shift_data_file=\"shift_data_\"+function_select[1:]+\".txt\"\n",
        "F_bias = cec2014_names.BiasValue()[function_select]\n",
        "type_fun = cec2014_names.TypeFunctions()[function_select]\n",
        "Function_CEC2014 =function_select + \"_\" + cec2014_names.NamesFunctions()[function_select]+\"_D_\"+str(problem_size)"
      ],
      "metadata": {
        "id": "OlOa-fYWWyk8"
      },
      "execution_count": 6,
      "outputs": []
    },
    {
      "cell_type": "code",
      "source": [
        "!pip install --upgrade --no-cache-dir gdown"
      ],
      "metadata": {
        "id": "F0Y9CCMMW2lP",
        "outputId": "624c17e6-a234-4d6f-cb38-a6f5217bd5cd",
        "colab": {
          "base_uri": "https://localhost:8080/"
        }
      },
      "execution_count": 7,
      "outputs": [
        {
          "output_type": "stream",
          "name": "stdout",
          "text": [
            "Requirement already satisfied: gdown in /usr/local/lib/python3.7/dist-packages (4.2.2)\n",
            "Collecting gdown\n",
            "  Downloading gdown-4.4.0.tar.gz (14 kB)\n",
            "  Installing build dependencies ... \u001b[?25l\u001b[?25hdone\n",
            "  Getting requirements to build wheel ... \u001b[?25l\u001b[?25hdone\n",
            "    Preparing wheel metadata ... \u001b[?25l\u001b[?25hdone\n",
            "Requirement already satisfied: requests[socks] in /usr/local/lib/python3.7/dist-packages (from gdown) (2.23.0)\n",
            "Requirement already satisfied: beautifulsoup4 in /usr/local/lib/python3.7/dist-packages (from gdown) (4.6.3)\n",
            "Requirement already satisfied: tqdm in /usr/local/lib/python3.7/dist-packages (from gdown) (4.63.0)\n",
            "Requirement already satisfied: six in /usr/local/lib/python3.7/dist-packages (from gdown) (1.15.0)\n",
            "Requirement already satisfied: filelock in /usr/local/lib/python3.7/dist-packages (from gdown) (3.6.0)\n",
            "Requirement already satisfied: urllib3!=1.25.0,!=1.25.1,<1.26,>=1.21.1 in /usr/local/lib/python3.7/dist-packages (from requests[socks]->gdown) (1.24.3)\n",
            "Requirement already satisfied: idna<3,>=2.5 in /usr/local/lib/python3.7/dist-packages (from requests[socks]->gdown) (2.10)\n",
            "Requirement already satisfied: certifi>=2017.4.17 in /usr/local/lib/python3.7/dist-packages (from requests[socks]->gdown) (2021.10.8)\n",
            "Requirement already satisfied: chardet<4,>=3.0.2 in /usr/local/lib/python3.7/dist-packages (from requests[socks]->gdown) (3.0.4)\n",
            "Requirement already satisfied: PySocks!=1.5.7,>=1.5.6 in /usr/local/lib/python3.7/dist-packages (from requests[socks]->gdown) (1.7.1)\n",
            "Building wheels for collected packages: gdown\n",
            "  Building wheel for gdown (PEP 517) ... \u001b[?25l\u001b[?25hdone\n",
            "  Created wheel for gdown: filename=gdown-4.4.0-py3-none-any.whl size=14774 sha256=3647b2b5a2548b6086a6ea57109f9046dd78f32772cf784e26e3cb1b671c2257\n",
            "  Stored in directory: /tmp/pip-ephem-wheel-cache-7bmtlqd5/wheels/fb/c3/0e/c4d8ff8bfcb0461afff199471449f642179b74968c15b7a69c\n",
            "Successfully built gdown\n",
            "Installing collected packages: gdown\n",
            "  Attempting uninstall: gdown\n",
            "    Found existing installation: gdown 4.2.2\n",
            "    Uninstalling gdown-4.2.2:\n",
            "      Successfully uninstalled gdown-4.2.2\n",
            "Successfully installed gdown-4.4.0\n"
          ]
        }
      ]
    },
    {
      "cell_type": "code",
      "source": [
        "# !gdown --id 1yM-cGzp7F35bXZ-f80uoJHzGqAb52CPz\n",
        "# https://drive.google.com/file/d/1yM-cGzp7F35bXZ-f80uoJHzGqAb52CPz/view?usp=sharing\n",
        "!gdown --id 1yM-cGzp7F35bXZ-f80uoJHzGqAb52CPz"
      ],
      "metadata": {
        "id": "6u0a6OtdW7Ra",
        "outputId": "7c62acba-ab8c-404d-f314-7aed34dc8c44",
        "colab": {
          "base_uri": "https://localhost:8080/"
        }
      },
      "execution_count": 8,
      "outputs": [
        {
          "output_type": "stream",
          "name": "stdout",
          "text": [
            "/usr/local/lib/python3.7/dist-packages/gdown/cli.py:131: FutureWarning: Option `--id` was deprecated in version 4.3.1 and will be removed in 5.0. You don't need to pass it anymore to use a file ID.\n",
            "  category=FutureWarning,\n",
            "Downloading...\n",
            "From: https://drive.google.com/uc?id=1yM-cGzp7F35bXZ-f80uoJHzGqAb52CPz\n",
            "To: /content/optim_raianars_Insight/functions_cec2014_data/cec2014.zip\n",
            "100% 36.1M/36.1M [00:00<00:00, 280MB/s]\n"
          ]
        }
      ]
    },
    {
      "cell_type": "code",
      "source": [
        "import zipfile\n",
        "file_name = zipfile.ZipFile('cec2014.zip', 'r')\n",
        "file_name.extractall()"
      ],
      "metadata": {
        "id": "-N1Hsa88W-Mr"
      },
      "execution_count": 9,
      "outputs": []
    },
    {
      "cell_type": "code",
      "source": [
        "def load_shift_data__(data_file=None):\n",
        "    data = read_csv(data_file, delimiter='\\s+', index_col=False, header=None)\n",
        "    return data.values.reshape((-1))\n",
        "\n",
        "def load_matrix_data__(data_file=None):\n",
        "    data = read_csv(data_file, delimiter='\\s+', index_col=False, header=None)\n",
        "    return data.values"
      ],
      "metadata": {
        "id": "YhE1bDGRXCLn"
      },
      "execution_count": 10,
      "outputs": []
    },
    {
      "cell_type": "code",
      "source": [
        "shift_data_a = load_shift_data__(shift_data_file)[:problem_size]\n",
        "matrix_a = load_matrix_data__(f_matrix)\n",
        "if (type_fun == 'hybrid'):\n",
        "  f_shuffle = \"shuffle_data_\"+function_select[1:]+\"_D\"+str(problem_size) + \".txt\"\n",
        "  shuffle = (load_shift_data__(f_shuffle)[:problem_size] - np.ones(problem_size)).astype(int)\n",
        "else:\n",
        "  shuffle = matrix_a"
      ],
      "metadata": {
        "id": "xinNXDaRXFZs"
      },
      "execution_count": 11,
      "outputs": []
    },
    {
      "cell_type": "code",
      "source": [
        "SUPPORT_DIMENSION = [2, 10, 20, 30, 50, 100]\n",
        "SUPPORT_DIMENSION_2 = [10, 20, 30, 50, 100]\n",
        "\n",
        "#def Fun(solution,shift_data=shift_data_a, matrix=matrix_a, shuffle):#, bias=F_bias):\n",
        "def CEC2014(solution, shift_data ,  matrix, shuffle):#, bias=F_bias):\n",
        "  if(type_fun == 'shift_rotate'):\n",
        "    z = Shift_Rotate(solution , shift_data , matrix,shuffle)\n",
        "    result = Function(z) + F_bias\n",
        "  elif(type_fun =='hybrid'): # F17 to F22\n",
        "    z = Shift_Rotate(solution , shift_data , matrix,shuffle)\n",
        "    result = z + F_bias\n",
        " \n",
        "  return result"
      ],
      "metadata": {
        "id": "cEkeMF-WXJAn"
      },
      "execution_count": 12,
      "outputs": []
    },
    {
      "cell_type": "code",
      "source": [
        " shift_data = shift_data_a\n",
        " matrix = matrix_a\n",
        " shuffle = shuffle\n",
        " def Hybrid(solution):\n",
        "   resp = CEC2014(solution, shift_data = shift_data_a, matrix = matrix_a, shuffle = shuffle)\n",
        "   return resp"
      ],
      "metadata": {
        "id": "5xTIbwT1XQ4u"
      },
      "execution_count": 13,
      "outputs": []
    },
    {
      "cell_type": "code",
      "metadata": {
        "id": "88sLduNFwZ9Y"
      },
      "source": [
        "# PSO 2016 \n",
        "#  Gen =1000,1500, 2000\n",
        "#  Npar= 20, 40, 80\n",
        "#  dim = 10,20,30\n",
        "# Dynamic parameter adaptation in particle swarm optimization\n",
        "#  using interval type-2 fuzzy logic -Soft Comput (2016) 20:1057–1070"
      ],
      "execution_count": 14,
      "outputs": []
    },
    {
      "cell_type": "code",
      "metadata": {
        "colab": {
          "base_uri": "https://localhost:8080/"
        },
        "id": "Va-6Xios8RjU",
        "outputId": "e9793054-0f7c-4087-df84-d9d0a8595e29"
      },
      "source": [
        "!git clone https://github.com/ucfilho/Raianars_paper_One #clonar do Github\n",
        "%cd Raianars_paper_One"
      ],
      "execution_count": 15,
      "outputs": [
        {
          "output_type": "stream",
          "name": "stdout",
          "text": [
            "Cloning into 'Raianars_paper_One'...\n",
            "remote: Enumerating objects: 272, done.\u001b[K\n",
            "remote: Counting objects: 100% (143/143), done.\u001b[K\n",
            "remote: Compressing objects: 100% (143/143), done.\u001b[K\n",
            "remote: Total 272 (delta 80), reused 0 (delta 0), pack-reused 129\u001b[K\n",
            "Receiving objects: 100% (272/272), 660.83 KiB | 4.46 MiB/s, done.\n",
            "Resolving deltas: 100% (152/152), done.\n",
            "/content/optim_raianars_Insight/functions_cec2014_data/Raianars_paper_One\n"
          ]
        }
      ]
    },
    {
      "cell_type": "code",
      "metadata": {
        "id": "_E15mKFURR6O"
      },
      "source": [
        "#import Go2Ann\n",
        "#import de_soma_Insight\n",
        "#import de_bounds_matriz\n",
        "#import Function\n",
        "#import Go2MinMax\n",
        "from AvaliaX import AvaliaX\n",
        "#from Function import FUN\n",
        "#from Function import Function.FUN\n",
        "#from Function import Function.Fun\n",
        "#from Function import Function\n",
        "from GeraIndices import GeraIndices\n",
        "import numpy as np\n",
        "import time\n",
        "import matplotlib.pyplot as plt\n",
        "from random import randint\n",
        "from scipy import optimize\n",
        "import pandas as pd\n",
        "from sklearn.metrics import confusion_matrix\n",
        "\n",
        "############################### DADOS DE ENTRADA \n",
        "RUNS=50 #NÚMERO DE RODADAS\n",
        "Fc=0.1 # fator de correcao parametros da ANN\n",
        "its=1 #10 # quantas vezes vai usar o NPAR antes de alterar de novo\n",
        "ITE=2000 #10 # PONTOS quantas vezes vai alteral NPAR \n",
        "NPAR=100\n",
        "mut=0.5\n",
        "crossp=0.5\n",
        "Fi=mut;CRi=crossp;# para impressão\n",
        "fator = 2.0/3.0; \n",
        "\n"
      ],
      "execution_count": 16,
      "outputs": []
    },
    {
      "cell_type": "code",
      "metadata": {
        "colab": {
          "base_uri": "https://localhost:8080/"
        },
        "id": "ik3ZjkUKycUK",
        "outputId": "4a21cce7-88c3-4322-ba15-df2926221421"
      },
      "source": [
        "############################### Importar códigos\n",
        "!git clone https://github.com/ucfilho/optim_raianars_Insight/ #clonar do Github\n",
        "%cd optim_raianars_Insight\n",
        "import de_soma_Insight\n",
        "import de_bounds_matriz"
      ],
      "execution_count": 17,
      "outputs": [
        {
          "output_type": "stream",
          "name": "stdout",
          "text": [
            "Cloning into 'optim_raianars_Insight'...\n",
            "remote: Enumerating objects: 378, done.\u001b[K\n",
            "remote: Counting objects:   1% (1/64)\u001b[K\rremote: Counting objects:   3% (2/64)\u001b[K\rremote: Counting objects:   4% (3/64)\u001b[K\rremote: Counting objects:   6% (4/64)\u001b[K\rremote: Counting objects:   7% (5/64)\u001b[K\rremote: Counting objects:   9% (6/64)\u001b[K\rremote: Counting objects:  10% (7/64)\u001b[K\rremote: Counting objects:  12% (8/64)\u001b[K\rremote: Counting objects:  14% (9/64)\u001b[K\rremote: Counting objects:  15% (10/64)\u001b[K\rremote: Counting objects:  17% (11/64)\u001b[K\rremote: Counting objects:  18% (12/64)\u001b[K\rremote: Counting objects:  20% (13/64)\u001b[K\rremote: Counting objects:  21% (14/64)\u001b[K\rremote: Counting objects:  23% (15/64)\u001b[K\rremote: Counting objects:  25% (16/64)\u001b[K\rremote: Counting objects:  26% (17/64)\u001b[K\rremote: Counting objects:  28% (18/64)\u001b[K\rremote: Counting objects:  29% (19/64)\u001b[K\rremote: Counting objects:  31% (20/64)\u001b[K\rremote: Counting objects:  32% (21/64)\u001b[K\rremote: Counting objects:  34% (22/64)\u001b[K\rremote: Counting objects:  35% (23/64)\u001b[K\rremote: Counting objects:  37% (24/64)\u001b[K\rremote: Counting objects:  39% (25/64)\u001b[K\rremote: Counting objects:  40% (26/64)\u001b[K\rremote: Counting objects:  42% (27/64)\u001b[K\rremote: Counting objects:  43% (28/64)\u001b[K\rremote: Counting objects:  45% (29/64)\u001b[K\rremote: Counting objects:  46% (30/64)\u001b[K\rremote: Counting objects:  48% (31/64)\u001b[K\rremote: Counting objects:  50% (32/64)\u001b[K\rremote: Counting objects:  51% (33/64)\u001b[K\rremote: Counting objects:  53% (34/64)\u001b[K\rremote: Counting objects:  54% (35/64)\u001b[K\rremote: Counting objects:  56% (36/64)\u001b[K\rremote: Counting objects:  57% (37/64)\u001b[K\rremote: Counting objects:  59% (38/64)\u001b[K\rremote: Counting objects:  60% (39/64)\u001b[K\rremote: Counting objects:  62% (40/64)\u001b[K\rremote: Counting objects:  64% (41/64)\u001b[K\rremote: Counting objects:  65% (42/64)\u001b[K\rremote: Counting objects:  67% (43/64)\u001b[K\rremote: Counting objects:  68% (44/64)\u001b[K\rremote: Counting objects:  70% (45/64)\u001b[K\rremote: Counting objects:  71% (46/64)\u001b[K\rremote: Counting objects:  73% (47/64)\u001b[K\rremote: Counting objects:  75% (48/64)\u001b[K\rremote: Counting objects:  76% (49/64)\u001b[K\rremote: Counting objects:  78% (50/64)\u001b[K\rremote: Counting objects:  79% (51/64)\u001b[K\rremote: Counting objects:  81% (52/64)\u001b[K\rremote: Counting objects:  82% (53/64)\u001b[K\rremote: Counting objects:  84% (54/64)\u001b[K\rremote: Counting objects:  85% (55/64)\u001b[K\rremote: Counting objects:  87% (56/64)\u001b[K\rremote: Counting objects:  89% (57/64)\u001b[K\rremote: Counting objects:  90% (58/64)\u001b[K\rremote: Counting objects:  92% (59/64)\u001b[K\rremote: Counting objects:  93% (60/64)\u001b[K\rremote: Counting objects:  95% (61/64)\u001b[K\rremote: Counting objects:  96% (62/64)\u001b[K\rremote: Counting objects:  98% (63/64)\u001b[K\rremote: Counting objects: 100% (64/64)\u001b[K\rremote: Counting objects: 100% (64/64), done.\u001b[K\n",
            "remote: Compressing objects: 100% (64/64), done.\u001b[K\n",
            "remote: Total 378 (delta 37), reused 0 (delta 0), pack-reused 314\u001b[K\n",
            "Receiving objects: 100% (378/378), 327.66 KiB | 8.40 MiB/s, done.\n",
            "Resolving deltas: 100% (218/218), done.\n",
            "/content/optim_raianars_Insight/functions_cec2014_data/Raianars_paper_One/optim_raianars_Insight\n"
          ]
        }
      ]
    },
    {
      "cell_type": "code",
      "metadata": {
        "colab": {
          "base_uri": "https://localhost:8080/"
        },
        "id": "lJogRB30yepw",
        "outputId": "8f05f6b2-a1e1-4d80-d116-24b3496c3dd3"
      },
      "source": [
        "#!git clone https://github.com/ucfilho/Raianars_paper_one_revisited/AddFunctions \n",
        "!git clone https://github.com/ucfilho/Raianars_Routines #clonar do Github\n",
        "%cd Raianars_Routines"
      ],
      "execution_count": 18,
      "outputs": [
        {
          "output_type": "stream",
          "name": "stdout",
          "text": [
            "Cloning into 'Raianars_Routines'...\n",
            "remote: Enumerating objects: 77, done.\u001b[K\n",
            "remote: Counting objects: 100% (77/77), done.\u001b[K\n",
            "remote: Compressing objects: 100% (73/73), done.\u001b[K\n",
            "remote: Total 77 (delta 23), reused 0 (delta 0), pack-reused 0\u001b[K\n",
            "Unpacking objects: 100% (77/77), done.\n",
            "/content/optim_raianars_Insight/functions_cec2014_data/Raianars_paper_One/optim_raianars_Insight/Raianars_Routines\n"
          ]
        }
      ]
    },
    {
      "cell_type": "code",
      "metadata": {
        "id": "P8LIRCsdywOX"
      },
      "source": [
        "############################### Função\n",
        "import FunctionsNew\n",
        "#'''  \n",
        "############################### Função\n",
        "dim= problem_size # \n",
        "fchoice=function_select\n",
        "Fun=Hybrid\n",
        "MAX=np.repeat(100,dim)\n",
        "MIN=np.repeat(-100,dim)\n",
        " #fx=\n",
        "#'''\n",
        "#####################################\n",
        "PAR=len(MAX) #NUM DE PARAMETROS A SER OTIMIZADOS\n",
        "\n",
        "bounds=[]\n",
        "for k in range(len(MAX)):\n",
        "  bounds.append((MIN[k],MAX[k]))"
      ],
      "execution_count": 19,
      "outputs": []
    },
    {
      "cell_type": "code",
      "metadata": {
        "colab": {
          "base_uri": "https://localhost:8080/"
        },
        "id": "QfCTvdZm5Luv",
        "outputId": "bca45053-a321-4e56-a64f-490cc9561b74"
      },
      "source": [
        "!ls"
      ],
      "execution_count": 20,
      "outputs": [
        {
          "output_type": "stream",
          "name": "stdout",
          "text": [
            "cec2014\t\t Go2MinMax.py  __pycache__  shift_data_1.txt\n",
            "FunctionsNew.py  M_1_D10.txt   README.md\n"
          ]
        }
      ]
    },
    {
      "cell_type": "code",
      "metadata": {
        "colab": {
          "base_uri": "https://localhost:8080/"
        },
        "id": "qTINtQ1cosZK",
        "outputId": "69cb7abe-4cc0-405a-8eb9-d63bbbb4d8f6"
      },
      "source": [
        "!git clone https://github.com/ucfilho/ANN_read_matrix #clonar do Github\n",
        "%cd ANN_read_matrix"
      ],
      "execution_count": 21,
      "outputs": [
        {
          "output_type": "stream",
          "name": "stdout",
          "text": [
            "Cloning into 'ANN_read_matrix'...\n",
            "remote: Enumerating objects: 20, done.\u001b[K\n",
            "remote: Total 20 (delta 0), reused 0 (delta 0), pack-reused 20\u001b[K\n",
            "Unpacking objects: 100% (20/20), done.\n",
            "/content/optim_raianars_Insight/functions_cec2014_data/Raianars_paper_One/optim_raianars_Insight/Raianars_Routines/ANN_read_matrix\n"
          ]
        }
      ]
    },
    {
      "cell_type": "code",
      "metadata": {
        "id": "QiQLYOoNoyCw"
      },
      "source": [
        "ANN_F=pd.read_csv('ANN_INSIGHT_Valor_F.csv')"
      ],
      "execution_count": 22,
      "outputs": []
    },
    {
      "cell_type": "code",
      "metadata": {
        "id": "uHtW2amaDzFv"
      },
      "source": [
        "ANN_CR=pd.read_csv('ANN_INSIGHT_CR.csv')"
      ],
      "execution_count": 23,
      "outputs": []
    },
    {
      "cell_type": "code",
      "metadata": {
        "id": "EH6h_vke2yu1"
      },
      "source": [
        "syn0_F,syn1_F,X_max_F,X_min_F=Go2Ann.GetMatriz(ANN_F)"
      ],
      "execution_count": 24,
      "outputs": []
    },
    {
      "cell_type": "code",
      "metadata": {
        "id": "WW_3ZWJXD60i"
      },
      "source": [
        "syn0_CR,syn1_CR,X_max_CR,X_min_CR=Go2Ann.GetMatriz(ANN_CR)"
      ],
      "execution_count": 25,
      "outputs": []
    },
    {
      "cell_type": "code",
      "metadata": {
        "id": "b4gwBvVTyaXh"
      },
      "source": [
        "ANN_CR=pd.read_csv('ANN_INSIGHT_CR.csv')"
      ],
      "execution_count": 26,
      "outputs": []
    },
    {
      "cell_type": "code",
      "metadata": {
        "id": "6jL8MxpHvk-Y"
      },
      "source": [
        "fields = ['DI RELATIVO','FRAC Its','Fo','CRo']"
      ],
      "execution_count": 27,
      "outputs": []
    },
    {
      "cell_type": "code",
      "metadata": {
        "colab": {
          "base_uri": "https://localhost:8080/"
        },
        "id": "Mb3LmbSmj9v7",
        "outputId": "f86ef890-58d3-489d-f485-031a2d4e83f0"
      },
      "source": [
        "##################################### \n",
        "\n",
        "TOTAL=10*dim*its*ITE\n",
        "TOTAL=int(TOTAL/2)   # CONFERIR SE ESTE EH O MELHOR LUGAR\n",
        "\n",
        "dimensions=len(MAX)\n",
        "start_time = time.time() #INICIALIZA CONTAGEM DO TEMPO\n",
        "\n",
        "\n",
        "PAR=dim\n",
        "fobj=Fun\n",
        "\n",
        "MAX_P=np.zeros(ITE) # ATENCAO para variar F e Cr MAX_P passa a ser 3 vezes maior\n",
        "MIN_P=np.zeros(ITE) # ATENCAO para variar F e Cr MIN_P passa a ser 3 vezes maior\n",
        "\n",
        "for i in range(dim):\n",
        "  MAX_P[i]=MAX[i] \n",
        "  MIN_P[i]=MIN[i]\n",
        "\n",
        "rodadas=1\n",
        "NPAR1=int(fator*NPAR);print('Npar1=',NPAR1);print('frac=',fator)\n",
        "NPAR2=NPAR-NPAR1;print('Npar2=',NPAR2);print('Npar=',NPAR)\n",
        "\n",
        "cols=dim\n",
        "\n",
        "X1=np.zeros((NPAR1,cols)) # X1 is Frannk population\n",
        "for i in range(NPAR1):\n",
        "  for j in range(cols):\n",
        "    r=np.random.random()\n",
        "    X1[i,j]=r*(MAX[j]-MIN[j])+MIN[j]\n",
        "    \n",
        "X2=np.zeros((NPAR2,cols)) # X2 is population DE (default DE)\n",
        "for i in range(NPAR2):\n",
        "  for j in range(cols):\n",
        "    r=np.random.random()\n",
        "    X2[i,j]=r*(MAX[j]-MIN[j])+MIN[j]\n",
        " ############################################################\n",
        "  #bounds=[(5*dim, 15*dim)] * PONTOS # ITE\n",
        "  #bounds=[(3*dim, 12*dim)] * PONTOS # ITE\n",
        "  #bounds=[(4*dim, 16*dim)] * PONTOS\n",
        "  \n",
        "  # nao pode ser assim pq o bounds vale p o DE nao dos parametros\n",
        "  #p=int(TOTAL/its/ITE) \n",
        "  #bounds=[(p, p)] * PONTOS\n"
      ],
      "execution_count": 28,
      "outputs": [
        {
          "output_type": "stream",
          "name": "stdout",
          "text": [
            "Npar1= 66\n",
            "frac= 0.6666666666666666\n",
            "Npar2= 34\n",
            "Npar= 100\n"
          ]
        }
      ]
    },
    {
      "cell_type": "code",
      "metadata": {
        "colab": {
          "base_uri": "https://localhost:8080/"
        },
        "id": "rnX8ttNopd1G",
        "outputId": "d0d64123-1165-4641-f371-400cb570551b"
      },
      "source": [
        "\n",
        "start_time = time.time()\n",
        "BEST_AGENTS=[]\n",
        "MAT_stat=[]\n",
        "for iii in range(RUNS):\n",
        "    MAT=[] \n",
        "    mut=Fi\n",
        "    crossp=CRi\n",
        "    SOMA=0\n",
        "    pop = np.random.rand(NPAR, dim)\n",
        "    diff=np.zeros(PAR)\n",
        "    X1=np.zeros((NPAR1,cols)) # X1 is Frannk population\n",
        "    for i in range(NPAR1):\n",
        "      for j in range(cols):\n",
        "        r=np.random.random()\n",
        "        X1[i,j]=r*(MAX[j]-MIN[j])+MIN[j]\n",
        "        \n",
        "    X2=np.zeros((NPAR2,cols)) # X2 is population DE (default DE)\n",
        "    for i in range(NPAR2):\n",
        "      for j in range(cols):\n",
        "        r=np.random.random()\n",
        "        X2[i,j]=r*(MAX[j]-MIN[j])+MIN[j]\n",
        "    \n",
        "    DIo=1e99\n",
        "  \n",
        "    CRo=crossp;Fo=mut;\n",
        "    Fitness = np.asarray([Fun(ind) for ind in X1])\n",
        "    XY,BEST_XY,BESTo,FOBESTo=AvaliaX(X1,Fitness)\n",
        "    nrow,ncol=X1.shape\n",
        "\n",
        "    QUANT=17;MAT_INDo=np.zeros((1,QUANT)); # quantos indices esta fazendo\n",
        "    MAT_INDo[0,5]=nrow  # VALOR NP\n",
        "    MAT_INDo[0,6]=Fo    # VALOR Fo   \n",
        "    MAT_INDo[0,7]=CRo   # VALOR CRo\n",
        "  \n",
        "    MAT_INDo=GeraIndices(X1,BESTo,FOBESTo,DIo,MAT_INDo,SOMA,TOTAL,syn0_F,\n",
        "                        syn1_F,X_max_F,X_min_F,syn0_CR,syn1_CR,X_max_CR,\n",
        "                        X_min_CR,Fc,fields,Fun)\n",
        "  \n",
        "    DIo=np.copy(MAT_INDo[0,0])\n",
        "    MAT_INDo[0,15]=Fo    # VALOR Fo   \n",
        "    MAT_INDo[0,16]=CRo   # VALOR CRo\n",
        "    #ind_crossp=ITE-1\n",
        "    \n",
        "\n",
        "    \n",
        "    for k in range(ITE):\n",
        "\n",
        "      X2,BEST2,FOBEST,XY,BEST_XY=de_bounds_matriz.de(bounds, mut, crossp,NPAR2, its,fobj,X2)\n",
        "      \n",
        "      \n",
        "      X1,BEST1,FOBEST,XY,BEST_XY,SOMA= de_soma_Insight.de(MAX,MIN, mut, crossp,NPAR1,its,Fun,X1,SOMA,TOTAL)\n",
        "\n",
        "      MAT_IND=GeraIndices(X1,BESTo,FOBESTo,DIo,MAT_INDo,SOMA,TOTAL,syn0_F,\n",
        "                          syn1_F,X_max_F,X_min_F,syn0_CR,syn1_CR,X_max_CR,\n",
        "                          X_min_CR,Fc,fields,Fun)\n",
        "    \n",
        "      BESTo=np.copy(BEST1);FOBESTo=np.copy(FOBEST);\n",
        "      MAT.append(MAT_IND.ravel())\n",
        "    \n",
        "      MAT_INDo[0,6]=MAT_IND[0,15]   # VALOR Fo   \n",
        "      MAT_INDo[0,7]=MAT_IND[0,16]   # VALOR CRo\n",
        "      mut=MAT_IND[0,15]\n",
        "      crossp=MAT_IND[0,16]\n",
        "      X1[0,:] = BEST2;\n",
        "      X1[NPAR1-1,:] = BEST1;\n",
        "      X2[0,:] = BEST1;\n",
        "      X2[NPAR2-1,:] = BEST2;\n",
        "    print('k=',iii,'time=',(time.time()-start_time)/60)  \n",
        "    BEST_AGENTS.append(BEST_XY)\n",
        "    MAT_stat.append(MAT)\n",
        "    #print(\"GlobalParam e Solucao:\", BEST,\"Funcao=\",FOBEST)\n",
        "    \n",
        "############################## Cálculo dos Parâmetros de Avaliação   \n",
        "TIME = (time.time() - start_time)/RUNS\n",
        "BEST_AGENTS=np.array(BEST_AGENTS)\n",
        "BEST_AGENTS_ST= BEST_AGENTS[BEST_AGENTS[:,-1].argsort()]\n",
        "BEST=BEST_AGENTS_ST[0]\n",
        "WORSE=BEST_AGENTS_ST[-1]\n",
        "MEAN=np.mean(BEST_AGENTS,axis=0)\n",
        "MAXFO=BEST_AGENTS[:,-1].max()\n",
        "MINFO=BEST_AGENTS[:,-1].min()\n",
        "STD=BEST_AGENTS[:,-1].std()"
      ],
      "execution_count": 29,
      "outputs": [
        {
          "output_type": "stream",
          "name": "stdout",
          "text": [
            "k= 0 time= 4.135580007235209\n",
            "k= 1 time= 8.262697247664134\n",
            "k= 2 time= 12.33646382490794\n",
            "k= 3 time= 16.41742477019628\n",
            "k= 4 time= 20.51004122098287\n",
            "k= 5 time= 24.71953396399816\n",
            "k= 6 time= 28.80316819747289\n",
            "k= 7 time= 32.904306666056314\n",
            "k= 8 time= 37.00041693051656\n",
            "k= 9 time= 41.058834381898244\n",
            "k= 10 time= 45.076701033115384\n",
            "k= 11 time= 49.085346853733064\n",
            "k= 12 time= 53.14637554883957\n",
            "k= 13 time= 57.0894798874855\n",
            "k= 14 time= 61.12337673107783\n",
            "k= 15 time= 65.20594988266627\n",
            "k= 16 time= 69.21091456810633\n",
            "k= 17 time= 73.2248034397761\n",
            "k= 18 time= 77.20718357165654\n",
            "k= 19 time= 81.22307862838109\n",
            "k= 20 time= 85.24574345350266\n",
            "k= 21 time= 89.23159269491832\n",
            "k= 22 time= 93.2423894961675\n",
            "k= 23 time= 97.18773093223572\n",
            "k= 24 time= 101.19571535189947\n",
            "k= 25 time= 105.23490843375524\n",
            "k= 26 time= 109.2230841755867\n",
            "k= 27 time= 113.28435796499252\n",
            "k= 28 time= 117.33548881610234\n",
            "k= 29 time= 121.37424355347952\n",
            "k= 30 time= 125.38642476797104\n",
            "k= 31 time= 129.4540988445282\n",
            "k= 32 time= 133.44390305280686\n",
            "k= 33 time= 137.5377712726593\n",
            "k= 34 time= 141.57794326543808\n",
            "k= 35 time= 145.54003887176515\n",
            "k= 36 time= 149.5578957915306\n",
            "k= 37 time= 153.59492108424504\n",
            "k= 38 time= 157.5643933057785\n",
            "k= 39 time= 161.6165263215701\n",
            "k= 40 time= 165.62021234035493\n",
            "k= 41 time= 169.5971761306127\n",
            "k= 42 time= 173.54735306898752\n",
            "k= 43 time= 177.50491335392\n",
            "k= 44 time= 181.57727431853613\n",
            "k= 45 time= 185.59272878567378\n",
            "k= 46 time= 189.62860136826833\n",
            "k= 47 time= 193.6208434979121\n",
            "k= 48 time= 197.58707873423893\n",
            "k= 49 time= 201.58601983388266\n"
          ]
        }
      ]
    },
    {
      "cell_type": "code",
      "metadata": {
        "id": "hPpkYEjBtKLU",
        "colab": {
          "base_uri": "https://localhost:8080/"
        },
        "outputId": "9f046345-afc1-4c09-a4ac-3642523db77d"
      },
      "source": [
        "X1.shape"
      ],
      "execution_count": 30,
      "outputs": [
        {
          "output_type": "execute_result",
          "data": {
            "text/plain": [
              "(66, 30)"
            ]
          },
          "metadata": {},
          "execution_count": 30
        }
      ]
    },
    {
      "cell_type": "code",
      "metadata": {
        "id": "TLEE0UrZSvJF",
        "colab": {
          "base_uri": "https://localhost:8080/"
        },
        "outputId": "1285708d-de20-450f-904b-a24276ba7c2d"
      },
      "source": [
        "#len(X2[1,:])\n",
        "print(cols)"
      ],
      "execution_count": 31,
      "outputs": [
        {
          "output_type": "stream",
          "name": "stdout",
          "text": [
            "30\n"
          ]
        }
      ]
    },
    {
      "cell_type": "code",
      "metadata": {
        "id": "k3p9TGsx1OCu"
      },
      "source": [
        "NOMES=['DIVERSIDADE (DI)',  'DI RELATIVO','FRAC Its',\n",
        "           'VELOC FOBJ','VELOC X','NP','Fo','CRo','fmin','fmax',\n",
        "           'AD_fmin','AD_fmax','DELTA FOBJ','DELTA VX','r_fitness',\n",
        "           'F','CR']\n",
        "# BEST_INDEX= BEST_AGENTS[BEST_AGENTS[:,-1].argmin()]  \n",
        "BEST_INDEX = np.argmin(BEST_AGENTS[:,-1])\n",
        "df=pd.DataFrame(MAT_stat[BEST_INDEX], columns=NOMES)\n",
        "\n"
      ],
      "execution_count": 32,
      "outputs": []
    },
    {
      "cell_type": "code",
      "metadata": {
        "id": "jIHiKR_t1xxs",
        "colab": {
          "base_uri": "https://localhost:8080/"
        },
        "outputId": "beadfedf-aaa3-4af0-8647-63d9ffcef2e0"
      },
      "source": [
        "pd.set_option('display.max_columns', 30)  \n",
        "print(df)"
      ],
      "execution_count": 33,
      "outputs": [
        {
          "output_type": "stream",
          "name": "stdout",
          "text": [
            "      DIVERSIDADE (DI)  DI RELATIVO  FRAC Its  VELOC FOBJ  VELOC X    NP  \\\n",
            "0           314.990656     1.007630   0.00022         1.0      2.0  66.0   \n",
            "1           312.808769     1.000650   0.00044         0.0      0.0  66.0   \n",
            "2           311.880856     0.997682   0.00066         1.0      2.0  66.0   \n",
            "3           311.675405     0.997024   0.00088         1.0      2.0  66.0   \n",
            "4           314.868605     1.007239   0.00110         0.0      0.0  66.0   \n",
            "...                ...          ...       ...         ...      ...   ...   \n",
            "1995        298.774016     0.955754   0.43912         0.0      0.0  66.0   \n",
            "1996        298.771065     0.955745   0.43934         0.0      0.0  66.0   \n",
            "1997        298.772028     0.955748   0.43956         0.0      0.0  66.0   \n",
            "1998        298.772028     0.955748   0.43978         1.0      1.0  66.0   \n",
            "1999        298.772028     0.955748   0.44000         1.0      1.0  66.0   \n",
            "\n",
            "            Fo           CRo          fmin          fmax  AD_fmin  AD_fmax  \\\n",
            "0     0.500000  5.000000e-01  10445.358917  14376.745461      1.0      1.0   \n",
            "1     0.248093  3.320617e-01  10445.358917  13916.786014      1.0      1.0   \n",
            "2     0.434283  2.213025e-01  10329.429156  13748.862305      1.0      1.0   \n",
            "3     0.217645  1.477060e-01   9337.885386  13663.207414      1.0      1.0   \n",
            "4     0.380393  2.213393e-01   9337.885386  13510.466909      1.0      1.0   \n",
            "...        ...           ...           ...           ...      ...      ...   \n",
            "1995  0.310500  2.084855e-74   2516.778308   5970.410750      1.0      1.0   \n",
            "1996  0.162119  2.583007e-74   2516.778308   5970.410750      1.0      1.0   \n",
            "1997  0.278327  1.760109e-74   2516.778308   5970.410750      1.0      1.0   \n",
            "1998  0.145322  2.180664e-74   2516.778308   5970.410750      1.0      1.0   \n",
            "1999  0.249490  1.485942e-74   2516.778308   5970.410750      1.0      1.0   \n",
            "\n",
            "      DELTA FOBJ  DELTA VX  r_fitness         F            CR  \n",
            "0            0.0       0.0   0.273455  0.248093  3.320617e-01  \n",
            "1            0.0       0.0   0.249442  0.434283  2.213025e-01  \n",
            "2            0.0       0.0   0.248707  0.217645  1.477060e-01  \n",
            "3            0.0       0.0   0.316567  0.380393  2.213393e-01  \n",
            "4            0.0       0.0   0.308841  0.667753  1.470254e-01  \n",
            "...          ...       ...        ...       ...           ...  \n",
            "1995         0.0       0.0   0.578458  0.162119  2.583007e-74  \n",
            "1996         0.0       0.0   0.578458  0.278327  1.760109e-74  \n",
            "1997         0.0       0.0   0.578458  0.145322  2.180664e-74  \n",
            "1998         0.0       0.0   0.578458  0.249490  1.485942e-74  \n",
            "1999         0.0       0.0   0.578458  0.130265  1.840989e-74  \n",
            "\n",
            "[2000 rows x 17 columns]\n"
          ]
        }
      ]
    },
    {
      "cell_type": "code",
      "metadata": {
        "id": "bx0ywpMtAAjw",
        "colab": {
          "base_uri": "https://localhost:8080/",
          "height": 297
        },
        "outputId": "0380e878-b4c2-4fd9-a897-28a0c726ed0d"
      },
      "source": [
        "plt.plot(df['FRAC Its'],df['CR'])\n",
        "plt.xlabel('Iteração/Total')\n",
        "plt.ylabel('CR')"
      ],
      "execution_count": 34,
      "outputs": [
        {
          "output_type": "execute_result",
          "data": {
            "text/plain": [
              "Text(0, 0.5, 'CR')"
            ]
          },
          "metadata": {},
          "execution_count": 34
        },
        {
          "output_type": "display_data",
          "data": {
            "text/plain": [
              "<Figure size 432x288 with 1 Axes>"
            ],
            "image/png": "[encoded data removed]"
          },
          "metadata": {
            "needs_background": "light"
          }
        }
      ]
    },
    {
      "cell_type": "code",
      "metadata": {
        "id": "BvPFvbDvteDC",
        "colab": {
          "base_uri": "https://localhost:8080/",
          "height": 295
        },
        "outputId": "1c2534a1-21a3-4753-bc32-6fd54f267e50"
      },
      "source": [
        "\n",
        "fig, ax = plt.subplots()\n",
        "ax.plot(df['FRAC Its'],df['F'],label='F')\n",
        "ax.set_xlabel('Iteração/Total')\n",
        "ax.set_ylabel('Parâmetros')\n",
        "ax.plot(df['FRAC Its'],df['CR'],'-r', label='CR')\n",
        "nome=Fun.__name__+'  M=Diversidade'+ '  D='+str(dim)\n",
        "ax.set_title(nome)\n",
        "leg = ax.legend()\n"
      ],
      "execution_count": 35,
      "outputs": [
        {
          "output_type": "display_data",
          "data": {
            "text/plain": [
              "<Figure size 432x288 with 1 Axes>"
            ],
            "image/png": "[encoded data removed]"
          },
          "metadata": {
            "needs_background": "light"
          }
        }
      ]
    },
    {
      "cell_type": "code",
      "metadata": {
        "id": "htooaGpDia_0",
        "colab": {
          "base_uri": "https://localhost:8080/",
          "height": 313
        },
        "outputId": "c0ebc6f8-89c6-44ec-d9c0-1c33cd7f3158"
      },
      "source": [
        "f, axarr = plt.subplots(2, sharex=True)\n",
        "axarr[0].plot(df['FRAC Its'],df['F'])\n",
        "axarr[0].set_ylabel('F')\n",
        "axarr[1].plot(df['FRAC Its'],df['CR'])\n",
        "axarr[1].set_ylabel('CR')\n",
        "axarr[1].set_xlabel('Iteração/Total')\n",
        "nome=Fun.__name__+'_Diversidade_'+ 'D='+str(dim)\n",
        "axarr[0].set_title(nome)\n"
      ],
      "execution_count": 36,
      "outputs": [
        {
          "output_type": "execute_result",
          "data": {
            "text/plain": [
              "Text(0.5, 1.0, 'Hybrid_Diversidade_D=30')"
            ]
          },
          "metadata": {},
          "execution_count": 36
        },
        {
          "output_type": "display_data",
          "data": {
            "text/plain": [
              "<Figure size 432x288 with 2 Axes>"
            ],
            "image/png": "[encoded data removed]"
          },
          "metadata": {
            "needs_background": "light"
          }
        }
      ]
    },
    {
      "cell_type": "code",
      "metadata": {
        "id": "lNSN5X-wskcx",
        "colab": {
          "base_uri": "https://localhost:8080/"
        },
        "outputId": "d56505ec-2a10-43c0-ee1a-c3aaa62230f9"
      },
      "source": [
        "nome='_ANN_Div3x4_Fo-'+str(Fi)+'_CRo-'+str(CRi)+'_D-'+str(dim)+'_Interv-'+str(ITE)\n",
        "print('DE_POP_VAR_F_CR','TOTAL=',TOTAL,'Iterações=',ITE*its,'Dim=', PAR,\"Min/Max=\",MIN[0],\"/\",MAX[0],'_',Fun.__name__)\n",
        "print(nome, '\\n')\n",
        "#print('BEST: ',BEST)\n",
        "#print('MÉDIA: ',MEAN)\n",
        "print('MÉDIA: ',MEAN[-1])\n",
        "print('MIN __:',MINFO)\n",
        "print('MAX__: ',MAXFO)\n",
        "print('STD __:',STD)\n",
        "print(\"Tempo Médio= %.3f segundos ---\" % (TIME))\n",
        "print(RUNS,'Rodadas') \n",
        "print()\n",
        "print('BEST: ',BEST)\n",
        "# print('melhor=',BEST_AGENTS[BEST_INDEX])"
      ],
      "execution_count": 37,
      "outputs": [
        {
          "output_type": "stream",
          "name": "stdout",
          "text": [
            "DE_POP_VAR_F_CR TOTAL= 300000 Iterações= 2000 Dim= 30 Min/Max= -100 / 100 _ Hybrid\n",
            "_ANN_Div3x4_Fo-0.5_CRo-0.5_D-30_Interv-2000 \n",
            "\n",
            "MÉDIA:  3398.8848667552597\n",
            "MIN __: 2516.778308493207\n",
            "MAX__:  4068.1626925627484\n",
            "STD __: 349.9309196928786\n",
            "Tempo Médio= 241.903 segundos ---\n",
            "50 Rodadas\n",
            "\n",
            "BEST:  [-2.71953234e+01  8.69928868e+00 -7.36102657e+01 -1.00000000e+02\n",
            " -5.05172937e+01  3.88452904e+01  4.27245428e+01 -5.08332719e+01\n",
            "  6.57493459e+00  3.41876376e+01 -5.77851895e+01 -7.15166979e-01\n",
            " -5.59086168e+01  3.28596177e+01  1.50384770e+01 -7.46885202e+00\n",
            "  4.97736023e+01  1.00000000e+02 -6.12272784e+01  3.71549635e+00\n",
            " -2.08636755e+01  1.19502090e+01 -9.69254887e+01  6.36045979e+01\n",
            "  5.58601033e+00  5.56674060e+01 -5.82745112e+01 -4.33584347e+01\n",
            "  2.13319049e+01  4.65571306e+01  2.51677831e+03]\n"
          ]
        }
      ]
    }
  ]
}
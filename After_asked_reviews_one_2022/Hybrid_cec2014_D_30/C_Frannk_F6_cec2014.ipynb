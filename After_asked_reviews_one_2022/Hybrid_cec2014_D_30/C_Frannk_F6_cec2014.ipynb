{
  "nbformat": 4,
  "nbformat_minor": 0,
  "metadata": {
    "colab": {
      "name": "C_Frannk_F6_cec2014.ipynb",
      "provenance": [],
      "authorship_tag": "ABX9TyMK4fq1hdAZsCOx3lHe9bTA",
      "include_colab_link": true
    },
    "kernelspec": {
      "name": "python3",
      "display_name": "Python 3"
    },
    "language_info": {
      "name": "python"
    }
  },
  "cells": [
    {
      "cell_type": "markdown",
      "metadata": {
        "id": "view-in-github",
        "colab_type": "text"
      },
      "source": [
        "<a href=\"https://colab.research.google.com/github/ucfilho/Raianars_paper_one_revisited/blob/main/After_asked_reviews_one_2022/Hybrid_cec2014_D_30/C_Frannk_F6_cec2014.ipynb\" target=\"_parent\"><img src=\"https://colab.research.google.com/assets/colab-badge.svg\" alt=\"Open In Colab\"/></a>"
      ]
    },
    {
      "cell_type": "code",
      "execution_count": null,
      "metadata": {
        "id": "r1Lf80OFlQ6j"
      },
      "outputs": [],
      "source": [
        "#C_Frannk_F6_cec2014\n",
        "# results obtained in computer(not cloud)"
      ]
    },
    {
      "cell_type": "code",
      "source": [
        "'''\n",
        "\n",
        "[1000 rows x 17 columns]\n",
        "MCS-FRANNK Fator F/DE= 0.33 NPAR= 100 Iterações= 1000 Dim= 30 Min/Max= -100 / 100 _ F6\n",
        "SUB_Fo-0.5_CRo-0.5_D-30_Interv-1000 \n",
        "\n",
        "MÉDIA:  1.3642420526593923e-14 STD __: 1.1175190622530805e-14\n",
        "MIN __: 0.0 MAX__:  4.263256414560601e-14\n",
        "1.3642420526593923e-14\n",
        "1.1175190622530805e-14\n",
        "0.0\n",
        "Tempo Médio= 627.267 segundos ---\n",
        "50 Rodadas\n",
        "\n",
        "BEST:  [-100. -100. -100. -100. -100. -100. -100. -100. -100. -100. -100. -100.\n",
        " -100.   25. -100. -100. -100. -100.   50. -100. -100. -100. -100. -100.\n",
        " -100. -100. -100. -100. -100. -100.    0.]\n",
        "\n",
        "'''"
      ],
      "metadata": {
        "id": "vYMxUZivlVw6"
      },
      "execution_count": null,
      "outputs": []
    }
  ]
}
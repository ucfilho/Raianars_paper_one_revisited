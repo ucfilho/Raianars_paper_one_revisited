{
  "nbformat": 4,
  "nbformat_minor": 0,
  "metadata": {
    "colab": {
      "name": "C_Frannk_F4_cec2014.ipynb",
      "provenance": [],
      "collapsed_sections": [],
      "include_colab_link": true
    },
    "kernelspec": {
      "name": "python3",
      "display_name": "Python 3"
    },
    "language_info": {
      "codemirror_mode": {
        "name": "ipython",
        "version": 3
      },
      "file_extension": ".py",
      "mimetype": "text/x-python",
      "name": "python",
      "nbconvert_exporter": "python",
      "pygments_lexer": "ipython3",
      "version": "3.7.3"
    }
  },
  "cells": [
    {
      "cell_type": "markdown",
      "metadata": {
        "id": "view-in-github",
        "colab_type": "text"
      },
      "source": [
        "<a href=\"https://colab.research.google.com/github/ucfilho/Raianars_paper_one_revisited/blob/main/After_asked_reviews_one_2022/Hybrid_cec2014_D_30/C_Frannk_F4_cec2014.ipynb\" target=\"_parent\"><img src=\"https://colab.research.google.com/assets/colab-badge.svg\" alt=\"Open In Colab\"/></a>"
      ]
    },
    {
      "cell_type": "code",
      "metadata": {
        "colab": {
          "base_uri": "https://localhost:8080/"
        },
        "id": "c59cDVKoxDLX",
        "outputId": "f03ee38f-473a-475d-ad8d-a39eb5ad401e"
      },
      "source": [
        "############################### Importar códigos\n",
        "!git clone https://github.com/ucfilho/optim_raianars_Insight/ #clonar do Github\n",
        "%cd optim_raianars_Insight\n",
        "import de_soma_Insight\n",
        "import de_bounds_matriz\n",
        "import Go2Ann\n",
        "from pandas import read_csv"
      ],
      "execution_count": 1,
      "outputs": [
        {
          "output_type": "stream",
          "name": "stdout",
          "text": [
            "fatal: destination path 'optim_raianars_Insight' already exists and is not an empty directory.\n",
            "/content/optim_raianars_Insight\n"
          ]
        }
      ]
    },
    {
      "cell_type": "code",
      "metadata": {
        "id": "Va-6Xios8RjU",
        "colab": {
          "base_uri": "https://localhost:8080/"
        },
        "outputId": "0551a301-cedf-48da-9d41-5eabaa3990d8"
      },
      "source": [
        "!git clone https://github.com/ucfilho/Raianars_paper_One #clonar do Github\n",
        "%cd Raianars_paper_One"
      ],
      "execution_count": 2,
      "outputs": [
        {
          "output_type": "stream",
          "name": "stdout",
          "text": [
            "fatal: destination path 'Raianars_paper_One' already exists and is not an empty directory.\n",
            "/content/optim_raianars_Insight/Raianars_paper_One\n"
          ]
        }
      ]
    },
    {
      "cell_type": "code",
      "metadata": {
        "id": "_E15mKFURR6O"
      },
      "source": [
        "#import Go2Ann\n",
        "#import de_soma_Insight\n",
        "#import de_bounds_matriz\n",
        "#import Function\n",
        "import Go2MinMax\n",
        "from AvaliaX import AvaliaX\n",
        "#from Function import FUN\n",
        "#from Function import Function.FUN\n",
        "#from Function import Function.Fun\n",
        "#from Function import Function\n",
        "from GeraIndices import GeraIndices\n",
        "import numpy as np\n",
        "import time\n",
        "import matplotlib.pyplot as plt\n",
        "from random import randint\n",
        "from scipy import optimize\n",
        "import pandas as pd\n",
        "from sklearn.metrics import confusion_matrix\n",
        "\n",
        "############################### DADOS DE ENTRADA \n",
        "RUNS=50 #NÚMERO DE RODADAS\n",
        "Fc=0.1 # fator de correcao parametros da ANN\n",
        "its=1 #10 # quantas vezes vai usar o NPAR antes de alterar de novo\n",
        "ITE=1000 #10 # PONTOS quantas vezes vai alteral NPAR \n",
        "NPAR=100\n",
        "mut=0.5\n",
        "crossp=0.5\n",
        "\n",
        "#fator = 1.0/3.0; \n",
        "Fi=mut;CRi=crossp;# para impressão\n",
        "fator = 1.0/3.0; \n",
        "mut2=0.5;crossp2=0.5;mut3=0.75;crossp3=0.25;mut4=0.25;crossp4=0.25;\n"
      ],
      "execution_count": 3,
      "outputs": []
    },
    {
      "cell_type": "code",
      "metadata": {
        "colab": {
          "base_uri": "https://localhost:8080/"
        },
        "id": "ik3ZjkUKycUK",
        "outputId": "eb8b4537-5d61-4225-b323-7e8b22574104"
      },
      "source": [
        "############################### Importar códigos\n",
        "!git clone https://github.com/ucfilho/optim_raianars_Insight/ #clonar do Github\n",
        "%cd optim_raianars_Insight\n",
        "import de_soma_Insight\n",
        "import de_bounds_matriz"
      ],
      "execution_count": 4,
      "outputs": [
        {
          "output_type": "stream",
          "name": "stdout",
          "text": [
            "fatal: destination path 'optim_raianars_Insight' already exists and is not an empty directory.\n",
            "/content/optim_raianars_Insight/Raianars_paper_One/optim_raianars_Insight\n"
          ]
        }
      ]
    },
    {
      "cell_type": "code",
      "metadata": {
        "colab": {
          "base_uri": "https://localhost:8080/"
        },
        "id": "lJogRB30yepw",
        "outputId": "d46da325-782c-483a-d628-0feb669a6424"
      },
      "source": [
        "#!git clone https://github.com/ucfilho/Raianars_paper_One #clonar do Github\n",
        "#%cd Raianars_paper_One\n",
        "\n",
        "!git clone https://github.com/ucfilho/Raianars_Routines #clonar do Github\n",
        "%cd Raianars_Routines"
      ],
      "execution_count": 5,
      "outputs": [
        {
          "output_type": "stream",
          "name": "stdout",
          "text": [
            "fatal: destination path 'Raianars_Routines' already exists and is not an empty directory.\n",
            "/content/optim_raianars_Insight/Raianars_paper_One/optim_raianars_Insight/Raianars_Routines\n"
          ]
        }
      ]
    },
    {
      "cell_type": "code",
      "source": [
        "!git clone https://github.com/ucfilho/functions_cec2014_data\n",
        "%cd functions_cec2014_data\n",
        "import F1_to_F27_cec2014_zero_to_hero\n",
        "import cec2014_names\n",
        "import cec2014_shift_rotate"
      ],
      "metadata": {
        "colab": {
          "base_uri": "https://localhost:8080/"
        },
        "id": "Z66tL-D0qM1H",
        "outputId": "6f2a741e-e66d-4bf4-a757-d84c75751789"
      },
      "execution_count": 6,
      "outputs": [
        {
          "output_type": "stream",
          "name": "stdout",
          "text": [
            "fatal: destination path 'functions_cec2014_data' already exists and is not an empty directory.\n",
            "/content/optim_raianars_Insight/Raianars_paper_One/optim_raianars_Insight/Raianars_Routines/functions_cec2014_data\n"
          ]
        }
      ]
    },
    {
      "cell_type": "code",
      "source": [
        "function_select = 'F3'\n",
        "Function = F1_to_F27_cec2014_zero_to_hero.F3\n",
        "Shift_Rotate= cec2014_shift_rotate.F3\n",
        "problem_size = 30 # possibles 2, 10, 20, 30, 50, 100"
      ],
      "metadata": {
        "id": "hN3HYnHmqX3f"
      },
      "execution_count": 7,
      "outputs": []
    },
    {
      "cell_type": "code",
      "source": [
        "dim = problem_size "
      ],
      "metadata": {
        "id": "yCggKdhhtnp1"
      },
      "execution_count": 8,
      "outputs": []
    },
    {
      "cell_type": "code",
      "source": [
        "f_matrix = \"M_\"+function_select[1:]+\"_D\"+str(problem_size) + \".txt\"\n",
        "shift_data_file=\"shift_data_\"+function_select[1:]+\".txt\"\n",
        "F_bias = cec2014_names.BiasValue()[function_select]\n",
        "type_fun = cec2014_names.TypeFunctions()[function_select]\n",
        "Function_CEC2014 =function_select + \"_\" + cec2014_names.NamesFunctions()[function_select]+\"_D_\"+str(problem_size)"
      ],
      "metadata": {
        "id": "r5pD3VaXqYAj"
      },
      "execution_count": 9,
      "outputs": []
    },
    {
      "cell_type": "code",
      "source": [
        "!pip install --upgrade --no-cache-dir gdown"
      ],
      "metadata": {
        "colab": {
          "base_uri": "https://localhost:8080/"
        },
        "id": "QFsJfpK3qfQy",
        "outputId": "5a288d0a-1e97-42e1-afb9-1155f5324106"
      },
      "execution_count": 10,
      "outputs": [
        {
          "output_type": "stream",
          "name": "stdout",
          "text": [
            "Requirement already satisfied: gdown in /usr/local/lib/python3.7/dist-packages (4.4.0)\n",
            "Requirement already satisfied: beautifulsoup4 in /usr/local/lib/python3.7/dist-packages (from gdown) (4.6.3)\n",
            "Requirement already satisfied: six in /usr/local/lib/python3.7/dist-packages (from gdown) (1.15.0)\n",
            "Requirement already satisfied: requests[socks] in /usr/local/lib/python3.7/dist-packages (from gdown) (2.23.0)\n",
            "Requirement already satisfied: tqdm in /usr/local/lib/python3.7/dist-packages (from gdown) (4.64.0)\n",
            "Requirement already satisfied: filelock in /usr/local/lib/python3.7/dist-packages (from gdown) (3.6.0)\n",
            "Requirement already satisfied: idna<3,>=2.5 in /usr/local/lib/python3.7/dist-packages (from requests[socks]->gdown) (2.10)\n",
            "Requirement already satisfied: certifi>=2017.4.17 in /usr/local/lib/python3.7/dist-packages (from requests[socks]->gdown) (2021.10.8)\n",
            "Requirement already satisfied: urllib3!=1.25.0,!=1.25.1,<1.26,>=1.21.1 in /usr/local/lib/python3.7/dist-packages (from requests[socks]->gdown) (1.24.3)\n",
            "Requirement already satisfied: chardet<4,>=3.0.2 in /usr/local/lib/python3.7/dist-packages (from requests[socks]->gdown) (3.0.4)\n",
            "Requirement already satisfied: PySocks!=1.5.7,>=1.5.6 in /usr/local/lib/python3.7/dist-packages (from requests[socks]->gdown) (1.7.1)\n"
          ]
        }
      ]
    },
    {
      "cell_type": "code",
      "source": [
        "# !gdown --id 1yM-cGzp7F35bXZ-f80uoJHzGqAb52CPz\n",
        "# https://drive.google.com/file/d/1yM-cGzp7F35bXZ-f80uoJHzGqAb52CPz/view?usp=sharing\n",
        "!gdown --id 1yM-cGzp7F35bXZ-f80uoJHzGqAb52CPz"
      ],
      "metadata": {
        "colab": {
          "base_uri": "https://localhost:8080/"
        },
        "id": "bCv2CFD3qp0q",
        "outputId": "0992dee5-b04e-4f98-b2be-a0462abc60cb"
      },
      "execution_count": 11,
      "outputs": [
        {
          "output_type": "stream",
          "name": "stdout",
          "text": [
            "/usr/local/lib/python3.7/dist-packages/gdown/cli.py:131: FutureWarning: Option `--id` was deprecated in version 4.3.1 and will be removed in 5.0. You don't need to pass it anymore to use a file ID.\n",
            "  category=FutureWarning,\n",
            "Downloading...\n",
            "From: https://drive.google.com/uc?id=1yM-cGzp7F35bXZ-f80uoJHzGqAb52CPz\n",
            "To: /content/optim_raianars_Insight/Raianars_paper_One/optim_raianars_Insight/Raianars_Routines/functions_cec2014_data/cec2014.zip\n",
            "100% 36.1M/36.1M [00:00<00:00, 282MB/s]\n"
          ]
        }
      ]
    },
    {
      "cell_type": "code",
      "source": [
        "import zipfile\n",
        "file_name = zipfile.ZipFile('cec2014.zip', 'r')\n",
        "file_name.extractall()"
      ],
      "metadata": {
        "id": "-N1Hsa88W-Mr"
      },
      "execution_count": 12,
      "outputs": []
    },
    {
      "cell_type": "code",
      "source": [
        "def load_shift_data__(data_file=None):\n",
        "    data = read_csv(data_file, delimiter='\\s+', index_col=False, header=None)\n",
        "    return data.values.reshape((-1))\n",
        "\n",
        "def load_matrix_data__(data_file=None):\n",
        "    data = read_csv(data_file, delimiter='\\s+', index_col=False, header=None)\n",
        "    return data.values"
      ],
      "metadata": {
        "id": "_tEgxfW4qwlt"
      },
      "execution_count": 13,
      "outputs": []
    },
    {
      "cell_type": "code",
      "source": [
        "shift_data_a = load_shift_data__(shift_data_file)[:problem_size]\n",
        "matrix_a = load_matrix_data__(f_matrix)\n",
        "if (type_fun == 'hybrid'):\n",
        "  f_shuffle = \"shuffle_data_\"+function_select[1:]+\"_D\"+str(problem_size) + \".txt\"\n",
        "  shuffle = (load_shift_data__(f_shuffle)[:problem_size] - np.ones(problem_size)).astype(int)\n",
        "else:\n",
        "  shuffle = matrix_a"
      ],
      "metadata": {
        "id": "NJVx_raoq9GU"
      },
      "execution_count": 14,
      "outputs": []
    },
    {
      "cell_type": "code",
      "source": [
        "SUPPORT_DIMENSION = [2, 10, 20, 30, 50, 100]\n",
        "SUPPORT_DIMENSION_2 = [10, 20, 30, 50, 100]\n",
        "\n",
        "#def Fun(solution,shift_data=shift_data_a, matrix=matrix_a, shuffle):#, bias=F_bias):\n",
        "def CEC2014(solution, shift_data ,  matrix, shuffle):#, bias=F_bias):\n",
        "  if(type_fun == 'shift_rotate'):\n",
        "    z = Shift_Rotate(solution , shift_data , matrix,shuffle)\n",
        "    result = Function(z) + F_bias\n",
        "  elif(type_fun =='hybrid'): # F17 to F22\n",
        "    z = Shift_Rotate(solution , shift_data , matrix,shuffle)\n",
        "    result = z + F_bias\n",
        " \n",
        "  return result"
      ],
      "metadata": {
        "id": "AF2E2EIwrC8o"
      },
      "execution_count": 15,
      "outputs": []
    },
    {
      "cell_type": "code",
      "source": [
        " shift_data = shift_data_a\n",
        " matrix = matrix_a\n",
        " shuffle = shuffle\n",
        " def Hybrid(solution):\n",
        "   resp = CEC2014(solution, shift_data = shift_data_a, matrix = matrix_a, shuffle = shuffle)\n",
        "   return resp"
      ],
      "metadata": {
        "id": "jIcMJI-UrK8V"
      },
      "execution_count": 16,
      "outputs": []
    },
    {
      "cell_type": "code",
      "source": [
        "!git clone https://github.com/ucfilho/Raianars_paper_One #clonar do Github\n",
        "%cd Raianars_paper_One"
      ],
      "metadata": {
        "colab": {
          "base_uri": "https://localhost:8080/"
        },
        "id": "9Vsz9VQRrLVf",
        "outputId": "c9e47a8e-57b2-4990-f63b-68ad2c07c2ac"
      },
      "execution_count": 17,
      "outputs": [
        {
          "output_type": "stream",
          "name": "stdout",
          "text": [
            "Cloning into 'Raianars_paper_One'...\n",
            "remote: Enumerating objects: 272, done.\u001b[K\n",
            "remote: Counting objects:   0% (1/143)\u001b[K\rremote: Counting objects:   1% (2/143)\u001b[K\rremote: Counting objects:   2% (3/143)\u001b[K\rremote: Counting objects:   3% (5/143)\u001b[K\rremote: Counting objects:   4% (6/143)\u001b[K\rremote: Counting objects:   5% (8/143)\u001b[K\rremote: Counting objects:   6% (9/143)\u001b[K\rremote: Counting objects:   7% (11/143)\u001b[K\rremote: Counting objects:   8% (12/143)\u001b[K\rremote: Counting objects:   9% (13/143)\u001b[K\rremote: Counting objects:  10% (15/143)\u001b[K\rremote: Counting objects:  11% (16/143)\u001b[K\rremote: Counting objects:  12% (18/143)\u001b[K\rremote: Counting objects:  13% (19/143)\u001b[K\rremote: Counting objects:  14% (21/143)\u001b[K\rremote: Counting objects:  15% (22/143)\u001b[K\rremote: Counting objects:  16% (23/143)\u001b[K\rremote: Counting objects:  17% (25/143)\u001b[K\rremote: Counting objects:  18% (26/143)\u001b[K\rremote: Counting objects:  19% (28/143)\u001b[K\rremote: Counting objects:  20% (29/143)\u001b[K\rremote: Counting objects:  21% (31/143)\u001b[K\rremote: Counting objects:  22% (32/143)\u001b[K\rremote: Counting objects:  23% (33/143)\u001b[K\rremote: Counting objects:  24% (35/143)\u001b[K\rremote: Counting objects:  25% (36/143)\u001b[K\rremote: Counting objects:  26% (38/143)\u001b[K\rremote: Counting objects:  27% (39/143)\u001b[K\rremote: Counting objects:  28% (41/143)\u001b[K\rremote: Counting objects:  29% (42/143)\u001b[K\rremote: Counting objects:  30% (43/143)\u001b[K\rremote: Counting objects:  31% (45/143)\u001b[K\rremote: Counting objects:  32% (46/143)\u001b[K\rremote: Counting objects:  33% (48/143)\u001b[K\rremote: Counting objects:  34% (49/143)\u001b[K\rremote: Counting objects:  35% (51/143)\u001b[K\rremote: Counting objects:  36% (52/143)\u001b[K\rremote: Counting objects:  37% (53/143)\u001b[K\rremote: Counting objects:  38% (55/143)\u001b[K\rremote: Counting objects:  39% (56/143)\u001b[K\rremote: Counting objects:  40% (58/143)\u001b[K\rremote: Counting objects:  41% (59/143)\u001b[K\rremote: Counting objects:  42% (61/143)\u001b[K\rremote: Counting objects:  43% (62/143)\u001b[K\rremote: Counting objects:  44% (63/143)\u001b[K\rremote: Counting objects:  45% (65/143)\u001b[K\rremote: Counting objects:  46% (66/143)\u001b[K\rremote: Counting objects:  47% (68/143)\u001b[K\rremote: Counting objects:  48% (69/143)\u001b[K\rremote: Counting objects:  49% (71/143)\u001b[K\rremote: Counting objects:  50% (72/143)\u001b[K\rremote: Counting objects:  51% (73/143)\u001b[K\rremote: Counting objects:  52% (75/143)\u001b[K\rremote: Counting objects:  53% (76/143)\u001b[K\rremote: Counting objects:  54% (78/143)\u001b[K\rremote: Counting objects:  55% (79/143)\u001b[K\rremote: Counting objects:  56% (81/143)\u001b[K\rremote: Counting objects:  57% (82/143)\u001b[K\rremote: Counting objects:  58% (83/143)\u001b[K\rremote: Counting objects:  59% (85/143)\u001b[K\rremote: Counting objects:  60% (86/143)\u001b[K\rremote: Counting objects:  61% (88/143)\u001b[K\rremote: Counting objects:  62% (89/143)\u001b[K\rremote: Counting objects:  63% (91/143)\u001b[K\rremote: Counting objects:  64% (92/143)\u001b[K\rremote: Counting objects:  65% (93/143)\u001b[K\rremote: Counting objects:  66% (95/143)\u001b[K\rremote: Counting objects:  67% (96/143)\u001b[K\rremote: Counting objects:  68% (98/143)\u001b[K\rremote: Counting objects:  69% (99/143)\u001b[K\rremote: Counting objects:  70% (101/143)\u001b[K\rremote: Counting objects:  71% (102/143)\u001b[K\rremote: Counting objects:  72% (103/143)\u001b[K\rremote: Counting objects:  73% (105/143)\u001b[K\rremote: Counting objects:  74% (106/143)\u001b[K\rremote: Counting objects:  75% (108/143)\u001b[K\rremote: Counting objects:  76% (109/143)\u001b[K\rremote: Counting objects:  77% (111/143)\u001b[K\rremote: Counting objects:  78% (112/143)\u001b[K\rremote: Counting objects:  79% (113/143)\u001b[K\rremote: Counting objects:  80% (115/143)\u001b[K\rremote: Counting objects:  81% (116/143)\u001b[K\rremote: Counting objects:  82% (118/143)\u001b[K\rremote: Counting objects:  83% (119/143)\u001b[K\rremote: Counting objects:  84% (121/143)\u001b[K\rremote: Counting objects:  85% (122/143)\u001b[K\rremote: Counting objects:  86% (123/143)\u001b[K\rremote: Counting objects:  87% (125/143)\u001b[K\rremote: Counting objects:  88% (126/143)\u001b[K\rremote: Counting objects:  89% (128/143)\u001b[K\rremote: Counting objects:  90% (129/143)\u001b[K\rremote: Counting objects:  91% (131/143)\u001b[K\rremote: Counting objects:  92% (132/143)\u001b[K\rremote: Counting objects:  93% (133/143)\u001b[K\rremote: Counting objects:  94% (135/143)\u001b[K\rremote: Counting objects:  95% (136/143)\u001b[K\rremote: Counting objects:  96% (138/143)\u001b[K\rremote: Counting objects:  97% (139/143)\u001b[K\rremote: Counting objects:  98% (141/143)\u001b[K\rremote: Counting objects:  99% (142/143)\u001b[K\rremote: Counting objects: 100% (143/143)\u001b[K\rremote: Counting objects: 100% (143/143), done.\u001b[K\n",
            "remote: Compressing objects:   1% (1/61)\u001b[K\rremote: Compressing objects:   3% (2/61)\u001b[K\rremote: Compressing objects:   4% (3/61)\u001b[K\rremote: Compressing objects:   6% (4/61)\u001b[K\rremote: Compressing objects:   8% (5/61)\u001b[K\rremote: Compressing objects:   9% (6/61)\u001b[K\rremote: Compressing objects:  11% (7/61)\u001b[K\rremote: Compressing objects:  13% (8/61)\u001b[K\rremote: Compressing objects:  14% (9/61)\u001b[K\rremote: Compressing objects:  16% (10/61)\u001b[K\rremote: Compressing objects:  18% (11/61)\u001b[K\rremote: Compressing objects:  19% (12/61)\u001b[K\rremote: Compressing objects:  21% (13/61)\u001b[K\rremote: Compressing objects:  22% (14/61)\u001b[K\rremote: Compressing objects:  24% (15/61)\u001b[K\rremote: Compressing objects:  26% (16/61)\u001b[K\rremote: Compressing objects:  27% (17/61)\u001b[K\rremote: Compressing objects:  29% (18/61)\u001b[K\rremote: Compressing objects:  31% (19/61)\u001b[K\rremote: Compressing objects:  32% (20/61)\u001b[K\rremote: Compressing objects:  34% (21/61)\u001b[K\rremote: Compressing objects:  36% (22/61)\u001b[K\rremote: Compressing objects:  37% (23/61)\u001b[K\rremote: Compressing objects:  39% (24/61)\u001b[K\rremote: Compressing objects:  40% (25/61)\u001b[K\rremote: Compressing objects:  42% (26/61)\u001b[K\rremote: Compressing objects:  44% (27/61)\u001b[K\rremote: Compressing objects:  45% (28/61)\u001b[K\rremote: Compressing objects:  47% (29/61)\u001b[K\rremote: Compressing objects:  49% (30/61)\u001b[K\rremote: Compressing objects:  50% (31/61)\u001b[K\rremote: Compressing objects:  52% (32/61)\u001b[K\rremote: Compressing objects:  54% (33/61)\u001b[K\rremote: Compressing objects:  55% (34/61)\u001b[K\rremote: Compressing objects:  57% (35/61)\u001b[K\rremote: Compressing objects:  59% (36/61)\u001b[K\rremote: Compressing objects:  60% (37/61)\u001b[K\rremote: Compressing objects:  62% (38/61)\u001b[K\rremote: Compressing objects:  63% (39/61)\u001b[K\rremote: Compressing objects:  65% (40/61)\u001b[K\rremote: Compressing objects:  67% (41/61)\u001b[K\rremote: Compressing objects:  68% (42/61)\u001b[K\rremote: Compressing objects:  70% (43/61)\u001b[K\rremote: Compressing objects:  72% (44/61)\u001b[K\rremote: Compressing objects:  73% (45/61)\u001b[K\rremote: Compressing objects:  75% (46/61)\u001b[K\rremote: Compressing objects:  77% (47/61)\u001b[K\rremote: Compressing objects:  78% (48/61)\u001b[K\rremote: Compressing objects:  80% (49/61)\u001b[K\rremote: Compressing objects:  81% (50/61)\u001b[K\rremote: Compressing objects:  83% (51/61)\u001b[K\rremote: Compressing objects:  85% (52/61)\u001b[K\rremote: Compressing objects:  86% (53/61)\u001b[K\rremote: Compressing objects:  88% (54/61)\u001b[K\rremote: Compressing objects:  90% (55/61)\u001b[K\rremote: Compressing objects:  91% (56/61)\u001b[K\rremote: Compressing objects:  93% (57/61)\u001b[K\rremote: Compressing objects:  95% (58/61)\u001b[K\rremote: Compressing objects:  96% (59/61)\u001b[K\rremote: Compressing objects:  98% (60/61)\u001b[K\rremote: Compressing objects: 100% (61/61)\u001b[K\rremote: Compressing objects: 100% (61/61), done.\u001b[K\n",
            "Receiving objects:   0% (1/272)   \rReceiving objects:   1% (3/272)   \rReceiving objects:   2% (6/272)   \rReceiving objects:   3% (9/272)   \rReceiving objects:   4% (11/272)   \rReceiving objects:   5% (14/272)   \rReceiving objects:   6% (17/272)   \rReceiving objects:   7% (20/272)   \rReceiving objects:   8% (22/272)   \rReceiving objects:   9% (25/272)   \rReceiving objects:  10% (28/272)   \rReceiving objects:  11% (30/272)   \rReceiving objects:  12% (33/272)   \rReceiving objects:  13% (36/272)   \rReceiving objects:  14% (39/272)   \rReceiving objects:  15% (41/272)   \rReceiving objects:  16% (44/272)   \rReceiving objects:  17% (47/272)   \rReceiving objects:  18% (49/272)   \rReceiving objects:  19% (52/272)   \rReceiving objects:  20% (55/272)   \rReceiving objects:  21% (58/272)   \rReceiving objects:  22% (60/272)   \rReceiving objects:  23% (63/272)   \rReceiving objects:  24% (66/272)   \rReceiving objects:  25% (68/272)   \rReceiving objects:  26% (71/272)   \rReceiving objects:  27% (74/272)   \rReceiving objects:  28% (77/272)   \rReceiving objects:  29% (79/272)   \rReceiving objects:  30% (82/272)   \rReceiving objects:  31% (85/272)   \rReceiving objects:  32% (88/272)   \rReceiving objects:  33% (90/272)   \rReceiving objects:  34% (93/272)   \rReceiving objects:  35% (96/272)   \rReceiving objects:  36% (98/272)   \rReceiving objects:  37% (101/272)   \rReceiving objects:  38% (104/272)   \rReceiving objects:  39% (107/272)   \rReceiving objects:  40% (109/272)   \rReceiving objects:  41% (112/272)   \rReceiving objects:  42% (115/272)   \rReceiving objects:  43% (117/272)   \rReceiving objects:  44% (120/272)   \rReceiving objects:  45% (123/272)   \rReceiving objects:  46% (126/272)   \rReceiving objects:  47% (128/272)   \rReceiving objects:  48% (131/272)   \rReceiving objects:  49% (134/272)   \rReceiving objects:  50% (136/272)   \rReceiving objects:  51% (139/272)   \rReceiving objects:  52% (142/272)   \rReceiving objects:  53% (145/272)   \rReceiving objects:  54% (147/272)   \rReceiving objects:  55% (150/272)   \rReceiving objects:  56% (153/272)   \rReceiving objects:  57% (156/272)   \rReceiving objects:  58% (158/272)   \rReceiving objects:  59% (161/272)   \rReceiving objects:  60% (164/272)   \rReceiving objects:  61% (166/272)   \rReceiving objects:  62% (169/272)   \rReceiving objects:  63% (172/272)   \rReceiving objects:  64% (175/272)   \rReceiving objects:  65% (177/272)   \rReceiving objects:  66% (180/272)   \rReceiving objects:  67% (183/272)   \rReceiving objects:  68% (185/272)   \rReceiving objects:  69% (188/272)   \rReceiving objects:  70% (191/272)   \rReceiving objects:  71% (194/272)   \rReceiving objects:  72% (196/272)   \rReceiving objects:  73% (199/272)   \rReceiving objects:  74% (202/272)   \rReceiving objects:  75% (204/272)   \rReceiving objects:  76% (207/272)   \rReceiving objects:  77% (210/272)   \rReceiving objects:  78% (213/272)   \rReceiving objects:  79% (215/272)   \rReceiving objects:  80% (218/272)   \rReceiving objects:  81% (221/272)   \rReceiving objects:  82% (224/272)   \rReceiving objects:  83% (226/272)   \rReceiving objects:  84% (229/272)   \rReceiving objects:  85% (232/272)   \rReceiving objects:  86% (234/272)   \rReceiving objects:  87% (237/272)   \rReceiving objects:  88% (240/272)   \rReceiving objects:  89% (243/272)   \rReceiving objects:  90% (245/272)   \rReceiving objects:  91% (248/272)   \rReceiving objects:  92% (251/272)   \rReceiving objects:  93% (253/272)   \rReceiving objects:  94% (256/272)   \rReceiving objects:  95% (259/272)   \rremote: Total 272 (delta 82), reused 143 (delta 82), pack-reused 129\u001b[K\n",
            "Receiving objects:  96% (262/272)   \rReceiving objects:  97% (264/272)   \rReceiving objects:  98% (267/272)   \rReceiving objects:  99% (270/272)   \rReceiving objects: 100% (272/272)   \rReceiving objects: 100% (272/272), 659.28 KiB | 11.37 MiB/s, done.\n",
            "Resolving deltas:   0% (0/154)   \rResolving deltas:  33% (52/154)   \rResolving deltas:  44% (69/154)   \rResolving deltas:  45% (70/154)   \rResolving deltas:  46% (71/154)   \rResolving deltas:  76% (118/154)   \rResolving deltas:  77% (119/154)   \rResolving deltas:  85% (132/154)   \rResolving deltas:  97% (150/154)   \rResolving deltas:  98% (152/154)   \rResolving deltas: 100% (154/154)   \rResolving deltas: 100% (154/154), done.\n",
            "/content/optim_raianars_Insight/Raianars_paper_One/optim_raianars_Insight/Raianars_Routines/functions_cec2014_data/Raianars_paper_One\n"
          ]
        }
      ]
    },
    {
      "cell_type": "code",
      "source": [
        "MAX=np.repeat(100,dim)\n",
        "MIN=np.repeat(-100,dim)\n",
        "\n",
        "bounds=[]\n",
        "for k in range(len(MAX)):\n",
        "  bounds.append((MIN[k],MAX[k]))"
      ],
      "metadata": {
        "id": "ukk5Twiiq0MN"
      },
      "execution_count": 18,
      "outputs": []
    },
    {
      "cell_type": "code",
      "metadata": {
        "id": "qTINtQ1cosZK",
        "colab": {
          "base_uri": "https://localhost:8080/"
        },
        "outputId": "a7c924df-5a7e-418e-f829-110eb35ddb16"
      },
      "source": [
        "!git clone https://github.com/ucfilho/ANN_read_matrix #clonar do Github\n",
        "%cd ANN_read_matrix"
      ],
      "execution_count": 19,
      "outputs": [
        {
          "output_type": "stream",
          "name": "stdout",
          "text": [
            "Cloning into 'ANN_read_matrix'...\n",
            "remote: Enumerating objects: 20, done.\u001b[K\n",
            "remote: Total 20 (delta 0), reused 0 (delta 0), pack-reused 20\u001b[K\n",
            "Unpacking objects: 100% (20/20), done.\n",
            "/content/optim_raianars_Insight/Raianars_paper_One/optim_raianars_Insight/Raianars_Routines/functions_cec2014_data/Raianars_paper_One/ANN_read_matrix\n"
          ]
        }
      ]
    },
    {
      "cell_type": "code",
      "metadata": {
        "id": "QiQLYOoNoyCw"
      },
      "source": [
        "ANN_F=pd.read_csv('ANN_INSIGHT_Valor_F.csv')"
      ],
      "execution_count": 20,
      "outputs": []
    },
    {
      "cell_type": "code",
      "metadata": {
        "id": "uHtW2amaDzFv"
      },
      "source": [
        "ANN_CR=pd.read_csv('ANN_INSIGHT_CR.csv')"
      ],
      "execution_count": 21,
      "outputs": []
    },
    {
      "cell_type": "code",
      "metadata": {
        "id": "EH6h_vke2yu1"
      },
      "source": [
        "syn0_F,syn1_F,X_max_F,X_min_F=Go2Ann.GetMatriz(ANN_F)"
      ],
      "execution_count": 22,
      "outputs": []
    },
    {
      "cell_type": "code",
      "metadata": {
        "id": "WW_3ZWJXD60i"
      },
      "source": [
        "syn0_CR,syn1_CR,X_max_CR,X_min_CR=Go2Ann.GetMatriz(ANN_CR)"
      ],
      "execution_count": 23,
      "outputs": []
    },
    {
      "cell_type": "code",
      "metadata": {
        "id": "b4gwBvVTyaXh"
      },
      "source": [
        "ANN_CR=pd.read_csv('ANN_INSIGHT_CR.csv')"
      ],
      "execution_count": 24,
      "outputs": []
    },
    {
      "cell_type": "code",
      "metadata": {
        "id": "6jL8MxpHvk-Y"
      },
      "source": [
        "fields = ['DI RELATIVO','FRAC Its','Fo','CRo']"
      ],
      "execution_count": 25,
      "outputs": []
    },
    {
      "cell_type": "code",
      "metadata": {
        "id": "Mb3LmbSmj9v7",
        "colab": {
          "base_uri": "https://localhost:8080/"
        },
        "outputId": "23ad8ec5-8e4a-4c44-eb10-11840c451dc2"
      },
      "source": [
        "##################################### \n",
        "\n",
        "TOTAL=10*dim*its*ITE\n",
        "TOTAL=int(TOTAL/2)   # CONFERIR SE ESTE EH O MELHOR LUGAR\n",
        "\n",
        "#dimensions=len(MAX)\n",
        "dimensions=dim\n",
        "start_time = time.time() #INICIALIZA CONTAGEM DO TEMPO\n",
        "\n",
        "\n",
        "PAR=dim\n",
        "Fun = Function\n",
        "fobj=Fun\n",
        "\n",
        "MAX_P=np.zeros(ITE) # ATENCAO para variar F e Cr MAX_P passa a ser 3 vezes maior\n",
        "MIN_P=np.zeros(ITE) # ATENCAO para variar F e Cr MIN_P passa a ser 3 vezes maior\n",
        "\n",
        "for i in range(dim):\n",
        "  MAX_P[i]=MAX[i] \n",
        "  MIN_P[i]=MIN[i]\n",
        "\n",
        "rodadas=1\n",
        "NPAR1=int(fator*NPAR);\n",
        "NPAR2=int((NPAR-NPAR1)/3);\n",
        "NPAR3=int((NPAR-NPAR1)/3);\n",
        "NPAR4=int((NPAR-NPAR1)/3);\n",
        "NPAR1 = NPAR-3*NPAR2\n",
        "print('frac=',fator);\n",
        "print('Npar1=',NPAR1);\n",
        "print('Npar2=',NPAR2);\n",
        "print('Npar3=',NPAR3);\n",
        "print('Npar4=',NPAR4);\n",
        "print('Npar=',NPAR)\n",
        "\n",
        "cols=dim\n",
        "\n",
        "X1=np.zeros((NPAR1,cols)) # X1 is Frannk population\n",
        "for i in range(NPAR1):\n",
        "  for j in range(cols):\n",
        "    r=np.random.random()\n",
        "    X1[i,j]=r*(MAX[j]-MIN[j])+MIN[j]\n",
        "    \n",
        "X2=np.zeros((NPAR2,cols)) # X2 is population DE (default DE)\n",
        "for i in range(NPAR2):\n",
        "  for j in range(cols):\n",
        "    r=np.random.random()\n",
        "    X2[i,j]=r*(MAX[j]-MIN[j])+MIN[j]\n",
        "\n",
        "X3=np.zeros((NPAR3,cols)) # X1 is Frannk population\n",
        "for i in range(NPAR3):\n",
        "  for j in range(cols):\n",
        "    r=np.random.random()\n",
        "    X3[i,j]=r*(MAX[j]-MIN[j])+MIN[j]\n",
        "    \n",
        "X4=np.zeros((NPAR4,cols)) # X2 is population DE (default DE)\n",
        "for i in range(NPAR4):\n",
        "  for j in range(cols):\n",
        "    r=np.random.random()\n",
        "    X4[i,j]=r*(MAX[j]-MIN[j])+MIN[j]\n",
        "    \n",
        " ############################################################\n",
        "  #bounds=[(5*dim, 15*dim)] * PONTOS # ITE\n",
        "  #bounds=[(3*dim, 12*dim)] * PONTOS # ITE\n",
        "  #bounds=[(4*dim, 16*dim)] * PONTOS\n",
        "  \n",
        "  # nao pode ser assim pq o bounds vale p o DE nao dos parametros\n",
        "  #p=int(TOTAL/its/ITE) \n",
        "  #bounds=[(p, p)] * PONTOS\n"
      ],
      "execution_count": 26,
      "outputs": [
        {
          "output_type": "stream",
          "name": "stdout",
          "text": [
            "frac= 0.3333333333333333\n",
            "Npar1= 34\n",
            "Npar2= 22\n",
            "Npar3= 22\n",
            "Npar4= 22\n",
            "Npar= 100\n"
          ]
        }
      ]
    },
    {
      "cell_type": "code",
      "metadata": {
        "id": "rnX8ttNopd1G",
        "colab": {
          "base_uri": "https://localhost:8080/"
        },
        "outputId": "4152f4ff-bef7-4bc4-b3c7-a2aeb34c6b35"
      },
      "source": [
        "\n",
        "start_time = time.time()\n",
        "BEST_AGENTS=[]\n",
        "MAT_stat=[]\n",
        "for iii in range(RUNS):\n",
        "    MAT=[] \n",
        "    mut=Fi\n",
        "    crossp=CRi\n",
        "    SOMA=0\n",
        "    pop = np.random.rand(NPAR, dim)\n",
        "    diff=np.zeros(PAR)\n",
        "\n",
        "\n",
        "    X1=np.zeros((NPAR1,cols)) # X1 is Frannk population\n",
        "    for i in range(NPAR1):\n",
        "      for j in range(cols):\n",
        "        r=np.random.random()\n",
        "        X1[i,j]=r*(MAX[j]-MIN[j])+MIN[j]\n",
        "        \n",
        "    X2=np.zeros((NPAR2,cols)) # X2 is population DE (default DE)\n",
        "    for i in range(NPAR2):\n",
        "      for j in range(cols):\n",
        "        r=np.random.random()\n",
        "        X2[i,j]=r*(MAX[j]-MIN[j])+MIN[j]\n",
        "\n",
        "    X3=np.zeros((NPAR3,cols)) # X2 is population DE (default DE)\n",
        "    for i in range(NPAR3):\n",
        "      for j in range(cols):\n",
        "        r=np.random.random()\n",
        "        X3[i,j]=r*(MAX[j]-MIN[j])+MIN[j]\n",
        "\n",
        "    X4=np.zeros((NPAR4,cols)) # X2 is population DE (default DE)\n",
        "    for i in range(NPAR4):\n",
        "      for j in range(cols):\n",
        "        r=np.random.random()\n",
        "        X4[i,j]=r*(MAX[j]-MIN[j])+MIN[j]\n",
        "    \n",
        "    DIo=1e99\n",
        "  \n",
        "    CRo=crossp;Fo=mut;\n",
        "    Fitness = np.asarray([Fun(ind) for ind in X1])\n",
        "    XY,BEST_XY,BESTo,FOBESTo=AvaliaX(X1,Fitness)\n",
        "    nrow,ncol=X1.shape\n",
        "\n",
        "    QUANT=17;MAT_INDo=np.zeros((1,QUANT)); # quantos indices esta fazendo\n",
        "    MAT_INDo[0,5]=nrow  # VALOR NP\n",
        "    MAT_INDo[0,6]=Fo    # VALOR Fo   \n",
        "    MAT_INDo[0,7]=CRo   # VALOR CRo\n",
        "  \n",
        "    MAT_INDo=GeraIndices(X1,BESTo,FOBESTo,DIo,MAT_INDo,SOMA,TOTAL,syn0_F,\n",
        "                        syn1_F,X_max_F,X_min_F,syn0_CR,syn1_CR,X_max_CR,\n",
        "                        X_min_CR,Fc,fields,Fun)\n",
        "  \n",
        "    DIo=np.copy(MAT_INDo[0,0])\n",
        "    MAT_INDo[0,15]=Fo    # VALOR Fo   \n",
        "    MAT_INDo[0,16]=CRo   # VALOR CRo\n",
        "    #ind_crossp=ITE-1\n",
        "    \n",
        "\n",
        "    \n",
        "    for k in range(ITE):\n",
        "\n",
        "\n",
        "\n",
        "      X2,BEST2,FOBEST,XY,BEST_XY=de_bounds_matriz.de(bounds, mut2, crossp2,NPAR2, its,fobj,X2)\n",
        "      X3,BEST3,FOBEST,XY,BEST_XY=de_bounds_matriz.de(bounds, mut3, crossp3,NPAR3, its,fobj,X3)\n",
        "      X4,BEST4,FOBEST,XY,BEST_XY=de_bounds_matriz.de(bounds, mut4, crossp4,NPAR4, its,fobj,X4)\n",
        "      \n",
        "      X1,BEST1,FOBEST,XY,BEST_XY,SOMA= de_soma_Insight.de(MAX,MIN, mut, crossp,NPAR1,its,Fun,X1,SOMA,TOTAL)\n",
        "\n",
        "      MAT_IND=GeraIndices(X1,BESTo,FOBESTo,DIo,MAT_INDo,SOMA,TOTAL,syn0_F,\n",
        "                          syn1_F,X_max_F,X_min_F,syn0_CR,syn1_CR,X_max_CR,\n",
        "                          X_min_CR,Fc,fields,Fun)\n",
        "    \n",
        "      BESTo=np.copy(BEST1);FOBESTo=np.copy(FOBEST);\n",
        "      MAT.append(MAT_IND.ravel())\n",
        "    \n",
        "      MAT_INDo[0,6]=MAT_IND[0,15]   # VALOR Fo   \n",
        "      MAT_INDo[0,7]=MAT_IND[0,16]   # VALOR CRo\n",
        "      mut=MAT_IND[0,15]\n",
        "      crossp=MAT_IND[0,16]\n",
        "      X1[0,:] = BEST2;X1[1,:] = BEST3; X1[2,:] = BEST4;X1[NPAR1-1,:] = BEST1;\n",
        "      X2[0,:] = BEST1;X2[1,:] = BEST3;X2[2,:] = BEST4;X2[NPAR2-1,:] = BEST2;\n",
        "      X3[0,:] = BEST1;X3[1,:] = BEST2;X3[2,:] = BEST4;X3[NPAR3-1,:] = BEST3;\n",
        "      X4[0,:] = BEST1;X4[1,:] = BEST2;X4[2,:] = BEST3;X4[NPAR4-1,:] = BEST4;\n",
        "    print('k=',iii,'time=',(time.time()-start_time)/60, 'FO=',FOBEST)  \n",
        "    BEST_AGENTS.append(BEST_XY)\n",
        "    MAT_stat.append(MAT)\n",
        "    #print(\"GlobalParam e Solucao:\", BEST,\"Funcao=\",FOBEST)\n",
        "    \n",
        "############################## Cálculo dos Parâmetros de Avaliação   \n",
        "TIME = (time.time() - start_time)/RUNS\n",
        "BEST_AGENTS=np.array(BEST_AGENTS)\n",
        "BEST_AGENTS_ST= BEST_AGENTS[BEST_AGENTS[:,-1].argsort()]\n",
        "BEST=BEST_AGENTS_ST[0]\n",
        "WORSE=BEST_AGENTS_ST[-1]\n",
        "MEAN=np.mean(BEST_AGENTS,axis=0)\n",
        "MAXFO=BEST_AGENTS[:,-1].max()\n",
        "MINFO=BEST_AGENTS[:,-1].min()\n",
        "STD=BEST_AGENTS[:,-1].std()"
      ],
      "execution_count": 27,
      "outputs": [
        {
          "output_type": "stream",
          "name": "stdout",
          "text": [
            "k= 0 time= 0.6542640089988708 FO= 2.8454148954118664e-22\n",
            "k= 1 time= 1.1014063040415445 FO= 1.0315361886235702e-23\n",
            "k= 2 time= 1.5485645214716592 FO= 2.7767217679719205e-23\n",
            "k= 3 time= 1.9957348306973774 FO= 2.924062138239684e-22\n",
            "k= 4 time= 2.4644791881243386 FO= 3.9885757442339006e-22\n",
            "k= 5 time= 2.909177037080129 FO= 2.841025741406904e-23\n",
            "k= 6 time= 3.348671054840088 FO= 4.328514327213371e-26\n",
            "k= 7 time= 3.8414045651753743 FO= 2.6806360741719774e-25\n",
            "k= 8 time= 4.29556759595871 FO= 2.289391644572532e-24\n",
            "k= 9 time= 4.754653016726176 FO= 8.447202271462067e-25\n",
            "k= 10 time= 5.200447674592336 FO= 1.1849164504136926e-24\n",
            "k= 11 time= 5.663999219735463 FO= 6.568848277425114e-23\n",
            "k= 12 time= 6.117216567198436 FO= 1.415100964388868e-23\n",
            "k= 13 time= 6.565940829118093 FO= 6.144240965398304e-25\n",
            "k= 14 time= 7.0159525314966835 FO= 2.6844956282374477e-22\n",
            "k= 15 time= 7.465459867318471 FO= 1.5654203767537012e-24\n",
            "k= 16 time= 7.9233849008878074 FO= 3.2210798661956513e-23\n",
            "k= 17 time= 8.38821889559428 FO= 1.1856320985053054e-23\n",
            "k= 18 time= 8.84417777856191 FO= 5.001744063347192e-22\n",
            "k= 19 time= 9.292305986086527 FO= 6.622721063688522e-25\n",
            "k= 20 time= 9.748334860801696 FO= 3.086214507917435e-24\n",
            "k= 21 time= 10.201244799296061 FO= 1.0942755820316366e-24\n",
            "k= 22 time= 10.65757098197937 FO= 5.703671208836408e-25\n",
            "k= 23 time= 11.111975049972534 FO= 8.820661525372475e-23\n",
            "k= 24 time= 11.563277804851532 FO= 1.0505783160082292e-24\n",
            "k= 25 time= 12.008291204770407 FO= 1.9372248164621736e-21\n",
            "k= 26 time= 12.449826713403066 FO= 8.88914180653897e-22\n",
            "k= 27 time= 12.901628855864207 FO= 6.170121846227359e-23\n",
            "k= 28 time= 13.345477815469106 FO= 2.1586718558273056e-24\n",
            "k= 29 time= 13.802505787213644 FO= 7.632317255412546e-23\n",
            "k= 30 time= 14.251148573557536 FO= 3.1938443591112684e-23\n",
            "k= 31 time= 14.697100599606832 FO= 2.8256906660043567e-24\n",
            "k= 32 time= 15.142299230893453 FO= 9.847338000982133e-23\n",
            "k= 33 time= 15.592443343003591 FO= 3.098492664416038e-23\n",
            "k= 34 time= 16.04242548147837 FO= 6.746969015371854e-24\n",
            "k= 35 time= 16.492837011814117 FO= 5.36307968055471e-23\n",
            "k= 36 time= 16.940730806191763 FO= 2.3414927997137316e-24\n",
            "k= 37 time= 17.386079148451486 FO= 2.726734408936144e-23\n",
            "k= 38 time= 17.834815792242686 FO= 1.742894561149289e-24\n",
            "k= 39 time= 18.279132028420765 FO= 2.1174781864885996e-24\n",
            "k= 40 time= 18.735737891991935 FO= 2.2870952390883515e-23\n",
            "k= 41 time= 19.185415331522623 FO= 4.934187071834777e-24\n",
            "k= 42 time= 19.634470093250275 FO= 7.381828880236177e-25\n",
            "k= 43 time= 20.08043305873871 FO= 3.060364209687649e-23\n",
            "k= 44 time= 20.524793807665507 FO= 3.701174653895044e-23\n",
            "k= 45 time= 20.970434141159057 FO= 6.320432979323405e-23\n",
            "k= 46 time= 21.41461270650228 FO= 1.892864132528903e-25\n",
            "k= 47 time= 21.863533592224123 FO= 5.174579689557961e-22\n",
            "k= 48 time= 22.303866183757783 FO= 3.310280136199685e-25\n",
            "k= 49 time= 22.751910801728567 FO= 6.758444099235111e-23\n"
          ]
        }
      ]
    },
    {
      "cell_type": "code",
      "metadata": {
        "id": "TLEE0UrZSvJF",
        "colab": {
          "base_uri": "https://localhost:8080/"
        },
        "outputId": "98872a87-5eff-46b2-8091-2edc96d1abca"
      },
      "source": [
        "#len(X2[1,:])\n",
        "print(cols)"
      ],
      "execution_count": 28,
      "outputs": [
        {
          "output_type": "stream",
          "name": "stdout",
          "text": [
            "30\n"
          ]
        }
      ]
    },
    {
      "cell_type": "code",
      "metadata": {
        "id": "k3p9TGsx1OCu"
      },
      "source": [
        "NOMES=['DIVERSIDADE (DI)',  'DI RELATIVO','FRAC Its',\n",
        "           'VELOC FOBJ','VELOC X','NP','Fo','CRo','fmin','fmax',\n",
        "           'AD_fmin','AD_fmax','DELTA FOBJ','DELTA VX','r_fitness',\n",
        "           'F','CR']\n",
        "# BEST_INDEX= BEST_AGENTS[BEST_AGENTS[:,-1].argmin()]  \n",
        "BEST_INDEX = np.argmin(BEST_AGENTS[:,-1])\n",
        "df=pd.DataFrame(MAT_stat[BEST_INDEX], columns=NOMES)\n",
        "\n"
      ],
      "execution_count": 29,
      "outputs": []
    },
    {
      "cell_type": "code",
      "metadata": {
        "id": "jIHiKR_t1xxs",
        "colab": {
          "base_uri": "https://localhost:8080/"
        },
        "outputId": "f385b2de-d243-4822-f492-3018a7a638b7"
      },
      "source": [
        "pd.set_option('display.max_columns', 30)  \n",
        "print(df)"
      ],
      "execution_count": 30,
      "outputs": [
        {
          "output_type": "stream",
          "name": "stdout",
          "text": [
            "     DIVERSIDADE (DI)   DI RELATIVO  FRAC Its  VELOC FOBJ  VELOC X    NP  \\\n",
            "0        3.111643e+02  9.979596e-01  0.000227         0.0      0.0  34.0   \n",
            "1        3.123143e+02  1.001648e+00  0.000453         2.0      2.0  34.0   \n",
            "2        3.135659e+02  1.005662e+00  0.000680         1.0      2.0  34.0   \n",
            "3        3.065426e+02  9.831369e-01  0.000907         1.0      2.0  34.0   \n",
            "4        2.961508e+02  9.498085e-01  0.001133         1.0      2.0  34.0   \n",
            "..                ...           ...       ...         ...      ...   ...   \n",
            "995      3.223586e-12  1.033862e-14  0.225760         1.0      1.0  34.0   \n",
            "996      3.131884e-12  1.004451e-14  0.225987         1.0      1.0  34.0   \n",
            "997      3.031346e-12  9.722069e-15  0.226213         1.0      1.0  34.0   \n",
            "998      2.858357e-12  9.167261e-15  0.226440         0.0      0.0  34.0   \n",
            "999      2.759234e-12  8.849358e-15  0.226667         1.0      1.0  34.0   \n",
            "\n",
            "           Fo       CRo          fmin          fmax  AD_fmin  AD_fmax  \\\n",
            "0    0.500000  0.500000  1.168041e+07  9.624515e+09      1.0      1.0   \n",
            "1    0.250510  0.333673  1.634548e+05  9.624515e+09      1.0      1.0   \n",
            "2    0.438702  0.222266  1.422420e+05  9.624510e+09      1.0      1.0   \n",
            "3    0.218109  0.147758  1.183017e+05  9.624510e+09      1.0      1.0   \n",
            "4    0.378933  0.220391  1.143955e+05  9.624510e+09      1.0      1.0   \n",
            "..        ...       ...           ...           ...      ...      ...   \n",
            "995  0.336337  0.139216  6.621730e-26  2.633168e-23      1.0      1.0   \n",
            "996  0.336337  0.139216  5.611219e-26  2.526003e-23      1.0      1.0   \n",
            "997  0.336337  0.139216  4.449586e-26  2.468131e-23      1.0      1.0   \n",
            "998  0.336337  0.139216  4.449586e-26  2.467757e-23      1.0      1.0   \n",
            "999  0.336337  0.139216  4.328514e-26  2.297306e-23      1.0      1.0   \n",
            "\n",
            "     DELTA FOBJ  DELTA VX  r_fitness         F        CR  \n",
            "0           0.0       0.0   0.998786  0.250510  0.333673  \n",
            "1           0.0       0.0   0.999983  0.438702  0.222266  \n",
            "2           0.0       0.0   0.999985  0.218109  0.147758  \n",
            "3           0.0       0.0   0.999988  0.378933  0.220391  \n",
            "4           0.0       0.0   0.999988  0.648868  0.150614  \n",
            "..          ...       ...        ...       ...       ...  \n",
            "995         0.0       0.0   0.997485  0.336337  0.139216  \n",
            "996         0.0       0.0   0.997779  0.336337  0.139216  \n",
            "997         0.0       0.0   0.998197  0.336337  0.139216  \n",
            "998         0.0       0.0   0.998197  0.336337  0.139216  \n",
            "999         0.0       0.0   0.998116  0.336337  0.139216  \n",
            "\n",
            "[1000 rows x 17 columns]\n"
          ]
        }
      ]
    },
    {
      "cell_type": "code",
      "metadata": {
        "id": "bx0ywpMtAAjw",
        "colab": {
          "base_uri": "https://localhost:8080/",
          "height": 296
        },
        "outputId": "7a8e3d07-d1f8-437b-81c1-08b26b912806"
      },
      "source": [
        "plt.plot(df['FRAC Its'],df['CR'])\n",
        "plt.xlabel('Iteração/Total')\n",
        "plt.ylabel('CR')"
      ],
      "execution_count": 31,
      "outputs": [
        {
          "output_type": "execute_result",
          "data": {
            "text/plain": [
              "Text(0, 0.5, 'CR')"
            ]
          },
          "metadata": {},
          "execution_count": 31
        },
        {
          "output_type": "display_data",
          "data": {
            "text/plain": [
              "<Figure size 432x288 with 1 Axes>"
            ],
            "image/png": "[encoded data removed]"
          },
          "metadata": {
            "needs_background": "light"
          }
        }
      ]
    },
    {
      "cell_type": "code",
      "metadata": {
        "id": "BvPFvbDvteDC",
        "colab": {
          "base_uri": "https://localhost:8080/",
          "height": 295
        },
        "outputId": "94a09c88-fe0f-46b7-d78b-42164cb91f5d"
      },
      "source": [
        "\n",
        "fig, ax = plt.subplots()\n",
        "ax.plot(df['FRAC Its'],df['F'],label='F')\n",
        "ax.set_xlabel('Iteração/Total')\n",
        "ax.set_ylabel('Parâmetros')\n",
        "ax.plot(df['FRAC Its'],df['CR'],'-r', label='CR')\n",
        "nome=Fun.__name__+'  M=Diversidade'+ '  D='+str(dim)\n",
        "ax.set_title(nome)\n",
        "leg = ax.legend()\n"
      ],
      "execution_count": 32,
      "outputs": [
        {
          "output_type": "display_data",
          "data": {
            "text/plain": [
              "<Figure size 432x288 with 1 Axes>"
            ],
            "image/png": "[encoded data removed]"
          },
          "metadata": {
            "needs_background": "light"
          }
        }
      ]
    },
    {
      "cell_type": "code",
      "metadata": {
        "id": "htooaGpDia_0",
        "colab": {
          "base_uri": "https://localhost:8080/",
          "height": 312
        },
        "outputId": "21330c9b-530b-4fbf-e231-32752f6f751d"
      },
      "source": [
        "f, axarr = plt.subplots(2, sharex=True)\n",
        "axarr[0].plot(df['FRAC Its'],df['F'])\n",
        "axarr[0].set_ylabel('F')\n",
        "axarr[1].plot(df['FRAC Its'],df['CR'])\n",
        "axarr[1].set_ylabel('CR')\n",
        "axarr[1].set_xlabel('Iteração/Total')\n",
        "nome=Fun.__name__+'_Diversidade_'+ 'D='+str(dim)\n",
        "axarr[0].set_title(nome)\n"
      ],
      "execution_count": 33,
      "outputs": [
        {
          "output_type": "execute_result",
          "data": {
            "text/plain": [
              "Text(0.5, 1.0, 'F3_Diversidade_D=30')"
            ]
          },
          "metadata": {},
          "execution_count": 33
        },
        {
          "output_type": "display_data",
          "data": {
            "text/plain": [
              "<Figure size 432x288 with 2 Axes>"
            ],
            "image/png": "[encoded data removed]"
          },
          "metadata": {
            "needs_background": "light"
          }
        }
      ]
    },
    {
      "cell_type": "code",
      "metadata": {
        "id": "lNSN5X-wskcx",
        "colab": {
          "base_uri": "https://localhost:8080/"
        },
        "outputId": "fcf52760-708d-44a1-fbfa-03cc0314fd64"
      },
      "source": [
        "nome='SUB'+'_Fo-'+str(Fi)+'_CRo-'+str(CRi)+'_D-'+str(dim)+'_Interv-'+str(ITE)\n",
        "print('MCS-FRANNK','Fator F/DE= %.2f' %(fator),'NPAR=',NPAR,'Iterações=',ITE*its,'Dim=', PAR,\"Min/Max=\",MIN[0],\"/\",MAX[0],'_',Fun.__name__)\n",
        "print(nome, '\\n')\n",
        "#print('BEST: ',BEST)\n",
        "#print('MÉDIA: ',MEAN)\n",
        "print('MÉDIA: ',MEAN[-1],'STD __:',STD)\n",
        "print('MIN __:',MINFO, 'MAX__: ',MAXFO)\n",
        "print(MEAN[-1])\n",
        "print(STD)\n",
        "print(MINFO)\n",
        "print(\"Tempo Médio= %.3f segundos ---\" % (TIME))\n",
        "print(RUNS,'Rodadas') \n",
        "print()\n",
        "print('BEST: ',BEST)\n",
        "# print('melhor=',BEST_AGENTS[BEST_INDEX])"
      ],
      "execution_count": 34,
      "outputs": [
        {
          "output_type": "stream",
          "name": "stdout",
          "text": [
            "MCS-FRANNK Fator F/DE= 0.33 NPAR= 100 Iterações= 1000 Dim= 30 Min/Max= -100 / 100 _ F3\n",
            "SUB_Fo-0.5_CRo-0.5_D-30_Interv-1000 \n",
            "\n",
            "MÉDIA:  1.2011252963874165e-22 STD __: 3.0947733071590924e-22\n",
            "MIN __: 4.328514327213371e-26 MAX__:  1.9372248164621736e-21\n",
            "1.2011252963874165e-22\n",
            "3.0947733071590924e-22\n",
            "4.328514327213371e-26\n",
            "Tempo Médio= 27.302 segundos ---\n",
            "50 Rodadas\n",
            "\n",
            "BEST:  [-5.44762750e-17  1.19843802e-14 -1.00421276e-13 -3.13228685e-15\n",
            "  7.47209921e-14 -5.54003243e-15 -2.14347152e-14  1.51679897e-14\n",
            " -3.84096037e-14 -3.47457579e-14 -1.73649313e-14 -5.26799697e-14\n",
            " -5.40548203e-14  4.92039796e-15 -4.35779178e-14  4.68824129e-14\n",
            "  3.64669223e-14  7.73109093e-15 -3.53969749e-14 -1.18201244e-14\n",
            "  2.45877187e-14  2.10103725e-14  3.86637487e-15  1.58684911e-15\n",
            "  1.35924563e-14 -6.85339534e-14  2.58485680e-14  3.82460503e-14\n",
            "  7.91667105e-15  7.26600515e-15  4.32851433e-26]\n"
          ]
        }
      ]
    }
  ]
}
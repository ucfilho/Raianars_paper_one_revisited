{
  "nbformat": 4,
  "nbformat_minor": 0,
  "metadata": {
    "colab": {
      "name": "C_Frannk_F12_cec2014.ipynb",
      "provenance": [],
      "collapsed_sections": [],
      "include_colab_link": true
    },
    "kernelspec": {
      "name": "python3",
      "display_name": "Python 3"
    },
    "language_info": {
      "codemirror_mode": {
        "name": "ipython",
        "version": 3
      },
      "file_extension": ".py",
      "mimetype": "text/x-python",
      "name": "python",
      "nbconvert_exporter": "python",
      "pygments_lexer": "ipython3",
      "version": "3.7.3"
    }
  },
  "cells": [
    {
      "cell_type": "markdown",
      "metadata": {
        "id": "view-in-github",
        "colab_type": "text"
      },
      "source": [
        "<a href=\"https://colab.research.google.com/github/ucfilho/Raianars_paper_one_revisited/blob/main/After_asked_reviews_one_2022/Hybrid_cec2014_D_30/C_Frannk_F12_cec2014.ipynb\" target=\"_parent\"><img src=\"https://colab.research.google.com/assets/colab-badge.svg\" alt=\"Open In Colab\"/></a>"
      ]
    },
    {
      "cell_type": "code",
      "metadata": {
        "id": "c59cDVKoxDLX"
      },
      "source": [
        "# running in python file"
      ],
      "execution_count": null,
      "outputs": []
    },
    {
      "cell_type": "code",
      "metadata": {
        "id": "Va-6Xios8RjU"
      },
      "source": [
        "'''\n",
        "SUB_Fo-0.5_CRo-0.5_D-30_Interv-1000\n",
        "MCS-FRANNKFator F/DE= 0.3333333333333333NPAR=100Iterações=1000Dim=30Min/Max=-100/100_F12\n",
        "BEST: [ 100.   100.   100.  -100.  -100.  -100.    50.   100.  -100.  -100.\n",
        " -100.   100.  -100.  -100.  -100.  -100.  -100.  -100.  -100.   100.\n",
        "  100.    50.  -100.  -100.  -100.  -100.    12.5  100.  -100.   100.\n",
        "    0. ]\n",
        "MÉDIA: 0.0STD __:0.0\n",
        "MIN __:0.0MAX__: 0.0\n",
        "MEAN  0.0\n",
        "STD 0.0\n",
        "MINFO 0.0\n",
        "Tempo Médio 2253.982611665726segundos ---\n",
        "50  Rodadas\n",
        "BEST: [ 100.   100.   100.  -100.  -100.  -100.    50.   100.  -100.  -100.\n",
        " -100.   100.  -100.  -100.  -100.  -100.  -100.  -100.  -100.   100.\n",
        "  100.    50.  -100.  -100.  -100.  -100.    12.5  100.  -100.   100.\n",
        "    0. ]\n",
        "'''"
      ],
      "execution_count": null,
      "outputs": []
    }
  ]
}
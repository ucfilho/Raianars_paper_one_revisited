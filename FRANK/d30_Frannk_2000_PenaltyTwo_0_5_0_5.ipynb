{
  "nbformat": 4,
  "nbformat_minor": 0,
  "metadata": {
    "colab": {
      "name": "d30_Frannk_2000_PenaltyTwo_0_5_0_5.ipynb",
      "provenance": [],
      "collapsed_sections": [],
      "include_colab_link": true
    },
    "kernelspec": {
      "name": "python3",
      "display_name": "Python 3"
    }
  },
  "cells": [
    {
      "cell_type": "markdown",
      "metadata": {
        "id": "view-in-github",
        "colab_type": "text"
      },
      "source": [
        "<a href=\"https://colab.research.google.com/github/ucfilho/Raianars_paper_one_revisited/blob/main/FRANK/d30_Frannk_2000_PenaltyTwo_0_5_0_5.ipynb\" target=\"_parent\"><img src=\"https://colab.research.google.com/assets/colab-badge.svg\" alt=\"Open In Colab\"/></a>"
      ]
    },
    {
      "cell_type": "code",
      "metadata": {
        "id": "anFukot-ypn6"
      },
      "source": [
        "import numpy as np\n",
        "import pandas as pd\n",
        "import time"
      ],
      "execution_count": 1,
      "outputs": []
    },
    {
      "cell_type": "code",
      "metadata": {
        "id": "6Oh714_-z1Ia",
        "colab": {
          "base_uri": "https://localhost:8080/"
        },
        "outputId": "e987dbed-974d-4ac9-b380-9a6a56f6197e"
      },
      "source": [
        "#!git clone https://github.com/ucfilho/Raianars_July_2020 #clonar do Github\n",
        "#%cd Raianars_July_2020\n",
        "############################### Importar códigos\n",
        "!git clone https://github.com/ucfilho/optim_raianars_Insight\n",
        "%cd optim_raianars_Insight"
      ],
      "execution_count": 2,
      "outputs": [
        {
          "output_type": "stream",
          "text": [
            "Cloning into 'optim_raianars_Insight'...\n",
            "remote: Enumerating objects: 378, done.\u001b[K\n",
            "remote: Counting objects: 100% (64/64), done.\u001b[K\n",
            "remote: Compressing objects: 100% (64/64), done.\u001b[K\n",
            "remote: Total 378 (delta 37), reused 0 (delta 0), pack-reused 314\u001b[K\n",
            "Receiving objects: 100% (378/378), 327.66 KiB | 1.73 MiB/s, done.\n",
            "Resolving deltas: 100% (218/218), done.\n",
            "/content/optim_raianars_Insight\n"
          ],
          "name": "stdout"
        }
      ]
    },
    {
      "cell_type": "code",
      "metadata": {
        "id": "LnzftXkky78A"
      },
      "source": [
        "import Go2Ann\n",
        "import de_soma_Insight\n",
        "import de_bounds_matriz\n",
        "from AvaliaX import AvaliaX\n",
        "from GeraIndices import GeraIndices"
      ],
      "execution_count": 3,
      "outputs": []
    },
    {
      "cell_type": "code",
      "metadata": {
        "id": "HNW92728z7fR"
      },
      "source": [
        "import Function\n",
        "import Go2MinMax"
      ],
      "execution_count": 4,
      "outputs": []
    },
    {
      "cell_type": "code",
      "metadata": {
        "id": "T_C-e7aH0CZH"
      },
      "source": [
        "ITE=2000 #10 # PONTOS quantas vezes vai alteral NPAR \n",
        "NPAR=100 # NUMBER OF PARTICLES\n",
        "dim=10\n",
        "RUNS=50\n"
      ],
      "execution_count": 5,
      "outputs": []
    },
    {
      "cell_type": "code",
      "metadata": {
        "colab": {
          "base_uri": "https://localhost:8080/"
        },
        "id": "KMhIOjrx4zzh",
        "outputId": "32801b50-fc7e-405e-bab1-cb07f1ae03c6"
      },
      "source": [
        "!git clone https://github.com/ucfilho/Raianars_Routines #clonar do Github\n",
        "%cd Raianars_Routines\n",
        "\n",
        "import FunctionsNew\n",
        "\n",
        "ITE=2000 #10 # PONTOS quantas vezes vai alteral NPAR \n",
        "NPAR=100 # NUMBER OF PARTICLES\n",
        "dim=30\n",
        "RUNS=50\n",
        "fchoice='PenaltyTwo'  #MS\n",
        "Fun=Function.PenaltyTwo\n",
        "\n",
        "MIN,MAX=Go2MinMax.Intervalo(dim,fchoice)\n",
        "bounds = [(0,0)]*dim\n",
        "\n",
        "for i in range(dim):\n",
        "  bounds[i] = (MIN[i],MAX[i])"
      ],
      "execution_count": 6,
      "outputs": [
        {
          "output_type": "stream",
          "text": [
            "Cloning into 'Raianars_Routines'...\n",
            "remote: Enumerating objects: 57, done.\u001b[K\n",
            "remote: Counting objects: 100% (57/57), done.\u001b[K\n",
            "remote: Compressing objects: 100% (55/55), done.\u001b[K\n",
            "remote: Total 57 (delta 16), reused 0 (delta 0), pack-reused 0\u001b[K\n",
            "Unpacking objects: 100% (57/57), done.\n",
            "/content/optim_raianars_Insight/Raianars_Routines\n"
          ],
          "name": "stdout"
        }
      ]
    },
    {
      "cell_type": "code",
      "metadata": {
        "id": "Nqv5qp9yzQEw"
      },
      "source": [
        "############################### INPUT INFORMATION (FRANNK)\n",
        "Fc=0.1 # fator de correcao parametros da ANN\n",
        "its=1 #10 # quantas vezes vai usar o NPAR antes de alterar de novo\n",
        "mut=0.5\n",
        "crossp=0.5\n",
        "Fi=mut;CRi=crossp;# para impressão\n",
        "PAR=len(MAX) #NUM DE PARAMETROS A SER OTIMIZADOS"
      ],
      "execution_count": 7,
      "outputs": []
    },
    {
      "cell_type": "code",
      "metadata": {
        "id": "raWOfeJBztuj",
        "colab": {
          "base_uri": "https://localhost:8080/"
        },
        "outputId": "a5379994-d3a8-4cee-e4e4-430a526704fd"
      },
      "source": [
        "!git clone https://github.com/ucfilho/ANN_read_matrix #clonar do Github\n",
        "%cd ANN_read_matrix"
      ],
      "execution_count": 8,
      "outputs": [
        {
          "output_type": "stream",
          "text": [
            "Cloning into 'ANN_read_matrix'...\n",
            "remote: Enumerating objects: 20, done.\u001b[K\n",
            "remote: Counting objects: 100% (20/20), done.\u001b[K\n",
            "remote: Compressing objects: 100% (18/18), done.\u001b[K\n",
            "remote: Total 20 (delta 5), reused 0 (delta 0), pack-reused 0\u001b[K\n",
            "Unpacking objects: 100% (20/20), done.\n",
            "/content/optim_raianars_Insight/Raianars_Routines/ANN_read_matrix\n"
          ],
          "name": "stdout"
        }
      ]
    },
    {
      "cell_type": "code",
      "metadata": {
        "id": "N2lyPfivzwGv",
        "colab": {
          "base_uri": "https://localhost:8080/"
        },
        "outputId": "f3fcc914-e920-42bf-b743-f0074429e4cd"
      },
      "source": [
        "ANN_F=pd.read_csv('ANN_INSIGHT_Valor_F.csv')\n",
        "ANN_CR=pd.read_csv('ANN_INSIGHT_CR.csv')\n",
        "syn0_F,syn1_F,X_max_F,X_min_F=Go2Ann.GetMatriz(ANN_F)\n",
        "syn0_CR,syn1_CR,X_max_CR,X_min_CR=Go2Ann.GetMatriz(ANN_CR)\n",
        "fields = ['DI RELATIVO','FRAC Its','Fo','CRo']\n",
        "\n",
        "#TOTAL=7*dim*its*ITE\n",
        "TOTAL=10*dim*its*ITE\n",
        "TOTAL=int(TOTAL/2)   # CONFERIR SE ESTE EH O MELHOR LUGAR\n",
        "\n",
        "dimensions=len(MAX)\n",
        "start_time = time.time() #INICIALIZA CONTAGEM DO TEMPO\n",
        "\n",
        "MAX_P=np.zeros(ITE) # ATENCAO para variar F e Cr MAX_P passa a ser 3 vezes maior\n",
        "MIN_P=np.zeros(ITE) # ATENCAO para variar F e Cr MIN_P passa a ser 3 vezes maior\n",
        "\n",
        "for i in range(dim):\n",
        "  MAX_P[i]=MAX[i] \n",
        "  MIN_P[i]=MIN[i]\n",
        "\n",
        "rodadas=1\n",
        "for i in range(rodadas):\n",
        "  SOMA=0\n",
        "  pop = np.random.rand(NPAR, dimensions)\n",
        "  diff=np.zeros(PAR)\n",
        "  for ii in range(PAR):\n",
        "    diff[ii] = MAX[ii]-MIN[ii]\n",
        "  X = MIN + pop * diff\n",
        "    \n",
        "  PONTOS=ITE # DIVISOES DA POPULACAO\n",
        "start_time = time.time()\n",
        "BEST_AGENTS=[]\n",
        "MAT_stat=[]\n",
        "for i in range(RUNS):\n",
        "    MAT=[] \n",
        "    mut=Fi\n",
        "    crossp=CRi\n",
        "    SOMA=0\n",
        "    SOMAf=0\n",
        "    start_ite = time.time()\n",
        "    delta_time=(start_ite-start_time)/60\n",
        "    #print('ite=',i,'total=50','time=',delta_time)\n",
        "    pop = np.random.rand(NPAR, dim)\n",
        "    diff=np.zeros(PAR)\n",
        "    for ii in range(PAR):\n",
        "      diff[ii] = MAX[ii]-MIN[ii]\n",
        "    X = MIN + pop * diff\n",
        "    Xf = MIN + pop * diff\n",
        "    \n",
        "    DIo=1e99\n",
        "  \n",
        "    CRo=crossp;Fo=mut;\n",
        "    Fitness = np.asarray([Fun(ind) for ind in X])\n",
        "\n",
        "    XY,BEST_XY,BESTo,FOBESTo=AvaliaX(X,Fitness)\n",
        "    nrow,ncol=X.shape\n",
        "\n",
        "    QUANT=17;MAT_INDo=np.zeros((1,QUANT)); # quantos indices esta fazendo\n",
        "    MAT_INDo[0,5]=nrow  # VALOR NP\n",
        "    MAT_INDo[0,6]=Fo    # VALOR Fo   \n",
        "    MAT_INDo[0,7]=CRo   # VALOR CRo\n",
        "  \n",
        "    MAT_INDo=GeraIndices(X,BESTo,FOBESTo,DIo,MAT_INDo,SOMA,TOTAL,syn0_F,\n",
        "                        syn1_F,X_max_F,X_min_F,syn0_CR,syn1_CR,X_max_CR,\n",
        "                        X_min_CR,Fc,fields,Fun)\n",
        "  \n",
        "    DIo=np.copy(MAT_INDo[0,0])\n",
        "    MAT_INDo[0,15]=Fo    # VALOR Fo   \n",
        "    MAT_INDo[0,16]=CRo   # VALOR CRo\n",
        "    #ind_crossp=ITE-1\n",
        "\n",
        "    \n",
        "    for k in range(ITE):\n",
        "      X,BEST,FOBEST,XY,BEST_XY,SOMA= de_soma_Insight.de(MAX,MIN, mut, crossp,NPAR,its,Fun,X,SOMA,TOTAL)\n",
        "      #Xf,BESTf,FOBESTf,XYf,BEST_XYf,SOMAf= de_soma_Insight.de(MAX,MIN, Fi, CRi, NPAR,its,Fun,Xf,SOMAf,TOTAL)\n",
        "\n",
        "      \n",
        "      MAT_IND=GeraIndices(X,BESTo,FOBESTo,DIo,MAT_INDo,SOMA,TOTAL,syn0_F,\n",
        "                          syn1_F,X_max_F,X_min_F,syn0_CR,syn1_CR,X_max_CR,\n",
        "                          X_min_CR,Fc,fields,Fun)\n",
        "    \n",
        "      BESTo=np.copy(BEST);FOBESTo=np.copy(FOBEST);\n",
        "      MAT.append(MAT_IND.ravel())\n",
        "    \n",
        "      MAT_INDo[0,6]=MAT_IND[0,15]   # VALOR Fo   \n",
        "      MAT_INDo[0,7]=MAT_IND[0,16]   # VALOR CRo\n",
        "      mut=MAT_IND[0,15]\n",
        "      crossp=MAT_IND[0,16]\n",
        "\n",
        "      Fitness = np.asarray([Fun(ind) for ind in X])\n",
        "      #Fitnessf = np.asarray([Fun(ind) for ind in Xf])\n",
        "      Maior=np.argmax(Fitness)\n",
        "      #Maiorf=np.argmax(Fitnessf)\n",
        "      Menor=np.argmin(Fitness)\n",
        "      #Menorf=np.argmin(Fitnessf)\n",
        "\n",
        "      #X[Maior,:]=np.copy(Xf[Menorf,:])\n",
        "      #Xf[Maiorf,:]=np.copy(X[Menor,:])\n",
        "    print('i=',i,'time=',(time.time()-start_time)/60, 'FO=',FOBEST)  \n",
        "      \n",
        "    BEST_AGENTS.append(BEST_XY)\n",
        "    MAT_stat.append(MAT)\n",
        "    #print(\"GlobalParam e Solucao:\", BEST,\"Funcao=\",FOBEST)\n",
        "    \n",
        "############################## Cálculo dos Parâmetros de Avaliação   \n",
        "TIME = (time.time() - start_time)/RUNS\n",
        "BEST_AGENTS=np.array(BEST_AGENTS)\n",
        "BEST_AGENTS_ST= BEST_AGENTS[BEST_AGENTS[:,-1].argsort()]\n",
        "BEST=BEST_AGENTS_ST[0]\n",
        "WORSE=BEST_AGENTS_ST[-1]\n",
        "MEAN=np.mean(BEST_AGENTS,axis=0)\n",
        "MAXFO=BEST_AGENTS[:,-1].max()\n",
        "MINFO=BEST_AGENTS[:,-1].min()\n",
        "STD=BEST_AGENTS[:,-1].std()\n",
        "\n",
        "nome='_ANN_Div3x4_Fo-'+str(Fi)+'_CRo-'+str(CRi)+'_D-'+str(dim)+'_Interv-'+str(ITE)\n",
        "print('DE_POP_VAR_F_CR','TOTAL=',TOTAL,'Iterações=',ITE*its,'Dim=', PAR,\"Min/Max=\",MIN[0],\"/\",MAX[0],'_',Fun.__name__)\n",
        "print(nome, '\\n')\n",
        "print('MÉDIA: ',MEAN[-1])\n",
        "print('MIN __:',MINFO)\n",
        "print('MAX__: ',MAXFO)\n",
        "print('STD __:',STD)\n",
        "print(\"Tempo Médio= %.3f segundos ---\" % (TIME))\n",
        "print(RUNS,'Rodadas') \n",
        "print()\n",
        "print('BEST: ',BEST)"
      ],
      "execution_count": 9,
      "outputs": [
        {
          "output_type": "stream",
          "text": [
            "i= 0 time= 5.217463072141012 FO= 1.3497838043956716e-32\n",
            "i= 1 time= 10.456633126735687 FO= 1.3497838043956716e-32\n",
            "i= 2 time= 15.700994563102721 FO= 1.3497838043956716e-32\n",
            "i= 3 time= 20.911054491996765 FO= 1.3497838043956716e-32\n",
            "i= 4 time= 26.12883991797765 FO= 1.3497838043956716e-32\n",
            "i= 5 time= 31.354461359977723 FO= 1.3497838043956716e-32\n",
            "i= 6 time= 36.60393574635188 FO= 1.3497838043956716e-32\n",
            "i= 7 time= 41.799514039357504 FO= 1.3497838043956716e-32\n",
            "i= 8 time= 47.039692016442615 FO= 1.3497838043956716e-32\n",
            "i= 9 time= 52.27104538679123 FO= 1.3497838043956716e-32\n",
            "i= 10 time= 57.51304035186767 FO= 1.3497838043956716e-32\n",
            "i= 11 time= 62.75441727638245 FO= 1.3497838043956716e-32\n",
            "i= 12 time= 67.98148372968038 FO= 1.3497838043956716e-32\n",
            "i= 13 time= 73.23447495698929 FO= 1.3497838043956716e-32\n",
            "i= 14 time= 78.48808490037918 FO= 1.3497838043956716e-32\n",
            "i= 15 time= 83.71201750437419 FO= 1.3497838043956716e-32\n",
            "i= 16 time= 88.95467443068823 FO= 1.3497838043956716e-32\n",
            "i= 17 time= 94.18844947417577 FO= 1.3497838043956716e-32\n",
            "i= 18 time= 99.41583326260249 FO= 1.3497838043956716e-32\n",
            "i= 19 time= 104.68365855614344 FO= 1.3497838043956716e-32\n",
            "i= 20 time= 109.92270597616832 FO= 1.3497838043956716e-32\n",
            "i= 21 time= 115.1555775086085 FO= 1.3497838043956716e-32\n",
            "i= 22 time= 120.38767934242884 FO= 1.3497838043956716e-32\n",
            "i= 23 time= 125.63063325484593 FO= 1.3497838043956716e-32\n",
            "i= 24 time= 130.86766873200733 FO= 1.3497838043956716e-32\n",
            "i= 25 time= 136.10898774067562 FO= 1.3497838043956716e-32\n",
            "i= 26 time= 141.34687380790712 FO= 1.3497838043956716e-32\n",
            "i= 27 time= 146.5723273396492 FO= 1.3497838043956716e-32\n",
            "i= 28 time= 151.76027564605076 FO= 1.3497838043956716e-32\n",
            "i= 29 time= 157.01890490452448 FO= 1.3497838043956716e-32\n",
            "i= 30 time= 162.2762542804082 FO= 1.3497838043956716e-32\n",
            "i= 31 time= 167.53227485418319 FO= 1.3497838043956716e-32\n",
            "i= 32 time= 172.78597665230433 FO= 1.3497838043956716e-32\n",
            "i= 33 time= 178.00341168642043 FO= 1.3497838043956716e-32\n",
            "i= 34 time= 183.24093963305157 FO= 1.3497838043956716e-32\n",
            "i= 35 time= 188.48804870446523 FO= 1.3497838043956716e-32\n",
            "i= 36 time= 193.7051811337471 FO= 1.3497838043956716e-32\n",
            "i= 37 time= 198.95403424501418 FO= 1.3497838043956716e-32\n",
            "i= 38 time= 204.19284402926763 FO= 1.3497838043956716e-32\n",
            "i= 39 time= 209.4416295448939 FO= 1.3497838043956716e-32\n",
            "i= 40 time= 214.675887799263 FO= 1.3497838043956716e-32\n",
            "i= 41 time= 219.93136310577393 FO= 1.3497838043956716e-32\n",
            "i= 42 time= 225.1292768796285 FO= 1.3497838043956716e-32\n",
            "i= 43 time= 230.33086591164272 FO= 1.3497838043956716e-32\n",
            "i= 44 time= 235.53123567501703 FO= 1.3497838043956716e-32\n",
            "i= 45 time= 240.73948120276134 FO= 1.3497838043956716e-32\n",
            "i= 46 time= 245.95328761736553 FO= 1.3497838043956716e-32\n",
            "i= 47 time= 251.15349933306376 FO= 1.3497838043956716e-32\n",
            "i= 48 time= 256.3514784137408 FO= 1.3497838043956716e-32\n",
            "i= 49 time= 261.5648059884707 FO= 1.3497838043956716e-32\n",
            "DE_POP_VAR_F_CR TOTAL= 300000 Iterações= 2000 Dim= 30 Min/Max= -50 / 50 _ PenaltyTwo\n",
            "_ANN_Div3x4_Fo-0.5_CRo-0.5_D-30_Interv-2000 \n",
            "\n",
            "MÉDIA:  1.3497838043956727e-32\n",
            "MIN __: 1.3497838043956716e-32\n",
            "MAX__:  1.3497838043956716e-32\n",
            "STD __: 2.7369110631344083e-48\n",
            "Tempo Médio= 313.878 segundos ---\n",
            "50 Rodadas\n",
            "\n",
            "BEST:  [1.0000000e+00 1.0000000e+00 1.0000000e+00 1.0000000e+00 1.0000000e+00\n",
            " 1.0000000e+00 1.0000000e+00 1.0000000e+00 1.0000000e+00 1.0000000e+00\n",
            " 1.0000000e+00 1.0000000e+00 1.0000000e+00 1.0000000e+00 1.0000000e+00\n",
            " 1.0000000e+00 1.0000000e+00 1.0000000e+00 1.0000000e+00 1.0000000e+00\n",
            " 1.0000000e+00 1.0000000e+00 1.0000000e+00 1.0000000e+00 1.0000000e+00\n",
            " 1.0000000e+00 1.0000000e+00 1.0000000e+00 1.0000000e+00 1.0000000e+00\n",
            " 1.3497838e-32]\n"
          ],
          "name": "stdout"
        }
      ]
    }
  ]
}
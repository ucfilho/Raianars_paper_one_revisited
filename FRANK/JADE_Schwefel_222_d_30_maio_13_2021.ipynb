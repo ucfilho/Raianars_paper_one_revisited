{
  "nbformat": 4,
  "nbformat_minor": 0,
  "metadata": {
    "colab": {
      "name": "JADE_Schwefel_222_d_30_maio_13_2021.ipynb",
      "provenance": [],
      "collapsed_sections": [],
      "authorship_tag": "ABX9TyNik+9ynIGnqVx7N+AaeDt8",
      "include_colab_link": true
    },
    "kernelspec": {
      "display_name": "Python 3",
      "name": "python3"
    }
  },
  "cells": [
    {
      "cell_type": "markdown",
      "metadata": {
        "id": "view-in-github",
        "colab_type": "text"
      },
      "source": [
        "<a href=\"https://colab.research.google.com/github/ucfilho/Raianars_paper_one_revisited/blob/main/FRANK/JADE_Schwefel_222_d_30_maio_13_2021.ipynb\" target=\"_parent\"><img src=\"https://colab.research.google.com/assets/colab-badge.svg\" alt=\"Open In Colab\"/></a>"
      ]
    },
    {
      "cell_type": "code",
      "metadata": {
        "id": "Es8PhSUedYDe"
      },
      "source": [
        "import numpy as np\n",
        "import time"
      ],
      "execution_count": 1,
      "outputs": []
    },
    {
      "cell_type": "code",
      "metadata": {
        "colab": {
          "base_uri": "https://localhost:8080/"
        },
        "id": "WPP0AwDbdk4p",
        "outputId": "2acb07b7-ad13-4056-90aa-ad007b575989"
      },
      "source": [
        "!git clone https://github.com/ucfilho/Raianars_Routines\n",
        "%cd Raianars_Routines"
      ],
      "execution_count": 2,
      "outputs": [
        {
          "output_type": "stream",
          "text": [
            "fatal: destination path 'Raianars_Routines' already exists and is not an empty directory.\n",
            "/content/Raianars_Routines\n"
          ],
          "name": "stdout"
        }
      ]
    },
    {
      "cell_type": "code",
      "metadata": {
        "id": "SG2Zh9StRMih"
      },
      "source": [
        "############################### Função\n",
        "import FunctionsNew\n",
        "#'''  \n",
        "############################### Função\n",
        "dim=30 # \n",
        "fchoice='Schwefel_222'\n",
        "Fun=FunctionsNew.Schwefel_222\n",
        "MAX=np.repeat(10,dim)\n",
        "MIN=np.repeat(-10,dim)\n",
        "bounds = (-10,10)\n"
      ],
      "execution_count": 3,
      "outputs": []
    },
    {
      "cell_type": "code",
      "metadata": {
        "id": "aainD4FVhQhu"
      },
      "source": [
        "ITE=2000 #10 # PONTOS quantas vezes vai alteral NPAR \n",
        "NPAR=100 # NUMBER OF PARTICLES\n",
        "RUNS=50 #NÚMERO DE RODADAS"
      ],
      "execution_count": 4,
      "outputs": []
    },
    {
      "cell_type": "code",
      "metadata": {
        "id": "4nlypEzsd8z4"
      },
      "source": [
        "#print(bounds)"
      ],
      "execution_count": 5,
      "outputs": []
    },
    {
      "cell_type": "code",
      "metadata": {
        "colab": {
          "base_uri": "https://localhost:8080/"
        },
        "id": "s8eOhF9tgGNn",
        "outputId": "82b55ccf-9d96-4278-d9a9-442e3ec0a060"
      },
      "source": [
        "!pip install PyFDE"
      ],
      "execution_count": 6,
      "outputs": [
        {
          "output_type": "stream",
          "text": [
            "Requirement already satisfied: PyFDE in /usr/local/lib/python3.7/dist-packages (1.3.0)\n",
            "Requirement already satisfied: numpy in /usr/local/lib/python3.7/dist-packages (from PyFDE) (1.19.5)\n"
          ],
          "name": "stdout"
        }
      ]
    },
    {
      "cell_type": "code",
      "metadata": {
        "id": "RSVcPxfcgHC_"
      },
      "source": [
        "import pyfde\n",
        "solver = pyfde.JADE(Fun, n_dim= dim, n_pop=NPAR, limits=bounds, minimize=True)\n",
        "solver.p = 0.05\n",
        "solver.c = 0.1\n",
        "its = 1"
      ],
      "execution_count": 15,
      "outputs": []
    },
    {
      "cell_type": "code",
      "metadata": {
        "colab": {
          "base_uri": "https://localhost:8080/"
        },
        "id": "YhpvZOmJbKlq",
        "outputId": "e449c335-0535-438d-968d-679dc7830da9"
      },
      "source": [
        "bounds"
      ],
      "execution_count": 8,
      "outputs": [
        {
          "output_type": "execute_result",
          "data": {
            "text/plain": [
              "(-10, 10)"
            ]
          },
          "metadata": {
            "tags": []
          },
          "execution_count": 8
        }
      ]
    },
    {
      "cell_type": "code",
      "metadata": {
        "id": "A1jYSGP2R70v"
      },
      "source": [
        "start_time = time.time()\n",
        "BEST_AGENTS=[]\n",
        "MAT_stat=[]"
      ],
      "execution_count": 9,
      "outputs": []
    },
    {
      "cell_type": "code",
      "metadata": {
        "colab": {
          "base_uri": "https://localhost:8080/"
        },
        "id": "M9HVQ-J2SS5w",
        "outputId": "d71a3faa-bd1b-471f-f5c1-e8e4b65b2058"
      },
      "source": [
        "start_time = time.time()\n",
        "BEST_AGENTS=[]\n",
        "BEST_FIT =[]\n",
        "rows = RUNS\n",
        "cols = dim + 1\n",
        "BEST_XY = np.zeros((rows,cols))\n",
        "for iii in range(RUNS):\n",
        "  solver = pyfde.JADE(Fun, n_dim= dim, n_pop=NPAR, limits=bounds, minimize=True)\n",
        "  solver.p = 0.05\n",
        "  solver.c = 0.1\n",
        "  solver.cr, solver.f = 0.5, 0.5\n",
        "  best, fit = solver.run(n_it=ITE)\n",
        "  kkk = -1\n",
        "  for xi in best:\n",
        "    kkk = kkk +1\n",
        "    BEST_XY[iii,kkk] = xi\n",
        "  BEST_XY[iii,dim] = -fit\n",
        "  BEST_AGENTS.append(best)\n",
        "  TIME = (time.time() - start_time) /60\n",
        "  BEST_FIT.append(-fit)\n",
        "  print('ite ', iii,'time ', TIME,'fob =', -fit)\n",
        "    \n",
        "############################## Cálculo dos Parâmetros de Avaliação   \n",
        "TIME = (time.time() - start_time)/RUNS\n"
      ],
      "execution_count": 10,
      "outputs": [
        {
          "output_type": "stream",
          "text": [
            "ite  0 time  0.04942438999811808 fob = 6.212690788886494e-41\n",
            "ite  1 time  0.09928712844848633 fob = 4.44358526250923e-37\n",
            "ite  2 time  0.14748747348785402 fob = 2.064754054298491e-42\n",
            "ite  3 time  0.1957834005355835 fob = 1.9402896738921107e-36\n",
            "ite  4 time  0.2439940293629964 fob = 4.558115589684784e-37\n",
            "ite  5 time  0.29211782217025756 fob = 1.5778861180096808e-43\n",
            "ite  6 time  0.34055819511413576 fob = 8.46473503232735e-34\n",
            "ite  7 time  0.3891042749087016 fob = 8.280865591966067e-38\n",
            "ite  8 time  0.4378034790356954 fob = 3.1051349700731728e-40\n",
            "ite  9 time  0.48590836524963377 fob = 1.7116599207969603e-42\n",
            "ite  10 time  0.5340494036674499 fob = 3.2982124378273446e-42\n",
            "ite  11 time  0.5825086792310079 fob = 2.002357529932846e-33\n",
            "ite  12 time  0.6308441718419393 fob = 5.997288343514388e-46\n",
            "ite  13 time  0.6789144039154053 fob = 1.035380260572628e-34\n",
            "ite  14 time  0.7273952921231588 fob = 1.833923108721763e-43\n",
            "ite  15 time  0.7757931629816691 fob = 1.0132583213143388e-42\n",
            "ite  16 time  0.8243328889211019 fob = 3.063494667147511e-22\n",
            "ite  17 time  0.8723178744316101 fob = 2.527533608083822e-41\n",
            "ite  18 time  0.9210985938707987 fob = 1.539902234950409e-40\n",
            "ite  19 time  0.9701829632123311 fob = 7.133487554610591e-29\n",
            "ite  20 time  1.0184585650761921 fob = 1.0158576679352303e-40\n",
            "ite  21 time  1.0667460401852926 fob = 4.293168317680298e-39\n",
            "ite  22 time  1.1151379545529683 fob = 1.0356756284558345e-39\n",
            "ite  23 time  1.1635192354520163 fob = 2.4519691157819965e-37\n",
            "ite  24 time  1.2116748531659445 fob = 1.1546237143159307e-43\n",
            "ite  25 time  1.2596316814422608 fob = 1.8086195265294073e-40\n",
            "ite  26 time  1.3079580346743265 fob = 5.087816765703582e-37\n",
            "ite  27 time  1.3562655131022134 fob = 2.7780491870432303e-36\n",
            "ite  28 time  1.404575276374817 fob = 5.001132149278762e-36\n",
            "ite  29 time  1.453294531504313 fob = 1.0988314273912797e-40\n",
            "ite  30 time  1.5010754346847535 fob = 2.9913192838605515e-38\n",
            "ite  31 time  1.5493265986442566 fob = 1.0503977739325102e-43\n",
            "ite  32 time  1.597567625840505 fob = 2.1177298199594915e-38\n",
            "ite  33 time  1.6462200125058493 fob = 1.3438389039539544e-32\n",
            "ite  34 time  1.694645392894745 fob = 2.121777570760233e-35\n",
            "ite  35 time  1.7438475966453553 fob = 4.2340682706156965e-36\n",
            "ite  36 time  1.7932202061017355 fob = 6.176221964241432e-39\n",
            "ite  37 time  1.8417764544486999 fob = 1.3124459616222141e-36\n",
            "ite  38 time  1.8906621098518372 fob = 5.604496456338266e-39\n",
            "ite  39 time  1.9397436221440634 fob = 5.765713645012276e-26\n",
            "ite  40 time  1.9886950929959615 fob = 2.4634208843987296e-48\n",
            "ite  41 time  2.037293219566345 fob = 8.663110501797917e-40\n",
            "ite  42 time  2.0860487977663675 fob = 2.9548462317032026e-39\n",
            "ite  43 time  2.134873020648956 fob = 2.0814839665407766e-38\n",
            "ite  44 time  2.1828787763913473 fob = 1.0386694278742133e-38\n",
            "ite  45 time  2.230795919895172 fob = 2.4660110420296476e-41\n",
            "ite  46 time  2.2789871295293174 fob = 9.848498750946339e-40\n",
            "ite  47 time  2.3277768731117248 fob = 7.485763134751299e-36\n",
            "ite  48 time  2.3758426189422606 fob = 5.600063152131537e-43\n",
            "ite  49 time  2.424597505728404 fob = 1.8847179587390195e-25\n"
          ],
          "name": "stdout"
        }
      ]
    },
    {
      "cell_type": "code",
      "metadata": {
        "id": "u-n_6dNIfgHe"
      },
      "source": [
        "IND_XY = np.argsort(np.array(BEST_XY[:,-1]))\n",
        "BEST_XY = BEST_XY[IND_XY,:]"
      ],
      "execution_count": 11,
      "outputs": []
    },
    {
      "cell_type": "code",
      "metadata": {
        "id": "J_yG5aOopqo5"
      },
      "source": [
        "\n",
        "\n",
        "BEST=BEST_XY[0]\n",
        "WORSE=BEST_XY[-1]\n",
        "MEAN=np.mean(BEST_XY,axis=0)\n",
        "MAXFO=BEST_XY[:,-1].max()\n",
        "MINFO=BEST_XY[:,-1].min()\n",
        "STD=BEST_XY[:,-1].std()\n",
        "BEST=BEST_XY[(rows-1),(cols-1)]"
      ],
      "execution_count": 12,
      "outputs": []
    },
    {
      "cell_type": "code",
      "metadata": {
        "colab": {
          "base_uri": "https://localhost:8080/"
        },
        "id": "z4mYgxbKhqj1",
        "outputId": "7a04debc-5d62-4a55-91c4-af4b9dfb9b33"
      },
      "source": [
        "print('======== JADE ==============')\n",
        "print('NPAR=',NPAR,'Iterações=',ITE*its,'Dim=', dim,\"Min/Max=\",MIN[0],\"/\",MAX[0],'_',Fun.__name__)\n",
        "print()\n",
        "print('MÉDIA: ',MEAN[-1])\n",
        "print('MIN __:',MINFO)\n",
        "print('MAX__: ',MAXFO)\n",
        "print('STD __:',STD)\n",
        "print(\"Tempo Médio= %.3f segundos ---\" % (TIME))\n",
        "print(RUNS,'Rodadas') \n",
        "print()\n",
        "print('BEST: ',MINFO)\n",
        "print()\n",
        "print(MEAN[-1])\n",
        "print(STD)\n",
        "print(MINFO)\n",
        "\n",
        "\n",
        "# print('melhor=',BEST_AGENTS[BEST_INDEX])"
      ],
      "execution_count": 18,
      "outputs": [
        {
          "output_type": "stream",
          "text": [
            "======== JADE ==============\n",
            "NPAR= 100 Iterações= 2000 Dim= 30 Min/Max= -10 / 10 _ Schwefel_222\n",
            "\n",
            "MÉDIA:  6.131913339967745e-24\n",
            "MIN __: 2.4634208843987296e-48\n",
            "MAX__:  3.063494667147511e-22\n",
            "STD __: 4.2888230679741726e-23\n",
            "Tempo Médio= 2.910 segundos ---\n",
            "50 Rodadas\n",
            "\n",
            "BEST:  2.4634208843987296e-48\n",
            "\n",
            "6.131913339967745e-24\n",
            "4.2888230679741726e-23\n",
            "2.4634208843987296e-48\n"
          ],
          "name": "stdout"
        }
      ]
    }
  ]
}
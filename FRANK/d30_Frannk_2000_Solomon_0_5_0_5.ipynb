{
  "nbformat": 4,
  "nbformat_minor": 0,
  "metadata": {
    "colab": {
      "name": "d30_Frannk_2000_Solomon_0_5_0_5.ipynb",
      "provenance": [],
      "collapsed_sections": [],
      "include_colab_link": true
    },
    "kernelspec": {
      "name": "python3",
      "display_name": "Python 3"
    }
  },
  "cells": [
    {
      "cell_type": "markdown",
      "metadata": {
        "id": "view-in-github",
        "colab_type": "text"
      },
      "source": [
        "<a href=\"https://colab.research.google.com/github/ucfilho/Raianars_paper_one_revisited/blob/main/FRANK/d30_Frannk_2000_Solomon_0_5_0_5.ipynb\" target=\"_parent\"><img src=\"https://colab.research.google.com/assets/colab-badge.svg\" alt=\"Open In Colab\"/></a>"
      ]
    },
    {
      "cell_type": "code",
      "metadata": {
        "id": "anFukot-ypn6"
      },
      "source": [
        "import numpy as np\n",
        "import pandas as pd\n",
        "import time"
      ],
      "execution_count": 1,
      "outputs": []
    },
    {
      "cell_type": "code",
      "metadata": {
        "id": "6Oh714_-z1Ia",
        "colab": {
          "base_uri": "https://localhost:8080/"
        },
        "outputId": "d10a4508-da1f-45a5-a7f7-745d0dff9174"
      },
      "source": [
        "#!git clone https://github.com/ucfilho/Raianars_July_2020 #clonar do Github\n",
        "#%cd Raianars_July_2020\n",
        "############################### Importar códigos\n",
        "!git clone https://github.com/ucfilho/optim_raianars_Insight\n",
        "%cd optim_raianars_Insight"
      ],
      "execution_count": 2,
      "outputs": [
        {
          "output_type": "stream",
          "text": [
            "Cloning into 'optim_raianars_Insight'...\n",
            "remote: Enumerating objects: 375, done.\u001b[K\n",
            "remote: Counting objects: 100% (61/61), done.\u001b[K\n",
            "remote: Compressing objects: 100% (61/61), done.\u001b[K\n",
            "remote: Total 375 (delta 35), reused 0 (delta 0), pack-reused 314\u001b[K\n",
            "Receiving objects: 100% (375/375), 327.03 KiB | 4.04 MiB/s, done.\n",
            "Resolving deltas: 100% (216/216), done.\n",
            "/content/optim_raianars_Insight\n"
          ],
          "name": "stdout"
        }
      ]
    },
    {
      "cell_type": "code",
      "metadata": {
        "id": "LnzftXkky78A"
      },
      "source": [
        "import Go2Ann\n",
        "import de_soma_Insight\n",
        "import de_bounds_matriz\n",
        "from AvaliaX import AvaliaX\n",
        "from GeraIndices import GeraIndices"
      ],
      "execution_count": 3,
      "outputs": []
    },
    {
      "cell_type": "code",
      "metadata": {
        "id": "HNW92728z7fR"
      },
      "source": [
        "import Function\n",
        "import Go2MinMax"
      ],
      "execution_count": 4,
      "outputs": []
    },
    {
      "cell_type": "code",
      "metadata": {
        "id": "T_C-e7aH0CZH"
      },
      "source": [
        "ITE=2000 #10 # PONTOS quantas vezes vai alteral NPAR \n",
        "NPAR=100 # NUMBER OF PARTICLES\n",
        "dim=10\n",
        "RUNS=50\n"
      ],
      "execution_count": 5,
      "outputs": []
    },
    {
      "cell_type": "code",
      "metadata": {
        "colab": {
          "base_uri": "https://localhost:8080/"
        },
        "id": "_qrYAyiyMiyr",
        "outputId": "0cd2b4c7-0c46-4486-9535-7e3171b83abb"
      },
      "source": [
        "!git clone https://github.com/ucfilho/Raianars_Routines #clonar do Github\n",
        "%cd Raianars_Routines\n",
        "\n",
        "############################### Função\n",
        "import FunctionsNew\n",
        "#'''  \n",
        "############################### Função\n",
        "dim=30 # \n",
        "fchoice='Salomon'\n",
        "Fun=FunctionsNew.Salomon\n",
        "MAX=np.repeat(100,dim)\n",
        "MIN=np.repeat(-100,dim)\n",
        "\n",
        "bounds=[]\n",
        "for k in range(len(MAX)):\n",
        "  bounds.append((MIN[k],MAX[k]))"
      ],
      "execution_count": 6,
      "outputs": [
        {
          "output_type": "stream",
          "text": [
            "Cloning into 'Raianars_Routines'...\n",
            "remote: Enumerating objects: 54, done.\u001b[K\n",
            "remote: Counting objects: 100% (54/54), done.\u001b[K\n",
            "remote: Compressing objects: 100% (52/52), done.\u001b[K\n",
            "remote: Total 54 (delta 16), reused 0 (delta 0), pack-reused 0\u001b[K\n",
            "Unpacking objects: 100% (54/54), done.\n",
            "/content/optim_raianars_Insight/Raianars_Routines\n"
          ],
          "name": "stdout"
        }
      ]
    },
    {
      "cell_type": "code",
      "metadata": {
        "id": "Nqv5qp9yzQEw"
      },
      "source": [
        "############################### INPUT INFORMATION (FRANNK)\n",
        "Fc=0.1 # fator de correcao parametros da ANN\n",
        "its=1 #10 # quantas vezes vai usar o NPAR antes de alterar de novo\n",
        "mut=0.5\n",
        "crossp=0.5\n",
        "Fi=mut;CRi=crossp;# para impressão\n",
        "PAR=len(MAX) #NUM DE PARAMETROS A SER OTIMIZADOS"
      ],
      "execution_count": 7,
      "outputs": []
    },
    {
      "cell_type": "code",
      "metadata": {
        "id": "raWOfeJBztuj",
        "colab": {
          "base_uri": "https://localhost:8080/"
        },
        "outputId": "fb8bc67e-e4a8-4312-8565-f58c33fc0330"
      },
      "source": [
        "!git clone https://github.com/ucfilho/ANN_read_matrix #clonar do Github\n",
        "%cd ANN_read_matrix"
      ],
      "execution_count": 8,
      "outputs": [
        {
          "output_type": "stream",
          "text": [
            "Cloning into 'ANN_read_matrix'...\n",
            "remote: Enumerating objects: 20, done.\u001b[K\n",
            "remote: Counting objects: 100% (20/20), done.\u001b[K\n",
            "remote: Compressing objects: 100% (18/18), done.\u001b[K\n",
            "remote: Total 20 (delta 5), reused 0 (delta 0), pack-reused 0\u001b[K\n",
            "Unpacking objects: 100% (20/20), done.\n",
            "/content/optim_raianars_Insight/Raianars_Routines/ANN_read_matrix\n"
          ],
          "name": "stdout"
        }
      ]
    },
    {
      "cell_type": "code",
      "metadata": {
        "id": "N2lyPfivzwGv",
        "colab": {
          "base_uri": "https://localhost:8080/"
        },
        "outputId": "e8ac17ca-7d3e-488b-8053-946e922a84f0"
      },
      "source": [
        "ANN_F=pd.read_csv('ANN_INSIGHT_Valor_F.csv')\n",
        "ANN_CR=pd.read_csv('ANN_INSIGHT_CR.csv')\n",
        "syn0_F,syn1_F,X_max_F,X_min_F=Go2Ann.GetMatriz(ANN_F)\n",
        "syn0_CR,syn1_CR,X_max_CR,X_min_CR=Go2Ann.GetMatriz(ANN_CR)\n",
        "fields = ['DI RELATIVO','FRAC Its','Fo','CRo']\n",
        "\n",
        "#TOTAL=7*dim*its*ITE\n",
        "TOTAL=10*dim*its*ITE\n",
        "TOTAL=int(TOTAL/2)   # CONFERIR SE ESTE EH O MELHOR LUGAR\n",
        "\n",
        "dimensions=len(MAX)\n",
        "start_time = time.time() #INICIALIZA CONTAGEM DO TEMPO\n",
        "\n",
        "MAX_P=np.zeros(ITE) # ATENCAO para variar F e Cr MAX_P passa a ser 3 vezes maior\n",
        "MIN_P=np.zeros(ITE) # ATENCAO para variar F e Cr MIN_P passa a ser 3 vezes maior\n",
        "\n",
        "for i in range(dim):\n",
        "  MAX_P[i]=MAX[i] \n",
        "  MIN_P[i]=MIN[i]\n",
        "\n",
        "rodadas=1\n",
        "for i in range(rodadas):\n",
        "  SOMA=0\n",
        "  pop = np.random.rand(NPAR, dimensions)\n",
        "  diff=np.zeros(PAR)\n",
        "  for ii in range(PAR):\n",
        "    diff[ii] = MAX[ii]-MIN[ii]\n",
        "  X = MIN + pop * diff\n",
        "    \n",
        "  PONTOS=ITE # DIVISOES DA POPULACAO\n",
        "start_time = time.time()\n",
        "BEST_AGENTS=[]\n",
        "MAT_stat=[]\n",
        "for i in range(RUNS):\n",
        "    MAT=[] \n",
        "    mut=Fi\n",
        "    crossp=CRi\n",
        "    SOMA=0\n",
        "    SOMAf=0\n",
        "    start_ite = time.time()\n",
        "    delta_time=(start_ite-start_time)/60\n",
        "    #print('ite=',i,'total=50','time=',delta_time)\n",
        "    pop = np.random.rand(NPAR, dim)\n",
        "    diff=np.zeros(PAR)\n",
        "    for ii in range(PAR):\n",
        "      diff[ii] = MAX[ii]-MIN[ii]\n",
        "    X = MIN + pop * diff\n",
        "    Xf = MIN + pop * diff\n",
        "    \n",
        "    DIo=1e99\n",
        "  \n",
        "    CRo=crossp;Fo=mut;\n",
        "    Fitness = np.asarray([Fun(ind) for ind in X])\n",
        "\n",
        "    XY,BEST_XY,BESTo,FOBESTo=AvaliaX(X,Fitness)\n",
        "    nrow,ncol=X.shape\n",
        "\n",
        "    QUANT=17;MAT_INDo=np.zeros((1,QUANT)); # quantos indices esta fazendo\n",
        "    MAT_INDo[0,5]=nrow  # VALOR NP\n",
        "    MAT_INDo[0,6]=Fo    # VALOR Fo   \n",
        "    MAT_INDo[0,7]=CRo   # VALOR CRo\n",
        "  \n",
        "    MAT_INDo=GeraIndices(X,BESTo,FOBESTo,DIo,MAT_INDo,SOMA,TOTAL,syn0_F,\n",
        "                        syn1_F,X_max_F,X_min_F,syn0_CR,syn1_CR,X_max_CR,\n",
        "                        X_min_CR,Fc,fields,Fun)\n",
        "  \n",
        "    DIo=np.copy(MAT_INDo[0,0])\n",
        "    MAT_INDo[0,15]=Fo    # VALOR Fo   \n",
        "    MAT_INDo[0,16]=CRo   # VALOR CRo\n",
        "    #ind_crossp=ITE-1\n",
        "\n",
        "    \n",
        "    for k in range(ITE):\n",
        "      X,BEST,FOBEST,XY,BEST_XY,SOMA= de_soma_Insight.de(MAX,MIN, mut, crossp,NPAR,its,Fun,X,SOMA,TOTAL)\n",
        "      #Xf,BESTf,FOBESTf,XYf,BEST_XYf,SOMAf= de_soma_Insight.de(MAX,MIN, Fi, CRi, NPAR,its,Fun,Xf,SOMAf,TOTAL)\n",
        "\n",
        "      \n",
        "      MAT_IND=GeraIndices(X,BESTo,FOBESTo,DIo,MAT_INDo,SOMA,TOTAL,syn0_F,\n",
        "                          syn1_F,X_max_F,X_min_F,syn0_CR,syn1_CR,X_max_CR,\n",
        "                          X_min_CR,Fc,fields,Fun)\n",
        "    \n",
        "      BESTo=np.copy(BEST);FOBESTo=np.copy(FOBEST);\n",
        "      MAT.append(MAT_IND.ravel())\n",
        "    \n",
        "      MAT_INDo[0,6]=MAT_IND[0,15]   # VALOR Fo   \n",
        "      MAT_INDo[0,7]=MAT_IND[0,16]   # VALOR CRo\n",
        "      mut=MAT_IND[0,15]\n",
        "      crossp=MAT_IND[0,16]\n",
        "\n",
        "      Fitness = np.asarray([Fun(ind) for ind in X])\n",
        "      #Fitnessf = np.asarray([Fun(ind) for ind in Xf])\n",
        "      Maior=np.argmax(Fitness)\n",
        "      #Maiorf=np.argmax(Fitnessf)\n",
        "      Menor=np.argmin(Fitness)\n",
        "      #Menorf=np.argmin(Fitnessf)\n",
        "\n",
        "      #X[Maior,:]=np.copy(Xf[Menorf,:])\n",
        "      #Xf[Maiorf,:]=np.copy(X[Menor,:])\n",
        "    print('i=',i,'time=',(time.time()-start_time)/60, 'FO=',FOBEST)  \n",
        "      \n",
        "    BEST_AGENTS.append(BEST_XY)\n",
        "    MAT_stat.append(MAT)\n",
        "    #print(\"GlobalParam e Solucao:\", BEST,\"Funcao=\",FOBEST)\n",
        "    \n",
        "############################## Cálculo dos Parâmetros de Avaliação   \n",
        "TIME = (time.time() - start_time)/RUNS\n",
        "BEST_AGENTS=np.array(BEST_AGENTS)\n",
        "BEST_AGENTS_ST= BEST_AGENTS[BEST_AGENTS[:,-1].argsort()]\n",
        "BEST=BEST_AGENTS_ST[0]\n",
        "WORSE=BEST_AGENTS_ST[-1]\n",
        "MEAN=np.mean(BEST_AGENTS,axis=0)\n",
        "MAXFO=BEST_AGENTS[:,-1].max()\n",
        "MINFO=BEST_AGENTS[:,-1].min()\n",
        "STD=BEST_AGENTS[:,-1].std()\n",
        "\n",
        "nome='_ANN_Div3x4_Fo-'+str(Fi)+'_CRo-'+str(CRi)+'_D-'+str(dim)+'_Interv-'+str(ITE)\n",
        "print('DE_POP_VAR_F_CR','TOTAL=',TOTAL,'Iterações=',ITE*its,'Dim=', PAR,\"Min/Max=\",MIN[0],\"/\",MAX[0],'_',Fun.__name__)\n",
        "print(nome, '\\n')\n",
        "print('MÉDIA: ',MEAN[-1])\n",
        "print('MIN __:',MINFO)\n",
        "print('MAX__: ',MAXFO)\n",
        "print('STD __:',STD)\n",
        "print(\"Tempo Médio= %.3f segundos ---\" % (TIME))\n",
        "print(RUNS,'Rodadas') \n",
        "print()\n",
        "print('BEST: ',BEST)"
      ],
      "execution_count": 9,
      "outputs": [
        {
          "output_type": "stream",
          "text": [
            "i= 0 time= 2.2909568826357525 FO= 0.39987612433291675\n",
            "i= 1 time= 4.551712294419606 FO= 0.2998733515503533\n",
            "i= 2 time= 6.842959467569987 FO= 0.2998861623958518\n",
            "i= 3 time= 9.125100306669871 FO= 0.39987351863000403\n",
            "i= 4 time= 11.402929174900056 FO= 0.3998733778675244\n",
            "i= 5 time= 13.695842464764914 FO= 0.39987425495948226\n",
            "i= 6 time= 15.984372889995575 FO= 0.39987361583052816\n",
            "i= 7 time= 18.271143333117166 FO= 0.399873346532799\n",
            "i= 8 time= 20.535625819365183 FO= 0.3998734338498524\n",
            "i= 9 time= 22.809187912940978 FO= 0.2998739034114208\n",
            "i= 10 time= 25.0879908601443 FO= 0.2998737913890133\n",
            "i= 11 time= 27.3632718761762 FO= 0.29988484893303535\n",
            "i= 12 time= 29.660890595118204 FO= 0.29991880452873276\n",
            "i= 13 time= 31.93661306301753 FO= 0.29999487547363796\n",
            "i= 14 time= 34.21897097826004 FO= 0.3998733462952806\n",
            "i= 15 time= 36.495431355635326 FO= 0.29990346701650317\n",
            "i= 16 time= 38.781016107400255 FO= 0.2998757122412982\n",
            "i= 17 time= 41.046172924836476 FO= 0.2999118006464465\n",
            "i= 18 time= 43.31149817705155 FO= 0.29987754115582166\n",
            "i= 19 time= 45.585288830598195 FO= 0.3998734794794516\n",
            "i= 20 time= 47.857174185911816 FO= 0.3998733473186317\n",
            "i= 21 time= 50.12353432575862 FO= 0.29993784375735855\n",
            "i= 22 time= 52.392805353800455 FO= 0.3023261137191358\n",
            "i= 23 time= 54.670885070165 FO= 0.30031731500129394\n",
            "i= 24 time= 56.94522755146026 FO= 0.3998740771459829\n",
            "i= 25 time= 59.21915013790131 FO= 0.30004579840250484\n",
            "i= 26 time= 61.48619192838669 FO= 0.29987779121453334\n",
            "i= 27 time= 63.75229747692744 FO= 0.39987334724382606\n",
            "i= 28 time= 66.0217872341474 FO= 0.39987395817349436\n",
            "i= 29 time= 68.28788232405981 FO= 0.3059036010839906\n",
            "i= 30 time= 70.55549267133077 FO= 0.2999077261804092\n",
            "i= 31 time= 72.82041583061218 FO= 0.3032729063539162\n",
            "i= 32 time= 75.09473143815994 FO= 0.2999551107214619\n",
            "i= 33 time= 77.36751924753189 FO= 0.20587611424358868\n",
            "i= 34 time= 79.63591097593307 FO= 0.29995008054584243\n",
            "i= 35 time= 81.90158171256384 FO= 0.299875905700722\n",
            "i= 36 time= 84.16663227478664 FO= 0.39987335164134796\n",
            "i= 37 time= 86.4338048974673 FO= 0.3998738977441588\n",
            "i= 38 time= 88.70252286593119 FO= 0.39988344800606623\n",
            "i= 39 time= 90.9698554078738 FO= 0.39987335303852006\n",
            "i= 40 time= 93.24021324316661 FO= 0.299882528694238\n",
            "i= 41 time= 95.51537713607152 FO= 0.2999815613193996\n",
            "i= 42 time= 97.78684366544088 FO= 0.3998733483002085\n",
            "i= 43 time= 100.05808392365773 FO= 0.3998733461352538\n",
            "i= 44 time= 102.32688626845678 FO= 0.29988043372115847\n",
            "i= 45 time= 104.59595361550649 FO= 0.3998734319775753\n",
            "i= 46 time= 106.87329977353414 FO= 0.30151915014987246\n",
            "i= 47 time= 109.15533278385799 FO= 0.29987399323237823\n",
            "i= 48 time= 111.4267008582751 FO= 0.2999260805437893\n",
            "i= 49 time= 113.6973715464274 FO= 0.2998988309330397\n",
            "DE_POP_VAR_F_CR TOTAL= 300000 Iterações= 2000 Dim= 30 Min/Max= -100 / 100 _ Salomon\n",
            "_ANN_Div3x4_Fo-0.5_CRo-0.5_D-30_Interv-2000 \n",
            "\n",
            "MÉDIA:  0.338291330975273\n",
            "MIN __: 0.20587611424358868\n",
            "MAX__:  0.39988344800606623\n",
            "STD __: 0.05198050085340352\n",
            "Tempo Médio= 136.437 segundos ---\n",
            "50 Rodadas\n",
            "\n",
            "BEST:  [ 0.02439286  0.27914807  0.00503634 -0.60346634  0.15946707 -0.41759043\n",
            " -0.30590975 -0.07265376  0.21506237 -0.47499268  0.43614801 -0.07049648\n",
            " -0.26604713 -0.17445631 -0.31899945 -0.24567294 -0.2601307  -0.18618011\n",
            " -0.31228132  0.81043937  0.63044992  0.17407581 -0.23817402  0.03293827\n",
            "  0.46026745 -0.72115547  0.03652975 -0.71180345  0.05314965 -0.05568906\n",
            "  0.20587611]\n"
          ],
          "name": "stdout"
        }
      ]
    }
  ]
}
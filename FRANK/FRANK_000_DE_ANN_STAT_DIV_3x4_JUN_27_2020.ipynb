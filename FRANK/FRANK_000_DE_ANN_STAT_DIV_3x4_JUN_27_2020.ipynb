{
  "nbformat": 4,
  "nbformat_minor": 0,
  "metadata": {
    "colab": {
      "name": "FRANK_000_DE_ANN_STAT_DIV_3x4_JUN_27_2020.ipynb",
      "provenance": [],
      "collapsed_sections": [],
      "include_colab_link": true
    },
    "kernelspec": {
      "name": "python3",
      "display_name": "Python 3"
    },
    "language_info": {
      "codemirror_mode": {
        "name": "ipython",
        "version": 3
      },
      "file_extension": ".py",
      "mimetype": "text/x-python",
      "name": "python",
      "nbconvert_exporter": "python",
      "pygments_lexer": "ipython3",
      "version": "3.7.3"
    }
  },
  "cells": [
    {
      "cell_type": "markdown",
      "metadata": {
        "id": "view-in-github",
        "colab_type": "text"
      },
      "source": [
        "<a href=\"https://colab.research.google.com/github/ucfilho/Raianars_paper_one_revisited/blob/main/FRANK/FRANK_000_DE_ANN_STAT_DIV_3x4_JUN_27_2020.ipynb\" target=\"_parent\"><img src=\"https://colab.research.google.com/assets/colab-badge.svg\" alt=\"Open In Colab\"/></a>"
      ]
    },
    {
      "cell_type": "code",
      "metadata": {
        "id": "qyA7a-1Tq5Fr"
      },
      "source": [
        "import time\n",
        "import matplotlib.pyplot as plt\n",
        "import numpy as np\n",
        "from random import randint\n",
        "from scipy import optimize\n",
        "import pandas as pd\n",
        "from sklearn.metrics import confusion_matrix"
      ],
      "execution_count": null,
      "outputs": []
    },
    {
      "cell_type": "code",
      "metadata": {
        "id": "h_TDOErSs_Fi"
      },
      "source": [
        "############################### DADOS DE ENTRADA \n",
        "RUNS=50 #NÚMERO DE RODADAS\n",
        "Fc=0.1 # fator de correcao parametros da ANN\n",
        "its=1 #10 # quantas vezes vai usar o NPAR antes de alterar de novo\n",
        "ITE=100 #10 # PONTOS quantas vezes vai alteral NPAR \n",
        "\n",
        "mut=0.5\n",
        "crossp=0.5\n",
        "Fi=mut;CRi=crossp;# para impressão"
      ],
      "execution_count": null,
      "outputs": []
    },
    {
      "cell_type": "code",
      "metadata": {
        "id": "i5cteBfwoTrX"
      },
      "source": [
        "def AvaliaX(X):\n",
        "  nrow,ncol=X.shape\n",
        "  fitness = np.asarray([Fun(ind) for ind in X])\n",
        "  best_idx = np.argmin(fitness)\n",
        "  best = X[best_idx]\n",
        "  fobj_best = fitness[best_idx]\n",
        "  y=fitness\n",
        "  BEST=best\n",
        "  FOBEST=fobj_best\n",
        "  XY= np.c_[X,y] #concatena x e y em 2 colunas            \n",
        "  XYsorted = XY[XY[:,-1].argsort()] #Ordena a partir da last col(Y) for all row\n",
        "  x=XYsorted[:,0:ncol]\n",
        "  XY=XYsorted\n",
        "  BEST_XY =np.append(BEST,FOBEST)\n",
        "  return XY,BEST_XY,BEST,FOBEST"
      ],
      "execution_count": null,
      "outputs": []
    },
    {
      "cell_type": "code",
      "metadata": {
        "id": "Va-6Xios8RjU",
        "colab": {
          "base_uri": "https://localhost:8080/",
          "height": 173
        },
        "outputId": "843ab57c-323a-4397-9a15-42e306028c1b"
      },
      "source": [
        "!git clone https://github.com/ucfilho/optim_raianars_Insight #clonar do Github\n",
        "%cd optim_raianars_Insight"
      ],
      "execution_count": null,
      "outputs": [
        {
          "output_type": "stream",
          "text": [
            "Cloning into 'optim_raianars_Insight'...\n",
            "remote: Enumerating objects: 92, done.\u001b[K\n",
            "remote: Counting objects:   1% (1/92)\u001b[K\rremote: Counting objects:   2% (2/92)\u001b[K\rremote: Counting objects:   3% (3/92)\u001b[K\rremote: Counting objects:   4% (4/92)\u001b[K\rremote: Counting objects:   5% (5/92)\u001b[K\rremote: Counting objects:   6% (6/92)\u001b[K\rremote: Counting objects:   7% (7/92)\u001b[K\rremote: Counting objects:   8% (8/92)\u001b[K\rremote: Counting objects:   9% (9/92)\u001b[K\rremote: Counting objects:  10% (10/92)\u001b[K\rremote: Counting objects:  11% (11/92)\u001b[K\rremote: Counting objects:  13% (12/92)\u001b[K\rremote: Counting objects:  14% (13/92)\u001b[K\rremote: Counting objects:  15% (14/92)\u001b[K\rremote: Counting objects:  16% (15/92)\u001b[K\rremote: Counting objects:  17% (16/92)\u001b[K\rremote: Counting objects:  18% (17/92)\u001b[K\rremote: Counting objects:  19% (18/92)\u001b[K\rremote: Counting objects:  20% (19/92)\u001b[K\rremote: Counting objects:  21% (20/92)\u001b[K\rremote: Counting objects:  22% (21/92)\u001b[K\rremote: Counting objects:  23% (22/92)\u001b[K\rremote: Counting objects:  25% (23/92)\u001b[K\rremote: Counting objects:  26% (24/92)\u001b[K\rremote: Counting objects:  27% (25/92)\u001b[K\rremote: Counting objects:  28% (26/92)\u001b[K\rremote: Counting objects:  29% (27/92)\u001b[K\rremote: Counting objects:  30% (28/92)\u001b[K\rremote: Counting objects:  31% (29/92)\u001b[K\rremote: Counting objects:  32% (30/92)\u001b[K\rremote: Counting objects:  33% (31/92)\u001b[K\rremote: Counting objects:  34% (32/92)\u001b[K\rremote: Counting objects:  35% (33/92)\u001b[K\rremote: Counting objects:  36% (34/92)\u001b[K\rremote: Counting objects:  38% (35/92)\u001b[K\rremote: Counting objects:  39% (36/92)\u001b[K\rremote: Counting objects:  40% (37/92)\u001b[K\rremote: Counting objects:  41% (38/92)\u001b[K\rremote: Counting objects:  42% (39/92)\u001b[K\rremote: Counting objects:  43% (40/92)\u001b[K\rremote: Counting objects:  44% (41/92)\u001b[K\rremote: Counting objects:  45% (42/92)\u001b[K\rremote: Counting objects:  46% (43/92)\u001b[K\rremote: Counting objects:  47% (44/92)\u001b[K\rremote: Counting objects:  48% (45/92)\u001b[K\rremote: Counting objects:  50% (46/92)\u001b[K\rremote: Counting objects:  51% (47/92)\u001b[K\rremote: Counting objects:  52% (48/92)\u001b[K\rremote: Counting objects:  53% (49/92)\u001b[K\rremote: Counting objects:  54% (50/92)\u001b[K\rremote: Counting objects:  55% (51/92)\u001b[K\rremote: Counting objects:  56% (52/92)\u001b[K\rremote: Counting objects:  57% (53/92)\u001b[K\rremote: Counting objects:  58% (54/92)\u001b[K\rremote: Counting objects:  59% (55/92)\u001b[K\rremote: Counting objects:  60% (56/92)\u001b[K\rremote: Counting objects:  61% (57/92)\u001b[K\rremote: Counting objects:  63% (58/92)\u001b[K\rremote: Counting objects:  64% (59/92)\u001b[K\rremote: Counting objects:  65% (60/92)\u001b[K\rremote: Counting objects:  66% (61/92)\u001b[K\rremote: Counting objects:  67% (62/92)\u001b[K\rremote: Counting objects:  68% (63/92)\u001b[K\rremote: Counting objects:  69% (64/92)\u001b[K\rremote: Counting objects:  70% (65/92)\u001b[K\rremote: Counting objects:  71% (66/92)\u001b[K\rremote: Counting objects:  72% (67/92)\u001b[K\rremote: Counting objects:  73% (68/92)\u001b[K\rremote: Counting objects:  75% (69/92)\u001b[K\rremote: Counting objects:  76% (70/92)\u001b[K\rremote: Counting objects:  77% (71/92)\u001b[K\rremote: Counting objects:  78% (72/92)\u001b[K\rremote: Counting objects:  79% (73/92)\u001b[K\rremote: Counting objects:  80% (74/92)\u001b[K\rremote: Counting objects:  81% (75/92)\u001b[K\rremote: Counting objects:  82% (76/92)\u001b[K\rremote: Counting objects:  83% (77/92)\u001b[K\rremote: Counting objects:  84% (78/92)\u001b[K\rremote: Counting objects:  85% (79/92)\u001b[K\rremote: Counting objects:  86% (80/92)\u001b[K\rremote: Counting objects:  88% (81/92)\u001b[K\rremote: Counting objects:  89% (82/92)\u001b[K\rremote: Counting objects:  90% (83/92)\u001b[K\rremote: Counting objects:  91% (84/92)\u001b[K\rremote: Counting objects:  92% (85/92)\u001b[K\rremote: Counting objects:  93% (86/92)\u001b[K\rremote: Counting objects:  94% (87/92)\u001b[K\rremote: Counting objects:  95% (88/92)\u001b[K\rremote: Counting objects:  96% (89/92)\u001b[K\rremote: Counting objects:  97% (90/92)\u001b[K\rremote: Counting objects:  98% (91/92)\u001b[K\rremote: Counting objects: 100% (92/92)\u001b[K\rremote: Counting objects: 100% (92/92), done.\u001b[K\n",
            "remote: Compressing objects:   1% (1/92)\u001b[K\rremote: Compressing objects:   2% (2/92)\u001b[K\rremote: Compressing objects:   3% (3/92)\u001b[K\rremote: Compressing objects:   4% (4/92)\u001b[K\rremote: Compressing objects:   5% (5/92)\u001b[K\rremote: Compressing objects:   6% (6/92)\u001b[K\rremote: Compressing objects:   7% (7/92)\u001b[K\rremote: Compressing objects:   8% (8/92)\u001b[K\rremote: Compressing objects:   9% (9/92)\u001b[K\rremote: Compressing objects:  10% (10/92)\u001b[K\rremote: Compressing objects:  11% (11/92)\u001b[K\rremote: Compressing objects:  13% (12/92)\u001b[K\rremote: Compressing objects:  14% (13/92)\u001b[K\rremote: Compressing objects:  15% (14/92)\u001b[K\rremote: Compressing objects:  16% (15/92)\u001b[K\rremote: Compressing objects:  17% (16/92)\u001b[K\rremote: Compressing objects:  18% (17/92)\u001b[K\rremote: Compressing objects:  19% (18/92)\u001b[K\rremote: Compressing objects:  20% (19/92)\u001b[K\rremote: Compressing objects:  21% (20/92)\u001b[K\rremote: Compressing objects:  22% (21/92)\u001b[K\rremote: Compressing objects:  23% (22/92)\u001b[K\rremote: Compressing objects:  25% (23/92)\u001b[K\rremote: Compressing objects:  26% (24/92)\u001b[K\rremote: Compressing objects:  27% (25/92)\u001b[K\rremote: Compressing objects:  28% (26/92)\u001b[K\rremote: Compressing objects:  29% (27/92)\u001b[K\rremote: Compressing objects:  30% (28/92)\u001b[K\rremote: Compressing objects:  31% (29/92)\u001b[K\rremote: Compressing objects:  32% (30/92)\u001b[K\rremote: Compressing objects:  33% (31/92)\u001b[K\rremote: Compressing objects:  34% (32/92)\u001b[K\rremote: Compressing objects:  35% (33/92)\u001b[K\rremote: Compressing objects:  36% (34/92)\u001b[K\rremote: Compressing objects:  38% (35/92)\u001b[K\rremote: Compressing objects:  39% (36/92)\u001b[K\rremote: Compressing objects:  40% (37/92)\u001b[K\rremote: Compressing objects:  41% (38/92)\u001b[K\rremote: Compressing objects:  42% (39/92)\u001b[K\rremote: Compressing objects:  43% (40/92)\u001b[K\rremote: Compressing objects:  44% (41/92)\u001b[K\rremote: Compressing objects:  45% (42/92)\u001b[K\rremote: Compressing objects:  46% (43/92)\u001b[K\rremote: Compressing objects:  47% (44/92)\u001b[K\rremote: Compressing objects:  48% (45/92)\u001b[K\rremote: Compressing objects:  50% (46/92)\u001b[K\rremote: Compressing objects:  51% (47/92)\u001b[K\rremote: Compressing objects:  52% (48/92)\u001b[K\rremote: Compressing objects:  53% (49/92)\u001b[K\rremote: Compressing objects:  54% (50/92)\u001b[K\rremote: Compressing objects:  55% (51/92)\u001b[K\rremote: Compressing objects:  56% (52/92)\u001b[K\rremote: Compressing objects:  57% (53/92)\u001b[K\rremote: Compressing objects:  58% (54/92)\u001b[K\rremote: Compressing objects:  59% (55/92)\u001b[K\rremote: Compressing objects:  60% (56/92)\u001b[K\rremote: Compressing objects:  61% (57/92)\u001b[K\rremote: Compressing objects:  63% (58/92)\u001b[K\rremote: Compressing objects:  64% (59/92)\u001b[K\rremote: Compressing objects:  65% (60/92)\u001b[K\rremote: Compressing objects:  66% (61/92)\u001b[K\rremote: Compressing objects:  67% (62/92)\u001b[K\rremote: Compressing objects:  68% (63/92)\u001b[K\rremote: Compressing objects:  69% (64/92)\u001b[K\rremote: Compressing objects:  70% (65/92)\u001b[K\rremote: Compressing objects:  71% (66/92)\u001b[K\rremote: Compressing objects:  72% (67/92)\u001b[K\rremote: Compressing objects:  73% (68/92)\u001b[K\rremote: Compressing objects:  75% (69/92)\u001b[K\rremote: Compressing objects:  76% (70/92)\u001b[K\rremote: Compressing objects:  77% (71/92)\u001b[K\rremote: Compressing objects:  78% (72/92)\u001b[K\rremote: Compressing objects:  79% (73/92)\u001b[K\rremote: Compressing objects:  80% (74/92)\u001b[K\rremote: Compressing objects:  81% (75/92)\u001b[K\rremote: Compressing objects:  82% (76/92)\u001b[K\rremote: Compressing objects:  83% (77/92)\u001b[K\rremote: Compressing objects:  84% (78/92)\u001b[K\rremote: Compressing objects:  85% (79/92)\u001b[K\rremote: Compressing objects:  86% (80/92)\u001b[K\rremote: Compressing objects:  88% (81/92)\u001b[K\rremote: Compressing objects:  89% (82/92)\u001b[K\rremote: Compressing objects:  90% (83/92)\u001b[K\rremote: Compressing objects:  91% (84/92)\u001b[K\rremote: Compressing objects:  92% (85/92)\u001b[K\rremote: Compressing objects:  93% (86/92)\u001b[K\rremote: Compressing objects:  94% (87/92)\u001b[K\rremote: Compressing objects:  95% (88/92)\u001b[K\rremote: Compressing objects:  96% (89/92)\u001b[K\rremote: Compressing objects:  97% (90/92)\u001b[K\rremote: Compressing objects:  98% (91/92)\u001b[K\rremote: Compressing objects: 100% (92/92)\u001b[K\rremote: Compressing objects: 100% (92/92), done.\u001b[K\n",
            "Receiving objects:   0% (1/279)   \rReceiving objects:   1% (3/279)   \rReceiving objects:   2% (6/279)   \rReceiving objects:   3% (9/279)   \rReceiving objects:   4% (12/279)   \rReceiving objects:   5% (14/279)   \rReceiving objects:   6% (17/279)   \rReceiving objects:   7% (20/279)   \rReceiving objects:   8% (23/279)   \rReceiving objects:   9% (26/279)   \rReceiving objects:  10% (28/279)   \rReceiving objects:  11% (31/279)   \rReceiving objects:  12% (34/279)   \rReceiving objects:  13% (37/279)   \rReceiving objects:  14% (40/279)   \rReceiving objects:  15% (42/279)   \rReceiving objects:  16% (45/279)   \rReceiving objects:  17% (48/279)   \rReceiving objects:  18% (51/279)   \rReceiving objects:  19% (54/279)   \rReceiving objects:  20% (56/279)   \rReceiving objects:  21% (59/279)   \rReceiving objects:  22% (62/279)   \rReceiving objects:  23% (65/279)   \rReceiving objects:  24% (67/279)   \rReceiving objects:  25% (70/279)   \rReceiving objects:  26% (73/279)   \rReceiving objects:  27% (76/279)   \rReceiving objects:  28% (79/279)   \rReceiving objects:  29% (81/279)   \rReceiving objects:  30% (84/279)   \rReceiving objects:  31% (87/279)   \rReceiving objects:  32% (90/279)   \rReceiving objects:  33% (93/279)   \rReceiving objects:  34% (95/279)   \rReceiving objects:  35% (98/279)   \rReceiving objects:  36% (101/279)   \rReceiving objects:  37% (104/279)   \rReceiving objects:  38% (107/279)   \rReceiving objects:  39% (109/279)   \rReceiving objects:  40% (112/279)   \rReceiving objects:  41% (115/279)   \rReceiving objects:  42% (118/279)   \rReceiving objects:  43% (120/279)   \rReceiving objects:  44% (123/279)   \rReceiving objects:  45% (126/279)   \rReceiving objects:  46% (129/279)   \rReceiving objects:  47% (132/279)   \rReceiving objects:  48% (134/279)   \rReceiving objects:  49% (137/279)   \rReceiving objects:  50% (140/279)   \rReceiving objects:  51% (143/279)   \rReceiving objects:  52% (146/279)   \rReceiving objects:  53% (148/279)   \rReceiving objects:  54% (151/279)   \rReceiving objects:  55% (154/279)   \rReceiving objects:  56% (157/279)   \rReceiving objects:  57% (160/279)   \rReceiving objects:  58% (162/279)   \rReceiving objects:  59% (165/279)   \rReceiving objects:  60% (168/279)   \rReceiving objects:  61% (171/279)   \rReceiving objects:  62% (173/279)   \rReceiving objects:  63% (176/279)   \rReceiving objects:  64% (179/279)   \rReceiving objects:  65% (182/279)   \rReceiving objects:  66% (185/279)   \rReceiving objects:  67% (187/279)   \rReceiving objects:  68% (190/279)   \rReceiving objects:  69% (193/279)   \rReceiving objects:  70% (196/279)   \rReceiving objects:  71% (199/279)   \rReceiving objects:  72% (201/279)   \rReceiving objects:  73% (204/279)   \rReceiving objects:  74% (207/279)   \rReceiving objects:  75% (210/279)   \rReceiving objects:  76% (213/279)   \rReceiving objects:  77% (215/279)   \rReceiving objects:  78% (218/279)   \rReceiving objects:  79% (221/279)   \rReceiving objects:  80% (224/279)   \rReceiving objects:  81% (226/279)   \rReceiving objects:  82% (229/279)   \rReceiving objects:  83% (232/279)   \rremote: Total 279 (delta 45), reused 0 (delta 0), pack-reused 187\u001b[K\n",
            "Receiving objects:  84% (235/279)   \rReceiving objects:  85% (238/279)   \rReceiving objects:  86% (240/279)   \rReceiving objects:  87% (243/279)   \rReceiving objects:  88% (246/279)   \rReceiving objects:  89% (249/279)   \rReceiving objects:  90% (252/279)   \rReceiving objects:  91% (254/279)   \rReceiving objects:  92% (257/279)   \rReceiving objects:  93% (260/279)   \rReceiving objects:  94% (263/279)   \rReceiving objects:  95% (266/279)   \rReceiving objects:  96% (268/279)   \rReceiving objects:  97% (271/279)   \rReceiving objects:  98% (274/279)   \rReceiving objects:  99% (277/279)   \rReceiving objects: 100% (279/279)   \rReceiving objects: 100% (279/279), 300.55 KiB | 5.01 MiB/s, done.\n",
            "Resolving deltas:   0% (0/157)   \rResolving deltas:  16% (26/157)   \rResolving deltas:  38% (61/157)   \rResolving deltas:  39% (62/157)   \rResolving deltas:  41% (65/157)   \rResolving deltas:  47% (74/157)   \rResolving deltas:  54% (85/157)   \rResolving deltas:  64% (101/157)   \rResolving deltas:  77% (121/157)   \rResolving deltas:  89% (140/157)   \rResolving deltas:  94% (149/157)   \rResolving deltas:  98% (155/157)   \rResolving deltas:  99% (156/157)   \rResolving deltas: 100% (157/157)   \rResolving deltas: 100% (157/157), done.\n",
            "/content/optim_raianars_Insight/ANN_read_matrix/optim_raianars_Insight/optim_raianars_Insight/ANN_read_matrix/optim_raianars_Insight/optim_raianars_Insight/ANN_read_matrix/optim_raianars_Insight/optim_raianars_Insight\n"
          ],
          "name": "stdout"
        }
      ]
    },
    {
      "cell_type": "code",
      "metadata": {
        "id": "75o_QgSH8fKw"
      },
      "source": [
        "import Go2Ann"
      ],
      "execution_count": null,
      "outputs": []
    },
    {
      "cell_type": "code",
      "metadata": {
        "id": "qTINtQ1cosZK",
        "colab": {
          "base_uri": "https://localhost:8080/",
          "height": 156
        },
        "outputId": "2d6d6a47-6def-4620-f625-3e25c9b72623"
      },
      "source": [
        "!git clone https://github.com/ucfilho/ANN_read_matrix #clonar do Github\n",
        "%cd ANN_read_matrix"
      ],
      "execution_count": null,
      "outputs": [
        {
          "output_type": "stream",
          "text": [
            "Cloning into 'ANN_read_matrix'...\n",
            "remote: Enumerating objects: 20, done.\u001b[K\n",
            "remote: Counting objects:   5% (1/20)\u001b[K\rremote: Counting objects:  10% (2/20)\u001b[K\rremote: Counting objects:  15% (3/20)\u001b[K\rremote: Counting objects:  20% (4/20)\u001b[K\rremote: Counting objects:  25% (5/20)\u001b[K\rremote: Counting objects:  30% (6/20)\u001b[K\rremote: Counting objects:  35% (7/20)\u001b[K\rremote: Counting objects:  40% (8/20)\u001b[K\rremote: Counting objects:  45% (9/20)\u001b[K\rremote: Counting objects:  50% (10/20)\u001b[K\rremote: Counting objects:  55% (11/20)\u001b[K\rremote: Counting objects:  60% (12/20)\u001b[K\rremote: Counting objects:  65% (13/20)\u001b[K\rremote: Counting objects:  70% (14/20)\u001b[K\rremote: Counting objects:  75% (15/20)\u001b[K\rremote: Counting objects:  80% (16/20)\u001b[K\rremote: Counting objects:  85% (17/20)\u001b[K\rremote: Counting objects:  90% (18/20)\u001b[K\rremote: Counting objects:  95% (19/20)\u001b[K\rremote: Counting objects: 100% (20/20)\u001b[K\rremote: Counting objects: 100% (20/20), done.\u001b[K\n",
            "remote: Compressing objects:   5% (1/18)\u001b[K\rremote: Compressing objects:  11% (2/18)\u001b[K\rremote: Compressing objects:  16% (3/18)\u001b[K\rremote: Compressing objects:  22% (4/18)\u001b[K\rremote: Compressing objects:  27% (5/18)\u001b[K\rremote: Compressing objects:  33% (6/18)\u001b[K\rremote: Compressing objects:  38% (7/18)\u001b[K\rremote: Compressing objects:  44% (8/18)\u001b[K\rremote: Compressing objects:  50% (9/18)\u001b[K\rremote: Compressing objects:  55% (10/18)\u001b[K\rremote: Compressing objects:  61% (11/18)\u001b[K\rremote: Compressing objects:  66% (12/18)\u001b[K\rremote: Compressing objects:  72% (13/18)\u001b[K\rremote: Compressing objects:  77% (14/18)\u001b[K\rremote: Compressing objects:  83% (15/18)\u001b[K\rremote: Compressing objects:  88% (16/18)\u001b[K\rremote: Compressing objects:  94% (17/18)\u001b[K\rremote: Compressing objects: 100% (18/18)\u001b[K\rremote: Compressing objects: 100% (18/18), done.\u001b[K\n",
            "remote: Total 20 (delta 5), reused 0 (delta 0), pack-reused 0\u001b[K\n",
            "Unpacking objects:   5% (1/20)   \rUnpacking objects:  10% (2/20)   \rUnpacking objects:  15% (3/20)   \rUnpacking objects:  20% (4/20)   \rUnpacking objects:  25% (5/20)   \rUnpacking objects:  30% (6/20)   \rUnpacking objects:  35% (7/20)   \rUnpacking objects:  40% (8/20)   \rUnpacking objects:  45% (9/20)   \rUnpacking objects:  50% (10/20)   \rUnpacking objects:  55% (11/20)   \rUnpacking objects:  60% (12/20)   \rUnpacking objects:  65% (13/20)   \rUnpacking objects:  70% (14/20)   \rUnpacking objects:  75% (15/20)   \rUnpacking objects:  80% (16/20)   \rUnpacking objects:  85% (17/20)   \rUnpacking objects:  90% (18/20)   \rUnpacking objects:  95% (19/20)   \rUnpacking objects: 100% (20/20)   \rUnpacking objects: 100% (20/20), done.\n",
            "/content/optim_raianars_Insight/ANN_read_matrix/optim_raianars_Insight/optim_raianars_Insight/ANN_read_matrix/optim_raianars_Insight/optim_raianars_Insight/ANN_read_matrix/optim_raianars_Insight/optim_raianars_Insight/ANN_read_matrix\n"
          ],
          "name": "stdout"
        }
      ]
    },
    {
      "cell_type": "code",
      "metadata": {
        "id": "QiQLYOoNoyCw"
      },
      "source": [
        "ANN_F=pd.read_csv('ANN_INSIGHT_Valor_F.csv')"
      ],
      "execution_count": null,
      "outputs": []
    },
    {
      "cell_type": "code",
      "metadata": {
        "id": "uHtW2amaDzFv"
      },
      "source": [
        "ANN_CR=pd.read_csv('ANN_INSIGHT_CR.csv')"
      ],
      "execution_count": null,
      "outputs": []
    },
    {
      "cell_type": "code",
      "metadata": {
        "id": "EH6h_vke2yu1"
      },
      "source": [
        "syn0_F,syn1_F,X_max_F,X_min_F=Go2Ann.GetMatriz(ANN_F)"
      ],
      "execution_count": null,
      "outputs": []
    },
    {
      "cell_type": "code",
      "metadata": {
        "id": "WW_3ZWJXD60i"
      },
      "source": [
        "syn0_CR,syn1_CR,X_max_CR,X_min_CR=Go2Ann.GetMatriz(ANN_CR)"
      ],
      "execution_count": null,
      "outputs": []
    },
    {
      "cell_type": "code",
      "metadata": {
        "id": "b4gwBvVTyaXh"
      },
      "source": [
        "ANN_CR=pd.read_csv('ANN_INSIGHT_CR.csv')"
      ],
      "execution_count": null,
      "outputs": []
    },
    {
      "cell_type": "code",
      "metadata": {
        "id": "z7H0bUMdqY-t",
        "colab": {
          "base_uri": "https://localhost:8080/",
          "height": 173
        },
        "outputId": "390b7522-8de0-40b4-8a18-9e4e2d142dc8"
      },
      "source": [
        "############################### Importar códigos\n",
        "!git clone https://github.com/ucfilho/optim_raianars_Insight/ #clonar do Github\n",
        "%cd optim_raianars_Insight\n",
        "import de_soma_Insight\n",
        "import de_bounds_matriz"
      ],
      "execution_count": null,
      "outputs": [
        {
          "output_type": "stream",
          "text": [
            "Cloning into 'optim_raianars_Insight'...\n",
            "remote: Enumerating objects: 92, done.\u001b[K\n",
            "remote: Counting objects:   1% (1/92)\u001b[K\rremote: Counting objects:   2% (2/92)\u001b[K\rremote: Counting objects:   3% (3/92)\u001b[K\rremote: Counting objects:   4% (4/92)\u001b[K\rremote: Counting objects:   5% (5/92)\u001b[K\rremote: Counting objects:   6% (6/92)\u001b[K\rremote: Counting objects:   7% (7/92)\u001b[K\rremote: Counting objects:   8% (8/92)\u001b[K\rremote: Counting objects:   9% (9/92)\u001b[K\rremote: Counting objects:  10% (10/92)\u001b[K\rremote: Counting objects:  11% (11/92)\u001b[K\rremote: Counting objects:  13% (12/92)\u001b[K\rremote: Counting objects:  14% (13/92)\u001b[K\rremote: Counting objects:  15% (14/92)\u001b[K\rremote: Counting objects:  16% (15/92)\u001b[K\rremote: Counting objects:  17% (16/92)\u001b[K\rremote: Counting objects:  18% (17/92)\u001b[K\rremote: Counting objects:  19% (18/92)\u001b[K\rremote: Counting objects:  20% (19/92)\u001b[K\rremote: Counting objects:  21% (20/92)\u001b[K\rremote: Counting objects:  22% (21/92)\u001b[K\rremote: Counting objects:  23% (22/92)\u001b[K\rremote: Counting objects:  25% (23/92)\u001b[K\rremote: Counting objects:  26% (24/92)\u001b[K\rremote: Counting objects:  27% (25/92)\u001b[K\rremote: Counting objects:  28% (26/92)\u001b[K\rremote: Counting objects:  29% (27/92)\u001b[K\rremote: Counting objects:  30% (28/92)\u001b[K\rremote: Counting objects:  31% (29/92)\u001b[K\rremote: Counting objects:  32% (30/92)\u001b[K\rremote: Counting objects:  33% (31/92)\u001b[K\rremote: Counting objects:  34% (32/92)\u001b[K\rremote: Counting objects:  35% (33/92)\u001b[K\rremote: Counting objects:  36% (34/92)\u001b[K\rremote: Counting objects:  38% (35/92)\u001b[K\rremote: Counting objects:  39% (36/92)\u001b[K\rremote: Counting objects:  40% (37/92)\u001b[K\rremote: Counting objects:  41% (38/92)\u001b[K\rremote: Counting objects:  42% (39/92)\u001b[K\rremote: Counting objects:  43% (40/92)\u001b[K\rremote: Counting objects:  44% (41/92)\u001b[K\rremote: Counting objects:  45% (42/92)\u001b[K\rremote: Counting objects:  46% (43/92)\u001b[K\rremote: Counting objects:  47% (44/92)\u001b[K\rremote: Counting objects:  48% (45/92)\u001b[K\rremote: Counting objects:  50% (46/92)\u001b[K\rremote: Counting objects:  51% (47/92)\u001b[K\rremote: Counting objects:  52% (48/92)\u001b[K\rremote: Counting objects:  53% (49/92)\u001b[K\rremote: Counting objects:  54% (50/92)\u001b[K\rremote: Counting objects:  55% (51/92)\u001b[K\rremote: Counting objects:  56% (52/92)\u001b[K\rremote: Counting objects:  57% (53/92)\u001b[K\rremote: Counting objects:  58% (54/92)\u001b[K\rremote: Counting objects:  59% (55/92)\u001b[K\rremote: Counting objects:  60% (56/92)\u001b[K\rremote: Counting objects:  61% (57/92)\u001b[K\rremote: Counting objects:  63% (58/92)\u001b[K\rremote: Counting objects:  64% (59/92)\u001b[K\rremote: Counting objects:  65% (60/92)\u001b[K\rremote: Counting objects:  66% (61/92)\u001b[K\rremote: Counting objects:  67% (62/92)\u001b[K\rremote: Counting objects:  68% (63/92)\u001b[K\rremote: Counting objects:  69% (64/92)\u001b[K\rremote: Counting objects:  70% (65/92)\u001b[K\rremote: Counting objects:  71% (66/92)\u001b[K\rremote: Counting objects:  72% (67/92)\u001b[K\rremote: Counting objects:  73% (68/92)\u001b[K\rremote: Counting objects:  75% (69/92)\u001b[K\rremote: Counting objects:  76% (70/92)\u001b[K\rremote: Counting objects:  77% (71/92)\u001b[K\rremote: Counting objects:  78% (72/92)\u001b[K\rremote: Counting objects:  79% (73/92)\u001b[K\rremote: Counting objects:  80% (74/92)\u001b[K\rremote: Counting objects:  81% (75/92)\u001b[K\rremote: Counting objects:  82% (76/92)\u001b[K\rremote: Counting objects:  83% (77/92)\u001b[K\rremote: Counting objects:  84% (78/92)\u001b[K\rremote: Counting objects:  85% (79/92)\u001b[K\rremote: Counting objects:  86% (80/92)\u001b[K\rremote: Counting objects:  88% (81/92)\u001b[K\rremote: Counting objects:  89% (82/92)\u001b[K\rremote: Counting objects:  90% (83/92)\u001b[K\rremote: Counting objects:  91% (84/92)\u001b[K\rremote: Counting objects:  92% (85/92)\u001b[K\rremote: Counting objects:  93% (86/92)\u001b[K\rremote: Counting objects:  94% (87/92)\u001b[K\rremote: Counting objects:  95% (88/92)\u001b[K\rremote: Counting objects:  96% (89/92)\u001b[K\rremote: Counting objects:  97% (90/92)\u001b[K\rremote: Counting objects:  98% (91/92)\u001b[K\rremote: Counting objects: 100% (92/92)\u001b[K\rremote: Counting objects: 100% (92/92), done.\u001b[K\n",
            "remote: Compressing objects:   1% (1/92)\u001b[K\rremote: Compressing objects:   2% (2/92)\u001b[K\rremote: Compressing objects:   3% (3/92)\u001b[K\rremote: Compressing objects:   4% (4/92)\u001b[K\rremote: Compressing objects:   5% (5/92)\u001b[K\rremote: Compressing objects:   6% (6/92)\u001b[K\rremote: Compressing objects:   7% (7/92)\u001b[K\rremote: Compressing objects:   8% (8/92)\u001b[K\rremote: Compressing objects:   9% (9/92)\u001b[K\rremote: Compressing objects:  10% (10/92)\u001b[K\rremote: Compressing objects:  11% (11/92)\u001b[K\rremote: Compressing objects:  13% (12/92)\u001b[K\rremote: Compressing objects:  14% (13/92)\u001b[K\rremote: Compressing objects:  15% (14/92)\u001b[K\rremote: Compressing objects:  16% (15/92)\u001b[K\rremote: Compressing objects:  17% (16/92)\u001b[K\rremote: Compressing objects:  18% (17/92)\u001b[K\rremote: Compressing objects:  19% (18/92)\u001b[K\rremote: Compressing objects:  20% (19/92)\u001b[K\rremote: Compressing objects:  21% (20/92)\u001b[K\rremote: Compressing objects:  22% (21/92)\u001b[K\rremote: Compressing objects:  23% (22/92)\u001b[K\rremote: Compressing objects:  25% (23/92)\u001b[K\rremote: Compressing objects:  26% (24/92)\u001b[K\rremote: Compressing objects:  27% (25/92)\u001b[K\rremote: Compressing objects:  28% (26/92)\u001b[K\rremote: Compressing objects:  29% (27/92)\u001b[K\rremote: Compressing objects:  30% (28/92)\u001b[K\rremote: Compressing objects:  31% (29/92)\u001b[K\rremote: Compressing objects:  32% (30/92)\u001b[K\rremote: Compressing objects:  33% (31/92)\u001b[K\rremote: Compressing objects:  34% (32/92)\u001b[K\rremote: Compressing objects:  35% (33/92)\u001b[K\rremote: Compressing objects:  36% (34/92)\u001b[K\rremote: Compressing objects:  38% (35/92)\u001b[K\rremote: Compressing objects:  39% (36/92)\u001b[K\rremote: Compressing objects:  40% (37/92)\u001b[K\rremote: Compressing objects:  41% (38/92)\u001b[K\rremote: Compressing objects:  42% (39/92)\u001b[K\rremote: Compressing objects:  43% (40/92)\u001b[K\rremote: Compressing objects:  44% (41/92)\u001b[K\rremote: Compressing objects:  45% (42/92)\u001b[K\rremote: Compressing objects:  46% (43/92)\u001b[K\rremote: Compressing objects:  47% (44/92)\u001b[K\rremote: Compressing objects:  48% (45/92)\u001b[K\rremote: Compressing objects:  50% (46/92)\u001b[K\rremote: Compressing objects:  51% (47/92)\u001b[K\rremote: Compressing objects:  52% (48/92)\u001b[K\rremote: Compressing objects:  53% (49/92)\u001b[K\rremote: Compressing objects:  54% (50/92)\u001b[K\rremote: Compressing objects:  55% (51/92)\u001b[K\rremote: Compressing objects:  56% (52/92)\u001b[K\rremote: Compressing objects:  57% (53/92)\u001b[K\rremote: Compressing objects:  58% (54/92)\u001b[K\rremote: Compressing objects:  59% (55/92)\u001b[K\rremote: Compressing objects:  60% (56/92)\u001b[K\rremote: Compressing objects:  61% (57/92)\u001b[K\rremote: Compressing objects:  63% (58/92)\u001b[K\rremote: Compressing objects:  64% (59/92)\u001b[K\rremote: Compressing objects:  65% (60/92)\u001b[K\rremote: Compressing objects:  66% (61/92)\u001b[K\rremote: Compressing objects:  67% (62/92)\u001b[K\rremote: Compressing objects:  68% (63/92)\u001b[K\rremote: Compressing objects:  69% (64/92)\u001b[K\rremote: Compressing objects:  70% (65/92)\u001b[K\rremote: Compressing objects:  71% (66/92)\u001b[K\rremote: Compressing objects:  72% (67/92)\u001b[K\rremote: Compressing objects:  73% (68/92)\u001b[K\rremote: Compressing objects:  75% (69/92)\u001b[K\rremote: Compressing objects:  76% (70/92)\u001b[K\rremote: Compressing objects:  77% (71/92)\u001b[K\rremote: Compressing objects:  78% (72/92)\u001b[K\rremote: Compressing objects:  79% (73/92)\u001b[K\rremote: Compressing objects:  80% (74/92)\u001b[K\rremote: Compressing objects:  81% (75/92)\u001b[K\rremote: Compressing objects:  82% (76/92)\u001b[K\rremote: Compressing objects:  83% (77/92)\u001b[K\rremote: Compressing objects:  84% (78/92)\u001b[K\rremote: Compressing objects:  85% (79/92)\u001b[K\rremote: Compressing objects:  86% (80/92)\u001b[K\rremote: Compressing objects:  88% (81/92)\u001b[K\rremote: Compressing objects:  89% (82/92)\u001b[K\rremote: Compressing objects:  90% (83/92)\u001b[K\rremote: Compressing objects:  91% (84/92)\u001b[K\rremote: Compressing objects:  92% (85/92)\u001b[K\rremote: Compressing objects:  93% (86/92)\u001b[K\rremote: Compressing objects:  94% (87/92)\u001b[K\rremote: Compressing objects:  95% (88/92)\u001b[K\rremote: Compressing objects:  96% (89/92)\u001b[K\rremote: Compressing objects:  97% (90/92)\u001b[K\rremote: Compressing objects:  98% (91/92)\u001b[K\rremote: Compressing objects: 100% (92/92)\u001b[K\rremote: Compressing objects: 100% (92/92), done.\u001b[K\n",
            "Receiving objects:   0% (1/279)   \rReceiving objects:   1% (3/279)   \rReceiving objects:   2% (6/279)   \rReceiving objects:   3% (9/279)   \rReceiving objects:   4% (12/279)   \rReceiving objects:   5% (14/279)   \rReceiving objects:   6% (17/279)   \rReceiving objects:   7% (20/279)   \rReceiving objects:   8% (23/279)   \rReceiving objects:   9% (26/279)   \rReceiving objects:  10% (28/279)   \rReceiving objects:  11% (31/279)   \rReceiving objects:  12% (34/279)   \rReceiving objects:  13% (37/279)   \rReceiving objects:  14% (40/279)   \rReceiving objects:  15% (42/279)   \rReceiving objects:  16% (45/279)   \rReceiving objects:  17% (48/279)   \rReceiving objects:  18% (51/279)   \rReceiving objects:  19% (54/279)   \rReceiving objects:  20% (56/279)   \rReceiving objects:  21% (59/279)   \rReceiving objects:  22% (62/279)   \rReceiving objects:  23% (65/279)   \rReceiving objects:  24% (67/279)   \rReceiving objects:  25% (70/279)   \rReceiving objects:  26% (73/279)   \rReceiving objects:  27% (76/279)   \rReceiving objects:  28% (79/279)   \rReceiving objects:  29% (81/279)   \rReceiving objects:  30% (84/279)   \rReceiving objects:  31% (87/279)   \rReceiving objects:  32% (90/279)   \rReceiving objects:  33% (93/279)   \rReceiving objects:  34% (95/279)   \rReceiving objects:  35% (98/279)   \rReceiving objects:  36% (101/279)   \rReceiving objects:  37% (104/279)   \rReceiving objects:  38% (107/279)   \rReceiving objects:  39% (109/279)   \rReceiving objects:  40% (112/279)   \rReceiving objects:  41% (115/279)   \rReceiving objects:  42% (118/279)   \rReceiving objects:  43% (120/279)   \rReceiving objects:  44% (123/279)   \rReceiving objects:  45% (126/279)   \rReceiving objects:  46% (129/279)   \rReceiving objects:  47% (132/279)   \rReceiving objects:  48% (134/279)   \rReceiving objects:  49% (137/279)   \rReceiving objects:  50% (140/279)   \rReceiving objects:  51% (143/279)   \rReceiving objects:  52% (146/279)   \rReceiving objects:  53% (148/279)   \rReceiving objects:  54% (151/279)   \rReceiving objects:  55% (154/279)   \rReceiving objects:  56% (157/279)   \rReceiving objects:  57% (160/279)   \rReceiving objects:  58% (162/279)   \rReceiving objects:  59% (165/279)   \rReceiving objects:  60% (168/279)   \rReceiving objects:  61% (171/279)   \rReceiving objects:  62% (173/279)   \rReceiving objects:  63% (176/279)   \rReceiving objects:  64% (179/279)   \rReceiving objects:  65% (182/279)   \rReceiving objects:  66% (185/279)   \rReceiving objects:  67% (187/279)   \rReceiving objects:  68% (190/279)   \rReceiving objects:  69% (193/279)   \rReceiving objects:  70% (196/279)   \rReceiving objects:  71% (199/279)   \rReceiving objects:  72% (201/279)   \rReceiving objects:  73% (204/279)   \rReceiving objects:  74% (207/279)   \rReceiving objects:  75% (210/279)   \rReceiving objects:  76% (213/279)   \rReceiving objects:  77% (215/279)   \rReceiving objects:  78% (218/279)   \rReceiving objects:  79% (221/279)   \rReceiving objects:  80% (224/279)   \rReceiving objects:  81% (226/279)   \rReceiving objects:  82% (229/279)   \rReceiving objects:  83% (232/279)   \rremote: Total 279 (delta 45), reused 0 (delta 0), pack-reused 187\u001b[K\n",
            "Receiving objects:  84% (235/279)   \rReceiving objects:  85% (238/279)   \rReceiving objects:  86% (240/279)   \rReceiving objects:  87% (243/279)   \rReceiving objects:  88% (246/279)   \rReceiving objects:  89% (249/279)   \rReceiving objects:  90% (252/279)   \rReceiving objects:  91% (254/279)   \rReceiving objects:  92% (257/279)   \rReceiving objects:  93% (260/279)   \rReceiving objects:  94% (263/279)   \rReceiving objects:  95% (266/279)   \rReceiving objects:  96% (268/279)   \rReceiving objects:  97% (271/279)   \rReceiving objects:  98% (274/279)   \rReceiving objects:  99% (277/279)   \rReceiving objects: 100% (279/279)   \rReceiving objects: 100% (279/279), 300.55 KiB | 3.90 MiB/s, done.\n",
            "Resolving deltas:   0% (0/157)   \rResolving deltas:  21% (34/157)   \rResolving deltas:  39% (62/157)   \rResolving deltas:  40% (64/157)   \rResolving deltas:  46% (73/157)   \rResolving deltas:  52% (83/157)   \rResolving deltas:  70% (111/157)   \rResolving deltas:  73% (115/157)   \rResolving deltas:  85% (134/157)   \rResolving deltas:  92% (145/157)   \rResolving deltas:  96% (151/157)   \rResolving deltas:  99% (156/157)   \rResolving deltas: 100% (157/157)   \rResolving deltas: 100% (157/157), done.\n",
            "/content/optim_raianars_Insight/ANN_read_matrix/optim_raianars_Insight/optim_raianars_Insight/ANN_read_matrix/optim_raianars_Insight/optim_raianars_Insight/ANN_read_matrix/optim_raianars_Insight/optim_raianars_Insight/ANN_read_matrix/optim_raianars_Insight\n"
          ],
          "name": "stdout"
        }
      ]
    },
    {
      "cell_type": "code",
      "metadata": {
        "id": "nqtBEIg4GlZS"
      },
      "source": [
        "############################### Importar bibliotecas e iniciar a contagem do tempo\n",
        "import time\n",
        "import matplotlib.pyplot as plt\n",
        "import numpy as np\n",
        "from random import randint\n",
        "from scipy import optimize\n",
        "\n",
        "############################### Função\n",
        "import Function\n",
        "\n",
        "'''\n",
        "Fun=Function.Rosenbrock\n",
        "dim=30\n",
        "MAX=np.repeat(10,dim)\n",
        "MIN=np.repeat(-10,dim)\n",
        "  #Global optimum: f(xi)= 0\n",
        "'''\n",
        "'''\n",
        "dim=10\n",
        "Fun=Function.Sphere\n",
        "MAX=np.repeat(5.12,dim)\n",
        "MIN=np.repeat(-5.12,dim)\n",
        "  # f(x)=0 x=(0,0) [-5.12,5.12]\n",
        "'''\n",
        "'''\n",
        "dim=10\n",
        "Fun=Function.Schwefel\n",
        "MAX=np.repeat(500,dim)\n",
        "MIN=np.repeat(-500,dim)\n",
        "  #Global optimum: f(xi)= 0 for xi = 420.968746 for i=1,...,n  ;  xi in [-500,500]  \n",
        "'''\n",
        "'''\n",
        "dim=10\n",
        "Fun=Function.Rastrigin\n",
        "MAX=np.repeat(5.12,dim)\n",
        "MIN=np.repeat(-5.12,dim)\n",
        "  # f(x)=0 x=(0,0) [-5.12,5.12]\n",
        "'''\n",
        "'''\n",
        "dim=10\n",
        "Fun=Function.Sum_of_different_powers\n",
        "MAX=np.repeat(1,dim)\n",
        "MIN=np.repeat(-1,dim)\n",
        "  # f(x)=0 x=(0,0)\n",
        "'''\n",
        "'''  \n",
        "dim=10\n",
        "Fun=Function.Ackley\n",
        "MAX=np.repeat(32,dim)\n",
        "MIN=np.repeat(-32,dim)\n",
        " # f(x)=0 x=(0,0) [-32, 32]\n",
        "'''\n",
        "'''  \n",
        "dim=10\n",
        "Fun=Function.Michalewicz\n",
        "MAX=np.repeat(np.pi,dim)\n",
        "MIN=np.repeat(0,dim)\n",
        " #fx=-9.66015 p/ d=10 [0,pi]\n",
        "'''\n",
        "'''\n",
        "dim=10\n",
        "Fun=Function.Styblinskitank\n",
        "MAX=np.repeat(5,dim)\n",
        "MIN=np.repeat(-5,dim)\n",
        "  #fx= −39.16599∗n at x=(−2.903534,…,−2.903534) \n",
        "'''\n",
        "'''  \n",
        "dim=10\n",
        "Fun=Function.Zakharov\n",
        "MAX=np.repeat(10,dim)\n",
        "MIN=np.repeat(-5,dim)\n",
        " #fx=-9.66015 p/ d=10 [0,pi]\n",
        "'''\n",
        "'''  \n",
        "dim=10\n",
        "Fun=Function.ridge\n",
        "MAX=np.repeat(2,dim)\n",
        "MIN=np.repeat(-2,dim)\n",
        " #fx=-9.66015 p/ d=10 [0,pi]\n",
        "'''\n",
        "#'''  \n",
        "dim=10\n",
        "Fun=Function.HappyCat\n",
        "MAX=np.repeat(5,dim)\n",
        "MIN=np.repeat(-5,dim)\n",
        " #fx=\n",
        "#'''\n",
        "#####################################\n",
        "PAR=len(MAX) #NUM DE PARAMETROS A SER OTIMIZADOS"
      ],
      "execution_count": null,
      "outputs": []
    },
    {
      "cell_type": "code",
      "metadata": {
        "id": "BDMwd41C5ahQ"
      },
      "source": [
        "def GeraIndices(X,BESTo,FOBESTo,DIo,MAT_INDo,SOMA,TOTAL):\n",
        "  global fields, Go2Ann, Fc\n",
        "  global syn0_F,syn1_F,X_max_F,X_min_F\n",
        "  global syn0_CR,syn1_CR,X_max_CR,X_min_CR\n",
        "  nrow,ncol=X.shape\n",
        "  FOBESTm=1e99\n",
        "  Fo=MAT_INDo[0,6]    # VALOR Fo   \n",
        "  CRo=MAT_INDo[0,7]   # VALOR CRo\n",
        "  QUANT=17 # quantos indices esta fazendo\n",
        "  MAT_IND=np.zeros((1,QUANT))\n",
        "\n",
        "  REF=0.1 # REFERENCIA DE DIFERENCAS ENTRE OS ELEMENTOS\n",
        "  \n",
        "  XY,BEST_XY,BEST,FOBEST=AvaliaX(X)\n",
        "  soma=0\n",
        "  for j in range(ncol):\n",
        "    for i in range(nrow):\n",
        "        Xj=np.mean(X[:,j])\n",
        "        soma=soma+(X[i,j]-Xj)**2\n",
        "  DI=(soma/nrow)**0.5\n",
        "  DIr=DI/DIo\n",
        "  MAT_IND[0,0]=DI #dispersao\n",
        "  MAT_IND[0,1]=DIr # dispersao relativa\n",
        "  MAT_IND[0,2]=SOMA/TOTAL # fracao relativa\n",
        "\n",
        "  V1=FOBESTo\n",
        "  V2=FOBEST\n",
        "  A=2*V2\n",
        "  if(V1 > A):\n",
        "    MAT_IND[0,3]=2 # o valor de fobj torna pelo menos duas vezes melhor\n",
        "  elif (V2==V1):\n",
        "    MAT_IND[0,3]=0 # o valor de fobj nao altera\n",
        "  else:\n",
        "    MAT_IND[0,3]=1 # o valor de fobj melhora mas menos que duas vezes\n",
        "  \n",
        "  # MAT_IND[0,4]  # VELOC X\n",
        "  DELTA=np.amax(abs(BEST-BESTo))\n",
        "  if( DELTA >REF):\n",
        "    MAT_IND[0,4]=2 # difere  for i in range(1,len(PARTIC)):\n",
        "  elif ( DELTA == 0):\n",
        "    MAT_IND[0,4]=0 # sem diferenca entre as posicoes do xbest entre duas buscas\n",
        "  else:\n",
        "    MAT_IND[0,4]=1 # diferenca entre as posicoes  do xbest menor que ref\n",
        "  \n",
        "  MAT_IND[0,5]=nrow  # VALOR NP\n",
        "  nrow,ncol=XY.shape\n",
        "  MAT_IND[0,8]=XY[0,(ncol-1)] # VALOR fmin\n",
        "  MAT_IND[0,9]=XY[(nrow-1),(ncol-1)] # VALOR fmax\n",
        "  # MAT_IND[0,10] # Valor AD_fmin \n",
        "  if abs(MAT_IND[0,8]/MAT_IND[0,8])>1:\n",
        "    MAT_IND[0,10]=1/abs(MAT_IND[0,8])\n",
        "  else:\n",
        "    MAT_IND[0,10]=MAT_IND[0,8]/MAT_IND[0,8]\n",
        "  # MAT_IND[0,11] # Valor AD_fmax\n",
        "  if abs(MAT_IND[0,9]/MAT_IND[0,9])>1: # tem que pegar primeira\n",
        "    MAT_IND[0,11]=1/abs(MAT_IND[0,9]) # tem que pegar primeira\n",
        "  else:\n",
        "    MAT_IND[0,11]=MAT_IND[0,9]/MAT_IND[0,9] # tem que pegar do anterior\n",
        "\n",
        "  # MAT_IND[0,12] # DELTA Fobj\n",
        "  MAT_IND[0,12]=MAT_IND[0,3]-MAT_IND[0,3]  # tem que pegar do anterior\n",
        "  \n",
        "\n",
        "  # MAT_IND[0,13] # DELTA Vx\n",
        "  MAT_IND[0,13]=MAT_IND[0,4]-MAT_IND[0,4]  # tem que pegar do anterior\n",
        "\n",
        "  # MAT_IND[0,14] # r_fitness\n",
        "  Fmin=0.05\n",
        "  if (MAT_IND[0,8]==0):\n",
        "    MAT_IND[0,14]=Fmin\n",
        "  elif (MAT_IND[0,9]==0):\n",
        "    MAT_IND[0,14]=Fmin\n",
        "  else:\n",
        "    if abs(MAT_IND[0,9]/MAT_IND[0,8])<1:\n",
        "      MAT_IND[0,14]=1-abs(MAT_IND[0,9]/MAT_IND[0,8])\n",
        "    else:\n",
        "      MAT_IND[0,14]=1-abs(MAT_IND[0,8]/MAT_IND[0,9])\n",
        "\n",
        "  MAT_IND[0,6]=Fo\n",
        "  MAT_IND[0,7]=CRo\n",
        "\n",
        "  # comecando a rede!!!\n",
        "  #['DI RELATIVO', 'FRAC Its', 'Fo', 'CRo'] VALORES A USAR\n",
        "  #MAT_IND[0,1]=DIr # dispersao relativa\n",
        "  #MAT_IND[0,2]=SOMA/TOTAL # fracao relativa\n",
        "  #MAT_IND[0,6]=Fo\n",
        "  #MAT_IND[0,7]=CRo\n",
        "  \n",
        "  x_train=MAT_INDo[0,[1,2,6,7]]\n",
        "  x_train=pd.DataFrame(x_train).T\n",
        "\n",
        "  nrow,ncol=ANN_F.shape\n",
        "  x_train=Go2Ann.Normatiza(x_train,X_max_F,X_min_F)\n",
        "  y_calc_F=Go2Ann.ANN_ycal(syn0_F,syn1_F,x_train)\n",
        "  y_calc_CR=Go2Ann.ANN_ycal(syn0_CR,syn1_CR,x_train)\n",
        "  #print(x_train);\n",
        "  #print(y_calc);\n",
        "  y_cod_F=Go2Ann.Classifica(y_calc_F)\n",
        "  y_cod_CR=Go2Ann.Classifica(y_calc_CR)\n",
        "\n",
        "  Fd=DIr\n",
        "  CRa=np.copy(CRo)\n",
        "  Fa=np.copy(Fo)\n",
        "\n",
        "  if(y_cod_F>0):\n",
        "    Fo=Fo*(1+Fd) #Fo=Fo+Fc\n",
        "    Fo=(3*Fo+Fa)/4 # para suavizar\n",
        "    if(Fo<Fa):\n",
        "      Fo=Fa+0.05\n",
        "    if(Fo<Fa): # conferir a necessidade de melhorar \n",
        "      Fo=Fa+0.05\n",
        "  else:\n",
        "    Fo=Fo*(1-Fd) #Fo=Fo-Fc\n",
        "  \n",
        "  if(y_cod_CR>0):\n",
        "    CRo=CRo*(1+Fd) #CRo=CRo+Fc\n",
        "    CRo=(3*CRo+CRa)/4 # para suavizar\n",
        "    if(CRo<CRa):  # conferir a necessidade de melhorar \n",
        "      CRo=CRa+0.05\n",
        "  else:\n",
        "    CRo=CRo*(1-Fd);#CRo=CRo-Fc\n",
        "  \n",
        "  if(CRo<Fc):\n",
        "    CRo=(CRo+CRa)/2 # conferir a necessidade de melhorar\n",
        "  if(CRo> 1):\n",
        "    CRo=1\n",
        "\n",
        "  if(Fo<Fc):\n",
        "    Fo=(Fa+Fo)/2  # conferir a necessidade de melhorar\n",
        "  if(Fo> 1):\n",
        "    Fo=1\n",
        "  \n",
        "  CRo=(2*CRo+CRa)/3 # para suavizar\n",
        "  \n",
        "  MAT_IND[0,15]=Fo # valor de F que sai da rede\n",
        "  MAT_IND[0,16]=CRo # valor de CR que sai da rede\n",
        "  #print(confusion_matrix(y_quali,y_obs_test))\n",
        "  \n",
        "  return MAT_IND\n",
        "\n"
      ],
      "execution_count": null,
      "outputs": []
    },
    {
      "cell_type": "code",
      "metadata": {
        "id": "6jL8MxpHvk-Y"
      },
      "source": [
        "fields = ['DI RELATIVO','FRAC Its','Fo','CRo']"
      ],
      "execution_count": null,
      "outputs": []
    },
    {
      "cell_type": "code",
      "metadata": {
        "id": "Mb3LmbSmj9v7"
      },
      "source": [
        "##################################### \n",
        "\n",
        "#TOTAL=7*dim*its*ITE\n",
        "TOTAL=10*dim*its*ITE\n",
        "\n",
        "dimensions=len(MAX)\n",
        "start_time = time.time() #INICIALIZA CONTAGEM DO TEMPO\n",
        "\n",
        "p=int(TOTAL/its/ITE) \n",
        "NPAR=p\n",
        "\n",
        "MAX_P=np.zeros(ITE) # ATENCAO para variar F e Cr MAX_P passa a ser 3 vezes maior\n",
        "MIN_P=np.zeros(ITE) # ATENCAO para variar F e Cr MIN_P passa a ser 3 vezes maior\n",
        "\n",
        "for i in range(dim):\n",
        "  MAX_P[i]=MAX[i] \n",
        "  MIN_P[i]=MIN[i]\n",
        "\n",
        "rodadas=1\n",
        "for i in range(rodadas):\n",
        "  SOMA=0\n",
        "  pop = np.random.rand(NPAR, dimensions)\n",
        "  diff=np.zeros(PAR)\n",
        "  for ii in range(PAR):\n",
        "    diff[ii] = MAX[ii]-MIN[ii]\n",
        "  X = MIN + pop * diff\n",
        "    \n",
        "  PONTOS=ITE # DIVISOES DA POPULACAO\n",
        " \n",
        " ############################################################\n",
        "  #bounds=[(5*dim, 15*dim)] * PONTOS # ITE\n",
        "  #bounds=[(3*dim, 12*dim)] * PONTOS # ITE\n",
        "  #bounds=[(4*dim, 16*dim)] * PONTOS\n",
        "  \n",
        "  # nao pode ser assim pq o bounds vale p o DE nao dos parametros\n",
        "  #p=int(TOTAL/its/ITE) \n",
        "  bounds=[(p, p)] * PONTOS\n",
        "\n",
        "\n",
        "  DIo=1e99\n",
        "  \n",
        "  CRo=crossp;Fo=mut;\n",
        "  #Xo=np.copy(X)\n",
        "  XY,BEST_XY,BESTo,FOBESTo=AvaliaX(X)\n",
        "  nrow,ncol=X.shape\n",
        "\n",
        "  QUANT=17;MAT_INDo=np.zeros((1,QUANT)); # quantos indices esta fazendo\n",
        "  MAT_INDo[0,5]=nrow  # VALOR NP\n",
        "  MAT_INDo[0,6]=Fo    # VALOR Fo   \n",
        "  MAT_INDo[0,7]=CRo   # VALOR CRo\n",
        "  \n",
        "  MAT_INDo=GeraIndices(X,BESTo,FOBESTo,DIo,MAT_INDo,SOMA,TOTAL)\n",
        "  \n",
        "  DIo=np.copy(MAT_INDo[0,0])\n",
        "  pd.set_option('display.max_columns', 30)  \n",
        "  MAT_INDo[0,15]=Fo    # VALOR Fo   \n",
        "  MAT_INDo[0,16]=CRo   # VALOR CRo\n",
        "  MAT=[]\n",
        "  for loop in range(ITE):\n",
        "    X,BEST,FOBEST,XY,BEST_XY,SOMA= de_soma_Insight.de(MAX,MIN, mut, crossp,NPAR,\n",
        "                                                      its,Fun,X,SOMA,TOTAL)\n",
        "    \n",
        "    MAT_IND=GeraIndices(X,BESTo,FOBESTo,DIo,MAT_INDo,SOMA,TOTAL)\n",
        "    \n",
        "    BESTo=np.copy(BEST);FOBESTo=np.copy(FOBEST);\n",
        "    MAT.append(MAT_IND.ravel())\n",
        "    \n",
        "    MAT_INDo[0,6]=MAT_IND[0,15]   # VALOR Fo   \n",
        "    MAT_INDo[0,7]=MAT_IND[0,16]   # VALOR CRo\n",
        "    \n",
        "NOMES=['DIVERSIDADE (DI)',  'DI RELATIVO','FRAC Its',\n",
        "           'VELOC FOBJ','VELOC X','NP','Fo','CRo','fmin','fmax',\n",
        "           'AD_fmin','AD_fmax','DELTA FOBJ','DELTA VX','r_fitness',\n",
        "           'F','CR']\n",
        "df  = pd.DataFrame(MAT, columns=NOMES)\n",
        "pd.set_option('display.max_columns', 30)\n",
        "pd.set_option('display.max_rows', 30)\n"
      ],
      "execution_count": null,
      "outputs": []
    },
    {
      "cell_type": "code",
      "metadata": {
        "id": "htooaGpDia_0",
        "colab": {
          "base_uri": "https://localhost:8080/",
          "height": 312
        },
        "outputId": "f2b8892c-b001-47ad-e0e7-44325d866eaf"
      },
      "source": [
        "f, axarr = plt.subplots(2, sharex=True)\n",
        "axarr[0].plot(df['FRAC Its'],df['F'])\n",
        "axarr[0].set_ylabel('F')\n",
        "axarr[1].plot(df['FRAC Its'],df['CR'])\n",
        "axarr[1].set_ylabel('CR')\n",
        "axarr[1].set_xlabel('Iteração/Total')\n",
        "nome=Fun.__name__+'_Diversidade_'+ 'D='+str(dim)\n",
        "axarr[0].set_title(nome)"
      ],
      "execution_count": null,
      "outputs": [
        {
          "output_type": "execute_result",
          "data": {
            "text/plain": [
              "Text(0.5, 1.0, 'HappyCat_Diversidade_D=10')"
            ]
          },
          "metadata": {
            "tags": []
          },
          "execution_count": 86
        },
        {
          "output_type": "display_data",
          "data": {
            "image/png": "[encoded data removed]",
            "text/plain": [
              "<Figure size 432x288 with 2 Axes>"
            ]
          },
          "metadata": {
            "tags": [],
            "needs_background": "light"
          }
        }
      ]
    },
    {
      "cell_type": "code",
      "metadata": {
        "id": "BvPFvbDvteDC",
        "colab": {
          "base_uri": "https://localhost:8080/",
          "height": 295
        },
        "outputId": "6afe8582-5c35-4ad0-e42b-76b7f175ddc2"
      },
      "source": [
        "fig, ax = plt.subplots()\n",
        "ax.plot(df['FRAC Its'],df['F'],label='F')\n",
        "ax.set_xlabel('Iteração/Total')\n",
        "ax.set_ylabel('Parâmetros')\n",
        "ax.plot(df['FRAC Its'],df['CR'],'-r', label='CR')\n",
        "nome=Fun.__name__+'  M=Diversidade'+ '  D='+str(dim)\n",
        "ax.set_title(nome)\n",
        "leg = ax.legend()"
      ],
      "execution_count": null,
      "outputs": [
        {
          "output_type": "display_data",
          "data": {
            "image/png": "[encoded data removed]",
            "text/plain": [
              "<Figure size 432x288 with 1 Axes>"
            ]
          },
          "metadata": {
            "tags": [],
            "needs_background": "light"
          }
        }
      ]
    },
    {
      "cell_type": "code",
      "metadata": {
        "id": "LRYu0M6Bt9oM",
        "colab": {
          "base_uri": "https://localhost:8080/",
          "height": 298
        },
        "outputId": "3daf8776-5431-43ff-da60-e89c6da21593"
      },
      "source": [
        "plt.plot(df['FRAC Its'],df['CR'])\n",
        "plt.xlabel('Iteração/Total')\n",
        "plt.ylabel('CR')"
      ],
      "execution_count": null,
      "outputs": [
        {
          "output_type": "execute_result",
          "data": {
            "text/plain": [
              "Text(0, 0.5, 'CR')"
            ]
          },
          "metadata": {
            "tags": []
          },
          "execution_count": 88
        },
        {
          "output_type": "display_data",
          "data": {
            "image/png": "[encoded data removed]",
            "text/plain": [
              "<Figure size 432x288 with 1 Axes>"
            ]
          },
          "metadata": {
            "tags": [],
            "needs_background": "light"
          }
        }
      ]
    },
    {
      "cell_type": "code",
      "metadata": {
        "id": "gdrDbrxpoJce"
      },
      "source": [
        "F=list(df['F'])\n",
        "CR=list(df['CR'])\n",
        "PARTIC=F+CR\n",
        "#print(PARTIC)\n",
        "#print(len(PARTIC))"
      ],
      "execution_count": null,
      "outputs": []
    },
    {
      "cell_type": "code",
      "metadata": {
        "id": "c9WOFolTpODy"
      },
      "source": [
        "m=10 # Multiplicador do número de avaliações FO\n",
        "NPAR=m*dim\n",
        "ITE=int((len(PARTIC))/2) # PONTOS quantas vezes vai alteral NPAR\n",
        "its=int(100/ITE) # quantas vezes vai usar o NPAR antes de alterar de novo\n",
        "TOTAL=m*dim*its*ITE # Avaliações FO"
      ],
      "execution_count": null,
      "outputs": []
    },
    {
      "cell_type": "code",
      "metadata": {
        "id": "rnX8ttNopd1G"
      },
      "source": [
        "NMAX=900 # maximo tamanho gerar populacao\n",
        "\n",
        "start_time = time.time()\n",
        "BEST_AGENTS=[]\n",
        "\n",
        "for i in range(RUNS):  \n",
        "    SOMA=0\n",
        "    pop = np.random.rand(NMAX, dim)\n",
        "    diff=np.zeros(PAR)\n",
        "    for ii in range(PAR):\n",
        "      diff[ii] = MAX[ii]-MIN[ii]\n",
        "    X = MIN + pop * diff\n",
        "   \n",
        "    ind_crossp=ITE-1\n",
        "    for k in range(ITE):\n",
        "      ind_crossp=ind_crossp+1\n",
        "      mut=np.copy(PARTIC[ITE])\n",
        "      crossp=np.copy(PARTIC[ind_crossp])\n",
        "      #print(crossp)\n",
        "      X,BEST,FOBEST,XY,BEST_XY,SOMA= de_soma_Insight.de(MAX,MIN, mut, crossp, NPAR, its,Fun,X,SOMA,TOTAL)\n",
        "     \n",
        "    BEST_AGENTS.append(BEST_XY)\n",
        "    #print(\"GlobalParam e Solucao:\", BEST,\"Funcao=\",FOBEST)\n",
        "    \n",
        "############################## Cálculo dos Parâmetros de Avaliação   \n",
        "TIME = (time.time() - start_time)/RUNS\n",
        "BEST_AGENTS=np.array(BEST_AGENTS)\n",
        "BEST_AGENTS_ST= BEST_AGENTS[BEST_AGENTS[:,-1].argsort()]\n",
        "BEST=BEST_AGENTS_ST[0]\n",
        "WORSE=BEST_AGENTS_ST[-1]\n",
        "MEAN=np.mean(BEST_AGENTS,axis=0)\n",
        "MAXFO=BEST_AGENTS[:,-1].max()\n",
        "MINFO=BEST_AGENTS[:,-1].min()\n",
        "STD=BEST_AGENTS[:,-1].std()"
      ],
      "execution_count": null,
      "outputs": []
    },
    {
      "cell_type": "code",
      "metadata": {
        "id": "lNSN5X-wskcx",
        "colab": {
          "base_uri": "https://localhost:8080/",
          "height": 221
        },
        "outputId": "e9a2a04d-75ad-4c3b-d1d3-10b2f05b6f4b"
      },
      "source": [
        "nome='_ANN_Div3x4_Fo-'+str(Fi)+'_CRo-'+str(CRi)+'_D-'+str(dim)+'_Interv-'+str(ITE)\n",
        "print('DE_POP_VAR_F_CR','TOTAL=',TOTAL,'Iterações=',ITE*its,'Dim=', PAR,\"Min/Max=\",MIN[0],\"/\",MAX[0],'_',Fun.__name__)\n",
        "print(nome, '\\n')\n",
        "#print('BEST: ',BEST)\n",
        "#print('MÉDIA: ',MEAN)\n",
        "print('MÉDIA: ',MEAN[-1])\n",
        "print('MIN __:',MINFO)\n",
        "print('MAX__: ',MAXFO)\n",
        "print('STD __:',STD)\n",
        "print(\"Tempo Médio= %.3f segundos ---\" % (TIME))\n",
        "print(RUNS,'Rodadas') \n",
        "print()\n",
        "print('BEST: ',BEST)"
      ],
      "execution_count": null,
      "outputs": [
        {
          "output_type": "stream",
          "text": [
            "DE_POP_VAR_F_CR TOTAL= 10000 Iterações= 100 Dim= 10 Min/Max= -5 / 5 _ HappyCat\n",
            "_ANN_Div3x4_Fo-0.5_CRo-0.5_D-10_Interv-100 \n",
            "\n",
            "MÉDIA:  0.28831587426265176\n",
            "MIN __: 0.13564778402557498\n",
            "MAX__:  0.3877690439948408\n",
            "STD __: 0.05723511926134413\n",
            "Tempo Médio= 1.605 segundos ---\n",
            "50 Rodadas\n",
            "\n",
            "BEST:  [-0.97784983 -0.98546075 -0.60280943 -0.25974357 -1.07401929 -0.59421374\n",
            " -1.70376704 -1.16971438 -0.87668566 -1.04669685  0.13564778]\n"
          ],
          "name": "stdout"
        }
      ]
    }
  ]
}
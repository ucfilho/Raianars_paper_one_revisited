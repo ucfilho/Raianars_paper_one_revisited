{
  "nbformat": 4,
  "nbformat_minor": 0,
  "metadata": {
    "colab": {
      "name": "d30_Frannk_2000_dixon_price_function_0_5_0_5.ipynb",
      "provenance": [],
      "collapsed_sections": [],
      "include_colab_link": true
    },
    "kernelspec": {
      "name": "python3",
      "display_name": "Python 3"
    }
  },
  "cells": [
    {
      "cell_type": "markdown",
      "metadata": {
        "id": "view-in-github",
        "colab_type": "text"
      },
      "source": [
        "<a href=\"https://colab.research.google.com/github/ucfilho/Raianars_paper_one_revisited/blob/main/FRANK/d30_Frannk_2000_dixon_price_function_0_5_0_5.ipynb\" target=\"_parent\"><img src=\"https://colab.research.google.com/assets/colab-badge.svg\" alt=\"Open In Colab\"/></a>"
      ]
    },
    {
      "cell_type": "code",
      "metadata": {
        "id": "anFukot-ypn6"
      },
      "source": [
        "import numpy as np\n",
        "import pandas as pd\n",
        "import time"
      ],
      "execution_count": 1,
      "outputs": []
    },
    {
      "cell_type": "code",
      "metadata": {
        "id": "6Oh714_-z1Ia",
        "colab": {
          "base_uri": "https://localhost:8080/"
        },
        "outputId": "5d8f47bf-93eb-4a73-a7b5-693ed0c94119"
      },
      "source": [
        "#!git clone https://github.com/ucfilho/Raianars_July_2020 #clonar do Github\n",
        "#%cd Raianars_July_2020\n",
        "############################### Importar códigos\n",
        "!git clone https://github.com/ucfilho/optim_raianars_Insight\n",
        "%cd optim_raianars_Insight"
      ],
      "execution_count": 2,
      "outputs": [
        {
          "output_type": "stream",
          "text": [
            "Cloning into 'optim_raianars_Insight'...\n",
            "remote: Enumerating objects: 378, done.\u001b[K\n",
            "remote: Counting objects: 100% (64/64), done.\u001b[K\n",
            "remote: Compressing objects: 100% (64/64), done.\u001b[K\n",
            "remote: Total 378 (delta 37), reused 0 (delta 0), pack-reused 314\u001b[K\n",
            "Receiving objects: 100% (378/378), 327.66 KiB | 6.69 MiB/s, done.\n",
            "Resolving deltas: 100% (218/218), done.\n",
            "/content/optim_raianars_Insight\n"
          ],
          "name": "stdout"
        }
      ]
    },
    {
      "cell_type": "code",
      "metadata": {
        "id": "LnzftXkky78A"
      },
      "source": [
        "import Go2Ann\n",
        "import de_soma_Insight\n",
        "import de_bounds_matriz\n",
        "from AvaliaX import AvaliaX\n",
        "from GeraIndices import GeraIndices"
      ],
      "execution_count": 3,
      "outputs": []
    },
    {
      "cell_type": "code",
      "metadata": {
        "id": "HNW92728z7fR"
      },
      "source": [
        "import Function\n",
        "import Go2MinMax"
      ],
      "execution_count": 4,
      "outputs": []
    },
    {
      "cell_type": "code",
      "metadata": {
        "id": "T_C-e7aH0CZH"
      },
      "source": [
        "ITE=2000 #10 # PONTOS quantas vezes vai alteral NPAR \n",
        "NPAR=100 # NUMBER OF PARTICLES\n",
        "dim=10\n",
        "RUNS=50\n"
      ],
      "execution_count": 5,
      "outputs": []
    },
    {
      "cell_type": "code",
      "metadata": {
        "colab": {
          "base_uri": "https://localhost:8080/"
        },
        "id": "_qrYAyiyMiyr",
        "outputId": "9ae86b36-bc9e-41c4-c53b-fa20b6ef6bdb"
      },
      "source": [
        "!git clone https://github.com/ucfilho/Raianars_Routines #clonar do Github\n",
        "%cd Raianars_Routines\n",
        "\n",
        "import FunctionsNew\n",
        "\n",
        "ITE=2000 #10 # PONTOS quantas vezes vai alteral NPAR \n",
        "NPAR=100 # NUMBER OF PARTICLES\n",
        "dim=30\n",
        "RUNS=50\n",
        "fchoice='dixon_price_function'  #MS\n",
        "Fun=Function.dixon_price_function\n",
        "\n",
        "MIN,MAX=Go2MinMax.Intervalo(dim,fchoice)\n",
        "bounds = [(0,0)]*dim\n",
        "\n",
        "for i in range(dim):\n",
        "  bounds[i] = (MIN[i],MAX[i])"
      ],
      "execution_count": 6,
      "outputs": [
        {
          "output_type": "stream",
          "text": [
            "Cloning into 'Raianars_Routines'...\n",
            "remote: Enumerating objects: 63, done.\u001b[K\n",
            "remote: Counting objects:   1% (1/63)\u001b[K\rremote: Counting objects:   3% (2/63)\u001b[K\rremote: Counting objects:   4% (3/63)\u001b[K\rremote: Counting objects:   6% (4/63)\u001b[K\rremote: Counting objects:   7% (5/63)\u001b[K\rremote: Counting objects:   9% (6/63)\u001b[K\rremote: Counting objects:  11% (7/63)\u001b[K\rremote: Counting objects:  12% (8/63)\u001b[K\rremote: Counting objects:  14% (9/63)\u001b[K\rremote: Counting objects:  15% (10/63)\u001b[K\rremote: Counting objects:  17% (11/63)\u001b[K\rremote: Counting objects:  19% (12/63)\u001b[K\rremote: Counting objects:  20% (13/63)\u001b[K\rremote: Counting objects:  22% (14/63)\u001b[K\rremote: Counting objects:  23% (15/63)\u001b[K\rremote: Counting objects:  25% (16/63)\u001b[K\rremote: Counting objects:  26% (17/63)\u001b[K\rremote: Counting objects:  28% (18/63)\u001b[K\rremote: Counting objects:  30% (19/63)\u001b[K\rremote: Counting objects:  31% (20/63)\u001b[K\rremote: Counting objects:  33% (21/63)\u001b[K\rremote: Counting objects:  34% (22/63)\u001b[K\rremote: Counting objects:  36% (23/63)\u001b[K\rremote: Counting objects:  38% (24/63)\u001b[K\rremote: Counting objects:  39% (25/63)\u001b[K\rremote: Counting objects:  41% (26/63)\u001b[K\rremote: Counting objects:  42% (27/63)\u001b[K\rremote: Counting objects:  44% (28/63)\u001b[K\rremote: Counting objects:  46% (29/63)\u001b[K\rremote: Counting objects:  47% (30/63)\u001b[K\rremote: Counting objects:  49% (31/63)\u001b[K\rremote: Counting objects:  50% (32/63)\u001b[K\rremote: Counting objects:  52% (33/63)\u001b[K\rremote: Counting objects:  53% (34/63)\u001b[K\rremote: Counting objects:  55% (35/63)\u001b[K\rremote: Counting objects:  57% (36/63)\u001b[K\rremote: Counting objects:  58% (37/63)\u001b[K\rremote: Counting objects:  60% (38/63)\u001b[K\rremote: Counting objects:  61% (39/63)\u001b[K\rremote: Counting objects:  63% (40/63)\u001b[K\rremote: Counting objects:  65% (41/63)\u001b[K\rremote: Counting objects:  66% (42/63)\u001b[K\rremote: Counting objects:  68% (43/63)\u001b[K\rremote: Counting objects:  69% (44/63)\u001b[K\rremote: Counting objects:  71% (45/63)\u001b[K\rremote: Counting objects:  73% (46/63)\u001b[K\rremote: Counting objects:  74% (47/63)\u001b[K\rremote: Counting objects:  76% (48/63)\u001b[K\rremote: Counting objects:  77% (49/63)\u001b[K\rremote: Counting objects:  79% (50/63)\u001b[K\rremote: Counting objects:  80% (51/63)\u001b[K\rremote: Counting objects:  82% (52/63)\u001b[K\rremote: Counting objects:  84% (53/63)\u001b[K\rremote: Counting objects:  85% (54/63)\u001b[K\rremote: Counting objects:  87% (55/63)\u001b[K\rremote: Counting objects:  88% (56/63)\u001b[K\rremote: Counting objects:  90% (57/63)\u001b[K\rremote: Counting objects:  92% (58/63)\u001b[K\rremote: Counting objects:  93% (59/63)\u001b[K\rremote: Counting objects:  95% (60/63)\u001b[K\rremote: Counting objects:  96% (61/63)\u001b[K\rremote: Counting objects:  98% (62/63)\u001b[K\rremote: Counting objects: 100% (63/63)\u001b[K\rremote: Counting objects: 100% (63/63), done.\u001b[K\n",
            "remote: Compressing objects:   1% (1/61)\u001b[K\rremote: Compressing objects:   3% (2/61)\u001b[K\rremote: Compressing objects:   4% (3/61)\u001b[K\rremote: Compressing objects:   6% (4/61)\u001b[K\rremote: Compressing objects:   8% (5/61)\u001b[K\rremote: Compressing objects:   9% (6/61)\u001b[K\rremote: Compressing objects:  11% (7/61)\u001b[K\rremote: Compressing objects:  13% (8/61)\u001b[K\rremote: Compressing objects:  14% (9/61)\u001b[K\rremote: Compressing objects:  16% (10/61)\u001b[K\rremote: Compressing objects:  18% (11/61)\u001b[K\rremote: Compressing objects:  19% (12/61)\u001b[K\rremote: Compressing objects:  21% (13/61)\u001b[K\rremote: Compressing objects:  22% (14/61)\u001b[K\rremote: Compressing objects:  24% (15/61)\u001b[K\rremote: Compressing objects:  26% (16/61)\u001b[K\rremote: Compressing objects:  27% (17/61)\u001b[K\rremote: Compressing objects:  29% (18/61)\u001b[K\rremote: Compressing objects:  31% (19/61)\u001b[K\rremote: Compressing objects:  32% (20/61)\u001b[K\rremote: Compressing objects:  34% (21/61)\u001b[K\rremote: Compressing objects:  36% (22/61)\u001b[K\rremote: Compressing objects:  37% (23/61)\u001b[K\rremote: Compressing objects:  39% (24/61)\u001b[K\rremote: Compressing objects:  40% (25/61)\u001b[K\rremote: Compressing objects:  42% (26/61)\u001b[K\rremote: Compressing objects:  44% (27/61)\u001b[K\rremote: Compressing objects:  45% (28/61)\u001b[K\rremote: Compressing objects:  47% (29/61)\u001b[K\rremote: Compressing objects:  49% (30/61)\u001b[K\rremote: Compressing objects:  50% (31/61)\u001b[K\rremote: Compressing objects:  52% (32/61)\u001b[K\rremote: Compressing objects:  54% (33/61)\u001b[K\rremote: Compressing objects:  55% (34/61)\u001b[K\rremote: Compressing objects:  57% (35/61)\u001b[K\rremote: Compressing objects:  59% (36/61)\u001b[K\rremote: Compressing objects:  60% (37/61)\u001b[K\rremote: Compressing objects:  62% (38/61)\u001b[K\rremote: Compressing objects:  63% (39/61)\u001b[K\rremote: Compressing objects:  65% (40/61)\u001b[K\rremote: Compressing objects:  67% (41/61)\u001b[K\rremote: Compressing objects:  68% (42/61)\u001b[K\rremote: Compressing objects:  70% (43/61)\u001b[K\rremote: Compressing objects:  72% (44/61)\u001b[K\rremote: Compressing objects:  73% (45/61)\u001b[K\rremote: Compressing objects:  75% (46/61)\u001b[K\rremote: Compressing objects:  77% (47/61)\u001b[K\rremote: Compressing objects:  78% (48/61)\u001b[K\rremote: Compressing objects:  80% (49/61)\u001b[K\rremote: Compressing objects:  81% (50/61)\u001b[K\rremote: Compressing objects:  83% (51/61)\u001b[K\rremote: Compressing objects:  85% (52/61)\u001b[K\rremote: Compressing objects:  86% (53/61)\u001b[K\rremote: Compressing objects:  88% (54/61)\u001b[K\rremote: Compressing objects:  90% (55/61)\u001b[K\rremote: Compressing objects:  91% (56/61)\u001b[K\rremote: Compressing objects:  93% (57/61)\u001b[K\rremote: Compressing objects:  95% (58/61)\u001b[K\rremote: Compressing objects:  96% (59/61)\u001b[K\rremote: Compressing objects:  98% (60/61)\u001b[K\rremote: Compressing objects: 100% (61/61)\u001b[K\rremote: Compressing objects: 100% (61/61), done.\u001b[K\n",
            "remote: Total 63 (delta 18), reused 0 (delta 0), pack-reused 0\u001b[K\n",
            "Unpacking objects:   1% (1/63)   \rUnpacking objects:   3% (2/63)   \rUnpacking objects:   4% (3/63)   \rUnpacking objects:   6% (4/63)   \rUnpacking objects:   7% (5/63)   \rUnpacking objects:   9% (6/63)   \rUnpacking objects:  11% (7/63)   \rUnpacking objects:  12% (8/63)   \rUnpacking objects:  14% (9/63)   \rUnpacking objects:  15% (10/63)   \rUnpacking objects:  17% (11/63)   \rUnpacking objects:  19% (12/63)   \rUnpacking objects:  20% (13/63)   \rUnpacking objects:  22% (14/63)   \rUnpacking objects:  23% (15/63)   \rUnpacking objects:  25% (16/63)   \rUnpacking objects:  26% (17/63)   \rUnpacking objects:  28% (18/63)   \rUnpacking objects:  30% (19/63)   \rUnpacking objects:  31% (20/63)   \rUnpacking objects:  33% (21/63)   \rUnpacking objects:  34% (22/63)   \rUnpacking objects:  36% (23/63)   \rUnpacking objects:  38% (24/63)   \rUnpacking objects:  39% (25/63)   \rUnpacking objects:  41% (26/63)   \rUnpacking objects:  42% (27/63)   \rUnpacking objects:  44% (28/63)   \rUnpacking objects:  46% (29/63)   \rUnpacking objects:  47% (30/63)   \rUnpacking objects:  49% (31/63)   \rUnpacking objects:  50% (32/63)   \rUnpacking objects:  52% (33/63)   \rUnpacking objects:  53% (34/63)   \rUnpacking objects:  55% (35/63)   \rUnpacking objects:  57% (36/63)   \rUnpacking objects:  58% (37/63)   \rUnpacking objects:  60% (38/63)   \rUnpacking objects:  61% (39/63)   \rUnpacking objects:  63% (40/63)   \rUnpacking objects:  65% (41/63)   \rUnpacking objects:  66% (42/63)   \rUnpacking objects:  68% (43/63)   \rUnpacking objects:  69% (44/63)   \rUnpacking objects:  71% (45/63)   \rUnpacking objects:  73% (46/63)   \rUnpacking objects:  74% (47/63)   \rUnpacking objects:  76% (48/63)   \rUnpacking objects:  77% (49/63)   \rUnpacking objects:  79% (50/63)   \rUnpacking objects:  80% (51/63)   \rUnpacking objects:  82% (52/63)   \rUnpacking objects:  84% (53/63)   \rUnpacking objects:  85% (54/63)   \rUnpacking objects:  87% (55/63)   \rUnpacking objects:  88% (56/63)   \rUnpacking objects:  90% (57/63)   \rUnpacking objects:  92% (58/63)   \rUnpacking objects:  93% (59/63)   \rUnpacking objects:  95% (60/63)   \rUnpacking objects:  96% (61/63)   \rUnpacking objects:  98% (62/63)   \rUnpacking objects: 100% (63/63)   \rUnpacking objects: 100% (63/63), done.\n",
            "/content/optim_raianars_Insight/Raianars_Routines\n"
          ],
          "name": "stdout"
        }
      ]
    },
    {
      "cell_type": "code",
      "metadata": {
        "id": "Nqv5qp9yzQEw"
      },
      "source": [
        "############################### INPUT INFORMATION (FRANNK)\n",
        "Fc=0.1 # fator de correcao parametros da ANN\n",
        "its=1 #10 # quantas vezes vai usar o NPAR antes de alterar de novo\n",
        "mut=0.5\n",
        "crossp=0.5\n",
        "Fi=mut;CRi=crossp;# para impressão\n",
        "PAR=len(MAX) #NUM DE PARAMETROS A SER OTIMIZADOS"
      ],
      "execution_count": 7,
      "outputs": []
    },
    {
      "cell_type": "code",
      "metadata": {
        "id": "raWOfeJBztuj",
        "colab": {
          "base_uri": "https://localhost:8080/"
        },
        "outputId": "935acf8a-1ae8-487a-cd6f-91df038c3268"
      },
      "source": [
        "!git clone https://github.com/ucfilho/ANN_read_matrix #clonar do Github\n",
        "%cd ANN_read_matrix"
      ],
      "execution_count": 8,
      "outputs": [
        {
          "output_type": "stream",
          "text": [
            "Cloning into 'ANN_read_matrix'...\n",
            "remote: Enumerating objects: 20, done.\u001b[K\n",
            "remote: Counting objects: 100% (20/20), done.\u001b[K\n",
            "remote: Compressing objects: 100% (18/18), done.\u001b[K\n",
            "remote: Total 20 (delta 5), reused 0 (delta 0), pack-reused 0\u001b[K\n",
            "Unpacking objects: 100% (20/20), done.\n",
            "/content/optim_raianars_Insight/Raianars_Routines/ANN_read_matrix\n"
          ],
          "name": "stdout"
        }
      ]
    },
    {
      "cell_type": "code",
      "metadata": {
        "id": "N2lyPfivzwGv",
        "colab": {
          "base_uri": "https://localhost:8080/"
        },
        "outputId": "ab1e02b1-5d81-4c95-82a7-c4cf36eae3b4"
      },
      "source": [
        "ANN_F=pd.read_csv('ANN_INSIGHT_Valor_F.csv')\n",
        "ANN_CR=pd.read_csv('ANN_INSIGHT_CR.csv')\n",
        "syn0_F,syn1_F,X_max_F,X_min_F=Go2Ann.GetMatriz(ANN_F)\n",
        "syn0_CR,syn1_CR,X_max_CR,X_min_CR=Go2Ann.GetMatriz(ANN_CR)\n",
        "fields = ['DI RELATIVO','FRAC Its','Fo','CRo']\n",
        "\n",
        "#TOTAL=7*dim*its*ITE\n",
        "TOTAL=10*dim*its*ITE\n",
        "TOTAL=int(TOTAL/2)   # CONFERIR SE ESTE EH O MELHOR LUGAR\n",
        "\n",
        "dimensions=len(MAX)\n",
        "start_time = time.time() #INICIALIZA CONTAGEM DO TEMPO\n",
        "\n",
        "MAX_P=np.zeros(ITE) # ATENCAO para variar F e Cr MAX_P passa a ser 3 vezes maior\n",
        "MIN_P=np.zeros(ITE) # ATENCAO para variar F e Cr MIN_P passa a ser 3 vezes maior\n",
        "\n",
        "for i in range(dim):\n",
        "  MAX_P[i]=MAX[i] \n",
        "  MIN_P[i]=MIN[i]\n",
        "\n",
        "rodadas=1\n",
        "for i in range(rodadas):\n",
        "  SOMA=0\n",
        "  pop = np.random.rand(NPAR, dimensions)\n",
        "  diff=np.zeros(PAR)\n",
        "  for ii in range(PAR):\n",
        "    diff[ii] = MAX[ii]-MIN[ii]\n",
        "  X = MIN + pop * diff\n",
        "    \n",
        "  PONTOS=ITE # DIVISOES DA POPULACAO\n",
        "start_time = time.time()\n",
        "BEST_AGENTS=[]\n",
        "MAT_stat=[]\n",
        "for i in range(RUNS):\n",
        "    MAT=[] \n",
        "    mut=Fi\n",
        "    crossp=CRi\n",
        "    SOMA=0\n",
        "    SOMAf=0\n",
        "    start_ite = time.time()\n",
        "    delta_time=(start_ite-start_time)/60\n",
        "    #print('ite=',i,'total=50','time=',delta_time)\n",
        "    pop = np.random.rand(NPAR, dim)\n",
        "    diff=np.zeros(PAR)\n",
        "    for ii in range(PAR):\n",
        "      diff[ii] = MAX[ii]-MIN[ii]\n",
        "    X = MIN + pop * diff\n",
        "    Xf = MIN + pop * diff\n",
        "    \n",
        "    DIo=1e99\n",
        "  \n",
        "    CRo=crossp;Fo=mut;\n",
        "    Fitness = np.asarray([Fun(ind) for ind in X])\n",
        "\n",
        "    XY,BEST_XY,BESTo,FOBESTo=AvaliaX(X,Fitness)\n",
        "    nrow,ncol=X.shape\n",
        "\n",
        "    QUANT=17;MAT_INDo=np.zeros((1,QUANT)); # quantos indices esta fazendo\n",
        "    MAT_INDo[0,5]=nrow  # VALOR NP\n",
        "    MAT_INDo[0,6]=Fo    # VALOR Fo   \n",
        "    MAT_INDo[0,7]=CRo   # VALOR CRo\n",
        "  \n",
        "    MAT_INDo=GeraIndices(X,BESTo,FOBESTo,DIo,MAT_INDo,SOMA,TOTAL,syn0_F,\n",
        "                        syn1_F,X_max_F,X_min_F,syn0_CR,syn1_CR,X_max_CR,\n",
        "                        X_min_CR,Fc,fields,Fun)\n",
        "  \n",
        "    DIo=np.copy(MAT_INDo[0,0])\n",
        "    MAT_INDo[0,15]=Fo    # VALOR Fo   \n",
        "    MAT_INDo[0,16]=CRo   # VALOR CRo\n",
        "    #ind_crossp=ITE-1\n",
        "\n",
        "    \n",
        "    for k in range(ITE):\n",
        "      X,BEST,FOBEST,XY,BEST_XY,SOMA= de_soma_Insight.de(MAX,MIN, mut, crossp,NPAR,its,Fun,X,SOMA,TOTAL)\n",
        "      #Xf,BESTf,FOBESTf,XYf,BEST_XYf,SOMAf= de_soma_Insight.de(MAX,MIN, Fi, CRi, NPAR,its,Fun,Xf,SOMAf,TOTAL)\n",
        "\n",
        "      \n",
        "      MAT_IND=GeraIndices(X,BESTo,FOBESTo,DIo,MAT_INDo,SOMA,TOTAL,syn0_F,\n",
        "                          syn1_F,X_max_F,X_min_F,syn0_CR,syn1_CR,X_max_CR,\n",
        "                          X_min_CR,Fc,fields,Fun)\n",
        "    \n",
        "      BESTo=np.copy(BEST);FOBESTo=np.copy(FOBEST);\n",
        "      MAT.append(MAT_IND.ravel())\n",
        "    \n",
        "      MAT_INDo[0,6]=MAT_IND[0,15]   # VALOR Fo   \n",
        "      MAT_INDo[0,7]=MAT_IND[0,16]   # VALOR CRo\n",
        "      mut=MAT_IND[0,15]\n",
        "      crossp=MAT_IND[0,16]\n",
        "\n",
        "      Fitness = np.asarray([Fun(ind) for ind in X])\n",
        "      #Fitnessf = np.asarray([Fun(ind) for ind in Xf])\n",
        "      Maior=np.argmax(Fitness)\n",
        "      #Maiorf=np.argmax(Fitnessf)\n",
        "      Menor=np.argmin(Fitness)\n",
        "      #Menorf=np.argmin(Fitnessf)\n",
        "\n",
        "      #X[Maior,:]=np.copy(Xf[Menorf,:])\n",
        "      #Xf[Maiorf,:]=np.copy(X[Menor,:])\n",
        "    print('i=',i,'time=',(time.time()-start_time)/60, 'FO=',FOBEST)  \n",
        "      \n",
        "    BEST_AGENTS.append(BEST_XY)\n",
        "    MAT_stat.append(MAT)\n",
        "    #print(\"GlobalParam e Solucao:\", BEST,\"Funcao=\",FOBEST)\n",
        "    \n",
        "############################## Cálculo dos Parâmetros de Avaliação   \n",
        "TIME = (time.time() - start_time)/RUNS\n",
        "BEST_AGENTS=np.array(BEST_AGENTS)\n",
        "BEST_AGENTS_ST= BEST_AGENTS[BEST_AGENTS[:,-1].argsort()]\n",
        "BEST=BEST_AGENTS_ST[0]\n",
        "WORSE=BEST_AGENTS_ST[-1]\n",
        "MEAN=np.mean(BEST_AGENTS,axis=0)\n",
        "MAXFO=BEST_AGENTS[:,-1].max()\n",
        "MINFO=BEST_AGENTS[:,-1].min()\n",
        "STD=BEST_AGENTS[:,-1].std()\n",
        "\n",
        "nome='_ANN_Div3x4_Fo-'+str(Fi)+'_CRo-'+str(CRi)+'_D-'+str(dim)+'_Interv-'+str(ITE)\n",
        "print('DE_POP_VAR_F_CR','TOTAL=',TOTAL,'Iterações=',ITE*its,'Dim=', PAR,\"Min/Max=\",MIN[0],\"/\",MAX[0],'_',Fun.__name__)\n",
        "print(nome, '\\n')\n",
        "print('MÉDIA: ',MEAN[-1])\n",
        "print('MIN __:',MINFO)\n",
        "print('MAX__: ',MAXFO)\n",
        "print('STD __:',STD)\n",
        "print(\"Tempo Médio= %.3f segundos ---\" % (TIME))\n",
        "print(RUNS,'Rodadas') \n",
        "print()\n",
        "print('BEST: ',BEST)"
      ],
      "execution_count": 9,
      "outputs": [
        {
          "output_type": "stream",
          "text": [
            "i= 0 time= 2.9483081340789794 FO= 9.638565963683919e-07\n",
            "i= 1 time= 5.896903880437216 FO= 4.113739460904297e-06\n",
            "i= 2 time= 8.876924932003021 FO= 0.00011470926011355438\n",
            "i= 3 time= 11.824611349900563 FO= 0.0008372065989529933\n",
            "i= 4 time= 14.770183300971985 FO= 1.3880555960775738e-06\n",
            "i= 5 time= 17.73066124121348 FO= 4.685617801611012e-06\n",
            "i= 6 time= 20.71471685965856 FO= 0.675573856751637\n",
            "i= 7 time= 23.668038177490235 FO= 0.00239488395429068\n",
            "i= 8 time= 26.65561245282491 FO= 8.351961370195283e-05\n",
            "i= 9 time= 29.68979815244675 FO= 0.00013156024969123234\n",
            "i= 10 time= 32.74080327351888 FO= 8.43998882918359e-05\n",
            "i= 11 time= 35.78653556108475 FO= 5.655357715158712e-06\n",
            "i= 12 time= 38.757988182703656 FO= 6.505017937583048e-05\n",
            "i= 13 time= 41.77000931501389 FO= 1.6125284708904377e-05\n",
            "i= 14 time= 44.72577957312266 FO= 2.87640795028978e-06\n",
            "i= 15 time= 47.67743747631709 FO= 6.218059488237743e-07\n",
            "i= 16 time= 50.634939988454185 FO= 3.384372807508449e-05\n",
            "i= 17 time= 53.587379117806755 FO= 0.00010822372133325738\n",
            "i= 18 time= 56.555966913700104 FO= 0.037966520471840286\n",
            "i= 19 time= 59.54461617469788 FO= 0.0026891066829442677\n",
            "i= 20 time= 62.53567610581716 FO= 0.0010626460367799421\n",
            "i= 21 time= 65.52247317234675 FO= 1.918338332824446e-05\n",
            "i= 22 time= 68.62759600877762 FO= 8.18824103871864e-06\n",
            "i= 23 time= 71.89611949920655 FO= 1.26497819887324e-06\n",
            "i= 24 time= 75.05866992473602 FO= 8.981711952123362e-06\n",
            "i= 25 time= 78.16105393966039 FO= 0.0014834586804497493\n",
            "i= 26 time= 81.60745983918508 FO= 8.984977175209512e-05\n",
            "i= 27 time= 84.78421498537064 FO= 5.107239838129929e-06\n",
            "i= 28 time= 88.35773590405782 FO= 0.0007192987630363407\n",
            "i= 29 time= 91.60478291114171 FO= 5.055373779314747e-08\n",
            "i= 30 time= 94.87511886755625 FO= 1.2769855308314822e-05\n",
            "i= 31 time= 97.84026372432709 FO= 2.1688272730918412e-05\n",
            "i= 32 time= 100.80608806610107 FO= 8.405097229836839e-06\n",
            "i= 33 time= 103.79476952155431 FO= 0.00010419817779865134\n",
            "i= 34 time= 106.79696219762167 FO= 3.0473185485590083e-06\n",
            "i= 35 time= 109.90347555478414 FO= 0.0004006168150981634\n",
            "i= 36 time= 112.883520535628 FO= 0.0010955179924875174\n",
            "i= 37 time= 115.89476403792699 FO= 0.00016571686232847067\n",
            "i= 38 time= 118.8808342218399 FO= 1.5836082127236439e-06\n",
            "i= 39 time= 121.89842131932576 FO= 0.001254352612999976\n",
            "i= 40 time= 124.92519108851751 FO= 4.1023095620880327e-07\n",
            "i= 41 time= 127.84043772220612 FO= 0.0001123147709104852\n",
            "i= 42 time= 131.05239719947178 FO= 0.00014407783072989934\n",
            "i= 43 time= 134.18877998987833 FO= 0.001914952333261256\n",
            "i= 44 time= 137.11143041054407 FO= 0.0004246843875377358\n",
            "i= 45 time= 140.04293717543285 FO= 7.517727868584387e-05\n",
            "i= 46 time= 142.93860707680383 FO= 3.14609544131856e-08\n",
            "i= 47 time= 145.84998928705852 FO= 5.8852336609302706e-05\n",
            "i= 48 time= 148.78418825467426 FO= 0.00041696172521458053\n",
            "i= 49 time= 151.68039404948553 FO= 3.4813881110868214e-05\n",
            "DE_POP_VAR_F_CR TOTAL= 300000 Iterações= 2000 Dim= 30 Min/Max= -10 / 10 _ dixon_price_function\n",
            "_ANN_Div3x4_Fo-0.5_CRo-0.5_D-30_Interv-2000 \n",
            "\n",
            "MÉDIA:  0.014595350268697032\n",
            "MIN __: 3.14609544131856e-08\n",
            "MAX__:  0.675573856751637\n",
            "STD __: 0.09457429922814528\n",
            "Tempo Médio= 182.017 segundos ---\n",
            "50 Rodadas\n",
            "\n",
            "BEST:  [ 1.00004574e+00  7.07131570e-01  5.94616988e-01  5.45268507e-01\n",
            "  5.22152616e-01  5.10959518e-01  5.05458517e-01  5.02726379e-01\n",
            "  5.01369419e-01  5.00691045e-01  5.00353051e-01  5.00182786e-01\n",
            "  5.00092412e-01  5.00046133e-01  5.00023291e-01  5.00011502e-01\n",
            "  5.00004860e-01  4.99999983e-01  4.99996929e-01  4.99997359e-01\n",
            "  4.99994307e-01  4.99992046e-01  4.99992409e-01  4.99989374e-01\n",
            "  4.99991620e-01  4.99994228e-01  4.99995386e-01  4.99995891e-01\n",
            "  4.99995907e-01 -4.99997567e-01  3.14609544e-08]\n"
          ],
          "name": "stdout"
        }
      ]
    }
  ]
}
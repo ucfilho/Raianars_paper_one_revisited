{
  "nbformat": 4,
  "nbformat_minor": 0,
  "metadata": {
    "colab": {
      "name": "d10_FRANK_Sphere_maio_28_2021.ipynb",
      "provenance": [],
      "collapsed_sections": [],
      "include_colab_link": true
    },
    "kernelspec": {
      "name": "python3",
      "display_name": "Python 3"
    },
    "language_info": {
      "codemirror_mode": {
        "name": "ipython",
        "version": 3
      },
      "file_extension": ".py",
      "mimetype": "text/x-python",
      "name": "python",
      "nbconvert_exporter": "python",
      "pygments_lexer": "ipython3",
      "version": "3.7.3"
    }
  },
  "cells": [
    {
      "cell_type": "markdown",
      "metadata": {
        "id": "view-in-github",
        "colab_type": "text"
      },
      "source": [
        "<a href=\"https://colab.research.google.com/github/ucfilho/Raianars_paper_one_revisited/blob/main/Figure_Equation_CR_F/d10_FRANK_Sphere_maio_28_2021.ipynb\" target=\"_parent\"><img src=\"https://colab.research.google.com/assets/colab-badge.svg\" alt=\"Open In Colab\"/></a>"
      ]
    },
    {
      "cell_type": "code",
      "metadata": {
        "id": "qyA7a-1Tq5Fr"
      },
      "source": [
        "import time\n",
        "import matplotlib.pyplot as plt\n",
        "import numpy as np\n",
        "from random import randint\n",
        "from scipy import optimize\n",
        "import pandas as pd\n",
        "from sklearn.metrics import confusion_matrix\n",
        "from google.colab import files"
      ],
      "execution_count": 1,
      "outputs": []
    },
    {
      "cell_type": "code",
      "metadata": {
        "id": "h_TDOErSs_Fi"
      },
      "source": [
        "############################### DADOS DE ENTRADA \n",
        "RUNS=1 #NÚMERO DE RODADAS\n",
        "Fc=0.1 # fator de correcao parametros da ANN\n",
        "its=1 #10 # quantas vezes vai usar o NPAR antes de alterar de novo\n",
        "ITE=100 #10 # PONTOS quantas vezes vai alteral NPAR \n",
        "\n",
        "mut=0.5\n",
        "crossp=0.5\n",
        "Fi=mut;CRi=crossp;# para impressão"
      ],
      "execution_count": 2,
      "outputs": []
    },
    {
      "cell_type": "code",
      "metadata": {
        "id": "i5cteBfwoTrX"
      },
      "source": [
        "def AvaliaX(X):\n",
        "  nrow,ncol=X.shape\n",
        "  fitness = np.asarray([Fun(ind) for ind in X])\n",
        "  best_idx = np.argmin(fitness)\n",
        "  best = X[best_idx]\n",
        "  fobj_best = fitness[best_idx]\n",
        "  y=fitness\n",
        "  BEST=best\n",
        "  FOBEST=fobj_best\n",
        "  XY= np.c_[X,y] #concatena x e y em 2 colunas            \n",
        "  XYsorted = XY[XY[:,-1].argsort()] #Ordena a partir da last col(Y) for all row\n",
        "  x=XYsorted[:,0:ncol]\n",
        "  XY=XYsorted\n",
        "  BEST_XY =np.append(BEST,FOBEST)\n",
        "  return XY,BEST_XY,BEST,FOBEST"
      ],
      "execution_count": 3,
      "outputs": []
    },
    {
      "cell_type": "code",
      "metadata": {
        "id": "Va-6Xios8RjU",
        "colab": {
          "base_uri": "https://localhost:8080/"
        },
        "outputId": "0fc245c2-21ac-4cbb-a317-48a50d45526b"
      },
      "source": [
        "!git clone https://github.com/ucfilho/optim_raianars_Insight #clonar do Github\n",
        "%cd optim_raianars_Insight"
      ],
      "execution_count": 4,
      "outputs": [
        {
          "output_type": "stream",
          "text": [
            "fatal: destination path 'optim_raianars_Insight' already exists and is not an empty directory.\n",
            "/content/optim_raianars_Insight\n"
          ],
          "name": "stdout"
        }
      ]
    },
    {
      "cell_type": "code",
      "metadata": {
        "id": "75o_QgSH8fKw"
      },
      "source": [
        "import Go2Ann"
      ],
      "execution_count": 5,
      "outputs": []
    },
    {
      "cell_type": "code",
      "metadata": {
        "id": "qTINtQ1cosZK",
        "colab": {
          "base_uri": "https://localhost:8080/"
        },
        "outputId": "d2e220ac-bad6-4018-cb29-469261e37db1"
      },
      "source": [
        "!git clone https://github.com/ucfilho/ANN_read_matrix #clonar do Github\n",
        "%cd ANN_read_matrix"
      ],
      "execution_count": 6,
      "outputs": [
        {
          "output_type": "stream",
          "text": [
            "fatal: destination path 'ANN_read_matrix' already exists and is not an empty directory.\n",
            "/content/optim_raianars_Insight/ANN_read_matrix\n"
          ],
          "name": "stdout"
        }
      ]
    },
    {
      "cell_type": "code",
      "metadata": {
        "id": "QiQLYOoNoyCw"
      },
      "source": [
        "ANN_F=pd.read_csv('ANN_INSIGHT_Valor_F.csv')"
      ],
      "execution_count": 7,
      "outputs": []
    },
    {
      "cell_type": "code",
      "metadata": {
        "id": "uHtW2amaDzFv"
      },
      "source": [
        "ANN_CR=pd.read_csv('ANN_INSIGHT_CR.csv')"
      ],
      "execution_count": 8,
      "outputs": []
    },
    {
      "cell_type": "code",
      "metadata": {
        "id": "EH6h_vke2yu1"
      },
      "source": [
        "syn0_F,syn1_F,X_max_F,X_min_F=Go2Ann.GetMatriz(ANN_F)"
      ],
      "execution_count": 9,
      "outputs": []
    },
    {
      "cell_type": "code",
      "metadata": {
        "id": "WW_3ZWJXD60i"
      },
      "source": [
        "syn0_CR,syn1_CR,X_max_CR,X_min_CR=Go2Ann.GetMatriz(ANN_CR)"
      ],
      "execution_count": 10,
      "outputs": []
    },
    {
      "cell_type": "code",
      "metadata": {
        "id": "b4gwBvVTyaXh"
      },
      "source": [
        "ANN_CR=pd.read_csv('ANN_INSIGHT_CR.csv')"
      ],
      "execution_count": 11,
      "outputs": []
    },
    {
      "cell_type": "code",
      "metadata": {
        "id": "z7H0bUMdqY-t",
        "colab": {
          "base_uri": "https://localhost:8080/"
        },
        "outputId": "0588117e-08c7-4ee7-9fb9-97440af0c8df"
      },
      "source": [
        "############################### Importar códigos\n",
        "!git clone https://github.com/ucfilho/optim_raianars_Insight/ #clonar do Github\n",
        "%cd optim_raianars_Insight\n",
        "import de_soma_Insight\n",
        "import de_bounds_matriz"
      ],
      "execution_count": 12,
      "outputs": [
        {
          "output_type": "stream",
          "text": [
            "fatal: destination path 'optim_raianars_Insight' already exists and is not an empty directory.\n",
            "/content/optim_raianars_Insight/ANN_read_matrix/optim_raianars_Insight\n"
          ],
          "name": "stdout"
        }
      ]
    },
    {
      "cell_type": "code",
      "metadata": {
        "colab": {
          "base_uri": "https://localhost:8080/"
        },
        "id": "mLPFB-I-1B15",
        "outputId": "b882ce3b-fe10-4de5-b1ec-0525c70685c3"
      },
      "source": [
        "!git clone https://github.com/ucfilho/Raianars_Routines #clonar do Github\n",
        "%cd Raianars_Routines"
      ],
      "execution_count": 13,
      "outputs": [
        {
          "output_type": "stream",
          "text": [
            "fatal: destination path 'Raianars_Routines' already exists and is not an empty directory.\n",
            "/content/optim_raianars_Insight/ANN_read_matrix/optim_raianars_Insight/Raianars_Routines\n"
          ],
          "name": "stdout"
        }
      ]
    },
    {
      "cell_type": "code",
      "metadata": {
        "id": "_4LxYbqB1AUz"
      },
      "source": [
        "############################### Função\n",
        "import FunctionsNew\n",
        "from Go2MinMax import Intervalo\n",
        "#'''  \n",
        "############################### Função\n",
        "dim=10 # \n",
        "fchoice='Sphere'\n",
        "Arq =fchoice+ \".xlsx\"\n",
        "Fun=FunctionsNew.Sphere\n",
        "\n",
        "MIN, MAX =Intervalo(dim,fchoice)\n",
        "\n",
        "bounds=[]\n",
        "for k in range(len(MAX)):\n",
        "  bounds.append((MIN[k],MAX[k]))"
      ],
      "execution_count": 14,
      "outputs": []
    },
    {
      "cell_type": "code",
      "metadata": {
        "id": "nqtBEIg4GlZS"
      },
      "source": [
        "############################### Importar bibliotecas e iniciar a contagem do tempo\n",
        "import time\n",
        "import matplotlib.pyplot as plt\n",
        "import numpy as np\n",
        "from random import randint\n",
        "from scipy import optimize\n",
        "\n",
        "############################### Função\n",
        "\n",
        "#####################################\n",
        "PAR=len(MAX) #NUM DE PARAMETROS A SER OTIMIZADOS"
      ],
      "execution_count": 15,
      "outputs": []
    },
    {
      "cell_type": "code",
      "metadata": {
        "id": "BDMwd41C5ahQ"
      },
      "source": [
        "def GeraIndices(X,BESTo,FOBESTo,DIo,MAT_INDo,SOMA,TOTAL):\n",
        "  global fields, Go2Ann, Fc\n",
        "  global syn0_F,syn1_F,X_max_F,X_min_F\n",
        "  global syn0_CR,syn1_CR,X_max_CR,X_min_CR\n",
        "  nrow,ncol=X.shape\n",
        "  FOBESTm=1e99\n",
        "  Fo=MAT_INDo[0,6]    # VALOR Fo   \n",
        "  CRo=MAT_INDo[0,7]   # VALOR CRo\n",
        "  QUANT=17 # quantos indices esta fazendo\n",
        "  MAT_IND=np.zeros((1,QUANT))\n",
        "\n",
        "  REF=0.1 # REFERENCIA DE DIFERENCAS ENTRE OS ELEMENTOS\n",
        "  \n",
        "  XY,BEST_XY,BEST,FOBEST=AvaliaX(X)\n",
        "  soma=0\n",
        "  for j in range(ncol):\n",
        "    for i in range(nrow):\n",
        "        Xj=np.mean(X[:,j])\n",
        "        soma=soma+(X[i,j]-Xj)**2\n",
        "  DI=(soma/nrow)**0.5\n",
        "  DIr=DI/DIo\n",
        "  MAT_IND[0,0]=DI #dispersao\n",
        "  MAT_IND[0,1]=DIr # dispersao relativa\n",
        "  MAT_IND[0,2]=SOMA/TOTAL # fracao relativa\n",
        "\n",
        "  V1=FOBESTo\n",
        "  V2=FOBEST\n",
        "  A=2*V2\n",
        "  if(V1 > A):\n",
        "    MAT_IND[0,3]=2 # o valor de fobj torna pelo menos duas vezes melhor\n",
        "  elif (V2==V1):\n",
        "    MAT_IND[0,3]=0 # o valor de fobj nao altera\n",
        "  else:\n",
        "    MAT_IND[0,3]=1 # o valor de fobj melhora mas menos que duas vezes\n",
        "  \n",
        "  # MAT_IND[0,4]  # VELOC X\n",
        "  DELTA=np.amax(abs(BEST-BESTo))\n",
        "  if( DELTA >REF):\n",
        "    MAT_IND[0,4]=2 # difere  for i in range(1,len(PARTIC)):\n",
        "  elif ( DELTA == 0):\n",
        "    MAT_IND[0,4]=0 # sem diferenca entre as posicoes do xbest entre duas buscas\n",
        "  else:\n",
        "    MAT_IND[0,4]=1 # diferenca entre as posicoes  do xbest menor que ref\n",
        "  \n",
        "  MAT_IND[0,5]=nrow  # VALOR NP\n",
        "  nrow,ncol=XY.shape\n",
        "  MAT_IND[0,8]=XY[0,(ncol-1)] # VALOR fmin\n",
        "  MAT_IND[0,9]=XY[(nrow-1),(ncol-1)] # VALOR fmax\n",
        "  # MAT_IND[0,10] # Valor AD_fmin \n",
        "  if abs(MAT_IND[0,8]/MAT_IND[0,8])>1:\n",
        "    MAT_IND[0,10]=1/abs(MAT_IND[0,8])\n",
        "  else:\n",
        "    MAT_IND[0,10]=MAT_IND[0,8]/MAT_IND[0,8]\n",
        "  # MAT_IND[0,11] # Valor AD_fmax\n",
        "  if abs(MAT_IND[0,9]/MAT_IND[0,9])>1: # tem que pegar primeira\n",
        "    MAT_IND[0,11]=1/abs(MAT_IND[0,9]) # tem que pegar primeira\n",
        "  else:\n",
        "    MAT_IND[0,11]=MAT_IND[0,9]/MAT_IND[0,9] # tem que pegar do anterior\n",
        "\n",
        "  # MAT_IND[0,12] # DELTA Fobj\n",
        "  MAT_IND[0,12]=MAT_IND[0,3]-MAT_IND[0,3]  # tem que pegar do anterior\n",
        "  \n",
        "\n",
        "  # MAT_IND[0,13] # DELTA Vx\n",
        "  MAT_IND[0,13]=MAT_IND[0,4]-MAT_IND[0,4]  # tem que pegar do anterior\n",
        "\n",
        "  # MAT_IND[0,14] # r_fitness\n",
        "  Fmin=0.05\n",
        "  if (MAT_IND[0,8]==0):\n",
        "    MAT_IND[0,14]=Fmin\n",
        "  elif (MAT_IND[0,9]==0):\n",
        "    MAT_IND[0,14]=Fmin\n",
        "  else:\n",
        "    if abs(MAT_IND[0,9]/MAT_IND[0,8])<1:\n",
        "      MAT_IND[0,14]=1-abs(MAT_IND[0,9]/MAT_IND[0,8])\n",
        "    else:\n",
        "      MAT_IND[0,14]=1-abs(MAT_IND[0,8]/MAT_IND[0,9])\n",
        "\n",
        "  MAT_IND[0,6]=Fo\n",
        "  MAT_IND[0,7]=CRo\n",
        "\n",
        "  # comecando a rede!!!\n",
        "  #['DI RELATIVO', 'FRAC Its', 'Fo', 'CRo'] VALORES A USAR\n",
        "  #MAT_IND[0,1]=DIr # dispersao relativa\n",
        "  #MAT_IND[0,2]=SOMA/TOTAL # fracao relativa\n",
        "  #MAT_IND[0,6]=Fo\n",
        "  #MAT_IND[0,7]=CRo\n",
        "  \n",
        "  x_train=MAT_INDo[0,[1,2,6,7]]\n",
        "  x_train=pd.DataFrame(x_train).T\n",
        "\n",
        "  nrow,ncol=ANN_F.shape\n",
        "  x_train=Go2Ann.Normatiza(x_train,X_max_F,X_min_F)\n",
        "  y_calc_F=Go2Ann.ANN_ycal(syn0_F,syn1_F,x_train)\n",
        "  y_calc_CR=Go2Ann.ANN_ycal(syn0_CR,syn1_CR,x_train)\n",
        "  #print(x_train);\n",
        "  #print(y_calc);\n",
        "  y_cod_F=Go2Ann.Classifica(y_calc_F)\n",
        "  y_cod_CR=Go2Ann.Classifica(y_calc_CR)\n",
        "\n",
        "  Fd=DIr\n",
        "  CRa=np.copy(CRo)\n",
        "  Fa=np.copy(Fo)\n",
        "\n",
        "  if(y_cod_F>0):\n",
        "    Fo=Fo*(1+Fd) #Fo=Fo+Fc\n",
        "    Fo=(3*Fo+Fa)/4 # para suavizar\n",
        "    if(Fo<Fa):\n",
        "      Fo=Fa+0.05\n",
        "    if(Fo<Fa): # conferir a necessidade de melhorar \n",
        "      Fo=Fa+0.05\n",
        "  else:\n",
        "    Fo=Fo*(1-Fd) #Fo=Fo-Fc\n",
        "  \n",
        "  if(y_cod_CR>0):\n",
        "    CRo=CRo*(1+Fd) #CRo=CRo+Fc\n",
        "    CRo=(3*CRo+CRa)/4 # para suavizar\n",
        "    if(CRo<CRa):  # conferir a necessidade de melhorar \n",
        "      CRo=CRa+0.05\n",
        "  else:\n",
        "    CRo=CRo*(1-Fd);#CRo=CRo-Fc\n",
        "  \n",
        "  if(CRo<Fc):\n",
        "    CRo=(CRo+CRa)/2 # conferir a necessidade de melhorar\n",
        "  if(CRo> 1):\n",
        "    CRo=1\n",
        "\n",
        "  if(Fo<Fc):\n",
        "    Fo=(Fa+Fo)/2  # conferir a necessidade de melhorar\n",
        "  if(Fo> 1):\n",
        "    Fo=1\n",
        "  \n",
        "  CRo=(2*CRo+CRa)/3 # para suavizar\n",
        "  \n",
        "  MAT_IND[0,15]=Fo # valor de F que sai da rede\n",
        "  MAT_IND[0,16]=CRo # valor de CR que sai da rede\n",
        "  #print(confusion_matrix(y_quali,y_obs_test))\n",
        "  \n",
        "  return MAT_IND\n",
        "\n"
      ],
      "execution_count": 16,
      "outputs": []
    },
    {
      "cell_type": "code",
      "metadata": {
        "id": "6jL8MxpHvk-Y"
      },
      "source": [
        "fields = ['DI RELATIVO','FRAC Its','Fo','CRo']"
      ],
      "execution_count": 17,
      "outputs": []
    },
    {
      "cell_type": "code",
      "metadata": {
        "id": "Mb3LmbSmj9v7"
      },
      "source": [
        "##################################### \n",
        "\n",
        "#TOTAL=7*dim*its*ITE\n",
        "TOTAL=10*dim*its*ITE\n",
        "\n",
        "dimensions=len(MAX)\n",
        "start_time = time.time() #INICIALIZA CONTAGEM DO TEMPO\n",
        "\n",
        "p=int(TOTAL/its/ITE) \n",
        "NPAR=p\n",
        "\n",
        "MAX_P=np.zeros(ITE) # ATENCAO para variar F e Cr MAX_P passa a ser 3 vezes maior\n",
        "MIN_P=np.zeros(ITE) # ATENCAO para variar F e Cr MIN_P passa a ser 3 vezes maior\n",
        "\n",
        "for i in range(dim):\n",
        "  MAX_P[i]=MAX[i] \n",
        "  MIN_P[i]=MIN[i]\n",
        "\n",
        "rodadas=1\n",
        "for i in range(rodadas):\n",
        "  SOMA=0\n",
        "  pop = np.random.rand(NPAR, dimensions)\n",
        "  diff=np.zeros(PAR)\n",
        "  for ii in range(PAR):\n",
        "    diff[ii] = MAX[ii]-MIN[ii]\n",
        "  X = MIN + pop * diff\n",
        "    \n",
        "  PONTOS=ITE # DIVISOES DA POPULACAO\n",
        " \n",
        " ############################################################\n",
        "  #bounds=[(5*dim, 15*dim)] * PONTOS # ITE\n",
        "  #bounds=[(3*dim, 12*dim)] * PONTOS # ITE\n",
        "  #bounds=[(4*dim, 16*dim)] * PONTOS\n",
        "  \n",
        "  # nao pode ser assim pq o bounds vale p o DE nao dos parametros\n",
        "  #p=int(TOTAL/its/ITE) \n",
        "  bounds=[(p, p)] * PONTOS\n",
        "\n",
        "\n",
        "  DIo=1e99\n",
        "  \n",
        "  CRo=crossp;Fo=mut;\n",
        "  #Xo=np.copy(X)\n",
        "  XY,BEST_XY,BESTo,FOBESTo=AvaliaX(X)\n",
        "  nrow,ncol=X.shape\n",
        "\n",
        "  QUANT=17;MAT_INDo=np.zeros((1,QUANT)); # quantos indices esta fazendo\n",
        "  MAT_INDo[0,5]=nrow  # VALOR NP\n",
        "  MAT_INDo[0,6]=Fo    # VALOR Fo   \n",
        "  MAT_INDo[0,7]=CRo   # VALOR CRo\n",
        "  \n",
        "  MAT_INDo=GeraIndices(X,BESTo,FOBESTo,DIo,MAT_INDo,SOMA,TOTAL)\n",
        "  \n",
        "  DIo=np.copy(MAT_INDo[0,0])\n",
        "  pd.set_option('display.max_columns', 30)  \n",
        "  MAT_INDo[0,15]=Fo    # VALOR Fo   \n",
        "  MAT_INDo[0,16]=CRo   # VALOR CRo\n",
        "  MAT=[]\n",
        "  for loop in range(ITE):\n",
        "    X,BEST,FOBEST,XY,BEST_XY,SOMA= de_soma_Insight.de(MAX,MIN, mut, crossp,NPAR,\n",
        "                                                      its,Fun,X,SOMA,TOTAL)\n",
        "    \n",
        "    MAT_IND=GeraIndices(X,BESTo,FOBESTo,DIo,MAT_INDo,SOMA,TOTAL)\n",
        "    \n",
        "    BESTo=np.copy(BEST);FOBESTo=np.copy(FOBEST);\n",
        "    MAT.append(MAT_IND.ravel())\n",
        "    \n",
        "    MAT_INDo[0,6]=MAT_IND[0,15]   # VALOR Fo   \n",
        "    MAT_INDo[0,7]=MAT_IND[0,16]   # VALOR CRo\n",
        "    \n",
        "NOMES=['DIVERSIDADE (DI)',  'DI RELATIVO','FRAC Its',\n",
        "           'VELOC FOBJ','VELOC X','NP','Fo','CRo','fmin','fmax',\n",
        "           'AD_fmin','AD_fmax','DELTA FOBJ','DELTA VX','r_fitness',\n",
        "           'F','CR']\n",
        "df  = pd.DataFrame(MAT, columns=NOMES)\n",
        "pd.set_option('display.max_columns', 30)\n",
        "pd.set_option('display.max_rows', 30)\n"
      ],
      "execution_count": 18,
      "outputs": []
    },
    {
      "cell_type": "code",
      "metadata": {
        "id": "htooaGpDia_0",
        "colab": {
          "base_uri": "https://localhost:8080/",
          "height": 312
        },
        "outputId": "db3d9735-e8e0-44e5-9b1d-f113b22a8f64"
      },
      "source": [
        "f, axarr = plt.subplots(2, sharex=True)\n",
        "axarr[0].plot(df['FRAC Its'],df['F'])\n",
        "axarr[0].set_ylabel('F')\n",
        "axarr[1].plot(df['FRAC Its'],df['CR'])\n",
        "axarr[1].set_ylabel('CR')\n",
        "axarr[1].set_xlabel('Iteração/Total')\n",
        "nome=Fun.__name__+'_Diversidade_'+ 'D='+str(dim)\n",
        "axarr[0].set_title(nome)"
      ],
      "execution_count": 19,
      "outputs": [
        {
          "output_type": "execute_result",
          "data": {
            "text/plain": [
              "Text(0.5, 1.0, 'Sphere_Diversidade_D=10')"
            ]
          },
          "metadata": {
            "tags": []
          },
          "execution_count": 19
        },
        {
          "output_type": "display_data",
          "data": {
            "image/png": "[encoded data removed]",
            "text/plain": [
              "<Figure size 432x288 with 2 Axes>"
            ]
          },
          "metadata": {
            "tags": [],
            "needs_background": "light"
          }
        }
      ]
    },
    {
      "cell_type": "code",
      "metadata": {
        "id": "BvPFvbDvteDC",
        "colab": {
          "base_uri": "https://localhost:8080/",
          "height": 295
        },
        "outputId": "cac25c2f-0c3f-413c-c109-b4f1a5b90c5c"
      },
      "source": [
        "fig, ax = plt.subplots()\n",
        "ax.plot(df['FRAC Its'],df['F'],label='F')\n",
        "ax.set_xlabel('Iteração/Total')\n",
        "ax.set_ylabel('Parâmetros')\n",
        "ax.plot(df['FRAC Its'],df['CR'],'-r', label='CR')\n",
        "nome=Fun.__name__+'  M=Diversidade'+ '  D='+str(dim)\n",
        "ax.set_title(nome)\n",
        "leg = ax.legend()"
      ],
      "execution_count": 20,
      "outputs": [
        {
          "output_type": "display_data",
          "data": {
            "image/png": "[encoded data removed]",
            "text/plain": [
              "<Figure size 432x288 with 1 Axes>"
            ]
          },
          "metadata": {
            "tags": [],
            "needs_background": "light"
          }
        }
      ]
    },
    {
      "cell_type": "code",
      "metadata": {
        "id": "LRYu0M6Bt9oM",
        "colab": {
          "base_uri": "https://localhost:8080/",
          "height": 298
        },
        "outputId": "2468b8d1-e70b-4950-dab6-78c4453142dd"
      },
      "source": [
        "plt.plot(df['FRAC Its'],df['CR'])\n",
        "plt.xlabel('Iteração/Total')\n",
        "plt.ylabel('CR')"
      ],
      "execution_count": 21,
      "outputs": [
        {
          "output_type": "execute_result",
          "data": {
            "text/plain": [
              "Text(0, 0.5, 'CR')"
            ]
          },
          "metadata": {
            "tags": []
          },
          "execution_count": 21
        },
        {
          "output_type": "display_data",
          "data": {
            "image/png": "[encoded data removed]",
            "text/plain": [
              "<Figure size 432x288 with 1 Axes>"
            ]
          },
          "metadata": {
            "tags": [],
            "needs_background": "light"
          }
        }
      ]
    },
    {
      "cell_type": "code",
      "metadata": {
        "id": "gdrDbrxpoJce"
      },
      "source": [
        "F=list(df['F'])\n",
        "CR=list(df['CR'])\n",
        "PARTIC=F+CR\n",
        "#print(PARTIC)\n",
        "#print(len(PARTIC))"
      ],
      "execution_count": 22,
      "outputs": []
    },
    {
      "cell_type": "code",
      "metadata": {
        "id": "c9WOFolTpODy"
      },
      "source": [
        "m=10 # Multiplicador do número de avaliações FO\n",
        "NPAR=m*dim\n",
        "ITE=int((len(PARTIC))/2) # PONTOS quantas vezes vai alteral NPAR\n",
        "its=int(100/ITE) # quantas vezes vai usar o NPAR antes de alterar de novo\n",
        "TOTAL=m*dim*its*ITE # Avaliações FO"
      ],
      "execution_count": 23,
      "outputs": []
    },
    {
      "cell_type": "code",
      "metadata": {
        "id": "rnX8ttNopd1G",
        "colab": {
          "base_uri": "https://localhost:8080/"
        },
        "outputId": "b300732b-d796-490e-88be-33363cd8b593"
      },
      "source": [
        "NMAX=900 # maximo tamanho gerar populacao\n",
        "\n",
        "start_time = time.time()\n",
        "BEST_AGENTS=[]\n",
        "\n",
        "for i in range(RUNS):  \n",
        "    SOMA=0\n",
        "    pop = np.random.rand(NMAX, dim)\n",
        "    diff=np.zeros(PAR)\n",
        "    for ii in range(PAR):\n",
        "      diff[ii] = MAX[ii]-MIN[ii]\n",
        "    X = MIN + pop * diff\n",
        "    MUT_info = []\n",
        "    CR_info =[]\n",
        "    ITE_info =[]\n",
        "    Fobj_info = []\n",
        "    ind_crossp=ITE-1\n",
        "    for k in range(ITE):\n",
        "      ind_crossp=ind_crossp+1\n",
        "      mut=np.copy(PARTIC[ITE])\n",
        "      crossp=np.copy(PARTIC[ind_crossp])\n",
        "      MUT_info.append(mut)\n",
        "      ITE_info.append(k)\n",
        "      CR_info.append(crossp)\n",
        "      \n",
        "      #print(crossp)\n",
        "      X,BEST,FOBEST,XY,BEST_XY,SOMA= de_soma_Insight.de(MAX,MIN, mut, crossp, NPAR, its,Fun,X,SOMA,TOTAL)\n",
        "      MAT_IND=GeraIndices(X,BESTo,FOBESTo,DIo,MAT_INDo,SOMA,TOTAL)\n",
        "      BESTo=np.copy(BEST);FOBESTo=np.copy(FOBEST);\n",
        "      MAT.append(MAT_IND.ravel())\n",
        "      MAT_INDo[0,6]=MAT_IND[0,15]   # VALOR Fo   \n",
        "      MAT_INDo[0,7]=MAT_IND[0,16]   # VALOR CRo\n",
        "      Fobj_info.append(FOBEST)\n",
        "     \n",
        "    BEST_AGENTS.append(BEST_XY)\n",
        "    print('k=',i,'time=',(time.time()-start_time)/60, 'FO=',FOBEST)  \n",
        "    #print(\"GlobalParam e Solucao:\", BEST,\"Funcao=\",FOBEST)\n",
        "    \n",
        "############################## Cálculo dos Parâmetros de Avaliação   \n",
        "TIME = (time.time() - start_time)/RUNS\n",
        "BEST_AGENTS=np.array(BEST_AGENTS)\n",
        "BEST_AGENTS_ST= BEST_AGENTS[BEST_AGENTS[:,-1].argsort()]\n",
        "BEST=BEST_AGENTS_ST[0]\n",
        "WORSE=BEST_AGENTS_ST[-1]\n",
        "MEAN=np.mean(BEST_AGENTS,axis=0)\n",
        "MAXFO=BEST_AGENTS[:,-1].max()\n",
        "MINFO=BEST_AGENTS[:,-1].min()\n",
        "STD=BEST_AGENTS[:,-1].std()"
      ],
      "execution_count": 24,
      "outputs": [
        {
          "output_type": "stream",
          "text": [
            "k= 0 time= 0.1889072855313619 FO= 0.09891545877180856\n"
          ],
          "name": "stdout"
        }
      ]
    },
    {
      "cell_type": "code",
      "metadata": {
        "id": "lNSN5X-wskcx",
        "colab": {
          "base_uri": "https://localhost:8080/"
        },
        "outputId": "0048a7ad-8acb-45dc-bfbf-12e20d8af6a7"
      },
      "source": [
        "nome='_ANN_Div3x4_Fo-'+str(Fi)+'_CRo-'+str(CRi)+'_D-'+str(dim)+'_Interv-'+str(ITE)\n",
        "print('DE_POP_VAR_F_CR','TOTAL=',TOTAL,'Iterações=',ITE*its,'Dim=', PAR,\"Min/Max=\",MIN[0],\"/\",MAX[0],'_',Fun.__name__)\n",
        "print(nome, '\\n')\n",
        "#print('BEST: ',BEST)\n",
        "#print('MÉDIA: ',MEAN)\n",
        "print('MÉDIA: ',MEAN[-1])\n",
        "print('MIN __:',MINFO)\n",
        "print('MAX__: ',MAXFO)\n",
        "print('STD __:',STD)\n",
        "print(\"Tempo Médio= %.3f segundos ---\" % (TIME))\n",
        "print(RUNS,'Rodadas') \n",
        "print()\n",
        "print('BEST: ',BEST)"
      ],
      "execution_count": 25,
      "outputs": [
        {
          "output_type": "stream",
          "text": [
            "DE_POP_VAR_F_CR TOTAL= 10000 Iterações= 100 Dim= 10 Min/Max= -100 / 100 _ Sphere\n",
            "_ANN_Div3x4_Fo-0.5_CRo-0.5_D-10_Interv-100 \n",
            "\n",
            "MÉDIA:  0.09891545877180856\n",
            "MIN __: 0.09891545877180856\n",
            "MAX__:  0.09891545877180856\n",
            "STD __: 0.0\n",
            "Tempo Médio= 11.336 segundos ---\n",
            "1 Rodadas\n",
            "\n",
            "BEST:  [-0.01900798  0.00862344  0.05840805 -0.05039092  0.00460221 -0.16386301\n",
            " -0.07255688 -0.19744002  0.0877184   0.11711191  0.09891546]\n"
          ],
          "name": "stdout"
        }
      ]
    },
    {
      "cell_type": "code",
      "metadata": {
        "colab": {
          "base_uri": "https://localhost:8080/",
          "height": 17
        },
        "id": "4MODn1t1RGuX",
        "outputId": "0f594a4d-7447-4668-cb40-d42b97009d5c"
      },
      "source": [
        "df = pd.DataFrame({'ITE':ITE_info,'CR':CR_info,'F':MUT_info, 'Fobj':Fobj_info})\n",
        "df.to_excel(Arq)\n",
        "files.download(Arq)"
      ],
      "execution_count": 26,
      "outputs": [
        {
          "output_type": "display_data",
          "data": {
            "application/javascript": [
              "\n",
              "    async function download(id, filename, size) {\n",
              "      if (!google.colab.kernel.accessAllowed) {\n",
              "        return;\n",
              "      }\n",
              "      const div = document.createElement('div');\n",
              "      const label = document.createElement('label');\n",
              "      label.textContent = `Downloading \"${filename}\": `;\n",
              "      div.appendChild(label);\n",
              "      const progress = document.createElement('progress');\n",
              "      progress.max = size;\n",
              "      div.appendChild(progress);\n",
              "      document.body.appendChild(div);\n",
              "\n",
              "      const buffers = [];\n",
              "      let downloaded = 0;\n",
              "\n",
              "      const channel = await google.colab.kernel.comms.open(id);\n",
              "      // Send a message to notify the kernel that we're ready.\n",
              "      channel.send({})\n",
              "\n",
              "      for await (const message of channel.messages) {\n",
              "        // Send a message to notify the kernel that we're ready.\n",
              "        channel.send({})\n",
              "        if (message.buffers) {\n",
              "          for (const buffer of message.buffers) {\n",
              "            buffers.push(buffer);\n",
              "            downloaded += buffer.byteLength;\n",
              "            progress.value = downloaded;\n",
              "          }\n",
              "        }\n",
              "      }\n",
              "      const blob = new Blob(buffers, {type: 'application/binary'});\n",
              "      const a = document.createElement('a');\n",
              "      a.href = window.URL.createObjectURL(blob);\n",
              "      a.download = filename;\n",
              "      div.appendChild(a);\n",
              "      a.click();\n",
              "      div.remove();\n",
              "    }\n",
              "  "
            ],
            "text/plain": [
              "<IPython.core.display.Javascript object>"
            ]
          },
          "metadata": {
            "tags": []
          }
        },
        {
          "output_type": "display_data",
          "data": {
            "application/javascript": [
              "download(\"download_00991ae8-c1df-4ee4-9fc0-e122713b47b4\", \"Sphere.xlsx\", 8843)"
            ],
            "text/plain": [
              "<IPython.core.display.Javascript object>"
            ]
          },
          "metadata": {
            "tags": []
          }
        }
      ]
    }
  ]
}